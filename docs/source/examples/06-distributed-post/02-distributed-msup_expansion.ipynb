{
  "cells": [
    {
      "cell_type": "code",
      "execution_count": null,
      "metadata": {
        "collapsed": false
      },
      "outputs": [],
      "source": [
        "%matplotlib inline"
      ]
    },
    {
      "cell_type": "markdown",
      "metadata": {},
      "source": [
        "\n\n# Distributed mode superposition (MSUP)\nThis example shows how to read and expand distributed files\non distributed processes. The modal basis (two distributed files) is read\non two remote servers. The modal response is then read and expanded on a\nthird server.\n\nThe following diagram helps you to understand this example. It shows the operator\nchain that is used to compute the final result.\n\n<img src=\"file://02-operator-dep.svg\" align=\"center\" width=\"800\">\n"
      ]
    },
    {
      "cell_type": "markdown",
      "metadata": {},
      "source": [
        "Import the ``dpf-core`` module and its examples files.\n\n"
      ]
    },
    {
      "cell_type": "code",
      "execution_count": null,
      "metadata": {
        "collapsed": false
      },
      "outputs": [],
      "source": [
        "from ansys.dpf import core as dpf\nfrom ansys.dpf.core import examples\nfrom ansys.dpf.core import operators as ops"
      ]
    },
    {
      "cell_type": "markdown",
      "metadata": {},
      "source": [
        "# Configure the servers\nMake a list of IP addresses and port numbers that DPF servers start and\nlisten on. Operator instances are created on each of these servers so that\neach server can address a different result file.\n\nThis example postprocesses an analysis distributed in two files.\nConsequently, it requires two remote processes.\n\nTo make it easier, this example starts local servers. However, you can\nconnect to any existing servers on your network.\n\n"
      ]
    },
    {
      "cell_type": "code",
      "execution_count": null,
      "metadata": {
        "collapsed": false
      },
      "outputs": [],
      "source": [
        "global_server = dpf.start_local_server(\n    as_global=True, config=dpf.AvailableServerConfigs.InProcessServer\n)\n\nremote_servers = [\n    dpf.start_local_server(\n        as_global=False, config=dpf.AvailableServerConfigs.GrpcServer),\n    dpf.start_local_server(\n        as_global=False, config=dpf.AvailableServerConfigs.GrpcServer),\n]\nips = [remote_server.ip for remote_server in remote_servers]\nports = [remote_server.port for remote_server in remote_servers]"
      ]
    },
    {
      "cell_type": "markdown",
      "metadata": {},
      "source": [
        "Print the IP addresses and ports.\n\n"
      ]
    },
    {
      "cell_type": "code",
      "execution_count": null,
      "metadata": {
        "collapsed": false
      },
      "outputs": [],
      "source": [
        "print(\"ips:\", ips)\nprint(\"ports:\", ports)"
      ]
    },
    {
      "cell_type": "markdown",
      "metadata": {},
      "source": [
        "Specify the file path.\n\n"
      ]
    },
    {
      "cell_type": "code",
      "execution_count": null,
      "metadata": {
        "collapsed": false
      },
      "outputs": [],
      "source": [
        "base_path = examples.distributed_msup_folder\nfiles = [base_path + r'/file0.mode', base_path + r'/file1.mode']\nfiles_aux = [base_path + r'/file0.rst', base_path + r'/file1.rst']"
      ]
    },
    {
      "cell_type": "markdown",
      "metadata": {},
      "source": [
        "# Create operators on each server\nOn each server, create two operators, one for displacement computations\nand one for providing the mesh. Then, define their data sources. Both the\ndisplacement operator and mesh provider operator receive data from their\nrespective data files on each server.\n\n"
      ]
    },
    {
      "cell_type": "code",
      "execution_count": null,
      "metadata": {
        "collapsed": false
      },
      "outputs": [],
      "source": [
        "remote_displacement_operators = []\nremote_mesh_operators = []\nfor i, server in enumerate(remote_servers):\n    displacement = ops.result.displacement(server=server)\n    mesh = ops.mesh.mesh_provider(server=server)\n    remote_displacement_operators.append(displacement)\n    remote_mesh_operators.append(mesh)\n    ds = dpf.DataSources(files[i], server=server)\n    ds.add_file_path(files_aux[i])\n    displacement.inputs.data_sources(ds)\n    mesh.inputs.data_sources(ds)"
      ]
    },
    {
      "cell_type": "markdown",
      "metadata": {},
      "source": [
        "# Create a local operator chain for expansion\nThe following series of operators merge the modal basis and the meshes, read\nthe modal response, and expand the modal response with the modal basis.\n\n"
      ]
    },
    {
      "cell_type": "code",
      "execution_count": null,
      "metadata": {
        "collapsed": false
      },
      "outputs": [],
      "source": [
        "merge_fields = ops.utility.merge_fields_containers()\nmerge_mesh = ops.utility.merge_meshes()\n\nds = dpf.DataSources(base_path + r'/file_load_1.rfrq')\nresponse = ops.result.displacement(data_sources=ds)\nresponse.inputs.mesh(merge_mesh.outputs.merges_mesh)\n\nexpansion = ops.math.modal_superposition(\n    solution_in_modal_space=response,\n    modal_basis=merge_fields\n)\ncomponent = ops.logic.component_selector_fc(expansion, 1)"
      ]
    },
    {
      "cell_type": "markdown",
      "metadata": {},
      "source": [
        "# Connect the operator chains together and get the output\n\n"
      ]
    },
    {
      "cell_type": "code",
      "execution_count": null,
      "metadata": {
        "collapsed": false
      },
      "outputs": [],
      "source": [
        "for i, server in enumerate(remote_servers):\n    merge_fields.connect(i, remote_displacement_operators[i], 0)\n    merge_mesh.connect(i, remote_mesh_operators[i], 0)\n\nfc = component.get_output(0, dpf.types.fields_container)\nmerged_mesh = merge_mesh.get_output(0, dpf.types.meshed_region)\n\nmerged_mesh.plot(fc.get_field_by_time_complex_ids(1, 0))\nmerged_mesh.plot(fc.get_field_by_time_complex_ids(10, 0))\nprint(fc)"
      ]
    }
  ],
  "metadata": {
    "kernelspec": {
      "display_name": "Python 3",
      "language": "python",
      "name": "python3"
    },
    "language_info": {
      "codemirror_mode": {
        "name": "ipython",
        "version": 3
      },
      "file_extension": ".py",
      "mimetype": "text/x-python",
      "name": "python",
      "nbconvert_exporter": "python",
      "pygments_lexer": "ipython3",
      "version": "3.9.7"
    }
  },
  "nbformat": 4,
  "nbformat_minor": 0
}