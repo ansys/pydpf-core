{
  "cells": [
    {
      "cell_type": "code",
      "execution_count": null,
      "metadata": {
        "collapsed": false
      },
      "outputs": [],
      "source": [
        "%matplotlib inline"
      ]
    },
    {
      "cell_type": "markdown",
      "metadata": {},
      "source": [
        "\n\n# Transient Analysis Result Example\nThis example shows how to postprocess a transient result and\nvisualize the outputs.\n\nImport the necessary modules:\n"
      ]
    },
    {
      "cell_type": "code",
      "execution_count": null,
      "metadata": {
        "collapsed": false
      },
      "outputs": [],
      "source": [
        "import matplotlib.pyplot as plt\nimport numpy as np\n\nfrom ansys.dpf import core as dpf\nfrom ansys.dpf.core import examples\nfrom ansys.dpf.core import operators as ops"
      ]
    },
    {
      "cell_type": "markdown",
      "metadata": {},
      "source": [
        "Download the transient result example. This example is\nnot included in DPF-Core by default to speed up the installation.\nDownloading this example should take only a few seconds.\n\nNext, create the model and display the state of the result. This transient\nresult file contains several individual results, each at a different timestamp.\n\n"
      ]
    },
    {
      "cell_type": "code",
      "execution_count": null,
      "metadata": {
        "collapsed": false
      },
      "outputs": [],
      "source": [
        "transient = examples.download_transient_result()\nmodel = dpf.Model(transient)\nprint(model)"
      ]
    },
    {
      "cell_type": "markdown",
      "metadata": {},
      "source": [
        "Get the timestamps for each substep as a numpy array:\n\n"
      ]
    },
    {
      "cell_type": "code",
      "execution_count": null,
      "metadata": {
        "collapsed": false
      },
      "outputs": [],
      "source": [
        "tf = model.metadata.time_freq_support\nprint(tf.time_frequencies.data)"
      ]
    },
    {
      "cell_type": "markdown",
      "metadata": {},
      "source": [
        "# Obtain Minimum and Maximum Displacements for All Results\nCreate a displacement operator and set its time scoping request to\nthe entire time frequency support:\n\n"
      ]
    },
    {
      "cell_type": "code",
      "execution_count": null,
      "metadata": {
        "collapsed": false
      },
      "outputs": [],
      "source": [
        "disp = model.results.displacement()\ntimeids = range(1, tf.n_sets + 1)  # Must use 1-based indexing.\ndisp.inputs.time_scoping(timeids)\n\n# Chain the displacement operator with ``norm`` and ``min_max`` operators.\nmin_max_op = ops.min_max.min_max_fc(ops.math.norm_fc(disp))\n\nmin_disp = min_max_op.outputs.field_min()\nmax_disp = min_max_op.outputs.field_max()\nprint(max_disp.data)"
      ]
    },
    {
      "cell_type": "markdown",
      "metadata": {},
      "source": [
        "Plot the minimum and maximum displacements over time:\n\n"
      ]
    },
    {
      "cell_type": "code",
      "execution_count": null,
      "metadata": {
        "collapsed": false
      },
      "outputs": [],
      "source": [
        "tdata = tf.time_frequencies.data\nplt.plot(tdata, max_disp.data, \"r\", label=\"Max\")\nplt.plot(tdata, min_disp.data, \"b\", label=\"Min\")\nplt.xlabel(\"Time (s)\")\nplt.ylabel(\"Displacement (m)\")\nplt.legend()\nplt.show()"
      ]
    },
    {
      "cell_type": "markdown",
      "metadata": {},
      "source": [
        "Plot the minimum and maximum displacements over time for the X\ncomponent.\n\n"
      ]
    },
    {
      "cell_type": "code",
      "execution_count": null,
      "metadata": {
        "collapsed": false
      },
      "outputs": [],
      "source": [
        "disp_z = disp.Z()\nmin_max_op = ops.min_max.min_max_fc(ops.math.norm_fc(disp_z))\n\nmin_disp_z = min_max_op.outputs.field_min()\nmax_disp_z = min_max_op.outputs.field_max()\n\ntdata = tf.time_frequencies.data\nplt.plot(tdata, max_disp_z.data, \"r\", label=\"Max\")\nplt.plot(tdata, min_disp_z.data, \"b\", label=\"Min\")\nplt.xlabel(\"Time (s)\")\nplt.ylabel(\"X Displacement (m)\")\nplt.legend()\nplt.show()"
      ]
    },
    {
      "cell_type": "markdown",
      "metadata": {},
      "source": [
        "# Postprocessing Stress\nCreate an equivalent (von Mises) stress operator and set its time\nscoping to the entire time frequency support:\n\n"
      ]
    },
    {
      "cell_type": "code",
      "execution_count": null,
      "metadata": {
        "collapsed": false
      },
      "outputs": [],
      "source": [
        "# Component stress operator (stress)\nstress = model.results.stress()\n\n# Equivalent stress operator\neqv = stress.eqv()\neqv.inputs.time_scoping(timeids)\n\n# Connect to the min_max operator and return the minimum and maximum\n# fields.\nmin_max_eqv = ops.min_max.min_max_fc(eqv)\neqv_min = min_max_eqv.outputs.field_min()\neqv_max = min_max_eqv.outputs.field_max()\n\nprint(eqv_min)"
      ]
    },
    {
      "cell_type": "markdown",
      "metadata": {},
      "source": [
        "Plot the maximum stress over time:\n\n"
      ]
    },
    {
      "cell_type": "code",
      "execution_count": null,
      "metadata": {
        "collapsed": false
      },
      "outputs": [],
      "source": [
        "plt.plot(tdata, eqv_min.data, \"b\", label=\"Minimum\")\nplt.plot(tdata, eqv_max.data, \"r\", label=\"Maximum\")\nplt.xlabel(\"Time (s)\")\nplt.ylabel(\"Equivalent Stress (Pa)\")\nplt.legend()\nplt.show()"
      ]
    },
    {
      "cell_type": "markdown",
      "metadata": {},
      "source": [
        "# Scoping and Stress Field Coordinates\nThe scoping of the stress field can be used to extract the\ncoordinates used for each result:\n\n"
      ]
    },
    {
      "cell_type": "code",
      "execution_count": null,
      "metadata": {
        "collapsed": false
      },
      "outputs": [],
      "source": [
        "# Extract a single field from the equivalent stress operator.\nfield = eqv.outputs.fields_container()[28]\n\n# Print the first node IDs from the field.\nprint(field.scoping.ids[:10])"
      ]
    },
    {
      "cell_type": "markdown",
      "metadata": {},
      "source": [
        "As you can see, these node IDs are not in order. Additionally,\nthere may be fewer entries in the field than nodes in the model. For\nexample, stresses are not computed at mid-side nodes.\n\nTo extract the coordinates for these node IDs, load the mesh from\nthe model and then extract a coordinate for each node index.\n\nHere is an inefficient way of getting the coordinates as each\nindividual request must be sent to the DPF service:\n\n"
      ]
    },
    {
      "cell_type": "code",
      "execution_count": null,
      "metadata": {
        "collapsed": false
      },
      "outputs": [],
      "source": [
        "# Load the mesh from the model.\nmeshed_region = model.metadata.meshed_region\n\n# Print the first 10 coordinates for the field.\nnode_ids = field.scoping.ids\nfor node_id in node_ids[:10]:\n    # Fetch each individual node by node ID.\n    node_coord = meshed_region.nodes.node_by_id(node_id).coordinates\n    print(f\"Node ID {node_id} : %8.5f, %8.5f, %8.5f\" % tuple(node_coord))"
      ]
    },
    {
      "cell_type": "markdown",
      "metadata": {},
      "source": [
        "Rather than individually querying for each node coordinate of the\nfield, you can use the :func:`map_scoping` to remap the field data\nto match the order of the nodes in the meshed region.\n\nObtain the indices needed to get the data from ``field.data`` to match\nthe order of nodes in the mesh:\n\n"
      ]
    },
    {
      "cell_type": "code",
      "execution_count": null,
      "metadata": {
        "collapsed": false
      },
      "outputs": [],
      "source": [
        "nodes = meshed_region.nodes\nind, mask = nodes.map_scoping(field.scoping)\n\n# Show that the order of the remapped node scoping matches the field scoping.\nprint(\n    \"Scoping matches:\", np.allclose(np.array(nodes.scoping.ids)[ind], field.scoping.ids)\n)\n\n# Now plot the von Mises stress relative to the Z coordinates.\nz_coord = nodes.coordinates_field.data[ind, 2]\n\nplt.plot(z_coord, field.data, \".\")\nplt.xlabel(\"Z Coordinate (m)\")\nplt.ylabel(\"Equivalent Stress (Pa)\")\nplt.show()"
      ]
    }
  ],
  "metadata": {
    "kernelspec": {
      "display_name": "Python 3",
      "language": "python",
      "name": "python3"
    },
    "language_info": {
      "codemirror_mode": {
        "name": "ipython",
        "version": 3
      },
      "file_extension": ".py",
      "mimetype": "text/x-python",
      "name": "python",
      "nbconvert_exporter": "python",
      "pygments_lexer": "ipython3",
      "version": "3.9.5"
    }
  },
  "nbformat": 4,
  "nbformat_minor": 0
}