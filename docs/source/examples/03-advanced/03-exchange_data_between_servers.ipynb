{
  "cells": [
    {
      "cell_type": "code",
      "execution_count": null,
      "metadata": {
        "collapsed": false
      },
      "outputs": [],
      "source": [
        "%matplotlib inline"
      ]
    },
    {
      "cell_type": "markdown",
      "metadata": {},
      "source": [
        "\n\n# Exchange Data Between Servers\nIn this example, 2 dpf's servers will be started and a workflow will be\ncreated with a part on both servers. This example opens the possibility for a\nuser to read data from a given machine and transform this data on another\nwithout any more difficulties than working on a local computer\n"
      ]
    },
    {
      "cell_type": "code",
      "execution_count": null,
      "metadata": {
        "collapsed": false
      },
      "outputs": [],
      "source": [
        "from ansys.dpf import core as dpf\nfrom ansys.dpf.core import examples\nfrom ansys.dpf.core import operators as ops"
      ]
    },
    {
      "cell_type": "markdown",
      "metadata": {},
      "source": [
        "# Create 2 servers\nHere the 2 servers are started on the local machine with start_local_server\nbut, if the user has another server, he can connect on any dpf's server on\nthe network via: connect_to_server\n\n"
      ]
    },
    {
      "cell_type": "code",
      "execution_count": null,
      "metadata": {
        "collapsed": false
      },
      "outputs": [],
      "source": [
        "# the as_global attributes allows to choose whether a server will be stored\n# by the module and used by default\n# Here, we choose the 1st server to be the default\nserver1 = dpf.start_local_server(as_global=True)\nserver2 = dpf.start_local_server(as_global=False)\n\n# Check that the 2 servers are on different ports\nprint(server1.port, server2.port)"
      ]
    },
    {
      "cell_type": "markdown",
      "metadata": {},
      "source": [
        "# Send the result file\nHere, the result file is sent in a temporary dir of the first server\nThis file upload is useless in our case, since the 2 servers are locals\n\n"
      ]
    },
    {
      "cell_type": "code",
      "execution_count": null,
      "metadata": {
        "collapsed": false
      },
      "outputs": [],
      "source": [
        "file = examples.complex_rst\nfile_path_in_tmp = dpf.upload_file_in_tmp_folder(file)"
      ]
    },
    {
      "cell_type": "markdown",
      "metadata": {},
      "source": [
        "# Create a workflow on the first server\nCreate the model\n\n"
      ]
    },
    {
      "cell_type": "code",
      "execution_count": null,
      "metadata": {
        "collapsed": false
      },
      "outputs": [],
      "source": [
        "model = dpf.Model(file_path_in_tmp)\n\n# Read displacement\ndisp = model.results.displacement()\ndisp.inputs.time_scoping(len(model.metadata.time_freq_support.time_frequencies))"
      ]
    },
    {
      "cell_type": "markdown",
      "metadata": {},
      "source": [
        "# Create a workflow on the second server\n\n"
      ]
    },
    {
      "cell_type": "code",
      "execution_count": null,
      "metadata": {
        "collapsed": false
      },
      "outputs": [],
      "source": [
        "# Change the cartesian coordinates to cylindrical coordinates cs\ncoordinates = ops.geo.rotate_in_cylindrical_cs_fc(server=server2)\n\n# Create the cartesian coordinate cs\ncs = dpf.fields_factory.create_scalar_field(12, server=server2)\ncs.data = [1, 0, 0, 0, 1, 0, 0, 0, 1, 0, 0, 0]\n\ncoordinates.inputs.coordinate_system(cs)\n\n# choose the radial component to plot\ncomp = dpf.operators.logic.component_selector_fc(coordinates, 0, server=server2)"
      ]
    },
    {
      "cell_type": "markdown",
      "metadata": {},
      "source": [
        "# Pass data from on server to another\n\n"
      ]
    },
    {
      "cell_type": "code",
      "execution_count": null,
      "metadata": {
        "collapsed": false
      },
      "outputs": [],
      "source": [
        "fc_disp = disp.outputs.fields_container()\nfc_copy = fc_disp.deep_copy(server=server2)\n\nmesh_copy = model.metadata.meshed_region.deep_copy(server=server2)\n# give a mesh to the field\nfc_copy[0].meshed_region = mesh_copy\nfc_copy[1].meshed_region = mesh_copy\n\ncoordinates.inputs.field(fc_copy)"
      ]
    },
    {
      "cell_type": "markdown",
      "metadata": {},
      "source": [
        "# Plot the output\n\n"
      ]
    },
    {
      "cell_type": "code",
      "execution_count": null,
      "metadata": {
        "collapsed": false
      },
      "outputs": [],
      "source": [
        "out = comp.outputs.fields_container()\n\n# real part\nmesh_copy.plot(out.get_field({\"complex\": 0}))\n\n# imaginary part\nmesh_copy.plot(out.get_field({\"complex\": 1}))"
      ]
    }
  ],
  "metadata": {
    "kernelspec": {
      "display_name": "Python 3",
      "language": "python",
      "name": "python3"
    },
    "language_info": {
      "codemirror_mode": {
        "name": "ipython",
        "version": 3
      },
      "file_extension": ".py",
      "mimetype": "text/x-python",
      "name": "python",
      "nbconvert_exporter": "python",
      "pygments_lexer": "ipython3",
      "version": "3.9.5"
    }
  },
  "nbformat": 4,
  "nbformat_minor": 0
}