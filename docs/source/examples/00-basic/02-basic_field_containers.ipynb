{
  "cells": [
    {
      "cell_type": "code",
      "execution_count": null,
      "metadata": {
        "collapsed": false
      },
      "outputs": [],
      "source": [
        "%matplotlib inline"
      ]
    },
    {
      "cell_type": "markdown",
      "metadata": {},
      "source": [
        "\n\n# Field and Field Containers Overview\nIn DPF, the field is the main simulation data container. During a numerical\nsimulation, result data is defined by values associated to entities\n(scoping). These entities are a subset of a model (support).\n\nBecause field data is always associated to its scoping and support,\nthe field is a self-describing piece of data. A field is also\ndefined by its parameters, such as dimensionality, unit, and location.\nFor example, a field can describe a displacement vector or norm, stress or strain\ntensor, stress or strain equivalent, or minimum or maximum\nover time of any result. A field can be defined on a complete model or\non only certain entities of the model based on its scoping. The data\nis stored as a vector of double values, and each elementary entity has\na number of components. For example, a displacement will have three\ncomponents, and a symmetrical stress matrix will have six components.\n\nIn DPF, a fields container is simply a collection of fields that can be\nindexed, just like a Python list. Operators applied to a fields\ncontainer will have each individual field operated on. Fields\ncontainers are outputs from operators.\n\nFirst, import necessary modules:\n"
      ]
    },
    {
      "cell_type": "code",
      "execution_count": null,
      "metadata": {
        "collapsed": false
      },
      "outputs": [],
      "source": [
        "import numpy as np\n\nfrom ansys.dpf import core as dpf\nfrom ansys.dpf.core import examples"
      ]
    },
    {
      "cell_type": "markdown",
      "metadata": {},
      "source": [
        "Create a model object to establish a connection with an\nexample result file and then extract:\n\n"
      ]
    },
    {
      "cell_type": "code",
      "execution_count": null,
      "metadata": {
        "collapsed": false
      },
      "outputs": [],
      "source": [
        "model = dpf.Model(examples.static_rst)\nprint(model)"
      ]
    },
    {
      "cell_type": "markdown",
      "metadata": {},
      "source": [
        "Create the displacement operator directly from the ``results``\nproperty and extract the displacement fields container:\n\n"
      ]
    },
    {
      "cell_type": "code",
      "execution_count": null,
      "metadata": {
        "collapsed": false
      },
      "outputs": [],
      "source": [
        "disp_op = model.results.displacement()\nfields = disp_op.outputs.fields_container()\nprint(fields)"
      ]
    },
    {
      "cell_type": "markdown",
      "metadata": {},
      "source": [
        "A field can be extracted from a fields container by simply indexing\nthe requested field:\n\n"
      ]
    },
    {
      "cell_type": "code",
      "execution_count": null,
      "metadata": {
        "collapsed": false
      },
      "outputs": [],
      "source": [
        "field = fields[0]\nprint(field)"
      ]
    },
    {
      "cell_type": "markdown",
      "metadata": {},
      "source": [
        "# Extracting Data from a Field\nYou can extract all the data from a given field using the ``data``\nproperty.  This returns a ``numpy`` array.\n\n"
      ]
    },
    {
      "cell_type": "code",
      "execution_count": null,
      "metadata": {
        "collapsed": false
      },
      "outputs": [],
      "source": [
        "print(field.data)"
      ]
    },
    {
      "cell_type": "markdown",
      "metadata": {},
      "source": [
        "While it might seem preferable to work entirely within ``numpy``,\nDPF runs outside of Python and potentially even on a\nremote machine.  Therefore, the transfer of unnecessary data between\nthe DPF instance and the Python client leads to inefficient\noperations on large models. Instead, you should use DPF operators to\nassemble the necessary data before recalling the data from DPF.\n\nFor example, if you want the maximum displacement for a given\nresult, use the min/max operator:\n\n\n"
      ]
    },
    {
      "cell_type": "code",
      "execution_count": null,
      "metadata": {
        "collapsed": false
      },
      "outputs": [],
      "source": [
        "min_max_op = dpf.operators.min_max.min_max(field)\nprint(min_max_op.outputs.field_max().data)\n\n# Out of conveience, you can simply take the max of the field with:\nprint(field.max().data)\n\n# The above yields a result identical to:\nprint(np.max(field.data, axis=0))"
      ]
    },
    {
      "cell_type": "markdown",
      "metadata": {},
      "source": [
        "Note that the numpy array does not retain any information about the\nfield it describes.  Using the DPF ``max`` operator of the field does\nretain this information.\n\n"
      ]
    },
    {
      "cell_type": "code",
      "execution_count": null,
      "metadata": {
        "collapsed": false
      },
      "outputs": [],
      "source": [
        "max_field = field.max()\nprint(max_field)"
      ]
    }
  ],
  "metadata": {
    "kernelspec": {
      "display_name": "Python 3",
      "language": "python",
      "name": "python3"
    },
    "language_info": {
      "codemirror_mode": {
        "name": "ipython",
        "version": 3
      },
      "file_extension": ".py",
      "mimetype": "text/x-python",
      "name": "python",
      "nbconvert_exporter": "python",
      "pygments_lexer": "ipython3",
      "version": "3.8.6"
    }
  },
  "nbformat": 4,
  "nbformat_minor": 0
}