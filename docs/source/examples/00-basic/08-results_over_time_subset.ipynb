{
  "cells": [
    {
      "cell_type": "code",
      "execution_count": null,
      "metadata": {
        "collapsed": false
      },
      "outputs": [],
      "source": [
        "%matplotlib inline"
      ]
    },
    {
      "cell_type": "markdown",
      "metadata": {},
      "source": [
        "\n\n# Scope results over custom time domains\nThe ``Result`` class, which are instances created by the ``Model``, give\naccess to helpers for requesting results on specific mesh and time scopings.\nWith these helpers, working on a temporal subset of the\nmodel is straightforward. In this example, different ways to choose the temporal subset to\nevaluate a result are exposed. This example can be extended to frequency subsets.\n\nImport necessary modules:\n"
      ]
    },
    {
      "cell_type": "code",
      "execution_count": null,
      "metadata": {
        "collapsed": false
      },
      "outputs": [],
      "source": [
        "from ansys.dpf import core as dpf\nfrom ansys.dpf.core import examples"
      ]
    },
    {
      "cell_type": "markdown",
      "metadata": {},
      "source": [
        "Create a model object to establish a connection with an example result file:\n\n"
      ]
    },
    {
      "cell_type": "code",
      "execution_count": null,
      "metadata": {
        "collapsed": false
      },
      "outputs": [],
      "source": [
        "model = dpf.Model(examples.download_transient_result())\nprint(model)"
      ]
    },
    {
      "cell_type": "markdown",
      "metadata": {},
      "source": [
        "# Request specific time sets\nIf specific time sets are of interest, looking into the ``TimeFreqSupport``\nand connect a given ``time_scoping`` accordingly to the cumulative indexes can be useful.\n\n"
      ]
    },
    {
      "cell_type": "code",
      "execution_count": null,
      "metadata": {
        "collapsed": false
      },
      "outputs": [],
      "source": [
        "print(model.metadata.time_freq_support)\n\ntime_sets = [1, 3, 10]\ndisp = model.results.displacement.on_time_scoping(time_sets).eval()\n\nprint(disp)\n\n# Or using a scoping\ntime_sets_scoping = dpf.time_freq_scoping_factory.scoping_by_sets([1, 3, 10])\ndisp = model.results.displacement.on_time_scoping(time_sets_scoping).eval()\n\nprint(disp)"
      ]
    },
    {
      "cell_type": "markdown",
      "metadata": {},
      "source": [
        "Equivalent to:\n\n"
      ]
    },
    {
      "cell_type": "code",
      "execution_count": null,
      "metadata": {
        "collapsed": false
      },
      "outputs": [],
      "source": [
        "disp_op = model.results.displacement()\ndisp_op.inputs.time_scoping(time_sets)\ndisp = disp_op.outputs.fields_container()"
      ]
    },
    {
      "cell_type": "markdown",
      "metadata": {},
      "source": [
        "Equivalent to:\n\n"
      ]
    },
    {
      "cell_type": "code",
      "execution_count": null,
      "metadata": {
        "collapsed": false
      },
      "outputs": [],
      "source": [
        "disp = model.results.displacement(time_scoping=time_sets_scoping).eval()"
      ]
    },
    {
      "cell_type": "markdown",
      "metadata": {},
      "source": [
        "# Request specific time steps\nIf specific time steps or load steps are of interest, looking into the\n``TimeFreqSupport`` and connect a given ``time_scoping`` located on steps can be done.\n\n"
      ]
    },
    {
      "cell_type": "code",
      "execution_count": null,
      "metadata": {
        "collapsed": false
      },
      "outputs": [],
      "source": [
        "time_steps_scoping = dpf.time_freq_scoping_factory.scoping_by_load_step([1])\ndisp = model.results.displacement.on_time_scoping(time_steps_scoping).eval()\n\nprint(disp)"
      ]
    },
    {
      "cell_type": "markdown",
      "metadata": {},
      "source": [
        "Equivalent to:\n\n"
      ]
    },
    {
      "cell_type": "code",
      "execution_count": null,
      "metadata": {
        "collapsed": false
      },
      "outputs": [],
      "source": [
        "disp_op = model.results.displacement()\ndisp_op.inputs.time_scoping(time_steps_scoping)\ndisp = disp_op.outputs.fields_container()"
      ]
    },
    {
      "cell_type": "markdown",
      "metadata": {},
      "source": [
        "# Using helpers\nEvaluate at all times.\n\n"
      ]
    },
    {
      "cell_type": "code",
      "execution_count": null,
      "metadata": {
        "collapsed": false
      },
      "outputs": [],
      "source": [
        "disp = model.results.displacement.on_all_time_freqs().eval()"
      ]
    },
    {
      "cell_type": "markdown",
      "metadata": {},
      "source": [
        "Evaluate at first and last times\n\n"
      ]
    },
    {
      "cell_type": "code",
      "execution_count": null,
      "metadata": {
        "collapsed": false
      },
      "outputs": [],
      "source": [
        "disp = model.results.displacement.on_first_time_freq().eval()\nprint(disp)\ndisp = model.results.displacement.on_last_time_freq().eval()\nprint(disp)"
      ]
    }
  ],
  "metadata": {
    "kernelspec": {
      "display_name": "Python 3",
      "language": "python",
      "name": "python3"
    },
    "language_info": {
      "codemirror_mode": {
        "name": "ipython",
        "version": 3
      },
      "file_extension": ".py",
      "mimetype": "text/x-python",
      "name": "python",
      "nbconvert_exporter": "python",
      "pygments_lexer": "ipython3",
      "version": "3.8.6"
    }
  },
  "nbformat": 4,
  "nbformat_minor": 0
}