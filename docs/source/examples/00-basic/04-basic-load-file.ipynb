{
  "cells": [
    {
      "cell_type": "code",
      "execution_count": null,
      "metadata": {
        "collapsed": false
      },
      "outputs": [],
      "source": [
        "%matplotlib inline"
      ]
    },
    {
      "cell_type": "markdown",
      "metadata": {},
      "source": [
        "\n\n# Write/Load and Upload/Download a Result File\nDPF-Core can upload files to and download files from the server machine.\n\nThis example shows how to write and upload files on the server machine and then\ndownload them back on the client side. The resulting fields container is exported\nin CSV format.\n"
      ]
    },
    {
      "cell_type": "markdown",
      "metadata": {},
      "source": [
        "Load a model from the DPF-Core examples:\n``ansys.dpf.core`` module.\n\n"
      ]
    },
    {
      "cell_type": "code",
      "execution_count": null,
      "metadata": {
        "collapsed": false
      },
      "outputs": [],
      "source": [
        "from ansys.dpf import core\nfrom ansys.dpf.core import examples\n\nmodel = core.Model(examples.simple_bar)\nmesh = model.metadata.meshed_region"
      ]
    },
    {
      "cell_type": "markdown",
      "metadata": {},
      "source": [
        "# Get and Plot the Fields Container for the Result\nGet the fields container for the result and plot it so you can compare it later:\n\n"
      ]
    },
    {
      "cell_type": "code",
      "execution_count": null,
      "metadata": {
        "collapsed": false
      },
      "outputs": [],
      "source": [
        "displacement_operator = model.results.displacement()\nfc_out = displacement_operator.outputs.fields_container()\nmesh.plot(fc_out)"
      ]
    },
    {
      "cell_type": "markdown",
      "metadata": {},
      "source": [
        "# Export Result\nGet the fields container for the result and export it in the CSV format:\n\n"
      ]
    },
    {
      "cell_type": "code",
      "execution_count": null,
      "metadata": {
        "collapsed": false
      },
      "outputs": [],
      "source": [
        "import os\n\nfile_path = os.getcwd() + \"\\\\simple_bar_fc.csv\"\n\nexport_csv_operator = core.operators.serialization.field_to_csv()\nexport_csv_operator.inputs.field_or_fields_container.connect(fc_out)\nexport_csv_operator.inputs.file_path.connect(file_path)\nexport_csv_operator.run()"
      ]
    },
    {
      "cell_type": "markdown",
      "metadata": {},
      "source": [
        "# Upload CSV Result File\nUpload the file ``simple_bar_fc.csv`` on the server side.\nHere, :func:`upload_file_in_tmp_folder` is used because\nit is assumed that the server machine architecture is unknown.\nHowever, when the server file path is known, :func:`upload_file`\ncan be used.\n\n"
      ]
    },
    {
      "cell_type": "code",
      "execution_count": null,
      "metadata": {
        "collapsed": false
      },
      "outputs": [],
      "source": [
        "server_file_path = core.upload_file_in_tmp_folder(file_path)\nprint(server_file_path)\n\n# Remove file to avoid polluting.\nos.remove(file_path)"
      ]
    },
    {
      "cell_type": "markdown",
      "metadata": {},
      "source": [
        "# Download CSV Result File\nDownload the file ``simple_bar_fc.csv``:\n\n"
      ]
    },
    {
      "cell_type": "code",
      "execution_count": null,
      "metadata": {
        "collapsed": false
      },
      "outputs": [],
      "source": [
        "downloaded_client_file_path = os.getcwd() + \"\\\\simple_bar_fc_downloaded.csv\"\ncore.download_file(server_file_path, downloaded_client_file_path)"
      ]
    },
    {
      "cell_type": "markdown",
      "metadata": {},
      "source": [
        "# Load CSV Result File as Operator Input\nLoad the fields container contained in the CSV file as an operator input:\n\n"
      ]
    },
    {
      "cell_type": "code",
      "execution_count": null,
      "metadata": {
        "collapsed": false
      },
      "outputs": [],
      "source": [
        "my_data_sources = core.DataSources(downloaded_client_file_path)\nimport_csv_operator = core.operators.serialization.csv_to_field()\nimport_csv_operator.inputs.data_sources.connect(my_data_sources)\ndownloaded_fc_out = import_csv_operator.outputs.fields_container()\nmesh.plot(downloaded_fc_out)\n\n# Remove file to avoid polluting.\nos.remove(downloaded_client_file_path)"
      ]
    },
    {
      "cell_type": "markdown",
      "metadata": {},
      "source": [
        "# Make Operations Over the Imported Fields Container\nUse this fields container:\n\n"
      ]
    },
    {
      "cell_type": "code",
      "execution_count": null,
      "metadata": {
        "collapsed": false
      },
      "outputs": [],
      "source": [
        "min_max_op = core.operators.min_max.min_max_fc()\nmin_max_op.inputs.fields_container.connect(downloaded_fc_out)\nmin_field = min_max_op.outputs.field_min()\nmin_field.data"
      ]
    }
  ],
  "metadata": {
    "kernelspec": {
      "display_name": "Python 3",
      "language": "python",
      "name": "python3"
    },
    "language_info": {
      "codemirror_mode": {
        "name": "ipython",
        "version": 3
      },
      "file_extension": ".py",
      "mimetype": "text/x-python",
      "name": "python",
      "nbconvert_exporter": "python",
      "pygments_lexer": "ipython3",
      "version": "3.9.5"
    }
  },
  "nbformat": 4,
  "nbformat_minor": 0
}