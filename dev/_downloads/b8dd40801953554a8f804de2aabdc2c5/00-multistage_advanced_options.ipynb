{
  "cells": [
    {
      "cell_type": "code",
      "execution_count": null,
      "metadata": {
        "collapsed": false
      },
      "outputs": [],
      "source": [
        "%matplotlib inline"
      ]
    },
    {
      "cell_type": "markdown",
      "metadata": {},
      "source": [
        "# Multi-stage cyclic symmetry using advanced customization {#ref_multi_stage_cyclic_advanced}\r\n\r\nThis example shows how to expand on selected sectors the mesh and\r\nresults from a multi-stage cyclic analysis. It also shows how to use the\r\ncyclic support for advanced postprocessing\r\n"
      ]
    },
    {
      "cell_type": "code",
      "execution_count": null,
      "metadata": {
        "collapsed": false
      },
      "outputs": [],
      "source": [
        "from ansys.dpf import core as dpf\nfrom ansys.dpf.core import examples\nfrom ansys.dpf.core import operators as ops"
      ]
    },
    {
      "cell_type": "markdown",
      "metadata": {},
      "source": [
        "Create the model and display the state of the result.\r\n"
      ]
    },
    {
      "cell_type": "code",
      "execution_count": null,
      "metadata": {
        "collapsed": false
      },
      "outputs": [],
      "source": [
        "cyc = examples.download_multi_stage_cyclic_result()\nmodel = dpf.Model(cyc)\nprint(model)"
      ]
    },
    {
      "cell_type": "markdown",
      "metadata": {},
      "source": [
        "Check the result info to verify that it\\'s a multi-stage model\r\n"
      ]
    },
    {
      "cell_type": "code",
      "execution_count": null,
      "metadata": {
        "collapsed": false
      },
      "outputs": [],
      "source": [
        "result_info = model.metadata.result_info\nprint(result_info.has_cyclic)\nprint(result_info.cyclic_symmetry_type)"
      ]
    },
    {
      "cell_type": "markdown",
      "metadata": {},
      "source": [
        "Go over the cyclic support\r\n"
      ]
    },
    {
      "cell_type": "code",
      "execution_count": null,
      "metadata": {
        "collapsed": false
      },
      "outputs": [],
      "source": [
        "cyc_support = result_info.cyclic_support\nprint(\"num stages:\", cyc_support.num_stages)\nprint(\"num_sectors stage 0:\", cyc_support.num_sectors(0))\nprint(\"num_sectors stage 1:\", cyc_support.num_sectors(1))\nprint(\n    \"num nodes in the first stage's base sector: \",\n    len(cyc_support.base_nodes_scoping(0)),\n)"
      ]
    },
    {
      "cell_type": "markdown",
      "metadata": {},
      "source": [
        "# Expand displacement results\r\n\r\nThis example expands displacement results on chosen sectors.\r\n"
      ]
    },
    {
      "cell_type": "code",
      "execution_count": null,
      "metadata": {
        "collapsed": false
      },
      "outputs": [],
      "source": [
        "# Create displacement cyclic operator\nUCyc = dpf.operators.result.cyclic_expanded_displacement()\nUCyc.inputs.data_sources(model.metadata.data_sources)\n# Select the sectors to expand on the first stage\nUCyc.inputs.sectors_to_expand([0, 1, 2])\n# Or select the sectors to expand stage by stage\nsectors_scopings = dpf.ScopingsContainer()\nsectors_scopings.labels = [\"stage\"]\nsectors_scopings.add_scoping({\"stage\": 0}, dpf.Scoping(ids=[0, 1, 2]))\nsectors_scopings.add_scoping({\"stage\": 1}, dpf.Scoping(ids=[0, 1, 2, 3, 4, 5, 6]))\nUCyc.inputs.sectors_to_expand(sectors_scopings)\n\n# expand the displacements and get a total deformation\nnrm = dpf.Operator(\"norm_fc\")\nnrm.inputs.connect(UCyc.outputs)\nfields = nrm.outputs.fields_container()\n\n# # get the expanded mesh\nmesh_provider = model.metadata.mesh_provider\nmesh_provider.inputs.read_cyclic(2)\nmesh = mesh_provider.outputs.mesh()"
      ]
    },
    {
      "cell_type": "markdown",
      "metadata": {},
      "source": [
        "# Plot the expanded result on the expanded mesh\r\n"
      ]
    },
    {
      "cell_type": "code",
      "execution_count": null,
      "metadata": {
        "collapsed": false
      },
      "outputs": [],
      "source": [
        "mesh.plot(fields)"
      ]
    },
    {
      "cell_type": "markdown",
      "metadata": {},
      "source": [
        "# Choose to expand only some sectors for the mesh\r\n"
      ]
    },
    {
      "cell_type": "code",
      "execution_count": null,
      "metadata": {
        "collapsed": false
      },
      "outputs": [],
      "source": [
        "cyc_support_provider = ops.metadata.cyclic_support_provider(\n    data_sources=model.metadata.data_sources\n)\ncyc_support_provider.inputs.sectors_to_expand(sectors_scopings)\nmesh_exp = ops.metadata.cyclic_mesh_expansion(cyclic_support=cyc_support_provider)\nselected_sectors_mesh = mesh_exp.outputs.meshed_region()\n\n# # plot the expanded result on the expanded mesh\nselected_sectors_mesh.plot(fields)"
      ]
    },
    {
      "cell_type": "markdown",
      "metadata": {},
      "source": [
        "# Check results precisely\r\n"
      ]
    },
    {
      "cell_type": "code",
      "execution_count": null,
      "metadata": {
        "collapsed": false
      },
      "outputs": [],
      "source": [
        "# Print the time_freq_support to see the harmonic index\nprint(model.metadata.time_freq_support)\nprint(model.metadata.time_freq_support.get_harmonic_indices(stage_num=1).data)\n\n# Harmonic index 0 means that the results are symmetric sectors by sector\n# taking a node in the base sector of the first stage\nnode_id = cyc_support.base_nodes_scoping(0)[18]\nprint(node_id)\n\n# Check what are the expanded ids of this node\nexpanded_ids = cyc_support.expand_node_id(node_id, [0, 1, 2], 0)\nprint(expanded_ids.ids)\n\n# Verify that the displacement values are the same on all those nodes\nfor node in expanded_ids.ids:\n    print(fields[0].get_entity_data_by_id(node))"
      ]
    }
  ],
  "metadata": {
    "kernelspec": {
      "display_name": "Python 3",
      "language": "python",
      "name": "python3"
    },
    "language_info": {
      "codemirror_mode": {
        "name": "ipython",
        "version": 3
      },
      "file_extension": ".py",
      "mimetype": "text/x-python",
      "name": "python",
      "nbconvert_exporter": "python",
      "pygments_lexer": "ipython3",
      "version": "3.8.10"
    }
  },
  "nbformat": 4,
  "nbformat_minor": 0
}