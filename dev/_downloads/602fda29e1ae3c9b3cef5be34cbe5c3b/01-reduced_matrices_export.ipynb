{
  "cells": [
    {
      "cell_type": "code",
      "execution_count": null,
      "metadata": {
        "collapsed": false
      },
      "outputs": [],
      "source": [
        "%matplotlib inline"
      ]
    },
    {
      "cell_type": "markdown",
      "metadata": {},
      "source": [
        "# Get reduced matrices and make export {#ref_reduced_matrices_export}\r\n\r\nThis example shows how to get reduced matrices and export them to HDF5\r\nand CSV files.\r\n\r\n::: note\r\n::: title\r\nNote\r\n:::\r\n\r\nThis example requires the Premium ServerContext. For more information,\r\nsee `user_guide_server_context`{.interpreted-text role=\"ref\"}.\r\n:::\r\n"
      ]
    },
    {
      "cell_type": "markdown",
      "metadata": {},
      "source": [
        "Import the `dpf-core` module and its examples files, and then create a\r\ntemporary directory.\r\n"
      ]
    },
    {
      "cell_type": "code",
      "execution_count": null,
      "metadata": {
        "collapsed": false
      },
      "outputs": [],
      "source": [
        "import os\nimport tempfile\n\nfrom ansys.dpf import core as dpf\nfrom ansys.dpf.core import examples\nfrom ansys.dpf.core import operators as ops\n\n\ndpf.set_default_server_context(dpf.AvailableServerContexts.premium)\n\ntmpdir = tempfile.mkdtemp()"
      ]
    },
    {
      "cell_type": "markdown",
      "metadata": {},
      "source": [
        "Create the operator and connect data sources.\r\n"
      ]
    },
    {
      "cell_type": "code",
      "execution_count": null,
      "metadata": {
        "collapsed": false
      },
      "outputs": [],
      "source": [
        "ds = dpf.DataSources(examples.download_sub_file())\n\nmatrices_provider = ops.result.cms_matrices_provider()\nmatrices_provider.inputs.data_sources.connect(ds)"
      ]
    },
    {
      "cell_type": "markdown",
      "metadata": {},
      "source": [
        "Get result fields container that contains the reduced matrices.\r\n"
      ]
    },
    {
      "cell_type": "code",
      "execution_count": null,
      "metadata": {
        "collapsed": false
      },
      "outputs": [],
      "source": [
        "fields = matrices_provider.outputs.fields_container()\n\nlen(fields)\n\nfields[0].data"
      ]
    },
    {
      "cell_type": "markdown",
      "metadata": {},
      "source": [
        "Export the result fields container to an HDF5 file.\r\n"
      ]
    },
    {
      "cell_type": "code",
      "execution_count": null,
      "metadata": {
        "collapsed": false
      },
      "outputs": [],
      "source": [
        "h5_op = ops.serialization.serialize_to_hdf5()\nh5_op.inputs.data1.connect(matrices_provider.outputs)\nh5_op.inputs.file_path.connect(os.path.join(tmpdir, \"matrices.h5\"))\nh5_op.run()"
      ]
    },
    {
      "cell_type": "markdown",
      "metadata": {},
      "source": [
        "Export the result fields container to a CSV file.\r\n"
      ]
    },
    {
      "cell_type": "code",
      "execution_count": null,
      "metadata": {
        "collapsed": false
      },
      "outputs": [],
      "source": [
        "csv_op = ops.serialization.field_to_csv()\ncsv_op.inputs.field_or_fields_container.connect(matrices_provider.outputs)\ncsv_op.inputs.file_path.connect(os.path.join(tmpdir, \"matrices.csv\"))\ncsv_op.run()"
      ]
    }
  ],
  "metadata": {
    "kernelspec": {
      "display_name": "Python 3",
      "language": "python",
      "name": "python3"
    },
    "language_info": {
      "codemirror_mode": {
        "name": "ipython",
        "version": 3
      },
      "file_extension": ".py",
      "mimetype": "text/x-python",
      "name": "python",
      "nbconvert_exporter": "python",
      "pygments_lexer": "ipython3",
      "version": "3.8.10"
    }
  },
  "nbformat": 4,
  "nbformat_minor": 0
}