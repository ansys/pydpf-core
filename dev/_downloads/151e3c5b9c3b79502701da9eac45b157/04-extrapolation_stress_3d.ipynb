{
  "cells": [
    {
      "cell_type": "code",
      "execution_count": null,
      "metadata": {
        "collapsed": false
      },
      "outputs": [],
      "source": [
        "%matplotlib inline"
      ]
    },
    {
      "cell_type": "markdown",
      "metadata": {},
      "source": [
        "# Extrapolation method for stress result of a 3D element {#extrapolation_test_stress_3Delement}\r\n\r\nThis example shows how to compute the stress nodal components from\r\nGaussian points (integration points) for a 3D element using\r\nextrapolation.\r\n\r\nExtrapolate results available at Gaussian or quadrature points to nodal\r\npoints for a field or fields container. The available elements are:\r\n\r\n-   Linear quadrangle\r\n-   Parabolic quadrangle\r\n-   Linear hexagonal\r\n-   Quadratic hexagonal\r\n-   Linear tetrahedral\r\n-   Quadratic tetrahedral\r\n\r\nHere are the steps for extrapolation:\r\n\r\n1.  Get the data source\\'s solution from the integration points. (This\r\n    result file was generated with the Ansys Mechanical APDL (MAPDL)\r\n    option `ERESX, NO`).\r\n2.  Use the extrapolation operator to compute the nodal stress.\r\n3.  Get the result for nodal stress from the data source. The analysis\r\n    was computed by MAPDL.\r\n4.  Compare the result for nodal stress from the data source and the\r\n    nodal stress computed by the extrapolation method.\r\n\r\n::: note\r\n::: title\r\nNote\r\n:::\r\n\r\nThis example requires the Premium ServerContext. For more information,\r\nsee `user_guide_server_context`{.interpreted-text role=\"ref\"}.\r\n:::\r\n"
      ]
    },
    {
      "cell_type": "code",
      "execution_count": null,
      "metadata": {
        "collapsed": false
      },
      "outputs": [],
      "source": [
        "from ansys.dpf import core as dpf\nfrom ansys.dpf.core import examples\n\n\ndpf.set_default_server_context(dpf.AvailableServerContexts.premium)"
      ]
    },
    {
      "cell_type": "markdown",
      "metadata": {},
      "source": [
        "Get the data source\\'s analysis of integration points and analysis\r\nreference\r\n"
      ]
    },
    {
      "cell_type": "code",
      "execution_count": null,
      "metadata": {
        "collapsed": false
      },
      "outputs": [],
      "source": [
        "datafile = examples.download_extrapolation_3d_result()\n\n# Get integration points (Gaussian points)\ndata_integration_points = datafile[\"file_integrated\"]\ndata_sources_integration_points = dpf.DataSources(data_integration_points)\n\n# Get the reference\ndataSourceref = datafile[\"file_ref\"]\ndata_sources_ref = dpf.DataSources(dataSourceref)\n\n# Get the mesh\nmodel = dpf.Model(data_integration_points)\nmesh = model.metadata.meshed_region\n\n# Operator instantiation scoping\nop_scoping = dpf.operators.scoping.split_on_property_type()  # operator instantiation\nop_scoping.inputs.mesh.connect(mesh)\nop_scoping.inputs.requested_location.connect(\"Elemental\")\nmesh_scoping = op_scoping.outputs.mesh_scoping()"
      ]
    },
    {
      "cell_type": "markdown",
      "metadata": {},
      "source": [
        "# Extrapolate from integration points for stress result\r\n\r\nThis example uses the `gauss_to_node_fc` operator to compute the nodal\r\ncomponent stress result from the stress result of integration points.\r\n"
      ]
    },
    {
      "cell_type": "code",
      "execution_count": null,
      "metadata": {
        "collapsed": false
      },
      "outputs": [],
      "source": [
        "# Create stress operator to get stress result of integration points\nstressop = dpf.operators.result.stress()\nstressop.inputs.data_sources.connect(data_sources_integration_points)\nstress = stressop.outputs.fields_container()"
      ]
    },
    {
      "cell_type": "markdown",
      "metadata": {},
      "source": [
        "# Nodal stress result of integration points\r\n\r\n> The MAPLD command `ERESX,NO` is used to copy directly the Gaussian\r\n> (integration) points results to the nodes, instead of the results at\r\n> nodes or elements (which are interpolation of results at a few gauss\r\n> points). The following plot shows the nodal values, which are the\r\n> averaged values of stresses at each node. The value shown at the node\r\n> is the average of the stresses from the Gaussian points of each\r\n> element that it belongs to.\r\n"
      ]
    },
    {
      "cell_type": "code",
      "execution_count": null,
      "metadata": {
        "collapsed": false
      },
      "outputs": [],
      "source": [
        "# Plot\nstress_nodal_op = dpf.operators.averaging.elemental_nodal_to_nodal_fc()\nstress_nodal_op.inputs.fields_container.connect(stress)\nmesh.plot(stress_nodal_op.outputs.fields_container())"
      ]
    },
    {
      "cell_type": "markdown",
      "metadata": {},
      "source": [
        "Create operator `gauss_to_node_fc` and compute nodal component stress by\r\napplying the extrapolation method.\r\n"
      ]
    },
    {
      "cell_type": "code",
      "execution_count": null,
      "metadata": {
        "collapsed": false
      },
      "outputs": [],
      "source": [
        "ex_stress = dpf.operators.averaging.gauss_to_node_fc()\n# connect mesh\nex_stress.inputs.mesh.connect(mesh)\n# connect fields container stress\nex_stress.inputs.fields_container.connect(stress)\n# get output\nfex = ex_stress.outputs.fields_container()"
      ]
    },
    {
      "cell_type": "markdown",
      "metadata": {},
      "source": [
        "# Stress result of reference Ansys Workbench\r\n"
      ]
    },
    {
      "cell_type": "code",
      "execution_count": null,
      "metadata": {
        "collapsed": false
      },
      "outputs": [],
      "source": [
        "# Stress from file dataSourceref\nstressop_ref = dpf.operators.result.stress()\nstressop_ref.inputs.data_sources.connect(data_sources_ref)\nstressop_ref.inputs.mesh_scoping.connect(mesh_scoping)\nstress_ref = stressop_ref.outputs.fields_container()"
      ]
    },
    {
      "cell_type": "markdown",
      "metadata": {},
      "source": [
        "# Plot\r\n\r\nShow plots of the extrapolation\\'s stress result and the reference\\'s\r\nstress result\r\n"
      ]
    },
    {
      "cell_type": "code",
      "execution_count": null,
      "metadata": {
        "collapsed": false
      },
      "outputs": [],
      "source": [
        "# extrapolation\nfex_nodal_op = dpf.operators.averaging.elemental_nodal_to_nodal_fc()\nfex_nodal_op.inputs.fields_container.connect(fex)\nfex_nodal_fc = fex_nodal_op.eval()\nmesh.plot(fex_nodal_fc)\n\n# reference\nstress_ref_nodal_op = dpf.operators.averaging.elemental_nodal_to_nodal_fc()\nstress_ref_nodal_op.inputs.fields_container.connect(stress_ref)\nstress_ref_nodal_fc = stress_ref_nodal_op.eval()\nmesh.plot(stress_ref_nodal_fc)"
      ]
    },
    {
      "cell_type": "markdown",
      "metadata": {},
      "source": [
        "# Compare stress results\r\n\r\nCompare the stress result computed by extrapolation and the reference\\'s\r\nresult. Check if the two fields container are identical using the\r\n`identical_fc <ansys.dpf.core.operators.logic.identical_fc>`{.interpreted-text\r\nrole=\"class\"} operator. The relative tolerance is set to 1.1e-6. The\r\nsmallest value that is considered during the comparison step: all the\r\n`abs(values)` in field less than 1e-2 is considered as null.\r\n"
      ]
    },
    {
      "cell_type": "code",
      "execution_count": null,
      "metadata": {
        "collapsed": false
      },
      "outputs": [],
      "source": [
        "# operator AreFieldsIdentical_fc\nop = dpf.operators.logic.identical_fc()\nop.inputs.fields_containerA.connect(fex_nodal_op)\nop.inputs.fields_containerB.connect(stress_ref_nodal_op)\nop.inputs.tolerance.connect(1.1e-6)\nop.inputs.small_value.connect(0.01)\nop.outputs.boolean()"
      ]
    },
    {
      "cell_type": "markdown",
      "metadata": {},
      "source": [
        "Compute absolute and relative errors\r\n"
      ]
    },
    {
      "cell_type": "code",
      "execution_count": null,
      "metadata": {
        "collapsed": false
      },
      "outputs": [],
      "source": [
        "abs_error_sqr = dpf.operators.math.sqr_fc()\nabs_error = dpf.operators.math.sqrt_fc()\nerror = stress_ref_nodal_op - fex_nodal_op\nabs_error_sqr.inputs.fields_container.connect(error)\nabs_error.inputs.fields_container.connect(abs_error_sqr)\n\n\ndivide = dpf.operators.math.component_wise_divide()\ndivide.inputs.fieldA.connect(stress_ref_nodal_op - fex_nodal_op)\ndivide.inputs.fieldB.connect(stress_ref_nodal_op)\nrel_error = dpf.operators.math.scale()\nrel_error.inputs.field.connect(divide)\nrel_error.inputs.ponderation.connect(1.0)"
      ]
    },
    {
      "cell_type": "markdown",
      "metadata": {},
      "source": [
        "Plot absolute and relative errors. The absolute value is the order of\r\n10, which is very small when compared to the magnitude of 1e8 of the\r\ndisplacements. This is reflected in the relative error plot, where the\r\nerrors are found to be below 1.02e-6%. The result of these plots can be\r\nused to set the tolerances for the\r\n`identical_fc <ansys.dpf.core.operators.logic.identical_fc>`{.interpreted-text\r\nrole=\"class\"} operator.\r\n"
      ]
    },
    {
      "cell_type": "code",
      "execution_count": null,
      "metadata": {
        "collapsed": false
      },
      "outputs": [],
      "source": [
        "mesh.plot(abs_error.eval(), scalar_bar_args={\"title\": \"Absolute error [mm]\"})\nmesh.plot(rel_error.eval(), scalar_bar_args={\"title\": \"Relative error [%]\"})"
      ]
    }
  ],
  "metadata": {
    "kernelspec": {
      "display_name": "Python 3",
      "language": "python",
      "name": "python3"
    },
    "language_info": {
      "codemirror_mode": {
        "name": "ipython",
        "version": 3
      },
      "file_extension": ".py",
      "mimetype": "text/x-python",
      "name": "python",
      "nbconvert_exporter": "python",
      "pygments_lexer": "ipython3",
      "version": "3.8.10"
    }
  },
  "nbformat": 4,
  "nbformat_minor": 0
}