{
  "cells": [
    {
      "cell_type": "code",
      "execution_count": null,
      "metadata": {
        "collapsed": false
      },
      "outputs": [],
      "source": [
        "%matplotlib inline"
      ]
    },
    {
      "cell_type": "markdown",
      "metadata": {},
      "source": [
        "# Add nodal labels on plots {#labels}\r\n\r\nYou can add use label properties to add custom labels to specific nodes.\r\nIf label for a node is missing, the nodal scalar value is shown by\r\ndefault.\r\n"
      ]
    },
    {
      "cell_type": "markdown",
      "metadata": {},
      "source": [
        "Import the `dpf_core` module, included examples files, and the\r\n`DpfPlotter` module.\r\n"
      ]
    },
    {
      "cell_type": "code",
      "execution_count": null,
      "metadata": {
        "collapsed": false
      },
      "outputs": [],
      "source": [
        "from ansys.dpf import core as dpf\nfrom ansys.dpf.core import examples\nfrom ansys.dpf.core.plotter import DpfPlotter"
      ]
    },
    {
      "cell_type": "markdown",
      "metadata": {},
      "source": [
        "Open an example and print the `Model` object. The\r\n`Model <ansys.dpf.core.model.Model>`{.interpreted-text role=\"class\"}\r\nclass helps to organize access methods for the result by keeping track\r\nof the operators and data sources used by the result file.\r\n\r\nPrinting the model displays this metadata:\r\n\r\n-   Analysis type\r\n-   Available results\r\n-   Size of the mesh\r\n-   Number of results\r\n"
      ]
    },
    {
      "cell_type": "code",
      "execution_count": null,
      "metadata": {
        "collapsed": false
      },
      "outputs": [],
      "source": [
        "model = dpf.Model(examples.find_msup_transient())\nprint(model)"
      ]
    },
    {
      "cell_type": "markdown",
      "metadata": {},
      "source": [
        "Get the stress tensor and `connect` time scoping. Make sure that you\r\ndefine `\"Nodal\"` as the scoping location because labels are supported\r\nonly for nodal results.\r\n"
      ]
    },
    {
      "cell_type": "code",
      "execution_count": null,
      "metadata": {
        "collapsed": false
      },
      "outputs": [],
      "source": [
        "stress_tensor = model.results.stress()\ntime_scope = dpf.Scoping()\ntime_scope.ids = [20]  # [1, 2]\nstress_tensor.inputs.time_scoping.connect(time_scope)\nstress_tensor.inputs.requested_location.connect(\"Nodal\")\n# field = stress_tensor.outputs.fields_container.get_data()[0]\n\nnorm_op = dpf.Operator(\"norm_fc\")\nnorm_op.inputs.connect(stress_tensor.outputs)\nfield_norm_stress = norm_op.outputs.fields_container()[0]\nprint(field_norm_stress)\n\nnorm_op2 = dpf.Operator(\"norm_fc\")\ndisp = model.results.displacement()\ndisp.inputs.time_scoping.connect(time_scope)\nnorm_op2.inputs.connect(disp.outputs)\nfield_norm_disp = norm_op2.outputs.fields_container()[0]\nprint(field_norm_disp)"
      ]
    },
    {
      "cell_type": "markdown",
      "metadata": {},
      "source": [
        "Get the meshed region.\r\n"
      ]
    },
    {
      "cell_type": "code",
      "execution_count": null,
      "metadata": {
        "collapsed": false
      },
      "outputs": [],
      "source": [
        "mesh_set = model.metadata.meshed_region"
      ]
    },
    {
      "cell_type": "markdown",
      "metadata": {},
      "source": [
        "Plot the results on the mesh and show the minimum and maximum.\r\n"
      ]
    },
    {
      "cell_type": "code",
      "execution_count": null,
      "metadata": {
        "collapsed": false
      },
      "outputs": [],
      "source": [
        "plot = DpfPlotter()\nplot.add_field(\n    field_norm_stress,\n    meshed_region=mesh_set,\n    show_max=True,\n    show_min=True,\n    label_text_size=15,\n    label_point_size=5,\n)\n\n\n# Use label properties to add custom labels to specific nodes.\n# If a label for a node is missing, the nodal value is shown by default.\n\nmy_nodes_1 = [mesh_set.nodes[0], mesh_set.nodes[10]]\nmy_labels_1 = [\"MyNode1\", \"MyNode2\"]\nplot.add_node_labels(\n    my_nodes_1,\n    mesh_set,\n    my_labels_1,\n    italic=True,\n    bold=True,\n    font_size=26,\n    text_color=\"white\",\n    font_family=\"courier\",\n    shadow=True,\n    point_color=\"grey\",\n    point_size=20,\n)\n\nmy_nodes_2 = [mesh_set.nodes[18], mesh_set.nodes[30]]\nmy_labels_2 = []  # [\"MyNode3\"]\nplot.add_node_labels(\n    my_nodes_2,\n    mesh_set,\n    my_labels_2,\n    font_size=15,\n    text_color=\"black\",\n    font_family=\"arial\",\n    shadow=False,\n    point_color=\"white\",\n    point_size=15,\n)\n\n# Show figure.\n# You can set the camera positions using the ``cpos`` argument.\n# The three tuples in the list for the ``cpos`` argument represent the camera\n# position, focal point, and view respectively.\nplot.show_figure(\n    show_axes=True,\n    cpos=[(0.123, 0.095, 1.069), (-0.121, -0.149, 0.825), (0.0, 0.0, 1.0)],\n)"
      ]
    }
  ],
  "metadata": {
    "kernelspec": {
      "display_name": "Python 3",
      "language": "python",
      "name": "python3"
    },
    "language_info": {
      "codemirror_mode": {
        "name": "ipython",
        "version": 3
      },
      "file_extension": ".py",
      "mimetype": "text/x-python",
      "name": "python",
      "nbconvert_exporter": "python",
      "pygments_lexer": "ipython3",
      "version": "3.8.10"
    }
  },
  "nbformat": 4,
  "nbformat_minor": 0
}