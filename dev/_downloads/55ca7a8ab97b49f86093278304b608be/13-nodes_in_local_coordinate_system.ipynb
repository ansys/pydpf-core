{
  "cells": [
    {
      "cell_type": "code",
      "execution_count": null,
      "metadata": {
        "collapsed": false
      },
      "outputs": [],
      "source": [
        "%matplotlib inline"
      ]
    },
    {
      "cell_type": "markdown",
      "metadata": {},
      "source": [
        "# Convert nodal coordinates field to local coordinate system {#ref_nodes_in_local_coordinate_system}\r\n\r\nCurrently, there is no native operator to get nodal coordinates in an\r\nLocal Coordinate System (LCS). The operator\r\n`rotate <ansys.dpf.core.operators.geo.rotate.rotate>`{.interpreted-text\r\nrole=\"class\"} rotates the input field in Global Coordinate System (GCS)\r\nas per the input rotation matrix. So, if the LCS is at the same origin\r\nas the GCS, only one operation using the\r\n`rotate <ansys.dpf.core.operators.geo.rotate.rotate>`{.interpreted-text\r\nrole=\"class\"} operator give the desired output. However, if the aim is\r\nto obtain the LCS in a case where the LCS origin does not coincide with\r\nthe GCS, a transformation is required after the rotation to get the\r\ncorrect coordinates in LCS.\r\n\r\nThe script below demonstrates the methodology using PyDPF.\r\n\r\n::: note\r\n::: title\r\nNote\r\n:::\r\n\r\nThis example requires the Premium ServerContext. For more information,\r\nsee `user_guide_server_context`{.interpreted-text role=\"ref\"}.\r\n:::\r\n"
      ]
    },
    {
      "cell_type": "code",
      "execution_count": null,
      "metadata": {
        "collapsed": false
      },
      "outputs": [],
      "source": [
        "# Import necessary modules\nfrom ansys.dpf import core as dpf\nfrom ansys.dpf.core import examples\n\n\ndpf.set_default_server_context(dpf.AvailableServerContexts.premium)"
      ]
    },
    {
      "cell_type": "markdown",
      "metadata": {},
      "source": [
        "Create a model object to establish a connection with an example result\r\nfile:\r\n"
      ]
    },
    {
      "cell_type": "code",
      "execution_count": null,
      "metadata": {
        "collapsed": false
      },
      "outputs": [],
      "source": [
        "model = dpf.Model(examples.download_hemisphere())"
      ]
    },
    {
      "cell_type": "markdown",
      "metadata": {},
      "source": [
        "Get the property `coordinates_field` from\r\n`nodes <ansys.dpf.core.nodes>`{.interpreted-text role=\"class\"}:\r\n"
      ]
    },
    {
      "cell_type": "code",
      "execution_count": null,
      "metadata": {
        "collapsed": false
      },
      "outputs": [],
      "source": [
        "ncoord_f = model.metadata.meshed_region.nodes.coordinates_field"
      ]
    },
    {
      "cell_type": "markdown",
      "metadata": {},
      "source": [
        "Get the rotation matrix of the LCS ID 12. The first 9 values in the `cs`\r\noutput is the rotation matrix.\r\n"
      ]
    },
    {
      "cell_type": "code",
      "execution_count": null,
      "metadata": {
        "collapsed": false
      },
      "outputs": [],
      "source": [
        "cs = model.operator(r\"mapdl::rst::CS\")\ncs.inputs.cs_id.connect(12)\ncs_rot_mat = cs.outputs.field.get_data().data.T[0:9]"
      ]
    },
    {
      "cell_type": "markdown",
      "metadata": {},
      "source": [
        "Create a 3x3 rotation matrix field `rot_mat_f`:\r\n"
      ]
    },
    {
      "cell_type": "code",
      "execution_count": null,
      "metadata": {
        "collapsed": false
      },
      "outputs": [],
      "source": [
        "rot_mat_f = dpf.fields_factory.create_scalar_field(1)\nrot_mat_f.data = cs_rot_mat"
      ]
    },
    {
      "cell_type": "markdown",
      "metadata": {},
      "source": [
        "Create a 3D vector field for the position vector of the LCS\\'s origin\r\nand rotate the origin as per the rotation matrix of the LCS. The last 3\r\nentries of `cs` output is the LCS\\'s origin in GCS.\r\n"
      ]
    },
    {
      "cell_type": "code",
      "execution_count": null,
      "metadata": {
        "collapsed": false
      },
      "outputs": [],
      "source": [
        "pos_vec = dpf.fields_factory.create_3d_vector_field(1)\npos_vec.data = cs.outputs.field.get_data().data.T[-3:]\npos_vec_rot = dpf.operators.geo.rotate(field=pos_vec, field_rotation_matrix=rot_mat_f)"
      ]
    },
    {
      "cell_type": "markdown",
      "metadata": {},
      "source": [
        "Get rotated nodal coordinates field:\r\n"
      ]
    },
    {
      "cell_type": "code",
      "execution_count": null,
      "metadata": {
        "collapsed": false
      },
      "outputs": [],
      "source": [
        "ncoord_rot_f = dpf.operators.geo.rotate(field=ncoord_f, field_rotation_matrix=rot_mat_f)"
      ]
    },
    {
      "cell_type": "markdown",
      "metadata": {},
      "source": [
        "Transform rotated nodal coordinates field along rotated position vector\r\n`pos_vec_rot`:\r\n"
      ]
    },
    {
      "cell_type": "code",
      "execution_count": null,
      "metadata": {
        "collapsed": false
      },
      "outputs": [],
      "source": [
        "pos_vec_rot_neg_f = dpf.operators.math.scale(field=pos_vec_rot, ponderation=-1.0)\npos_vec_rot_neg = pos_vec_rot_neg_f.outputs.field.get_data().data_as_list\nncoord_translate = dpf.operators.math.add_constant(\n    field=ncoord_rot_f, ponderation=pos_vec_rot_neg\n)"
      ]
    },
    {
      "cell_type": "markdown",
      "metadata": {},
      "source": [
        "Get the nodal coordinates field `ncoord_lcs_f` in LCS:\r\n"
      ]
    },
    {
      "cell_type": "code",
      "execution_count": null,
      "metadata": {
        "collapsed": false
      },
      "outputs": [],
      "source": [
        "ncoord_lcs_f = ncoord_translate.outputs.field.get_data()"
      ]
    },
    {
      "cell_type": "markdown",
      "metadata": {},
      "source": [
        "Coordinates of NID 1 in GCS\r\n"
      ]
    },
    {
      "cell_type": "code",
      "execution_count": null,
      "metadata": {
        "collapsed": false
      },
      "outputs": [],
      "source": [
        "print(ncoord_f.get_entity_data_by_id(1))"
      ]
    },
    {
      "cell_type": "markdown",
      "metadata": {},
      "source": [
        "Coordinates of NID 1 in LCS\r\n"
      ]
    },
    {
      "cell_type": "code",
      "execution_count": null,
      "metadata": {
        "collapsed": false
      },
      "outputs": [],
      "source": [
        "print(ncoord_lcs_f.get_entity_data_by_id(1))"
      ]
    }
  ],
  "metadata": {
    "kernelspec": {
      "display_name": "Python 3",
      "language": "python",
      "name": "python3"
    },
    "language_info": {
      "codemirror_mode": {
        "name": "ipython",
        "version": 3
      },
      "file_extension": ".py",
      "mimetype": "text/x-python",
      "name": "python",
      "nbconvert_exporter": "python",
      "pygments_lexer": "ipython3",
      "version": "3.8.10"
    }
  },
  "nbformat": 4,
  "nbformat_minor": 0
}