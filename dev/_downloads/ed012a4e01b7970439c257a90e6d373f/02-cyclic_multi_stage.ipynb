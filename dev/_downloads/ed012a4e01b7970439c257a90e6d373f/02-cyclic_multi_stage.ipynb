{
  "cells": [
    {
      "cell_type": "code",
      "execution_count": null,
      "metadata": {
        "collapsed": false
      },
      "outputs": [],
      "source": [
        "%matplotlib inline"
      ]
    },
    {
      "cell_type": "markdown",
      "metadata": {},
      "source": [
        "# Multi-stage cyclic symmetry example {#ref_multi_stage_cyclic}\r\n\r\nThis example shows how to expand the mesh and results from a multi-stage\r\ncyclic analysis.\r\n"
      ]
    },
    {
      "cell_type": "code",
      "execution_count": null,
      "metadata": {
        "collapsed": false
      },
      "outputs": [],
      "source": [
        "from ansys.dpf import core as dpf\nfrom ansys.dpf.core import examples"
      ]
    },
    {
      "cell_type": "markdown",
      "metadata": {},
      "source": [
        "Create the model and display the state of the result.\r\n"
      ]
    },
    {
      "cell_type": "code",
      "execution_count": null,
      "metadata": {
        "collapsed": false
      },
      "outputs": [],
      "source": [
        "cyc = examples.download_multi_stage_cyclic_result()\nmodel = dpf.Model(cyc)\nprint(model)"
      ]
    },
    {
      "cell_type": "markdown",
      "metadata": {},
      "source": [
        "# Expand displacement results\r\n\r\nThis example expands displacement results, by default on all nodes and\r\nthe first time step. Note that the displacements are expanded using the\r\n`read_cyclic\r\n<ansys.dpf.core.operators.mesh.mesh_provider.InputsMeshProvider.read_cyclic>`{.interpreted-text\r\nrole=\"func\"} property with 2 as an argument (1 would ignore the cyclic\r\nsymmetry).\r\n"
      ]
    },
    {
      "cell_type": "code",
      "execution_count": null,
      "metadata": {
        "collapsed": false
      },
      "outputs": [],
      "source": [
        "# Create displacement cyclic operator\nUCyc = model.results.displacement()\nUCyc.inputs.read_cyclic(2)\n\n# expand the displacements and get a total deformation\nnrm = dpf.Operator(\"norm_fc\")\nnrm.inputs.connect(UCyc.outputs)\nfields = nrm.outputs.fields_container()\n\n# # get the expanded mesh\nmesh_provider = model.metadata.mesh_provider\nmesh_provider.inputs.read_cyclic(2)\nmesh = mesh_provider.outputs.mesh()\n\n# # plot the expanded result on the expanded mesh\nmesh.plot(fields)"
      ]
    },
    {
      "cell_type": "markdown",
      "metadata": {},
      "source": [
        "# Expand stresses at a given time step\r\n"
      ]
    },
    {
      "cell_type": "code",
      "execution_count": null,
      "metadata": {
        "collapsed": false
      },
      "outputs": [],
      "source": [
        "# define stress expansion operator and request stresses at time set = 3\nSCyc = model.results.stress()\nSCyc.inputs.read_cyclic(2)\nSCyc.inputs.time_scoping.connect([3])\n\n# request the results averaged on the nodes\nSCyc.inputs.requested_location.connect(\"Nodal\")\n\n# request equivalent von mises operator and connect it to stress\n# operator\neqv = dpf.Operator(\"eqv_fc\")\neqv.inputs.connect(SCyc.outputs)\n\n# expand the results and get stress eqv\nfields = eqv.outputs.fields_container()\n\n# plot the expanded result on the expanded mesh\nmesh.plot(fields)"
      ]
    }
  ],
  "metadata": {
    "kernelspec": {
      "display_name": "Python 3",
      "language": "python",
      "name": "python3"
    },
    "language_info": {
      "codemirror_mode": {
        "name": "ipython",
        "version": 3
      },
      "file_extension": ".py",
      "mimetype": "text/x-python",
      "name": "python",
      "nbconvert_exporter": "python",
      "pygments_lexer": "ipython3",
      "version": "3.8.10"
    }
  },
  "nbformat": 4,
  "nbformat_minor": 0
}