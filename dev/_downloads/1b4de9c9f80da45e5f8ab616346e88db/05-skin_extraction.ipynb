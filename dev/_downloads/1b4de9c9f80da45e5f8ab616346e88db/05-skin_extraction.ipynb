{
  "cells": [
    {
      "cell_type": "code",
      "execution_count": null,
      "metadata": {
        "collapsed": false
      },
      "outputs": [],
      "source": [
        "%matplotlib inline"
      ]
    },
    {
      "cell_type": "markdown",
      "metadata": {},
      "source": [
        "# Extract the skin from a mesh {#ref_skin_mesh}\r\n\r\nExtracting the skin of a mesh to reduce the amount of data to operate on\r\ncan be useful for specific results and for performance.\r\n\r\n::: note\r\n::: title\r\nNote\r\n:::\r\n\r\nThis example requires the Premium ServerContext. For more information,\r\nsee `user_guide_server_context`{.interpreted-text role=\"ref\"}.\r\n:::\r\n"
      ]
    },
    {
      "cell_type": "code",
      "execution_count": null,
      "metadata": {
        "collapsed": false
      },
      "outputs": [],
      "source": [
        "# Import necessary modules\nfrom ansys.dpf import core as dpf\nfrom ansys.dpf.core import examples\nfrom ansys.dpf.core import operators as ops\n\n\ndpf.set_default_server_context(dpf.AvailableServerContexts.premium)"
      ]
    },
    {
      "cell_type": "markdown",
      "metadata": {},
      "source": [
        "Create a model object to establish a connection with an example result\r\nfile and then extract:\r\n"
      ]
    },
    {
      "cell_type": "code",
      "execution_count": null,
      "metadata": {
        "collapsed": false
      },
      "outputs": [],
      "source": [
        "model = dpf.Model(examples.download_multi_stage_cyclic_result())\nprint(model)"
      ]
    },
    {
      "cell_type": "markdown",
      "metadata": {},
      "source": [
        "# Create the workflow\r\n\r\nMaximum principal stress usually occurs on the skin of the model.\r\nComputing results only on this skin reduces the data size.\r\n"
      ]
    },
    {
      "cell_type": "code",
      "execution_count": null,
      "metadata": {
        "collapsed": false
      },
      "outputs": [],
      "source": [
        "# Create a simple workflow computing the principal stress on the skin\n# of the model.\n\nskin_op = ops.mesh.external_layer(model.metadata.meshed_region)\nskin_mesh = skin_op.outputs.mesh()"
      ]
    },
    {
      "cell_type": "markdown",
      "metadata": {},
      "source": [
        "Plot the mesh skin:\r\n"
      ]
    },
    {
      "cell_type": "code",
      "execution_count": null,
      "metadata": {
        "collapsed": false
      },
      "outputs": [],
      "source": [
        "skin_mesh.plot()"
      ]
    },
    {
      "cell_type": "markdown",
      "metadata": {},
      "source": [
        "Compute the stress principal invariants on the skin nodes only:\r\n"
      ]
    },
    {
      "cell_type": "code",
      "execution_count": null,
      "metadata": {
        "collapsed": false
      },
      "outputs": [],
      "source": [
        "stress_op = ops.result.stress(data_sources=model.metadata.data_sources)\nstress_op.inputs.requested_location.connect(dpf.locations.nodal)\nstress_op.inputs.mesh_scoping.connect(skin_op.outputs.nodes_mesh_scoping)\n\nprincipal_op = ops.invariant.principal_invariants_fc(stress_op)\nprincipal_stress_1 = principal_op.outputs.fields_eig_1()[0]\nprincipal_stress_2 = principal_op.outputs.fields_eig_2()[0]\nprincipal_stress_3 = principal_op.outputs.fields_eig_3()[0]"
      ]
    },
    {
      "cell_type": "markdown",
      "metadata": {},
      "source": [
        "# Manipulate data locally\r\n"
      ]
    },
    {
      "cell_type": "markdown",
      "metadata": {},
      "source": [
        "This example goes over the fields, keeping the largest invariant value\r\nby node if the averaged value of invariants is large enough. Exploring\r\ndata allows you to customize it to meet your needs.\r\n"
      ]
    },
    {
      "cell_type": "code",
      "execution_count": null,
      "metadata": {
        "collapsed": false
      },
      "outputs": [],
      "source": [
        "node_scoping_ids = principal_stress_1.scoping.ids\nthreshold = 300000.0\n\nfield_to_keep = dpf.fields_factory.create_scalar_field(\n    len(node_scoping_ids), location=dpf.locations.nodal\n)\n\nwith field_to_keep.as_local_field() as f:\n    with principal_stress_1.as_local_field() as s1:\n        with principal_stress_2.as_local_field() as s2:\n            with principal_stress_3.as_local_field() as s3:\n                for i, id in enumerate(node_scoping_ids):\n                    d1 = abs(s1.get_entity_data_by_id(id))\n                    d2 = abs(s2.get_entity_data_by_id(id))\n                    d3 = abs(s3.get_entity_data_by_id(id))\n                    if (d1 + d2 + d3) / 3.0 > threshold:\n                        d = max(d1, d2, d3)\n                        f.append(d, id)"
      ]
    },
    {
      "cell_type": "markdown",
      "metadata": {},
      "source": [
        "# Plot result field\r\n"
      ]
    },
    {
      "cell_type": "markdown",
      "metadata": {},
      "source": [
        "Plot the result field on the skin mesh:\r\n"
      ]
    },
    {
      "cell_type": "code",
      "execution_count": null,
      "metadata": {
        "collapsed": false
      },
      "outputs": [],
      "source": [
        "skin_mesh.plot(field_to_keep)"
      ]
    },
    {
      "cell_type": "markdown",
      "metadata": {},
      "source": [
        "# Plot initial invariants\r\n"
      ]
    },
    {
      "cell_type": "markdown",
      "metadata": {},
      "source": [
        "Plot the initial invariants on the skin mesh:\r\n"
      ]
    },
    {
      "cell_type": "code",
      "execution_count": null,
      "metadata": {
        "collapsed": false
      },
      "outputs": [],
      "source": [
        "skin_mesh.plot(principal_stress_1)\nskin_mesh.plot(principal_stress_2)\nskin_mesh.plot(principal_stress_3)"
      ]
    }
  ],
  "metadata": {
    "kernelspec": {
      "display_name": "Python 3",
      "language": "python",
      "name": "python3"
    },
    "language_info": {
      "codemirror_mode": {
        "name": "ipython",
        "version": 3
      },
      "file_extension": ".py",
      "mimetype": "text/x-python",
      "name": "python",
      "nbconvert_exporter": "python",
      "pygments_lexer": "ipython3",
      "version": "3.8.10"
    }
  },
  "nbformat": 4,
  "nbformat_minor": 0
}