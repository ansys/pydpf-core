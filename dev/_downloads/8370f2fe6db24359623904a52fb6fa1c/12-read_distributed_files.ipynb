{
  "cells": [
    {
      "cell_type": "code",
      "execution_count": null,
      "metadata": {
        "collapsed": false
      },
      "outputs": [],
      "source": [
        "%matplotlib inline"
      ]
    },
    {
      "cell_type": "markdown",
      "metadata": {},
      "source": [
        "# Read results from distributed files {#ref_distributed_files}\r\n\r\nSolvers usually solve analysis with distributed architecture. In this\r\ncase, one file is written by spatial or temporal domains. DPF is capable\r\nof reading one result in distributed files. This allows it to skip the\r\nmerging of files on the solver side, which is time-consuming and often\r\ndoubles the memory used.\r\n"
      ]
    },
    {
      "cell_type": "code",
      "execution_count": null,
      "metadata": {
        "collapsed": false
      },
      "outputs": [],
      "source": [
        "from ansys.dpf import core as dpf\nfrom ansys.dpf.core import examples"
      ]
    },
    {
      "cell_type": "markdown",
      "metadata": {},
      "source": [
        "# Create the data sources\r\n\r\nFirst create a data sources with one result file by domain\r\n"
      ]
    },
    {
      "cell_type": "code",
      "execution_count": null,
      "metadata": {
        "collapsed": false
      },
      "outputs": [],
      "source": [
        "distributed_file_path = examples.download_distributed_files()\ndata_sources = dpf.DataSources()\ndata_sources.set_domain_result_file_path(distributed_file_path[0], 0)\ndata_sources.set_domain_result_file_path(distributed_file_path[1], 1)"
      ]
    },
    {
      "cell_type": "markdown",
      "metadata": {},
      "source": [
        "# Compute displacements\r\n\r\nOnce the file architecture is put in the data sources, computing\r\ndisplacements with or without domain has the exact same syntax. DPF\r\nreads parts of the result on each domain and merges these results in the\r\noutputs fields. The output is no different than when using combined or\r\ndistributed files.\r\n"
      ]
    },
    {
      "cell_type": "code",
      "execution_count": null,
      "metadata": {
        "collapsed": false
      },
      "outputs": [],
      "source": [
        "model = dpf.Model(data_sources)\ndisp = model.results.displacement.on_all_time_freqs.eval()\n\nfreq_scoping = disp.get_time_scoping()\nfor freq_set in freq_scoping:\n    model.metadata.meshed_region.plot(disp.get_field_by_time_complex_ids(freq_set, 0))"
      ]
    },
    {
      "cell_type": "markdown",
      "metadata": {},
      "source": [
        "# Compute equivalent stress\r\n"
      ]
    },
    {
      "cell_type": "code",
      "execution_count": null,
      "metadata": {
        "collapsed": false
      },
      "outputs": [],
      "source": [
        "stress_res = model.results.stress\nstress_res.on_location(dpf.locations.nodal)\nstress = stress_res.on_all_time_freqs.eval()\n\nfreq_scoping = stress.get_time_scoping()\nfor freq_set in freq_scoping:\n    model.metadata.meshed_region.plot(stress.get_field_by_time_complex_ids(freq_set, 0))"
      ]
    }
  ],
  "metadata": {
    "kernelspec": {
      "display_name": "Python 3",
      "language": "python",
      "name": "python3"
    },
    "language_info": {
      "codemirror_mode": {
        "name": "ipython",
        "version": 3
      },
      "file_extension": ".py",
      "mimetype": "text/x-python",
      "name": "python",
      "nbconvert_exporter": "python",
      "pygments_lexer": "ipython3",
      "version": "3.8.10"
    }
  },
  "nbformat": 4,
  "nbformat_minor": 0
}