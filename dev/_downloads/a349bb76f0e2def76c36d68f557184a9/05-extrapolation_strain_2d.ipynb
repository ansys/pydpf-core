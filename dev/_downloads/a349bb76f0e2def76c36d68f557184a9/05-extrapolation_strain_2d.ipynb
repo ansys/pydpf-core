{
  "cells": [
    {
      "cell_type": "code",
      "execution_count": null,
      "metadata": {
        "collapsed": false
      },
      "outputs": [],
      "source": [
        "%matplotlib inline"
      ]
    },
    {
      "cell_type": "markdown",
      "metadata": {},
      "source": [
        "# Extrapolation method for strain result of a 2D element {#extrapolation_test_strain_2Delement}\r\n\r\nThis example shows how to compute the stress nodal components from\r\nGaussian points (integration points) for a 2D element using\r\nextrapolation.\r\n\r\nExtrapolate results available at Gaussian or quadrature points to nodal\r\npoints for a field or fields container. The available elements are:\r\n\r\n-   Linear quadrangle\r\n-   Parabolic quadrangle\r\n-   Linear hexagonal\r\n-   Quadratic hexagonal\r\n-   Linear tetrahedral\r\n-   Quadratic tetrahedral\r\n\r\nHere are the steps for extrapolation:\r\n\r\n1.  Get the data source\\'s solution from the integration points. (This\r\n    result file was generated with the Ansys Mechanical APDL (MAPDL)\r\n    option `ERESX, NO`).\r\n2.  Use the extrapolation operator to compute the nodal elastic strain.\r\n3.  Get the result for nodal elastic strain from the data source. The\r\n    analysis was computed by MAPDL.\r\n4.  Compare the result for nodal elastic strain from the data source and\r\n    the nodal elastic strain computed by the extrapolation method.\r\n\r\n::: note\r\n::: title\r\nNote\r\n:::\r\n\r\nThis example requires the Premium ServerContext. For more information,\r\nsee `user_guide_server_context`{.interpreted-text role=\"ref\"}.\r\n:::\r\n"
      ]
    },
    {
      "cell_type": "code",
      "execution_count": null,
      "metadata": {
        "collapsed": false
      },
      "outputs": [],
      "source": [
        "from ansys.dpf import core as dpf\nfrom ansys.dpf.core import examples\n\n\ndpf.set_default_server_context(dpf.AvailableServerContexts.premium)"
      ]
    },
    {
      "cell_type": "markdown",
      "metadata": {},
      "source": [
        "Get the data source\\'s analyse of integration points and data source\\'s\r\nanalyse reference\r\n"
      ]
    },
    {
      "cell_type": "code",
      "execution_count": null,
      "metadata": {
        "collapsed": false
      },
      "outputs": [],
      "source": [
        "datafile = examples.download_extrapolation_2d_result()\n\n# integration points (Gaussian points)\ndata_integration_points = datafile[\"file_integrated\"]\ndata_sources_integration_points = dpf.DataSources(data_integration_points)\n\n# reference\ndataSourceref = datafile[\"file_ref\"]\ndata_sources_ref = dpf.DataSources(dataSourceref)\n\n# get the mesh\nmodel = dpf.Model(data_integration_points)\nmesh = model.metadata.meshed_region"
      ]
    },
    {
      "cell_type": "markdown",
      "metadata": {},
      "source": [
        "# Extrapolate from integration points for elastic strain result\r\n\r\nThis example uses the `gauss_to_node_fc` operator to compute nodal\r\ncomponent elastic strain results from the elastic strain at the\r\nintegration points.\r\n"
      ]
    },
    {
      "cell_type": "code",
      "execution_count": null,
      "metadata": {
        "collapsed": false
      },
      "outputs": [],
      "source": [
        "# Create elastic strain operator to get strain result of integration points\nstrainop = dpf.operators.result.elastic_strain()\nstrainop.inputs.data_sources.connect(data_sources_integration_points)\nstrain = strainop.outputs.fields_container()"
      ]
    },
    {
      "cell_type": "markdown",
      "metadata": {},
      "source": [
        "# Nodal elastic strain result of integration points:\r\n\r\n> The command `ERESX,NO` in MAPDL is used to copy directly the Gaussian\r\n> (integration) points results to the nodes, instead of the results at\r\n> nodes or elements (which are an interpolation of results at a few\r\n> Gaussian points).\r\n>\r\n> The following plot shows the nodal values that are the averaged values\r\n> of elastic strain at each node. The value shown at the node is the\r\n> average of the elastic strains from the Gaussian points of each\r\n> element that it belongs to.\r\n"
      ]
    },
    {
      "cell_type": "code",
      "execution_count": null,
      "metadata": {
        "collapsed": false
      },
      "outputs": [],
      "source": [
        "# plot\nstrain_nodal_op = dpf.operators.averaging.elemental_nodal_to_nodal_fc()\nstrain_nodal_op.inputs.fields_container.connect(strain)\nmesh.plot(strain_nodal_op.outputs.fields_container())"
      ]
    },
    {
      "cell_type": "markdown",
      "metadata": {},
      "source": [
        "Create the `gauss_to_node_fc` operator and compute nodal component\r\nelastic strain by applying the extrapolation method.\r\n"
      ]
    },
    {
      "cell_type": "code",
      "execution_count": null,
      "metadata": {
        "collapsed": false
      },
      "outputs": [],
      "source": [
        "ex_strain = dpf.operators.averaging.gauss_to_node_fc()\n# connect mesh\nex_strain.inputs.mesh.connect(mesh)\n# connect fields container elastic strain\nex_strain.inputs.fields_container.connect(strain)\n# get output\nfex = ex_strain.outputs.fields_container()"
      ]
    },
    {
      "cell_type": "markdown",
      "metadata": {},
      "source": [
        "# Elastic strain result of reference Ansys Workbench\r\n"
      ]
    },
    {
      "cell_type": "code",
      "execution_count": null,
      "metadata": {
        "collapsed": false
      },
      "outputs": [],
      "source": [
        "# Strain from file dataSourceref\nstrainop_ref = dpf.operators.result.elastic_strain()\nstrainop_ref.inputs.data_sources.connect(data_sources_ref)\nstrain_ref = strainop_ref.outputs.fields_container()"
      ]
    },
    {
      "cell_type": "markdown",
      "metadata": {},
      "source": [
        "# Plot\r\n\r\nShow plots of extrapolation\\'s elastic strain result and reference\\'s\r\nelastic strain result\r\n"
      ]
    },
    {
      "cell_type": "code",
      "execution_count": null,
      "metadata": {
        "collapsed": false
      },
      "outputs": [],
      "source": [
        "# extrapolation\nfex_nodal_op = dpf.operators.averaging.elemental_nodal_to_nodal_fc()\nfex_nodal_op.inputs.fields_container.connect(fex)\nmesh.plot(fex_nodal_op.outputs.fields_container())\n# reference\nstrain_ref_nodal_op = dpf.operators.averaging.elemental_nodal_to_nodal_fc()\nstrain_ref_nodal_op.inputs.fields_container.connect(strain_ref)\nmesh.plot(strain_ref_nodal_op.outputs.fields_container())"
      ]
    },
    {
      "cell_type": "markdown",
      "metadata": {},
      "source": [
        "# Comparison\r\n\r\nCompare the elastic strain result computed by extrapolation and\r\nreference\\'s result. Check if the two fields containers are identical.\r\nThe relative tolerance is set to 1e-14. The smallest value that is to be\r\nconsidered during the comparison step : all the `abs(values)` in the\r\nfield less than 1e-2 are considered null.\r\n"
      ]
    },
    {
      "cell_type": "code",
      "execution_count": null,
      "metadata": {
        "collapsed": false
      },
      "outputs": [],
      "source": [
        "# operator AreFieldsIdentical_fc\nop = dpf.operators.logic.identical_fc()\nop.inputs.fields_containerA.connect(fex_nodal_op)\nop.inputs.fields_containerB.connect(strain_ref_nodal_op)\nop.inputs.tolerance.connect(1.0e-14)\nop.inputs.small_value.connect(0.01)\nprint(op.outputs.boolean())"
      ]
    },
    {
      "cell_type": "markdown",
      "metadata": {},
      "source": [
        "Compute absolute and relative errors\r\n"
      ]
    },
    {
      "cell_type": "code",
      "execution_count": null,
      "metadata": {
        "collapsed": false
      },
      "outputs": [],
      "source": [
        "abs_error_sqr = dpf.operators.math.sqr_fc()\nabs_error = dpf.operators.math.sqrt_fc()\nerror = strain_ref_nodal_op - fex_nodal_op\nabs_error_sqr.inputs.fields_container.connect(error)\nabs_error.inputs.fields_container.connect(abs_error_sqr)\n\ndivide = dpf.operators.math.component_wise_divide()\ndivide.inputs.fieldA.connect(strain_ref_nodal_op - fex_nodal_op)\ndivide.inputs.fieldB.connect(strain_ref_nodal_op)\nrel_error = dpf.operators.math.scale()\nrel_error.inputs.field.connect(divide)\nrel_error.inputs.ponderation.connect(1.0)"
      ]
    },
    {
      "cell_type": "markdown",
      "metadata": {},
      "source": [
        "Plot absolute and relative errors. The absolute value is the order of\r\n1e-13, which is very small when compared to the magnitude of 1e-5 of the\r\ndisplacements. This is reflected in the relative error plot, where the\r\nerrors are found to be below 1.1e-5%. The result of these plots can be\r\nused to set the tolerances for the\r\n`identical_fc <ansys.dpf.core.operators.logic.identical_fc>`{.interpreted-text\r\nrole=\"class\"} operator.\r\n"
      ]
    },
    {
      "cell_type": "code",
      "execution_count": null,
      "metadata": {
        "collapsed": false
      },
      "outputs": [],
      "source": [
        "mesh.plot(abs_error.eval(), scalar_bar_args={\"title\": \"Absolute error [mm]\"})\nmesh.plot(rel_error.eval(), scalar_bar_args={\"title\": \"Relative error [%]\"})"
      ]
    }
  ],
  "metadata": {
    "kernelspec": {
      "display_name": "Python 3",
      "language": "python",
      "name": "python3"
    },
    "language_info": {
      "codemirror_mode": {
        "name": "ipython",
        "version": 3
      },
      "file_extension": ".py",
      "mimetype": "text/x-python",
      "name": "python",
      "nbconvert_exporter": "python",
      "pygments_lexer": "ipython3",
      "version": "3.8.10"
    }
  },
  "nbformat": 4,
  "nbformat_minor": 0
}