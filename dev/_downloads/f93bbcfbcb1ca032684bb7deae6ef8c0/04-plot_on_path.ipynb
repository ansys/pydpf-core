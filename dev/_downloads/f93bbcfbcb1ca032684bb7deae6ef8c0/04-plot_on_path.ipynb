{
  "cells": [
    {
      "cell_type": "code",
      "execution_count": null,
      "metadata": {
        "collapsed": false
      },
      "outputs": [],
      "source": [
        "%matplotlib inline"
      ]
    },
    {
      "cell_type": "markdown",
      "metadata": {},
      "source": [
        "# Plot results on a specific path {#plot_on_path}\r\n\r\nThis example shows how to get a result mapped over a specific path and\r\nhow to plot it.\r\n\r\n::: note\r\n::: title\r\nNote\r\n:::\r\n\r\nThis example requires the Premium ServerContext. For more information,\r\nsee `user_guide_server_context`{.interpreted-text role=\"ref\"}.\r\n:::\r\n"
      ]
    },
    {
      "cell_type": "code",
      "execution_count": null,
      "metadata": {
        "collapsed": false
      },
      "outputs": [],
      "source": [
        "import matplotlib.pyplot as plt\n\nfrom ansys.dpf import core as dpf\nfrom ansys.dpf.core import examples\nfrom ansys.dpf.core import operators as ops\nfrom ansys.dpf.core.plotter import DpfPlotter\n\n\ndpf.set_default_server_context(dpf.AvailableServerContexts.premium)"
      ]
    },
    {
      "cell_type": "markdown",
      "metadata": {},
      "source": [
        "# Plot path\r\n\r\nUse the `ansys.dpf.core.plotter.DpfPlotter`{.interpreted-text\r\nrole=\"class\"} class to plot a mapped result over a defined path of\r\ncoordinates.\r\n"
      ]
    },
    {
      "cell_type": "code",
      "execution_count": null,
      "metadata": {
        "collapsed": false
      },
      "outputs": [],
      "source": [
        "# Create the model and request its mesh and displacement data.\nmodel = dpf.Model(examples.find_static_rst())\nmesh = model.metadata.meshed_region\nstress_fc = model.results.stress().eqv().eval()"
      ]
    },
    {
      "cell_type": "markdown",
      "metadata": {},
      "source": [
        "Create a coordinates field to map on.\r\n"
      ]
    },
    {
      "cell_type": "code",
      "execution_count": null,
      "metadata": {
        "collapsed": false
      },
      "outputs": [],
      "source": [
        "coordinates = [[0.024, 0.03, 0.003]]\ndelta = 0.001\nn_points = 51\nfor i in range(1, n_points):\n    coord_copy = coordinates[0].copy()\n    coord_copy[1] = coord_copy[0] + i * delta\n    coordinates.append(coord_copy)\nfield_coord = dpf.fields_factory.create_3d_vector_field(len(coordinates))\nfield_coord.data = coordinates\nfield_coord.scoping.ids = list(range(1, len(coordinates) + 1))"
      ]
    },
    {
      "cell_type": "markdown",
      "metadata": {},
      "source": [
        "Compute the mapped data using the mapping operator.\r\n"
      ]
    },
    {
      "cell_type": "code",
      "execution_count": null,
      "metadata": {
        "collapsed": false
      },
      "outputs": [],
      "source": [
        "mapping_operator = ops.mapping.on_coordinates(\n    fields_container=stress_fc, coordinates=field_coord, create_support=True, mesh=mesh\n)\nfields_mapped = mapping_operator.outputs.fields_container()"
      ]
    },
    {
      "cell_type": "markdown",
      "metadata": {},
      "source": [
        "Request the mapped field data and its mesh.\r\n"
      ]
    },
    {
      "cell_type": "code",
      "execution_count": null,
      "metadata": {
        "collapsed": false
      },
      "outputs": [],
      "source": [
        "field_m = fields_mapped[0]\nmesh_m = field_m.meshed_region"
      ]
    },
    {
      "cell_type": "markdown",
      "metadata": {},
      "source": [
        "Create the plotter and add fields and meshes.\r\n"
      ]
    },
    {
      "cell_type": "code",
      "execution_count": null,
      "metadata": {
        "collapsed": false
      },
      "outputs": [],
      "source": [
        "pl = DpfPlotter()\n\npl.add_field(field_m, mesh_m)\npl.add_mesh(mesh, style=\"surface\", show_edges=True, color=\"w\", opacity=0.3)\n\n# Plot the result.\npl.show_figure(show_axes=True)"
      ]
    },
    {
      "cell_type": "markdown",
      "metadata": {},
      "source": [
        "Plot the solution along the specified line. Note that since the line is\r\nonly moving along the y-axis, the stresses are plotted with respect to\r\nthe y coordinate.\r\n"
      ]
    },
    {
      "cell_type": "code",
      "execution_count": null,
      "metadata": {
        "collapsed": false
      },
      "outputs": [],
      "source": [
        "y_coords = [\n    mesh_m.nodes.coordinates_field.data[i][1] for i in range(mesh_m.nodes.n_nodes)\n]\nplt.plot(y_coords, field_m.data, \"r\")\nplt.xlabel(f\"y-coordinate [{mesh.unit}]\")\nplt.ylabel(f\"Stress [{field_m.unit}]\")\nplt.show()"
      ]
    }
  ],
  "metadata": {
    "kernelspec": {
      "display_name": "Python 3",
      "language": "python",
      "name": "python3"
    },
    "language_info": {
      "codemirror_mode": {
        "name": "ipython",
        "version": 3
      },
      "file_extension": ".py",
      "mimetype": "text/x-python",
      "name": "python",
      "nbconvert_exporter": "python",
      "pygments_lexer": "ipython3",
      "version": "3.8.10"
    }
  },
  "nbformat": 4,
  "nbformat_minor": 0
}