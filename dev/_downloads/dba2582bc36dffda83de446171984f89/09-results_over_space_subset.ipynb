{
  "cells": [
    {
      "cell_type": "code",
      "execution_count": null,
      "metadata": {
        "collapsed": false
      },
      "outputs": [],
      "source": [
        "%matplotlib inline"
      ]
    },
    {
      "cell_type": "markdown",
      "metadata": {},
      "source": [
        "# Scope results over custom space domains {#ref_results_over_space}\r\n\r\nThe `Result <ansys.dpf.core.results.Result>`{.interpreted-text\r\nrole=\"class\"} class, which are instances created by the\r\n`Model <ansys.dpf.core.model.Model>`{.interpreted-text role=\"class\"},\r\ngive access to helpers for requesting results on specific mesh and time\r\nscopings. With these helpers, working on a spatial subset of the model\r\nis straightforward. In this example, different ways to choose the\r\nspatial subset to evaluate a result are exposed\r\n\r\nImport necessary modules:\r\n"
      ]
    },
    {
      "cell_type": "code",
      "execution_count": null,
      "metadata": {
        "collapsed": false
      },
      "outputs": [],
      "source": [
        "from ansys.dpf import core as dpf\nfrom ansys.dpf.core import examples"
      ]
    },
    {
      "cell_type": "markdown",
      "metadata": {},
      "source": [
        "Create a model object to establish a connection with an example result\r\nfile:\r\n"
      ]
    },
    {
      "cell_type": "code",
      "execution_count": null,
      "metadata": {
        "collapsed": false
      },
      "outputs": [],
      "source": [
        "model = dpf.Model(examples.download_all_kinds_of_complexity())\nprint(model)"
      ]
    },
    {
      "cell_type": "markdown",
      "metadata": {},
      "source": [
        "# Choose specific nodes\r\n\r\nIf some nodes or elements are specifically of interest, a nodal\r\n`mesh_scoping` can be connected.\r\n"
      ]
    },
    {
      "cell_type": "code",
      "execution_count": null,
      "metadata": {
        "collapsed": false
      },
      "outputs": [],
      "source": [
        "nodes_scoping = dpf.mesh_scoping_factory.nodal_scoping(range(400, 500))\nprint(nodes_scoping)"
      ]
    },
    {
      "cell_type": "markdown",
      "metadata": {},
      "source": [
        "or\r\n"
      ]
    },
    {
      "cell_type": "code",
      "execution_count": null,
      "metadata": {
        "collapsed": false
      },
      "outputs": [],
      "source": [
        "nodes_scoping = dpf.Scoping(ids=range(400, 500), location=dpf.locations.nodal)\nprint(nodes_scoping)"
      ]
    },
    {
      "cell_type": "code",
      "execution_count": null,
      "metadata": {
        "collapsed": false
      },
      "outputs": [],
      "source": [
        "disp = model.results.displacement.on_mesh_scoping(nodes_scoping).eval()\n\nmodel.metadata.meshed_region.plot(disp)"
      ]
    },
    {
      "cell_type": "markdown",
      "metadata": {},
      "source": [
        "Equivalent to:\r\n"
      ]
    },
    {
      "cell_type": "code",
      "execution_count": null,
      "metadata": {
        "collapsed": false
      },
      "outputs": [],
      "source": [
        "disp_op = model.results.displacement()\ndisp_op.inputs.mesh_scoping(nodes_scoping)\ndisp = disp_op.outputs.fields_container()"
      ]
    },
    {
      "cell_type": "markdown",
      "metadata": {},
      "source": [
        "Equivalent to:\r\n"
      ]
    },
    {
      "cell_type": "code",
      "execution_count": null,
      "metadata": {
        "collapsed": false
      },
      "outputs": [],
      "source": [
        "disp = model.results.displacement(mesh_scoping=nodes_scoping).eval()"
      ]
    },
    {
      "cell_type": "markdown",
      "metadata": {},
      "source": [
        "# Choose specific elements\r\n\r\nIf some elements are specifically of interest, an elemental\r\n`mesh_scoping` can be connected.\r\n"
      ]
    },
    {
      "cell_type": "code",
      "execution_count": null,
      "metadata": {
        "collapsed": false
      },
      "outputs": [],
      "source": [
        "elements_scoping = dpf.mesh_scoping_factory.elemental_scoping(range(500, 5000))\nprint(elements_scoping)\n\n# or\nelements_scoping = dpf.Scoping(ids=range(500, 5000), location=dpf.locations.elemental)\nprint(elements_scoping)\n\nvolume = model.results.elemental_volume.on_mesh_scoping(elements_scoping).eval()\n\nmodel.metadata.meshed_region.plot(volume)"
      ]
    },
    {
      "cell_type": "markdown",
      "metadata": {},
      "source": [
        "Equivalent to:\r\n"
      ]
    },
    {
      "cell_type": "code",
      "execution_count": null,
      "metadata": {
        "collapsed": false
      },
      "outputs": [],
      "source": [
        "volume_op = model.results.elemental_volume()\nvolume_op.inputs.mesh_scoping(elements_scoping)\nvolume = volume_op.outputs.fields_container()"
      ]
    },
    {
      "cell_type": "markdown",
      "metadata": {},
      "source": [
        "Equivalent to:\r\n"
      ]
    },
    {
      "cell_type": "code",
      "execution_count": null,
      "metadata": {
        "collapsed": false
      },
      "outputs": [],
      "source": [
        "volume = model.results.elemental_volume(mesh_scoping=elements_scoping).eval()"
      ]
    },
    {
      "cell_type": "markdown",
      "metadata": {},
      "source": [
        "# Choose specific named selections\r\n\r\nNamed selections (also known as components) can be selected to create a\r\nspatial domain for a result. A `mesh_scoping` can be created with a\r\nnamed selection. To know the available named selections in the result\r\nfile, use:\r\n"
      ]
    },
    {
      "cell_type": "code",
      "execution_count": null,
      "metadata": {
        "collapsed": false
      },
      "outputs": [],
      "source": [
        "print(model.metadata.available_named_selections)"
      ]
    },
    {
      "cell_type": "markdown",
      "metadata": {},
      "source": [
        "Get the `mesh_scoping` of a named selection:\r\n"
      ]
    },
    {
      "cell_type": "code",
      "execution_count": null,
      "metadata": {
        "collapsed": false
      },
      "outputs": [],
      "source": [
        "mesh_scoping = model.metadata.named_selection(\"_CM82\")\nprint(mesh_scoping)"
      ]
    },
    {
      "cell_type": "markdown",
      "metadata": {},
      "source": [
        "Connect this `mesh_scoping` to the result provider\r\n"
      ]
    },
    {
      "cell_type": "code",
      "execution_count": null,
      "metadata": {
        "collapsed": false
      },
      "outputs": [],
      "source": [
        "volume = model.results.elemental_volume(mesh_scoping=mesh_scoping).eval()\nmodel.metadata.meshed_region.plot(volume)"
      ]
    },
    {
      "cell_type": "markdown",
      "metadata": {},
      "source": [
        "Equivalent to:\r\n"
      ]
    },
    {
      "cell_type": "code",
      "execution_count": null,
      "metadata": {
        "collapsed": false
      },
      "outputs": [],
      "source": [
        "volume = model.results.elemental_volume.on_named_selection(\"_CM82\")"
      ]
    },
    {
      "cell_type": "markdown",
      "metadata": {},
      "source": [
        "Equivalent to:\r\n"
      ]
    },
    {
      "cell_type": "code",
      "execution_count": null,
      "metadata": {
        "collapsed": false
      },
      "outputs": [],
      "source": [
        "ns_provider = dpf.operators.scoping.on_named_selection(\n    requested_location=dpf.locations.elemental,\n    named_selection_name=\"_CM82\",\n    data_sources=model,\n)\nvolume = model.results.elemental_volume(mesh_scoping=ns_provider).eval()"
      ]
    },
    {
      "cell_type": "markdown",
      "metadata": {},
      "source": [
        "# Split results depending on spatial properties\r\n\r\nFor many applications, it can be useful to request results on different\r\nsubsets of the model. The `ScopingsContainer` entity contains different\r\n`Scopings` and can be connected to any result provider to get results\r\nsplit with the same partition as the input `ScopingsContainer`. For\r\nexample, some application require to get results split by body, by\r\nmaterial, by element types. It might also be necessary to get results by\r\nelement shape types, such as shell, solid, or beam, to average data\r\nproperly. Customers might also require split by entirely custom spatial\r\ndomains.\r\n"
      ]
    },
    {
      "cell_type": "markdown",
      "metadata": {},
      "source": [
        "Split results by element shapes\r\n"
      ]
    },
    {
      "cell_type": "code",
      "execution_count": null,
      "metadata": {
        "collapsed": false
      },
      "outputs": [],
      "source": [
        "stress = model.results.stress.split_by_shape.on_location(dpf.locations.nodal).eval()\nprint(stress)\n\nshell_stresses = stress.shell_fields()\nmodel.metadata.meshed_region.plot(shell_stresses[0])\n\nsolid_stresses = stress.solid_fields()\nmodel.metadata.meshed_region.plot(solid_stresses[0])"
      ]
    },
    {
      "cell_type": "markdown",
      "metadata": {},
      "source": [
        "Split results by bodies\r\n"
      ]
    },
    {
      "cell_type": "code",
      "execution_count": null,
      "metadata": {
        "collapsed": false
      },
      "outputs": [],
      "source": [
        "stress = model.results.stress.split_by_body.on_location(dpf.locations.nodal).eval()\nprint(stress)\n\nfor body_id in stress.get_mat_scoping().ids:\n    fields = stress.get_fields_by_mat_id(body_id)\n    for field in fields:\n        if field.elementary_data_count > 0:\n            model.metadata.meshed_region.plot(field)"
      ]
    },
    {
      "cell_type": "markdown",
      "metadata": {},
      "source": [
        "Create a custom spatial split\r\n"
      ]
    },
    {
      "cell_type": "code",
      "execution_count": null,
      "metadata": {
        "collapsed": false
      },
      "outputs": [],
      "source": [
        "scopings_container = dpf.ScopingsContainer()\nscopings_container.add_label(\"custom_split\")\nscopings_container.add_scoping(\n    {\"custom_split\": 1},\n    dpf.Scoping(ids=range(100, 500), location=dpf.locations.elemental),\n)\nscopings_container.add_scoping(\n    {\"custom_split\": 2},\n    dpf.Scoping(ids=range(500, 5000), location=dpf.locations.elemental),\n)"
      ]
    },
    {
      "cell_type": "code",
      "execution_count": null,
      "metadata": {
        "collapsed": false
      },
      "outputs": [],
      "source": [
        "elemental_stress = model.results.stress.on_location(dpf.locations.elemental)(\n    mesh_scoping=scopings_container\n).eval()\nprint(elemental_stress)\n\nfor field in elemental_stress:\n    model.metadata.meshed_region.plot(field)"
      ]
    }
  ],
  "metadata": {
    "kernelspec": {
      "display_name": "Python 3",
      "language": "python",
      "name": "python3"
    },
    "language_info": {
      "codemirror_mode": {
        "name": "ipython",
        "version": 3
      },
      "file_extension": ".py",
      "mimetype": "text/x-python",
      "name": "python",
      "nbconvert_exporter": "python",
      "pygments_lexer": "ipython3",
      "version": "3.8.10"
    }
  },
  "nbformat": 4,
  "nbformat_minor": 0
}