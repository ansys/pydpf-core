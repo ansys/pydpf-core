{
  "cells": [
    {
      "cell_type": "code",
      "execution_count": null,
      "metadata": {
        "collapsed": false
      },
      "outputs": [],
      "source": [
        "%matplotlib inline"
      ]
    },
    {
      "cell_type": "markdown",
      "metadata": {},
      "source": [
        "# Average across bodies {#ref_average_across_bodies}\r\n\r\nThis example shows how to activate and deactivate the DPF option for\r\naveraging across bodies. When a multi-body simulation calculates\r\n`ElementalNodal` fields, like stresses or strains, you can either\r\nactivate or deactivate the averaging of these fields across the\r\ndifferent bodies when they share common nodes. This likely changes the\r\nend results that are shown after postprocessing of the simulation.\r\n\r\n::: note\r\n::: title\r\nNote\r\n:::\r\n\r\nThis example requires the Premium ServerContext. For more information,\r\nsee `user_guide_server_context`{.interpreted-text role=\"ref\"}.\r\n:::\r\n"
      ]
    },
    {
      "cell_type": "markdown",
      "metadata": {},
      "source": [
        "Perform the required imports.\r\n"
      ]
    },
    {
      "cell_type": "code",
      "execution_count": null,
      "metadata": {
        "collapsed": false
      },
      "outputs": [],
      "source": [
        "from ansys.dpf import core as dpf\nfrom ansys.dpf.core import operators as ops\nfrom ansys.dpf.core import examples\n\n\ndpf.set_default_server_context(dpf.AvailableServerContexts.premium)"
      ]
    },
    {
      "cell_type": "markdown",
      "metadata": {},
      "source": [
        "Load the simulation results from an RST file and create a model of it.\r\n"
      ]
    },
    {
      "cell_type": "code",
      "execution_count": null,
      "metadata": {
        "collapsed": false
      },
      "outputs": [],
      "source": [
        "analysis = examples.download_piston_rod()\nmodel = dpf.Model(analysis)\nprint(model)"
      ]
    },
    {
      "cell_type": "markdown",
      "metadata": {},
      "source": [
        "To take a look at the system to see how bodies are connected to each\r\nother, extract the mesh of the model and then divide it into different\r\nmeshes using the `split_mesh` operator.\r\n"
      ]
    },
    {
      "cell_type": "code",
      "execution_count": null,
      "metadata": {
        "collapsed": false
      },
      "outputs": [],
      "source": [
        "mesh = model.metadata.meshed_region\nsplit_mesh_op = ops.mesh.split_mesh(mesh=mesh, property=\"mat\")\nmeshes = split_mesh_op.outputs.meshes()\n\nmeshes.plot(text=\"Body meshes\")"
      ]
    },
    {
      "cell_type": "markdown",
      "metadata": {},
      "source": [
        "As you can see in the preceding image, even though the piston rod is one\r\nsingle part, it is composed of two different bodies. Additionally, you\r\ncan see that the region where the two bodies are bonded together\r\ncontains nodes that are common between them.\r\n"
      ]
    },
    {
      "cell_type": "markdown",
      "metadata": {},
      "source": [
        "# Averaging across bodies with DPF\r\n\r\nTo take a look at how the option for averaging across bodies alters the\r\nresults of the simulation, define two workflows. The first workflow does\r\naveraging across bodies, while the second workflow does not. The\r\nvariable of interest is the stress in the Z direction, which is obtained\r\nusing the \\\"stress_Z\\\" operator.\r\n"
      ]
    },
    {
      "cell_type": "markdown",
      "metadata": {},
      "source": [
        "::: graphviz\r\n\r\ndigraph foo {\r\n\r\n:   graph \\[pad=\\\"0\\\", nodesep=\\\"0.3\\\", ranksep=\\\"0.3\\\"\\] node\r\n    \\[shape=box, style=filled, fillcolor=\\\"#ffcc0\\\", margin=\\\"0\\\"\\];\r\n    rankdir=LR; splines=line; node \\[fixedsize=true,width=2.5\\] stress01\r\n    \\[label=\\\"stress_Z\\\"\\]; stress02 \\[label=\\\"stress_Z\\\"\\]; scp01\r\n    \\[label=\\\"split_on_property_type\\\"\\]; subgraph cluster_1 { ds01\r\n    \\[label=\\\"data_src\\\", shape=box, style=filled,\r\n    fillcolor=cadetblue2\\]; ds01 -\\> scp01 \\[style=dashed\\]; scp01 -\\>\r\n    stress01; label=\\\"Averaging across bodies = Off\\\"; style=filled;\r\n    fillcolor=lightgrey; } subgraph cluster_2 { ds02\r\n    \\[label=\\\"data_src\\\", shape=box, style=filled,\r\n    fillcolor=cadetblue2\\]; inv02 \\[style=invisible\\] ds02 -\\> stress02\r\n    \\[style=dashed\\]; stress02 -\\> inv02 \\[style=invis\\]\r\n    label=\\\"Averaging across bodies = On\\\"; style=filled;\r\n    fillcolor=lightgrey; }\r\n\r\n}\r\n:::\r\n"
      ]
    },
    {
      "cell_type": "markdown",
      "metadata": {},
      "source": [
        "# Averaging across bodies activated\r\n\r\nThe extraction of the stresses in the Z direction applies averaging\r\nacross bodies by default. Thus, you can use a simple workflow.\r\n"
      ]
    },
    {
      "cell_type": "code",
      "execution_count": null,
      "metadata": {
        "collapsed": false
      },
      "outputs": [],
      "source": [
        "def average_across_bodies(analysis):\n    # Extract the stresses in the Z direction (with the average\n    # across bodies property activated) and plot them.\n\n    # Create a model from the simulation results.\n    model = dpf.Model(analysis)\n    mesh = model.metadata.meshed_region\n\n    # Set the time set of interest to the last time set.\n    time_set = 3\n\n    # Extract the stresses in the Z direction. By default, DPF already applies\n    # averaging across bodies when extracting the stresses.\n    stress_op = ops.result.stress_Z()\n    stress_op.inputs.connect(model)\n    stress_op.inputs.time_scoping.connect(time_set)\n    stress_op.inputs.requested_location.connect(dpf.locations.nodal)\n    stresses = stress_op.outputs.fields_container()\n\n    # Find the maximum stress value.\n    min_max = dpf.operators.min_max.min_max_fc()\n    min_max.inputs.fields_container.connect(stresses)\n    max_val = min_max.outputs.field_max()\n\n    mesh.plot(stresses, text=\"Averaged across bodies\")\n\n    return max(max_val.data)"
      ]
    },
    {
      "cell_type": "markdown",
      "metadata": {},
      "source": [
        "# Averaging across bodies deactivated\r\n\r\nThe workflow is more complicated for extracting the stresses without\r\naveraging across the bodies of the simulated part. Instead of presenting\r\nthe workflow as a function, it is broken into various parts with\r\nexplanations of what is being done.\r\n"
      ]
    },
    {
      "cell_type": "markdown",
      "metadata": {},
      "source": [
        "Create a model from the simulation results and extract its mesh and step\r\ninformation.\r\n"
      ]
    },
    {
      "cell_type": "code",
      "execution_count": null,
      "metadata": {
        "collapsed": false
      },
      "outputs": [],
      "source": [
        "model = dpf.Model(analysis)\nmesh = model.metadata.meshed_region\ntime_freq = model.metadata.time_freq_support\ntime_sets = time_freq.time_frequencies.data.tolist()"
      ]
    },
    {
      "cell_type": "markdown",
      "metadata": {},
      "source": [
        "Split the meshes of the two bodies so that separate scopings can be\r\ncreated for each one of them. The [\\'mat\\']{.title-ref}\\` label is used\r\nto split the mesh by bodies.\r\n"
      ]
    },
    {
      "cell_type": "code",
      "execution_count": null,
      "metadata": {
        "collapsed": false
      },
      "outputs": [],
      "source": [
        "mesh_scop_op = ops.scoping.split_on_property_type(mesh=mesh, label1=\"mat\")\nmesh_scop_cont = mesh_scop_op.outputs.mesh_scoping()"
      ]
    },
    {
      "cell_type": "markdown",
      "metadata": {},
      "source": [
        "Given that there are three different time steps, create a scopings\r\ncontainer that contains the meshes of each of these time steps.\r\n"
      ]
    },
    {
      "cell_type": "code",
      "execution_count": null,
      "metadata": {
        "collapsed": false
      },
      "outputs": [],
      "source": [
        "scop_cont = dpf.ScopingsContainer()\nscop_cont.add_label(\"body\")\nscop_cont.add_label(\"time\")\nfor tset in time_sets:\n    body = 1\n    for mesh_scop in mesh_scop_cont:\n        scop_cont.add_scoping(\n            scoping=mesh_scop, label_space={\"body\": body, \"time\": int(tset)}\n        )\n        body += 1\nprint(scop_cont)"
      ]
    },
    {
      "cell_type": "markdown",
      "metadata": {},
      "source": [
        "The scopings container has six different scopings, one for each body\r\nover each of the three time steps.\r\n\r\nSet the time set of interest to the last time set.\r\n"
      ]
    },
    {
      "cell_type": "code",
      "execution_count": null,
      "metadata": {
        "collapsed": false
      },
      "outputs": [],
      "source": [
        "time_set = 3"
      ]
    },
    {
      "cell_type": "markdown",
      "metadata": {},
      "source": [
        "To retrieve the Z stresses without averaging across the two bodies, you\r\nmust pass a scopings container that contains their respective meshes as\r\na parameter to the `stress_Z` operator. To do this, create a scopings\r\ncontainer that contains the meshes of the two bodies in the desired time\r\nstep.\r\n"
      ]
    },
    {
      "cell_type": "code",
      "execution_count": null,
      "metadata": {
        "collapsed": false
      },
      "outputs": [],
      "source": [
        "scop_list = scop_cont.get_scopings(label_space={\"time\": time_set})\nscopings = dpf.ScopingsContainer()\nscopings.add_label(\"body\")\nbody = 1\nfor scop in scop_list:\n    scopings.add_scoping(label_space={\"body\": body}, scoping=scop)\n    body += 1\nprint(scopings)"
      ]
    },
    {
      "cell_type": "markdown",
      "metadata": {},
      "source": [
        "This contain has only two scopings, one for each body in the last time\r\nstep.\r\n"
      ]
    },
    {
      "cell_type": "markdown",
      "metadata": {},
      "source": [
        "Extract the stresses in the Z direction.\r\n"
      ]
    },
    {
      "cell_type": "code",
      "execution_count": null,
      "metadata": {
        "collapsed": false
      },
      "outputs": [],
      "source": [
        "stress_op = ops.result.stress_Z()\nstress_op.inputs.connect(model)\nstress_op.inputs.time_scoping.connect(time_set)\nstress_op.inputs.mesh_scoping.connect(\n    scopings\n)  # This option deactivates averaging across bodies.\nstress_op.inputs.requested_location.connect(dpf.locations.nodal)\nstresses = stress_op.outputs.fields_container()\nprint(stresses)"
      ]
    },
    {
      "cell_type": "markdown",
      "metadata": {},
      "source": [
        "Find the maximum value of the stress field for comparison purposes.\r\n"
      ]
    },
    {
      "cell_type": "code",
      "execution_count": null,
      "metadata": {
        "collapsed": false
      },
      "outputs": [],
      "source": [
        "min_max = dpf.operators.min_max.min_max_fc()\nmin_max.inputs.fields_container.connect(stresses)\nmax_val = min_max.outputs.field_max()"
      ]
    },
    {
      "cell_type": "markdown",
      "metadata": {},
      "source": [
        "Define the preceding workflow as a function:\r\n"
      ]
    },
    {
      "cell_type": "code",
      "execution_count": null,
      "metadata": {
        "collapsed": false
      },
      "outputs": [],
      "source": [
        "def not_average_across_bodies(analysis):\n    # This function extracts the stresses in the Z direction (with the average\n    # across bodies option deactivated) and plot them.\n\n    model = dpf.Model(analysis)\n    mesh = model.metadata.meshed_region\n\n    time_freq = model.metadata.time_freq_support\n    time_sets = time_freq.time_frequencies.data.tolist()\n\n    mesh_scop_op = ops.scoping.split_on_property_type(mesh=mesh, label1=\"mat\")\n    mesh_scop_cont = mesh_scop_op.outputs.mesh_scoping()\n\n    scop_cont = dpf.ScopingsContainer()\n    scop_cont.add_label(\"body\")\n    scop_cont.add_label(\"time\")\n    for tset in time_sets:\n        body = 1\n        for mesh_scop in mesh_scop_cont:\n            scop_cont.add_scoping(\n                scoping=mesh_scop, label_space={\"body\": body, \"time\": int(tset)}\n            )\n            body += 1\n\n    time_set = 3\n\n    scop_list = scop_cont.get_scopings(label_space={\"time\": time_set})\n    scopings = dpf.ScopingsContainer()\n    scopings.add_label(\"body\")\n    body = 1\n    for scop in scop_list:\n        scopings.add_scoping(label_space={\"body\": body}, scoping=scop)\n        body += 1\n\n    stress_op = ops.result.stress_Z()\n    stress_op.inputs.connect(model)\n    stress_op.inputs.time_scoping.connect(time_set)\n    stress_op.inputs.mesh_scoping.connect(scopings)\n    stress_op.inputs.requested_location.connect(dpf.locations.nodal)\n    stresses = stress_op.outputs.fields_container()\n\n    min_max = dpf.operators.min_max.min_max_fc()\n    min_max.inputs.fields_container.connect(stresses)\n    max_val = min_max.outputs.field_max()\n\n    meshes.plot(stresses, text=\"Not averaged across bodies\")\n\n    return max(max_val.data)"
      ]
    },
    {
      "cell_type": "markdown",
      "metadata": {},
      "source": [
        "# Plot and compare the results\r\n\r\nPlot and compare the results. The first plot shows the stress\r\ndistribution when averaging across bodies is activated. The second plot\r\nshows the stress distribution when averaging across bodies is\r\ndeactivated.\r\n"
      ]
    },
    {
      "cell_type": "code",
      "execution_count": null,
      "metadata": {
        "collapsed": false
      },
      "outputs": [],
      "source": [
        "max_avg_on = average_across_bodies(analysis)\nmax_avg_off = not_average_across_bodies(analysis)"
      ]
    },
    {
      "cell_type": "code",
      "execution_count": null,
      "metadata": {
        "collapsed": false
      },
      "outputs": [],
      "source": [
        "diff = abs(max_avg_on - max_avg_off) / max_avg_off * 100\nprint(\n    \"Max stress when averaging across bodies is activated: {:.2f} Pa\".format(max_avg_on)\n)\nprint(\n    \"Max stress when averaging across bodies is deactivated: {:.2f} Pa\".format(\n        max_avg_off\n    )\n)\nprint(\n    \"The maximum stress value when averaging across bodies is ACTIVATED \\\nis {:.2f}% LOWER than when it is DEACTIVATED\".format(\n        diff\n    )\n)"
      ]
    }
  ],
  "metadata": {
    "kernelspec": {
      "display_name": "Python 3",
      "language": "python",
      "name": "python3"
    },
    "language_info": {
      "codemirror_mode": {
        "name": "ipython",
        "version": 3
      },
      "file_extension": ".py",
      "mimetype": "text/x-python",
      "name": "python",
      "nbconvert_exporter": "python",
      "pygments_lexer": "ipython3",
      "version": "3.8.10"
    }
  },
  "nbformat": 4,
  "nbformat_minor": 0
}