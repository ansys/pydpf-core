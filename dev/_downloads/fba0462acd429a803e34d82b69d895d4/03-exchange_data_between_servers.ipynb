{
  "cells": [
    {
      "cell_type": "code",
      "execution_count": null,
      "metadata": {
        "collapsed": false
      },
      "outputs": [],
      "source": [
        "%matplotlib inline"
      ]
    },
    {
      "cell_type": "markdown",
      "metadata": {},
      "source": [
        "# Exchange data between servers {#ref_exchange_data_between_servers.}\r\n\r\nIn this example, two DPF servers are started, and a workflow is created\r\nwith a part on both servers. This example shows how you can read data\r\nfrom a given machine and transform this data on another machine without\r\nany more difficulties than working on a local computer.\r\n\r\n::: note\r\n::: title\r\nNote\r\n:::\r\n\r\nThis example requires the Premium ServerContext. For more information,\r\nsee `user_guide_server_context`{.interpreted-text role=\"ref\"}.\r\n:::\r\n"
      ]
    },
    {
      "cell_type": "code",
      "execution_count": null,
      "metadata": {
        "collapsed": false
      },
      "outputs": [],
      "source": [
        "from ansys.dpf import core as dpf\nfrom ansys.dpf.core import examples\nfrom ansys.dpf.core import operators as ops\n\n\ndpf.set_default_server_context(dpf.AvailableServerContexts.premium)"
      ]
    },
    {
      "cell_type": "markdown",
      "metadata": {},
      "source": [
        "# Create two servers\r\n\r\nUse the\r\n`start_local_server() <ansys.dpf.core.server.start_local_server>`{.interpreted-text\r\nrole=\"func\"} method to start two servers on your local machine. If you\r\nhave another server, you can use the\r\n`connect_to_server() <ansys.dpf.core.server.connect_to_server>`{.interpreted-text\r\nrole=\"func\"} method to connect to any DPF server on your network.\r\n\r\nThe `as_global` attributes allows you to choose whether a server is\r\nstored by the module and used by default. This example sets the first\r\nserver as the default.\r\n"
      ]
    },
    {
      "cell_type": "code",
      "execution_count": null,
      "metadata": {
        "collapsed": false
      },
      "outputs": [],
      "source": [
        "server1 = dpf.start_local_server(\n    as_global=True, config=dpf.AvailableServerConfigs.GrpcServer\n)\nserver2 = dpf.start_local_server(\n    as_global=False, config=dpf.AvailableServerConfigs.GrpcServer\n)\n\n# Check that the two servers are listening on different ports.\nprint(\n    server1.port if hasattr(server1, \"port\") else \"\",\n    server2.port if hasattr(server2, \"port\") else \"\",\n)"
      ]
    },
    {
      "cell_type": "markdown",
      "metadata": {},
      "source": [
        "# Send the result file\r\n\r\nThe result file is sent to the temporary directory of the first server.\r\nThis file upload is useless in this case because the two servers are\r\nlocal machines.\r\n"
      ]
    },
    {
      "cell_type": "code",
      "execution_count": null,
      "metadata": {
        "collapsed": false
      },
      "outputs": [],
      "source": [
        "file_path_in_tmp = examples.find_complex_rst(server=server1)"
      ]
    },
    {
      "cell_type": "markdown",
      "metadata": {},
      "source": [
        "# Create a workflow on the first server\r\n\r\nCreate the model\r\n"
      ]
    },
    {
      "cell_type": "code",
      "execution_count": null,
      "metadata": {
        "collapsed": false
      },
      "outputs": [],
      "source": [
        "model = dpf.Model(file_path_in_tmp)\n\n# Read displacement\ndisp = model.results.displacement()\ndisp.inputs.time_scoping(len(model.metadata.time_freq_support.time_frequencies))"
      ]
    },
    {
      "cell_type": "markdown",
      "metadata": {},
      "source": [
        "# Create a workflow on the second server\r\n"
      ]
    },
    {
      "cell_type": "code",
      "execution_count": null,
      "metadata": {
        "collapsed": false
      },
      "outputs": [],
      "source": [
        "# Change the Cartesian coordinates to cylindrical coordinates cs\ncoordinates = ops.geo.rotate_in_cylindrical_cs_fc(server=server2)\n\n# Create the Cartesian coordinate cs\ncs = dpf.fields_factory.create_scalar_field(12, server=server2)\ncs.data = [1, 0, 0, 0, 1, 0, 0, 0, 1, 0, 0, 0]\n\ncoordinates.inputs.coordinate_system(cs)\n\n# Choose the radial component to plot\ncomp = dpf.operators.logic.component_selector_fc(coordinates, 0, server=server2)"
      ]
    },
    {
      "cell_type": "markdown",
      "metadata": {},
      "source": [
        "# Pass data from one server to another\r\n"
      ]
    },
    {
      "cell_type": "code",
      "execution_count": null,
      "metadata": {
        "collapsed": false
      },
      "outputs": [],
      "source": [
        "fc_disp = disp.outputs.fields_container()\nfc_copy = fc_disp.deep_copy(server=server2)\n\nmesh_copy = model.metadata.meshed_region.deep_copy(server=server2)\n# give a mesh to the field\nfc_copy[0].meshed_region = mesh_copy\nfc_copy[1].meshed_region = mesh_copy\n\ncoordinates.inputs.field(fc_copy)"
      ]
    },
    {
      "cell_type": "markdown",
      "metadata": {},
      "source": [
        "# Plot the output\r\n"
      ]
    },
    {
      "cell_type": "code",
      "execution_count": null,
      "metadata": {
        "collapsed": false
      },
      "outputs": [],
      "source": [
        "out = comp.outputs.fields_container()\n\n# real part\nmesh_copy.plot(out.get_field({\"complex\": 0}))\n\n# imaginary part\nmesh_copy.plot(out.get_field({\"complex\": 1}))"
      ]
    }
  ],
  "metadata": {
    "kernelspec": {
      "display_name": "Python 3",
      "language": "python",
      "name": "python3"
    },
    "language_info": {
      "codemirror_mode": {
        "name": "ipython",
        "version": 3
      },
      "file_extension": ".py",
      "mimetype": "text/x-python",
      "name": "python",
      "nbconvert_exporter": "python",
      "pygments_lexer": "ipython3",
      "version": "3.8.10"
    }
  },
  "nbformat": 4,
  "nbformat_minor": 0
}