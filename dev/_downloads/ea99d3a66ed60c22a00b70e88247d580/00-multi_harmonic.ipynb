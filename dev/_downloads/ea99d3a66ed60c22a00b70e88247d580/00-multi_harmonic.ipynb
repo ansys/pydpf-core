{
  "cells": [
    {
      "cell_type": "code",
      "execution_count": null,
      "metadata": {
        "collapsed": false
      },
      "outputs": [],
      "source": [
        "%matplotlib inline"
      ]
    },
    {
      "cell_type": "markdown",
      "metadata": {},
      "source": [
        "# Multi-harmonic response example {#ref_basic_harmonic}\r\n\r\nThis example shows how to compute a multi-harmonic response using `fft`\r\ntransformations.\r\n\r\n::: note\r\n::: title\r\nNote\r\n:::\r\n\r\nThis example requires the Premium ServerContext. For more information,\r\nsee `user_guide_server_context`{.interpreted-text role=\"ref\"}.\r\n:::\r\n"
      ]
    },
    {
      "cell_type": "code",
      "execution_count": null,
      "metadata": {
        "collapsed": false
      },
      "outputs": [],
      "source": [
        "import matplotlib.pyplot as pyplot\n\nfrom ansys.dpf import core as dpf\nfrom ansys.dpf.core import examples\nfrom ansys.dpf.core import operators as ops\n\n\ndpf.set_default_server_context(dpf.AvailableServerContexts.premium)"
      ]
    },
    {
      "cell_type": "markdown",
      "metadata": {},
      "source": [
        "Begin by downloading the example harmonic result. This result is not\r\nincluded in the core module by default to speed up the install. Download\r\nshould only take a few seconds.\r\n\r\nNext, create the model and display the state of the result. This\r\nharmonic result file contains several RPMs, and each RPM has several\r\nfrequencies.\r\n"
      ]
    },
    {
      "cell_type": "code",
      "execution_count": null,
      "metadata": {
        "collapsed": false
      },
      "outputs": [],
      "source": [
        "# The size of this file is 66 MB. Downloading it might take some time.\nharmonic = examples.download_multi_harmonic_result()\nmodel = dpf.Model(harmonic)\nprint(model)"
      ]
    },
    {
      "cell_type": "markdown",
      "metadata": {},
      "source": [
        "Read the analysis domain support\r\n"
      ]
    },
    {
      "cell_type": "code",
      "execution_count": null,
      "metadata": {
        "collapsed": false
      },
      "outputs": [],
      "source": [
        "tf = model.metadata.time_freq_support\nprint(\"Number of solution sets\", tf.n_sets)"
      ]
    },
    {
      "cell_type": "markdown",
      "metadata": {},
      "source": [
        "# Compute multi-harmonic response\r\n\r\nThis example computes the Rz multi-harmonic responses based on selected\r\nnodes and a set of EOs (engine orders).\r\n"
      ]
    },
    {
      "cell_type": "code",
      "execution_count": null,
      "metadata": {
        "collapsed": false
      },
      "outputs": [],
      "source": [
        "# Create a total displacement operator and set its time scoping to\n# the entire time frequency support and its nodes scoping to user-defined nodes.\ndisp_op = ops.result.raw_displacement(data_sources=model)\ntime_ids = list(range(1, model.metadata.time_freq_support.n_sets + 1))\n\n# Define nodal scoping\nnodes = dpf.Scoping()\nnodes.ids = [2, 18]\n\n# Connect the frequencies and the nodes scopings to the result\n# provider operator.\ndisp_op.inputs.mesh_scoping.connect(nodes)\ndisp_op.inputs.time_scoping.connect(time_ids)\n\n# Extract the Rz component using the component selector operator.\ncomp = dpf.Operator(\"component_selector_fc\")\ncomp.inputs.connect(disp_op.outputs)\ncomp.inputs.component_number.connect(5)\n\n# Compute the multi-harmonic response based on Rz and a set of RPMs.\nrpms = dpf.Scoping()\nrpms.ids = [1, 2, 3]\n\nfft = ops.math.fft_multi_harmonic_minmax()\n\nfft.inputs.connect(comp.outputs)\nfft.inputs.rpm_scoping.connect(rpms)\n\nfields = fft.outputs.field_max()\nlen(fields)  # one multi-harmonic field response per node\n\nfield1 = fields[0]\nfield2 = fields[1]"
      ]
    },
    {
      "cell_type": "markdown",
      "metadata": {},
      "source": [
        "Plot the minimum and maximum displacements over time.\r\n"
      ]
    },
    {
      "cell_type": "code",
      "execution_count": null,
      "metadata": {
        "collapsed": false
      },
      "outputs": [],
      "source": [
        "pyplot.plot(field1.data, \"r\", label=\"Field 1\")\npyplot.plot(field2.data, \"b\", label=\"Field 2\")\npyplot.xlabel(\"Frequency (Hz)\")\npyplot.ylabel(\"Displacement (m)\")\npyplot.legend()\npyplot.show()"
      ]
    }
  ],
  "metadata": {
    "kernelspec": {
      "display_name": "Python 3",
      "language": "python",
      "name": "python3"
    },
    "language_info": {
      "codemirror_mode": {
        "name": "ipython",
        "version": 3
      },
      "file_extension": ".py",
      "mimetype": "text/x-python",
      "name": "python",
      "nbconvert_exporter": "python",
      "pygments_lexer": "ipython3",
      "version": "3.8.10"
    }
  },
  "nbformat": 4,
  "nbformat_minor": 0
}