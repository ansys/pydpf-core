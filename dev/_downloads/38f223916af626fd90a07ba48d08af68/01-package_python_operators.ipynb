{
  "cells": [
    {
      "cell_type": "code",
      "execution_count": null,
      "metadata": {
        "collapsed": false
      },
      "outputs": [],
      "source": [
        "%matplotlib inline"
      ]
    },
    {
      "cell_type": "markdown",
      "metadata": {},
      "source": [
        "# Create a plug-in package with multiple operators {#ref_python_plugin_package}\r\n\r\nThis example shows how to create a plug-in package with multiple\r\noperators. The benefits of writing a package rather than simple scripts\r\nare:\r\n\r\n-   **Componentization:** You can split the code into several Python\r\n    modules or files.\r\n-   **Distribution:** You can use standard Python tools to upload and\r\n    download packages.\r\n-   **Documentation:** You can add README files, documentation, tests,\r\n    and examples to the package.\r\n\r\nFor this example, the plug-in package contains two different operators:\r\n\r\n-   One that returns all scoping IDs having data higher than the average\r\n-   One that returns all scoping IDs having data lower than the average\r\n\r\n::: note\r\n::: title\r\nNote\r\n:::\r\n\r\nThis example requires the Premium ServerContext. For more information,\r\nsee `user_guide_server_context`{.interpreted-text role=\"ref\"}.\r\n:::\r\n"
      ]
    },
    {
      "cell_type": "markdown",
      "metadata": {},
      "source": [
        "# Create the plug-in package\r\n\r\nEach operator implementation derives from the\r\n`ansys.dpf.core.custom_operator.CustomOperatorBase`{.interpreted-text\r\nrole=\"class\"} class and a call to the\r\n:py`ansys.dpf.core.custom_operator.record_operator`{.interpreted-text\r\nrole=\"func\"} method, which records the operators of the plug-in package.\r\n\r\nDownload the `average_filter_plugin` plug-in package that has already\r\nbeen created for you.\r\n"
      ]
    },
    {
      "cell_type": "code",
      "execution_count": null,
      "metadata": {
        "collapsed": false
      },
      "outputs": [],
      "source": [
        "import os\n\nfrom ansys.dpf.core import examples\nfrom ansys.dpf import core as dpf\n\n\ndpf.set_default_server_context(dpf.AvailableServerContexts.premium)\n\nprint(\"\\033[1m average_filter_plugin\")\nfile_list = [\"__init__.py\", \"operators.py\", \"operators_loader.py\", \"common.py\"]\nplugin_folder = None\nGITHUB_SOURCE_URL = (\n    \"https://github.com/pyansys/pydpf-core/raw/\"\n    \"examples/first_python_plugins/python_plugins/average_filter_plugin\"\n)\n\nfor file in file_list:\n    EXAMPLE_FILE = GITHUB_SOURCE_URL + \"/average_filter_plugin/\" + file\n    operator_file_path = examples.downloads._retrieve_file(\n        EXAMPLE_FILE, file, \"python_plugins/average_filter_plugin\"\n    )\n    plugin_folder = os.path.dirname(operator_file_path)\n    print(f\"\\033[1m {file}:\\n \\033[0m\")\n    with open(operator_file_path, \"r\") as f:\n        for line in f.readlines():\n            print(\"\\t\\t\\t\" + line)\n    print(\"\\n\\n\")"
      ]
    },
    {
      "cell_type": "markdown",
      "metadata": {},
      "source": [
        "# Load the plug-in package\r\n\r\nYou use the function\r\n:py`ansys.dpf.core.core.load_library`{.interpreted-text role=\"func\"} to\r\nload the plug-in package.\r\n\r\n-   The first argument is the path to the directory where the plug-in\r\n    package is located.\r\n-   The second argument is `py_<package>`, where `<package>` is the name\r\n    identifying the plug-in package.\r\n-   The third argument is the name of the function exposed in the\r\n    `__init__` file for the plug-in package that is used to record\r\n    operators.\r\n"
      ]
    },
    {
      "cell_type": "code",
      "execution_count": null,
      "metadata": {
        "collapsed": false
      },
      "outputs": [],
      "source": [
        "import os\n\nfrom ansys.dpf import core as dpf\nfrom ansys.dpf.core import examples\n\n# Python plugins are not supported in process.\ndpf.start_local_server(config=dpf.AvailableServerConfigs.GrpcServer)\n\ntmp = dpf.make_tmp_dir_server()\ndpf.upload_files_in_folder(\n    dpf.path_utilities.join(tmp, \"average_filter_plugin\"), plugin_folder\n)\ndpf.load_library(\n    os.path.join(dpf.path_utilities.join(tmp, \"average_filter_plugin\")),\n    \"py_average_filter\",\n    \"load_operators\",\n)"
      ]
    },
    {
      "cell_type": "markdown",
      "metadata": {},
      "source": [
        "Instantiate the operator.\r\n"
      ]
    },
    {
      "cell_type": "code",
      "execution_count": null,
      "metadata": {
        "collapsed": false
      },
      "outputs": [],
      "source": [
        "new_operator = dpf.Operator(\"ids_with_data_lower_than_average\")"
      ]
    },
    {
      "cell_type": "markdown",
      "metadata": {},
      "source": [
        "# Connect a workflow\r\n\r\nConnect a workflow that computes the norm of the displacement to the\r\n`ids_with_data_lower_than_average` operator. Methods of the\r\n`ids_with_data_lower_than_average` class are dynamically added because\r\nspecifications for the operator are defined in the plug-in package.\r\n"
      ]
    },
    {
      "cell_type": "markdown",
      "metadata": {},
      "source": [
        "::: graphviz\r\n\r\ndigraph foo {\r\n\r\n:   graph \\[pad=\\\"0.5\\\", nodesep=\\\"0.3\\\", ranksep=\\\"0.3\\\"\\] node\r\n    \\[shape=box, style=filled, fillcolor=\\\"#ffcc00\\\", margin=\\\"0\\\"\\];\r\n    rankdir=LR; splines=line; ds \\[label=\\\"ds\\\", shape=box,\r\n    style=filled, fillcolor=cadetblue2\\]; ds -\\> displacement\r\n    \\[style=dashed\\]; displacement -\\> norm; norm -\\>\r\n    ids_with_data_lower_than_average;\r\n\r\n}\r\n:::\r\n"
      ]
    },
    {
      "cell_type": "markdown",
      "metadata": {},
      "source": [
        "# Use the operator\r\n"
      ]
    },
    {
      "cell_type": "code",
      "execution_count": null,
      "metadata": {
        "collapsed": false
      },
      "outputs": [],
      "source": [
        "ds = dpf.DataSources(dpf.upload_file_in_tmp_folder(examples.find_static_rst()))\ndisplacement = dpf.operators.result.displacement(data_sources=ds)\nnorm = dpf.operators.math.norm(displacement)\nnew_operator.inputs.connect(norm)\n\n\nnew_scoping = new_operator.outputs.scoping()\nprint(\"scoping in was:\", norm.outputs.field().scoping)\nprint(\"----------------------------------------------\")\nprint(\"scoping out is:\", new_scoping)"
      ]
    }
  ],
  "metadata": {
    "kernelspec": {
      "display_name": "Python 3",
      "language": "python",
      "name": "python3"
    },
    "language_info": {
      "codemirror_mode": {
        "name": "ipython",
        "version": 3
      },
      "file_extension": ".py",
      "mimetype": "text/x-python",
      "name": "python",
      "nbconvert_exporter": "python",
      "pygments_lexer": "ipython3",
      "version": "3.8.10"
    }
  },
  "nbformat": 4,
  "nbformat_minor": 0
}