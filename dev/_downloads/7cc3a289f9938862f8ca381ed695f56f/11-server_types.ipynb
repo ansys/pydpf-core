{
  "cells": [
    {
      "cell_type": "code",
      "execution_count": null,
      "metadata": {
        "collapsed": false
      },
      "outputs": [],
      "source": [
        "%matplotlib inline"
      ]
    },
    {
      "cell_type": "markdown",
      "metadata": {},
      "source": [
        "# Communicate in process or via gRPC {#ref_server_types_example}\r\n\r\nStarting with Ansys 2022 R2, PyDPF can communicate either via In Process\r\nor via gRPC with DPF C++ core server (`Ans.Dpf.Grpc.exe`). To choose\r\nwhich type of `ansys.dpf.core.server_types.BaseServer`{.interpreted-text\r\nrole=\"class\"} (object defining the type of communication and the server\r\ninstance to communicate with) to use, a\r\n`ansys.dpf.core.server_factory.ServerConfig`{.interpreted-text\r\nrole=\"class\"} class should be used. Until Ansys 2022R1, only gRPC\r\ncommunication using python module `ansys.grpc.dpf` is supported (now\r\ncalled `ansys.dpf.core.server_types.LegacyGrpcServer`{.interpreted-text\r\nrole=\"class\"}), starting with Ansys 2022 R2, three types of servers are\r\nsupported:\r\n\r\n-   `ansys.dpf.core.server_types.InProcessServer`{.interpreted-text\r\n    role=\"class\"} loading DPF in process.\r\n-   `ansys.dpf.core.server_types.GrpcServer`{.interpreted-text\r\n    role=\"class\"} using gRPC communication through the DPF gRPC CLayer\r\n    `Ans.Dpf.GrpcClient`.\r\n-   `ansys.dpf.core.server_types.LegacyGrpcServer`{.interpreted-text\r\n    role=\"class\"} using gRPC communication through the Python module\r\n    `ansys.grpc.dpf`.\r\n\r\nTo change the default type of server\\'s configuration used by DPF\r\nchange:\r\n\r\n-   the global variable `SERVER_CONFIGURATION` at the beginning of the\r\n    python script.\r\n-   the environment variable `DPF_SERVER_TYPE` before running the python\r\n    executable, see\r\n    `ansys.dpf.core.server_factory.ServerConfig`{.interpreted-text\r\n    role=\"class\"} for more information.\r\n"
      ]
    },
    {
      "cell_type": "code",
      "execution_count": null,
      "metadata": {
        "collapsed": false
      },
      "outputs": [],
      "source": [
        "from ansys.dpf import core as dpf"
      ]
    },
    {
      "cell_type": "markdown",
      "metadata": {},
      "source": [
        "# Start servers with custom server configuration\r\n"
      ]
    },
    {
      "cell_type": "code",
      "execution_count": null,
      "metadata": {
        "collapsed": false
      },
      "outputs": [],
      "source": [
        "in_process_config = dpf.AvailableServerConfigs.InProcessServer\ngrpc_config = dpf.AvailableServerConfigs.GrpcServer\nlegacy_grpc_config = dpf.AvailableServerConfigs.LegacyGrpcServer\n\nin_process_server = dpf.start_local_server(config=in_process_config)\ngrpc_server = dpf.start_local_server(config=grpc_config)\nlegacy_grpc_server = dpf.start_local_server(config=legacy_grpc_config)"
      ]
    },
    {
      "cell_type": "markdown",
      "metadata": {},
      "source": [
        "Equivalent to:\r\n"
      ]
    },
    {
      "cell_type": "code",
      "execution_count": null,
      "metadata": {
        "collapsed": false
      },
      "outputs": [],
      "source": [
        "in_process_config = dpf.ServerConfig(protocol=None, legacy=False)\ngrpc_config = dpf.ServerConfig(\n    protocol=dpf.server_factory.CommunicationProtocols.gRPC, legacy=False\n)\nlegacy_grpc_config = dpf.ServerConfig(\n    protocol=dpf.server_factory.CommunicationProtocols.gRPC, legacy=True\n)\n\nin_process_server = dpf.start_local_server(config=in_process_config, as_global=False)\ngrpc_server = dpf.start_local_server(config=grpc_config, as_global=False)\nlegacy_grpc_server = dpf.start_local_server(config=legacy_grpc_config, as_global=False)"
      ]
    },
    {
      "cell_type": "markdown",
      "metadata": {},
      "source": [
        "# Create data on different servers\r\n"
      ]
    },
    {
      "cell_type": "code",
      "execution_count": null,
      "metadata": {
        "collapsed": false
      },
      "outputs": [],
      "source": [
        "in_process_field = dpf.fields_factory.create_scalar_field(2, server=in_process_server)\nin_process_field.append([1.0], 1)\nin_process_field.append([2.0], 2)\ngrpc_field = dpf.fields_factory.create_scalar_field(2, server=grpc_server)\ngrpc_field.append([1.0], 1)\ngrpc_field.append([2.0], 2)\nlegacy_grpc_field = dpf.fields_factory.create_scalar_field(2, server=legacy_grpc_server)\nlegacy_grpc_field.append([1.0], 1)\nlegacy_grpc_field.append([2.0], 2)\n\nprint(in_process_field, type(in_process_field._server), in_process_field._server)\nprint(grpc_field, type(grpc_field._server), grpc_field._server)\nprint(legacy_grpc_field, type(legacy_grpc_field._server), legacy_grpc_field._server)"
      ]
    },
    {
      "cell_type": "markdown",
      "metadata": {},
      "source": [
        "# Choose default configuration\r\n\r\nOnce a default configuration is chosen, a server of the chosen type is\r\nautomatically started when a DPF object is created:\r\n"
      ]
    },
    {
      "cell_type": "code",
      "execution_count": null,
      "metadata": {
        "collapsed": false
      },
      "outputs": [],
      "source": [
        "initial_config = dpf.SERVER_CONFIGURATION\n\ndpf.SERVER_CONFIGURATION = dpf.AvailableServerConfigs.GrpcServer\ngrpc_field = dpf.fields_factory.create_scalar_field(2)\ngrpc_field.append([1.0], 1)\ngrpc_field.append([2.0], 2)\nprint(grpc_field, type(grpc_field._server), grpc_field._server)\n\n# Go back to default config:\ndpf.SERVER_CONFIGURATION = initial_config"
      ]
    }
  ],
  "metadata": {
    "kernelspec": {
      "display_name": "Python 3",
      "language": "python",
      "name": "python3"
    },
    "language_info": {
      "codemirror_mode": {
        "name": "ipython",
        "version": 3
      },
      "file_extension": ".py",
      "mimetype": "text/x-python",
      "name": "python",
      "nbconvert_exporter": "python",
      "pygments_lexer": "ipython3",
      "version": "3.8.10"
    }
  },
  "nbformat": 4,
  "nbformat_minor": 0
}