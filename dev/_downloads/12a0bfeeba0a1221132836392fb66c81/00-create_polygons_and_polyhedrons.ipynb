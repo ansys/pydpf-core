{
  "cells": [
    {
      "cell_type": "code",
      "execution_count": null,
      "metadata": {
        "collapsed": false
      },
      "outputs": [],
      "source": [
        "%matplotlib inline"
      ]
    },
    {
      "cell_type": "markdown",
      "metadata": {},
      "source": [
        "# Create and display a mesh with polygon and polyhedron elements {#create_polygons_and_polyhedrons}\r\n\r\nThis example shows how to manually create a\r\n`MeshedRegion <ansys.dpf.meshed_region.MeshedRegion>`{.interpreted-text\r\nrole=\"class\"} object with two elements, a polygon and a polyhedron.\r\n"
      ]
    },
    {
      "cell_type": "code",
      "execution_count": null,
      "metadata": {
        "collapsed": false
      },
      "outputs": [],
      "source": [
        "# First import the required modules\nfrom ansys.dpf import core as dpf"
      ]
    },
    {
      "cell_type": "markdown",
      "metadata": {},
      "source": [
        "# Define the node coordinates\r\n\r\nDefine the coordinates of the nodes of the polygon\r\n"
      ]
    },
    {
      "cell_type": "code",
      "execution_count": null,
      "metadata": {
        "collapsed": false
      },
      "outputs": [],
      "source": [
        "polygon_points = [\n    [0.02, 0.0, 0.0],\n    [0.02, 0.01, 0.0],\n    [0.03, 0.01, 0.0],\n    [0.035, 0.005, 0.0],\n    [0.03, 0.0, 0.0],\n]\n\n# Define the coordinates of the nodes of the polyhedron\npolyhedron_points = [\n    [0.02, 0.0, 0.02],\n    [0.02, 0.01, 0.02],\n    [0.03, 0.01, 0.02],\n    [0.035, 0.005, 0.02],\n    [0.03, 0.0, 0.02],\n    [0.02, 0.0, 0.03],\n    [0.02, 0.01, 0.03],\n    [0.03, 0.01, 0.03],\n    [0.035, 0.005, 0.03],\n    [0.03, 0.0, 0.03],\n]\n\ncoordinates = polygon_points + polyhedron_points"
      ]
    },
    {
      "cell_type": "markdown",
      "metadata": {},
      "source": [
        "Create a bare mesh with pre-reserved memory\r\n"
      ]
    },
    {
      "cell_type": "code",
      "execution_count": null,
      "metadata": {
        "collapsed": false
      },
      "outputs": [],
      "source": [
        "mesh = dpf.MeshedRegion(num_nodes=len(coordinates), num_elements=2)\n\n# Add the nodes to the MeshedRegion\nfor i, node in enumerate(mesh.nodes.add_nodes(num=len(coordinates))):\n    node.id = i + 1\n    node.coordinates = coordinates[i]"
      ]
    },
    {
      "cell_type": "markdown",
      "metadata": {},
      "source": [
        "Define the polygon\\'s connectivity using node indices (not IDs)\r\n"
      ]
    },
    {
      "cell_type": "code",
      "execution_count": null,
      "metadata": {
        "collapsed": false
      },
      "outputs": [],
      "source": [
        "connectivity = [0, 1, 2, 3, 4]\n\npolygon_faces_connectivity = [connectivity]\n\n# Add the polygon element to the MeshedRegion\nmesh.elements.add_shell_element(id=1, connectivity=connectivity)"
      ]
    },
    {
      "cell_type": "markdown",
      "metadata": {},
      "source": [
        "Define the polyhedron\\'s connectivity\r\n"
      ]
    },
    {
      "cell_type": "code",
      "execution_count": null,
      "metadata": {
        "collapsed": false
      },
      "outputs": [],
      "source": [
        "# Define the faces connectivity\npolyhedron_faces_connectivity = [\n    [5, 6, 7, 8, 9],\n    [5, 6, 11, 10],\n    [5, 9, 14, 10],\n    [9, 14, 13, 8],\n    [8, 13, 12, 7],\n    [7, 12, 11, 6],\n    [10, 11, 12, 13, 14],\n]\n\n# Build the polyhedron's nodal connectivity from faces connectivity\nconnectivity = [i for face in polyhedron_faces_connectivity for i in face]\n\n# Add the polyhedron element to the MeshedRegion\nmesh.elements.add_solid_element(id=2, connectivity=connectivity)"
      ]
    },
    {
      "cell_type": "markdown",
      "metadata": {},
      "source": [
        "Set property fields required for Polyhedron elements\r\n"
      ]
    },
    {
      "cell_type": "code",
      "execution_count": null,
      "metadata": {
        "collapsed": false
      },
      "outputs": [],
      "source": [
        "# Set the ``\"faces_nodes_connectivity\"``\n# :class:`PropertyField <ansys.dpf.core.property_field.PropertyField>`\nfaces_connectivity = polygon_faces_connectivity + polyhedron_faces_connectivity\nconnectivity_f = dpf.PropertyField()\nfor face_index, face_connectivity in enumerate(faces_connectivity):\n    connectivity_f.append(face_connectivity, face_index)\nmesh.set_property_field(property_name=\"faces_nodes_connectivity\", value=connectivity_f)\n\n# Set the ``\"elements_faces_connectivity\"``\n# :class:`PropertyField <ansys.dpf.core.property_field.PropertyField>`\npolygon_faces = [[0]]\npolyhedron_faces = [[1, 2, 3, 4, 5, 6, 7]]\nelement_faces = polygon_faces + polyhedron_faces\nelements_faces_f = dpf.PropertyField()\nfor element_index, element_faces in enumerate(element_faces):\n    elements_faces_f.append(element_faces, element_index)\nmesh.set_property_field(\n    property_name=\"elements_faces_connectivity\", value=elements_faces_f\n)"
      ]
    },
    {
      "cell_type": "markdown",
      "metadata": {},
      "source": [
        "# Visualize mesh\r\n\r\nPlot the\r\n`MeshedRegion <ansys.dpf.meshed_region.MeshedRegion>`{.interpreted-text\r\nrole=\"class\"}\r\n"
      ]
    },
    {
      "cell_type": "code",
      "execution_count": null,
      "metadata": {
        "collapsed": false
      },
      "outputs": [],
      "source": [
        "mesh.plot()"
      ]
    }
  ],
  "metadata": {
    "kernelspec": {
      "display_name": "Python 3",
      "language": "python",
      "name": "python3"
    },
    "language_info": {
      "codemirror_mode": {
        "name": "ipython",
        "version": 3
      },
      "file_extension": ".py",
      "mimetype": "text/x-python",
      "name": "python",
      "nbconvert_exporter": "python",
      "pygments_lexer": "ipython3",
      "version": "3.8.10"
    }
  },
  "nbformat": 4,
  "nbformat_minor": 0
}