{
  "cells": [
    {
      "cell_type": "code",
      "execution_count": null,
      "metadata": {
        "collapsed": false
      },
      "outputs": [],
      "source": [
        "%matplotlib inline"
      ]
    },
    {
      "cell_type": "markdown",
      "metadata": {},
      "source": [
        "# Compute iso-surfaces on fluid models {#ref_fluids_isosurface}\r\n\r\nThis example demonstrates how to compute iso-surfaces on fluid models.\r\n\r\n::: note\r\n::: title\r\nNote\r\n:::\r\n\r\nThis example requires DPF 7.0 (ansys-dpf-server-2024-1-pre0) or above.\r\nFor more information, see `ref_compatibility`{.interpreted-text\r\nrole=\"ref\"}.\r\n:::\r\n"
      ]
    },
    {
      "cell_type": "markdown",
      "metadata": {},
      "source": [
        "Import the `dpf-core` module and its examples files.\r\n\\~\\~\\~\\~\\~\\~\\~\\~\\~\\~\\~\\~\\~\\~\\~\\~\\~\\~\r\n"
      ]
    },
    {
      "cell_type": "code",
      "execution_count": null,
      "metadata": {
        "collapsed": false
      },
      "outputs": [],
      "source": [
        "import ansys.dpf.core as dpf\nfrom ansys.dpf.core import examples\nfrom ansys.dpf.core.plotter import DpfPlotter"
      ]
    },
    {
      "cell_type": "markdown",
      "metadata": {},
      "source": [
        "Specify the file path. \\~\\~\\~\\~\\~\\~\\~\\~\\~\\~\\~\\~\\~\\~\\~\\~\\~\\~ We work on a\r\ncas/dat.h5 file with only nodal variables.\r\n"
      ]
    },
    {
      "cell_type": "code",
      "execution_count": null,
      "metadata": {
        "collapsed": false
      },
      "outputs": [],
      "source": [
        "path = examples.download_cfx_heating_coil()\nds = dpf.DataSources()\nds.set_result_file_path(path[\"cas\"], \"cas\")\nds.add_file_path(path[\"dat\"], \"dat\")\nstreams = dpf.operators.metadata.streams_provider(data_sources=ds)"
      ]
    },
    {
      "cell_type": "markdown",
      "metadata": {},
      "source": [
        "Whole mesh scoping. \\~\\~\\~\\~\\~\\~\\~\\~\\~\\~\\~\\~\\~\\~\\~\\~\\~\\~ We evaluate the\r\nmesh with the mesh_provider operator to scope the mesh_cut operator with\r\nthe whole mesh.\r\n"
      ]
    },
    {
      "cell_type": "code",
      "execution_count": null,
      "metadata": {
        "collapsed": false
      },
      "outputs": [],
      "source": [
        "whole_mesh = dpf.operators.mesh.mesh_provider(streams_container=streams).eval()\nprint(whole_mesh)\n\nwhole_mesh.plot()"
      ]
    },
    {
      "cell_type": "markdown",
      "metadata": {},
      "source": [
        "Extract the physics variable \\~\\~\\~\\~\\~\\~\\~\\~\\~\\~\\~\\~\\~\\~\\~\\~\\~ Here we\r\nchoose to work with the static pressure by default which is a scalar and\r\nnodal variable without multi-species/phases. With a multi-species case,\r\nselect one using qualifier ellipsis pins and connecting a LabelSpace\r\n\\\"species\\\"/\\\"phase\\\".\r\n"
      ]
    },
    {
      "cell_type": "code",
      "execution_count": null,
      "metadata": {
        "collapsed": false
      },
      "outputs": [],
      "source": [
        "P_S = dpf.operators.result.static_pressure(streams_container=streams, mesh=whole_mesh).eval()\nprint(P_S[0])\n\npl = DpfPlotter()\npl.add_field(P_S[0])\ncpos_mesh_variable = [\n    (4.256160478475664, 4.73662111240005, 4.00410065817644),\n    (-0.0011924505233764648, 1.8596649169921875e-05, 1.125),\n    (-0.2738679385987956, -0.30771426079547065, 0.9112125360807675),\n]\npl.show_figure(cpos=cpos_mesh_variable, show_axes=True)"
      ]
    },
    {
      "cell_type": "markdown",
      "metadata": {},
      "source": [
        "Evaluate iso-surfaces \\~\\~\\~\\~\\~\\~\\~\\~\\~\\~\\~\\~\\~\\~ We can finally use\r\nthe mesh_cut operator on this specific variable. We choose to cut the\r\nwhole with 5 iso-surface equally spaced between min and max.\r\n"
      ]
    },
    {
      "cell_type": "code",
      "execution_count": null,
      "metadata": {
        "collapsed": false
      },
      "outputs": [],
      "source": [
        "max_pressure = 361.8170  # Pa\nmin_pressure = -153.5356  # Pa\nnumber_of_iso_surface = 5\nstep = (max_pressure - min_pressure) / number_of_iso_surface\n\npl = DpfPlotter()\nc_pos_iso = [\n    (4.256160478475664, 4.73662111240005, 4.00410065817644),\n    (-0.0011924505233764648, 1.8596649169921875e-05, 1.125),\n    (-0.2738679385987956, -0.30771426079547065, 0.9112125360807675),\n]\npl.add_mesh(\n    meshed_region=whole_mesh,\n    style=\"wireframe\",\n    show_edges=True,\n    show_axes=True,\n    color=\"black\",\n    opacity=0.3,\n)\n\nfor i in range(number_of_iso_surface):\n    iso_surface = dpf.operators.mesh.mesh_cut(\n        field=P_S[0], iso_value=min_pressure, closed_surface=0, mesh=whole_mesh, slice_surfaces=True\n    ).eval()\n    P_S_step = dpf.Field(location=dpf.locations.overall, nature=dpf.common.natures.scalar)\n    P_S_step.append([min_pressure], i)\n    P_S_step.name = \"static pressure\"\n    P_S_step.unit = \"Pa\"\n    pl.add_field(\n        field=P_S_step, meshed_region=iso_surface, style=\"surface\", show_edges=False, show_axes=True\n    )\n    min_pressure += step\n\npl.show_figure(show_axes=True, cpos=c_pos_iso)"
      ]
    },
    {
      "cell_type": "markdown",
      "metadata": {},
      "source": [
        "# Important note\r\n\r\nIso-surfaces computation through the [mesh_cut]{.title-ref} operator are\r\nonly supported for Nodal Fields. For Elemental variables, you must\r\nperform an averaging operation on the Nodes before running the\r\n[mesh_cut]{.title-ref} operator. This can be done by chaining the\r\n[elemental_to_nodal]{.title-ref} operator output with the\r\n[mesh_cut]{.title-ref} operator input.\r\n"
      ]
    }
  ],
  "metadata": {
    "kernelspec": {
      "display_name": "Python 3",
      "language": "python",
      "name": "python3"
    },
    "language_info": {
      "codemirror_mode": {
        "name": "ipython",
        "version": 3
      },
      "file_extension": ".py",
      "mimetype": "text/x-python",
      "name": "python",
      "nbconvert_exporter": "python",
      "pygments_lexer": "ipython3",
      "version": "3.9.13"
    }
  },
  "nbformat": 4,
  "nbformat_minor": 0
}