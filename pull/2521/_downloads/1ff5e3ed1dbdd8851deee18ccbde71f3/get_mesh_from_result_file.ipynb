{
 "cells": [
  {
   "cell_type": "code",
   "execution_count": 1,
   "id": "6ea65997",
   "metadata": {
    "execution": {
     "iopub.execute_input": "2025-08-06T13:42:54.240152Z",
     "iopub.status.busy": "2025-08-06T13:42:54.240152Z",
     "iopub.status.idle": "2025-08-06T13:42:55.993769Z",
     "shell.execute_reply": "2025-08-06T13:42:55.993769Z"
    }
   },
   "outputs": [],
   "source": [
    "# Import the ``ansys.dpf.core`` module\n",
    "from ansys.dpf import core as dpf\n",
    "# Import the examples module\n",
    "from ansys.dpf.core import examples\n",
    "# Import the operators module\n",
    "from ansys.dpf.core import operators as ops\n",
    "\n",
    "# Define the result file path\n",
    "result_file_path_1 = examples.find_static_rst()\n",
    "# Create the DataSources object\n",
    "ds_1 = dpf.DataSources(result_path=result_file_path_1)"
   ]
  },
  {
   "cell_type": "code",
   "execution_count": 2,
   "id": "e2228099",
   "metadata": {
    "execution": {
     "iopub.execute_input": "2025-08-06T13:42:55.993769Z",
     "iopub.status.busy": "2025-08-06T13:42:55.993769Z",
     "iopub.status.idle": "2025-08-06T13:42:56.002416Z",
     "shell.execute_reply": "2025-08-06T13:42:56.002416Z"
    }
   },
   "outputs": [],
   "source": [
    "# Import the ``ansys.dpf.core`` module\n",
    "from ansys.dpf import core as dpf\n",
    "# Import the examples module\n",
    "from ansys.dpf.core import examples\n",
    "# Import the operators module\n",
    "from ansys.dpf.core import operators as ops\n",
    "\n",
    "# Define the result file path\n",
    "result_file_path_2 = examples.download_d3plot_beam()\n",
    "# Create the DataSources object\n",
    "ds_2 = dpf.DataSources()\n",
    "ds_2.set_result_file_path(filepath=result_file_path_2[0], key=\"d3plot\")\n",
    "ds_2.add_file_path(filepath=result_file_path_2[3], key=\"actunits\")"
   ]
  },
  {
   "cell_type": "code",
   "execution_count": 3,
   "id": "95035aa6",
   "metadata": {
    "execution": {
     "iopub.execute_input": "2025-08-06T13:42:56.002416Z",
     "iopub.status.busy": "2025-08-06T13:42:56.002416Z",
     "iopub.status.idle": "2025-08-06T13:42:56.009429Z",
     "shell.execute_reply": "2025-08-06T13:42:56.009429Z"
    }
   },
   "outputs": [],
   "source": [
    "# Import the ``ansys.dpf.core`` module\n",
    "from ansys.dpf import core as dpf\n",
    "# Import the examples module\n",
    "from ansys.dpf.core import examples\n",
    "# Import the operators module\n",
    "from ansys.dpf.core import operators as ops\n",
    "\n",
    "# Define the result file path\n",
    "result_file_path_3 = examples.download_fluent_axial_comp()[\"flprj\"]\n",
    "# Create the DataSources object\n",
    "ds_3 = dpf.DataSources(result_path=result_file_path_3)"
   ]
  },
  {
   "cell_type": "code",
   "execution_count": 4,
   "id": "3f50ab19",
   "metadata": {
    "execution": {
     "iopub.execute_input": "2025-08-06T13:42:56.012032Z",
     "iopub.status.busy": "2025-08-06T13:42:56.012032Z",
     "iopub.status.idle": "2025-08-06T13:42:56.016019Z",
     "shell.execute_reply": "2025-08-06T13:42:56.016019Z"
    }
   },
   "outputs": [],
   "source": [
    "# Import the ``ansys.dpf.core`` module\n",
    "from ansys.dpf import core as dpf\n",
    "# Import the examples module\n",
    "from ansys.dpf.core import examples\n",
    "# Import the operators module\n",
    "from ansys.dpf.core import operators as ops\n",
    "# Define the result file path\n",
    "result_file_path_4 = examples.download_cfx_mixing_elbow()\n",
    "# Create the DataSources object\n",
    "ds_4 = dpf.DataSources(result_path=result_file_path_4)"
   ]
  },
  {
   "cell_type": "code",
   "execution_count": 5,
   "id": "40d8a3af",
   "metadata": {
    "execution": {
     "iopub.execute_input": "2025-08-06T13:42:56.016019Z",
     "iopub.status.busy": "2025-08-06T13:42:56.016019Z",
     "iopub.status.idle": "2025-08-06T13:42:56.025695Z",
     "shell.execute_reply": "2025-08-06T13:42:56.025695Z"
    }
   },
   "outputs": [],
   "source": [
    "# Create the Model\n",
    "model_1 = dpf.Model(data_sources=ds_1)\n",
    "# Get the mesh\n",
    "meshed_region_11 = model_1.metadata.meshed_region"
   ]
  },
  {
   "cell_type": "code",
   "execution_count": 6,
   "id": "1d903e6c",
   "metadata": {
    "execution": {
     "iopub.execute_input": "2025-08-06T13:42:56.025695Z",
     "iopub.status.busy": "2025-08-06T13:42:56.025695Z",
     "iopub.status.idle": "2025-08-06T13:42:56.037937Z",
     "shell.execute_reply": "2025-08-06T13:42:56.037937Z"
    }
   },
   "outputs": [],
   "source": [
    "# Create the Model\n",
    "model_2 = dpf.Model(data_sources=ds_2)\n",
    "# Get the mesh\n",
    "meshed_region_21 = model_2.metadata.meshed_region"
   ]
  },
  {
   "cell_type": "code",
   "execution_count": 7,
   "id": "b21ea241",
   "metadata": {
    "execution": {
     "iopub.execute_input": "2025-08-06T13:42:56.037937Z",
     "iopub.status.busy": "2025-08-06T13:42:56.037937Z",
     "iopub.status.idle": "2025-08-06T13:43:01.053338Z",
     "shell.execute_reply": "2025-08-06T13:43:01.053338Z"
    }
   },
   "outputs": [],
   "source": [
    "# Create the Model\n",
    "model_3 = dpf.Model(data_sources=ds_3)\n",
    "# Get the mesh\n",
    "meshed_region_31 = model_3.metadata.meshed_region"
   ]
  },
  {
   "cell_type": "code",
   "execution_count": 8,
   "id": "9bb7786e",
   "metadata": {
    "execution": {
     "iopub.execute_input": "2025-08-06T13:43:01.053338Z",
     "iopub.status.busy": "2025-08-06T13:43:01.053338Z",
     "iopub.status.idle": "2025-08-06T13:43:05.191714Z",
     "shell.execute_reply": "2025-08-06T13:43:05.191714Z"
    }
   },
   "outputs": [],
   "source": [
    "# Create the Model\n",
    "model_4 = dpf.Model(data_sources=ds_4)\n",
    "# Get the mesh\n",
    "meshed_region_41 = model_4.metadata.meshed_region"
   ]
  },
  {
   "cell_type": "code",
   "execution_count": 9,
   "id": "e38199df",
   "metadata": {
    "execution": {
     "iopub.execute_input": "2025-08-06T13:43:05.195335Z",
     "iopub.status.busy": "2025-08-06T13:43:05.195243Z",
     "iopub.status.idle": "2025-08-06T13:43:05.198922Z",
     "shell.execute_reply": "2025-08-06T13:43:05.198922Z"
    }
   },
   "outputs": [
    {
     "name": "stdout",
     "output_type": "stream",
     "text": [
      "DPF  Meshed Region: \n",
      "  81 nodes \n",
      "  8 elements \n",
      "  Unit: m \n",
      "  With solid (3D) elements\n"
     ]
    }
   ],
   "source": [
    "# Print the MeshedRegion\n",
    "print(meshed_region_11)"
   ]
  },
  {
   "cell_type": "code",
   "execution_count": 10,
   "id": "4c714d39",
   "metadata": {
    "execution": {
     "iopub.execute_input": "2025-08-06T13:43:05.198922Z",
     "iopub.status.busy": "2025-08-06T13:43:05.198922Z",
     "iopub.status.idle": "2025-08-06T13:43:05.206056Z",
     "shell.execute_reply": "2025-08-06T13:43:05.206056Z"
    }
   },
   "outputs": [
    {
     "name": "stdout",
     "output_type": "stream",
     "text": [
      "DPF  Meshed Region: \n",
      "  1940 nodes \n",
      "  2056 elements \n",
      "  Unit: mm \n",
      "  With solid (3D) elements, beam (1D) elements\n"
     ]
    }
   ],
   "source": [
    "# Print the MeshedRegion\n",
    "print(meshed_region_21)"
   ]
  },
  {
   "cell_type": "code",
   "execution_count": 11,
   "id": "8e458b11",
   "metadata": {
    "execution": {
     "iopub.execute_input": "2025-08-06T13:43:05.206056Z",
     "iopub.status.busy": "2025-08-06T13:43:05.206056Z",
     "iopub.status.idle": "2025-08-06T13:43:05.212823Z",
     "shell.execute_reply": "2025-08-06T13:43:05.212823Z"
    }
   },
   "outputs": [
    {
     "name": "stdout",
     "output_type": "stream",
     "text": [
      "DPF  Meshed Region: \n",
      "  16660 nodes \n",
      "  13856 elements \n",
      "  44242 faces \n",
      "  Unit: m \n",
      "  With solid (3D) elements\n"
     ]
    }
   ],
   "source": [
    "# Print the MeshedRegion\n",
    "print(meshed_region_31)"
   ]
  },
  {
   "cell_type": "code",
   "execution_count": 12,
   "id": "a7271c0c",
   "metadata": {
    "execution": {
     "iopub.execute_input": "2025-08-06T13:43:05.215952Z",
     "iopub.status.busy": "2025-08-06T13:43:05.212823Z",
     "iopub.status.idle": "2025-08-06T13:43:05.219688Z",
     "shell.execute_reply": "2025-08-06T13:43:05.219688Z"
    }
   },
   "outputs": [
    {
     "name": "stdout",
     "output_type": "stream",
     "text": [
      "DPF  Meshed Region: \n",
      "  6219 nodes \n",
      "  15695 elements \n",
      "  Unit: m \n",
      "  With solid (3D) elements\n"
     ]
    }
   ],
   "source": [
    "# Print the MeshedRegion\n",
    "print(meshed_region_41)"
   ]
  },
  {
   "cell_type": "code",
   "execution_count": 13,
   "id": "10fbe799",
   "metadata": {
    "execution": {
     "iopub.execute_input": "2025-08-06T13:43:05.219688Z",
     "iopub.status.busy": "2025-08-06T13:43:05.219688Z",
     "iopub.status.idle": "2025-08-06T13:43:05.228709Z",
     "shell.execute_reply": "2025-08-06T13:43:05.228709Z"
    }
   },
   "outputs": [],
   "source": [
    "# Get the mesh with the mesh_provider operator\n",
    "meshed_region_12 = ops.mesh.mesh_provider(data_sources=ds_1).eval()"
   ]
  },
  {
   "cell_type": "code",
   "execution_count": 14,
   "id": "f4e2c59b",
   "metadata": {
    "execution": {
     "iopub.execute_input": "2025-08-06T13:43:05.228709Z",
     "iopub.status.busy": "2025-08-06T13:43:05.228709Z",
     "iopub.status.idle": "2025-08-06T13:43:05.240943Z",
     "shell.execute_reply": "2025-08-06T13:43:05.240943Z"
    }
   },
   "outputs": [],
   "source": [
    "# Get the mesh with the mesh_provider operator\n",
    "meshed_region_22 = ops.mesh.mesh_provider(data_sources=ds_2).eval()"
   ]
  },
  {
   "cell_type": "code",
   "execution_count": 15,
   "id": "356cc579",
   "metadata": {
    "execution": {
     "iopub.execute_input": "2025-08-06T13:43:05.240943Z",
     "iopub.status.busy": "2025-08-06T13:43:05.240943Z",
     "iopub.status.idle": "2025-08-06T13:43:09.382382Z",
     "shell.execute_reply": "2025-08-06T13:43:09.382382Z"
    }
   },
   "outputs": [],
   "source": [
    "# Get the mesh with the mesh_provider operator\n",
    "meshed_region_32 = ops.mesh.mesh_provider(data_sources=ds_3).eval()"
   ]
  },
  {
   "cell_type": "code",
   "execution_count": 16,
   "id": "e76426a5",
   "metadata": {
    "execution": {
     "iopub.execute_input": "2025-08-06T13:43:09.385070Z",
     "iopub.status.busy": "2025-08-06T13:43:09.385070Z",
     "iopub.status.idle": "2025-08-06T13:43:09.502525Z",
     "shell.execute_reply": "2025-08-06T13:43:09.502525Z"
    }
   },
   "outputs": [],
   "source": [
    "# Get the mesh with the mesh_provider operator\n",
    "meshed_region_42 = ops.mesh.mesh_provider(data_sources=ds_4).eval()"
   ]
  },
  {
   "cell_type": "code",
   "execution_count": 17,
   "id": "2f7b5f33",
   "metadata": {
    "execution": {
     "iopub.execute_input": "2025-08-06T13:43:09.505604Z",
     "iopub.status.busy": "2025-08-06T13:43:09.505604Z",
     "iopub.status.idle": "2025-08-06T13:43:09.509596Z",
     "shell.execute_reply": "2025-08-06T13:43:09.509596Z"
    }
   },
   "outputs": [
    {
     "name": "stdout",
     "output_type": "stream",
     "text": [
      "DPF  Meshed Region: \n",
      "  81 nodes \n",
      "  8 elements \n",
      "  Unit: m \n",
      "  With solid (3D) elements\n"
     ]
    }
   ],
   "source": [
    "# Print the MeshedRegion\n",
    "print(meshed_region_12)"
   ]
  },
  {
   "cell_type": "code",
   "execution_count": 18,
   "id": "b534fc6e",
   "metadata": {
    "execution": {
     "iopub.execute_input": "2025-08-06T13:43:09.509596Z",
     "iopub.status.busy": "2025-08-06T13:43:09.509596Z",
     "iopub.status.idle": "2025-08-06T13:43:09.516152Z",
     "shell.execute_reply": "2025-08-06T13:43:09.516152Z"
    }
   },
   "outputs": [
    {
     "name": "stdout",
     "output_type": "stream",
     "text": [
      "DPF  Meshed Region: \n",
      "  1940 nodes \n",
      "  2056 elements \n",
      "  Unit: mm \n",
      "  With solid (3D) elements, beam (1D) elements\n"
     ]
    }
   ],
   "source": [
    "# Print the MeshedRegion\n",
    "print(meshed_region_22)"
   ]
  },
  {
   "cell_type": "code",
   "execution_count": 19,
   "id": "e67024b7",
   "metadata": {
    "execution": {
     "iopub.execute_input": "2025-08-06T13:43:09.517229Z",
     "iopub.status.busy": "2025-08-06T13:43:09.517229Z",
     "iopub.status.idle": "2025-08-06T13:43:09.522679Z",
     "shell.execute_reply": "2025-08-06T13:43:09.522679Z"
    }
   },
   "outputs": [
    {
     "name": "stdout",
     "output_type": "stream",
     "text": [
      "DPF  Meshed Region: \n",
      "  16660 nodes \n",
      "  13856 elements \n",
      "  44242 faces \n",
      "  Unit: m \n",
      "  With solid (3D) elements\n"
     ]
    }
   ],
   "source": [
    "# Print the MeshedRegion\n",
    "print(meshed_region_32)"
   ]
  },
  {
   "cell_type": "code",
   "execution_count": 20,
   "id": "fd520937",
   "metadata": {
    "execution": {
     "iopub.execute_input": "2025-08-06T13:43:09.522679Z",
     "iopub.status.busy": "2025-08-06T13:43:09.522679Z",
     "iopub.status.idle": "2025-08-06T13:43:09.529107Z",
     "shell.execute_reply": "2025-08-06T13:43:09.529107Z"
    }
   },
   "outputs": [
    {
     "name": "stdout",
     "output_type": "stream",
     "text": [
      "DPF  Meshed Region: \n",
      "  6219 nodes \n",
      "  15695 elements \n",
      "  Unit: m \n",
      "  With solid (3D) elements\n"
     ]
    }
   ],
   "source": [
    "# Print the MeshedRegion\n",
    "print(meshed_region_42)"
   ]
  }
 ],
 "metadata": {
  "kernelspec": {
   "display_name": "Python 3 (ipykernel)",
   "language": "python",
   "name": "python3"
  },
  "language_info": {
   "codemirror_mode": {
    "name": "ipython",
    "version": 3
   },
   "file_extension": ".py",
   "mimetype": "text/x-python",
   "name": "python",
   "nbconvert_exporter": "python",
   "pygments_lexer": "ipython3",
   "version": "3.11.9"
  }
 },
 "nbformat": 4,
 "nbformat_minor": 5
}