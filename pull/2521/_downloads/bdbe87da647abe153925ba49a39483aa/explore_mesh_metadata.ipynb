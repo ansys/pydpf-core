{
 "cells": [
  {
   "cell_type": "code",
   "execution_count": 1,
   "id": "937fe43d",
   "metadata": {
    "execution": {
     "iopub.execute_input": "2025-08-06T13:42:28.828775Z",
     "iopub.status.busy": "2025-08-06T13:42:28.828775Z",
     "iopub.status.idle": "2025-08-06T13:42:30.603165Z",
     "shell.execute_reply": "2025-08-06T13:42:30.603165Z"
    }
   },
   "outputs": [],
   "source": [
    "# Import the ``ansys.dpf.core`` module\n",
    "from ansys.dpf import core as dpf\n",
    "# Import the examples module\n",
    "from ansys.dpf.core import examples\n",
    "\n",
    "# Define the result file path\n",
    "result_file_path_2 = examples.download_d3plot_beam()"
   ]
  },
  {
   "cell_type": "code",
   "execution_count": 2,
   "id": "46b4ede1",
   "metadata": {
    "execution": {
     "iopub.execute_input": "2025-08-06T13:42:30.603165Z",
     "iopub.status.busy": "2025-08-06T13:42:30.603165Z",
     "iopub.status.idle": "2025-08-06T13:42:30.610787Z",
     "shell.execute_reply": "2025-08-06T13:42:30.610787Z"
    }
   },
   "outputs": [],
   "source": [
    "# Import the ``ansys.dpf.core`` module\n",
    "from ansys.dpf import core as dpf\n",
    "# Import the examples module\n",
    "from ansys.dpf.core import examples\n",
    "\n",
    "# Define the result file path\n",
    "result_file_path_3 = examples.download_fluent_axial_comp()[\"flprj\"]"
   ]
  },
  {
   "cell_type": "code",
   "execution_count": 3,
   "id": "9029a90b",
   "metadata": {
    "execution": {
     "iopub.execute_input": "2025-08-06T13:42:30.610787Z",
     "iopub.status.busy": "2025-08-06T13:42:30.610787Z",
     "iopub.status.idle": "2025-08-06T13:42:30.617290Z",
     "shell.execute_reply": "2025-08-06T13:42:30.617290Z"
    }
   },
   "outputs": [],
   "source": [
    "# Import the ``ansys.dpf.core`` module\n",
    "from ansys.dpf import core as dpf\n",
    "# Import the examples module\n",
    "from ansys.dpf.core import examples\n",
    "\n",
    "# Define the result file path\n",
    "result_file_path_4 = examples.download_cfx_mixing_elbow()"
   ]
  },
  {
   "cell_type": "code",
   "execution_count": 4,
   "id": "11738941",
   "metadata": {
    "execution": {
     "iopub.execute_input": "2025-08-06T13:42:30.620421Z",
     "iopub.status.busy": "2025-08-06T13:42:30.620421Z",
     "iopub.status.idle": "2025-08-06T13:42:30.624093Z",
     "shell.execute_reply": "2025-08-06T13:42:30.624093Z"
    }
   },
   "outputs": [],
   "source": [
    "# Create the DataSources object\n",
    "ds_2 = dpf.DataSources()\n",
    "ds_2.set_result_file_path(filepath=result_file_path_2[0], key=\"d3plot\")\n",
    "ds_2.add_file_path(filepath=result_file_path_2[3], key=\"actunits\")\n",
    "# Create the Model\n",
    "model_2 = dpf.Model(data_sources=ds_2)"
   ]
  },
  {
   "cell_type": "code",
   "execution_count": 5,
   "id": "3d0e7b19",
   "metadata": {
    "execution": {
     "iopub.execute_input": "2025-08-06T13:42:30.626620Z",
     "iopub.status.busy": "2025-08-06T13:42:30.626620Z",
     "iopub.status.idle": "2025-08-06T13:42:30.629796Z",
     "shell.execute_reply": "2025-08-06T13:42:30.629796Z"
    }
   },
   "outputs": [],
   "source": [
    "# Create the Model\n",
    "model_3 = dpf.Model(data_sources=result_file_path_3)"
   ]
  },
  {
   "cell_type": "code",
   "execution_count": 6,
   "id": "6ab188fb",
   "metadata": {
    "execution": {
     "iopub.execute_input": "2025-08-06T13:42:30.630975Z",
     "iopub.status.busy": "2025-08-06T13:42:30.630975Z",
     "iopub.status.idle": "2025-08-06T13:42:30.635342Z",
     "shell.execute_reply": "2025-08-06T13:42:30.635342Z"
    }
   },
   "outputs": [],
   "source": [
    "# Create the Model\n",
    "model_4 = dpf.Model(data_sources=result_file_path_4)"
   ]
  },
  {
   "cell_type": "code",
   "execution_count": 7,
   "id": "4fea463c",
   "metadata": {
    "execution": {
     "iopub.execute_input": "2025-08-06T13:42:30.635342Z",
     "iopub.status.busy": "2025-08-06T13:42:30.635342Z",
     "iopub.status.idle": "2025-08-06T13:42:30.649742Z",
     "shell.execute_reply": "2025-08-06T13:42:30.649742Z"
    }
   },
   "outputs": [
    {
     "name": "stdout",
     "output_type": "stream",
     "text": [
      "DPF MeshInfo\n",
      "------------------------------\n",
      "with properties:\n",
      "  part_names          \tStringField\n",
      "  part_scoping        \tScoping\n"
     ]
    }
   ],
   "source": [
    "# Get the mesh metadata information\n",
    "mesh_info_2 = model_2.metadata.mesh_info\n",
    "\n",
    "# Print the mesh metadata information\n",
    "print(mesh_info_2)"
   ]
  },
  {
   "cell_type": "code",
   "execution_count": 8,
   "id": "b8be2f91",
   "metadata": {
    "execution": {
     "iopub.execute_input": "2025-08-06T13:42:30.651891Z",
     "iopub.status.busy": "2025-08-06T13:42:30.651891Z",
     "iopub.status.idle": "2025-08-06T13:42:31.990767Z",
     "shell.execute_reply": "2025-08-06T13:42:31.990767Z"
    }
   },
   "outputs": [
    {
     "name": "stdout",
     "output_type": "stream",
     "text": [
      "DPF MeshInfo\n",
      "------------------------------\n",
      "with properties:\n",
      "  num_cells           \tint\n",
      "  num_nodes           \tint\n",
      "  num_faces           \tint\n",
      "  body_names          \tStringField\n",
      "  body_cell_topology  \tPropertyField\n",
      "  body_face_topology  \tPropertyField\n",
      "  body_scoping        \tScoping\n",
      "  cell_zone_names     \tStringField\n",
      "  cell_zone_elements  \tPropertyField\n",
      "  cell_zone_scoping   \tScoping\n",
      "  face_zone_names     \tStringField\n",
      "  face_zone_elements  \tPropertyField\n",
      "  face_zone_scoping   \tScoping\n",
      "  zone_names          \tStringField\n",
      "  num_elem_zone       \tPropertyField\n",
      "  zone_scoping        \tScoping\n",
      "  splittable_by       \tStringField\n"
     ]
    }
   ],
   "source": [
    "# Get the mesh metadata information\n",
    "mesh_info_3 = model_3.metadata.mesh_info\n",
    "\n",
    "# Print the mesh metadata information\n",
    "print(mesh_info_3)"
   ]
  },
  {
   "cell_type": "code",
   "execution_count": 9,
   "id": "d683646e",
   "metadata": {
    "execution": {
     "iopub.execute_input": "2025-08-06T13:42:31.993323Z",
     "iopub.status.busy": "2025-08-06T13:42:31.993323Z",
     "iopub.status.idle": "2025-08-06T13:42:32.200626Z",
     "shell.execute_reply": "2025-08-06T13:42:32.200626Z"
    }
   },
   "outputs": [
    {
     "name": "stdout",
     "output_type": "stream",
     "text": [
      "DPF MeshInfo\n",
      "------------------------------\n",
      "with properties:\n",
      "  num_nodes           \tint\n",
      "  num_cells           \tint\n",
      "  body_names          \tStringField\n",
      "  body_cell_topology  \tPropertyField\n",
      "  num_faces           \tint\n",
      "  body_face_topology  \tPropertyField\n",
      "  body_scoping        \tScoping\n",
      "  cell_zone_names     \tStringField\n",
      "  cell_zone_elements  \tPropertyField\n",
      "  face_zone_names     \tStringField\n",
      "  cell_zone_scoping   \tScoping\n",
      "  face_zone_elements  \tPropertyField\n",
      "  face_zone_scoping   \tScoping\n",
      "  zone_names          \tStringField\n",
      "  num_elem_zone       \tPropertyField\n",
      "  zone_scoping        \tScoping\n",
      "  splittable_by       \tStringField\n"
     ]
    }
   ],
   "source": [
    "# Get the mesh metadata information\n",
    "mesh_info_4 = model_4.metadata.mesh_info\n",
    "\n",
    "# Print the mesh metadata information\n",
    "print(mesh_info_4)"
   ]
  },
  {
   "cell_type": "code",
   "execution_count": 10,
   "id": "1609ece5",
   "metadata": {
    "execution": {
     "iopub.execute_input": "2025-08-06T13:42:32.203189Z",
     "iopub.status.busy": "2025-08-06T13:42:32.203189Z",
     "iopub.status.idle": "2025-08-06T13:42:32.207349Z",
     "shell.execute_reply": "2025-08-06T13:42:32.207349Z"
    }
   },
   "outputs": [
    {
     "name": "stdout",
     "output_type": "stream",
     "text": [
      "DPF String Field\n",
      "  2 part entities \n",
      "  Data:2 elementary data \n",
      "\n",
      "  part\n",
      "  IDs                   data\n",
      "  ------------          ----------\n",
      "  1                                                                                             \n",
      "                        \n",
      "  2                     ball                                                                    \n",
      "                        \n",
      "\n",
      "\n"
     ]
    }
   ],
   "source": [
    "# Get the part names\n",
    "cell_zones_2 = mesh_info_2.get_property(\"part_names\")\n",
    "\n",
    "# Print the part names\n",
    "print(cell_zones_2)"
   ]
  },
  {
   "cell_type": "code",
   "execution_count": 11,
   "id": "49c063da",
   "metadata": {
    "execution": {
     "iopub.execute_input": "2025-08-06T13:42:32.209873Z",
     "iopub.status.busy": "2025-08-06T13:42:32.207349Z",
     "iopub.status.idle": "2025-08-06T13:42:32.213446Z",
     "shell.execute_reply": "2025-08-06T13:42:32.213446Z"
    }
   },
   "outputs": [
    {
     "name": "stdout",
     "output_type": "stream",
     "text": [
      "DPF String Field\n",
      "  2 zone entities \n",
      "  Data:2 elementary data \n",
      "\n",
      "  zone\n",
      "  IDs                   data\n",
      "  ------------          ----------\n",
      "  13                    fluid-rotor    \n",
      "                        \n",
      "  28                    fluid-stator   \n",
      "                        \n",
      "\n",
      "\n"
     ]
    }
   ],
   "source": [
    "# Get the cell zone names\n",
    "cell_zones_3 = mesh_info_3.get_property(\"cell_zone_names\")\n",
    "\n",
    "# Print the cell zone names\n",
    "print(cell_zones_3)"
   ]
  },
  {
   "cell_type": "code",
   "execution_count": 12,
   "id": "241d7006",
   "metadata": {
    "execution": {
     "iopub.execute_input": "2025-08-06T13:42:32.213446Z",
     "iopub.status.busy": "2025-08-06T13:42:32.213446Z",
     "iopub.status.idle": "2025-08-06T13:42:32.219121Z",
     "shell.execute_reply": "2025-08-06T13:42:32.219121Z"
    }
   },
   "outputs": [
    {
     "name": "stdout",
     "output_type": "stream",
     "text": [
      "DPF String Field\n",
      "  3 zone entities \n",
      "  Data:3 elementary data \n",
      "\n",
      "  zone\n",
      "  IDs                   data\n",
      "  ------------          ----------\n",
      "  2                     ZN1/ES1        \n",
      "                        \n",
      "  3                     ZN1/ES2        \n",
      "                        \n",
      "  4                     ZN1/ES3        \n",
      "                        \n",
      "\n",
      "\n"
     ]
    }
   ],
   "source": [
    "# Get the cell zone names\n",
    "cell_zones_4 = mesh_info_4.get_property(\"cell_zone_names\")\n",
    "\n",
    "# Print the cell zone names\n",
    "print(cell_zones_4)"
   ]
  }
 ],
 "metadata": {
  "kernelspec": {
   "display_name": "Python 3 (ipykernel)",
   "language": "python",
   "name": "python3"
  },
  "language_info": {
   "codemirror_mode": {
    "name": "ipython",
    "version": 3
   },
   "file_extension": ".py",
   "mimetype": "text/x-python",
   "name": "python",
   "nbconvert_exporter": "python",
   "pygments_lexer": "ipython3",
   "version": "3.11.9"
  }
 },
 "nbformat": 4,
 "nbformat_minor": 5
}