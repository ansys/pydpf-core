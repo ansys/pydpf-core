{
 "cells": [
  {
   "cell_type": "code",
   "execution_count": 1,
   "id": "2674b347",
   "metadata": {
    "execution": {
     "iopub.execute_input": "2025-08-06T13:41:33.875768Z",
     "iopub.status.busy": "2025-08-06T13:41:33.875768Z",
     "iopub.status.idle": "2025-08-06T13:41:35.592930Z",
     "shell.execute_reply": "2025-08-06T13:41:35.592930Z"
    }
   },
   "outputs": [
    {
     "name": "stdout",
     "output_type": "stream",
     "text": [
      "Result file path 11: \n",
      " D:\\a\\pydpf-core\\pydpf-core\\.tox\\doc-html\\Lib\\site-packages\\ansys\\dpf\\core\\examples\\result_files\\static.rst \n",
      "\n",
      "Result files paths 12: \n",
      " {'rfrq': 'D:\\\\a\\\\pydpf-core\\\\pydpf-core\\\\.tox\\\\doc-html\\\\Lib\\\\site-packages\\\\ansys\\\\dpf\\\\core\\\\examples\\\\result_files\\\\msup\\\\file.rfrq', 'mode': 'D:\\\\a\\\\pydpf-core\\\\pydpf-core\\\\.tox\\\\doc-html\\\\Lib\\\\site-packages\\\\ansys\\\\dpf\\\\core\\\\examples\\\\result_files\\\\msup\\\\file.mode', 'rst': 'D:\\\\a\\\\pydpf-core\\\\pydpf-core\\\\.tox\\\\doc-html\\\\Lib\\\\site-packages\\\\ansys\\\\dpf\\\\core\\\\examples\\\\result_files\\\\msup\\\\file.rst'} \n",
      "\n"
     ]
    }
   ],
   "source": [
    "# Import the ``ansys.dpf.core`` module\n",
    "from ansys.dpf import core as dpf\n",
    "# Import the examples module\n",
    "from ansys.dpf.core import examples\n",
    "# Import the operators module\n",
    "from ansys.dpf.core import operators as ops\n",
    "\n",
    "# Define the .rst result file path\n",
    "result_file_path_11 = examples.find_static_rst()\n",
    "\n",
    "# Define the modal superposition harmonic analysis (.mode, .rfrq and .rst) result files paths\n",
    "result_file_path_12 = examples.download_msup_files_to_dict()\n",
    "\n",
    "\n",
    "# Print the result files paths\n",
    "print(\"Result file path 11:\", \"\\n\",result_file_path_11, \"\\n\")\n",
    "print(\"Result files paths 12:\", \"\\n\",result_file_path_12, \"\\n\")"
   ]
  },
  {
   "cell_type": "code",
   "execution_count": 2,
   "id": "db313a29",
   "metadata": {
    "execution": {
     "iopub.execute_input": "2025-08-06T13:41:35.595490Z",
     "iopub.status.busy": "2025-08-06T13:41:35.595490Z",
     "iopub.status.idle": "2025-08-06T13:41:35.600863Z",
     "shell.execute_reply": "2025-08-06T13:41:35.600863Z"
    }
   },
   "outputs": [
    {
     "name": "stdout",
     "output_type": "stream",
     "text": [
      "Result files paths 21: \n",
      " ['D:\\\\a\\\\pydpf-core\\\\pydpf-core\\\\.tox\\\\doc-html\\\\Lib\\\\site-packages\\\\ansys\\\\dpf\\\\core\\\\examples\\\\result_files\\\\d3plot_beam\\\\d3plot', 'D:\\\\a\\\\pydpf-core\\\\pydpf-core\\\\.tox\\\\doc-html\\\\Lib\\\\site-packages\\\\ansys\\\\dpf\\\\core\\\\examples\\\\result_files\\\\d3plot_beam\\\\d3plot01', 'D:\\\\a\\\\pydpf-core\\\\pydpf-core\\\\.tox\\\\doc-html\\\\Lib\\\\site-packages\\\\ansys\\\\dpf\\\\core\\\\examples\\\\result_files\\\\d3plot_beam\\\\d3plot02', 'D:\\\\a\\\\pydpf-core\\\\pydpf-core\\\\.tox\\\\doc-html\\\\Lib\\\\site-packages\\\\ansys\\\\dpf\\\\core\\\\examples\\\\result_files\\\\d3plot_beam\\\\file.actunits'] \n",
      "\n",
      "Result file path 22: \n",
      " D:\\a\\pydpf-core\\pydpf-core\\.tox\\doc-html\\Lib\\site-packages\\ansys\\dpf\\core\\examples\\result_files\\binout\\binout_matsum \n",
      "\n"
     ]
    }
   ],
   "source": [
    "# Import the ``ansys.dpf.core`` module\n",
    "from ansys.dpf import core as dpf\n",
    "# Import the examples module\n",
    "from ansys.dpf.core import examples\n",
    "# Import the operators module\n",
    "from ansys.dpf.core import operators as ops\n",
    "\n",
    "# Define the .d3plot result files paths\n",
    "result_file_path_21 = examples.download_d3plot_beam()\n",
    "\n",
    "# Define the .binout result file path\n",
    "result_file_path_22 = examples.download_binout_matsum()\n",
    "\n",
    "# Print the result files paths\n",
    "print(\"Result files paths 21:\", \"\\n\",result_file_path_21, \"\\n\")\n",
    "print(\"Result file path 22:\", \"\\n\",result_file_path_22, \"\\n\")"
   ]
  },
  {
   "cell_type": "code",
   "execution_count": 3,
   "id": "a5244ec9",
   "metadata": {
    "execution": {
     "iopub.execute_input": "2025-08-06T13:41:35.600863Z",
     "iopub.status.busy": "2025-08-06T13:41:35.600863Z",
     "iopub.status.idle": "2025-08-06T13:41:35.609506Z",
     "shell.execute_reply": "2025-08-06T13:41:35.609506Z"
    }
   },
   "outputs": [
    {
     "name": "stdout",
     "output_type": "stream",
     "text": [
      "Result file path 31: \n",
      " D:\\a\\pydpf-core\\pydpf-core\\.tox\\doc-html\\Lib\\site-packages\\ansys\\dpf\\core\\examples\\result_files\\fluent-axial_comp\\axial_comp_reduced.flprj \n",
      "\n",
      "Result files paths 32: \n",
      " {'flprj': 'D:\\\\a\\\\pydpf-core\\\\pydpf-core\\\\.tox\\\\doc-html\\\\Lib\\\\site-packages\\\\ansys\\\\dpf\\\\core\\\\examples\\\\result_files\\\\fluent-axial_comp\\\\axial_comp_reduced.flprj', 'cas': ['D:\\\\a\\\\pydpf-core\\\\pydpf-core\\\\.tox\\\\doc-html\\\\Lib\\\\site-packages\\\\ansys\\\\dpf\\\\core\\\\examples\\\\result_files\\\\fluent-axial_comp\\\\axial_comp-1-01438.cas.h5', 'D:\\\\a\\\\pydpf-core\\\\pydpf-core\\\\.tox\\\\doc-html\\\\Lib\\\\site-packages\\\\ansys\\\\dpf\\\\core\\\\examples\\\\result_files\\\\fluent-axial_comp\\\\axial_comp-1-01439.cas.h5', 'D:\\\\a\\\\pydpf-core\\\\pydpf-core\\\\.tox\\\\doc-html\\\\Lib\\\\site-packages\\\\ansys\\\\dpf\\\\core\\\\examples\\\\result_files\\\\fluent-axial_comp\\\\axial_comp-1-01440.cas.h5'], 'dat': ['D:\\\\a\\\\pydpf-core\\\\pydpf-core\\\\.tox\\\\doc-html\\\\Lib\\\\site-packages\\\\ansys\\\\dpf\\\\core\\\\examples\\\\result_files\\\\fluent-axial_comp\\\\axial_comp-1-01438.dat.h5', 'D:\\\\a\\\\pydpf-core\\\\pydpf-core\\\\.tox\\\\doc-html\\\\Lib\\\\site-packages\\\\ansys\\\\dpf\\\\core\\\\examples\\\\result_files\\\\fluent-axial_comp\\\\axial_comp-1-01439.dat.h5', 'D:\\\\a\\\\pydpf-core\\\\pydpf-core\\\\.tox\\\\doc-html\\\\Lib\\\\site-packages\\\\ansys\\\\dpf\\\\core\\\\examples\\\\result_files\\\\fluent-axial_comp\\\\axial_comp-1-01440.dat.h5']} \n",
      "\n"
     ]
    }
   ],
   "source": [
    "# Import the ``ansys.dpf.core`` module\n",
    "from ansys.dpf import core as dpf\n",
    "# Import the examples module\n",
    "from ansys.dpf.core import examples\n",
    "# Import the operators module\n",
    "from ansys.dpf.core import operators as ops\n",
    "\n",
    "# Define the project .flprj result file path\n",
    "result_file_path_31 = examples.download_fluent_axial_comp()[\"flprj\"]\n",
    "\n",
    "# Define the CFF .cas.h5/.dat.h5 result files paths\n",
    "result_file_path_32 = examples.download_fluent_axial_comp()\n",
    "\n",
    "# Print the result files paths\n",
    "print(\"Result file path 31:\", \"\\n\",result_file_path_31, \"\\n\")\n",
    "print(\"Result files paths 32:\", \"\\n\",result_file_path_32, \"\\n\")"
   ]
  },
  {
   "cell_type": "code",
   "execution_count": 4,
   "id": "6b6eaecd",
   "metadata": {
    "execution": {
     "iopub.execute_input": "2025-08-06T13:41:35.609506Z",
     "iopub.status.busy": "2025-08-06T13:41:35.609506Z",
     "iopub.status.idle": "2025-08-06T13:41:35.617068Z",
     "shell.execute_reply": "2025-08-06T13:41:35.617068Z"
    }
   },
   "outputs": [
    {
     "name": "stdout",
     "output_type": "stream",
     "text": [
      "Result file path 41: \n",
      " D:\\a\\pydpf-core\\pydpf-core\\.tox\\doc-html\\Lib\\site-packages\\ansys\\dpf\\core\\examples\\result_files\\cfx-mixing_elbow\\InjectMixer.res \n",
      "\n",
      "Result files paths 42: \n",
      " {'cas': 'D:\\\\a\\\\pydpf-core\\\\pydpf-core\\\\.tox\\\\doc-html\\\\Lib\\\\site-packages\\\\ansys\\\\dpf\\\\core\\\\examples\\\\result_files\\\\cfx-heating_coil\\\\def.cas.cff', 'dat': 'D:\\\\a\\\\pydpf-core\\\\pydpf-core\\\\.tox\\\\doc-html\\\\Lib\\\\site-packages\\\\ansys\\\\dpf\\\\core\\\\examples\\\\result_files\\\\cfx-heating_coil\\\\def.dat.cff'} \n",
      "\n"
     ]
    }
   ],
   "source": [
    "# Import the ``ansys.dpf.core`` module\n",
    "from ansys.dpf import core as dpf\n",
    "# Import the examples module\n",
    "from ansys.dpf.core import examples\n",
    "# Import the operators module\n",
    "from ansys.dpf.core import operators as ops\n",
    "\n",
    "# Define the project .res result file path\n",
    "result_file_path_41 = examples.download_cfx_mixing_elbow()\n",
    "\n",
    "# Define the CFF .cas.cff/.dat.cff result files paths\n",
    "result_file_path_42 = examples.download_cfx_heating_coil()\n",
    "\n",
    "# Print the result files paths\n",
    "print(\"Result file path 41:\", \"\\n\",result_file_path_41, \"\\n\")\n",
    "print(\"Result files paths 42:\", \"\\n\",result_file_path_42, \"\\n\")"
   ]
  },
  {
   "cell_type": "code",
   "execution_count": 5,
   "id": "3790bfc1",
   "metadata": {
    "execution": {
     "iopub.execute_input": "2025-08-06T13:41:35.619614Z",
     "iopub.status.busy": "2025-08-06T13:41:35.619614Z",
     "iopub.status.idle": "2025-08-06T13:41:35.622842Z",
     "shell.execute_reply": "2025-08-06T13:41:35.622842Z"
    }
   },
   "outputs": [],
   "source": [
    "# Create the DataSources object\n",
    "# Use the ``result_path`` argument and give the result file path\n",
    "ds_11 = dpf.DataSources(result_path=result_file_path_11)"
   ]
  },
  {
   "cell_type": "code",
   "execution_count": 6,
   "id": "4a1349e1",
   "metadata": {
    "execution": {
     "iopub.execute_input": "2025-08-06T13:41:35.622842Z",
     "iopub.status.busy": "2025-08-06T13:41:35.622842Z",
     "iopub.status.idle": "2025-08-06T13:41:35.629957Z",
     "shell.execute_reply": "2025-08-06T13:41:35.629957Z"
    }
   },
   "outputs": [],
   "source": [
    "# Create the main DataSources object\n",
    "ds_12 = dpf.DataSources()\n",
    "# Define the main result file path\n",
    "ds_12.set_result_file_path(filepath=result_file_path_12[\"rfrq\"], key='rfrq')\n",
    "\n",
    "# Create the upstream DataSources object with the main upstream file path\n",
    "upstream_ds_12 = dpf.DataSources(result_path=result_file_path_12[\"mode\"])\n",
    "# Add the additional upstream file path to the upstream DataSources object\n",
    "upstream_ds_12.add_file_path(filepath=result_file_path_12[\"rst\"])\n",
    "\n",
    "# Add the upstream DataSources to the main DataSources object\n",
    "ds_12.add_upstream(upstream_data_sources=upstream_ds_12)"
   ]
  },
  {
   "cell_type": "code",
   "execution_count": 7,
   "id": "7eb4b353",
   "metadata": {
    "execution": {
     "iopub.execute_input": "2025-08-06T13:41:35.629957Z",
     "iopub.status.busy": "2025-08-06T13:41:35.629957Z",
     "iopub.status.idle": "2025-08-06T13:41:35.636509Z",
     "shell.execute_reply": "2025-08-06T13:41:35.635951Z"
    }
   },
   "outputs": [],
   "source": [
    "# Create the DataSources object\n",
    "ds_21 = dpf.DataSources()\n",
    "\n",
    "# Define the main result file path\n",
    "ds_21.set_result_file_path(filepath=result_file_path_21[0], key=\"d3plot\")\n",
    "\n",
    "# Add the additional file path related to the units\n",
    "ds_21.add_file_path(filepath=result_file_path_21[3], key=\"actunits\")"
   ]
  },
  {
   "cell_type": "code",
   "execution_count": 8,
   "id": "8f659ca0",
   "metadata": {
    "execution": {
     "iopub.execute_input": "2025-08-06T13:41:35.636509Z",
     "iopub.status.busy": "2025-08-06T13:41:35.636509Z",
     "iopub.status.idle": "2025-08-06T13:41:35.642119Z",
     "shell.execute_reply": "2025-08-06T13:41:35.642119Z"
    }
   },
   "outputs": [],
   "source": [
    "# Create the DataSources object\n",
    "ds_22 = dpf.DataSources()\n",
    "\n",
    "# Define the path to the result file\n",
    "# Use the ``key`` argument and give the file extension key\n",
    "ds_22.set_result_file_path(filepath=result_file_path_22, key=\"binout\")"
   ]
  },
  {
   "cell_type": "code",
   "execution_count": 9,
   "id": "dda94323",
   "metadata": {
    "execution": {
     "iopub.execute_input": "2025-08-06T13:41:35.642119Z",
     "iopub.status.busy": "2025-08-06T13:41:35.642119Z",
     "iopub.status.idle": "2025-08-06T13:41:35.647829Z",
     "shell.execute_reply": "2025-08-06T13:41:35.647829Z"
    }
   },
   "outputs": [],
   "source": [
    "# Create the DataSources object\n",
    "# Use the ``result_path`` argument and give the result file path\n",
    "ds_31 = dpf.DataSources(result_path=result_file_path_31)"
   ]
  },
  {
   "cell_type": "code",
   "execution_count": 10,
   "id": "442e3ec0",
   "metadata": {
    "execution": {
     "iopub.execute_input": "2025-08-06T13:41:35.650405Z",
     "iopub.status.busy": "2025-08-06T13:41:35.650405Z",
     "iopub.status.idle": "2025-08-06T13:41:35.654348Z",
     "shell.execute_reply": "2025-08-06T13:41:35.654348Z"
    }
   },
   "outputs": [],
   "source": [
    "# Create the DataSources object\n",
    "ds_32 = dpf.DataSources()\n",
    "\n",
    "# Define the path to the main result file\n",
    "# Use the ``key`` argument and give the first extension key\n",
    "ds_32.set_result_file_path(filepath=result_file_path_32['cas'][0], key=\"cas\")\n",
    "\n",
    "# Add the additional result file path to the DataSources\n",
    "# Use the ``key`` argument and give the first extension key\n",
    "ds_32.add_file_path(filepath=result_file_path_32['dat'][0], key=\"dat\")"
   ]
  },
  {
   "cell_type": "code",
   "execution_count": 11,
   "id": "acbba023",
   "metadata": {
    "execution": {
     "iopub.execute_input": "2025-08-06T13:41:35.656913Z",
     "iopub.status.busy": "2025-08-06T13:41:35.656913Z",
     "iopub.status.idle": "2025-08-06T13:41:35.660512Z",
     "shell.execute_reply": "2025-08-06T13:41:35.659956Z"
    }
   },
   "outputs": [],
   "source": [
    "# Create the DataSources object\n",
    "# Use the ``result_path`` argument and give the result file path\n",
    "ds_41 = dpf.DataSources(result_path=result_file_path_41)"
   ]
  },
  {
   "cell_type": "code",
   "execution_count": 12,
   "id": "241b0295",
   "metadata": {
    "execution": {
     "iopub.execute_input": "2025-08-06T13:41:35.660512Z",
     "iopub.status.busy": "2025-08-06T13:41:35.660512Z",
     "iopub.status.idle": "2025-08-06T13:41:35.666181Z",
     "shell.execute_reply": "2025-08-06T13:41:35.666181Z"
    }
   },
   "outputs": [],
   "source": [
    "# Create the DataSources object\n",
    "ds_42 = dpf.DataSources()\n",
    "\n",
    "# Define the path to the main result file\n",
    "# Use the ``key`` argument and give the first extension key\n",
    "ds_42.set_result_file_path(filepath=result_file_path_42[\"cas\"], key=\"cas\")\n",
    "\n",
    "# Add the additional result file path to the DataSources\n",
    "# Use the ``key`` argument and give the first extension key\n",
    "ds_42.add_file_path(filepath=result_file_path_42[\"dat\"], key=\"dat\")"
   ]
  },
  {
   "cell_type": "code",
   "execution_count": 13,
   "id": "e9abf420",
   "metadata": {
    "execution": {
     "iopub.execute_input": "2025-08-06T13:41:35.668293Z",
     "iopub.status.busy": "2025-08-06T13:41:35.668293Z",
     "iopub.status.idle": "2025-08-06T13:41:35.672837Z",
     "shell.execute_reply": "2025-08-06T13:41:35.672837Z"
    }
   },
   "outputs": [],
   "source": [
    "# Create the model with the result file path\n",
    "model_11 = dpf.Model(data_sources=result_file_path_11)\n",
    "\n",
    "# Create the model with the DataSources object\n",
    "model_12 = dpf.Model(data_sources=ds_11)"
   ]
  },
  {
   "cell_type": "code",
   "execution_count": 14,
   "id": "e434c217",
   "metadata": {
    "execution": {
     "iopub.execute_input": "2025-08-06T13:41:35.672837Z",
     "iopub.status.busy": "2025-08-06T13:41:35.672837Z",
     "iopub.status.idle": "2025-08-06T13:41:35.678620Z",
     "shell.execute_reply": "2025-08-06T13:41:35.678620Z"
    }
   },
   "outputs": [],
   "source": [
    "# Create the model with the DataSources object\n",
    "model_13 = dpf.Model(data_sources=ds_12)"
   ]
  },
  {
   "cell_type": "code",
   "execution_count": 15,
   "id": "a6e1c72e",
   "metadata": {
    "execution": {
     "iopub.execute_input": "2025-08-06T13:41:35.678620Z",
     "iopub.status.busy": "2025-08-06T13:41:35.678620Z",
     "iopub.status.idle": "2025-08-06T13:41:35.684076Z",
     "shell.execute_reply": "2025-08-06T13:41:35.684076Z"
    }
   },
   "outputs": [],
   "source": [
    "# Create the model with the DataSources object\n",
    "model_21 = dpf.Model(data_sources=ds_21)"
   ]
  },
  {
   "cell_type": "code",
   "execution_count": 16,
   "id": "ae8edeb3",
   "metadata": {
    "execution": {
     "iopub.execute_input": "2025-08-06T13:41:35.684076Z",
     "iopub.status.busy": "2025-08-06T13:41:35.684076Z",
     "iopub.status.idle": "2025-08-06T13:41:35.689632Z",
     "shell.execute_reply": "2025-08-06T13:41:35.689632Z"
    }
   },
   "outputs": [],
   "source": [
    "# Create the model with the DataSources object\n",
    "model_22 = dpf.Model(data_sources=ds_22)"
   ]
  },
  {
   "cell_type": "code",
   "execution_count": 17,
   "id": "426e8122",
   "metadata": {
    "execution": {
     "iopub.execute_input": "2025-08-06T13:41:35.689632Z",
     "iopub.status.busy": "2025-08-06T13:41:35.689632Z",
     "iopub.status.idle": "2025-08-06T13:41:35.695313Z",
     "shell.execute_reply": "2025-08-06T13:41:35.695313Z"
    }
   },
   "outputs": [],
   "source": [
    "# Create the model with the result file path\n",
    "model_31 = dpf.Model(data_sources=result_file_path_31)\n",
    "\n",
    "# Create the model with the DataSources object\n",
    "model_32 = dpf.Model(data_sources=ds_31)"
   ]
  },
  {
   "cell_type": "code",
   "execution_count": 18,
   "id": "97cbaba9",
   "metadata": {
    "execution": {
     "iopub.execute_input": "2025-08-06T13:41:35.697862Z",
     "iopub.status.busy": "2025-08-06T13:41:35.697862Z",
     "iopub.status.idle": "2025-08-06T13:41:35.700780Z",
     "shell.execute_reply": "2025-08-06T13:41:35.700780Z"
    }
   },
   "outputs": [],
   "source": [
    "# Create the model with the DataSources object\n",
    "model_33 = dpf.Model(data_sources=ds_32)"
   ]
  },
  {
   "cell_type": "code",
   "execution_count": 19,
   "id": "5b1c9b0b",
   "metadata": {
    "execution": {
     "iopub.execute_input": "2025-08-06T13:41:35.703340Z",
     "iopub.status.busy": "2025-08-06T13:41:35.703340Z",
     "iopub.status.idle": "2025-08-06T13:41:35.706380Z",
     "shell.execute_reply": "2025-08-06T13:41:35.706380Z"
    }
   },
   "outputs": [],
   "source": [
    "# Create the model with the result file path\n",
    "model_41 = dpf.Model(data_sources=result_file_path_41)\n",
    "\n",
    "# Create the model with the DataSources object\n",
    "model_42 = dpf.Model(data_sources=ds_41)"
   ]
  },
  {
   "cell_type": "code",
   "execution_count": 20,
   "id": "8a2b0562",
   "metadata": {
    "execution": {
     "iopub.execute_input": "2025-08-06T13:41:35.708442Z",
     "iopub.status.busy": "2025-08-06T13:41:35.708442Z",
     "iopub.status.idle": "2025-08-06T13:41:35.711599Z",
     "shell.execute_reply": "2025-08-06T13:41:35.711599Z"
    }
   },
   "outputs": [],
   "source": [
    "# Create the model with the DataSources object\n",
    "model_43 = dpf.Model(data_sources=ds_42)"
   ]
  }
 ],
 "metadata": {
  "kernelspec": {
   "display_name": "Python 3 (ipykernel)",
   "language": "python",
   "name": "python3"
  },
  "language_info": {
   "codemirror_mode": {
    "name": "ipython",
    "version": 3
   },
   "file_extension": ".py",
   "mimetype": "text/x-python",
   "name": "python",
   "nbconvert_exporter": "python",
   "pygments_lexer": "ipython3",
   "version": "3.11.9"
  }
 },
 "nbformat": 4,
 "nbformat_minor": 5
}