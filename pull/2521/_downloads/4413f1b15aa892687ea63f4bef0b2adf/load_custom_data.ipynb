{
 "cells": [
  {
   "cell_type": "code",
   "execution_count": 1,
   "id": "917921cf",
   "metadata": {
    "execution": {
     "iopub.execute_input": "2025-08-06T13:41:38.030093Z",
     "iopub.status.busy": "2025-08-06T13:41:38.030093Z",
     "iopub.status.idle": "2025-08-06T13:41:38.041281Z",
     "shell.execute_reply": "2025-08-06T13:41:38.041281Z"
    }
   },
   "outputs": [],
   "source": [
    "# Data for the scalar Fields (lists with 1 and 2 dimensions)\n",
    "data_1 = [6.0, 5.0, 4.0, 3.0, 2.0, 1.0]\n",
    "data_2 = [[12.0, 7.0, 8.0], [ 9.0, 31.0, 1.0]]\n",
    "\n",
    "# Data for the vector Fields (lists with 1 and 2 dimensions)\n",
    "data_3 = [4.0, 1.0, 8.0, 5.0, 7.0, 9.0]\n",
    "data_4 = [6.0, 5.0, 4.0, 3.0, 2.0, 1.0, 9.0, 7.0, 8.0, 10.0]\n",
    "data_5 = [[8.0, 4.0, 3.0], [31.0, 5.0, 7.0]]\n",
    "\n",
    "# Data for the matrix Fields\n",
    "data_6 = [3.0, 2.0, 1.0, 7.0]\n",
    "data_7 = [15.0, 3.0, 9.0, 31.0, 1.0, 42.0, 5.0, 68.0, 13.0]\n",
    "data_8 = [[12.0, 7.0, 8.0], [ 1.0, 4.0, 27.0], [98.0, 4.0, 6.0]]"
   ]
  },
  {
   "cell_type": "code",
   "execution_count": 2,
   "id": "3f449a2f",
   "metadata": {
    "execution": {
     "iopub.execute_input": "2025-08-06T13:41:38.041281Z",
     "iopub.status.busy": "2025-08-06T13:41:38.041281Z",
     "iopub.status.idle": "2025-08-06T13:41:38.046760Z",
     "shell.execute_reply": "2025-08-06T13:41:38.046760Z"
    }
   },
   "outputs": [],
   "source": [
    "# Data for the scalar Fields\n",
    "data_9 = [24.0]\n",
    "\n",
    "# Data for the vector Fields\n",
    "data_10 = [47.0, 33.0, 5.0]\n",
    "\n",
    "# Data for the matrix Fields\n",
    "data_11 = [8.0, 2.0, 4.0, 64.0, 32.0, 47.0, 11.0, 23.0, 1.0]"
   ]
  },
  {
   "cell_type": "code",
   "execution_count": 3,
   "id": "9d153dbe",
   "metadata": {
    "execution": {
     "iopub.execute_input": "2025-08-06T13:41:38.046760Z",
     "iopub.status.busy": "2025-08-06T13:41:38.046760Z",
     "iopub.status.idle": "2025-08-06T13:41:39.349007Z",
     "shell.execute_reply": "2025-08-06T13:41:39.349007Z"
    }
   },
   "outputs": [],
   "source": [
    "# Import the ``ansys.dpf.core`` module\n",
    "from ansys.dpf import core as dpf"
   ]
  },
  {
   "cell_type": "code",
   "execution_count": 4,
   "id": "e5e32e29",
   "metadata": {
    "execution": {
     "iopub.execute_input": "2025-08-06T13:41:39.349007Z",
     "iopub.status.busy": "2025-08-06T13:41:39.349007Z",
     "iopub.status.idle": "2025-08-06T13:41:39.355118Z",
     "shell.execute_reply": "2025-08-06T13:41:39.355118Z"
    }
   },
   "outputs": [],
   "source": [
    "# Define the number of entities\n",
    "num_entities_1 = 6"
   ]
  },
  {
   "cell_type": "code",
   "execution_count": 5,
   "id": "05f56795",
   "metadata": {
    "execution": {
     "iopub.execute_input": "2025-08-06T13:41:39.355118Z",
     "iopub.status.busy": "2025-08-06T13:41:39.355118Z",
     "iopub.status.idle": "2025-08-06T13:41:39.360370Z",
     "shell.execute_reply": "2025-08-06T13:41:39.360370Z"
    }
   },
   "outputs": [],
   "source": [
    "# Define the number of entities\n",
    "num_entities_2 = 2"
   ]
  },
  {
   "cell_type": "code",
   "execution_count": 6,
   "id": "3fbfcffe",
   "metadata": {
    "execution": {
     "iopub.execute_input": "2025-08-06T13:41:39.360370Z",
     "iopub.status.busy": "2025-08-06T13:41:39.360370Z",
     "iopub.status.idle": "2025-08-06T13:41:39.365911Z",
     "shell.execute_reply": "2025-08-06T13:41:39.365911Z"
    }
   },
   "outputs": [],
   "source": [
    "# Define the number of entities\n",
    "num_entities_3 = 1"
   ]
  },
  {
   "cell_type": "code",
   "execution_count": 7,
   "id": "61d18ac8",
   "metadata": {
    "execution": {
     "iopub.execute_input": "2025-08-06T13:41:39.365911Z",
     "iopub.status.busy": "2025-08-06T13:41:39.365911Z",
     "iopub.status.idle": "2025-08-06T13:41:39.371088Z",
     "shell.execute_reply": "2025-08-06T13:41:39.371088Z"
    }
   },
   "outputs": [],
   "source": [
    "# Define the number of entities\n",
    "num_entities_1 = 6"
   ]
  },
  {
   "cell_type": "code",
   "execution_count": 8,
   "id": "6cf4bfad",
   "metadata": {
    "execution": {
     "iopub.execute_input": "2025-08-06T13:41:39.374108Z",
     "iopub.status.busy": "2025-08-06T13:41:39.371088Z",
     "iopub.status.idle": "2025-08-06T13:41:39.816707Z",
     "shell.execute_reply": "2025-08-06T13:41:39.816707Z"
    }
   },
   "outputs": [
    {
     "name": "stdout",
     "output_type": "stream",
     "text": [
      "Scalar Field:  \n",
      " DPF  Field\n",
      "  Location: Nodal\n",
      "  Unit: \n",
      "  6 entities \n",
      "  Data: 1 components and 0 elementary data \n",
      " \n",
      "\n"
     ]
    }
   ],
   "source": [
    "# Instanciate the Field\n",
    "field_11 = dpf.Field(nentities=num_entities_1, nature=dpf.common.natures.scalar)\n",
    "\n",
    "# Set the scoping ids\n",
    "field_11.scoping.ids = range(num_entities_1)\n",
    "\n",
    "# Print the Field\n",
    "print(\"Scalar Field: \", '\\n',field_11, '\\n')"
   ]
  },
  {
   "cell_type": "code",
   "execution_count": 9,
   "id": "dbcbf0bc",
   "metadata": {
    "execution": {
     "iopub.execute_input": "2025-08-06T13:41:39.819736Z",
     "iopub.status.busy": "2025-08-06T13:41:39.819736Z",
     "iopub.status.idle": "2025-08-06T13:41:39.824416Z",
     "shell.execute_reply": "2025-08-06T13:41:39.824416Z"
    }
   },
   "outputs": [
    {
     "name": "stdout",
     "output_type": "stream",
     "text": [
      "Scalar Field :  \n",
      " DPF  Field\n",
      "  Location: Nodal\n",
      "  Unit: \n",
      "  6 entities \n",
      "  Data: 1 components and 0 elementary data \n",
      " \n",
      "\n"
     ]
    }
   ],
   "source": [
    "# Instanciate the Field\n",
    "field_12 = dpf.Field(nentities=num_entities_1)\n",
    "\n",
    "# Use the Field.dimensionality method\n",
    "field_12.dimensionality = dpf.Dimensionality([1])\n",
    "\n",
    "# Set the scoping ids\n",
    "field_12.scoping.ids = range(num_entities_1)\n",
    "\n",
    "# Print the Field\n",
    "print(\"Scalar Field : \", '\\n',field_12, '\\n')"
   ]
  },
  {
   "cell_type": "code",
   "execution_count": 10,
   "id": "80fff327",
   "metadata": {
    "execution": {
     "iopub.execute_input": "2025-08-06T13:41:39.824416Z",
     "iopub.status.busy": "2025-08-06T13:41:39.824416Z",
     "iopub.status.idle": "2025-08-06T13:41:39.829536Z",
     "shell.execute_reply": "2025-08-06T13:41:39.829536Z"
    }
   },
   "outputs": [],
   "source": [
    "# Define the number of entities\n",
    "num_entities_2 = 2"
   ]
  },
  {
   "cell_type": "code",
   "execution_count": 11,
   "id": "1dd74c38",
   "metadata": {
    "execution": {
     "iopub.execute_input": "2025-08-06T13:41:39.832164Z",
     "iopub.status.busy": "2025-08-06T13:41:39.832164Z",
     "iopub.status.idle": "2025-08-06T13:41:39.836576Z",
     "shell.execute_reply": "2025-08-06T13:41:39.836576Z"
    }
   },
   "outputs": [
    {
     "name": "stdout",
     "output_type": "stream",
     "text": [
      "3D vector Field :  \n",
      " DPF  Field\n",
      "  Location: Nodal\n",
      "  Unit: \n",
      "  2 entities \n",
      "  Data: 3 components and 0 elementary data \n",
      " \n",
      "\n"
     ]
    }
   ],
   "source": [
    "# Instantiate the Field\n",
    "field_21 = dpf.Field(nentities=num_entities_2)\n",
    "\n",
    "# Set the scoping ids\n",
    "field_21.scoping.ids = range(num_entities_2)\n",
    "\n",
    "# Print the Field\n",
    "print(\"3D vector Field : \", '\\n',field_21, '\\n')"
   ]
  },
  {
   "cell_type": "code",
   "execution_count": 12,
   "id": "6e69ecbf",
   "metadata": {
    "execution": {
     "iopub.execute_input": "2025-08-06T13:41:39.836576Z",
     "iopub.status.busy": "2025-08-06T13:41:39.836576Z",
     "iopub.status.idle": "2025-08-06T13:41:39.843701Z",
     "shell.execute_reply": "2025-08-06T13:41:39.843701Z"
    }
   },
   "outputs": [
    {
     "name": "stdout",
     "output_type": "stream",
     "text": [
      "5D vector Field (5D):  \n",
      " DPF  Field\n",
      "  Location: Nodal\n",
      "  Unit: \n",
      "  2 entities \n",
      "  Data: 5 components and 0 elementary data \n",
      " \n",
      "\n"
     ]
    }
   ],
   "source": [
    "# Instantiate the Field\n",
    "field_31 = dpf.Field(nentities=num_entities_2)\n",
    "\n",
    "# Use the Field.dimensionality method\n",
    "field_31.dimensionality = dpf.Dimensionality([5])\n",
    "\n",
    "# Set the scoping ids\n",
    "field_31.scoping.ids = range(num_entities_2)\n",
    "\n",
    "# Print the Field\n",
    "print(\"5D vector Field (5D): \", '\\n',field_31, '\\n')"
   ]
  },
  {
   "cell_type": "code",
   "execution_count": 13,
   "id": "535ac785",
   "metadata": {
    "execution": {
     "iopub.execute_input": "2025-08-06T13:41:39.843701Z",
     "iopub.status.busy": "2025-08-06T13:41:39.843701Z",
     "iopub.status.idle": "2025-08-06T13:41:39.850464Z",
     "shell.execute_reply": "2025-08-06T13:41:39.850464Z"
    }
   },
   "outputs": [
    {
     "name": "stdout",
     "output_type": "stream",
     "text": [
      "Scalar Field:  \n",
      " DPF  Field\n",
      "  Location: Nodal\n",
      "  Unit: \n",
      "  6 entities \n",
      "  Data: 1 components and 0 elementary data \n",
      " \n",
      "\n"
     ]
    }
   ],
   "source": [
    "# Create the scalar Field\n",
    "field_13 = dpf.fields_factory.create_scalar_field(num_entities=num_entities_1)\n",
    "\n",
    "# Set the scoping ids\n",
    "field_13.scoping.ids = range(num_entities_1)\n",
    "\n",
    "# Print the Field\n",
    "print(\"Scalar Field: \", '\\n',field_13, '\\n')"
   ]
  },
  {
   "cell_type": "code",
   "execution_count": 14,
   "id": "d74d9233",
   "metadata": {
    "execution": {
     "iopub.execute_input": "2025-08-06T13:41:39.853124Z",
     "iopub.status.busy": "2025-08-06T13:41:39.853124Z",
     "iopub.status.idle": "2025-08-06T13:41:39.857548Z",
     "shell.execute_reply": "2025-08-06T13:41:39.857548Z"
    }
   },
   "outputs": [
    {
     "name": "stdout",
     "output_type": "stream",
     "text": [
      "Scalar Field:  \n",
      " DPF  Field\n",
      "  Location: Nodal\n",
      "  Unit: \n",
      "  6 entities \n",
      "  Data: 1 components and 6 elementary data \n",
      "\n",
      "  IDs                   data\n",
      "  ------------          ----------\n",
      "  0                     6.000000e+00   \n",
      "                        \n",
      "  1                     5.000000e+00   \n",
      "                        \n",
      "  2                     4.000000e+00   \n",
      "                        \n",
      "  ...\n",
      "\n",
      " \n",
      "\n"
     ]
    }
   ],
   "source": [
    "# Use the field_from_array function\n",
    "field_14 = dpf.fields_factory.field_from_array(arr=data_1)\n",
    "\n",
    "# Set the scoping ids\n",
    "field_14.scoping.ids = range(num_entities_1)\n",
    "\n",
    "# Print the Field\n",
    "print(\"Scalar Field: \", '\\n',field_14, '\\n')"
   ]
  },
  {
   "cell_type": "code",
   "execution_count": 15,
   "id": "72120f9c",
   "metadata": {
    "execution": {
     "iopub.execute_input": "2025-08-06T13:41:39.857548Z",
     "iopub.status.busy": "2025-08-06T13:41:39.857548Z",
     "iopub.status.idle": "2025-08-06T13:41:39.864671Z",
     "shell.execute_reply": "2025-08-06T13:41:39.864671Z"
    }
   },
   "outputs": [
    {
     "name": "stdout",
     "output_type": "stream",
     "text": [
      "Scalar Field (b):  \n",
      " DPF  Field\n",
      "  Location: Nodal\n",
      "  Unit: \n",
      "  6 entities \n",
      "  Data: 1 components and 6 elementary data \n",
      "\n",
      "  IDs                   data\n",
      "  ------------          ----------\n",
      "  0                     1.200000e+01   \n",
      "                        \n",
      "  1                     7.000000e+00   \n",
      "                        \n",
      "  2                     8.000000e+00   \n",
      "                        \n",
      "  ...\n",
      "\n",
      " \n",
      "\n"
     ]
    }
   ],
   "source": [
    "# Use the field_from_array function\n",
    "field_15 = dpf.fields_factory.field_from_array(arr=data_2)\n",
    "\n",
    "# Use the |Field.dimensionality| method\n",
    "field_15.dimensionality = dpf.Dimensionality([1])\n",
    "\n",
    "# Set the scoping ids\n",
    "field_15.scoping.ids = range(num_entities_1)\n",
    "\n",
    "# Print the Field\n",
    "print(\"Scalar Field (b): \", '\\n',field_15, '\\n')"
   ]
  },
  {
   "cell_type": "code",
   "execution_count": 16,
   "id": "9442422e",
   "metadata": {
    "execution": {
     "iopub.execute_input": "2025-08-06T13:41:39.867196Z",
     "iopub.status.busy": "2025-08-06T13:41:39.867196Z",
     "iopub.status.idle": "2025-08-06T13:41:39.871701Z",
     "shell.execute_reply": "2025-08-06T13:41:39.871701Z"
    }
   },
   "outputs": [
    {
     "name": "stdout",
     "output_type": "stream",
     "text": [
      "3D vector Field :  \n",
      " DPF  Field\n",
      "  Location: Nodal\n",
      "  Unit: \n",
      "  2 entities \n",
      "  Data: 3 components and 0 elementary data \n",
      " \n",
      "\n"
     ]
    }
   ],
   "source": [
    "# Use the create_vector_field function\n",
    "field_22 = dpf.fields_factory.create_vector_field(num_entities=num_entities_2, num_comp=3)\n",
    "\n",
    "# Set the scoping ids\n",
    "field_22.scoping.ids = range(num_entities_2)\n",
    "\n",
    "# Print the Field\n",
    "print(\"3D vector Field : \", '\\n',field_22, '\\n')"
   ]
  },
  {
   "cell_type": "code",
   "execution_count": 17,
   "id": "8cd7e701",
   "metadata": {
    "execution": {
     "iopub.execute_input": "2025-08-06T13:41:39.873816Z",
     "iopub.status.busy": "2025-08-06T13:41:39.873816Z",
     "iopub.status.idle": "2025-08-06T13:41:39.878592Z",
     "shell.execute_reply": "2025-08-06T13:41:39.878592Z"
    }
   },
   "outputs": [
    {
     "name": "stdout",
     "output_type": "stream",
     "text": [
      "5D vector Field :  \n",
      " DPF  Field\n",
      "  Location: Nodal\n",
      "  Unit: \n",
      "  2 entities \n",
      "  Data: 5 components and 0 elementary data \n",
      " \n",
      "\n"
     ]
    }
   ],
   "source": [
    "# Use the create_vector_field function\n",
    "field_32 = dpf.fields_factory.create_vector_field(num_entities=num_entities_2, num_comp=5)\n",
    "\n",
    "# Set the scoping ids\n",
    "field_32.scoping.ids = range(num_entities_2)\n",
    "\n",
    "# Print the Field\n",
    "print(\"5D vector Field : \", '\\n',field_32, '\\n')"
   ]
  },
  {
   "cell_type": "code",
   "execution_count": 18,
   "id": "9adf4b62",
   "metadata": {
    "execution": {
     "iopub.execute_input": "2025-08-06T13:41:39.878592Z",
     "iopub.status.busy": "2025-08-06T13:41:39.878592Z",
     "iopub.status.idle": "2025-08-06T13:41:39.885956Z",
     "shell.execute_reply": "2025-08-06T13:41:39.885956Z"
    }
   },
   "outputs": [
    {
     "name": "stdout",
     "output_type": "stream",
     "text": [
      "Vector Field (3D):  \n",
      " DPF  Field\n",
      "  Location: Nodal\n",
      "  Unit: \n",
      "  2 entities \n",
      "  Data: 3 components and 0 elementary data \n",
      " \n",
      "\n"
     ]
    }
   ],
   "source": [
    "# Create the 3d vector Field\n",
    "field_25 = dpf.fields_factory.create_3d_vector_field(num_entities=num_entities_2)\n",
    "# Set the scoping ids\n",
    "field_25.scoping.ids = range(num_entities_2)\n",
    "\n",
    "# Print the Field\n",
    "print(\"Vector Field (3D): \", '\\n',field_25, '\\n')"
   ]
  },
  {
   "cell_type": "code",
   "execution_count": 19,
   "id": "2a2b7121",
   "metadata": {
    "execution": {
     "iopub.execute_input": "2025-08-06T13:41:39.885956Z",
     "iopub.status.busy": "2025-08-06T13:41:39.885956Z",
     "iopub.status.idle": "2025-08-06T13:41:39.893852Z",
     "shell.execute_reply": "2025-08-06T13:41:39.893298Z"
    }
   },
   "outputs": [
    {
     "name": "stdout",
     "output_type": "stream",
     "text": [
      "3D vector Field:  \n",
      " DPF  Field\n",
      "  Location: Nodal\n",
      "  Unit: \n",
      "  2 entities \n",
      "  Data: 3 components and 2 elementary data \n",
      "\n",
      "  IDs                   data\n",
      "  ------------          ----------\n",
      "  0                     4.000000e+00   1.000000e+00   8.000000e+00   \n",
      "                        \n",
      "  1                     5.000000e+00   7.000000e+00   9.000000e+00   \n",
      "                        \n",
      "\n",
      " \n",
      "\n"
     ]
    }
   ],
   "source": [
    "# Use the field_from_array function\n",
    "field_23 = dpf.fields_factory.field_from_array(arr=data_3)\n",
    "\n",
    "# Use the Field.dimensionality method\n",
    "field_23.dimensionality = dpf.Dimensionality([3])\n",
    "\n",
    "# Set the scoping ids\n",
    "field_23.scoping.ids = range(num_entities_2)\n",
    "\n",
    "# Print the Field\n",
    "print(\"3D vector Field: \", '\\n',field_23, '\\n')"
   ]
  },
  {
   "cell_type": "code",
   "execution_count": 20,
   "id": "34da2c20",
   "metadata": {
    "execution": {
     "iopub.execute_input": "2025-08-06T13:41:39.894414Z",
     "iopub.status.busy": "2025-08-06T13:41:39.894414Z",
     "iopub.status.idle": "2025-08-06T13:41:39.900401Z",
     "shell.execute_reply": "2025-08-06T13:41:39.900401Z"
    }
   },
   "outputs": [
    {
     "name": "stdout",
     "output_type": "stream",
     "text": [
      "3D vector Field:  \n",
      " DPF  Field\n",
      "  Location: Nodal\n",
      "  Unit: \n",
      "  2 entities \n",
      "  Data: 3 components and 2 elementary data \n",
      "\n",
      "  IDs                   data\n",
      "  ------------          ----------\n",
      "  0                     8.000000e+00   4.000000e+00   3.000000e+00   \n",
      "                        \n",
      "  1                     3.100000e+01   5.000000e+00   7.000000e+00   \n",
      "                        \n",
      "\n",
      " \n",
      "\n"
     ]
    }
   ],
   "source": [
    "# Use the field_from_array function\n",
    "field_24 = dpf.fields_factory.field_from_array(arr=data_5)\n",
    "\n",
    "# Set the scoping ids\n",
    "field_24.scoping.ids = range(num_entities_2)\n",
    "\n",
    "# Print the Field\n",
    "print(\"3D vector Field: \", '\\n',field_24, '\\n')"
   ]
  },
  {
   "cell_type": "code",
   "execution_count": 21,
   "id": "9defc50e",
   "metadata": {
    "execution": {
     "iopub.execute_input": "2025-08-06T13:41:39.900401Z",
     "iopub.status.busy": "2025-08-06T13:41:39.900401Z",
     "iopub.status.idle": "2025-08-06T13:41:39.907667Z",
     "shell.execute_reply": "2025-08-06T13:41:39.907667Z"
    }
   },
   "outputs": [
    {
     "name": "stdout",
     "output_type": "stream",
     "text": [
      "Matrix Field (2,2) :  \n",
      " DPF  Field\n",
      "  Location: Nodal\n",
      "  Unit: \n",
      "  1 entities \n",
      "  Data: 4 components and 0 elementary data \n",
      " \n",
      "\n"
     ]
    }
   ],
   "source": [
    "# Use the create_matrix_field function\n",
    "field_41 = dpf.fields_factory.create_matrix_field(num_entities=num_entities_3, num_lines=2, num_col=2)\n",
    "\n",
    "# Set the scoping ids\n",
    "field_41.scoping.ids = range(num_entities_3)\n",
    "\n",
    "# Print the Field\n",
    "print(\"Matrix Field (2,2) : \", '\\n',field_41, '\\n')"
   ]
  },
  {
   "cell_type": "code",
   "execution_count": 22,
   "id": "3988f495",
   "metadata": {
    "execution": {
     "iopub.execute_input": "2025-08-06T13:41:39.907667Z",
     "iopub.status.busy": "2025-08-06T13:41:39.907667Z",
     "iopub.status.idle": "2025-08-06T13:41:39.915337Z",
     "shell.execute_reply": "2025-08-06T13:41:39.915337Z"
    }
   },
   "outputs": [
    {
     "name": "stdout",
     "output_type": "stream",
     "text": [
      "Matrix Field 1 (3,3) :  \n",
      " DPF  Field\n",
      "  Location: Nodal\n",
      "  Unit: \n",
      "  1 entities \n",
      "  Data: 9 components and 0 elementary data \n",
      " \n",
      "\n",
      "Matrix Field 2 (3,3) :  \n",
      " DPF  Field\n",
      "  Location: Nodal\n",
      "  Unit: \n",
      "  1 entities \n",
      "  Data: 9 components and 0 elementary data \n",
      " \n",
      "\n"
     ]
    }
   ],
   "source": [
    "# Use the create_matrix_field function\n",
    "field_51 = dpf.fields_factory.create_matrix_field(num_entities=num_entities_3, num_lines=3, num_col=3)\n",
    "field_52 = dpf.fields_factory.create_matrix_field(num_entities=num_entities_3, num_lines=3, num_col=3)\n",
    "\n",
    "# Set the scoping ids\n",
    "field_51.scoping.ids = range(num_entities_3)\n",
    "field_52.scoping.ids = range(num_entities_3)\n",
    "\n",
    "# Print the Field\n",
    "print(\"Matrix Field 1 (3,3) : \", '\\n',field_51, '\\n')\n",
    "print(\"Matrix Field 2 (3,3) : \", '\\n',field_52, '\\n')"
   ]
  },
  {
   "cell_type": "code",
   "execution_count": 23,
   "id": "efbf8594",
   "metadata": {
    "execution": {
     "iopub.execute_input": "2025-08-06T13:41:39.915337Z",
     "iopub.status.busy": "2025-08-06T13:41:39.915337Z",
     "iopub.status.idle": "2025-08-06T13:41:39.923710Z",
     "shell.execute_reply": "2025-08-06T13:41:39.923710Z"
    }
   },
   "outputs": [
    {
     "name": "stdout",
     "output_type": "stream",
     "text": [
      "Scalar Field :  \n",
      " DPF  Field\n",
      "  Location: Nodal\n",
      "  Unit: \n",
      "  6 entities \n",
      "  Data: 1 components and 6 elementary data \n",
      "\n",
      "  IDs                   data\n",
      "  ------------          ----------\n",
      "  0                     6.000000e+00   \n",
      "                        \n",
      "  1                     5.000000e+00   \n",
      "                        \n",
      "  2                     4.000000e+00   \n",
      "                        \n",
      "  ...\n",
      "\n",
      " \n",
      "\n",
      "Data scalar Field :  \n",
      " [6. 5. 4. 3. 2. 1.] \n",
      "\n"
     ]
    }
   ],
   "source": [
    "# Set the data\n",
    "field_11.data = data_1\n",
    "\n",
    "# Print the Field\n",
    "print(\"Scalar Field : \", '\\n',field_11, '\\n')\n",
    "\n",
    "# Print the Fields data\n",
    "print(\"Data scalar Field : \", '\\n',field_11.data, '\\n')"
   ]
  },
  {
   "cell_type": "code",
   "execution_count": 24,
   "id": "9d063660",
   "metadata": {
    "execution": {
     "iopub.execute_input": "2025-08-06T13:41:39.925318Z",
     "iopub.status.busy": "2025-08-06T13:41:39.925318Z",
     "iopub.status.idle": "2025-08-06T13:41:39.930647Z",
     "shell.execute_reply": "2025-08-06T13:41:39.930647Z"
    }
   },
   "outputs": [
    {
     "name": "stdout",
     "output_type": "stream",
     "text": [
      "Scalar Field :  \n",
      " DPF  Field\n",
      "  Location: Nodal\n",
      "  Unit: \n",
      "  6 entities \n",
      "  Data: 1 components and 6 elementary data \n",
      "\n",
      "  IDs                   data\n",
      "  ------------          ----------\n",
      "  0                     1.200000e+01   \n",
      "                        \n",
      "  1                     7.000000e+00   \n",
      "                        \n",
      "  2                     8.000000e+00   \n",
      "                        \n",
      "  ...\n",
      "\n",
      " \n",
      "\n",
      "Data scalar Field :  \n",
      " [12.  7.  8.  9. 31.  1.] \n",
      "\n"
     ]
    }
   ],
   "source": [
    "# Set the data\n",
    "field_12.data = data_2\n",
    "\n",
    "# Print the Field\n",
    "print(\"Scalar Field : \", '\\n',field_12, '\\n')\n",
    "\n",
    "# Print the Fields data\n",
    "print(\"Data scalar Field : \", '\\n',field_12.data, '\\n')"
   ]
  },
  {
   "cell_type": "code",
   "execution_count": 25,
   "id": "34adad54",
   "metadata": {
    "execution": {
     "iopub.execute_input": "2025-08-06T13:41:39.930647Z",
     "iopub.status.busy": "2025-08-06T13:41:39.930647Z",
     "iopub.status.idle": "2025-08-06T13:41:39.937592Z",
     "shell.execute_reply": "2025-08-06T13:41:39.937592Z"
    }
   },
   "outputs": [
    {
     "name": "stdout",
     "output_type": "stream",
     "text": [
      "Vector Field :  \n",
      " DPF  Field\n",
      "  Location: Nodal\n",
      "  Unit: \n",
      "  2 entities \n",
      "  Data: 3 components and 2 elementary data \n",
      "\n",
      "  IDs                   data\n",
      "  ------------          ----------\n",
      "  0                     4.000000e+00   1.000000e+00   8.000000e+00   \n",
      "                        \n",
      "  1                     5.000000e+00   7.000000e+00   9.000000e+00   \n",
      "                        \n",
      "\n",
      " \n",
      "\n",
      "Data vector Field:  \n",
      " [[4. 1. 8.]\n",
      " [5. 7. 9.]] \n",
      "\n"
     ]
    }
   ],
   "source": [
    "# Set the data\n",
    "field_21.data = data_3\n",
    "\n",
    "# Print the Field\n",
    "print(\"Vector Field : \", '\\n',field_21, '\\n')\n",
    "\n",
    "# Print the Fields data\n",
    "print(\"Data vector Field: \", '\\n',field_21.data, '\\n')"
   ]
  },
  {
   "cell_type": "code",
   "execution_count": 26,
   "id": "6dcb9161",
   "metadata": {
    "execution": {
     "iopub.execute_input": "2025-08-06T13:41:39.937592Z",
     "iopub.status.busy": "2025-08-06T13:41:39.937592Z",
     "iopub.status.idle": "2025-08-06T13:41:39.944546Z",
     "shell.execute_reply": "2025-08-06T13:41:39.944546Z"
    }
   },
   "outputs": [
    {
     "name": "stdout",
     "output_type": "stream",
     "text": [
      "Vector Field:  \n",
      " DPF  Field\n",
      "  Location: Nodal\n",
      "  Unit: \n",
      "  2 entities \n",
      "  Data: 5 components and 2 elementary data \n",
      "\n",
      "  IDs                   data\n",
      "  ------------          ----------\n",
      "  0                     6.000000e+00   5.000000e+00   4.000000e+00   3.000000e+00   2.000000e+00   \n",
      "                        \n",
      "  1                     1.000000e+00   9.000000e+00   7.000000e+00   8.000000e+00   1.000000e+01   \n",
      "                        \n",
      "\n",
      " \n",
      "\n",
      "Data vector Field :  \n",
      " [[ 6.  5.  4.  3.  2.]\n",
      " [ 1.  9.  7.  8. 10.]] \n",
      "\n"
     ]
    }
   ],
   "source": [
    "# Set the data\n",
    "field_31.data = data_4\n",
    "\n",
    "# Print the Field\n",
    "print(\"Vector Field: \", '\\n',field_31, '\\n')\n",
    "\n",
    "# Print the Fields data\n",
    "print(\"Data vector Field : \", '\\n',field_31.data, '\\n')"
   ]
  },
  {
   "cell_type": "code",
   "execution_count": 27,
   "id": "ce748eeb",
   "metadata": {
    "execution": {
     "iopub.execute_input": "2025-08-06T13:41:39.946162Z",
     "iopub.status.busy": "2025-08-06T13:41:39.946162Z",
     "iopub.status.idle": "2025-08-06T13:41:39.951418Z",
     "shell.execute_reply": "2025-08-06T13:41:39.951418Z"
    }
   },
   "outputs": [
    {
     "name": "stdout",
     "output_type": "stream",
     "text": [
      "Vector Field:  \n",
      " DPF  Field\n",
      "  Location: Nodal\n",
      "  Unit: \n",
      "  2 entities \n",
      "  Data: 3 components and 2 elementary data \n",
      "\n",
      "  IDs                   data\n",
      "  ------------          ----------\n",
      "  0                     8.000000e+00   4.000000e+00   3.000000e+00   \n",
      "                        \n",
      "  1                     3.100000e+01   5.000000e+00   7.000000e+00   \n",
      "                        \n",
      "\n",
      " \n",
      "\n",
      "Data vector Field:  \n",
      " [[ 8.  4.  3.]\n",
      " [31.  5.  7.]] \n",
      "\n"
     ]
    }
   ],
   "source": [
    "# Set the data\n",
    "field_22.data = data_5\n",
    "\n",
    "# Print the Field\n",
    "print(\"Vector Field: \", '\\n',field_22, '\\n')\n",
    "\n",
    "# Print the Fields data\n",
    "print(\"Data vector Field: \", '\\n',field_22.data, '\\n')"
   ]
  },
  {
   "cell_type": "code",
   "execution_count": 28,
   "id": "fc8e0772",
   "metadata": {
    "execution": {
     "iopub.execute_input": "2025-08-06T13:41:39.951418Z",
     "iopub.status.busy": "2025-08-06T13:41:39.951418Z",
     "iopub.status.idle": "2025-08-06T13:41:39.958548Z",
     "shell.execute_reply": "2025-08-06T13:41:39.958548Z"
    }
   },
   "outputs": [
    {
     "name": "stdout",
     "output_type": "stream",
     "text": [
      "Matrix Field:  \n",
      " DPF  Field\n",
      "  Location: Nodal\n",
      "  Unit: \n",
      "  1 entities \n",
      "  Data: 4 components and 1 elementary data \n",
      "\n",
      "  IDs                   data\n",
      "  ------------          ----------\n",
      "  0                     3.000000e+00   2.000000e+00   1.000000e+00   7.000000e+00   \n",
      "                        \n",
      "\n",
      " \n",
      "\n",
      "Data matrix Field:  \n",
      " [[3. 2. 1. 7.]] \n",
      "\n"
     ]
    }
   ],
   "source": [
    "# Set the data\n",
    "field_41.data = data_6\n",
    "\n",
    "# Print the Field\n",
    "print(\"Matrix Field: \", '\\n',field_41, '\\n')\n",
    "\n",
    "# Print the Fields data\n",
    "print(\"Data matrix Field: \", '\\n',field_41.data, '\\n')"
   ]
  },
  {
   "cell_type": "code",
   "execution_count": 29,
   "id": "8ab374d7",
   "metadata": {
    "execution": {
     "iopub.execute_input": "2025-08-06T13:41:39.958548Z",
     "iopub.status.busy": "2025-08-06T13:41:39.958548Z",
     "iopub.status.idle": "2025-08-06T13:41:39.966690Z",
     "shell.execute_reply": "2025-08-06T13:41:39.966136Z"
    }
   },
   "outputs": [
    {
     "name": "stdout",
     "output_type": "stream",
     "text": [
      "Matrix Field:  \n",
      " DPF  Field\n",
      "  Location: Nodal\n",
      "  Unit: \n",
      "  1 entities \n",
      "  Data: 9 components and 1 elementary data \n",
      "\n",
      "  IDs                   data\n",
      "  ------------          ----------\n",
      "  0                     1.500000e+01   3.000000e+00   9.000000e+00   3.100000e+01   1.000000e+00   4.200000e+01   5.000000e+00   6.800000e+01   1.300000e+01   \n",
      "                        \n",
      "\n",
      " \n",
      "\n",
      "Data matrix Field:  \n",
      " [[15.  3.  9. 31.  1. 42.  5. 68. 13.]] \n",
      "\n"
     ]
    }
   ],
   "source": [
    "# Set the data\n",
    "field_51.data = data_7\n",
    "\n",
    "# Print the Field\n",
    "print(\"Matrix Field: \", '\\n',field_51, '\\n')\n",
    "\n",
    "# Print the Fields data\n",
    "print(\"Data matrix Field: \", '\\n',field_51.data, '\\n')"
   ]
  },
  {
   "cell_type": "code",
   "execution_count": 30,
   "id": "2016d071",
   "metadata": {
    "execution": {
     "iopub.execute_input": "2025-08-06T13:41:39.966690Z",
     "iopub.status.busy": "2025-08-06T13:41:39.966690Z",
     "iopub.status.idle": "2025-08-06T13:41:39.973387Z",
     "shell.execute_reply": "2025-08-06T13:41:39.973387Z"
    }
   },
   "outputs": [
    {
     "name": "stdout",
     "output_type": "stream",
     "text": [
      "Matrix Field:  \n",
      " DPF  Field\n",
      "  Location: Nodal\n",
      "  Unit: \n",
      "  1 entities \n",
      "  Data: 9 components and 1 elementary data \n",
      "\n",
      "  IDs                   data\n",
      "  ------------          ----------\n",
      "  0                     1.500000e+01   3.000000e+00   9.000000e+00   3.100000e+01   1.000000e+00   4.200000e+01   5.000000e+00   6.800000e+01   1.300000e+01   \n",
      "                        \n",
      "\n",
      " \n",
      "\n",
      "Data matrix Field:  \n",
      " [[15.  3.  9. 31.  1. 42.  5. 68. 13.]] \n",
      "\n"
     ]
    }
   ],
   "source": [
    "# Set the data\n",
    "field_52.data = data_8\n",
    "\n",
    "# Print the Field\n",
    "print(\"Matrix Field: \", '\\n',field_51, '\\n')\n",
    "\n",
    "# Print the Fields data\n",
    "print(\"Data matrix Field: \", '\\n',field_51.data, '\\n')"
   ]
  },
  {
   "cell_type": "code",
   "execution_count": 31,
   "id": "356ce682",
   "metadata": {
    "execution": {
     "iopub.execute_input": "2025-08-06T13:41:39.977023Z",
     "iopub.status.busy": "2025-08-06T13:41:39.976464Z",
     "iopub.status.idle": "2025-08-06T13:41:39.981133Z",
     "shell.execute_reply": "2025-08-06T13:41:39.981133Z"
    }
   },
   "outputs": [
    {
     "name": "stdout",
     "output_type": "stream",
     "text": [
      "Scalar Field :  \n",
      " DPF  Field\n",
      "  Location: Nodal\n",
      "  Unit: \n",
      "  7 entities \n",
      "  Data: 1 components and 7 elementary data \n",
      "\n",
      "  IDs                   data\n",
      "  ------------          ----------\n",
      "  0                     6.000000e+00   \n",
      "                        \n",
      "  1                     5.000000e+00   \n",
      "                        \n",
      "  2                     4.000000e+00   \n",
      "                        \n",
      "  ...\n",
      "\n",
      " \n",
      "\n",
      "Data scalar Field:  \n",
      " [ 6.  5.  4.  3.  2.  1. 24.] \n",
      "\n"
     ]
    }
   ],
   "source": [
    "# Append the data\n",
    "field_11.append(scopingid=6, data=data_9)\n",
    "\n",
    "# Print the Field\n",
    "print(\"Scalar Field : \", '\\n',field_11, '\\n')\n",
    "\n",
    "# Print the Fields data\n",
    "print(\"Data scalar Field: \", '\\n',field_11.data, '\\n')"
   ]
  },
  {
   "cell_type": "code",
   "execution_count": 32,
   "id": "8ccc028a",
   "metadata": {
    "execution": {
     "iopub.execute_input": "2025-08-06T13:41:39.981133Z",
     "iopub.status.busy": "2025-08-06T13:41:39.981133Z",
     "iopub.status.idle": "2025-08-06T13:41:39.988818Z",
     "shell.execute_reply": "2025-08-06T13:41:39.988818Z"
    }
   },
   "outputs": [
    {
     "name": "stdout",
     "output_type": "stream",
     "text": [
      "Vector Field :  \n",
      " DPF  Field\n",
      "  Location: Nodal\n",
      "  Unit: \n",
      "  3 entities \n",
      "  Data: 3 components and 3 elementary data \n",
      "\n",
      "  IDs                   data\n",
      "  ------------          ----------\n",
      "  0                     4.000000e+00   1.000000e+00   8.000000e+00   \n",
      "                        \n",
      "  1                     5.000000e+00   7.000000e+00   9.000000e+00   \n",
      "                        \n",
      "  2                     4.700000e+01   3.300000e+01   5.000000e+00   \n",
      "                        \n",
      "\n",
      " \n",
      "\n",
      "Data vector Field:  \n",
      " [[ 4.  1.  8.]\n",
      " [ 5.  7.  9.]\n",
      " [47. 33.  5.]] \n",
      "\n"
     ]
    }
   ],
   "source": [
    "# Append the data\n",
    "field_21.append(scopingid=2, data=data_10)\n",
    "\n",
    "# Print the Field\n",
    "print(\"Vector Field : \", '\\n',field_21, '\\n')\n",
    "\n",
    "# Print the Fields data\n",
    "print(\"Data vector Field: \", '\\n',field_21.data, '\\n')"
   ]
  },
  {
   "cell_type": "code",
   "execution_count": 33,
   "id": "92ca39e8",
   "metadata": {
    "execution": {
     "iopub.execute_input": "2025-08-06T13:41:39.988818Z",
     "iopub.status.busy": "2025-08-06T13:41:39.988818Z",
     "iopub.status.idle": "2025-08-06T13:41:39.995887Z",
     "shell.execute_reply": "2025-08-06T13:41:39.995887Z"
    }
   },
   "outputs": [
    {
     "name": "stdout",
     "output_type": "stream",
     "text": [
      "VMatrix Field :  \n",
      " DPF  Field\n",
      "  Location: Nodal\n",
      "  Unit: \n",
      "  2 entities \n",
      "  Data: 9 components and 2 elementary data \n",
      "\n",
      "  IDs                   data\n",
      "  ------------          ----------\n",
      "  0                     1.500000e+01   3.000000e+00   9.000000e+00   3.100000e+01   1.000000e+00   4.200000e+01   5.000000e+00   6.800000e+01   1.300000e+01   \n",
      "                        \n",
      "  1                     8.000000e+00   2.000000e+00   4.000000e+00   6.400000e+01   3.200000e+01   4.700000e+01   1.100000e+01   2.300000e+01   1.000000e+00   \n",
      "                        \n",
      "\n",
      " \n",
      "\n",
      "Data Matrix Field:  \n",
      " [[15.  3.  9. 31.  1. 42.  5. 68. 13.]\n",
      " [ 8.  2.  4. 64. 32. 47. 11. 23.  1.]] \n",
      "\n"
     ]
    }
   ],
   "source": [
    "# Append the data\n",
    "field_51.append(scopingid=1, data=data_11)\n",
    "\n",
    "# Print the Field\n",
    "print(\"VMatrix Field : \", '\\n',field_51, '\\n')\n",
    "\n",
    "# Print the Fields data\n",
    "print(\"Data Matrix Field: \", '\\n',field_51.data, '\\n')"
   ]
  },
  {
   "cell_type": "code",
   "execution_count": 34,
   "id": "beefd64a",
   "metadata": {
    "execution": {
     "iopub.execute_input": "2025-08-06T13:41:39.998487Z",
     "iopub.status.busy": "2025-08-06T13:41:39.998487Z",
     "iopub.status.idle": "2025-08-06T13:41:40.002776Z",
     "shell.execute_reply": "2025-08-06T13:41:40.002776Z"
    }
   },
   "outputs": [
    {
     "name": "stdout",
     "output_type": "stream",
     "text": [
      "DPF  Fields Container\n",
      "  with 2 field(s)\n",
      "  defined on labels: time \n",
      "\n",
      "  with:\n",
      "  - field 0 {time:  0} with Nodal location, 3 components and 3 entities.\n",
      "  - field 1 {time:  1} with Nodal location, 5 components and 2 entities.\n",
      "\n"
     ]
    }
   ],
   "source": [
    "# Create the FieldsContainer object\n",
    "fc_1 = dpf.FieldsContainer()\n",
    "\n",
    "# Define the labels\n",
    "fc_1.add_label(label=\"time\")\n",
    "\n",
    "# Add the Fields\n",
    "fc_1.add_field(label_space={\"time\": 0}, field=field_21)\n",
    "fc_1.add_field(label_space={\"time\": 1}, field=field_31)\n",
    "\n",
    "# Print the FieldsContainer\n",
    "print(fc_1)"
   ]
  },
  {
   "cell_type": "code",
   "execution_count": 35,
   "id": "724535dd",
   "metadata": {
    "execution": {
     "iopub.execute_input": "2025-08-06T13:41:40.002776Z",
     "iopub.status.busy": "2025-08-06T13:41:40.002776Z",
     "iopub.status.idle": "2025-08-06T13:41:40.009463Z",
     "shell.execute_reply": "2025-08-06T13:41:40.009463Z"
    }
   },
   "outputs": [
    {
     "name": "stdout",
     "output_type": "stream",
     "text": [
      "DPF  Fields Container\n",
      "  with 2 field(s)\n",
      "  defined on labels: time \n",
      "\n",
      "  with:\n",
      "  - field 0 {time:  1} with Nodal location, 3 components and 3 entities.\n",
      "  - field 1 {time:  2} with Nodal location, 5 components and 2 entities.\n",
      "\n"
     ]
    }
   ],
   "source": [
    "# Create the FieldsContainer\n",
    "fc_2 = dpf.fields_container_factory.over_time_freq_fields_container(fields=[field_21, field_31])\n",
    "\n",
    "# Print the FieldsContainer\n",
    "print(fc_2)"
   ]
  }
 ],
 "metadata": {
  "kernelspec": {
   "display_name": "Python 3 (ipykernel)",
   "language": "python",
   "name": "python3"
  },
  "language_info": {
   "codemirror_mode": {
    "name": "ipython",
    "version": 3
   },
   "file_extension": ".py",
   "mimetype": "text/x-python",
   "name": "python",
   "nbconvert_exporter": "python",
   "pygments_lexer": "ipython3",
   "version": "3.11.9"
  }
 },
 "nbformat": 4,
 "nbformat_minor": 5
}