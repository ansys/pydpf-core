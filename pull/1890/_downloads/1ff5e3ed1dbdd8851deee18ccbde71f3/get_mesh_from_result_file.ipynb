{
 "cells": [
  {
   "cell_type": "code",
   "execution_count": 1,
   "id": "d46f0f5e",
   "metadata": {
    "execution": {
     "iopub.execute_input": "2025-07-21T10:03:40.497838Z",
     "iopub.status.busy": "2025-07-21T10:03:40.497838Z",
     "iopub.status.idle": "2025-07-21T10:03:41.986113Z",
     "shell.execute_reply": "2025-07-21T10:03:41.985545Z"
    }
   },
   "outputs": [],
   "source": [
    "# Import the ``ansys.dpf.core`` module\n",
    "from ansys.dpf import core as dpf\n",
    "# Import the examples module\n",
    "from ansys.dpf.core import examples\n",
    "# Import the operators module\n",
    "from ansys.dpf.core import operators as ops\n",
    "\n",
    "# Define the result file path\n",
    "result_file_path_1 = examples.find_static_rst()\n",
    "# Create the DataSources object\n",
    "ds_1 = dpf.DataSources(result_path=result_file_path_1)"
   ]
  },
  {
   "cell_type": "code",
   "execution_count": 2,
   "id": "656827e3",
   "metadata": {
    "execution": {
     "iopub.execute_input": "2025-07-21T10:03:41.986113Z",
     "iopub.status.busy": "2025-07-21T10:03:41.986113Z",
     "iopub.status.idle": "2025-07-21T10:03:41.993967Z",
     "shell.execute_reply": "2025-07-21T10:03:41.993967Z"
    }
   },
   "outputs": [],
   "source": [
    "# Import the ``ansys.dpf.core`` module\n",
    "from ansys.dpf import core as dpf\n",
    "# Import the examples module\n",
    "from ansys.dpf.core import examples\n",
    "# Import the operators module\n",
    "from ansys.dpf.core import operators as ops\n",
    "\n",
    "# Define the result file path\n",
    "result_file_path_2 = examples.download_d3plot_beam()\n",
    "# Create the DataSources object\n",
    "ds_2 = dpf.DataSources()\n",
    "ds_2.set_result_file_path(filepath=result_file_path_2[0], key=\"d3plot\")\n",
    "ds_2.add_file_path(filepath=result_file_path_2[3], key=\"actunits\")"
   ]
  },
  {
   "cell_type": "code",
   "execution_count": 3,
   "id": "7becb6c7",
   "metadata": {
    "execution": {
     "iopub.execute_input": "2025-07-21T10:03:41.996577Z",
     "iopub.status.busy": "2025-07-21T10:03:41.996577Z",
     "iopub.status.idle": "2025-07-21T10:03:42.001216Z",
     "shell.execute_reply": "2025-07-21T10:03:42.001216Z"
    }
   },
   "outputs": [],
   "source": [
    "# Import the ``ansys.dpf.core`` module\n",
    "from ansys.dpf import core as dpf\n",
    "# Import the examples module\n",
    "from ansys.dpf.core import examples\n",
    "# Import the operators module\n",
    "from ansys.dpf.core import operators as ops\n",
    "\n",
    "# Define the result file path\n",
    "result_file_path_3 = examples.download_fluent_axial_comp()[\"flprj\"]\n",
    "# Create the DataSources object\n",
    "ds_3 = dpf.DataSources(result_path=result_file_path_3)"
   ]
  },
  {
   "cell_type": "code",
   "execution_count": 4,
   "id": "e0660a84",
   "metadata": {
    "execution": {
     "iopub.execute_input": "2025-07-21T10:03:42.001216Z",
     "iopub.status.busy": "2025-07-21T10:03:42.001216Z",
     "iopub.status.idle": "2025-07-21T10:03:42.007766Z",
     "shell.execute_reply": "2025-07-21T10:03:42.007766Z"
    }
   },
   "outputs": [],
   "source": [
    "# Import the ``ansys.dpf.core`` module\n",
    "from ansys.dpf import core as dpf\n",
    "# Import the examples module\n",
    "from ansys.dpf.core import examples\n",
    "# Import the operators module\n",
    "from ansys.dpf.core import operators as ops\n",
    "# Define the result file path\n",
    "result_file_path_4 = examples.download_cfx_mixing_elbow()\n",
    "# Create the DataSources object\n",
    "ds_4 = dpf.DataSources(result_path=result_file_path_4)"
   ]
  },
  {
   "cell_type": "code",
   "execution_count": 5,
   "id": "d6d10f74",
   "metadata": {
    "execution": {
     "iopub.execute_input": "2025-07-21T10:03:42.007766Z",
     "iopub.status.busy": "2025-07-21T10:03:42.007766Z",
     "iopub.status.idle": "2025-07-21T10:03:42.017391Z",
     "shell.execute_reply": "2025-07-21T10:03:42.017391Z"
    }
   },
   "outputs": [],
   "source": [
    "# Create the Model\n",
    "model_1 = dpf.Model(data_sources=ds_1)\n",
    "# Get the mesh\n",
    "meshed_region_11 = model_1.metadata.meshed_region"
   ]
  },
  {
   "cell_type": "code",
   "execution_count": 6,
   "id": "00c20bff",
   "metadata": {
    "execution": {
     "iopub.execute_input": "2025-07-21T10:03:42.017391Z",
     "iopub.status.busy": "2025-07-21T10:03:42.017391Z",
     "iopub.status.idle": "2025-07-21T10:03:42.029065Z",
     "shell.execute_reply": "2025-07-21T10:03:42.029065Z"
    }
   },
   "outputs": [],
   "source": [
    "# Create the Model\n",
    "model_2 = dpf.Model(data_sources=ds_2)\n",
    "# Get the mesh\n",
    "meshed_region_21 = model_2.metadata.meshed_region"
   ]
  },
  {
   "cell_type": "code",
   "execution_count": 7,
   "id": "43b8d122",
   "metadata": {
    "execution": {
     "iopub.execute_input": "2025-07-21T10:03:42.029065Z",
     "iopub.status.busy": "2025-07-21T10:03:42.029065Z",
     "iopub.status.idle": "2025-07-21T10:03:47.368206Z",
     "shell.execute_reply": "2025-07-21T10:03:47.368206Z"
    }
   },
   "outputs": [],
   "source": [
    "# Create the Model\n",
    "model_3 = dpf.Model(data_sources=ds_3)\n",
    "# Get the mesh\n",
    "meshed_region_31 = model_3.metadata.meshed_region"
   ]
  },
  {
   "cell_type": "code",
   "execution_count": 8,
   "id": "3bb46aae",
   "metadata": {
    "execution": {
     "iopub.execute_input": "2025-07-21T10:03:47.371258Z",
     "iopub.status.busy": "2025-07-21T10:03:47.371258Z",
     "iopub.status.idle": "2025-07-21T10:03:50.565755Z",
     "shell.execute_reply": "2025-07-21T10:03:50.565203Z"
    }
   },
   "outputs": [],
   "source": [
    "# Create the Model\n",
    "model_4 = dpf.Model(data_sources=ds_4)\n",
    "# Get the mesh\n",
    "meshed_region_41 = model_4.metadata.meshed_region"
   ]
  },
  {
   "cell_type": "code",
   "execution_count": 9,
   "id": "39f6418a",
   "metadata": {
    "execution": {
     "iopub.execute_input": "2025-07-21T10:03:50.565755Z",
     "iopub.status.busy": "2025-07-21T10:03:50.565755Z",
     "iopub.status.idle": "2025-07-21T10:03:50.572562Z",
     "shell.execute_reply": "2025-07-21T10:03:50.572562Z"
    }
   },
   "outputs": [
    {
     "name": "stdout",
     "output_type": "stream",
     "text": [
      "DPF  Meshed Region: \n",
      "  81 nodes \n",
      "  8 elements \n",
      "  Unit: m \n",
      "  With solid (3D) elements\n"
     ]
    }
   ],
   "source": [
    "# Print the MeshedRegion\n",
    "print(meshed_region_11)"
   ]
  },
  {
   "cell_type": "code",
   "execution_count": 10,
   "id": "458c88ed",
   "metadata": {
    "execution": {
     "iopub.execute_input": "2025-07-21T10:03:50.575640Z",
     "iopub.status.busy": "2025-07-21T10:03:50.575640Z",
     "iopub.status.idle": "2025-07-21T10:03:50.579168Z",
     "shell.execute_reply": "2025-07-21T10:03:50.579168Z"
    }
   },
   "outputs": [
    {
     "name": "stdout",
     "output_type": "stream",
     "text": [
      "DPF  Meshed Region: \n",
      "  1940 nodes \n",
      "  2056 elements \n",
      "  Unit: mm \n",
      "  With solid (3D) elements, beam (1D) elements\n"
     ]
    }
   ],
   "source": [
    "# Print the MeshedRegion\n",
    "print(meshed_region_21)"
   ]
  },
  {
   "cell_type": "code",
   "execution_count": 11,
   "id": "e70a6d22",
   "metadata": {
    "execution": {
     "iopub.execute_input": "2025-07-21T10:03:50.579168Z",
     "iopub.status.busy": "2025-07-21T10:03:50.579168Z",
     "iopub.status.idle": "2025-07-21T10:03:50.586472Z",
     "shell.execute_reply": "2025-07-21T10:03:50.585928Z"
    }
   },
   "outputs": [
    {
     "name": "stdout",
     "output_type": "stream",
     "text": [
      "DPF  Meshed Region: \n",
      "  16660 nodes \n",
      "  13856 elements \n",
      "  44242 faces \n",
      "  Unit: m \n",
      "  With solid (3D) elements\n"
     ]
    }
   ],
   "source": [
    "# Print the MeshedRegion\n",
    "print(meshed_region_31)"
   ]
  },
  {
   "cell_type": "code",
   "execution_count": 12,
   "id": "8443934a",
   "metadata": {
    "execution": {
     "iopub.execute_input": "2025-07-21T10:03:50.586472Z",
     "iopub.status.busy": "2025-07-21T10:03:50.586472Z",
     "iopub.status.idle": "2025-07-21T10:03:50.593251Z",
     "shell.execute_reply": "2025-07-21T10:03:50.593251Z"
    }
   },
   "outputs": [
    {
     "name": "stdout",
     "output_type": "stream",
     "text": [
      "DPF  Meshed Region: \n",
      "  6219 nodes \n",
      "  15695 elements \n",
      "  Unit: m \n",
      "  With solid (3D) elements\n"
     ]
    }
   ],
   "source": [
    "# Print the MeshedRegion\n",
    "print(meshed_region_41)"
   ]
  },
  {
   "cell_type": "code",
   "execution_count": 13,
   "id": "40ceba2c",
   "metadata": {
    "execution": {
     "iopub.execute_input": "2025-07-21T10:03:50.596323Z",
     "iopub.status.busy": "2025-07-21T10:03:50.593251Z",
     "iopub.status.idle": "2025-07-21T10:03:50.602604Z",
     "shell.execute_reply": "2025-07-21T10:03:50.602604Z"
    }
   },
   "outputs": [],
   "source": [
    "# Get the mesh with the mesh_provider operator\n",
    "meshed_region_12 = ops.mesh.mesh_provider(data_sources=ds_1).eval()"
   ]
  },
  {
   "cell_type": "code",
   "execution_count": 14,
   "id": "f02d96ea",
   "metadata": {
    "execution": {
     "iopub.execute_input": "2025-07-21T10:03:50.602604Z",
     "iopub.status.busy": "2025-07-21T10:03:50.602604Z",
     "iopub.status.idle": "2025-07-21T10:03:50.615659Z",
     "shell.execute_reply": "2025-07-21T10:03:50.615659Z"
    }
   },
   "outputs": [],
   "source": [
    "# Get the mesh with the mesh_provider operator\n",
    "meshed_region_22 = ops.mesh.mesh_provider(data_sources=ds_2).eval()"
   ]
  },
  {
   "cell_type": "code",
   "execution_count": 15,
   "id": "75fed301",
   "metadata": {
    "execution": {
     "iopub.execute_input": "2025-07-21T10:03:50.617760Z",
     "iopub.status.busy": "2025-07-21T10:03:50.617760Z",
     "iopub.status.idle": "2025-07-21T10:03:53.122236Z",
     "shell.execute_reply": "2025-07-21T10:03:53.122236Z"
    }
   },
   "outputs": [],
   "source": [
    "# Get the mesh with the mesh_provider operator\n",
    "meshed_region_32 = ops.mesh.mesh_provider(data_sources=ds_3).eval()"
   ]
  },
  {
   "cell_type": "code",
   "execution_count": 16,
   "id": "ebd80604",
   "metadata": {
    "execution": {
     "iopub.execute_input": "2025-07-21T10:03:53.125368Z",
     "iopub.status.busy": "2025-07-21T10:03:53.125368Z",
     "iopub.status.idle": "2025-07-21T10:03:53.186205Z",
     "shell.execute_reply": "2025-07-21T10:03:53.185647Z"
    }
   },
   "outputs": [],
   "source": [
    "# Get the mesh with the mesh_provider operator\n",
    "meshed_region_42 = ops.mesh.mesh_provider(data_sources=ds_4).eval()"
   ]
  },
  {
   "cell_type": "code",
   "execution_count": 17,
   "id": "1639b330",
   "metadata": {
    "execution": {
     "iopub.execute_input": "2025-07-21T10:03:53.186205Z",
     "iopub.status.busy": "2025-07-21T10:03:53.186205Z",
     "iopub.status.idle": "2025-07-21T10:03:53.192817Z",
     "shell.execute_reply": "2025-07-21T10:03:53.192817Z"
    }
   },
   "outputs": [
    {
     "name": "stdout",
     "output_type": "stream",
     "text": [
      "DPF  Meshed Region: \n",
      "  81 nodes \n",
      "  8 elements \n",
      "  Unit: m \n",
      "  With solid (3D) elements\n"
     ]
    }
   ],
   "source": [
    "# Print the MeshedRegion\n",
    "print(meshed_region_12)"
   ]
  },
  {
   "cell_type": "code",
   "execution_count": 18,
   "id": "df19361b",
   "metadata": {
    "execution": {
     "iopub.execute_input": "2025-07-21T10:03:53.192817Z",
     "iopub.status.busy": "2025-07-21T10:03:53.192817Z",
     "iopub.status.idle": "2025-07-21T10:03:53.199359Z",
     "shell.execute_reply": "2025-07-21T10:03:53.199359Z"
    }
   },
   "outputs": [
    {
     "name": "stdout",
     "output_type": "stream",
     "text": [
      "DPF  Meshed Region: \n",
      "  1940 nodes \n",
      "  2056 elements \n",
      "  Unit: mm \n",
      "  With solid (3D) elements, beam (1D) elements\n"
     ]
    }
   ],
   "source": [
    "# Print the MeshedRegion\n",
    "print(meshed_region_22)"
   ]
  },
  {
   "cell_type": "code",
   "execution_count": 19,
   "id": "dd6852a1",
   "metadata": {
    "execution": {
     "iopub.execute_input": "2025-07-21T10:03:53.202032Z",
     "iopub.status.busy": "2025-07-21T10:03:53.202032Z",
     "iopub.status.idle": "2025-07-21T10:03:53.206650Z",
     "shell.execute_reply": "2025-07-21T10:03:53.206626Z"
    }
   },
   "outputs": [
    {
     "name": "stdout",
     "output_type": "stream",
     "text": [
      "DPF  Meshed Region: \n",
      "  16660 nodes \n",
      "  13856 elements \n",
      "  44242 faces \n",
      "  Unit: m \n",
      "  With solid (3D) elements\n"
     ]
    }
   ],
   "source": [
    "# Print the MeshedRegion\n",
    "print(meshed_region_32)"
   ]
  },
  {
   "cell_type": "code",
   "execution_count": 20,
   "id": "1413678b",
   "metadata": {
    "execution": {
     "iopub.execute_input": "2025-07-21T10:03:53.206650Z",
     "iopub.status.busy": "2025-07-21T10:03:53.206650Z",
     "iopub.status.idle": "2025-07-21T10:03:53.214118Z",
     "shell.execute_reply": "2025-07-21T10:03:53.214118Z"
    }
   },
   "outputs": [
    {
     "name": "stdout",
     "output_type": "stream",
     "text": [
      "DPF  Meshed Region: \n",
      "  6219 nodes \n",
      "  15695 elements \n",
      "  Unit: m \n",
      "  With solid (3D) elements\n"
     ]
    }
   ],
   "source": [
    "# Print the MeshedRegion\n",
    "print(meshed_region_42)"
   ]
  }
 ],
 "metadata": {
  "kernelspec": {
   "display_name": "Python 3 (ipykernel)",
   "language": "python",
   "name": "python3"
  },
  "language_info": {
   "codemirror_mode": {
    "name": "ipython",
    "version": 3
   },
   "file_extension": ".py",
   "mimetype": "text/x-python",
   "name": "python",
   "nbconvert_exporter": "python",
   "pygments_lexer": "ipython3",
   "version": "3.11.9"
  }
 },
 "nbformat": 4,
 "nbformat_minor": 5
}