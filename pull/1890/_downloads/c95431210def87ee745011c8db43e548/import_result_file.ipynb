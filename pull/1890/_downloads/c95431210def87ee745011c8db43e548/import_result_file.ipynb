{
 "cells": [
  {
   "cell_type": "code",
   "execution_count": 1,
   "id": "9dd89dc1",
   "metadata": {
    "execution": {
     "iopub.execute_input": "2025-07-21T10:02:29.559822Z",
     "iopub.status.busy": "2025-07-21T10:02:29.559822Z",
     "iopub.status.idle": "2025-07-21T10:02:31.056644Z",
     "shell.execute_reply": "2025-07-21T10:02:31.056644Z"
    }
   },
   "outputs": [
    {
     "name": "stdout",
     "output_type": "stream",
     "text": [
      "Result file path 11: \n",
      " D:\\a\\pydpf-core\\pydpf-core\\.tox\\doc-html\\Lib\\site-packages\\ansys\\dpf\\core\\examples\\result_files\\static.rst \n",
      "\n",
      "Result files paths 12: \n",
      " {'rfrq': 'D:\\\\a\\\\pydpf-core\\\\pydpf-core\\\\.tox\\\\doc-html\\\\Lib\\\\site-packages\\\\ansys\\\\dpf\\\\core\\\\examples\\\\result_files\\\\msup\\\\file.rfrq', 'mode': 'D:\\\\a\\\\pydpf-core\\\\pydpf-core\\\\.tox\\\\doc-html\\\\Lib\\\\site-packages\\\\ansys\\\\dpf\\\\core\\\\examples\\\\result_files\\\\msup\\\\file.mode', 'rst': 'D:\\\\a\\\\pydpf-core\\\\pydpf-core\\\\.tox\\\\doc-html\\\\Lib\\\\site-packages\\\\ansys\\\\dpf\\\\core\\\\examples\\\\result_files\\\\msup\\\\file.rst'} \n",
      "\n"
     ]
    }
   ],
   "source": [
    "# Import the ``ansys.dpf.core`` module\n",
    "from ansys.dpf import core as dpf\n",
    "# Import the examples module\n",
    "from ansys.dpf.core import examples\n",
    "# Import the operators module\n",
    "from ansys.dpf.core import operators as ops\n",
    "\n",
    "# Define the .rst result file path\n",
    "result_file_path_11 = examples.find_static_rst()\n",
    "\n",
    "# Define the modal superposition harmonic analysis (.mode, .rfrq and .rst) result files paths\n",
    "result_file_path_12 = examples.download_msup_files_to_dict()\n",
    "\n",
    "\n",
    "# Print the result files paths\n",
    "print(\"Result file path 11:\", \"\\n\",result_file_path_11, \"\\n\")\n",
    "print(\"Result files paths 12:\", \"\\n\",result_file_path_12, \"\\n\")"
   ]
  },
  {
   "cell_type": "code",
   "execution_count": 2,
   "id": "fc5a8ffb",
   "metadata": {
    "execution": {
     "iopub.execute_input": "2025-07-21T10:02:31.056644Z",
     "iopub.status.busy": "2025-07-21T10:02:31.056644Z",
     "iopub.status.idle": "2025-07-21T10:02:31.065199Z",
     "shell.execute_reply": "2025-07-21T10:02:31.065199Z"
    }
   },
   "outputs": [
    {
     "name": "stdout",
     "output_type": "stream",
     "text": [
      "Result files paths 21: \n",
      " ['D:\\\\a\\\\pydpf-core\\\\pydpf-core\\\\.tox\\\\doc-html\\\\Lib\\\\site-packages\\\\ansys\\\\dpf\\\\core\\\\examples\\\\result_files\\\\d3plot_beam\\\\d3plot', 'D:\\\\a\\\\pydpf-core\\\\pydpf-core\\\\.tox\\\\doc-html\\\\Lib\\\\site-packages\\\\ansys\\\\dpf\\\\core\\\\examples\\\\result_files\\\\d3plot_beam\\\\d3plot01', 'D:\\\\a\\\\pydpf-core\\\\pydpf-core\\\\.tox\\\\doc-html\\\\Lib\\\\site-packages\\\\ansys\\\\dpf\\\\core\\\\examples\\\\result_files\\\\d3plot_beam\\\\d3plot02', 'D:\\\\a\\\\pydpf-core\\\\pydpf-core\\\\.tox\\\\doc-html\\\\Lib\\\\site-packages\\\\ansys\\\\dpf\\\\core\\\\examples\\\\result_files\\\\d3plot_beam\\\\file.actunits'] \n",
      "\n",
      "Result file path 22: \n",
      " D:\\a\\pydpf-core\\pydpf-core\\.tox\\doc-html\\Lib\\site-packages\\ansys\\dpf\\core\\examples\\result_files\\binout\\binout_matsum \n",
      "\n"
     ]
    }
   ],
   "source": [
    "# Import the ``ansys.dpf.core`` module\n",
    "from ansys.dpf import core as dpf\n",
    "# Import the examples module\n",
    "from ansys.dpf.core import examples\n",
    "# Import the operators module\n",
    "from ansys.dpf.core import operators as ops\n",
    "\n",
    "# Define the .d3plot result files paths\n",
    "result_file_path_21 = examples.download_d3plot_beam()\n",
    "\n",
    "# Define the .binout result file path\n",
    "result_file_path_22 = examples.download_binout_matsum()\n",
    "\n",
    "# Print the result files paths\n",
    "print(\"Result files paths 21:\", \"\\n\",result_file_path_21, \"\\n\")\n",
    "print(\"Result file path 22:\", \"\\n\",result_file_path_22, \"\\n\")"
   ]
  },
  {
   "cell_type": "code",
   "execution_count": 3,
   "id": "025c55dd",
   "metadata": {
    "execution": {
     "iopub.execute_input": "2025-07-21T10:02:31.066259Z",
     "iopub.status.busy": "2025-07-21T10:02:31.066259Z",
     "iopub.status.idle": "2025-07-21T10:02:31.073859Z",
     "shell.execute_reply": "2025-07-21T10:02:31.073859Z"
    }
   },
   "outputs": [
    {
     "name": "stdout",
     "output_type": "stream",
     "text": [
      "Result file path 31: \n",
      " D:\\a\\pydpf-core\\pydpf-core\\.tox\\doc-html\\Lib\\site-packages\\ansys\\dpf\\core\\examples\\result_files\\fluent-axial_comp\\axial_comp_reduced.flprj \n",
      "\n",
      "Result files paths 32: \n",
      " {'flprj': 'D:\\\\a\\\\pydpf-core\\\\pydpf-core\\\\.tox\\\\doc-html\\\\Lib\\\\site-packages\\\\ansys\\\\dpf\\\\core\\\\examples\\\\result_files\\\\fluent-axial_comp\\\\axial_comp_reduced.flprj', 'cas': ['D:\\\\a\\\\pydpf-core\\\\pydpf-core\\\\.tox\\\\doc-html\\\\Lib\\\\site-packages\\\\ansys\\\\dpf\\\\core\\\\examples\\\\result_files\\\\fluent-axial_comp\\\\axial_comp-1-01438.cas.h5', 'D:\\\\a\\\\pydpf-core\\\\pydpf-core\\\\.tox\\\\doc-html\\\\Lib\\\\site-packages\\\\ansys\\\\dpf\\\\core\\\\examples\\\\result_files\\\\fluent-axial_comp\\\\axial_comp-1-01439.cas.h5', 'D:\\\\a\\\\pydpf-core\\\\pydpf-core\\\\.tox\\\\doc-html\\\\Lib\\\\site-packages\\\\ansys\\\\dpf\\\\core\\\\examples\\\\result_files\\\\fluent-axial_comp\\\\axial_comp-1-01440.cas.h5'], 'dat': ['D:\\\\a\\\\pydpf-core\\\\pydpf-core\\\\.tox\\\\doc-html\\\\Lib\\\\site-packages\\\\ansys\\\\dpf\\\\core\\\\examples\\\\result_files\\\\fluent-axial_comp\\\\axial_comp-1-01438.dat.h5', 'D:\\\\a\\\\pydpf-core\\\\pydpf-core\\\\.tox\\\\doc-html\\\\Lib\\\\site-packages\\\\ansys\\\\dpf\\\\core\\\\examples\\\\result_files\\\\fluent-axial_comp\\\\axial_comp-1-01439.dat.h5', 'D:\\\\a\\\\pydpf-core\\\\pydpf-core\\\\.tox\\\\doc-html\\\\Lib\\\\site-packages\\\\ansys\\\\dpf\\\\core\\\\examples\\\\result_files\\\\fluent-axial_comp\\\\axial_comp-1-01440.dat.h5']} \n",
      "\n"
     ]
    }
   ],
   "source": [
    "# Import the ``ansys.dpf.core`` module\n",
    "from ansys.dpf import core as dpf\n",
    "# Import the examples module\n",
    "from ansys.dpf.core import examples\n",
    "# Import the operators module\n",
    "from ansys.dpf.core import operators as ops\n",
    "\n",
    "# Define the project .flprj result file path\n",
    "result_file_path_31 = examples.download_fluent_axial_comp()[\"flprj\"]\n",
    "\n",
    "# Define the CFF .cas.h5/.dat.h5 result files paths\n",
    "result_file_path_32 = examples.download_fluent_axial_comp()\n",
    "\n",
    "# Print the result files paths\n",
    "print(\"Result file path 31:\", \"\\n\",result_file_path_31, \"\\n\")\n",
    "print(\"Result files paths 32:\", \"\\n\",result_file_path_32, \"\\n\")"
   ]
  },
  {
   "cell_type": "code",
   "execution_count": 4,
   "id": "cc7bb313",
   "metadata": {
    "execution": {
     "iopub.execute_input": "2025-07-21T10:02:31.076433Z",
     "iopub.status.busy": "2025-07-21T10:02:31.076433Z",
     "iopub.status.idle": "2025-07-21T10:02:31.081958Z",
     "shell.execute_reply": "2025-07-21T10:02:31.081406Z"
    }
   },
   "outputs": [
    {
     "name": "stdout",
     "output_type": "stream",
     "text": [
      "Result file path 41: \n",
      " D:\\a\\pydpf-core\\pydpf-core\\.tox\\doc-html\\Lib\\site-packages\\ansys\\dpf\\core\\examples\\result_files\\cfx-mixing_elbow\\InjectMixer.res \n",
      "\n",
      "Result files paths 42: \n",
      " {'cas': 'D:\\\\a\\\\pydpf-core\\\\pydpf-core\\\\.tox\\\\doc-html\\\\Lib\\\\site-packages\\\\ansys\\\\dpf\\\\core\\\\examples\\\\result_files\\\\cfx-heating_coil\\\\def.cas.cff', 'dat': 'D:\\\\a\\\\pydpf-core\\\\pydpf-core\\\\.tox\\\\doc-html\\\\Lib\\\\site-packages\\\\ansys\\\\dpf\\\\core\\\\examples\\\\result_files\\\\cfx-heating_coil\\\\def.dat.cff'} \n",
      "\n"
     ]
    }
   ],
   "source": [
    "# Import the ``ansys.dpf.core`` module\n",
    "from ansys.dpf import core as dpf\n",
    "# Import the examples module\n",
    "from ansys.dpf.core import examples\n",
    "# Import the operators module\n",
    "from ansys.dpf.core import operators as ops\n",
    "\n",
    "# Define the project .res result file path\n",
    "result_file_path_41 = examples.download_cfx_mixing_elbow()\n",
    "\n",
    "# Define the CFF .cas.cff/.dat.cff result files paths\n",
    "result_file_path_42 = examples.download_cfx_heating_coil()\n",
    "\n",
    "# Print the result files paths\n",
    "print(\"Result file path 41:\", \"\\n\",result_file_path_41, \"\\n\")\n",
    "print(\"Result files paths 42:\", \"\\n\",result_file_path_42, \"\\n\")"
   ]
  },
  {
   "cell_type": "code",
   "execution_count": 5,
   "id": "64ecb105",
   "metadata": {
    "execution": {
     "iopub.execute_input": "2025-07-21T10:02:31.081958Z",
     "iopub.status.busy": "2025-07-21T10:02:31.081958Z",
     "iopub.status.idle": "2025-07-21T10:02:31.087542Z",
     "shell.execute_reply": "2025-07-21T10:02:31.087542Z"
    }
   },
   "outputs": [],
   "source": [
    "# Create the DataSources object\n",
    "# Use the ``result_path`` argument and give the result file path\n",
    "ds_11 = dpf.DataSources(result_path=result_file_path_11)"
   ]
  },
  {
   "cell_type": "code",
   "execution_count": 6,
   "id": "3b67c70a",
   "metadata": {
    "execution": {
     "iopub.execute_input": "2025-07-21T10:02:31.087542Z",
     "iopub.status.busy": "2025-07-21T10:02:31.087542Z",
     "iopub.status.idle": "2025-07-21T10:02:31.094616Z",
     "shell.execute_reply": "2025-07-21T10:02:31.094616Z"
    }
   },
   "outputs": [],
   "source": [
    "# Create the main DataSources object\n",
    "ds_12 = dpf.DataSources()\n",
    "# Define the main result file path\n",
    "ds_12.set_result_file_path(filepath=result_file_path_12[\"rfrq\"], key='rfrq')\n",
    "\n",
    "# Create the upstream DataSources object with the main upstream file path\n",
    "upstream_ds_12 = dpf.DataSources(result_path=result_file_path_12[\"mode\"])\n",
    "# Add the additional upstream file path to the upstream DataSources object\n",
    "upstream_ds_12.add_file_path(filepath=result_file_path_12[\"rst\"])\n",
    "\n",
    "# Add the upstream DataSources to the main DataSources object\n",
    "ds_12.add_upstream(upstream_data_sources=upstream_ds_12)"
   ]
  },
  {
   "cell_type": "code",
   "execution_count": 7,
   "id": "2b1dc1f0",
   "metadata": {
    "execution": {
     "iopub.execute_input": "2025-07-21T10:02:31.096675Z",
     "iopub.status.busy": "2025-07-21T10:02:31.096675Z",
     "iopub.status.idle": "2025-07-21T10:02:31.100995Z",
     "shell.execute_reply": "2025-07-21T10:02:31.100995Z"
    }
   },
   "outputs": [],
   "source": [
    "# Create the DataSources object\n",
    "ds_21 = dpf.DataSources()\n",
    "\n",
    "# Define the main result file path\n",
    "ds_21.set_result_file_path(filepath=result_file_path_21[0], key=\"d3plot\")\n",
    "\n",
    "# Add the additional file path related to the units\n",
    "ds_21.add_file_path(filepath=result_file_path_21[3], key=\"actunits\")"
   ]
  },
  {
   "cell_type": "code",
   "execution_count": 8,
   "id": "5333fe3f",
   "metadata": {
    "execution": {
     "iopub.execute_input": "2025-07-21T10:02:31.102583Z",
     "iopub.status.busy": "2025-07-21T10:02:31.102583Z",
     "iopub.status.idle": "2025-07-21T10:02:31.107142Z",
     "shell.execute_reply": "2025-07-21T10:02:31.107142Z"
    }
   },
   "outputs": [],
   "source": [
    "# Create the DataSources object\n",
    "ds_22 = dpf.DataSources()\n",
    "\n",
    "# Define the path to the result file\n",
    "# Use the ``key`` argument and give the file extension key\n",
    "ds_22.set_result_file_path(filepath=result_file_path_22, key=\"binout\")"
   ]
  },
  {
   "cell_type": "code",
   "execution_count": 9,
   "id": "005e29e7",
   "metadata": {
    "execution": {
     "iopub.execute_input": "2025-07-21T10:02:31.107142Z",
     "iopub.status.busy": "2025-07-21T10:02:31.107142Z",
     "iopub.status.idle": "2025-07-21T10:02:31.113224Z",
     "shell.execute_reply": "2025-07-21T10:02:31.113224Z"
    }
   },
   "outputs": [],
   "source": [
    "# Create the DataSources object\n",
    "# Use the ``result_path`` argument and give the result file path\n",
    "ds_31 = dpf.DataSources(result_path=result_file_path_31)"
   ]
  },
  {
   "cell_type": "code",
   "execution_count": 10,
   "id": "7fd9820d",
   "metadata": {
    "execution": {
     "iopub.execute_input": "2025-07-21T10:02:31.113224Z",
     "iopub.status.busy": "2025-07-21T10:02:31.113224Z",
     "iopub.status.idle": "2025-07-21T10:02:31.120570Z",
     "shell.execute_reply": "2025-07-21T10:02:31.120570Z"
    }
   },
   "outputs": [],
   "source": [
    "# Create the DataSources object\n",
    "ds_32 = dpf.DataSources()\n",
    "\n",
    "# Define the path to the main result file\n",
    "# Use the ``key`` argument and give the first extension key\n",
    "ds_32.set_result_file_path(filepath=result_file_path_32['cas'][0], key=\"cas\")\n",
    "\n",
    "# Add the additional result file path to the DataSources\n",
    "# Use the ``key`` argument and give the first extension key\n",
    "ds_32.add_file_path(filepath=result_file_path_32['dat'][0], key=\"dat\")"
   ]
  },
  {
   "cell_type": "code",
   "execution_count": 11,
   "id": "25798d4e",
   "metadata": {
    "execution": {
     "iopub.execute_input": "2025-07-21T10:02:31.123133Z",
     "iopub.status.busy": "2025-07-21T10:02:31.123133Z",
     "iopub.status.idle": "2025-07-21T10:02:31.126586Z",
     "shell.execute_reply": "2025-07-21T10:02:31.126586Z"
    }
   },
   "outputs": [],
   "source": [
    "# Create the DataSources object\n",
    "# Use the ``result_path`` argument and give the result file path\n",
    "ds_41 = dpf.DataSources(result_path=result_file_path_41)"
   ]
  },
  {
   "cell_type": "code",
   "execution_count": 12,
   "id": "5c9871a5",
   "metadata": {
    "execution": {
     "iopub.execute_input": "2025-07-21T10:02:31.127644Z",
     "iopub.status.busy": "2025-07-21T10:02:31.127644Z",
     "iopub.status.idle": "2025-07-21T10:02:31.133716Z",
     "shell.execute_reply": "2025-07-21T10:02:31.133716Z"
    }
   },
   "outputs": [],
   "source": [
    "# Create the DataSources object\n",
    "ds_42 = dpf.DataSources()\n",
    "\n",
    "# Define the path to the main result file\n",
    "# Use the ``key`` argument and give the first extension key\n",
    "ds_42.set_result_file_path(filepath=result_file_path_42[\"cas\"], key=\"cas\")\n",
    "\n",
    "# Add the additional result file path to the DataSources\n",
    "# Use the ``key`` argument and give the first extension key\n",
    "ds_42.add_file_path(filepath=result_file_path_42[\"dat\"], key=\"dat\")"
   ]
  },
  {
   "cell_type": "code",
   "execution_count": 13,
   "id": "24251929",
   "metadata": {
    "execution": {
     "iopub.execute_input": "2025-07-21T10:02:31.133716Z",
     "iopub.status.busy": "2025-07-21T10:02:31.133716Z",
     "iopub.status.idle": "2025-07-21T10:02:31.139945Z",
     "shell.execute_reply": "2025-07-21T10:02:31.139945Z"
    }
   },
   "outputs": [],
   "source": [
    "# Create the model with the result file path\n",
    "model_11 = dpf.Model(data_sources=result_file_path_11)\n",
    "\n",
    "# Create the model with the DataSources object\n",
    "model_12 = dpf.Model(data_sources=ds_11)"
   ]
  },
  {
   "cell_type": "code",
   "execution_count": 14,
   "id": "9b238131",
   "metadata": {
    "execution": {
     "iopub.execute_input": "2025-07-21T10:02:31.139945Z",
     "iopub.status.busy": "2025-07-21T10:02:31.139945Z",
     "iopub.status.idle": "2025-07-21T10:02:31.145525Z",
     "shell.execute_reply": "2025-07-21T10:02:31.145525Z"
    }
   },
   "outputs": [],
   "source": [
    "# Create the model with the DataSources object\n",
    "model_13 = dpf.Model(data_sources=ds_12)"
   ]
  },
  {
   "cell_type": "code",
   "execution_count": 15,
   "id": "c8e7ffd4",
   "metadata": {
    "execution": {
     "iopub.execute_input": "2025-07-21T10:02:31.148082Z",
     "iopub.status.busy": "2025-07-21T10:02:31.148082Z",
     "iopub.status.idle": "2025-07-21T10:02:31.151078Z",
     "shell.execute_reply": "2025-07-21T10:02:31.151078Z"
    }
   },
   "outputs": [],
   "source": [
    "# Create the model with the DataSources object\n",
    "model_21 = dpf.Model(data_sources=ds_21)"
   ]
  },
  {
   "cell_type": "code",
   "execution_count": 16,
   "id": "0fdd714e",
   "metadata": {
    "execution": {
     "iopub.execute_input": "2025-07-21T10:02:31.154136Z",
     "iopub.status.busy": "2025-07-21T10:02:31.151078Z",
     "iopub.status.idle": "2025-07-21T10:02:31.156961Z",
     "shell.execute_reply": "2025-07-21T10:02:31.156961Z"
    }
   },
   "outputs": [],
   "source": [
    "# Create the model with the DataSources object\n",
    "model_22 = dpf.Model(data_sources=ds_22)"
   ]
  },
  {
   "cell_type": "code",
   "execution_count": 17,
   "id": "99efa329",
   "metadata": {
    "execution": {
     "iopub.execute_input": "2025-07-21T10:02:31.158529Z",
     "iopub.status.busy": "2025-07-21T10:02:31.158529Z",
     "iopub.status.idle": "2025-07-21T10:02:31.162541Z",
     "shell.execute_reply": "2025-07-21T10:02:31.162541Z"
    }
   },
   "outputs": [],
   "source": [
    "# Create the model with the result file path\n",
    "model_31 = dpf.Model(data_sources=result_file_path_31)\n",
    "\n",
    "# Create the model with the DataSources object\n",
    "model_32 = dpf.Model(data_sources=ds_31)"
   ]
  },
  {
   "cell_type": "code",
   "execution_count": 18,
   "id": "d99b3680",
   "metadata": {
    "execution": {
     "iopub.execute_input": "2025-07-21T10:02:31.165635Z",
     "iopub.status.busy": "2025-07-21T10:02:31.164612Z",
     "iopub.status.idle": "2025-07-21T10:02:31.168691Z",
     "shell.execute_reply": "2025-07-21T10:02:31.168691Z"
    }
   },
   "outputs": [],
   "source": [
    "# Create the model with the DataSources object\n",
    "model_33 = dpf.Model(data_sources=ds_32)"
   ]
  },
  {
   "cell_type": "code",
   "execution_count": 19,
   "id": "899bc8c0",
   "metadata": {
    "execution": {
     "iopub.execute_input": "2025-07-21T10:02:31.168691Z",
     "iopub.status.busy": "2025-07-21T10:02:31.168691Z",
     "iopub.status.idle": "2025-07-21T10:02:31.174759Z",
     "shell.execute_reply": "2025-07-21T10:02:31.174759Z"
    }
   },
   "outputs": [],
   "source": [
    "# Create the model with the result file path\n",
    "model_41 = dpf.Model(data_sources=result_file_path_41)\n",
    "\n",
    "# Create the model with the DataSources object\n",
    "model_42 = dpf.Model(data_sources=ds_41)"
   ]
  },
  {
   "cell_type": "code",
   "execution_count": 20,
   "id": "4df1d76f",
   "metadata": {
    "execution": {
     "iopub.execute_input": "2025-07-21T10:02:31.174759Z",
     "iopub.status.busy": "2025-07-21T10:02:31.174759Z",
     "iopub.status.idle": "2025-07-21T10:02:31.180399Z",
     "shell.execute_reply": "2025-07-21T10:02:31.180399Z"
    }
   },
   "outputs": [],
   "source": [
    "# Create the model with the DataSources object\n",
    "model_43 = dpf.Model(data_sources=ds_42)"
   ]
  }
 ],
 "metadata": {
  "kernelspec": {
   "display_name": "Python 3 (ipykernel)",
   "language": "python",
   "name": "python3"
  },
  "language_info": {
   "codemirror_mode": {
    "name": "ipython",
    "version": 3
   },
   "file_extension": ".py",
   "mimetype": "text/x-python",
   "name": "python",
   "nbconvert_exporter": "python",
   "pygments_lexer": "ipython3",
   "version": "3.11.9"
  }
 },
 "nbformat": 4,
 "nbformat_minor": 5
}