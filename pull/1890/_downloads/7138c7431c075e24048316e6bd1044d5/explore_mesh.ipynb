{
 "cells": [
  {
   "cell_type": "code",
   "execution_count": 1,
   "id": "766c9eb8",
   "metadata": {
    "execution": {
     "iopub.execute_input": "2025-07-21T10:03:04.969741Z",
     "iopub.status.busy": "2025-07-21T10:03:04.969741Z",
     "iopub.status.idle": "2025-07-21T10:03:06.487838Z",
     "shell.execute_reply": "2025-07-21T10:03:06.487838Z"
    }
   },
   "outputs": [],
   "source": [
    "# Import the ``ansys.dpf.core`` module\n",
    "from ansys.dpf import core as dpf\n",
    "# Import the examples module\n",
    "from ansys.dpf.core import examples\n",
    "# Import the operators module\n",
    "from ansys.dpf.core import operators as ops\n",
    "\n",
    "# Define the result file path\n",
    "result_file_path_1 = examples.find_static_rst()\n",
    "# Create the model\n",
    "model_1 = dpf.Model(data_sources=result_file_path_1)\n",
    "# Get the mesh\n",
    "meshed_region_1 = model_1.metadata.meshed_region"
   ]
  },
  {
   "cell_type": "code",
   "execution_count": 2,
   "id": "20919d7b",
   "metadata": {
    "execution": {
     "iopub.execute_input": "2025-07-21T10:03:06.491448Z",
     "iopub.status.busy": "2025-07-21T10:03:06.491448Z",
     "iopub.status.idle": "2025-07-21T10:03:06.502644Z",
     "shell.execute_reply": "2025-07-21T10:03:06.502644Z"
    }
   },
   "outputs": [],
   "source": [
    "# Import the ``ansys.dpf.core`` module\n",
    "from ansys.dpf import core as dpf\n",
    "# Import the examples module\n",
    "from ansys.dpf.core import examples\n",
    "# Import the operators module\n",
    "from ansys.dpf.core import operators as ops\n",
    "\n",
    "# Define the result file path\n",
    "result_file_path_2 = examples.download_d3plot_beam()\n",
    "# Create the DataSources object\n",
    "ds_2 = dpf.DataSources()\n",
    "ds_2.set_result_file_path(filepath=result_file_path_2[0], key=\"d3plot\")\n",
    "ds_2.add_file_path(filepath=result_file_path_2[3], key=\"actunits\")\n",
    "# Create the model\n",
    "model_2 = dpf.Model(data_sources=ds_2)\n",
    "# Get the mesh\n",
    "meshed_region_2 = model_2.metadata.meshed_region"
   ]
  },
  {
   "cell_type": "code",
   "execution_count": 3,
   "id": "639e6557",
   "metadata": {
    "execution": {
     "iopub.execute_input": "2025-07-21T10:03:06.502644Z",
     "iopub.status.busy": "2025-07-21T10:03:06.502644Z",
     "iopub.status.idle": "2025-07-21T10:03:11.858462Z",
     "shell.execute_reply": "2025-07-21T10:03:11.858462Z"
    }
   },
   "outputs": [],
   "source": [
    "# Import the ``ansys.dpf.core`` module\n",
    "from ansys.dpf import core as dpf\n",
    "# Import the examples module\n",
    "from ansys.dpf.core import examples\n",
    "# Import the operators module\n",
    "from ansys.dpf.core import operators as ops\n",
    "\n",
    "# Define the result file path\n",
    "result_file_path_3 = examples.download_fluent_axial_comp()[\"flprj\"]\n",
    "# Create the model\n",
    "model_3 = dpf.Model(data_sources=result_file_path_3)\n",
    "# Get the mesh\n",
    "meshed_region_3 = model_3.metadata.meshed_region"
   ]
  },
  {
   "cell_type": "code",
   "execution_count": 4,
   "id": "b073a97e",
   "metadata": {
    "execution": {
     "iopub.execute_input": "2025-07-21T10:03:11.858462Z",
     "iopub.status.busy": "2025-07-21T10:03:11.858462Z",
     "iopub.status.idle": "2025-07-21T10:03:15.034290Z",
     "shell.execute_reply": "2025-07-21T10:03:15.034290Z"
    }
   },
   "outputs": [],
   "source": [
    "# Import the ``ansys.dpf.core`` module\n",
    "from ansys.dpf import core as dpf\n",
    "# Import the examples module\n",
    "from ansys.dpf.core import examples\n",
    "# Import the operators module\n",
    "from ansys.dpf.core import operators as ops\n",
    "\n",
    "# Define the result file path\n",
    "result_file_path_4 = examples.download_cfx_mixing_elbow()\n",
    "# Create the model\n",
    "model_4 = dpf.Model(data_sources=result_file_path_4)\n",
    "# Get the mesh\n",
    "meshed_region_4 = model_4.metadata.meshed_region"
   ]
  },
  {
   "cell_type": "code",
   "execution_count": 5,
   "id": "75cfd2f2",
   "metadata": {
    "execution": {
     "iopub.execute_input": "2025-07-21T10:03:15.034290Z",
     "iopub.status.busy": "2025-07-21T10:03:15.034290Z",
     "iopub.status.idle": "2025-07-21T10:03:15.042054Z",
     "shell.execute_reply": "2025-07-21T10:03:15.042054Z"
    }
   },
   "outputs": [
    {
     "name": "stdout",
     "output_type": "stream",
     "text": [
      "Object type:  <class 'ansys.dpf.core.nodes.Nodes'> \n",
      "\n",
      "Nodes:  DPF Node collection with 81 nodes\n",
      "\n"
     ]
    }
   ],
   "source": [
    "# Get the mesh nodes\n",
    "nodes_1 = meshed_region_1.nodes\n",
    "\n",
    "# Print the object type\n",
    "print(\"Object type: \",type(nodes_1),'\\n')\n",
    "\n",
    "# Print the nodes\n",
    "print(\"Nodes: \", nodes_1)"
   ]
  },
  {
   "cell_type": "code",
   "execution_count": 6,
   "id": "ed8ba760",
   "metadata": {
    "execution": {
     "iopub.execute_input": "2025-07-21T10:03:15.042054Z",
     "iopub.status.busy": "2025-07-21T10:03:15.042054Z",
     "iopub.status.idle": "2025-07-21T10:03:15.049036Z",
     "shell.execute_reply": "2025-07-21T10:03:15.049036Z"
    }
   },
   "outputs": [
    {
     "name": "stdout",
     "output_type": "stream",
     "text": [
      "Object type:  <class 'ansys.dpf.core.nodes.Nodes'> \n",
      "\n",
      "Nodes:  DPF Node collection with 1940 nodes\n",
      "\n"
     ]
    }
   ],
   "source": [
    "# Get the mesh nodes\n",
    "nodes_2 = meshed_region_2.nodes\n",
    "\n",
    "# Print the object type\n",
    "print(\"Object type: \",type(nodes_2),'\\n')\n",
    "\n",
    "# Print the nodes\n",
    "print(\"Nodes: \", nodes_2)"
   ]
  },
  {
   "cell_type": "code",
   "execution_count": 7,
   "id": "e22b94cb",
   "metadata": {
    "execution": {
     "iopub.execute_input": "2025-07-21T10:03:15.051657Z",
     "iopub.status.busy": "2025-07-21T10:03:15.051657Z",
     "iopub.status.idle": "2025-07-21T10:03:15.056135Z",
     "shell.execute_reply": "2025-07-21T10:03:15.056135Z"
    }
   },
   "outputs": [
    {
     "name": "stdout",
     "output_type": "stream",
     "text": [
      "Object type:  <class 'ansys.dpf.core.nodes.Nodes'> \n",
      "\n",
      "Nodes:  DPF Node collection with 16660 nodes\n",
      "\n"
     ]
    }
   ],
   "source": [
    "# Get the mesh nodes\n",
    "nodes_3 = meshed_region_3.nodes\n",
    "\n",
    "# Print the object type\n",
    "print(\"Object type: \",type(nodes_3),'\\n')\n",
    "\n",
    "# Print the nodes\n",
    "print(\"Nodes: \", nodes_3)"
   ]
  },
  {
   "cell_type": "code",
   "execution_count": 8,
   "id": "1d617402",
   "metadata": {
    "execution": {
     "iopub.execute_input": "2025-07-21T10:03:15.056135Z",
     "iopub.status.busy": "2025-07-21T10:03:15.056135Z",
     "iopub.status.idle": "2025-07-21T10:03:15.062873Z",
     "shell.execute_reply": "2025-07-21T10:03:15.062873Z"
    }
   },
   "outputs": [
    {
     "name": "stdout",
     "output_type": "stream",
     "text": [
      "Object type:  <class 'ansys.dpf.core.nodes.Nodes'> \n",
      "\n",
      "Nodes:  DPF Node collection with 6219 nodes\n",
      "\n"
     ]
    }
   ],
   "source": [
    "# Get the mesh nodes\n",
    "nodes_4 = meshed_region_4.nodes\n",
    "\n",
    "# Print the object type\n",
    "print(\"Object type: \",type(nodes_4),'\\n')\n",
    "\n",
    "# Print the nodes\n",
    "print(\"Nodes: \", nodes_4)"
   ]
  },
  {
   "cell_type": "code",
   "execution_count": 9,
   "id": "445753aa",
   "metadata": {
    "execution": {
     "iopub.execute_input": "2025-07-21T10:03:15.062873Z",
     "iopub.status.busy": "2025-07-21T10:03:15.062873Z",
     "iopub.status.idle": "2025-07-21T10:03:15.069466Z",
     "shell.execute_reply": "2025-07-21T10:03:15.069466Z"
    }
   },
   "outputs": [
    {
     "name": "stdout",
     "output_type": "stream",
     "text": [
      "Available properties:  ['connectivity', 'elprops', 'eltype', 'apdl_element_type', 'section', 'mat']\n"
     ]
    }
   ],
   "source": [
    "# Get the available properties\n",
    "available_props_1 = meshed_region_1.available_property_fields\n",
    "\n",
    "# Print the available properties\n",
    "print(\"Available properties: \", available_props_1)"
   ]
  },
  {
   "cell_type": "code",
   "execution_count": 10,
   "id": "0e2eeebe",
   "metadata": {
    "execution": {
     "iopub.execute_input": "2025-07-21T10:03:15.072077Z",
     "iopub.status.busy": "2025-07-21T10:03:15.072077Z",
     "iopub.status.idle": "2025-07-21T10:03:15.075925Z",
     "shell.execute_reply": "2025-07-21T10:03:15.075925Z"
    }
   },
   "outputs": [
    {
     "name": "stdout",
     "output_type": "stream",
     "text": [
      "Available properties:  ['connectivity', 'eltype', 'mat']\n"
     ]
    }
   ],
   "source": [
    "# Get the available properties\n",
    "available_props_2 = meshed_region_2.available_property_fields\n",
    "\n",
    "# Print the available properties\n",
    "print(\"Available properties: \", available_props_2)"
   ]
  },
  {
   "cell_type": "code",
   "execution_count": 11,
   "id": "7700d603",
   "metadata": {
    "execution": {
     "iopub.execute_input": "2025-07-21T10:03:15.076942Z",
     "iopub.status.busy": "2025-07-21T10:03:15.076942Z",
     "iopub.status.idle": "2025-07-21T10:03:15.083134Z",
     "shell.execute_reply": "2025-07-21T10:03:15.083134Z"
    }
   },
   "outputs": [
    {
     "name": "stdout",
     "output_type": "stream",
     "text": [
      "Available properties:  ['connectivity', 'eltype', 'faces_type', 'faces_nodes_connectivity', 'elements_faces_connectivity', 'elements_faces_reversed']\n"
     ]
    }
   ],
   "source": [
    "# Get the available properties\n",
    "available_props_3 = meshed_region_3.available_property_fields\n",
    "\n",
    "# Print the available properties\n",
    "print(\"Available properties: \", available_props_3)"
   ]
  },
  {
   "cell_type": "code",
   "execution_count": 12,
   "id": "f26272fd",
   "metadata": {
    "execution": {
     "iopub.execute_input": "2025-07-21T10:03:15.083134Z",
     "iopub.status.busy": "2025-07-21T10:03:15.083134Z",
     "iopub.status.idle": "2025-07-21T10:03:15.089307Z",
     "shell.execute_reply": "2025-07-21T10:03:15.089307Z"
    }
   },
   "outputs": [
    {
     "name": "stdout",
     "output_type": "stream",
     "text": [
      "Available properties:  ['connectivity', 'eltype']\n"
     ]
    }
   ],
   "source": [
    "# Get the available properties\n",
    "available_props_4 = meshed_region_4.available_property_fields\n",
    "\n",
    "# Print the available properties\n",
    "print(\"Available properties: \", available_props_4)"
   ]
  },
  {
   "cell_type": "code",
   "execution_count": 13,
   "id": "c9a23b85",
   "metadata": {
    "execution": {
     "iopub.execute_input": "2025-07-21T10:03:15.092371Z",
     "iopub.status.busy": "2025-07-21T10:03:15.089307Z",
     "iopub.status.idle": "2025-07-21T10:03:15.096258Z",
     "shell.execute_reply": "2025-07-21T10:03:15.096258Z"
    }
   },
   "outputs": [
    {
     "name": "stdout",
     "output_type": "stream",
     "text": [
      "DPF Property Field\n",
      "  8 entities \n",
      "  Data: 1 components and 8 elementary data \n",
      "\n",
      "  Elemental\n",
      "  IDs                   data\n",
      "  ------------          ----------\n",
      "  5                     1              \n",
      "                        \n",
      "  6                     1              \n",
      "                        \n",
      "  1                     1              \n",
      "                        \n",
      "  ...\n",
      "\n",
      "\n"
     ]
    }
   ],
   "source": [
    "# Get the element types on the mesh\n",
    "el_types_1 = meshed_region_1.elements.element_types_field\n",
    "\n",
    "# Print the element types by element\n",
    "print(el_types_1)"
   ]
  },
  {
   "cell_type": "code",
   "execution_count": 14,
   "id": "5c1d4b47",
   "metadata": {
    "execution": {
     "iopub.execute_input": "2025-07-21T10:03:15.096258Z",
     "iopub.status.busy": "2025-07-21T10:03:15.096258Z",
     "iopub.status.idle": "2025-07-21T10:03:15.103370Z",
     "shell.execute_reply": "2025-07-21T10:03:15.102825Z"
    }
   },
   "outputs": [
    {
     "name": "stdout",
     "output_type": "stream",
     "text": [
      "DPF Property Field\n",
      "  2056 entities \n",
      "  Data: 1 components and 2056 elementary data \n",
      "\n",
      "  Elemental\n",
      "  IDs                   data\n",
      "  ------------          ----------\n",
      "  257                   11             \n",
      "                        \n",
      "  258                   11             \n",
      "                        \n",
      "  259                   11             \n",
      "                        \n",
      "  ...\n",
      "\n",
      "\n"
     ]
    }
   ],
   "source": [
    "# Get the element types on the mesh\n",
    "el_types_2 = meshed_region_2.property_field(property_name=\"eltype\")\n",
    "\n",
    "# Print the element types by element\n",
    "print(el_types_2)"
   ]
  },
  {
   "cell_type": "code",
   "execution_count": 15,
   "id": "902205b4",
   "metadata": {
    "execution": {
     "iopub.execute_input": "2025-07-21T10:03:15.103370Z",
     "iopub.status.busy": "2025-07-21T10:03:15.103370Z",
     "iopub.status.idle": "2025-07-21T10:03:15.109125Z",
     "shell.execute_reply": "2025-07-21T10:03:15.109125Z"
    }
   },
   "outputs": [
    {
     "name": "stdout",
     "output_type": "stream",
     "text": [
      "DPF Property Field\n",
      "  13856 entities \n",
      "  Data: 1 components and 13856 elementary data \n",
      "\n",
      "  Elemental\n",
      "  IDs                   data\n",
      "  ------------          ----------\n",
      "  1                     11             \n",
      "                        \n",
      "  2                     11             \n",
      "                        \n",
      "  3                     11             \n",
      "                        \n",
      "  ...\n",
      "\n",
      "\n"
     ]
    }
   ],
   "source": [
    "# Get the element types on the mesh\n",
    "el_types_3 = meshed_region_3.property_field(property_name=\"eltype\")\n",
    "\n",
    "# Print the element types by element\n",
    "print(el_types_3)"
   ]
  },
  {
   "cell_type": "code",
   "execution_count": 16,
   "id": "1e178536",
   "metadata": {
    "execution": {
     "iopub.execute_input": "2025-07-21T10:03:15.109125Z",
     "iopub.status.busy": "2025-07-21T10:03:15.109125Z",
     "iopub.status.idle": "2025-07-21T10:03:15.115535Z",
     "shell.execute_reply": "2025-07-21T10:03:15.115535Z"
    }
   },
   "outputs": [
    {
     "name": "stdout",
     "output_type": "stream",
     "text": [
      "DPF Property Field\n",
      "  15695 entities \n",
      "  Data: 1 components and 15695 elementary data \n",
      "\n",
      "  Elemental\n",
      "  IDs                   data\n",
      "  ------------          ----------\n",
      "  1                     10             \n",
      "                        \n",
      "  2                     10             \n",
      "                        \n",
      "  3                     10             \n",
      "                        \n",
      "  ...\n",
      "\n",
      "\n"
     ]
    }
   ],
   "source": [
    "# Get the element types on the mesh\n",
    "el_types_4 = meshed_region_4.property_field(property_name=\"eltype\")\n",
    "\n",
    "# Print the element types by element\n",
    "print(el_types_4)"
   ]
  }
 ],
 "metadata": {
  "kernelspec": {
   "display_name": "Python 3 (ipykernel)",
   "language": "python",
   "name": "python3"
  },
  "language_info": {
   "codemirror_mode": {
    "name": "ipython",
    "version": 3
   },
   "file_extension": ".py",
   "mimetype": "text/x-python",
   "name": "python",
   "nbconvert_exporter": "python",
   "pygments_lexer": "ipython3",
   "version": "3.11.9"
  }
 },
 "nbformat": 4,
 "nbformat_minor": 5
}