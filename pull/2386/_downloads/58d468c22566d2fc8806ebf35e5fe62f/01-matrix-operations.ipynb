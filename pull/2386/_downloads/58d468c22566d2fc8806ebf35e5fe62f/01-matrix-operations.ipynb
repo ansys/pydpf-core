{
  "cells": [
    {
      "cell_type": "markdown",
      "metadata": {},
      "source": [
        "# Matrix Operations {#ref_matrix-operations}\r\n\r\nThis example shows how to do some matrix operations, including basic\r\nmathematical operations (power, add and multiply by a constant, add\r\nfield containers and invert) and separating and assembling fields and\r\nfields containers.\r\n"
      ]
    },
    {
      "cell_type": "markdown",
      "metadata": {},
      "source": [
        "Import the `ansys.dpf.core` module, included examples file, and the\r\n`operators.math` module.\r\n"
      ]
    },
    {
      "cell_type": "code",
      "execution_count": null,
      "metadata": {
        "collapsed": false
      },
      "outputs": [],
      "source": [
        "from ansys.dpf import core as dpf\nfrom ansys.dpf.core import examples\nimport ansys.dpf.core.operators.math as maths"
      ]
    },
    {
      "cell_type": "markdown",
      "metadata": {},
      "source": [
        "Open an example and print the `Model` object The\r\n`Model <ansys.dpf.core.model.Model>`{.interpreted-text role=\"class\"}\r\nclass helps to organize access methods for the result by keeping track\r\nof the operators and data sources used by the result file.\r\n\r\nPrinting the model displays this metadata:\r\n\r\n- Analysis type\r\n- Available results\r\n- Size of the mesh\r\n- Number of results\r\n"
      ]
    },
    {
      "cell_type": "code",
      "execution_count": null,
      "metadata": {
        "collapsed": false
      },
      "outputs": [],
      "source": [
        "my_model = dpf.Model(examples.find_complex_rst())\nmy_mesh = my_model.metadata.meshed_region\nprint(my_model)"
      ]
    },
    {
      "cell_type": "markdown",
      "metadata": {},
      "source": [
        "Get the stress tensor and define its scoping. Only three nodes will be\r\ntaken into account to facilitate the visualization.\r\n"
      ]
    },
    {
      "cell_type": "code",
      "execution_count": null,
      "metadata": {
        "collapsed": false
      },
      "outputs": [],
      "source": [
        "my_nodes_scoping = dpf.Scoping(ids=[38, 37, 36], location=dpf.locations.elemental)\nmy_stress = my_model.results.stress(mesh_scoping=my_nodes_scoping).eval()\n\n# We need to average the result from 'elemental_nodal' to an 'elemental' location to plot it.\nmy_avg_stress = dpf.operators.averaging.to_elemental_fc(\n    fields_container=my_stress, mesh=my_mesh\n).eval()\nprint(my_avg_stress)\nprint(my_avg_stress[0])"
      ]
    },
    {
      "cell_type": "markdown",
      "metadata": {},
      "source": [
        "# Separating tensor by component\r\n"
      ]
    },
    {
      "cell_type": "code",
      "execution_count": null,
      "metadata": {
        "collapsed": false
      },
      "outputs": [],
      "source": [
        "# If operations need to be done separately in each tensor component, use\n# :func:'select_component()<ansys.dpf.core.fields_container.FieldsContainer.select_component>'.\n# Here, the stress tensor has 6 components per elementary data (symmetrical tensor XX,YY,ZZ,XY,YZ,XZ).\n\n# Separating the results in different fields containers for each stress tensor component\nstress_1 = my_avg_stress.select_component(0)\nstress_2 = my_avg_stress.select_component(1)\nstress_3 = my_avg_stress.select_component(2)\nstress_4 = my_avg_stress.select_component(3)\nstress_5 = my_avg_stress.select_component(4)\nstress_6 = my_avg_stress.select_component(5)"
      ]
    },
    {
      "cell_type": "markdown",
      "metadata": {},
      "source": [
        "# Mathematical operation on each field\r\n"
      ]
    },
    {
      "cell_type": "code",
      "execution_count": null,
      "metadata": {
        "collapsed": false
      },
      "outputs": [],
      "source": [
        "# Here we will do some basic mathematical operations on each stress field\n\n# Power\n# Raise each value of the field to power 2\nstress_1 = maths.pow_fc(fields_container=stress_1, factor=2.0).eval()\n\n# Add a constant\n# Add 2 to each value in the field\nstress_2 = maths.add_constant_fc(fields_container=stress_2, weights=2.0).eval()\n\n# Multiply by a constant\n# Multiply each value in the field by 3\nstress_3 = maths.scale_fc(fields_container=stress_3, weights=3.0).eval()\n\n# Add fields containers\n# Each value of each field is added by the correspondent component of the others fields\nstress_4 = maths.add_fc(fields_container1=stress_4, fields_container2=stress_5).eval()\nstress_5 = maths.add_fc(fields_container1=stress_5, fields_container2=stress_6).eval()\n\n# Invert\n# Compute the invert of each element of each field (1./X)\nstress_6 = maths.invert_fc(fields_container=stress_6).eval()"
      ]
    },
    {
      "cell_type": "markdown",
      "metadata": {},
      "source": [
        "# Reassembling the stress tensor\r\n"
      ]
    },
    {
      "cell_type": "code",
      "execution_count": null,
      "metadata": {
        "collapsed": false
      },
      "outputs": [],
      "source": [
        "# There are different methods to re-assemble the components, here we use the\n# operator :class:'assemble_scalars_to_matrices_fc <ansys.dpf.core.operators.utility.assemble_scalars_to_matrices_fc.assemble_scalars_to_matrices_fc>'\n\nre_assemble = dpf.operators.utility.assemble_scalars_to_matrices_fc(\n    xx=stress_1, yy=stress_2, zz=stress_3, xy=stress_4, yz=stress_5, xz=stress_6, symmetrical=True\n).eval()\n\nprint(re_assemble)\nprint(re_assemble[0])"
      ]
    }
  ],
  "metadata": {
    "kernelspec": {
      "display_name": "Python 3",
      "language": "python",
      "name": "python3"
    },
    "language_info": {
      "codemirror_mode": {
        "name": "ipython",
        "version": 3
      },
      "file_extension": ".py",
      "mimetype": "text/x-python",
      "name": "python",
      "nbconvert_exporter": "python",
      "pygments_lexer": "ipython3",
      "version": "3.11.9"
    }
  },
  "nbformat": 4,
  "nbformat_minor": 0
}