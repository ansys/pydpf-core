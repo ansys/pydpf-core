{
 "cells": [
  {
   "cell_type": "code",
   "execution_count": 1,
   "id": "526185d8",
   "metadata": {
    "execution": {
     "iopub.execute_input": "2025-07-29T14:02:29.501296Z",
     "iopub.status.busy": "2025-07-29T14:02:29.501296Z",
     "iopub.status.idle": "2025-07-29T14:02:30.999184Z",
     "shell.execute_reply": "2025-07-29T14:02:30.999184Z"
    }
   },
   "outputs": [],
   "source": [
    "# Import the ``ansys.dpf.core`` module\n",
    "from ansys.dpf import core as dpf\n",
    "# Import the examples module\n",
    "from ansys.dpf.core import examples\n",
    "\n",
    "# Define the result file path\n",
    "result_file_path_2 = examples.download_d3plot_beam()"
   ]
  },
  {
   "cell_type": "code",
   "execution_count": 2,
   "id": "b3e95a28",
   "metadata": {
    "execution": {
     "iopub.execute_input": "2025-07-29T14:02:31.002761Z",
     "iopub.status.busy": "2025-07-29T14:02:31.001239Z",
     "iopub.status.idle": "2025-07-29T14:02:31.006659Z",
     "shell.execute_reply": "2025-07-29T14:02:31.006659Z"
    }
   },
   "outputs": [],
   "source": [
    "# Import the ``ansys.dpf.core`` module\n",
    "from ansys.dpf import core as dpf\n",
    "# Import the examples module\n",
    "from ansys.dpf.core import examples\n",
    "\n",
    "# Define the result file path\n",
    "result_file_path_3 = examples.download_fluent_axial_comp()[\"flprj\"]"
   ]
  },
  {
   "cell_type": "code",
   "execution_count": 3,
   "id": "43bad61a",
   "metadata": {
    "execution": {
     "iopub.execute_input": "2025-07-29T14:02:31.008219Z",
     "iopub.status.busy": "2025-07-29T14:02:31.008219Z",
     "iopub.status.idle": "2025-07-29T14:02:31.012656Z",
     "shell.execute_reply": "2025-07-29T14:02:31.012656Z"
    }
   },
   "outputs": [],
   "source": [
    "# Import the ``ansys.dpf.core`` module\n",
    "from ansys.dpf import core as dpf\n",
    "# Import the examples module\n",
    "from ansys.dpf.core import examples\n",
    "\n",
    "# Define the result file path\n",
    "result_file_path_4 = examples.download_cfx_mixing_elbow()"
   ]
  },
  {
   "cell_type": "code",
   "execution_count": 4,
   "id": "867758fb",
   "metadata": {
    "execution": {
     "iopub.execute_input": "2025-07-29T14:02:31.012656Z",
     "iopub.status.busy": "2025-07-29T14:02:31.012656Z",
     "iopub.status.idle": "2025-07-29T14:02:31.018742Z",
     "shell.execute_reply": "2025-07-29T14:02:31.018742Z"
    }
   },
   "outputs": [],
   "source": [
    "# Create the DataSources object\n",
    "ds_2 = dpf.DataSources()\n",
    "ds_2.set_result_file_path(filepath=result_file_path_2[0], key=\"d3plot\")\n",
    "ds_2.add_file_path(filepath=result_file_path_2[3], key=\"actunits\")\n",
    "# Create the Model\n",
    "model_2 = dpf.Model(data_sources=ds_2)"
   ]
  },
  {
   "cell_type": "code",
   "execution_count": 5,
   "id": "4b7afa4a",
   "metadata": {
    "execution": {
     "iopub.execute_input": "2025-07-29T14:02:31.018742Z",
     "iopub.status.busy": "2025-07-29T14:02:31.018742Z",
     "iopub.status.idle": "2025-07-29T14:02:31.024457Z",
     "shell.execute_reply": "2025-07-29T14:02:31.024457Z"
    }
   },
   "outputs": [],
   "source": [
    "# Create the Model\n",
    "model_3 = dpf.Model(data_sources=result_file_path_3)"
   ]
  },
  {
   "cell_type": "code",
   "execution_count": 6,
   "id": "64813ce5",
   "metadata": {
    "execution": {
     "iopub.execute_input": "2025-07-29T14:02:31.024457Z",
     "iopub.status.busy": "2025-07-29T14:02:31.024457Z",
     "iopub.status.idle": "2025-07-29T14:02:31.029767Z",
     "shell.execute_reply": "2025-07-29T14:02:31.029767Z"
    }
   },
   "outputs": [],
   "source": [
    "# Create the Model\n",
    "model_4 = dpf.Model(data_sources=result_file_path_4)"
   ]
  },
  {
   "cell_type": "code",
   "execution_count": 7,
   "id": "190c79d2",
   "metadata": {
    "execution": {
     "iopub.execute_input": "2025-07-29T14:02:31.029767Z",
     "iopub.status.busy": "2025-07-29T14:02:31.029767Z",
     "iopub.status.idle": "2025-07-29T14:02:31.043543Z",
     "shell.execute_reply": "2025-07-29T14:02:31.043543Z"
    }
   },
   "outputs": [
    {
     "name": "stdout",
     "output_type": "stream",
     "text": [
      "DPF MeshInfo\n",
      "------------------------------\n",
      "with properties:\n",
      "  part_names          \tStringField\n",
      "  part_scoping        \tScoping\n"
     ]
    }
   ],
   "source": [
    "# Get the mesh metadata information\n",
    "mesh_info_2 = model_2.metadata.mesh_info\n",
    "\n",
    "# Print the mesh metadata information\n",
    "print(mesh_info_2)"
   ]
  },
  {
   "cell_type": "code",
   "execution_count": 8,
   "id": "8398c4c0",
   "metadata": {
    "execution": {
     "iopub.execute_input": "2025-07-29T14:02:31.043543Z",
     "iopub.status.busy": "2025-07-29T14:02:31.043543Z",
     "iopub.status.idle": "2025-07-29T14:02:31.704757Z",
     "shell.execute_reply": "2025-07-29T14:02:31.704757Z"
    }
   },
   "outputs": [
    {
     "name": "stdout",
     "output_type": "stream",
     "text": [
      "DPF MeshInfo\n",
      "------------------------------\n",
      "with properties:\n",
      "  num_cells           \tint\n",
      "  num_nodes           \tint\n",
      "  num_faces           \tint\n",
      "  body_names          \tStringField\n",
      "  body_cell_topology  \tPropertyField\n",
      "  body_face_topology  \tPropertyField\n",
      "  body_scoping        \tScoping\n",
      "  cell_zone_names     \tStringField\n",
      "  cell_zone_elements  \tPropertyField\n",
      "  cell_zone_scoping   \tScoping\n",
      "  face_zone_names     \tStringField\n",
      "  face_zone_elements  \tPropertyField\n",
      "  face_zone_scoping   \tScoping\n",
      "  zone_names          \tStringField\n",
      "  num_elem_zone       \tPropertyField\n",
      "  zone_scoping        \tScoping\n",
      "  splittable_by       \tStringField\n"
     ]
    }
   ],
   "source": [
    "# Get the mesh metadata information\n",
    "mesh_info_3 = model_3.metadata.mesh_info\n",
    "\n",
    "# Print the mesh metadata information\n",
    "print(mesh_info_3)"
   ]
  },
  {
   "cell_type": "code",
   "execution_count": 9,
   "id": "fcc2f082",
   "metadata": {
    "execution": {
     "iopub.execute_input": "2025-07-29T14:02:31.704757Z",
     "iopub.status.busy": "2025-07-29T14:02:31.704757Z",
     "iopub.status.idle": "2025-07-29T14:02:31.897179Z",
     "shell.execute_reply": "2025-07-29T14:02:31.897179Z"
    }
   },
   "outputs": [
    {
     "name": "stdout",
     "output_type": "stream",
     "text": [
      "DPF MeshInfo\n",
      "------------------------------\n",
      "with properties:\n",
      "  num_nodes           \tint\n",
      "  num_cells           \tint\n",
      "  body_names          \tStringField\n",
      "  body_cell_topology  \tPropertyField\n",
      "  num_faces           \tint\n",
      "  body_face_topology  \tPropertyField\n",
      "  body_scoping        \tScoping\n",
      "  cell_zone_names     \tStringField\n",
      "  cell_zone_elements  \tPropertyField\n",
      "  face_zone_names     \tStringField\n",
      "  cell_zone_scoping   \tScoping\n",
      "  face_zone_elements  \tPropertyField\n",
      "  face_zone_scoping   \tScoping\n",
      "  zone_names          \tStringField\n",
      "  num_elem_zone       \tPropertyField\n",
      "  zone_scoping        \tScoping\n",
      "  splittable_by       \tStringField\n"
     ]
    }
   ],
   "source": [
    "# Get the mesh metadata information\n",
    "mesh_info_4 = model_4.metadata.mesh_info\n",
    "\n",
    "# Print the mesh metadata information\n",
    "print(mesh_info_4)"
   ]
  },
  {
   "cell_type": "code",
   "execution_count": 10,
   "id": "d373240b",
   "metadata": {
    "execution": {
     "iopub.execute_input": "2025-07-29T14:02:31.897179Z",
     "iopub.status.busy": "2025-07-29T14:02:31.897179Z",
     "iopub.status.idle": "2025-07-29T14:02:31.903811Z",
     "shell.execute_reply": "2025-07-29T14:02:31.903811Z"
    }
   },
   "outputs": [
    {
     "name": "stdout",
     "output_type": "stream",
     "text": [
      "DPF String Field\n",
      "  2 part entities \n",
      "  Data:2 elementary data \n",
      "\n",
      "  part\n",
      "  IDs                   data\n",
      "  ------------          ----------\n",
      "  1                                                                                             \n",
      "                        \n",
      "  2                     ball                                                                    \n",
      "                        \n",
      "\n",
      "\n"
     ]
    }
   ],
   "source": [
    "# Get the part names\n",
    "cell_zones_2 = mesh_info_2.get_property(\"part_names\")\n",
    "\n",
    "# Print the part names\n",
    "print(cell_zones_2)"
   ]
  },
  {
   "cell_type": "code",
   "execution_count": 11,
   "id": "dd18b223",
   "metadata": {
    "execution": {
     "iopub.execute_input": "2025-07-29T14:02:31.903811Z",
     "iopub.status.busy": "2025-07-29T14:02:31.903811Z",
     "iopub.status.idle": "2025-07-29T14:02:31.909333Z",
     "shell.execute_reply": "2025-07-29T14:02:31.909333Z"
    }
   },
   "outputs": [
    {
     "name": "stdout",
     "output_type": "stream",
     "text": [
      "DPF String Field\n",
      "  2 zone entities \n",
      "  Data:2 elementary data \n",
      "\n",
      "  zone\n",
      "  IDs                   data\n",
      "  ------------          ----------\n",
      "  13                    fluid-rotor    \n",
      "                        \n",
      "  28                    fluid-stator   \n",
      "                        \n",
      "\n",
      "\n"
     ]
    }
   ],
   "source": [
    "# Get the cell zone names\n",
    "cell_zones_3 = mesh_info_3.get_property(\"cell_zone_names\")\n",
    "\n",
    "# Print the cell zone names\n",
    "print(cell_zones_3)"
   ]
  },
  {
   "cell_type": "code",
   "execution_count": 12,
   "id": "29ad5762",
   "metadata": {
    "execution": {
     "iopub.execute_input": "2025-07-29T14:02:31.909333Z",
     "iopub.status.busy": "2025-07-29T14:02:31.909333Z",
     "iopub.status.idle": "2025-07-29T14:02:31.914805Z",
     "shell.execute_reply": "2025-07-29T14:02:31.914805Z"
    }
   },
   "outputs": [
    {
     "name": "stdout",
     "output_type": "stream",
     "text": [
      "DPF String Field\n",
      "  3 zone entities \n",
      "  Data:3 elementary data \n",
      "\n",
      "  zone\n",
      "  IDs                   data\n",
      "  ------------          ----------\n",
      "  2                     ZN1/ES1        \n",
      "                        \n",
      "  3                     ZN1/ES2        \n",
      "                        \n",
      "  4                     ZN1/ES3        \n",
      "                        \n",
      "\n",
      "\n"
     ]
    }
   ],
   "source": [
    "# Get the cell zone names\n",
    "cell_zones_4 = mesh_info_4.get_property(\"cell_zone_names\")\n",
    "\n",
    "# Print the cell zone names\n",
    "print(cell_zones_4)"
   ]
  }
 ],
 "metadata": {
  "kernelspec": {
   "display_name": "Python 3 (ipykernel)",
   "language": "python",
   "name": "python3"
  },
  "language_info": {
   "codemirror_mode": {
    "name": "ipython",
    "version": 3
   },
   "file_extension": ".py",
   "mimetype": "text/x-python",
   "name": "python",
   "nbconvert_exporter": "python",
   "pygments_lexer": "ipython3",
   "version": "3.11.9"
  }
 },
 "nbformat": 4,
 "nbformat_minor": 5
}