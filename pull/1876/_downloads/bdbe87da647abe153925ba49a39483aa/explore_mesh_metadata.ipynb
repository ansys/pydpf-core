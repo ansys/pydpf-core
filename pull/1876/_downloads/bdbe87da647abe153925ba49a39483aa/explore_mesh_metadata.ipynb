{
 "cells": [
  {
   "cell_type": "code",
   "execution_count": 1,
   "id": "603c78af",
   "metadata": {
    "execution": {
     "iopub.execute_input": "2025-07-21T09:45:24.325752Z",
     "iopub.status.busy": "2025-07-21T09:45:24.325752Z",
     "iopub.status.idle": "2025-07-21T09:45:25.863142Z",
     "shell.execute_reply": "2025-07-21T09:45:25.863142Z"
    }
   },
   "outputs": [],
   "source": [
    "# Import the ``ansys.dpf.core`` module\n",
    "from ansys.dpf import core as dpf\n",
    "# Import the examples module\n",
    "from ansys.dpf.core import examples\n",
    "\n",
    "# Define the result file path\n",
    "result_file_path_2 = examples.download_d3plot_beam()"
   ]
  },
  {
   "cell_type": "code",
   "execution_count": 2,
   "id": "8c561759",
   "metadata": {
    "execution": {
     "iopub.execute_input": "2025-07-21T09:45:25.863142Z",
     "iopub.status.busy": "2025-07-21T09:45:25.863142Z",
     "iopub.status.idle": "2025-07-21T09:45:25.871223Z",
     "shell.execute_reply": "2025-07-21T09:45:25.871223Z"
    }
   },
   "outputs": [],
   "source": [
    "# Import the ``ansys.dpf.core`` module\n",
    "from ansys.dpf import core as dpf\n",
    "# Import the examples module\n",
    "from ansys.dpf.core import examples\n",
    "\n",
    "# Define the result file path\n",
    "result_file_path_3 = examples.download_fluent_axial_comp()[\"flprj\"]"
   ]
  },
  {
   "cell_type": "code",
   "execution_count": 3,
   "id": "a9be3e6c",
   "metadata": {
    "execution": {
     "iopub.execute_input": "2025-07-21T09:45:25.873357Z",
     "iopub.status.busy": "2025-07-21T09:45:25.873357Z",
     "iopub.status.idle": "2025-07-21T09:45:25.878134Z",
     "shell.execute_reply": "2025-07-21T09:45:25.878134Z"
    }
   },
   "outputs": [],
   "source": [
    "# Import the ``ansys.dpf.core`` module\n",
    "from ansys.dpf import core as dpf\n",
    "# Import the examples module\n",
    "from ansys.dpf.core import examples\n",
    "\n",
    "# Define the result file path\n",
    "result_file_path_4 = examples.download_cfx_mixing_elbow()"
   ]
  },
  {
   "cell_type": "code",
   "execution_count": 4,
   "id": "56f30129",
   "metadata": {
    "execution": {
     "iopub.execute_input": "2025-07-21T09:45:25.878134Z",
     "iopub.status.busy": "2025-07-21T09:45:25.878134Z",
     "iopub.status.idle": "2025-07-21T09:45:25.885117Z",
     "shell.execute_reply": "2025-07-21T09:45:25.885117Z"
    }
   },
   "outputs": [],
   "source": [
    "# Create the DataSources object\n",
    "ds_2 = dpf.DataSources()\n",
    "ds_2.set_result_file_path(filepath=result_file_path_2[0], key=\"d3plot\")\n",
    "ds_2.add_file_path(filepath=result_file_path_2[3], key=\"actunits\")\n",
    "# Create the Model\n",
    "model_2 = dpf.Model(data_sources=ds_2)"
   ]
  },
  {
   "cell_type": "code",
   "execution_count": 5,
   "id": "0db8463c",
   "metadata": {
    "execution": {
     "iopub.execute_input": "2025-07-21T09:45:25.885117Z",
     "iopub.status.busy": "2025-07-21T09:45:25.885117Z",
     "iopub.status.idle": "2025-07-21T09:45:25.890539Z",
     "shell.execute_reply": "2025-07-21T09:45:25.890539Z"
    }
   },
   "outputs": [],
   "source": [
    "# Create the Model\n",
    "model_3 = dpf.Model(data_sources=result_file_path_3)"
   ]
  },
  {
   "cell_type": "code",
   "execution_count": 6,
   "id": "cc4474ce",
   "metadata": {
    "execution": {
     "iopub.execute_input": "2025-07-21T09:45:25.894142Z",
     "iopub.status.busy": "2025-07-21T09:45:25.893623Z",
     "iopub.status.idle": "2025-07-21T09:45:25.896756Z",
     "shell.execute_reply": "2025-07-21T09:45:25.896756Z"
    }
   },
   "outputs": [],
   "source": [
    "# Create the Model\n",
    "model_4 = dpf.Model(data_sources=result_file_path_4)"
   ]
  },
  {
   "cell_type": "code",
   "execution_count": 7,
   "id": "09a3f909",
   "metadata": {
    "execution": {
     "iopub.execute_input": "2025-07-21T09:45:25.896756Z",
     "iopub.status.busy": "2025-07-21T09:45:25.896756Z",
     "iopub.status.idle": "2025-07-21T09:45:25.911170Z",
     "shell.execute_reply": "2025-07-21T09:45:25.911170Z"
    }
   },
   "outputs": [
    {
     "name": "stdout",
     "output_type": "stream",
     "text": [
      "DPF MeshInfo\n",
      "------------------------------\n",
      "with properties:\n",
      "  part_names          \tStringField\n",
      "  part_scoping        \tScoping\n"
     ]
    }
   ],
   "source": [
    "# Get the mesh metadata information\n",
    "mesh_info_2 = model_2.metadata.mesh_info\n",
    "\n",
    "# Print the mesh metadata information\n",
    "print(mesh_info_2)"
   ]
  },
  {
   "cell_type": "code",
   "execution_count": 8,
   "id": "bf12633c",
   "metadata": {
    "execution": {
     "iopub.execute_input": "2025-07-21T09:45:25.914226Z",
     "iopub.status.busy": "2025-07-21T09:45:25.911170Z",
     "iopub.status.idle": "2025-07-21T09:45:26.602032Z",
     "shell.execute_reply": "2025-07-21T09:45:26.602032Z"
    }
   },
   "outputs": [
    {
     "name": "stdout",
     "output_type": "stream",
     "text": [
      "DPF MeshInfo\n",
      "------------------------------\n",
      "with properties:\n",
      "  num_cells           \tint\n",
      "  num_nodes           \tint\n",
      "  num_faces           \tint\n",
      "  body_names          \tStringField\n",
      "  body_cell_topology  \tPropertyField\n",
      "  body_face_topology  \tPropertyField\n",
      "  body_scoping        \tScoping\n",
      "  cell_zone_names     \tStringField\n",
      "  cell_zone_elements  \tPropertyField\n",
      "  cell_zone_scoping   \tScoping\n",
      "  face_zone_names     \tStringField\n",
      "  face_zone_elements  \tPropertyField\n",
      "  face_zone_scoping   \tScoping\n",
      "  zone_names          \tStringField\n",
      "  num_elem_zone       \tPropertyField\n",
      "  zone_scoping        \tScoping\n",
      "  splittable_by       \tStringField\n"
     ]
    }
   ],
   "source": [
    "# Get the mesh metadata information\n",
    "mesh_info_3 = model_3.metadata.mesh_info\n",
    "\n",
    "# Print the mesh metadata information\n",
    "print(mesh_info_3)"
   ]
  },
  {
   "cell_type": "code",
   "execution_count": 9,
   "id": "6dd0b203",
   "metadata": {
    "execution": {
     "iopub.execute_input": "2025-07-21T09:45:26.604601Z",
     "iopub.status.busy": "2025-07-21T09:45:26.604601Z",
     "iopub.status.idle": "2025-07-21T09:45:26.798627Z",
     "shell.execute_reply": "2025-07-21T09:45:26.798627Z"
    }
   },
   "outputs": [
    {
     "name": "stdout",
     "output_type": "stream",
     "text": [
      "DPF MeshInfo\n",
      "------------------------------\n",
      "with properties:\n",
      "  num_nodes           \tint\n",
      "  num_cells           \tint\n",
      "  body_names          \tStringField\n",
      "  body_cell_topology  \tPropertyField\n",
      "  num_faces           \tint\n",
      "  body_face_topology  \tPropertyField\n",
      "  body_scoping        \tScoping\n",
      "  cell_zone_names     \tStringField\n",
      "  cell_zone_elements  \tPropertyField\n",
      "  face_zone_names     \tStringField\n",
      "  cell_zone_scoping   \tScoping\n",
      "  face_zone_elements  \tPropertyField\n",
      "  face_zone_scoping   \tScoping\n",
      "  zone_names          \tStringField\n",
      "  num_elem_zone       \tPropertyField\n",
      "  zone_scoping        \tScoping\n",
      "  splittable_by       \tStringField"
     ]
    },
    {
     "name": "stdout",
     "output_type": "stream",
     "text": [
      "\n"
     ]
    }
   ],
   "source": [
    "# Get the mesh metadata information\n",
    "mesh_info_4 = model_4.metadata.mesh_info\n",
    "\n",
    "# Print the mesh metadata information\n",
    "print(mesh_info_4)"
   ]
  },
  {
   "cell_type": "code",
   "execution_count": 10,
   "id": "73a76071",
   "metadata": {
    "execution": {
     "iopub.execute_input": "2025-07-21T09:45:26.801650Z",
     "iopub.status.busy": "2025-07-21T09:45:26.798627Z",
     "iopub.status.idle": "2025-07-21T09:45:26.806407Z",
     "shell.execute_reply": "2025-07-21T09:45:26.806407Z"
    }
   },
   "outputs": [
    {
     "name": "stdout",
     "output_type": "stream",
     "text": [
      "DPF String Field\n",
      "  2 part entities \n",
      "  Data:2 elementary data \n",
      "\n",
      "  part\n",
      "  IDs                   data\n",
      "  ------------          ----------\n",
      "  1                                                                                             \n",
      "                        \n",
      "  2                     ball                                                                    \n",
      "                        \n",
      "\n",
      "\n"
     ]
    }
   ],
   "source": [
    "# Get the part names\n",
    "cell_zones_2 = mesh_info_2.get_property(\"part_names\")\n",
    "\n",
    "# Print the part names\n",
    "print(cell_zones_2)"
   ]
  },
  {
   "cell_type": "code",
   "execution_count": 11,
   "id": "9793cc2c",
   "metadata": {
    "execution": {
     "iopub.execute_input": "2025-07-21T09:45:26.808480Z",
     "iopub.status.busy": "2025-07-21T09:45:26.808480Z",
     "iopub.status.idle": "2025-07-21T09:45:26.813045Z",
     "shell.execute_reply": "2025-07-21T09:45:26.813045Z"
    }
   },
   "outputs": [
    {
     "name": "stdout",
     "output_type": "stream",
     "text": [
      "DPF String Field\n",
      "  2 zone entities \n",
      "  Data:2 elementary data \n",
      "\n",
      "  zone\n",
      "  IDs                   data\n",
      "  ------------          ----------\n",
      "  13                    fluid-rotor    \n",
      "                        \n",
      "  28                    fluid-stator   \n",
      "                        \n",
      "\n",
      "\n"
     ]
    }
   ],
   "source": [
    "# Get the cell zone names\n",
    "cell_zones_3 = mesh_info_3.get_property(\"cell_zone_names\")\n",
    "\n",
    "# Print the cell zone names\n",
    "print(cell_zones_3)"
   ]
  },
  {
   "cell_type": "code",
   "execution_count": 12,
   "id": "975a66fe",
   "metadata": {
    "execution": {
     "iopub.execute_input": "2025-07-21T09:45:26.813045Z",
     "iopub.status.busy": "2025-07-21T09:45:26.813045Z",
     "iopub.status.idle": "2025-07-21T09:45:26.819176Z",
     "shell.execute_reply": "2025-07-21T09:45:26.819176Z"
    }
   },
   "outputs": [
    {
     "name": "stdout",
     "output_type": "stream",
     "text": [
      "DPF String Field\n",
      "  3 zone entities \n",
      "  Data:3 elementary data \n",
      "\n",
      "  zone\n",
      "  IDs                   data\n",
      "  ------------          ----------\n",
      "  2                     ZN1/ES1        \n",
      "                        \n",
      "  3                     ZN1/ES2        \n",
      "                        \n",
      "  4                     ZN1/ES3        \n",
      "                        \n",
      "\n",
      "\n"
     ]
    }
   ],
   "source": [
    "# Get the cell zone names\n",
    "cell_zones_4 = mesh_info_4.get_property(\"cell_zone_names\")\n",
    "\n",
    "# Print the cell zone names\n",
    "print(cell_zones_4)"
   ]
  }
 ],
 "metadata": {
  "kernelspec": {
   "display_name": "Python 3 (ipykernel)",
   "language": "python",
   "name": "python3"
  },
  "language_info": {
   "codemirror_mode": {
    "name": "ipython",
    "version": 3
   },
   "file_extension": ".py",
   "mimetype": "text/x-python",
   "name": "python",
   "nbconvert_exporter": "python",
   "pygments_lexer": "ipython3",
   "version": "3.11.9"
  }
 },
 "nbformat": 4,
 "nbformat_minor": 5
}