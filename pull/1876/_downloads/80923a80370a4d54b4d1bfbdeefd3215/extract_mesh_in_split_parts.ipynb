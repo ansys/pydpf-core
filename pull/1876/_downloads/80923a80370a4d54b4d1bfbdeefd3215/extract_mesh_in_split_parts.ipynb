{
 "cells": [
  {
   "cell_type": "code",
   "execution_count": 1,
   "id": "d670a76f",
   "metadata": {
    "execution": {
     "iopub.execute_input": "2025-07-29T14:02:36.150942Z",
     "iopub.status.busy": "2025-07-29T14:02:36.150942Z",
     "iopub.status.idle": "2025-07-29T14:02:37.674477Z",
     "shell.execute_reply": "2025-07-29T14:02:37.674477Z"
    }
   },
   "outputs": [],
   "source": [
    "# Import the ``ansys.dpf.core`` module\n",
    "from ansys.dpf import core as dpf\n",
    "# Import the examples module\n",
    "from ansys.dpf.core import examples\n",
    "# Import the operators module\n",
    "from ansys.dpf.core import operators as ops\n",
    "\n",
    "# Define the result file path\n",
    "result_file_path_3 = examples.download_fluent_axial_comp()[\"flprj\"]\n",
    "# Create the DataSources object\n",
    "ds_3 = dpf.DataSources(result_path=result_file_path_3)"
   ]
  },
  {
   "cell_type": "code",
   "execution_count": 2,
   "id": "5ed99583",
   "metadata": {
    "execution": {
     "iopub.execute_input": "2025-07-29T14:02:37.678031Z",
     "iopub.status.busy": "2025-07-29T14:02:37.674477Z",
     "iopub.status.idle": "2025-07-29T14:02:37.681707Z",
     "shell.execute_reply": "2025-07-29T14:02:37.681707Z"
    }
   },
   "outputs": [],
   "source": [
    "# Import the ``ansys.dpf.core`` module\n",
    "from ansys.dpf import core as dpf\n",
    "# Import the examples module\n",
    "from ansys.dpf.core import examples\n",
    "# Import the operators module\n",
    "from ansys.dpf.core import operators as ops\n",
    "\n",
    "# Define the result file path\n",
    "result_file_path_4 = examples.download_cfx_mixing_elbow()\n",
    "# Create the DataSources object\n",
    "ds_4 = dpf.DataSources(result_path=result_file_path_4)"
   ]
  },
  {
   "cell_type": "code",
   "execution_count": 3,
   "id": "9ad08063",
   "metadata": {
    "execution": {
     "iopub.execute_input": "2025-07-29T14:02:37.684254Z",
     "iopub.status.busy": "2025-07-29T14:02:37.684254Z",
     "iopub.status.idle": "2025-07-29T14:02:43.657883Z",
     "shell.execute_reply": "2025-07-29T14:02:43.657883Z"
    }
   },
   "outputs": [
    {
     "name": "stdout",
     "output_type": "stream",
     "text": [
      "DPF  Meshes Container\n",
      "  with 24 mesh(es)\n",
      "  defined on labels: time zone \n",
      "\n",
      "  with:\n",
      "  - mesh 0 {time:  1, zone:  3, } with 429 nodes and 0 elements.\n",
      "  - mesh 1 {time:  1, zone:  4, } with 429 nodes and 0 elements.\n",
      "  - mesh 2 {time:  1, zone:  5, } with 187 nodes and 0 elements.\n",
      "  - mesh 3 {time:  1, zone:  6, } with 187 nodes and 0 elements.\n",
      "  - mesh 4 {time:  1, zone:  7, } with 425 nodes and 0 elements.\n",
      "  - mesh 5 {time:  1, zone:  8, } with 425 nodes and 0 elements.\n",
      "  - mesh 6 {time:  1, zone:  9, } with 204 nodes and 0 elements.\n",
      "  - mesh 7 {time:  1, zone:  10, } with 204 nodes and 0 elements.\n",
      "  - mesh 8 {time:  1, zone:  11, } with 68 nodes and 0 elements.\n",
      "  - mesh 9 {time:  1, zone:  12, } with 68 nodes and 0 elements.\n",
      "  - mesh 10 {time:  1, zone:  13, } with 7293 nodes and 6080 elements.\n",
      "  - mesh 11 {time:  1, zone:  16, } with 551 nodes and 0 elements.\n",
      "  - mesh 12 {time:  1, zone:  17, } with 551 nodes and 0 elements.\n",
      "  - mesh 13 {time:  1, zone:  18, } with 323 nodes and 0 elements.\n",
      "  - mesh 14 {time:  1, zone:  19, } with 323 nodes and 0 elements.\n",
      "  - mesh 15 {time:  1, zone:  20, } with 357 nodes and 0 elements.\n",
      "  - mesh 16 {time:  1, zone:  21, } with 357 nodes and 0 elements.\n",
      "  - mesh 17 {time:  1, zone:  22, } with 357 nodes and 0 elements.\n",
      "  - mesh 18 {time:  1, zone:  23, } with 357 nodes and 0 elements.\n",
      "  - mesh 19 {time:  1, zone:  24, } with 68 nodes and 0 elements.\n",
      "  - mesh 20 {time:  1, zone:  25, } with 68 nodes and 0 elements.\n",
      "  - mesh 21 {time:  1, zone:  26, } with 85 nodes and 0 elements.\n",
      "  - mesh 22 {time:  1, zone:  27, } with 85 nodes and 0 elements.\n",
      "  - mesh 23 {time:  1, zone:  28, } with 9367 nodes and 7776 elements.\n",
      "\n"
     ]
    }
   ],
   "source": [
    "# Instanciate the meshes_provider operator\n",
    "meshes_31 =  ops.mesh.meshes_provider(data_sources=ds_3).eval()\n",
    "\n",
    "# Print the meshes\n",
    "print(meshes_31)"
   ]
  },
  {
   "cell_type": "code",
   "execution_count": 4,
   "id": "fa46bdfc",
   "metadata": {
    "execution": {
     "iopub.execute_input": "2025-07-29T14:02:43.661432Z",
     "iopub.status.busy": "2025-07-29T14:02:43.657883Z",
     "iopub.status.idle": "2025-07-29T14:02:46.902691Z",
     "shell.execute_reply": "2025-07-29T14:02:46.902691Z"
    }
   },
   "outputs": [
    {
     "name": "stdout",
     "output_type": "stream",
     "text": [
      "DPF  Meshes Container\n",
      "  with 5 mesh(es)\n",
      "  defined on labels: time zone \n",
      "\n",
      "  with:\n",
      "  - mesh 0 {time:  1, zone:  5, } with 921 nodes and 0 elements.\n",
      "  - mesh 1 {time:  1, zone:  6, } with 102 nodes and 0 elements.\n",
      "  - mesh 2 {time:  1, zone:  7, } with 48 nodes and 0 elements.\n",
      "  - mesh 3 {time:  1, zone:  8, } with 102 nodes and 0 elements.\n",
      "  - mesh 4 {time:  1, zone:  1, } with 6219 nodes and 15695 elements.\n",
      "\n"
     ]
    }
   ],
   "source": [
    "# Instanciate the meshes_provider operator\n",
    "meshes_41 =  ops.mesh.meshes_provider(data_sources=ds_4).eval()\n",
    "\n",
    "# Print the meshes\n",
    "print(meshes_41)"
   ]
  },
  {
   "cell_type": "code",
   "execution_count": 5,
   "id": "d1916caf",
   "metadata": {
    "execution": {
     "iopub.execute_input": "2025-07-29T14:02:46.905246Z",
     "iopub.status.busy": "2025-07-29T14:02:46.905246Z",
     "iopub.status.idle": "2025-07-29T14:02:49.464310Z",
     "shell.execute_reply": "2025-07-29T14:02:49.464310Z"
    }
   },
   "outputs": [
    {
     "name": "stdout",
     "output_type": "stream",
     "text": [
      "DPF  Meshes Container\n",
      "  with 2 mesh(es)\n",
      "  defined on labels: time zone \n",
      "\n",
      "  with:\n",
      "  - mesh 0 {time:  1, zone:  3, } with 429 nodes and 0 elements.\n",
      "  - mesh 1 {time:  1, zone:  12, } with 68 nodes and 0 elements.\n",
      "\n"
     ]
    }
   ],
   "source": [
    "# Instanciate the meshes_provider operator and specify a region\n",
    "meshes_32 =  ops.mesh.meshes_provider(data_sources=ds_3, region_scoping=[3,12]).eval()\n",
    "\n",
    "# Print the meshes\n",
    "print(meshes_32)"
   ]
  },
  {
   "cell_type": "code",
   "execution_count": 6,
   "id": "6ae8f8fb",
   "metadata": {
    "execution": {
     "iopub.execute_input": "2025-07-29T14:02:49.464310Z",
     "iopub.status.busy": "2025-07-29T14:02:49.464310Z",
     "iopub.status.idle": "2025-07-29T14:02:49.525371Z",
     "shell.execute_reply": "2025-07-29T14:02:49.525371Z"
    }
   },
   "outputs": [
    {
     "name": "stdout",
     "output_type": "stream",
     "text": [
      "DPF  Meshes Container\n",
      "  with 2 mesh(es)\n",
      "  defined on labels: time zone \n",
      "\n",
      "  with:\n",
      "  - mesh 0 {time:  1, zone:  5, } with 921 nodes and 0 elements.\n",
      "  - mesh 1 {time:  1, zone:  8, } with 102 nodes and 0 elements.\n",
      "\n"
     ]
    }
   ],
   "source": [
    "# Instanciate the meshes_provider operator specifying a region\n",
    "meshes_42 =  ops.mesh.meshes_provider(data_sources=ds_4, region_scoping=[5,8]).eval()\n",
    "\n",
    "# Print the meshes\n",
    "print(meshes_42)"
   ]
  }
 ],
 "metadata": {
  "kernelspec": {
   "display_name": "Python 3 (ipykernel)",
   "language": "python",
   "name": "python3"
  },
  "language_info": {
   "codemirror_mode": {
    "name": "ipython",
    "version": 3
   },
   "file_extension": ".py",
   "mimetype": "text/x-python",
   "name": "python",
   "nbconvert_exporter": "python",
   "pygments_lexer": "ipython3",
   "version": "3.11.9"
  }
 },
 "nbformat": 4,
 "nbformat_minor": 5
}