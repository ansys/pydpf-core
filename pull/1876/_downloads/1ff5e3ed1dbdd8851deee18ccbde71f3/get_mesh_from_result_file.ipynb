{
 "cells": [
  {
   "cell_type": "code",
   "execution_count": 1,
   "id": "0e85e115",
   "metadata": {
    "execution": {
     "iopub.execute_input": "2025-07-29T14:02:51.665064Z",
     "iopub.status.busy": "2025-07-29T14:02:51.665064Z",
     "iopub.status.idle": "2025-07-29T14:02:53.181752Z",
     "shell.execute_reply": "2025-07-29T14:02:53.181752Z"
    }
   },
   "outputs": [],
   "source": [
    "# Import the ``ansys.dpf.core`` module\n",
    "from ansys.dpf import core as dpf\n",
    "# Import the examples module\n",
    "from ansys.dpf.core import examples\n",
    "# Import the operators module\n",
    "from ansys.dpf.core import operators as ops\n",
    "\n",
    "# Define the result file path\n",
    "result_file_path_1 = examples.find_static_rst()\n",
    "# Create the DataSources object\n",
    "ds_1 = dpf.DataSources(result_path=result_file_path_1)"
   ]
  },
  {
   "cell_type": "code",
   "execution_count": 2,
   "id": "79b977cd",
   "metadata": {
    "execution": {
     "iopub.execute_input": "2025-07-29T14:02:53.183855Z",
     "iopub.status.busy": "2025-07-29T14:02:53.183855Z",
     "iopub.status.idle": "2025-07-29T14:02:53.189828Z",
     "shell.execute_reply": "2025-07-29T14:02:53.189828Z"
    }
   },
   "outputs": [],
   "source": [
    "# Import the ``ansys.dpf.core`` module\n",
    "from ansys.dpf import core as dpf\n",
    "# Import the examples module\n",
    "from ansys.dpf.core import examples\n",
    "# Import the operators module\n",
    "from ansys.dpf.core import operators as ops\n",
    "\n",
    "# Define the result file path\n",
    "result_file_path_2 = examples.download_d3plot_beam()\n",
    "# Create the DataSources object\n",
    "ds_2 = dpf.DataSources()\n",
    "ds_2.set_result_file_path(filepath=result_file_path_2[0], key=\"d3plot\")\n",
    "ds_2.add_file_path(filepath=result_file_path_2[3], key=\"actunits\")"
   ]
  },
  {
   "cell_type": "code",
   "execution_count": 3,
   "id": "ad5c66e6",
   "metadata": {
    "execution": {
     "iopub.execute_input": "2025-07-29T14:02:53.189828Z",
     "iopub.status.busy": "2025-07-29T14:02:53.189828Z",
     "iopub.status.idle": "2025-07-29T14:02:53.196461Z",
     "shell.execute_reply": "2025-07-29T14:02:53.196461Z"
    }
   },
   "outputs": [],
   "source": [
    "# Import the ``ansys.dpf.core`` module\n",
    "from ansys.dpf import core as dpf\n",
    "# Import the examples module\n",
    "from ansys.dpf.core import examples\n",
    "# Import the operators module\n",
    "from ansys.dpf.core import operators as ops\n",
    "\n",
    "# Define the result file path\n",
    "result_file_path_3 = examples.download_fluent_axial_comp()[\"flprj\"]\n",
    "# Create the DataSources object\n",
    "ds_3 = dpf.DataSources(result_path=result_file_path_3)"
   ]
  },
  {
   "cell_type": "code",
   "execution_count": 4,
   "id": "d8caced5",
   "metadata": {
    "execution": {
     "iopub.execute_input": "2025-07-29T14:02:53.198518Z",
     "iopub.status.busy": "2025-07-29T14:02:53.198518Z",
     "iopub.status.idle": "2025-07-29T14:02:53.202783Z",
     "shell.execute_reply": "2025-07-29T14:02:53.202783Z"
    }
   },
   "outputs": [],
   "source": [
    "# Import the ``ansys.dpf.core`` module\n",
    "from ansys.dpf import core as dpf\n",
    "# Import the examples module\n",
    "from ansys.dpf.core import examples\n",
    "# Import the operators module\n",
    "from ansys.dpf.core import operators as ops\n",
    "# Define the result file path\n",
    "result_file_path_4 = examples.download_cfx_mixing_elbow()\n",
    "# Create the DataSources object\n",
    "ds_4 = dpf.DataSources(result_path=result_file_path_4)"
   ]
  },
  {
   "cell_type": "code",
   "execution_count": 5,
   "id": "203eb27a",
   "metadata": {
    "execution": {
     "iopub.execute_input": "2025-07-29T14:02:53.203855Z",
     "iopub.status.busy": "2025-07-29T14:02:53.203855Z",
     "iopub.status.idle": "2025-07-29T14:02:53.213010Z",
     "shell.execute_reply": "2025-07-29T14:02:53.213010Z"
    }
   },
   "outputs": [],
   "source": [
    "# Create the Model\n",
    "model_1 = dpf.Model(data_sources=ds_1)\n",
    "# Get the mesh\n",
    "meshed_region_11 = model_1.metadata.meshed_region"
   ]
  },
  {
   "cell_type": "code",
   "execution_count": 6,
   "id": "cf9d55b3",
   "metadata": {
    "execution": {
     "iopub.execute_input": "2025-07-29T14:02:53.215590Z",
     "iopub.status.busy": "2025-07-29T14:02:53.215590Z",
     "iopub.status.idle": "2025-07-29T14:02:53.224201Z",
     "shell.execute_reply": "2025-07-29T14:02:53.224201Z"
    }
   },
   "outputs": [],
   "source": [
    "# Create the Model\n",
    "model_2 = dpf.Model(data_sources=ds_2)\n",
    "# Get the mesh\n",
    "meshed_region_21 = model_2.metadata.meshed_region"
   ]
  },
  {
   "cell_type": "code",
   "execution_count": 7,
   "id": "9861593b",
   "metadata": {
    "execution": {
     "iopub.execute_input": "2025-07-29T14:02:53.224201Z",
     "iopub.status.busy": "2025-07-29T14:02:53.224201Z",
     "iopub.status.idle": "2025-07-29T14:02:58.922575Z",
     "shell.execute_reply": "2025-07-29T14:02:58.922575Z"
    }
   },
   "outputs": [],
   "source": [
    "# Create the Model\n",
    "model_3 = dpf.Model(data_sources=ds_3)\n",
    "# Get the mesh\n",
    "meshed_region_31 = model_3.metadata.meshed_region"
   ]
  },
  {
   "cell_type": "code",
   "execution_count": 8,
   "id": "3c47833f",
   "metadata": {
    "execution": {
     "iopub.execute_input": "2025-07-29T14:02:58.925693Z",
     "iopub.status.busy": "2025-07-29T14:02:58.925693Z",
     "iopub.status.idle": "2025-07-29T14:03:02.477845Z",
     "shell.execute_reply": "2025-07-29T14:03:02.477845Z"
    }
   },
   "outputs": [],
   "source": [
    "# Create the Model\n",
    "model_4 = dpf.Model(data_sources=ds_4)\n",
    "# Get the mesh\n",
    "meshed_region_41 = model_4.metadata.meshed_region"
   ]
  },
  {
   "cell_type": "code",
   "execution_count": 9,
   "id": "2d920f00",
   "metadata": {
    "execution": {
     "iopub.execute_input": "2025-07-29T14:03:02.480864Z",
     "iopub.status.busy": "2025-07-29T14:03:02.480864Z",
     "iopub.status.idle": "2025-07-29T14:03:02.484779Z",
     "shell.execute_reply": "2025-07-29T14:03:02.484779Z"
    }
   },
   "outputs": [
    {
     "name": "stdout",
     "output_type": "stream",
     "text": [
      "DPF  Meshed Region: \n",
      "  81 nodes \n",
      "  8 elements \n",
      "  Unit: m \n",
      "  With solid (3D) elements\n"
     ]
    }
   ],
   "source": [
    "# Print the MeshedRegion\n",
    "print(meshed_region_11)"
   ]
  },
  {
   "cell_type": "code",
   "execution_count": 10,
   "id": "170a9c72",
   "metadata": {
    "execution": {
     "iopub.execute_input": "2025-07-29T14:03:02.486873Z",
     "iopub.status.busy": "2025-07-29T14:03:02.486873Z",
     "iopub.status.idle": "2025-07-29T14:03:02.491178Z",
     "shell.execute_reply": "2025-07-29T14:03:02.491178Z"
    }
   },
   "outputs": [
    {
     "name": "stdout",
     "output_type": "stream",
     "text": [
      "DPF  Meshed Region: \n",
      "  1940 nodes \n",
      "  2056 elements \n",
      "  Unit: mm \n",
      "  With solid (3D) elements, beam (1D) elements\n"
     ]
    }
   ],
   "source": [
    "# Print the MeshedRegion\n",
    "print(meshed_region_21)"
   ]
  },
  {
   "cell_type": "code",
   "execution_count": 11,
   "id": "a843d063",
   "metadata": {
    "execution": {
     "iopub.execute_input": "2025-07-29T14:03:02.491178Z",
     "iopub.status.busy": "2025-07-29T14:03:02.491178Z",
     "iopub.status.idle": "2025-07-29T14:03:02.497850Z",
     "shell.execute_reply": "2025-07-29T14:03:02.497850Z"
    }
   },
   "outputs": [
    {
     "name": "stdout",
     "output_type": "stream",
     "text": [
      "DPF  Meshed Region: \n",
      "  16660 nodes \n",
      "  13856 elements \n",
      "  44242 faces \n",
      "  Unit: m \n",
      "  With solid (3D) elements\n"
     ]
    }
   ],
   "source": [
    "# Print the MeshedRegion\n",
    "print(meshed_region_31)"
   ]
  },
  {
   "cell_type": "code",
   "execution_count": 12,
   "id": "d0a03587",
   "metadata": {
    "execution": {
     "iopub.execute_input": "2025-07-29T14:03:02.497850Z",
     "iopub.status.busy": "2025-07-29T14:03:02.497850Z",
     "iopub.status.idle": "2025-07-29T14:03:02.504292Z",
     "shell.execute_reply": "2025-07-29T14:03:02.504292Z"
    }
   },
   "outputs": [
    {
     "name": "stdout",
     "output_type": "stream",
     "text": [
      "DPF  Meshed Region: \n",
      "  6219 nodes \n",
      "  15695 elements \n",
      "  Unit: m \n",
      "  With solid (3D) elements\n"
     ]
    }
   ],
   "source": [
    "# Print the MeshedRegion\n",
    "print(meshed_region_41)"
   ]
  },
  {
   "cell_type": "code",
   "execution_count": 13,
   "id": "67963ef5",
   "metadata": {
    "execution": {
     "iopub.execute_input": "2025-07-29T14:03:02.507391Z",
     "iopub.status.busy": "2025-07-29T14:03:02.506837Z",
     "iopub.status.idle": "2025-07-29T14:03:02.512984Z",
     "shell.execute_reply": "2025-07-29T14:03:02.512984Z"
    }
   },
   "outputs": [],
   "source": [
    "# Get the mesh with the mesh_provider operator\n",
    "meshed_region_12 = ops.mesh.mesh_provider(data_sources=ds_1).eval()"
   ]
  },
  {
   "cell_type": "code",
   "execution_count": 14,
   "id": "c996a574",
   "metadata": {
    "execution": {
     "iopub.execute_input": "2025-07-29T14:03:02.512984Z",
     "iopub.status.busy": "2025-07-29T14:03:02.512984Z",
     "iopub.status.idle": "2025-07-29T14:03:02.524970Z",
     "shell.execute_reply": "2025-07-29T14:03:02.524970Z"
    }
   },
   "outputs": [],
   "source": [
    "# Get the mesh with the mesh_provider operator\n",
    "meshed_region_22 = ops.mesh.mesh_provider(data_sources=ds_2).eval()"
   ]
  },
  {
   "cell_type": "code",
   "execution_count": 15,
   "id": "5b8e772c",
   "metadata": {
    "execution": {
     "iopub.execute_input": "2025-07-29T14:03:02.528085Z",
     "iopub.status.busy": "2025-07-29T14:03:02.527528Z",
     "iopub.status.idle": "2025-07-29T14:03:05.176116Z",
     "shell.execute_reply": "2025-07-29T14:03:05.176116Z"
    }
   },
   "outputs": [],
   "source": [
    "# Get the mesh with the mesh_provider operator\n",
    "meshed_region_32 = ops.mesh.mesh_provider(data_sources=ds_3).eval()"
   ]
  },
  {
   "cell_type": "code",
   "execution_count": 16,
   "id": "b0e88ff1",
   "metadata": {
    "execution": {
     "iopub.execute_input": "2025-07-29T14:03:05.177640Z",
     "iopub.status.busy": "2025-07-29T14:03:05.177640Z",
     "iopub.status.idle": "2025-07-29T14:03:05.237095Z",
     "shell.execute_reply": "2025-07-29T14:03:05.237095Z"
    }
   },
   "outputs": [],
   "source": [
    "# Get the mesh with the mesh_provider operator\n",
    "meshed_region_42 = ops.mesh.mesh_provider(data_sources=ds_4).eval()"
   ]
  },
  {
   "cell_type": "code",
   "execution_count": 17,
   "id": "d8ca6622",
   "metadata": {
    "execution": {
     "iopub.execute_input": "2025-07-29T14:03:05.239614Z",
     "iopub.status.busy": "2025-07-29T14:03:05.239614Z",
     "iopub.status.idle": "2025-07-29T14:03:05.244229Z",
     "shell.execute_reply": "2025-07-29T14:03:05.244229Z"
    }
   },
   "outputs": [
    {
     "name": "stdout",
     "output_type": "stream",
     "text": [
      "DPF  Meshed Region: \n",
      "  81 nodes \n",
      "  8 elements \n",
      "  Unit: m \n",
      "  With solid (3D) elements\n"
     ]
    }
   ],
   "source": [
    "# Print the MeshedRegion\n",
    "print(meshed_region_12)"
   ]
  },
  {
   "cell_type": "code",
   "execution_count": 18,
   "id": "46587356",
   "metadata": {
    "execution": {
     "iopub.execute_input": "2025-07-29T14:03:05.244229Z",
     "iopub.status.busy": "2025-07-29T14:03:05.244229Z",
     "iopub.status.idle": "2025-07-29T14:03:05.250257Z",
     "shell.execute_reply": "2025-07-29T14:03:05.250257Z"
    }
   },
   "outputs": [
    {
     "name": "stdout",
     "output_type": "stream",
     "text": [
      "DPF  Meshed Region: \n",
      "  1940 nodes \n",
      "  2056 elements \n",
      "  Unit: mm \n",
      "  With solid (3D) elements, beam (1D) elements\n"
     ]
    }
   ],
   "source": [
    "# Print the MeshedRegion\n",
    "print(meshed_region_22)"
   ]
  },
  {
   "cell_type": "code",
   "execution_count": 19,
   "id": "df644d26",
   "metadata": {
    "execution": {
     "iopub.execute_input": "2025-07-29T14:03:05.250257Z",
     "iopub.status.busy": "2025-07-29T14:03:05.250257Z",
     "iopub.status.idle": "2025-07-29T14:03:05.256766Z",
     "shell.execute_reply": "2025-07-29T14:03:05.256766Z"
    }
   },
   "outputs": [
    {
     "name": "stdout",
     "output_type": "stream",
     "text": [
      "DPF  Meshed Region: \n",
      "  16660 nodes \n",
      "  13856 elements \n",
      "  44242 faces \n",
      "  Unit: m \n",
      "  With solid (3D) elements\n"
     ]
    }
   ],
   "source": [
    "# Print the MeshedRegion\n",
    "print(meshed_region_32)"
   ]
  },
  {
   "cell_type": "code",
   "execution_count": 20,
   "id": "91b98007",
   "metadata": {
    "execution": {
     "iopub.execute_input": "2025-07-29T14:03:05.258971Z",
     "iopub.status.busy": "2025-07-29T14:03:05.258971Z",
     "iopub.status.idle": "2025-07-29T14:03:05.264566Z",
     "shell.execute_reply": "2025-07-29T14:03:05.264024Z"
    }
   },
   "outputs": [
    {
     "name": "stdout",
     "output_type": "stream",
     "text": [
      "DPF  Meshed Region: \n",
      "  6219 nodes \n",
      "  15695 elements \n",
      "  Unit: m \n",
      "  With solid (3D) elements\n"
     ]
    }
   ],
   "source": [
    "# Print the MeshedRegion\n",
    "print(meshed_region_42)"
   ]
  }
 ],
 "metadata": {
  "kernelspec": {
   "display_name": "Python 3 (ipykernel)",
   "language": "python",
   "name": "python3"
  },
  "language_info": {
   "codemirror_mode": {
    "name": "ipython",
    "version": 3
   },
   "file_extension": ".py",
   "mimetype": "text/x-python",
   "name": "python",
   "nbconvert_exporter": "python",
   "pygments_lexer": "ipython3",
   "version": "3.11.9"
  }
 },
 "nbformat": 4,
 "nbformat_minor": 5
}