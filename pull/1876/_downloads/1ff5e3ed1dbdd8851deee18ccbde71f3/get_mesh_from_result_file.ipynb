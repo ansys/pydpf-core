{
 "cells": [
  {
   "cell_type": "code",
   "execution_count": 1,
   "id": "708f5921",
   "metadata": {
    "execution": {
     "iopub.execute_input": "2025-07-21T09:45:46.011401Z",
     "iopub.status.busy": "2025-07-21T09:45:46.011401Z",
     "iopub.status.idle": "2025-07-21T09:45:47.598448Z",
     "shell.execute_reply": "2025-07-21T09:45:47.598448Z"
    }
   },
   "outputs": [],
   "source": [
    "# Import the ``ansys.dpf.core`` module\n",
    "from ansys.dpf import core as dpf\n",
    "# Import the examples module\n",
    "from ansys.dpf.core import examples\n",
    "# Import the operators module\n",
    "from ansys.dpf.core import operators as ops\n",
    "\n",
    "# Define the result file path\n",
    "result_file_path_1 = examples.find_static_rst()\n",
    "# Create the DataSources object\n",
    "ds_1 = dpf.DataSources(result_path=result_file_path_1)"
   ]
  },
  {
   "cell_type": "code",
   "execution_count": 2,
   "id": "5a3fccbf",
   "metadata": {
    "execution": {
     "iopub.execute_input": "2025-07-21T09:45:47.600499Z",
     "iopub.status.busy": "2025-07-21T09:45:47.600499Z",
     "iopub.status.idle": "2025-07-21T09:45:47.607249Z",
     "shell.execute_reply": "2025-07-21T09:45:47.607249Z"
    }
   },
   "outputs": [],
   "source": [
    "# Import the ``ansys.dpf.core`` module\n",
    "from ansys.dpf import core as dpf\n",
    "# Import the examples module\n",
    "from ansys.dpf.core import examples\n",
    "# Import the operators module\n",
    "from ansys.dpf.core import operators as ops\n",
    "\n",
    "# Define the result file path\n",
    "result_file_path_2 = examples.download_d3plot_beam()\n",
    "# Create the DataSources object\n",
    "ds_2 = dpf.DataSources()\n",
    "ds_2.set_result_file_path(filepath=result_file_path_2[0], key=\"d3plot\")\n",
    "ds_2.add_file_path(filepath=result_file_path_2[3], key=\"actunits\")"
   ]
  },
  {
   "cell_type": "code",
   "execution_count": 3,
   "id": "ee9cdaff",
   "metadata": {
    "execution": {
     "iopub.execute_input": "2025-07-21T09:45:47.610799Z",
     "iopub.status.busy": "2025-07-21T09:45:47.607249Z",
     "iopub.status.idle": "2025-07-21T09:45:47.615402Z",
     "shell.execute_reply": "2025-07-21T09:45:47.615402Z"
    }
   },
   "outputs": [],
   "source": [
    "# Import the ``ansys.dpf.core`` module\n",
    "from ansys.dpf import core as dpf\n",
    "# Import the examples module\n",
    "from ansys.dpf.core import examples\n",
    "# Import the operators module\n",
    "from ansys.dpf.core import operators as ops\n",
    "\n",
    "# Define the result file path\n",
    "result_file_path_3 = examples.download_fluent_axial_comp()[\"flprj\"]\n",
    "# Create the DataSources object\n",
    "ds_3 = dpf.DataSources(result_path=result_file_path_3)"
   ]
  },
  {
   "cell_type": "code",
   "execution_count": 4,
   "id": "3c6149a2",
   "metadata": {
    "execution": {
     "iopub.execute_input": "2025-07-21T09:45:47.615402Z",
     "iopub.status.busy": "2025-07-21T09:45:47.615402Z",
     "iopub.status.idle": "2025-07-21T09:45:47.622387Z",
     "shell.execute_reply": "2025-07-21T09:45:47.622387Z"
    }
   },
   "outputs": [],
   "source": [
    "# Import the ``ansys.dpf.core`` module\n",
    "from ansys.dpf import core as dpf\n",
    "# Import the examples module\n",
    "from ansys.dpf.core import examples\n",
    "# Import the operators module\n",
    "from ansys.dpf.core import operators as ops\n",
    "# Define the result file path\n",
    "result_file_path_4 = examples.download_cfx_mixing_elbow()\n",
    "# Create the DataSources object\n",
    "ds_4 = dpf.DataSources(result_path=result_file_path_4)"
   ]
  },
  {
   "cell_type": "code",
   "execution_count": 5,
   "id": "84d5d8ef",
   "metadata": {
    "execution": {
     "iopub.execute_input": "2025-07-21T09:45:47.624946Z",
     "iopub.status.busy": "2025-07-21T09:45:47.624946Z",
     "iopub.status.idle": "2025-07-21T09:45:47.633438Z",
     "shell.execute_reply": "2025-07-21T09:45:47.633438Z"
    }
   },
   "outputs": [],
   "source": [
    "# Create the Model\n",
    "model_1 = dpf.Model(data_sources=ds_1)\n",
    "# Get the mesh\n",
    "meshed_region_11 = model_1.metadata.meshed_region"
   ]
  },
  {
   "cell_type": "code",
   "execution_count": 6,
   "id": "f93e462f",
   "metadata": {
    "execution": {
     "iopub.execute_input": "2025-07-21T09:45:47.635510Z",
     "iopub.status.busy": "2025-07-21T09:45:47.635510Z",
     "iopub.status.idle": "2025-07-21T09:45:47.646679Z",
     "shell.execute_reply": "2025-07-21T09:45:47.646679Z"
    }
   },
   "outputs": [],
   "source": [
    "# Create the Model\n",
    "model_2 = dpf.Model(data_sources=ds_2)\n",
    "# Get the mesh\n",
    "meshed_region_21 = model_2.metadata.meshed_region"
   ]
  },
  {
   "cell_type": "code",
   "execution_count": 7,
   "id": "1d3998ed",
   "metadata": {
    "execution": {
     "iopub.execute_input": "2025-07-21T09:45:47.646679Z",
     "iopub.status.busy": "2025-07-21T09:45:47.646679Z",
     "iopub.status.idle": "2025-07-21T09:45:53.070840Z",
     "shell.execute_reply": "2025-07-21T09:45:53.070840Z"
    }
   },
   "outputs": [],
   "source": [
    "# Create the Model\n",
    "model_3 = dpf.Model(data_sources=ds_3)\n",
    "# Get the mesh\n",
    "meshed_region_31 = model_3.metadata.meshed_region"
   ]
  },
  {
   "cell_type": "code",
   "execution_count": 8,
   "id": "11be1d12",
   "metadata": {
    "execution": {
     "iopub.execute_input": "2025-07-21T09:45:53.074978Z",
     "iopub.status.busy": "2025-07-21T09:45:53.073928Z",
     "iopub.status.idle": "2025-07-21T09:45:56.367047Z",
     "shell.execute_reply": "2025-07-21T09:45:56.367047Z"
    }
   },
   "outputs": [],
   "source": [
    "# Create the Model\n",
    "model_4 = dpf.Model(data_sources=ds_4)\n",
    "# Get the mesh\n",
    "meshed_region_41 = model_4.metadata.meshed_region"
   ]
  },
  {
   "cell_type": "code",
   "execution_count": 9,
   "id": "41659af1",
   "metadata": {
    "execution": {
     "iopub.execute_input": "2025-07-21T09:45:56.368165Z",
     "iopub.status.busy": "2025-07-21T09:45:56.368165Z",
     "iopub.status.idle": "2025-07-21T09:45:56.374585Z",
     "shell.execute_reply": "2025-07-21T09:45:56.374585Z"
    }
   },
   "outputs": [
    {
     "name": "stdout",
     "output_type": "stream",
     "text": [
      "DPF  Meshed Region: \n",
      "  81 nodes \n",
      "  8 elements \n",
      "  Unit: m \n",
      "  With solid (3D) elements\n"
     ]
    }
   ],
   "source": [
    "# Print the MeshedRegion\n",
    "print(meshed_region_11)"
   ]
  },
  {
   "cell_type": "code",
   "execution_count": 10,
   "id": "a004e477",
   "metadata": {
    "execution": {
     "iopub.execute_input": "2025-07-21T09:45:56.374585Z",
     "iopub.status.busy": "2025-07-21T09:45:56.374585Z",
     "iopub.status.idle": "2025-07-21T09:45:56.381227Z",
     "shell.execute_reply": "2025-07-21T09:45:56.381227Z"
    }
   },
   "outputs": [
    {
     "name": "stdout",
     "output_type": "stream",
     "text": [
      "DPF  Meshed Region: \n",
      "  1940 nodes \n",
      "  2056 elements \n",
      "  Unit: mm \n",
      "  With solid (3D) elements, beam (1D) elements\n"
     ]
    }
   ],
   "source": [
    "# Print the MeshedRegion\n",
    "print(meshed_region_21)"
   ]
  },
  {
   "cell_type": "code",
   "execution_count": 11,
   "id": "96c3a739",
   "metadata": {
    "execution": {
     "iopub.execute_input": "2025-07-21T09:45:56.382248Z",
     "iopub.status.busy": "2025-07-21T09:45:56.382248Z",
     "iopub.status.idle": "2025-07-21T09:45:56.388862Z",
     "shell.execute_reply": "2025-07-21T09:45:56.388774Z"
    }
   },
   "outputs": [
    {
     "name": "stdout",
     "output_type": "stream",
     "text": [
      "DPF  Meshed Region: \n",
      "  16660 nodes \n",
      "  13856 elements \n",
      "  44242 faces \n",
      "  Unit: m \n",
      "  With solid (3D) elements\n"
     ]
    }
   ],
   "source": [
    "# Print the MeshedRegion\n",
    "print(meshed_region_31)"
   ]
  },
  {
   "cell_type": "code",
   "execution_count": 12,
   "id": "56b5e456",
   "metadata": {
    "execution": {
     "iopub.execute_input": "2025-07-21T09:45:56.388862Z",
     "iopub.status.busy": "2025-07-21T09:45:56.388862Z",
     "iopub.status.idle": "2025-07-21T09:45:56.396047Z",
     "shell.execute_reply": "2025-07-21T09:45:56.396047Z"
    }
   },
   "outputs": [
    {
     "name": "stdout",
     "output_type": "stream",
     "text": [
      "DPF  Meshed Region: \n",
      "  6219 nodes \n",
      "  15695 elements \n",
      "  Unit: m \n",
      "  With solid (3D) elements\n"
     ]
    }
   ],
   "source": [
    "# Print the MeshedRegion\n",
    "print(meshed_region_41)"
   ]
  },
  {
   "cell_type": "code",
   "execution_count": 13,
   "id": "1dca4741",
   "metadata": {
    "execution": {
     "iopub.execute_input": "2025-07-21T09:45:56.399165Z",
     "iopub.status.busy": "2025-07-21T09:45:56.398075Z",
     "iopub.status.idle": "2025-07-21T09:45:56.405187Z",
     "shell.execute_reply": "2025-07-21T09:45:56.405187Z"
    }
   },
   "outputs": [],
   "source": [
    "# Get the mesh with the mesh_provider operator\n",
    "meshed_region_12 = ops.mesh.mesh_provider(data_sources=ds_1).eval()"
   ]
  },
  {
   "cell_type": "code",
   "execution_count": 14,
   "id": "c1dc0e0f",
   "metadata": {
    "execution": {
     "iopub.execute_input": "2025-07-21T09:45:56.405187Z",
     "iopub.status.busy": "2025-07-21T09:45:56.405187Z",
     "iopub.status.idle": "2025-07-21T09:45:56.419459Z",
     "shell.execute_reply": "2025-07-21T09:45:56.419383Z"
    }
   },
   "outputs": [],
   "source": [
    "# Get the mesh with the mesh_provider operator\n",
    "meshed_region_22 = ops.mesh.mesh_provider(data_sources=ds_2).eval()"
   ]
  },
  {
   "cell_type": "code",
   "execution_count": 15,
   "id": "ad8361f6",
   "metadata": {
    "execution": {
     "iopub.execute_input": "2025-07-21T09:45:56.419459Z",
     "iopub.status.busy": "2025-07-21T09:45:56.419459Z",
     "iopub.status.idle": "2025-07-21T09:45:58.884196Z",
     "shell.execute_reply": "2025-07-21T09:45:58.884196Z"
    }
   },
   "outputs": [],
   "source": [
    "# Get the mesh with the mesh_provider operator\n",
    "meshed_region_32 = ops.mesh.mesh_provider(data_sources=ds_3).eval()"
   ]
  },
  {
   "cell_type": "code",
   "execution_count": 16,
   "id": "938d5718",
   "metadata": {
    "execution": {
     "iopub.execute_input": "2025-07-21T09:45:58.885816Z",
     "iopub.status.busy": "2025-07-21T09:45:58.885816Z",
     "iopub.status.idle": "2025-07-21T09:45:58.945089Z",
     "shell.execute_reply": "2025-07-21T09:45:58.945089Z"
    }
   },
   "outputs": [],
   "source": [
    "# Get the mesh with the mesh_provider operator\n",
    "meshed_region_42 = ops.mesh.mesh_provider(data_sources=ds_4).eval()"
   ]
  },
  {
   "cell_type": "code",
   "execution_count": 17,
   "id": "c42bcea4",
   "metadata": {
    "execution": {
     "iopub.execute_input": "2025-07-21T09:45:58.946693Z",
     "iopub.status.busy": "2025-07-21T09:45:58.946693Z",
     "iopub.status.idle": "2025-07-21T09:45:58.952517Z",
     "shell.execute_reply": "2025-07-21T09:45:58.952517Z"
    }
   },
   "outputs": [
    {
     "name": "stdout",
     "output_type": "stream",
     "text": [
      "DPF  Meshed Region: \n",
      "  81 nodes \n",
      "  8 elements \n",
      "  Unit: m \n",
      "  With solid (3D) elements\n"
     ]
    }
   ],
   "source": [
    "# Print the MeshedRegion\n",
    "print(meshed_region_12)"
   ]
  },
  {
   "cell_type": "code",
   "execution_count": 18,
   "id": "8dd0a6f8",
   "metadata": {
    "execution": {
     "iopub.execute_input": "2025-07-21T09:45:58.952517Z",
     "iopub.status.busy": "2025-07-21T09:45:58.952517Z",
     "iopub.status.idle": "2025-07-21T09:45:58.959073Z",
     "shell.execute_reply": "2025-07-21T09:45:58.959073Z"
    }
   },
   "outputs": [
    {
     "name": "stdout",
     "output_type": "stream",
     "text": [
      "DPF  Meshed Region: \n",
      "  1940 nodes \n",
      "  2056 elements \n",
      "  Unit: mm \n",
      "  With solid (3D) elements, beam (1D) elements\n"
     ]
    }
   ],
   "source": [
    "# Print the MeshedRegion\n",
    "print(meshed_region_22)"
   ]
  },
  {
   "cell_type": "code",
   "execution_count": 19,
   "id": "e92dd038",
   "metadata": {
    "execution": {
     "iopub.execute_input": "2025-07-21T09:45:58.962155Z",
     "iopub.status.busy": "2025-07-21T09:45:58.960631Z",
     "iopub.status.idle": "2025-07-21T09:45:58.965923Z",
     "shell.execute_reply": "2025-07-21T09:45:58.965923Z"
    }
   },
   "outputs": [
    {
     "name": "stdout",
     "output_type": "stream",
     "text": [
      "DPF  Meshed Region: \n",
      "  16660 nodes \n",
      "  13856 elements \n",
      "  44242 faces \n",
      "  Unit: m \n",
      "  With solid (3D) elements\n"
     ]
    }
   ],
   "source": [
    "# Print the MeshedRegion\n",
    "print(meshed_region_32)"
   ]
  },
  {
   "cell_type": "code",
   "execution_count": 20,
   "id": "7248a21b",
   "metadata": {
    "execution": {
     "iopub.execute_input": "2025-07-21T09:45:58.967479Z",
     "iopub.status.busy": "2025-07-21T09:45:58.967479Z",
     "iopub.status.idle": "2025-07-21T09:45:58.972899Z",
     "shell.execute_reply": "2025-07-21T09:45:58.972899Z"
    }
   },
   "outputs": [
    {
     "name": "stdout",
     "output_type": "stream",
     "text": [
      "DPF  Meshed Region: \n",
      "  6219 nodes \n",
      "  15695 elements \n",
      "  Unit: m \n",
      "  With solid (3D) elements\n"
     ]
    }
   ],
   "source": [
    "# Print the MeshedRegion\n",
    "print(meshed_region_42)"
   ]
  }
 ],
 "metadata": {
  "kernelspec": {
   "display_name": "Python 3 (ipykernel)",
   "language": "python",
   "name": "python3"
  },
  "language_info": {
   "codemirror_mode": {
    "name": "ipython",
    "version": 3
   },
   "file_extension": ".py",
   "mimetype": "text/x-python",
   "name": "python",
   "nbconvert_exporter": "python",
   "pygments_lexer": "ipython3",
   "version": "3.11.9"
  }
 },
 "nbformat": 4,
 "nbformat_minor": 5
}