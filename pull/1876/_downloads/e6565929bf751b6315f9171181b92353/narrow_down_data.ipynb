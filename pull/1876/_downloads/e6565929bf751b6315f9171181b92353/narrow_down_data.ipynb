{
 "cells": [
  {
   "cell_type": "code",
   "execution_count": 1,
   "id": "351489c3",
   "metadata": {
    "execution": {
     "iopub.execute_input": "2025-07-21T09:44:41.750549Z",
     "iopub.status.busy": "2025-07-21T09:44:41.750549Z",
     "iopub.status.idle": "2025-07-21T09:44:43.008405Z",
     "shell.execute_reply": "2025-07-21T09:44:43.008405Z"
    }
   },
   "outputs": [],
   "source": [
    "# Import the ``ansys.dpf.core`` module\n",
    "from ansys.dpf import core as dpf"
   ]
  },
  {
   "cell_type": "code",
   "execution_count": 2,
   "id": "5fc52b06",
   "metadata": {
    "execution": {
     "iopub.execute_input": "2025-07-21T09:44:43.008405Z",
     "iopub.status.busy": "2025-07-21T09:44:43.008405Z",
     "iopub.status.idle": "2025-07-21T09:44:43.268823Z",
     "shell.execute_reply": "2025-07-21T09:44:43.268823Z"
    }
   },
   "outputs": [],
   "source": [
    "# Define a time list that targets the times ids 14, 15, 16, 17\n",
    "time_list_1 = [14, 15, 16, 17]\n",
    "\n",
    "# Create the time Scoping object\n",
    "time_scoping_1 = dpf.Scoping(ids=time_list_1, location=dpf.locations.time_freq)"
   ]
  },
  {
   "cell_type": "code",
   "execution_count": 3,
   "id": "78e7b073",
   "metadata": {
    "execution": {
     "iopub.execute_input": "2025-07-21T09:44:43.271945Z",
     "iopub.status.busy": "2025-07-21T09:44:43.271945Z",
     "iopub.status.idle": "2025-07-21T09:44:43.275999Z",
     "shell.execute_reply": "2025-07-21T09:44:43.275999Z"
    }
   },
   "outputs": [],
   "source": [
    "# Define a nodes list that targets the nodes with the ids 103, 204, 334, 1802\n",
    "nodes_ids_1 = [103, 204, 334, 1802]\n",
    "\n",
    "#  Create the mesh Scoping object\n",
    "mesh_scoping_1 = dpf.Scoping(ids=nodes_ids_1, location=dpf.locations.nodal)"
   ]
  },
  {
   "cell_type": "code",
   "execution_count": 4,
   "id": "ced33db6",
   "metadata": {
    "execution": {
     "iopub.execute_input": "2025-07-21T09:44:43.275999Z",
     "iopub.status.busy": "2025-07-21T09:44:43.275999Z",
     "iopub.status.idle": "2025-07-21T09:44:43.282105Z",
     "shell.execute_reply": "2025-07-21T09:44:43.282105Z"
    }
   },
   "outputs": [],
   "source": [
    "# Define a time list that targets the times ids 14, 15, 16, 17\n",
    "time_list_2 = [14, 15, 16, 17]\n",
    "\n",
    "# Create the time Scoping object\n",
    "time_scoping_2 = dpf.time_freq_scoping_factory.scoping_by_sets(cumulative_sets=time_list_2)"
   ]
  },
  {
   "cell_type": "code",
   "execution_count": 5,
   "id": "a573523a",
   "metadata": {
    "execution": {
     "iopub.execute_input": "2025-07-21T09:44:43.282105Z",
     "iopub.status.busy": "2025-07-21T09:44:43.282105Z",
     "iopub.status.idle": "2025-07-21T09:44:43.288302Z",
     "shell.execute_reply": "2025-07-21T09:44:43.288302Z"
    }
   },
   "outputs": [],
   "source": [
    "# Define a nodes list that targets the nodes with the ids 103, 204, 334, 1802\n",
    "nodes_ids_2 = [103, 204, 334, 1802]\n",
    "\n",
    "# Create the mesh Scoping object\n",
    "mesh_scoping_2 = dpf.mesh_scoping_factory.nodal_scoping(node_ids=nodes_ids_2)"
   ]
  },
  {
   "cell_type": "code",
   "execution_count": 6,
   "id": "70d5041b",
   "metadata": {
    "execution": {
     "iopub.execute_input": "2025-07-21T09:44:43.288302Z",
     "iopub.status.busy": "2025-07-21T09:44:43.288302Z",
     "iopub.status.idle": "2025-07-21T09:44:43.296767Z",
     "shell.execute_reply": "2025-07-21T09:44:43.296767Z"
    }
   },
   "outputs": [],
   "source": [
    "# Import the examples module\n",
    "from ansys.dpf.core import examples\n",
    "# Import the operators module\n",
    "from ansys.dpf.core import operators as ops\n",
    "\n",
    "# Define the result file path\n",
    "result_file_path_1 = examples.download_transient_result()\n",
    "# Create the DataSources object\n",
    "ds_1 = dpf.DataSources(result_path=result_file_path_1)\n",
    "# Create the model\n",
    "model_1 = dpf.Model(data_sources=ds_1)"
   ]
  },
  {
   "cell_type": "code",
   "execution_count": 7,
   "id": "71b01c7f",
   "metadata": {
    "execution": {
     "iopub.execute_input": "2025-07-21T09:44:43.296767Z",
     "iopub.status.busy": "2025-07-21T09:44:43.296767Z",
     "iopub.status.idle": "2025-07-21T09:44:43.364239Z",
     "shell.execute_reply": "2025-07-21T09:44:43.364239Z"
    }
   },
   "outputs": [],
   "source": [
    "# Get the MeshedRegion\n",
    "meshed_region_1 = model_1.metadata.meshed_region\n",
    "\n",
    "# Get a FieldsContainer with the displacement results\n",
    "disp_fc = model_1.results.displacement.on_all_time_freqs.eval()\n",
    "\n",
    "# Get a Field from the FieldsContainer\n",
    "disp_field = disp_fc[0]"
   ]
  },
  {
   "cell_type": "code",
   "execution_count": 8,
   "id": "459e1d69",
   "metadata": {
    "execution": {
     "iopub.execute_input": "2025-07-21T09:44:43.364239Z",
     "iopub.status.busy": "2025-07-21T09:44:43.364239Z",
     "iopub.status.idle": "2025-07-21T09:44:43.370934Z",
     "shell.execute_reply": "2025-07-21T09:44:43.370934Z"
    }
   },
   "outputs": [],
   "source": [
    "# Extract the TimeFreq support\n",
    "tfs_1 = model_1.metadata.time_freq_support"
   ]
  },
  {
   "cell_type": "code",
   "execution_count": 9,
   "id": "083c12dc",
   "metadata": {
    "execution": {
     "iopub.execute_input": "2025-07-21T09:44:43.373996Z",
     "iopub.status.busy": "2025-07-21T09:44:43.373996Z",
     "iopub.status.idle": "2025-07-21T09:44:43.378187Z",
     "shell.execute_reply": "2025-07-21T09:44:43.378187Z"
    }
   },
   "outputs": [
    {
     "name": "stdout",
     "output_type": "stream",
     "text": [
      "DPF  Scoping: \n",
      "  with TimeFreq_steps location and 1 entity\n",
      "\n"
     ]
    }
   ],
   "source": [
    "# Extract the time frequencies\n",
    "t_freqs_1 = tfs_1.time_frequencies\n",
    "\n",
    "# Extract the time scoping\n",
    "time_scop_1 = t_freqs_1.scoping\n",
    "\n",
    "#Print the time scoping\n",
    "print(time_scop_1)"
   ]
  },
  {
   "cell_type": "code",
   "execution_count": 10,
   "id": "19531ada",
   "metadata": {
    "execution": {
     "iopub.execute_input": "2025-07-21T09:44:43.380211Z",
     "iopub.status.busy": "2025-07-21T09:44:43.380211Z",
     "iopub.status.idle": "2025-07-21T09:44:43.384822Z",
     "shell.execute_reply": "2025-07-21T09:44:43.384275Z"
    }
   },
   "outputs": [],
   "source": [
    "# Extract the TimeFreq support\n",
    "tfs_2 = disp_fc.time_freq_support"
   ]
  },
  {
   "cell_type": "code",
   "execution_count": 11,
   "id": "96562fd8",
   "metadata": {
    "execution": {
     "iopub.execute_input": "2025-07-21T09:44:43.384822Z",
     "iopub.status.busy": "2025-07-21T09:44:43.384822Z",
     "iopub.status.idle": "2025-07-21T09:44:43.391279Z",
     "shell.execute_reply": "2025-07-21T09:44:43.391279Z"
    }
   },
   "outputs": [
    {
     "name": "stdout",
     "output_type": "stream",
     "text": [
      "DPF  Scoping: \n",
      "  with TimeFreq_steps location and 1 entity\n",
      "\n"
     ]
    }
   ],
   "source": [
    "# Extract the time frequencies\n",
    "t_freqs_2 = tfs_2.time_frequencies\n",
    "\n",
    "# Extract the time scoping\n",
    "time_scop_2 = t_freqs_2.scoping\n",
    "\n",
    "#Print the time scoping\n",
    "print(time_scop_2)"
   ]
  },
  {
   "cell_type": "code",
   "execution_count": 12,
   "id": "024751d0",
   "metadata": {
    "execution": {
     "iopub.execute_input": "2025-07-21T09:44:43.391279Z",
     "iopub.status.busy": "2025-07-21T09:44:43.391279Z",
     "iopub.status.idle": "2025-07-21T09:44:43.397119Z",
     "shell.execute_reply": "2025-07-21T09:44:43.397119Z"
    }
   },
   "outputs": [],
   "source": [
    "# Extract the TimeFreq support\n",
    "tfs_3 = disp_field.time_freq_support"
   ]
  },
  {
   "cell_type": "code",
   "execution_count": 13,
   "id": "5e962462",
   "metadata": {
    "execution": {
     "iopub.execute_input": "2025-07-21T09:44:43.397119Z",
     "iopub.status.busy": "2025-07-21T09:44:43.397119Z",
     "iopub.status.idle": "2025-07-21T09:44:43.403849Z",
     "shell.execute_reply": "2025-07-21T09:44:43.403849Z"
    }
   },
   "outputs": [
    {
     "name": "stdout",
     "output_type": "stream",
     "text": [
      "DPF  Scoping: \n",
      "  with TimeFreq_steps location and 1 entity\n",
      "\n"
     ]
    }
   ],
   "source": [
    "# Extract the time frequencies\n",
    "t_freqs_3 = tfs_1.time_frequencies\n",
    "\n",
    "# Extract the time scoping\n",
    "time_scop_3 = t_freqs_3.scoping\n",
    "\n",
    "#Print the time scoping\n",
    "print(time_scop_3)"
   ]
  },
  {
   "cell_type": "code",
   "execution_count": 14,
   "id": "2dc35b97",
   "metadata": {
    "execution": {
     "iopub.execute_input": "2025-07-21T09:44:43.405980Z",
     "iopub.status.busy": "2025-07-21T09:44:43.405980Z",
     "iopub.status.idle": "2025-07-21T09:44:48.521933Z",
     "shell.execute_reply": "2025-07-21T09:44:48.521933Z"
    }
   },
   "outputs": [
    {
     "name": "stdout",
     "output_type": "stream",
     "text": [
      "Scoping from mesh \n",
      " DPF  Scoping: \n",
      "  with Nodal location and 3820 entities\n",
      " \n",
      "\n"
     ]
    }
   ],
   "source": [
    "# Extract the mesh scoping\n",
    "mesh_scoping_3 = ops.scoping.from_mesh(mesh=meshed_region_1).eval()\n",
    "\n",
    "# Print the mesh Scoping\n",
    "print(\"Scoping from mesh\", \"\\n\", mesh_scoping_3, \"\\n\")"
   ]
  },
  {
   "cell_type": "code",
   "execution_count": 15,
   "id": "aa103e27",
   "metadata": {
    "execution": {
     "iopub.execute_input": "2025-07-21T09:44:48.521933Z",
     "iopub.status.busy": "2025-07-21T09:44:48.521933Z",
     "iopub.status.idle": "2025-07-21T09:44:48.528860Z",
     "shell.execute_reply": "2025-07-21T09:44:48.528295Z"
    }
   },
   "outputs": [
    {
     "name": "stdout",
     "output_type": "stream",
     "text": [
      "Scoping from mesh \n",
      " DPF  Scoping: \n",
      "  with Elemental location and 789 entities\n",
      " \n",
      "\n"
     ]
    }
   ],
   "source": [
    "# Extract the mesh scoping\n",
    "mesh_scoping_4 = meshed_region_1.elements.scoping\n",
    "\n",
    "# Print the mesh Scoping\n",
    "print(\"Scoping from mesh\", \"\\n\", mesh_scoping_4, \"\\n\")"
   ]
  },
  {
   "cell_type": "code",
   "execution_count": 16,
   "id": "c551635d",
   "metadata": {
    "execution": {
     "iopub.execute_input": "2025-07-21T09:44:48.529917Z",
     "iopub.status.busy": "2025-07-21T09:44:48.529917Z",
     "iopub.status.idle": "2025-07-21T09:44:48.534613Z",
     "shell.execute_reply": "2025-07-21T09:44:48.534613Z"
    }
   },
   "outputs": [
    {
     "name": "stdout",
     "output_type": "stream",
     "text": [
      "Scoping from mesh \n",
      " DPF  Scoping: \n",
      "  with Nodal location and 3820 entities\n",
      " \n",
      "\n"
     ]
    }
   ],
   "source": [
    "# Extract the mesh scoping\n",
    "mesh_scoping_5 = meshed_region_1.nodes.scoping\n",
    "\n",
    "# Print the mesh Scoping\n",
    "print(\"Scoping from mesh\", \"\\n\", mesh_scoping_5, \"\\n\")"
   ]
  },
  {
   "cell_type": "code",
   "execution_count": 17,
   "id": "7566962f",
   "metadata": {
    "execution": {
     "iopub.execute_input": "2025-07-21T09:44:48.536632Z",
     "iopub.status.busy": "2025-07-21T09:44:48.536632Z",
     "iopub.status.idle": "2025-07-21T09:44:48.542420Z",
     "shell.execute_reply": "2025-07-21T09:44:48.542420Z"
    }
   },
   "outputs": [
    {
     "name": "stdout",
     "output_type": "stream",
     "text": [
      "Scoping from FieldsContainer \n",
      " DPF  Scopings Container\n",
      "  with 35 scoping(s)\n",
      "  defined on labels: time \n",
      "\n",
      "  with:\n",
      "  - scoping 0 {time:  1, } located on Nodal 3820 entities.\n",
      "  - scoping 1 {time:  2, } located on Nodal 3820 entities.\n",
      "  - scoping 2 {time:  3, } located on Nodal 3820 entities.\n",
      "  - scoping 3 {time:  4, } located on Nodal 3820 entities.\n",
      "  - scoping 4 {time:  5, } located on Nodal 3820 entities.\n",
      "  - scoping 5 {time:  6, } located on Nodal 3820 entities.\n",
      "  - scoping 6 {time:  7, } located on Nodal 3820 entities.\n",
      "  - scoping 7 {time:  8, } located on Nodal 3820 entities.\n",
      "  - scoping 8 {time:  9, } located on Nodal 3820 entities.\n",
      "  - scoping 9 {time:  10, } located on Nodal 3820 entities.\n",
      "  - scoping 10 {time:  11, } located on Nodal 3820 entities.\n",
      "  - scoping 11 {time:  12, } located on Nodal 3820 entities.\n",
      "  - scoping 12 {time:  13, } located on Nodal 3820 entities.\n",
      "  - scoping 13 {time:  14, } located on Nodal 3820 entities.\n",
      "  - scoping 14 {time:  15, } located on Nodal 3820 entities.\n",
      "  - scoping 15 {time:  16, } located on Nodal 3820 entities.\n",
      "  - scoping 16 {time:  17, } located on Nodal 3820 entities.\n",
      "  - scoping 17 {time:  18, } located on Nodal 3820 entities.\n",
      "  - scoping 18 {time:  19, } located on Nodal 3820 entities.\n",
      "  - scoping 19 {time:  20, } located on Nodal 3820 entities.\n",
      "  - scoping 20 {time:  21, } located on Nodal 3820 entities.\n",
      "  - scoping 21 {time:  22, } located on Nodal 3820 entities.\n",
      "  - scoping 22 {time:  23, } located on Nodal 3820 entities.\n",
      "  - scoping 23 {time:  24, } located on Nodal 3820 entities.\n",
      "  - scoping 24 {time:  25, } located on Nodal 3820 entities.\n",
      "  - scoping 25 {time:  26, } located on Nodal 3820 entities.\n",
      "  - scoping 26 {time:  27, } located on Nodal 3820 entities.\n",
      "  - scoping 27 {time:  28, } located on Nodal 3820 entities.\n",
      "  - scoping 28 {time:  29, } located on Nodal 3820 entities.\n",
      "  - scoping 29 {time:  30, } located on Nodal 3820 entities.\n",
      "  - scoping 30 {time:  31, } located on Nodal 3820 entities.\n",
      "  - scoping 31 {time:  32, } located on Nodal 3820 entities.\n",
      "  - scoping 32 {time:  33, } located on Nodal 3820 entities.\n",
      "  - scoping 33 {time:  34, } located on Nodal 3820 entities.\n",
      "  - scoping 34 {time:  35, } located on Nodal 3820 entities.\n",
      " \n",
      "\n"
     ]
    }
   ],
   "source": [
    "# Define the extract_scoping operator\n",
    "extract_scop_fc_op = ops.utility.extract_scoping(field_or_fields_container=disp_fc)\n",
    "\n",
    "# Get the mesh Scopings from the operators output\n",
    "mesh_scoping_6 = extract_scop_fc_op.outputs.mesh_scoping_as_scopings_container()\n",
    "\n",
    "# Print the mesh Scopings\n",
    "print(\"Scoping from FieldsContainer\", \"\\n\", mesh_scoping_6, \"\\n\")"
   ]
  },
  {
   "cell_type": "code",
   "execution_count": 18,
   "id": "9ff8fec8",
   "metadata": {
    "execution": {
     "iopub.execute_input": "2025-07-21T09:44:48.542420Z",
     "iopub.status.busy": "2025-07-21T09:44:48.542420Z",
     "iopub.status.idle": "2025-07-21T09:44:48.550581Z",
     "shell.execute_reply": "2025-07-21T09:44:48.550023Z"
    }
   },
   "outputs": [
    {
     "name": "stdout",
     "output_type": "stream",
     "text": [
      "Scoping from Field  \n",
      " DPF  Scoping: \n",
      "  with Nodal location and 3820 entities\n",
      " \n",
      "\n"
     ]
    }
   ],
   "source": [
    "# Extract the mesh scoping\n",
    "mesh_scoping_7 = ops.utility.extract_scoping(field_or_fields_container=disp_field).eval()\n",
    "\n",
    "# Print the mesh Scoping\n",
    "print(\"Scoping from Field \", \"\\n\", mesh_scoping_7, \"\\n\")"
   ]
  },
  {
   "cell_type": "code",
   "execution_count": 19,
   "id": "e8b4fb98",
   "metadata": {
    "execution": {
     "iopub.execute_input": "2025-07-21T09:44:48.552682Z",
     "iopub.status.busy": "2025-07-21T09:44:48.552682Z",
     "iopub.status.idle": "2025-07-21T09:44:48.556296Z",
     "shell.execute_reply": "2025-07-21T09:44:48.556296Z"
    }
   },
   "outputs": [
    {
     "name": "stdout",
     "output_type": "stream",
     "text": [
      "Scoping from Field \n",
      " DPF displacement_0.s Field\n",
      "  Location: Nodal\n",
      "  Unit: m\n",
      "  3820 entities \n",
      "  Data: 3 components and 3820 elementary data \n",
      "\n",
      "  Nodal\n",
      "  IDs                   data(m)\n",
      "  ------------          ----------\n",
      "  525                   0.000000e+00   0.000000e+00   0.000000e+00   \n",
      "                        \n",
      "  534                   0.000000e+00   0.000000e+00   0.000000e+00   \n",
      "                        \n",
      "  533                   0.000000e+00   0.000000e+00   0.000000e+00   \n",
      "                        \n",
      "  ...\n",
      "\n",
      " \n",
      "\n"
     ]
    }
   ],
   "source": [
    "# Extract the mesh scoping\n",
    "mesh_scoping_8 = disp_field\n",
    "\n",
    "# Print the mesh Scoping\n",
    "print(\"Scoping from Field\", \"\\n\", mesh_scoping_8, \"\\n\")"
   ]
  },
  {
   "cell_type": "code",
   "execution_count": 20,
   "id": "46585786",
   "metadata": {
    "execution": {
     "iopub.execute_input": "2025-07-21T09:44:48.556296Z",
     "iopub.status.busy": "2025-07-21T09:44:48.556296Z",
     "iopub.status.idle": "2025-07-21T09:44:48.598154Z",
     "shell.execute_reply": "2025-07-21T09:44:48.598154Z"
    }
   },
   "outputs": [
    {
     "name": "stdout",
     "output_type": "stream",
     "text": [
      "Displacement from Model.results  \n",
      " DPF displacement(s)Fields Container\n",
      "  with 4 field(s)\n",
      "  defined on labels: time \n",
      "\n",
      "  with:\n",
      "  - field 0 {time:  14} with Nodal location, 3 components and 4 entities.\n",
      "  - field 1 {time:  15} with Nodal location, 3 components and 4 entities.\n",
      "  - field 2 {time:  16} with Nodal location, 3 components and 4 entities.\n",
      "  - field 3 {time:  17} with Nodal location, 3 components and 4 entities.\n",
      " \n",
      "\n",
      "Displacement from result.displacement operator \n",
      " DPF displacement(s)Fields Container\n",
      "  with 4 field(s)\n",
      "  defined on labels: time \n",
      "\n",
      "  with:\n",
      "  - field 0 {time:  14} with Nodal location, 3 components and 4 entities.\n",
      "  - field 1 {time:  15} with Nodal location, 3 components and 4 entities.\n",
      "  - field 2 {time:  16} with Nodal location, 3 components and 4 entities.\n",
      "  - field 3 {time:  17} with Nodal location, 3 components and 4 entities.\n",
      " \n",
      "\n"
     ]
    }
   ],
   "source": [
    "# Extract and scope the result using the Model.results method\n",
    "disp_model = model_1.results.displacement(time_scoping=time_scoping_1, mesh_scoping=mesh_scoping_1).eval()\n",
    "\n",
    "# Extract and scope the results using the result.displacement operator\n",
    "disp_op = ops.result.displacement(data_sources=ds_1, time_scoping=time_scoping_1, mesh_scoping=mesh_scoping_1).eval()\n",
    "\n",
    "# Print the displacement results\n",
    "print(\"Displacement from Model.results \", \"\\n\", disp_model, \"\\n\")\n",
    "print(\"Displacement from result.displacement operator\", \"\\n\", disp_op, \"\\n\")"
   ]
  },
  {
   "cell_type": "code",
   "execution_count": 21,
   "id": "216558b4",
   "metadata": {
    "execution": {
     "iopub.execute_input": "2025-07-21T09:44:48.601794Z",
     "iopub.status.busy": "2025-07-21T09:44:48.600740Z",
     "iopub.status.idle": "2025-07-21T09:44:48.614670Z",
     "shell.execute_reply": "2025-07-21T09:44:48.614670Z"
    }
   },
   "outputs": [
    {
     "name": "stdout",
     "output_type": "stream",
     "text": [
      "Displacement results for the entire mesh \n",
      " DPF displacement(s)Fields Container\n",
      "  with 1 field(s)\n",
      "  defined on labels: time \n",
      "\n",
      "  with:\n",
      "  - field 0 {time:  35} with Nodal location, 3 components and 3820 entities.\n",
      " \n",
      "\n",
      "Displacement results rescoped  \n",
      " DPF displacement(s)Fields Container\n",
      "  with 1 field(s)\n",
      "  defined on labels: time \n",
      "\n",
      "  with:\n",
      "  - field 0 {time:  35} with Nodal location, 3 components and 4 entities.\n",
      " \n",
      "\n"
     ]
    }
   ],
   "source": [
    "# Extract the results for the entire mesh\n",
    "disp_all_mesh = model_1.results.displacement.eval()\n",
    "\n",
    "# Rescope the displacement results to get the data only for a specific set of nodes\n",
    "disp_rescope = ops.scoping.rescope(fields=disp_all_mesh, mesh_scoping=mesh_scoping_1).eval()\n",
    "\n",
    "# Print the displacement results for the entire mesh\n",
    "print(\"Displacement results for the entire mesh\", \"\\n\", disp_all_mesh, \"\\n\")\n",
    "\n",
    "# Print the displacement results for the specific set of nodes\n",
    "print(\"Displacement results rescoped \", \"\\n\", disp_rescope, \"\\n\")"
   ]
  }
 ],
 "metadata": {
  "kernelspec": {
   "display_name": "Python 3 (ipykernel)",
   "language": "python",
   "name": "python3"
  },
  "language_info": {
   "codemirror_mode": {
    "name": "ipython",
    "version": 3
   },
   "file_extension": ".py",
   "mimetype": "text/x-python",
   "name": "python",
   "nbconvert_exporter": "python",
   "pygments_lexer": "ipython3",
   "version": "3.11.9"
  }
 },
 "nbformat": 4,
 "nbformat_minor": 5
}