{
 "cells": [
  {
   "cell_type": "code",
   "execution_count": 1,
   "id": "0b2c4a80",
   "metadata": {
    "execution": {
     "iopub.execute_input": "2025-07-29T14:02:14.446654Z",
     "iopub.status.busy": "2025-07-29T14:02:14.446654Z",
     "iopub.status.idle": "2025-07-29T14:02:15.986944Z",
     "shell.execute_reply": "2025-07-29T14:02:15.986944Z"
    }
   },
   "outputs": [],
   "source": [
    "# Import the ``ansys.dpf.core`` module\n",
    "from ansys.dpf import core as dpf\n",
    "# Import the examples module\n",
    "from ansys.dpf.core import examples\n",
    "# Import the operators module\n",
    "from ansys.dpf.core import operators as ops\n",
    "\n",
    "# Define the result file path\n",
    "result_file_path_1 = examples.find_static_rst()\n",
    "# Create the model\n",
    "model_1 = dpf.Model(data_sources=result_file_path_1)\n",
    "# Get the mesh\n",
    "meshed_region_1 = model_1.metadata.meshed_region"
   ]
  },
  {
   "cell_type": "code",
   "execution_count": 2,
   "id": "8caa1fb2",
   "metadata": {
    "execution": {
     "iopub.execute_input": "2025-07-29T14:02:15.989010Z",
     "iopub.status.busy": "2025-07-29T14:02:15.989010Z",
     "iopub.status.idle": "2025-07-29T14:02:16.001200Z",
     "shell.execute_reply": "2025-07-29T14:02:16.001200Z"
    }
   },
   "outputs": [],
   "source": [
    "# Import the ``ansys.dpf.core`` module\n",
    "from ansys.dpf import core as dpf\n",
    "# Import the examples module\n",
    "from ansys.dpf.core import examples\n",
    "# Import the operators module\n",
    "from ansys.dpf.core import operators as ops\n",
    "\n",
    "# Define the result file path\n",
    "result_file_path_2 = examples.download_d3plot_beam()\n",
    "# Create the DataSources object\n",
    "ds_2 = dpf.DataSources()\n",
    "ds_2.set_result_file_path(filepath=result_file_path_2[0], key=\"d3plot\")\n",
    "ds_2.add_file_path(filepath=result_file_path_2[3], key=\"actunits\")\n",
    "# Create the model\n",
    "model_2 = dpf.Model(data_sources=ds_2)\n",
    "# Get the mesh\n",
    "meshed_region_2 = model_2.metadata.meshed_region"
   ]
  },
  {
   "cell_type": "code",
   "execution_count": 3,
   "id": "b4fd1205",
   "metadata": {
    "execution": {
     "iopub.execute_input": "2025-07-29T14:02:16.001200Z",
     "iopub.status.busy": "2025-07-29T14:02:16.001200Z",
     "iopub.status.idle": "2025-07-29T14:02:21.708795Z",
     "shell.execute_reply": "2025-07-29T14:02:21.708795Z"
    }
   },
   "outputs": [],
   "source": [
    "# Import the ``ansys.dpf.core`` module\n",
    "from ansys.dpf import core as dpf\n",
    "# Import the examples module\n",
    "from ansys.dpf.core import examples\n",
    "# Import the operators module\n",
    "from ansys.dpf.core import operators as ops\n",
    "\n",
    "# Define the result file path\n",
    "result_file_path_3 = examples.download_fluent_axial_comp()[\"flprj\"]\n",
    "# Create the model\n",
    "model_3 = dpf.Model(data_sources=result_file_path_3)\n",
    "# Get the mesh\n",
    "meshed_region_3 = model_3.metadata.meshed_region"
   ]
  },
  {
   "cell_type": "code",
   "execution_count": 4,
   "id": "1e38fc3c",
   "metadata": {
    "execution": {
     "iopub.execute_input": "2025-07-29T14:02:21.712322Z",
     "iopub.status.busy": "2025-07-29T14:02:21.708795Z",
     "iopub.status.idle": "2025-07-29T14:02:25.196015Z",
     "shell.execute_reply": "2025-07-29T14:02:25.196015Z"
    }
   },
   "outputs": [],
   "source": [
    "# Import the ``ansys.dpf.core`` module\n",
    "from ansys.dpf import core as dpf\n",
    "# Import the examples module\n",
    "from ansys.dpf.core import examples\n",
    "# Import the operators module\n",
    "from ansys.dpf.core import operators as ops\n",
    "\n",
    "# Define the result file path\n",
    "result_file_path_4 = examples.download_cfx_mixing_elbow()\n",
    "# Create the model\n",
    "model_4 = dpf.Model(data_sources=result_file_path_4)\n",
    "# Get the mesh\n",
    "meshed_region_4 = model_4.metadata.meshed_region"
   ]
  },
  {
   "cell_type": "code",
   "execution_count": 5,
   "id": "4cb0cd45",
   "metadata": {
    "execution": {
     "iopub.execute_input": "2025-07-29T14:02:25.199582Z",
     "iopub.status.busy": "2025-07-29T14:02:25.196015Z",
     "iopub.status.idle": "2025-07-29T14:02:25.203308Z",
     "shell.execute_reply": "2025-07-29T14:02:25.203308Z"
    }
   },
   "outputs": [
    {
     "name": "stdout",
     "output_type": "stream",
     "text": [
      "Object type:  <class 'ansys.dpf.core.nodes.Nodes'> \n",
      "\n",
      "Nodes:  DPF Node collection with 81 nodes\n",
      "\n"
     ]
    }
   ],
   "source": [
    "# Get the mesh nodes\n",
    "nodes_1 = meshed_region_1.nodes\n",
    "\n",
    "# Print the object type\n",
    "print(\"Object type: \",type(nodes_1),'\\n')\n",
    "\n",
    "# Print the nodes\n",
    "print(\"Nodes: \", nodes_1)"
   ]
  },
  {
   "cell_type": "code",
   "execution_count": 6,
   "id": "d0abff76",
   "metadata": {
    "execution": {
     "iopub.execute_input": "2025-07-29T14:02:25.203308Z",
     "iopub.status.busy": "2025-07-29T14:02:25.203308Z",
     "iopub.status.idle": "2025-07-29T14:02:25.210407Z",
     "shell.execute_reply": "2025-07-29T14:02:25.210407Z"
    }
   },
   "outputs": [
    {
     "name": "stdout",
     "output_type": "stream",
     "text": [
      "Object type:  <class 'ansys.dpf.core.nodes.Nodes'> \n",
      "\n",
      "Nodes:  DPF Node collection with 1940 nodes\n",
      "\n"
     ]
    }
   ],
   "source": [
    "# Get the mesh nodes\n",
    "nodes_2 = meshed_region_2.nodes\n",
    "\n",
    "# Print the object type\n",
    "print(\"Object type: \",type(nodes_2),'\\n')\n",
    "\n",
    "# Print the nodes\n",
    "print(\"Nodes: \", nodes_2)"
   ]
  },
  {
   "cell_type": "code",
   "execution_count": 7,
   "id": "57ac914b",
   "metadata": {
    "execution": {
     "iopub.execute_input": "2025-07-29T14:02:25.211451Z",
     "iopub.status.busy": "2025-07-29T14:02:25.211451Z",
     "iopub.status.idle": "2025-07-29T14:02:25.216986Z",
     "shell.execute_reply": "2025-07-29T14:02:25.216986Z"
    }
   },
   "outputs": [
    {
     "name": "stdout",
     "output_type": "stream",
     "text": [
      "Object type:  <class 'ansys.dpf.core.nodes.Nodes'> \n",
      "\n",
      "Nodes:  DPF Node collection with 16660 nodes\n",
      "\n"
     ]
    }
   ],
   "source": [
    "# Get the mesh nodes\n",
    "nodes_3 = meshed_region_3.nodes\n",
    "\n",
    "# Print the object type\n",
    "print(\"Object type: \",type(nodes_3),'\\n')\n",
    "\n",
    "# Print the nodes\n",
    "print(\"Nodes: \", nodes_3)"
   ]
  },
  {
   "cell_type": "code",
   "execution_count": 8,
   "id": "0578b761",
   "metadata": {
    "execution": {
     "iopub.execute_input": "2025-07-29T14:02:25.220050Z",
     "iopub.status.busy": "2025-07-29T14:02:25.216986Z",
     "iopub.status.idle": "2025-07-29T14:02:25.223625Z",
     "shell.execute_reply": "2025-07-29T14:02:25.223625Z"
    }
   },
   "outputs": [
    {
     "name": "stdout",
     "output_type": "stream",
     "text": [
      "Object type:  <class 'ansys.dpf.core.nodes.Nodes'> \n",
      "\n",
      "Nodes:  DPF Node collection with 6219 nodes\n",
      "\n"
     ]
    }
   ],
   "source": [
    "# Get the mesh nodes\n",
    "nodes_4 = meshed_region_4.nodes\n",
    "\n",
    "# Print the object type\n",
    "print(\"Object type: \",type(nodes_4),'\\n')\n",
    "\n",
    "# Print the nodes\n",
    "print(\"Nodes: \", nodes_4)"
   ]
  },
  {
   "cell_type": "code",
   "execution_count": 9,
   "id": "ba8417af",
   "metadata": {
    "execution": {
     "iopub.execute_input": "2025-07-29T14:02:25.223625Z",
     "iopub.status.busy": "2025-07-29T14:02:25.223625Z",
     "iopub.status.idle": "2025-07-29T14:02:25.230183Z",
     "shell.execute_reply": "2025-07-29T14:02:25.230183Z"
    }
   },
   "outputs": [
    {
     "name": "stdout",
     "output_type": "stream",
     "text": [
      "Available properties:  ['connectivity', 'elprops', 'eltype', 'apdl_element_type', 'section', 'mat']\n"
     ]
    }
   ],
   "source": [
    "# Get the available properties\n",
    "available_props_1 = meshed_region_1.available_property_fields\n",
    "\n",
    "# Print the available properties\n",
    "print(\"Available properties: \", available_props_1)"
   ]
  },
  {
   "cell_type": "code",
   "execution_count": 10,
   "id": "d8d39c84",
   "metadata": {
    "execution": {
     "iopub.execute_input": "2025-07-29T14:02:25.231749Z",
     "iopub.status.busy": "2025-07-29T14:02:25.231749Z",
     "iopub.status.idle": "2025-07-29T14:02:25.236225Z",
     "shell.execute_reply": "2025-07-29T14:02:25.236225Z"
    }
   },
   "outputs": [
    {
     "name": "stdout",
     "output_type": "stream",
     "text": [
      "Available properties:  ['connectivity', 'eltype', 'mat']\n"
     ]
    }
   ],
   "source": [
    "# Get the available properties\n",
    "available_props_2 = meshed_region_2.available_property_fields\n",
    "\n",
    "# Print the available properties\n",
    "print(\"Available properties: \", available_props_2)"
   ]
  },
  {
   "cell_type": "code",
   "execution_count": 11,
   "id": "090149ea",
   "metadata": {
    "execution": {
     "iopub.execute_input": "2025-07-29T14:02:25.238096Z",
     "iopub.status.busy": "2025-07-29T14:02:25.238096Z",
     "iopub.status.idle": "2025-07-29T14:02:25.242962Z",
     "shell.execute_reply": "2025-07-29T14:02:25.242962Z"
    }
   },
   "outputs": [
    {
     "name": "stdout",
     "output_type": "stream",
     "text": [
      "Available properties:  ['connectivity', 'eltype', 'faces_type', 'faces_nodes_connectivity', 'elements_faces_connectivity', 'elements_faces_reversed']\n"
     ]
    }
   ],
   "source": [
    "# Get the available properties\n",
    "available_props_3 = meshed_region_3.available_property_fields\n",
    "\n",
    "# Print the available properties\n",
    "print(\"Available properties: \", available_props_3)"
   ]
  },
  {
   "cell_type": "code",
   "execution_count": 12,
   "id": "943ae1df",
   "metadata": {
    "execution": {
     "iopub.execute_input": "2025-07-29T14:02:25.242962Z",
     "iopub.status.busy": "2025-07-29T14:02:25.242962Z",
     "iopub.status.idle": "2025-07-29T14:02:25.249296Z",
     "shell.execute_reply": "2025-07-29T14:02:25.249296Z"
    }
   },
   "outputs": [
    {
     "name": "stdout",
     "output_type": "stream",
     "text": [
      "Available properties:  ['connectivity', 'eltype']\n"
     ]
    }
   ],
   "source": [
    "# Get the available properties\n",
    "available_props_4 = meshed_region_4.available_property_fields\n",
    "\n",
    "# Print the available properties\n",
    "print(\"Available properties: \", available_props_4)"
   ]
  },
  {
   "cell_type": "code",
   "execution_count": 13,
   "id": "0c300fb3",
   "metadata": {
    "execution": {
     "iopub.execute_input": "2025-07-29T14:02:25.250846Z",
     "iopub.status.busy": "2025-07-29T14:02:25.250846Z",
     "iopub.status.idle": "2025-07-29T14:02:25.255685Z",
     "shell.execute_reply": "2025-07-29T14:02:25.255685Z"
    }
   },
   "outputs": [
    {
     "name": "stdout",
     "output_type": "stream",
     "text": [
      "DPF Property Field\n",
      "  8 entities \n",
      "  Data: 1 components and 8 elementary data \n",
      "\n",
      "  Elemental\n",
      "  IDs                   data\n",
      "  ------------          ----------\n",
      "  5                     1              \n",
      "                        \n",
      "  6                     1              \n",
      "                        \n",
      "  1                     1              \n",
      "                        \n",
      "  ...\n",
      "\n",
      "\n"
     ]
    }
   ],
   "source": [
    "# Get the element types on the mesh\n",
    "el_types_1 = meshed_region_1.elements.element_types_field\n",
    "\n",
    "# Print the element types by element\n",
    "print(el_types_1)"
   ]
  },
  {
   "cell_type": "code",
   "execution_count": 14,
   "id": "ca36e9b7",
   "metadata": {
    "execution": {
     "iopub.execute_input": "2025-07-29T14:02:25.255685Z",
     "iopub.status.busy": "2025-07-29T14:02:25.255685Z",
     "iopub.status.idle": "2025-07-29T14:02:25.262807Z",
     "shell.execute_reply": "2025-07-29T14:02:25.262807Z"
    }
   },
   "outputs": [
    {
     "name": "stdout",
     "output_type": "stream",
     "text": [
      "DPF Property Field\n",
      "  2056 entities \n",
      "  Data: 1 components and 2056 elementary data \n",
      "\n",
      "  Elemental\n",
      "  IDs                   data\n",
      "  ------------          ----------\n",
      "  257                   11             \n",
      "                        \n",
      "  258                   11             \n",
      "                        \n",
      "  259                   11             \n",
      "                        \n",
      "  ...\n",
      "\n",
      "\n"
     ]
    }
   ],
   "source": [
    "# Get the element types on the mesh\n",
    "el_types_2 = meshed_region_2.property_field(property_name=\"eltype\")\n",
    "\n",
    "# Print the element types by element\n",
    "print(el_types_2)"
   ]
  },
  {
   "cell_type": "code",
   "execution_count": 15,
   "id": "6f36ea9d",
   "metadata": {
    "execution": {
     "iopub.execute_input": "2025-07-29T14:02:25.262807Z",
     "iopub.status.busy": "2025-07-29T14:02:25.262807Z",
     "iopub.status.idle": "2025-07-29T14:02:25.269122Z",
     "shell.execute_reply": "2025-07-29T14:02:25.269122Z"
    }
   },
   "outputs": [
    {
     "name": "stdout",
     "output_type": "stream",
     "text": [
      "DPF Property Field\n",
      "  13856 entities \n",
      "  Data: 1 components and 13856 elementary data \n",
      "\n",
      "  Elemental\n",
      "  IDs                   data\n",
      "  ------------          ----------\n",
      "  1                     11             \n",
      "                        \n",
      "  2                     11             \n",
      "                        \n",
      "  3                     11             \n",
      "                        \n",
      "  ...\n",
      "\n",
      "\n"
     ]
    }
   ],
   "source": [
    "# Get the element types on the mesh\n",
    "el_types_3 = meshed_region_3.property_field(property_name=\"eltype\")\n",
    "\n",
    "# Print the element types by element\n",
    "print(el_types_3)"
   ]
  },
  {
   "cell_type": "code",
   "execution_count": 16,
   "id": "a28d567d",
   "metadata": {
    "execution": {
     "iopub.execute_input": "2025-07-29T14:02:25.271682Z",
     "iopub.status.busy": "2025-07-29T14:02:25.271682Z",
     "iopub.status.idle": "2025-07-29T14:02:25.275447Z",
     "shell.execute_reply": "2025-07-29T14:02:25.275447Z"
    }
   },
   "outputs": [
    {
     "name": "stdout",
     "output_type": "stream",
     "text": [
      "DPF Property Field\n",
      "  15695 entities \n",
      "  Data: 1 components and 15695 elementary data \n",
      "\n",
      "  Elemental\n",
      "  IDs                   data\n",
      "  ------------          ----------\n",
      "  1                     10             \n",
      "                        \n",
      "  2                     10             \n",
      "                        \n",
      "  3                     10             \n",
      "                        \n",
      "  ...\n",
      "\n",
      "\n"
     ]
    }
   ],
   "source": [
    "# Get the element types on the mesh\n",
    "el_types_4 = meshed_region_4.property_field(property_name=\"eltype\")\n",
    "\n",
    "# Print the element types by element\n",
    "print(el_types_4)"
   ]
  }
 ],
 "metadata": {
  "kernelspec": {
   "display_name": "Python 3 (ipykernel)",
   "language": "python",
   "name": "python3"
  },
  "language_info": {
   "codemirror_mode": {
    "name": "ipython",
    "version": 3
   },
   "file_extension": ".py",
   "mimetype": "text/x-python",
   "name": "python",
   "nbconvert_exporter": "python",
   "pygments_lexer": "ipython3",
   "version": "3.11.9"
  }
 },
 "nbformat": 4,
 "nbformat_minor": 5
}