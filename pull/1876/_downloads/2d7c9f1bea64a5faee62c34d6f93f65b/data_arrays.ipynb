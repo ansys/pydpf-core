{
 "cells": [
  {
   "cell_type": "code",
   "execution_count": 1,
   "id": "2db11369",
   "metadata": {
    "execution": {
     "iopub.execute_input": "2025-07-29T14:01:18.281445Z",
     "iopub.status.busy": "2025-07-29T14:01:18.281445Z",
     "iopub.status.idle": "2025-07-29T14:01:25.478101Z",
     "shell.execute_reply": "2025-07-29T14:01:25.478101Z"
    }
   },
   "outputs": [
    {
     "name": "stdout",
     "output_type": "stream",
     "text": [
      "DPF Model\n",
      "------------------------------\n",
      "Transient analysis\n",
      "Unit system: Custom: m, kg, N, s, V, A, K\n",
      "Physics Type: Fluid\n",
      "Available results:\n",
      "     -  enthalpy: Elemental Enthalpy  \n",
      "     -  mass_flow_rate: Faces Mass Flow Rate\n",
      "     -  static_pressure: ElementalAndFaces Static Pressure\n",
      "     -  mean_static_pressure: Elemental Mean Static Pressure\n",
      "     -  rms_static_pressure: Elemental Rms Static Pressure\n",
      "     -  surface_heat_rate: Faces Surface Heat Rate\n",
      "     -  density: ElementalAndFaces Density\n",
      "     -  wall_shear_stress: Faces Wall Shear Stress\n",
      "     -  temperature: ElementalAndFaces Temperature\n",
      "     -  mean_temperature: ElementalAndFaces Mean Temperature\n",
      "     -  rms_temperature: Elemental Rms Temperature\n",
      "     -  velocity: ElementalAndFaces Velocity\n",
      "     -  mean_velocity: Elemental Mean Velocity\n",
      "     -  rms_velocity: Elemental Rms Velocity\n",
      "Available qualifier labels:\n",
      "     - zone: default-interior:0 (2), rotor-hub (3), rotor-shroud (4), rotor-inlet (5), rotor-interface (6), rotor-blade-1 (7), rotor-blade-2 (8), rotor-per-1-shadow (9), rotor-per-1 (10), rotor-per-2-shadow (11), rotor-per-2 (12), fluid-rotor (13), default-interior (15), stator-hub (16), stator-shroud (17), stator-interface (18), stator-outlet (19), stator-blade-1 (20), stator-blade-2 (21), stator-blade-3 (22), stator-blade-4 (23), stator-per-2 (24), stator-per-2-shadow (25), stator-per-1 (26), stator-per-1-shadow (27), fluid-stator (28)\n",
      "     - phase: phase-1 (1)\n",
      "------------------------------\n",
      "DPF  Meshed Region: \n",
      "  16660 nodes \n",
      "  13856 elements \n",
      "  44242 faces \n",
      "  Unit: m \n",
      "  With solid (3D) elements\n",
      "------------------------------\n",
      "DPF  Time/Freq Support: \n",
      "  Number of sets: 3 \n",
      "Cumulative     Time (s)       LoadStep       Substep         \n",
      "1              0.009587       1              1               \n",
      "2              0.009593       2              1               \n",
      "3              0.009600       3              1               \n",
      "\n"
     ]
    }
   ],
   "source": [
    "# Import the ansys.dpf.core module as ``dpf``\n",
    "from ansys.dpf import core as dpf\n",
    "# Import the examples module\n",
    "from ansys.dpf.core import examples\n",
    "# Create a data source targeting the example file\n",
    "my_data_sources = dpf.DataSources(result_path=examples.download_fluent_axial_comp()[\"flprj\"])\n",
    "# Create a model from the data source\n",
    "my_model = dpf.Model(data_sources=my_data_sources)\n",
    "# Print information available for the analysis\n",
    "print(my_model)"
   ]
  },
  {
   "cell_type": "code",
   "execution_count": 2,
   "id": "15d25314",
   "metadata": {
    "execution": {
     "iopub.execute_input": "2025-07-29T14:01:25.478101Z",
     "iopub.status.busy": "2025-07-29T14:01:25.478101Z",
     "iopub.status.idle": "2025-07-29T14:01:25.496206Z",
     "shell.execute_reply": "2025-07-29T14:01:25.496206Z"
    }
   },
   "outputs": [
    {
     "name": "stdout",
     "output_type": "stream",
     "text": [
      "DPF MeshInfo\n",
      "------------------------------\n",
      "with properties:\n",
      "  num_cells           \tint\n",
      "  num_nodes           \tint\n",
      "  num_faces           \tint\n",
      "  body_names          \tStringField\n",
      "  body_cell_topology  \tPropertyField\n",
      "  body_face_topology  \tPropertyField\n",
      "  body_scoping        \tScoping\n",
      "  cell_zone_names     \tStringField\n",
      "  cell_zone_elements  \tPropertyField\n",
      "  cell_zone_scoping   \tScoping\n",
      "  face_zone_names     \tStringField\n",
      "  face_zone_elements  \tPropertyField\n",
      "  face_zone_scoping   \tScoping\n",
      "  zone_names          \tStringField\n",
      "  num_elem_zone       \tPropertyField\n",
      "  zone_scoping        \tScoping\n",
      "  splittable_by       \tStringField\n"
     ]
    }
   ],
   "source": [
    "# Get the mesh metadata\n",
    "my_mesh_info = my_model.metadata.mesh_info\n",
    "print(my_mesh_info)"
   ]
  },
  {
   "cell_type": "code",
   "execution_count": 3,
   "id": "f6a81a0a",
   "metadata": {
    "execution": {
     "iopub.execute_input": "2025-07-29T14:01:25.496206Z",
     "iopub.status.busy": "2025-07-29T14:01:25.496206Z",
     "iopub.status.idle": "2025-07-29T14:01:25.569191Z",
     "shell.execute_reply": "2025-07-29T14:01:25.569191Z"
    }
   },
   "outputs": [
    {
     "name": "stdout",
     "output_type": "stream",
     "text": [
      "DPF T Field\n",
      "  Location: Elemental\n",
      "  Unit: K\n",
      "  13856 entities \n",
      "  Data: 1 components and 13856 elementary data \n",
      "\n",
      "  Elemental\n",
      "  IDs                   data(K)\n",
      "  ------------          ----------\n",
      "  1                     2.761285e+02   \n",
      "                        \n",
      "  2                     2.760320e+02   \n",
      "                        \n",
      "  3                     2.761719e+02   \n",
      "                        \n",
      "  ...\n",
      "\n",
      "\n"
     ]
    }
   ],
   "source": [
    "# Request the collection of temperature result fields from the model and take the first one.\n",
    "my_temp_field = my_model.results.temperature.eval()[0]\n",
    "# Print the field\n",
    "print(my_temp_field)"
   ]
  },
  {
   "cell_type": "code",
   "execution_count": 4,
   "id": "e7e70485",
   "metadata": {
    "execution": {
     "iopub.execute_input": "2025-07-29T14:01:25.570713Z",
     "iopub.status.busy": "2025-07-29T14:01:25.570713Z",
     "iopub.status.idle": "2025-07-29T14:01:25.576158Z",
     "shell.execute_reply": "2025-07-29T14:01:25.576158Z"
    }
   },
   "outputs": [
    {
     "name": "stdout",
     "output_type": "stream",
     "text": [
      "DPF String Field\n",
      "  24 zone entities \n",
      "  Data:24 elementary data \n",
      "\n",
      "  zone\n",
      "  IDs                   data\n",
      "  ------------          ----------\n",
      "  2                     default-interior:0\n",
      "                        \n",
      "  3                     rotor-hub      \n",
      "                        \n",
      "  4                     rotor-shroud   \n",
      "                        \n",
      "  ...\n",
      "\n",
      "\n"
     ]
    }
   ],
   "source": [
    "# Request the name of the face zones in the fluid analysis\n",
    "my_string_field = my_mesh_info.get_property(property_name=\"face_zone_names\")\n",
    "# Print the field of strings\n",
    "print(my_string_field)"
   ]
  },
  {
   "cell_type": "code",
   "execution_count": 5,
   "id": "2777cd77",
   "metadata": {
    "execution": {
     "iopub.execute_input": "2025-07-29T14:01:25.576158Z",
     "iopub.status.busy": "2025-07-29T14:01:25.576158Z",
     "iopub.status.idle": "2025-07-29T14:01:25.581611Z",
     "shell.execute_reply": "2025-07-29T14:01:25.581611Z"
    }
   },
   "outputs": [
    {
     "name": "stdout",
     "output_type": "stream",
     "text": [
      "DPF Property Field\n",
      "  2 entities \n",
      "  Data: 1 components and 24 elementary data \n",
      "\n",
      "  Body\n",
      "  IDs                   data\n",
      "  ------------          ----------\n",
      "  13                    2              \n",
      "                        3              \n",
      "                        4              \n",
      "                        ...\n",
      "\n",
      "  28                    15             \n",
      "                        16             \n",
      "                        17             \n",
      "                        ...\n",
      "\n",
      "\n",
      "\n"
     ]
    }
   ],
   "source": [
    "# Get the body_face_topology property field\n",
    "my_property_field = my_mesh_info.get_property(property_name=\"body_face_topology\")\n",
    "# Print the field of integers\n",
    "print(my_property_field)"
   ]
  },
  {
   "cell_type": "code",
   "execution_count": 6,
   "id": "fa55f393",
   "metadata": {
    "execution": {
     "iopub.execute_input": "2025-07-29T14:01:25.581611Z",
     "iopub.status.busy": "2025-07-29T14:01:25.581611Z",
     "iopub.status.idle": "2025-07-29T14:01:25.588156Z",
     "shell.execute_reply": "2025-07-29T14:01:25.588156Z"
    }
   },
   "outputs": [
    {
     "name": "stdout",
     "output_type": "stream",
     "text": [
      "DPF  Field\n",
      "  Location: Nodal\n",
      "  Unit: m\n",
      "  2 entities \n",
      "  Data: 3 components and 2 elementary data \n",
      "\n",
      "  IDs                   data(m)\n",
      "  ------------          ----------\n",
      "  1                     1.000000e+00   2.000000e+00   3.000000e+00   \n",
      "                        \n",
      "  2                     4.000000e+00   5.000000e+00   6.000000e+00   \n",
      "                        \n",
      "\n",
      "\n"
     ]
    }
   ],
   "source": [
    "# Create a 3D vector field ready to hold data for two entities\n",
    "# The constructor creates 3D vector fields by default\n",
    "my_field = dpf.Field(nentities=2)\n",
    "# Set the data values as a flat vector\n",
    "my_field.data = [1.0, 2.0, 3.0, 4.0, 5.0, 6.0]\n",
    "# Associate the data to nodes\n",
    "my_field.location = dpf.locations.nodal\n",
    "# Set the IDs of the nodes the data applies to\n",
    "my_field.scoping.ids = [1, 2]\n",
    "# Define the unit (only available for the Field type)\n",
    "my_field.unit = \"m\"\n",
    "# Print the field\n",
    "print(my_field)"
   ]
  },
  {
   "cell_type": "code",
   "execution_count": 7,
   "id": "d0d99177",
   "metadata": {
    "execution": {
     "iopub.execute_input": "2025-07-29T14:01:25.588156Z",
     "iopub.status.busy": "2025-07-29T14:01:25.588156Z",
     "iopub.status.idle": "2025-07-29T14:01:25.595210Z",
     "shell.execute_reply": "2025-07-29T14:01:25.595210Z"
    }
   },
   "outputs": [
    {
     "name": "stdout",
     "output_type": "stream",
     "text": [
      "DPF  Field\n",
      "  Location: Elemental\n",
      "  Unit: Pa\n",
      "  1 entities \n",
      "  Data: 6 components and 1 elementary data \n",
      "\n",
      "  IDs                   data(Pa)\n",
      "  ------------          ----------\n",
      "  1                     1.000000e+00   2.000000e+00   3.000000e+00   4.000000e+00   5.000000e+00   6.000000e+00   \n",
      "                        \n",
      "\n",
      "\n"
     ]
    }
   ],
   "source": [
    "# Set the nature to symmatrix\n",
    "my_field = dpf.Field(nentities=1, nature=dpf.natures.symmatrix)\n",
    "# The symmatrix dimensions defaults to 3x3\n",
    "# Set the data values as a flat vector\n",
    "my_field.data = [1.0, 2.0, 3.0, 4.0, 5.0, 6.0]\n",
    "# Associate the data to elements\n",
    "my_field.location = dpf.locations.elemental\n",
    "# Set the IDs of the nodes the data applies to\n",
    "my_field.scoping.ids = [1]\n",
    "# Define the unit (only available for the Field type)\n",
    "my_field.unit = \"Pa\"\n",
    "# Print the field\n",
    "print(my_field)"
   ]
  },
  {
   "cell_type": "code",
   "execution_count": 8,
   "id": "2a9542fe",
   "metadata": {
    "execution": {
     "iopub.execute_input": "2025-07-29T14:01:25.596263Z",
     "iopub.status.busy": "2025-07-29T14:01:25.596263Z",
     "iopub.status.idle": "2025-07-29T14:01:25.601765Z",
     "shell.execute_reply": "2025-07-29T14:01:25.601765Z"
    }
   },
   "outputs": [
    {
     "name": "stdout",
     "output_type": "stream",
     "text": [
      "DPF  Field\n",
      "  Location: Faces\n",
      "  Unit: mm\n",
      "  1 entities \n",
      "  Data: 6 components and 1 elementary data \n",
      "\n",
      "  IDs                   data(mm)\n",
      "  ------------          ----------\n",
      "  1                     1.000000e+00   2.000000e+00   3.000000e+00   4.000000e+00   5.000000e+00   6.000000e+00   \n",
      "                        \n",
      "\n",
      "\n"
     ]
    }
   ],
   "source": [
    "# Set the nature to matrix and the location to elemental\n",
    "my_field = dpf.Field(nentities=1, nature=dpf.natures.matrix)\n",
    "# Set the matrix dimensions to 2x3\n",
    "my_field.dimensionality = dpf.Dimensionality(dim_vec=[2, 3], nature=dpf.natures.matrix)\n",
    "# Set the data values as a flat vector\n",
    "my_field.data = [1.0, 2.0, 3.0, 4.0, 5.0, 6.0]\n",
    "# Associate the data to faces\n",
    "my_field.location = dpf.locations.faces\n",
    "# Set the IDs of the face the data applies to\n",
    "my_field.scoping.ids = [1]\n",
    "# Define the unit (only available for the Field type)\n",
    "my_field.unit = \"mm\"\n",
    "# Print the field\n",
    "print(my_field)"
   ]
  },
  {
   "cell_type": "code",
   "execution_count": 9,
   "id": "7bfceff7",
   "metadata": {
    "execution": {
     "iopub.execute_input": "2025-07-29T14:01:25.602806Z",
     "iopub.status.busy": "2025-07-29T14:01:25.602806Z",
     "iopub.status.idle": "2025-07-29T14:01:25.607948Z",
     "shell.execute_reply": "2025-07-29T14:01:25.607948Z"
    }
   },
   "outputs": [
    {
     "name": "stdout",
     "output_type": "stream",
     "text": [
      "DPF String Field\n",
      "  2 Elemental entities \n",
      "  Data:2 elementary data \n",
      "\n",
      "  Elemental\n",
      "  IDs                   data\n",
      "  ------------          ----------\n",
      "  1                     string_1       \n",
      "                        \n",
      "  2                     string_2       \n",
      "                        \n",
      "\n",
      "\n"
     ]
    }
   ],
   "source": [
    "# Create a string field with data for two elements\n",
    "my_string_field = dpf.StringField(nentities=2)\n",
    "# Set the string values\n",
    "my_string_field.data = [\"string_1\", \"string_2\"]\n",
    "# Set the location\n",
    "my_string_field.location = dpf.locations.elemental\n",
    "# Set the element IDs\n",
    "my_string_field.scoping.ids = [1, 2]\n",
    "# Print the string field\n",
    "print(my_string_field)"
   ]
  },
  {
   "cell_type": "code",
   "execution_count": 10,
   "id": "b78bbb6a",
   "metadata": {
    "execution": {
     "iopub.execute_input": "2025-07-29T14:01:25.607948Z",
     "iopub.status.busy": "2025-07-29T14:01:25.607948Z",
     "iopub.status.idle": "2025-07-29T14:01:25.613782Z",
     "shell.execute_reply": "2025-07-29T14:01:25.613782Z"
    }
   },
   "outputs": [
    {
     "name": "stdout",
     "output_type": "stream",
     "text": [
      "DPF Property Field\n",
      "  2 entities \n",
      "  Data: 1 components and 2 elementary data \n",
      "\n",
      "  Modal\n",
      "  IDs                   data\n",
      "  ------------          ----------\n",
      "  1                     12             \n",
      "                        \n",
      "  2                     25             \n",
      "                        \n",
      "\n",
      "\n"
     ]
    }
   ],
   "source": [
    "# Create a property field with data for two modes\n",
    "my_property_field = dpf.PropertyField(nentities=2)\n",
    "# Set the data values\n",
    "my_property_field.data = [12, 25]\n",
    "# Set the location\n",
    "my_property_field.location = dpf.locations.modal\n",
    "# Set the element IDs\n",
    "my_property_field.scoping.ids = [1, 2]\n",
    "# Print the property field\n",
    "print(my_property_field)"
   ]
  },
  {
   "cell_type": "code",
   "execution_count": 11,
   "id": "d229b63e",
   "metadata": {
    "execution": {
     "iopub.execute_input": "2025-07-29T14:01:25.615847Z",
     "iopub.status.busy": "2025-07-29T14:01:25.615847Z",
     "iopub.status.idle": "2025-07-29T14:01:25.619754Z",
     "shell.execute_reply": "2025-07-29T14:01:25.619754Z"
    }
   },
   "outputs": [
    {
     "name": "stdout",
     "output_type": "stream",
     "text": [
      "DPF  Field\n",
      "  Location: Nodal\n",
      "  Unit: \n",
      "  2 entities \n",
      "  Data: 1 components and 2 elementary data \n",
      "\n",
      "  IDs                   data\n",
      "  ------------          ----------\n",
      "  1                     1.000000e+00   \n",
      "                        \n",
      "  2                     2.000000e+00   \n",
      "                        \n",
      "\n",
      "\n"
     ]
    }
   ],
   "source": [
    "# Create a scalar field ready to hold data for two entities\n",
    "# The field is nodal by default\n",
    "my_field = dpf.fields_factory.create_scalar_field(num_entities=2)\n",
    "my_field.data = [1.0, 2.0]\n",
    "my_field.scoping.ids = [1, 2]\n",
    "# Print the field\n",
    "print(my_field)"
   ]
  },
  {
   "cell_type": "code",
   "execution_count": 12,
   "id": "c6c1a230",
   "metadata": {
    "execution": {
     "iopub.execute_input": "2025-07-29T14:01:25.619754Z",
     "iopub.status.busy": "2025-07-29T14:01:25.619754Z",
     "iopub.status.idle": "2025-07-29T14:01:25.626319Z",
     "shell.execute_reply": "2025-07-29T14:01:25.626319Z"
    }
   },
   "outputs": [
    {
     "name": "stdout",
     "output_type": "stream",
     "text": [
      "DPF  Field\n",
      "  Location: Nodal\n",
      "  Unit: \n",
      "  2 entities \n",
      "  Data: 2 components and 2 elementary data \n",
      "\n",
      "  IDs                   data\n",
      "  ------------          ----------\n",
      "  1                     1.000000e+00   2.000000e+00   \n",
      "                        \n",
      "  2                     3.000000e+00   4.000000e+00   \n",
      "                        \n",
      "\n",
      "\n"
     ]
    }
   ],
   "source": [
    "# Create a 2D vector field ready to hold data for two entities\n",
    "# The field is nodal by default\n",
    "my_field = dpf.fields_factory.create_vector_field(num_entities=2, num_comp=2)\n",
    "my_field.data = [1.0, 2.0, 3.0, 4.0]\n",
    "my_field.scoping.ids = [1, 2]\n",
    "# Print the field\n",
    "print(my_field)"
   ]
  },
  {
   "cell_type": "code",
   "execution_count": 13,
   "id": "a827f8ad",
   "metadata": {
    "execution": {
     "iopub.execute_input": "2025-07-29T14:01:25.627378Z",
     "iopub.status.busy": "2025-07-29T14:01:25.627378Z",
     "iopub.status.idle": "2025-07-29T14:01:25.632058Z",
     "shell.execute_reply": "2025-07-29T14:01:25.632058Z"
    }
   },
   "outputs": [
    {
     "name": "stdout",
     "output_type": "stream",
     "text": [
      "DPF  Field\n",
      "  Location: Nodal\n",
      "  Unit: \n",
      "  2 entities \n",
      "  Data: 3 components and 2 elementary data \n",
      "\n",
      "  IDs                   data\n",
      "  ------------          ----------\n",
      "  1                     1.000000e+00   2.000000e+00   3.000000e+00   \n",
      "                        \n",
      "  2                     4.000000e+00   5.000000e+00   6.000000e+00   \n",
      "                        \n",
      "\n",
      "\n"
     ]
    }
   ],
   "source": [
    "# Create a 3D vector field ready to hold data for two entities\n",
    "# The field is nodal by default\n",
    "my_field = dpf.fields_factory.create_3d_vector_field(num_entities=2)\n",
    "my_field.data = [1.0, 2.0, 3.0, 4.0, 5.0, 6.0]\n",
    "my_field.scoping.ids = [1, 2]\n",
    "# Print the field\n",
    "print(my_field)"
   ]
  },
  {
   "cell_type": "code",
   "execution_count": 14,
   "id": "3435c4ac",
   "metadata": {
    "execution": {
     "iopub.execute_input": "2025-07-29T14:01:25.634579Z",
     "iopub.status.busy": "2025-07-29T14:01:25.632058Z",
     "iopub.status.idle": "2025-07-29T14:01:25.638239Z",
     "shell.execute_reply": "2025-07-29T14:01:25.638239Z"
    }
   },
   "outputs": [
    {
     "name": "stdout",
     "output_type": "stream",
     "text": [
      "DPF  Field\n",
      "  Location: Nodal\n",
      "  Unit: \n",
      "  2 entities \n",
      "  Data: 6 components and 1 elementary data \n",
      "\n",
      "  IDs                   data\n",
      "  ------------          ----------\n",
      "  1                     1.000000e+00   2.000000e+00   3.000000e+00   4.000000e+00   5.000000e+00   6.000000e+00   \n",
      "                        \n",
      "  2                     7.800348e-43   4.749714e+174  1.439964e+160  1.603333e-51   2.575522e-56   6.004601e-67   \n",
      "                        \n",
      "\n",
      "\n"
     ]
    }
   ],
   "source": [
    "# Create a 2x3 matrix field ready to hold data for two entities\n",
    "# The field is nodal by default\n",
    "my_field = dpf.fields_factory.create_matrix_field(num_entities=2, num_lines=2, num_col=3)\n",
    "my_field.data = [1.0, 2.0, 3.0, 4.0, 5.0, 6.0]\n",
    "my_field.scoping.ids = [1, 2]\n",
    "# Print the field\n",
    "print(my_field)"
   ]
  },
  {
   "cell_type": "code",
   "execution_count": 15,
   "id": "e23728e2",
   "metadata": {
    "execution": {
     "iopub.execute_input": "2025-07-29T14:01:25.638239Z",
     "iopub.status.busy": "2025-07-29T14:01:25.638239Z",
     "iopub.status.idle": "2025-07-29T14:01:25.644125Z",
     "shell.execute_reply": "2025-07-29T14:01:25.644125Z"
    }
   },
   "outputs": [
    {
     "name": "stdout",
     "output_type": "stream",
     "text": [
      "DPF  Field\n",
      "  Location: Nodal\n",
      "  Unit: \n",
      "  2 entities \n",
      "  Data: 6 components and 1 elementary data \n",
      "\n",
      "  IDs                   data\n",
      "  ------------          ----------\n",
      "  1                     1.000000e+00   2.000000e+00   3.000000e+00   4.000000e+00   5.000000e+00   6.000000e+00   \n",
      "                        \n",
      "  2                     7.000000e+00   8.000000e+00   9.000000e+00   1.289459e-307  0.000000e+00   7.410985e-323  \n",
      "                        \n",
      "\n",
      "\n"
     ]
    }
   ],
   "source": [
    "# Create a 3x3 matrix field ready to hold data for two entities\n",
    "# The field is nodal by default\n",
    "my_field = dpf.fields_factory.create_tensor_field(num_entities=2)\n",
    "my_field.data = [1.0, 2.0, 3.0, 4.0, 5.0, 6.0, 7.0, 8.0, 9.0]\n",
    "my_field.scoping.ids = [1, 2]\n",
    "# Print the field\n",
    "print(my_field)"
   ]
  },
  {
   "cell_type": "code",
   "execution_count": 16,
   "id": "ffc7b710",
   "metadata": {
    "execution": {
     "iopub.execute_input": "2025-07-29T14:01:25.644125Z",
     "iopub.status.busy": "2025-07-29T14:01:25.644125Z",
     "iopub.status.idle": "2025-07-29T14:01:25.649793Z",
     "shell.execute_reply": "2025-07-29T14:01:25.649793Z"
    }
   },
   "outputs": [
    {
     "name": "stdout",
     "output_type": "stream",
     "text": [
      "DPF  Field\n",
      "  Location: overall\n",
      "  Unit: \n",
      "  1 entities \n",
      "  Data: 1 components and 1 elementary data \n",
      "\n",
      "  IDs                   data\n",
      "  ------------          ----------\n",
      "  0                     1.000000e+00   \n",
      "                        \n",
      "\n",
      "\n"
     ]
    }
   ],
   "source": [
    "# Create a field storing a value applied to every node in the support\n",
    "my_field = dpf.fields_factory.create_overall_field(value=1.0)\n",
    "# Print the field\n",
    "print(my_field)"
   ]
  },
  {
   "cell_type": "code",
   "execution_count": 17,
   "id": "87f18811",
   "metadata": {
    "execution": {
     "iopub.execute_input": "2025-07-29T14:01:25.649793Z",
     "iopub.status.busy": "2025-07-29T14:01:25.649793Z",
     "iopub.status.idle": "2025-07-29T14:01:25.655389Z",
     "shell.execute_reply": "2025-07-29T14:01:25.655389Z"
    }
   },
   "outputs": [
    {
     "name": "stdout",
     "output_type": "stream",
     "text": [
      "DPF  Field\n",
      "  Location: Nodal\n",
      "  Unit: \n",
      "  6 entities \n",
      "  Data: 1 components and 6 elementary data \n",
      "\n",
      "  IDs                   data\n",
      "  ------------          ----------\n",
      "  1                     1.000000e+00   \n",
      "                        \n",
      "  2                     2.000000e+00   \n",
      "                        \n",
      "  3                     3.000000e+00   \n",
      "                        \n",
      "  ...\n",
      "\n",
      "\n"
     ]
    }
   ],
   "source": [
    "# Create a scalar field from a 1D array or a list\n",
    "arr = [1.0, 2.0, 3.0, 4.0, 5.0, 6.0]\n",
    "my_field = dpf.fields_factory.field_from_array(arr=arr)\n",
    "# Print the field\n",
    "print(my_field)"
   ]
  },
  {
   "cell_type": "code",
   "execution_count": 18,
   "id": "954ed83e",
   "metadata": {
    "execution": {
     "iopub.execute_input": "2025-07-29T14:01:25.657455Z",
     "iopub.status.busy": "2025-07-29T14:01:25.657455Z",
     "iopub.status.idle": "2025-07-29T14:01:25.661606Z",
     "shell.execute_reply": "2025-07-29T14:01:25.661606Z"
    }
   },
   "outputs": [
    {
     "name": "stdout",
     "output_type": "stream",
     "text": [
      "DPF  Field\n",
      "  Location: Nodal\n",
      "  Unit: \n",
      "  2 entities \n",
      "  Data: 3 components and 2 elementary data \n",
      "\n",
      "  IDs                   data\n",
      "  ------------          ----------\n",
      "  1                     1.000000e+00   2.000000e+00   3.000000e+00   \n",
      "                        \n",
      "  2                     4.000000e+00   5.000000e+00   6.000000e+00   \n",
      "                        \n",
      "\n",
      "\n"
     ]
    }
   ],
   "source": [
    "# Create a 3D vector field from an array or a list\n",
    "arr = [[1.0, 2.0, 3.0], [4.0, 5.0, 6.0]]\n",
    "my_field = dpf.fields_factory.field_from_array(arr=arr)\n",
    "# Print the field\n",
    "print(my_field)"
   ]
  },
  {
   "cell_type": "code",
   "execution_count": 19,
   "id": "e007c95a",
   "metadata": {
    "execution": {
     "iopub.execute_input": "2025-07-29T14:01:25.661606Z",
     "iopub.status.busy": "2025-07-29T14:01:25.661606Z",
     "iopub.status.idle": "2025-07-29T14:01:25.667706Z",
     "shell.execute_reply": "2025-07-29T14:01:25.667706Z"
    }
   },
   "outputs": [
    {
     "name": "stdout",
     "output_type": "stream",
     "text": [
      "DPF  Field\n",
      "  Location: Nodal\n",
      "  Unit: \n",
      "  1 entities \n",
      "  Data: 6 components and 1 elementary data \n",
      "\n",
      "  IDs                   data\n",
      "  ------------          ----------\n",
      "  1                     1.000000e+00   2.000000e+00   3.000000e+00   4.000000e+00   5.000000e+00   6.000000e+00   \n",
      "                        \n",
      "\n",
      "\n"
     ]
    }
   ],
   "source": [
    "# Create a symmetric matrix field from an array or a list\n",
    "arr = [[1.0, 2.0, 3.0, 4.0, 5.0, 6.0]]\n",
    "my_field = dpf.fields_factory.field_from_array(arr=arr)\n",
    "# Print the field\n",
    "print(my_field)"
   ]
  },
  {
   "cell_type": "code",
   "execution_count": 20,
   "id": "4efe8bdc",
   "metadata": {
    "execution": {
     "iopub.execute_input": "2025-07-29T14:01:25.668765Z",
     "iopub.status.busy": "2025-07-29T14:01:25.668765Z",
     "iopub.status.idle": "2025-07-29T14:01:25.675938Z",
     "shell.execute_reply": "2025-07-29T14:01:25.675938Z"
    }
   },
   "outputs": [
    {
     "name": "stdout",
     "output_type": "stream",
     "text": [
      "location \n",
      " Elemental \n",
      "\n",
      "scoping \n",
      " DPF  Scoping: \n",
      "  with Elemental location and 13856 entities\n",
      " \n",
      "\n",
      "scoping.ids \n",
      " [    1     2     3 ... 13854 13855 13856] \n",
      "\n",
      "elementary_data_count \n",
      " 13856 \n",
      "\n",
      "components_count \n",
      " 1 \n",
      "\n",
      "size \n",
      " 13856 \n",
      "\n",
      "shape \n",
      " 13856 \n",
      "\n",
      "unit \n",
      " K \n",
      "\n"
     ]
    }
   ],
   "source": [
    "# Location of the fields data\n",
    "my_location = my_temp_field.location\n",
    "print(\"location\", '\\n', my_location,'\\n')\n",
    "\n",
    "# Fields scoping\n",
    "my_scoping = my_temp_field.scoping  # Location entities type and number\n",
    "print(\"scoping\", '\\n',my_scoping, '\\n')\n",
    "\n",
    "my_scoping_ids = my_temp_field.scoping.ids  # Available ids of locations components\n",
    "print(\"scoping.ids\", '\\n', my_scoping_ids, '\\n')\n",
    "\n",
    "# Elementary data count\n",
    "# Number of the location entities (how many data vectors we have)\n",
    "my_elementary_data_count = my_temp_field.elementary_data_count\n",
    "print(\"elementary_data_count\", '\\n', my_elementary_data_count, '\\n')\n",
    "\n",
    "# Components count\n",
    "# Vectors dimension, here we have a displacement so we expect to have 3 components (X, Y and Z)\n",
    "my_component_count = my_temp_field.component_count\n",
    "print(\"components_count\", '\\n', my_component_count, '\\n')\n",
    "\n",
    "# Size\n",
    "# Length of the data entire vector (equal to the number of elementary data times the number of components.)\n",
    "my_field_size = my_temp_field.size\n",
    "print(\"size\", '\\n', my_field_size, '\\n')\n",
    "\n",
    "# Fields shape\n",
    "# Gives a tuple with the elementary data count and the components count\n",
    "my_shape = my_temp_field.shape\n",
    "print(\"shape\", '\\n', my_shape, '\\n')\n",
    "\n",
    "# Units\n",
    "my_unit = my_temp_field.unit\n",
    "print(\"unit\", '\\n', my_unit, '\\n')"
   ]
  },
  {
   "cell_type": "code",
   "execution_count": 21,
   "id": "ced0f39d",
   "metadata": {
    "execution": {
     "iopub.execute_input": "2025-07-29T14:01:25.678005Z",
     "iopub.status.busy": "2025-07-29T14:01:25.678005Z",
     "iopub.status.idle": "2025-07-29T14:01:25.683731Z",
     "shell.execute_reply": "2025-07-29T14:01:25.683731Z"
    }
   },
   "outputs": [
    {
     "name": "stdout",
     "output_type": "stream",
     "text": [
      "location \n",
      " Elemental \n",
      "\n",
      "scoping \n",
      " DPF  Scoping: \n",
      "  with Elemental location and 2 entities\n",
      " \n",
      "\n",
      "scoping.ids \n",
      " [1 2] \n",
      "\n",
      "elementary_data_count \n",
      " 2 \n",
      "\n",
      "components_count \n",
      " 1 \n",
      "\n",
      "size \n",
      " 2 \n",
      "\n",
      "shape \n",
      " 2 \n",
      "\n"
     ]
    }
   ],
   "source": [
    "# Location of the fields data\n",
    "my_location = my_string_field.location\n",
    "print(\"location\", '\\n', my_location,'\\n')\n",
    "\n",
    "# StringFields scoping\n",
    "my_scoping = my_string_field.scoping  # Location entities type and number\n",
    "print(\"scoping\", '\\n',my_scoping, '\\n')\n",
    "\n",
    "my_scoping_ids = my_string_field.scoping.ids  # Available ids of locations components\n",
    "print(\"scoping.ids\", '\\n', my_scoping_ids, '\\n')\n",
    "\n",
    "# Elementary data count\n",
    "# Number of the location entities (how many data vectors we have)\n",
    "my_elementary_data_count = my_string_field.elementary_data_count\n",
    "print(\"elementary_data_count\", '\\n', my_elementary_data_count, '\\n')\n",
    "\n",
    "# Components count\n",
    "# Data dimension, here we expect one name by zone\n",
    "my_component_count = my_string_field.component_count\n",
    "print(\"components_count\", '\\n', my_component_count, '\\n')\n",
    "\n",
    "# Size\n",
    "# Length of the data entire array (equal to the number of elementary data times the number of components.)\n",
    "my_field_size = my_string_field.size\n",
    "print(\"size\", '\\n', my_field_size, '\\n')\n",
    "\n",
    "# Fields shape\n",
    "# Gives a tuple with the elementary data count and the components count\n",
    "my_shape = my_string_field.shape\n",
    "print(\"shape\", '\\n', my_shape, '\\n')"
   ]
  },
  {
   "cell_type": "code",
   "execution_count": 22,
   "id": "7819de11",
   "metadata": {
    "execution": {
     "iopub.execute_input": "2025-07-29T14:01:25.683731Z",
     "iopub.status.busy": "2025-07-29T14:01:25.683731Z",
     "iopub.status.idle": "2025-07-29T14:01:25.691455Z",
     "shell.execute_reply": "2025-07-29T14:01:25.691455Z"
    }
   },
   "outputs": [
    {
     "name": "stdout",
     "output_type": "stream",
     "text": [
      "location \n",
      " Modal \n",
      "\n",
      "scoping \n",
      " DPF  Scoping: \n",
      "  with Modal location and 2 entities\n",
      " \n",
      "\n",
      "scoping.ids \n",
      " [1 2] \n",
      "\n",
      "elementary_data_count \n",
      " 2 \n",
      "\n",
      "components_count \n",
      " 1 \n",
      "\n",
      "size \n",
      " 2 \n",
      "\n",
      "shape \n",
      " 2 \n",
      "\n"
     ]
    }
   ],
   "source": [
    "# Location of the fields data\n",
    "my_location = my_property_field.location\n",
    "print(\"location\", '\\n', my_location,'\\n')\n",
    "\n",
    "# Fields scoping\n",
    "my_scoping = my_property_field.scoping  # Location entities type and number\n",
    "print(\"scoping\", '\\n',my_scoping, '\\n')\n",
    "\n",
    "my_scoping_ids = my_property_field.scoping.ids  # Available ids of locations components\n",
    "print(\"scoping.ids\", '\\n', my_scoping_ids, '\\n')\n",
    "\n",
    "# Elementary data count\n",
    "# Number of the location entities (how many data vectors we have)\n",
    "my_elementary_data_count = my_property_field.elementary_data_count\n",
    "print(\"elementary_data_count\", '\\n', my_elementary_data_count, '\\n')\n",
    "\n",
    "# Components count\n",
    "# Data dimension, we expect to have one id by face that makes part of a body\n",
    "my_component_count = my_property_field.component_count\n",
    "print(\"components_count\", '\\n', my_component_count, '\\n')\n",
    "\n",
    "# Size\n",
    "# Length of the data entire array (equal to the number of elementary data times the number of components.)\n",
    "my_field_size = my_property_field.size\n",
    "print(\"size\", '\\n', my_field_size, '\\n')\n",
    "\n",
    "# Fields shape\n",
    "# Gives a tuple with the elementary data count and the components count\n",
    "my_shape = my_property_field.shape\n",
    "print(\"shape\", '\\n', my_shape, '\\n')"
   ]
  },
  {
   "cell_type": "code",
   "execution_count": 23,
   "id": "b0473b39",
   "metadata": {
    "execution": {
     "iopub.execute_input": "2025-07-29T14:01:25.691455Z",
     "iopub.status.busy": "2025-07-29T14:01:25.691455Z",
     "iopub.status.idle": "2025-07-29T14:01:25.696957Z",
     "shell.execute_reply": "2025-07-29T14:01:25.696957Z"
    }
   },
   "outputs": [
    {
     "name": "stdout",
     "output_type": "stream",
     "text": [
      "[276.12852414 276.03204537 276.17186547 ... 304.13925596 324.34370722\n",
      " 316.09748279]\n"
     ]
    }
   ],
   "source": [
    "my_data_array = my_temp_field.data\n",
    "print(my_data_array)"
   ]
  },
  {
   "cell_type": "code",
   "execution_count": 24,
   "id": "10251d68",
   "metadata": {
    "execution": {
     "iopub.execute_input": "2025-07-29T14:01:25.699572Z",
     "iopub.status.busy": "2025-07-29T14:01:25.698515Z",
     "iopub.status.idle": "2025-07-29T14:01:25.702313Z",
     "shell.execute_reply": "2025-07-29T14:01:25.702313Z"
    }
   },
   "outputs": [
    {
     "name": "stdout",
     "output_type": "stream",
     "text": [
      "<class 'ansys.dpf.gate.dpf_array.DPFArray'>\n"
     ]
    }
   ],
   "source": [
    "print(type(my_data_array))"
   ]
  },
  {
   "cell_type": "code",
   "execution_count": 25,
   "id": "b2e5e476",
   "metadata": {
    "execution": {
     "iopub.execute_input": "2025-07-29T14:01:25.702313Z",
     "iopub.status.busy": "2025-07-29T14:01:25.702313Z",
     "iopub.status.idle": "2025-07-29T14:01:25.707577Z",
     "shell.execute_reply": "2025-07-29T14:01:25.707577Z"
    }
   },
   "outputs": [
    {
     "name": "stdout",
     "output_type": "stream",
     "text": [
      "DPFVectorString['string_1', 'string_2']\n"
     ]
    }
   ],
   "source": [
    "my_data_array = my_string_field.data\n",
    "print(my_data_array)"
   ]
  },
  {
   "cell_type": "code",
   "execution_count": 26,
   "id": "b064215a",
   "metadata": {
    "execution": {
     "iopub.execute_input": "2025-07-29T14:01:25.709688Z",
     "iopub.status.busy": "2025-07-29T14:01:25.709688Z",
     "iopub.status.idle": "2025-07-29T14:01:25.712925Z",
     "shell.execute_reply": "2025-07-29T14:01:25.712925Z"
    }
   },
   "outputs": [
    {
     "name": "stdout",
     "output_type": "stream",
     "text": [
      "[12 25]\n"
     ]
    }
   ],
   "source": [
    "my_data_array = my_property_field.data\n",
    "print(my_data_array)"
   ]
  },
  {
   "cell_type": "code",
   "execution_count": 27,
   "id": "fb4a7102",
   "metadata": {
    "execution": {
     "iopub.execute_input": "2025-07-29T14:01:25.712925Z",
     "iopub.status.busy": "2025-07-29T14:01:25.712925Z",
     "iopub.status.idle": "2025-07-29T14:01:25.720968Z",
     "shell.execute_reply": "2025-07-29T14:01:25.720968Z"
    }
   },
   "outputs": [
    {
     "data": {
      "text/plain": [
       "DPFArray([275.3473736])"
      ]
     },
     "execution_count": 27,
     "metadata": {},
     "output_type": "execute_result"
    }
   ],
   "source": [
    "# Get the data from the third element in the field\n",
    "my_temp_field.get_entity_data(index=3)"
   ]
  },
  {
   "cell_type": "code",
   "execution_count": 28,
   "id": "474da05c",
   "metadata": {
    "execution": {
     "iopub.execute_input": "2025-07-29T14:01:25.720968Z",
     "iopub.status.busy": "2025-07-29T14:01:25.720968Z",
     "iopub.status.idle": "2025-07-29T14:01:25.727921Z",
     "shell.execute_reply": "2025-07-29T14:01:25.727921Z"
    }
   },
   "outputs": [
    {
     "data": {
      "text/plain": [
       "DPFArray([276.30236262])"
      ]
     },
     "execution_count": 28,
     "metadata": {},
     "output_type": "execute_result"
    }
   ],
   "source": [
    "# Get the data from the element with id 533\n",
    "my_temp_field.get_entity_data_by_id(id=533)"
   ]
  },
  {
   "cell_type": "code",
   "execution_count": 29,
   "id": "70610b15",
   "metadata": {
    "execution": {
     "iopub.execute_input": "2025-07-29T14:01:25.730540Z",
     "iopub.status.busy": "2025-07-29T14:01:25.729477Z",
     "iopub.status.idle": "2025-07-29T14:01:25.733968Z",
     "shell.execute_reply": "2025-07-29T14:01:25.733968Z"
    }
   },
   "outputs": [
    {
     "data": {
      "text/plain": [
       "532"
      ]
     },
     "execution_count": 29,
     "metadata": {},
     "output_type": "execute_result"
    }
   ],
   "source": [
    "# Get index of the element with id 533\n",
    "my_temp_field.scoping.index(id=533)"
   ]
  },
  {
   "cell_type": "code",
   "execution_count": 30,
   "id": "bd32b653",
   "metadata": {
    "execution": {
     "iopub.execute_input": "2025-07-29T14:01:25.733968Z",
     "iopub.status.busy": "2025-07-29T14:01:25.733968Z",
     "iopub.status.idle": "2025-07-29T14:01:25.741638Z",
     "shell.execute_reply": "2025-07-29T14:01:25.741638Z"
    }
   },
   "outputs": [],
   "source": [
    "# Create a deep copy of the field that can be accessed and modified locally.\n",
    "with my_temp_field.as_local_field() as f:\n",
    "    for i in range(1,100):\n",
    "        f.get_entity_data_by_id(i)"
   ]
  }
 ],
 "metadata": {
  "kernelspec": {
   "display_name": "Python 3 (ipykernel)",
   "language": "python",
   "name": "python3"
  },
  "language_info": {
   "codemirror_mode": {
    "name": "ipython",
    "version": 3
   },
   "file_extension": ".py",
   "mimetype": "text/x-python",
   "name": "python",
   "nbconvert_exporter": "python",
   "pygments_lexer": "ipython3",
   "version": "3.11.9"
  }
 },
 "nbformat": 4,
 "nbformat_minor": 5
}