{
  "cells": [
    {
      "cell_type": "markdown",
      "metadata": {},
      "source": [
        "# Calculate the number of cycles to fatigue failure {#ref_cycles_to_failure}\r\n\r\nThis example shows how to generate and use a result file to calculate\r\nthe cycles to failure result for a simple model.\r\n\r\nMaterial data is manually imported, Structural Steel from Ansys\r\nMechanical:\r\n\r\n-   Youngs Modulus (youngsSteel)\r\n-   Poisson\\'s Ratio (prxySteel)\r\n-   SN curve (sn_data)\r\n\r\nThe first step is to generate a simple model with high stress and save\r\nthe results .rst file locally to myDir (default is \\\"C:\\\\temp\\\"). For\r\nthis, we provide a short pyMAPDL script.\r\n\r\nThe cycles to failure result is the (interpolated) negative of the\r\nstress result. The higher the stress result, the lower the number of\r\ncycles to failure.\r\n"
      ]
    },
    {
      "cell_type": "code",
      "execution_count": null,
      "metadata": {
        "collapsed": false
      },
      "outputs": [],
      "source": [
        "from ansys.dpf import core as dpf\nfrom ansys.dpf.core import examples\nimport numpy as np"
      ]
    },
    {
      "cell_type": "markdown",
      "metadata": {},
      "source": [
        "The first step is to generate a simple model with high stress\r\n"
      ]
    },
    {
      "cell_type": "code",
      "execution_count": null,
      "metadata": {
        "collapsed": false
      },
      "outputs": [],
      "source": [
        "# # Material parameters from Ansys Mechanical Structural Steel\nyoungsSteel = 200e9\nprxySteel = 0.3\nsn_data = np.empty((11, 2))  # initialize empty np matrix\nsn_data[:, 0] = [10, 20, 50, 100, 200, 2000, 10000, 20000, 1e5, 2e5, 1e6]\nsn_data[:, 1] = [\n    3.999e9,\n    2.8327e9,\n    1.896e9,\n    1.413e9,\n    1.069e9,\n    4.41e8,\n    2.62e8,\n    2.14e8,\n    1.38e8,\n    1.14e8,\n    8.62e7,\n]"
      ]
    },
    {
      "cell_type": "markdown",
      "metadata": {},
      "source": [
        "The .rst file used is already available, but can be obtained using the\r\nshort pyMAPDL code below:\r\n"
      ]
    },
    {
      "cell_type": "code",
      "execution_count": null,
      "metadata": {
        "collapsed": false
      },
      "outputs": [],
      "source": [
        "# # ### Launch pymapdl to generate rst file in myDir\n# from ansys.mapdl.core import launch_mapdl\n# import os\n#\n#\n# mapdl = launch_mapdl()\n# mapdl.prep7()\n# # Model\n# mapdl.cylind(0.5, 0, 10, 0)\n# mapdl.mp(\"EX\", 1, youngsSteel)\n# mapdl.mp(\"PRXY\", 1, prxySteel)\n# mapdl.mshape(key=1, dimension='3d')\n# mapdl.et(1, \"SOLID186\")\n# mapdl.esize(0.3)\n# mapdl.vmesh('ALL')\n#\n# # #### Boundary Conditions: fixed constraint\n# mapdl.nsel(type_='S', item='LOC', comp='Z', vmin=0)\n# mapdl.d(\"all\", \"all\")\n# mapdl.nsel(type_='S', item='LOC', comp='Z', vmin=10)\n# nnodes = mapdl.get(\"NumNodes\", \"NODE\", 0, \"COUNT\")\n# mapdl.f(node=\"ALL\", lab=\"fy\", value=-13e6 / nnodes)\n# mapdl.allsel()\n#\n# # #### Solve\n# mapdl.run(\"/SOLU\")\n# sol_output = mapdl.solve()\n# rst = os.path.join(mapdl.directory, 'file.rst')\n# mapdl.exit()\n# print('apdl model solved.')"
      ]
    },
    {
      "cell_type": "markdown",
      "metadata": {},
      "source": [
        "PyDPF-Core is then used to post-process the .rst file to estimate the\r\ncycles to failure.\r\n"
      ]
    },
    {
      "cell_type": "code",
      "execution_count": null,
      "metadata": {
        "collapsed": false
      },
      "outputs": [],
      "source": [
        "# Comment the following line if solving the MAPDL problem first.\nrst = examples.download_cycles_to_failure()\n\n# Import the result as a DPF Model object.\nmodel = dpf.Model(rst)\nprint(model)"
      ]
    },
    {
      "cell_type": "markdown",
      "metadata": {},
      "source": [
        "Get the von mises equivalent stress, requires an operator.\r\n"
      ]
    },
    {
      "cell_type": "code",
      "execution_count": null,
      "metadata": {
        "collapsed": false
      },
      "outputs": [],
      "source": [
        "s_eqv_op = dpf.operators.result.stress_von_mises(data_sources=model)\nvm_stress_fc = s_eqv_op.eval()\nvm_stress_field = vm_stress_fc[0]\nvm_stress_field.plot(text=\"VM stress field\")"
      ]
    },
    {
      "cell_type": "markdown",
      "metadata": {},
      "source": [
        "Use NumPy to interpolate the results.\r\n"
      ]
    },
    {
      "cell_type": "code",
      "execution_count": null,
      "metadata": {
        "collapsed": false
      },
      "outputs": [],
      "source": [
        "# Inverse the sn_data\nx_values = sn_data[:, 1][::-1]  # the x values are the stress ranges in ascending order\ny_values = sn_data[:, 0][::-1]  # y values are inverted cycles to failure\n\n# Interpolate cycles to failure for the VM values\ncycles_to_failure = np.interp(vm_stress_field.data, x_values, y_values)"
      ]
    },
    {
      "cell_type": "markdown",
      "metadata": {},
      "source": [
        "Generate a cycles_to_failure DPF Field\r\n"
      ]
    },
    {
      "cell_type": "code",
      "execution_count": null,
      "metadata": {
        "collapsed": false
      },
      "outputs": [],
      "source": [
        "# Create an empty field\ncycles_to_failure_field = dpf.Field(\n    nentities=len(vm_stress_field.scoping),\n    nature=dpf.natures.scalar,\n    location=dpf.locations.nodal,\n)\n# Populate the field\ncycles_to_failure_field.scoping = vm_stress_field.scoping\ncycles_to_failure_field.meshed_region = vm_stress_field.meshed_region\ncycles_to_failure_field.data = cycles_to_failure\n\n# Plot the field\nsargs = dict(title=\"cycles\", fmt=\"%.2e\")\ncycles_to_failure_field.plot(text=\"Cycles to failure\", scalar_bar_args=sargs)"
      ]
    }
  ],
  "metadata": {
    "kernelspec": {
      "display_name": "Python 3",
      "language": "python",
      "name": "python3"
    },
    "language_info": {
      "codemirror_mode": {
        "name": "ipython",
        "version": 3
      },
      "file_extension": ".py",
      "mimetype": "text/x-python",
      "name": "python",
      "nbconvert_exporter": "python",
      "pygments_lexer": "ipython3",
      "version": "3.9.13"
    }
  },
  "nbformat": 4,
  "nbformat_minor": 0
}