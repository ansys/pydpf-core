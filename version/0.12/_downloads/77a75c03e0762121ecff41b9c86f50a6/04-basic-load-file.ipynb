{
  "cells": [
    {
      "cell_type": "markdown",
      "metadata": {},
      "source": [
        "# Working with a result file {#ref_basic_load_file_example}\r\n\r\nThis example shows how to write and upload files on the server machine\r\nand then download them back on the client side. The resulting fields\r\ncontainer is then exported to a CSV file.\r\n"
      ]
    },
    {
      "cell_type": "markdown",
      "metadata": {},
      "source": [
        "Load a model from the DPF-Core examples: `ansys.dpf.core` module.\r\n"
      ]
    },
    {
      "cell_type": "code",
      "execution_count": null,
      "metadata": {
        "collapsed": false
      },
      "outputs": [],
      "source": [
        "from ansys.dpf import core as dpf\nfrom ansys.dpf.core import examples\n\n\nmodel = dpf.Model(examples.find_simple_bar())\nmesh = model.metadata.meshed_region"
      ]
    },
    {
      "cell_type": "markdown",
      "metadata": {},
      "source": [
        "# Get and plot the fields container for the result\r\n\r\nGet the fields container for the result and plot it so you can compare\r\nit later:\r\n"
      ]
    },
    {
      "cell_type": "code",
      "execution_count": null,
      "metadata": {
        "collapsed": false
      },
      "outputs": [],
      "source": [
        "displacement_operator = model.results.displacement()\nfc_out = displacement_operator.outputs.fields_container()\nmesh.plot(fc_out)"
      ]
    },
    {
      "cell_type": "markdown",
      "metadata": {},
      "source": [
        "# Export result\r\n\r\nExport the fields container in the CSV format:\r\n"
      ]
    },
    {
      "cell_type": "code",
      "execution_count": null,
      "metadata": {
        "collapsed": false
      },
      "outputs": [],
      "source": [
        "import os\n\ncsv_file_name = \"simple_bar_fc.csv\"\n# Define an output path for the resulting .csv file\nif not dpf.SERVER.local_server:\n    # Define it server-side if using a remote server\n    tmp_dir_path = dpf.core.make_tmp_dir_server(dpf.SERVER)\n    server_file_path = dpf.path_utilities.join(tmp_dir_path, csv_file_name)\nelse:\n    server_file_path = os.path.join(os.getcwd(), csv_file_name)\n\n# Perform the export to csv on the server side\nexport_csv_operator = dpf.operators.serialization.field_to_csv()\nexport_csv_operator.inputs.field_or_fields_container.connect(fc_out)\nexport_csv_operator.inputs.file_path.connect(server_file_path)\nexport_csv_operator.run()"
      ]
    },
    {
      "cell_type": "markdown",
      "metadata": {},
      "source": [
        "# Download CSV result file\r\n\r\nDownload the file `simple_bar_fc.csv`:\r\n"
      ]
    },
    {
      "cell_type": "code",
      "execution_count": null,
      "metadata": {
        "collapsed": false
      },
      "outputs": [],
      "source": [
        "if not dpf.SERVER.local_server:\n    downloaded_client_file_path = os.path.join(os.getcwd(), \"simple_bar_fc_downloaded.csv\")\n    dpf.download_file(server_file_path, downloaded_client_file_path)\nelse:\n    downloaded_client_file_path = server_file_path"
      ]
    },
    {
      "cell_type": "markdown",
      "metadata": {},
      "source": [
        "# Load CSV result file as operator input\r\n\r\nLoad the fields container contained in the CSV file as an operator\r\ninput:\r\n"
      ]
    },
    {
      "cell_type": "code",
      "execution_count": null,
      "metadata": {
        "collapsed": false
      },
      "outputs": [],
      "source": [
        "my_data_sources = dpf.DataSources(server_file_path)\nimport_csv_operator = dpf.operators.serialization.csv_to_field()\nimport_csv_operator.inputs.data_sources.connect(my_data_sources)\nserver_fc_out = import_csv_operator.outputs.fields_container()\nmesh.plot(server_fc_out)\n\n# Remove file to avoid polluting.\nos.remove(downloaded_client_file_path)"
      ]
    },
    {
      "cell_type": "markdown",
      "metadata": {},
      "source": [
        "# Make operations over the fields container\r\n\r\nUse this fields container to get the minimum displacement:\r\n"
      ]
    },
    {
      "cell_type": "code",
      "execution_count": null,
      "metadata": {
        "collapsed": false
      },
      "outputs": [],
      "source": [
        "min_max_op = dpf.operators.min_max.min_max_fc()\nmin_max_op.inputs.fields_container.connect(server_fc_out)\nmin_field = min_max_op.outputs.field_min()\nmin_field.data"
      ]
    },
    {
      "cell_type": "markdown",
      "metadata": {},
      "source": [
        "# Compare the original and the new fields container\r\n\r\nSubtract the two fields and plot an error map:\r\n"
      ]
    },
    {
      "cell_type": "code",
      "execution_count": null,
      "metadata": {
        "collapsed": false
      },
      "outputs": [],
      "source": [
        "abs_error = (fc_out - server_fc_out).eval()\n\ndivide = dpf.operators.math.component_wise_divide()\ndivide.inputs.fieldA.connect(fc_out - server_fc_out)\ndivide.inputs.fieldB.connect(fc_out)\nscale = dpf.operators.math.scale()\nscale.inputs.field.connect(divide)\nscale.inputs.ponderation.connect(100.0)\nrel_error = scale.eval()"
      ]
    },
    {
      "cell_type": "markdown",
      "metadata": {},
      "source": [
        "# Plot both absolute and relative error fields\r\n\r\nNote that the absolute error is bigger where the displacements are\r\nbigger, at the tip of the geometry. Instead, the relative error is\r\nsimilar across the geometry since we are dividing by the displacements\r\n`fc_out`. Both plots show errors that can be understood as zero due to\r\nmachine precision (1e-12 mm for the absolute error and 1e-5% for the\r\nrelative error).\r\n"
      ]
    },
    {
      "cell_type": "code",
      "execution_count": null,
      "metadata": {
        "collapsed": false
      },
      "outputs": [],
      "source": [
        "mesh.plot(abs_error, scalar_bar_args={\"title\": \"Absolute error [mm]\"})\nmesh.plot(rel_error, scalar_bar_args={\"title\": \"Relative error [%]\"})"
      ]
    }
  ],
  "metadata": {
    "kernelspec": {
      "display_name": "Python 3",
      "language": "python",
      "name": "python3"
    },
    "language_info": {
      "codemirror_mode": {
        "name": "ipython",
        "version": 3
      },
      "file_extension": ".py",
      "mimetype": "text/x-python",
      "name": "python",
      "nbconvert_exporter": "python",
      "pygments_lexer": "ipython3",
      "version": "3.9.13"
    }
  },
  "nbformat": 4,
  "nbformat_minor": 0
}