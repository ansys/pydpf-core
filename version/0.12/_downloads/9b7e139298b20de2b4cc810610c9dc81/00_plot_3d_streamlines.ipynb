{
  "cells": [
    {
      "cell_type": "markdown",
      "metadata": {},
      "source": [
        "# Compute and plot 3D streamlines {#plot_3d_streamlines}\r\n\r\nThis example shows you how to compute and plot streamlines of fluid\r\nsimulation results, for 3D models.\r\n\r\n:::: note\r\n::: title\r\nNote\r\n:::\r\n\r\nThis example requires DPF 7.0 (ansys-dpf-server-2024-1-pre0) or above.\r\nFor more information, see `ref_compatibility`{.interpreted-text\r\nrole=\"ref\"}.\r\n::::\r\n"
      ]
    },
    {
      "cell_type": "markdown",
      "metadata": {},
      "source": [
        "# Compute and plot streamlines from single source\r\n"
      ]
    },
    {
      "cell_type": "markdown",
      "metadata": {},
      "source": [
        "# Import modules, create the data sources and the model\r\n\r\nImport modules:\r\n"
      ]
    },
    {
      "cell_type": "code",
      "execution_count": null,
      "metadata": {
        "collapsed": false
      },
      "outputs": [],
      "source": [
        "from ansys.dpf import core as dpf\nfrom ansys.dpf.core import examples\nfrom ansys.dpf.core.helpers.streamlines import compute_streamlines\nfrom ansys.dpf.core.plotter import DpfPlotter"
      ]
    },
    {
      "cell_type": "markdown",
      "metadata": {},
      "source": [
        "Create data sources for fluids simulation result:\r\n"
      ]
    },
    {
      "cell_type": "code",
      "execution_count": null,
      "metadata": {
        "collapsed": false
      },
      "outputs": [],
      "source": [
        "fluent_files = examples.download_fluent_mixing_elbow_steady_state()\nds_fluent = dpf.DataSources()\nds_fluent.set_result_file_path(fluent_files[\"cas\"][0], \"cas\")\nds_fluent.add_file_path(fluent_files[\"dat\"][1], \"dat\")"
      ]
    },
    {
      "cell_type": "markdown",
      "metadata": {},
      "source": [
        "Create model from fluid simulation result data sources:\r\n"
      ]
    },
    {
      "cell_type": "code",
      "execution_count": null,
      "metadata": {
        "collapsed": false
      },
      "outputs": [],
      "source": [
        "m_fluent = dpf.Model(ds_fluent)"
      ]
    },
    {
      "cell_type": "markdown",
      "metadata": {},
      "source": [
        "# Get meshed region and velocity data\r\n\r\nMeshed region is used as geometric base to compute the streamlines.\r\nVelocity data is used to compute the streamlines. The velocity data must\r\nbe nodal.\r\n"
      ]
    },
    {
      "cell_type": "markdown",
      "metadata": {},
      "source": [
        "Get the meshed region:\r\n"
      ]
    },
    {
      "cell_type": "code",
      "execution_count": null,
      "metadata": {
        "collapsed": false
      },
      "outputs": [],
      "source": [
        "meshed_region = m_fluent.metadata.meshed_region"
      ]
    },
    {
      "cell_type": "markdown",
      "metadata": {},
      "source": [
        "Get the velocity result at nodes:\r\n"
      ]
    },
    {
      "cell_type": "code",
      "execution_count": null,
      "metadata": {
        "collapsed": false
      },
      "outputs": [],
      "source": [
        "velocity_op = m_fluent.results.velocity()\nfc = velocity_op.outputs.fields_container()\nfield = dpf.operators.averaging.to_nodal_fc(fields_container=fc).outputs.fields_container()[0]"
      ]
    },
    {
      "cell_type": "markdown",
      "metadata": {},
      "source": [
        "# Compute and plot the streamlines adjusting the request\r\n\r\nThe following steps show you how to create streamlines using DpfPlotter,\r\nwith several sets of parameters. It demonstrates the issues that can\r\nhappen and the adjustments that you can make.\r\n"
      ]
    },
    {
      "cell_type": "markdown",
      "metadata": {},
      "source": [
        "First, Streamlines and StreamlinesSource objects are created. The\r\nStreamlinesSource is available using the \\'return_source\\' argument.\r\nThen, you can correctly set the source coordinates using the\r\n\\\"source_center\\\" argument that moves the source center, and\r\n\\\"permissive\\\" option that allows you to display the source even, if the\r\ncomputed streamline size is zero. Default value for \\\"permissive\\\"\r\nargument is True. If permissive is set to False, the \\\"add_streamlines\\\"\r\nmethod throws.\r\n"
      ]
    },
    {
      "cell_type": "code",
      "execution_count": null,
      "metadata": {
        "collapsed": false
      },
      "outputs": [],
      "source": [
        "streamline_obj, source_obj = compute_streamlines(\n    meshed_region=meshed_region,\n    field=field,\n    return_source=True,\n    source_center=(0.1, 0.1, 0.2),\n)\npl1 = DpfPlotter()\npl1.add_mesh(meshed_region=meshed_region, opacity=0.3)\npl1.add_streamlines(\n    streamlines=streamline_obj,\n    source=source_obj,\n    permissive=True,\n)\npl1.show_figure(show_axes=True)"
      ]
    },
    {
      "cell_type": "markdown",
      "metadata": {},
      "source": [
        "After the adjustment, the correct values for the \\\"source_center\\\"\r\nargument are set. You can remove the \\\"permissive\\\" option. You can\r\ndisplay velocity data with a small opacity value to avoid hiding the\r\nstreamlines. More settings are added to adapt the streamlines creation\r\nto the geometry and the data of the model: - radius: streamlines\r\nradius - n_points: source number of points - source_radius - max_time:\r\nmaximum integration time of the streamline. It controls the streamline\r\nlength.\r\n"
      ]
    },
    {
      "cell_type": "code",
      "execution_count": null,
      "metadata": {
        "collapsed": false
      },
      "outputs": [],
      "source": [
        "streamline_obj, source_obj = compute_streamlines(\n    meshed_region=meshed_region,\n    field=field,\n    return_source=True,\n    source_center=(0.56, 0.48, 0.0),\n    n_points=10,\n    source_radius=0.075,\n    max_time=10.0,\n)\npl2 = DpfPlotter()\npl2.add_field(field, meshed_region, opacity=0.2)\npl2.add_streamlines(\n    streamlines=streamline_obj,\n    source=source_obj,\n    radius=0.001,\n)\npl2.show_figure(show_axes=True)"
      ]
    },
    {
      "cell_type": "markdown",
      "metadata": {},
      "source": [
        "# Compute and plot streamlines from several sources\r\n"
      ]
    },
    {
      "cell_type": "markdown",
      "metadata": {},
      "source": [
        "# Get data to plot\r\n\r\nCreate data sources for fluid simulation result:\r\n"
      ]
    },
    {
      "cell_type": "code",
      "execution_count": null,
      "metadata": {
        "collapsed": false
      },
      "outputs": [],
      "source": [
        "files_cfx = examples.download_cfx_heating_coil()\nds_cfx = dpf.DataSources()\nds_cfx.set_result_file_path(files_cfx[\"cas\"], \"cas\")\nds_cfx.add_file_path(files_cfx[\"dat\"], \"dat\")"
      ]
    },
    {
      "cell_type": "markdown",
      "metadata": {},
      "source": [
        "Create model from fluid simulation result data sources:\r\n"
      ]
    },
    {
      "cell_type": "code",
      "execution_count": null,
      "metadata": {
        "collapsed": false
      },
      "outputs": [],
      "source": [
        "m_cfx = dpf.Model(ds_cfx)"
      ]
    },
    {
      "cell_type": "markdown",
      "metadata": {},
      "source": [
        "Get meshed region and velocity data\r\n"
      ]
    },
    {
      "cell_type": "code",
      "execution_count": null,
      "metadata": {
        "collapsed": false
      },
      "outputs": [],
      "source": [
        "meshed_region = m_cfx.metadata.meshed_region\nvelocity_op = m_cfx.results.velocity()\nfield = velocity_op.outputs.fields_container()[0]"
      ]
    },
    {
      "cell_type": "markdown",
      "metadata": {},
      "source": [
        "# Compute streamlines from different sources\r\n"
      ]
    },
    {
      "cell_type": "markdown",
      "metadata": {},
      "source": [
        "Compute streamlines from different sources:\r\n"
      ]
    },
    {
      "cell_type": "code",
      "execution_count": null,
      "metadata": {
        "collapsed": false
      },
      "outputs": [],
      "source": [
        "streamline_1, source_1 = compute_streamlines(\n    meshed_region=meshed_region,\n    field=field,\n    return_source=True,\n    source_radius=0.25,\n    source_center=(0.75, 0.0, 0.0),\n)\nstreamline_2, source_2 = compute_streamlines(\n    meshed_region=meshed_region,\n    field=field,\n    return_source=True,\n    source_radius=0.25,\n    source_center=(0.0, 0.75, 0.0),\n)\nstreamline_3, source_3 = compute_streamlines(\n    meshed_region=meshed_region,\n    field=field,\n    return_source=True,\n    source_radius=0.25,\n    source_center=(-0.75, 0.0, 0.0),\n)\nstreamline_4, source_4 = compute_streamlines(\n    meshed_region=meshed_region,\n    field=field,\n    return_source=True,\n    source_radius=0.25,\n    source_center=(0.0, -0.75, 0.0),\n)"
      ]
    },
    {
      "cell_type": "markdown",
      "metadata": {},
      "source": [
        "# Plot streamlines from different sources\r\n"
      ]
    },
    {
      "cell_type": "code",
      "execution_count": null,
      "metadata": {
        "collapsed": false
      },
      "outputs": [],
      "source": [
        "pl = DpfPlotter()\npl.add_field(field, meshed_region, opacity=0.2)\npl.add_streamlines(\n    streamlines=streamline_1,\n    source=source_1,\n    radius=0.007,\n)\npl.add_streamlines(\n    streamlines=streamline_2,\n    source=source_2,\n    radius=0.007,\n)\npl.add_streamlines(\n    streamlines=streamline_3,\n    source=source_3,\n    radius=0.007,\n)\npl.add_streamlines(\n    streamlines=streamline_4,\n    source=source_4,\n    radius=0.007,\n)\npl.show_figure(show_axes=True)"
      ]
    }
  ],
  "metadata": {
    "kernelspec": {
      "display_name": "Python 3",
      "language": "python",
      "name": "python3"
    },
    "language_info": {
      "codemirror_mode": {
        "name": "ipython",
        "version": 3
      },
      "file_extension": ".py",
      "mimetype": "text/x-python",
      "name": "python",
      "nbconvert_exporter": "python",
      "pygments_lexer": "ipython3",
      "version": "3.9.13"
    }
  },
  "nbformat": 4,
  "nbformat_minor": 0
}