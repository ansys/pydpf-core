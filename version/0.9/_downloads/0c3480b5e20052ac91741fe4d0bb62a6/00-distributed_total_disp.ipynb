{
  "cells": [
    {
      "cell_type": "code",
      "execution_count": null,
      "metadata": {
        "collapsed": false
      },
      "outputs": [],
      "source": [
        "%matplotlib inline"
      ]
    },
    {
      "cell_type": "markdown",
      "metadata": {},
      "source": [
        "# Postprocessing of displacement on distributed processes {#ref_distributed_total_disp}\r\n\r\nThis diagram helps you to understand this example. It shows the operator\r\nchain that is used to compute the final result.\r\n\r\n::: graphviz\r\n\r\ndigraph foo {\r\n\r\n:   graph \\[pad=\\\"0\\\", nodesep=\\\"0.3\\\", ranksep=\\\"0.3\\\"\\] node\r\n    \\[shape=box, style=filled, fillcolor=\\\"#ffcc00\\\", margin=\\\"0\\\"\\];\r\n    rankdir=LR; splines=line;\r\n\r\n    disp01 \\[label=\\\"displacement\\\"\\]; disp02\r\n    \\[label=\\\"displacement\\\"\\]; norm01 \\[label=\\\"norm\\\"\\]; norm02\r\n    \\[label=\\\"norm\\\"\\];\r\n\r\n    subgraph cluster_1 {\r\n\r\n    :   ds01 \\[label=\\\"data_src\\\", shape=box, style=filled,\r\n        fillcolor=cadetblue2\\];\r\n\r\n        ds01 -\\> disp01 \\[style=dashed\\]; disp01 -\\> norm01;\r\n\r\n        label=\\\"Server 1\\\"; style=filled; fillcolor=lightgrey;\r\n\r\n    }\r\n\r\n    subgraph cluster_2 {\r\n\r\n    :   ds02 \\[label=\\\"data_src\\\", shape=box, style=filled,\r\n        fillcolor=cadetblue2\\];\r\n\r\n        ds02 -\\> disp02 \\[style=dashed\\]; disp02 -\\> norm02;\r\n\r\n        label=\\\"Server 2\\\"; style=filled; fillcolor=lightgrey;\r\n\r\n    }\r\n\r\n    norm01 -\\> \\\"merge\\\"; norm02 -\\> \\\"merge\\\";\r\n\r\n}\r\n:::\r\n"
      ]
    },
    {
      "cell_type": "markdown",
      "metadata": {},
      "source": [
        "Import the `dpf-core` module and its examples files.\r\n"
      ]
    },
    {
      "cell_type": "code",
      "execution_count": null,
      "metadata": {
        "collapsed": false
      },
      "outputs": [],
      "source": [
        "import os\nfrom ansys.dpf import core as dpf\nfrom ansys.dpf.core import examples\nfrom ansys.dpf.core import operators as ops"
      ]
    },
    {
      "cell_type": "markdown",
      "metadata": {},
      "source": [
        "Configure the servers. Make a list of IP addresses and port numbers that\r\nDPF servers start and listen on. Operator instances are created on each\r\nof these servers so that each can address a different result file.\r\n\r\nThis example postprocesses an analysis distributed in two files.\r\nConsequently, it requires two remote processes.\r\n\r\nTo make it easier, this example starts local servers. However, you can\r\nconnect to any existing servers on your network.\r\n"
      ]
    },
    {
      "cell_type": "code",
      "execution_count": null,
      "metadata": {
        "collapsed": false
      },
      "outputs": [],
      "source": [
        "config = dpf.AvailableServerConfigs.InProcessServer\nif \"DPF_DOCKER\" in os.environ.keys():\n    # If running DPF on Docker, you cannot start an InProcessServer\n    config = dpf.AvailableServerConfigs.GrpcServer\nglobal_server = dpf.start_local_server(as_global=True, config=config)\n\nremote_servers = [\n    dpf.start_local_server(as_global=False, config=dpf.AvailableServerConfigs.GrpcServer),\n    dpf.start_local_server(as_global=False, config=dpf.AvailableServerConfigs.GrpcServer),\n]\nips = [remote_server.ip for remote_server in remote_servers]\nports = [remote_server.port for remote_server in remote_servers]"
      ]
    },
    {
      "cell_type": "markdown",
      "metadata": {},
      "source": [
        "Print the IP addresses and ports.\r\n"
      ]
    },
    {
      "cell_type": "code",
      "execution_count": null,
      "metadata": {
        "collapsed": false
      },
      "outputs": [],
      "source": [
        "print(\"ips:\", ips)\nprint(\"ports:\", ports)"
      ]
    },
    {
      "cell_type": "markdown",
      "metadata": {},
      "source": [
        "Send files to the temporary directory if they are not in shared memory.\r\n"
      ]
    },
    {
      "cell_type": "code",
      "execution_count": null,
      "metadata": {
        "collapsed": false
      },
      "outputs": [],
      "source": [
        "files = examples.download_distributed_files(return_local_path=True)\nserver_file_paths = [\n    dpf.upload_file_in_tmp_folder(files[0], server=remote_servers[0]),\n    dpf.upload_file_in_tmp_folder(files[1], server=remote_servers[1]),\n]"
      ]
    },
    {
      "cell_type": "markdown",
      "metadata": {},
      "source": [
        "# Create operators on each server\r\n\r\nOn each server, create two operators, one for displacement computations\r\nand one for norm computations. Define their data sources:\r\n"
      ]
    },
    {
      "cell_type": "code",
      "execution_count": null,
      "metadata": {
        "collapsed": false
      },
      "outputs": [],
      "source": [
        "# - The displacement operator receives data from the data file in its respective\n#   server.\n# - The norm operator, which is chained to the displacement operator, receives\n#   input from the output of the displacement operator.\n#\nremote_operators = []\nfor i, server in enumerate(remote_servers):\n    displacement = ops.result.displacement(server=server)\n    norm = ops.math.norm_fc(displacement, server=server)\n    remote_operators.append(norm)\n    ds = dpf.DataSources(server_file_paths[i], server=server)\n    displacement.inputs.data_sources(ds)"
      ]
    },
    {
      "cell_type": "markdown",
      "metadata": {},
      "source": [
        "# Create an operator to merge results\r\n\r\nCreate the `merge_fields_containers` operator to merge the results.\r\n"
      ]
    },
    {
      "cell_type": "code",
      "execution_count": null,
      "metadata": {
        "collapsed": false
      },
      "outputs": [],
      "source": [
        "merge = ops.utility.merge_fields_containers()"
      ]
    },
    {
      "cell_type": "markdown",
      "metadata": {},
      "source": [
        "# Connect the operators together and get the output\r\n"
      ]
    },
    {
      "cell_type": "code",
      "execution_count": null,
      "metadata": {
        "collapsed": false
      },
      "outputs": [],
      "source": [
        "for i, server in enumerate(remote_servers):\n    merge.connect(i, remote_operators[i], 0)\n\nfc = merge.get_output(0, dpf.types.fields_container)\nprint(fc)\nprint(fc[0].min().data)\nprint(fc[0].max().data)"
      ]
    }
  ],
  "metadata": {
    "kernelspec": {
      "display_name": "Python 3",
      "language": "python",
      "name": "python3"
    },
    "language_info": {
      "codemirror_mode": {
        "name": "ipython",
        "version": 3
      },
      "file_extension": ".py",
      "mimetype": "text/x-python",
      "name": "python",
      "nbconvert_exporter": "python",
      "pygments_lexer": "ipython3",
      "version": "3.8.10"
    }
  },
  "nbformat": 4,
  "nbformat_minor": 0
}