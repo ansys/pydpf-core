{
  "cells": [
    {
      "cell_type": "code",
      "execution_count": null,
      "metadata": {
        "collapsed": false
      },
      "outputs": [],
      "source": [
        "%matplotlib inline"
      ]
    },
    {
      "cell_type": "markdown",
      "metadata": {},
      "source": [
        "::: {#ref_basic_cyclic}\r\nGet base and duplicate sectors (real and imaginary) results for modal\r\ncyclic symmetry\r\n\\~\\~\\~\\~\\~\\~\\~\\~\\~\\~\\~\\~\\~\\~\\~\\~\\~\\~\\~\\~\\~\\~\\~\\~\\~\\~\\~\\~\\~\\~\\~\\~\\~\\~\\~\\~\\~\\~\\~\\~\\~\\~\\~\\~\\~\\~\\~\\~\\~\\~\\~\\~\\~\\~\\~\\~\\~\\~\\~\\~\\~\\~\\~\\~\\~\\~\\~\\~\\~\\~\\~\\~\\~\\~\\~\\~\\~\\~\\~\\~\\~\\~\\~\\~\r\n:::\r\n\r\nThis example shows how to extract results from a modal cyclic symmetry\r\nmodel.\r\n"
      ]
    },
    {
      "cell_type": "code",
      "execution_count": null,
      "metadata": {
        "collapsed": false
      },
      "outputs": [],
      "source": [
        "from ansys.dpf import core as dpf\nfrom ansys.dpf.core import examples"
      ]
    },
    {
      "cell_type": "markdown",
      "metadata": {},
      "source": [
        "Create the model and display the state of the result.\r\n"
      ]
    },
    {
      "cell_type": "code",
      "execution_count": null,
      "metadata": {
        "collapsed": false
      },
      "outputs": [],
      "source": [
        "model = dpf.Model(examples.find_simple_cyclic())\nprint(model)"
      ]
    },
    {
      "cell_type": "markdown",
      "metadata": {},
      "source": [
        "# Get base and duplicate sectors displacement results\r\n\r\nBy default, the result providers (stress, displacement, and so on) will\r\nreturn results for base and duplicate sectors for a cyclic symmetry\r\nmodel.\r\n"
      ]
    },
    {
      "cell_type": "code",
      "execution_count": null,
      "metadata": {
        "collapsed": false
      },
      "outputs": [],
      "source": [
        "# Create displacement operator\nu_cyc = model.results.displacement.on_all_time_freqs()\nfields = u_cyc.outputs.fields_container()"
      ]
    },
    {
      "cell_type": "markdown",
      "metadata": {},
      "source": [
        "The output fields container print displays the organization of the\r\ndifferent fields in the container. The label \\\"base_sector\\\" gives\r\naccess to base sectors results with base_sector=1 and duplicate sector\r\nwith base_sector=0 for all modes. The print also displays that there is\r\nno duplicate sectors for the first 6 modes. Indeed, modes with harmonic\r\nindex 0 have 0.0 displacement, stresses\\... on duplicate sectors.\r\n"
      ]
    },
    {
      "cell_type": "code",
      "execution_count": null,
      "metadata": {
        "collapsed": false
      },
      "outputs": [],
      "source": [
        "print(fields)\nprint(model.metadata.time_freq_support)\n\n# plot mode 7 base sector (real) result\nmode_7_base = fields.get_field({\"base_sector\": 1, \"time\": 7})\nmodel.metadata.meshed_region.plot(mode_7_base)\n\n# plot mode 7 duplicate sector (imaginary) result\nmode_7_duplicate = fields.get_field({\"base_sector\": 0, \"time\": 7})\nmodel.metadata.meshed_region.plot(mode_7_duplicate)"
      ]
    },
    {
      "cell_type": "markdown",
      "metadata": {},
      "source": [
        "# Get displacement results on the first sector with a cyclic phase\r\n\r\n`ansys.dpf.result.cyclic_expanded_displacement`{.interpreted-text\r\nrole=\"class\"} gives access to all cyclic expansion configuration. By\r\ndefault all sectors will be expanded. The cyclic phase (in degree) can\r\nbe changed with the phi argument.\r\n"
      ]
    },
    {
      "cell_type": "code",
      "execution_count": null,
      "metadata": {
        "collapsed": false
      },
      "outputs": [],
      "source": [
        "u_cyc = dpf.operators.result.cyclic_expanded_displacement(\n    streams_container=model.metadata.streams_provider,\n    sectors_to_expand=[0],\n    time_scoping=[7],\n    phi=0.0,\n)\n# # get the mesh expanded on the first sector for consistency between results and mesh\nmesh_provider = model.metadata.mesh_provider\nmesh_provider.inputs.read_cyclic(2)  # read_cyclic=2 allows to expand cyclic result\nmesh_provider.connect(18, [0])  # connect the sectors_to_expand\nmesh = mesh_provider.outputs.mesh()\n\nmode_7_base = u_cyc.outputs.fields_container()\nprint(mode_7_base)\nmesh.plot(mode_7_base[0])\n\n# a phase phi=90\u00b0 is equivalent to returning the duplicate sector results:\nu_cyc.inputs.phi(90.0)\nmode_7_duplicate = u_cyc.outputs.fields_container()\nprint(mode_7_duplicate)\nmesh.plot(mode_7_duplicate[0])\n\n# with phi=45\u00b0\nu_cyc.inputs.phi(45.0)\nmode_7_45 = u_cyc.outputs.fields_container()\nprint(mode_7_45)\nmesh.plot(mode_7_45[0])"
      ]
    },
    {
      "cell_type": "markdown",
      "metadata": {},
      "source": [
        "# Get nodal stress results on the first sector with a cyclic phase\r\n"
      ]
    },
    {
      "cell_type": "code",
      "execution_count": null,
      "metadata": {
        "collapsed": false
      },
      "outputs": [],
      "source": [
        "s_cyc = dpf.operators.result.cyclic_expanded_stress(\n    streams_container=model.metadata.streams_provider,\n    sectors_to_expand=[0],\n    time_scoping=[7],\n    phi=45.0,\n    requested_location=dpf.locations.nodal,\n)\n\ns_7_45 = s_cyc.outputs.fields_container()\nprint(s_7_45)\nmesh.plot(s_7_45[0])"
      ]
    },
    {
      "cell_type": "markdown",
      "metadata": {},
      "source": [
        "# Get elemental_nodal stress results on the first sector with a cyclic phase\r\n\r\nElemental nodal is the default result location for stress and strain.\r\n"
      ]
    },
    {
      "cell_type": "code",
      "execution_count": null,
      "metadata": {
        "collapsed": false
      },
      "outputs": [],
      "source": [
        "s_cyc = dpf.operators.result.cyclic_expanded_stress(\n    streams_container=model.metadata.streams_provider,\n    sectors_to_expand=[0],\n    time_scoping=[7],\n    phi=45.0,\n)\n\ns_7_45 = s_cyc.outputs.fields_container()\nprint(s_7_45)\n\n# To average the result for each element\nto_elemental = dpf.operators.averaging.to_elemental_fc(s_cyc)\ns_7_45 = to_elemental.outputs.fields_container()\nprint(s_7_45)\nmesh.plot(s_7_45[0])"
      ]
    },
    {
      "cell_type": "markdown",
      "metadata": {},
      "source": [
        "# Get nodal stress results expanded\r\n"
      ]
    },
    {
      "cell_type": "code",
      "execution_count": null,
      "metadata": {
        "collapsed": false
      },
      "outputs": [],
      "source": [
        "s_cyc = dpf.operators.result.cyclic_expanded_stress(\n    streams_container=model.metadata.streams_provider,\n    time_scoping=[7],\n    requested_location=dpf.locations.nodal,\n)\n\nmesh_provider = model.metadata.mesh_provider\nmesh_provider.inputs.read_cyclic(2)  # read_cyclic=2 allows to expand cyclic result\nmesh = mesh_provider.outputs.mesh()\ns = s_cyc.outputs.fields_container()\n\nmesh.plot(s[0])"
      ]
    }
  ],
  "metadata": {
    "kernelspec": {
      "display_name": "Python 3",
      "language": "python",
      "name": "python3"
    },
    "language_info": {
      "codemirror_mode": {
        "name": "ipython",
        "version": 3
      },
      "file_extension": ".py",
      "mimetype": "text/x-python",
      "name": "python",
      "nbconvert_exporter": "python",
      "pygments_lexer": "ipython3",
      "version": "3.8.10"
    }
  },
  "nbformat": 4,
  "nbformat_minor": 0
}