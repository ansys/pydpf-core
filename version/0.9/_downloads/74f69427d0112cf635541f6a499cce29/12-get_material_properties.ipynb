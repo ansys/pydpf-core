{
  "cells": [
    {
      "cell_type": "code",
      "execution_count": null,
      "metadata": {
        "collapsed": false
      },
      "outputs": [],
      "source": [
        "%matplotlib inline"
      ]
    },
    {
      "cell_type": "markdown",
      "metadata": {},
      "source": [
        "# Get material properties from the result file {#ref_get_material_properties}\r\n\r\nMaterial properties are assigned to each element in APDL and by default\r\nthey are written out in the APDL result file. This example shows how you\r\ncan extract material properties of each element using PyDPF-Core.\r\n"
      ]
    },
    {
      "cell_type": "code",
      "execution_count": null,
      "metadata": {
        "collapsed": false
      },
      "outputs": [],
      "source": [
        "# Import necessary modules\nfrom ansys.dpf import core as dpf\nfrom ansys.dpf.core import examples"
      ]
    },
    {
      "cell_type": "markdown",
      "metadata": {},
      "source": [
        "Create a model object to establish a connection with an example result\r\nfile.\r\n"
      ]
    },
    {
      "cell_type": "code",
      "execution_count": null,
      "metadata": {
        "collapsed": false
      },
      "outputs": [],
      "source": [
        "model = dpf.Model(examples.find_simple_bar())"
      ]
    },
    {
      "cell_type": "markdown",
      "metadata": {},
      "source": [
        "Get the\r\n`meshed_region <ansys.dpf.core.meshed_region.MeshedRegion>`{.interpreted-text\r\nrole=\"class\"} from model\\'s metadata.\r\n"
      ]
    },
    {
      "cell_type": "code",
      "execution_count": null,
      "metadata": {
        "collapsed": false
      },
      "outputs": [],
      "source": [
        "mesh = model.metadata.meshed_region\nprint(mesh)"
      ]
    },
    {
      "cell_type": "markdown",
      "metadata": {},
      "source": [
        "See available properties in the `meshed_region\r\n<ansys.dpf.core.meshed_region.MeshedRegion>`{.interpreted-text\r\nrole=\"class\"}.\r\n"
      ]
    },
    {
      "cell_type": "code",
      "execution_count": null,
      "metadata": {
        "collapsed": false
      },
      "outputs": [],
      "source": [
        "print(mesh.available_property_fields)"
      ]
    },
    {
      "cell_type": "markdown",
      "metadata": {},
      "source": [
        "Get all material properties.\r\n"
      ]
    },
    {
      "cell_type": "code",
      "execution_count": null,
      "metadata": {
        "collapsed": false
      },
      "outputs": [],
      "source": [
        "mats = mesh.property_field(\"mat\")"
      ]
    },
    {
      "cell_type": "markdown",
      "metadata": {},
      "source": [
        "Use the DPF operator `mapdl_material_properties\r\n<ansys.dpf.core.operators.result.mapdl_material_properties.mapdl_material_properties>`{.interpreted-text\r\nrole=\"class\"} to extract data for the \\# materials - [mats]{.title-ref}.\r\nFor the input `properties_name`, you need the correct material property\r\nstring. To see which strings are supported, you can print the operator\r\nhelp.\r\n"
      ]
    },
    {
      "cell_type": "code",
      "execution_count": null,
      "metadata": {
        "collapsed": false
      },
      "outputs": [],
      "source": [
        "mat_prop = model.operator(\"mapdl_material_properties\")\nmat_prop.inputs.materials.connect(mats)"
      ]
    },
    {
      "cell_type": "markdown",
      "metadata": {},
      "source": [
        "For the input pin `properties_name`, you need the correct material\r\nproperty string. To see which strings are supported, you can print the\r\noperator help.\r\n"
      ]
    },
    {
      "cell_type": "code",
      "execution_count": null,
      "metadata": {
        "collapsed": false
      },
      "outputs": [],
      "source": [
        "print(mat_prop)"
      ]
    },
    {
      "cell_type": "markdown",
      "metadata": {},
      "source": [
        "To extract the Young\\'s modulus for element ID `1`, first we need to get\r\nthe mat_id for EID `1`.\r\n"
      ]
    },
    {
      "cell_type": "code",
      "execution_count": null,
      "metadata": {
        "collapsed": false
      },
      "outputs": [],
      "source": [
        "mat_id = mats.get_entity_data_by_id(1)"
      ]
    },
    {
      "cell_type": "markdown",
      "metadata": {},
      "source": [
        "And then use the mat_id get the material property.\r\n"
      ]
    },
    {
      "cell_type": "code",
      "execution_count": null,
      "metadata": {
        "collapsed": false
      },
      "outputs": [],
      "source": [
        "mat_prop.inputs.properties_name.connect(\"EX\")\nmat_field = mat_prop.outputs.properties_value.get_data()[0]\nprint(mat_field.get_entity_data_by_id(mat_id[0]))"
      ]
    },
    {
      "cell_type": "markdown",
      "metadata": {},
      "source": [
        "Extract Poisson\\'s ratio for element ID `1`.\r\n"
      ]
    },
    {
      "cell_type": "code",
      "execution_count": null,
      "metadata": {
        "collapsed": false
      },
      "outputs": [],
      "source": [
        "mat_prop.inputs.properties_name.connect(\"NUXY\")\nmat_field = mat_prop.outputs.properties_value.get_data()[0]\nprint(mat_field.get_entity_data_by_id(mat_id[0]))"
      ]
    }
  ],
  "metadata": {
    "kernelspec": {
      "display_name": "Python 3",
      "language": "python",
      "name": "python3"
    },
    "language_info": {
      "codemirror_mode": {
        "name": "ipython",
        "version": 3
      },
      "file_extension": ".py",
      "mimetype": "text/x-python",
      "name": "python",
      "nbconvert_exporter": "python",
      "pygments_lexer": "ipython3",
      "version": "3.8.10"
    }
  },
  "nbformat": 4,
  "nbformat_minor": 0
}