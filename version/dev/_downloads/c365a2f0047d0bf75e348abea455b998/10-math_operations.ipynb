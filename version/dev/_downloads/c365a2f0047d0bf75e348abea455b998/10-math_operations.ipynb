{
  "cells": [
    {
      "cell_type": "code",
      "execution_count": null,
      "metadata": {
        "collapsed": false
      },
      "outputs": [],
      "source": [
        "%matplotlib inline"
      ]
    },
    {
      "cell_type": "markdown",
      "metadata": {},
      "source": [
        "# Mathematical Operations {#ref_math_operators_example}\r\n\r\nDPF provides operators for implementing mathematical operations, ranging\r\nfrom addition and multiplication to FFT and QR solving.\r\n\r\nFor a complete list, see `ref_dpf_operators_reference`{.interpreted-text\r\nrole=\"ref\"}, under the math section.\r\n"
      ]
    },
    {
      "cell_type": "code",
      "execution_count": null,
      "metadata": {
        "collapsed": false
      },
      "outputs": [],
      "source": [
        "# Import the necessary modules\nimport ansys.dpf.core as dpf"
      ]
    },
    {
      "cell_type": "markdown",
      "metadata": {},
      "source": [
        "# Addition\r\n"
      ]
    },
    {
      "cell_type": "code",
      "execution_count": null,
      "metadata": {
        "collapsed": false
      },
      "outputs": [],
      "source": [
        "# Initialize Fields\nnum_entities = 2\nfield1 = dpf.Field(nentities=2)\nfield2 = dpf.Field(nentities=2)\n\n# By default, Fields contain 3d vectors.\n# So with three entities we need nine values.\nfield1.data = [1.0, 2.0, 3.0, 4.0, 5.0, 6.0]\nfield2.data = [1.0, 2.0, 3.0, 4.0, 5.0, 6.0]\n\nfield1.scoping.ids = range(num_entities)\nfield2.scoping.ids = range(num_entities)"
      ]
    },
    {
      "cell_type": "markdown",
      "metadata": {},
      "source": [
        "Once the fields are ready, we can instantiate an operator.\r\n"
      ]
    },
    {
      "cell_type": "code",
      "execution_count": null,
      "metadata": {
        "collapsed": false
      },
      "outputs": [],
      "source": [
        "add_op = dpf.operators.math.add(field1, field2)"
      ]
    },
    {
      "cell_type": "markdown",
      "metadata": {},
      "source": [
        "Finally, we use eval() to compute and retrieve the result.\r\n"
      ]
    },
    {
      "cell_type": "code",
      "execution_count": null,
      "metadata": {
        "collapsed": false
      },
      "outputs": [],
      "source": [
        "field3 = add_op.eval()\n\n# = [[2. 4. 6.] [8. 10. 12.]]\nprint(field3.data)"
      ]
    },
    {
      "cell_type": "markdown",
      "metadata": {},
      "source": [
        "# Dot product\r\n"
      ]
    },
    {
      "cell_type": "code",
      "execution_count": null,
      "metadata": {
        "collapsed": false
      },
      "outputs": [],
      "source": [
        "dot_op = dpf.operators.math.generalized_inner_product(field1, field2)\n\n# (1. * 1.) + (2. * 2.) + (3. * 3.) = 14.\n# (4. * 4.) + (5. * 5.) + (6. * 6.) = 77.\nfield3 = dot_op.eval()\nprint(field3.data)"
      ]
    },
    {
      "cell_type": "markdown",
      "metadata": {},
      "source": [
        "# Power\r\n"
      ]
    },
    {
      "cell_type": "code",
      "execution_count": null,
      "metadata": {
        "collapsed": false
      },
      "outputs": [],
      "source": [
        "field = dpf.Field(nentities=1)\nfield1.data = [1.0, 2.0, 3.0]\nfield1.scoping.ids = [1]\n\npow_op = dpf.operators.math.pow(field1, 3.0)\n\n# [1. 8. 27.]\nfield3 = pow_op.eval()\nprint(field3.data)"
      ]
    },
    {
      "cell_type": "markdown",
      "metadata": {},
      "source": [
        "# L2 norm\r\n"
      ]
    },
    {
      "cell_type": "code",
      "execution_count": null,
      "metadata": {
        "collapsed": false
      },
      "outputs": [],
      "source": [
        "field1.data = [16.0, -8.0, 2.0]\nnorm_op = dpf.operators.math.norm(field1)\n\n# [ 18. ]\nfield3 = norm_op.eval()\nprint(field3.data)"
      ]
    },
    {
      "cell_type": "markdown",
      "metadata": {},
      "source": [
        "# Accumulate\r\n\r\nFirst we define fields. By default, fields represent 3D vectors so one\r\nelementary data is a 3D vector. The optional ponderation field is a\r\nfield which takes one value per entity, so we need to change its\r\ndimensionality (1D).\r\n"
      ]
    },
    {
      "cell_type": "code",
      "execution_count": null,
      "metadata": {
        "collapsed": false
      },
      "outputs": [],
      "source": [
        "num_entities = 3\ninput_field = dpf.Field(nentities=num_entities)\nponderation_field = dpf.Field(num_entities)\nponderation_field.dimensionality = dpf.Dimensionality([1])\n\ninput_field.scoping.ids = range(num_entities)\nponderation_field.scoping.ids = range(num_entities)"
      ]
    },
    {
      "cell_type": "markdown",
      "metadata": {},
      "source": [
        "Fill fields with data. Add nine values because there are three entities.\r\n"
      ]
    },
    {
      "cell_type": "code",
      "execution_count": null,
      "metadata": {
        "collapsed": false
      },
      "outputs": [],
      "source": [
        "input_field.data = [-2.0, 2.0, 4.0, -5.0, 0.5, 1.0, 7.0, 3.0, -3.0]"
      ]
    },
    {
      "cell_type": "markdown",
      "metadata": {},
      "source": [
        "Three weights, one per entity.\r\n"
      ]
    },
    {
      "cell_type": "code",
      "execution_count": null,
      "metadata": {
        "collapsed": false
      },
      "outputs": [],
      "source": [
        "ponderation_field.data = [0.5, 2.0, 0.5]"
      ]
    },
    {
      "cell_type": "markdown",
      "metadata": {},
      "source": [
        "Retrieve the result.\r\n"
      ]
    },
    {
      "cell_type": "code",
      "execution_count": null,
      "metadata": {
        "collapsed": false
      },
      "outputs": [],
      "source": [
        "acc = dpf.operators.math.accumulate(fieldA=input_field, ponderation=ponderation_field)\noutput_field = acc.outputs.field()\n\n# (-2.0 * 0.5) + (-5.0 * 2.0) + (7.0 * 0.5)  = -7.5\n# (2.0  * 0.5) + (0.5  * 2.0) + (3.0 * 0.5)  = 3.5\n# (4.0  * 0.5) + (1.0  * 2.0) + (-3.0 * 0.5) = 2.5\nprint(output_field.data)"
      ]
    },
    {
      "cell_type": "markdown",
      "metadata": {},
      "source": [
        "# With scoping\r\n"
      ]
    },
    {
      "cell_type": "code",
      "execution_count": null,
      "metadata": {
        "collapsed": false
      },
      "outputs": [],
      "source": [
        "field1.data = [1.0, 2.0, 3.0, 4.0, 5.0, 6.0, 7.0, 8.0, 9.0]\nfield2.data = [1.0, 2.0, 3.0, 4.0, 5.0, 6.0, 7.0, 8.0, 9.0]"
      ]
    },
    {
      "cell_type": "markdown",
      "metadata": {},
      "source": [
        "Next, we need to provide information about the scoping. DPF needs to\r\nknow the IDs of the data we just provided, so that it can apply an\r\noperator on a subset of the original data.\r\n\r\nBy providing these integers we only select the data with an ID in\r\ncommon. Here we are selecting the third elementary data of the first\r\nfield, and the first elementary data of the second field, Other\r\nelementary data is not taken into account when using an operator that\r\nneeds two operands.\r\n"
      ]
    },
    {
      "cell_type": "code",
      "execution_count": null,
      "metadata": {
        "collapsed": false
      },
      "outputs": [],
      "source": [
        "field1.scoping.ids = [1, 2, 3]\nfield2.scoping.ids = [3, 4, 5]\n\nadd_op = dpf.operators.math.add(field1, field2)\nfield3 = add_op.eval()\n\n# Only the third entity was changed\n# because it is the only operator where two operands were provided.\nprint(field3.data)\n# [[8. 10. 12.]]\nprint(field3.get_entity_data_by_id(3))"
      ]
    },
    {
      "cell_type": "markdown",
      "metadata": {},
      "source": [
        "Dot product\r\n"
      ]
    },
    {
      "cell_type": "code",
      "execution_count": null,
      "metadata": {
        "collapsed": false
      },
      "outputs": [],
      "source": [
        "dot_op = dpf.operators.math.generalized_inner_product(field1, field2)\n\n# We obtain zeros for IDs where there could not be two operands.\n# (7. * 1.) + (8. * 2.) + (9. * 3.) = 50.\n# [0. 0. 50. 0. 0.]\nfield3 = dot_op.eval()\nprint(field3.data)"
      ]
    }
  ],
  "metadata": {
    "kernelspec": {
      "display_name": "Python 3",
      "language": "python",
      "name": "python3"
    },
    "language_info": {
      "codemirror_mode": {
        "name": "ipython",
        "version": 3
      },
      "file_extension": ".py",
      "mimetype": "text/x-python",
      "name": "python",
      "nbconvert_exporter": "python",
      "pygments_lexer": "ipython3",
      "version": "3.9.13"
    }
  },
  "nbformat": 4,
  "nbformat_minor": 0
}