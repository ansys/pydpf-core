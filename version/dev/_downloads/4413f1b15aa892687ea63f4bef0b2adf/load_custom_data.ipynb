{
 "cells": [
  {
   "cell_type": "code",
   "execution_count": 1,
   "id": "374a8806",
   "metadata": {
    "execution": {
     "iopub.execute_input": "2025-11-01T11:02:54.315590Z",
     "iopub.status.busy": "2025-11-01T11:02:54.315068Z",
     "iopub.status.idle": "2025-11-01T11:02:54.323647Z",
     "shell.execute_reply": "2025-11-01T11:02:54.322688Z"
    }
   },
   "outputs": [],
   "source": [
    "# Data for the scalar Fields (lists with 1 and 2 dimensions)\n",
    "data_1 = [6.0, 5.0, 4.0, 3.0, 2.0, 1.0]\n",
    "data_2 = [[12.0, 7.0, 8.0], [ 9.0, 31.0, 1.0]]\n",
    "\n",
    "# Data for the vector Fields (lists with 1 and 2 dimensions)\n",
    "data_3 = [4.0, 1.0, 8.0, 5.0, 7.0, 9.0]\n",
    "data_4 = [6.0, 5.0, 4.0, 3.0, 2.0, 1.0, 9.0, 7.0, 8.0, 10.0]\n",
    "data_5 = [[8.0, 4.0, 3.0], [31.0, 5.0, 7.0]]\n",
    "\n",
    "# Data for the matrix Fields\n",
    "data_6 = [3.0, 2.0, 1.0, 7.0]\n",
    "data_7 = [15.0, 3.0, 9.0, 31.0, 1.0, 42.0, 5.0, 68.0, 13.0]\n",
    "data_8 = [[12.0, 7.0, 8.0], [ 1.0, 4.0, 27.0], [98.0, 4.0, 6.0]]"
   ]
  },
  {
   "cell_type": "code",
   "execution_count": 2,
   "id": "bc31e376",
   "metadata": {
    "execution": {
     "iopub.execute_input": "2025-11-01T11:02:54.325673Z",
     "iopub.status.busy": "2025-11-01T11:02:54.324441Z",
     "iopub.status.idle": "2025-11-01T11:02:54.329231Z",
     "shell.execute_reply": "2025-11-01T11:02:54.328850Z"
    }
   },
   "outputs": [],
   "source": [
    "# Data for the scalar Fields\n",
    "data_9 = [24.0]\n",
    "\n",
    "# Data for the vector Fields\n",
    "data_10 = [47.0, 33.0, 5.0]\n",
    "\n",
    "# Data for the matrix Fields\n",
    "data_11 = [8.0, 2.0, 4.0, 64.0, 32.0, 47.0, 11.0, 23.0, 1.0]"
   ]
  },
  {
   "cell_type": "code",
   "execution_count": 3,
   "id": "f6783ace",
   "metadata": {
    "execution": {
     "iopub.execute_input": "2025-11-01T11:02:54.331247Z",
     "iopub.status.busy": "2025-11-01T11:02:54.331247Z",
     "iopub.status.idle": "2025-11-01T11:02:55.741851Z",
     "shell.execute_reply": "2025-11-01T11:02:55.741392Z"
    }
   },
   "outputs": [],
   "source": [
    "# Import the ``ansys.dpf.core`` module\n",
    "from ansys.dpf import core as dpf"
   ]
  },
  {
   "cell_type": "code",
   "execution_count": 4,
   "id": "3294a670",
   "metadata": {
    "execution": {
     "iopub.execute_input": "2025-11-01T11:02:55.743866Z",
     "iopub.status.busy": "2025-11-01T11:02:55.743866Z",
     "iopub.status.idle": "2025-11-01T11:02:55.747908Z",
     "shell.execute_reply": "2025-11-01T11:02:55.747481Z"
    }
   },
   "outputs": [],
   "source": [
    "# Define the number of entities\n",
    "num_entities_1 = 6"
   ]
  },
  {
   "cell_type": "code",
   "execution_count": 5,
   "id": "0c8fbfa4",
   "metadata": {
    "execution": {
     "iopub.execute_input": "2025-11-01T11:02:55.749933Z",
     "iopub.status.busy": "2025-11-01T11:02:55.749933Z",
     "iopub.status.idle": "2025-11-01T11:02:55.753449Z",
     "shell.execute_reply": "2025-11-01T11:02:55.752871Z"
    }
   },
   "outputs": [],
   "source": [
    "# Define the number of entities\n",
    "num_entities_2 = 2"
   ]
  },
  {
   "cell_type": "code",
   "execution_count": 6,
   "id": "0ae6ddff",
   "metadata": {
    "execution": {
     "iopub.execute_input": "2025-11-01T11:02:55.755471Z",
     "iopub.status.busy": "2025-11-01T11:02:55.755471Z",
     "iopub.status.idle": "2025-11-01T11:02:55.759507Z",
     "shell.execute_reply": "2025-11-01T11:02:55.758555Z"
    }
   },
   "outputs": [],
   "source": [
    "# Define the number of entities\n",
    "num_entities_3 = 1"
   ]
  },
  {
   "cell_type": "code",
   "execution_count": 7,
   "id": "7bc0d4d8",
   "metadata": {
    "execution": {
     "iopub.execute_input": "2025-11-01T11:02:55.761528Z",
     "iopub.status.busy": "2025-11-01T11:02:55.761528Z",
     "iopub.status.idle": "2025-11-01T11:02:55.763933Z",
     "shell.execute_reply": "2025-11-01T11:02:55.763933Z"
    }
   },
   "outputs": [],
   "source": [
    "# Define the number of entities\n",
    "num_entities_1 = 6"
   ]
  },
  {
   "cell_type": "code",
   "execution_count": 8,
   "id": "2c496e93",
   "metadata": {
    "execution": {
     "iopub.execute_input": "2025-11-01T11:02:55.765966Z",
     "iopub.status.busy": "2025-11-01T11:02:55.765966Z",
     "iopub.status.idle": "2025-11-01T11:02:56.224891Z",
     "shell.execute_reply": "2025-11-01T11:02:56.223531Z"
    }
   },
   "outputs": [
    {
     "name": "stdout",
     "output_type": "stream",
     "text": [
      "Scalar Field:  \n",
      " DPF  Field\n",
      "  Location: Nodal\n",
      "  Unit: \n",
      "  6 entities \n",
      "  Data: 1 components and 0 elementary data \n",
      " \n",
      "\n"
     ]
    }
   ],
   "source": [
    "# Instanciate the Field\n",
    "field_11 = dpf.Field(nentities=num_entities_1, nature=dpf.common.natures.scalar)\n",
    "\n",
    "# Set the scoping ids\n",
    "field_11.scoping.ids = range(num_entities_1)\n",
    "\n",
    "# Print the Field\n",
    "print(\"Scalar Field: \", '\\n',field_11, '\\n')"
   ]
  },
  {
   "cell_type": "code",
   "execution_count": 9,
   "id": "3a11f5d4",
   "metadata": {
    "execution": {
     "iopub.execute_input": "2025-11-01T11:02:56.226903Z",
     "iopub.status.busy": "2025-11-01T11:02:56.226903Z",
     "iopub.status.idle": "2025-11-01T11:02:56.233196Z",
     "shell.execute_reply": "2025-11-01T11:02:56.232245Z"
    }
   },
   "outputs": [
    {
     "name": "stdout",
     "output_type": "stream",
     "text": [
      "Scalar Field :  \n",
      " DPF  Field\n",
      "  Location: Nodal\n",
      "  Unit: \n",
      "  6 entities \n",
      "  Data: 1 components and 0 elementary data \n",
      " \n",
      "\n"
     ]
    }
   ],
   "source": [
    "# Instanciate the Field\n",
    "field_12 = dpf.Field(nentities=num_entities_1)\n",
    "\n",
    "# Use the Field.dimensionality method\n",
    "field_12.dimensionality = dpf.Dimensionality([1])\n",
    "\n",
    "# Set the scoping ids\n",
    "field_12.scoping.ids = range(num_entities_1)\n",
    "\n",
    "# Print the Field\n",
    "print(\"Scalar Field : \", '\\n',field_12, '\\n')"
   ]
  },
  {
   "cell_type": "code",
   "execution_count": 10,
   "id": "ecbd7838",
   "metadata": {
    "execution": {
     "iopub.execute_input": "2025-11-01T11:02:56.235217Z",
     "iopub.status.busy": "2025-11-01T11:02:56.235217Z",
     "iopub.status.idle": "2025-11-01T11:02:56.239248Z",
     "shell.execute_reply": "2025-11-01T11:02:56.238483Z"
    }
   },
   "outputs": [],
   "source": [
    "# Define the number of entities\n",
    "num_entities_2 = 2"
   ]
  },
  {
   "cell_type": "code",
   "execution_count": 11,
   "id": "a846bf54",
   "metadata": {
    "execution": {
     "iopub.execute_input": "2025-11-01T11:02:56.240487Z",
     "iopub.status.busy": "2025-11-01T11:02:56.240487Z",
     "iopub.status.idle": "2025-11-01T11:02:56.246342Z",
     "shell.execute_reply": "2025-11-01T11:02:56.245585Z"
    }
   },
   "outputs": [
    {
     "name": "stdout",
     "output_type": "stream",
     "text": [
      "3D vector Field :  \n",
      " DPF  Field\n",
      "  Location: Nodal\n",
      "  Unit: \n",
      "  2 entities \n",
      "  Data: 3 components and 0 elementary data \n",
      " \n",
      "\n"
     ]
    }
   ],
   "source": [
    "# Instantiate the Field\n",
    "field_21 = dpf.Field(nentities=num_entities_2)\n",
    "\n",
    "# Set the scoping ids\n",
    "field_21.scoping.ids = range(num_entities_2)\n",
    "\n",
    "# Print the Field\n",
    "print(\"3D vector Field : \", '\\n',field_21, '\\n')"
   ]
  },
  {
   "cell_type": "code",
   "execution_count": 12,
   "id": "33619788",
   "metadata": {
    "execution": {
     "iopub.execute_input": "2025-11-01T11:02:56.249120Z",
     "iopub.status.busy": "2025-11-01T11:02:56.248359Z",
     "iopub.status.idle": "2025-11-01T11:02:56.254406Z",
     "shell.execute_reply": "2025-11-01T11:02:56.253486Z"
    }
   },
   "outputs": [
    {
     "name": "stdout",
     "output_type": "stream",
     "text": [
      "5D vector Field (5D):  \n",
      " DPF  Field\n",
      "  Location: Nodal\n",
      "  Unit: \n",
      "  2 entities \n",
      "  Data: 5 components and 0 elementary data \n",
      " \n",
      "\n"
     ]
    }
   ],
   "source": [
    "# Instantiate the Field\n",
    "field_31 = dpf.Field(nentities=num_entities_2)\n",
    "\n",
    "# Use the Field.dimensionality method\n",
    "field_31.dimensionality = dpf.Dimensionality([5])\n",
    "\n",
    "# Set the scoping ids\n",
    "field_31.scoping.ids = range(num_entities_2)\n",
    "\n",
    "# Print the Field\n",
    "print(\"5D vector Field (5D): \", '\\n',field_31, '\\n')"
   ]
  },
  {
   "cell_type": "code",
   "execution_count": 13,
   "id": "e2b1f730",
   "metadata": {
    "execution": {
     "iopub.execute_input": "2025-11-01T11:02:56.256444Z",
     "iopub.status.busy": "2025-11-01T11:02:56.256444Z",
     "iopub.status.idle": "2025-11-01T11:02:56.262179Z",
     "shell.execute_reply": "2025-11-01T11:02:56.260811Z"
    }
   },
   "outputs": [
    {
     "name": "stdout",
     "output_type": "stream",
     "text": [
      "Scalar Field:  \n",
      " DPF  Field\n",
      "  Location: Nodal\n",
      "  Unit: \n",
      "  6 entities \n",
      "  Data: 1 components and 0 elementary data \n",
      " \n",
      "\n"
     ]
    }
   ],
   "source": [
    "# Create the scalar Field\n",
    "field_13 = dpf.fields_factory.create_scalar_field(num_entities=num_entities_1)\n",
    "\n",
    "# Set the scoping ids\n",
    "field_13.scoping.ids = range(num_entities_1)\n",
    "\n",
    "# Print the Field\n",
    "print(\"Scalar Field: \", '\\n',field_13, '\\n')"
   ]
  },
  {
   "cell_type": "code",
   "execution_count": 14,
   "id": "707aee32",
   "metadata": {
    "execution": {
     "iopub.execute_input": "2025-11-01T11:02:56.264519Z",
     "iopub.status.busy": "2025-11-01T11:02:56.264195Z",
     "iopub.status.idle": "2025-11-01T11:02:56.270263Z",
     "shell.execute_reply": "2025-11-01T11:02:56.269148Z"
    }
   },
   "outputs": [
    {
     "name": "stdout",
     "output_type": "stream",
     "text": [
      "Scalar Field:  \n",
      " DPF  Field\n",
      "  Location: Nodal\n",
      "  Unit: \n",
      "  6 entities \n",
      "  Data: 1 components and 6 elementary data \n",
      "\n",
      "  IDs                   data\n",
      "  ------------          ----------\n",
      "  0                     6.000000e+00   \n",
      "                        \n",
      "  1                     5.000000e+00   \n",
      "                        \n",
      "  2                     4.000000e+00   \n",
      "                        \n",
      "  ...\n",
      "\n",
      " \n",
      "\n"
     ]
    }
   ],
   "source": [
    "# Use the field_from_array function\n",
    "field_14 = dpf.fields_factory.field_from_array(arr=data_1)\n",
    "\n",
    "# Set the scoping ids\n",
    "field_14.scoping.ids = range(num_entities_1)\n",
    "\n",
    "# Print the Field\n",
    "print(\"Scalar Field: \", '\\n',field_14, '\\n')"
   ]
  },
  {
   "cell_type": "code",
   "execution_count": 15,
   "id": "2bc67091",
   "metadata": {
    "execution": {
     "iopub.execute_input": "2025-11-01T11:02:56.272545Z",
     "iopub.status.busy": "2025-11-01T11:02:56.272545Z",
     "iopub.status.idle": "2025-11-01T11:02:56.277368Z",
     "shell.execute_reply": "2025-11-01T11:02:56.277024Z"
    }
   },
   "outputs": [
    {
     "name": "stdout",
     "output_type": "stream",
     "text": [
      "Scalar Field (b):  \n",
      " DPF  Field\n",
      "  Location: Nodal\n",
      "  Unit: \n",
      "  6 entities \n",
      "  Data: 1 components and 6 elementary data \n",
      "\n",
      "  IDs                   data\n",
      "  ------------          ----------\n",
      "  0                     1.200000e+01   \n",
      "                        \n",
      "  1                     7.000000e+00   \n",
      "                        \n",
      "  2                     8.000000e+00   \n",
      "                        \n",
      "  ...\n",
      "\n",
      " \n",
      "\n"
     ]
    }
   ],
   "source": [
    "# Use the field_from_array function\n",
    "field_15 = dpf.fields_factory.field_from_array(arr=data_2)\n",
    "\n",
    "# Use the |Field.dimensionality| method\n",
    "field_15.dimensionality = dpf.Dimensionality([1])\n",
    "\n",
    "# Set the scoping ids\n",
    "field_15.scoping.ids = range(num_entities_1)\n",
    "\n",
    "# Print the Field\n",
    "print(\"Scalar Field (b): \", '\\n',field_15, '\\n')"
   ]
  },
  {
   "cell_type": "code",
   "execution_count": 16,
   "id": "384c3ef4",
   "metadata": {
    "execution": {
     "iopub.execute_input": "2025-11-01T11:02:56.280615Z",
     "iopub.status.busy": "2025-11-01T11:02:56.279387Z",
     "iopub.status.idle": "2025-11-01T11:02:56.286656Z",
     "shell.execute_reply": "2025-11-01T11:02:56.285125Z"
    }
   },
   "outputs": [
    {
     "name": "stdout",
     "output_type": "stream",
     "text": [
      "3D vector Field :  \n",
      " DPF  Field\n",
      "  Location: Nodal\n",
      "  Unit: \n",
      "  2 entities \n",
      "  Data: 3 components and 0 elementary data \n",
      " \n",
      "\n"
     ]
    }
   ],
   "source": [
    "# Use the create_vector_field function\n",
    "field_22 = dpf.fields_factory.create_vector_field(num_entities=num_entities_2, num_comp=3)\n",
    "\n",
    "# Set the scoping ids\n",
    "field_22.scoping.ids = range(num_entities_2)\n",
    "\n",
    "# Print the Field\n",
    "print(\"3D vector Field : \", '\\n',field_22, '\\n')"
   ]
  },
  {
   "cell_type": "code",
   "execution_count": 17,
   "id": "269a7cec",
   "metadata": {
    "execution": {
     "iopub.execute_input": "2025-11-01T11:02:56.288506Z",
     "iopub.status.busy": "2025-11-01T11:02:56.288506Z",
     "iopub.status.idle": "2025-11-01T11:02:56.294367Z",
     "shell.execute_reply": "2025-11-01T11:02:56.293345Z"
    }
   },
   "outputs": [
    {
     "name": "stdout",
     "output_type": "stream",
     "text": [
      "5D vector Field :  \n",
      " DPF  Field\n",
      "  Location: Nodal\n",
      "  Unit: \n",
      "  2 entities \n",
      "  Data: 5 components and 0 elementary data \n",
      " \n",
      "\n"
     ]
    }
   ],
   "source": [
    "# Use the create_vector_field function\n",
    "field_32 = dpf.fields_factory.create_vector_field(num_entities=num_entities_2, num_comp=5)\n",
    "\n",
    "# Set the scoping ids\n",
    "field_32.scoping.ids = range(num_entities_2)\n",
    "\n",
    "# Print the Field\n",
    "print(\"5D vector Field : \", '\\n',field_32, '\\n')"
   ]
  },
  {
   "cell_type": "code",
   "execution_count": 18,
   "id": "e833e85d",
   "metadata": {
    "execution": {
     "iopub.execute_input": "2025-11-01T11:02:56.296809Z",
     "iopub.status.busy": "2025-11-01T11:02:56.296809Z",
     "iopub.status.idle": "2025-11-01T11:02:56.301631Z",
     "shell.execute_reply": "2025-11-01T11:02:56.300850Z"
    }
   },
   "outputs": [
    {
     "name": "stdout",
     "output_type": "stream",
     "text": [
      "Vector Field (3D):  \n",
      " DPF  Field\n",
      "  Location: Nodal\n",
      "  Unit: \n",
      "  2 entities \n",
      "  Data: 3 components and 0 elementary data \n",
      " \n",
      "\n"
     ]
    }
   ],
   "source": [
    "# Create the 3d vector Field\n",
    "field_25 = dpf.fields_factory.create_3d_vector_field(num_entities=num_entities_2)\n",
    "# Set the scoping ids\n",
    "field_25.scoping.ids = range(num_entities_2)\n",
    "\n",
    "# Print the Field\n",
    "print(\"Vector Field (3D): \", '\\n',field_25, '\\n')"
   ]
  },
  {
   "cell_type": "code",
   "execution_count": 19,
   "id": "53d41ca7",
   "metadata": {
    "execution": {
     "iopub.execute_input": "2025-11-01T11:02:56.304174Z",
     "iopub.status.busy": "2025-11-01T11:02:56.304174Z",
     "iopub.status.idle": "2025-11-01T11:02:56.310232Z",
     "shell.execute_reply": "2025-11-01T11:02:56.309859Z"
    }
   },
   "outputs": [
    {
     "name": "stdout",
     "output_type": "stream",
     "text": [
      "3D vector Field:  \n",
      " DPF  Field\n",
      "  Location: Nodal\n",
      "  Unit: \n",
      "  2 entities \n",
      "  Data: 3 components and 2 elementary data \n",
      "\n",
      "  IDs                   data\n",
      "  ------------          ----------\n",
      "  0                     4.000000e+00   1.000000e+00   8.000000e+00   \n",
      "                        \n",
      "  1                     5.000000e+00   7.000000e+00   9.000000e+00   \n",
      "                        \n",
      "\n",
      " \n",
      "\n"
     ]
    }
   ],
   "source": [
    "# Use the field_from_array function\n",
    "field_23 = dpf.fields_factory.field_from_array(arr=data_3)\n",
    "\n",
    "# Use the Field.dimensionality method\n",
    "field_23.dimensionality = dpf.Dimensionality([3])\n",
    "\n",
    "# Set the scoping ids\n",
    "field_23.scoping.ids = range(num_entities_2)\n",
    "\n",
    "# Print the Field\n",
    "print(\"3D vector Field: \", '\\n',field_23, '\\n')"
   ]
  },
  {
   "cell_type": "code",
   "execution_count": 20,
   "id": "4cdc14a7",
   "metadata": {
    "execution": {
     "iopub.execute_input": "2025-11-01T11:02:56.312252Z",
     "iopub.status.busy": "2025-11-01T11:02:56.312252Z",
     "iopub.status.idle": "2025-11-01T11:02:56.318306Z",
     "shell.execute_reply": "2025-11-01T11:02:56.317516Z"
    }
   },
   "outputs": [
    {
     "name": "stdout",
     "output_type": "stream",
     "text": [
      "3D vector Field:  \n",
      " DPF  Field\n",
      "  Location: Nodal\n",
      "  Unit: \n",
      "  2 entities \n",
      "  Data: 3 components and 2 elementary data \n",
      "\n",
      "  IDs                   data\n",
      "  ------------          ----------\n",
      "  0                     8.000000e+00   4.000000e+00   3.000000e+00   \n",
      "                        \n",
      "  1                     3.100000e+01   5.000000e+00   7.000000e+00   \n",
      "                        \n",
      "\n",
      " \n",
      "\n"
     ]
    }
   ],
   "source": [
    "# Use the field_from_array function\n",
    "field_24 = dpf.fields_factory.field_from_array(arr=data_5)\n",
    "\n",
    "# Set the scoping ids\n",
    "field_24.scoping.ids = range(num_entities_2)\n",
    "\n",
    "# Print the Field\n",
    "print(\"3D vector Field: \", '\\n',field_24, '\\n')"
   ]
  },
  {
   "cell_type": "code",
   "execution_count": 21,
   "id": "ca747298",
   "metadata": {
    "execution": {
     "iopub.execute_input": "2025-11-01T11:02:56.319836Z",
     "iopub.status.busy": "2025-11-01T11:02:56.319836Z",
     "iopub.status.idle": "2025-11-01T11:02:56.324624Z",
     "shell.execute_reply": "2025-11-01T11:02:56.324624Z"
    }
   },
   "outputs": [
    {
     "name": "stdout",
     "output_type": "stream",
     "text": [
      "Matrix Field (2,2) :  \n",
      " DPF  Field\n",
      "  Location: Nodal\n",
      "  Unit: \n",
      "  1 entities \n",
      "  Data: 4 components and 0 elementary data \n",
      " \n",
      "\n"
     ]
    }
   ],
   "source": [
    "# Use the create_matrix_field function\n",
    "field_41 = dpf.fields_factory.create_matrix_field(num_entities=num_entities_3, num_lines=2, num_col=2)\n",
    "\n",
    "# Set the scoping ids\n",
    "field_41.scoping.ids = range(num_entities_3)\n",
    "\n",
    "# Print the Field\n",
    "print(\"Matrix Field (2,2) : \", '\\n',field_41, '\\n')"
   ]
  },
  {
   "cell_type": "code",
   "execution_count": 22,
   "id": "c1f8a946",
   "metadata": {
    "execution": {
     "iopub.execute_input": "2025-11-01T11:02:56.328163Z",
     "iopub.status.busy": "2025-11-01T11:02:56.327200Z",
     "iopub.status.idle": "2025-11-01T11:02:56.334220Z",
     "shell.execute_reply": "2025-11-01T11:02:56.333243Z"
    }
   },
   "outputs": [
    {
     "name": "stdout",
     "output_type": "stream",
     "text": [
      "Matrix Field 1 (3,3) :  \n",
      " DPF  Field\n",
      "  Location: Nodal\n",
      "  Unit: \n",
      "  1 entities \n",
      "  Data: 9 components and 0 elementary data \n",
      " \n",
      "\n",
      "Matrix Field 2 (3,3) :  \n",
      " DPF  Field\n",
      "  Location: Nodal\n",
      "  Unit: \n",
      "  1 entities \n",
      "  Data: 9 components and 0 elementary data \n",
      " \n",
      "\n"
     ]
    }
   ],
   "source": [
    "# Use the create_matrix_field function\n",
    "field_51 = dpf.fields_factory.create_matrix_field(num_entities=num_entities_3, num_lines=3, num_col=3)\n",
    "field_52 = dpf.fields_factory.create_matrix_field(num_entities=num_entities_3, num_lines=3, num_col=3)\n",
    "\n",
    "# Set the scoping ids\n",
    "field_51.scoping.ids = range(num_entities_3)\n",
    "field_52.scoping.ids = range(num_entities_3)\n",
    "\n",
    "# Print the Field\n",
    "print(\"Matrix Field 1 (3,3) : \", '\\n',field_51, '\\n')\n",
    "print(\"Matrix Field 2 (3,3) : \", '\\n',field_52, '\\n')"
   ]
  },
  {
   "cell_type": "code",
   "execution_count": 23,
   "id": "eee4c886",
   "metadata": {
    "execution": {
     "iopub.execute_input": "2025-11-01T11:02:56.335471Z",
     "iopub.status.busy": "2025-11-01T11:02:56.335471Z",
     "iopub.status.idle": "2025-11-01T11:02:56.343315Z",
     "shell.execute_reply": "2025-11-01T11:02:56.342501Z"
    }
   },
   "outputs": [
    {
     "name": "stdout",
     "output_type": "stream",
     "text": [
      "Scalar Field :  \n",
      " DPF  Field\n",
      "  Location: Nodal\n",
      "  Unit: \n",
      "  6 entities \n",
      "  Data: 1 components and 6 elementary data \n",
      "\n",
      "  IDs                   data\n",
      "  ------------          ----------\n",
      "  0                     6.000000e+00   \n",
      "                        \n",
      "  1                     5.000000e+00   \n",
      "                        \n",
      "  2                     4.000000e+00   \n",
      "                        \n",
      "  ...\n",
      "\n",
      " \n",
      "\n",
      "Data scalar Field :  \n",
      " [6. 5. 4. 3. 2. 1.] \n",
      "\n"
     ]
    }
   ],
   "source": [
    "# Set the data\n",
    "field_11.data = data_1\n",
    "\n",
    "# Print the Field\n",
    "print(\"Scalar Field : \", '\\n',field_11, '\\n')\n",
    "\n",
    "# Print the Fields data\n",
    "print(\"Data scalar Field : \", '\\n',field_11.data, '\\n')"
   ]
  },
  {
   "cell_type": "code",
   "execution_count": 24,
   "id": "42f993bd",
   "metadata": {
    "execution": {
     "iopub.execute_input": "2025-11-01T11:02:56.345331Z",
     "iopub.status.busy": "2025-11-01T11:02:56.345331Z",
     "iopub.status.idle": "2025-11-01T11:02:56.351155Z",
     "shell.execute_reply": "2025-11-01T11:02:56.350462Z"
    }
   },
   "outputs": [
    {
     "name": "stdout",
     "output_type": "stream",
     "text": [
      "Scalar Field :  \n",
      " DPF  Field\n",
      "  Location: Nodal\n",
      "  Unit: \n",
      "  6 entities \n",
      "  Data: 1 components and 6 elementary data \n",
      "\n",
      "  IDs                   data\n",
      "  ------------          ----------\n",
      "  0                     1.200000e+01   \n",
      "                        \n",
      "  1                     7.000000e+00   \n",
      "                        \n",
      "  2                     8.000000e+00   \n",
      "                        \n",
      "  ...\n",
      "\n",
      " \n",
      "\n",
      "Data scalar Field :  \n",
      " [12.  7.  8.  9. 31.  1.] \n",
      "\n"
     ]
    }
   ],
   "source": [
    "# Set the data\n",
    "field_12.data = data_2\n",
    "\n",
    "# Print the Field\n",
    "print(\"Scalar Field : \", '\\n',field_12, '\\n')\n",
    "\n",
    "# Print the Fields data\n",
    "print(\"Data scalar Field : \", '\\n',field_12.data, '\\n')"
   ]
  },
  {
   "cell_type": "code",
   "execution_count": 25,
   "id": "c47af7f7",
   "metadata": {
    "execution": {
     "iopub.execute_input": "2025-11-01T11:02:56.353176Z",
     "iopub.status.busy": "2025-11-01T11:02:56.353176Z",
     "iopub.status.idle": "2025-11-01T11:02:56.359232Z",
     "shell.execute_reply": "2025-11-01T11:02:56.358073Z"
    }
   },
   "outputs": [
    {
     "name": "stdout",
     "output_type": "stream",
     "text": [
      "Vector Field :  \n",
      " DPF  Field\n",
      "  Location: Nodal\n",
      "  Unit: \n",
      "  2 entities \n",
      "  Data: 3 components and 2 elementary data \n",
      "\n",
      "  IDs                   data\n",
      "  ------------          ----------\n",
      "  0                     4.000000e+00   1.000000e+00   8.000000e+00   \n",
      "                        \n",
      "  1                     5.000000e+00   7.000000e+00   9.000000e+00   \n",
      "                        \n",
      "\n",
      " \n",
      "\n",
      "Data vector Field:  \n",
      " [[4. 1. 8.]\n",
      " [5. 7. 9.]] \n",
      "\n"
     ]
    }
   ],
   "source": [
    "# Set the data\n",
    "field_21.data = data_3\n",
    "\n",
    "# Print the Field\n",
    "print(\"Vector Field : \", '\\n',field_21, '\\n')\n",
    "\n",
    "# Print the Fields data\n",
    "print(\"Data vector Field: \", '\\n',field_21.data, '\\n')"
   ]
  },
  {
   "cell_type": "code",
   "execution_count": 26,
   "id": "e0789290",
   "metadata": {
    "execution": {
     "iopub.execute_input": "2025-11-01T11:02:56.361249Z",
     "iopub.status.busy": "2025-11-01T11:02:56.361249Z",
     "iopub.status.idle": "2025-11-01T11:02:56.366296Z",
     "shell.execute_reply": "2025-11-01T11:02:56.365969Z"
    }
   },
   "outputs": [
    {
     "name": "stdout",
     "output_type": "stream",
     "text": [
      "Vector Field:  \n",
      " DPF  Field\n",
      "  Location: Nodal\n",
      "  Unit: \n",
      "  2 entities \n",
      "  Data: 5 components and 2 elementary data \n",
      "\n",
      "  IDs                   data\n",
      "  ------------          ----------\n",
      "  0                     6.000000e+00   5.000000e+00   4.000000e+00   3.000000e+00   2.000000e+00   \n",
      "                        \n",
      "  1                     1.000000e+00   9.000000e+00   7.000000e+00   8.000000e+00   1.000000e+01   \n",
      "                        \n",
      "\n",
      " \n",
      "\n",
      "Data vector Field :  \n",
      " [[ 6.  5.  4.  3.  2.]\n",
      " [ 1.  9.  7.  8. 10.]] \n",
      "\n"
     ]
    }
   ],
   "source": [
    "# Set the data\n",
    "field_31.data = data_4\n",
    "\n",
    "# Print the Field\n",
    "print(\"Vector Field: \", '\\n',field_31, '\\n')\n",
    "\n",
    "# Print the Fields data\n",
    "print(\"Data vector Field : \", '\\n',field_31.data, '\\n')"
   ]
  },
  {
   "cell_type": "code",
   "execution_count": 27,
   "id": "648c6a29",
   "metadata": {
    "execution": {
     "iopub.execute_input": "2025-11-01T11:02:56.369111Z",
     "iopub.status.busy": "2025-11-01T11:02:56.369111Z",
     "iopub.status.idle": "2025-11-01T11:02:56.374364Z",
     "shell.execute_reply": "2025-11-01T11:02:56.374364Z"
    }
   },
   "outputs": [
    {
     "name": "stdout",
     "output_type": "stream",
     "text": [
      "Vector Field:  \n",
      " DPF  Field\n",
      "  Location: Nodal\n",
      "  Unit: \n",
      "  2 entities \n",
      "  Data: 3 components and 2 elementary data \n",
      "\n",
      "  IDs                   data\n",
      "  ------------          ----------\n",
      "  0                     8.000000e+00   4.000000e+00   3.000000e+00   \n",
      "                        \n",
      "  1                     3.100000e+01   5.000000e+00   7.000000e+00   \n",
      "                        \n",
      "\n",
      " \n",
      "\n",
      "Data vector Field:  \n",
      " [[ 8.  4.  3.]\n",
      " [31.  5.  7.]] \n",
      "\n"
     ]
    }
   ],
   "source": [
    "# Set the data\n",
    "field_22.data = data_5\n",
    "\n",
    "# Print the Field\n",
    "print(\"Vector Field: \", '\\n',field_22, '\\n')\n",
    "\n",
    "# Print the Fields data\n",
    "print(\"Data vector Field: \", '\\n',field_22.data, '\\n')"
   ]
  },
  {
   "cell_type": "code",
   "execution_count": 28,
   "id": "67843618",
   "metadata": {
    "execution": {
     "iopub.execute_input": "2025-11-01T11:02:56.376383Z",
     "iopub.status.busy": "2025-11-01T11:02:56.376383Z",
     "iopub.status.idle": "2025-11-01T11:02:56.383960Z",
     "shell.execute_reply": "2025-11-01T11:02:56.382992Z"
    }
   },
   "outputs": [
    {
     "name": "stdout",
     "output_type": "stream",
     "text": [
      "Matrix Field:  \n",
      " DPF  Field\n",
      "  Location: Nodal\n",
      "  Unit: \n",
      "  1 entities \n",
      "  Data: 4 components and 1 elementary data \n",
      "\n",
      "  IDs                   data\n",
      "  ------------          ----------\n",
      "  0                     3.000000e+00   2.000000e+00   1.000000e+00   7.000000e+00   \n",
      "                        \n",
      "\n",
      " \n",
      "\n",
      "Data matrix Field:  \n",
      " [[3. 2. 1. 7.]] \n",
      "\n"
     ]
    }
   ],
   "source": [
    "# Set the data\n",
    "field_41.data = data_6\n",
    "\n",
    "# Print the Field\n",
    "print(\"Matrix Field: \", '\\n',field_41, '\\n')\n",
    "\n",
    "# Print the Fields data\n",
    "print(\"Data matrix Field: \", '\\n',field_41.data, '\\n')"
   ]
  },
  {
   "cell_type": "code",
   "execution_count": 29,
   "id": "2699021e",
   "metadata": {
    "execution": {
     "iopub.execute_input": "2025-11-01T11:02:56.385980Z",
     "iopub.status.busy": "2025-11-01T11:02:56.385980Z",
     "iopub.status.idle": "2025-11-01T11:02:56.392037Z",
     "shell.execute_reply": "2025-11-01T11:02:56.391175Z"
    }
   },
   "outputs": [
    {
     "name": "stdout",
     "output_type": "stream",
     "text": [
      "Matrix Field:  \n",
      " DPF  Field\n",
      "  Location: Nodal\n",
      "  Unit: \n",
      "  1 entities \n",
      "  Data: 9 components and 1 elementary data \n",
      "\n",
      "  IDs                   data\n",
      "  ------------          ----------\n",
      "  0                     1.500000e+01   3.000000e+00   9.000000e+00   3.100000e+01   1.000000e+00   4.200000e+01   5.000000e+00   6.800000e+01   1.300000e+01   \n",
      "                        \n",
      "\n",
      " \n",
      "\n",
      "Data matrix Field:  \n",
      " [[15.  3.  9. 31.  1. 42.  5. 68. 13.]] \n",
      "\n"
     ]
    }
   ],
   "source": [
    "# Set the data\n",
    "field_51.data = data_7\n",
    "\n",
    "# Print the Field\n",
    "print(\"Matrix Field: \", '\\n',field_51, '\\n')\n",
    "\n",
    "# Print the Fields data\n",
    "print(\"Data matrix Field: \", '\\n',field_51.data, '\\n')"
   ]
  },
  {
   "cell_type": "code",
   "execution_count": 30,
   "id": "9d04b893",
   "metadata": {
    "execution": {
     "iopub.execute_input": "2025-11-01T11:02:56.394060Z",
     "iopub.status.busy": "2025-11-01T11:02:56.394060Z",
     "iopub.status.idle": "2025-11-01T11:02:56.400337Z",
     "shell.execute_reply": "2025-11-01T11:02:56.399612Z"
    }
   },
   "outputs": [
    {
     "name": "stdout",
     "output_type": "stream",
     "text": [
      "Matrix Field:  \n",
      " DPF  Field\n",
      "  Location: Nodal\n",
      "  Unit: \n",
      "  1 entities \n",
      "  Data: 9 components and 1 elementary data \n",
      "\n",
      "  IDs                   data\n",
      "  ------------          ----------\n",
      "  0                     1.500000e+01   3.000000e+00   9.000000e+00   3.100000e+01   1.000000e+00   4.200000e+01   5.000000e+00   6.800000e+01   1.300000e+01   \n",
      "                        \n",
      "\n",
      " \n",
      "\n",
      "Data matrix Field:  \n",
      " [[15.  3.  9. 31.  1. 42.  5. 68. 13.]] \n",
      "\n"
     ]
    }
   ],
   "source": [
    "# Set the data\n",
    "field_52.data = data_8\n",
    "\n",
    "# Print the Field\n",
    "print(\"Matrix Field: \", '\\n',field_51, '\\n')\n",
    "\n",
    "# Print the Fields data\n",
    "print(\"Data matrix Field: \", '\\n',field_51.data, '\\n')"
   ]
  },
  {
   "cell_type": "code",
   "execution_count": 31,
   "id": "0785d5f3",
   "metadata": {
    "execution": {
     "iopub.execute_input": "2025-11-01T11:02:56.403647Z",
     "iopub.status.busy": "2025-11-01T11:02:56.402395Z",
     "iopub.status.idle": "2025-11-01T11:02:56.409558Z",
     "shell.execute_reply": "2025-11-01T11:02:56.408515Z"
    }
   },
   "outputs": [
    {
     "name": "stdout",
     "output_type": "stream",
     "text": [
      "Scalar Field :  \n",
      " DPF  Field\n",
      "  Location: Nodal\n",
      "  Unit: \n",
      "  7 entities \n",
      "  Data: 1 components and 7 elementary data \n",
      "\n",
      "  IDs                   data\n",
      "  ------------          ----------\n",
      "  0                     6.000000e+00   \n",
      "                        \n",
      "  1                     5.000000e+00   \n",
      "                        \n",
      "  2                     4.000000e+00   \n",
      "                        \n",
      "  ...\n",
      "\n",
      " \n",
      "\n",
      "Data scalar Field:  \n",
      " [ 6.  5.  4.  3.  2.  1. 24.] \n",
      "\n"
     ]
    }
   ],
   "source": [
    "# Append the data\n",
    "field_11.append(scopingid=6, data=data_9)\n",
    "\n",
    "# Print the Field\n",
    "print(\"Scalar Field : \", '\\n',field_11, '\\n')\n",
    "\n",
    "# Print the Fields data\n",
    "print(\"Data scalar Field: \", '\\n',field_11.data, '\\n')"
   ]
  },
  {
   "cell_type": "code",
   "execution_count": 32,
   "id": "5ee4dd25",
   "metadata": {
    "execution": {
     "iopub.execute_input": "2025-11-01T11:02:56.411724Z",
     "iopub.status.busy": "2025-11-01T11:02:56.411724Z",
     "iopub.status.idle": "2025-11-01T11:02:56.417287Z",
     "shell.execute_reply": "2025-11-01T11:02:56.417287Z"
    }
   },
   "outputs": [
    {
     "name": "stdout",
     "output_type": "stream",
     "text": [
      "Vector Field :  \n",
      " DPF  Field\n",
      "  Location: Nodal\n",
      "  Unit: \n",
      "  3 entities \n",
      "  Data: 3 components and 3 elementary data \n",
      "\n",
      "  IDs                   data\n",
      "  ------------          ----------\n",
      "  0                     4.000000e+00   1.000000e+00   8.000000e+00   \n",
      "                        \n",
      "  1                     5.000000e+00   7.000000e+00   9.000000e+00   \n",
      "                        \n",
      "  2                     4.700000e+01   3.300000e+01   5.000000e+00   \n",
      "                        \n",
      "\n",
      " \n",
      "\n",
      "Data vector Field:  \n",
      " [[ 4.  1.  8.]\n",
      " [ 5.  7.  9.]\n",
      " [47. 33.  5.]] \n",
      "\n"
     ]
    }
   ],
   "source": [
    "# Append the data\n",
    "field_21.append(scopingid=2, data=data_10)\n",
    "\n",
    "# Print the Field\n",
    "print(\"Vector Field : \", '\\n',field_21, '\\n')\n",
    "\n",
    "# Print the Fields data\n",
    "print(\"Data vector Field: \", '\\n',field_21.data, '\\n')"
   ]
  },
  {
   "cell_type": "code",
   "execution_count": 33,
   "id": "895a7f69",
   "metadata": {
    "execution": {
     "iopub.execute_input": "2025-11-01T11:02:56.420543Z",
     "iopub.status.busy": "2025-11-01T11:02:56.420543Z",
     "iopub.status.idle": "2025-11-01T11:02:56.425351Z",
     "shell.execute_reply": "2025-11-01T11:02:56.425025Z"
    }
   },
   "outputs": [
    {
     "name": "stdout",
     "output_type": "stream",
     "text": [
      "VMatrix Field :  \n",
      " DPF  Field\n",
      "  Location: Nodal\n",
      "  Unit: \n",
      "  2 entities \n",
      "  Data: 9 components and 2 elementary data \n",
      "\n",
      "  IDs                   data\n",
      "  ------------          ----------\n",
      "  0                     1.500000e+01   3.000000e+00   9.000000e+00   3.100000e+01   1.000000e+00   4.200000e+01   5.000000e+00   6.800000e+01   1.300000e+01   \n",
      "                        \n",
      "  1                     8.000000e+00   2.000000e+00   4.000000e+00   6.400000e+01   3.200000e+01   4.700000e+01   1.100000e+01   2.300000e+01   1.000000e+00   \n",
      "                        \n",
      "\n",
      " \n",
      "\n",
      "Data Matrix Field:  \n",
      " [[15.  3.  9. 31.  1. 42.  5. 68. 13.]\n",
      " [ 8.  2.  4. 64. 32. 47. 11. 23.  1.]] \n",
      "\n"
     ]
    }
   ],
   "source": [
    "# Append the data\n",
    "field_51.append(scopingid=1, data=data_11)\n",
    "\n",
    "# Print the Field\n",
    "print(\"VMatrix Field : \", '\\n',field_51, '\\n')\n",
    "\n",
    "# Print the Fields data\n",
    "print(\"Data Matrix Field: \", '\\n',field_51.data, '\\n')"
   ]
  },
  {
   "cell_type": "code",
   "execution_count": 34,
   "id": "54ea00ea",
   "metadata": {
    "execution": {
     "iopub.execute_input": "2025-11-01T11:02:56.428383Z",
     "iopub.status.busy": "2025-11-01T11:02:56.427368Z",
     "iopub.status.idle": "2025-11-01T11:02:56.433436Z",
     "shell.execute_reply": "2025-11-01T11:02:56.432661Z"
    }
   },
   "outputs": [
    {
     "name": "stdout",
     "output_type": "stream",
     "text": [
      "DPF  Fields Container\n",
      "  with 2 field(s)\n",
      "  defined on labels: time \n",
      "\n",
      "  with:\n",
      "  - field 0 {time:  0} with Nodal location, 3 components and 3 entities.\n",
      "  - field 1 {time:  1} with Nodal location, 5 components and 2 entities.\n",
      "\n"
     ]
    }
   ],
   "source": [
    "# Create the FieldsContainer object\n",
    "fc_1 = dpf.FieldsContainer()\n",
    "\n",
    "# Define the labels\n",
    "fc_1.add_label(label=\"time\")\n",
    "\n",
    "# Add the Fields\n",
    "fc_1.add_field(label_space={\"time\": 0}, field=field_21)\n",
    "fc_1.add_field(label_space={\"time\": 1}, field=field_31)\n",
    "\n",
    "# Print the FieldsContainer\n",
    "print(fc_1)"
   ]
  },
  {
   "cell_type": "code",
   "execution_count": 35,
   "id": "169a3d0e",
   "metadata": {
    "execution": {
     "iopub.execute_input": "2025-11-01T11:02:56.435459Z",
     "iopub.status.busy": "2025-11-01T11:02:56.435459Z",
     "iopub.status.idle": "2025-11-01T11:02:56.440724Z",
     "shell.execute_reply": "2025-11-01T11:02:56.439995Z"
    }
   },
   "outputs": [
    {
     "name": "stdout",
     "output_type": "stream",
     "text": [
      "DPF  Fields Container\n",
      "  with 2 field(s)\n",
      "  defined on labels: time \n",
      "\n",
      "  with:\n",
      "  - field 0 {time:  1} with Nodal location, 3 components and 3 entities.\n",
      "  - field 1 {time:  2} with Nodal location, 5 components and 2 entities.\n",
      "\n"
     ]
    }
   ],
   "source": [
    "# Create the FieldsContainer\n",
    "fc_2 = dpf.fields_container_factory.over_time_freq_fields_container(fields=[field_21, field_31])\n",
    "\n",
    "# Print the FieldsContainer\n",
    "print(fc_2)"
   ]
  }
 ],
 "metadata": {
  "kernelspec": {
   "display_name": "Python 3 (ipykernel)",
   "language": "python",
   "name": "python3"
  },
  "language_info": {
   "codemirror_mode": {
    "name": "ipython",
    "version": 3
   },
   "file_extension": ".py",
   "mimetype": "text/x-python",
   "name": "python",
   "nbconvert_exporter": "python",
   "pygments_lexer": "ipython3",
   "version": "3.11.9"
  }
 },
 "nbformat": 4,
 "nbformat_minor": 5
}