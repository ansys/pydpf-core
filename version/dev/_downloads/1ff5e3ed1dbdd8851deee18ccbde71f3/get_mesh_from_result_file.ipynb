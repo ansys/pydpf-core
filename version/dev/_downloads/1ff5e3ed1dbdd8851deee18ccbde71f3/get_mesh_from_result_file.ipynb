{
 "cells": [
  {
   "cell_type": "code",
   "execution_count": 1,
   "id": "cb0fe6bf",
   "metadata": {
    "execution": {
     "iopub.execute_input": "2025-11-01T11:04:56.574179Z",
     "iopub.status.busy": "2025-11-01T11:04:56.574179Z",
     "iopub.status.idle": "2025-11-01T11:04:58.491661Z",
     "shell.execute_reply": "2025-11-01T11:04:58.490876Z"
    }
   },
   "outputs": [],
   "source": [
    "# Import the ``ansys.dpf.core`` module\n",
    "from ansys.dpf import core as dpf\n",
    "# Import the examples module\n",
    "from ansys.dpf.core import examples\n",
    "# Import the operators module\n",
    "from ansys.dpf.core import operators as ops\n",
    "\n",
    "# Define the result file path\n",
    "result_file_path_1 = examples.find_static_rst()\n",
    "# Create the DataSources object\n",
    "ds_1 = dpf.DataSources(result_path=result_file_path_1)"
   ]
  },
  {
   "cell_type": "code",
   "execution_count": 2,
   "id": "36916b40",
   "metadata": {
    "execution": {
     "iopub.execute_input": "2025-11-01T11:04:58.498219Z",
     "iopub.status.busy": "2025-11-01T11:04:58.497353Z",
     "iopub.status.idle": "2025-11-01T11:04:58.503198Z",
     "shell.execute_reply": "2025-11-01T11:04:58.503198Z"
    }
   },
   "outputs": [],
   "source": [
    "# Import the ``ansys.dpf.core`` module\n",
    "from ansys.dpf import core as dpf\n",
    "# Import the examples module\n",
    "from ansys.dpf.core import examples\n",
    "# Import the operators module\n",
    "from ansys.dpf.core import operators as ops\n",
    "\n",
    "# Define the result file path\n",
    "result_file_path_2 = examples.download_d3plot_beam()\n",
    "# Create the DataSources object\n",
    "ds_2 = dpf.DataSources()\n",
    "ds_2.set_result_file_path(filepath=result_file_path_2[0], key=\"d3plot\")\n",
    "ds_2.add_file_path(filepath=result_file_path_2[3], key=\"actunits\")"
   ]
  },
  {
   "cell_type": "code",
   "execution_count": 3,
   "id": "a847ec8e",
   "metadata": {
    "execution": {
     "iopub.execute_input": "2025-11-01T11:04:58.505997Z",
     "iopub.status.busy": "2025-11-01T11:04:58.505997Z",
     "iopub.status.idle": "2025-11-01T11:04:58.512054Z",
     "shell.execute_reply": "2025-11-01T11:04:58.511009Z"
    }
   },
   "outputs": [],
   "source": [
    "# Import the ``ansys.dpf.core`` module\n",
    "from ansys.dpf import core as dpf\n",
    "# Import the examples module\n",
    "from ansys.dpf.core import examples\n",
    "# Import the operators module\n",
    "from ansys.dpf.core import operators as ops\n",
    "\n",
    "# Define the result file path\n",
    "result_file_path_3 = examples.download_fluent_axial_comp()[\"flprj\"]\n",
    "# Create the DataSources object\n",
    "ds_3 = dpf.DataSources(result_path=result_file_path_3)"
   ]
  },
  {
   "cell_type": "code",
   "execution_count": 4,
   "id": "dee2a95b",
   "metadata": {
    "execution": {
     "iopub.execute_input": "2025-11-01T11:04:58.514069Z",
     "iopub.status.busy": "2025-11-01T11:04:58.514069Z",
     "iopub.status.idle": "2025-11-01T11:04:58.518928Z",
     "shell.execute_reply": "2025-11-01T11:04:58.518396Z"
    }
   },
   "outputs": [],
   "source": [
    "# Import the ``ansys.dpf.core`` module\n",
    "from ansys.dpf import core as dpf\n",
    "# Import the examples module\n",
    "from ansys.dpf.core import examples\n",
    "# Import the operators module\n",
    "from ansys.dpf.core import operators as ops\n",
    "# Define the result file path\n",
    "result_file_path_4 = examples.download_cfx_mixing_elbow()\n",
    "# Create the DataSources object\n",
    "ds_4 = dpf.DataSources(result_path=result_file_path_4)"
   ]
  },
  {
   "cell_type": "code",
   "execution_count": 5,
   "id": "ac4aa0cd",
   "metadata": {
    "execution": {
     "iopub.execute_input": "2025-11-01T11:04:58.520945Z",
     "iopub.status.busy": "2025-11-01T11:04:58.520945Z",
     "iopub.status.idle": "2025-11-01T11:04:58.530595Z",
     "shell.execute_reply": "2025-11-01T11:04:58.528554Z"
    }
   },
   "outputs": [],
   "source": [
    "# Create the Model\n",
    "model_1 = dpf.Model(data_sources=ds_1)\n",
    "# Get the mesh\n",
    "meshed_region_11 = model_1.metadata.meshed_region"
   ]
  },
  {
   "cell_type": "code",
   "execution_count": 6,
   "id": "c1d0112d",
   "metadata": {
    "execution": {
     "iopub.execute_input": "2025-11-01T11:04:58.532755Z",
     "iopub.status.busy": "2025-11-01T11:04:58.532755Z",
     "iopub.status.idle": "2025-11-01T11:04:58.545254Z",
     "shell.execute_reply": "2025-11-01T11:04:58.544180Z"
    }
   },
   "outputs": [],
   "source": [
    "# Create the Model\n",
    "model_2 = dpf.Model(data_sources=ds_2)\n",
    "# Get the mesh\n",
    "meshed_region_21 = model_2.metadata.meshed_region"
   ]
  },
  {
   "cell_type": "code",
   "execution_count": 7,
   "id": "c77f8088",
   "metadata": {
    "execution": {
     "iopub.execute_input": "2025-11-01T11:04:58.547270Z",
     "iopub.status.busy": "2025-11-01T11:04:58.547270Z",
     "iopub.status.idle": "2025-11-01T11:05:08.844435Z",
     "shell.execute_reply": "2025-11-01T11:05:08.844435Z"
    }
   },
   "outputs": [],
   "source": [
    "# Create the Model\n",
    "model_3 = dpf.Model(data_sources=ds_3)\n",
    "# Get the mesh\n",
    "meshed_region_31 = model_3.metadata.meshed_region"
   ]
  },
  {
   "cell_type": "code",
   "execution_count": 8,
   "id": "527f4b71",
   "metadata": {
    "execution": {
     "iopub.execute_input": "2025-11-01T11:05:08.848484Z",
     "iopub.status.busy": "2025-11-01T11:05:08.848484Z",
     "iopub.status.idle": "2025-11-01T11:05:18.198145Z",
     "shell.execute_reply": "2025-11-01T11:05:18.197331Z"
    }
   },
   "outputs": [],
   "source": [
    "# Create the Model\n",
    "model_4 = dpf.Model(data_sources=ds_4)\n",
    "# Get the mesh\n",
    "meshed_region_41 = model_4.metadata.meshed_region"
   ]
  },
  {
   "cell_type": "code",
   "execution_count": 9,
   "id": "53bf4f10",
   "metadata": {
    "execution": {
     "iopub.execute_input": "2025-11-01T11:05:18.200898Z",
     "iopub.status.busy": "2025-11-01T11:05:18.200898Z",
     "iopub.status.idle": "2025-11-01T11:05:18.206213Z",
     "shell.execute_reply": "2025-11-01T11:05:18.205186Z"
    }
   },
   "outputs": [
    {
     "name": "stdout",
     "output_type": "stream",
     "text": [
      "DPF  Meshed Region: \n",
      "  81 nodes \n",
      "  8 elements \n",
      "  Unit: m \n",
      "  With solid (3D) elements\n"
     ]
    }
   ],
   "source": [
    "# Print the MeshedRegion\n",
    "print(meshed_region_11)"
   ]
  },
  {
   "cell_type": "code",
   "execution_count": 10,
   "id": "32400c2f",
   "metadata": {
    "execution": {
     "iopub.execute_input": "2025-11-01T11:05:18.207975Z",
     "iopub.status.busy": "2025-11-01T11:05:18.207975Z",
     "iopub.status.idle": "2025-11-01T11:05:18.214014Z",
     "shell.execute_reply": "2025-11-01T11:05:18.212789Z"
    }
   },
   "outputs": [
    {
     "name": "stdout",
     "output_type": "stream",
     "text": [
      "DPF  Meshed Region: \n",
      "  1940 nodes \n",
      "  2056 elements \n",
      "  Unit: mm \n",
      "  With solid (3D) elements, beam (1D) elements\n"
     ]
    }
   ],
   "source": [
    "# Print the MeshedRegion\n",
    "print(meshed_region_21)"
   ]
  },
  {
   "cell_type": "code",
   "execution_count": 11,
   "id": "ba9d8a72",
   "metadata": {
    "execution": {
     "iopub.execute_input": "2025-11-01T11:05:18.216033Z",
     "iopub.status.busy": "2025-11-01T11:05:18.216033Z",
     "iopub.status.idle": "2025-11-01T11:05:18.220068Z",
     "shell.execute_reply": "2025-11-01T11:05:18.220068Z"
    }
   },
   "outputs": [
    {
     "name": "stdout",
     "output_type": "stream",
     "text": [
      "DPF  Meshed Region: \n",
      "  16660 nodes \n",
      "  13856 elements \n",
      "  44242 faces \n",
      "  Unit: m \n",
      "  With solid (3D) elements\n"
     ]
    }
   ],
   "source": [
    "# Print the MeshedRegion\n",
    "print(meshed_region_31)"
   ]
  },
  {
   "cell_type": "code",
   "execution_count": 12,
   "id": "f0437551",
   "metadata": {
    "execution": {
     "iopub.execute_input": "2025-11-01T11:05:18.223620Z",
     "iopub.status.busy": "2025-11-01T11:05:18.223620Z",
     "iopub.status.idle": "2025-11-01T11:05:18.228153Z",
     "shell.execute_reply": "2025-11-01T11:05:18.227716Z"
    }
   },
   "outputs": [
    {
     "name": "stdout",
     "output_type": "stream",
     "text": [
      "DPF  Meshed Region: \n",
      "  6219 nodes \n",
      "  15695 elements \n",
      "  Unit: m \n",
      "  With solid (3D) elements\n"
     ]
    }
   ],
   "source": [
    "# Print the MeshedRegion\n",
    "print(meshed_region_41)"
   ]
  },
  {
   "cell_type": "code",
   "execution_count": 13,
   "id": "0ad0b987",
   "metadata": {
    "execution": {
     "iopub.execute_input": "2025-11-01T11:05:18.230168Z",
     "iopub.status.busy": "2025-11-01T11:05:18.230168Z",
     "iopub.status.idle": "2025-11-01T11:05:18.238237Z",
     "shell.execute_reply": "2025-11-01T11:05:18.237154Z"
    }
   },
   "outputs": [],
   "source": [
    "# Get the mesh with the mesh_provider operator\n",
    "meshed_region_12 = ops.mesh.mesh_provider(data_sources=ds_1).eval()"
   ]
  },
  {
   "cell_type": "code",
   "execution_count": 14,
   "id": "2e2c3534",
   "metadata": {
    "execution": {
     "iopub.execute_input": "2025-11-01T11:05:18.240934Z",
     "iopub.status.busy": "2025-11-01T11:05:18.239267Z",
     "iopub.status.idle": "2025-11-01T11:05:18.251550Z",
     "shell.execute_reply": "2025-11-01T11:05:18.251103Z"
    }
   },
   "outputs": [],
   "source": [
    "# Get the mesh with the mesh_provider operator\n",
    "meshed_region_22 = ops.mesh.mesh_provider(data_sources=ds_2).eval()"
   ]
  },
  {
   "cell_type": "code",
   "execution_count": 15,
   "id": "fe0878ad",
   "metadata": {
    "execution": {
     "iopub.execute_input": "2025-11-01T11:05:18.254896Z",
     "iopub.status.busy": "2025-11-01T11:05:18.254590Z",
     "iopub.status.idle": "2025-11-01T11:05:27.510696Z",
     "shell.execute_reply": "2025-11-01T11:05:27.509842Z"
    }
   },
   "outputs": [],
   "source": [
    "# Get the mesh with the mesh_provider operator\n",
    "meshed_region_32 = ops.mesh.mesh_provider(data_sources=ds_3).eval()"
   ]
  },
  {
   "cell_type": "code",
   "execution_count": 16,
   "id": "59c314f6",
   "metadata": {
    "execution": {
     "iopub.execute_input": "2025-11-01T11:05:27.513916Z",
     "iopub.status.busy": "2025-11-01T11:05:27.513916Z",
     "iopub.status.idle": "2025-11-01T11:05:27.641225Z",
     "shell.execute_reply": "2025-11-01T11:05:27.640045Z"
    }
   },
   "outputs": [],
   "source": [
    "# Get the mesh with the mesh_provider operator\n",
    "meshed_region_42 = ops.mesh.mesh_provider(data_sources=ds_4).eval()"
   ]
  },
  {
   "cell_type": "code",
   "execution_count": 17,
   "id": "c186618c",
   "metadata": {
    "execution": {
     "iopub.execute_input": "2025-11-01T11:05:27.644409Z",
     "iopub.status.busy": "2025-11-01T11:05:27.644101Z",
     "iopub.status.idle": "2025-11-01T11:05:27.648290Z",
     "shell.execute_reply": "2025-11-01T11:05:27.647753Z"
    }
   },
   "outputs": [
    {
     "name": "stdout",
     "output_type": "stream",
     "text": [
      "DPF  Meshed Region: \n",
      "  81 nodes \n",
      "  8 elements \n",
      "  Unit: m \n",
      "  With solid (3D) elements\n"
     ]
    }
   ],
   "source": [
    "# Print the MeshedRegion\n",
    "print(meshed_region_12)"
   ]
  },
  {
   "cell_type": "code",
   "execution_count": 18,
   "id": "2bce92a8",
   "metadata": {
    "execution": {
     "iopub.execute_input": "2025-11-01T11:05:27.650305Z",
     "iopub.status.busy": "2025-11-01T11:05:27.650305Z",
     "iopub.status.idle": "2025-11-01T11:05:27.656654Z",
     "shell.execute_reply": "2025-11-01T11:05:27.655559Z"
    }
   },
   "outputs": [
    {
     "name": "stdout",
     "output_type": "stream",
     "text": [
      "DPF  Meshed Region: \n",
      "  1940 nodes \n",
      "  2056 elements \n",
      "  Unit: mm \n",
      "  With solid (3D) elements, beam (1D) elements\n"
     ]
    }
   ],
   "source": [
    "# Print the MeshedRegion\n",
    "print(meshed_region_22)"
   ]
  },
  {
   "cell_type": "code",
   "execution_count": 19,
   "id": "bc934ad0",
   "metadata": {
    "execution": {
     "iopub.execute_input": "2025-11-01T11:05:27.658626Z",
     "iopub.status.busy": "2025-11-01T11:05:27.658626Z",
     "iopub.status.idle": "2025-11-01T11:05:27.664331Z",
     "shell.execute_reply": "2025-11-01T11:05:27.663259Z"
    }
   },
   "outputs": [
    {
     "name": "stdout",
     "output_type": "stream",
     "text": [
      "DPF  Meshed Region: \n",
      "  16660 nodes \n",
      "  13856 elements \n",
      "  44242 faces \n",
      "  Unit: m \n",
      "  With solid (3D) elements\n"
     ]
    }
   ],
   "source": [
    "# Print the MeshedRegion\n",
    "print(meshed_region_32)"
   ]
  },
  {
   "cell_type": "code",
   "execution_count": 20,
   "id": "b69beda9",
   "metadata": {
    "execution": {
     "iopub.execute_input": "2025-11-01T11:05:27.666687Z",
     "iopub.status.busy": "2025-11-01T11:05:27.666352Z",
     "iopub.status.idle": "2025-11-01T11:05:27.670711Z",
     "shell.execute_reply": "2025-11-01T11:05:27.670396Z"
    }
   },
   "outputs": [
    {
     "name": "stdout",
     "output_type": "stream",
     "text": [
      "DPF  Meshed Region: \n",
      "  6219 nodes \n",
      "  15695 elements \n",
      "  Unit: m \n",
      "  With solid (3D) elements\n"
     ]
    }
   ],
   "source": [
    "# Print the MeshedRegion\n",
    "print(meshed_region_42)"
   ]
  }
 ],
 "metadata": {
  "kernelspec": {
   "display_name": "Python 3 (ipykernel)",
   "language": "python",
   "name": "python3"
  },
  "language_info": {
   "codemirror_mode": {
    "name": "ipython",
    "version": 3
   },
   "file_extension": ".py",
   "mimetype": "text/x-python",
   "name": "python",
   "nbconvert_exporter": "python",
   "pygments_lexer": "ipython3",
   "version": "3.11.9"
  }
 },
 "nbformat": 4,
 "nbformat_minor": 5
}