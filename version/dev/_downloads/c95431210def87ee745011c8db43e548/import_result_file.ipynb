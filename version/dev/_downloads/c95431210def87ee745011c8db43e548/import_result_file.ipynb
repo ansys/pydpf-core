{
 "cells": [
  {
   "cell_type": "code",
   "execution_count": 1,
   "id": "98d1b9ab",
   "metadata": {
    "execution": {
     "iopub.execute_input": "2025-11-01T11:02:49.918364Z",
     "iopub.status.busy": "2025-11-01T11:02:49.918364Z",
     "iopub.status.idle": "2025-11-01T11:02:51.768245Z",
     "shell.execute_reply": "2025-11-01T11:02:51.766838Z"
    }
   },
   "outputs": [
    {
     "name": "stdout",
     "output_type": "stream",
     "text": [
      "Result file path 11: \n",
      " D:\\a\\pydpf-core\\pydpf-core\\.tox\\doc-html\\Lib\\site-packages\\ansys\\dpf\\core\\examples\\result_files\\static.rst \n",
      "\n",
      "Result files paths 12: \n",
      " {'rfrq': 'D:\\\\a\\\\pydpf-core\\\\pydpf-core\\\\.tox\\\\doc-html\\\\Lib\\\\site-packages\\\\ansys\\\\dpf\\\\core\\\\examples\\\\result_files\\\\msup\\\\file.rfrq', 'mode': 'D:\\\\a\\\\pydpf-core\\\\pydpf-core\\\\.tox\\\\doc-html\\\\Lib\\\\site-packages\\\\ansys\\\\dpf\\\\core\\\\examples\\\\result_files\\\\msup\\\\file.mode', 'rst': 'D:\\\\a\\\\pydpf-core\\\\pydpf-core\\\\.tox\\\\doc-html\\\\Lib\\\\site-packages\\\\ansys\\\\dpf\\\\core\\\\examples\\\\result_files\\\\msup\\\\file.rst'} \n",
      "\n"
     ]
    }
   ],
   "source": [
    "# Import the ``ansys.dpf.core`` module\n",
    "from ansys.dpf import core as dpf\n",
    "# Import the examples module\n",
    "from ansys.dpf.core import examples\n",
    "# Import the operators module\n",
    "from ansys.dpf.core import operators as ops\n",
    "\n",
    "# Define the .rst result file path\n",
    "result_file_path_11 = examples.find_static_rst()\n",
    "\n",
    "# Define the modal superposition harmonic analysis (.mode, .rfrq and .rst) result files paths\n",
    "result_file_path_12 = examples.download_msup_files_to_dict()\n",
    "\n",
    "\n",
    "# Print the result files paths\n",
    "print(\"Result file path 11:\", \"\\n\",result_file_path_11, \"\\n\")\n",
    "print(\"Result files paths 12:\", \"\\n\",result_file_path_12, \"\\n\")"
   ]
  },
  {
   "cell_type": "code",
   "execution_count": 2,
   "id": "07a2185a",
   "metadata": {
    "execution": {
     "iopub.execute_input": "2025-11-01T11:02:51.770407Z",
     "iopub.status.busy": "2025-11-01T11:02:51.770407Z",
     "iopub.status.idle": "2025-11-01T11:02:51.778470Z",
     "shell.execute_reply": "2025-11-01T11:02:51.777565Z"
    }
   },
   "outputs": [
    {
     "name": "stdout",
     "output_type": "stream",
     "text": [
      "Result files paths 21: \n",
      " ['D:\\\\a\\\\pydpf-core\\\\pydpf-core\\\\.tox\\\\doc-html\\\\Lib\\\\site-packages\\\\ansys\\\\dpf\\\\core\\\\examples\\\\result_files\\\\d3plot_beam\\\\d3plot', 'D:\\\\a\\\\pydpf-core\\\\pydpf-core\\\\.tox\\\\doc-html\\\\Lib\\\\site-packages\\\\ansys\\\\dpf\\\\core\\\\examples\\\\result_files\\\\d3plot_beam\\\\d3plot01', 'D:\\\\a\\\\pydpf-core\\\\pydpf-core\\\\.tox\\\\doc-html\\\\Lib\\\\site-packages\\\\ansys\\\\dpf\\\\core\\\\examples\\\\result_files\\\\d3plot_beam\\\\d3plot02', 'D:\\\\a\\\\pydpf-core\\\\pydpf-core\\\\.tox\\\\doc-html\\\\Lib\\\\site-packages\\\\ansys\\\\dpf\\\\core\\\\examples\\\\result_files\\\\d3plot_beam\\\\file.actunits'] \n",
      "\n",
      "Result file path 22: \n",
      " D:\\a\\pydpf-core\\pydpf-core\\.tox\\doc-html\\Lib\\site-packages\\ansys\\dpf\\core\\examples\\result_files\\binout\\binout_matsum \n",
      "\n"
     ]
    }
   ],
   "source": [
    "# Import the ``ansys.dpf.core`` module\n",
    "from ansys.dpf import core as dpf\n",
    "# Import the examples module\n",
    "from ansys.dpf.core import examples\n",
    "# Import the operators module\n",
    "from ansys.dpf.core import operators as ops\n",
    "\n",
    "# Define the .d3plot result files paths\n",
    "result_file_path_21 = examples.download_d3plot_beam()\n",
    "\n",
    "# Define the .binout result file path\n",
    "result_file_path_22 = examples.download_binout_matsum()\n",
    "\n",
    "# Print the result files paths\n",
    "print(\"Result files paths 21:\", \"\\n\",result_file_path_21, \"\\n\")\n",
    "print(\"Result file path 22:\", \"\\n\",result_file_path_22, \"\\n\")"
   ]
  },
  {
   "cell_type": "code",
   "execution_count": 3,
   "id": "fb645112",
   "metadata": {
    "execution": {
     "iopub.execute_input": "2025-11-01T11:02:51.781626Z",
     "iopub.status.busy": "2025-11-01T11:02:51.780483Z",
     "iopub.status.idle": "2025-11-01T11:02:51.789567Z",
     "shell.execute_reply": "2025-11-01T11:02:51.788577Z"
    }
   },
   "outputs": [
    {
     "name": "stdout",
     "output_type": "stream",
     "text": [
      "Result file path 31: \n",
      " D:\\a\\pydpf-core\\pydpf-core\\.tox\\doc-html\\Lib\\site-packages\\ansys\\dpf\\core\\examples\\result_files\\fluent-axial_comp\\axial_comp_reduced.flprj \n",
      "\n",
      "Result files paths 32: \n",
      " {'flprj': 'D:\\\\a\\\\pydpf-core\\\\pydpf-core\\\\.tox\\\\doc-html\\\\Lib\\\\site-packages\\\\ansys\\\\dpf\\\\core\\\\examples\\\\result_files\\\\fluent-axial_comp\\\\axial_comp_reduced.flprj', 'cas': ['D:\\\\a\\\\pydpf-core\\\\pydpf-core\\\\.tox\\\\doc-html\\\\Lib\\\\site-packages\\\\ansys\\\\dpf\\\\core\\\\examples\\\\result_files\\\\fluent-axial_comp\\\\axial_comp-1-01438.cas.h5', 'D:\\\\a\\\\pydpf-core\\\\pydpf-core\\\\.tox\\\\doc-html\\\\Lib\\\\site-packages\\\\ansys\\\\dpf\\\\core\\\\examples\\\\result_files\\\\fluent-axial_comp\\\\axial_comp-1-01439.cas.h5', 'D:\\\\a\\\\pydpf-core\\\\pydpf-core\\\\.tox\\\\doc-html\\\\Lib\\\\site-packages\\\\ansys\\\\dpf\\\\core\\\\examples\\\\result_files\\\\fluent-axial_comp\\\\axial_comp-1-01440.cas.h5'], 'dat': ['D:\\\\a\\\\pydpf-core\\\\pydpf-core\\\\.tox\\\\doc-html\\\\Lib\\\\site-packages\\\\ansys\\\\dpf\\\\core\\\\examples\\\\result_files\\\\fluent-axial_comp\\\\axial_comp-1-01438.dat.h5', 'D:\\\\a\\\\pydpf-core\\\\pydpf-core\\\\.tox\\\\doc-html\\\\Lib\\\\site-packages\\\\ansys\\\\dpf\\\\core\\\\examples\\\\result_files\\\\fluent-axial_comp\\\\axial_comp-1-01439.dat.h5', 'D:\\\\a\\\\pydpf-core\\\\pydpf-core\\\\.tox\\\\doc-html\\\\Lib\\\\site-packages\\\\ansys\\\\dpf\\\\core\\\\examples\\\\result_files\\\\fluent-axial_comp\\\\axial_comp-1-01440.dat.h5']} \n",
      "\n"
     ]
    }
   ],
   "source": [
    "# Import the ``ansys.dpf.core`` module\n",
    "from ansys.dpf import core as dpf\n",
    "# Import the examples module\n",
    "from ansys.dpf.core import examples\n",
    "# Import the operators module\n",
    "from ansys.dpf.core import operators as ops\n",
    "\n",
    "# Define the project .flprj result file path\n",
    "result_file_path_31 = examples.download_fluent_axial_comp()[\"flprj\"]\n",
    "\n",
    "# Define the CFF .cas.h5/.dat.h5 result files paths\n",
    "result_file_path_32 = examples.download_fluent_axial_comp()\n",
    "\n",
    "# Print the result files paths\n",
    "print(\"Result file path 31:\", \"\\n\",result_file_path_31, \"\\n\")\n",
    "print(\"Result files paths 32:\", \"\\n\",result_file_path_32, \"\\n\")"
   ]
  },
  {
   "cell_type": "code",
   "execution_count": 4,
   "id": "1f9d0df5",
   "metadata": {
    "execution": {
     "iopub.execute_input": "2025-11-01T11:02:51.793602Z",
     "iopub.status.busy": "2025-11-01T11:02:51.792365Z",
     "iopub.status.idle": "2025-11-01T11:02:51.801409Z",
     "shell.execute_reply": "2025-11-01T11:02:51.800863Z"
    }
   },
   "outputs": [
    {
     "name": "stdout",
     "output_type": "stream",
     "text": [
      "Result file path 41: \n",
      " D:\\a\\pydpf-core\\pydpf-core\\.tox\\doc-html\\Lib\\site-packages\\ansys\\dpf\\core\\examples\\result_files\\cfx-mixing_elbow\\InjectMixer.res \n",
      "\n",
      "Result files paths 42: \n",
      " {'cas': 'D:\\\\a\\\\pydpf-core\\\\pydpf-core\\\\.tox\\\\doc-html\\\\Lib\\\\site-packages\\\\ansys\\\\dpf\\\\core\\\\examples\\\\result_files\\\\cfx-heating_coil\\\\def.cas.cff', 'dat': 'D:\\\\a\\\\pydpf-core\\\\pydpf-core\\\\.tox\\\\doc-html\\\\Lib\\\\site-packages\\\\ansys\\\\dpf\\\\core\\\\examples\\\\result_files\\\\cfx-heating_coil\\\\def.dat.cff'} \n",
      "\n"
     ]
    }
   ],
   "source": [
    "# Import the ``ansys.dpf.core`` module\n",
    "from ansys.dpf import core as dpf\n",
    "# Import the examples module\n",
    "from ansys.dpf.core import examples\n",
    "# Import the operators module\n",
    "from ansys.dpf.core import operators as ops\n",
    "\n",
    "# Define the project .res result file path\n",
    "result_file_path_41 = examples.download_cfx_mixing_elbow()\n",
    "\n",
    "# Define the CFF .cas.cff/.dat.cff result files paths\n",
    "result_file_path_42 = examples.download_cfx_heating_coil()\n",
    "\n",
    "# Print the result files paths\n",
    "print(\"Result file path 41:\", \"\\n\",result_file_path_41, \"\\n\")\n",
    "print(\"Result files paths 42:\", \"\\n\",result_file_path_42, \"\\n\")"
   ]
  },
  {
   "cell_type": "code",
   "execution_count": 5,
   "id": "7d5a96c8",
   "metadata": {
    "execution": {
     "iopub.execute_input": "2025-11-01T11:02:51.805439Z",
     "iopub.status.busy": "2025-11-01T11:02:51.804941Z",
     "iopub.status.idle": "2025-11-01T11:02:51.809332Z",
     "shell.execute_reply": "2025-11-01T11:02:51.809332Z"
    }
   },
   "outputs": [],
   "source": [
    "# Create the DataSources object\n",
    "# Use the ``result_path`` argument and give the result file path\n",
    "ds_11 = dpf.DataSources(result_path=result_file_path_11)"
   ]
  },
  {
   "cell_type": "code",
   "execution_count": 6,
   "id": "d2375673",
   "metadata": {
    "execution": {
     "iopub.execute_input": "2025-11-01T11:02:51.813405Z",
     "iopub.status.busy": "2025-11-01T11:02:51.813405Z",
     "iopub.status.idle": "2025-11-01T11:02:51.819021Z",
     "shell.execute_reply": "2025-11-01T11:02:51.819021Z"
    }
   },
   "outputs": [],
   "source": [
    "# Create the main DataSources object\n",
    "ds_12 = dpf.DataSources()\n",
    "# Define the main result file path\n",
    "ds_12.set_result_file_path(filepath=result_file_path_12[\"rfrq\"], key='rfrq')\n",
    "\n",
    "# Create the upstream DataSources object with the main upstream file path\n",
    "upstream_ds_12 = dpf.DataSources(result_path=result_file_path_12[\"mode\"])\n",
    "# Add the additional upstream file path to the upstream DataSources object\n",
    "upstream_ds_12.add_file_path(filepath=result_file_path_12[\"rst\"])\n",
    "\n",
    "# Add the upstream DataSources to the main DataSources object\n",
    "ds_12.add_upstream(upstream_data_sources=upstream_ds_12)"
   ]
  },
  {
   "cell_type": "code",
   "execution_count": 7,
   "id": "97d6aaf1",
   "metadata": {
    "execution": {
     "iopub.execute_input": "2025-11-01T11:02:51.823079Z",
     "iopub.status.busy": "2025-11-01T11:02:51.823079Z",
     "iopub.status.idle": "2025-11-01T11:02:51.829145Z",
     "shell.execute_reply": "2025-11-01T11:02:51.828152Z"
    }
   },
   "outputs": [],
   "source": [
    "# Create the DataSources object\n",
    "ds_21 = dpf.DataSources()\n",
    "\n",
    "# Define the main result file path\n",
    "ds_21.set_result_file_path(filepath=result_file_path_21[0], key=\"d3plot\")\n",
    "\n",
    "# Add the additional file path related to the units\n",
    "ds_21.add_file_path(filepath=result_file_path_21[3], key=\"actunits\")"
   ]
  },
  {
   "cell_type": "code",
   "execution_count": 8,
   "id": "0fc5cede",
   "metadata": {
    "execution": {
     "iopub.execute_input": "2025-11-01T11:02:51.831163Z",
     "iopub.status.busy": "2025-11-01T11:02:51.831163Z",
     "iopub.status.idle": "2025-11-01T11:02:51.834748Z",
     "shell.execute_reply": "2025-11-01T11:02:51.834748Z"
    }
   },
   "outputs": [],
   "source": [
    "# Create the DataSources object\n",
    "ds_22 = dpf.DataSources()\n",
    "\n",
    "# Define the path to the result file\n",
    "# Use the ``key`` argument and give the file extension key\n",
    "ds_22.set_result_file_path(filepath=result_file_path_22, key=\"binout\")"
   ]
  },
  {
   "cell_type": "code",
   "execution_count": 9,
   "id": "21f8b680",
   "metadata": {
    "execution": {
     "iopub.execute_input": "2025-11-01T11:02:51.838306Z",
     "iopub.status.busy": "2025-11-01T11:02:51.837532Z",
     "iopub.status.idle": "2025-11-01T11:02:51.843013Z",
     "shell.execute_reply": "2025-11-01T11:02:51.841573Z"
    }
   },
   "outputs": [],
   "source": [
    "# Create the DataSources object\n",
    "# Use the ``result_path`` argument and give the result file path\n",
    "ds_31 = dpf.DataSources(result_path=result_file_path_31)"
   ]
  },
  {
   "cell_type": "code",
   "execution_count": 10,
   "id": "3c90ff51",
   "metadata": {
    "execution": {
     "iopub.execute_input": "2025-11-01T11:02:51.845610Z",
     "iopub.status.busy": "2025-11-01T11:02:51.845610Z",
     "iopub.status.idle": "2025-11-01T11:02:51.851182Z",
     "shell.execute_reply": "2025-11-01T11:02:51.849917Z"
    }
   },
   "outputs": [],
   "source": [
    "# Create the DataSources object\n",
    "ds_32 = dpf.DataSources()\n",
    "\n",
    "# Define the path to the main result file\n",
    "# Use the ``key`` argument and give the first extension key\n",
    "ds_32.set_result_file_path(filepath=result_file_path_32['cas'][0], key=\"cas\")\n",
    "\n",
    "# Add the additional result file path to the DataSources\n",
    "# Use the ``key`` argument and give the first extension key\n",
    "ds_32.add_file_path(filepath=result_file_path_32['dat'][0], key=\"dat\")"
   ]
  },
  {
   "cell_type": "code",
   "execution_count": 11,
   "id": "fb5daf31",
   "metadata": {
    "execution": {
     "iopub.execute_input": "2025-11-01T11:02:51.853980Z",
     "iopub.status.busy": "2025-11-01T11:02:51.853980Z",
     "iopub.status.idle": "2025-11-01T11:02:51.857243Z",
     "shell.execute_reply": "2025-11-01T11:02:51.857243Z"
    }
   },
   "outputs": [],
   "source": [
    "# Create the DataSources object\n",
    "# Use the ``result_path`` argument and give the result file path\n",
    "ds_41 = dpf.DataSources(result_path=result_file_path_41)"
   ]
  },
  {
   "cell_type": "code",
   "execution_count": 12,
   "id": "9c31594f",
   "metadata": {
    "execution": {
     "iopub.execute_input": "2025-11-01T11:02:51.861278Z",
     "iopub.status.busy": "2025-11-01T11:02:51.860948Z",
     "iopub.status.idle": "2025-11-01T11:02:51.864678Z",
     "shell.execute_reply": "2025-11-01T11:02:51.864678Z"
    }
   },
   "outputs": [],
   "source": [
    "# Create the DataSources object\n",
    "ds_42 = dpf.DataSources()\n",
    "\n",
    "# Define the path to the main result file\n",
    "# Use the ``key`` argument and give the first extension key\n",
    "ds_42.set_result_file_path(filepath=result_file_path_42[\"cas\"], key=\"cas\")\n",
    "\n",
    "# Add the additional result file path to the DataSources\n",
    "# Use the ``key`` argument and give the first extension key\n",
    "ds_42.add_file_path(filepath=result_file_path_42[\"dat\"], key=\"dat\")"
   ]
  },
  {
   "cell_type": "code",
   "execution_count": 13,
   "id": "a28df18e",
   "metadata": {
    "execution": {
     "iopub.execute_input": "2025-11-01T11:02:51.868746Z",
     "iopub.status.busy": "2025-11-01T11:02:51.868746Z",
     "iopub.status.idle": "2025-11-01T11:02:51.872812Z",
     "shell.execute_reply": "2025-11-01T11:02:51.872265Z"
    }
   },
   "outputs": [],
   "source": [
    "# Create the model with the result file path\n",
    "model_11 = dpf.Model(data_sources=result_file_path_11)\n",
    "\n",
    "# Create the model with the DataSources object\n",
    "model_12 = dpf.Model(data_sources=ds_11)"
   ]
  },
  {
   "cell_type": "code",
   "execution_count": 14,
   "id": "fbe1533d",
   "metadata": {
    "execution": {
     "iopub.execute_input": "2025-11-01T11:02:51.876845Z",
     "iopub.status.busy": "2025-11-01T11:02:51.876321Z",
     "iopub.status.idle": "2025-11-01T11:02:51.882410Z",
     "shell.execute_reply": "2025-11-01T11:02:51.880735Z"
    }
   },
   "outputs": [],
   "source": [
    "# Create the model with the DataSources object\n",
    "model_13 = dpf.Model(data_sources=ds_12)"
   ]
  },
  {
   "cell_type": "code",
   "execution_count": 15,
   "id": "c5f67f5f",
   "metadata": {
    "execution": {
     "iopub.execute_input": "2025-11-01T11:02:51.884773Z",
     "iopub.status.busy": "2025-11-01T11:02:51.884773Z",
     "iopub.status.idle": "2025-11-01T11:02:51.890479Z",
     "shell.execute_reply": "2025-11-01T11:02:51.888807Z"
    }
   },
   "outputs": [],
   "source": [
    "# Create the model with the DataSources object\n",
    "model_21 = dpf.Model(data_sources=ds_21)"
   ]
  },
  {
   "cell_type": "code",
   "execution_count": 16,
   "id": "0b8a4ea7",
   "metadata": {
    "execution": {
     "iopub.execute_input": "2025-11-01T11:02:51.893203Z",
     "iopub.status.busy": "2025-11-01T11:02:51.893203Z",
     "iopub.status.idle": "2025-11-01T11:02:51.898295Z",
     "shell.execute_reply": "2025-11-01T11:02:51.897160Z"
    }
   },
   "outputs": [],
   "source": [
    "# Create the model with the DataSources object\n",
    "model_22 = dpf.Model(data_sources=ds_22)"
   ]
  },
  {
   "cell_type": "code",
   "execution_count": 17,
   "id": "f9bd97ca",
   "metadata": {
    "execution": {
     "iopub.execute_input": "2025-11-01T11:02:51.901766Z",
     "iopub.status.busy": "2025-11-01T11:02:51.901228Z",
     "iopub.status.idle": "2025-11-01T11:02:51.904740Z",
     "shell.execute_reply": "2025-11-01T11:02:51.904740Z"
    }
   },
   "outputs": [],
   "source": [
    "# Create the model with the result file path\n",
    "model_31 = dpf.Model(data_sources=result_file_path_31)\n",
    "\n",
    "# Create the model with the DataSources object\n",
    "model_32 = dpf.Model(data_sources=ds_31)"
   ]
  },
  {
   "cell_type": "code",
   "execution_count": 18,
   "id": "da56daa4",
   "metadata": {
    "execution": {
     "iopub.execute_input": "2025-11-01T11:02:51.908782Z",
     "iopub.status.busy": "2025-11-01T11:02:51.908371Z",
     "iopub.status.idle": "2025-11-01T11:02:51.911870Z",
     "shell.execute_reply": "2025-11-01T11:02:51.911870Z"
    }
   },
   "outputs": [],
   "source": [
    "# Create the model with the DataSources object\n",
    "model_33 = dpf.Model(data_sources=ds_32)"
   ]
  },
  {
   "cell_type": "code",
   "execution_count": 19,
   "id": "1eda56ba",
   "metadata": {
    "execution": {
     "iopub.execute_input": "2025-11-01T11:02:51.915940Z",
     "iopub.status.busy": "2025-11-01T11:02:51.913920Z",
     "iopub.status.idle": "2025-11-01T11:02:51.919975Z",
     "shell.execute_reply": "2025-11-01T11:02:51.919249Z"
    }
   },
   "outputs": [],
   "source": [
    "# Create the model with the result file path\n",
    "model_41 = dpf.Model(data_sources=result_file_path_41)\n",
    "\n",
    "# Create the model with the DataSources object\n",
    "model_42 = dpf.Model(data_sources=ds_41)"
   ]
  },
  {
   "cell_type": "code",
   "execution_count": 20,
   "id": "842f75ce",
   "metadata": {
    "execution": {
     "iopub.execute_input": "2025-11-01T11:02:51.922128Z",
     "iopub.status.busy": "2025-11-01T11:02:51.922128Z",
     "iopub.status.idle": "2025-11-01T11:02:51.927554Z",
     "shell.execute_reply": "2025-11-01T11:02:51.926024Z"
    }
   },
   "outputs": [],
   "source": [
    "# Create the model with the DataSources object\n",
    "model_43 = dpf.Model(data_sources=ds_42)"
   ]
  }
 ],
 "metadata": {
  "kernelspec": {
   "display_name": "Python 3 (ipykernel)",
   "language": "python",
   "name": "python3"
  },
  "language_info": {
   "codemirror_mode": {
    "name": "ipython",
    "version": 3
   },
   "file_extension": ".py",
   "mimetype": "text/x-python",
   "name": "python",
   "nbconvert_exporter": "python",
   "pygments_lexer": "ipython3",
   "version": "3.11.9"
  }
 },
 "nbformat": 4,
 "nbformat_minor": 5
}