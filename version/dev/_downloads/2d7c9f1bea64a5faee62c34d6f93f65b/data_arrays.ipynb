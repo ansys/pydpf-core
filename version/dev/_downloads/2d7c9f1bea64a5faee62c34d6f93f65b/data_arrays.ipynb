{
 "cells": [
  {
   "cell_type": "code",
   "execution_count": 1,
   "id": "3badfede",
   "metadata": {
    "execution": {
     "iopub.execute_input": "2025-11-01T11:02:14.905854Z",
     "iopub.status.busy": "2025-11-01T11:02:14.905854Z",
     "iopub.status.idle": "2025-11-01T11:02:36.797101Z",
     "shell.execute_reply": "2025-11-01T11:02:36.797101Z"
    }
   },
   "outputs": [
    {
     "name": "stdout",
     "output_type": "stream",
     "text": [
      "DPF Model\n",
      "------------------------------\n",
      "Transient analysis\n",
      "Unit system: Custom: m, kg, N, s, V, A, K\n",
      "Physics Type: Fluid\n",
      "Available results:\n",
      "     -  enthalpy: Elemental Enthalpy  \n",
      "     -  mass_flow_rate: Faces Mass Flow Rate\n",
      "     -  static_pressure: ElementalAndFaces Static Pressure\n",
      "     -  mean_static_pressure: Elemental Mean Static Pressure\n",
      "     -  rms_static_pressure: Elemental Rms Static Pressure\n",
      "     -  surface_heat_rate: Faces Surface Heat Rate\n",
      "     -  density: ElementalAndFaces Density\n",
      "     -  face_artificial_wall_flag: Faces Face Artificial Wall Flag\n",
      "     -  body_force: Elemental Body Force\n",
      "     -  density_t_1: Elemental Density T 1\n",
      "     -  pressure_discontinuity_sensor: Elemental Pressure Discontinuity Sensor\n",
      "     -  dpm_partition: Elemental Dpm Partition\n",
      "     -  nucleation_rate_of_water_droplet: Faces Nucleation Rate Of Water Droplet\n",
      "     -  energy_m1: Elemental Energy M1\n",
      "     -  mass_flux_m1: Faces Mass Flux M1\n",
      "     -  pressure_m1: Elemental Pressure M1\n",
      "     -  radiation_heat_flow_rate: Faces Radiation Heat Flow Rate\n",
      "     -  temperature_m1: ElementalAndFaces Temperature M1\n",
      "     -  temperature_m2: Faces Temperature M2\n",
      "     -  x_velocity_m1: ElementalAndFaces X Velocity M1\n",
      "     -  y_velocity_m1: ElementalAndFaces Y Velocity M1\n",
      "     -  wall_velocity: Faces Wall Velocity\n",
      "     -  original_wall_velocity: Faces Original Wall Velocity\n",
      "     -  z_velocity_m1: ElementalAndFaces Z Velocity M1\n",
      "     -  wall_shear_stress: Faces Wall Shear Stress\n",
      "     -  temperature: ElementalAndFaces Temperature\n",
      "     -  mean_temperature: ElementalAndFaces Mean Temperature\n",
      "     -  rms_temperature: Elemental Rms Temperature\n",
      "     -  velocity: ElementalAndFaces Velocity\n",
      "     -  mean_velocity: Elemental Mean Velocity\n",
      "     -  rms_velocity: Elemental Rms Velocity\n",
      "Available qualifier labels:\n",
      "     - zone: default-interior:0 (2), rotor-hub (3), rotor-shroud (4), rotor-inlet (5), rotor-interface (6), rotor-blade-1 (7), rotor-blade-2 (8), rotor-per-1-shadow (9), rotor-per-1 (10), rotor-per-2-shadow (11), rotor-per-2 (12), fluid-rotor (13), default-interior (15), stator-hub (16), stator-shroud (17), stator-interface (18), stator-outlet (19), stator-blade-1 (20), stator-blade-2 (21), stator-blade-3 (22), stator-blade-4 (23), stator-per-2 (24), stator-per-2-shadow (25), stator-per-1 (26), stator-per-1-shadow (27), fluid-stator (28)\n",
      "     - phase: phase-1 (1)\n",
      "------------------------------\n",
      "DPF  Meshed Region: \n",
      "  16660 nodes \n",
      "  13856 elements \n",
      "  44242 faces \n",
      "  Unit: m \n",
      "  With solid (3D) elements\n",
      "------------------------------\n",
      "DPF  Time/Freq Support: \n",
      "  Number of sets: 3 \n",
      "Cumulative     Time (s)       LoadStep       Substep         \n",
      "1              0.009587       1              1               \n",
      "2              0.009593       2              1               \n",
      "3              0.009600       3              1               \n",
      "\n"
     ]
    }
   ],
   "source": [
    "# Import the ansys.dpf.core module as ``dpf``\n",
    "from ansys.dpf import core as dpf\n",
    "# Import the examples module\n",
    "from ansys.dpf.core import examples\n",
    "# Create a data source targeting the example file\n",
    "my_data_sources = dpf.DataSources(result_path=examples.download_fluent_axial_comp()[\"flprj\"])\n",
    "# Create a model from the data source\n",
    "my_model = dpf.Model(data_sources=my_data_sources)\n",
    "# Print information available for the analysis\n",
    "print(my_model)"
   ]
  },
  {
   "cell_type": "code",
   "execution_count": 2,
   "id": "dfc8f862",
   "metadata": {
    "execution": {
     "iopub.execute_input": "2025-11-01T11:02:36.800634Z",
     "iopub.status.busy": "2025-11-01T11:02:36.800634Z",
     "iopub.status.idle": "2025-11-01T11:02:36.819286Z",
     "shell.execute_reply": "2025-11-01T11:02:36.818492Z"
    }
   },
   "outputs": [
    {
     "name": "stdout",
     "output_type": "stream",
     "text": [
      "DPF MeshInfo\n",
      "------------------------------\n",
      "with properties:\n",
      "  num_cells           \tint\n",
      "  num_nodes           \tint\n",
      "  num_faces           \tint\n",
      "  body_names          \tStringField\n",
      "  body_cell_topology  \tPropertyField\n",
      "  body_face_topology  \tPropertyField\n",
      "  body_scoping        \tScoping\n",
      "  cell_zone_names     \tStringField\n",
      "  cell_zone_elements  \tPropertyField\n",
      "  cell_zone_scoping   \tScoping\n",
      "  face_zone_names     \tStringField\n",
      "  face_zone_elements  \tPropertyField\n",
      "  face_zone_scoping   \tScoping\n",
      "  zone_names          \tStringField\n",
      "  num_elem_zone       \tPropertyField\n",
      "  zone_scoping        \tScoping\n",
      "  splittable_by       \tStringField\n"
     ]
    }
   ],
   "source": [
    "# Get the mesh metadata\n",
    "my_mesh_info = my_model.metadata.mesh_info\n",
    "print(my_mesh_info)"
   ]
  },
  {
   "cell_type": "code",
   "execution_count": 3,
   "id": "3db03294",
   "metadata": {
    "execution": {
     "iopub.execute_input": "2025-11-01T11:02:36.821450Z",
     "iopub.status.busy": "2025-11-01T11:02:36.821450Z",
     "iopub.status.idle": "2025-11-01T11:02:36.903569Z",
     "shell.execute_reply": "2025-11-01T11:02:36.902681Z"
    }
   },
   "outputs": [
    {
     "name": "stdout",
     "output_type": "stream",
     "text": [
      "DPF T Field\n",
      "  Location: Elemental\n",
      "  Unit: K\n",
      "  13856 entities \n",
      "  Data: 1 components and 13856 elementary data \n",
      "\n",
      "  Elemental\n",
      "  IDs                   data(K)\n",
      "  ------------          ----------\n",
      "  1                     2.761285e+02   \n",
      "                        \n",
      "  2                     2.760320e+02   \n",
      "                        \n",
      "  3                     2.761719e+02   \n",
      "                        \n",
      "  ...\n",
      "\n",
      "\n"
     ]
    }
   ],
   "source": [
    "# Request the collection of temperature result fields from the model and take the first one.\n",
    "my_temp_field = my_model.results.temperature.eval()[0]\n",
    "# Print the field\n",
    "print(my_temp_field)"
   ]
  },
  {
   "cell_type": "code",
   "execution_count": 4,
   "id": "776891d1",
   "metadata": {
    "execution": {
     "iopub.execute_input": "2025-11-01T11:02:36.906267Z",
     "iopub.status.busy": "2025-11-01T11:02:36.905589Z",
     "iopub.status.idle": "2025-11-01T11:02:36.910987Z",
     "shell.execute_reply": "2025-11-01T11:02:36.910558Z"
    }
   },
   "outputs": [
    {
     "name": "stdout",
     "output_type": "stream",
     "text": [
      "DPF String Field\n",
      "  24 zone entities \n",
      "  Data:24 elementary data \n",
      "\n",
      "  zone\n",
      "  IDs                   data\n",
      "  ------------          ----------\n",
      "  2                     default-interior:0\n",
      "                        \n",
      "  3                     rotor-hub      \n",
      "                        \n",
      "  4                     rotor-shroud   \n",
      "                        \n",
      "  ...\n",
      "\n",
      "\n"
     ]
    }
   ],
   "source": [
    "# Request the name of the face zones in the fluid analysis\n",
    "my_string_field = my_mesh_info.get_property(property_name=\"face_zone_names\")\n",
    "# Print the field of strings\n",
    "print(my_string_field)"
   ]
  },
  {
   "cell_type": "code",
   "execution_count": 5,
   "id": "3d6f01b7",
   "metadata": {
    "execution": {
     "iopub.execute_input": "2025-11-01T11:02:36.913009Z",
     "iopub.status.busy": "2025-11-01T11:02:36.913009Z",
     "iopub.status.idle": "2025-11-01T11:02:36.917054Z",
     "shell.execute_reply": "2025-11-01T11:02:36.916700Z"
    }
   },
   "outputs": [
    {
     "name": "stdout",
     "output_type": "stream",
     "text": [
      "DPF Property Field\n",
      "  2 entities \n",
      "  Data: 1 components and 24 elementary data \n",
      "\n",
      "  Body\n",
      "  IDs                   data\n",
      "  ------------          ----------\n",
      "  13                    2              \n",
      "                        3              \n",
      "                        4              \n",
      "                        ...\n",
      "\n",
      "  28                    15             \n",
      "                        16             \n",
      "                        17             \n",
      "                        ...\n",
      "\n",
      "\n",
      "\n"
     ]
    }
   ],
   "source": [
    "# Get the body_face_topology property field\n",
    "my_property_field = my_mesh_info.get_property(property_name=\"body_face_topology\")\n",
    "# Print the field of integers\n",
    "print(my_property_field)"
   ]
  },
  {
   "cell_type": "code",
   "execution_count": 6,
   "id": "9a32f298",
   "metadata": {
    "execution": {
     "iopub.execute_input": "2025-11-01T11:02:36.919075Z",
     "iopub.status.busy": "2025-11-01T11:02:36.919075Z",
     "iopub.status.idle": "2025-11-01T11:02:36.924869Z",
     "shell.execute_reply": "2025-11-01T11:02:36.923831Z"
    }
   },
   "outputs": [
    {
     "name": "stdout",
     "output_type": "stream",
     "text": [
      "DPF  Field\n",
      "  Location: Nodal\n",
      "  Unit: m\n",
      "  2 entities \n",
      "  Data: 3 components and 2 elementary data \n",
      "\n",
      "  IDs                   data(m)\n",
      "  ------------          ----------\n",
      "  1                     1.000000e+00   2.000000e+00   3.000000e+00   \n",
      "                        \n",
      "  2                     4.000000e+00   5.000000e+00   6.000000e+00   \n",
      "                        \n",
      "\n",
      "\n"
     ]
    }
   ],
   "source": [
    "# Create a 3D vector field ready to hold data for two entities\n",
    "# The constructor creates 3D vector fields by default\n",
    "my_field = dpf.Field(nentities=2)\n",
    "# Set the data values as a flat vector\n",
    "my_field.data = [1.0, 2.0, 3.0, 4.0, 5.0, 6.0]\n",
    "# Associate the data to nodes\n",
    "my_field.location = dpf.locations.nodal\n",
    "# Set the IDs of the nodes the data applies to\n",
    "my_field.scoping.ids = [1, 2]\n",
    "# Define the unit (only available for the Field type)\n",
    "my_field.unit = \"m\"\n",
    "# Print the field\n",
    "print(my_field)"
   ]
  },
  {
   "cell_type": "code",
   "execution_count": 7,
   "id": "def4d1ca",
   "metadata": {
    "execution": {
     "iopub.execute_input": "2025-11-01T11:02:36.926905Z",
     "iopub.status.busy": "2025-11-01T11:02:36.926164Z",
     "iopub.status.idle": "2025-11-01T11:02:36.930610Z",
     "shell.execute_reply": "2025-11-01T11:02:36.930610Z"
    }
   },
   "outputs": [
    {
     "name": "stdout",
     "output_type": "stream",
     "text": [
      "DPF  Field\n",
      "  Location: Elemental\n",
      "  Unit: Pa\n",
      "  1 entities \n",
      "  Data: 6 components and 1 elementary data \n",
      "\n",
      "  IDs                   data(Pa)\n",
      "  ------------          ----------\n",
      "  1                     1.000000e+00   2.000000e+00   3.000000e+00   4.000000e+00   5.000000e+00   6.000000e+00   \n",
      "                        \n",
      "\n",
      "\n"
     ]
    }
   ],
   "source": [
    "# Set the nature to symmatrix\n",
    "my_field = dpf.Field(nentities=1, nature=dpf.natures.symmatrix)\n",
    "# The symmatrix dimensions defaults to 3x3\n",
    "# Set the data values as a flat vector\n",
    "my_field.data = [1.0, 2.0, 3.0, 4.0, 5.0, 6.0]\n",
    "# Associate the data to elements\n",
    "my_field.location = dpf.locations.elemental\n",
    "# Set the IDs of the nodes the data applies to\n",
    "my_field.scoping.ids = [1]\n",
    "# Define the unit (only available for the Field type)\n",
    "my_field.unit = \"Pa\"\n",
    "# Print the field\n",
    "print(my_field)"
   ]
  },
  {
   "cell_type": "code",
   "execution_count": 8,
   "id": "cdc378aa",
   "metadata": {
    "execution": {
     "iopub.execute_input": "2025-11-01T11:02:36.932651Z",
     "iopub.status.busy": "2025-11-01T11:02:36.932651Z",
     "iopub.status.idle": "2025-11-01T11:02:36.938287Z",
     "shell.execute_reply": "2025-11-01T11:02:36.937766Z"
    }
   },
   "outputs": [
    {
     "name": "stdout",
     "output_type": "stream",
     "text": [
      "DPF  Field\n",
      "  Location: Faces\n",
      "  Unit: mm\n",
      "  1 entities \n",
      "  Data: 6 components and 1 elementary data \n",
      "\n",
      "  IDs                   data(mm)\n",
      "  ------------          ----------\n",
      "  1                     1.000000e+00   2.000000e+00   3.000000e+00   4.000000e+00   5.000000e+00   6.000000e+00   \n",
      "                        \n",
      "\n",
      "\n"
     ]
    }
   ],
   "source": [
    "# Set the nature to matrix and the location to elemental\n",
    "my_field = dpf.Field(nentities=1, nature=dpf.natures.matrix)\n",
    "# Set the matrix dimensions to 2x3\n",
    "my_field.dimensionality = dpf.Dimensionality(dim_vec=[2, 3], nature=dpf.natures.matrix)\n",
    "# Set the data values as a flat vector\n",
    "my_field.data = [1.0, 2.0, 3.0, 4.0, 5.0, 6.0]\n",
    "# Associate the data to faces\n",
    "my_field.location = dpf.locations.faces\n",
    "# Set the IDs of the face the data applies to\n",
    "my_field.scoping.ids = [1]\n",
    "# Define the unit (only available for the Field type)\n",
    "my_field.unit = \"mm\"\n",
    "# Print the field\n",
    "print(my_field)"
   ]
  },
  {
   "cell_type": "code",
   "execution_count": 9,
   "id": "799b7844",
   "metadata": {
    "execution": {
     "iopub.execute_input": "2025-11-01T11:02:36.939798Z",
     "iopub.status.busy": "2025-11-01T11:02:36.939798Z",
     "iopub.status.idle": "2025-11-01T11:02:36.944230Z",
     "shell.execute_reply": "2025-11-01T11:02:36.944230Z"
    }
   },
   "outputs": [
    {
     "name": "stdout",
     "output_type": "stream",
     "text": [
      "DPF String Field\n",
      "  2 Elemental entities \n",
      "  Data:2 elementary data \n",
      "\n",
      "  Elemental\n",
      "  IDs                   data\n",
      "  ------------          ----------\n",
      "  1                     string_1       \n",
      "                        \n",
      "  2                     string_2       \n",
      "                        \n",
      "\n",
      "\n"
     ]
    }
   ],
   "source": [
    "# Create a string field with data for two elements\n",
    "my_string_field = dpf.StringField(nentities=2)\n",
    "# Set the string values\n",
    "my_string_field.data = [\"string_1\", \"string_2\"]\n",
    "# Set the location\n",
    "my_string_field.location = dpf.locations.elemental\n",
    "# Set the element IDs\n",
    "my_string_field.scoping.ids = [1, 2]\n",
    "# Print the string field\n",
    "print(my_string_field)"
   ]
  },
  {
   "cell_type": "code",
   "execution_count": 10,
   "id": "2c2b4ed1",
   "metadata": {
    "execution": {
     "iopub.execute_input": "2025-11-01T11:02:36.945766Z",
     "iopub.status.busy": "2025-11-01T11:02:36.945766Z",
     "iopub.status.idle": "2025-11-01T11:02:36.951910Z",
     "shell.execute_reply": "2025-11-01T11:02:36.951454Z"
    }
   },
   "outputs": [
    {
     "name": "stdout",
     "output_type": "stream",
     "text": [
      "DPF Property Field\n",
      "  2 entities \n",
      "  Data: 1 components and 2 elementary data \n",
      "\n",
      "  IDs                   data\n",
      "  ------------          ----------\n",
      "  1                     12             \n",
      "                        \n",
      "  2                     25             \n",
      "                        \n",
      "\n",
      "\n"
     ]
    }
   ],
   "source": [
    "# Create a property field with data for two modes\n",
    "my_property_field = dpf.PropertyField(nentities=2)\n",
    "# Set the data values\n",
    "my_property_field.data = [12, 25]\n",
    "# Set the location\n",
    "# For DPF 26R1 and above, directly set the location of the PropertyField\n",
    "from ansys.dpf.core.check_version import meets_version\n",
    "if meets_version(dpf.SERVER.version, \"11.0\"):\n",
    "    my_property_field.location = dpf.locations.modal\n",
    "# For DPF older than 26R1, you must set the location with a Scoping\n",
    "else:\n",
    "    my_property_field.scoping = dpf.Scoping(location=dpf.locations.modal)\n",
    "# Set the mode IDs\n",
    "my_property_field.scoping.ids = [1, 2]\n",
    "# Print the property field\n",
    "print(my_property_field)"
   ]
  },
  {
   "cell_type": "code",
   "execution_count": 11,
   "id": "9445835a",
   "metadata": {
    "execution": {
     "iopub.execute_input": "2025-11-01T11:02:36.953929Z",
     "iopub.status.busy": "2025-11-01T11:02:36.953929Z",
     "iopub.status.idle": "2025-11-01T11:02:36.959468Z",
     "shell.execute_reply": "2025-11-01T11:02:36.958503Z"
    }
   },
   "outputs": [
    {
     "name": "stdout",
     "output_type": "stream",
     "text": [
      "DPF  Field\n",
      "  Location: Nodal\n",
      "  Unit: \n",
      "  2 entities \n",
      "  Data: 1 components and 2 elementary data \n",
      "\n",
      "  IDs                   data\n",
      "  ------------          ----------\n",
      "  1                     1.000000e+00   \n",
      "                        \n",
      "  2                     2.000000e+00   \n",
      "                        \n",
      "\n",
      "\n"
     ]
    }
   ],
   "source": [
    "# Create a scalar field ready to hold data for two entities\n",
    "# The field is nodal by default\n",
    "my_field = dpf.fields_factory.create_scalar_field(num_entities=2)\n",
    "my_field.data = [1.0, 2.0]\n",
    "my_field.scoping.ids = [1, 2]\n",
    "# Print the field\n",
    "print(my_field)"
   ]
  },
  {
   "cell_type": "code",
   "execution_count": 12,
   "id": "dc38c4cd",
   "metadata": {
    "execution": {
     "iopub.execute_input": "2025-11-01T11:02:36.961483Z",
     "iopub.status.busy": "2025-11-01T11:02:36.960035Z",
     "iopub.status.idle": "2025-11-01T11:02:36.966149Z",
     "shell.execute_reply": "2025-11-01T11:02:36.965064Z"
    }
   },
   "outputs": [
    {
     "name": "stdout",
     "output_type": "stream",
     "text": [
      "DPF  Field\n",
      "  Location: Nodal\n",
      "  Unit: \n",
      "  2 entities \n",
      "  Data: 2 components and 2 elementary data \n",
      "\n",
      "  IDs                   data\n",
      "  ------------          ----------\n",
      "  1                     1.000000e+00   2.000000e+00   \n",
      "                        \n",
      "  2                     3.000000e+00   4.000000e+00   \n",
      "                        \n",
      "\n",
      "\n"
     ]
    }
   ],
   "source": [
    "# Create a 2D vector field ready to hold data for two entities\n",
    "# The field is nodal by default\n",
    "my_field = dpf.fields_factory.create_vector_field(num_entities=2, num_comp=2)\n",
    "my_field.data = [1.0, 2.0, 3.0, 4.0]\n",
    "my_field.scoping.ids = [1, 2]\n",
    "# Print the field\n",
    "print(my_field)"
   ]
  },
  {
   "cell_type": "code",
   "execution_count": 13,
   "id": "d5ed4ec1",
   "metadata": {
    "execution": {
     "iopub.execute_input": "2025-11-01T11:02:36.967539Z",
     "iopub.status.busy": "2025-11-01T11:02:36.967539Z",
     "iopub.status.idle": "2025-11-01T11:02:36.971635Z",
     "shell.execute_reply": "2025-11-01T11:02:36.971635Z"
    }
   },
   "outputs": [
    {
     "name": "stdout",
     "output_type": "stream",
     "text": [
      "DPF  Field\n",
      "  Location: Nodal\n",
      "  Unit: \n",
      "  2 entities \n",
      "  Data: 3 components and 2 elementary data \n",
      "\n",
      "  IDs                   data\n",
      "  ------------          ----------\n",
      "  1                     1.000000e+00   2.000000e+00   3.000000e+00   \n",
      "                        \n",
      "  2                     4.000000e+00   5.000000e+00   6.000000e+00   \n",
      "                        \n",
      "\n",
      "\n"
     ]
    }
   ],
   "source": [
    "# Create a 3D vector field ready to hold data for two entities\n",
    "# The field is nodal by default\n",
    "my_field = dpf.fields_factory.create_3d_vector_field(num_entities=2)\n",
    "my_field.data = [1.0, 2.0, 3.0, 4.0, 5.0, 6.0]\n",
    "my_field.scoping.ids = [1, 2]\n",
    "# Print the field\n",
    "print(my_field)"
   ]
  },
  {
   "cell_type": "code",
   "execution_count": 14,
   "id": "25ceeeb8",
   "metadata": {
    "execution": {
     "iopub.execute_input": "2025-11-01T11:02:36.973674Z",
     "iopub.status.busy": "2025-11-01T11:02:36.973674Z",
     "iopub.status.idle": "2025-11-01T11:02:36.978081Z",
     "shell.execute_reply": "2025-11-01T11:02:36.978081Z"
    }
   },
   "outputs": [
    {
     "name": "stdout",
     "output_type": "stream",
     "text": [
      "DPF  Field\n",
      "  Location: Nodal\n",
      "  Unit: \n",
      "  2 entities \n",
      "  Data: 6 components and 1 elementary data \n",
      "\n",
      "  IDs                   data\n",
      "  ------------          ----------\n",
      "  1                     1.000000e+00   2.000000e+00   3.000000e+00   4.000000e+00   5.000000e+00   6.000000e+00   \n",
      "                        \n",
      "  2                     0.000000e+00   0.000000e+00   0.000000e+00   0.000000e+00   0.000000e+00   6.952333e-310  \n",
      "                        \n",
      "\n",
      "\n"
     ]
    }
   ],
   "source": [
    "# Create a 2x3 matrix field ready to hold data for two entities\n",
    "# The field is nodal by default\n",
    "my_field = dpf.fields_factory.create_matrix_field(num_entities=2, num_lines=2, num_col=3)\n",
    "my_field.data = [1.0, 2.0, 3.0, 4.0, 5.0, 6.0]\n",
    "my_field.scoping.ids = [1, 2]\n",
    "# Print the field\n",
    "print(my_field)"
   ]
  },
  {
   "cell_type": "code",
   "execution_count": 15,
   "id": "0cead959",
   "metadata": {
    "execution": {
     "iopub.execute_input": "2025-11-01T11:02:36.980625Z",
     "iopub.status.busy": "2025-11-01T11:02:36.980625Z",
     "iopub.status.idle": "2025-11-01T11:02:36.985329Z",
     "shell.execute_reply": "2025-11-01T11:02:36.984984Z"
    }
   },
   "outputs": [
    {
     "name": "stdout",
     "output_type": "stream",
     "text": [
      "DPF  Field\n",
      "  Location: Nodal\n",
      "  Unit: \n",
      "  2 entities \n",
      "  Data: 6 components and 1 elementary data \n",
      "\n",
      "  IDs                   data\n",
      "  ------------          ----------\n",
      "  1                     1.000000e+00   2.000000e+00   3.000000e+00   4.000000e+00   5.000000e+00   6.000000e+00   \n",
      "                        \n",
      "  2                     7.000000e+00   8.000000e+00   9.000000e+00   6.952333e-310  0.000000e+00   7.410985e-323  \n",
      "                        \n",
      "\n",
      "\n"
     ]
    }
   ],
   "source": [
    "# Create a 3x3 matrix field ready to hold data for two entities\n",
    "# The field is nodal by default\n",
    "my_field = dpf.fields_factory.create_tensor_field(num_entities=2)\n",
    "my_field.data = [1.0, 2.0, 3.0, 4.0, 5.0, 6.0, 7.0, 8.0, 9.0]\n",
    "my_field.scoping.ids = [1, 2]\n",
    "# Print the field\n",
    "print(my_field)"
   ]
  },
  {
   "cell_type": "code",
   "execution_count": 16,
   "id": "6b06c911",
   "metadata": {
    "execution": {
     "iopub.execute_input": "2025-11-01T11:02:36.987697Z",
     "iopub.status.busy": "2025-11-01T11:02:36.987697Z",
     "iopub.status.idle": "2025-11-01T11:02:36.991918Z",
     "shell.execute_reply": "2025-11-01T11:02:36.991918Z"
    }
   },
   "outputs": [
    {
     "name": "stdout",
     "output_type": "stream",
     "text": [
      "DPF  Field\n",
      "  Location: overall\n",
      "  Unit: \n",
      "  1 entities \n",
      "  Data: 1 components and 1 elementary data \n",
      "\n",
      "  IDs                   data\n",
      "  ------------          ----------\n",
      "  0                     1.000000e+00   \n",
      "                        \n",
      "\n",
      "\n"
     ]
    }
   ],
   "source": [
    "# Create a field storing a value applied to every node in the support\n",
    "my_field = dpf.fields_factory.create_overall_field(value=1.0)\n",
    "# Print the field\n",
    "print(my_field)"
   ]
  },
  {
   "cell_type": "code",
   "execution_count": 17,
   "id": "b819d2e0",
   "metadata": {
    "execution": {
     "iopub.execute_input": "2025-11-01T11:02:36.993956Z",
     "iopub.status.busy": "2025-11-01T11:02:36.993956Z",
     "iopub.status.idle": "2025-11-01T11:02:36.999209Z",
     "shell.execute_reply": "2025-11-01T11:02:36.998767Z"
    }
   },
   "outputs": [
    {
     "name": "stdout",
     "output_type": "stream",
     "text": [
      "DPF  Field\n",
      "  Location: Nodal\n",
      "  Unit: \n",
      "  6 entities \n",
      "  Data: 1 components and 6 elementary data \n",
      "\n",
      "  IDs                   data\n",
      "  ------------          ----------\n",
      "  1                     1.000000e+00   \n",
      "                        \n",
      "  2                     2.000000e+00   \n",
      "                        \n",
      "  3                     3.000000e+00   \n",
      "                        \n",
      "  ...\n",
      "\n",
      "\n"
     ]
    }
   ],
   "source": [
    "# Create a scalar field from a 1D array or a list\n",
    "arr = [1.0, 2.0, 3.0, 4.0, 5.0, 6.0]\n",
    "my_field = dpf.fields_factory.field_from_array(arr=arr)\n",
    "# Print the field\n",
    "print(my_field)"
   ]
  },
  {
   "cell_type": "code",
   "execution_count": 18,
   "id": "7f0371e8",
   "metadata": {
    "execution": {
     "iopub.execute_input": "2025-11-01T11:02:37.001229Z",
     "iopub.status.busy": "2025-11-01T11:02:37.001229Z",
     "iopub.status.idle": "2025-11-01T11:02:37.005556Z",
     "shell.execute_reply": "2025-11-01T11:02:37.005096Z"
    }
   },
   "outputs": [
    {
     "name": "stdout",
     "output_type": "stream",
     "text": [
      "DPF  Field\n",
      "  Location: Nodal\n",
      "  Unit: \n",
      "  2 entities \n",
      "  Data: 3 components and 2 elementary data \n",
      "\n",
      "  IDs                   data\n",
      "  ------------          ----------\n",
      "  1                     1.000000e+00   2.000000e+00   3.000000e+00   \n",
      "                        \n",
      "  2                     4.000000e+00   5.000000e+00   6.000000e+00   \n",
      "                        \n",
      "\n",
      "\n"
     ]
    }
   ],
   "source": [
    "# Create a 3D vector field from an array or a list\n",
    "arr = [[1.0, 2.0, 3.0], [4.0, 5.0, 6.0]]\n",
    "my_field = dpf.fields_factory.field_from_array(arr=arr)\n",
    "# Print the field\n",
    "print(my_field)"
   ]
  },
  {
   "cell_type": "code",
   "execution_count": 19,
   "id": "5b770dea",
   "metadata": {
    "execution": {
     "iopub.execute_input": "2025-11-01T11:02:37.008173Z",
     "iopub.status.busy": "2025-11-01T11:02:37.008173Z",
     "iopub.status.idle": "2025-11-01T11:02:37.013228Z",
     "shell.execute_reply": "2025-11-01T11:02:37.012265Z"
    }
   },
   "outputs": [
    {
     "name": "stdout",
     "output_type": "stream",
     "text": [
      "DPF  Field\n",
      "  Location: Nodal\n",
      "  Unit: \n",
      "  1 entities \n",
      "  Data: 6 components and 1 elementary data \n",
      "\n",
      "  IDs                   data\n",
      "  ------------          ----------\n",
      "  1                     1.000000e+00   2.000000e+00   3.000000e+00   4.000000e+00   5.000000e+00   6.000000e+00   \n",
      "                        \n",
      "\n",
      "\n"
     ]
    }
   ],
   "source": [
    "# Create a symmetric matrix field from an array or a list\n",
    "arr = [[1.0, 2.0, 3.0, 4.0, 5.0, 6.0]]\n",
    "my_field = dpf.fields_factory.field_from_array(arr=arr)\n",
    "# Print the field\n",
    "print(my_field)"
   ]
  },
  {
   "cell_type": "code",
   "execution_count": 20,
   "id": "d75cb640",
   "metadata": {
    "execution": {
     "iopub.execute_input": "2025-11-01T11:02:37.015249Z",
     "iopub.status.busy": "2025-11-01T11:02:37.014303Z",
     "iopub.status.idle": "2025-11-01T11:02:37.021842Z",
     "shell.execute_reply": "2025-11-01T11:02:37.021305Z"
    }
   },
   "outputs": [
    {
     "name": "stdout",
     "output_type": "stream",
     "text": [
      "location \n",
      " Elemental \n",
      "\n",
      "scoping \n",
      " DPF  Scoping: \n",
      "  with Elemental location and 13856 entities\n",
      " \n",
      "\n",
      "scoping.ids \n",
      " [    1     2     3 ... 13854 13855 13856] \n",
      "\n",
      "elementary_data_count \n",
      " 13856 \n",
      "\n",
      "components_count \n",
      " 1 \n",
      "\n",
      "size \n",
      " 13856 \n",
      "\n",
      "shape \n",
      " 13856 \n",
      "\n",
      "unit \n",
      " K \n",
      "\n"
     ]
    }
   ],
   "source": [
    "# Location of the fields data\n",
    "my_location = my_temp_field.location\n",
    "print(\"location\", '\\n', my_location,'\\n')\n",
    "\n",
    "# Fields scoping\n",
    "my_scoping = my_temp_field.scoping  # Location entities type and number\n",
    "print(\"scoping\", '\\n',my_scoping, '\\n')\n",
    "\n",
    "my_scoping_ids = my_temp_field.scoping.ids  # Available ids of locations components\n",
    "print(\"scoping.ids\", '\\n', my_scoping_ids, '\\n')\n",
    "\n",
    "# Elementary data count\n",
    "# Number of the location entities (how many data vectors we have)\n",
    "my_elementary_data_count = my_temp_field.elementary_data_count\n",
    "print(\"elementary_data_count\", '\\n', my_elementary_data_count, '\\n')\n",
    "\n",
    "# Components count\n",
    "# Vectors dimension, here we have a displacement so we expect to have 3 components (X, Y and Z)\n",
    "my_component_count = my_temp_field.component_count\n",
    "print(\"components_count\", '\\n', my_component_count, '\\n')\n",
    "\n",
    "# Size\n",
    "# Length of the data entire vector (equal to the number of elementary data times the number of components.)\n",
    "my_field_size = my_temp_field.size\n",
    "print(\"size\", '\\n', my_field_size, '\\n')\n",
    "\n",
    "# Fields shape\n",
    "# Gives a tuple with the elementary data count and the components count\n",
    "my_shape = my_temp_field.shape\n",
    "print(\"shape\", '\\n', my_shape, '\\n')\n",
    "\n",
    "# Units\n",
    "my_unit = my_temp_field.unit\n",
    "print(\"unit\", '\\n', my_unit, '\\n')"
   ]
  },
  {
   "cell_type": "code",
   "execution_count": 21,
   "id": "ffd09533",
   "metadata": {
    "execution": {
     "iopub.execute_input": "2025-11-01T11:02:37.023581Z",
     "iopub.status.busy": "2025-11-01T11:02:37.023581Z",
     "iopub.status.idle": "2025-11-01T11:02:37.029948Z",
     "shell.execute_reply": "2025-11-01T11:02:37.029948Z"
    }
   },
   "outputs": [
    {
     "name": "stdout",
     "output_type": "stream",
     "text": [
      "location \n",
      " Elemental \n",
      "\n",
      "scoping \n",
      " DPF  Scoping: \n",
      "  with Elemental location and 2 entities\n",
      " \n",
      "\n",
      "scoping.ids \n",
      " [1 2] \n",
      "\n",
      "elementary_data_count \n",
      " 2 \n",
      "\n",
      "components_count \n",
      " 1 \n",
      "\n",
      "size \n",
      " 2 \n",
      "\n",
      "shape \n",
      " 2 \n",
      "\n"
     ]
    }
   ],
   "source": [
    "# Location of the fields data\n",
    "my_location = my_string_field.location\n",
    "print(\"location\", '\\n', my_location,'\\n')\n",
    "\n",
    "# StringFields scoping\n",
    "my_scoping = my_string_field.scoping  # Location entities type and number\n",
    "print(\"scoping\", '\\n',my_scoping, '\\n')\n",
    "\n",
    "my_scoping_ids = my_string_field.scoping.ids  # Available ids of locations components\n",
    "print(\"scoping.ids\", '\\n', my_scoping_ids, '\\n')\n",
    "\n",
    "# Elementary data count\n",
    "# Number of the location entities (how many data vectors we have)\n",
    "my_elementary_data_count = my_string_field.elementary_data_count\n",
    "print(\"elementary_data_count\", '\\n', my_elementary_data_count, '\\n')\n",
    "\n",
    "# Components count\n",
    "# Data dimension, here we expect one name by zone\n",
    "my_component_count = my_string_field.component_count\n",
    "print(\"components_count\", '\\n', my_component_count, '\\n')\n",
    "\n",
    "# Size\n",
    "# Length of the data entire array (equal to the number of elementary data times the number of components.)\n",
    "my_field_size = my_string_field.size\n",
    "print(\"size\", '\\n', my_field_size, '\\n')\n",
    "\n",
    "# Fields shape\n",
    "# Gives a tuple with the elementary data count and the components count\n",
    "my_shape = my_string_field.shape\n",
    "print(\"shape\", '\\n', my_shape, '\\n')"
   ]
  },
  {
   "cell_type": "code",
   "execution_count": 22,
   "id": "18b255d4",
   "metadata": {
    "execution": {
     "iopub.execute_input": "2025-11-01T11:02:37.031988Z",
     "iopub.status.busy": "2025-11-01T11:02:37.031988Z",
     "iopub.status.idle": "2025-11-01T11:02:37.038848Z",
     "shell.execute_reply": "2025-11-01T11:02:37.038069Z"
    }
   },
   "outputs": [
    {
     "name": "stdout",
     "output_type": "stream",
     "text": [
      "location \n",
      " Modal \n",
      "\n",
      "scoping \n",
      " DPF  Scoping: \n",
      "  with  location and 2 entities\n",
      " \n",
      "\n",
      "scoping.ids \n",
      " [1 2] \n",
      "\n",
      "elementary_data_count \n",
      " 2 \n",
      "\n",
      "components_count \n",
      " 1 \n",
      "\n",
      "size \n",
      " 2 \n",
      "\n",
      "shape \n",
      " 2 \n",
      "\n"
     ]
    }
   ],
   "source": [
    "# Location of the fields data\n",
    "my_location = my_property_field.location\n",
    "print(\"location\", '\\n', my_location,'\\n')\n",
    "\n",
    "# Fields scoping\n",
    "my_scoping = my_property_field.scoping  # Location entities type and number\n",
    "print(\"scoping\", '\\n',my_scoping, '\\n')\n",
    "\n",
    "my_scoping_ids = my_property_field.scoping.ids  # Available ids of locations components\n",
    "print(\"scoping.ids\", '\\n', my_scoping_ids, '\\n')\n",
    "\n",
    "# Elementary data count\n",
    "# Number of the location entities (how many data vectors we have)\n",
    "my_elementary_data_count = my_property_field.elementary_data_count\n",
    "print(\"elementary_data_count\", '\\n', my_elementary_data_count, '\\n')\n",
    "\n",
    "# Components count\n",
    "# Data dimension, we expect to have one id by face that makes part of a body\n",
    "my_component_count = my_property_field.component_count\n",
    "print(\"components_count\", '\\n', my_component_count, '\\n')\n",
    "\n",
    "# Size\n",
    "# Length of the data entire array (equal to the number of elementary data times the number of components.)\n",
    "my_field_size = my_property_field.size\n",
    "print(\"size\", '\\n', my_field_size, '\\n')\n",
    "\n",
    "# Fields shape\n",
    "# Gives a tuple with the elementary data count and the components count\n",
    "my_shape = my_property_field.shape\n",
    "print(\"shape\", '\\n', my_shape, '\\n')"
   ]
  },
  {
   "cell_type": "code",
   "execution_count": 23,
   "id": "fcf21c47",
   "metadata": {
    "execution": {
     "iopub.execute_input": "2025-11-01T11:02:37.040873Z",
     "iopub.status.busy": "2025-11-01T11:02:37.040873Z",
     "iopub.status.idle": "2025-11-01T11:02:37.044911Z",
     "shell.execute_reply": "2025-11-01T11:02:37.044587Z"
    }
   },
   "outputs": [
    {
     "name": "stdout",
     "output_type": "stream",
     "text": [
      "[276.12852414 276.03204537 276.17186547 ... 304.13925596 324.34370722\n",
      " 316.09748279]\n"
     ]
    }
   ],
   "source": [
    "my_data_array = my_temp_field.data\n",
    "print(my_data_array)"
   ]
  },
  {
   "cell_type": "code",
   "execution_count": 24,
   "id": "f79afcbb",
   "metadata": {
    "execution": {
     "iopub.execute_input": "2025-11-01T11:02:37.046931Z",
     "iopub.status.busy": "2025-11-01T11:02:37.046931Z",
     "iopub.status.idle": "2025-11-01T11:02:37.050483Z",
     "shell.execute_reply": "2025-11-01T11:02:37.050483Z"
    }
   },
   "outputs": [
    {
     "name": "stdout",
     "output_type": "stream",
     "text": [
      "<class 'ansys.dpf.gate.dpf_array.DPFArray'>\n"
     ]
    }
   ],
   "source": [
    "print(type(my_data_array))"
   ]
  },
  {
   "cell_type": "code",
   "execution_count": 25,
   "id": "fa6839b4",
   "metadata": {
    "execution": {
     "iopub.execute_input": "2025-11-01T11:02:37.052499Z",
     "iopub.status.busy": "2025-11-01T11:02:37.052499Z",
     "iopub.status.idle": "2025-11-01T11:02:37.056538Z",
     "shell.execute_reply": "2025-11-01T11:02:37.056538Z"
    }
   },
   "outputs": [
    {
     "name": "stdout",
     "output_type": "stream",
     "text": [
      "DPFVectorString['string_1', 'string_2']\n"
     ]
    }
   ],
   "source": [
    "my_data_array = my_string_field.data\n",
    "print(my_data_array)"
   ]
  },
  {
   "cell_type": "code",
   "execution_count": 26,
   "id": "7ccd6c5c",
   "metadata": {
    "execution": {
     "iopub.execute_input": "2025-11-01T11:02:37.058557Z",
     "iopub.status.busy": "2025-11-01T11:02:37.058557Z",
     "iopub.status.idle": "2025-11-01T11:02:37.063136Z",
     "shell.execute_reply": "2025-11-01T11:02:37.063136Z"
    }
   },
   "outputs": [
    {
     "name": "stdout",
     "output_type": "stream",
     "text": [
      "[12 25]\n"
     ]
    }
   ],
   "source": [
    "my_data_array = my_property_field.data\n",
    "print(my_data_array)"
   ]
  },
  {
   "cell_type": "code",
   "execution_count": 27,
   "id": "bb03dd3c",
   "metadata": {
    "execution": {
     "iopub.execute_input": "2025-11-01T11:02:37.065632Z",
     "iopub.status.busy": "2025-11-01T11:02:37.065632Z",
     "iopub.status.idle": "2025-11-01T11:02:37.073489Z",
     "shell.execute_reply": "2025-11-01T11:02:37.072449Z"
    }
   },
   "outputs": [
    {
     "data": {
      "text/plain": [
       "DPFArray([275.3473736])"
      ]
     },
     "execution_count": 27,
     "metadata": {},
     "output_type": "execute_result"
    }
   ],
   "source": [
    "# Get the data from the third element in the field\n",
    "my_temp_field.get_entity_data(index=3)"
   ]
  },
  {
   "cell_type": "code",
   "execution_count": 28,
   "id": "a46a471b",
   "metadata": {
    "execution": {
     "iopub.execute_input": "2025-11-01T11:02:37.074210Z",
     "iopub.status.busy": "2025-11-01T11:02:37.074210Z",
     "iopub.status.idle": "2025-11-01T11:02:37.080854Z",
     "shell.execute_reply": "2025-11-01T11:02:37.079806Z"
    }
   },
   "outputs": [
    {
     "data": {
      "text/plain": [
       "DPFArray([276.30236262])"
      ]
     },
     "execution_count": 28,
     "metadata": {},
     "output_type": "execute_result"
    }
   ],
   "source": [
    "# Get the data from the element with id 533\n",
    "my_temp_field.get_entity_data_by_id(id=533)"
   ]
  },
  {
   "cell_type": "code",
   "execution_count": 29,
   "id": "2035b292",
   "metadata": {
    "execution": {
     "iopub.execute_input": "2025-11-01T11:02:37.082907Z",
     "iopub.status.busy": "2025-11-01T11:02:37.081275Z",
     "iopub.status.idle": "2025-11-01T11:02:37.087275Z",
     "shell.execute_reply": "2025-11-01T11:02:37.087275Z"
    }
   },
   "outputs": [
    {
     "data": {
      "text/plain": [
       "532"
      ]
     },
     "execution_count": 29,
     "metadata": {},
     "output_type": "execute_result"
    }
   ],
   "source": [
    "# Get index of the element with id 533\n",
    "my_temp_field.scoping.index(id=533)"
   ]
  },
  {
   "cell_type": "code",
   "execution_count": 30,
   "id": "b87ce09b",
   "metadata": {
    "execution": {
     "iopub.execute_input": "2025-11-01T11:02:37.089291Z",
     "iopub.status.busy": "2025-11-01T11:02:37.089291Z",
     "iopub.status.idle": "2025-11-01T11:02:37.095311Z",
     "shell.execute_reply": "2025-11-01T11:02:37.095311Z"
    }
   },
   "outputs": [],
   "source": [
    "# Create a deep copy of the field that can be accessed and modified locally.\n",
    "with my_temp_field.as_local_field() as f:\n",
    "    for i in range(1,100):\n",
    "        f.get_entity_data_by_id(i)"
   ]
  }
 ],
 "metadata": {
  "kernelspec": {
   "display_name": "Python 3 (ipykernel)",
   "language": "python",
   "name": "python3"
  },
  "language_info": {
   "codemirror_mode": {
    "name": "ipython",
    "version": 3
   },
   "file_extension": ".py",
   "mimetype": "text/x-python",
   "name": "python",
   "nbconvert_exporter": "python",
   "pygments_lexer": "ipython3",
   "version": "3.11.9"
  }
 },
 "nbformat": 4,
 "nbformat_minor": 5
}