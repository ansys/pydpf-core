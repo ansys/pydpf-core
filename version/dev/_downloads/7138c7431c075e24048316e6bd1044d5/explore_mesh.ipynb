{
 "cells": [
  {
   "cell_type": "code",
   "execution_count": 1,
   "id": "dc568076",
   "metadata": {
    "execution": {
     "iopub.execute_input": "2025-11-01T11:03:44.172992Z",
     "iopub.status.busy": "2025-11-01T11:03:44.170970Z",
     "iopub.status.idle": "2025-11-01T11:03:46.065001Z",
     "shell.execute_reply": "2025-11-01T11:03:46.064661Z"
    }
   },
   "outputs": [],
   "source": [
    "# Import the ``ansys.dpf.core`` module\n",
    "from ansys.dpf import core as dpf\n",
    "# Import the examples module\n",
    "from ansys.dpf.core import examples\n",
    "# Import the operators module\n",
    "from ansys.dpf.core import operators as ops\n",
    "\n",
    "# Define the result file path\n",
    "result_file_path_1 = examples.find_static_rst()\n",
    "# Create the model\n",
    "model_1 = dpf.Model(data_sources=result_file_path_1)\n",
    "# Get the mesh\n",
    "meshed_region_1 = model_1.metadata.meshed_region"
   ]
  },
  {
   "cell_type": "code",
   "execution_count": 2,
   "id": "03e4b981",
   "metadata": {
    "execution": {
     "iopub.execute_input": "2025-11-01T11:03:46.067014Z",
     "iopub.status.busy": "2025-11-01T11:03:46.067014Z",
     "iopub.status.idle": "2025-11-01T11:03:46.080042Z",
     "shell.execute_reply": "2025-11-01T11:03:46.079360Z"
    }
   },
   "outputs": [],
   "source": [
    "# Import the ``ansys.dpf.core`` module\n",
    "from ansys.dpf import core as dpf\n",
    "# Import the examples module\n",
    "from ansys.dpf.core import examples\n",
    "# Import the operators module\n",
    "from ansys.dpf.core import operators as ops\n",
    "\n",
    "# Define the result file path\n",
    "result_file_path_2 = examples.download_d3plot_beam()\n",
    "# Create the DataSources object\n",
    "ds_2 = dpf.DataSources()\n",
    "ds_2.set_result_file_path(filepath=result_file_path_2[0], key=\"d3plot\")\n",
    "ds_2.add_file_path(filepath=result_file_path_2[3], key=\"actunits\")\n",
    "# Create the model\n",
    "model_2 = dpf.Model(data_sources=ds_2)\n",
    "# Get the mesh\n",
    "meshed_region_2 = model_2.metadata.meshed_region"
   ]
  },
  {
   "cell_type": "code",
   "execution_count": 3,
   "id": "b399d742",
   "metadata": {
    "execution": {
     "iopub.execute_input": "2025-11-01T11:03:46.082060Z",
     "iopub.status.busy": "2025-11-01T11:03:46.082060Z",
     "iopub.status.idle": "2025-11-01T11:03:56.431378Z",
     "shell.execute_reply": "2025-11-01T11:03:56.430278Z"
    }
   },
   "outputs": [],
   "source": [
    "# Import the ``ansys.dpf.core`` module\n",
    "from ansys.dpf import core as dpf\n",
    "# Import the examples module\n",
    "from ansys.dpf.core import examples\n",
    "# Import the operators module\n",
    "from ansys.dpf.core import operators as ops\n",
    "\n",
    "# Define the result file path\n",
    "result_file_path_3 = examples.download_fluent_axial_comp()[\"flprj\"]\n",
    "# Create the model\n",
    "model_3 = dpf.Model(data_sources=result_file_path_3)\n",
    "# Get the mesh\n",
    "meshed_region_3 = model_3.metadata.meshed_region"
   ]
  },
  {
   "cell_type": "code",
   "execution_count": 4,
   "id": "c242bf0e",
   "metadata": {
    "execution": {
     "iopub.execute_input": "2025-11-01T11:03:56.434337Z",
     "iopub.status.busy": "2025-11-01T11:03:56.434337Z",
     "iopub.status.idle": "2025-11-01T11:04:10.740678Z",
     "shell.execute_reply": "2025-11-01T11:04:10.739274Z"
    }
   },
   "outputs": [],
   "source": [
    "# Import the ``ansys.dpf.core`` module\n",
    "from ansys.dpf import core as dpf\n",
    "# Import the examples module\n",
    "from ansys.dpf.core import examples\n",
    "# Import the operators module\n",
    "from ansys.dpf.core import operators as ops\n",
    "\n",
    "# Define the result file path\n",
    "result_file_path_4 = examples.download_cfx_mixing_elbow()\n",
    "# Create the model\n",
    "model_4 = dpf.Model(data_sources=result_file_path_4)\n",
    "# Get the mesh\n",
    "meshed_region_4 = model_4.metadata.meshed_region"
   ]
  },
  {
   "cell_type": "code",
   "execution_count": 5,
   "id": "e36d2cbf",
   "metadata": {
    "execution": {
     "iopub.execute_input": "2025-11-01T11:04:10.743331Z",
     "iopub.status.busy": "2025-11-01T11:04:10.743331Z",
     "iopub.status.idle": "2025-11-01T11:04:10.748488Z",
     "shell.execute_reply": "2025-11-01T11:04:10.747869Z"
    }
   },
   "outputs": [
    {
     "name": "stdout",
     "output_type": "stream",
     "text": [
      "Object type:  <class 'ansys.dpf.core.nodes.Nodes'> \n",
      "\n",
      "Nodes:  DPF Node collection with 81 nodes\n",
      "\n"
     ]
    }
   ],
   "source": [
    "# Get the mesh nodes\n",
    "nodes_1 = meshed_region_1.nodes\n",
    "\n",
    "# Print the object type\n",
    "print(\"Object type: \",type(nodes_1),'\\n')\n",
    "\n",
    "# Print the nodes\n",
    "print(\"Nodes: \", nodes_1)"
   ]
  },
  {
   "cell_type": "code",
   "execution_count": 6,
   "id": "e2c3095a",
   "metadata": {
    "execution": {
     "iopub.execute_input": "2025-11-01T11:04:10.750501Z",
     "iopub.status.busy": "2025-11-01T11:04:10.750501Z",
     "iopub.status.idle": "2025-11-01T11:04:10.756548Z",
     "shell.execute_reply": "2025-11-01T11:04:10.755452Z"
    }
   },
   "outputs": [
    {
     "name": "stdout",
     "output_type": "stream",
     "text": [
      "Object type:  <class 'ansys.dpf.core.nodes.Nodes'> \n",
      "\n",
      "Nodes:  DPF Node collection with 1940 nodes\n",
      "\n"
     ]
    }
   ],
   "source": [
    "# Get the mesh nodes\n",
    "nodes_2 = meshed_region_2.nodes\n",
    "\n",
    "# Print the object type\n",
    "print(\"Object type: \",type(nodes_2),'\\n')\n",
    "\n",
    "# Print the nodes\n",
    "print(\"Nodes: \", nodes_2)"
   ]
  },
  {
   "cell_type": "code",
   "execution_count": 7,
   "id": "dd5be45f",
   "metadata": {
    "execution": {
     "iopub.execute_input": "2025-11-01T11:04:10.758563Z",
     "iopub.status.busy": "2025-11-01T11:04:10.758563Z",
     "iopub.status.idle": "2025-11-01T11:04:10.763615Z",
     "shell.execute_reply": "2025-11-01T11:04:10.762593Z"
    }
   },
   "outputs": [
    {
     "name": "stdout",
     "output_type": "stream",
     "text": [
      "Object type:  <class 'ansys.dpf.core.nodes.Nodes'> \n",
      "\n",
      "Nodes:  DPF Node collection with 16660 nodes\n",
      "\n"
     ]
    }
   ],
   "source": [
    "# Get the mesh nodes\n",
    "nodes_3 = meshed_region_3.nodes\n",
    "\n",
    "# Print the object type\n",
    "print(\"Object type: \",type(nodes_3),'\\n')\n",
    "\n",
    "# Print the nodes\n",
    "print(\"Nodes: \", nodes_3)"
   ]
  },
  {
   "cell_type": "code",
   "execution_count": 8,
   "id": "0e2ae7f5",
   "metadata": {
    "execution": {
     "iopub.execute_input": "2025-11-01T11:04:10.766146Z",
     "iopub.status.busy": "2025-11-01T11:04:10.765658Z",
     "iopub.status.idle": "2025-11-01T11:04:10.770176Z",
     "shell.execute_reply": "2025-11-01T11:04:10.770176Z"
    }
   },
   "outputs": [
    {
     "name": "stdout",
     "output_type": "stream",
     "text": [
      "Object type:  <class 'ansys.dpf.core.nodes.Nodes'> \n",
      "\n",
      "Nodes:  DPF Node collection with 6219 nodes\n",
      "\n"
     ]
    }
   ],
   "source": [
    "# Get the mesh nodes\n",
    "nodes_4 = meshed_region_4.nodes\n",
    "\n",
    "# Print the object type\n",
    "print(\"Object type: \",type(nodes_4),'\\n')\n",
    "\n",
    "# Print the nodes\n",
    "print(\"Nodes: \", nodes_4)"
   ]
  },
  {
   "cell_type": "code",
   "execution_count": 9,
   "id": "2fa57300",
   "metadata": {
    "execution": {
     "iopub.execute_input": "2025-11-01T11:04:10.773728Z",
     "iopub.status.busy": "2025-11-01T11:04:10.773728Z",
     "iopub.status.idle": "2025-11-01T11:04:10.778228Z",
     "shell.execute_reply": "2025-11-01T11:04:10.777452Z"
    }
   },
   "outputs": [
    {
     "name": "stdout",
     "output_type": "stream",
     "text": [
      "Available properties:  ['connectivity', 'elprops', 'eltype', 'apdl_element_type', 'section', 'mat']\n"
     ]
    }
   ],
   "source": [
    "# Get the available properties\n",
    "available_props_1 = meshed_region_1.available_property_fields\n",
    "\n",
    "# Print the available properties\n",
    "print(\"Available properties: \", available_props_1)"
   ]
  },
  {
   "cell_type": "code",
   "execution_count": 10,
   "id": "5ce83549",
   "metadata": {
    "execution": {
     "iopub.execute_input": "2025-11-01T11:04:10.781118Z",
     "iopub.status.busy": "2025-11-01T11:04:10.779537Z",
     "iopub.status.idle": "2025-11-01T11:04:10.785588Z",
     "shell.execute_reply": "2025-11-01T11:04:10.784499Z"
    }
   },
   "outputs": [
    {
     "name": "stdout",
     "output_type": "stream",
     "text": [
      "Available properties:  ['connectivity', 'eltype', 'mat']\n"
     ]
    }
   ],
   "source": [
    "# Get the available properties\n",
    "available_props_2 = meshed_region_2.available_property_fields\n",
    "\n",
    "# Print the available properties\n",
    "print(\"Available properties: \", available_props_2)"
   ]
  },
  {
   "cell_type": "code",
   "execution_count": 11,
   "id": "f24954f6",
   "metadata": {
    "execution": {
     "iopub.execute_input": "2025-11-01T11:04:10.787611Z",
     "iopub.status.busy": "2025-11-01T11:04:10.787611Z",
     "iopub.status.idle": "2025-11-01T11:04:10.791646Z",
     "shell.execute_reply": "2025-11-01T11:04:10.791053Z"
    }
   },
   "outputs": [
    {
     "name": "stdout",
     "output_type": "stream",
     "text": [
      "Available properties:  ['connectivity', 'eltype', 'faces_type', 'faces_nodes_connectivity', 'elements_faces_connectivity', 'elements_faces_reversed']\n"
     ]
    }
   ],
   "source": [
    "# Get the available properties\n",
    "available_props_3 = meshed_region_3.available_property_fields\n",
    "\n",
    "# Print the available properties\n",
    "print(\"Available properties: \", available_props_3)"
   ]
  },
  {
   "cell_type": "code",
   "execution_count": 12,
   "id": "27e888c6",
   "metadata": {
    "execution": {
     "iopub.execute_input": "2025-11-01T11:04:10.793665Z",
     "iopub.status.busy": "2025-11-01T11:04:10.793665Z",
     "iopub.status.idle": "2025-11-01T11:04:10.799241Z",
     "shell.execute_reply": "2025-11-01T11:04:10.798437Z"
    }
   },
   "outputs": [
    {
     "name": "stdout",
     "output_type": "stream",
     "text": [
      "Available properties:  ['connectivity', 'eltype']\n"
     ]
    }
   ],
   "source": [
    "# Get the available properties\n",
    "available_props_4 = meshed_region_4.available_property_fields\n",
    "\n",
    "# Print the available properties\n",
    "print(\"Available properties: \", available_props_4)"
   ]
  },
  {
   "cell_type": "code",
   "execution_count": 13,
   "id": "dea4dffb",
   "metadata": {
    "execution": {
     "iopub.execute_input": "2025-11-01T11:04:10.801262Z",
     "iopub.status.busy": "2025-11-01T11:04:10.801262Z",
     "iopub.status.idle": "2025-11-01T11:04:10.805219Z",
     "shell.execute_reply": "2025-11-01T11:04:10.805219Z"
    }
   },
   "outputs": [
    {
     "name": "stdout",
     "output_type": "stream",
     "text": [
      "DPF Property Field\n",
      "  8 entities \n",
      "  Data: 1 components and 8 elementary data \n",
      "\n",
      "  Elemental\n",
      "  IDs                   data\n",
      "  ------------          ----------\n",
      "  5                     1              \n",
      "                        \n",
      "  6                     1              \n",
      "                        \n",
      "  1                     1              \n",
      "                        \n",
      "  ...\n",
      "\n",
      "\n"
     ]
    }
   ],
   "source": [
    "# Get the element types on the mesh\n",
    "el_types_1 = meshed_region_1.elements.element_types_field\n",
    "\n",
    "# Print the element types by element\n",
    "print(el_types_1)"
   ]
  },
  {
   "cell_type": "code",
   "execution_count": 14,
   "id": "b7915a31",
   "metadata": {
    "execution": {
     "iopub.execute_input": "2025-11-01T11:04:10.807261Z",
     "iopub.status.busy": "2025-11-01T11:04:10.807261Z",
     "iopub.status.idle": "2025-11-01T11:04:10.812881Z",
     "shell.execute_reply": "2025-11-01T11:04:10.811894Z"
    }
   },
   "outputs": [
    {
     "name": "stdout",
     "output_type": "stream",
     "text": [
      "DPF Property Field\n",
      "  2056 entities \n",
      "  Data: 1 components and 2056 elementary data \n",
      "\n",
      "  Elemental\n",
      "  IDs                   data\n",
      "  ------------          ----------\n",
      "  257                   11             \n",
      "                        \n",
      "  258                   11             \n",
      "                        \n",
      "  259                   11             \n",
      "                        \n",
      "  ...\n",
      "\n",
      "\n"
     ]
    }
   ],
   "source": [
    "# Get the element types on the mesh\n",
    "el_types_2 = meshed_region_2.property_field(property_name=\"eltype\")\n",
    "\n",
    "# Print the element types by element\n",
    "print(el_types_2)"
   ]
  },
  {
   "cell_type": "code",
   "execution_count": 15,
   "id": "71e46735",
   "metadata": {
    "execution": {
     "iopub.execute_input": "2025-11-01T11:04:10.814902Z",
     "iopub.status.busy": "2025-11-01T11:04:10.814902Z",
     "iopub.status.idle": "2025-11-01T11:04:10.820964Z",
     "shell.execute_reply": "2025-11-01T11:04:10.819555Z"
    }
   },
   "outputs": [
    {
     "name": "stdout",
     "output_type": "stream",
     "text": [
      "DPF Property Field\n",
      "  13856 entities \n",
      "  Data: 1 components and 13856 elementary data \n",
      "\n",
      "  Elemental\n",
      "  IDs                   data\n",
      "  ------------          ----------\n",
      "  1                     11             \n",
      "                        \n",
      "  2                     11             \n",
      "                        \n",
      "  3                     11             \n",
      "                        \n",
      "  ...\n",
      "\n",
      "\n"
     ]
    }
   ],
   "source": [
    "# Get the element types on the mesh\n",
    "el_types_3 = meshed_region_3.property_field(property_name=\"eltype\")\n",
    "\n",
    "# Print the element types by element\n",
    "print(el_types_3)"
   ]
  },
  {
   "cell_type": "code",
   "execution_count": 16,
   "id": "1c3eab5f",
   "metadata": {
    "execution": {
     "iopub.execute_input": "2025-11-01T11:04:10.822987Z",
     "iopub.status.busy": "2025-11-01T11:04:10.822987Z",
     "iopub.status.idle": "2025-11-01T11:04:10.827313Z",
     "shell.execute_reply": "2025-11-01T11:04:10.827313Z"
    }
   },
   "outputs": [
    {
     "name": "stdout",
     "output_type": "stream",
     "text": [
      "DPF Property Field\n",
      "  15695 entities \n",
      "  Data: 1 components and 15695 elementary data \n",
      "\n",
      "  Elemental\n",
      "  IDs                   data\n",
      "  ------------          ----------\n",
      "  1                     10             \n",
      "                        \n",
      "  2                     10             \n",
      "                        \n",
      "  3                     10             \n",
      "                        \n",
      "  ...\n",
      "\n",
      "\n"
     ]
    }
   ],
   "source": [
    "# Get the element types on the mesh\n",
    "el_types_4 = meshed_region_4.property_field(property_name=\"eltype\")\n",
    "\n",
    "# Print the element types by element\n",
    "print(el_types_4)"
   ]
  }
 ],
 "metadata": {
  "kernelspec": {
   "display_name": "Python 3 (ipykernel)",
   "language": "python",
   "name": "python3"
  },
  "language_info": {
   "codemirror_mode": {
    "name": "ipython",
    "version": 3
   },
   "file_extension": ".py",
   "mimetype": "text/x-python",
   "name": "python",
   "nbconvert_exporter": "python",
   "pygments_lexer": "ipython3",
   "version": "3.11.9"
  }
 },
 "nbformat": 4,
 "nbformat_minor": 5
}