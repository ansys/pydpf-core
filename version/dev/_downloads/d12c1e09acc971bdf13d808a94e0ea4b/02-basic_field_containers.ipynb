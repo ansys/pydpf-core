{
  "cells": [
    {
      "cell_type": "code",
      "execution_count": null,
      "metadata": {
        "collapsed": false
      },
      "outputs": [],
      "source": [
        "%matplotlib inline"
      ]
    },
    {
      "cell_type": "markdown",
      "metadata": {},
      "source": [
        "# Field and field containers overview {#ref_basic_field_example}\r\n\r\nIn DPF, the field is the main simulation data container. During a\r\nnumerical simulation, the result data is defined by values associated to\r\nentities (scoping). These entities are a subset of a model (support).\r\n\r\nBecause the field data is always associated to its scoping and support,\r\nthe field is a self-describing piece of data. A field is also defined by\r\nits parameters, such as dimensionality, unit, and location. For example,\r\na field can describe any of the following:\r\n\r\n-   Displacement vector\r\n-   Norm, stress, or strain tensor\r\n-   Stress or strain equivalent\r\n-   Minimum or maximum over time of any result.\r\n\r\nA field can be defined on a complete model or on only certain entities\r\nof the model based on its scoping. The data is stored as a vector of\r\ndouble values, and each elementary entity has a number of components.\r\nFor example, a displacement has three components, and a symmetrical\r\nstress matrix has six components.\r\n\r\nIn DPF, a fields container is simply a collection of fields that can be\r\nindexed, just like a Python list. Operators applied to a fields\r\ncontainer have each individual field operated on. Fields containers are\r\noutputs from operators.\r\n"
      ]
    },
    {
      "cell_type": "code",
      "execution_count": null,
      "metadata": {
        "collapsed": false
      },
      "outputs": [],
      "source": [
        "# First, import necessary modules\nimport numpy as np\n\nfrom ansys.dpf import core as dpf\nfrom ansys.dpf.core import examples"
      ]
    },
    {
      "cell_type": "markdown",
      "metadata": {},
      "source": [
        "Create a model object to establish a connection with an example result\r\nfile and then extract:\r\n"
      ]
    },
    {
      "cell_type": "code",
      "execution_count": null,
      "metadata": {
        "collapsed": false
      },
      "outputs": [],
      "source": [
        "model = dpf.Model(examples.find_static_rst())\nprint(model)"
      ]
    },
    {
      "cell_type": "markdown",
      "metadata": {},
      "source": [
        "Create the displacement operator directly from the `results` property\r\nand extract the displacement fields container:\r\n"
      ]
    },
    {
      "cell_type": "code",
      "execution_count": null,
      "metadata": {
        "collapsed": false
      },
      "outputs": [],
      "source": [
        "disp_op = model.results.displacement()\nfields = disp_op.outputs.fields_container()\nprint(fields)"
      ]
    },
    {
      "cell_type": "markdown",
      "metadata": {},
      "source": [
        "A field can be extracted from a fields container by simply indexing the\r\nrequested field:\r\n"
      ]
    },
    {
      "cell_type": "code",
      "execution_count": null,
      "metadata": {
        "collapsed": false
      },
      "outputs": [],
      "source": [
        "field = fields[0]\nprint(field)"
      ]
    },
    {
      "cell_type": "markdown",
      "metadata": {},
      "source": [
        "# Extract data from a field\r\n\r\nYou can extract all the data from a given field using the `data`\r\nproperty. This returns a `numpy` array.\r\n"
      ]
    },
    {
      "cell_type": "code",
      "execution_count": null,
      "metadata": {
        "collapsed": false
      },
      "outputs": [],
      "source": [
        "print(field.data)"
      ]
    },
    {
      "cell_type": "markdown",
      "metadata": {},
      "source": [
        "While it might seem preferable to work entirely within `numpy`, DPF runs\r\noutside of Python and potentially even on a remote machine. Therefore,\r\nthe transfer of unnecessary data between the DPF instance and the Python\r\nclient leads to inefficient operations on large models. Instead, you\r\nshould use DPF operators to assemble the necessary data before recalling\r\nthe data from DPF.\r\n\r\nFor example, if you want the maximum displacement for a given result,\r\nuse the min/max operator:\r\n"
      ]
    },
    {
      "cell_type": "code",
      "execution_count": null,
      "metadata": {
        "collapsed": false
      },
      "outputs": [],
      "source": [
        "min_max_op = dpf.operators.min_max.min_max(field)\nprint(min_max_op.outputs.field_max().data)\n\n# Out of conveience, you can simply take the max of the field with:\nprint(field.max().data)\n\n# The above yields a result identical to:\nprint(np.max(field.data, axis=0))"
      ]
    },
    {
      "cell_type": "markdown",
      "metadata": {},
      "source": [
        "Note that the numpy array does not retain any information about the\r\nfield it describes. Using the DPF `max` operator of the field does\r\nretain this information.\r\n"
      ]
    },
    {
      "cell_type": "code",
      "execution_count": null,
      "metadata": {
        "collapsed": false
      },
      "outputs": [],
      "source": [
        "max_field = field.max()\nprint(max_field)"
      ]
    }
  ],
  "metadata": {
    "kernelspec": {
      "display_name": "Python 3",
      "language": "python",
      "name": "python3"
    },
    "language_info": {
      "codemirror_mode": {
        "name": "ipython",
        "version": 3
      },
      "file_extension": ".py",
      "mimetype": "text/x-python",
      "name": "python",
      "nbconvert_exporter": "python",
      "pygments_lexer": "ipython3",
      "version": "3.8.10"
    }
  },
  "nbformat": 4,
  "nbformat_minor": 0
}