{
  "cells": [
    {
      "cell_type": "code",
      "execution_count": null,
      "metadata": {
        "collapsed": false
      },
      "outputs": [],
      "source": [
        "%matplotlib inline"
      ]
    },
    {
      "cell_type": "markdown",
      "metadata": {},
      "source": [
        "# Scope results over custom time domains {#ref_results_over_time}\r\n\r\nThe `Result <ansys.dpf.core.results.Result>`{.interpreted-text\r\nrole=\"class\"} class, which are instances created by the\r\n`Model <ansys.dpf.core.model.Model>`{.interpreted-text role=\"class\"},\r\ngive access to helpers for requesting results on specific mesh and time\r\nscopings. With these helpers, working on a temporal subset of the model\r\nis straightforward. In this example, different ways to choose the\r\ntemporal subset to evaluate a result are exposed. This example can be\r\nextended to frequency subsets.\r\n"
      ]
    },
    {
      "cell_type": "code",
      "execution_count": null,
      "metadata": {
        "collapsed": false
      },
      "outputs": [],
      "source": [
        "# Import necessary modules\nfrom ansys.dpf import core as dpf\nfrom ansys.dpf.core import examples"
      ]
    },
    {
      "cell_type": "markdown",
      "metadata": {},
      "source": [
        "Create a model object to establish a connection with an example result\r\nfile:\r\n"
      ]
    },
    {
      "cell_type": "code",
      "execution_count": null,
      "metadata": {
        "collapsed": false
      },
      "outputs": [],
      "source": [
        "model = dpf.Model(examples.download_transient_result())\nprint(model)"
      ]
    },
    {
      "cell_type": "markdown",
      "metadata": {},
      "source": [
        "# Request specific time sets\r\n\r\nIf specific time sets are of interest, looking into the\r\n`TimeFreqSupport` and connect a given `time_scoping` accordingly to the\r\ncumulative indexes can be useful.\r\n"
      ]
    },
    {
      "cell_type": "code",
      "execution_count": null,
      "metadata": {
        "collapsed": false
      },
      "outputs": [],
      "source": [
        "print(model.metadata.time_freq_support)\n\ntime_sets = [1, 3, 10]\ndisp = model.results.displacement.on_time_scoping(time_sets).eval()\n\nprint(disp)\n\n# Or using a scoping\ntime_sets_scoping = dpf.time_freq_scoping_factory.scoping_by_sets([1, 3, 10])\ndisp = model.results.displacement.on_time_scoping(time_sets_scoping).eval()\n\nprint(disp)"
      ]
    },
    {
      "cell_type": "markdown",
      "metadata": {},
      "source": [
        "Equivalent to:\r\n"
      ]
    },
    {
      "cell_type": "code",
      "execution_count": null,
      "metadata": {
        "collapsed": false
      },
      "outputs": [],
      "source": [
        "disp_op = model.results.displacement()\ndisp_op.inputs.time_scoping(time_sets)\ndisp = disp_op.outputs.fields_container()"
      ]
    },
    {
      "cell_type": "markdown",
      "metadata": {},
      "source": [
        "Equivalent to:\r\n"
      ]
    },
    {
      "cell_type": "code",
      "execution_count": null,
      "metadata": {
        "collapsed": false
      },
      "outputs": [],
      "source": [
        "disp = model.results.displacement(time_scoping=time_sets_scoping).eval()"
      ]
    },
    {
      "cell_type": "markdown",
      "metadata": {},
      "source": [
        "# Request specific time steps\r\n\r\nIf specific time steps or load steps are of interest, looking into the\r\n`TimeFreqSupport` and connect a given `time_scoping` located on steps\r\ncan be done.\r\n"
      ]
    },
    {
      "cell_type": "code",
      "execution_count": null,
      "metadata": {
        "collapsed": false
      },
      "outputs": [],
      "source": [
        "time_steps_scoping = dpf.time_freq_scoping_factory.scoping_by_load_step(1)\ndisp = model.results.displacement.on_time_scoping(time_steps_scoping).eval()\n\nprint(disp)"
      ]
    },
    {
      "cell_type": "markdown",
      "metadata": {},
      "source": [
        "Equivalent to:\r\n"
      ]
    },
    {
      "cell_type": "code",
      "execution_count": null,
      "metadata": {
        "collapsed": false
      },
      "outputs": [],
      "source": [
        "disp_op = model.results.displacement()\ndisp_op.inputs.time_scoping(time_steps_scoping)\ndisp = disp_op.outputs.fields_container()"
      ]
    },
    {
      "cell_type": "markdown",
      "metadata": {},
      "source": [
        "# Using helpers\r\n\r\nEvaluate at all times.\r\n"
      ]
    },
    {
      "cell_type": "code",
      "execution_count": null,
      "metadata": {
        "collapsed": false
      },
      "outputs": [],
      "source": [
        "disp = model.results.displacement.on_all_time_freqs().eval()"
      ]
    },
    {
      "cell_type": "markdown",
      "metadata": {},
      "source": [
        "Evaluate at first and last times\r\n"
      ]
    },
    {
      "cell_type": "code",
      "execution_count": null,
      "metadata": {
        "collapsed": false
      },
      "outputs": [],
      "source": [
        "disp = model.results.displacement.on_first_time_freq().eval()\nprint(disp)\ndisp = model.results.displacement.on_last_time_freq().eval()\nprint(disp)"
      ]
    }
  ],
  "metadata": {
    "kernelspec": {
      "display_name": "Python 3",
      "language": "python",
      "name": "python3"
    },
    "language_info": {
      "codemirror_mode": {
        "name": "ipython",
        "version": 3
      },
      "file_extension": ".py",
      "mimetype": "text/x-python",
      "name": "python",
      "nbconvert_exporter": "python",
      "pygments_lexer": "ipython3",
      "version": "3.8.10"
    }
  },
  "nbformat": 4,
  "nbformat_minor": 0
}