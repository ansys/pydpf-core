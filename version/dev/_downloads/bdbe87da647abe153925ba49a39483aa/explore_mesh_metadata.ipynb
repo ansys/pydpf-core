{
 "cells": [
  {
   "cell_type": "code",
   "execution_count": 1,
   "id": "58ebaaab",
   "metadata": {
    "execution": {
     "iopub.execute_input": "2025-11-01T11:04:15.079167Z",
     "iopub.status.busy": "2025-11-01T11:04:15.078665Z",
     "iopub.status.idle": "2025-11-01T11:04:16.884674Z",
     "shell.execute_reply": "2025-11-01T11:04:16.883657Z"
    }
   },
   "outputs": [],
   "source": [
    "# Import the ``ansys.dpf.core`` module\n",
    "from ansys.dpf import core as dpf\n",
    "# Import the examples module\n",
    "from ansys.dpf.core import examples\n",
    "\n",
    "# Define the result file path\n",
    "result_file_path_2 = examples.download_d3plot_beam()"
   ]
  },
  {
   "cell_type": "code",
   "execution_count": 2,
   "id": "ea6660e0",
   "metadata": {
    "execution": {
     "iopub.execute_input": "2025-11-01T11:04:16.886697Z",
     "iopub.status.busy": "2025-11-01T11:04:16.886697Z",
     "iopub.status.idle": "2025-11-01T11:04:16.892751Z",
     "shell.execute_reply": "2025-11-01T11:04:16.891608Z"
    }
   },
   "outputs": [],
   "source": [
    "# Import the ``ansys.dpf.core`` module\n",
    "from ansys.dpf import core as dpf\n",
    "# Import the examples module\n",
    "from ansys.dpf.core import examples\n",
    "\n",
    "# Define the result file path\n",
    "result_file_path_3 = examples.download_fluent_axial_comp()[\"flprj\"]"
   ]
  },
  {
   "cell_type": "code",
   "execution_count": 3,
   "id": "882b54db",
   "metadata": {
    "execution": {
     "iopub.execute_input": "2025-11-01T11:04:16.895163Z",
     "iopub.status.busy": "2025-11-01T11:04:16.894766Z",
     "iopub.status.idle": "2025-11-01T11:04:16.900226Z",
     "shell.execute_reply": "2025-11-01T11:04:16.898818Z"
    }
   },
   "outputs": [],
   "source": [
    "# Import the ``ansys.dpf.core`` module\n",
    "from ansys.dpf import core as dpf\n",
    "# Import the examples module\n",
    "from ansys.dpf.core import examples\n",
    "\n",
    "# Define the result file path\n",
    "result_file_path_4 = examples.download_cfx_mixing_elbow()"
   ]
  },
  {
   "cell_type": "code",
   "execution_count": 4,
   "id": "897dab86",
   "metadata": {
    "execution": {
     "iopub.execute_input": "2025-11-01T11:04:16.902243Z",
     "iopub.status.busy": "2025-11-01T11:04:16.902243Z",
     "iopub.status.idle": "2025-11-01T11:04:16.907551Z",
     "shell.execute_reply": "2025-11-01T11:04:16.906277Z"
    }
   },
   "outputs": [],
   "source": [
    "# Create the DataSources object\n",
    "ds_2 = dpf.DataSources()\n",
    "ds_2.set_result_file_path(filepath=result_file_path_2[0], key=\"d3plot\")\n",
    "ds_2.add_file_path(filepath=result_file_path_2[3], key=\"actunits\")\n",
    "# Create the Model\n",
    "model_2 = dpf.Model(data_sources=ds_2)"
   ]
  },
  {
   "cell_type": "code",
   "execution_count": 5,
   "id": "ebda7ac7",
   "metadata": {
    "execution": {
     "iopub.execute_input": "2025-11-01T11:04:16.909907Z",
     "iopub.status.busy": "2025-11-01T11:04:16.909595Z",
     "iopub.status.idle": "2025-11-01T11:04:16.913688Z",
     "shell.execute_reply": "2025-11-01T11:04:16.912933Z"
    }
   },
   "outputs": [],
   "source": [
    "# Create the Model\n",
    "model_3 = dpf.Model(data_sources=result_file_path_3)"
   ]
  },
  {
   "cell_type": "code",
   "execution_count": 6,
   "id": "bdfe0482",
   "metadata": {
    "execution": {
     "iopub.execute_input": "2025-11-01T11:04:16.915866Z",
     "iopub.status.busy": "2025-11-01T11:04:16.915866Z",
     "iopub.status.idle": "2025-11-01T11:04:16.919737Z",
     "shell.execute_reply": "2025-11-01T11:04:16.919130Z"
    }
   },
   "outputs": [],
   "source": [
    "# Create the Model\n",
    "model_4 = dpf.Model(data_sources=result_file_path_4)"
   ]
  },
  {
   "cell_type": "code",
   "execution_count": 7,
   "id": "51ac4b22",
   "metadata": {
    "execution": {
     "iopub.execute_input": "2025-11-01T11:04:16.921752Z",
     "iopub.status.busy": "2025-11-01T11:04:16.921752Z",
     "iopub.status.idle": "2025-11-01T11:04:16.934855Z",
     "shell.execute_reply": "2025-11-01T11:04:16.934149Z"
    }
   },
   "outputs": [
    {
     "name": "stdout",
     "output_type": "stream",
     "text": [
      "DPF MeshInfo\n",
      "------------------------------\n",
      "with properties:\n",
      "  part_names          \tStringField\n",
      "  part_scoping        \tScoping\n"
     ]
    }
   ],
   "source": [
    "# Get the mesh metadata information\n",
    "mesh_info_2 = model_2.metadata.mesh_info\n",
    "\n",
    "# Print the mesh metadata information\n",
    "print(mesh_info_2)"
   ]
  },
  {
   "cell_type": "code",
   "execution_count": 8,
   "id": "164a1d9e",
   "metadata": {
    "execution": {
     "iopub.execute_input": "2025-11-01T11:04:16.936873Z",
     "iopub.status.busy": "2025-11-01T11:04:16.936873Z",
     "iopub.status.idle": "2025-11-01T11:04:18.337298Z",
     "shell.execute_reply": "2025-11-01T11:04:18.336395Z"
    }
   },
   "outputs": [
    {
     "name": "stdout",
     "output_type": "stream",
     "text": [
      "DPF MeshInfo\n",
      "------------------------------\n",
      "with properties:\n",
      "  num_cells           \tint\n",
      "  num_nodes           \tint\n",
      "  num_faces           \tint\n",
      "  body_names          \tStringField\n",
      "  body_cell_topology  \tPropertyField\n",
      "  body_face_topology  \tPropertyField\n",
      "  body_scoping        \tScoping\n",
      "  cell_zone_names     \tStringField\n",
      "  cell_zone_elements  \tPropertyField\n",
      "  cell_zone_scoping   \tScoping\n",
      "  face_zone_names     \tStringField\n",
      "  face_zone_elements  \tPropertyField\n",
      "  face_zone_scoping   \tScoping\n",
      "  zone_names          \tStringField\n",
      "  num_elem_zone       \tPropertyField\n",
      "  zone_scoping        \tScoping\n",
      "  splittable_by       \tStringField\n"
     ]
    }
   ],
   "source": [
    "# Get the mesh metadata information\n",
    "mesh_info_3 = model_3.metadata.mesh_info\n",
    "\n",
    "# Print the mesh metadata information\n",
    "print(mesh_info_3)"
   ]
  },
  {
   "cell_type": "code",
   "execution_count": 9,
   "id": "85fb70e4",
   "metadata": {
    "execution": {
     "iopub.execute_input": "2025-11-01T11:04:18.339320Z",
     "iopub.status.busy": "2025-11-01T11:04:18.339320Z",
     "iopub.status.idle": "2025-11-01T11:04:18.560923Z",
     "shell.execute_reply": "2025-11-01T11:04:18.559790Z"
    }
   },
   "outputs": [
    {
     "name": "stdout",
     "output_type": "stream",
     "text": [
      "DPF MeshInfo\n",
      "------------------------------\n",
      "with properties:\n",
      "  num_nodes           \tint\n",
      "  num_cells           \tint\n",
      "  body_names          \tStringField\n",
      "  body_cell_topology  \tPropertyField\n",
      "  num_faces           \tint\n",
      "  body_face_topology  \tPropertyField\n",
      "  body_scoping        \tScoping\n",
      "  cell_zone_names     \tStringField\n",
      "  cell_zone_elements  \tPropertyField\n",
      "  face_zone_names     \tStringField\n",
      "  cell_zone_scoping   \tScoping\n",
      "  face_zone_elements  \tPropertyField\n",
      "  face_zone_scoping   \tScoping\n",
      "  zone_names          \tStringField\n",
      "  num_elem_zone       \tPropertyField\n",
      "  zone_scoping        \tScoping\n",
      "  splittable_by       \tStringField\n"
     ]
    }
   ],
   "source": [
    "# Get the mesh metadata information\n",
    "mesh_info_4 = model_4.metadata.mesh_info\n",
    "\n",
    "# Print the mesh metadata information\n",
    "print(mesh_info_4)"
   ]
  },
  {
   "cell_type": "code",
   "execution_count": 10,
   "id": "484f22a6",
   "metadata": {
    "execution": {
     "iopub.execute_input": "2025-11-01T11:04:18.562696Z",
     "iopub.status.busy": "2025-11-01T11:04:18.562696Z",
     "iopub.status.idle": "2025-11-01T11:04:18.568759Z",
     "shell.execute_reply": "2025-11-01T11:04:18.567618Z"
    }
   },
   "outputs": [
    {
     "name": "stdout",
     "output_type": "stream",
     "text": [
      "DPF String Field\n",
      "  2 part entities \n",
      "  Data:2 elementary data \n",
      "\n",
      "  part\n",
      "  IDs                   data\n",
      "  ------------          ----------\n",
      "  1                                                                                             \n",
      "                        \n",
      "  2                     ball                                                                    \n",
      "                        \n",
      "\n",
      "\n"
     ]
    }
   ],
   "source": [
    "# Get the part names\n",
    "cell_zones_2 = mesh_info_2.get_property(\"part_names\")\n",
    "\n",
    "# Print the part names\n",
    "print(cell_zones_2)"
   ]
  },
  {
   "cell_type": "code",
   "execution_count": 11,
   "id": "8b4a61dc",
   "metadata": {
    "execution": {
     "iopub.execute_input": "2025-11-01T11:04:18.569978Z",
     "iopub.status.busy": "2025-11-01T11:04:18.569978Z",
     "iopub.status.idle": "2025-11-01T11:04:18.574738Z",
     "shell.execute_reply": "2025-11-01T11:04:18.574020Z"
    }
   },
   "outputs": [
    {
     "name": "stdout",
     "output_type": "stream",
     "text": [
      "DPF String Field\n",
      "  2 zone entities \n",
      "  Data:2 elementary data \n",
      "\n",
      "  zone\n",
      "  IDs                   data\n",
      "  ------------          ----------\n",
      "  13                    fluid-rotor    \n",
      "                        \n",
      "  28                    fluid-stator   \n",
      "                        \n",
      "\n",
      "\n"
     ]
    }
   ],
   "source": [
    "# Get the cell zone names\n",
    "cell_zones_3 = mesh_info_3.get_property(\"cell_zone_names\")\n",
    "\n",
    "# Print the cell zone names\n",
    "print(cell_zones_3)"
   ]
  },
  {
   "cell_type": "code",
   "execution_count": 12,
   "id": "3a07defd",
   "metadata": {
    "execution": {
     "iopub.execute_input": "2025-11-01T11:04:18.576778Z",
     "iopub.status.busy": "2025-11-01T11:04:18.576778Z",
     "iopub.status.idle": "2025-11-01T11:04:18.580668Z",
     "shell.execute_reply": "2025-11-01T11:04:18.580668Z"
    }
   },
   "outputs": [
    {
     "name": "stdout",
     "output_type": "stream",
     "text": [
      "DPF String Field\n",
      "  3 zone entities \n",
      "  Data:3 elementary data \n",
      "\n",
      "  zone\n",
      "  IDs                   data\n",
      "  ------------          ----------\n",
      "  2                     ZN1/ES1        \n",
      "                        \n",
      "  3                     ZN1/ES2        \n",
      "                        \n",
      "  4                     ZN1/ES3        \n",
      "                        \n",
      "\n",
      "\n"
     ]
    }
   ],
   "source": [
    "# Get the cell zone names\n",
    "cell_zones_4 = mesh_info_4.get_property(\"cell_zone_names\")\n",
    "\n",
    "# Print the cell zone names\n",
    "print(cell_zones_4)"
   ]
  }
 ],
 "metadata": {
  "kernelspec": {
   "display_name": "Python 3 (ipykernel)",
   "language": "python",
   "name": "python3"
  },
  "language_info": {
   "codemirror_mode": {
    "name": "ipython",
    "version": 3
   },
   "file_extension": ".py",
   "mimetype": "text/x-python",
   "name": "python",
   "nbconvert_exporter": "python",
   "pygments_lexer": "ipython3",
   "version": "3.11.9"
  }
 },
 "nbformat": 4,
 "nbformat_minor": 5
}