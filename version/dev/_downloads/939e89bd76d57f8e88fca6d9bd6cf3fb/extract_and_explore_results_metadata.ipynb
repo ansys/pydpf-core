{
 "cells": [
  {
   "cell_type": "code",
   "execution_count": 1,
   "id": "c845d152",
   "metadata": {
    "execution": {
     "iopub.execute_input": "2025-11-01T11:02:45.715298Z",
     "iopub.status.busy": "2025-11-01T11:02:45.715298Z",
     "iopub.status.idle": "2025-11-01T11:02:47.558431Z",
     "shell.execute_reply": "2025-11-01T11:02:47.556890Z"
    }
   },
   "outputs": [],
   "source": [
    "# Import the ``ansys.dpf.core`` module\n",
    "from ansys.dpf import core as dpf\n",
    "# Import the examples module\n",
    "from ansys.dpf.core import examples\n",
    "# Import the operators module\n",
    "from ansys.dpf.core import operators as ops\n",
    "\n",
    "# Define the result file path\n",
    "result_file_path_1 = examples.download_transient_result()\n",
    "# Create the model\n",
    "model_1 = dpf.Model(data_sources=result_file_path_1)"
   ]
  },
  {
   "cell_type": "code",
   "execution_count": 2,
   "id": "5c8ac57a",
   "metadata": {
    "execution": {
     "iopub.execute_input": "2025-11-01T11:02:47.560964Z",
     "iopub.status.busy": "2025-11-01T11:02:47.560447Z",
     "iopub.status.idle": "2025-11-01T11:02:47.574428Z",
     "shell.execute_reply": "2025-11-01T11:02:47.573465Z"
    }
   },
   "outputs": [
    {
     "name": "stdout",
     "output_type": "stream",
     "text": [
      "Analysis type:  static \n",
      "\n",
      "Physics type:  mechanical \n",
      "\n",
      "Number of available results:  21 \n",
      "\n",
      "Unit system:  MKS: m, kg, N, s, V, A, degC \n",
      "\n",
      "Solver version:  17.0 \n",
      "\n",
      "Solver date:  20150331 \n",
      "\n",
      "Solver time:  93417 \n",
      "\n",
      "Job name:  cp55 \n",
      "\n"
     ]
    }
   ],
   "source": [
    "# Define the ResultInfo object\n",
    "result_info_1 = model_1.metadata.result_info\n",
    "\n",
    "# Get the analysis type\n",
    "analysis_type = result_info_1.analysis_type\n",
    "# Print the analysis type\n",
    "print(\"Analysis type: \",analysis_type, \"\\n\")\n",
    "\n",
    "# Get the physics type\n",
    "physics_type = result_info_1.physics_type\n",
    "# Print the physics type\n",
    "print(\"Physics type: \",physics_type, \"\\n\")\n",
    "\n",
    "# Get the number of available results\n",
    "number_of_results = result_info_1.n_results\n",
    "# Print the number of available results\n",
    "print(\"Number of available results: \",number_of_results, \"\\n\")\n",
    "\n",
    "# Get the unit system\n",
    "unit_system = result_info_1.unit_system\n",
    "# Print the unit system\n",
    "print(\"Unit system: \",unit_system, \"\\n\")\n",
    "\n",
    "# Get the solver version, data and time\n",
    "solver_version = result_info_1.solver_version\n",
    "solver_date = result_info_1.solver_date\n",
    "solver_time = result_info_1.solver_time\n",
    "\n",
    "# Print the solver version, data and time\n",
    "print(\"Solver version: \",solver_version, \"\\n\")\n",
    "print(\"Solver date: \", solver_date, \"\\n\")\n",
    "print(\"Solver time: \",solver_time, \"\\n\")\n",
    "\n",
    "# Get the job name\n",
    "job_name = result_info_1.job_name\n",
    "# Print the job name\n",
    "print(\"Job name: \",job_name, \"\\n\")"
   ]
  },
  {
   "cell_type": "code",
   "execution_count": 3,
   "id": "9d66ce21",
   "metadata": {
    "execution": {
     "iopub.execute_input": "2025-11-01T11:02:47.576450Z",
     "iopub.status.busy": "2025-11-01T11:02:47.576450Z",
     "iopub.status.idle": "2025-11-01T11:02:47.635511Z",
     "shell.execute_reply": "2025-11-01T11:02:47.634685Z"
    }
   },
   "outputs": [],
   "source": [
    "# Extract the displacement results\n",
    "disp_results = model_1.results.displacement.eval()\n",
    "\n",
    "# Get the displacement field\n",
    "disp_field = disp_results[0]"
   ]
  },
  {
   "cell_type": "code",
   "execution_count": 4,
   "id": "af285a77",
   "metadata": {
    "execution": {
     "iopub.execute_input": "2025-11-01T11:02:47.638830Z",
     "iopub.status.busy": "2025-11-01T11:02:47.638830Z",
     "iopub.status.idle": "2025-11-01T11:02:47.650633Z",
     "shell.execute_reply": "2025-11-01T11:02:47.649582Z"
    }
   },
   "outputs": [
    {
     "name": "stdout",
     "output_type": "stream",
     "text": [
      "Location:  Nodal \n",
      "\n",
      "Scoping:  \n",
      " DPF  Scoping: \n",
      "  with Nodal location and 3820 entities\n",
      " \n",
      "\n",
      "Scoping ids:  [ 525  534  533 ... 3469 3817 3825] \n",
      "\n",
      "Elementary data count:  3820 \n",
      "\n",
      "Components count:  3 \n",
      "\n",
      "Size:  11460 \n",
      "\n",
      "Shape:  (3820, 3) \n",
      "\n",
      "Unit:  m \n",
      "\n"
     ]
    }
   ],
   "source": [
    "# Get the location of the displacement data\n",
    "location = disp_field.location\n",
    "# Print the location\n",
    "print(\"Location: \", location,'\\n')\n",
    "\n",
    "# Get the displacement Field scoping\n",
    "scoping = disp_field.scoping\n",
    "# Print the Field scoping\n",
    "print(\"Scoping: \", '\\n',scoping, '\\n')\n",
    "\n",
    "# Get the displacement Field scoping ids\n",
    "scoping_ids = disp_field.scoping.ids  # Available entities ids\n",
    "# Print the Field scoping ids\n",
    "print(\"Scoping ids: \", scoping_ids, '\\n')\n",
    "\n",
    "# Get the displacement Field elementary data count\n",
    "elementary_data_count = disp_field.elementary_data_count\n",
    "# Print the elementary data count\n",
    "print(\"Elementary data count: \", elementary_data_count, '\\n')\n",
    "\n",
    "# Get the displacement Field components count\n",
    "components_count = disp_field.component_count\n",
    "# Print the components count\n",
    "print(\"Components count: \", components_count, '\\n')\n",
    "\n",
    "# Get the displacement Field size\n",
    "field_size = disp_field.size\n",
    "# Print the Field size\n",
    "print(\"Size: \", field_size, '\\n')\n",
    "\n",
    "# Get the displacement Field shape\n",
    "shape = disp_field.shape\n",
    "# Print the Field shape\n",
    "print(\"Shape: \", shape, '\\n')\n",
    "\n",
    "# Get the displacement Field unit\n",
    "unit = disp_field.unit\n",
    "# Print the displacement Field unit\n",
    "print(\"Unit: \", unit, '\\n')"
   ]
  }
 ],
 "metadata": {
  "kernelspec": {
   "display_name": "Python 3 (ipykernel)",
   "language": "python",
   "name": "python3"
  },
  "language_info": {
   "codemirror_mode": {
    "name": "ipython",
    "version": 3
   },
   "file_extension": ".py",
   "mimetype": "text/x-python",
   "name": "python",
   "nbconvert_exporter": "python",
   "pygments_lexer": "ipython3",
   "version": "3.11.9"
  }
 },
 "nbformat": 4,
 "nbformat_minor": 5
}