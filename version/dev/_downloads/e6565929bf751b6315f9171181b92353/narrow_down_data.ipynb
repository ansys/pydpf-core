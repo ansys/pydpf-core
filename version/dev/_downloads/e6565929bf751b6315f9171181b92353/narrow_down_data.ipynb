{
 "cells": [
  {
   "cell_type": "code",
   "execution_count": 1,
   "id": "e1a837e2",
   "metadata": {
    "execution": {
     "iopub.execute_input": "2025-11-01T11:02:58.832290Z",
     "iopub.status.busy": "2025-11-01T11:02:58.831560Z",
     "iopub.status.idle": "2025-11-01T11:03:00.241263Z",
     "shell.execute_reply": "2025-11-01T11:03:00.241263Z"
    }
   },
   "outputs": [],
   "source": [
    "# Import the ``ansys.dpf.core`` module\n",
    "from ansys.dpf import core as dpf"
   ]
  },
  {
   "cell_type": "code",
   "execution_count": 2,
   "id": "98f9e4f1",
   "metadata": {
    "execution": {
     "iopub.execute_input": "2025-11-01T11:03:00.243905Z",
     "iopub.status.busy": "2025-11-01T11:03:00.243905Z",
     "iopub.status.idle": "2025-11-01T11:03:00.695100Z",
     "shell.execute_reply": "2025-11-01T11:03:00.695100Z"
    }
   },
   "outputs": [],
   "source": [
    "# Define a time list that targets the times ids 14, 15, 16, 17\n",
    "time_list_1 = [14, 15, 16, 17]\n",
    "\n",
    "# Create the time Scoping object\n",
    "time_scoping_1 = dpf.Scoping(ids=time_list_1, location=dpf.locations.time_freq)"
   ]
  },
  {
   "cell_type": "code",
   "execution_count": 3,
   "id": "5c5a6f2f",
   "metadata": {
    "execution": {
     "iopub.execute_input": "2025-11-01T11:03:00.699196Z",
     "iopub.status.busy": "2025-11-01T11:03:00.699196Z",
     "iopub.status.idle": "2025-11-01T11:03:00.703761Z",
     "shell.execute_reply": "2025-11-01T11:03:00.702687Z"
    }
   },
   "outputs": [],
   "source": [
    "# Define a nodes list that targets the nodes with the ids 103, 204, 334, 1802\n",
    "nodes_ids_1 = [103, 204, 334, 1802]\n",
    "\n",
    "#  Create the mesh Scoping object\n",
    "mesh_scoping_1 = dpf.Scoping(ids=nodes_ids_1, location=dpf.locations.nodal)"
   ]
  },
  {
   "cell_type": "code",
   "execution_count": 4,
   "id": "cfc3ab0c",
   "metadata": {
    "execution": {
     "iopub.execute_input": "2025-11-01T11:03:00.705778Z",
     "iopub.status.busy": "2025-11-01T11:03:00.705778Z",
     "iopub.status.idle": "2025-11-01T11:03:00.710451Z",
     "shell.execute_reply": "2025-11-01T11:03:00.709413Z"
    }
   },
   "outputs": [],
   "source": [
    "# Define a time list that targets the times ids 14, 15, 16, 17\n",
    "time_list_2 = [14, 15, 16, 17]\n",
    "\n",
    "# Create the time Scoping object\n",
    "time_scoping_2 = dpf.time_freq_scoping_factory.scoping_by_sets(cumulative_sets=time_list_2)"
   ]
  },
  {
   "cell_type": "code",
   "execution_count": 5,
   "id": "f4797701",
   "metadata": {
    "execution": {
     "iopub.execute_input": "2025-11-01T11:03:00.712850Z",
     "iopub.status.busy": "2025-11-01T11:03:00.712850Z",
     "iopub.status.idle": "2025-11-01T11:03:00.716888Z",
     "shell.execute_reply": "2025-11-01T11:03:00.716079Z"
    }
   },
   "outputs": [],
   "source": [
    "# Define a nodes list that targets the nodes with the ids 103, 204, 334, 1802\n",
    "nodes_ids_2 = [103, 204, 334, 1802]\n",
    "\n",
    "# Create the mesh Scoping object\n",
    "mesh_scoping_2 = dpf.mesh_scoping_factory.nodal_scoping(node_ids=nodes_ids_2)"
   ]
  },
  {
   "cell_type": "code",
   "execution_count": 6,
   "id": "f482d7b1",
   "metadata": {
    "execution": {
     "iopub.execute_input": "2025-11-01T11:03:00.719659Z",
     "iopub.status.busy": "2025-11-01T11:03:00.718905Z",
     "iopub.status.idle": "2025-11-01T11:03:00.725502Z",
     "shell.execute_reply": "2025-11-01T11:03:00.724857Z"
    }
   },
   "outputs": [],
   "source": [
    "# Import the examples module\n",
    "from ansys.dpf.core import examples\n",
    "# Import the operators module\n",
    "from ansys.dpf.core import operators as ops\n",
    "\n",
    "# Define the result file path\n",
    "result_file_path_1 = examples.download_transient_result()\n",
    "# Create the DataSources object\n",
    "ds_1 = dpf.DataSources(result_path=result_file_path_1)\n",
    "# Create the model\n",
    "model_1 = dpf.Model(data_sources=ds_1)"
   ]
  },
  {
   "cell_type": "code",
   "execution_count": 7,
   "id": "b1f25a72",
   "metadata": {
    "execution": {
     "iopub.execute_input": "2025-11-01T11:03:00.728496Z",
     "iopub.status.busy": "2025-11-01T11:03:00.727910Z",
     "iopub.status.idle": "2025-11-01T11:03:00.804267Z",
     "shell.execute_reply": "2025-11-01T11:03:00.803674Z"
    }
   },
   "outputs": [],
   "source": [
    "# Get the MeshedRegion\n",
    "meshed_region_1 = model_1.metadata.meshed_region\n",
    "\n",
    "# Get a FieldsContainer with the displacement results\n",
    "disp_fc = model_1.results.displacement.on_all_time_freqs.eval()\n",
    "\n",
    "# Get a Field from the FieldsContainer\n",
    "disp_field = disp_fc[0]"
   ]
  },
  {
   "cell_type": "code",
   "execution_count": 8,
   "id": "dc5313ce",
   "metadata": {
    "execution": {
     "iopub.execute_input": "2025-11-01T11:03:00.806029Z",
     "iopub.status.busy": "2025-11-01T11:03:00.806029Z",
     "iopub.status.idle": "2025-11-01T11:03:00.811927Z",
     "shell.execute_reply": "2025-11-01T11:03:00.810797Z"
    }
   },
   "outputs": [],
   "source": [
    "# Extract the TimeFreq support\n",
    "tfs_1 = model_1.metadata.time_freq_support"
   ]
  },
  {
   "cell_type": "code",
   "execution_count": 9,
   "id": "c686c1bb",
   "metadata": {
    "execution": {
     "iopub.execute_input": "2025-11-01T11:03:00.813945Z",
     "iopub.status.busy": "2025-11-01T11:03:00.813945Z",
     "iopub.status.idle": "2025-11-01T11:03:00.819664Z",
     "shell.execute_reply": "2025-11-01T11:03:00.818622Z"
    }
   },
   "outputs": [
    {
     "name": "stdout",
     "output_type": "stream",
     "text": [
      "DPF  Scoping: \n",
      "  with TimeFreq_steps location and 1 entity\n",
      "\n"
     ]
    }
   ],
   "source": [
    "# Extract the time frequencies\n",
    "t_freqs_1 = tfs_1.time_frequencies\n",
    "\n",
    "# Extract the time scoping\n",
    "time_scop_1 = t_freqs_1.scoping\n",
    "\n",
    "#Print the time scoping\n",
    "print(time_scop_1)"
   ]
  },
  {
   "cell_type": "code",
   "execution_count": 10,
   "id": "3d505895",
   "metadata": {
    "execution": {
     "iopub.execute_input": "2025-11-01T11:03:00.821759Z",
     "iopub.status.busy": "2025-11-01T11:03:00.821759Z",
     "iopub.status.idle": "2025-11-01T11:03:00.825794Z",
     "shell.execute_reply": "2025-11-01T11:03:00.825005Z"
    }
   },
   "outputs": [],
   "source": [
    "# Extract the TimeFreq support\n",
    "tfs_2 = disp_fc.time_freq_support"
   ]
  },
  {
   "cell_type": "code",
   "execution_count": 11,
   "id": "c41bf6a1",
   "metadata": {
    "execution": {
     "iopub.execute_input": "2025-11-01T11:03:00.827812Z",
     "iopub.status.busy": "2025-11-01T11:03:00.827812Z",
     "iopub.status.idle": "2025-11-01T11:03:00.833873Z",
     "shell.execute_reply": "2025-11-01T11:03:00.832909Z"
    }
   },
   "outputs": [
    {
     "name": "stdout",
     "output_type": "stream",
     "text": [
      "DPF  Scoping: \n",
      "  with TimeFreq_steps location and 1 entity\n",
      "\n"
     ]
    }
   ],
   "source": [
    "# Extract the time frequencies\n",
    "t_freqs_2 = tfs_2.time_frequencies\n",
    "\n",
    "# Extract the time scoping\n",
    "time_scop_2 = t_freqs_2.scoping\n",
    "\n",
    "#Print the time scoping\n",
    "print(time_scop_2)"
   ]
  },
  {
   "cell_type": "code",
   "execution_count": 12,
   "id": "f84236c1",
   "metadata": {
    "execution": {
     "iopub.execute_input": "2025-11-01T11:03:00.835894Z",
     "iopub.status.busy": "2025-11-01T11:03:00.835894Z",
     "iopub.status.idle": "2025-11-01T11:03:00.840071Z",
     "shell.execute_reply": "2025-11-01T11:03:00.839244Z"
    }
   },
   "outputs": [],
   "source": [
    "# Extract the TimeFreq support\n",
    "tfs_3 = disp_field.time_freq_support"
   ]
  },
  {
   "cell_type": "code",
   "execution_count": 13,
   "id": "c49a0dd8",
   "metadata": {
    "execution": {
     "iopub.execute_input": "2025-11-01T11:03:00.842090Z",
     "iopub.status.busy": "2025-11-01T11:03:00.842090Z",
     "iopub.status.idle": "2025-11-01T11:03:00.848144Z",
     "shell.execute_reply": "2025-11-01T11:03:00.846681Z"
    }
   },
   "outputs": [
    {
     "name": "stdout",
     "output_type": "stream",
     "text": [
      "DPF  Scoping: \n",
      "  with TimeFreq_steps location and 1 entity\n",
      "\n"
     ]
    }
   ],
   "source": [
    "# Extract the time frequencies\n",
    "t_freqs_3 = tfs_1.time_frequencies\n",
    "\n",
    "# Extract the time scoping\n",
    "time_scop_3 = t_freqs_3.scoping\n",
    "\n",
    "#Print the time scoping\n",
    "print(time_scop_3)"
   ]
  },
  {
   "cell_type": "code",
   "execution_count": 14,
   "id": "04a2d8e3",
   "metadata": {
    "execution": {
     "iopub.execute_input": "2025-11-01T11:03:00.850161Z",
     "iopub.status.busy": "2025-11-01T11:03:00.850161Z",
     "iopub.status.idle": "2025-11-01T11:03:11.254186Z",
     "shell.execute_reply": "2025-11-01T11:03:11.253101Z"
    }
   },
   "outputs": [
    {
     "name": "stdout",
     "output_type": "stream",
     "text": [
      "Scoping from mesh \n",
      " DPF  Scoping: \n",
      "  with Nodal location and 3820 entities\n",
      " \n",
      "\n"
     ]
    }
   ],
   "source": [
    "# Extract the mesh scoping\n",
    "mesh_scoping_3 = ops.scoping.from_mesh(mesh=meshed_region_1).eval()\n",
    "\n",
    "# Print the mesh Scoping\n",
    "print(\"Scoping from mesh\", \"\\n\", mesh_scoping_3, \"\\n\")"
   ]
  },
  {
   "cell_type": "code",
   "execution_count": 15,
   "id": "f2510df7",
   "metadata": {
    "execution": {
     "iopub.execute_input": "2025-11-01T11:03:11.256203Z",
     "iopub.status.busy": "2025-11-01T11:03:11.256203Z",
     "iopub.status.idle": "2025-11-01T11:03:11.260145Z",
     "shell.execute_reply": "2025-11-01T11:03:11.260145Z"
    }
   },
   "outputs": [
    {
     "name": "stdout",
     "output_type": "stream",
     "text": [
      "Scoping from mesh \n",
      " DPF  Scoping: \n",
      "  with Elemental location and 789 entities\n",
      " \n",
      "\n"
     ]
    }
   ],
   "source": [
    "# Extract the mesh scoping\n",
    "mesh_scoping_4 = meshed_region_1.elements.scoping\n",
    "\n",
    "# Print the mesh Scoping\n",
    "print(\"Scoping from mesh\", \"\\n\", mesh_scoping_4, \"\\n\")"
   ]
  },
  {
   "cell_type": "code",
   "execution_count": 16,
   "id": "db819eb4",
   "metadata": {
    "execution": {
     "iopub.execute_input": "2025-11-01T11:03:11.262179Z",
     "iopub.status.busy": "2025-11-01T11:03:11.262179Z",
     "iopub.status.idle": "2025-11-01T11:03:11.267287Z",
     "shell.execute_reply": "2025-11-01T11:03:11.266246Z"
    }
   },
   "outputs": [
    {
     "name": "stdout",
     "output_type": "stream",
     "text": [
      "Scoping from mesh \n",
      " DPF  Scoping: \n",
      "  with Nodal location and 3820 entities\n",
      " \n",
      "\n"
     ]
    }
   ],
   "source": [
    "# Extract the mesh scoping\n",
    "mesh_scoping_5 = meshed_region_1.nodes.scoping\n",
    "\n",
    "# Print the mesh Scoping\n",
    "print(\"Scoping from mesh\", \"\\n\", mesh_scoping_5, \"\\n\")"
   ]
  },
  {
   "cell_type": "code",
   "execution_count": 17,
   "id": "6772f296",
   "metadata": {
    "execution": {
     "iopub.execute_input": "2025-11-01T11:03:11.269345Z",
     "iopub.status.busy": "2025-11-01T11:03:11.267753Z",
     "iopub.status.idle": "2025-11-01T11:03:11.274818Z",
     "shell.execute_reply": "2025-11-01T11:03:11.273970Z"
    }
   },
   "outputs": [
    {
     "name": "stdout",
     "output_type": "stream",
     "text": [
      "Scoping from FieldsContainer \n",
      " DPF  Scopings Container\n",
      "  with 35 scoping(s)\n",
      "  defined on labels: time \n",
      "\n",
      "  with:\n",
      "  - scoping 0 {time:  1, } located on Nodal 3820 entities.\n",
      "  - scoping 1 {time:  2, } located on Nodal 3820 entities.\n",
      "  - scoping 2 {time:  3, } located on Nodal 3820 entities.\n",
      "  - scoping 3 {time:  4, } located on Nodal 3820 entities.\n",
      "  - scoping 4 {time:  5, } located on Nodal 3820 entities.\n",
      "  - scoping 5 {time:  6, } located on Nodal 3820 entities.\n",
      "  - scoping 6 {time:  7, } located on Nodal 3820 entities.\n",
      "  - scoping 7 {time:  8, } located on Nodal 3820 entities.\n",
      "  - scoping 8 {time:  9, } located on Nodal 3820 entities.\n",
      "  - scoping 9 {time:  10, } located on Nodal 3820 entities.\n",
      "  - scoping 10 {time:  11, } located on Nodal 3820 entities.\n",
      "  - scoping 11 {time:  12, } located on Nodal 3820 entities.\n",
      "  - scoping 12 {time:  13, } located on Nodal 3820 entities.\n",
      "  - scoping 13 {time:  14, } located on Nodal 3820 entities.\n",
      "  - scoping 14 {time:  15, } located on Nodal 3820 entities.\n",
      "  - scoping 15 {time:  16, } located on Nodal 3820 entities.\n",
      "  - scoping 16 {time:  17, } located on Nodal 3820 entities.\n",
      "  - scoping 17 {time:  18, } located on Nodal 3820 entities.\n",
      "  - scoping 18 {time:  19, } located on Nodal 3820 entities.\n",
      "  - scoping 19 {time:  20, } located on Nodal 3820 entities.\n",
      "  - scoping 20 {time:  21, } located on Nodal 3820 entities.\n",
      "  - scoping 21 {time:  22, } located on Nodal 3820 entities.\n",
      "  - scoping 22 {time:  23, } located on Nodal 3820 entities.\n",
      "  - scoping 23 {time:  24, } located on Nodal 3820 entities.\n",
      "  - scoping 24 {time:  25, } located on Nodal 3820 entities.\n",
      "  - scoping 25 {time:  26, } located on Nodal 3820 entities.\n",
      "  - scoping 26 {time:  27, } located on Nodal 3820 entities.\n",
      "  - scoping 27 {time:  28, } located on Nodal 3820 entities.\n",
      "  - scoping 28 {time:  29, } located on Nodal 3820 entities.\n",
      "  - scoping 29 {time:  30, } located on Nodal 3820 entities.\n",
      "  - scoping 30 {time:  31, } located on Nodal 3820 entities.\n",
      "  - scoping 31 {time:  32, } located on Nodal 3820 entities.\n",
      "  - scoping 32 {time:  33, } located on Nodal 3820 entities.\n",
      "  - scoping 33 {time:  34, } located on Nodal 3820 entities.\n",
      "  - scoping 34 {time:  35, } located on Nodal 3820 entities.\n",
      " \n",
      "\n"
     ]
    }
   ],
   "source": [
    "# Define the extract_scoping operator\n",
    "extract_scop_fc_op = ops.utility.extract_scoping(field_or_fields_container=disp_fc)\n",
    "\n",
    "# Get the mesh Scopings from the operators output\n",
    "mesh_scoping_6 = extract_scop_fc_op.outputs.mesh_scoping_as_scopings_container()\n",
    "\n",
    "# Print the mesh Scopings\n",
    "print(\"Scoping from FieldsContainer\", \"\\n\", mesh_scoping_6, \"\\n\")"
   ]
  },
  {
   "cell_type": "code",
   "execution_count": 18,
   "id": "134d5178",
   "metadata": {
    "execution": {
     "iopub.execute_input": "2025-11-01T11:03:11.276844Z",
     "iopub.status.busy": "2025-11-01T11:03:11.276007Z",
     "iopub.status.idle": "2025-11-01T11:03:11.280745Z",
     "shell.execute_reply": "2025-11-01T11:03:11.280745Z"
    }
   },
   "outputs": [
    {
     "name": "stdout",
     "output_type": "stream",
     "text": [
      "Scoping from Field  \n",
      " DPF  Scoping: \n",
      "  with Nodal location and 3820 entities\n",
      " \n",
      "\n"
     ]
    }
   ],
   "source": [
    "# Extract the mesh scoping\n",
    "mesh_scoping_7 = ops.utility.extract_scoping(field_or_fields_container=disp_field).eval()\n",
    "\n",
    "# Print the mesh Scoping\n",
    "print(\"Scoping from Field \", \"\\n\", mesh_scoping_7, \"\\n\")"
   ]
  },
  {
   "cell_type": "code",
   "execution_count": 19,
   "id": "21e1cb43",
   "metadata": {
    "execution": {
     "iopub.execute_input": "2025-11-01T11:03:11.282788Z",
     "iopub.status.busy": "2025-11-01T11:03:11.282788Z",
     "iopub.status.idle": "2025-11-01T11:03:11.287920Z",
     "shell.execute_reply": "2025-11-01T11:03:11.286879Z"
    }
   },
   "outputs": [
    {
     "name": "stdout",
     "output_type": "stream",
     "text": [
      "Scoping from Field \n",
      " DPF displacement_0.s Field\n",
      "  Location: Nodal\n",
      "  Unit: m\n",
      "  3820 entities \n",
      "  Data: 3 components and 3820 elementary data \n",
      "\n",
      "  Nodal\n",
      "  IDs                   data(m)\n",
      "  ------------          ----------\n",
      "  525                   0.000000e+00   0.000000e+00   0.000000e+00   \n",
      "                        \n",
      "  534                   0.000000e+00   0.000000e+00   0.000000e+00   \n",
      "                        \n",
      "  533                   0.000000e+00   0.000000e+00   0.000000e+00   \n",
      "                        \n",
      "  ...\n",
      "\n",
      " \n",
      "\n"
     ]
    }
   ],
   "source": [
    "# Extract the mesh scoping\n",
    "mesh_scoping_8 = disp_field\n",
    "\n",
    "# Print the mesh Scoping\n",
    "print(\"Scoping from Field\", \"\\n\", mesh_scoping_8, \"\\n\")"
   ]
  },
  {
   "cell_type": "code",
   "execution_count": 20,
   "id": "aa35351d",
   "metadata": {
    "execution": {
     "iopub.execute_input": "2025-11-01T11:03:11.289990Z",
     "iopub.status.busy": "2025-11-01T11:03:11.289990Z",
     "iopub.status.idle": "2025-11-01T11:03:11.308691Z",
     "shell.execute_reply": "2025-11-01T11:03:11.308691Z"
    }
   },
   "outputs": [
    {
     "name": "stdout",
     "output_type": "stream",
     "text": [
      "Displacement from Model.results  \n",
      " DPF displacement(s)Fields Container\n",
      "  with 4 field(s)\n",
      "  defined on labels: time \n",
      "\n",
      "  with:\n",
      "  - field 0 {time:  14} with Nodal location, 3 components and 4 entities.\n",
      "  - field 1 {time:  15} with Nodal location, 3 components and 4 entities.\n",
      "  - field 2 {time:  16} with Nodal location, 3 components and 4 entities.\n",
      "  - field 3 {time:  17} with Nodal location, 3 components and 4 entities.\n",
      " \n",
      "\n",
      "Displacement from result.displacement operator \n",
      " DPF displacement(s)Fields Container\n",
      "  with 4 field(s)\n",
      "  defined on labels: time \n",
      "\n",
      "  with:\n",
      "  - field 0 {time:  14} with Nodal location, 3 components and 4 entities.\n",
      "  - field 1 {time:  15} with Nodal location, 3 components and 4 entities.\n",
      "  - field 2 {time:  16} with Nodal location, 3 components and 4 entities.\n",
      "  - field 3 {time:  17} with Nodal location, 3 components and 4 entities.\n",
      " \n",
      "\n"
     ]
    }
   ],
   "source": [
    "# Extract and scope the result using the Model.results method\n",
    "disp_model = model_1.results.displacement(time_scoping=time_scoping_1, mesh_scoping=mesh_scoping_1).eval()\n",
    "\n",
    "# Extract and scope the results using the result.displacement operator\n",
    "disp_op = ops.result.displacement(data_sources=ds_1, time_scoping=time_scoping_1, mesh_scoping=mesh_scoping_1).eval()\n",
    "\n",
    "# Print the displacement results\n",
    "print(\"Displacement from Model.results \", \"\\n\", disp_model, \"\\n\")\n",
    "print(\"Displacement from result.displacement operator\", \"\\n\", disp_op, \"\\n\")"
   ]
  },
  {
   "cell_type": "code",
   "execution_count": 21,
   "id": "3fa40162",
   "metadata": {
    "execution": {
     "iopub.execute_input": "2025-11-01T11:03:11.312125Z",
     "iopub.status.busy": "2025-11-01T11:03:11.312125Z",
     "iopub.status.idle": "2025-11-01T11:03:11.327273Z",
     "shell.execute_reply": "2025-11-01T11:03:11.326235Z"
    }
   },
   "outputs": [
    {
     "name": "stdout",
     "output_type": "stream",
     "text": [
      "Displacement results for the entire mesh \n",
      " DPF displacement(s)Fields Container\n",
      "  with 1 field(s)\n",
      "  defined on labels: time \n",
      "\n",
      "  with:\n",
      "  - field 0 {time:  35} with Nodal location, 3 components and 3820 entities.\n",
      " \n",
      "\n",
      "Displacement results rescoped  \n",
      " DPF displacement(s)Fields Container\n",
      "  with 1 field(s)\n",
      "  defined on labels: time \n",
      "\n",
      "  with:\n",
      "  - field 0 {time:  35} with Nodal location, 3 components and 4 entities.\n",
      " \n",
      "\n"
     ]
    }
   ],
   "source": [
    "# Extract the results for the entire mesh\n",
    "disp_all_mesh = model_1.results.displacement.eval()\n",
    "\n",
    "# Rescope the displacement results to get the data only for a specific set of nodes\n",
    "disp_rescope = ops.scoping.rescope(fields=disp_all_mesh, mesh_scoping=mesh_scoping_1).eval()\n",
    "\n",
    "# Print the displacement results for the entire mesh\n",
    "print(\"Displacement results for the entire mesh\", \"\\n\", disp_all_mesh, \"\\n\")\n",
    "\n",
    "# Print the displacement results for the specific set of nodes\n",
    "print(\"Displacement results rescoped \", \"\\n\", disp_rescope, \"\\n\")"
   ]
  }
 ],
 "metadata": {
  "kernelspec": {
   "display_name": "Python 3 (ipykernel)",
   "language": "python",
   "name": "python3"
  },
  "language_info": {
   "codemirror_mode": {
    "name": "ipython",
    "version": 3
   },
   "file_extension": ".py",
   "mimetype": "text/x-python",
   "name": "python",
   "nbconvert_exporter": "python",
   "pygments_lexer": "ipython3",
   "version": "3.11.9"
  }
 },
 "nbformat": 4,
 "nbformat_minor": 5
}