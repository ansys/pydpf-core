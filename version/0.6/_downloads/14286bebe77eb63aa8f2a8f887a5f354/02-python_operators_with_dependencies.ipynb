{
  "cells": [
    {
      "cell_type": "code",
      "execution_count": null,
      "metadata": {
        "collapsed": false
      },
      "outputs": [],
      "source": [
        "%matplotlib inline"
      ]
    },
    {
      "cell_type": "markdown",
      "metadata": {},
      "source": [
        "# Create a plug-in package that has third-party dependencies {#ref_python_operators_with_deps}\r\n\r\nThis example shows how to create a Python plug-in package with\r\nthird-party dependencies. You should be familiar with these examples\r\nbefore proceeding with this more advanced one:\r\n\r\n-   `ref_wrapping_numpy_capabilities`{.interpreted-text role=\"ref\"}\r\n-   `ref_python_plugin_package`{.interpreted-text role=\"ref\"}\r\n\r\nThis plug-in contains an operator whose implementation depends on a\r\nthird-party Python module named [gltf](https://pypi.org/project/gltf/).\r\nThis operator takes a path, a mesh, and a 3D vector field as inputs and\r\nthen exports the mesh and the norm of the 3D vector field to a GLTF file\r\nat the given path.\r\n"
      ]
    },
    {
      "cell_type": "markdown",
      "metadata": {},
      "source": [
        "# Create the plug-in package\r\n\r\nEach operator implementation derives from the\r\n`ansys.dpf.core.custom_operator.CustomOperatorBase`{.interpreted-text\r\nrole=\"class\"} class and a call to the\r\n`ansys.dpf.core.custom_operator.record_operator`{.interpreted-text\r\nrole=\"py:func\"} method, which records the operators of the plug-in\r\npackage.\r\n\r\nDownload the `` `gltf_plugin `` plug-in package that has already been\r\ncreated for you.\r\n"
      ]
    },
    {
      "cell_type": "code",
      "execution_count": null,
      "metadata": {
        "collapsed": false
      },
      "outputs": [],
      "source": [
        "import os\nfrom ansys.dpf.core import examples\n\nprint('\\033[1m gltf_plugin')\nfile_list = [\"gltf_plugin/__init__.py\", \"gltf_plugin/operators.py\",\n             \"gltf_plugin/operators_loader.py\", \"gltf_plugin/requirements.txt\",\n             \"gltf_plugin/gltf_export.py\", \"gltf_plugin/texture.png\", \"gltf_plugin.xml\"\n             ]\nplugin_path = None\nGITHUB_SOURCE_URL = \"https://github.com/pyansys/pydpf-core/raw/\" \\\n                    \"\" \\\n                    \"examples/first_python_plugins/python_plugins\"\n\nfor file in file_list:\n    EXAMPLE_FILE = GITHUB_SOURCE_URL + \"/gltf_plugin/\" + file\n    operator_file_path = examples.downloads._retrieve_file(\n        EXAMPLE_FILE, file, os.path.join(\"python_plugins\", os.path.dirname(file)))\n\n    print(f'\\033[1m {file}\\n \\033[0m')\n    if (os.path.splitext(file)[1] == \".py\" or os.path.splitext(file)[1] == \".xml\") \\\n            and file != \"gltf_plugin/gltf_export.py\":\n        with open(operator_file_path, \"r\") as f:\n            for line in f.readlines():\n                print('\\t\\t\\t' + line)\n        print(\"\\n\\n\")\n        if plugin_path is None:\n            plugin_path = os.path.dirname(operator_file_path)"
      ]
    },
    {
      "cell_type": "markdown",
      "metadata": {},
      "source": [
        "To add third-party modules as dependencies to a plug-in package, you\r\nmust create and reference a folder or ZIP file with the sites of the\r\ndependencies in an XML file located next to the folder for the plug-in\r\npackage. The XML file must have the same name as the plug-in package\r\nplus an `.xml` extension.\r\n\r\nWhen the `ansys.dpf.core.core.load_library`{.interpreted-text\r\nrole=\"py:func\"} method is called, DPF-Core uses the `site` Python module\r\nto add custom to the path for the Python interpreter.\r\n\r\nTo create these custom sites, requirements of the plug-in package should\r\nbe installed in a Python virtual environment, the site-packages (with\r\nunnecessary folders removed) should be compressed to a ZIP file and\r\nplaced with the plugin. The path to this ZIP file should be referenced\r\nin the XML as shown in the preceding code.\r\n\r\nTo simplify this step, you can add a requirements file in the plug-in\r\npackage:\r\n"
      ]
    },
    {
      "cell_type": "code",
      "execution_count": null,
      "metadata": {
        "collapsed": false
      },
      "outputs": [],
      "source": [
        "print(f'\\033[1m gltf_plugin/requirements.txt: \\n \\033[0m')\nwith open(os.path.join(plugin_path, \"requirements.txt\"), \"r\") as f:\n    for line in f.readlines():\n        print('\\t\\t\\t' + line)"
      ]
    },
    {
      "cell_type": "markdown",
      "metadata": {},
      "source": [
        "Download the script for your operating system.\r\n\r\n-   For Windows, download this\r\n    `PowerShell script </user_guide/create_sites_for_python_operators.ps1>`{.interpreted-text\r\n    role=\"download\"}.\r\n-   For Linux, download this\r\n    `Shell script </user_guide/create_sites_for_python_operators.sh>`{.interpreted-text\r\n    role=\"download\"}.\r\n\r\nRun the downloaded script with the mandatory arguments:\r\n\r\n-   `-pluginpath`: Path to the folder with the plug-in package.\r\n-   `-zippath`: Path and name for the ZIP file.\r\n\r\nOptional arguments are:\r\n\r\n-   `-pythonexe`: Path to a Python executable of your choice.\r\n-   `-tempfolder`: Path to a temporary folder to work in. The default is\r\n    the environment variable `TEMP` on Windows and `/tmp/` on Linux.\r\n\r\nRun the command for your operating system.\r\n\r\n-   From Windows PowerShell, run:\r\n\r\n        create_sites_for_python_operators.ps1 -pluginpath /path/to/plugin -zippath /path/to/plugin/assets/winx64.zip # noqa: E501\r\n\r\n-   From Linux Shell, run:\r\n\r\n        create_sites_for_python_operators.sh -pluginpath /path/to/plugin -zippath /path/to/plugin/assets/linx64.zip # noqa: E501\r\n"
      ]
    },
    {
      "cell_type": "code",
      "execution_count": null,
      "metadata": {
        "collapsed": false
      },
      "outputs": [],
      "source": [
        "if os.name == \"nt\" and \\\n        not os.path.exists(os.path.join(plugin_path, 'assets', 'gltf_sites_winx64.zip')):\n    CMD_FILE_URL = GITHUB_SOURCE_URL + \"/create_sites_for_python_operators.ps1\"\n    cmd_file = examples.downloads._retrieve_file(\n        CMD_FILE_URL, \"create_sites_for_python_operators.ps1\", \"python_plugins\")\n    run_cmd = f\"powershell {cmd_file}\"\n    args = f\" -pluginpath \\\"{plugin_path}\\\" \" \\\n           f\"-zippath {os.path.join(plugin_path, 'assets', 'gltf_sites_winx64.zip')}\"\n    print(run_cmd + args)\n    import subprocess\n    process = subprocess.run(run_cmd + args, stdout=subprocess.PIPE, stderr=subprocess.PIPE)\n    if process.stderr:\n        raise RuntimeError(\n            \"Installing pygltf in a virtual environment failed with error:\\n\"\n            + process.stderr.decode())\n    else:\n        print(\"Installing pygltf in a virtual environment succeeded\")\nelif os.name == \"posix\" and \\\n        not os.path.exists(os.path.join(plugin_path, 'assets', 'gltf_sites_linx64.zip')):\n    CMD_FILE_URL = GITHUB_SOURCE_URL + \"/create_sites_for_python_operators.sh\"\n    cmd_file = examples.downloads._retrieve_file(\n        CMD_FILE_URL, \"create_sites_for_python_operators.ps1\", \"python_plugins\"\n    )\n    run_cmd = f\"{cmd_file}\"\n    args = f\" -pluginpath \\\"{plugin_path}\\\" \" \\\n           f\"-zippath \\\"{os.path.join(plugin_path, 'assets', 'gltf_sites_linx64.zip')}\\\"\"\n    print(run_cmd + args)\n    os.system(f\"chmod u=rwx,o=x {cmd_file}\")\n    os.system(run_cmd + args)\n    print(\"\\nInstalling pygltf in a virtual environment succeeded\")"
      ]
    },
    {
      "cell_type": "markdown",
      "metadata": {},
      "source": [
        "# Load the plug-in package\r\n\r\nYou use the function\r\n`ansys.dpf.core.core.load_library`{.interpreted-text role=\"py:func\"} to\r\nload the plug-in package.\r\n\r\n-   The first argument is the path to the directory where the plug-in\r\n    package is located.\r\n-   The second argument is `py_` plus any name identifying the plug-in\r\n    package.\r\n-   The third argument is the name of the function exposed in the\r\n    `__init__ file` for the plug-in package that is used to record\r\n    operators.\r\n"
      ]
    },
    {
      "cell_type": "code",
      "execution_count": null,
      "metadata": {
        "collapsed": false
      },
      "outputs": [],
      "source": [
        "from ansys.dpf import core as dpf\nfrom ansys.dpf.core import examples\n\n# Python plugins are not supported in process.\ndpf.start_local_server(config=dpf.AvailableServerConfigs.GrpcServer)\n\ntmp = dpf.make_tmp_dir_server()\ndpf.upload_files_in_folder(\n    dpf.path_utilities.join(tmp, \"plugins\", \"gltf_plugin\"),\n    plugin_path\n)\ndpf.upload_file(\n    plugin_path + \".xml\",\n    dpf.path_utilities.join(tmp, \"plugins\", \"gltf_plugin.xml\")\n)\n\ndpf.load_library(\n    dpf.path_utilities.join(tmp, \"plugins\", \"gltf_plugin\"),\n    \"py_dpf_gltf\",\n    \"load_operators\")"
      ]
    },
    {
      "cell_type": "markdown",
      "metadata": {},
      "source": [
        "Instantiate the operator.\r\n"
      ]
    },
    {
      "cell_type": "code",
      "execution_count": null,
      "metadata": {
        "collapsed": false
      },
      "outputs": [],
      "source": [
        "new_operator = dpf.Operator(\"gltf_export\")"
      ]
    },
    {
      "cell_type": "markdown",
      "metadata": {},
      "source": [
        "This new `gltf_export` operator requires the following as inputs: a\r\ntriangle surface mesh, a displacement field on this surface mesh, and a\r\npath to export the GLTF file to.\r\n\r\nTo demonstrate this new operator, a\r\n`ansys.dpf.core.model.Model`{.interpreted-text role=\"class\"} class is\r\ncreated on a simple file and the\r\n`ansys.dpf.core.operators.mesh.tri_mesh_skin`{.interpreted-text\r\nrole=\"class\"} operator is used to extract the surface of the mesh in\r\ntriangle elements.\r\n"
      ]
    },
    {
      "cell_type": "markdown",
      "metadata": {},
      "source": [
        "::: graphviz\r\n\r\ndigraph workflow {\r\n\r\n:   graph \\[pad=\\\"0.5\\\", nodesep=\\\"0.3\\\", ranksep=\\\"0.3\\\"\\] node\r\n    \\[shape=box, style=filled, fillcolor=\\\"#ffcc00\\\", margin=\\\"0\\\"\\];\r\n    rankdir=LR; splines=line; ds \\[label=\\\"data_sources\\\", shape=box,\r\n    style=filled, fillcolor=cadetblue2\\]; ds -\\> mesh_provider\r\n    \\[style=dashed\\]; mesh_provider -\\> skin_mesh \\[splines=ortho\\]; ds\r\n    -\\> displacement \\[style=dashed\\]; skin_mesh -\\> displacement\r\n    \\[splines=ortho\\]; skin_mesh -\\> gltf_export \\[splines=ortho\\];\r\n    displacement -\\> gltf_export \\[splines=ortho\\];\r\n\r\n}\r\n:::\r\n"
      ]
    },
    {
      "cell_type": "markdown",
      "metadata": {},
      "source": [
        "# Use the custom operator\r\n"
      ]
    },
    {
      "cell_type": "code",
      "execution_count": null,
      "metadata": {
        "collapsed": false
      },
      "outputs": [],
      "source": [
        "import os\n\nmodel = dpf.Model(dpf.upload_file_in_tmp_folder(examples.find_static_rst()))\n\nmesh = model.metadata.meshed_region\nskin_mesh = dpf.operators.mesh.tri_mesh_skin(mesh=mesh)\n\ndisplacement = model.results.displacement()\ndisplacement.inputs.mesh_scoping(skin_mesh)\ndisplacement.inputs.mesh(skin_mesh)\nnew_operator.inputs.path(os.path.join(tmp, \"out\"))\nnew_operator.inputs.mesh(skin_mesh)\nnew_operator.inputs.field(displacement.outputs.fields_container()[0])\nnew_operator.run()\n\nprint(\"operator ran successfully\")\n\ndpf.download_file(os.path.join(tmp, \"out.glb\"), os.path.join(os.getcwd(), \"out.glb\"))"
      ]
    },
    {
      "cell_type": "markdown",
      "metadata": {},
      "source": [
        "You can download `output <images/thumb/out02.glb>`{.interpreted-text\r\nrole=\"download\"} from the `gltf` operator.\r\n"
      ]
    }
  ],
  "metadata": {
    "kernelspec": {
      "display_name": "Python 3",
      "language": "python",
      "name": "python3"
    },
    "language_info": {
      "codemirror_mode": {
        "name": "ipython",
        "version": 3
      },
      "file_extension": ".py",
      "mimetype": "text/x-python",
      "name": "python",
      "nbconvert_exporter": "python",
      "pygments_lexer": "ipython3",
      "version": "3.8.10"
    }
  },
  "nbformat": 4,
  "nbformat_minor": 0
}