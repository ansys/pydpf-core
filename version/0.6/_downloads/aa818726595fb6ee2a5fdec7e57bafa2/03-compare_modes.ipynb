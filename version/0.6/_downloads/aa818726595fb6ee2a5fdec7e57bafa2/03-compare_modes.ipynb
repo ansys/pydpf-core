{
  "cells": [
    {
      "cell_type": "code",
      "execution_count": null,
      "metadata": {
        "collapsed": false
      },
      "outputs": [],
      "source": [
        "%matplotlib inline"
      ]
    },
    {
      "cell_type": "markdown",
      "metadata": {},
      "source": [
        "# Use Result Helpers to compare mode shapes for solids and then shells {#ref_compare_modes}\r\n\r\nThe [Result]{.title-ref} class which instances are created by the\r\n[Model]{.title-ref} gives access to helpers to request results on\r\nspecific mesh and time scopings. With those helpers, working on a custom\r\nspatial and temporal subset of the model is straightforward.\r\n"
      ]
    },
    {
      "cell_type": "code",
      "execution_count": null,
      "metadata": {
        "collapsed": false
      },
      "outputs": [],
      "source": [
        "from ansys.dpf import core as dpf\nfrom ansys.dpf.core import examples"
      ]
    },
    {
      "cell_type": "markdown",
      "metadata": {},
      "source": [
        "First, create a model object to establish a connection with an example\r\nresult file\r\n"
      ]
    },
    {
      "cell_type": "code",
      "execution_count": null,
      "metadata": {
        "collapsed": false
      },
      "outputs": [],
      "source": [
        "model = dpf.Model(examples.download_all_kinds_of_complexity_modal())\nprint(model)"
      ]
    },
    {
      "cell_type": "markdown",
      "metadata": {},
      "source": [
        "# Visualize specific mode shapes\r\n\r\nChoose the modes to visualize\r\n"
      ]
    },
    {
      "cell_type": "code",
      "execution_count": null,
      "metadata": {
        "collapsed": false
      },
      "outputs": [],
      "source": [
        "modes = [1, 5, 10, 15]"
      ]
    },
    {
      "cell_type": "markdown",
      "metadata": {},
      "source": [
        "Choose to split the displacement on solid/shell/beam to only focus on\r\nshell elements\r\n"
      ]
    },
    {
      "cell_type": "code",
      "execution_count": null,
      "metadata": {
        "collapsed": false
      },
      "outputs": [],
      "source": [
        "disp = model.results.displacement\nfor mode in modes:\n    fc = disp.on_time_scoping(mode).split_by_shape.eval()\n    model.metadata.meshed_region.plot(fc.shell_field())"
      ]
    },
    {
      "cell_type": "markdown",
      "metadata": {},
      "source": [
        "Choose to split the displacement on solid/shell/beam to only focus on\r\nsolid elements\r\n"
      ]
    },
    {
      "cell_type": "code",
      "execution_count": null,
      "metadata": {
        "collapsed": false
      },
      "outputs": [],
      "source": [
        "disp = model.results.displacement\nfor mode in modes:\n    fc = disp.on_time_scoping(mode).split_by_shape.eval()\n    model.metadata.meshed_region.plot(fc.solid_field())"
      ]
    }
  ],
  "metadata": {
    "kernelspec": {
      "display_name": "Python 3",
      "language": "python",
      "name": "python3"
    },
    "language_info": {
      "codemirror_mode": {
        "name": "ipython",
        "version": 3
      },
      "file_extension": ".py",
      "mimetype": "text/x-python",
      "name": "python",
      "nbconvert_exporter": "python",
      "pygments_lexer": "ipython3",
      "version": "3.8.10"
    }
  },
  "nbformat": 4,
  "nbformat_minor": 0
}