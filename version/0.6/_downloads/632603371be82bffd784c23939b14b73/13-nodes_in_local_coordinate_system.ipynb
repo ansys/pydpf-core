{
  "cells": [
    {
      "cell_type": "code",
      "execution_count": null,
      "metadata": {
        "collapsed": false
      },
      "outputs": [],
      "source": [
        "%matplotlib inline"
      ]
    },
    {
      "cell_type": "markdown",
      "metadata": {},
      "source": [
        "# Convert nodal coordinates field to local coordinate system {#ref_nodes_in_local_coordinate_system}\r\n\r\nGCS: Global Coordinate System LCS: Local Coordinate System Currently,\r\nthere is no native operator to get nodal coordinates in an LCS. The\r\noperator :class: [rotate\r\n\\<ansys.dpf.core.operators.geo.rotate.rotate\\>]{.title-ref} rotates the\r\ninput field in GCS as per the input rotation matrix. So, if the LCS is\r\nat the same origin as the GCS, only one operation using the\r\n[rotate]{.title-ref} operator give the desired output. But for an LCS\r\nwith a transformed origin, after rotation a transformation along the\r\nrotated position vector of LCS\\'s origin is also needed to get the\r\ncorrect coordinates in LCS.\r\n\r\nThe script below demonstrates the methodology using PyDPF.\r\n\r\nImport necessary modules:\r\n"
      ]
    },
    {
      "cell_type": "code",
      "execution_count": null,
      "metadata": {
        "collapsed": false
      },
      "outputs": [],
      "source": [
        "from ansys.dpf import core as dpf\nfrom ansys.dpf.core import examples"
      ]
    },
    {
      "cell_type": "markdown",
      "metadata": {},
      "source": [
        "Create a model object to establish a connection with an example result\r\nfile:\r\n"
      ]
    },
    {
      "cell_type": "code",
      "execution_count": null,
      "metadata": {
        "collapsed": false
      },
      "outputs": [],
      "source": [
        "model = dpf.Model(examples.download_hemisphere())"
      ]
    },
    {
      "cell_type": "markdown",
      "metadata": {},
      "source": [
        "Get the property [coordinates_field]{.title-ref} from :class: nodes\r\nansys.dpf.core.nodes\\`\r\n"
      ]
    },
    {
      "cell_type": "code",
      "execution_count": null,
      "metadata": {
        "collapsed": false
      },
      "outputs": [],
      "source": [
        "ncoord_f = model.metadata.meshed_region.nodes.coordinates_field"
      ]
    },
    {
      "cell_type": "markdown",
      "metadata": {},
      "source": [
        "Get the rotation matrix of the LCS ID 12 The first 9 values in the\r\n[cs]{.title-ref} output is the rotation matrix\r\n"
      ]
    },
    {
      "cell_type": "code",
      "execution_count": null,
      "metadata": {
        "collapsed": false
      },
      "outputs": [],
      "source": [
        "cs = model.operator(r\"mapdl::rst::CS\")\ncs.inputs.cs_id.connect(12)\ncs_rot_mat = cs.outputs.field.get_data().data.T[0:9]"
      ]
    },
    {
      "cell_type": "markdown",
      "metadata": {},
      "source": [
        "Create a 3x3 rotation matrix field - [rot_mat_f]{.title-ref}\r\n"
      ]
    },
    {
      "cell_type": "code",
      "execution_count": null,
      "metadata": {
        "collapsed": false
      },
      "outputs": [],
      "source": [
        "rot_mat_f = dpf.fields_factory.create_scalar_field(1)\nrot_mat_f.data = cs_rot_mat"
      ]
    },
    {
      "cell_type": "markdown",
      "metadata": {},
      "source": [
        "Create a 3D vector field for the position vector of the LCS\\'s origin\r\nand rotate the origin as per the rotation matrix of the LCS. The last 3\r\nentries of [cs]{.title-ref} output is the LCS\\'s origin in GCS.\r\n"
      ]
    },
    {
      "cell_type": "code",
      "execution_count": null,
      "metadata": {
        "collapsed": false
      },
      "outputs": [],
      "source": [
        "pos_vec = dpf.fields_factory.create_3d_vector_field(1)\npos_vec.data = cs.outputs.field.get_data().data.T[-3:]\npos_vec_rot = dpf.operators.geo.rotate(field=pos_vec,\n                                       field_rotation_matrix=rot_mat_f)"
      ]
    },
    {
      "cell_type": "markdown",
      "metadata": {},
      "source": [
        "Get rotated nodal coordinates field.\r\n"
      ]
    },
    {
      "cell_type": "code",
      "execution_count": null,
      "metadata": {
        "collapsed": false
      },
      "outputs": [],
      "source": [
        "ncoord_rot_f = dpf.operators.geo.rotate(field=ncoord_f,\n                                        field_rotation_matrix=rot_mat_f)"
      ]
    },
    {
      "cell_type": "markdown",
      "metadata": {},
      "source": [
        "Transform rotated nodal coordinates field along rotated position vector\r\n-[pos_vec_rot]{.title-ref},\r\n"
      ]
    },
    {
      "cell_type": "code",
      "execution_count": null,
      "metadata": {
        "collapsed": false
      },
      "outputs": [],
      "source": [
        "pos_vec_rot_neg_f = dpf.operators.math.scale(field=pos_vec_rot,\n                                             ponderation=-1.0)\npos_vec_rot_neg = pos_vec_rot_neg_f.outputs.field.get_data().data_as_list\nncoord_translate = dpf.operators.math.add_constant(field=ncoord_rot_f,\n                                                   ponderation=pos_vec_rot_neg)"
      ]
    },
    {
      "cell_type": "markdown",
      "metadata": {},
      "source": [
        "Get the nodal coordinates field [ncoord_lcs_f]{.title-ref} in LCS\r\n"
      ]
    },
    {
      "cell_type": "code",
      "execution_count": null,
      "metadata": {
        "collapsed": false
      },
      "outputs": [],
      "source": [
        "ncoord_lcs_f = ncoord_translate.outputs.field.get_data()"
      ]
    },
    {
      "cell_type": "markdown",
      "metadata": {},
      "source": [
        "Coordinates of NID 1 in GCS\r\n"
      ]
    },
    {
      "cell_type": "code",
      "execution_count": null,
      "metadata": {
        "collapsed": false
      },
      "outputs": [],
      "source": [
        "print(ncoord_f.get_entity_data_by_id(1))"
      ]
    },
    {
      "cell_type": "markdown",
      "metadata": {},
      "source": [
        "Coordinates of NID 1 in LCS\r\n"
      ]
    },
    {
      "cell_type": "code",
      "execution_count": null,
      "metadata": {
        "collapsed": false
      },
      "outputs": [],
      "source": [
        "print(ncoord_lcs_f.get_entity_data_by_id(1))"
      ]
    }
  ],
  "metadata": {
    "kernelspec": {
      "display_name": "Python 3",
      "language": "python",
      "name": "python3"
    },
    "language_info": {
      "codemirror_mode": {
        "name": "ipython",
        "version": 3
      },
      "file_extension": ".py",
      "mimetype": "text/x-python",
      "name": "python",
      "nbconvert_exporter": "python",
      "pygments_lexer": "ipython3",
      "version": "3.8.10"
    }
  },
  "nbformat": 4,
  "nbformat_minor": 0
}