{
  "cells": [
    {
      "cell_type": "code",
      "execution_count": null,
      "metadata": {
        "collapsed": false
      },
      "outputs": [],
      "source": [
        "%matplotlib inline"
      ]
    },
    {
      "cell_type": "markdown",
      "metadata": {},
      "source": [
        "# Pressure vessel analysis according to an ASME standard {#ref_ASME_SecVIII_Div2}\r\n\r\nThis example demonstrates how you can use PyDPF to postprocess a\r\nMechanical model according to the ASME Section VIII Division 2 standard\r\nfor pressure vessel designs.\r\n\r\nThis example is taken from Workshop 02.1 from Ansys Mechanical Advanced\r\nTopics. Instead of using several user defined results as it is done in\r\nthe workshop, DPF is able to calculate the triaxial strain limit and\r\ncompare it with the equivalent plastic strain, as specified in Equation\r\n5.7 assuming 0 forming strain.\r\n\r\nPlease be aware that this is just an example, so it is the user\\'s duty\r\nto verify that calculation is made according to latest ASME standard.\r\n"
      ]
    },
    {
      "cell_type": "code",
      "execution_count": null,
      "metadata": {
        "collapsed": false
      },
      "outputs": [],
      "source": [
        "# Import the result file from Workshop 02.1.\n# Because it is a elastic-plastic analysis, there are several substeps. The focus\n# here is on the latest substep (number 4)\n\nimport ansys.dpf.core as dpf\nfrom ansys.dpf.core import examples\n\npath = examples.download_example_asme_result()\nmodel = dpf.Model(path)\ndataSource = model.metadata.data_sources\n\ntimeScoping = dpf.Scoping()\ntimeScoping.location = dpf.locations.time_freq\ntimeScoping.ids = [4]"
      ]
    },
    {
      "cell_type": "markdown",
      "metadata": {},
      "source": [
        "# Parameters input\r\n\r\nYou must go to ASME Section III Division 2 to get values for the\r\nparameters `alfasl` and `m2`. This is the code for introducing these\r\nparameters manually:\r\n\r\n-   `alfasl` = input(\\\"Introduce `alfasl` parameter from ASMEn\\\")\r\n-   `alfasl` = float(alfasl)\r\n-   `m2` = input(\\\"Introduce `m2` parameter from ASMEn\\\")\r\n-   `m2` = float(m2)\r\n\r\nFor this exercise, `alfasl` = 2.2 and `m2` = .288, which is the same as\r\nthe original.\r\n"
      ]
    },
    {
      "cell_type": "code",
      "execution_count": null,
      "metadata": {
        "collapsed": false
      },
      "outputs": [],
      "source": [
        "alfasl = 2.2\nm2 = .288"
      ]
    },
    {
      "cell_type": "markdown",
      "metadata": {},
      "source": [
        "# Stresses and strains\r\n\r\nStresses and strains are read. To get the same results as Mechanical,\r\nread elemental nodal strains and apply von Mises invariant. This\r\noperator does not have an option for defining the effective Poisson\\'s\r\nratio. Consequently, a correction factor is applied.\r\n"
      ]
    },
    {
      "cell_type": "code",
      "execution_count": null,
      "metadata": {
        "collapsed": false
      },
      "outputs": [],
      "source": [
        "seqv_op = dpf.operators.result.stress_von_mises(time_scoping = timeScoping,\n                                                data_sources = dataSource,\n                                                requested_location = 'Nodal')\nseqv = seqv_op.outputs.fields_container()\n\ns1_op = dpf.operators.result.stress_principal_1(time_scoping = timeScoping,\n                                                data_sources = dataSource,\n                                                requested_location = 'Nodal')\ns1 = s1_op.outputs.fields_container()\n\ns2_op = dpf.operators.result.stress_principal_2(time_scoping = timeScoping,\n                                                data_sources = dataSource,\n                                                requested_location = 'Nodal')\ns2 = s2_op.outputs.fields_container()\n\ns3_op = dpf.operators.result.stress_principal_3(time_scoping = timeScoping,\n                                                data_sources = dataSource,\n                                                requested_location = 'Nodal')\ns3 = s3_op.outputs.fields_container()\n\nstrain_op = dpf.operators.result.plastic_strain(data_sources = dataSource,\n                                                requested_location = 'ElementalNodal',\n                                                time_scoping = timeScoping)\npstrain = strain_op.outputs.fields_container()\n\neppleqv_op = dpf.operators.invariant.von_mises_eqv_fc(fields_container = pstrain)\neppleqv = eppleqv_op.outputs.fields_container()\n\npoisson_ratio_correction = 1.3/1.5\neppleqvmech_op = dpf.operators.math.scale_fc(fields_container = eppleqv,\n                                             ponderation = poisson_ratio_correction)\neppleqvmech = eppleqvmech_op.outputs.fields_container()\n\n\neppleqvave_op = dpf.operators.averaging.to_nodal_fc(fields_container = eppleqvmech)\neppleqvave = eppleqvave_op.outputs.fields_container()"
      ]
    },
    {
      "cell_type": "markdown",
      "metadata": {},
      "source": [
        "# Triaxial strain limit calculation\r\n"
      ]
    },
    {
      "cell_type": "code",
      "execution_count": null,
      "metadata": {
        "collapsed": false
      },
      "outputs": [],
      "source": [
        "# S12=S1+S2\ns12_op = dpf.operators.math.add_fc(fields_container1 = s1,\n                                   fields_container2 = s2)\ns12 = s12_op.outputs.fields_container()\n# S123=S12+S3\ns123_op = dpf.operators.math.add_fc(fields_container1 = s12,\n                                    fields_container2 = s3)\ns123 = s123_op.outputs.fields_container()\n# SVM_scale=SVM*3\nratio = 3.0\nseqvs_op = dpf.operators.math.scale_fc(fields_container = seqv,\n                                       ponderation = ratio)\nseqvs = seqvs_op.outputs.fields_container()\n# S123/SVM*3\nsratio_op = dpf.operators.math.component_wise_divide(fieldA = s123,\n                                                     fieldB = seqvs)\nsratio = sratio_op.outputs.field()\n# S123/SVM*3-0.33\nsterm_op = dpf.operators.math.add_constant(field = sratio,\n                                           ponderation = -1/3)\nsterm = sterm_op.outputs.field()\n# -alfasl/(1+m2)*stressterm\nratio2 = -alfasl/(1+m2)\nexpt_op = dpf.operators.math.scale(field = sterm,\n                                   ponderation = ratio2)\nexpt = expt_op.outputs.field()\n# exp(-alfasl/(1+m2)*stressterm)\nexp_op = dpf.operators.math.exponential(field = expt)\nexp = exp_op.outputs.field()\n# elu*exp(-alfasl/(1+m2)*stressterm)\nstrainlimit_op = dpf.operators.math.scale(field = exp,\n                                          ponderation = m2)\nstrainlimit = strainlimit_op.outputs.field()"
      ]
    },
    {
      "cell_type": "markdown",
      "metadata": {},
      "source": [
        "# Strain limit condition (less than 1 pass the criteria)\r\n"
      ]
    },
    {
      "cell_type": "code",
      "execution_count": null,
      "metadata": {
        "collapsed": false
      },
      "outputs": [],
      "source": [
        "strainratio = dpf.operators.math.component_wise_divide(fieldA = eppleqvave,\n                                                       fieldB = strainlimit)\nstrainratio = strainratio.outputs.field()"
      ]
    },
    {
      "cell_type": "markdown",
      "metadata": {},
      "source": [
        "# Strain limit condition is plot\r\n"
      ]
    },
    {
      "cell_type": "code",
      "execution_count": null,
      "metadata": {
        "collapsed": false
      },
      "outputs": [],
      "source": [
        "model.metadata.meshed_region.plot(strainratio)\ndpf.server.shutdown_all_session_servers()"
      ]
    }
  ],
  "metadata": {
    "kernelspec": {
      "display_name": "Python 3",
      "language": "python",
      "name": "python3"
    },
    "language_info": {
      "codemirror_mode": {
        "name": "ipython",
        "version": 3
      },
      "file_extension": ".py",
      "mimetype": "text/x-python",
      "name": "python",
      "nbconvert_exporter": "python",
      "pygments_lexer": "ipython3",
      "version": "3.8.10"
    }
  },
  "nbformat": 4,
  "nbformat_minor": 0
}