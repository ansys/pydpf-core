{
  "cells": [
    {
      "cell_type": "code",
      "execution_count": null,
      "metadata": {
        "collapsed": false
      },
      "outputs": [],
      "source": [
        "%matplotlib inline"
      ]
    },
    {
      "cell_type": "markdown",
      "metadata": {},
      "source": [
        "# Extrapolation method for stress result of a 3D element {#extrapolation_test_stress_3Delement}\r\n\r\nThis example shows how to compute the nodal components stress from\r\nGaussian points (integration points) for a 3D element by using of\r\nextrapolation.\r\n\r\nExtrapolate results available at Gaussian or quadrature points to nodal\r\npoints for a field or fields container. The available elements are:\r\n\r\n-   Linear quadrangle\r\n-   Parabolic quadrangle\r\n-   Linear hexagonal\r\n-   Quadratic hexagonal\r\n-   Linear tetrahedral\r\n-   Quadratic tetrahedral\r\n\r\nHere are the steps for extrapolation:\r\n\r\n1.  Get the data source\\'s solution from the integration points. (This\r\n    result file was generated with the Ansys Mechanical APDL (MAPDL)\r\n    option `EREXS, NO`).\r\n2.  Use the extrapolation operator to compute the nodal stress.\r\n3.  Get the result for nodal stress from the data source. The analysis\r\n    was computed by MAPDL.\r\n4.  Compare the result for nodal stress from the data source and the\r\n    nodal stress computed by the extrapolation method.\r\n"
      ]
    },
    {
      "cell_type": "code",
      "execution_count": null,
      "metadata": {
        "collapsed": false
      },
      "outputs": [],
      "source": [
        "from ansys.dpf import core as dpf\nfrom ansys.dpf.core import examples"
      ]
    },
    {
      "cell_type": "markdown",
      "metadata": {},
      "source": [
        "Get the data source\\'s analysis of integration points and analysis\r\nreference\r\n"
      ]
    },
    {
      "cell_type": "code",
      "execution_count": null,
      "metadata": {
        "collapsed": false
      },
      "outputs": [],
      "source": [
        "datafile = examples.download_extrapolation_3d_result()\n\n# Get integration points (Gaussian points)\ndata_integration_points = datafile[\"file_integrated\"]\ndata_sources_integration_points = dpf.DataSources(data_integration_points)\n\n# Get the reference\ndataSourceref = datafile[\"file_ref\"]\ndata_sources_ref = dpf.DataSources(dataSourceref)\n\n# Get the mesh\nmodel = dpf.Model(data_integration_points)\nmesh = model.metadata.meshed_region\n\n# Operator instantiation scoping\nop_scoping = dpf.operators.scoping.split_on_property_type()  # operator instantiation\nop_scoping.inputs.mesh.connect(mesh)\nop_scoping.inputs.requested_location.connect(\"Elemental\")\nmesh_scoping = op_scoping.outputs.mesh_scoping()"
      ]
    },
    {
      "cell_type": "markdown",
      "metadata": {},
      "source": [
        "# Extrapolate from integration points for stress result\r\n\r\nThis example uses the `gauss_to_node_fc` operator to compute the nodal\r\ncomponent stress result from the stress result of integration points.\r\n"
      ]
    },
    {
      "cell_type": "code",
      "execution_count": null,
      "metadata": {
        "collapsed": false
      },
      "outputs": [],
      "source": [
        "# Create stress operator to get stress result of integration points\nstressop = dpf.operators.result.stress()\nstressop.inputs.data_sources.connect(data_sources_integration_points)\nstress = stressop.outputs.fields_container()"
      ]
    },
    {
      "cell_type": "markdown",
      "metadata": {},
      "source": [
        "# Nodal stress result of integration points\r\n\r\n> The MAPLD command `ERESX,NO` is used to copy directly the Gaussian\r\n> (integration) points results to the nodes, instead of the results at\r\n> nodes or elements (which are interpolation of results at a few gauss\r\n> points). The following plot shows the nodal values, which are the\r\n> averaged values of stresses at each node. The value shown at the node\r\n> is the average of the stresses from the Gaussian points of each\r\n> element that it belongs to.\r\n"
      ]
    },
    {
      "cell_type": "code",
      "execution_count": null,
      "metadata": {
        "collapsed": false
      },
      "outputs": [],
      "source": [
        "# Plot\nstress_nodal_op = dpf.operators.averaging.elemental_nodal_to_nodal_fc()\nstress_nodal_op.inputs.fields_container.connect(stress)\nmesh.plot(stress_nodal_op.outputs.fields_container())"
      ]
    },
    {
      "cell_type": "markdown",
      "metadata": {},
      "source": [
        "Create operator `gauss_to_node_fc` and compute nodal component stress by\r\napplying the extrapolation method.\r\n"
      ]
    },
    {
      "cell_type": "code",
      "execution_count": null,
      "metadata": {
        "collapsed": false
      },
      "outputs": [],
      "source": [
        "ex_stress = dpf.operators.averaging.gauss_to_node_fc()\n# connect mesh\nex_stress.inputs.mesh.connect(mesh)\n# connect fields container stress\nex_stress.inputs.fields_container.connect(stress)\n# get output\nfex = ex_stress.outputs.fields_container()"
      ]
    },
    {
      "cell_type": "markdown",
      "metadata": {},
      "source": [
        "# Stress result of reference Ansys Workbench\r\n"
      ]
    },
    {
      "cell_type": "code",
      "execution_count": null,
      "metadata": {
        "collapsed": false
      },
      "outputs": [],
      "source": [
        "# Stress from file dataSourceref\nstressop_ref = dpf.operators.result.stress()\nstressop_ref.inputs.data_sources.connect(data_sources_ref)\nstressop_ref.inputs.mesh_scoping.connect(mesh_scoping)\nstress_ref = stressop_ref.outputs.fields_container()"
      ]
    },
    {
      "cell_type": "markdown",
      "metadata": {},
      "source": [
        "# Plot\r\n\r\nShow plots of the extrapolation\\'s stress result and the reference\\'s\r\nstress result\r\n"
      ]
    },
    {
      "cell_type": "code",
      "execution_count": null,
      "metadata": {
        "collapsed": false
      },
      "outputs": [],
      "source": [
        "# extrapolation\nfex_nodal_op = dpf.operators.averaging.elemental_nodal_to_nodal_fc()\nfex_nodal_op.inputs.fields_container.connect(fex)\nmesh.plot(fex_nodal_op.outputs.fields_container())\n# reference\nstress_ref_nodal_op = dpf.operators.averaging.elemental_nodal_to_nodal_fc()\nstress_ref_nodal_op.inputs.fields_container.connect(stress_ref)\nmesh.plot(stress_ref_nodal_op.outputs.fields_container())"
      ]
    },
    {
      "cell_type": "markdown",
      "metadata": {},
      "source": [
        "# Compare stress results\r\n\r\nCompare the stress result computed by extrapolation and the reference\\'s\r\nresult. Check if the two fields container are identical. The maximum\r\ntolerance gap between two compared values is 1e-2. The smallest value\r\nthat is considered during the comparison step: all the `abs(values)` in\r\nfield less than 1e-8 is considered as null.\r\n"
      ]
    },
    {
      "cell_type": "code",
      "execution_count": null,
      "metadata": {
        "collapsed": false
      },
      "outputs": [],
      "source": [
        "# operator AreFieldsIdentical_fc\nop = dpf.operators.logic.identical_fc()\nop.inputs.fields_containerA.connect(fex)\nop.inputs.fields_containerB.connect(stress_ref)\nop.inputs.tolerance.connect(1.0e-8)\nop.inputs.small_value.connect(0.01)\nop.outputs.boolean()"
      ]
    }
  ],
  "metadata": {
    "kernelspec": {
      "display_name": "Python 3",
      "language": "python",
      "name": "python3"
    },
    "language_info": {
      "codemirror_mode": {
        "name": "ipython",
        "version": 3
      },
      "file_extension": ".py",
      "mimetype": "text/x-python",
      "name": "python",
      "nbconvert_exporter": "python",
      "pygments_lexer": "ipython3",
      "version": "3.8.10"
    }
  },
  "nbformat": 4,
  "nbformat_minor": 0
}