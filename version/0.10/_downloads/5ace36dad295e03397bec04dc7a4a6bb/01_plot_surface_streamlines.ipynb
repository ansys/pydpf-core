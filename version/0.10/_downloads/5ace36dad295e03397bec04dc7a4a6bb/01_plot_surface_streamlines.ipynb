{
  "cells": [
    {
      "cell_type": "code",
      "execution_count": null,
      "metadata": {
        "collapsed": false
      },
      "outputs": [],
      "source": [
        "%matplotlib inline"
      ]
    },
    {
      "cell_type": "markdown",
      "metadata": {},
      "source": [
        "# Compute and plot 2D streamlines {#plot_surf_streamlines}\r\n\r\nThis example shows you how to compute and plot streamlines of fluid\r\nsimulation results, for 2D models.\r\n\r\n::: note\r\n::: title\r\nNote\r\n:::\r\n\r\nThis example requires DPF 7.0 (ansys-dpf-server-2024-1-pre0) or above.\r\nFor more information, see `ref_compatibility`{.interpreted-text\r\nrole=\"ref\"}.\r\n:::\r\n"
      ]
    },
    {
      "cell_type": "markdown",
      "metadata": {},
      "source": [
        "# Plot surface streamlines\r\n"
      ]
    },
    {
      "cell_type": "markdown",
      "metadata": {},
      "source": [
        "# Import modules, create the data sources and the model\r\n\r\nImport modules:\r\n"
      ]
    },
    {
      "cell_type": "code",
      "execution_count": null,
      "metadata": {
        "collapsed": false
      },
      "outputs": [],
      "source": [
        "from ansys.dpf import core as dpf\nfrom ansys.dpf.core import examples\nfrom ansys.dpf.core.helpers.streamlines import compute_streamlines\nfrom ansys.dpf.core.plotter import DpfPlotter"
      ]
    },
    {
      "cell_type": "markdown",
      "metadata": {},
      "source": [
        "Create data sources for fluids simulation result:\r\n"
      ]
    },
    {
      "cell_type": "code",
      "execution_count": null,
      "metadata": {
        "collapsed": false
      },
      "outputs": [],
      "source": [
        "fluent_files = examples.download_fluent_multi_species()\nds_fluent = dpf.DataSources()\nds_fluent.set_result_file_path(fluent_files[\"cas\"], \"cas\")\nds_fluent.add_file_path(fluent_files[\"dat\"], \"dat\")"
      ]
    },
    {
      "cell_type": "markdown",
      "metadata": {},
      "source": [
        "Create model from fluid simulation result data sources:\r\n"
      ]
    },
    {
      "cell_type": "code",
      "execution_count": null,
      "metadata": {
        "collapsed": false
      },
      "outputs": [],
      "source": [
        "m_fluent = dpf.Model(ds_fluent)"
      ]
    },
    {
      "cell_type": "markdown",
      "metadata": {},
      "source": [
        "# Get meshed region and velocity data\r\n\r\nMeshed region is used as the geometric base to compute the streamlines.\r\nVelocity data is used to compute the streamlines. The velocity data must\r\nbe nodal.\r\n"
      ]
    },
    {
      "cell_type": "markdown",
      "metadata": {},
      "source": [
        "Get the meshed region:\r\n"
      ]
    },
    {
      "cell_type": "code",
      "execution_count": null,
      "metadata": {
        "collapsed": false
      },
      "outputs": [],
      "source": [
        "meshed_region = m_fluent.metadata.meshed_region"
      ]
    },
    {
      "cell_type": "markdown",
      "metadata": {},
      "source": [
        "Get the velocity result at nodes:\r\n"
      ]
    },
    {
      "cell_type": "code",
      "execution_count": null,
      "metadata": {
        "collapsed": false
      },
      "outputs": [],
      "source": [
        "velocity_op = m_fluent.results.velocity()\nfc = velocity_op.outputs.fields_container()\nfield = dpf.operators.averaging.to_nodal_fc(fields_container=fc).outputs.fields_container()[0]"
      ]
    },
    {
      "cell_type": "markdown",
      "metadata": {},
      "source": [
        "# Compute single streamline\r\n"
      ]
    },
    {
      "cell_type": "code",
      "execution_count": null,
      "metadata": {
        "collapsed": false
      },
      "outputs": [],
      "source": [
        "single_2d_streamline, single_2d_source = compute_streamlines(\n    meshed_region=meshed_region,\n    field=field,\n    start_position=(0.005, 0.0005, 0.0),\n    surface_streamlines=True,\n    return_source=True,\n)"
      ]
    },
    {
      "cell_type": "markdown",
      "metadata": {},
      "source": [
        "# Plot single streamline\r\n"
      ]
    },
    {
      "cell_type": "code",
      "execution_count": null,
      "metadata": {
        "collapsed": false
      },
      "outputs": [],
      "source": [
        "pl_single = DpfPlotter()\npl_single.add_field(field, meshed_region, opacity=0.2)\npl_single.add_streamlines(\n    streamlines=single_2d_streamline,\n    source=single_2d_source,\n    radius=0.00002,\n)\n# Use the PyVista 'cpos' optional argument to control the camera position.\n# To easily save a camera position, plot the figure a first time with the argument\n# 'return_cpos=True'. This will make the ``DpfPlotter.show_figure`` function return\n# the camera position at the time the PyVista interactive plotting window is closed.\n# You can also define a plane to use for the camera with 'cpos=\"xy\"'.\n# In this case the camera will fit the entire model in the window.\n# Starting from a returned 'cpos', you can build a custom camera position, such as:\ncpos = [\n    (0.005, 0.0004, 0.015),  # Camera position (X, Y, Z)\n    (0.005, 0.0004, 0.0),  # Target point (X, Y, Z)\n    (0.0, 1.0, 0.0),  # Upward direction (+y)\n]\nreturn_cpos = pl_single.show_figure(return_cpos=True, cpos=cpos, show_axes=True)\nprint(return_cpos)"
      ]
    },
    {
      "cell_type": "markdown",
      "metadata": {},
      "source": [
        "# Compute multiple streamlines\r\n"
      ]
    },
    {
      "cell_type": "code",
      "execution_count": null,
      "metadata": {
        "collapsed": false
      },
      "outputs": [],
      "source": [
        "multiple_2d_streamlines, multiple_2d_source = compute_streamlines(\n    meshed_region=meshed_region,\n    field=field,\n    pointa=(0.005, 0.0001, 0.0),\n    pointb=(0.005, 0.001, 0.0),\n    n_points=10,\n    surface_streamlines=True,\n    return_source=True,\n)"
      ]
    },
    {
      "cell_type": "markdown",
      "metadata": {},
      "source": [
        "# Plot multiple streamlines\r\n"
      ]
    },
    {
      "cell_type": "code",
      "execution_count": null,
      "metadata": {
        "collapsed": false
      },
      "outputs": [],
      "source": [
        "pl_multiple = DpfPlotter()\npl_multiple.add_field(field, meshed_region, opacity=0.2)\npl_multiple.add_streamlines(\n    streamlines=multiple_2d_streamlines,\n    source=multiple_2d_source,\n    radius=0.000015,\n)\npl_multiple.show_figure(cpos=cpos, show_axes=True)"
      ]
    }
  ],
  "metadata": {
    "kernelspec": {
      "display_name": "Python 3",
      "language": "python",
      "name": "python3"
    },
    "language_info": {
      "codemirror_mode": {
        "name": "ipython",
        "version": 3
      },
      "file_extension": ".py",
      "mimetype": "text/x-python",
      "name": "python",
      "nbconvert_exporter": "python",
      "pygments_lexer": "ipython3",
      "version": "3.9.13"
    }
  },
  "nbformat": 4,
  "nbformat_minor": 0
}