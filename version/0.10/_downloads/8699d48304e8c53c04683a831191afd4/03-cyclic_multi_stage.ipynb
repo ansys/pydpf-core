{
  "cells": [
    {
      "cell_type": "code",
      "execution_count": null,
      "metadata": {
        "collapsed": false
      },
      "outputs": [],
      "source": [
        "%matplotlib inline"
      ]
    },
    {
      "cell_type": "markdown",
      "metadata": {},
      "source": [
        "# Multi-stage cyclic symmetry example {#ref_multi_stage_cyclic}\r\n\r\nThis example shows how to expand the mesh and results from a multi-stage\r\ncyclic analysis.\r\n"
      ]
    },
    {
      "cell_type": "code",
      "execution_count": null,
      "metadata": {
        "collapsed": false
      },
      "outputs": [],
      "source": [
        "from ansys.dpf import core as dpf\nfrom ansys.dpf.core import examples"
      ]
    },
    {
      "cell_type": "markdown",
      "metadata": {},
      "source": [
        "Create the model and display the state of the result.\r\n"
      ]
    },
    {
      "cell_type": "code",
      "execution_count": null,
      "metadata": {
        "collapsed": false
      },
      "outputs": [],
      "source": [
        "cyc = examples.download_multi_stage_cyclic_result()\nmodel = dpf.Model(cyc)\nprint(model)"
      ]
    },
    {
      "cell_type": "markdown",
      "metadata": {},
      "source": [
        "# Expand displacement results\r\n\r\nThis example expands displacement results, by default on all nodes and\r\nthe first time step. Note that the displacements are expanded using the\r\n`read_cyclic\r\n<ansys.dpf.core.operators.mesh.mesh_provider.InputsMeshProvider.read_cyclic>`{.interpreted-text\r\nrole=\"func\"} property with 2 as an argument (1 would ignore the cyclic\r\nsymmetry).\r\n"
      ]
    },
    {
      "cell_type": "code",
      "execution_count": null,
      "metadata": {
        "collapsed": false
      },
      "outputs": [],
      "source": [
        "# Create displacement cyclic operator\nu_cyc = model.results.displacement()\nu_cyc.inputs.read_cyclic(2)\n\n# expand the displacements and get a total deformation\nnrm = dpf.operators.math.norm_fc()\nnrm.inputs.connect(u_cyc.outputs)\nfields = nrm.outputs.fields_container()\n\n# # get the expanded mesh\nmesh_provider = model.metadata.mesh_provider\nmesh_provider.inputs.read_cyclic(2)\nmesh = mesh_provider.outputs.mesh()\n\n# # plot the expanded result on the expanded mesh\nmesh.plot(fields)"
      ]
    },
    {
      "cell_type": "markdown",
      "metadata": {},
      "source": [
        "# Expand stresses at a given time step\r\n"
      ]
    },
    {
      "cell_type": "code",
      "execution_count": null,
      "metadata": {
        "collapsed": false
      },
      "outputs": [],
      "source": [
        "# define stress expansion operator and request stresses at time set = 3\ns_cyc = model.results.stress()\ns_cyc.inputs.read_cyclic(2)\ns_cyc.inputs.time_scoping.connect([3])\n\n# request the results averaged on the nodes\ns_cyc.inputs.requested_location.connect(dpf.locations.nodal)\n\n# request equivalent von mises operator and connect it to stress\n# operator\neqv = dpf.operators.invariant.von_mises_eqv_fc(s_cyc)\n\n# expand the results and get stress eqv\nfields = eqv.outputs.fields_container()\n\n# plot the expanded result on the expanded mesh\nmesh.plot(fields)"
      ]
    }
  ],
  "metadata": {
    "kernelspec": {
      "display_name": "Python 3",
      "language": "python",
      "name": "python3"
    },
    "language_info": {
      "codemirror_mode": {
        "name": "ipython",
        "version": 3
      },
      "file_extension": ".py",
      "mimetype": "text/x-python",
      "name": "python",
      "nbconvert_exporter": "python",
      "pygments_lexer": "ipython3",
      "version": "3.9.13"
    }
  },
  "nbformat": 4,
  "nbformat_minor": 0
}