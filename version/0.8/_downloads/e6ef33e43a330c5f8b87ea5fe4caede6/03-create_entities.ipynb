{
  "cells": [
    {
      "cell_type": "code",
      "execution_count": null,
      "metadata": {
        "collapsed": false
      },
      "outputs": [],
      "source": [
        "%matplotlib inline"
      ]
    },
    {
      "cell_type": "markdown",
      "metadata": {},
      "source": [
        "# Create your own entities using DPF operators {#ref_create_entities_example}\r\n\r\nYou can create your field, fields container, or meshed region to use DPF\r\noperators with your own data. The ability to use scripting to create any\r\nDPF entity means that you are not dependent on result files and can\r\nconnect the DPF environment with any Python tool.\r\n"
      ]
    },
    {
      "cell_type": "code",
      "execution_count": null,
      "metadata": {
        "collapsed": false
      },
      "outputs": [],
      "source": [
        "# Import necessary modules\nimport numpy as np\n\nfrom ansys.dpf import core as dpf\nfrom ansys.dpf.core import operators as ops"
      ]
    },
    {
      "cell_type": "markdown",
      "metadata": {},
      "source": [
        "Create a parallel piped mesh made of linear hexa:\r\n"
      ]
    },
    {
      "cell_type": "code",
      "execution_count": null,
      "metadata": {
        "collapsed": false
      },
      "outputs": [],
      "source": [
        "length = 0.1\nwidth = 0.05\ndepth = 0.1\nnum_nodes_in_length = 10\nnum_nodes_in_width = 5\nnum_nodes_in_depth = 10\nmesh = dpf.MeshedRegion()\n\n\ndef search_sequence_numpy(arr, seq):\n    \"\"\"Find a sequence in an array and return its index.\"\"\"\n    indexes = np.where(np.isclose(arr, seq[0]))\n    for index in np.nditer(indexes[0]):\n        if index % 3 == 0:\n            if np.allclose(arr[index + 1], seq[1]) and np.allclose(arr[index + 2], seq[2]):\n                return index\n    return -1"
      ]
    },
    {
      "cell_type": "markdown",
      "metadata": {},
      "source": [
        "Add nodes:\r\n"
      ]
    },
    {
      "cell_type": "code",
      "execution_count": null,
      "metadata": {
        "collapsed": false
      },
      "outputs": [],
      "source": [
        "n_id = 1\nfor i, x in enumerate(\n    [float(i) * length / float(num_nodes_in_length) for i in range(0, num_nodes_in_length)]\n):\n    for j, y in enumerate(\n        [float(i) * width / float(num_nodes_in_width) for i in range(0, num_nodes_in_width)]\n    ):\n        for k, z in enumerate(\n            [float(i) * depth / float(num_nodes_in_depth) for i in range(0, num_nodes_in_depth)]\n        ):\n            mesh.nodes.add_node(n_id, [x, y, z])\n            n_id += 1"
      ]
    },
    {
      "cell_type": "markdown",
      "metadata": {},
      "source": [
        "Get the nodes\\' coordinates field:\r\n"
      ]
    },
    {
      "cell_type": "code",
      "execution_count": null,
      "metadata": {
        "collapsed": false
      },
      "outputs": [],
      "source": [
        "coordinates = mesh.nodes.coordinates_field"
      ]
    },
    {
      "cell_type": "markdown",
      "metadata": {},
      "source": [
        "Set the mesh unit:\r\n"
      ]
    },
    {
      "cell_type": "code",
      "execution_count": null,
      "metadata": {
        "collapsed": false
      },
      "outputs": [],
      "source": [
        "mesh.unit = \"mm\"\n\ncoordinates_data = coordinates.data\nflat_coordinates_data = coordinates_data.reshape(coordinates_data.size)\ncoordinates_scoping = coordinates.scoping"
      ]
    },
    {
      "cell_type": "markdown",
      "metadata": {},
      "source": [
        "Add solid elements (linear hexa with eight nodes):\r\n"
      ]
    },
    {
      "cell_type": "code",
      "execution_count": null,
      "metadata": {
        "collapsed": false
      },
      "outputs": [],
      "source": [
        "e_id = 1\nfor i, x in enumerate(\n    [float(i) * length / float(num_nodes_in_length) for i in range(num_nodes_in_length - 1)]\n):\n    for j, y in enumerate(\n        [float(i) * width / float(num_nodes_in_width) for i in range(num_nodes_in_width - 1)]\n    ):\n        for k, z in enumerate(\n            [float(i) * depth / float(num_nodes_in_depth) for i in range(num_nodes_in_depth - 1)]\n        ):\n            coord1 = np.array([x, y, z])\n            connectivity = []\n            for xx in [x, x + length / float(num_nodes_in_length)]:\n                for yy in [y, y + width / float(num_nodes_in_width)]:\n                    for zz in [z, z + depth / float(num_nodes_in_depth)]:\n                        data_index = search_sequence_numpy(flat_coordinates_data, [xx, yy, zz])\n                        scoping_index = int(data_index / 3)  # 3components\n                        connectivity.append(scoping_index)\n            # rearrange connectivity\n            tmp = connectivity[2]\n            connectivity[2] = connectivity[3]\n            connectivity[3] = tmp\n            tmp = connectivity[6]\n            connectivity[6] = connectivity[7]\n            connectivity[7] = tmp\n            mesh.elements.add_solid_element(e_id, connectivity)\n            e_id += 1\nmesh.plot()"
      ]
    },
    {
      "cell_type": "markdown",
      "metadata": {},
      "source": [
        "Create displacement fields over time with three time sets. For the first\r\ntime set, the displacement on each node is the value of its x, y, and z\r\ncoordinates. For the second time set, the displacement on each node is\r\ntwo times the value of its x, y, and z coordinates. For the third time\r\nset, the displacement on each node is three times the value of its x, y,\r\nand z coordinates.\r\n"
      ]
    },
    {
      "cell_type": "code",
      "execution_count": null,
      "metadata": {
        "collapsed": false
      },
      "outputs": [],
      "source": [
        "num_nodes = mesh.nodes.n_nodes\ntime1_array = coordinates_data\ntime2_array = 2.0 * coordinates_data\ntime3_array = 3.0 * coordinates_data\n\ntime1_field = dpf.fields_factory.create_3d_vector_field(num_nodes)\ntime2_field = dpf.fields_factory.create_3d_vector_field(num_nodes)\ntime3_field = dpf.fields_factory.create_3d_vector_field(num_nodes)\n\ntime1_field.scoping = coordinates.scoping\ntime2_field.scoping = coordinates.scoping\ntime3_field.scoping = coordinates.scoping\n\ntime1_field.data = time1_array\ntime2_field.data = time2_array\ntime3_field.data = time3_array\n\ntime1_field.unit = mesh.unit\ntime2_field.unit = mesh.unit\ntime3_field.unit = mesh.unit"
      ]
    },
    {
      "cell_type": "markdown",
      "metadata": {},
      "source": [
        "Create results over times in a fields container with its time frequency\r\nsupport:\r\n"
      ]
    },
    {
      "cell_type": "code",
      "execution_count": null,
      "metadata": {
        "collapsed": false
      },
      "outputs": [],
      "source": [
        "fc = dpf.fields_container_factory.over_time_freq_fields_container(\n    {0.1: time1_field, 0.2: time2_field, 0.3: time3_field}, \"s\"\n)"
      ]
    },
    {
      "cell_type": "markdown",
      "metadata": {},
      "source": [
        "Check that the time frequency support has been built:\r\n"
      ]
    },
    {
      "cell_type": "code",
      "execution_count": null,
      "metadata": {
        "collapsed": false
      },
      "outputs": [],
      "source": [
        "print(fc.time_freq_support)"
      ]
    },
    {
      "cell_type": "markdown",
      "metadata": {},
      "source": [
        "Plot the norm over time of the fields container:\r\n"
      ]
    },
    {
      "cell_type": "code",
      "execution_count": null,
      "metadata": {
        "collapsed": false
      },
      "outputs": [],
      "source": [
        "norm = ops.math.norm_fc(fc)\nfc_norm = norm.outputs.fields_container()\nmesh.plot(fc_norm.get_field_by_time_complex_ids(1))\nmesh.plot(fc_norm.get_field_by_time_complex_ids(2))\nmesh.plot(fc_norm.get_field_by_time_complex_ids(3))"
      ]
    }
  ],
  "metadata": {
    "kernelspec": {
      "display_name": "Python 3",
      "language": "python",
      "name": "python3"
    },
    "language_info": {
      "codemirror_mode": {
        "name": "ipython",
        "version": 3
      },
      "file_extension": ".py",
      "mimetype": "text/x-python",
      "name": "python",
      "nbconvert_exporter": "python",
      "pygments_lexer": "ipython3",
      "version": "3.8.10"
    }
  },
  "nbformat": 4,
  "nbformat_minor": 0
}