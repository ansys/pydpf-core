{
 "cells": [
  {
   "cell_type": "code",
   "execution_count": 1,
   "id": "82cc1fa7",
   "metadata": {
    "execution": {
     "iopub.execute_input": "2025-10-17T12:27:42.257364Z",
     "iopub.status.busy": "2025-10-17T12:27:42.257364Z",
     "iopub.status.idle": "2025-10-17T12:27:44.098789Z",
     "shell.execute_reply": "2025-10-17T12:27:44.098070Z"
    }
   },
   "outputs": [],
   "source": [
    "# Import the ``ansys.dpf.core`` module\n",
    "from ansys.dpf import core as dpf\n",
    "# Import the examples module\n",
    "from ansys.dpf.core import examples\n",
    "# Import the operators module\n",
    "from ansys.dpf.core import operators as ops\n",
    "\n",
    "# Define the result file path\n",
    "result_file_path_1 = examples.find_static_rst()\n",
    "# Create the model\n",
    "model_1 = dpf.Model(data_sources=result_file_path_1)\n",
    "# Get the mesh\n",
    "meshed_region_1 = model_1.metadata.meshed_region"
   ]
  },
  {
   "cell_type": "code",
   "execution_count": 2,
   "id": "a3e02340",
   "metadata": {
    "execution": {
     "iopub.execute_input": "2025-10-17T12:27:44.102336Z",
     "iopub.status.busy": "2025-10-17T12:27:44.101823Z",
     "iopub.status.idle": "2025-10-17T12:27:44.114442Z",
     "shell.execute_reply": "2025-10-17T12:27:44.113324Z"
    }
   },
   "outputs": [],
   "source": [
    "# Import the ``ansys.dpf.core`` module\n",
    "from ansys.dpf import core as dpf\n",
    "# Import the examples module\n",
    "from ansys.dpf.core import examples\n",
    "# Import the operators module\n",
    "from ansys.dpf.core import operators as ops\n",
    "\n",
    "# Define the result file path\n",
    "result_file_path_2 = examples.download_d3plot_beam()\n",
    "# Create the DataSources object\n",
    "ds_2 = dpf.DataSources()\n",
    "ds_2.set_result_file_path(filepath=result_file_path_2[0], key=\"d3plot\")\n",
    "ds_2.add_file_path(filepath=result_file_path_2[3], key=\"actunits\")\n",
    "# Create the model\n",
    "model_2 = dpf.Model(data_sources=ds_2)\n",
    "# Get the mesh\n",
    "meshed_region_2 = model_2.metadata.meshed_region"
   ]
  },
  {
   "cell_type": "code",
   "execution_count": 3,
   "id": "0603e964",
   "metadata": {
    "execution": {
     "iopub.execute_input": "2025-10-17T12:27:44.116457Z",
     "iopub.status.busy": "2025-10-17T12:27:44.116457Z",
     "iopub.status.idle": "2025-10-17T12:27:54.600603Z",
     "shell.execute_reply": "2025-10-17T12:27:54.599886Z"
    }
   },
   "outputs": [],
   "source": [
    "# Import the ``ansys.dpf.core`` module\n",
    "from ansys.dpf import core as dpf\n",
    "# Import the examples module\n",
    "from ansys.dpf.core import examples\n",
    "# Import the operators module\n",
    "from ansys.dpf.core import operators as ops\n",
    "\n",
    "# Define the result file path\n",
    "result_file_path_3 = examples.download_fluent_axial_comp()[\"flprj\"]\n",
    "# Create the model\n",
    "model_3 = dpf.Model(data_sources=result_file_path_3)\n",
    "# Get the mesh\n",
    "meshed_region_3 = model_3.metadata.meshed_region"
   ]
  },
  {
   "cell_type": "code",
   "execution_count": 4,
   "id": "f1b0abbd",
   "metadata": {
    "execution": {
     "iopub.execute_input": "2025-10-17T12:27:54.603452Z",
     "iopub.status.busy": "2025-10-17T12:27:54.603452Z",
     "iopub.status.idle": "2025-10-17T12:28:02.801351Z",
     "shell.execute_reply": "2025-10-17T12:28:02.800027Z"
    }
   },
   "outputs": [],
   "source": [
    "# Import the ``ansys.dpf.core`` module\n",
    "from ansys.dpf import core as dpf\n",
    "# Import the examples module\n",
    "from ansys.dpf.core import examples\n",
    "# Import the operators module\n",
    "from ansys.dpf.core import operators as ops\n",
    "\n",
    "# Define the result file path\n",
    "result_file_path_4 = examples.download_cfx_mixing_elbow()\n",
    "# Create the model\n",
    "model_4 = dpf.Model(data_sources=result_file_path_4)\n",
    "# Get the mesh\n",
    "meshed_region_4 = model_4.metadata.meshed_region"
   ]
  },
  {
   "cell_type": "code",
   "execution_count": 5,
   "id": "d5674c8b",
   "metadata": {
    "execution": {
     "iopub.execute_input": "2025-10-17T12:28:02.804089Z",
     "iopub.status.busy": "2025-10-17T12:28:02.804089Z",
     "iopub.status.idle": "2025-10-17T12:28:02.810357Z",
     "shell.execute_reply": "2025-10-17T12:28:02.808960Z"
    }
   },
   "outputs": [
    {
     "name": "stdout",
     "output_type": "stream",
     "text": [
      "Object type:  <class 'ansys.dpf.core.nodes.Nodes'> \n",
      "\n",
      "Nodes:  DPF Node collection with 81 nodes\n",
      "\n"
     ]
    }
   ],
   "source": [
    "# Get the mesh nodes\n",
    "nodes_1 = meshed_region_1.nodes\n",
    "\n",
    "# Print the object type\n",
    "print(\"Object type: \",type(nodes_1),'\\n')\n",
    "\n",
    "# Print the nodes\n",
    "print(\"Nodes: \", nodes_1)"
   ]
  },
  {
   "cell_type": "code",
   "execution_count": 6,
   "id": "27a0da45",
   "metadata": {
    "execution": {
     "iopub.execute_input": "2025-10-17T12:28:02.812380Z",
     "iopub.status.busy": "2025-10-17T12:28:02.812380Z",
     "iopub.status.idle": "2025-10-17T12:28:02.817090Z",
     "shell.execute_reply": "2025-10-17T12:28:02.816414Z"
    }
   },
   "outputs": [
    {
     "name": "stdout",
     "output_type": "stream",
     "text": [
      "Object type:  <class 'ansys.dpf.core.nodes.Nodes'> \n",
      "\n",
      "Nodes:  DPF Node collection with 1940 nodes\n",
      "\n"
     ]
    }
   ],
   "source": [
    "# Get the mesh nodes\n",
    "nodes_2 = meshed_region_2.nodes\n",
    "\n",
    "# Print the object type\n",
    "print(\"Object type: \",type(nodes_2),'\\n')\n",
    "\n",
    "# Print the nodes\n",
    "print(\"Nodes: \", nodes_2)"
   ]
  },
  {
   "cell_type": "code",
   "execution_count": 7,
   "id": "4688640c",
   "metadata": {
    "execution": {
     "iopub.execute_input": "2025-10-17T12:28:02.819958Z",
     "iopub.status.busy": "2025-10-17T12:28:02.819465Z",
     "iopub.status.idle": "2025-10-17T12:28:02.825522Z",
     "shell.execute_reply": "2025-10-17T12:28:02.823997Z"
    }
   },
   "outputs": [
    {
     "name": "stdout",
     "output_type": "stream",
     "text": [
      "Object type:  <class 'ansys.dpf.core.nodes.Nodes'> \n",
      "\n",
      "Nodes:  DPF Node collection with 16660 nodes\n",
      "\n"
     ]
    }
   ],
   "source": [
    "# Get the mesh nodes\n",
    "nodes_3 = meshed_region_3.nodes\n",
    "\n",
    "# Print the object type\n",
    "print(\"Object type: \",type(nodes_3),'\\n')\n",
    "\n",
    "# Print the nodes\n",
    "print(\"Nodes: \", nodes_3)"
   ]
  },
  {
   "cell_type": "code",
   "execution_count": 8,
   "id": "5b8bedc4",
   "metadata": {
    "execution": {
     "iopub.execute_input": "2025-10-17T12:28:02.827545Z",
     "iopub.status.busy": "2025-10-17T12:28:02.827545Z",
     "iopub.status.idle": "2025-10-17T12:28:02.832859Z",
     "shell.execute_reply": "2025-10-17T12:28:02.831899Z"
    }
   },
   "outputs": [
    {
     "name": "stdout",
     "output_type": "stream",
     "text": [
      "Object type:  <class 'ansys.dpf.core.nodes.Nodes'> \n",
      "\n",
      "Nodes:  DPF Node collection with 6219 nodes\n",
      "\n"
     ]
    }
   ],
   "source": [
    "# Get the mesh nodes\n",
    "nodes_4 = meshed_region_4.nodes\n",
    "\n",
    "# Print the object type\n",
    "print(\"Object type: \",type(nodes_4),'\\n')\n",
    "\n",
    "# Print the nodes\n",
    "print(\"Nodes: \", nodes_4)"
   ]
  },
  {
   "cell_type": "code",
   "execution_count": 9,
   "id": "51a7d295",
   "metadata": {
    "execution": {
     "iopub.execute_input": "2025-10-17T12:28:02.835386Z",
     "iopub.status.busy": "2025-10-17T12:28:02.834873Z",
     "iopub.status.idle": "2025-10-17T12:28:02.839420Z",
     "shell.execute_reply": "2025-10-17T12:28:02.838471Z"
    }
   },
   "outputs": [
    {
     "name": "stdout",
     "output_type": "stream",
     "text": [
      "Available properties:  ['connectivity', 'elprops', 'eltype', 'apdl_element_type', 'section', 'mat']\n"
     ]
    }
   ],
   "source": [
    "# Get the available properties\n",
    "available_props_1 = meshed_region_1.available_property_fields\n",
    "\n",
    "# Print the available properties\n",
    "print(\"Available properties: \", available_props_1)"
   ]
  },
  {
   "cell_type": "code",
   "execution_count": 10,
   "id": "9cc5fdb2",
   "metadata": {
    "execution": {
     "iopub.execute_input": "2025-10-17T12:28:02.841439Z",
     "iopub.status.busy": "2025-10-17T12:28:02.841439Z",
     "iopub.status.idle": "2025-10-17T12:28:02.845431Z",
     "shell.execute_reply": "2025-10-17T12:28:02.845431Z"
    }
   },
   "outputs": [
    {
     "name": "stdout",
     "output_type": "stream",
     "text": [
      "Available properties:  ['connectivity', 'eltype', 'mat']\n"
     ]
    }
   ],
   "source": [
    "# Get the available properties\n",
    "available_props_2 = meshed_region_2.available_property_fields\n",
    "\n",
    "# Print the available properties\n",
    "print(\"Available properties: \", available_props_2)"
   ]
  },
  {
   "cell_type": "code",
   "execution_count": 11,
   "id": "a0272c23",
   "metadata": {
    "execution": {
     "iopub.execute_input": "2025-10-17T12:28:02.847979Z",
     "iopub.status.busy": "2025-10-17T12:28:02.847979Z",
     "iopub.status.idle": "2025-10-17T12:28:02.853296Z",
     "shell.execute_reply": "2025-10-17T12:28:02.852419Z"
    }
   },
   "outputs": [
    {
     "name": "stdout",
     "output_type": "stream",
     "text": [
      "Available properties:  ['connectivity', 'eltype', 'faces_type', 'faces_nodes_connectivity', 'elements_faces_connectivity', 'elements_faces_reversed']\n"
     ]
    }
   ],
   "source": [
    "# Get the available properties\n",
    "available_props_3 = meshed_region_3.available_property_fields\n",
    "\n",
    "# Print the available properties\n",
    "print(\"Available properties: \", available_props_3)"
   ]
  },
  {
   "cell_type": "code",
   "execution_count": 12,
   "id": "6d419993",
   "metadata": {
    "execution": {
     "iopub.execute_input": "2025-10-17T12:28:02.855312Z",
     "iopub.status.busy": "2025-10-17T12:28:02.855312Z",
     "iopub.status.idle": "2025-10-17T12:28:02.859348Z",
     "shell.execute_reply": "2025-10-17T12:28:02.859348Z"
    }
   },
   "outputs": [
    {
     "name": "stdout",
     "output_type": "stream",
     "text": [
      "Available properties:  ['connectivity', 'eltype']\n"
     ]
    }
   ],
   "source": [
    "# Get the available properties\n",
    "available_props_4 = meshed_region_4.available_property_fields\n",
    "\n",
    "# Print the available properties\n",
    "print(\"Available properties: \", available_props_4)"
   ]
  },
  {
   "cell_type": "code",
   "execution_count": 13,
   "id": "1b0f8713",
   "metadata": {
    "execution": {
     "iopub.execute_input": "2025-10-17T12:28:02.863382Z",
     "iopub.status.busy": "2025-10-17T12:28:02.862142Z",
     "iopub.status.idle": "2025-10-17T12:28:02.868103Z",
     "shell.execute_reply": "2025-10-17T12:28:02.866872Z"
    }
   },
   "outputs": [
    {
     "name": "stdout",
     "output_type": "stream",
     "text": [
      "DPF Property Field\n",
      "  8 entities \n",
      "  Data: 1 components and 8 elementary data \n",
      "\n",
      "  Elemental\n",
      "  IDs                   data\n",
      "  ------------          ----------\n",
      "  5                     1              \n",
      "                        \n",
      "  6                     1              \n",
      "                        \n",
      "  1                     1              \n",
      "                        \n",
      "  ...\n",
      "\n",
      "\n"
     ]
    }
   ],
   "source": [
    "# Get the element types on the mesh\n",
    "el_types_1 = meshed_region_1.elements.element_types_field\n",
    "\n",
    "# Print the element types by element\n",
    "print(el_types_1)"
   ]
  },
  {
   "cell_type": "code",
   "execution_count": 14,
   "id": "ac169fb8",
   "metadata": {
    "execution": {
     "iopub.execute_input": "2025-10-17T12:28:02.870477Z",
     "iopub.status.busy": "2025-10-17T12:28:02.870116Z",
     "iopub.status.idle": "2025-10-17T12:28:02.874514Z",
     "shell.execute_reply": "2025-10-17T12:28:02.874149Z"
    }
   },
   "outputs": [
    {
     "name": "stdout",
     "output_type": "stream",
     "text": [
      "DPF Property Field\n",
      "  2056 entities \n",
      "  Data: 1 components and 2056 elementary data \n",
      "\n",
      "  Elemental\n",
      "  IDs                   data\n",
      "  ------------          ----------\n",
      "  257                   11             \n",
      "                        \n",
      "  258                   11             \n",
      "                        \n",
      "  259                   11             \n",
      "                        \n",
      "  ...\n",
      "\n",
      "\n"
     ]
    }
   ],
   "source": [
    "# Get the element types on the mesh\n",
    "el_types_2 = meshed_region_2.property_field(property_name=\"eltype\")\n",
    "\n",
    "# Print the element types by element\n",
    "print(el_types_2)"
   ]
  },
  {
   "cell_type": "code",
   "execution_count": 15,
   "id": "4258ac0c",
   "metadata": {
    "execution": {
     "iopub.execute_input": "2025-10-17T12:28:02.876538Z",
     "iopub.status.busy": "2025-10-17T12:28:02.876538Z",
     "iopub.status.idle": "2025-10-17T12:28:02.881965Z",
     "shell.execute_reply": "2025-10-17T12:28:02.881315Z"
    }
   },
   "outputs": [
    {
     "name": "stdout",
     "output_type": "stream",
     "text": [
      "DPF Property Field\n",
      "  13856 entities \n",
      "  Data: 1 components and 13856 elementary data \n",
      "\n",
      "  Elemental\n",
      "  IDs                   data\n",
      "  ------------          ----------\n",
      "  1                     11             \n",
      "                        \n",
      "  2                     11             \n",
      "                        \n",
      "  3                     11             \n",
      "                        \n",
      "  ...\n",
      "\n",
      "\n"
     ]
    }
   ],
   "source": [
    "# Get the element types on the mesh\n",
    "el_types_3 = meshed_region_3.property_field(property_name=\"eltype\")\n",
    "\n",
    "# Print the element types by element\n",
    "print(el_types_3)"
   ]
  },
  {
   "cell_type": "code",
   "execution_count": 16,
   "id": "650180eb",
   "metadata": {
    "execution": {
     "iopub.execute_input": "2025-10-17T12:28:02.884472Z",
     "iopub.status.busy": "2025-10-17T12:28:02.884472Z",
     "iopub.status.idle": "2025-10-17T12:28:02.889789Z",
     "shell.execute_reply": "2025-10-17T12:28:02.888753Z"
    }
   },
   "outputs": [
    {
     "name": "stdout",
     "output_type": "stream",
     "text": [
      "DPF Property Field\n",
      "  15695 entities \n",
      "  Data: 1 components and 15695 elementary data \n",
      "\n",
      "  Elemental\n",
      "  IDs                   data\n",
      "  ------------          ----------\n",
      "  1                     10             \n",
      "                        \n",
      "  2                     10             \n",
      "                        \n",
      "  3                     10             \n",
      "                        \n",
      "  ...\n",
      "\n",
      "\n"
     ]
    }
   ],
   "source": [
    "# Get the element types on the mesh\n",
    "el_types_4 = meshed_region_4.property_field(property_name=\"eltype\")\n",
    "\n",
    "# Print the element types by element\n",
    "print(el_types_4)"
   ]
  }
 ],
 "metadata": {
  "kernelspec": {
   "display_name": "Python 3 (ipykernel)",
   "language": "python",
   "name": "python3"
  },
  "language_info": {
   "codemirror_mode": {
    "name": "ipython",
    "version": 3
   },
   "file_extension": ".py",
   "mimetype": "text/x-python",
   "name": "python",
   "nbconvert_exporter": "python",
   "pygments_lexer": "ipython3",
   "version": "3.11.9"
  }
 },
 "nbformat": 4,
 "nbformat_minor": 5
}