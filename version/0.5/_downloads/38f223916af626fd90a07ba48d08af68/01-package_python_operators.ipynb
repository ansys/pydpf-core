{
  "cells": [
    {
      "cell_type": "code",
      "execution_count": null,
      "metadata": {
        "collapsed": false
      },
      "outputs": [],
      "source": [
        "%matplotlib inline"
      ]
    },
    {
      "cell_type": "markdown",
      "metadata": {},
      "source": [
        "# Write user defined Operators as a package {#ref_python_plugin_package}\r\n\r\nThis example shows how more complex DPF python plugins of Operators can\r\nbe created as standard python packages. The benefits of writing packages\r\ninstead of simple scripts are: componentization (split the code in\r\nseveral python modules or files), distribution (with packages, standard\r\npython tools can be used to upload and download packages) and\r\ndocumentation (READMEs, docs, tests and examples can be added to the\r\npackage).\r\n\r\nThis plugin will hold 2 different Operators:\r\n\r\n:   -   One returning all the scoping ids having data higher than the\r\n        average\r\n    -   One returning all the scoping ids having data lower than the\r\n        average\r\n"
      ]
    },
    {
      "cell_type": "markdown",
      "metadata": {},
      "source": [
        "# Write Operator\r\n\r\nFor this more advanced use case, a python package is created. Each\r\nOperator implementation derives from\r\n`ansys.dpf.core.custom_operator.CustomOperatorBase`{.interpreted-text\r\nrole=\"class\"} and a call to\r\n`ansys.dpf.core.custom_operator.record_operator`{.interpreted-text\r\nrole=\"py:func\"} records the Operators of the plugin. The python package\r\n[average_filter_plugin]{.title-ref} is downloaded and displayed here:\r\n"
      ]
    },
    {
      "cell_type": "code",
      "execution_count": null,
      "metadata": {
        "collapsed": false
      },
      "outputs": [],
      "source": [
        "import os\nfrom ansys.dpf.core import examples\n\nprint('\\033[1m average_filter_plugin')\nfile_list = [\"__init__.py\", \"operators.py\", \"operators_loader.py\", \"common.py\"]\nplugin_folder = None\nGITHUB_SOURCE_URL = \"https://github.com/pyansys/pydpf-core/raw/\" \\\n                    \"examples/first_python_plugins/python_plugins/average_filter_plugin\"\n\nfor file in file_list:\n    EXAMPLE_FILE = GITHUB_SOURCE_URL + \"/average_filter_plugin/\" + file\n    operator_file_path = examples.downloads._retrieve_file(\n        EXAMPLE_FILE, file, \"python_plugins/average_filter_plugin\"\n    )\n    plugin_folder = os.path.dirname(operator_file_path)\n    print(f'\\033[1m {file}:\\n \\033[0m')\n    with open(operator_file_path, \"r\") as f:\n        for line in f.readlines():\n            print('\\t\\t\\t' + line)\n    print(\"\\n\\n\")"
      ]
    },
    {
      "cell_type": "markdown",
      "metadata": {},
      "source": [
        "# Load Plugin\r\n\r\nOnce a python plugin is written as a package, it can be loaded with the\r\nfunction `ansys.dpf.core.core.load_library`{.interpreted-text\r\nrole=\"py:func\"} taking as first argument the path to the directory of\r\nthe plugin, as second argument `py_` + any name identifying the plugin,\r\nand as last argument the function\\'s name exposed in the \\_\\_init\\_\\_\r\nfile and used to record operators.\r\n"
      ]
    },
    {
      "cell_type": "code",
      "execution_count": null,
      "metadata": {
        "collapsed": false
      },
      "outputs": [],
      "source": [
        "import os\nfrom ansys.dpf import core as dpf\nfrom ansys.dpf.core import examples\n\n# python plugins are not supported in process\ndpf.start_local_server(config=dpf.AvailableServerConfigs.GrpcServer)\n\ntmp = dpf.make_tmp_dir_server()\ndpf.upload_files_in_folder(\n    dpf.path_utilities.join(tmp, \"average_filter_plugin\"),\n    plugin_folder\n)\ndpf.load_library(\n    os.path.join(dpf.path_utilities.join(tmp, \"average_filter_plugin\")),\n    \"py_average_filter\",\n    \"load_operators\")"
      ]
    },
    {
      "cell_type": "markdown",
      "metadata": {},
      "source": [
        "Once the Plugin loaded, Operators recorded in the plugin can be used\r\nwith:\r\n"
      ]
    },
    {
      "cell_type": "code",
      "execution_count": null,
      "metadata": {
        "collapsed": false
      },
      "outputs": [],
      "source": [
        "new_operator = dpf.Operator(\"ids_with_data_lower_than_average\")"
      ]
    },
    {
      "cell_type": "markdown",
      "metadata": {},
      "source": [
        "To use this new Operator, a workflow computing the norm of the\r\ndisplacement is connected to the \\\"ids_with_data_lower_than_average\\\"\r\nOperator. Methods of the class `ids_with_data_lower_than_average` are\r\ndynamically added thanks to the Operator\\'s specification.\r\n"
      ]
    },
    {
      "cell_type": "markdown",
      "metadata": {},
      "source": [
        "::: graphviz\r\n\r\ndigraph foo {\r\n\r\n:   graph \\[pad=\\\"0.5\\\", nodesep=\\\"0.3\\\", ranksep=\\\"0.3\\\"\\] node\r\n    \\[shape=box, style=filled, fillcolor=\\\"#ffcc00\\\", margin=\\\"0\\\"\\];\r\n    rankdir=LR; splines=line; ds \\[label=\\\"ds\\\", shape=box,\r\n    style=filled, fillcolor=cadetblue2\\]; ds -\\> displacement\r\n    \\[style=dashed\\]; displacement -\\> norm; norm -\\>\r\n    ids_with_data_lower_than_average;\r\n\r\n}\r\n:::\r\n"
      ]
    },
    {
      "cell_type": "markdown",
      "metadata": {},
      "source": [
        "# Use the Custom Operator\r\n"
      ]
    },
    {
      "cell_type": "code",
      "execution_count": null,
      "metadata": {
        "collapsed": false
      },
      "outputs": [],
      "source": [
        "ds = dpf.DataSources(dpf.upload_file_in_tmp_folder(examples.static_rst))\ndisplacement = dpf.operators.result.displacement(data_sources=ds)\nnorm = dpf.operators.math.norm(displacement)\nnew_operator.inputs.connect(norm)\n\n\nnew_scoping = new_operator.outputs.scoping()\nprint(\"scoping in was:\", norm.outputs.field().scoping)\nprint(\"----------------------------------------------\")\nprint(\"scoping out is:\", new_scoping)"
      ]
    }
  ],
  "metadata": {
    "kernelspec": {
      "display_name": "Python 3",
      "language": "python",
      "name": "python3"
    },
    "language_info": {
      "codemirror_mode": {
        "name": "ipython",
        "version": 3
      },
      "file_extension": ".py",
      "mimetype": "text/x-python",
      "name": "python",
      "nbconvert_exporter": "python",
      "pygments_lexer": "ipython3",
      "version": "3.8.10"
    }
  },
  "nbformat": 4,
  "nbformat_minor": 0
}