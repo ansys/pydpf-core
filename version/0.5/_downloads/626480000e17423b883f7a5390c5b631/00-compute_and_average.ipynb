{
  "cells": [
    {
      "cell_type": "code",
      "execution_count": null,
      "metadata": {
        "collapsed": false
      },
      "outputs": [],
      "source": [
        "%matplotlib inline"
      ]
    },
    {
      "cell_type": "markdown",
      "metadata": {},
      "source": [
        "# Averaging order {#ref_compute_and_average}\r\n\r\nIn this example, we compare two different workflows that accomplish the\r\nsame task to see how the order of the operators can change the end\r\nresult. In the first case, we will extract the stress field of a\r\ncrankshaft under load from a results file, compute the equivalent (Von\r\nMises) stresses and then apply an averaging operator to transpose them\r\nfrom an ElementalNodal to a Nodal position. In the second case, however,\r\nwe will firstly transpose the stresses that come from the results file\r\nto a Nodal position and only then calculate the Von Mises stresses.\r\nThese workflows can be better visualized in the images below:\r\n\r\n![image](00-compute_and_average.svg){.align-center width=\"800px\"}\r\n"
      ]
    },
    {
      "cell_type": "markdown",
      "metadata": {},
      "source": [
        "Let\\'s start by importing the necessary modules.\r\n"
      ]
    },
    {
      "cell_type": "code",
      "execution_count": null,
      "metadata": {
        "collapsed": false
      },
      "outputs": [],
      "source": [
        "from ansys.dpf import core as dpf\nfrom ansys.dpf.core import examples"
      ]
    },
    {
      "cell_type": "markdown",
      "metadata": {},
      "source": [
        "Then we can load the simulation results from a .rst file.\r\n"
      ]
    },
    {
      "cell_type": "code",
      "execution_count": null,
      "metadata": {
        "collapsed": false
      },
      "outputs": [],
      "source": [
        "analysis = examples.download_crankshaft()"
      ]
    },
    {
      "cell_type": "markdown",
      "metadata": {},
      "source": [
        "# First case: applying the averaging operator after computing the equivalent stresses\r\n\r\nHere we are going to define a function that computes the Von Mises\r\nstresses in the crankshaft and then applies the desired averaging\r\noperator.\r\n"
      ]
    },
    {
      "cell_type": "code",
      "execution_count": null,
      "metadata": {
        "collapsed": false
      },
      "outputs": [],
      "source": [
        "def compute_von_mises_then_average(analysis):\n\n    # First we create a model from the results of the simulation and retrieve its mesh\n    model = dpf.Model(analysis)\n    mesh = model.metadata.meshed_region\n\n    # Then we apply the stress operator to obtain the stresses in the body\n    stress_op = dpf.operators.result.stress()\n    stress_op.inputs.connect(model)\n    stresses = stress_op.outputs.fields_container()\n\n    # Here we compute the Von Mises stresses\n    vm_op = dpf.operators.invariant.von_mises_eqv()\n    vm_op.inputs.field.connect(stresses)\n    von_mises = vm_op.outputs.field()\n\n    # Finally, we apply the averaging operator to the Von Mises stresses\n    avg_op = dpf.operators.averaging.elemental_nodal_to_nodal()\n    avg_op.inputs.connect(von_mises)\n    avg_von_mises = avg_op.outputs.field()\n\n    # Aditionally we find the maximum value of the Von Mises stress field\n    min_max = dpf.operators.min_max.min_max()\n    min_max.inputs.field.connect(avg_von_mises)\n    max_val = min_max.outputs.field_max()\n\n    mesh.plot(avg_von_mises)\n\n    return max_val.data[0]"
      ]
    },
    {
      "cell_type": "markdown",
      "metadata": {},
      "source": [
        "# Second case: computing the equivalent stresses after applying the averaging operator\r\n\r\nThis time, the function we are going to create will firstly apply the\r\naveraging operator to the stress field in the crankshaft and only then\r\ncalculate the Von Mises stresses, that will be already located on a\r\nNodal position.\r\n"
      ]
    },
    {
      "cell_type": "code",
      "execution_count": null,
      "metadata": {
        "collapsed": false
      },
      "outputs": [],
      "source": [
        "def average_then_compute_von_mises(analysis):\n\n    # Creating the model from the results of the simulation\n    model = dpf.Model(analysis)\n    mesh = model.metadata.meshed_region\n\n    # Retrieving the stresses\n    stress_op = dpf.operators.result.stress()\n    stress_op.inputs.connect(model)\n    stresses = stress_op.outputs.fields_container()\n\n    # Averaging the stresses to a Nodal position\n    avg_op = dpf.operators.averaging.elemental_nodal_to_nodal()\n    avg_op.inputs.connect(stresses)\n    avg_stresses = avg_op.outputs.field()\n\n    # Computing the Von Mises stresses\n    vm_op = dpf.operators.invariant.von_mises_eqv()\n    vm_op.inputs.field.connect(avg_stresses)\n    avg_von_mises = vm_op.outputs.field()\n\n    # Finding the maximum Von Mises stress value\n    min_max = dpf.operators.min_max.min_max()\n    min_max.inputs.field.connect(avg_von_mises)\n    max_val = min_max.outputs.field_max()\n\n    mesh.plot(avg_von_mises)\n\n    return max_val.data[0]"
      ]
    },
    {
      "cell_type": "markdown",
      "metadata": {},
      "source": [
        "# Plotting the results\r\n\r\nFinally, we can plot both Von Mises stress fields side by side to see\r\nhow they compare to each other. The first image displays the results\r\nwhen the equivalent stresses are calculated first, while the second one\r\nshows the case when the averaging is done first.\r\n"
      ]
    },
    {
      "cell_type": "code",
      "execution_count": null,
      "metadata": {
        "collapsed": false
      },
      "outputs": [],
      "source": [
        "max1 = compute_von_mises_then_average(analysis)\nmax2 = average_then_compute_von_mises(analysis)"
      ]
    },
    {
      "cell_type": "code",
      "execution_count": null,
      "metadata": {
        "collapsed": false
      },
      "outputs": [],
      "source": [
        "diff = (max1 - max2) / max2 * 100\n\nprint(\"Max stress when Von Mises is computed first: {:.2f} Pa\".format(max1))\nprint(\"Max stress when the stress averaging is done first: {:.2f} Pa\".format(max2))\nprint(\"The maximum Von Mises stress value is {:.2f}% higher when \\\nthe averaging is done after the calculations.\".format(diff))"
      ]
    },
    {
      "cell_type": "markdown",
      "metadata": {},
      "source": [
        "As we can see, even though both workflows apply the same steps to the\r\nsame initial data, their final results are different because of the\r\norder in which the operators are applied.\r\n"
      ]
    }
  ],
  "metadata": {
    "kernelspec": {
      "display_name": "Python 3",
      "language": "python",
      "name": "python3"
    },
    "language_info": {
      "codemirror_mode": {
        "name": "ipython",
        "version": 3
      },
      "file_extension": ".py",
      "mimetype": "text/x-python",
      "name": "python",
      "nbconvert_exporter": "python",
      "pygments_lexer": "ipython3",
      "version": "3.8.10"
    }
  },
  "nbformat": 4,
  "nbformat_minor": 0
}