{
  "cells": [
    {
      "cell_type": "code",
      "execution_count": null,
      "metadata": {
        "collapsed": false
      },
      "outputs": [],
      "source": [
        "%matplotlib inline"
      ]
    },
    {
      "cell_type": "markdown",
      "metadata": {},
      "source": [
        "# Plot results on a specific path {#plot_on_path}\r\n\r\nThis example shows how to get a result mapped over a specific path, and\r\nhow to plot it.\r\n"
      ]
    },
    {
      "cell_type": "code",
      "execution_count": null,
      "metadata": {
        "collapsed": false
      },
      "outputs": [],
      "source": [
        "from ansys.dpf import core as dpf\nfrom ansys.dpf.core import examples\nfrom ansys.dpf.core import operators as ops\nfrom ansys.dpf.core.plotter import DpfPlotter"
      ]
    },
    {
      "cell_type": "markdown",
      "metadata": {},
      "source": [
        "# Path plotting\r\n\r\nWe will use an `ansys.dpf.core.plotter.DpfPlotter`{.interpreted-text\r\nrole=\"class\"} to plot a mapped result over a defined path of\r\ncoordinates.\r\n"
      ]
    },
    {
      "cell_type": "code",
      "execution_count": null,
      "metadata": {
        "collapsed": false
      },
      "outputs": [],
      "source": [
        "# First, we need to create the model, request its mesh and its\n# displacement data\nmodel = dpf.Model(examples.static_rst)\nmesh = model.metadata.meshed_region\nstress_fc = model.results.stress().eqv().eval()"
      ]
    },
    {
      "cell_type": "markdown",
      "metadata": {},
      "source": [
        "Then, we create a coordinates field to map on\r\n"
      ]
    },
    {
      "cell_type": "code",
      "execution_count": null,
      "metadata": {
        "collapsed": false
      },
      "outputs": [],
      "source": [
        "coordinates = [[0.024, 0.03, 0.003]]\nfor i in range(1, 51):\n    coord_copy = coordinates[0].copy()\n    coord_copy[1] = coord_copy[0] + i * 0.001\n    coordinates.append(coord_copy)\nfield_coord = dpf.fields_factory.create_3d_vector_field(len(coordinates))\nfield_coord.data = coordinates\nfield_coord.scoping.ids = list(range(1, len(coordinates) + 1))"
      ]
    },
    {
      "cell_type": "markdown",
      "metadata": {},
      "source": [
        "Let\\'s now compute the mapped data using the mapping operator\r\n"
      ]
    },
    {
      "cell_type": "code",
      "execution_count": null,
      "metadata": {
        "collapsed": false
      },
      "outputs": [],
      "source": [
        "mapping_operator = ops.mapping.on_coordinates(\n    fields_container=stress_fc,\n    coordinates=field_coord,\n    create_support=True,\n    mesh=mesh)\nfields_mapped = mapping_operator.outputs.fields_container()"
      ]
    },
    {
      "cell_type": "markdown",
      "metadata": {},
      "source": [
        "Here, we request the mapped field data and its mesh\r\n"
      ]
    },
    {
      "cell_type": "code",
      "execution_count": null,
      "metadata": {
        "collapsed": false
      },
      "outputs": [],
      "source": [
        "field_m = fields_mapped[0]\nmesh_m = field_m.meshed_region"
      ]
    },
    {
      "cell_type": "markdown",
      "metadata": {},
      "source": [
        "Now we create the plotter and add fields and meshes\r\n"
      ]
    },
    {
      "cell_type": "code",
      "execution_count": null,
      "metadata": {
        "collapsed": false
      },
      "outputs": [],
      "source": [
        "pl = DpfPlotter()\n\npl.add_field(field_m, mesh_m)\npl.add_mesh(mesh, style=\"surface\", show_edges=True,\n            color=\"w\", opacity=0.3)\n\n# Finally we plot the result\npl.show_figure(show_axes=True)"
      ]
    }
  ],
  "metadata": {
    "kernelspec": {
      "display_name": "Python 3",
      "language": "python",
      "name": "python3"
    },
    "language_info": {
      "codemirror_mode": {
        "name": "ipython",
        "version": 3
      },
      "file_extension": ".py",
      "mimetype": "text/x-python",
      "name": "python",
      "nbconvert_exporter": "python",
      "pygments_lexer": "ipython3",
      "version": "3.8.10"
    }
  },
  "nbformat": 4,
  "nbformat_minor": 0
}