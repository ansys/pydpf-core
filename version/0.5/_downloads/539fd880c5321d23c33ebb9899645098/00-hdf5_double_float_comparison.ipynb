{
  "cells": [
    {
      "cell_type": "code",
      "execution_count": null,
      "metadata": {
        "collapsed": false
      },
      "outputs": [],
      "source": [
        "%matplotlib inline"
      ]
    },
    {
      "cell_type": "markdown",
      "metadata": {},
      "source": [
        "# Hdf5 export and compare precision {#ref_basic_hdf5}\r\n\r\nThis example shows how to use hdf5 format to export and make a\r\ncomparison between simple/double precision.\r\n"
      ]
    },
    {
      "cell_type": "markdown",
      "metadata": {},
      "source": [
        "Import dpf module and its examples files, and create a temporary\r\ndirectory\r\n"
      ]
    },
    {
      "cell_type": "code",
      "execution_count": null,
      "metadata": {
        "collapsed": false
      },
      "outputs": [],
      "source": [
        "import os\nimport tempfile\n\nfrom ansys.dpf import core as dpf\nfrom ansys.dpf.core import examples\nfrom ansys.dpf.core import operators as ops\n\ntmpdir = tempfile.mkdtemp()"
      ]
    },
    {
      "cell_type": "markdown",
      "metadata": {},
      "source": [
        "Create the model and get stresses, displacements and mesh.\r\n"
      ]
    },
    {
      "cell_type": "code",
      "execution_count": null,
      "metadata": {
        "collapsed": false
      },
      "outputs": [],
      "source": [
        "transient = examples.download_transient_result()\nmodel = dpf.Model(transient)\n\nstress = model.results.stress()\ndisplacement = model.results.displacement()\nmesh = model.metadata.meshed_region"
      ]
    },
    {
      "cell_type": "markdown",
      "metadata": {},
      "source": [
        "Create the hdf5 export operator. Hdf5 module should already be loaded.\r\n"
      ]
    },
    {
      "cell_type": "code",
      "execution_count": null,
      "metadata": {
        "collapsed": false
      },
      "outputs": [],
      "source": [
        "h5op = ops.serialization.serialize_to_hdf5()\nprint(h5op)"
      ]
    },
    {
      "cell_type": "markdown",
      "metadata": {},
      "source": [
        "Connect the correct time scoping to the results operators (stress and\r\ndisplacement).\r\n"
      ]
    },
    {
      "cell_type": "code",
      "execution_count": null,
      "metadata": {
        "collapsed": false
      },
      "outputs": [],
      "source": [
        "timeIds = list(range(1, model.metadata.time_freq_support.n_sets + 1))\ntimeIds\n\nstress.inputs.time_scoping.connect(timeIds)\ndisplacement.inputs.time_scoping.connect(timeIds)"
      ]
    },
    {
      "cell_type": "markdown",
      "metadata": {},
      "source": [
        "Connect inputs of the hdf5 export operator.\r\n"
      ]
    },
    {
      "cell_type": "code",
      "execution_count": null,
      "metadata": {
        "collapsed": false
      },
      "outputs": [],
      "source": [
        "h5op.inputs.data1.connect(stress.outputs)\nh5op.inputs.data2.connect(displacement.outputs)\nh5op.inputs.data3.connect(mesh)"
      ]
    },
    {
      "cell_type": "markdown",
      "metadata": {},
      "source": [
        "Export with simple precision\r\n"
      ]
    },
    {
      "cell_type": "code",
      "execution_count": null,
      "metadata": {
        "collapsed": false
      },
      "outputs": [],
      "source": [
        "directory = \"c:/temp/\"\nif os.name == \"posix\":\n    directory = \"/tmp/\"\n\nh5op.inputs.file_path.connect(os.path.join(tmpdir, directory, \"dpf_float.h5\"))\nh5op.run()"
      ]
    },
    {
      "cell_type": "markdown",
      "metadata": {},
      "source": [
        "Export with simple precision\r\n"
      ]
    },
    {
      "cell_type": "code",
      "execution_count": null,
      "metadata": {
        "collapsed": false
      },
      "outputs": [],
      "source": [
        "h5op.inputs.export_floats.connect(False)\nh5op.inputs.file_path.connect(os.path.join(tmpdir, directory, \"dpf_double.h5\"))\nh5op.run()"
      ]
    },
    {
      "cell_type": "markdown",
      "metadata": {},
      "source": [
        "Comparison\r\n"
      ]
    },
    {
      "cell_type": "code",
      "execution_count": null,
      "metadata": {
        "collapsed": false
      },
      "outputs": [],
      "source": [
        "float_precision = os.stat(os.path.join(tmpdir, directory, \"dpf_float.h5\")).st_size\ndouble_precision = os.stat(os.path.join(tmpdir, directory, \"dpf_double.h5\")).st_size\nprint(\n    f\"size with float precision: {float_precision}\\n\"\n    f\"size with double precision: {double_precision}\"\n)"
      ]
    }
  ],
  "metadata": {
    "kernelspec": {
      "display_name": "Python 3",
      "language": "python",
      "name": "python3"
    },
    "language_info": {
      "codemirror_mode": {
        "name": "ipython",
        "version": 3
      },
      "file_extension": ".py",
      "mimetype": "text/x-python",
      "name": "python",
      "nbconvert_exporter": "python",
      "pygments_lexer": "ipython3",
      "version": "3.8.10"
    }
  },
  "nbformat": 4,
  "nbformat_minor": 0
}