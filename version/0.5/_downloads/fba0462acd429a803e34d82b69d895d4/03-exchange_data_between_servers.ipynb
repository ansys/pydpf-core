{
  "cells": [
    {
      "cell_type": "code",
      "execution_count": null,
      "metadata": {
        "collapsed": false
      },
      "outputs": [],
      "source": [
        "%matplotlib inline"
      ]
    },
    {
      "cell_type": "markdown",
      "metadata": {},
      "source": [
        "# Exchange Data Between Servers {#ref_exchange_data_between_servers.}\r\n\r\nIn this example, 2 dpf\\'s servers will be started and a workflow will be\r\ncreated with a part on both servers. This example opens the possibility\r\nfor a user to read data from a given machine and transform this data on\r\nanother without any more difficulties than working on a local computer\r\n"
      ]
    },
    {
      "cell_type": "code",
      "execution_count": null,
      "metadata": {
        "collapsed": false
      },
      "outputs": [],
      "source": [
        "from ansys.dpf import core as dpf\nfrom ansys.dpf.core import examples\nfrom ansys.dpf.core import operators as ops"
      ]
    },
    {
      "cell_type": "markdown",
      "metadata": {},
      "source": [
        "# Create 2 servers\r\n\r\nHere the 2 servers are started on the local machine with\r\nstart_local_server but, if the user has another server, he can connect\r\non any dpf\\'s server on the network via: connect_to_server\r\n"
      ]
    },
    {
      "cell_type": "code",
      "execution_count": null,
      "metadata": {
        "collapsed": false
      },
      "outputs": [],
      "source": [
        "# the as_global attributes allows to choose whether a server will be stored\n# by the module and used by default\n# Here, we choose the 1st server to be the default\nserver1 = dpf.start_local_server(as_global=True, config=dpf.AvailableServerConfigs.GrpcServer)\nserver2 = dpf.start_local_server(as_global=False, config=dpf.AvailableServerConfigs.GrpcServer)\n\n# Check that the 2 servers are on different ports\nprint(server1.port if hasattr(server1, \"port\") else \"\",\n      server2.port if hasattr(server2, \"port\") else \"\")"
      ]
    },
    {
      "cell_type": "markdown",
      "metadata": {},
      "source": [
        "# Send the result file\r\n\r\nHere, the result file is sent in a temporary dir of the first server\r\nThis file upload is useless in our case, since the 2 servers are locals\r\n"
      ]
    },
    {
      "cell_type": "code",
      "execution_count": null,
      "metadata": {
        "collapsed": false
      },
      "outputs": [],
      "source": [
        "file = examples.complex_rst\nfile_path_in_tmp = dpf.upload_file_in_tmp_folder(file)"
      ]
    },
    {
      "cell_type": "markdown",
      "metadata": {},
      "source": [
        "# Create a workflow on the first server\r\n\r\nCreate the model\r\n"
      ]
    },
    {
      "cell_type": "code",
      "execution_count": null,
      "metadata": {
        "collapsed": false
      },
      "outputs": [],
      "source": [
        "model = dpf.Model(file_path_in_tmp)\n\n# Read displacement\ndisp = model.results.displacement()\ndisp.inputs.time_scoping(len(model.metadata.time_freq_support.time_frequencies))"
      ]
    },
    {
      "cell_type": "markdown",
      "metadata": {},
      "source": [
        "# Create a workflow on the second server\r\n"
      ]
    },
    {
      "cell_type": "code",
      "execution_count": null,
      "metadata": {
        "collapsed": false
      },
      "outputs": [],
      "source": [
        "# Change the cartesian coordinates to cylindrical coordinates cs\ncoordinates = ops.geo.rotate_in_cylindrical_cs_fc(server=server2)\n\n# Create the cartesian coordinate cs\ncs = dpf.fields_factory.create_scalar_field(12, server=server2)\ncs.data = [1, 0, 0, 0, 1, 0, 0, 0, 1, 0, 0, 0]\n\ncoordinates.inputs.coordinate_system(cs)\n\n# choose the radial component to plot\ncomp = dpf.operators.logic.component_selector_fc(coordinates, 0, server=server2)"
      ]
    },
    {
      "cell_type": "markdown",
      "metadata": {},
      "source": [
        "# Pass data from one server to another\r\n"
      ]
    },
    {
      "cell_type": "code",
      "execution_count": null,
      "metadata": {
        "collapsed": false
      },
      "outputs": [],
      "source": [
        "fc_disp = disp.outputs.fields_container()\nfc_copy = fc_disp.deep_copy(server=server2)\n\nmesh_copy = model.metadata.meshed_region.deep_copy(server=server2)\n# give a mesh to the field\nfc_copy[0].meshed_region = mesh_copy\nfc_copy[1].meshed_region = mesh_copy\n\ncoordinates.inputs.field(fc_copy)"
      ]
    },
    {
      "cell_type": "markdown",
      "metadata": {},
      "source": [
        "# Plot the output\r\n"
      ]
    },
    {
      "cell_type": "code",
      "execution_count": null,
      "metadata": {
        "collapsed": false
      },
      "outputs": [],
      "source": [
        "out = comp.outputs.fields_container()\n\n# real part\nmesh_copy.plot(out.get_field({\"complex\": 0}))\n\n# imaginary part\nmesh_copy.plot(out.get_field({\"complex\": 1}))"
      ]
    }
  ],
  "metadata": {
    "kernelspec": {
      "display_name": "Python 3",
      "language": "python",
      "name": "python3"
    },
    "language_info": {
      "codemirror_mode": {
        "name": "ipython",
        "version": 3
      },
      "file_extension": ".py",
      "mimetype": "text/x-python",
      "name": "python",
      "nbconvert_exporter": "python",
      "pygments_lexer": "ipython3",
      "version": "3.8.10"
    }
  },
  "nbformat": 4,
  "nbformat_minor": 0
}