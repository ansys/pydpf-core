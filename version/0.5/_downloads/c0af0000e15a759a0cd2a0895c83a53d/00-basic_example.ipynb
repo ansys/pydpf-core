{
  "cells": [
    {
      "cell_type": "code",
      "execution_count": null,
      "metadata": {
        "collapsed": false
      },
      "outputs": [],
      "source": [
        "%matplotlib inline"
      ]
    },
    {
      "cell_type": "markdown",
      "metadata": {},
      "source": [
        "# Basic DPF-Core Usage {#ref_basic_example}\r\n\r\nThis example shows how to open a result file and do some basic\r\npostprocessing.\r\n\r\nIf you have Ansys 2021 R1 installed, starting DPF is quite easy as\r\nDPF-Core takes care of launching all the services that are required for\r\npostprocessing Ansys files.\r\n\r\nFirst, import the DPF-Core module as `dpf_core` and import the included\r\nexamples file.\r\n"
      ]
    },
    {
      "cell_type": "code",
      "execution_count": null,
      "metadata": {
        "collapsed": false
      },
      "outputs": [],
      "source": [
        "from ansys.dpf import core as dpf\nfrom ansys.dpf.core import examples"
      ]
    },
    {
      "cell_type": "markdown",
      "metadata": {},
      "source": [
        "Next, open an example and print out the `model` object. The `Model`\r\nclass helps to organize access methods for the result by keeping track\r\nof the operators and data sources used by the result file.\r\n\r\nPrinting the model displays:\r\n\r\n-   Analysis type\r\n-   Available results\r\n-   Size of the mesh\r\n-   Number of results\r\n\r\nAlso, note that the first time you create a DPF object, Python\r\nautomatically attempts to start the server in the background. If you\r\nwant to connect to an existing server (either local or remote), use\r\n`dpf.connect_to_server`{.interpreted-text role=\"func\"}.\r\n"
      ]
    },
    {
      "cell_type": "code",
      "execution_count": null,
      "metadata": {
        "collapsed": false
      },
      "outputs": [],
      "source": [
        "model = dpf.Model(examples.simple_bar)\nprint(model)"
      ]
    },
    {
      "cell_type": "markdown",
      "metadata": {},
      "source": [
        "# Model Metadata\r\n\r\nSpecific metadata can be extracted from the model by referencing the\r\nmodel\\'s `metadata` property. For example, to print only the\r\n`result_info`:\r\n"
      ]
    },
    {
      "cell_type": "code",
      "execution_count": null,
      "metadata": {
        "collapsed": false
      },
      "outputs": [],
      "source": [
        "metadata = model.metadata\nprint(metadata.result_info)"
      ]
    },
    {
      "cell_type": "markdown",
      "metadata": {},
      "source": [
        "To print the mesh region:\r\n"
      ]
    },
    {
      "cell_type": "code",
      "execution_count": null,
      "metadata": {
        "collapsed": false
      },
      "outputs": [],
      "source": [
        "print(metadata.meshed_region)"
      ]
    },
    {
      "cell_type": "markdown",
      "metadata": {},
      "source": [
        "To print the time or frequency of the results:\r\n"
      ]
    },
    {
      "cell_type": "code",
      "execution_count": null,
      "metadata": {
        "collapsed": false
      },
      "outputs": [],
      "source": [
        "print(metadata.time_freq_support)"
      ]
    },
    {
      "cell_type": "markdown",
      "metadata": {},
      "source": [
        "# Extracting Displacement Results\r\n\r\nAll results of the model can be accessed through the `results` property,\r\nwhich returns the `ansys.dpf.core.results.Results`{.interpreted-text\r\nrole=\"class\"} class. This class contains the DPF result operators\r\navailable to a specific result file, which are listed when printing the\r\nobject with `print(results)`.\r\n\r\nHere, the `'U'` operator is connected with `data_sources`, which takes\r\nplace automatically when running `results.displacement()`. By default,\r\nthe `'U'` operator is connected to the first result set, which for this\r\nstatic result is the only result.\r\n"
      ]
    },
    {
      "cell_type": "code",
      "execution_count": null,
      "metadata": {
        "collapsed": false
      },
      "outputs": [],
      "source": [
        "results = model.results\ndisplacements = results.displacement()\nfields = displacements.outputs.fields_container()\n\n# Finally, extract the data of the displacement field:\ndisp = fields[0].data\ndisp"
      ]
    },
    {
      "cell_type": "code",
      "execution_count": null,
      "metadata": {
        "collapsed": false
      },
      "outputs": [],
      "source": [
        "model.metadata.meshed_region.plot(fields)"
      ]
    }
  ],
  "metadata": {
    "kernelspec": {
      "display_name": "Python 3",
      "language": "python",
      "name": "python3"
    },
    "language_info": {
      "codemirror_mode": {
        "name": "ipython",
        "version": 3
      },
      "file_extension": ".py",
      "mimetype": "text/x-python",
      "name": "python",
      "nbconvert_exporter": "python",
      "pygments_lexer": "ipython3",
      "version": "3.8.10"
    }
  },
  "nbformat": 4,
  "nbformat_minor": 0
}