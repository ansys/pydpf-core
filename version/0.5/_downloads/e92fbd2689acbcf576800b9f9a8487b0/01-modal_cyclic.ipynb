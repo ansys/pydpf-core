{
  "cells": [
    {
      "cell_type": "code",
      "execution_count": null,
      "metadata": {
        "collapsed": false
      },
      "outputs": [],
      "source": [
        "%matplotlib inline"
      ]
    },
    {
      "cell_type": "markdown",
      "metadata": {},
      "source": [
        "# Modal Cyclic symmetry Example {#ref_basic_cyclic}\r\n\r\nThis example shows how to expand a cyclic mesh and its results.\r\n"
      ]
    },
    {
      "cell_type": "code",
      "execution_count": null,
      "metadata": {
        "collapsed": false
      },
      "outputs": [],
      "source": [
        "from ansys.dpf import core as dpf\nfrom ansys.dpf.core import examples"
      ]
    },
    {
      "cell_type": "markdown",
      "metadata": {},
      "source": [
        "Create the model and display the state of the result.\r\n"
      ]
    },
    {
      "cell_type": "code",
      "execution_count": null,
      "metadata": {
        "collapsed": false
      },
      "outputs": [],
      "source": [
        "model = dpf.Model(examples.simple_cyclic)\nprint(model)"
      ]
    },
    {
      "cell_type": "markdown",
      "metadata": {},
      "source": [
        "# Expand displacement results\r\n\r\nIn this example we expand displacement results, by default on all nodes\r\nand the first time step.\r\n"
      ]
    },
    {
      "cell_type": "code",
      "execution_count": null,
      "metadata": {
        "collapsed": false
      },
      "outputs": [],
      "source": [
        "# Create displacement cyclic operator\nu_cyc = model.operator(\"mapdl::rst::U_cyclic\")\n\n# expand the displacements\nfields = u_cyc.outputs.fields_container()\n\n# # get the expanded mesh\nmesh_provider = model.metadata.mesh_provider\nmesh_provider.inputs.read_cyclic(2)\nmesh = mesh_provider.outputs.mesh()\n\n# plot the expanded result on the expanded mesh\nmesh.plot(fields[0])"
      ]
    },
    {
      "cell_type": "markdown",
      "metadata": {},
      "source": [
        "# Expand stresses at a given time step\r\n"
      ]
    },
    {
      "cell_type": "code",
      "execution_count": null,
      "metadata": {
        "collapsed": false
      },
      "outputs": [],
      "source": [
        "# define stress expansion operator and request stresses at time set = 8\nscyc_op = model.operator(\"mapdl::rst::S_cyclic\")\nscyc_op.inputs.read_cyclic(2)\nscyc_op.inputs.time_scoping.connect([8])\n\n# request the results averaged on the nodes\nscyc_op.inputs.requested_location.connect(\"Nodal\")\n\n# connect the base mesh and the expanded mesh, to avoid rexpanding the mesh\nscyc_op.inputs.sector_mesh.connect(model.metadata.meshed_region)\n# scyc_op.inputs.expanded_meshed_region.connect(mesh)\n\n# request equivalent von mises operator and connect it to stress operator\neqv = dpf.Operator(\"eqv_fc\")\neqv.inputs.connect(scyc_op.outputs)\n\n# expand the results and get stress eqv\nfields = eqv.outputs.fields_container()\n\n# plot the expanded result on the expanded mesh\n# mesh.plot(fields[0])"
      ]
    },
    {
      "cell_type": "markdown",
      "metadata": {},
      "source": [
        "# Expand stresses at given sectors\r\n"
      ]
    },
    {
      "cell_type": "code",
      "execution_count": null,
      "metadata": {
        "collapsed": false
      },
      "outputs": [],
      "source": [
        "# define stress expansion operator and request stresses at time set = 8\nscyc_op = model.operator(\"mapdl::rst::S_cyclic\")\nscyc_op.inputs.read_cyclic(2)\nscyc_op.inputs.time_scoping.connect([8])\n\n# request the results averaged on the nodes\nscyc_op.inputs.requested_location.connect(\"Nodal\")\n\n# connect the base mesh and the expanded mesh, to avoid rexpanding the mesh\nscyc_op.inputs.sector_mesh.connect(model.metadata.meshed_region)\n# scyc_op.inputs.expanded_meshed_region.connect(mesh)\n\n# request results on sectors 1, 3 and 5\nscyc_op.inputs.sectors_to_expand.connect([1, 3, 5])\n\n# extract Sy (use component selector and select the component 1)\ncomp_sel = dpf.Operator(\"component_selector_fc\")\ncomp_sel.inputs.fields_container.connect(scyc_op.outputs.fields_container)\ncomp_sel.inputs.component_number.connect(0)\n\n# expand the displacements and get the resuls\nfields = comp_sel.outputs.fields_container()\n\n# plot the expanded result on the expanded mesh\n# mesh.plot(fields[0])"
      ]
    },
    {
      "cell_type": "markdown",
      "metadata": {},
      "source": [
        "# Expand stresses and average to elemental location\r\n"
      ]
    },
    {
      "cell_type": "code",
      "execution_count": null,
      "metadata": {
        "collapsed": false
      },
      "outputs": [],
      "source": [
        "# define stress expansion operator and request stresses at time set = 8\nscyc_op = model.operator(\"mapdl::rst::S_cyclic\")\nscyc_op.inputs.read_cyclic(2)\nscyc_op.inputs.time_scoping.connect([8])\n\n# request the results in the solver\nscyc_op.inputs.bool_rotate_to_global.connect(False)\n\n# connect the base mesh and the expanded mesh, to avoid rexpanding the mesh\nscyc_op.inputs.sector_mesh.connect(model.metadata.meshed_region)\n# scyc_op.inputs.expanded_meshed_region.connect(mesh)\n\n# request to elemental averaging operator\nto_elemental = dpf.Operator(\"to_elemental_fc\")\nto_elemental.inputs.fields_container.connect(scyc_op.outputs.fields_container)\n\n# extract Sy (use component selector and select the component 1)\ncomp_sel = dpf.Operator(\"component_selector_fc\")\ncomp_sel.inputs.fields_container.connect(to_elemental.outputs.fields_container)\ncomp_sel.inputs.component_number.connect(1)\n\n# expand the displacements and get the resuls\nfields = comp_sel.outputs.fields_container()\n\n# # plot the expanded result on the expanded mesh\nmesh.plot(fields)"
      ]
    }
  ],
  "metadata": {
    "kernelspec": {
      "display_name": "Python 3",
      "language": "python",
      "name": "python3"
    },
    "language_info": {
      "codemirror_mode": {
        "name": "ipython",
        "version": 3
      },
      "file_extension": ".py",
      "mimetype": "text/x-python",
      "name": "python",
      "nbconvert_exporter": "python",
      "pygments_lexer": "ipython3",
      "version": "3.8.10"
    }
  },
  "nbformat": 4,
  "nbformat_minor": 0
}