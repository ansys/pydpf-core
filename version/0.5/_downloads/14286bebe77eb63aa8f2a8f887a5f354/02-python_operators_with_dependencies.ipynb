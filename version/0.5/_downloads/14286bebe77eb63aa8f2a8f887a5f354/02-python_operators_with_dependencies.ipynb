{
  "cells": [
    {
      "cell_type": "code",
      "execution_count": null,
      "metadata": {
        "collapsed": false
      },
      "outputs": [],
      "source": [
        "%matplotlib inline"
      ]
    },
    {
      "cell_type": "markdown",
      "metadata": {},
      "source": [
        "# Write user defined Operators having third party dependencies {#ref_python_operators_with_deps}\r\n\r\nThis example shows how advanced DPF python plugins of Operators can be\r\ncreated as standard python packages and how third party python modules\r\ndependencies can be added to the package. For a first introduction on\r\nuser defined python Operators see example\r\n`ref_wrapping_numpy_capabilities`{.interpreted-text role=\"ref\"} and for\r\na simpler example on user defined python Operators as a package see\r\n`ref_python_plugin_package`{.interpreted-text role=\"ref\"}.\r\n\r\nThis plugin will hold an Operator which implementation depends on a\r\nthird party python module named [gltf](https://pypi.org/project/gltf/).\r\nThis Operator takes a path, a mesh and 3D vector field in input and\r\nexports the mesh and the norm of the input field in a gltf file located\r\nat the given path.\r\n"
      ]
    },
    {
      "cell_type": "markdown",
      "metadata": {},
      "source": [
        "# Write Operator\r\n\r\nFor this more advanced use case, a python package is created. Each\r\nOperator implementation derives from\r\n`ansys.dpf.core.custom_operator.CustomOperatorBase`{.interpreted-text\r\nrole=\"class\"} and a call to\r\n`ansys.dpf.core.custom_operator.record_operator`{.interpreted-text\r\nrole=\"py:func\"} records the Operators of the plugin. The python package\r\n[gltf_plugin]{.title-ref} is downloaded and displayed here:\r\n"
      ]
    },
    {
      "cell_type": "code",
      "execution_count": null,
      "metadata": {
        "collapsed": false
      },
      "outputs": [],
      "source": [
        "import os\nfrom ansys.dpf.core import examples\n\nprint('\\033[1m gltf_plugin')\nfile_list = [\"gltf_plugin/__init__.py\", \"gltf_plugin/operators.py\",\n             \"gltf_plugin/operators_loader.py\", \"gltf_plugin/requirements.txt\",\n             \"gltf_plugin/gltf_export.py\", \"gltf_plugin/texture.png\", \"gltf_plugin.xml\"\n             ]\nplugin_path = None\nGITHUB_SOURCE_URL = \"https://github.com/pyansys/pydpf-core/raw/\" \\\n                    \"\" \\\n                    \"examples/first_python_plugins/python_plugins\"\n\nfor file in file_list:\n    EXAMPLE_FILE = GITHUB_SOURCE_URL + \"/gltf_plugin/\" + file\n    operator_file_path = examples.downloads._retrieve_file(\n        EXAMPLE_FILE, file, os.path.join(\"python_plugins\", os.path.dirname(file)))\n\n    print(f'\\033[1m {file}\\n \\033[0m')\n    if (os.path.splitext(file)[1] == \".py\" or os.path.splitext(file)[1] == \".xml\") \\\n            and file != \"gltf_plugin/gltf_export.py\":\n        with open(operator_file_path, \"r\") as f:\n            for line in f.readlines():\n                print('\\t\\t\\t' + line)\n        print(\"\\n\\n\")\n        if plugin_path is None:\n            plugin_path = os.path.dirname(operator_file_path)"
      ]
    },
    {
      "cell_type": "markdown",
      "metadata": {},
      "source": [
        "To add third party modules as dependencies to a custom DPF python\r\nplugin, a folder or zip file with the sites of the dependencies needs to\r\nbe created and referenced in an xml located next to the plugin\\'s folder\r\nand having the same name as the plugin plus the `.xml` extension. The\r\n`site` python module is used by DPF when calling\r\n`ansys.dpf.core.core.load_library`{.interpreted-text role=\"py:func\"}\r\nfunction to add these custom sites to the python interpreter path. To\r\ncreate these custom sites, the requirements of the custom plugin should\r\nbe installed in a python virtual environment, the site-packages (with\r\nunnecessary folders removed) should be zipped and put with the plugin.\r\nThe path to this zip should be referenced in the xml as done above.\r\n\r\nTo simplify this step, a requirements file can be added in the plugin,\r\nlike:\r\n"
      ]
    },
    {
      "cell_type": "code",
      "execution_count": null,
      "metadata": {
        "collapsed": false
      },
      "outputs": [],
      "source": [
        "print(f'\\033[1m gltf_plugin/requirements.txt: \\n \\033[0m')\nwith open(os.path.join(plugin_path, \"requirements.txt\"), \"r\") as f:\n    for line in f.readlines():\n        print('\\t\\t\\t' + line)"
      ]
    },
    {
      "cell_type": "markdown",
      "metadata": {},
      "source": [
        "And this\r\n`powershell script </user_guide/create_sites_for_python_operators.ps1>`{.interpreted-text\r\nrole=\"download\"} for windows or this\r\n`shell script </user_guide/create_sites_for_python_operators.sh>`{.interpreted-text\r\nrole=\"download\"} can be ran with the mandatory arguments:\r\n\r\n-   -pluginpath : path to the folder of the plugin.\r\n-   -zippath : output zip file name.\r\n\r\noptional arguments are:\r\n\r\n-   -pythonexe : path to a python executable of your choice.\r\n-   -tempfolder : path to a temporary folder to work on, default is the\r\n    environment variable `TEMP` on Windows and /tmp/ on Linux.\r\n\r\nFor windows powershell, call:\r\n\r\n    create_sites_for_python_operators.ps1 -pluginpath /path/to/plugin -zippath /path/to/plugin/assets/winx64.zip # noqa: E501\r\n\r\nFor linux shell, call:\r\n\r\n    create_sites_for_python_operators.sh -pluginpath /path/to/plugin -zippath /path/to/plugin/assets/linx64.zip # noqa: E501\r\n"
      ]
    },
    {
      "cell_type": "code",
      "execution_count": null,
      "metadata": {
        "collapsed": false
      },
      "outputs": [],
      "source": [
        "if os.name == \"nt\" and \\\n        not os.path.exists(os.path.join(plugin_path, 'assets', 'gltf_sites_winx64.zip')):\n    CMD_FILE_URL = GITHUB_SOURCE_URL + \"/create_sites_for_python_operators.ps1\"\n    cmd_file = examples.downloads._retrieve_file(\n        CMD_FILE_URL, \"create_sites_for_python_operators.ps1\", \"python_plugins\")\n    run_cmd = f\"powershell {cmd_file}\"\n    args = f\" -pluginpath \\\"{plugin_path}\\\" \" \\\n           f\"-zippath {os.path.join(plugin_path, 'assets', 'gltf_sites_winx64.zip')}\"\n    print(run_cmd + args)\n    import subprocess\n    process = subprocess.run(run_cmd + args, stdout=subprocess.PIPE, stderr=subprocess.PIPE)\n    if process.stderr:\n        raise RuntimeError(\n            \"Installing pygltf in a virtual environment failed with error:\\n\"\n            + process.stderr.decode())\n    else:\n        print(\"Installing pygltf in a virtual environment succeeded\")\nelif os.name == \"posix\" and \\\n        not os.path.exists(os.path.join(plugin_path, 'assets', 'gltf_sites_linx64.zip')):\n    CMD_FILE_URL = GITHUB_SOURCE_URL + \"/create_sites_for_python_operators.sh\"\n    cmd_file = examples.downloads._retrieve_file(\n        CMD_FILE_URL, \"create_sites_for_python_operators.ps1\", \"python_plugins\"\n    )\n    run_cmd = f\"{cmd_file}\"\n    args = f\" -pluginpath \\\"{plugin_path}\\\" \" \\\n           f\"-zippath \\\"{os.path.join(plugin_path, 'assets', 'gltf_sites_linx64.zip')}\\\"\"\n    print(run_cmd + args)\n    os.system(f\"chmod u=rwx,o=x {cmd_file}\")\n    os.system(run_cmd + args)\n    print(\"\\nInstalling pygltf in a virtual environment succeeded\")"
      ]
    },
    {
      "cell_type": "markdown",
      "metadata": {},
      "source": [
        "# Load Plugin\r\n\r\nOnce a python plugin is written as a package, it can be loaded with the\r\nfunction `ansys.dpf.core.core.load_library`{.interpreted-text\r\nrole=\"py:func\"} taking as first argument the path to the directory of\r\nthe plugin, as second argument `py_` + any name identifying the plugin,\r\nand as last argument the function\\'s name exposed in the `__init__.py`\r\nfile and used to record operators.\r\n"
      ]
    },
    {
      "cell_type": "code",
      "execution_count": null,
      "metadata": {
        "collapsed": false
      },
      "outputs": [],
      "source": [
        "from ansys.dpf import core as dpf\nfrom ansys.dpf.core import examples\n\n# python plugins are not supported in process\ndpf.start_local_server(config=dpf.AvailableServerConfigs.GrpcServer)\n\ntmp = dpf.make_tmp_dir_server()\ndpf.upload_files_in_folder(\n    dpf.path_utilities.join(tmp, \"plugins\", \"gltf_plugin\"),\n    plugin_path\n)\ndpf.upload_file(\n    plugin_path + \".xml\",\n    dpf.path_utilities.join(tmp, \"plugins\", \"gltf_plugin.xml\")\n)\n\ndpf.load_library(\n    dpf.path_utilities.join(tmp, \"plugins\", \"gltf_plugin\"),\n    \"py_dpf_gltf\",\n    \"load_operators\")"
      ]
    },
    {
      "cell_type": "markdown",
      "metadata": {},
      "source": [
        "Once the Plugin loaded, Operators recorded in the plugin can be used\r\nwith:\r\n"
      ]
    },
    {
      "cell_type": "code",
      "execution_count": null,
      "metadata": {
        "collapsed": false
      },
      "outputs": [],
      "source": [
        "new_operator = dpf.Operator(\"gltf_export\")"
      ]
    },
    {
      "cell_type": "markdown",
      "metadata": {},
      "source": [
        "This new Operator `gltf_export` requires a triangle surface mesh, a\r\ndisplacement Field on this surface mesh as well as an export path as\r\ninputs. To demo this new Operator, a\r\n`ansys.dpf.core.model.Model`{.interpreted-text role=\"class\"} on a simple\r\nfile is created,\r\n`ansys.dpf.core.operators.mesh.tri_mesh_skin`{.interpreted-text\r\nrole=\"class\"} Operator is used to extract the surface of the mesh in\r\ntriangles elements.\r\n"
      ]
    },
    {
      "cell_type": "markdown",
      "metadata": {},
      "source": [
        "::: graphviz\r\n\r\ndigraph workflow {\r\n\r\n:   graph \\[pad=\\\"0.5\\\", nodesep=\\\"0.3\\\", ranksep=\\\"0.3\\\"\\] node\r\n    \\[shape=box, style=filled, fillcolor=\\\"#ffcc00\\\", margin=\\\"0\\\"\\];\r\n    rankdir=LR; splines=line; ds \\[label=\\\"data_sources\\\", shape=box,\r\n    style=filled, fillcolor=cadetblue2\\]; ds -\\> mesh_provider\r\n    \\[style=dashed\\]; mesh_provider -\\> skin_mesh \\[splines=ortho\\]; ds\r\n    -\\> displacement \\[style=dashed\\]; skin_mesh -\\> displacement\r\n    \\[splines=ortho\\]; skin_mesh -\\> gltf_export \\[splines=ortho\\];\r\n    displacement -\\> gltf_export \\[splines=ortho\\];\r\n\r\n}\r\n:::\r\n"
      ]
    },
    {
      "cell_type": "markdown",
      "metadata": {},
      "source": [
        "# Use the Custom Operator\r\n"
      ]
    },
    {
      "cell_type": "code",
      "execution_count": null,
      "metadata": {
        "collapsed": false
      },
      "outputs": [],
      "source": [
        "import os\n\nmodel = dpf.Model(dpf.upload_file_in_tmp_folder(examples.static_rst))\n\nmesh = model.metadata.meshed_region\nskin_mesh = dpf.operators.mesh.tri_mesh_skin(mesh=mesh)\n\ndisplacement = model.results.displacement()\ndisplacement.inputs.mesh_scoping(skin_mesh)\ndisplacement.inputs.mesh(skin_mesh)\nnew_operator.inputs.path(os.path.join(tmp, \"out\"))\nnew_operator.inputs.mesh(skin_mesh)\nnew_operator.inputs.field(displacement.outputs.fields_container()[0])\nnew_operator.run()\n\nprint(\"operator ran successfully\")\n\ndpf.download_file(os.path.join(tmp, \"out.glb\"), os.path.join(os.getcwd(), \"out.glb\"))"
      ]
    },
    {
      "cell_type": "markdown",
      "metadata": {},
      "source": [
        "The gltf Operator output can be downloaded\r\n`here <images/thumb/out02.glb>`{.interpreted-text role=\"download\"}.\r\n"
      ]
    }
  ],
  "metadata": {
    "kernelspec": {
      "display_name": "Python 3",
      "language": "python",
      "name": "python3"
    },
    "language_info": {
      "codemirror_mode": {
        "name": "ipython",
        "version": 3
      },
      "file_extension": ".py",
      "mimetype": "text/x-python",
      "name": "python",
      "nbconvert_exporter": "python",
      "pygments_lexer": "ipython3",
      "version": "3.8.10"
    }
  },
  "nbformat": 4,
  "nbformat_minor": 0
}