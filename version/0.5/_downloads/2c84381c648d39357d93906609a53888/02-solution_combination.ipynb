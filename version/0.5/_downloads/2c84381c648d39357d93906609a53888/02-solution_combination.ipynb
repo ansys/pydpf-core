{
  "cells": [
    {
      "cell_type": "code",
      "execution_count": null,
      "metadata": {
        "collapsed": false
      },
      "outputs": [],
      "source": [
        "%matplotlib inline"
      ]
    },
    {
      "cell_type": "markdown",
      "metadata": {},
      "source": [
        "# Load Case Combination for Principal Stress {#solution_combination}\r\n\r\nThis example shows how to get a principal stress loadcase combination\r\nusing DPF And highlight min/max values in the plot.\r\n"
      ]
    },
    {
      "cell_type": "markdown",
      "metadata": {},
      "source": [
        "First, import the DPF-Core module as `dpf_core` and import the included\r\nexamples file and `DpfPlotter`\r\n"
      ]
    },
    {
      "cell_type": "code",
      "execution_count": null,
      "metadata": {
        "collapsed": false
      },
      "outputs": [],
      "source": [
        "from ansys.dpf import core as dpf\nfrom ansys.dpf.core import examples\nfrom ansys.dpf.core.plotter import DpfPlotter"
      ]
    },
    {
      "cell_type": "markdown",
      "metadata": {},
      "source": [
        "Next, open an example and print out the `model` object. The\r\n`Model <ansys.dpf.core.model.Model>`{.interpreted-text role=\"class\"}\r\nclass helps to organize access methods for the result by keeping track\r\nof the operators and data sources used by the result file.\r\n\r\nPrinting the model displays:\r\n\r\n-   Analysis type\r\n-   Available results\r\n-   Size of the mesh\r\n-   Number of results\r\n"
      ]
    },
    {
      "cell_type": "code",
      "execution_count": null,
      "metadata": {
        "collapsed": false
      },
      "outputs": [],
      "source": [
        "model = dpf.Model(examples.msup_transient)\nprint(model)"
      ]
    },
    {
      "cell_type": "markdown",
      "metadata": {},
      "source": [
        "Get the stress tensor and connect time scoping. Make sure to define\r\n`Nodal` as the requested location, as the labels are supported only for\r\nNodal results.\r\n"
      ]
    },
    {
      "cell_type": "code",
      "execution_count": null,
      "metadata": {
        "collapsed": false
      },
      "outputs": [],
      "source": [
        "stress_tensor = model.results.stress()\ntime_scope = dpf.Scoping()\ntime_scope.ids = [1, 2]\nstress_tensor.inputs.time_scoping.connect(time_scope)\nstress_tensor.inputs.requested_location.connect(\"Nodal\")"
      ]
    },
    {
      "cell_type": "markdown",
      "metadata": {},
      "source": [
        "This code performs solution combination on two load cases. =\\>LC1 - LC2\r\nYou can access individual loadcases as the fields of a fields_container\r\nfor `stress_tensor`. LC1:\r\nstress_tensor.outputs.fields_container.get_data()\\[0\\] LC2:\r\nstress_tensor.outputs.fields_container.get_data()\\[1\\]\r\n\r\nScale LC2 to -1\r\n"
      ]
    },
    {
      "cell_type": "code",
      "execution_count": null,
      "metadata": {
        "collapsed": false
      },
      "outputs": [],
      "source": [
        "field_lc2 = stress_tensor.outputs.fields_container.get_data()[1]\nstress_tensor_lc2_sc = dpf.operators.math.scale(field=field_lc2, ponderation=-1.0)"
      ]
    },
    {
      "cell_type": "markdown",
      "metadata": {},
      "source": [
        "Add load cases\r\n"
      ]
    },
    {
      "cell_type": "code",
      "execution_count": null,
      "metadata": {
        "collapsed": false
      },
      "outputs": [],
      "source": [
        "field_lc1 = stress_tensor.outputs.fields_container.get_data()[0]\nstress_tensor_combi = dpf.operators.math.add(\n    fieldA=field_lc1, fieldB=stress_tensor_lc2_sc\n)"
      ]
    },
    {
      "cell_type": "markdown",
      "metadata": {},
      "source": [
        "Principal Stresses are the Eigenvalues of the stress tensor. Use\r\n`principal_invariants` to get S1, S2 and S3\r\n"
      ]
    },
    {
      "cell_type": "code",
      "execution_count": null,
      "metadata": {
        "collapsed": false
      },
      "outputs": [],
      "source": [
        "p_inv = dpf.operators.invariant.principal_invariants()\np_inv.inputs.field.connect(stress_tensor_combi)"
      ]
    },
    {
      "cell_type": "markdown",
      "metadata": {},
      "source": [
        "Print S1 - Maximum Principal stress\r\n"
      ]
    },
    {
      "cell_type": "code",
      "execution_count": null,
      "metadata": {
        "collapsed": false
      },
      "outputs": [],
      "source": [
        "print(p_inv.outputs.field_eig_1().data)"
      ]
    },
    {
      "cell_type": "markdown",
      "metadata": {},
      "source": [
        "Get the meshed region\r\n"
      ]
    },
    {
      "cell_type": "code",
      "execution_count": null,
      "metadata": {
        "collapsed": false
      },
      "outputs": [],
      "source": [
        "mesh_set = model.metadata.meshed_region"
      ]
    },
    {
      "cell_type": "markdown",
      "metadata": {},
      "source": [
        "Plot the results on the mesh. `label_text_size` and `label_point_size`\r\ncontrol font size of the label.\r\n"
      ]
    },
    {
      "cell_type": "code",
      "execution_count": null,
      "metadata": {
        "collapsed": false
      },
      "outputs": [],
      "source": [
        "plot = DpfPlotter()\nplot.add_field(p_inv.outputs.field_eig_1(), meshed_region=mesh_set)\n\n# You can set the camera positions using the `cpos` argument\n# The three tuples in the list `cpos` represent camera position-\n# focal point, and view up respectively.\nplot.show_figure(show_axes=True)"
      ]
    }
  ],
  "metadata": {
    "kernelspec": {
      "display_name": "Python 3",
      "language": "python",
      "name": "python3"
    },
    "language_info": {
      "codemirror_mode": {
        "name": "ipython",
        "version": 3
      },
      "file_extension": ".py",
      "mimetype": "text/x-python",
      "name": "python",
      "nbconvert_exporter": "python",
      "pygments_lexer": "ipython3",
      "version": "3.8.10"
    }
  },
  "nbformat": 4,
  "nbformat_minor": 0
}