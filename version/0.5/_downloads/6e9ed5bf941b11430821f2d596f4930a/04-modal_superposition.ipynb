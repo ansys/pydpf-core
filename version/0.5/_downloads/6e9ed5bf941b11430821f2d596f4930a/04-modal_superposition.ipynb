{
  "cells": [
    {
      "cell_type": "code",
      "execution_count": null,
      "metadata": {
        "collapsed": false
      },
      "outputs": [],
      "source": [
        "%matplotlib inline"
      ]
    },
    {
      "cell_type": "markdown",
      "metadata": {},
      "source": [
        "# Expand Harmonic Modal Superposition with DPF {#ref_msup}\r\n\r\nDifferent types of linear dynamics expansions are implemented in DPF.\r\nWith modal superposition used in harmonic analysis, modal coefficients\r\nare multiplied by mode shapes (of a previous modal analysis) to analyse\r\na structure under given boundary conditions in a range of frequencies.\r\nDoing this expansion \\\"on demand\\\" in DPF instead of in the solver\r\nreduces the size of the result files.\r\n"
      ]
    },
    {
      "cell_type": "code",
      "execution_count": null,
      "metadata": {
        "collapsed": false
      },
      "outputs": [],
      "source": [
        "from ansys.dpf import core as dpf\nfrom ansys.dpf.core import examples"
      ]
    },
    {
      "cell_type": "markdown",
      "metadata": {},
      "source": [
        "# Create the data sources\r\n\r\nFirst create a data sources with the mode shapes and the modal response\r\nThe expansion is recursive in dpf: first the modal response is read,\r\nthen, \\\"upstreams\\\" mode shapes are found in the data sources, so they\r\nare read and expanded (mode shapes x modal response)\r\n"
      ]
    },
    {
      "cell_type": "code",
      "execution_count": null,
      "metadata": {
        "collapsed": false
      },
      "outputs": [],
      "source": [
        "msup_files = examples.download_msup_files_to_dict()\ndata_sources = dpf.DataSources(msup_files[\"rfrq\"])\nup_stream_data_sources = dpf.DataSources(msup_files[\"mode\"])\nup_stream_data_sources.add_file_path(msup_files[\"rst\"])\n\ndata_sources.add_upstream(up_stream_data_sources)"
      ]
    },
    {
      "cell_type": "markdown",
      "metadata": {},
      "source": [
        "# Compute displacements\r\n\r\nOnce the recursivity is put in the data sources (with add_upstream)\r\ncomputing displacements with or without expansion, in harmonic,\r\ntransient or modal analysis has the exact same syntax\r\n"
      ]
    },
    {
      "cell_type": "code",
      "execution_count": null,
      "metadata": {
        "collapsed": false
      },
      "outputs": [],
      "source": [
        "model = dpf.Model(data_sources)\ndisp = model.results.displacement.on_all_time_freqs.eval()\n\nfreq_scoping = disp.get_time_scoping()\nfor freq_set in freq_scoping:\n    model.metadata.meshed_region.plot(disp.get_field_by_time_complex_ids(freq_set, 0))"
      ]
    }
  ],
  "metadata": {
    "kernelspec": {
      "display_name": "Python 3",
      "language": "python",
      "name": "python3"
    },
    "language_info": {
      "codemirror_mode": {
        "name": "ipython",
        "version": 3
      },
      "file_extension": ".py",
      "mimetype": "text/x-python",
      "name": "python",
      "nbconvert_exporter": "python",
      "pygments_lexer": "ipython3",
      "version": "3.8.10"
    }
  },
  "nbformat": 4,
  "nbformat_minor": 0
}