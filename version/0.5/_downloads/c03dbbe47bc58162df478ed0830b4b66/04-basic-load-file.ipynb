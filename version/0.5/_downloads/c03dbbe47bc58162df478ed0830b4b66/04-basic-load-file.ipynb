{
  "cells": [
    {
      "cell_type": "code",
      "execution_count": null,
      "metadata": {
        "collapsed": false
      },
      "outputs": [],
      "source": [
        "%matplotlib inline"
      ]
    },
    {
      "cell_type": "markdown",
      "metadata": {},
      "source": [
        "# Write/Load and Upload/Download a Result File {#ref_basic_load_file_example}\r\n\r\nDPF-Core can upload files to and download files from the server machine.\r\n\r\nThis example shows how to write and upload files on the server machine\r\nand then download them back on the client side. The resulting fields\r\ncontainer is exported in CSV format.\r\n"
      ]
    },
    {
      "cell_type": "markdown",
      "metadata": {},
      "source": [
        "Load a model from the DPF-Core examples: `ansys.dpf.core` module.\r\n"
      ]
    },
    {
      "cell_type": "code",
      "execution_count": null,
      "metadata": {
        "collapsed": false
      },
      "outputs": [],
      "source": [
        "from ansys.dpf import core as dpf\nfrom ansys.dpf.core import examples\n\nmodel = dpf.Model(examples.simple_bar)\nmesh = model.metadata.meshed_region"
      ]
    },
    {
      "cell_type": "markdown",
      "metadata": {},
      "source": [
        "# Get and Plot the Fields Container for the Result\r\n\r\nGet the fields container for the result and plot it so you can compare\r\nit later:\r\n"
      ]
    },
    {
      "cell_type": "code",
      "execution_count": null,
      "metadata": {
        "collapsed": false
      },
      "outputs": [],
      "source": [
        "displacement_operator = model.results.displacement()\nfc_out = displacement_operator.outputs.fields_container()\nmesh.plot(fc_out)"
      ]
    },
    {
      "cell_type": "markdown",
      "metadata": {},
      "source": [
        "# Export Result\r\n\r\nGet the fields container for the result and export it in the CSV format:\r\n"
      ]
    },
    {
      "cell_type": "code",
      "execution_count": null,
      "metadata": {
        "collapsed": false
      },
      "outputs": [],
      "source": [
        "import os\n\nfile_path = os.getcwd() + \"\\\\simple_bar_fc.csv\"\n\nexport_csv_operator = dpf.operators.serialization.field_to_csv()\nexport_csv_operator.inputs.field_or_fields_container.connect(fc_out)\nexport_csv_operator.inputs.file_path.connect(file_path)\nexport_csv_operator.run()"
      ]
    },
    {
      "cell_type": "markdown",
      "metadata": {},
      "source": [
        "# Upload CSV Result File\r\n\r\nUpload the file `simple_bar_fc.csv` on the server side. Here,\r\n`upload_file_in_tmp_folder`{.interpreted-text role=\"func\"} is used\r\nbecause it is assumed that the server machine architecture is unknown.\r\nHowever, when the server file path is known,\r\n`upload_file`{.interpreted-text role=\"func\"} can be used.\r\n"
      ]
    },
    {
      "cell_type": "code",
      "execution_count": null,
      "metadata": {
        "collapsed": false
      },
      "outputs": [],
      "source": [
        "if not dpf.SERVER.local_server:\n    server_file_path = dpf.upload_file_in_tmp_folder(file_path)\n    print(server_file_path)\n\n    # Remove file to avoid polluting.\n    os.remove(file_path)"
      ]
    },
    {
      "cell_type": "markdown",
      "metadata": {},
      "source": [
        "# Download CSV Result File\r\n\r\nDownload the file `simple_bar_fc.csv`:\r\n"
      ]
    },
    {
      "cell_type": "code",
      "execution_count": null,
      "metadata": {
        "collapsed": false
      },
      "outputs": [],
      "source": [
        "if not dpf.SERVER.local_server:\n    downloaded_client_file_path = os.getcwd() + \"\\\\simple_bar_fc_downloaded.csv\"\n    dpf.download_file(server_file_path, downloaded_client_file_path)\nelse:\n    downloaded_client_file_path = file_path"
      ]
    },
    {
      "cell_type": "markdown",
      "metadata": {},
      "source": [
        "# Load CSV Result File as Operator Input\r\n\r\nLoad the fields container contained in the CSV file as an operator\r\ninput:\r\n"
      ]
    },
    {
      "cell_type": "code",
      "execution_count": null,
      "metadata": {
        "collapsed": false
      },
      "outputs": [],
      "source": [
        "my_data_sources = dpf.DataSources(downloaded_client_file_path)\nimport_csv_operator = dpf.operators.serialization.csv_to_field()\nimport_csv_operator.inputs.data_sources.connect(my_data_sources)\ndownloaded_fc_out = import_csv_operator.outputs.fields_container()\nmesh.plot(downloaded_fc_out)\n\n# Remove file to avoid polluting.\nos.remove(downloaded_client_file_path)"
      ]
    },
    {
      "cell_type": "markdown",
      "metadata": {},
      "source": [
        "# Make Operations Over the Imported Fields Container\r\n\r\nUse this fields container:\r\n"
      ]
    },
    {
      "cell_type": "code",
      "execution_count": null,
      "metadata": {
        "collapsed": false
      },
      "outputs": [],
      "source": [
        "min_max_op = dpf.operators.min_max.min_max_fc()\nmin_max_op.inputs.fields_container.connect(downloaded_fc_out)\nmin_field = min_max_op.outputs.field_min()\nmin_field.data"
      ]
    }
  ],
  "metadata": {
    "kernelspec": {
      "display_name": "Python 3",
      "language": "python",
      "name": "python3"
    },
    "language_info": {
      "codemirror_mode": {
        "name": "ipython",
        "version": 3
      },
      "file_extension": ".py",
      "mimetype": "text/x-python",
      "name": "python",
      "nbconvert_exporter": "python",
      "pygments_lexer": "ipython3",
      "version": "3.8.10"
    }
  },
  "nbformat": 4,
  "nbformat_minor": 0
}