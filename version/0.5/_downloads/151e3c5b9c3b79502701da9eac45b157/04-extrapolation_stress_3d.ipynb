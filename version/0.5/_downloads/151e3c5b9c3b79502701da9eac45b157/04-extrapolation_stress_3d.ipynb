{
  "cells": [
    {
      "cell_type": "code",
      "execution_count": null,
      "metadata": {
        "collapsed": false
      },
      "outputs": [],
      "source": [
        "%matplotlib inline"
      ]
    },
    {
      "cell_type": "markdown",
      "metadata": {},
      "source": [
        "# Extrapolation Method for stress result of 3D-element {#extrapolation_test_stress_3Delement}\r\n\r\nThis example shows how to compute the nodal components stress from\r\nGaussian points (integration points) for 3D-element by using the method\r\nof extrapolation.\r\n\r\nExtrapolating results available at Gauss or quadrature points to nodal\r\npoints for a field or fields container. The available elements are:\r\n\r\n-   Linear quadrangle\r\n-   Parabolic quadrangle\r\n-   Linear hexagonal\r\n-   Quadratic hexagonal\r\n-   Linear tetrahedral\r\n-   Quadratic tetrahedral\r\n\r\n1st step : Get the data source\\'s solution from the integration points\r\n(this result file was generated with the MAPDL option `EREXS, NO`).\r\n\r\n2nd step: Use operator of extrapolation to compute the nodal stress.\r\n\r\n3rd step: Get nodal stress result from data source\\'s analysis\r\nreference. The analysis was computed by Ansys Mechanical APDL.\r\n\r\n4th step: Compare the results between nodal stress from data source\r\nreference and nodal stress computed by the extrapolation method.\r\n"
      ]
    },
    {
      "cell_type": "code",
      "execution_count": null,
      "metadata": {
        "collapsed": false
      },
      "outputs": [],
      "source": [
        "from ansys.dpf import core as dpf\nfrom ansys.dpf.core import examples"
      ]
    },
    {
      "cell_type": "markdown",
      "metadata": {},
      "source": [
        "Get the data source\\'s analyse of integration points and data source\\'s\r\nanalyse reference\r\n"
      ]
    },
    {
      "cell_type": "code",
      "execution_count": null,
      "metadata": {
        "collapsed": false
      },
      "outputs": [],
      "source": [
        "datafile = examples.download_extrapolation_3d_result()\n\n# integration points (Gaussian points)\ndata_integration_points = datafile[\"file_integrated\"]\ndata_sources_integration_points = dpf.DataSources(data_integration_points)\n\n# reference\ndataSourceref = datafile[\"file_ref\"]\ndata_sources_ref = dpf.DataSources(dataSourceref)\n\n# get the mesh\nmodel = dpf.Model(data_integration_points)\nmesh = model.metadata.meshed_region\n\n# operator instantiation scoping\nop_scoping = dpf.operators.scoping.split_on_property_type()  # operator instantiation\nop_scoping.inputs.mesh.connect(mesh)\nop_scoping.inputs.requested_location.connect(\"Elemental\")\nmesh_scoping = op_scoping.outputs.mesh_scoping()"
      ]
    },
    {
      "cell_type": "markdown",
      "metadata": {},
      "source": [
        "# Extrapolation from integration points for stress result\r\n\r\nIn this example we compute nodal component stress result from\r\nintegration points stress by using the `gauss_to_node_fc` operator.\r\n"
      ]
    },
    {
      "cell_type": "code",
      "execution_count": null,
      "metadata": {
        "collapsed": false
      },
      "outputs": [],
      "source": [
        "# Create stress operator to get stress result of integration points\nstressop = dpf.operators.result.stress()\nstressop.inputs.data_sources.connect(data_sources_integration_points)\nstress = stressop.outputs.fields_container()"
      ]
    },
    {
      "cell_type": "markdown",
      "metadata": {},
      "source": [
        "# Nodal stress result of integration points:\r\n\r\n> The command `ERESX,NO` in Mechanical APDL is used to copy directly the\r\n> gaussian (integration) points results to the nodes, instead of the\r\n> results at nodes or elements (which are interpolation of results at a\r\n> few gauss points). The following plot shows the nodal values which are\r\n> the averaged values of stresses at each node. The value shown at the\r\n> node is the average of the stresses from the gaussian points of each\r\n> element that it belongs to.\r\n"
      ]
    },
    {
      "cell_type": "code",
      "execution_count": null,
      "metadata": {
        "collapsed": false
      },
      "outputs": [],
      "source": [
        "# plot\nstress_nodal_op = dpf.operators.averaging.elemental_nodal_to_nodal_fc()\nstress_nodal_op.inputs.fields_container.connect(stress)\nmesh.plot(stress_nodal_op.outputs.fields_container())"
      ]
    },
    {
      "cell_type": "markdown",
      "metadata": {},
      "source": [
        "Create operator `gauss_to_node_fc` and compute nodal component stress by\r\napplying the extrapolation method.\r\n"
      ]
    },
    {
      "cell_type": "code",
      "execution_count": null,
      "metadata": {
        "collapsed": false
      },
      "outputs": [],
      "source": [
        "ex_stress = dpf.operators.averaging.gauss_to_node_fc()\n# connect mesh\nex_stress.inputs.mesh.connect(mesh)\n# connect fields container stress\nex_stress.inputs.fields_container.connect(stress)\n# get output\nfex = ex_stress.outputs.fields_container()"
      ]
    },
    {
      "cell_type": "markdown",
      "metadata": {},
      "source": [
        "# Stress result of reference ANSYS Workbench\r\n"
      ]
    },
    {
      "cell_type": "code",
      "execution_count": null,
      "metadata": {
        "collapsed": false
      },
      "outputs": [],
      "source": [
        "# Stress from file dataSourceref\nstressop_ref = dpf.operators.result.stress()\nstressop_ref.inputs.data_sources.connect(data_sources_ref)\nstressop_ref.inputs.mesh_scoping.connect(mesh_scoping)\nstress_ref = stressop_ref.outputs.fields_container()"
      ]
    },
    {
      "cell_type": "markdown",
      "metadata": {},
      "source": [
        "# Plot\r\n\r\nShowing plots of Extrapolation\\'s stress result and reference\\'s stress\r\nresult\r\n"
      ]
    },
    {
      "cell_type": "code",
      "execution_count": null,
      "metadata": {
        "collapsed": false
      },
      "outputs": [],
      "source": [
        "# extrapolation\nfex_nodal_op = dpf.operators.averaging.elemental_nodal_to_nodal_fc()\nfex_nodal_op.inputs.fields_container.connect(fex)\nmesh.plot(fex_nodal_op.outputs.fields_container())\n# reference\nstress_ref_nodal_op = dpf.operators.averaging.elemental_nodal_to_nodal_fc()\nstress_ref_nodal_op.inputs.fields_container.connect(stress_ref)\nmesh.plot(stress_ref_nodal_op.outputs.fields_container())"
      ]
    },
    {
      "cell_type": "markdown",
      "metadata": {},
      "source": [
        "# Comparison\r\n\r\nCompare the stress result computed by extrapolation and reference\\'s\r\nresult. Check if two fields container are identical. Maximum tolerance\r\ngap between to compared values: 1e-2. Smallest value which will be\r\nconsidered during the comparison step : all the `abs(values)` in field\r\nless than 1e-8 is considered as null\r\n"
      ]
    },
    {
      "cell_type": "code",
      "execution_count": null,
      "metadata": {
        "collapsed": false
      },
      "outputs": [],
      "source": [
        "# operator AreFieldsIdentical_fc\nop = dpf.operators.logic.identical_fc()\nop.inputs.fields_containerA.connect(fex)\nop.inputs.fields_containerB.connect(stress_ref)\nop.inputs.tolerance.connect(1.0e-8)\nop.inputs.small_value.connect(0.01)\nop.outputs.boolean()"
      ]
    }
  ],
  "metadata": {
    "kernelspec": {
      "display_name": "Python 3",
      "language": "python",
      "name": "python3"
    },
    "language_info": {
      "codemirror_mode": {
        "name": "ipython",
        "version": 3
      },
      "file_extension": ".py",
      "mimetype": "text/x-python",
      "name": "python",
      "nbconvert_exporter": "python",
      "pygments_lexer": "ipython3",
      "version": "3.8.10"
    }
  },
  "nbformat": 4,
  "nbformat_minor": 0
}