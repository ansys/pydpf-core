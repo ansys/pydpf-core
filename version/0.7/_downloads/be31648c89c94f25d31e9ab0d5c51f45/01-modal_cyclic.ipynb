{
  "cells": [
    {
      "cell_type": "code",
      "execution_count": null,
      "metadata": {
        "collapsed": false
      },
      "outputs": [],
      "source": [
        "%matplotlib inline"
      ]
    },
    {
      "cell_type": "markdown",
      "metadata": {},
      "source": [
        "# Expand mesh and results for modal cyclic symmetry {#ref_basic_cyclic}\r\n\r\nThis example shows a modal cyclic symmetry model with mesh and results\r\nexpansions.\r\n"
      ]
    },
    {
      "cell_type": "code",
      "execution_count": null,
      "metadata": {
        "collapsed": false
      },
      "outputs": [],
      "source": [
        "from ansys.dpf import core as dpf\nfrom ansys.dpf.core import examples"
      ]
    },
    {
      "cell_type": "markdown",
      "metadata": {},
      "source": [
        "Create the model and display the state of the result.\r\n"
      ]
    },
    {
      "cell_type": "code",
      "execution_count": null,
      "metadata": {
        "collapsed": false
      },
      "outputs": [],
      "source": [
        "model = dpf.Model(examples.find_simple_cyclic())\nprint(model)"
      ]
    },
    {
      "cell_type": "markdown",
      "metadata": {},
      "source": [
        "# Expand displacement results\r\n\r\nThis example expands displacement results, by default on all nodes and\r\nthe first time step. Note that the displacements are expanded using the\r\n`read_cyclic\r\n<ansys.dpf.core.operators.mesh.mesh_provider.InputsMeshProvider.read_cyclic>`{.interpreted-text\r\nrole=\"func\"} property with 2 as an argument (1 does not perform\r\nexpansion of the cyclic symmetry).\r\n"
      ]
    },
    {
      "cell_type": "code",
      "execution_count": null,
      "metadata": {
        "collapsed": false
      },
      "outputs": [],
      "source": [
        "# Create displacement cyclic operator\nu_cyc = model.results.displacement()\nu_cyc.inputs.read_cyclic(2)\n\n# expand the displacements\nfields = u_cyc.outputs.fields_container()\n\n# # get the expanded mesh\nmesh_provider = model.metadata.mesh_provider\nmesh_provider.inputs.read_cyclic(2)\nmesh = mesh_provider.outputs.mesh()\n\n# plot the expanded result on the expanded mesh\nmesh.plot(fields[0])"
      ]
    },
    {
      "cell_type": "markdown",
      "metadata": {},
      "source": [
        "# Expand stresses at a given time step\r\n"
      ]
    },
    {
      "cell_type": "code",
      "execution_count": null,
      "metadata": {
        "collapsed": false
      },
      "outputs": [],
      "source": [
        "# define stress expansion operator and request stresses at time set = 8\nscyc_op = model.results.stress()\nscyc_op.inputs.read_cyclic(2)\nscyc_op.inputs.time_scoping.connect([8])\n\n# request the results averaged on the nodes\nscyc_op.inputs.requested_location.connect(dpf.locations.nodal)\n\n# request equivalent von mises operator and connect it to stress operator\neqv = dpf.operators.invariant.von_mises_eqv_fc(scyc_op)\n\n# expand the results and get stress eqv\nfields = eqv.outputs.fields_container()\n\n# plot the expanded result on the expanded mesh\n# mesh.plot(fields[0])"
      ]
    },
    {
      "cell_type": "markdown",
      "metadata": {},
      "source": [
        "# Expand stresses at given sectors\r\n"
      ]
    },
    {
      "cell_type": "code",
      "execution_count": null,
      "metadata": {
        "collapsed": false
      },
      "outputs": [],
      "source": [
        "# define stress expansion operator and request stresses at time set = 8\n# request the results averaged on the nodes\n# request results on sectors 1, 3 and 5\nscyc_op = dpf.operators.result.cyclic_expanded_stress(\n    streams_container=model.metadata.streams_provider,\n    time_scoping=[8],\n    requested_location=dpf.locations.nodal,\n    sectors_to_expand=[1, 3, 5],\n)\n\n# extract Sx (use component selector and select the first component)\ncomp_sel = dpf.operators.logic.component_selector_fc(scyc_op, 0)\n\n# expand the displacements and get the resuls\nfields = comp_sel.outputs.fields_container()\n\n# plot the expanded result on the expanded mesh\n# mesh.plot(fields[0])"
      ]
    },
    {
      "cell_type": "markdown",
      "metadata": {},
      "source": [
        "# Expand stresses and average to elemental location\r\n"
      ]
    },
    {
      "cell_type": "code",
      "execution_count": null,
      "metadata": {
        "collapsed": false
      },
      "outputs": [],
      "source": [
        "# define stress expansion operator and request stresses at time set = 8\nscyc_op = dpf.operators.result.cyclic_expanded_stress(\n    streams_container=model.metadata.streams_provider,\n    time_scoping=[8],\n    sectors_to_expand=[1, 3, 5],\n    bool_rotate_to_global=False,\n)\n\n# request to elemental averaging operator\nto_elemental = dpf.operators.averaging.to_elemental_fc(scyc_op)\n\n# extract Sy (use component selector and select the component 1)\ncomp_sel = dpf.operators.logic.component_selector_fc(to_elemental, 1)\n\n# expand the displacements and get the resuls\nfields = comp_sel.outputs.fields_container()\n\n# # plot the expanded result on the expanded mesh\nmesh.plot(fields)"
      ]
    }
  ],
  "metadata": {
    "kernelspec": {
      "display_name": "Python 3",
      "language": "python",
      "name": "python3"
    },
    "language_info": {
      "codemirror_mode": {
        "name": "ipython",
        "version": 3
      },
      "file_extension": ".py",
      "mimetype": "text/x-python",
      "name": "python",
      "nbconvert_exporter": "python",
      "pygments_lexer": "ipython3",
      "version": "3.8.10"
    }
  },
  "nbformat": 4,
  "nbformat_minor": 0
}