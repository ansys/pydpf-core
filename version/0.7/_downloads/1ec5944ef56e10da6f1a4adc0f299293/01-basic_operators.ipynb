{
  "cells": [
    {
      "cell_type": "code",
      "execution_count": null,
      "metadata": {
        "collapsed": false
      },
      "outputs": [],
      "source": [
        "%matplotlib inline"
      ]
    },
    {
      "cell_type": "markdown",
      "metadata": {},
      "source": [
        "# Operators overview {#ref_basic_operators_example}\r\n\r\nIn DPF, operators provide the primary method for interacting with and\r\nextracting results. Within DPF-Core, operators are directly exposed with\r\nthe `Operators` class as well as wrapped within several other\r\nconvenience classes.\r\n\r\nFor a list of all operators, see\r\n`ref_dpf_operators_reference`{.interpreted-text role=\"ref\"}.\r\n\r\nThis example demonstrates how to work directly with operators and\r\ncompares this method to a wrapped approach.\r\n"
      ]
    },
    {
      "cell_type": "code",
      "execution_count": null,
      "metadata": {
        "collapsed": false
      },
      "outputs": [],
      "source": [
        "# Import the necessary modules\nfrom ansys.dpf import core as dpf\nfrom ansys.dpf.core import examples"
      ]
    },
    {
      "cell_type": "markdown",
      "metadata": {},
      "source": [
        "Create a model object to establish a connection with an example result\r\nfile:\r\n"
      ]
    },
    {
      "cell_type": "code",
      "execution_count": null,
      "metadata": {
        "collapsed": false
      },
      "outputs": [],
      "source": [
        "model = dpf.Model(examples.find_static_rst())\nprint(model)"
      ]
    },
    {
      "cell_type": "markdown",
      "metadata": {},
      "source": [
        "Next, create a raw displacement operator `\"U\"`. Each operator contains\r\n`input` and `output` pins that can be connected to various sources to\r\ninclude other operators. This allows operators to be \\\"chained\\\" to\r\nallow for highly efficient operations.\r\n\r\nTo print out the available inputs and outputs of the displacement\r\noperator:\r\n"
      ]
    },
    {
      "cell_type": "code",
      "execution_count": null,
      "metadata": {
        "collapsed": false
      },
      "outputs": [],
      "source": [
        "disp_op = dpf.Operator(\"U\")\nprint(disp_op.inputs)\nprint(disp_op.outputs)"
      ]
    },
    {
      "cell_type": "markdown",
      "metadata": {},
      "source": [
        "# Compute the maximum normalized displacement\r\n\r\nThis example demonstrate how to chain various operators. It connects the\r\ninput of the operator to the data sources contained within the `model`\r\nobject and then the maximum of the norm of the operator.\r\n"
      ]
    },
    {
      "cell_type": "code",
      "execution_count": null,
      "metadata": {
        "collapsed": false
      },
      "outputs": [],
      "source": [
        "# Connect to the data sources of the model.\ndisp_op.inputs.data_sources.connect(model.metadata.data_sources)\n\n# Create a fields container norm operator and connect it to the\n# displacement operator to chain the operators.\nnorm_op = dpf.Operator(\"norm_fc\")\nnorm_op.inputs.connect(disp_op.outputs)\n\n# Create a fields container min/max operator and connect it to the\n# output of the norm operator.\nmm_op = dpf.Operator(\"min_max_fc\")\nmm_op.inputs.connect(norm_op.outputs)\n\n# Finally, get the value of the maximum displacement.\nfield_max = mm_op.outputs.field_max()\nprint(field_max)\nprint(field_max.data)"
      ]
    },
    {
      "cell_type": "markdown",
      "metadata": {},
      "source": [
        "# Wrapped operators\r\n\r\nThe `model.results` property contains all the wrapped operators\r\navailable for a given result. This is provided out of convenience\r\nbecause all operators may not be available for a given result.\r\nConsequently, it is much easier to reference available operators by\r\nfirst running:\r\n"
      ]
    },
    {
      "cell_type": "code",
      "execution_count": null,
      "metadata": {
        "collapsed": false
      },
      "outputs": [],
      "source": [
        "print(model.results)"
      ]
    },
    {
      "cell_type": "markdown",
      "metadata": {},
      "source": [
        "Create the displacement operator directly from the `results` property:\r\n"
      ]
    },
    {
      "cell_type": "code",
      "execution_count": null,
      "metadata": {
        "collapsed": false
      },
      "outputs": [],
      "source": [
        "disp_op = model.results.displacement()\n\n# Out of convenience, the ``operators`` module contains available operators.\n# These operators can be chained to create a workflow in one line.\nfrom ansys.dpf.core import operators\n\nmm_op = operators.min_max.min_max_fc(operators.math.norm_fc(disp_op))\n\n# Finally, get the value of the maximum displacement.\nfield_max = mm_op.outputs.field_max()\nprint(field_max)\nprint(field_max.data)"
      ]
    },
    {
      "cell_type": "markdown",
      "metadata": {},
      "source": [
        "Plot the displacement:\r\n"
      ]
    },
    {
      "cell_type": "code",
      "execution_count": null,
      "metadata": {
        "collapsed": false
      },
      "outputs": [],
      "source": [
        "print(model.metadata.meshed_region.plot(disp_op.outputs.fields_container()))"
      ]
    },
    {
      "cell_type": "markdown",
      "metadata": {},
      "source": [
        "# Scripting operator syntax\r\n\r\nBecause DPF provides a scripting syntax, knowing an operator\\'s \\\"string\r\nname\\\" is not mandatory. While this example is similar to the above\r\nscript, it uses the DPF scripting syntax.\r\n"
      ]
    },
    {
      "cell_type": "markdown",
      "metadata": {},
      "source": [
        "Instead of using a `model` class instance, use a `DdataSources` object\r\ndirectly. The `DataSources` constructor input is a path.\r\n"
      ]
    },
    {
      "cell_type": "code",
      "execution_count": null,
      "metadata": {
        "collapsed": false
      },
      "outputs": [],
      "source": [
        "ds = dpf.DataSources(examples.find_static_rst())\nprint(examples.find_static_rst())"
      ]
    },
    {
      "cell_type": "markdown",
      "metadata": {},
      "source": [
        "Instantiate the operators and connect them:\r\n"
      ]
    },
    {
      "cell_type": "code",
      "execution_count": null,
      "metadata": {
        "collapsed": false
      },
      "outputs": [],
      "source": [
        "disp_op = dpf.operators.result.displacement()\ndisp_op.inputs.data_sources.connect(ds)\nnorm_op = dpf.operators.math.norm_fc()\nnorm_op.inputs.connect(disp_op.outputs)\nmm_op = dpf.operators.min_max.min_max_fc()\nmm_op.inputs.connect(norm_op.outputs)"
      ]
    },
    {
      "cell_type": "markdown",
      "metadata": {},
      "source": [
        "Get the output and print the result data:\r\n"
      ]
    },
    {
      "cell_type": "code",
      "execution_count": null,
      "metadata": {
        "collapsed": false
      },
      "outputs": [],
      "source": [
        "field_max = mm_op.outputs.field_max()\nprint(field_max.data)"
      ]
    }
  ],
  "metadata": {
    "kernelspec": {
      "display_name": "Python 3",
      "language": "python",
      "name": "python3"
    },
    "language_info": {
      "codemirror_mode": {
        "name": "ipython",
        "version": 3
      },
      "file_extension": ".py",
      "mimetype": "text/x-python",
      "name": "python",
      "nbconvert_exporter": "python",
      "pygments_lexer": "ipython3",
      "version": "3.8.10"
    }
  },
  "nbformat": 4,
  "nbformat_minor": 0
}