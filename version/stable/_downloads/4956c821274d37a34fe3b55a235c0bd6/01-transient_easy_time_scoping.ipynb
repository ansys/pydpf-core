{
  "cells": [
    {
      "cell_type": "code",
      "execution_count": null,
      "metadata": {
        "collapsed": false
      },
      "outputs": [],
      "source": [
        "%matplotlib inline"
      ]
    },
    {
      "cell_type": "markdown",
      "metadata": {},
      "source": [
        "# Choose a time scoping for a transient analysis {#ref_transient_easy_time_scoping}\r\n\r\nThis example shows how to use a model\\'s result to choose a time\r\nscoping.\r\n"
      ]
    },
    {
      "cell_type": "code",
      "execution_count": null,
      "metadata": {
        "collapsed": false
      },
      "outputs": [],
      "source": [
        "import matplotlib.pyplot as plt\n\nfrom ansys.dpf import core as dpf\nfrom ansys.dpf.core import examples\nfrom ansys.dpf.core import operators as ops"
      ]
    },
    {
      "cell_type": "markdown",
      "metadata": {},
      "source": [
        "Create the model and display the state of the result. This transient\r\nresult file contains several individual results, each at a different\r\ntimes.\r\n"
      ]
    },
    {
      "cell_type": "code",
      "execution_count": null,
      "metadata": {
        "collapsed": false
      },
      "outputs": [],
      "source": [
        "transient = examples.find_msup_transient()\nmodel = dpf.Model(transient)\nprint(model)"
      ]
    },
    {
      "cell_type": "markdown",
      "metadata": {},
      "source": [
        "# Obtain minimum and maximum displacements at all times\r\n\r\nCreate a displacement operator and set its time scoping request to the\r\nentire time frequency support:\r\n"
      ]
    },
    {
      "cell_type": "code",
      "execution_count": null,
      "metadata": {
        "collapsed": false
      },
      "outputs": [],
      "source": [
        "disp = model.results.displacement\ndisp_op = disp.on_all_time_freqs()\n\n# Chain the displacement operator with norm and min_max operators.\nmin_max_op = ops.min_max.min_max_fc(ops.math.norm_fc(disp_op))\n\nmin_disp = min_max_op.outputs.field_min()\nmax_disp = min_max_op.outputs.field_max()\nprint(max_disp.data)"
      ]
    },
    {
      "cell_type": "markdown",
      "metadata": {},
      "source": [
        "Plot the minimum and maximum displacements over time:\r\n"
      ]
    },
    {
      "cell_type": "code",
      "execution_count": null,
      "metadata": {
        "collapsed": false
      },
      "outputs": [],
      "source": [
        "tdata = model.metadata.time_freq_support.time_frequencies.data\nplt.plot(tdata, max_disp.data, \"r\", label=\"Max\")\nplt.plot(tdata, min_disp.data, \"b\", label=\"Min\")\nplt.xlabel(\"Time (s)\")\nplt.ylabel(\"Displacement (m)\")\nplt.legend()\nplt.show()"
      ]
    },
    {
      "cell_type": "markdown",
      "metadata": {},
      "source": [
        "# Use time extrapolation\r\n\r\nA local maximum can be seen on the plot between 0.05 and 0.075 seconds.\r\nDisplacement is evaluated every 0.0005 seconds in this range to draw a\r\nnicer plot on this range.\r\n"
      ]
    },
    {
      "cell_type": "code",
      "execution_count": null,
      "metadata": {
        "collapsed": false
      },
      "outputs": [],
      "source": [
        "offset = 0.0005\ntime_scoping = [0.05 + offset * i for i in range(0, int((0.08 - 0.05) / offset))]\nprint(time_scoping)"
      ]
    },
    {
      "cell_type": "markdown",
      "metadata": {},
      "source": [
        "Create a displacement operator and set its time scoping request:\r\n"
      ]
    },
    {
      "cell_type": "code",
      "execution_count": null,
      "metadata": {
        "collapsed": false
      },
      "outputs": [],
      "source": [
        "disp = model.results.displacement\ndisp_op = disp.on_time_scoping(time_scoping)()\n\n# Chain the displacement operator with norm and min_max operators.\nmin_max_op = ops.min_max.min_max_fc(ops.math.norm_fc(disp_op))\n\nmin_disp = min_max_op.outputs.field_min()\nmax_disp = min_max_op.outputs.field_max()\nprint(max_disp.data)"
      ]
    },
    {
      "cell_type": "markdown",
      "metadata": {},
      "source": [
        "Plot the minimum and maximum displacements over time:\r\n"
      ]
    },
    {
      "cell_type": "code",
      "execution_count": null,
      "metadata": {
        "collapsed": false
      },
      "outputs": [],
      "source": [
        "plt.plot(time_scoping, max_disp.data, \"rx\", label=\"Max\")\nplt.xlabel(\"Time (s)\")\nplt.ylabel(\"Displacement (m)\")\nplt.legend()\nplt.show()"
      ]
    }
  ],
  "metadata": {
    "kernelspec": {
      "display_name": "Python 3",
      "language": "python",
      "name": "python3"
    },
    "language_info": {
      "codemirror_mode": {
        "name": "ipython",
        "version": 3
      },
      "file_extension": ".py",
      "mimetype": "text/x-python",
      "name": "python",
      "nbconvert_exporter": "python",
      "pygments_lexer": "ipython3",
      "version": "3.8.10"
    }
  },
  "nbformat": 4,
  "nbformat_minor": 0
}