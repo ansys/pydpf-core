{
  "cells": [
    {
      "cell_type": "code",
      "execution_count": null,
      "metadata": {
        "collapsed": false
      },
      "outputs": [],
      "source": [
        "%matplotlib inline"
      ]
    },
    {
      "cell_type": "markdown",
      "metadata": {},
      "source": [
        "# Review of available animation commands {#animate_results}\r\n\r\nThis example lists the different commands available for creating\r\nanimations of transient results, shown with the arguments available.\r\n"
      ]
    },
    {
      "cell_type": "code",
      "execution_count": null,
      "metadata": {
        "collapsed": false
      },
      "outputs": [],
      "source": [
        "from ansys.dpf import core as dpf\nfrom ansys.dpf.core import examples\n\n\n# Load the model\nmodel = dpf.Model(examples.find_msup_transient())\nprint(model)\n\n# Use Scoping instances to adjust the region and the steps involved.\n# Create a scoping on all nodes\nmesh_scoping = dpf.mesh_scoping_factory.nodal_scoping(model.metadata.meshed_region.nodes.scoping)\n# Create a scoping on all time steps\ntime_scoping = dpf.time_freq_scoping_factory.scoping_on_all_time_freqs(model)\n\n# Instantiate operators of interest and scope them\ndisplacement_op = model.results.displacement\ndisplacement_op = displacement_op.on_time_scoping(time_scoping)\ndisplacement_op = displacement_op.on_mesh_scoping(mesh_scoping)\nstress_op = model.results.stress\nstress_op = stress_op.on_time_scoping(time_scoping)\nstress_op = stress_op.on_mesh_scoping(mesh_scoping)\n\n# Get the resulting fields container\ndisplacement_fields = displacement_op.eval()\nstress_fields = stress_op.eval()\n\n# Animate a fields container by going through the fields and plotting contours\n# of the norm or of the selected component.\n# Default behavior consists in:\n# - Using a constant and uniform scale factor of 1.0\n# - Showing the deformed geometry based on the fields themselves if they are nodal 3D vector fields.\n# displacement_fields.animate()\n# - Showing the static geometry if the fields are not nodal 3D vector fields.\n# stress_fields.animate()\n\n# One can deactivate by default animation by self using deform_by=False\n# displacement_fields.animate(deform_by=False)\n\n# Change the scale factor using a number/a list of numbers for a uniform constant/varying scaling.\n# displacement_fields.animate(deform_by=True, scale_factor=10.,\n#                             show_axes=True)\n# varying_scale_factor = [i for i in range(len(displacement_fields))]\n# displacement_fields.animate(deform_by=True, scale_factor=varying_scale_factor,\n#                             show_axes=True)\n\n# One can also format the frequency legend.\n# displacement_fields.select_component(0).animate(deform_by=displacement_fields, scale_factor=1.,\n#                                                 show_axes=True,\n#                                                 freq_kwargs={\"font_size\": 12,\n#                                                              \"fmt\": \".3\"})\n\n# The deform_by argument can be:\n# - a FieldsContainer of nodal 3D vectorial length fields\n# stress_fields.animate(deform_by=model.results.displacement.on_all_time_freqs.eval())\n# - a Result giving nodal 3D vectorial length fields\n# stress_fields.animate(deform_by=model.results.displacement.on_all_time_freqs())\n# - an Operator which outputs nodal 3D vectorial length fields\n# stress_fields.animate(deform_by=model.results.displacement.on_all_time_freqs)\n# It must evaluate to a FieldsContainer of same length as the one being animated.\n\n# Save the animation using \"save_as\" with a target path with the desired format as extension.\n# (accepts .gif, .avi or .mp4, see pyvista.Plotter.open_movie)\ncamera_pos = displacement_fields.animate(\n    scale_factor=10.0,\n    save_as=\"06-animate_results.gif\",\n    return_cpos=True,\n    show_axes=True,\n)\n\n# Can be made off_screen for batch animation creation.\n# This accepts as kwargs arguments taken by pyvista.Plotter.open_movie such as the frame-rate and\n# the quality.\n\n# One can also define a camera position to use, which can take a list of Camera descriptions:\n# Camera description must be one of the following:\n#\n# Iterable containing position, focal_point, and view up.  For example:\n# [(2.0, 5.0, 13.0), (0.0, 0.0, 0.0), (-0.7, -0.5, 0.3)]\n#\n# Iterable containing a view vector.  For example:\n# [-1.0, 2.0, -5.0]\n#\n# A string containing the plane orthogonal to the view direction.  For example:\n# 'xy'\n\n# import copy\n# camera_pos_list = []\n# init_pos = [(1.1710286191854873, 1.1276044794551632, 1.62102216127818),\n#             (0.05000000000000724, 0.006575860269683119, 0.4999935420927001),\n#             (0.0, 0.0, 1.0)]\n# camera_pos_list.append(init_pos)\n# for i in range(1, len(displacement_fields)):\n#     new_pos = copy.copy(camera_pos_list[i-1])\n#     new_pos[0] = (camera_pos_list[i-1][0][0],\n#                   camera_pos_list[i-1][0][1]-0.2,\n#                   camera_pos_list[i-1][0][2])\n#     camera_pos_list.append(new_pos)\n# displacement_fields.animate(scale_factor=10.,\n#                             save_as=\"displacements_2.gif\",\n#                             framerate=4,\n#                             quality=8,\n#                             cpos=camera_pos_list,\n#                             off_screen=True,\n#                             show_axes=True)"
      ]
    }
  ],
  "metadata": {
    "kernelspec": {
      "display_name": "Python 3",
      "language": "python",
      "name": "python3"
    },
    "language_info": {
      "codemirror_mode": {
        "name": "ipython",
        "version": 3
      },
      "file_extension": ".py",
      "mimetype": "text/x-python",
      "name": "python",
      "nbconvert_exporter": "python",
      "pygments_lexer": "ipython3",
      "version": "3.8.10"
    }
  },
  "nbformat": 4,
  "nbformat_minor": 0
}