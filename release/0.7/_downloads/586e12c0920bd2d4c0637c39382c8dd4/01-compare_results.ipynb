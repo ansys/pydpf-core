{
  "cells": [
    {
      "cell_type": "code",
      "execution_count": null,
      "metadata": {
        "collapsed": false
      },
      "outputs": [],
      "source": [
        "%matplotlib inline"
      ]
    },
    {
      "cell_type": "markdown",
      "metadata": {},
      "source": [
        "# Compare results using the plotter {#compare_results}\r\n\r\nThis example shows how to plot several mesh/result combinations on the\r\nsame plot so that you can compare results at different time steps.\r\n"
      ]
    },
    {
      "cell_type": "code",
      "execution_count": null,
      "metadata": {
        "collapsed": false
      },
      "outputs": [],
      "source": [
        "from ansys.dpf import core as dpf\nfrom ansys.dpf.core import examples\nfrom ansys.dpf.core.plotter import DpfPlotter"
      ]
    },
    {
      "cell_type": "markdown",
      "metadata": {},
      "source": [
        "# Compare two results\r\n\r\nUse the `ansys.dpf.core.plotter.DpfPlotter`{.interpreted-text\r\nrole=\"class\"} class to plot two different results over the same mesh and\r\ncompare them.\r\n"
      ]
    },
    {
      "cell_type": "code",
      "execution_count": null,
      "metadata": {
        "collapsed": false
      },
      "outputs": [],
      "source": [
        "# Here we create a Model and request its mesh\nmodel = dpf.Model(examples.find_msup_transient())\nmesh_set2 = model.metadata.meshed_region\n\n# Then we need to request the displacement for two different time steps\ndisplacement_operator = model.results.displacement()\ndisplacement_operator.inputs.time_scoping.connect([2, 15])\ndisplacement_set2 = displacement_operator.outputs.fields_container()[0]\ndisplacement_set15 = displacement_operator.outputs.fields_container()[1]"
      ]
    },
    {
      "cell_type": "markdown",
      "metadata": {},
      "source": [
        "Use the `ansys.dpf.core.plotter.DpfPlotter`{.interpreted-text\r\nrole=\"class\"} class to add plots for the first mesh and the first\r\nresult.\r\n"
      ]
    },
    {
      "cell_type": "code",
      "execution_count": null,
      "metadata": {
        "collapsed": false
      },
      "outputs": [],
      "source": [
        "pl = DpfPlotter()\npl.add_field(displacement_set2, mesh_set2)\n\n# Create a new mesh and translate it along the x axis.\nmesh_set15 = mesh_set2.deep_copy()\noverall_field = dpf.fields_factory.create_3d_vector_field(1, dpf.locations.overall)\noverall_field.append([0.2, 0.0, 0.0], 1)\ncoordinates_to_update = mesh_set15.nodes.coordinates_field\nadd_operator = dpf.operators.math.add(coordinates_to_update, overall_field)\ncoordinates_updated = add_operator.outputs.field()\ncoordinates_to_update.data = coordinates_updated.data\n\n# Use the :class:`ansys.dpf.core.plotter.DpfPlotter` class to add plots for the\n# second mesh and the second result.\npl.add_field(displacement_set15, mesh_set15)\npl.show_figure(show_axes=True)"
      ]
    }
  ],
  "metadata": {
    "kernelspec": {
      "display_name": "Python 3",
      "language": "python",
      "name": "python3"
    },
    "language_info": {
      "codemirror_mode": {
        "name": "ipython",
        "version": 3
      },
      "file_extension": ".py",
      "mimetype": "text/x-python",
      "name": "python",
      "nbconvert_exporter": "python",
      "pygments_lexer": "ipython3",
      "version": "3.8.10"
    }
  },
  "nbformat": 4,
  "nbformat_minor": 0
}