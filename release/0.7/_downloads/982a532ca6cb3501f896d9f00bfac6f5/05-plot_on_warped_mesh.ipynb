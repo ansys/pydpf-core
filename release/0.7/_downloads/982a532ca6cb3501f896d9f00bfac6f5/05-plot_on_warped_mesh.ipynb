{
  "cells": [
    {
      "cell_type": "code",
      "execution_count": null,
      "metadata": {
        "collapsed": false
      },
      "outputs": [],
      "source": [
        "%matplotlib inline"
      ]
    },
    {
      "cell_type": "markdown",
      "metadata": {},
      "source": [
        "# Warp the mesh by a field for plotting {#plot_on_warped_mesh}\r\n\r\nThis example shows how to warp the mesh by a vector field, enabling to\r\nplot on the deformed geometry.\r\n\r\n::: note\r\n::: title\r\nNote\r\n:::\r\n\r\nThis example requires the Premium ServerContext. For more information,\r\nsee `user_guide_server_context`{.interpreted-text role=\"ref\"}.\r\n:::\r\n"
      ]
    },
    {
      "cell_type": "code",
      "execution_count": null,
      "metadata": {
        "collapsed": false
      },
      "outputs": [],
      "source": [
        "from ansys.dpf import core as dpf\nfrom ansys.dpf.core import examples\n\n\ndpf.set_default_server_context(dpf.AvailableServerContexts.premium)\n\n# Get and show the initial model\nmodel = dpf.Model(examples.find_multishells_rst())\nprint(model)\nmodel.plot(title=\"Model\", text=\"Model.plot()\")\n\n# Define a scaling factor and a step for the field to be used for warping.\nscale_factor = 0.001\nstep = 1\n\n# Define a result to deform by\ndisp_result = model.results.displacement.on_time_scoping([step])\ndisp_op = disp_result()\n# Get the displacement field\ndisp_fc = disp_result.eval()\ndisp_field = disp_fc[0]\n\n# Get the mesh and plot it as a deformed geometry using a Result, an Operator,\n# a Field or a FieldsContainer\nmesh = model.metadata.meshed_region\nmesh.plot(\n    deform_by=disp_result,\n    scale_factor=scale_factor,\n    title=\"MeshedRegion\",\n    text=\"MeshedRegion.plot()\",\n)\n# mesh.plot(deform_by=disp_op, scale_factor=scale_factor,\n#           title='MeshedRegion', text='MeshedRegion.plot()')\n# mesh.plot(deform_by=disp_fc, scale_factor=scale_factor,\n#           title='MeshedRegion', text='MeshedRegion.plot()')\n# mesh.plot(deform_by=disp_field, scale_factor=scale_factor,\n#           title='MeshedRegion', text='MeshedRegion.plot()')\n\n# Plot the displacement field on the deformed geometry directly\ndisp_field.plot(\n    deform_by=disp_result, scale_factor=scale_factor, title=\"Field\", text=\"Field.plot()\"\n)\n# or by applying it to the mesh\nmesh.plot(\n    disp_field,\n    deform_by=disp_result,\n    scale_factor=scale_factor,\n    title=\"MeshedRegion\",\n    text=\"MeshedRegion.plot(disp_field)\",\n)\n\n# Split the model by material and plot the deformed MeshesContainer obtained\nsplit_mesh_op = dpf.operators.mesh.split_mesh(mesh=mesh, property=\"mat\")\nmeshes_cont = split_mesh_op.get_output(0, dpf.types.meshes_container)\nmeshes_cont.plot(\n    deform_by=disp_result,\n    scale_factor=scale_factor,\n    title=\"MeshesContainer\",\n    text=\"MeshesContainer.plot()\",\n)\n\n# Create a corresponding FieldsContainer and plot it on the deformed MeshesContainer\ndisp_op = dpf.operators.result.displacement(\n    data_sources=model.metadata.data_sources, mesh=meshes_cont\n)\ndisp_fc = disp_op.outputs.fields_container()\nmeshes_cont.plot(\n    disp_fc,\n    deform_by=disp_result,\n    scale_factor=scale_factor,\n    title=\"MeshesContainer\",\n    text=\"MeshesContainer.plot(disp_fc)\",\n)"
      ]
    }
  ],
  "metadata": {
    "kernelspec": {
      "display_name": "Python 3",
      "language": "python",
      "name": "python3"
    },
    "language_info": {
      "codemirror_mode": {
        "name": "ipython",
        "version": 3
      },
      "file_extension": ".py",
      "mimetype": "text/x-python",
      "name": "python",
      "nbconvert_exporter": "python",
      "pygments_lexer": "ipython3",
      "version": "3.8.10"
    }
  },
  "nbformat": 4,
  "nbformat_minor": 0
}