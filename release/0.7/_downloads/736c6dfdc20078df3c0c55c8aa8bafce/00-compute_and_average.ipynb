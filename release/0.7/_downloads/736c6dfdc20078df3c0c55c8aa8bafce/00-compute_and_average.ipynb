{
  "cells": [
    {
      "cell_type": "code",
      "execution_count": null,
      "metadata": {
        "collapsed": false
      },
      "outputs": [],
      "source": [
        "%matplotlib inline"
      ]
    },
    {
      "cell_type": "markdown",
      "metadata": {},
      "source": [
        "# Averaging order {#ref_compute_and_average}\r\n\r\nThis example compares two different workflows that accomplish the same\r\ntask to show how the order of the operators can change the end result.\r\n\r\n-   The first workflow extracts the stress field of a crankshaft under\r\n    load from a result file, computes the equivalent (von Mises)\r\n    stresses, and then applies an averaging operator to transpose them\r\n    from `ElementalNodal` to `Nodal` positions.\r\n-   The second workflow first transposes the stresses that come from the\r\n    result file to a `Nodal` position and then calculates the von Mises\r\n    stresses.\r\n\r\nThe following images shows these workflows:\r\n\r\n::: graphviz\r\n\r\ndigraph foo {\r\n\r\n:   graph \\[pad=\\\"0\\\", nodesep=\\\"0.3\\\", ranksep=\\\"0.3\\\"\\] node\r\n    \\[shape=box, style=filled, fillcolor=\\\"#ffcc0\\\", margin=\\\"0\\\"\\];\r\n    rankdir=LR; splines=line; node \\[fixedsize=true,width=2.5\\]\r\n\r\n    stress01 \\[label=\\\"stress\\\"\\]; stress02 \\[label=\\\"stress\\\"\\]; vm01\r\n    \\[label=\\\"von_mises_eqv\\\"\\]; vm02 \\[label=\\\"von_mises_eqv\\\"\\]; avg01\r\n    \\[label=\\\"elemental_nodal_to_nodal\\\", width=2.5\\]; avg02\r\n    \\[label=\\\"elemental_nodal_to_nodal\\\", width=2.5\\]; subgraph\r\n    cluster_1 { ds01 \\[label=\\\"data_src\\\", shape=box, style=filled,\r\n    fillcolor=cadetblue2\\];\r\n\r\n    > ds01 -\\> stress01 \\[style=dashed\\]; stress01 -\\> vm01; vm01 -\\>\r\n    > avg01\r\n    >\r\n    > label=\\\"Compute Von Mises then average stresses\\\"; style=filled;\r\n    > fillcolor=lightgrey;\r\n\r\n    } subgraph cluster_2 { ds02 \\[label=\\\"data_src\\\", shape=box,\r\n    style=filled, fillcolor=cadetblue2\\];\r\n\r\n    > ds02 -\\> stress02 \\[style=dashed\\]; stress02 -\\> avg02; avg02 -\\>\r\n    > vm02\r\n    >\r\n    > label=\\\"Average stresses then compute Von Mises\\\"; style=filled;\r\n    > fillcolor=lightgrey;\r\n\r\n    }\r\n\r\n}\r\n:::\r\n"
      ]
    },
    {
      "cell_type": "markdown",
      "metadata": {},
      "source": [
        "Import the necessary modules.\r\n"
      ]
    },
    {
      "cell_type": "code",
      "execution_count": null,
      "metadata": {
        "collapsed": false
      },
      "outputs": [],
      "source": [
        "from ansys.dpf import core as dpf\nfrom ansys.dpf.core import examples"
      ]
    },
    {
      "cell_type": "markdown",
      "metadata": {},
      "source": [
        "Load the simulation results from an RST file.\r\n"
      ]
    },
    {
      "cell_type": "code",
      "execution_count": null,
      "metadata": {
        "collapsed": false
      },
      "outputs": [],
      "source": [
        "analysis = examples.download_crankshaft()"
      ]
    },
    {
      "cell_type": "markdown",
      "metadata": {},
      "source": [
        "# Create the first workflow\r\n\r\nThe first workflow applies the averaging operator after computing the\r\nequivalent stresses. To create it, define a function that computes the\r\nvon Mises stresses in the crankshaft and then apply the averaging\r\noperator.\r\n"
      ]
    },
    {
      "cell_type": "code",
      "execution_count": null,
      "metadata": {
        "collapsed": false
      },
      "outputs": [],
      "source": [
        "def compute_von_mises_then_average(analysis):\n\n    # Create a model from the results of the simulation and retrieve its mesh\n    model = dpf.Model(analysis)\n    mesh = model.metadata.meshed_region\n\n    # Apply the stress operator to obtain the stresses in the body\n    stress_op = dpf.operators.result.stress()\n    stress_op.inputs.connect(model)\n    stresses = stress_op.outputs.fields_container()\n\n    # Compute the von Mises stresses\n    vm_op = dpf.operators.invariant.von_mises_eqv()\n    vm_op.inputs.field.connect(stresses)\n    von_mises = vm_op.outputs.field()\n\n    # Apply the averaging operator to the von Mises stresses\n    avg_op = dpf.operators.averaging.elemental_nodal_to_nodal()\n    avg_op.inputs.connect(von_mises)\n    avg_von_mises = avg_op.outputs.field()\n\n    # Find the maximum value of the von Mises stress field\n    min_max = dpf.operators.min_max.min_max()\n    min_max.inputs.field.connect(avg_von_mises)\n    max_val = min_max.outputs.field_max()\n\n    mesh.plot(avg_von_mises)\n\n    return max_val.data[0]"
      ]
    },
    {
      "cell_type": "markdown",
      "metadata": {},
      "source": [
        "# Create the second workflow\r\n\r\nThe second workflow computes the equivalent stresses after applying the\r\naveraging operator. To create this workflow, first apply the averaging\r\noperator to the stress field in the crankshaft and then calculate the\r\nvon Mises stresses, which are already located on a `Nodal` position.\r\n"
      ]
    },
    {
      "cell_type": "code",
      "execution_count": null,
      "metadata": {
        "collapsed": false
      },
      "outputs": [],
      "source": [
        "def average_then_compute_von_mises(analysis):\n\n    # Creating the model from the results of the simulation\n    model = dpf.Model(analysis)\n    mesh = model.metadata.meshed_region\n\n    # Retrieving the stresses\n    stress_op = dpf.operators.result.stress()\n    stress_op.inputs.connect(model)\n    stresses = stress_op.outputs.fields_container()\n\n    # Averaging the stresses to a Nodal position\n    avg_op = dpf.operators.averaging.elemental_nodal_to_nodal()\n    avg_op.inputs.connect(stresses)\n    avg_stresses = avg_op.outputs.field()\n\n    # Computing the Von Mises stresses\n    vm_op = dpf.operators.invariant.von_mises_eqv()\n    vm_op.inputs.field.connect(avg_stresses)\n    avg_von_mises = vm_op.outputs.field()\n\n    # Finding the maximum Von Mises stress value\n    min_max = dpf.operators.min_max.min_max()\n    min_max.inputs.field.connect(avg_von_mises)\n    max_val = min_max.outputs.field_max()\n\n    mesh.plot(avg_von_mises)\n\n    return max_val.data[0]"
      ]
    },
    {
      "cell_type": "markdown",
      "metadata": {},
      "source": [
        "# Plot the results\r\n\r\nPlot both von Mises stress fields side by side to compare them. - The\r\nfirst plot displays the results when the equivalent stresses are\r\ncalculated first. - The second plot shows the results when the averaging\r\nis done first.\r\n"
      ]
    },
    {
      "cell_type": "code",
      "execution_count": null,
      "metadata": {
        "collapsed": false
      },
      "outputs": [],
      "source": [
        "max1 = compute_von_mises_then_average(analysis)\nmax2 = average_then_compute_von_mises(analysis)"
      ]
    },
    {
      "cell_type": "code",
      "execution_count": null,
      "metadata": {
        "collapsed": false
      },
      "outputs": [],
      "source": [
        "diff = (max1 - max2) / max2 * 100\n\nprint(\"Max stress when Von Mises is computed first: {:.2f} Pa\".format(max1))\nprint(\"Max stress when the stress averaging is done first: {:.2f} Pa\".format(max2))\nprint(\n    \"The maximum Von Mises stress value is {:.2f}% higher when \\\nthe averaging is done after the calculations.\".format(\n        diff\n    )\n)"
      ]
    },
    {
      "cell_type": "markdown",
      "metadata": {},
      "source": [
        "Even though both workflows apply the same steps to the same initial\r\ndata, their final results are different because of the order in which\r\nthe operators are applied.\r\n"
      ]
    }
  ],
  "metadata": {
    "kernelspec": {
      "display_name": "Python 3",
      "language": "python",
      "name": "python3"
    },
    "language_info": {
      "codemirror_mode": {
        "name": "ipython",
        "version": 3
      },
      "file_extension": ".py",
      "mimetype": "text/x-python",
      "name": "python",
      "nbconvert_exporter": "python",
      "pygments_lexer": "ipython3",
      "version": "3.8.10"
    }
  },
  "nbformat": 4,
  "nbformat_minor": 0
}