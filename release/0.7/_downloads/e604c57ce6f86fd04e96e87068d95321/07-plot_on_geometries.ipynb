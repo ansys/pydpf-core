{
  "cells": [
    {
      "cell_type": "code",
      "execution_count": null,
      "metadata": {
        "collapsed": false
      },
      "outputs": [],
      "source": [
        "%matplotlib inline"
      ]
    },
    {
      "cell_type": "markdown",
      "metadata": {},
      "source": [
        "# Plot on geometry elements {#plot_on_geometries}\r\n\r\nThis example shows how to plot a certain field in different geometric\r\nobjects such as points, lines and planes.\r\n\r\n::: note\r\n::: title\r\nNote\r\n:::\r\n\r\nThis example requires the Premium ServerContext. For more information,\r\nsee `user_guide_server_context`{.interpreted-text role=\"ref\"}.\r\n:::\r\n"
      ]
    },
    {
      "cell_type": "markdown",
      "metadata": {},
      "source": [
        "# Imports and load model\r\n\r\nImport modules and set context as Premium.\r\n"
      ]
    },
    {
      "cell_type": "code",
      "execution_count": null,
      "metadata": {
        "collapsed": false
      },
      "outputs": [],
      "source": [
        "import numpy as np\nimport matplotlib.pyplot as plt\n\nfrom ansys.dpf import core as dpf\nfrom ansys.dpf.core import examples\nfrom ansys.dpf.core import operators as ops\nfrom ansys.dpf.core.geometry import Line, Plane, Points\nfrom ansys.dpf.core.plotter import DpfPlotter\nfrom ansys.dpf.core.fields_factory import field_from_array\n\ndpf.set_default_server_context(dpf.AvailableServerContexts.premium)"
      ]
    },
    {
      "cell_type": "markdown",
      "metadata": {},
      "source": [
        "Load model from examples and print information:\r\n"
      ]
    },
    {
      "cell_type": "code",
      "execution_count": null,
      "metadata": {
        "collapsed": false
      },
      "outputs": [],
      "source": [
        "model = dpf.Model(examples.find_static_rst())\nprint(model)"
      ]
    },
    {
      "cell_type": "markdown",
      "metadata": {},
      "source": [
        "Load model\\'s mesh and define camera position (obtained with\r\n`cpos=pl.show_figure(return_cpos=True)`). This will be used later for\r\nplotting.\r\n"
      ]
    },
    {
      "cell_type": "code",
      "execution_count": null,
      "metadata": {
        "collapsed": false
      },
      "outputs": [],
      "source": [
        "mesh = model.metadata.meshed_region\ncpos = [\n    (0.07635352356975698, 0.1200500294271993, 0.041072502929096165),\n    (0.015, 0.045, 0.015),\n    (-0.16771051558419411, -0.1983722658245161, 0.9656715938216944),\n]"
      ]
    },
    {
      "cell_type": "markdown",
      "metadata": {},
      "source": [
        "# Create points, line and plane objects\r\n\r\nCreate 8 points in the corners and one in the middle:\r\n"
      ]
    },
    {
      "cell_type": "code",
      "execution_count": null,
      "metadata": {
        "collapsed": false
      },
      "outputs": [],
      "source": [
        "points = Points(\n    [\n        [0.0, 0.03, 0.0],\n        [0.0, 0.03, 0.03],\n        [0.0, 0.06, 0.00],\n        [0.0, 0.06, 0.03],\n        [0.03, 0.03, 0.0],\n        [0.03, 0.03, 0.03],\n        [0.03, 0.06, 0.00],\n        [0.03, 0.06, 0.03],\n        [0.015, 0.045, 0.015],\n    ]\n)"
      ]
    },
    {
      "cell_type": "markdown",
      "metadata": {},
      "source": [
        "Show points together with the mesh\r\n"
      ]
    },
    {
      "cell_type": "code",
      "execution_count": null,
      "metadata": {
        "collapsed": false
      },
      "outputs": [],
      "source": [
        "points.plot(mesh, cpos=cpos)"
      ]
    },
    {
      "cell_type": "markdown",
      "metadata": {},
      "source": [
        "Create line passing through the geometry\\'s diagonal:\r\n"
      ]
    },
    {
      "cell_type": "code",
      "execution_count": null,
      "metadata": {
        "collapsed": false
      },
      "outputs": [],
      "source": [
        "line = Line([[0.03, 0.03, 0.05], [0.0, 0.06, 0.0]], n_points=50)"
      ]
    },
    {
      "cell_type": "markdown",
      "metadata": {},
      "source": [
        "Show line with the 3D mesh\r\n"
      ]
    },
    {
      "cell_type": "code",
      "execution_count": null,
      "metadata": {
        "collapsed": false
      },
      "outputs": [],
      "source": [
        "line.plot(mesh, cpos=cpos)"
      ]
    },
    {
      "cell_type": "markdown",
      "metadata": {},
      "source": [
        "Create vertical plane passing through the mid point:\r\n"
      ]
    },
    {
      "cell_type": "code",
      "execution_count": null,
      "metadata": {
        "collapsed": false
      },
      "outputs": [],
      "source": [
        "plane = Plane(\n    [0.015, 0.045, 0.015],\n    [1, 1, 0],\n    width=0.03,\n    height=0.03,\n    n_cells_x=10,\n    n_cells_y=10,\n)"
      ]
    },
    {
      "cell_type": "markdown",
      "metadata": {},
      "source": [
        "Show plane with the 3D mesh\r\n"
      ]
    },
    {
      "cell_type": "code",
      "execution_count": null,
      "metadata": {
        "collapsed": false
      },
      "outputs": [],
      "source": [
        "plane.plot(mesh, cpos=cpos)"
      ]
    },
    {
      "cell_type": "markdown",
      "metadata": {},
      "source": [
        "# Map displacement field to geometry objects\r\n\r\nGet displacement field from model:\r\n"
      ]
    },
    {
      "cell_type": "code",
      "execution_count": null,
      "metadata": {
        "collapsed": false
      },
      "outputs": [],
      "source": [
        "disp = model.results.displacement"
      ]
    },
    {
      "cell_type": "markdown",
      "metadata": {},
      "source": [
        "Map displacement to points in Points object:\r\n"
      ]
    },
    {
      "cell_type": "code",
      "execution_count": null,
      "metadata": {
        "collapsed": false
      },
      "outputs": [],
      "source": [
        "mapping_operator = ops.mapping.on_coordinates(\n    fields_container=disp,\n    coordinates=field_from_array(points.coordinates.data),\n    create_support=True,\n    mesh=mesh,\n)\nfields_mapped = mapping_operator.outputs.fields_container()\nfield_points = fields_mapped[0]"
      ]
    },
    {
      "cell_type": "markdown",
      "metadata": {},
      "source": [
        "Map displacement to points in Line object:\r\n"
      ]
    },
    {
      "cell_type": "code",
      "execution_count": null,
      "metadata": {
        "collapsed": false
      },
      "outputs": [],
      "source": [
        "mapping_operator = ops.mapping.on_coordinates(\n    fields_container=disp,\n    coordinates=line.mesh.nodes.coordinates_field,\n    create_support=True,\n    mesh=mesh,\n)\nfields_mapped = mapping_operator.outputs.fields_container()\nfield_line = fields_mapped[0]"
      ]
    },
    {
      "cell_type": "markdown",
      "metadata": {},
      "source": [
        "Map displacement to points in Plane object:\r\n"
      ]
    },
    {
      "cell_type": "code",
      "execution_count": null,
      "metadata": {
        "collapsed": false
      },
      "outputs": [],
      "source": [
        "mapping_operator = ops.mapping.on_coordinates(\n    fields_container=disp,\n    coordinates=plane.mesh.nodes.coordinates_field,\n    create_support=True,\n    mesh=mesh,\n)\nfields_mapped = mapping_operator.outputs.fields_container()\nfield_plane = fields_mapped[0]"
      ]
    },
    {
      "cell_type": "markdown",
      "metadata": {},
      "source": [
        "# Plotting displacement field on the geometry objects\r\n\r\n3D plot of Points and display mesh:\r\n"
      ]
    },
    {
      "cell_type": "code",
      "execution_count": null,
      "metadata": {
        "collapsed": false
      },
      "outputs": [],
      "source": [
        "pl = DpfPlotter()\npl.add_field(field_points, render_points_as_spheres=True, point_size=10)\npl.add_mesh(mesh, style=\"surface\", show_edges=True, color=\"w\", opacity=0.3)\npl.show_figure(show_axes=True, cpos=cpos)"
      ]
    },
    {
      "cell_type": "markdown",
      "metadata": {},
      "source": [
        "3D plot of Line and mesh. Note that the line is only displayed if some\r\npoints are found inside the mesh:\r\n"
      ]
    },
    {
      "cell_type": "code",
      "execution_count": null,
      "metadata": {
        "collapsed": false
      },
      "outputs": [],
      "source": [
        "pl = DpfPlotter()\nif not len(field_line) == 0:\n    pl.add_field(field_line, line.mesh, line_width=5)\npl.add_mesh(mesh, style=\"surface\", show_edges=True, color=\"w\", opacity=0.3)\npl.show_figure(show_axes=True, cpos=cpos)"
      ]
    },
    {
      "cell_type": "markdown",
      "metadata": {},
      "source": [
        "Plot Plane and display mesh in background. Note that the plane is only\r\ndisplayed if some points are found inside the mesh:\r\n"
      ]
    },
    {
      "cell_type": "code",
      "execution_count": null,
      "metadata": {
        "collapsed": false
      },
      "outputs": [],
      "source": [
        "pl = DpfPlotter()\nif not len(field_plane) == 0:\n    pl.add_field(field_plane, plane.mesh, show_edges=False)\npl.add_mesh(mesh, style=\"surface\", show_edges=True, color=\"w\", opacity=0.3)\npl.show_figure(show_axes=True, cpos=cpos)"
      ]
    },
    {
      "cell_type": "markdown",
      "metadata": {},
      "source": [
        "2D plot (graph) of Line (line length vs displacement field):\r\n"
      ]
    },
    {
      "cell_type": "code",
      "execution_count": null,
      "metadata": {
        "collapsed": false
      },
      "outputs": [],
      "source": [
        "norm_disp = [np.linalg.norm(field_line.data[i]) for i in range(len(field_line.data))]\npath = line.path[field_line.scoping.ids - 1]\nplt.plot(path, norm_disp)\nplt.xlabel(\"Line length\")\nplt.ylabel(\"Displacement norm field\")\nplt.show()"
      ]
    }
  ],
  "metadata": {
    "kernelspec": {
      "display_name": "Python 3",
      "language": "python",
      "name": "python3"
    },
    "language_info": {
      "codemirror_mode": {
        "name": "ipython",
        "version": 3
      },
      "file_extension": ".py",
      "mimetype": "text/x-python",
      "name": "python",
      "nbconvert_exporter": "python",
      "pygments_lexer": "ipython3",
      "version": "3.8.10"
    }
  },
  "nbformat": 4,
  "nbformat_minor": 0
}