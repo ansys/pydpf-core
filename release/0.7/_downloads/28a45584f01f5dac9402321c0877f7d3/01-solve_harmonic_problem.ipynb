{
  "cells": [
    {
      "cell_type": "code",
      "execution_count": null,
      "metadata": {
        "collapsed": false
      },
      "outputs": [],
      "source": [
        "%matplotlib inline"
      ]
    },
    {
      "cell_type": "markdown",
      "metadata": {},
      "source": [
        "# Solve harmonic problem (with damping) using matrix inverse {#ref_solve_modal_problem_advanced}\r\n\r\nThis example shows how to create a harmonic (over frequencies) fields\r\ncontainer for an analysis with damping. This fields container is then\r\nused to solve the problem Ma+Dv+Ku=F by inverting the matrix\r\n\r\n::: note\r\n::: title\r\nNote\r\n:::\r\n\r\nThis example requires the Premium ServerContext. For more information,\r\nsee `user_guide_server_context`{.interpreted-text role=\"ref\"}.\r\n:::\r\n"
      ]
    },
    {
      "cell_type": "code",
      "execution_count": null,
      "metadata": {
        "collapsed": false
      },
      "outputs": [],
      "source": [
        "import math\n\nfrom ansys.dpf import core as dpf\nfrom ansys.dpf.core import operators as ops\n\n\ndpf.set_default_server_context(dpf.AvailableServerContexts.premium)"
      ]
    },
    {
      "cell_type": "markdown",
      "metadata": {},
      "source": [
        "Create 2D (x,y) matrix fields for inertia, damping, and stiffness.\r\n"
      ]
    },
    {
      "cell_type": "code",
      "execution_count": null,
      "metadata": {
        "collapsed": false
      },
      "outputs": [],
      "source": [
        "freq = [25, 50, 100, 200, 400]\ndim = 2  # dimension of matrix\n\nfM0 = dpf.fields_factory.create_matrix_field(1, dim, dim)\nfM0.append([0.0, 1.0, 2.0, 3.0], 1)\nfK0 = dpf.fields_factory.create_matrix_field(1, dim, dim)\nfK0.append([4.0, 8.0, 0.0, 1.0], 1)\nfC0 = dpf.fields_factory.create_matrix_field(1, dim, dim)\nfC0.append([7.0, 5.0, 9.0, 1.0], 1)"
      ]
    },
    {
      "cell_type": "markdown",
      "metadata": {},
      "source": [
        "Create a fields container for real and imaginary parts for each\r\nfrequency.\r\n"
      ]
    },
    {
      "cell_type": "code",
      "execution_count": null,
      "metadata": {
        "collapsed": false
      },
      "outputs": [],
      "source": [
        "reals = {}\nims = {}\nfor k, f in enumerate(freq):\n    omega = 2.0 * math.pi * f\n    omega2 = omega**2\n    real = fK0 + fM0 * omega2\n    imag = fC0 * omega\n    reals[f] = real.outputs.field()\n    ims[f] = imag.outputs.field()\n\ncplx_fc = dpf.fields_container_factory.over_time_freq_complex_fields_container(\n    reals, ims, time_freq_unit=\"Hz\"\n)"
      ]
    },
    {
      "cell_type": "markdown",
      "metadata": {},
      "source": [
        "Use DPF operators to inverse the matrix and then compute the amplitude\r\nand the phase.\r\n"
      ]
    },
    {
      "cell_type": "code",
      "execution_count": null,
      "metadata": {
        "collapsed": false
      },
      "outputs": [],
      "source": [
        "inverse = ops.math.matrix_inverse(cplx_fc)\ncomponent = ops.logic.component_selector_fc(inverse, 0)\namp = ops.math.amplitude_fc(component)\nphase = ops.math.phase_fc(component)"
      ]
    },
    {
      "cell_type": "markdown",
      "metadata": {},
      "source": [
        "Get the phase and amplitude and then plot it over frequencies.\r\n"
      ]
    },
    {
      "cell_type": "code",
      "execution_count": null,
      "metadata": {
        "collapsed": false
      },
      "outputs": [],
      "source": [
        "amp_over_frequency = amp.outputs.fields_container()\nphase_over_frequency = phase.outputs.fields_container()\ntime_freq_support = amp_over_frequency.time_freq_support\n\namp_array = []\nphase_array = []\nfor f in amp_over_frequency:\n    amp_array.append(f.data)\n\nfor f in phase_over_frequency:\n    phase_array.append(f.data * 180.0 / math.pi)\n\nimport matplotlib.pyplot as plt\n\nplt.figure()\nplt.plot(time_freq_support.time_frequencies.data, amp_array, \"r\", label=\"amplitude\")\nplt.xlabel(\"Frequency (Hz)\")\nplt.ylabel(\"Displacement ampliude (m)\")\nplt.legend()\nplt.show()\n\nplt.figure()\nplt.plot(time_freq_support.time_frequencies.data, phase_array, \"r\", label=\"phase\")\nplt.xlabel(\"Frequency (Hz)\")\nplt.ylabel(\"Displacement phase (deg)\")\nplt.legend()\nplt.show()"
      ]
    }
  ],
  "metadata": {
    "kernelspec": {
      "display_name": "Python 3",
      "language": "python",
      "name": "python3"
    },
    "language_info": {
      "codemirror_mode": {
        "name": "ipython",
        "version": 3
      },
      "file_extension": ".py",
      "mimetype": "text/x-python",
      "name": "python",
      "nbconvert_exporter": "python",
      "pygments_lexer": "ipython3",
      "version": "3.8.10"
    }
  },
  "nbformat": 4,
  "nbformat_minor": 0
}