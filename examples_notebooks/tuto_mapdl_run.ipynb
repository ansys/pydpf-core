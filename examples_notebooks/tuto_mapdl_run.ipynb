{
 "cells": [
  {
   "cell_type": "markdown",
   "metadata": {},
   "source": [
    "# In this tutorial the operator \"mapdl::run\" is used to generate an rst file and then, results are evaluated on this rst"
   ]
  },
  {
   "cell_type": "markdown",
   "metadata": {},
   "source": [
    "## lauch the server"
   ]
  },
  {
   "cell_type": "code",
   "execution_count": 1,
   "metadata": {},
   "outputs": [
    {
     "name": "stdout",
     "output_type": "stream",
     "text": [
      "server started at --address 10.110.2.47 --port 50052\n"
     ]
    }
   ],
   "source": [
    "from ansys import dpf\n",
    "dpf.start_local_server()"
   ]
  },
  {
   "cell_type": "markdown",
   "metadata": {},
   "source": [
    "## use \"mapdl::run\""
   ]
  },
  {
   "cell_type": "code",
   "execution_count": 2,
   "metadata": {},
   "outputs": [],
   "source": [
    "import os\n",
    "\n",
    "if 'AWP_UNIT_TEST_FILES' in os.environ:\n",
    "    unit_test_files = os.environ['AWP_UNIT_TEST_FILES']\n",
    "    \n",
    "\n",
    "test_file_path = os.path.join(unit_test_files, 'DataProcessing', 'rst_operators','presol','ShellTri','ds.dat')\n",
    "data_sources = dpf.DataSources(test_file_path)"
   ]
  },
  {
   "cell_type": "code",
   "execution_count": 3,
   "metadata": {},
   "outputs": [],
   "source": [
    "mapld_run =dpf.Operator(\"mapdl::run\")\n",
    "#print(mapld_run)"
   ]
  },
  {
   "cell_type": "code",
   "execution_count": 4,
   "metadata": {},
   "outputs": [],
   "source": [
    "mapld_run.inputs.data_sources(data_sources)\n",
    "mapld_run.inputs.mapdl_exe_path(r'C:\\\\Program Files\\\\ANSYS Inc\\\\v212\\\\ansys\\\\bin\\\\winx64\\\\ansys2021R2.exe')\n",
    "rst_data_sources = mapld_run.outputs.data_sources()"
   ]
  },
  {
   "cell_type": "markdown",
   "metadata": {},
   "source": [
    "## read diplacement, stress and strain"
   ]
  },
  {
   "cell_type": "code",
   "execution_count": 5,
   "metadata": {
    "scrolled": true
   },
   "outputs": [],
   "source": [
    "model = dpf.Model(rst_data_sources)\n",
    "time_freq_support =model.time_freq_support\n",
    "#print(time_freq_support)"
   ]
  },
  {
   "cell_type": "code",
   "execution_count": 6,
   "metadata": {},
   "outputs": [],
   "source": [
    "assert time_freq_support.n_sets==1"
   ]
  },
  {
   "cell_type": "code",
   "execution_count": 7,
   "metadata": {},
   "outputs": [],
   "source": [
    "mesh =model.meshed_region\n",
    "#print(mesh)"
   ]
  },
  {
   "cell_type": "code",
   "execution_count": 8,
   "metadata": {},
   "outputs": [],
   "source": [
    "els =mesh.elements\n",
    "el = mesh.get_element(elementid=1)"
   ]
  },
  {
   "cell_type": "code",
   "execution_count": 9,
   "metadata": {},
   "outputs": [],
   "source": [
    "assert len(els.ids)==20"
   ]
  },
  {
   "cell_type": "code",
   "execution_count": 10,
   "metadata": {},
   "outputs": [],
   "source": [
    "assert el.nodes_count()==3\n",
    "assert el.get_nodes()[0].coordinates ==[0.02006079886, 0.03, 0.0]\n",
    "assert el.get_nodes()[2].coordinates ==[0.0168688973, 0.01999996456, 0.0]"
   ]
  },
  {
   "cell_type": "markdown",
   "metadata": {},
   "source": [
    "### stress nodal"
   ]
  },
  {
   "cell_type": "code",
   "execution_count": 11,
   "metadata": {},
   "outputs": [],
   "source": [
    "s = model.operator(\"S\")\n",
    "s.inputs.requested_location(\"Nodal\")\n",
    "fcS = s.outputs.fields_container()"
   ]
  },
  {
   "cell_type": "code",
   "execution_count": 12,
   "metadata": {},
   "outputs": [],
   "source": [
    "min_max= dpf.Operator(\"min_max\")\n",
    "min_max.inputs.field.connect(fcS[0])"
   ]
  },
  {
   "cell_type": "code",
   "execution_count": 13,
   "metadata": {},
   "outputs": [],
   "source": [
    "min = min_max.outputs.field_min()\n",
    "max =  min_max.outputs.field_max()"
   ]
  },
  {
   "cell_type": "code",
   "execution_count": 15,
   "metadata": {},
   "outputs": [
    {
     "name": "stdout",
     "output_type": "stream",
     "text": [
      "[-4072515.75, -1221754.75, 0.0, -139656.62885799454, -50449.75721486132, -73258.63245792943]\n",
      "[4072515.75, 1221754.75, 0.0, 139656.62885799454, 57722.45703125, 334181.59375000006]\n"
     ]
    }
   ],
   "source": [
    "print(min.data)\n",
    "print(max.data)"
   ]
  },
  {
   "cell_type": "code",
   "execution_count": 16,
   "metadata": {},
   "outputs": [],
   "source": [
    "assert min.data ==[-4072515.75, -1221754.75, 0.0, -139656.62885799454, -50449.75721486132, -73258.63245792943]\n",
    "\n",
    "assert max.data ==[4072515.75, 1221754.75, 0.0, 139656.62885799454, 57722.45703125, 334181.59375000006]"
   ]
  },
  {
   "cell_type": "code",
   "execution_count": 17,
   "metadata": {},
   "outputs": [],
   "source": [
    "assert len(fcS[0].scoping.ids)==20"
   ]
  },
  {
   "cell_type": "markdown",
   "metadata": {},
   "source": [
    "### stress elemental nodal"
   ]
  },
  {
   "cell_type": "code",
   "execution_count": 18,
   "metadata": {},
   "outputs": [],
   "source": [
    "s = model.operator(\"S\")\n",
    "fcS = s.outputs.fields_container()\n",
    "min_max= dpf.Operator(\"min_max\")\n",
    "min_max.inputs.field.connect(fcS[0])\n",
    "min = min_max.outputs.field_min()\n",
    "max =  min_max.outputs.field_max()"
   ]
  },
  {
   "cell_type": "code",
   "execution_count": 19,
   "metadata": {},
   "outputs": [],
   "source": [
    "assert min.data ==[-4072515.75, -1221754.75, 0.0, -235844.71875000038, -133905.73258208387, -156673.58243716997]\n",
    "\n",
    "assert max.data ==[4072515.75, 1221754.75, 0.0, 235844.71875000038, 57722.45703125, 334181.59375000006]"
   ]
  },
  {
   "cell_type": "markdown",
   "metadata": {},
   "source": [
    "### strain"
   ]
  },
  {
   "cell_type": "code",
   "execution_count": 20,
   "metadata": {},
   "outputs": [],
   "source": [
    "s = model.operator(\"EPEL\")\n",
    "fcS = s.outputs.fields_container()\n",
    "min_max= dpf.Operator(\"min_max\")\n",
    "min_max.inputs.field.connect(fcS[0])\n",
    "min = min_max.outputs.field_min()\n",
    "max =  min_max.outputs.field_max()"
   ]
  },
  {
   "cell_type": "code",
   "execution_count": 21,
   "metadata": {},
   "outputs": [],
   "source": [
    "assert min.data ==[-1.852994682849385e-05, -3.1440763450518716e-06, -7.94140578364022e-06, -3.0659814456157666e-06, -0.0, 0.0]\n",
    "assert max.data ==[1.852994682849385e-05, 3.1440763450518716e-06, 7.94140578364022e-06, 3.0659814456157666e-06, -0.0, 0.0]"
   ]
  },
  {
   "cell_type": "markdown",
   "metadata": {},
   "source": [
    "### displacement "
   ]
  },
  {
   "cell_type": "code",
   "execution_count": 22,
   "metadata": {},
   "outputs": [],
   "source": [
    "u = model.operator(\"U\")\n",
    "fcU = u.outputs.fields_container()"
   ]
  },
  {
   "cell_type": "code",
   "execution_count": 23,
   "metadata": {},
   "outputs": [],
   "source": [
    "min_max_over_time= dpf.Operator(\"min_max_fc\")\n",
    "min_max_over_time.inputs.fields_container.connect(fcU)\n",
    "min = min_max_over_time.outputs.field_min()\n",
    "max =  min_max_over_time.outputs.field_max()"
   ]
  },
  {
   "cell_type": "code",
   "execution_count": 24,
   "metadata": {},
   "outputs": [],
   "source": [
    "assert min.data ==[0.0, 0.0, -3.6387417975137725e-05]\n",
    "\n",
    "assert max.data ==[0.0, 0.0, 0.0]"
   ]
  },
  {
   "cell_type": "markdown",
   "metadata": {},
   "source": [
    "## delete the temp folder"
   ]
  },
  {
   "cell_type": "code",
   "execution_count": 25,
   "metadata": {},
   "outputs": [],
   "source": [
    "path =os.path.join(rst_data_sources.result_files[0])\n",
    "import shutil\n",
    "shutil.rmtree(os.path.dirname(path))"
   ]
  },
  {
   "cell_type": "code",
   "execution_count": null,
   "metadata": {},
   "outputs": [],
   "source": []
  }
 ],
 "metadata": {
  "kernelspec": {
   "display_name": "Python 3",
   "language": "python",
   "name": "python3"
  },
  "language_info": {
   "codemirror_mode": {
    "name": "ipython",
    "version": 3
   },
   "file_extension": ".py",
   "mimetype": "text/x-python",
   "name": "python",
   "nbconvert_exporter": "python",
   "pygments_lexer": "ipython3",
   "version": "3.7.9"
  },
  "widgets": {
   "application/vnd.jupyter.widget-state+json": {
    "state": {},
    "version_major": 2,
    "version_minor": 0
   }
  }
 },
 "nbformat": 4,
 "nbformat_minor": 4
}
