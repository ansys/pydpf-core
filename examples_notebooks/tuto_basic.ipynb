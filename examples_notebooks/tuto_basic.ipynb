{
 "cells": [
  {
   "cell_type": "markdown",
   "metadata": {},
   "source": [
    "# The goal of this tutorial is use simple post processing on a rst file and export it in vtk for visualization"
   ]
  },
  {
   "cell_type": "markdown",
   "metadata": {},
   "source": [
    "To use it, add PYTHONPATH to the generated python code from Protocols/packages and ANSYS_PATH to your ansys install path\n",
    "\n",
    "1st step : load the necessary module of dpf for grpc, launch the server and create the doc"
   ]
  },
  {
   "cell_type": "code",
   "execution_count": 1,
   "metadata": {},
   "outputs": [],
   "source": [
    "from ansys import dpf\n",
    "from ansys.dpf.server import start_local_server"
   ]
  },
  {
   "cell_type": "code",
   "execution_count": 2,
   "metadata": {},
   "outputs": [
    {
     "name": "stdout",
     "output_type": "stream",
     "text": [
      "server started at --address 10.110.2.47 --port 50052\n"
     ]
    }
   ],
   "source": [
    "start_local_server()"
   ]
  },
  {
   "cell_type": "code",
   "execution_count": 3,
   "metadata": {},
   "outputs": [],
   "source": [
    "doc = dpf.Operator(\"html_doc\")\n",
    "doc.inputs.output_path(r'c:/temp/doc.html')\n",
    "doc.run()"
   ]
  },
  {
   "cell_type": "markdown",
   "metadata": {},
   "source": [
    "2nd step : create a model with the path of the result file"
   ]
  },
  {
   "cell_type": "code",
   "execution_count": 4,
   "metadata": {},
   "outputs": [],
   "source": [
    "path = r'c:/temp/cp55.rst'\n",
    "model = dpf.Model(path)"
   ]
  },
  {
   "cell_type": "markdown",
   "metadata": {},
   "source": [
    "3rd step : get the time freq support"
   ]
  },
  {
   "cell_type": "code",
   "execution_count": 5,
   "metadata": {},
   "outputs": [
    {
     "name": "stdout",
     "output_type": "stream",
     "text": [
      "Time/Frequency Info:\n",
      "\tNumber of sets: 35\n",
      "\n",
      "With complex values\n",
      " \n",
      " Cumulative      Time (s)       Loadstep     Substep   \n",
      "     1             0.0             1            1      \n",
      "     2             0.02            1            2      \n",
      "     3             0.04            1            3      \n",
      "     4             0.06            1            4      \n",
      "     5             0.08            1            5      \n",
      "     6             0.1             1            6      \n",
      "     7             0.12            1            7      \n",
      "     8             0.14            1            8      \n",
      "     9             0.16            1            9      \n",
      "     10            0.18            1            10     \n",
      "     11            0.2             1            11     \n",
      "     12           0.219            1            12     \n",
      "     13           0.239            1            13     \n",
      "     14           0.259            1            14     \n",
      "     15           0.279            1            15     \n",
      "     16           0.299            1            16     \n",
      "     17           0.319            1            17     \n",
      "     18           0.339            1            18     \n",
      "     19           0.359            1            19     \n",
      "     20           0.379            1            20     \n",
      "     21           0.399            1            21     \n",
      "     22           0.418            1            22     \n",
      "     23           0.438            1            23     \n",
      "     24           0.458            1            24     \n",
      "     25           0.478            1            25     \n",
      "     26           0.498            1            26     \n",
      "     27           0.518            1            27     \n",
      "     28           0.538            1            28     \n",
      "     29           0.557            1            29     \n",
      "     30           0.577            1            30     \n",
      "     31           0.597            1            31     \n",
      "     32           0.617            1            32     \n",
      "     33           0.637            1            33     \n",
      "     34           0.657            1            34     \n",
      "     35           0.677            1            35     \n",
      "\n"
     ]
    }
   ],
   "source": [
    "print(model.metadata.time_freq_support)"
   ]
  },
  {
   "cell_type": "markdown",
   "metadata": {},
   "source": [
    "4th step: get the mesh"
   ]
  },
  {
   "cell_type": "code",
   "execution_count": 7,
   "metadata": {},
   "outputs": [
    {
     "name": "stdout",
     "output_type": "stream",
     "text": [
      "Meshed Region\n",
      "\t3820 nodes\n",
      "\t789 elements\n",
      "\tUnit: m \n",
      "\n"
     ]
    }
   ],
   "source": [
    "print(model.metadata.meshed_region)"
   ]
  },
  {
   "cell_type": "code",
   "execution_count": 9,
   "metadata": {},
   "outputs": [
    {
     "data": {
      "text/plain": [
       "array([[ 6.42717166e-03,  1.08088993e-02,  1.47709405e+00],\n",
       "       [-1.97611503e-03,  1.83819564e-02,  1.47709405e+00],\n",
       "       [-1.25121885e-02,  1.40332062e-02,  1.47709405e+00],\n",
       "       ...,\n",
       "       [ 2.25827245e-19, -7.52757482e-19,  0.00000000e+00],\n",
       "       [ 2.25827245e-19,  7.52757482e-19,  1.50000000e+00],\n",
       "       [ 0.00000000e+00,  1.83697020e-18,  4.99999985e-01]])"
      ]
     },
     "execution_count": 9,
     "metadata": {},
     "output_type": "execute_result"
    }
   ],
   "source": [
    "model.metadata.meshed_region.nodes.coordinates_field.data"
   ]
  },
  {
   "cell_type": "markdown",
   "metadata": {},
   "source": [
    "5th step: look for available results in the file"
   ]
  },
  {
   "cell_type": "code",
   "execution_count": 10,
   "metadata": {},
   "outputs": [
    {
     "name": "stdout",
     "output_type": "stream",
     "text": [
      "Static analysis\n",
      "Unit system: Metric (m, kg, N, s, V, A)\n",
      "Physics Type: Mecanic\n",
      "Available results:\n",
      "     -  displacement                  \n",
      "     -  force                         \n",
      "     -  element_nodal_forces          \n",
      "     -  stress                        \n",
      "     -  volume                        \n",
      "     -  energy_stiffness_matrix       \n",
      "     -  hourglass_energy              \n",
      "     -  thermal_dissipation_energy    \n",
      "     -  kinetic_energy                \n",
      "     -  co_energy                     \n",
      "     -  incremental_energy            \n",
      "     -  strain                        \n",
      "     -  thermal_strains               \n",
      "     -  thermal_strains_eqv           \n",
      "     -  swelling_strains              \n",
      "     -  temperature                   \n",
      "\n"
     ]
    }
   ],
   "source": [
    "print(model.metadata.result_info)"
   ]
  },
  {
   "cell_type": "code",
   "execution_count": 10,
   "metadata": {},
   "outputs": [],
   "source": [
    "s = model.results.stress()"
   ]
  },
  {
   "cell_type": "code",
   "execution_count": 11,
   "metadata": {},
   "outputs": [
    {
     "name": "stdout",
     "output_type": "stream",
     "text": [
      "DPF \"S\" operator\n",
      "    description: Load the appropriate operator based on the data sources and read/compute element nodal component stresses. Regarding the requested location and the input mesh scoping, the result location can be Nodal/ElementalNodal/Elemental.\n",
      "    Available inputs:\n",
      "     o   \u001b[1mbool_rotate_to_global\u001b[0m (optional), expects types:\n",
      "            -bool            \n",
      "         help: if true the field is roated to global coordinate system (default true)\n",
      "                             \n",
      "     o   \u001b[1mdata_sources\u001b[0m, expects types:\n",
      "            -DataSources     \n",
      "         help: if the stream is null then we need to get the file path from the data sources\n",
      "                             \n",
      "     o   \u001b[1mmesh\u001b[0m (optional), expects types:\n",
      "            -MeshedRegion    \n",
      "            -MeshesContainer \n",
      "                             \n",
      "     o   \u001b[1mmesh_scoping\u001b[0m (optional), expects types:\n",
      "            -ScopingsContainer\n",
      "            -Scoping         \n",
      "         help: mesh entities scoping, unordered_map<int, int> id to index (optional) (index is optional, to be set if a user wants the results at a given order)\n",
      "                             \n",
      "     o   \u001b[1mtime_scoping\u001b[0m (optional), expects types:\n",
      "            -Scoping         \n",
      "            -int             \n",
      "            -list            \n",
      "            -float           \n",
      "            -Field           \n",
      "            -Vector<Double>  \n",
      "                             \n",
      "     o   \u001b[1mstreams_container\u001b[0m (optional), expects types:\n",
      "            -StreamsContainer\n",
      "         help: streams (result file container) (optional)\n",
      "                             \n",
      "     o   \u001b[1mfields_container\u001b[0m (optional), expects types:\n",
      "            -FieldsContainer \n",
      "         help: Fields container already allocated modified inplace\n",
      "                             \n",
      "     o   \u001b[1mread_cyclic\u001b[0m (optional), expects types:\n",
      "            -Enum Dataprocessing::Ecyclicreading\n",
      "            -int             \n",
      "         help: if 0 cyclic symmetry is ignored, if 1 cyclic sector is read, if 2 cyclic expansion is done, if 3 cyclic expansion is done and stages are merged (default is 1)\n",
      "                             \n",
      "     o   \u001b[1mrequested_location\u001b[0m (optional), expects types:\n",
      "            -str             \n",
      "                             \n",
      "\n",
      "    Available outputs:\n",
      "     o   fields_container    \n",
      "\n",
      "\n"
     ]
    }
   ],
   "source": [
    "print(s)"
   ]
  },
  {
   "cell_type": "code",
   "execution_count": 14,
   "metadata": {},
   "outputs": [],
   "source": [
    "scop = dpf.Scoping()"
   ]
  },
  {
   "cell_type": "code",
   "execution_count": 15,
   "metadata": {},
   "outputs": [],
   "source": [
    "scop.ids =[1,2]\n",
    "scop.location = dpf.locations.elemental"
   ]
  },
  {
   "cell_type": "code",
   "execution_count": 17,
   "metadata": {},
   "outputs": [],
   "source": [
    "s.inputs.mesh_scoping.connect(scop)\n",
    "s.inputs.time_scoping.connect([7,8])"
   ]
  },
  {
   "cell_type": "code",
   "execution_count": 18,
   "metadata": {},
   "outputs": [],
   "source": [
    "stress_fc = s.outputs.fields_container()"
   ]
  },
  {
   "cell_type": "code",
   "execution_count": 19,
   "metadata": {},
   "outputs": [
    {
     "data": {
      "text/plain": [
       "2"
      ]
     },
     "execution_count": 19,
     "metadata": {},
     "output_type": "execute_result"
    }
   ],
   "source": [
    "len(stress_fc)"
   ]
  },
  {
   "cell_type": "code",
   "execution_count": 20,
   "metadata": {},
   "outputs": [
    {
     "data": {
      "text/plain": [
       "array([[ 8.67326546e+00,  1.46283984e+00, -2.64233459e+02,\n",
       "         2.13418865e+00,  1.30060291e+03, -3.36917847e+02],\n",
       "       [-9.21893597e+00, -6.82619238e+00, -1.62837036e+02,\n",
       "         2.91970462e-01, -9.30154053e+02, -1.14185583e+03],\n",
       "       [-1.03809357e+01, -9.33482933e+00, -1.25819511e+02,\n",
       "        -1.02825367e+00, -1.41818701e+03,  1.43534500e+02],\n",
       "       [ 2.20658565e+00,  2.68167353e+00, -2.33509155e+02,\n",
       "        -1.51050639e+00,  8.16950012e+02,  8.81713501e+02],\n",
       "       [-8.26666489e+01, -8.17535858e+01, -2.00859802e+02,\n",
       "         1.58695436e+00,  1.30064819e+03, -3.47917694e+02],\n",
       "       [-5.41989670e+01, -5.50163956e+01, -1.29520218e+02,\n",
       "         1.30539462e-01, -9.40676331e+02, -1.13931042e+03],\n",
       "       [-4.35029259e+01, -4.26908073e+01, -1.01353661e+02,\n",
       "        -3.43237638e-01, -1.41557544e+03,  1.48301758e+02],\n",
       "       [-7.52744904e+01, -7.26176376e+01, -1.80308762e+02,\n",
       "         1.11087358e+00,  8.25649475e+02,  8.72830994e+02]])"
      ]
     },
     "execution_count": 20,
     "metadata": {},
     "output_type": "execute_result"
    }
   ],
   "source": [
    "stress_fc[0].data"
   ]
  },
  {
   "cell_type": "code",
   "execution_count": 23,
   "metadata": {},
   "outputs": [
    {
     "name": "stdout",
     "output_type": "stream",
     "text": [
      "DPF Element 2\n",
      "\tIndex: 771\n",
      "\tNumber of nodes: 20\n",
      "\n"
     ]
    }
   ],
   "source": [
    "print(model.metadata.meshed_region.elements.element_by_id(2))"
   ]
  },
  {
   "cell_type": "code",
   "execution_count": 24,
   "metadata": {},
   "outputs": [
    {
     "data": {
      "text/plain": [
       "[2]"
      ]
     },
     "execution_count": 24,
     "metadata": {},
     "output_type": "execute_result"
    }
   ],
   "source": [
    "stress_fc[0].scoping.ids"
   ]
  },
  {
   "cell_type": "code",
   "execution_count": 25,
   "metadata": {},
   "outputs": [
    {
     "data": {
      "text/plain": [
       "array([[ 1.07772875e+01, -5.31366229e-01, -2.96828094e+02,\n",
       "        -3.43447542e+00,  1.18951484e+04, -9.11835480e+01],\n",
       "       [-1.11937542e+01, -1.09402399e+01, -2.29911377e+02,\n",
       "         3.62882757e+00, -5.01466943e+03, -1.22094746e+04],\n",
       "       [-4.77265406e+00, -9.70265484e+00, -2.06001389e+02,\n",
       "        -3.30055952e+00, -1.21351133e+04, -2.49043164e+03],\n",
       "       [-3.15461397e+00,  6.01372123e-01, -3.26227783e+02,\n",
       "         2.07464170e+00,  4.90472461e+03,  8.97695410e+03],\n",
       "       [-9.04347610e+01, -9.17243805e+01, -2.23136581e+02,\n",
       "         1.84533429e+00,  1.19100225e+04, -8.91186295e+01],\n",
       "       [-7.77996902e+01, -7.90817032e+01, -1.86855515e+02,\n",
       "         1.89830393e-01, -5.04941602e+03, -1.22139189e+04],\n",
       "       [-6.69534378e+01, -6.63915329e+01, -1.58125336e+02,\n",
       "         2.04095408e-01, -1.21422568e+04, -2.49792114e+03],\n",
       "       [-1.05943024e+02, -1.05290764e+02, -2.55826233e+02,\n",
       "         1.88631606e+00,  4.92909766e+03,  8.97044727e+03]])"
      ]
     },
     "execution_count": 25,
     "metadata": {},
     "output_type": "execute_result"
    }
   ],
   "source": [
    "stress_fc[1].data"
   ]
  },
  {
   "cell_type": "code",
   "execution_count": 26,
   "metadata": {},
   "outputs": [],
   "source": [
    "eqv = dpf.Operator(\"eqv_fc\")"
   ]
  },
  {
   "cell_type": "code",
   "execution_count": 27,
   "metadata": {},
   "outputs": [],
   "source": [
    "eqv.inputs.fields_container.connect(s.outputs.fields_container)"
   ]
  },
  {
   "cell_type": "code",
   "execution_count": 28,
   "metadata": {},
   "outputs": [],
   "source": [
    "seqv = eqv.outputs.fields_container()"
   ]
  },
  {
   "cell_type": "code",
   "execution_count": 32,
   "metadata": {},
   "outputs": [
    {
     "name": "stdout",
     "output_type": "stream",
     "text": [
      "DPF stress_0.119975s Field\n",
      "\tLocation: ElementalNodal\n",
      "\tUnit: Pa\n",
      "\t1 id(s)\n",
      "\tdata size: 8\n",
      "\tshape: 8\n",
      "\n"
     ]
    }
   ],
   "source": [
    "print(seqv[0])"
   ]
  },
  {
   "cell_type": "code",
   "execution_count": 33,
   "metadata": {},
   "outputs": [],
   "source": [
    "vtk = dpf.Operator(\"vtk_export\")"
   ]
  },
  {
   "cell_type": "code",
   "execution_count": 36,
   "metadata": {},
   "outputs": [],
   "source": [
    "vtk.inputs.file_path(r'c:/temp/file.vtk')\n",
    "s.inputs.requested_location(\"Nodal\")\n",
    "scop.ids =[2,162]\n",
    "s.inputs.mesh_scoping(scop)\n",
    "vtk.inputs.fields1(eqv.outputs.fields_container)\n",
    "vtk.run()"
   ]
  },
  {
   "cell_type": "code",
   "execution_count": 37,
   "metadata": {},
   "outputs": [],
   "source": [
    "import matplotlib"
   ]
  },
  {
   "cell_type": "markdown",
   "metadata": {},
   "source": [
    "## Using displacement"
   ]
  },
  {
   "cell_type": "markdown",
   "metadata": {},
   "source": [
    "4 th step : create the operator reader of displacement and set it's time scoping request as the entire time freq support\n",
    "connect it to a norm and to a min max and export the norm in vtk"
   ]
  },
  {
   "cell_type": "code",
   "execution_count": 12,
   "metadata": {},
   "outputs": [],
   "source": [
    "displacements = model.operator(\"U\")\n",
    "timeids = list(range(1,model.metadata.time_freq_support.n_sets+1))"
   ]
  },
  {
   "cell_type": "code",
   "execution_count": 13,
   "metadata": {},
   "outputs": [],
   "source": [
    "displacements.inputs.time_scoping(timeids)"
   ]
  },
  {
   "cell_type": "code",
   "execution_count": 14,
   "metadata": {},
   "outputs": [],
   "source": [
    "norm = dpf.Operator(\"norm_fc\")\n",
    "norm.inputs.fields_container.connect(displacements.outputs)"
   ]
  },
  {
   "cell_type": "code",
   "execution_count": 15,
   "metadata": {},
   "outputs": [],
   "source": [
    "min_max = dpf.Operator(\"min_max_fc\")\n",
    "min_max.inputs.fields_container.connect(norm.outputs)\n",
    "fmin = min_max.outputs.field_min()\n",
    "fmax = min_max.outputs.field_max()"
   ]
  },
  {
   "cell_type": "code",
   "execution_count": 16,
   "metadata": {},
   "outputs": [
    {
     "data": {
      "text/plain": [
       "array([0., 0., 0., 0., 0., 0., 0., 0., 0., 0., 0., 0., 0., 0., 0., 0., 0.,\n",
       "       0., 0., 0., 0., 0., 0., 0., 0., 0., 0., 0., 0., 0., 0., 0., 0., 0.,\n",
       "       0.])"
      ]
     },
     "execution_count": 16,
     "metadata": {},
     "output_type": "execute_result"
    }
   ],
   "source": [
    "fmin.data"
   ]
  },
  {
   "cell_type": "code",
   "execution_count": 17,
   "metadata": {},
   "outputs": [
    {
     "data": {
      "text/plain": [
       "array([0.        , 0.00062674, 0.0025094 , 0.00564185, 0.00999992,\n",
       "       0.01552154, 0.02207871, 0.02944459, 0.03725894, 0.04499722,\n",
       "       0.05195353, 0.05703912, 0.05982844, 0.05897617, 0.05358419,\n",
       "       0.04310436, 0.02759782, 0.00798431, 0.0137951 , 0.03478255,\n",
       "       0.05130461, 0.05942392, 0.05715204, 0.04272116, 0.01787116,\n",
       "       0.01244994, 0.04062977, 0.05913066, 0.06042056, 0.0418829 ,\n",
       "       0.01201879, 0.03526532, 0.05950852, 0.06077103, 0.03733769])"
      ]
     },
     "execution_count": 17,
     "metadata": {},
     "output_type": "execute_result"
    }
   ],
   "source": [
    "fmax.data"
   ]
  },
  {
   "cell_type": "code",
   "execution_count": 24,
   "metadata": {
    "scrolled": true
   },
   "outputs": [],
   "source": [
    "vtk = dpf.Operator(\"vtk_export\")\n",
    "vtk.inputs.mesh(model.metadata.meshed_region)\n",
    "vtk.inputs.fields1(norm.outputs)\n",
    "vtk.inputs.file_path(r'c:/temp/file.vtk')\n",
    "vtk.run()"
   ]
  },
  {
   "cell_type": "code",
   "execution_count": null,
   "metadata": {},
   "outputs": [],
   "source": []
  }
 ],
 "metadata": {
  "kernelspec": {
   "display_name": "Python 3",
   "language": "python",
   "name": "python3"
  },
  "language_info": {
   "codemirror_mode": {
    "name": "ipython",
    "version": 3
   },
   "file_extension": ".py",
   "mimetype": "text/x-python",
   "name": "python",
   "nbconvert_exporter": "python",
   "pygments_lexer": "ipython3",
   "version": "3.8.5"
  },
  "widgets": {
   "application/vnd.jupyter.widget-state+json": {
    "state": {},
    "version_major": 2,
    "version_minor": 0
   }
  }
 },
 "nbformat": 4,
 "nbformat_minor": 4
}
