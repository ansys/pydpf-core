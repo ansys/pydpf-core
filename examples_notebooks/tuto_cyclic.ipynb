{
 "cells": [
  {
   "cell_type": "markdown",
   "metadata": {},
   "source": [
    "# Tutorial cyclic expansion"
   ]
  },
  {
   "cell_type": "markdown",
   "metadata": {},
   "source": [
    "### load python module"
   ]
  },
  {
   "cell_type": "code",
   "execution_count": 1,
   "metadata": {},
   "outputs": [
    {
     "name": "stdout",
     "output_type": "stream",
     "text": [
      "server started at --address 10.110.2.47 --port 50052\n"
     ]
    }
   ],
   "source": [
    "from ansys import dpf\n",
    "from ansys.dpf.server import start_local_server\n",
    "\n",
    "start_local_server()"
   ]
  },
  {
   "cell_type": "markdown",
   "metadata": {},
   "source": [
    "***"
   ]
  },
  {
   "cell_type": "markdown",
   "metadata": {},
   "source": [
    "## Model creation"
   ]
  },
  {
   "cell_type": "code",
   "execution_count": 2,
   "metadata": {},
   "outputs": [],
   "source": [
    "rst_file_name = r'\\\\lyocbellot\\Shared\\files_scripting_python\\cyclic_JD\\file.rst'\n",
    "mapping_file_name = r'\\\\lyocbellot\\Shared\\files_scripting_python\\cyclic_JD\\ds.dat'\n",
    "\n",
    "data_sources = dpf.DataSources(rst_file_name)\n",
    "data_sources.add_file_path(mapping_file_name)\n",
    "\n",
    "model = dpf.Model(data_sources)\n"
   ]
  },
  {
   "cell_type": "code",
   "execution_count": 3,
   "metadata": {
    "scrolled": true
   },
   "outputs": [
    {
     "name": "stdout",
     "output_type": "stream",
     "text": [
      "Time/Frequency Info:\n",
      "\tNumber of sets: 60\n",
      "\n",
      "With complex values\n",
      " \n",
      " Cumulative   Frequency (Hz)    Loadstep     Substep     Harmonic index  \n",
      "     1             0.0             1            1              0         \n",
      "     2           0.00331           1            2              0         \n",
      "     3           4.56e+03          1            3              0         \n",
      "     4           1.02e+04          1            4              0         \n",
      "     5           1.19e+04          1            5              0         \n",
      "     6           1.54e+04          1            6              0         \n",
      "     7           1.56e+04          1            7              0         \n",
      "     8           1.64e+04          1            8              0         \n",
      "     9           1.92e+04          1            9              0         \n",
      "     10          2.18e+04          1            10             0         \n",
      "     11          2.26e+04          1            11             0         \n",
      "     12          2.4e+04           1            12             0         \n",
      "     13            0.0             2            1              1         \n",
      "     14            0.0             2            2              1         \n",
      "     15          0.00257           2            3              1         \n",
      "     16          0.00301           2            4              1         \n",
      "     17          5.8e+03           2            5              1         \n",
      "     18          5.8e+03           2            6              1         \n",
      "     19          1.06e+04          2            7              1         \n",
      "     20          1.06e+04          2            8              1         \n",
      "     21          1.18e+04          2            9              1         \n",
      "     22          1.18e+04          2            10             1         \n",
      "     23          1.31e+04          2            11             1         \n",
      "     24          1.31e+04          2            12             1         \n",
      "     25          1.95e+03          3            1              2         \n",
      "     26          1.95e+03          3            2              2         \n",
      "     27          6.12e+03          3            3              2         \n",
      "     28          6.12e+03          3            4              2         \n",
      "     29          8.26e+03          3            5              2         \n",
      "     30          8.26e+03          3            6              2         \n",
      "     31          1.04e+04          3            7              2         \n",
      "     32          1.04e+04          3            8              2         \n",
      "     33          1.44e+04          3            9              2         \n",
      "     34          1.44e+04          3            10             2         \n",
      "     35          1.52e+04          3            11             2         \n",
      "     36          1.52e+04          3            12             2         \n",
      "     37          3.77e+03          4            1              3         \n",
      "     38          3.77e+03          4            2              3         \n",
      "     39          7.87e+03          4            3              3         \n",
      "     40          7.87e+03          4            4              3         \n",
      "     41          1.13e+04          4            5              3         \n",
      "     42          1.13e+04          4            6              3         \n",
      "     43          1.32e+04          4            7              3         \n",
      "     44          1.32e+04          4            8              3         \n",
      "     45          1.69e+04          4            9              3         \n",
      "     46          1.69e+04          4            10             3         \n",
      "     47          1.85e+04          4            11             3         \n",
      "     48          1.85e+04          4            12             3         \n",
      "     49          5.63e+03          5            1              4         \n",
      "     50          5.71e+03          5            2              4         \n",
      "     51          1.48e+04          5            3              4         \n",
      "     52          1.53e+04          5            4              4         \n",
      "     53          1.78e+04          5            5              4         \n",
      "     54          1.82e+04          5            6              4         \n",
      "     55          2.13e+04          5            7              4         \n",
      "     56          2.13e+04          5            8              4         \n",
      "     57          2.23e+04          5            9              4         \n",
      "     58          2.23e+04          5            10             4         \n",
      "     59          2.36e+04          5            11             4         \n",
      "     60          2.36e+04          5            12             4         \n",
      "\n"
     ]
    }
   ],
   "source": [
    "print(model.time_freq_support)"
   ]
  },
  {
   "cell_type": "code",
   "execution_count": 4,
   "metadata": {},
   "outputs": [
    {
     "name": "stdout",
     "output_type": "stream",
     "text": [
      "Meshed Region\n",
      "\t80959 nodes\n",
      "\t54620 elements\n",
      "\tUnit: m \n",
      "\n"
     ]
    }
   ],
   "source": [
    "print(model.meshed_region)"
   ]
  },
  {
   "cell_type": "markdown",
   "metadata": {},
   "source": [
    "## Base and Dupplicate sectors"
   ]
  },
  {
   "cell_type": "code",
   "execution_count": 5,
   "metadata": {},
   "outputs": [],
   "source": [
    "u = model.operator(\"U\")"
   ]
  },
  {
   "cell_type": "markdown",
   "metadata": {},
   "source": [
    "### export to vtk"
   ]
  },
  {
   "cell_type": "code",
   "execution_count": 6,
   "metadata": {},
   "outputs": [],
   "source": [
    "vtk_export =model.operator(\"vtk_export\")\n",
    "vtk_export.inputs.connect(r'c:/temp/cyclic/u_sector.vtk')\n",
    "vtk_export.inputs.connect(u.outputs)\n",
    "vtk_export.inputs.connect(model.meshed_region)\n",
    "vtk_export.eval()"
   ]
  },
  {
   "cell_type": "markdown",
   "metadata": {},
   "source": [
    "# U "
   ]
  },
  {
   "cell_type": "markdown",
   "metadata": {},
   "source": [
    "## create the displacement expansion operator"
   ]
  },
  {
   "cell_type": "code",
   "execution_count": 7,
   "metadata": {
    "scrolled": true
   },
   "outputs": [],
   "source": [
    "u = model.operator(\"mapdl::rst::U_cyclic\")"
   ]
  },
  {
   "cell_type": "markdown",
   "metadata": {},
   "source": [
    "### export to vtk"
   ]
  },
  {
   "cell_type": "code",
   "execution_count": 9,
   "metadata": {},
   "outputs": [],
   "source": [
    "vtk_export =model.operator(\"vtk_export\")\n",
    "vtk_export.inputs.connect(r'c:/temp/cyclic/u.vtk')\n",
    "vtk_export.inputs.connect(u.outputs)\n",
    "vtk_export.eval()"
   ]
  },
  {
   "cell_type": "markdown",
   "metadata": {},
   "source": [
    "***\n",
    "# S\n",
    "## create dataSources and create the stress expansion operator"
   ]
  },
  {
   "cell_type": "code",
   "execution_count": 10,
   "metadata": {},
   "outputs": [],
   "source": [
    "s = model.operator(\"mapdl::rst::S_cyclic\")\n",
    "s.inputs.requested_location(\"Nodal\")"
   ]
  },
  {
   "cell_type": "markdown",
   "metadata": {},
   "source": [
    "## export to vtk"
   ]
  },
  {
   "cell_type": "code",
   "execution_count": 12,
   "metadata": {},
   "outputs": [],
   "source": [
    "vtk_export =model.operator(\"vtk_export\")\n",
    "vtk_export.inputs.connect(r'c:/temp/cyclic/s.vtk')\n",
    "vtk_export.inputs.connect(s.outputs)\n",
    "vtk_export.eval()"
   ]
  },
  {
   "cell_type": "code",
   "execution_count": null,
   "metadata": {},
   "outputs": [],
   "source": []
  }
 ],
 "metadata": {
  "kernelspec": {
   "display_name": "Python 3",
   "language": "python",
   "name": "python3"
  },
  "language_info": {
   "codemirror_mode": {
    "name": "ipython",
    "version": 3
   },
   "file_extension": ".py",
   "mimetype": "text/x-python",
   "name": "python",
   "nbconvert_exporter": "python",
   "pygments_lexer": "ipython3",
   "version": "3.7.4"
  },
  "widgets": {
   "application/vnd.jupyter.widget-state+json": {
    "state": {},
    "version_major": 2,
    "version_minor": 0
   }
  }
 },
 "nbformat": 4,
 "nbformat_minor": 2
}
