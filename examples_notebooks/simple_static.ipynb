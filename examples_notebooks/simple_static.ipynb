{
 "cells": [
  {
   "cell_type": "markdown",
   "metadata": {},
   "source": [
    "# Read result file \n",
    "    - meta data: available results, mesh, time/freq domain\n",
    "    - results: displacement and stress"
   ]
  },
  {
   "cell_type": "markdown",
   "metadata": {},
   "source": [
    "1st step : load dpf client/server, generate documentation if needed"
   ]
  },
  {
   "cell_type": "code",
   "execution_count": 20,
   "metadata": {},
   "outputs": [
    {
     "name": "stdout",
     "output_type": "stream",
     "text": [
      "server started at --address 10.28.1.60 --port 50052\n"
     ]
    }
   ],
   "source": [
    "from ansys import dpf\n",
    "dpf.start_local_server()\n",
    "#doc = dpf.Operator(\"html_doc\")\n",
    "#doc.inputs.output_path(r'c:/temp/doc.html')\n",
    "#doc.run()\n",
    "import os\n",
    "res_files = os.getcwd() + r'\\..\\..\\res_files'"
   ]
  },
  {
   "cell_type": "markdown",
   "metadata": {},
   "source": [
    "2nd step : create a model"
   ]
  },
  {
   "cell_type": "code",
   "execution_count": 21,
   "metadata": {},
   "outputs": [],
   "source": [
    "path = res_files + r'\\file_static.rst'\n",
    "model = dpf.Model(path)\n",
    "metadata = model.metadata\n",
    "results = model.results"
   ]
  },
  {
   "cell_type": "code",
   "execution_count": 22,
   "metadata": {},
   "outputs": [
    {
     "name": "stdout",
     "output_type": "stream",
     "text": [
      "Static analysis\n",
      "Unit system: Metric (m, kg, N, s, V, A)\n",
      "Physics Type: Mecanic\n",
      "Available results:\n",
      "     -  displacement                  \n",
      "     -  force                         \n",
      "     -  stress                        \n",
      "     -  volume                        \n",
      "     -  energy_stiffness_matrix       \n",
      "     -  hourglass_energy              \n",
      "     -  thermal_dissipation_energy    \n",
      "     -  kinetic_energy                \n",
      "     -  co_energy                     \n",
      "     -  incremental_energy            \n",
      "     -  strain                        \n",
      "     -  temperature                   \n",
      "\n"
     ]
    }
   ],
   "source": [
    "print(metadata.result_info)"
   ]
  },
  {
   "cell_type": "code",
   "execution_count": 23,
   "metadata": {},
   "outputs": [
    {
     "name": "stdout",
     "output_type": "stream",
     "text": [
      "Meshed Region\n",
      "\t7145 nodes\n",
      "\t4417 elements\n",
      "\tUnit: m \n",
      "\n"
     ]
    }
   ],
   "source": [
    "print(metadata.meshed_region)"
   ]
  },
  {
   "cell_type": "code",
   "execution_count": 24,
   "metadata": {},
   "outputs": [
    {
     "name": "stdout",
     "output_type": "stream",
     "text": [
      "Time/Frequency Info:\n",
      "\tNumber of sets: 1\n",
      "\n",
      "With complex values\n",
      " \n",
      " Cumulative      Time (s)       Loadstep     Substep   \n",
      "     1             1.0             1            1      \n",
      "\n"
     ]
    }
   ],
   "source": [
    "print(metadata.time_freq_support)"
   ]
  },
  {
   "cell_type": "markdown",
   "metadata": {},
   "source": [
    "## read displacements"
   ]
  },
  {
   "cell_type": "code",
   "execution_count": 25,
   "metadata": {},
   "outputs": [],
   "source": [
    "displacements = results.displacement()"
   ]
  },
  {
   "cell_type": "code",
   "execution_count": 26,
   "metadata": {},
   "outputs": [],
   "source": [
    "fields = displacements.outputs.fields_container()"
   ]
  },
  {
   "cell_type": "code",
   "execution_count": 27,
   "metadata": {},
   "outputs": [],
   "source": [
    "disp_field = fields[0]"
   ]
  },
  {
   "cell_type": "code",
   "execution_count": 28,
   "metadata": {},
   "outputs": [
    {
     "name": "stdout",
     "output_type": "stream",
     "text": [
      "Meshed Region\n",
      "\t7145 nodes\n",
      "\t4417 elements\n",
      "\tUnit: m \n",
      "\n"
     ]
    }
   ],
   "source": [
    "mesh = metadata.meshed_region\n",
    "print(mesh)"
   ]
  },
  {
   "cell_type": "code",
   "execution_count": 29,
   "metadata": {},
   "outputs": [
    {
     "name": "stdout",
     "output_type": "stream",
     "text": [
      "DPF Displacement Field\n",
      "\tLocation: Nodal\n",
      "\tUnit: m\n",
      "\t7145 id(s)\n",
      "\tdata size: 21435\n",
      "\tshape: (7145, 3)\n",
      "\n"
     ]
    }
   ],
   "source": [
    "print(disp_field)"
   ]
  },
  {
   "cell_type": "markdown",
   "metadata": {},
   "source": [
    "## read stresses"
   ]
  },
  {
   "cell_type": "code",
   "execution_count": 30,
   "metadata": {},
   "outputs": [],
   "source": [
    "stress = results.stress()"
   ]
  },
  {
   "cell_type": "code",
   "execution_count": 31,
   "metadata": {},
   "outputs": [],
   "source": [
    "stress.inputs.requested_location.connect(\"Nodal\")"
   ]
  },
  {
   "cell_type": "code",
   "execution_count": 32,
   "metadata": {},
   "outputs": [],
   "source": [
    "fields = stress.outputs.fields_container()"
   ]
  },
  {
   "cell_type": "markdown",
   "metadata": {},
   "source": [
    "## export to vtk"
   ]
  },
  {
   "cell_type": "code",
   "execution_count": 33,
   "metadata": {},
   "outputs": [],
   "source": [
    "vtk = dpf.Operator(\"vtk_export\")"
   ]
  },
  {
   "cell_type": "code",
   "execution_count": 34,
   "metadata": {},
   "outputs": [],
   "source": [
    "vtk.inputs.file_path(r'c:/temp/file.vtk')\n",
    "vtk.inputs.mesh.connect(mesh)\n",
    "vtk.inputs.fields1.connect(displacements.outputs.fields_container)\n",
    "vtk.inputs.fields2.connect(stress.outputs.fields_container)\n",
    "vtk.run()"
   ]
  },
  {
   "cell_type": "code",
   "execution_count": null,
   "metadata": {},
   "outputs": [],
   "source": []
  }
 ],
 "metadata": {
  "kernelspec": {
   "display_name": "Python 3",
   "language": "python",
   "name": "python3"
  },
  "language_info": {
   "codemirror_mode": {
    "name": "ipython",
    "version": 3
   },
   "file_extension": ".py",
   "mimetype": "text/x-python",
   "name": "python",
   "nbconvert_exporter": "python",
   "pygments_lexer": "ipython3",
   "version": "3.7.6"
  },
  "widgets": {
   "application/vnd.jupyter.widget-state+json": {
    "state": {},
    "version_major": 2,
    "version_minor": 0
   }
  }
 },
 "nbformat": 4,
 "nbformat_minor": 4
}
