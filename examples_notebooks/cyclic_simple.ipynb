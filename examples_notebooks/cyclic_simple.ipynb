{
 "cells": [
  {
   "cell_type": "markdown",
   "metadata": {},
   "source": [
    "# Read result file \n",
    "    - meta data: available results, mesh, time/freq domain\n",
    "    - results: displacement and stress"
   ]
  },
  {
   "cell_type": "markdown",
   "metadata": {},
   "source": [
    "1st step : load dpf client/server, generate documentation if needed"
   ]
  },
  {
   "cell_type": "code",
   "execution_count": 5,
   "metadata": {},
   "outputs": [],
   "source": [
    "from ansys.dpf import core as dpf\n",
    "dpf.start_local_server(ansys_path=os.environ[\"AWP_ROOT212\"])\n",
    "#doc = dpf.Operator(\"html_doc\")\n",
    "#doc.inputs.output_path(r'c:/temp/doc.html')\n",
    "#doc.run()\n",
    "import os\n",
    "res_files = os.getcwd() + r'\\..\\..\\res_files'"
   ]
  },
  {
   "cell_type": "markdown",
   "metadata": {},
   "source": [
    "2nd step : create a model"
   ]
  },
  {
   "cell_type": "code",
   "execution_count": 6,
   "metadata": {},
   "outputs": [
    {
     "ename": "DPFServerException",
     "evalue": "ResultInfoProvider<-mapdl::rst::ResultInfoProvider<-mapdl::rst::ResultInfoProvider<-Unable to open the following file: D:\\ANSYSDev\\CodeDV\\DataProcessing\\Ans.Dpf.Grpc\\Python\\examples_notebooks\\..\\..\\res_files\\file.rst",
     "output_type": "error",
     "traceback": [
      "\u001b[1;31m---------------------------------------------------------------------------\u001b[0m",
      "\u001b[1;31mDPFServerException\u001b[0m                        Traceback (most recent call last)",
      "\u001b[1;32m<ipython-input-6-5a2bd445fb8a>\u001b[0m in \u001b[0;36m<module>\u001b[1;34m\u001b[0m\n\u001b[0;32m      1\u001b[0m \u001b[0mpath\u001b[0m \u001b[1;33m=\u001b[0m \u001b[0mres_files\u001b[0m \u001b[1;33m+\u001b[0m \u001b[1;34mr'\\file.rst'\u001b[0m\u001b[1;33m\u001b[0m\u001b[1;33m\u001b[0m\u001b[0m\n\u001b[1;32m----> 2\u001b[1;33m \u001b[0mmodel\u001b[0m \u001b[1;33m=\u001b[0m \u001b[0mdpf\u001b[0m\u001b[1;33m.\u001b[0m\u001b[0mModel\u001b[0m\u001b[1;33m(\u001b[0m\u001b[0mpath\u001b[0m\u001b[1;33m)\u001b[0m\u001b[1;33m\u001b[0m\u001b[1;33m\u001b[0m\u001b[0m\n\u001b[0m\u001b[0;32m      3\u001b[0m \u001b[0mmetadata\u001b[0m \u001b[1;33m=\u001b[0m \u001b[0mmodel\u001b[0m\u001b[1;33m.\u001b[0m\u001b[0mmetadata\u001b[0m\u001b[1;33m\u001b[0m\u001b[1;33m\u001b[0m\u001b[0m\n\u001b[0;32m      4\u001b[0m \u001b[0mresults\u001b[0m \u001b[1;33m=\u001b[0m \u001b[0mmodel\u001b[0m\u001b[1;33m.\u001b[0m\u001b[0mresults\u001b[0m\u001b[1;33m\u001b[0m\u001b[1;33m\u001b[0m\u001b[0m\n",
      "\u001b[1;32mD:\\ANSYSDev\\CodeDV\\DataProcessing\\Ans.Dpf.Grpc\\Python\\ansys\\dpf\\core\\model.py\u001b[0m in \u001b[0;36m__init__\u001b[1;34m(self, data_sources, server)\u001b[0m\n\u001b[0;32m     46\u001b[0m         \u001b[1;31m# base service required to load operators\u001b[0m\u001b[1;33m\u001b[0m\u001b[1;33m\u001b[0m\u001b[1;33m\u001b[0m\u001b[0m\n\u001b[0;32m     47\u001b[0m         \u001b[0mself\u001b[0m\u001b[1;33m.\u001b[0m\u001b[0m_base\u001b[0m \u001b[1;33m=\u001b[0m \u001b[0mBaseService\u001b[0m\u001b[1;33m(\u001b[0m\u001b[0mself\u001b[0m\u001b[1;33m.\u001b[0m\u001b[0m_server\u001b[0m\u001b[1;33m)\u001b[0m\u001b[1;33m\u001b[0m\u001b[1;33m\u001b[0m\u001b[0m\n\u001b[1;32m---> 48\u001b[1;33m         \u001b[0mself\u001b[0m\u001b[1;33m.\u001b[0m\u001b[0m_metadata\u001b[0m \u001b[1;33m=\u001b[0m \u001b[0mMetadata\u001b[0m\u001b[1;33m(\u001b[0m\u001b[0mdata_sources\u001b[0m\u001b[1;33m,\u001b[0m \u001b[0mself\u001b[0m\u001b[1;33m.\u001b[0m\u001b[0m_server\u001b[0m\u001b[1;33m)\u001b[0m\u001b[1;33m\u001b[0m\u001b[1;33m\u001b[0m\u001b[0m\n\u001b[0m\u001b[0;32m     49\u001b[0m         \u001b[0mself\u001b[0m\u001b[1;33m.\u001b[0m\u001b[0m_results\u001b[0m \u001b[1;33m=\u001b[0m \u001b[0mResults\u001b[0m\u001b[1;33m(\u001b[0m\u001b[0mself\u001b[0m\u001b[1;33m)\u001b[0m\u001b[1;33m\u001b[0m\u001b[1;33m\u001b[0m\u001b[0m\n\u001b[0;32m     50\u001b[0m \u001b[1;33m\u001b[0m\u001b[0m\n",
      "\u001b[1;32mD:\\ANSYSDev\\CodeDV\\DataProcessing\\Ans.Dpf.Grpc\\Python\\ansys\\dpf\\core\\model.py\u001b[0m in \u001b[0;36m__init__\u001b[1;34m(self, data_sources, server)\u001b[0m\n\u001b[0;32m    294\u001b[0m         \u001b[0mself\u001b[0m\u001b[1;33m.\u001b[0m\u001b[0m_time_freq_support\u001b[0m \u001b[1;33m=\u001b[0m \u001b[1;32mNone\u001b[0m\u001b[1;33m\u001b[0m\u001b[1;33m\u001b[0m\u001b[0m\n\u001b[0;32m    295\u001b[0m         \u001b[0mself\u001b[0m\u001b[1;33m.\u001b[0m\u001b[0m_cache_streams_provider\u001b[0m\u001b[1;33m(\u001b[0m\u001b[1;33m)\u001b[0m\u001b[1;33m\u001b[0m\u001b[1;33m\u001b[0m\u001b[0m\n\u001b[1;32m--> 296\u001b[1;33m         \u001b[0mself\u001b[0m\u001b[1;33m.\u001b[0m\u001b[0m_cache_result_info\u001b[0m\u001b[1;33m(\u001b[0m\u001b[1;33m)\u001b[0m\u001b[1;33m\u001b[0m\u001b[1;33m\u001b[0m\u001b[0m\n\u001b[0m\u001b[0;32m    297\u001b[0m \u001b[1;33m\u001b[0m\u001b[0m\n\u001b[0;32m    298\u001b[0m     \u001b[1;32mdef\u001b[0m \u001b[0m_cache_result_info\u001b[0m\u001b[1;33m(\u001b[0m\u001b[0mself\u001b[0m\u001b[1;33m)\u001b[0m\u001b[1;33m:\u001b[0m\u001b[1;33m\u001b[0m\u001b[1;33m\u001b[0m\u001b[0m\n",
      "\u001b[1;32mD:\\ANSYSDev\\CodeDV\\DataProcessing\\Ans.Dpf.Grpc\\Python\\ansys\\dpf\\core\\model.py\u001b[0m in \u001b[0;36m_cache_result_info\u001b[1;34m(self)\u001b[0m\n\u001b[0;32m    298\u001b[0m     \u001b[1;32mdef\u001b[0m \u001b[0m_cache_result_info\u001b[0m\u001b[1;33m(\u001b[0m\u001b[0mself\u001b[0m\u001b[1;33m)\u001b[0m\u001b[1;33m:\u001b[0m\u001b[1;33m\u001b[0m\u001b[1;33m\u001b[0m\u001b[0m\n\u001b[0;32m    299\u001b[0m         \u001b[1;34m\"\"\"Store result info\"\"\"\u001b[0m\u001b[1;33m\u001b[0m\u001b[1;33m\u001b[0m\u001b[0m\n\u001b[1;32m--> 300\u001b[1;33m         \u001b[0mself\u001b[0m\u001b[1;33m.\u001b[0m\u001b[0mresult_info\u001b[0m \u001b[1;33m=\u001b[0m \u001b[0mself\u001b[0m\u001b[1;33m.\u001b[0m\u001b[0m_load_result_info\u001b[0m\u001b[1;33m(\u001b[0m\u001b[1;33m)\u001b[0m\u001b[1;33m\u001b[0m\u001b[1;33m\u001b[0m\u001b[0m\n\u001b[0m\u001b[0;32m    301\u001b[0m \u001b[1;33m\u001b[0m\u001b[0m\n\u001b[0;32m    302\u001b[0m     \u001b[1;32mdef\u001b[0m \u001b[0m_cache_streams_provider\u001b[0m\u001b[1;33m(\u001b[0m\u001b[0mself\u001b[0m\u001b[1;33m)\u001b[0m\u001b[1;33m:\u001b[0m\u001b[1;33m\u001b[0m\u001b[1;33m\u001b[0m\u001b[0m\n",
      "\u001b[1;32mD:\\ANSYSDev\\CodeDV\\DataProcessing\\Ans.Dpf.Grpc\\Python\\ansys\\dpf\\core\\model.py\u001b[0m in \u001b[0;36m_load_result_info\u001b[1;34m(self)\u001b[0m\n\u001b[0;32m    375\u001b[0m         \u001b[0mop\u001b[0m\u001b[1;33m.\u001b[0m\u001b[0minputs\u001b[0m\u001b[1;33m.\u001b[0m\u001b[0mconnect\u001b[0m\u001b[1;33m(\u001b[0m\u001b[0mself\u001b[0m\u001b[1;33m.\u001b[0m\u001b[0m_stream_provider\u001b[0m\u001b[1;33m.\u001b[0m\u001b[0moutputs\u001b[0m\u001b[1;33m)\u001b[0m\u001b[1;33m\u001b[0m\u001b[1;33m\u001b[0m\u001b[0m\n\u001b[0;32m    376\u001b[0m         \u001b[1;32mtry\u001b[0m\u001b[1;33m:\u001b[0m\u001b[1;33m\u001b[0m\u001b[1;33m\u001b[0m\u001b[0m\n\u001b[1;32m--> 377\u001b[1;33m             \u001b[0mresult_info\u001b[0m \u001b[1;33m=\u001b[0m \u001b[0mop\u001b[0m\u001b[1;33m.\u001b[0m\u001b[0mget_output\u001b[0m\u001b[1;33m(\u001b[0m\u001b[1;36m0\u001b[0m\u001b[1;33m,\u001b[0m \u001b[0mtypes\u001b[0m\u001b[1;33m.\u001b[0m\u001b[0mresult_info\u001b[0m\u001b[1;33m)\u001b[0m\u001b[1;33m\u001b[0m\u001b[1;33m\u001b[0m\u001b[0m\n\u001b[0m\u001b[0;32m    378\u001b[0m         \u001b[1;32mexcept\u001b[0m \u001b[0m_InactiveRpcError\u001b[0m \u001b[1;32mas\u001b[0m \u001b[0me\u001b[0m\u001b[1;33m:\u001b[0m\u001b[1;33m\u001b[0m\u001b[1;33m\u001b[0m\u001b[0m\n\u001b[0;32m    379\u001b[0m             \u001b[1;31m# give the user a more helpful error\u001b[0m\u001b[1;33m\u001b[0m\u001b[1;33m\u001b[0m\u001b[1;33m\u001b[0m\u001b[0m\n",
      "\u001b[1;32mD:\\ANSYSDev\\CodeDV\\DataProcessing\\Ans.Dpf.Grpc\\Python\\ansys\\dpf\\core\\errors.py\u001b[0m in \u001b[0;36mwrapper\u001b[1;34m(*args, **kwargs)\u001b[0m\n\u001b[0;32m     76\u001b[0m             \u001b[1;32mif\u001b[0m \u001b[1;34m'object is null in the dataBase'\u001b[0m \u001b[1;32min\u001b[0m \u001b[0mdetails\u001b[0m\u001b[1;33m:\u001b[0m\u001b[1;33m\u001b[0m\u001b[1;33m\u001b[0m\u001b[0m\n\u001b[0;32m     77\u001b[0m                 \u001b[1;32mraise\u001b[0m \u001b[0mDPFServerNullObject\u001b[0m\u001b[1;33m(\u001b[0m\u001b[0mdetails\u001b[0m\u001b[1;33m)\u001b[0m \u001b[1;32mfrom\u001b[0m \u001b[1;32mNone\u001b[0m\u001b[1;33m\u001b[0m\u001b[1;33m\u001b[0m\u001b[0m\n\u001b[1;32m---> 78\u001b[1;33m             \u001b[1;32mraise\u001b[0m \u001b[0mDPFServerException\u001b[0m\u001b[1;33m(\u001b[0m\u001b[0mdetails\u001b[0m\u001b[1;33m)\u001b[0m \u001b[1;32mfrom\u001b[0m \u001b[1;32mNone\u001b[0m\u001b[1;33m\u001b[0m\u001b[1;33m\u001b[0m\u001b[0m\n\u001b[0m\u001b[0;32m     79\u001b[0m \u001b[1;33m\u001b[0m\u001b[0m\n\u001b[0;32m     80\u001b[0m         \u001b[1;32mreturn\u001b[0m \u001b[0mout\u001b[0m\u001b[1;33m\u001b[0m\u001b[1;33m\u001b[0m\u001b[0m\n",
      "\u001b[1;31mDPFServerException\u001b[0m: ResultInfoProvider<-mapdl::rst::ResultInfoProvider<-mapdl::rst::ResultInfoProvider<-Unable to open the following file: D:\\ANSYSDev\\CodeDV\\DataProcessing\\Ans.Dpf.Grpc\\Python\\examples_notebooks\\..\\..\\res_files\\file.rst"
     ]
    }
   ],
   "source": [
    "path = res_files + r'\\file.rst'\n",
    "model = dpf.Model(path)\n",
    "metadata = model.metadata\n",
    "results = model.results"
   ]
  },
  {
   "cell_type": "code",
   "execution_count": 3,
   "metadata": {},
   "outputs": [
    {
     "name": "stdout",
     "output_type": "stream",
     "text": [
      "Modal analysis\n",
      "Unit system: Metric (m, kg, N, s, V, A)\n",
      "Physics Type: Mecanic\n",
      "Available results:\n",
      "     -  displacement                  \n",
      "     -  element_nodal_forces          \n",
      "     -  stress                        \n",
      "     -  strain                        \n",
      "     -  temperature                   \n",
      "\n"
     ]
    }
   ],
   "source": [
    "print(metadata.result_info)"
   ]
  },
  {
   "cell_type": "code",
   "execution_count": 4,
   "metadata": {},
   "outputs": [
    {
     "name": "stdout",
     "output_type": "stream",
     "text": [
      "Meshed Region\n",
      "\t55531 nodes\n",
      "\t20821 elements\n",
      "\tUnit: m \n",
      "\n"
     ]
    }
   ],
   "source": [
    "print(metadata.meshed_region)"
   ]
  },
  {
   "cell_type": "code",
   "execution_count": 5,
   "metadata": {
    "collapsed": true,
    "jupyter": {
     "outputs_hidden": true
    }
   },
   "outputs": [
    {
     "name": "stdout",
     "output_type": "stream",
     "text": [
      "Time/Frequency Info:\n",
      "\tNumber of sets: 24\n",
      "\n",
      "With complex values\n",
      " \n",
      " Cumulative   Frequency (Hz)    Loadstep     Substep     Harmonic index  \n",
      "     1           5.71e+02          1            1              0         \n",
      "     2           8.53e+02          1            2              0         \n",
      "     3           1.97e+03          1            3              0         \n",
      "     4           2.04e+03          1            4              0         \n",
      "     5           2.47e+03          1            5              0         \n",
      "     6           3.06e+03          1            6              0         \n",
      "     7           5.8e+02           2            1              1         \n",
      "     8           5.8e+02           2            2              1         \n",
      "     9           9.52e+02          2            3              1         \n",
      "     10          9.52e+02          2            4              1         \n",
      "     11          1.78e+03          2            5              1         \n",
      "     12          1.78e+03          2            6              1         \n",
      "     13          5.86e+02          3            1              2         \n",
      "     14          5.86e+02          3            2              2         \n",
      "     15          1.06e+03          3            3              2         \n",
      "     16          1.06e+03          3            4              2         \n",
      "     17          1.83e+03          3            5              2         \n",
      "     18          1.83e+03          3            6              2         \n",
      "     19          5.92e+02          4            1              3         \n",
      "     20          5.92e+02          4            2              3         \n",
      "     21          1.22e+03          4            3              3         \n",
      "     22          1.22e+03          4            4              3         \n",
      "     23          2.02e+03          4            5              3         \n",
      "     24          2.02e+03          4            6              3         \n",
      "\n"
     ]
    }
   ],
   "source": [
    "print(metadata.time_freq_support)"
   ]
  },
  {
   "cell_type": "code",
   "execution_count": 6,
   "metadata": {},
   "outputs": [],
   "source": [
    "u = model.results.displacement()\n",
    "vtk = dpf.Operator(\"vtk_export\")"
   ]
  },
  {
   "cell_type": "code",
   "execution_count": 7,
   "metadata": {},
   "outputs": [],
   "source": [
    "u.inputs.time_scoping.connect([7])"
   ]
  },
  {
   "cell_type": "code",
   "execution_count": 8,
   "metadata": {},
   "outputs": [],
   "source": [
    "\n",
    "fields = u.outputs.fields_container()\n",
    "vtk.inputs.file_path(r\"C:\\temp\\tempsecBase.vtk\")\n",
    "vtk.inputs.mesh.connect(metadata.meshed_region)\n",
    "vtk.inputs.fields1.connect(fields)\n",
    "vtk.run()\n"
   ]
  },
  {
   "cell_type": "code",
   "execution_count": 12,
   "metadata": {},
   "outputs": [
    {
     "data": {
      "text/plain": [
       "{'time': 7, 'base_sector': 1}"
      ]
     },
     "execution_count": 12,
     "metadata": {},
     "output_type": "execute_result"
    }
   ],
   "source": [
    "len(fields)\n",
    "fields.labels\n",
    "fields.get_label_space(0)"
   ]
  },
  {
   "cell_type": "markdown",
   "metadata": {},
   "source": [
    "## expand displacements"
   ]
  },
  {
   "cell_type": "code",
   "execution_count": 9,
   "metadata": {},
   "outputs": [],
   "source": [
    "displacements = model.operator(\"mapdl::rst::U_cyclic\")"
   ]
  },
  {
   "cell_type": "code",
   "execution_count": 10,
   "metadata": {},
   "outputs": [],
   "source": [
    "fields = displacements.outputs.fields_container()"
   ]
  },
  {
   "cell_type": "code",
   "execution_count": 11,
   "metadata": {},
   "outputs": [],
   "source": [
    "disp_field = fields[0]"
   ]
  },
  {
   "cell_type": "code",
   "execution_count": 12,
   "metadata": {},
   "outputs": [],
   "source": [
    "mesh = displacements.outputs.expanded_meshed_region.get_data()"
   ]
  },
  {
   "cell_type": "code",
   "execution_count": 14,
   "metadata": {},
   "outputs": [
    {
     "name": "stdout",
     "output_type": "stream",
     "text": [
      "Meshed Region\n",
      "\t1945584 nodes\n",
      "\t749556 elements\n",
      "\tUnit:  \n",
      "\n"
     ]
    }
   ],
   "source": [
    "print(mesh)"
   ]
  },
  {
   "cell_type": "code",
   "execution_count": 15,
   "metadata": {},
   "outputs": [
    {
     "name": "stdout",
     "output_type": "stream",
     "text": [
      "DPF  Field\n",
      "\tLocation: Nodal\n",
      "\tUnit: m\n",
      "\t1945584 id(s)\n",
      "\tdata size: 5836752\n",
      "\tshape: (1945584, 3)\n",
      "\n"
     ]
    }
   ],
   "source": [
    "print(disp_field)"
   ]
  },
  {
   "cell_type": "markdown",
   "metadata": {},
   "source": [
    "## expand stresses"
   ]
  },
  {
   "cell_type": "code",
   "execution_count": 20,
   "metadata": {},
   "outputs": [],
   "source": [
    "stress = model.operator(\"mapdl::rst::S_cyclic\")"
   ]
  },
  {
   "cell_type": "code",
   "execution_count": 21,
   "metadata": {},
   "outputs": [],
   "source": [
    "stress.inputs.requested_location.connect(\"Nodal\")"
   ]
  },
  {
   "cell_type": "code",
   "execution_count": 22,
   "metadata": {},
   "outputs": [],
   "source": [
    "fields = stress.outputs.fields_container()"
   ]
  },
  {
   "cell_type": "markdown",
   "metadata": {},
   "source": [
    "## export to vtk"
   ]
  },
  {
   "cell_type": "code",
   "execution_count": 23,
   "metadata": {},
   "outputs": [],
   "source": [
    "vtk = dpf.Operator(\"vtk_export\")"
   ]
  },
  {
   "cell_type": "code",
   "execution_count": 24,
   "metadata": {},
   "outputs": [],
   "source": [
    "vtk.inputs.file_path(r'c:/temp/file.vtk')\n",
    "vtk.inputs.fields1.connect(displacements.outputs.fields_container)\n",
    "vtk.inputs.fields2.connect(stress.outputs.fields_container)\n",
    "vtk.run()"
   ]
  },
  {
   "cell_type": "code",
   "execution_count": null,
   "metadata": {},
   "outputs": [],
   "source": []
  }
 ],
 "metadata": {
  "kernelspec": {
   "display_name": "Python 3",
   "language": "python",
   "name": "python3"
  },
  "language_info": {
   "codemirror_mode": {
    "name": "ipython",
    "version": 3
   },
   "file_extension": ".py",
   "mimetype": "text/x-python",
   "name": "python",
   "nbconvert_exporter": "python",
   "pygments_lexer": "ipython3",
   "version": "3.8.5"
  },
  "widgets": {
   "application/vnd.jupyter.widget-state+json": {
    "state": {},
    "version_major": 2,
    "version_minor": 0
   }
  }
 },
 "nbformat": 4,
 "nbformat_minor": 4
}
