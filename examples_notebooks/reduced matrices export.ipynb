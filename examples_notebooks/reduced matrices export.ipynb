{
 "cells": [
  {
   "cell_type": "code",
   "execution_count": 1,
   "metadata": {},
   "outputs": [],
   "source": [
    "from ansys import dpf\n",
    "dpf.IP = '127.0.0.1'\n",
    "dpf.PORT = 50000"
   ]
  },
  {
   "cell_type": "code",
   "execution_count": 2,
   "metadata": {},
   "outputs": [],
   "source": [
    "base = dpf.BaseService(ip=dpf._global_ip(), port = dpf._global_port())\n",
    "base.load_library(\"Ans.Dpf.Hdf5.dll\",\"hdf5\")"
   ]
  },
  {
   "cell_type": "code",
   "execution_count": 3,
   "metadata": {},
   "outputs": [],
   "source": [
    "ds = dpf.DataSources(r\"C:/temp/cp264.sub\")"
   ]
  },
  {
   "cell_type": "code",
   "execution_count": 5,
   "metadata": {},
   "outputs": [],
   "source": [
    "matProvider = dpf.Operator(\"cms_matrices_provider\")"
   ]
  },
  {
   "cell_type": "code",
   "execution_count": 6,
   "metadata": {},
   "outputs": [],
   "source": [
    "matProvider.inputs.data_sources.connect(ds)"
   ]
  },
  {
   "cell_type": "code",
   "execution_count": 7,
   "metadata": {},
   "outputs": [],
   "source": [
    "fields = matProvider.outputs.fields_container.get_output()"
   ]
  },
  {
   "cell_type": "code",
   "execution_count": 8,
   "metadata": {},
   "outputs": [
    {
     "data": {
      "text/plain": [
       "4"
      ]
     },
     "execution_count": 8,
     "metadata": {},
     "output_type": "execute_result"
    }
   ],
   "source": [
    "len(fields)"
   ]
  },
  {
   "cell_type": "code",
   "execution_count": 9,
   "metadata": {},
   "outputs": [],
   "source": [
    "field = fields[0]"
   ]
  },
  {
   "cell_type": "code",
   "execution_count": 14,
   "metadata": {
    "collapsed": true,
    "jupyter": {
     "outputs_hidden": true
    }
   },
   "outputs": [
    {
     "data": {
      "text/plain": [
       "[2094500878.4714966,\n",
       " -199967771.16228485,\n",
       " 636027.130238533,\n",
       " 11049.82828475535,\n",
       " 912540.917231679,\n",
       " 40499490.21362257,\n",
       " -2094500878.4688017,\n",
       " 199967771.16298684,\n",
       " -636027.1252816629,\n",
       " 46198.3567024494,\n",
       " 96894.7137556866,\n",
       " 88344276.07289723,\n",
       " 0.0,\n",
       " 0.0,\n",
       " 0.0,\n",
       " 0.0,\n",
       " 0.0,\n",
       " 0.0,\n",
       " -199967771.16228485,\n",
       " 40893614.3638916,\n",
       " -82009.93894147873,\n",
       " -4179.253628253937,\n",
       " -111531.84154516459,\n",
       " -17255154.455438614,\n",
       " 199967771.1604314,\n",
       " -40893614.3651489,\n",
       " 82009.93317813464,\n",
       " -3202.8111045706214,\n",
       " -18623.70938483625,\n",
       " -29645911.42277221,\n",
       " 0.0,\n",
       " 0.0,\n",
       " 0.0,\n",
       " 0.0,\n",
       " 0.0,\n",
       " 0.0,\n",
       " 636027.130238533,\n",
       " -82009.93894147873,\n",
       " 41648354.46295166,\n",
       " 2559651.619294405,\n",
       " 36253041.17780399,\n",
       " 39358.33648729324,\n",
       " -636027.1319917212,\n",
       " 82009.93321237125,\n",
       " -41648354.46186355,\n",
       " 1188700.4332437804,\n",
       " 29842897.380069666,\n",
       " 33548.986148870725,\n",
       " 0.0,\n",
       " 0.0,\n",
       " 0.0,\n",
       " 0.0,\n",
       " 0.0,\n",
       " 0.0,\n",
       " 11049.82828475535,\n",
       " -4179.253628253937,\n",
       " 2559651.619294405,\n",
       " 5747235.777273178,\n",
       " 2258720.7958461307,\n",
       " 3503.8300301730633,\n",
       " -11049.827894785474,\n",
       " 4179.253650492555,\n",
       " -2559651.6194857736,\n",
       " -5516867.122818896,\n",
       " 1803446.3247744667,\n",
       " 2134.161217899956,\n",
       " 0.0,\n",
       " 0.0,\n",
       " 0.0,\n",
       " 0.0,\n",
       " 0.0,\n",
       " 0.0,\n",
       " 912540.917231679,\n",
       " -111531.84154516459,\n",
       " 36253041.17780399,\n",
       " 2258720.7958461307,\n",
       " 40344369.86615133,\n",
       " 49468.0758382529,\n",
       " -912540.9164233631,\n",
       " 111531.83967298796,\n",
       " -36253041.17762223,\n",
       " 1004053.0429220141,\n",
       " 17189206.51371644,\n",
       " 45404.268926051634,\n",
       " 0.0,\n",
       " 0.0,\n",
       " 0.0,\n",
       " 0.0,\n",
       " 0.0,\n",
       " 0.0,\n",
       " 40499490.21362257,\n",
       " -17255154.455438614,\n",
       " 39358.33648729324,\n",
       " 3503.8300301730633,\n",
       " 49468.0758382529,\n",
       " 14621391.869948387,\n",
       " -40499490.21331068,\n",
       " 17255154.455520164,\n",
       " -39358.33553231173,\n",
       " 38.91533106428949,\n",
       " 12994.774655376641,\n",
       " 9117583.987255007,\n",
       " 0.0,\n",
       " 0.0,\n",
       " 0.0,\n",
       " 0.0,\n",
       " 0.0,\n",
       " 0.0,\n",
       " -2094500878.4688017,\n",
       " 199967771.1604314,\n",
       " -636027.1319917212,\n",
       " -11049.827894785474,\n",
       " -912540.9164233631,\n",
       " -40499490.21331068,\n",
       " 2094500878.4672852,\n",
       " -199967771.16531235,\n",
       " 636027.1266155243,\n",
       " -46198.35661341064,\n",
       " -96894.71443557739,\n",
       " -88344276.07328284,\n",
       " 0.0,\n",
       " 0.0,\n",
       " 0.0,\n",
       " 0.0,\n",
       " 0.0,\n",
       " 0.0,\n",
       " 199967771.16298684,\n",
       " -40893614.3651489,\n",
       " 82009.93321237125,\n",
       " 4179.253650492555,\n",
       " 111531.83967298796,\n",
       " 17255154.455520164,\n",
       " -199967771.16531235,\n",
       " 40893614.363342285,\n",
       " -82009.93559592962,\n",
       " 3202.811050891876,\n",
       " 18623.71045254916,\n",
       " 29645911.422466278,\n",
       " 0.0,\n",
       " 0.0,\n",
       " 0.0,\n",
       " 0.0,\n",
       " 0.0,\n",
       " 0.0,\n",
       " -636027.1252816629,\n",
       " 82009.93317813464,\n",
       " -41648354.46186355,\n",
       " -2559651.6194857736,\n",
       " -36253041.17762223,\n",
       " -39358.33553231173,\n",
       " 636027.1266155243,\n",
       " -82009.93559592962,\n",
       " 41648354.462402344,\n",
       " -1188700.4332727902,\n",
       " -29842897.37994528,\n",
       " -33548.98722947441,\n",
       " 0.0,\n",
       " 0.0,\n",
       " 0.0,\n",
       " 0.0,\n",
       " 0.0,\n",
       " 0.0,\n",
       " 46198.3567024494,\n",
       " -3202.8111045706214,\n",
       " 1188700.4332437804,\n",
       " -5516867.122818896,\n",
       " 1004053.0429220141,\n",
       " 38.91533106428949,\n",
       " -46198.35661341064,\n",
       " 3202.811050891876,\n",
       " -1188700.4332727902,\n",
       " 5623850.166633129,\n",
       " 882414.5465308991,\n",
       " 886.093593839556,\n",
       " 0.0,\n",
       " 0.0,\n",
       " 0.0,\n",
       " 0.0,\n",
       " 0.0,\n",
       " 0.0,\n",
       " 96894.7137556866,\n",
       " -18623.70938483625,\n",
       " 29842897.380069666,\n",
       " 1803446.3247744667,\n",
       " 17189206.51371644,\n",
       " 12994.774655376641,\n",
       " -96894.71443557739,\n",
       " 18623.71045254916,\n",
       " -29842897.37994528,\n",
       " 882414.5465308991,\n",
       " 30171471.63987732,\n",
       " 7840.528485790477,\n",
       " 0.0,\n",
       " 0.0,\n",
       " 0.0,\n",
       " 0.0,\n",
       " 0.0,\n",
       " 0.0,\n",
       " 88344276.07289723,\n",
       " -29645911.42277221,\n",
       " 33548.986148870725,\n",
       " 2134.161217899956,\n",
       " 45404.268926051634,\n",
       " 9117583.987255007,\n",
       " -88344276.07328284,\n",
       " 29645911.422466278,\n",
       " -33548.98722947441,\n",
       " 886.093593839556,\n",
       " 7840.528485790477,\n",
       " 29979492.278591156,\n",
       " 0.0,\n",
       " 0.0,\n",
       " 0.0,\n",
       " 0.0,\n",
       " 0.0,\n",
       " 0.0,\n",
       " 0.0,\n",
       " 0.0,\n",
       " 0.0,\n",
       " 0.0,\n",
       " 0.0,\n",
       " 0.0,\n",
       " 0.0,\n",
       " 0.0,\n",
       " 0.0,\n",
       " 0.0,\n",
       " 0.0,\n",
       " 0.0,\n",
       " 1695304.6756670736,\n",
       " 0.0,\n",
       " 0.0,\n",
       " 0.0,\n",
       " 0.0,\n",
       " 0.0,\n",
       " 0.0,\n",
       " 0.0,\n",
       " 0.0,\n",
       " 0.0,\n",
       " 0.0,\n",
       " 0.0,\n",
       " 0.0,\n",
       " 0.0,\n",
       " 0.0,\n",
       " 0.0,\n",
       " 0.0,\n",
       " 0.0,\n",
       " 0.0,\n",
       " 1696992.6907210422,\n",
       " 0.0,\n",
       " 0.0,\n",
       " 0.0,\n",
       " 0.0,\n",
       " 0.0,\n",
       " 0.0,\n",
       " 0.0,\n",
       " 0.0,\n",
       " 0.0,\n",
       " 0.0,\n",
       " 0.0,\n",
       " 0.0,\n",
       " 0.0,\n",
       " 0.0,\n",
       " 0.0,\n",
       " 0.0,\n",
       " 0.0,\n",
       " 0.0,\n",
       " 1697986.8779391525,\n",
       " 0.0,\n",
       " 0.0,\n",
       " 0.0,\n",
       " 0.0,\n",
       " 0.0,\n",
       " 0.0,\n",
       " 0.0,\n",
       " 0.0,\n",
       " 0.0,\n",
       " 0.0,\n",
       " 0.0,\n",
       " 0.0,\n",
       " 0.0,\n",
       " 0.0,\n",
       " 0.0,\n",
       " 0.0,\n",
       " 0.0,\n",
       " 0.0,\n",
       " 1699044.8192142707,\n",
       " 0.0,\n",
       " 0.0,\n",
       " 0.0,\n",
       " 0.0,\n",
       " 0.0,\n",
       " 0.0,\n",
       " 0.0,\n",
       " 0.0,\n",
       " 0.0,\n",
       " 0.0,\n",
       " 0.0,\n",
       " 0.0,\n",
       " 0.0,\n",
       " 0.0,\n",
       " 0.0,\n",
       " 0.0,\n",
       " 0.0,\n",
       " 0.0,\n",
       " 1699543.442385515,\n",
       " 0.0,\n",
       " 0.0,\n",
       " 0.0,\n",
       " 0.0,\n",
       " 0.0,\n",
       " 0.0,\n",
       " 0.0,\n",
       " 0.0,\n",
       " 0.0,\n",
       " 0.0,\n",
       " 0.0,\n",
       " 0.0,\n",
       " 0.0,\n",
       " 0.0,\n",
       " 0.0,\n",
       " 0.0,\n",
       " 0.0,\n",
       " 0.0,\n",
       " 1701021.834804923]"
      ]
     },
     "execution_count": 14,
     "metadata": {},
     "output_type": "execute_result"
    }
   ],
   "source": [
    "field.data"
   ]
  },
  {
   "cell_type": "code",
   "execution_count": 19,
   "metadata": {},
   "outputs": [],
   "source": [
    "toCSV = dpf.Operator(\"field_to_csv\")"
   ]
  },
  {
   "cell_type": "code",
   "execution_count": 16,
   "metadata": {
    "collapsed": true,
    "jupyter": {
     "outputs_hidden": true
    }
   },
   "outputs": [
    {
     "name": "stdout",
     "output_type": "stream",
     "text": [
      "DPF \"field_to_csv\" operator\n",
      "    description: Exports a field or a fields container into a csv file\n",
      "    Available inputs:\n",
      "     o   \u001b[1mfilepath\u001b[0m, expects types:\n",
      "            -str             \n",
      "         help: file path     \n",
      "                             \n",
      "     o   \u001b[1mfield_or_fields_container\u001b[0m, expects types:\n",
      "            -FieldsContainer \n",
      "            -Field           \n",
      "         help: field_or_fields_container\n",
      "                             \n",
      "     o   \u001b[1mstorage_type\u001b[0m (optional), expects types:\n",
      "            -int             \n",
      "         help: storage type : if matrices (without any particularity) are included in the fields container, the storage format can be chosen. 0 : flat/line format, 1 : ranked format. If 1 is chosen, the csv can not be read by \"csv to field\" operator anymore. Default : 0.\n",
      "                             \n",
      "\n",
      "\n"
     ]
    }
   ],
   "source": [
    "print(toCSV)"
   ]
  },
  {
   "cell_type": "code",
   "execution_count": 20,
   "metadata": {},
   "outputs": [],
   "source": [
    "toCSV.inputs.storage_type(1)"
   ]
  },
  {
   "cell_type": "code",
   "execution_count": 21,
   "metadata": {},
   "outputs": [],
   "source": [
    "toCSV.inputs.field_or_fields_container.connect(matProvider.outputs)"
   ]
  },
  {
   "cell_type": "code",
   "execution_count": 22,
   "metadata": {},
   "outputs": [],
   "source": [
    "toCSV.inputs.filepath.connect(r\"C:/temp/file.csv\")"
   ]
  },
  {
   "cell_type": "code",
   "execution_count": 23,
   "metadata": {},
   "outputs": [],
   "source": [
    "toCSV.eval()"
   ]
  },
  {
   "cell_type": "code",
   "execution_count": 24,
   "metadata": {},
   "outputs": [],
   "source": [
    "vF = fields.get_fields()"
   ]
  },
  {
   "cell_type": "code",
   "execution_count": 25,
   "metadata": {},
   "outputs": [],
   "source": [
    "h5op = dpf.Operator(\"serialize_to_hdf5\")"
   ]
  },
  {
   "cell_type": "code",
   "execution_count": 26,
   "metadata": {},
   "outputs": [],
   "source": [
    "h5op.inputs.file_path.connect('c:/temp/matrices.h5')"
   ]
  },
  {
   "cell_type": "code",
   "execution_count": 27,
   "metadata": {},
   "outputs": [],
   "source": [
    "h5op.inputs.data.connect(matProvider.outputs)"
   ]
  },
  {
   "cell_type": "code",
   "execution_count": 28,
   "metadata": {},
   "outputs": [],
   "source": [
    "h5op.eval()"
   ]
  },
  {
   "cell_type": "code",
   "execution_count": 29,
   "metadata": {},
   "outputs": [],
   "source": [
    "fieldArray = field.asarray()"
   ]
  },
  {
   "cell_type": "code",
   "execution_count": null,
   "metadata": {},
   "outputs": [],
   "source": []
  }
 ],
 "metadata": {
  "kernelspec": {
   "display_name": "Python 3",
   "language": "python",
   "name": "python3"
  },
  "language_info": {
   "codemirror_mode": {
    "name": "ipython",
    "version": 3
   },
   "file_extension": ".py",
   "mimetype": "text/x-python",
   "name": "python",
   "nbconvert_exporter": "python",
   "pygments_lexer": "ipython3",
   "version": "3.7.9"
  },
  "widgets": {
   "application/vnd.jupyter.widget-state+json": {
    "state": {},
    "version_major": 2,
    "version_minor": 0
   }
  }
 },
 "nbformat": 4,
 "nbformat_minor": 4
}
