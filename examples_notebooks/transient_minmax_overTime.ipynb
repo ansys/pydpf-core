{
 "cells": [
  {
   "cell_type": "markdown",
   "metadata": {},
   "source": [
    "# Read result file \n",
    "    - meta data: available results, mesh, time/freq domain\n",
    "    - results: displacement and stress"
   ]
  },
  {
   "cell_type": "markdown",
   "metadata": {},
   "source": [
    "1st step : load dpf client/server, generate documentation if needed"
   ]
  },
  {
   "cell_type": "code",
   "execution_count": 1,
   "metadata": {},
   "outputs": [
    {
     "name": "stdout",
     "output_type": "stream",
     "text": [
      "server started at --address 10.28.1.60 --port 50052\n"
     ]
    }
   ],
   "source": [
    "from ansys import dpf\n",
    "dpf.start_local_server()\n",
    "#doc = dpf.Operator(\"html_doc\")\n",
    "#doc.inputs.output_path(r'c:/temp/doc.html')\n",
    "#doc.run()\n",
    "import os\n",
    "res_files = os.getcwd() + r'\\..\\..\\res_files'"
   ]
  },
  {
   "cell_type": "markdown",
   "metadata": {},
   "source": [
    "2nd step : create a model"
   ]
  },
  {
   "cell_type": "code",
   "execution_count": 2,
   "metadata": {},
   "outputs": [],
   "source": [
    "path = res_files + r'\\file_transient.rst'\n",
    "model = dpf.Model(path)\n",
    "metadata = model.metadata\n",
    "results = model.results"
   ]
  },
  {
   "cell_type": "code",
   "execution_count": 3,
   "metadata": {},
   "outputs": [
    {
     "name": "stdout",
     "output_type": "stream",
     "text": [
      "Static analysis\n",
      "Unit system: Metric (m, kg, N, s, V, A)\n",
      "Physics Type: Mecanic\n",
      "Available results:\n",
      "     -  displacement                  \n",
      "     -  force                         \n",
      "     -  stress                        \n",
      "     -  volume                        \n",
      "     -  energy_stiffness_matrix       \n",
      "     -  hourglass_energy              \n",
      "     -  thermal_dissipation_energy    \n",
      "     -  kinetic_energy                \n",
      "     -  co_energy                     \n",
      "     -  incremental_energy            \n",
      "     -  strain                        \n",
      "\n"
     ]
    }
   ],
   "source": [
    "print(metadata.result_info)"
   ]
  },
  {
   "cell_type": "code",
   "execution_count": 4,
   "metadata": {
    "scrolled": true
   },
   "outputs": [
    {
     "name": "stdout",
     "output_type": "stream",
     "text": [
      "Meshed Region\n",
      "\t1277 nodes\n",
      "\t682 elements\n",
      "\tUnit: m \n",
      "\n"
     ]
    }
   ],
   "source": [
    "print(metadata.meshed_region)"
   ]
  },
  {
   "cell_type": "code",
   "execution_count": 5,
   "metadata": {},
   "outputs": [
    {
     "name": "stdout",
     "output_type": "stream",
     "text": [
      "Time/Frequency Info:\n",
      "\tNumber of sets: 206\n",
      "\n",
      "With complex values\n",
      " \n",
      " Cumulative      Time (s)       Loadstep     Substep   \n",
      "     1             0.0             1            1      \n",
      "     2            1e-05            1            2      \n",
      "     3            6e-05            1            3      \n",
      "     4           0.00031           1            4      \n",
      "     5           0.000935          1            5      \n",
      "     6            0.0025           1            6      \n",
      "     7            0.0064           1            7      \n",
      "     8            0.0114           1            8      \n",
      "     9            0.0164           1            9      \n",
      "     10           0.0214           1            10     \n",
      "     11           0.0264           1            11     \n",
      "     12           0.0314           1            12     \n",
      "     13           0.0364           1            13     \n",
      "     14           0.0414           1            14     \n",
      "     15           0.0464           1            15     \n",
      "     16           0.0514           1            16     \n",
      "     17           0.0564           1            17     \n",
      "     18           0.0614           1            18     \n",
      "     19           0.0664           1            19     \n",
      "     20           0.0714           1            20     \n",
      "     21           0.0764           1            21     \n",
      "     22           0.0814           1            22     \n",
      "     23           0.0864           1            23     \n",
      "     24           0.0914           1            24     \n",
      "     25           0.0964           1            25     \n",
      "     26           0.101            1            26     \n",
      "     27           0.106            1            27     \n",
      "     28           0.111            1            28     \n",
      "     29           0.116            1            29     \n",
      "     30           0.121            1            30     \n",
      "     31           0.126            1            31     \n",
      "     32           0.131            1            32     \n",
      "     33           0.136            1            33     \n",
      "     34           0.141            1            34     \n",
      "     35           0.146            1            35     \n",
      "     36           0.151            1            36     \n",
      "     37           0.156            1            37     \n",
      "     38           0.161            1            38     \n",
      "     39           0.166            1            39     \n",
      "     40           0.171            1            40     \n",
      "     41           0.176            1            41     \n",
      "     42           0.181            1            42     \n",
      "     43           0.186            1            43     \n",
      "     44           0.191            1            44     \n",
      "     45           0.196            1            45     \n",
      "     46           0.201            1            46     \n",
      "     47           0.206            1            47     \n",
      "     48           0.211            1            48     \n",
      "     49           0.216            1            49     \n",
      "     50           0.221            1            50     \n",
      "     51           0.226            1            51     \n",
      "     52           0.231            1            52     \n",
      "     53           0.236            1            53     \n",
      "     54           0.241            1            54     \n",
      "     55           0.246            1            55     \n",
      "     56           0.251            1            56     \n",
      "     57           0.256            1            57     \n",
      "     58           0.261            1            58     \n",
      "     59           0.266            1            59     \n",
      "     60           0.271            1            60     \n",
      "     61           0.276            1            61     \n",
      "     62           0.281            1            62     \n",
      "     63           0.286            1            63     \n",
      "     64           0.291            1            64     \n",
      "     65           0.296            1            65     \n",
      "     66           0.301            1            66     \n",
      "     67           0.306            1            67     \n",
      "     68           0.311            1            68     \n",
      "     69           0.316            1            69     \n",
      "     70           0.321            1            70     \n",
      "     71           0.326            1            71     \n",
      "     72           0.331            1            72     \n",
      "     73           0.336            1            73     \n",
      "     74           0.341            1            74     \n",
      "     75           0.346            1            75     \n",
      "     76           0.351            1            76     \n",
      "     77           0.356            1            77     \n",
      "     78           0.361            1            78     \n",
      "     79           0.366            1            79     \n",
      "     80           0.371            1            80     \n",
      "     81           0.376            1            81     \n",
      "     82           0.381            1            82     \n",
      "     83           0.386            1            83     \n",
      "     84           0.391            1            84     \n",
      "     85           0.396            1            85     \n",
      "     86           0.401            1            86     \n",
      "     87           0.406            1            87     \n",
      "     88           0.411            1            88     \n",
      "     89           0.416            1            89     \n",
      "     90           0.421            1            90     \n",
      "     91           0.426            1            91     \n",
      "     92           0.431            1            92     \n",
      "     93           0.436            1            93     \n",
      "     94           0.441            1            94     \n",
      "     95           0.446            1            95     \n",
      "     96           0.451            1            96     \n",
      "     97           0.456            1            97     \n",
      "     98           0.461            1            98     \n",
      "     99           0.466            1            99     \n",
      "    100           0.471            1           100     \n",
      "    101           0.476            1           101     \n",
      "    102           0.481            1           102     \n",
      "    103           0.486            1           103     \n",
      "    104           0.491            1           104     \n",
      "    105           0.496            1           105     \n",
      "    106           0.501            1           106     \n",
      "    107           0.506            1           107     \n",
      "    108           0.511            1           108     \n",
      "    109           0.516            1           109     \n",
      "    110           0.521            1           110     \n",
      "    111           0.526            1           111     \n",
      "    112           0.531            1           112     \n",
      "    113           0.536            1           113     \n",
      "    114           0.541            1           114     \n",
      "    115           0.546            1           115     \n",
      "    116           0.551            1           116     \n",
      "    117           0.556            1           117     \n",
      "    118           0.561            1           118     \n",
      "    119           0.566            1           119     \n",
      "    120           0.571            1           120     \n",
      "    121           0.576            1           121     \n",
      "    122           0.581            1           122     \n",
      "    123           0.586            1           123     \n",
      "    124           0.591            1           124     \n",
      "    125           0.596            1           125     \n",
      "    126           0.601            1           126     \n",
      "    127           0.606            1           127     \n",
      "    128           0.611            1           128     \n",
      "    129           0.616            1           129     \n",
      "    130           0.621            1           130     \n",
      "    131           0.626            1           131     \n",
      "    132           0.631            1           132     \n",
      "    133           0.636            1           133     \n",
      "    134           0.641            1           134     \n",
      "    135           0.646            1           135     \n",
      "    136           0.651            1           136     \n",
      "    137           0.656            1           137     \n",
      "    138           0.661            1           138     \n",
      "    139           0.666            1           139     \n",
      "    140           0.671            1           140     \n",
      "    141           0.676            1           141     \n",
      "    142           0.681            1           142     \n",
      "    143           0.686            1           143     \n",
      "    144           0.691            1           144     \n",
      "    145           0.696            1           145     \n",
      "    146           0.701            1           146     \n",
      "    147           0.706            1           147     \n",
      "    148           0.711            1           148     \n",
      "    149           0.716            1           149     \n",
      "    150           0.721            1           150     \n",
      "    151           0.726            1           151     \n",
      "    152           0.731            1           152     \n",
      "    153           0.736            1           153     \n",
      "    154           0.741            1           154     \n",
      "    155           0.746            1           155     \n",
      "    156           0.751            1           156     \n",
      "    157           0.756            1           157     \n",
      "    158           0.761            1           158     \n",
      "    159           0.766            1           159     \n",
      "    160           0.771            1           160     \n",
      "    161           0.776            1           161     \n",
      "    162           0.781            1           162     \n",
      "    163           0.786            1           163     \n",
      "    164           0.791            1           164     \n",
      "    165           0.796            1           165     \n",
      "    166           0.801            1           166     \n",
      "    167           0.806            1           167     \n",
      "    168           0.811            1           168     \n",
      "    169           0.816            1           169     \n",
      "    170           0.821            1           170     \n",
      "    171           0.826            1           171     \n",
      "    172           0.831            1           172     \n",
      "    173           0.836            1           173     \n",
      "    174           0.841            1           174     \n",
      "    175           0.846            1           175     \n",
      "    176           0.851            1           176     \n",
      "    177           0.856            1           177     \n",
      "    178           0.861            1           178     \n",
      "    179           0.866            1           179     \n",
      "    180           0.871            1           180     \n",
      "    181           0.876            1           181     \n",
      "    182           0.881            1           182     \n",
      "    183           0.886            1           183     \n",
      "    184           0.891            1           184     \n",
      "    185           0.896            1           185     \n",
      "    186           0.901            1           186     \n",
      "    187           0.906            1           187     \n",
      "    188           0.911            1           188     \n",
      "    189           0.916            1           189     \n",
      "    190           0.921            1           190     \n",
      "    191           0.926            1           191     \n",
      "    192           0.931            1           192     \n",
      "    193           0.936            1           193     \n",
      "    194           0.941            1           194     \n",
      "    195           0.946            1           195     \n",
      "    196           0.951            1           196     \n",
      "    197           0.956            1           197     \n",
      "    198           0.961            1           198     \n",
      "    199           0.966            1           199     \n",
      "    200           0.971            1           200     \n",
      "    201           0.976            1           201     \n",
      "    202           0.981            1           202     \n",
      "    203           0.986            1           203     \n",
      "    204           0.991            1           204     \n",
      "    205           0.996            1           205     \n",
      "    206            1.0             1           206     \n",
      "\n"
     ]
    }
   ],
   "source": [
    "print(metadata.time_freq_support)\n"
   ]
  },
  {
   "cell_type": "markdown",
   "metadata": {},
   "source": [
    "## read displacements and calculate Total deformatiom min max over time"
   ]
  },
  {
   "cell_type": "code",
   "execution_count": 6,
   "metadata": {},
   "outputs": [],
   "source": [
    "displacements = model.results.displacement()\n",
    "normOp = dpf.Operator(\"norm_fc\")\n",
    "minmaxOp = dpf.Operator(\"min_max_fc\")\n",
    "timeIds = list(range(1,metadata.time_freq_support.n_sets+1))"
   ]
  },
  {
   "cell_type": "code",
   "execution_count": 7,
   "metadata": {},
   "outputs": [],
   "source": [
    "displacements.inputs.time_scoping.connect(timeIds)\n",
    "normOp.inputs.connect(displacements.outputs)\n",
    "minmaxOp.inputs.connect(normOp.outputs)"
   ]
  },
  {
   "cell_type": "code",
   "execution_count": 8,
   "metadata": {},
   "outputs": [],
   "source": [
    "fieldMin = minmaxOp.outputs.field_min()\n",
    "fieldMax = minmaxOp.outputs.field_max()"
   ]
  },
  {
   "cell_type": "code",
   "execution_count": 9,
   "metadata": {},
   "outputs": [],
   "source": [
    "timeSupport = metadata.time_freq_support"
   ]
  },
  {
   "cell_type": "code",
   "execution_count": 10,
   "metadata": {},
   "outputs": [],
   "source": [
    "timefield = timeSupport.time_frequencies"
   ]
  },
  {
   "cell_type": "code",
   "execution_count": 11,
   "metadata": {},
   "outputs": [
    {
     "data": {
      "image/png": "[encoded data removed]",
      "text/plain": [
       "<Figure size 432x288 with 1 Axes>"
      ]
     },
     "metadata": {
      "needs_background": "light"
     },
     "output_type": "display_data"
    }
   ],
   "source": [
    "import matplotlib.pyplot as pyplot\n",
    "\n",
    "pyplot.plot(timefield.data,fieldMax.data,'r',label='max u')\n",
    "pyplot.plot(timefield.data,fieldMin.data,'b',label=\"min u\")\n",
    "#pyplot.title(\"maximum and minimum of displacement over time\")\n",
    "pyplot.xlabel(\"time (s)\")\n",
    "pyplot.ylabel(\"displacement (m)\")\n",
    "leg = pyplot.legend()"
   ]
  },
  {
   "cell_type": "markdown",
   "metadata": {},
   "source": [
    "## read stresses and calculate stress equivalent min max over time"
   ]
  },
  {
   "cell_type": "code",
   "execution_count": 12,
   "metadata": {},
   "outputs": [],
   "source": [
    "stressOp = results.stress()"
   ]
  },
  {
   "cell_type": "code",
   "execution_count": 13,
   "metadata": {},
   "outputs": [],
   "source": [
    "stressOp.inputs.time_scoping.connect(timeIds)\n",
    "stressOp.inputs.requested_location.connect(\"Nodal\")\n",
    "\n",
    "eqv = stressOp.eqv()\n",
    "minmaxOp.inputs.fields_container.connect(eqv.outputs)"
   ]
  },
  {
   "cell_type": "code",
   "execution_count": 14,
   "metadata": {},
   "outputs": [],
   "source": [
    "fieldMin = minmaxOp.outputs.field_min()\n",
    "fieldMax = minmaxOp.outputs.field_max()"
   ]
  },
  {
   "cell_type": "code",
   "execution_count": 15,
   "metadata": {},
   "outputs": [
    {
     "data": {
      "image/png": "[encoded data removed]",
      "text/plain": [
       "<Figure size 432x288 with 1 Axes>"
      ]
     },
     "metadata": {
      "needs_background": "light"
     },
     "output_type": "display_data"
    }
   ],
   "source": [
    "import matplotlib.pyplot as pyplot\n",
    "\n",
    "pyplot.plot(timefield.data,fieldMax.data,'r',label='max eqv')\n",
    "pyplot.plot(timefield.data,fieldMin.data,'b',label=\"min eqv\")\n",
    "#pyplot.title(\"maximum and minimum of displacement over time\")\n",
    "pyplot.xlabel(\"time (s)\")\n",
    "pyplot.ylabel(\"stress (Pa)\")\n",
    "leg = pyplot.legend()"
   ]
  },
  {
   "cell_type": "markdown",
   "metadata": {},
   "source": [
    "## export to vtk"
   ]
  },
  {
   "cell_type": "code",
   "execution_count": 16,
   "metadata": {},
   "outputs": [],
   "source": [
    "vtk = dpf.Operator(\"vtk_export\")"
   ]
  },
  {
   "cell_type": "code",
   "execution_count": 17,
   "metadata": {},
   "outputs": [],
   "source": [
    "vtk.inputs.file_path(r'c:/temp/file_static.vtk')\n",
    "vtk.inputs.mesh.connect(metadata.meshed_region)\n",
    "vtk.inputs.fields1.connect(eqv.outputs.fields_container)\n",
    "vtk.inputs.fields2.connect(displacements.outputs.fields_container)\n",
    "vtk.run()"
   ]
  },
  {
   "cell_type": "code",
   "execution_count": null,
   "metadata": {},
   "outputs": [],
   "source": []
  },
  {
   "cell_type": "code",
   "execution_count": null,
   "metadata": {},
   "outputs": [],
   "source": []
  }
 ],
 "metadata": {
  "kernelspec": {
   "display_name": "Python 3",
   "language": "python",
   "name": "python3"
  },
  "language_info": {
   "codemirror_mode": {
    "name": "ipython",
    "version": 3
   },
   "file_extension": ".py",
   "mimetype": "text/x-python",
   "name": "python",
   "nbconvert_exporter": "python",
   "pygments_lexer": "ipython3",
   "version": "3.7.6"
  },
  "widgets": {
   "application/vnd.jupyter.widget-state+json": {
    "state": {},
    "version_major": 2,
    "version_minor": 0
   }
  }
 },
 "nbformat": 4,
 "nbformat_minor": 4
}
