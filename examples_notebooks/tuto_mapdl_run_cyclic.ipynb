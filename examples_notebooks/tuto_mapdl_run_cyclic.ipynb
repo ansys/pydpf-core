{
 "cells": [
  {
   "cell_type": "markdown",
   "metadata": {},
   "source": [
    "# In this tutorial the operator \"mapdl::run\" is used to generate an rst file and then, results are evaluated on this rst with a cyclic model"
   ]
  },
  {
   "cell_type": "markdown",
   "metadata": {},
   "source": [
    "## lauch the server"
   ]
  },
  {
   "cell_type": "code",
   "execution_count": 1,
   "metadata": {},
   "outputs": [
    {
     "name": "stdout",
     "output_type": "stream",
     "text": [
      "server started at --address 10.110.2.47 --port 50052\n"
     ]
    }
   ],
   "source": [
    "from ansys import dpf\n",
    "dpf.start_local_server()"
   ]
  },
  {
   "cell_type": "markdown",
   "metadata": {},
   "source": [
    "## use \"mapdl::run\""
   ]
  },
  {
   "cell_type": "code",
   "execution_count": 26,
   "metadata": {},
   "outputs": [],
   "source": [
    "import os\n",
    "\n",
    "if 'AWP_UNIT_TEST_FILES' in os.environ:\n",
    "    unit_test_files = os.environ['AWP_UNIT_TEST_FILES']\n",
    "    \n",
    "test_file_path = os.path.join(unit_test_files, 'DataProcessing', 'cyclic','quad','ds.dat')\n",
    "data_sources = dpf.DataSources(test_file_path)"
   ]
  },
  {
   "cell_type": "code",
   "execution_count": 27,
   "metadata": {},
   "outputs": [],
   "source": [
    "mapld_run =dpf.Operator(\"mapdl::run\")\n",
    "#print(mapld_run)"
   ]
  },
  {
   "cell_type": "code",
   "execution_count": 28,
   "metadata": {},
   "outputs": [],
   "source": [
    "mapld_run.inputs.data_sources(data_sources)\n",
    "mapld_run.inputs.mapdl_exe_path(r'C:\\\\Program Files\\\\ANSYS Inc\\\\v212\\\\ansys\\\\bin\\\\winx64\\\\ansys2021R2.exe')\n",
    "rst_data_sources = mapld_run.outputs.data_sources()"
   ]
  },
  {
   "cell_type": "markdown",
   "metadata": {},
   "source": [
    "## read diplacement, stress and strain"
   ]
  },
  {
   "cell_type": "code",
   "execution_count": 29,
   "metadata": {
    "scrolled": true
   },
   "outputs": [],
   "source": [
    "model = dpf.Model(rst_data_sources)\n",
    "time_freq_support =model.time_freq_support\n",
    "#print(time_freq_support)"
   ]
  },
  {
   "cell_type": "code",
   "execution_count": 30,
   "metadata": {},
   "outputs": [],
   "source": [
    "assert time_freq_support.n_sets==30"
   ]
  },
  {
   "cell_type": "code",
   "execution_count": 31,
   "metadata": {},
   "outputs": [],
   "source": [
    "mesh =model.meshed_region\n",
    "#print(mesh)"
   ]
  },
  {
   "cell_type": "code",
   "execution_count": 32,
   "metadata": {},
   "outputs": [],
   "source": [
    "els =mesh.elements\n",
    "el = mesh.get_element(elementid=1)"
   ]
  },
  {
   "cell_type": "code",
   "execution_count": 33,
   "metadata": {},
   "outputs": [],
   "source": [
    "assert len(els.ids)==4"
   ]
  },
  {
   "cell_type": "code",
   "execution_count": 34,
   "metadata": {},
   "outputs": [],
   "source": [
    "assert el.nodes_count()==20\n",
    "assert el.get_nodes()[0].coordinates == [-1.084202172e-18, 0.00102, 0.002921563606]\n",
    "assert el.get_nodes()[3].coordinates == [-0.001210151269, 0.00102, 0.002921563606]"
   ]
  },
  {
   "cell_type": "code",
   "execution_count": 35,
   "metadata": {},
   "outputs": [],
   "source": [
    "el = mesh.get_element(elementid=2)"
   ]
  },
  {
   "cell_type": "code",
   "execution_count": 36,
   "metadata": {},
   "outputs": [],
   "source": [
    "assert el.nodes_count()==20\n",
    "assert el.get_nodes()[0].coordinates == [-1.084202172e-18, 0.00102, 0.002921563606]\n",
    "assert el.get_nodes()[3].coordinates == [-1.084202172e-18, 0.0, 0.002921563606]"
   ]
  },
  {
   "cell_type": "markdown",
   "metadata": {},
   "source": [
    "### stress nodal"
   ]
  },
  {
   "cell_type": "code",
   "execution_count": 37,
   "metadata": {},
   "outputs": [],
   "source": [
    "s = model.operator(\"mapdl::rst::S_cyclic\")\n",
    "s.inputs.requested_location(\"Nodal\")\n",
    "fcS = s.outputs.fields_container()"
   ]
  },
  {
   "cell_type": "code",
   "execution_count": 38,
   "metadata": {},
   "outputs": [],
   "source": [
    "min_max= dpf.Operator(\"min_max\")\n",
    "min_max.inputs.field.connect(fcS[0])"
   ]
  },
  {
   "cell_type": "code",
   "execution_count": 39,
   "metadata": {},
   "outputs": [],
   "source": [
    "min = min_max.outputs.field_min()\n",
    "max =  min_max.outputs.field_max()"
   ]
  },
  {
   "cell_type": "code",
   "execution_count": 40,
   "metadata": {},
   "outputs": [],
   "source": [
    "assert min.data ==[-1.612489189611259e+16,\n",
    " -7282652033180194.0,\n",
    " -1.6124891896112584e+16,\n",
    " -8475938880878909.0,\n",
    " -8475938880878907.0,\n",
    " -4549709949260746.0]\n",
    "\n",
    "assert max.data ==[1.6124891896112594e+16,\n",
    " 7282652033180192.0,\n",
    " 1.6124891896112588e+16,\n",
    " 8475938880878907.0,\n",
    " 8475938880878907.0,\n",
    " 4549709949260745.0]"
   ]
  },
  {
   "cell_type": "code",
   "execution_count": 41,
   "metadata": {},
   "outputs": [],
   "source": [
    "assert len(fcS[0].scoping.ids)==304"
   ]
  },
  {
   "cell_type": "markdown",
   "metadata": {},
   "source": [
    "### stress elemental nodal"
   ]
  },
  {
   "cell_type": "code",
   "execution_count": 42,
   "metadata": {},
   "outputs": [],
   "source": [
    "s = model.operator(\"mapdl::rst::S_cyclic\")\n",
    "fcS = s.outputs.fields_container()\n",
    "min_max= dpf.Operator(\"min_max\")\n",
    "min_max.inputs.field.connect(fcS[0])\n",
    "min = min_max.outputs.field_min()\n",
    "max =  min_max.outputs.field_max()"
   ]
  },
  {
   "cell_type": "code",
   "execution_count": 43,
   "metadata": {},
   "outputs": [],
   "source": [
    "assert min.data ==[-1.6124891896112592e+16, -7282652033180194.0, -1.6124891896112584e+16, -8475938880878909.0, -8475938880878907.0, -4549709949260747.0]\n",
    "\n",
    "assert max.data ==[1.6124891896112596e+16, 7282652033180192.0, 1.6124891896112588e+16, 8475938880878907.0, 8475938880878907.0, 4549709949260746.0]"
   ]
  },
  {
   "cell_type": "markdown",
   "metadata": {},
   "source": [
    "### displacement "
   ]
  },
  {
   "cell_type": "code",
   "execution_count": 45,
   "metadata": {},
   "outputs": [],
   "source": [
    "u = model.operator(\"mapdl::rst::U_cyclic\")\n",
    "u.inputs.time_scoping([1,2,3])\n",
    "fcU = u.outputs.fields_container()"
   ]
  },
  {
   "cell_type": "code",
   "execution_count": 46,
   "metadata": {},
   "outputs": [],
   "source": [
    "min_max_over_time= dpf.Operator(\"min_max_fc\")\n",
    "min_max_over_time.inputs.fields_container.connect(fcU)\n",
    "min = min_max_over_time.outputs.field_min()\n",
    "max =  min_max_over_time.outputs.field_max()"
   ]
  },
  {
   "cell_type": "code",
   "execution_count": 47,
   "metadata": {},
   "outputs": [],
   "source": [
    "assert min.data ==[-45.61903533293341, 0.0, -45.61903533293339, -73.80905178031536, -3.500528202108204, -73.80905178031537, -100.78111048835589, -43.43288110302569, -100.78111048835592]\n",
    "\n",
    "assert max.data ==[45.6190353329334, 94.52618694714785, 45.61903533293341, 73.80905178031536, 3.500528202122901, 73.80905178031536, 100.78111048835589, 43.43288109112891, 100.78111048835589]"
   ]
  },
  {
   "cell_type": "markdown",
   "metadata": {},
   "source": [
    "## delete the temp folder"
   ]
  },
  {
   "cell_type": "code",
   "execution_count": 48,
   "metadata": {},
   "outputs": [],
   "source": [
    "path =os.path.join(rst_data_sources.result_files[0])\n",
    "import shutil\n",
    "shutil.rmtree(os.path.dirname(path))"
   ]
  },
  {
   "cell_type": "code",
   "execution_count": null,
   "metadata": {},
   "outputs": [],
   "source": []
  }
 ],
 "metadata": {
  "kernelspec": {
   "display_name": "Python 3",
   "language": "python",
   "name": "python3"
  },
  "language_info": {
   "codemirror_mode": {
    "name": "ipython",
    "version": 3
   },
   "file_extension": ".py",
   "mimetype": "text/x-python",
   "name": "python",
   "nbconvert_exporter": "python",
   "pygments_lexer": "ipython3",
   "version": "3.7.9"
  },
  "widgets": {
   "application/vnd.jupyter.widget-state+json": {
    "state": {},
    "version_major": 2,
    "version_minor": 0
   }
  }
 },
 "nbformat": 4,
 "nbformat_minor": 4
}
