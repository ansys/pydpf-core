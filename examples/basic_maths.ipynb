{
 "cells": [
  {
   "cell_type": "code",
   "execution_count": 1,
   "id": "820d6458",
   "metadata": {
    "execution": {
     "iopub.execute_input": "2025-08-08T08:01:17.750774Z",
     "iopub.status.busy": "2025-08-08T08:01:17.750150Z",
     "iopub.status.idle": "2025-08-08T08:01:19.485130Z",
     "shell.execute_reply": "2025-08-08T08:01:19.483604Z"
    }
   },
   "outputs": [],
   "source": [
    "# Import the ``ansys.dpf.core`` module\n",
    "from ansys.dpf import core as dpf\n",
    "# Import the math operators module\n",
    "from ansys.dpf.core.operators import math as maths"
   ]
  },
  {
   "cell_type": "code",
   "execution_count": 2,
   "id": "6a0efe86",
   "metadata": {
    "execution": {
     "iopub.execute_input": "2025-08-08T08:01:19.493342Z",
     "iopub.status.busy": "2025-08-08T08:01:19.492343Z",
     "iopub.status.idle": "2025-08-08T08:01:19.737368Z",
     "shell.execute_reply": "2025-08-08T08:01:19.736179Z"
    }
   },
   "outputs": [
    {
     "name": "stdout",
     "output_type": "stream",
     "text": [
      "Field 1 \n",
      " DPF  Field\n",
      "  Location: Nodal\n",
      "  Unit: \n",
      "  2 entities \n",
      "  Data: 3 components and 2 elementary data \n",
      "\n",
      "  IDs                   data\n",
      "  ------------          ----------\n",
      "  0                     1.000000e+00   2.000000e+00   3.000000e+00   \n",
      "                        \n",
      "  1                     4.000000e+00   5.000000e+00   6.000000e+00   \n",
      "                        \n",
      "\n",
      " \n",
      "\n",
      "Field 2 \n",
      " DPF  Field\n",
      "  Location: Nodal\n",
      "  Unit: \n",
      "  2 entities \n",
      "  Data: 3 components and 2 elementary data \n",
      "\n",
      "  IDs                   data\n",
      "  ------------          ----------\n",
      "  0                     7.000000e+00   3.000000e+00   5.000000e+00   \n",
      "                        \n",
      "  1                     8.000000e+00   1.000000e+00   2.000000e+00   \n",
      "                        \n",
      "\n",
      " \n",
      "\n",
      "Field 3 \n",
      " DPF  Field\n",
      "  Location: Nodal\n",
      "  Unit: \n",
      "  2 entities \n",
      "  Data: 3 components and 2 elementary data \n",
      "\n",
      "  IDs                   data\n",
      "  ------------          ----------\n",
      "  0                     6.000000e+00   5.000000e+00   4.000000e+00   \n",
      "                        \n",
      "  1                     3.000000e+00   2.000000e+00   1.000000e+00   \n",
      "                        \n",
      "\n",
      " \n",
      "\n",
      "Field 4 \n",
      " DPF  Field\n",
      "  Location: Nodal\n",
      "  Unit: \n",
      "  2 entities \n",
      "  Data: 3 components and 2 elementary data \n",
      "\n",
      "  IDs                   data\n",
      "  ------------          ----------\n",
      "  0                     4.000000e+00   1.000000e+00   8.000000e+00   \n",
      "                        \n",
      "  1                     5.000000e+00   7.000000e+00   9.000000e+00   \n",
      "                        \n",
      "\n",
      " \n",
      "\n"
     ]
    }
   ],
   "source": [
    "# Create four nodal 3D vector fields of size 2\n",
    "num_entities = 2\n",
    "field1 = dpf.Field(nentities=num_entities)\n",
    "field2 = dpf.Field(nentities=num_entities)\n",
    "field3 = dpf.Field(nentities=num_entities)\n",
    "field4 = dpf.Field(nentities=num_entities)\n",
    "\n",
    "# Set the scoping IDs\n",
    "field1.scoping.ids = field2.scoping.ids = field3.scoping.ids = field4.scoping.ids = range(num_entities)\n",
    "\n",
    "# Set the data for each field using flat lists (of size = num_entities * num_components)\n",
    "field1.data = [1.0, 2.0, 3.0, 4.0, 5.0, 6.0]\n",
    "field2.data = [7.0, 3.0, 5.0, 8.0, 1.0, 2.0]\n",
    "field3.data = [6.0, 5.0, 4.0, 3.0, 2.0, 1.0]\n",
    "field4.data = [4.0, 1.0, 8.0, 5.0, 7.0, 9.0]\n",
    "\n",
    "# Print the fields\n",
    "print(\"Field 1\",\"\\n\", field1, \"\\n\"); print(\"Field 2\",\"\\n\", field2, \"\\n\");\n",
    "print(\"Field 3\",\"\\n\", field3, \"\\n\"); print(\"Field 4\",\"\\n\", field4, \"\\n\")"
   ]
  },
  {
   "cell_type": "code",
   "execution_count": 3,
   "id": "992ccf81",
   "metadata": {
    "execution": {
     "iopub.execute_input": "2025-08-08T08:01:19.744537Z",
     "iopub.status.busy": "2025-08-08T08:01:19.743532Z",
     "iopub.status.idle": "2025-08-08T08:01:19.753349Z",
     "shell.execute_reply": "2025-08-08T08:01:19.752336Z"
    }
   },
   "outputs": [
    {
     "name": "stdout",
     "output_type": "stream",
     "text": [
      "FieldsContainer1 \n",
      " DPF  Fields Container\n",
      "  with 2 field(s)\n",
      "  defined on labels: time \n",
      "\n",
      "  with:\n",
      "  - field 0 {time:  1} with Nodal location, 3 components and 2 entities.\n",
      "  - field 1 {time:  2} with Nodal location, 3 components and 2 entities.\n",
      " \n",
      "\n",
      "FieldsContainer2 \n",
      " DPF  Fields Container\n",
      "  with 2 field(s)\n",
      "  defined on labels: time \n",
      "\n",
      "  with:\n",
      "  - field 0 {time:  1} with Nodal location, 3 components and 2 entities.\n",
      "  - field 1 {time:  2} with Nodal location, 3 components and 2 entities.\n",
      " \n",
      "\n"
     ]
    }
   ],
   "source": [
    "# Create the field containers\n",
    "fc1 = dpf.fields_container_factory.over_time_freq_fields_container(fields=[field1, field2])\n",
    "fc2 = dpf.fields_container_factory.over_time_freq_fields_container(fields=[field3, field4])\n",
    "\n",
    "# Print the field containers\n",
    "print(\"FieldsContainer1\",\"\\n\", fc1, \"\\n\")\n",
    "print(\"FieldsContainer2\",\"\\n\", fc2, \"\\n\")"
   ]
  },
  {
   "cell_type": "code",
   "execution_count": 4,
   "id": "0f26ffdb",
   "metadata": {
    "execution": {
     "iopub.execute_input": "2025-08-08T08:01:19.756545Z",
     "iopub.status.busy": "2025-08-08T08:01:19.756545Z",
     "iopub.status.idle": "2025-08-08T08:01:19.764373Z",
     "shell.execute_reply": "2025-08-08T08:01:19.763182Z"
    }
   },
   "outputs": [
    {
     "name": "stdout",
     "output_type": "stream",
     "text": [
      "Field 5 \n",
      " DPF  Field\n",
      "  Location: Nodal\n",
      "  Unit: \n",
      "  3 entities \n",
      "  Data: 3 components and 3 elementary data \n",
      "\n",
      "  IDs                   data\n",
      "  ------------          ----------\n",
      "  1                     1.000000e+00   2.000000e+00   3.000000e+00   \n",
      "                        \n",
      "  2                     4.000000e+00   5.000000e+00   6.000000e+00   \n",
      "                        \n",
      "  3                     7.000000e+00   8.000000e+00   9.000000e+00   \n",
      "                        \n",
      "\n",
      " \n",
      "\n",
      "Field 6 \n",
      " DPF  Field\n",
      "  Location: Nodal\n",
      "  Unit: \n",
      "  3 entities \n",
      "  Data: 3 components and 3 elementary data \n",
      "\n",
      "  IDs                   data\n",
      "  ------------          ----------\n",
      "  3                     5.000000e+00   1.000000e+00   6.000000e+00   \n",
      "                        \n",
      "  4                     3.000000e+00   8.000000e+00   9.000000e+00   \n",
      "                        \n",
      "  5                     7.000000e+00   2.000000e+00   4.000000e+00   \n",
      "                        \n",
      "\n",
      " \n",
      "\n"
     ]
    }
   ],
   "source": [
    "# Instantiate two nodal 3D vector fields of length 3\n",
    "field5 = dpf.Field(nentities=3)\n",
    "field6 = dpf.Field(nentities=3)\n",
    "\n",
    "# Set the data for each field\n",
    "field5.data = [1.0, 2.0, 3.0, 4.0, 5.0, 6.0, 7.0, 8.0, 9.0]\n",
    "field6.data = [5.0, 1.0, 6.0, 3.0, 8.0, 9.0, 7.0, 2.0, 4.0]\n",
    "\n",
    "# Set the scoping IDs (here node IDs)\n",
    "field5.scoping.ids = [1, 2, 3]\n",
    "field6.scoping.ids = [3, 4, 5]\n",
    "\n",
    "# Print the fields\n",
    "print(\"Field 5\", \"\\n\", field5, \"\\n\")\n",
    "print(\"Field 6\", \"\\n\", field6, \"\\n\")"
   ]
  },
  {
   "cell_type": "code",
   "execution_count": 5,
   "id": "23aae2b3",
   "metadata": {
    "execution": {
     "iopub.execute_input": "2025-08-08T08:01:19.767853Z",
     "iopub.status.busy": "2025-08-08T08:01:19.766373Z",
     "iopub.status.idle": "2025-08-08T08:01:21.370619Z",
     "shell.execute_reply": "2025-08-08T08:01:21.369604Z"
    }
   },
   "outputs": [
    {
     "name": "stdout",
     "output_type": "stream",
     "text": [
      "DPF  Field\n",
      "  Location: Nodal\n",
      "  Unit: \n",
      "  5 entities \n",
      "  Data: 3 components and 5 elementary data \n",
      "\n",
      "  IDs                   data\n",
      "  ------------          ----------\n",
      "  1                     1.000000e+00   2.000000e+00   3.000000e+00   \n",
      "                        \n",
      "  2                     4.000000e+00   5.000000e+00   6.000000e+00   \n",
      "                        \n",
      "  3                     1.200000e+01   9.000000e+00   1.500000e+01   \n",
      "                        \n",
      "  ...\n",
      "\n",
      " \n",
      "\n"
     ]
    }
   ],
   "source": [
    "# Use the add operator\n",
    "add_scop = dpf.operators.math.add(fieldA=field5, fieldB=field6).eval()\n",
    "\n",
    "# Print the result\n",
    "# The resulting field only contains data for entities where a match is found in the other field.\n",
    "# It has the size of the intersection of the two scopings.\n",
    "# Here this means the addition returns a field with data only for the node with ID=3.\n",
    "# This behavior is specific to each operator.\n",
    "print(add_scop, \"\\n\")"
   ]
  },
  {
   "cell_type": "code",
   "execution_count": 6,
   "id": "3b57dc0e",
   "metadata": {
    "execution": {
     "iopub.execute_input": "2025-08-08T08:01:21.374619Z",
     "iopub.status.busy": "2025-08-08T08:01:21.373619Z",
     "iopub.status.idle": "2025-08-08T08:01:21.383804Z",
     "shell.execute_reply": "2025-08-08T08:01:21.383296Z"
    }
   },
   "outputs": [
    {
     "name": "stdout",
     "output_type": "stream",
     "text": [
      "DPF  Field\n",
      "  Location: Nodal\n",
      "  Unit: \n",
      "  5 entities \n",
      "  Data: 1 components and 5 elementary data \n",
      "\n",
      "  IDs                   data\n",
      "  ------------          ----------\n",
      "  1                     0.000000e+00   \n",
      "                        \n",
      "  2                     0.000000e+00   \n",
      "                        \n",
      "  3                     9.700000e+01   \n",
      "                        \n",
      "  ...\n",
      "\n",
      " \n",
      "\n",
      "[ 0.  0. 97.  0.  0.] \n",
      "\n"
     ]
    }
   ],
   "source": [
    "# Use the dot product operator\n",
    "dot_scop = dpf.operators.math.generalized_inner_product(fieldA=field5, fieldB=field6).eval()\n",
    "# ID 3: (7. * 5.) + (8. * 1.) + (9. * 6.)\n",
    "\n",
    "# Print the result\n",
    "# The operator returns zero for entities where no match is found in the other field.\n",
    "# The resulting field is the size of the union of the two scopings.\n",
    "# This behavior is specific to each operator.\n",
    "print(dot_scop,\"\\n\")\n",
    "print(dot_scop.data,\"\\n\")"
   ]
  },
  {
   "cell_type": "code",
   "execution_count": 7,
   "id": "59a6e06a",
   "metadata": {
    "execution": {
     "iopub.execute_input": "2025-08-08T08:01:21.388638Z",
     "iopub.status.busy": "2025-08-08T08:01:21.387124Z",
     "iopub.status.idle": "2025-08-08T08:01:21.393652Z",
     "shell.execute_reply": "2025-08-08T08:01:21.393652Z"
    }
   },
   "outputs": [
    {
     "name": "stdout",
     "output_type": "stream",
     "text": [
      "Addition field  DPF  Field\n",
      "  Location: Nodal\n",
      "  Unit: \n",
      "  2 entities \n",
      "  Data: 3 components and 2 elementary data \n",
      "\n",
      "  IDs                   data\n",
      "  ------------          ----------\n",
      "  0                     8.000000e+00   5.000000e+00   8.000000e+00   \n",
      "                        \n",
      "  1                     1.200000e+01   6.000000e+00   8.000000e+00   \n",
      "                        \n",
      "\n",
      " \n",
      "\n"
     ]
    }
   ],
   "source": [
    "# Add the fields\n",
    "add_field = maths.add(fieldA=field1, fieldB=field2).eval()\n",
    "# id 0: [1.+7. 2.+3. 3.+5.] = [ 8.  5.  8.]\n",
    "# id 1: [4.+8. 5.+1. 6.+2.] = [12.  6.  8.]\n",
    "\n",
    "# Print the results\n",
    "print(\"Addition field \", add_field , \"\\n\")"
   ]
  },
  {
   "cell_type": "code",
   "execution_count": 8,
   "id": "e8080d4b",
   "metadata": {
    "execution": {
     "iopub.execute_input": "2025-08-08T08:01:21.396657Z",
     "iopub.status.busy": "2025-08-08T08:01:21.395657Z",
     "iopub.status.idle": "2025-08-08T08:01:21.402100Z",
     "shell.execute_reply": "2025-08-08T08:01:21.402100Z"
    }
   },
   "outputs": [
    {
     "name": "stdout",
     "output_type": "stream",
     "text": [
      "Addition FieldsContainers \n",
      " DPF  Fields Container\n",
      "  with 2 field(s)\n",
      "  defined on labels: time \n",
      "\n",
      "  with:\n",
      "  - field 0 {time:  1} with Nodal location, 3 components and 2 entities.\n",
      "  - field 1 {time:  2} with Nodal location, 3 components and 2 entities.\n",
      " \n",
      "\n",
      "DPF  Field\n",
      "  Location: Nodal\n",
      "  Unit: \n",
      "  2 entities \n",
      "  Data: 3 components and 2 elementary data \n",
      "\n",
      "  IDs                   data\n",
      "  ------------          ----------\n",
      "  0                     7.000000e+00   7.000000e+00   7.000000e+00   \n",
      "                        \n",
      "  1                     7.000000e+00   7.000000e+00   7.000000e+00   \n",
      "                        \n",
      "\n",
      " \n",
      "\n",
      "DPF  Field\n",
      "  Location: Nodal\n",
      "  Unit: \n",
      "  2 entities \n",
      "  Data: 3 components and 2 elementary data \n",
      "\n",
      "  IDs                   data\n",
      "  ------------          ----------\n",
      "  0                     1.100000e+01   4.000000e+00   1.300000e+01   \n",
      "                        \n",
      "  1                     1.300000e+01   8.000000e+00   1.100000e+01   \n",
      "                        \n",
      "\n",
      " \n",
      "\n"
     ]
    }
   ],
   "source": [
    "# Add the two field collections\n",
    "add_fc = maths.add_fc(fields_container1=fc1, fields_container2=fc2).eval()\n",
    "# {time: 1}: field1 + field3\n",
    "#           -->      id 0: [1.+6. 2.+5. 3.+4.] = [7. 7. 7.]\n",
    "#                    id 1: [4.+3. 5.+2. 6.+1.] = [7. 7. 7.]\n",
    "#\n",
    "# {time: 2}: field2 + field4\n",
    "#           -->      id 0: [7.+4. 3.+1. 5.+8.] = [11. 4. 13.]\n",
    "#                    id 1: [8.+5. 1.+7. 2.+9.] = [13. 8. 11.]\n",
    "\n",
    "# Print the results\n",
    "print(\"Addition FieldsContainers\",\"\\n\", add_fc , \"\\n\")\n",
    "print(add_fc.get_field({\"time\":1}), \"\\n\")\n",
    "print(add_fc.get_field({\"time\":2}), \"\\n\")"
   ]
  },
  {
   "cell_type": "code",
   "execution_count": 9,
   "id": "cdde7742",
   "metadata": {
    "execution": {
     "iopub.execute_input": "2025-08-08T08:01:21.405188Z",
     "iopub.status.busy": "2025-08-08T08:01:21.404187Z",
     "iopub.status.idle": "2025-08-08T08:01:21.410295Z",
     "shell.execute_reply": "2025-08-08T08:01:21.409781Z"
    }
   },
   "outputs": [
    {
     "name": "stdout",
     "output_type": "stream",
     "text": [
      "Total sum fields \n",
      " DPF  Field\n",
      "  Location: overall\n",
      "  Unit: \n",
      "  1 entities \n",
      "  Data: 3 components and 1 elementary data \n",
      "\n",
      "  overall\n",
      "  IDs                   data\n",
      "  ------------          ----------\n",
      "  0                     5.000000e+00   7.000000e+00   9.000000e+00   \n",
      "                        \n",
      "\n",
      " \n",
      "\n"
     ]
    }
   ],
   "source": [
    "# Compute the total sum of a field\n",
    "tot_sum_field = maths.accumulate(fieldA=field1).eval()\n",
    "# vector component 0 = 1. + 4. = 5.\n",
    "# vector component 1 = 2. + 5. = 7.\n",
    "# vector component 2 = 3. + 6. = 9.\n",
    "\n",
    "# Print the results\n",
    "print(\"Total sum fields\",\"\\n\", tot_sum_field, \"\\n\")"
   ]
  },
  {
   "cell_type": "code",
   "execution_count": 10,
   "id": "69917db7",
   "metadata": {
    "execution": {
     "iopub.execute_input": "2025-08-08T08:01:21.412300Z",
     "iopub.status.busy": "2025-08-08T08:01:21.411300Z",
     "iopub.status.idle": "2025-08-08T08:01:21.417877Z",
     "shell.execute_reply": "2025-08-08T08:01:21.417877Z"
    }
   },
   "outputs": [
    {
     "name": "stdout",
     "output_type": "stream",
     "text": [
      "Total sum FieldsContainers \n",
      " DPF  Fields Container\n",
      "  with 2 field(s)\n",
      "  defined on labels: time \n",
      "\n",
      "  with:\n",
      "  - field 0 {time:  1} with overall location, 3 components and 1 entities.\n",
      "  - field 1 {time:  2} with overall location, 3 components and 1 entities.\n",
      " \n",
      "\n",
      "DPF  Field\n",
      "  Location: overall\n",
      "  Unit: \n",
      "  1 entities \n",
      "  Data: 3 components and 1 elementary data \n",
      "\n",
      "  overall\n",
      "  IDs                   data\n",
      "  ------------          ----------\n",
      "  0                     5.000000e+00   7.000000e+00   9.000000e+00   \n",
      "                        \n",
      "\n",
      " \n",
      "\n",
      "DPF  Field\n",
      "  Location: overall\n",
      "  Unit: \n",
      "  1 entities \n",
      "  Data: 3 components and 1 elementary data \n",
      "\n",
      "  overall\n",
      "  IDs                   data\n",
      "  ------------          ----------\n",
      "  0                     1.500000e+01   4.000000e+00   7.000000e+00   \n",
      "                        \n",
      "\n",
      " \n",
      "\n"
     ]
    }
   ],
   "source": [
    "# Find the total sum of the two field collections\n",
    "tot_sum_fc = maths.accumulate_fc(fields_container=fc1).eval()\n",
    "# {time: 1}: field1\n",
    "#           -->      vector component 0 = 1.+ 4. = 5.\n",
    "#                    vector component 1 = 2.+ 5. = 7.\n",
    "#                    vector component 2 = 3.+ 6. = 9.\n",
    "#\n",
    "# {time: 2}: field2\n",
    "#           -->      vector component 0 = 7.+ 8. = 15.\n",
    "#                    vector component 1 = 3.+ 1. = 4.\n",
    "#                    vector component 2 = 5.+ 2. = 7.\n",
    "\n",
    "# Print the results\n",
    "print(\"Total sum FieldsContainers\",\"\\n\", tot_sum_fc , \"\\n\")\n",
    "print(tot_sum_fc.get_field({\"time\":1}), \"\\n\")\n",
    "print(tot_sum_fc.get_field({\"time\":2}), \"\\n\")"
   ]
  },
  {
   "cell_type": "code",
   "execution_count": 11,
   "id": "625aa90a",
   "metadata": {
    "execution": {
     "iopub.execute_input": "2025-08-08T08:01:21.421006Z",
     "iopub.status.busy": "2025-08-08T08:01:21.421006Z",
     "iopub.status.idle": "2025-08-08T08:01:21.426473Z",
     "shell.execute_reply": "2025-08-08T08:01:21.426473Z"
    }
   },
   "outputs": [
    {
     "name": "stdout",
     "output_type": "stream",
     "text": [
      "Total weighted sum: \n",
      " DPF  Field\n",
      "  Location: overall\n",
      "  Unit: \n",
      "  1 entities \n",
      "  Data: 3 components and 1 elementary data \n",
      "\n",
      "  overall\n",
      "  IDs                   data\n",
      "  ------------          ----------\n",
      "  0                     1.300000e+01   2.000000e+01   2.700000e+01   \n",
      "                        \n",
      "\n",
      " \n",
      "\n"
     ]
    }
   ],
   "source": [
    "# Define the scale factor field\n",
    "scale_vect = dpf.Field(nentities=num_entities, nature=dpf.natures.scalar)\n",
    "# Set the scale factor field scoping IDs\n",
    "scale_vect.scoping.ids = range(num_entities)\n",
    "# Set the scale factor field data\n",
    "scale_vect.data = [5., 2.]\n",
    "\n",
    "# Compute the total sum of the field using a scaling field\n",
    "tot_sum_field_scale = maths.accumulate(fieldA=field1, weights=scale_vect).eval()\n",
    "# vector component 0 = (1.0 * 5.0) + (4.0 * 2.0) = 13.\n",
    "# vector component 1 = (2.0 * 5.0) + (5.0 * 2.0) = 20.\n",
    "# vector component 2 = (3.0 * 5.0) + (6.0 * 2.0) = 27.\n",
    "\n",
    "# Print the results\n",
    "print(\"Total weighted sum:\",\"\\n\", tot_sum_field_scale, \"\\n\")"
   ]
  },
  {
   "cell_type": "code",
   "execution_count": 12,
   "id": "df599ae2",
   "metadata": {
    "execution": {
     "iopub.execute_input": "2025-08-08T08:01:21.428485Z",
     "iopub.status.busy": "2025-08-08T08:01:21.428485Z",
     "iopub.status.idle": "2025-08-08T08:01:21.434530Z",
     "shell.execute_reply": "2025-08-08T08:01:21.434530Z"
    }
   },
   "outputs": [
    {
     "name": "stdout",
     "output_type": "stream",
     "text": [
      "Total sum FieldsContainers scale \n",
      " DPF  Fields Container\n",
      "  with 2 field(s)\n",
      "  defined on labels: time \n",
      "\n",
      "  with:\n",
      "  - field 0 {time:  1} with overall location, 3 components and 1 entities.\n",
      "  - field 1 {time:  2} with overall location, 3 components and 1 entities.\n",
      " \n",
      "\n",
      "DPF  Field\n",
      "  Location: overall\n",
      "  Unit: \n",
      "  1 entities \n",
      "  Data: 3 components and 1 elementary data \n",
      "\n",
      "  overall\n",
      "  IDs                   data\n",
      "  ------------          ----------\n",
      "  0                     1.300000e+01   2.000000e+01   2.700000e+01   \n",
      "                        \n",
      "\n",
      " \n",
      "\n",
      "DPF  Field\n",
      "  Location: overall\n",
      "  Unit: \n",
      "  1 entities \n",
      "  Data: 3 components and 1 elementary data \n",
      "\n",
      "  overall\n",
      "  IDs                   data\n",
      "  ------------          ----------\n",
      "  0                     5.100000e+01   1.700000e+01   2.900000e+01   \n",
      "                        \n",
      "\n",
      " \n",
      "\n"
     ]
    }
   ],
   "source": [
    "# Total scaled sum of the two field collections (accumulate)\n",
    "tot_sum_fc_scale = maths.accumulate_fc(fields_container=fc1, weights=scale_vect).eval()\n",
    "# {time: 1}: field1\n",
    "#           -->      vector component 0 = (1.0 * 5.0) + (4.0 * 2.0) = 13.\n",
    "#                    vector component 1 = (2.0 * 5.0) + (5.0 * 2.0) = 20.\n",
    "#                    vector component 2 = (3.0 * 5.0) + (6.0 * 2.0) = 27.\n",
    "#\n",
    "# {time: 2}: field2\n",
    "#           -->      vector component 0 = (7.0 * 5.0) + (8.0 * 2.0) = 51.\n",
    "#                    vector component 1 = (3.0 * 5.0) + (1.0 * 2.0) = 17.\n",
    "#                    vector component 2 = (5.0 * 5.0) + (2.0 * 2.0) = 29.\n",
    "\n",
    "# Print the results\n",
    "print(\"Total sum FieldsContainers scale\",\"\\n\", tot_sum_fc_scale , \"\\n\")\n",
    "print(tot_sum_fc_scale.get_field({\"time\":1}), \"\\n\")\n",
    "print(tot_sum_fc_scale.get_field({\"time\":2}), \"\\n\")"
   ]
  },
  {
   "cell_type": "code",
   "execution_count": 13,
   "id": "b64c379b",
   "metadata": {
    "execution": {
     "iopub.execute_input": "2025-08-08T08:01:21.436535Z",
     "iopub.status.busy": "2025-08-08T08:01:21.436535Z",
     "iopub.status.idle": "2025-08-08T08:01:21.441542Z",
     "shell.execute_reply": "2025-08-08T08:01:21.441542Z"
    }
   },
   "outputs": [
    {
     "name": "stdout",
     "output_type": "stream",
     "text": [
      "Subtraction field \n",
      " DPF  Field\n",
      "  Location: Nodal\n",
      "  Unit: \n",
      "  2 entities \n",
      "  Data: 3 components and 2 elementary data \n",
      "\n",
      "  IDs                   data\n",
      "  ------------          ----------\n",
      "  0                     -6.000000e+00  -1.000000e+00  -2.000000e+00  \n",
      "                        \n",
      "  1                     -4.000000e+00  4.000000e+00   4.000000e+00   \n",
      "                        \n",
      "\n",
      " \n",
      "\n"
     ]
    }
   ],
   "source": [
    "# Subtraction of two 3D vector fields\n",
    "minus_field = maths.minus(fieldA=field1, fieldB=field2).eval()\n",
    "# id 0: [1.-7. 2.-3. 3.-5.] = [-6. -1. -2.]\n",
    "# id 1: [4.-8. 5.-1. 6.-2.] = [-4. 4. 4.]\n",
    "\n",
    "# Print the results\n",
    "print(\"Subtraction field\",\"\\n\", minus_field , \"\\n\")"
   ]
  },
  {
   "cell_type": "code",
   "execution_count": 14,
   "id": "57374d97",
   "metadata": {
    "execution": {
     "iopub.execute_input": "2025-08-08T08:01:21.443974Z",
     "iopub.status.busy": "2025-08-08T08:01:21.443974Z",
     "iopub.status.idle": "2025-08-08T08:01:21.450651Z",
     "shell.execute_reply": "2025-08-08T08:01:21.450651Z"
    }
   },
   "outputs": [
    {
     "name": "stdout",
     "output_type": "stream",
     "text": [
      "Subtraction field collection \n",
      " DPF  Fields Container\n",
      "  with 2 field(s)\n",
      "  defined on labels: time \n",
      "\n",
      "  with:\n",
      "  - field 0 {time:  1} with Nodal location, 3 components and 2 entities.\n",
      "  - field 1 {time:  2} with Nodal location, 3 components and 2 entities.\n",
      " \n",
      "\n",
      "DPF  Field\n",
      "  Location: Nodal\n",
      "  Unit: \n",
      "  2 entities \n",
      "  Data: 3 components and 2 elementary data \n",
      "\n",
      "  IDs                   data\n",
      "  ------------          ----------\n",
      "  0                     -5.000000e+00  -3.000000e+00  -1.000000e+00  \n",
      "                        \n",
      "  1                     1.000000e+00   3.000000e+00   5.000000e+00   \n",
      "                        \n",
      "\n",
      " \n",
      "\n",
      "DPF  Field\n",
      "  Location: Nodal\n",
      "  Unit: \n",
      "  2 entities \n",
      "  Data: 3 components and 2 elementary data \n",
      "\n",
      "  IDs                   data\n",
      "  ------------          ----------\n",
      "  0                     3.000000e+00   2.000000e+00   -3.000000e+00  \n",
      "                        \n",
      "  1                     3.000000e+00   -6.000000e+00  -7.000000e+00  \n",
      "                        \n",
      "\n",
      " \n",
      "\n"
     ]
    }
   ],
   "source": [
    "# Subtraction of two field collections\n",
    "minus_fc = maths.minus_fc(\n",
    "    field_or_fields_container_A=fc1,\n",
    "    field_or_fields_container_B=fc2\n",
    ").eval()\n",
    "# {time: 1}: field1 - field3\n",
    "#           -->      id 0: [1.-6. 2.-5. 3.-4.] = [-5. -3. -1.]\n",
    "#                    id 1: [4.-3. 5.-2. 6.-1.] = [1. 3. 5.]\n",
    "#\n",
    "# {time: 2}: field2 - field4\n",
    "#           -->      id 0: [7.-4. 3.-1. 5.-8.] = [3. 2. -3.]\n",
    "#                    id 1: [8.-5. 1.-7. 2.-9.] = [3. -6. -7.]\n",
    "\n",
    "# Print the results\n",
    "print(\"Subtraction field collection\",\"\\n\", minus_fc , \"\\n\")\n",
    "print(minus_fc.get_field({\"time\":1}), \"\\n\")\n",
    "print(minus_fc.get_field({\"time\":2}), \"\\n\")"
   ]
  },
  {
   "cell_type": "code",
   "execution_count": 15,
   "id": "c5d291aa",
   "metadata": {
    "execution": {
     "iopub.execute_input": "2025-08-08T08:01:21.453163Z",
     "iopub.status.busy": "2025-08-08T08:01:21.453163Z",
     "iopub.status.idle": "2025-08-08T08:01:21.459043Z",
     "shell.execute_reply": "2025-08-08T08:01:21.458540Z"
    }
   },
   "outputs": [
    {
     "name": "stdout",
     "output_type": "stream",
     "text": [
      "Element-wise product field \n",
      " DPF  Field\n",
      "  Location: Nodal\n",
      "  Unit: \n",
      "  2 entities \n",
      "  Data: 3 components and 2 elementary data \n",
      "\n",
      "  IDs                   data\n",
      "  ------------          ----------\n",
      "  0                     7.000000e+00   6.000000e+00   1.500000e+01   \n",
      "                        \n",
      "  1                     3.200000e+01   5.000000e+00   1.200000e+01   \n",
      "                        \n",
      "\n",
      " \n",
      "\n"
     ]
    }
   ],
   "source": [
    "# Compute the Hadamard product of two fields\n",
    "element_prod_field = maths.component_wise_product(fieldA=field1, fieldB=field2).eval()\n",
    "# id 0: [1.*7. 2.*3. 3.*5.] = [7. 6. 15.]\n",
    "# id 1: [4.*8. 5.*1. 6.*2.] = [32. 5. 12.]\n",
    "\n",
    "# Print the results\n",
    "print(\"Element-wise product field\",\"\\n\", element_prod_field , \"\\n\")"
   ]
  },
  {
   "cell_type": "code",
   "execution_count": 16,
   "id": "48caf518",
   "metadata": {
    "execution": {
     "iopub.execute_input": "2025-08-08T08:01:21.460848Z",
     "iopub.status.busy": "2025-08-08T08:01:21.460848Z",
     "iopub.status.idle": "2025-08-08T08:01:21.466108Z",
     "shell.execute_reply": "2025-08-08T08:01:21.466108Z"
    }
   },
   "outputs": [
    {
     "name": "stdout",
     "output_type": "stream",
     "text": [
      "Element product FieldsContainer \n",
      " DPF  Fields Container\n",
      "  with 2 field(s)\n",
      "  defined on labels: time \n",
      "\n",
      "  with:\n",
      "  - field 0 {time:  1} with Nodal location, 3 components and 2 entities.\n",
      "  - field 1 {time:  2} with Nodal location, 3 components and 2 entities.\n",
      " \n",
      "\n",
      "DPF  Field\n",
      "  Location: Nodal\n",
      "  Unit: \n",
      "  2 entities \n",
      "  Data: 3 components and 2 elementary data \n",
      "\n",
      "  IDs                   data\n",
      "  ------------          ----------\n",
      "  0                     6.000000e+00   1.000000e+01   1.200000e+01   \n",
      "                        \n",
      "  1                     1.200000e+01   1.000000e+01   6.000000e+00   \n",
      "                        \n",
      "\n",
      " \n",
      "\n",
      "DPF  Field\n",
      "  Location: Nodal\n",
      "  Unit: \n",
      "  2 entities \n",
      "  Data: 3 components and 2 elementary data \n",
      "\n",
      "  IDs                   data\n",
      "  ------------          ----------\n",
      "  0                     4.200000e+01   1.500000e+01   2.000000e+01   \n",
      "                        \n",
      "  1                     2.400000e+01   2.000000e+00   2.000000e+00   \n",
      "                        \n",
      "\n",
      " \n",
      "\n"
     ]
    }
   ],
   "source": [
    "# Cross product of each field in a collection and a single unique field\n",
    "element_prod_fc = maths.component_wise_product_fc(fields_container=fc1, fieldB=field3).eval()\n",
    "# {time: 1}: field1 and field3\n",
    "#           -->      id 0: [1.*6. 2.*5. 3.*4.] = [6. 10. 12.]\n",
    "#                    id 1: [4.*3. 5.*2. 6.*1.] = [12. 10. 6.]\n",
    "#\n",
    "# {time: 2}: field2 and field3\n",
    "#           -->      id 0: [7.*6. 3.*5. 5.*4.] = [42. 15. 20.]\n",
    "#                    id 1: [8.*3. 1.*2. 2.*1.] = [24. 2. 2.]\n",
    "\n",
    "# Print the results\n",
    "print(\"Element product FieldsContainer\",\"\\n\", element_prod_fc , \"\\n\")\n",
    "print(element_prod_fc.get_field({\"time\":1}), \"\\n\")\n",
    "print(element_prod_fc.get_field({\"time\":2}), \"\\n\")"
   ]
  },
  {
   "cell_type": "code",
   "execution_count": 17,
   "id": "abc5fa93",
   "metadata": {
    "execution": {
     "iopub.execute_input": "2025-08-08T08:01:21.468461Z",
     "iopub.status.busy": "2025-08-08T08:01:21.467456Z",
     "iopub.status.idle": "2025-08-08T08:01:21.472560Z",
     "shell.execute_reply": "2025-08-08T08:01:21.472560Z"
    }
   },
   "outputs": [
    {
     "name": "stdout",
     "output_type": "stream",
     "text": [
      "Cross product field \n",
      " DPF  Field\n",
      "  Location: Nodal\n",
      "  Unit: \n",
      "  2 entities \n",
      "  Data: 3 components and 2 elementary data \n",
      "\n",
      "  IDs                   data\n",
      "  ------------          ----------\n",
      "  0                     1.000000e+00   1.600000e+01   -1.100000e+01  \n",
      "                        \n",
      "  1                     4.000000e+00   4.000000e+01   -3.600000e+01  \n",
      "                        \n",
      "\n",
      " \n",
      "\n"
     ]
    }
   ],
   "source": [
    "# Compute the cross product\n",
    "cross_prod_field = maths.cross_product(fieldA=field1, fieldB=field2).eval()\n",
    "# id 0: [(2.*5. - 3.*3.)  (3.*7. - 1.*5.)  (1.*3. - 2.*7.)] = [1. 16. -11.]\n",
    "# id 1: [(5.*2. - 6.*1.)  (6.*8. - 4.*2.)  (4.*1. - 5.*8.)] = [4. 40. -36.]\n",
    "\n",
    "# Print the results\n",
    "print(\"Cross product field\",\"\\n\", cross_prod_field , \"\\n\")"
   ]
  },
  {
   "cell_type": "code",
   "execution_count": 18,
   "id": "26d584b5",
   "metadata": {
    "execution": {
     "iopub.execute_input": "2025-08-08T08:01:21.474564Z",
     "iopub.status.busy": "2025-08-08T08:01:21.474564Z",
     "iopub.status.idle": "2025-08-08T08:01:21.480531Z",
     "shell.execute_reply": "2025-08-08T08:01:21.480531Z"
    }
   },
   "outputs": [
    {
     "name": "stdout",
     "output_type": "stream",
     "text": [
      "Cross product FieldsContainer \n",
      " DPF  Fields Container\n",
      "  with 2 field(s)\n",
      "  defined on labels: time \n",
      "\n",
      "  with:\n",
      "  - field 0 {time:  1} with Nodal location, 3 components and 2 entities.\n",
      "  - field 1 {time:  2} with Nodal location, 3 components and 2 entities.\n",
      " \n",
      "\n",
      "DPF  Field\n",
      "  Location: Nodal\n",
      "  Unit: \n",
      "  2 entities \n",
      "  Data: 3 components and 2 elementary data \n",
      "\n",
      "  IDs                   data\n",
      "  ------------          ----------\n",
      "  0                     -7.000000e+00  1.400000e+01   -7.000000e+00  \n",
      "                        \n",
      "  1                     -7.000000e+00  1.400000e+01   -7.000000e+00  \n",
      "                        \n",
      "\n",
      " \n",
      "\n",
      "DPF  Field\n",
      "  Location: Nodal\n",
      "  Unit: \n",
      "  2 entities \n",
      "  Data: 3 components and 2 elementary data \n",
      "\n",
      "  IDs                   data\n",
      "  ------------          ----------\n",
      "  0                     1.900000e+01   -3.600000e+01  -5.000000e+00  \n",
      "                        \n",
      "  1                     -5.000000e+00  -6.200000e+01  5.100000e+01   \n",
      "                        \n",
      "\n",
      " \n",
      "\n"
     ]
    }
   ],
   "source": [
    "# Cross product of two field collections\n",
    "cross_prod_fc = maths.cross_product_fc(field_or_fields_container_A=fc1,field_or_fields_container_B=fc2).eval()\n",
    "# {time: 1}: field1 X field3\n",
    "#           -->      id 0: [(2.*4. - 3.*5.)  (3.*6. - 1.*4.)  (1.*5. - 2.*6.)] = [-7. 14. -7.]\n",
    "#                    id 1: [(5.*1. - 6.*2.)  (6.*3. - 4.*1.)  (4.*2. - 5.*3.)] = [-7. 14. -7.]\n",
    "#\n",
    "# {time: 2}: field2 X field4\n",
    "#           -->      id 0: [(3.*8. - 5.*1.)  (5.*4. - 7.*8.)  (7.*1. - 3.*4.)] = [19. -36. -5]\n",
    "#                    id 1: [(1.*9. - 2.*7.)  (2.*5. - 8.*9.)  (8.*7. - 1.*5.)] = [-5. -62. 51.]\n",
    "\n",
    "# Print the results\n",
    "print(\"Cross product FieldsContainer\",\"\\n\", cross_prod_fc , \"\\n\")\n",
    "print(cross_prod_fc.get_field({\"time\":1}), \"\\n\")\n",
    "print(cross_prod_fc.get_field({\"time\":2}), \"\\n\")"
   ]
  },
  {
   "cell_type": "code",
   "execution_count": 19,
   "id": "ad7f10e4",
   "metadata": {
    "execution": {
     "iopub.execute_input": "2025-08-08T08:01:21.482567Z",
     "iopub.status.busy": "2025-08-08T08:01:21.482567Z",
     "iopub.status.idle": "2025-08-08T08:01:21.487697Z",
     "shell.execute_reply": "2025-08-08T08:01:21.487697Z"
    }
   },
   "outputs": [
    {
     "name": "stdout",
     "output_type": "stream",
     "text": [
      "Dot product field \n",
      " DPF  Field\n",
      "  Location: Nodal\n",
      "  Unit: \n",
      "  2 entities \n",
      "  Data: 1 components and 2 elementary data \n",
      "\n",
      "  IDs                   data\n",
      "  ------------          ----------\n",
      "  0                     2.800000e+01   \n",
      "                        \n",
      "  1                     4.900000e+01   \n",
      "                        \n",
      "\n",
      " \n",
      "\n"
     ]
    }
   ],
   "source": [
    "# Generalized inner product of two fields\n",
    "dot_prod_field = maths.generalized_inner_product(fieldA=field1, fieldB=field2).eval()\n",
    "# id 0: (1. * 7.) + (2. * 3.) + (3. * 5.) = 28.\n",
    "# id 1: (4. * 8.) + (5. * 1.) + (6. * 2.) = 49.\n",
    "\n",
    "# Print the results\n",
    "print(\"Dot product field\",\"\\n\", dot_prod_field , \"\\n\")"
   ]
  },
  {
   "cell_type": "code",
   "execution_count": 20,
   "id": "6f809370",
   "metadata": {
    "execution": {
     "iopub.execute_input": "2025-08-08T08:01:21.490048Z",
     "iopub.status.busy": "2025-08-08T08:01:21.490048Z",
     "iopub.status.idle": "2025-08-08T08:01:21.497036Z",
     "shell.execute_reply": "2025-08-08T08:01:21.496030Z"
    }
   },
   "outputs": [
    {
     "name": "stdout",
     "output_type": "stream",
     "text": [
      "Dot product FieldsContainer \n",
      " DPF  Fields Container\n",
      "  with 2 field(s)\n",
      "  defined on labels: time \n",
      "\n",
      "  with:\n",
      "  - field 0 {time:  1} with Nodal location, 1 components and 2 entities.\n",
      "  - field 1 {time:  2} with Nodal location, 1 components and 2 entities.\n",
      " \n",
      "\n",
      "DPF  Field\n",
      "  Location: Nodal\n",
      "  Unit: \n",
      "  2 entities \n",
      "  Data: 1 components and 2 elementary data \n",
      "\n",
      "  IDs                   data\n",
      "  ------------          ----------\n",
      "  0                     2.800000e+01   \n",
      "                        \n",
      "  1                     2.800000e+01   \n",
      "                        \n",
      "\n",
      " \n",
      "\n",
      "DPF  Field\n",
      "  Location: Nodal\n",
      "  Unit: \n",
      "  2 entities \n",
      "  Data: 1 components and 2 elementary data \n",
      "\n",
      "  IDs                   data\n",
      "  ------------          ----------\n",
      "  0                     7.100000e+01   \n",
      "                        \n",
      "  1                     6.500000e+01   \n",
      "                        \n",
      "\n",
      " \n",
      "\n"
     ]
    }
   ],
   "source": [
    "# Generalized inner product of two field collections\n",
    "dot_prod_fc = maths.generalized_inner_product_fc(field_or_fields_container_A=fc1, field_or_fields_container_B=fc2).eval()\n",
    "# {time: 1}: field1 X field3\n",
    "#           -->      id 0: (1. * 6.) + (2. * 5.) + (3. * 4.) = 28.\n",
    "#                    id 1: (4. * 3.) + (5. * 2.) + (6. * 1.) = 28.\n",
    "#\n",
    "# {time: 2}: field2 X field4\n",
    "#           -->      id 0: (7. * 4.) + (3. * 1.) + (5. * 8.) = 71.\n",
    "#                    id 1: (8. * 5.) + (1. * 7.) + (2. * 9.) = 65.\n",
    "\n",
    "# Print the results\n",
    "print(\"Dot product FieldsContainer\",\"\\n\", dot_prod_fc , \"\\n\")\n",
    "print(dot_prod_fc.get_field({\"time\":1}), \"\\n\")\n",
    "print(dot_prod_fc.get_field({\"time\":2}), \"\\n\")"
   ]
  },
  {
   "cell_type": "code",
   "execution_count": 21,
   "id": "052218b1",
   "metadata": {
    "execution": {
     "iopub.execute_input": "2025-08-08T08:01:21.499036Z",
     "iopub.status.busy": "2025-08-08T08:01:21.498036Z",
     "iopub.status.idle": "2025-08-08T08:01:21.503626Z",
     "shell.execute_reply": "2025-08-08T08:01:21.503123Z"
    }
   },
   "outputs": [
    {
     "name": "stdout",
     "output_type": "stream",
     "text": [
      "Overall dot \n",
      " DPF  Field\n",
      "  Location: overall\n",
      "  Unit: \n",
      "  1 entities \n",
      "  Data: 1 components and 1 elementary data \n",
      "\n",
      "  IDs                   data\n",
      "  ------------          ----------\n",
      "  1                     7.700000e+01   \n",
      "                        \n",
      "\n",
      " \n",
      "\n"
     ]
    }
   ],
   "source": [
    "# Overall dot product of two fields\n",
    "overall_dot = maths.overall_dot(fieldA=field1, fieldB=field2).eval()\n",
    "# id 1: (1. * 7.) + (2. * 3.) + (3. * 5.) + (4. * 8.) + (5. * 1.) + (6. * 2.) = 77.\n",
    "\n",
    "# Print the results\n",
    "print(\"Overall dot\",\"\\n\", overall_dot , \"\\n\")"
   ]
  },
  {
   "cell_type": "code",
   "execution_count": 22,
   "id": "970825b9",
   "metadata": {
    "execution": {
     "iopub.execute_input": "2025-08-08T08:01:21.505818Z",
     "iopub.status.busy": "2025-08-08T08:01:21.505818Z",
     "iopub.status.idle": "2025-08-08T08:01:21.510802Z",
     "shell.execute_reply": "2025-08-08T08:01:21.510802Z"
    }
   },
   "outputs": [
    {
     "name": "stdout",
     "output_type": "stream",
     "text": [
      "Component-wise division field \n",
      " DPF  Field\n",
      "  Location: Nodal\n",
      "  Unit: \n",
      "  2 entities \n",
      "  Data: 3 components and 2 elementary data \n",
      "\n",
      "  IDs                   data\n",
      "  ------------          ----------\n",
      "  0                     1.428571e-01   6.666667e-01   6.000000e-01   \n",
      "                        \n",
      "  1                     5.000000e-01   5.000000e+00   3.000000e+00   \n",
      "                        \n",
      "\n",
      " \n",
      "\n"
     ]
    }
   ],
   "source": [
    "# Divide a field by another field\n",
    "comp_wise_div = maths.component_wise_divide(fieldA=field1, fieldB=field2).eval()\n",
    "# id 0: [1./7. 2./3. 3./5.] = [0.143 0.667 0.6]\n",
    "# id 1: [4./8. 5./1. 6./2.] = [0.5 5. 3.]\n",
    "\n",
    "# Print the results\n",
    "print(\"Component-wise division field\",\"\\n\", comp_wise_div , \"\\n\")"
   ]
  },
  {
   "cell_type": "code",
   "execution_count": 23,
   "id": "0dc5d0b6",
   "metadata": {
    "execution": {
     "iopub.execute_input": "2025-08-08T08:01:21.514322Z",
     "iopub.status.busy": "2025-08-08T08:01:21.513313Z",
     "iopub.status.idle": "2025-08-08T08:01:21.519671Z",
     "shell.execute_reply": "2025-08-08T08:01:21.519671Z"
    }
   },
   "outputs": [
    {
     "name": "stdout",
     "output_type": "stream",
     "text": [
      "Component-wise division FieldsContainer \n",
      " DPF  Fields Container\n",
      "  with 2 field(s)\n",
      "  defined on labels: time \n",
      "\n",
      "  with:\n",
      "  - field 0 {time:  1} with Nodal location, 3 components and 2 entities.\n",
      "  - field 1 {time:  2} with Nodal location, 3 components and 2 entities.\n",
      " \n",
      "\n",
      "DPF  Field\n",
      "  Location: Nodal\n",
      "  Unit: \n",
      "  2 entities \n",
      "  Data: 3 components and 2 elementary data \n",
      "\n",
      "  IDs                   data\n",
      "  ------------          ----------\n",
      "  0                     1.666667e-01   4.000000e-01   7.500000e-01   \n",
      "                        \n",
      "  1                     1.333333e+00   2.500000e+00   6.000000e+00   \n",
      "                        \n",
      "\n",
      " \n",
      "\n",
      "DPF  Field\n",
      "  Location: Nodal\n",
      "  Unit: \n",
      "  2 entities \n",
      "  Data: 3 components and 2 elementary data \n",
      "\n",
      "  IDs                   data\n",
      "  ------------          ----------\n",
      "  0                     1.750000e+00   3.000000e+00   6.250000e-01   \n",
      "                        \n",
      "  1                     1.600000e+00   1.428571e-01   2.222222e-01   \n",
      "                        \n",
      "\n",
      " \n",
      "\n"
     ]
    }
   ],
   "source": [
    "# Component-wise division between two field collections\n",
    "comp_wise_div_fc = maths.component_wise_divide_fc(fields_containerA=fc1, fields_containerB=fc2).eval()\n",
    "# {time: 1}: field1 - field3\n",
    "#           -->      id 0: [1./6. 2./5. 3./4.] = [0.167 0.4 0.75]\n",
    "#                    id 1: [4./3. 5./2. 6./1.] = [1.333 2.5 6.]\n",
    "#\n",
    "# {time: 2}: field2 - field4\n",
    "#           -->      id 0: [7./4. 3./1. 5./8.] = [1.75 3. 0.625]\n",
    "#                    id 1: [8./5. 1./7. 2./9.] = [1.6 0.143 0.222]\n",
    "\n",
    "# Print the results\n",
    "print(\"Component-wise division FieldsContainer\",\"\\n\", comp_wise_div_fc , \"\\n\")\n",
    "print(comp_wise_div_fc.get_field({\"time\":1}), \"\\n\")\n",
    "print(comp_wise_div_fc.get_field({\"time\":2}), \"\\n\")"
   ]
  },
  {
   "cell_type": "code",
   "execution_count": 24,
   "id": "f9d436da",
   "metadata": {
    "execution": {
     "iopub.execute_input": "2025-08-08T08:01:21.521756Z",
     "iopub.status.busy": "2025-08-08T08:01:21.521756Z",
     "iopub.status.idle": "2025-08-08T08:01:21.525995Z",
     "shell.execute_reply": "2025-08-08T08:01:21.525995Z"
    }
   },
   "outputs": [
    {
     "name": "stdout",
     "output_type": "stream",
     "text": [
      "Power field \n",
      " DPF  Field\n",
      "  Location: Nodal\n",
      "  Unit: \n",
      "  2 entities \n",
      "  Data: 3 components and 2 elementary data \n",
      "\n",
      "  IDs                   data\n",
      "  ------------          ----------\n",
      "  0                     1.000000e+00   8.000000e+00   2.700000e+01   \n",
      "                        \n",
      "  1                     6.400000e+01   1.250000e+02   2.160000e+02   \n",
      "                        \n",
      "\n",
      " \n",
      "\n"
     ]
    }
   ],
   "source": [
    "# Define the power factor\n",
    "pow_factor = 3.0\n",
    "# Compute the power of three of a field\n",
    "pow_field = maths.pow(field=field1, factor=pow_factor).eval()\n",
    "# id 0: [(1.^3.) (2.^3.) (3.^3.)] = [1. 8. 27.]\n",
    "# id 1: [(4.^3.) (5.^3.) (6.^3.)] = [64. 125. 216.]\n",
    "\n",
    "# Print the results\n",
    "print(\"Power field\",\"\\n\", pow_field , \"\\n\")"
   ]
  },
  {
   "cell_type": "code",
   "execution_count": 25,
   "id": "6e0e68e7",
   "metadata": {
    "execution": {
     "iopub.execute_input": "2025-08-08T08:01:21.528048Z",
     "iopub.status.busy": "2025-08-08T08:01:21.528048Z",
     "iopub.status.idle": "2025-08-08T08:01:21.533806Z",
     "shell.execute_reply": "2025-08-08T08:01:21.533295Z"
    }
   },
   "outputs": [
    {
     "name": "stdout",
     "output_type": "stream",
     "text": [
      "Power FieldsContainer \n",
      " DPF  Fields Container\n",
      "  with 2 field(s)\n",
      "  defined on labels: time \n",
      "\n",
      "  with:\n",
      "  - field 0 {time:  1} with Nodal location, 3 components and 2 entities.\n",
      "  - field 1 {time:  2} with Nodal location, 3 components and 2 entities.\n",
      " \n",
      "\n",
      "DPF  Field\n",
      "  Location: Nodal\n",
      "  Unit: \n",
      "  2 entities \n",
      "  Data: 3 components and 2 elementary data \n",
      "\n",
      "  IDs                   data\n",
      "  ------------          ----------\n",
      "  0                     1.000000e+00   8.000000e+00   2.700000e+01   \n",
      "                        \n",
      "  1                     6.400000e+01   1.250000e+02   2.160000e+02   \n",
      "                        \n",
      "\n",
      " \n",
      "\n",
      "DPF  Field\n",
      "  Location: Nodal\n",
      "  Unit: \n",
      "  2 entities \n",
      "  Data: 3 components and 2 elementary data \n",
      "\n",
      "  IDs                   data\n",
      "  ------------          ----------\n",
      "  0                     3.430000e+02   2.700000e+01   1.250000e+02   \n",
      "                        \n",
      "  1                     5.120000e+02   1.000000e+00   8.000000e+00   \n",
      "                        \n",
      "\n",
      " \n",
      "\n"
     ]
    }
   ],
   "source": [
    "# Compute the power of three of a field collection\n",
    "pow_fc = maths.pow_fc(fields_container=fc1, factor=pow_factor).eval()\n",
    "# {time: 1}: field1\n",
    "#           -->      id 0: [(1.^3.) (2.^3.) (3.^3.)] = [1. 8. 27.]\n",
    "#                    id 1: [(4.^3.) (5.^3.) (6.^3.)] = [64. 125. 216.]\n",
    "#\n",
    "# {time: 2}: field2\n",
    "#           -->      id 0: [(7.^3.) (3.^3.) (5.^3.)] = [343. 27. 125.]\n",
    "#                    id 1: [(8.^3.) (1.^3.) (2.^3.)] = [512. 1. 8.]\n",
    "\n",
    "# Print the results\n",
    "print(\"Power FieldsContainer\",\"\\n\", pow_fc , \"\\n\")\n",
    "print(pow_fc.get_field({\"time\":1}), \"\\n\")\n",
    "print(pow_fc.get_field({\"time\":2}), \"\\n\")"
   ]
  },
  {
   "cell_type": "code",
   "execution_count": 26,
   "id": "b3474f99",
   "metadata": {
    "execution": {
     "iopub.execute_input": "2025-08-08T08:01:21.535810Z",
     "iopub.status.busy": "2025-08-08T08:01:21.535810Z",
     "iopub.status.idle": "2025-08-08T08:01:21.540543Z",
     "shell.execute_reply": "2025-08-08T08:01:21.540543Z"
    }
   },
   "outputs": [
    {
     "name": "stdout",
     "output_type": "stream",
     "text": [
      "^2 field \n",
      " DPF  Field\n",
      "  Location: Nodal\n",
      "  Unit: \n",
      "  2 entities \n",
      "  Data: 3 components and 2 elementary data \n",
      "\n",
      "  IDs                   data\n",
      "  ------------          ----------\n",
      "  0                     1.000000e+00   4.000000e+00   9.000000e+00   \n",
      "                        \n",
      "  1                     1.600000e+01   2.500000e+01   3.600000e+01   \n",
      "                        \n",
      "\n",
      " \n",
      "\n"
     ]
    }
   ],
   "source": [
    "# Compute the power of two of a field\n",
    "sqr_field = maths.sqr(field=field1).eval()\n",
    "# id 0: [(1.^2.) (2.^2.) (3.^2.)] = [1. 4. 9.]\n",
    "# id 1: [(4.^2.) (5.^2.) (6.^2.)] = [16. 25. 36.]\n",
    "\n",
    "print(\"^2 field\",\"\\n\", sqr_field , \"\\n\")"
   ]
  },
  {
   "cell_type": "code",
   "execution_count": 27,
   "id": "5d8aae22",
   "metadata": {
    "execution": {
     "iopub.execute_input": "2025-08-08T08:01:21.542550Z",
     "iopub.status.busy": "2025-08-08T08:01:21.542550Z",
     "iopub.status.idle": "2025-08-08T08:01:21.548368Z",
     "shell.execute_reply": "2025-08-08T08:01:21.548368Z"
    }
   },
   "outputs": [
    {
     "name": "stdout",
     "output_type": "stream",
     "text": [
      "^2 FieldsContainer \n",
      " DPF  Fields Container\n",
      "  with 2 field(s)\n",
      "  defined on labels: time \n",
      "\n",
      "  with:\n",
      "  - field 0 {time:  1} with Nodal location, 3 components and 2 entities.\n",
      "  - field 1 {time:  2} with Nodal location, 3 components and 2 entities.\n",
      " \n",
      "\n",
      "DPF  Field\n",
      "  Location: Nodal\n",
      "  Unit: \n",
      "  2 entities \n",
      "  Data: 3 components and 2 elementary data \n",
      "\n",
      "  IDs                   data\n",
      "  ------------          ----------\n",
      "  0                     1.000000e+00   4.000000e+00   9.000000e+00   \n",
      "                        \n",
      "  1                     1.600000e+01   2.500000e+01   3.600000e+01   \n",
      "                        \n",
      "\n",
      " \n",
      "\n",
      "DPF  Field\n",
      "  Location: Nodal\n",
      "  Unit: \n",
      "  2 entities \n",
      "  Data: 3 components and 2 elementary data \n",
      "\n",
      "  IDs                   data\n",
      "  ------------          ----------\n",
      "  0                     4.900000e+01   9.000000e+00   2.500000e+01   \n",
      "                        \n",
      "  1                     6.400000e+01   1.000000e+00   4.000000e+00   \n",
      "                        \n",
      "\n",
      " \n",
      "\n"
     ]
    }
   ],
   "source": [
    "# Compute the power of two of a field collection\n",
    "sqr_fc = maths.sqr_fc(fields_container=fc1).eval()\n",
    "# {time: 1}: field1\n",
    "#           -->      id 0: [(1.^2.) (2.^2.) (3.^2.)] = [1. 4. 9.]\n",
    "#                    id 1: [(4.^2.) (5.^2.) (6.^2.)] = [16. 25. 36.]\n",
    "#\n",
    "# {time: 2}: field2\n",
    "#           -->      id 0: [(7.^2.) (3.^2.) (5.^2.)] = [49. 9. 25.]\n",
    "#                    id 1: [(8.^2.) (1.^2.) (2.^2.)] = [64. 1. 4.]\n",
    "\n",
    "# Print the results\n",
    "print(\"^2 FieldsContainer\",\"\\n\", sqr_fc , \"\\n\")\n",
    "print(sqr_fc.get_field({\"time\":1}), \"\\n\")\n",
    "print(sqr_fc.get_field({\"time\":2}), \"\\n\")"
   ]
  },
  {
   "cell_type": "code",
   "execution_count": 28,
   "id": "c2e27545",
   "metadata": {
    "execution": {
     "iopub.execute_input": "2025-08-08T08:01:21.550475Z",
     "iopub.status.busy": "2025-08-08T08:01:21.550475Z",
     "iopub.status.idle": "2025-08-08T08:01:21.555482Z",
     "shell.execute_reply": "2025-08-08T08:01:21.555482Z"
    }
   },
   "outputs": [
    {
     "name": "stdout",
     "output_type": "stream",
     "text": [
      "^0.5 field \n",
      " DPF  Field\n",
      "  Location: Nodal\n",
      "  Unit: \n",
      "  2 entities \n",
      "  Data: 3 components and 2 elementary data \n",
      "\n",
      "  IDs                   data\n",
      "  ------------          ----------\n",
      "  0                     1.000000e+00   1.414214e+00   1.732051e+00   \n",
      "                        \n",
      "  1                     2.000000e+00   2.236068e+00   2.449490e+00   \n",
      "                        \n",
      "\n",
      " \n",
      "\n"
     ]
    }
   ],
   "source": [
    "# Compute the square-root of a field\n",
    "sqrt_field = maths.sqrt(field=field1).eval()\n",
    "# id 0: [(1.^0.5) (2.^0.5) (3.^0.5)] = [1. 1.414 1.732]\n",
    "# id 1: [(4.^0.5) (5.^0.5) (6.^0.5)] = [2. 2.236 2.449]\n",
    "\n",
    "print(\"^0.5 field\",\"\\n\", sqrt_field , \"\\n\")"
   ]
  },
  {
   "cell_type": "code",
   "execution_count": 29,
   "id": "631dbf68",
   "metadata": {
    "execution": {
     "iopub.execute_input": "2025-08-08T08:01:21.557486Z",
     "iopub.status.busy": "2025-08-08T08:01:21.557486Z",
     "iopub.status.idle": "2025-08-08T08:01:21.562618Z",
     "shell.execute_reply": "2025-08-08T08:01:21.562618Z"
    }
   },
   "outputs": [
    {
     "name": "stdout",
     "output_type": "stream",
     "text": [
      "Sqrt FieldsContainer \n",
      " DPF  Fields Container\n",
      "  with 2 field(s)\n",
      "  defined on labels: time \n",
      "\n",
      "  with:\n",
      "  - field 0 {time:  1} with Nodal location, 3 components and 2 entities.\n",
      "  - field 1 {time:  2} with Nodal location, 3 components and 2 entities.\n",
      " \n",
      "\n",
      "DPF  Field\n",
      "  Location: Nodal\n",
      "  Unit: \n",
      "  2 entities \n",
      "  Data: 3 components and 2 elementary data \n",
      "\n",
      "  IDs                   data\n",
      "  ------------          ----------\n",
      "  0                     1.000000e+00   1.414214e+00   1.732051e+00   \n",
      "                        \n",
      "  1                     2.000000e+00   2.236068e+00   2.449490e+00   \n",
      "                        \n",
      "\n",
      " \n",
      "\n",
      "DPF  Field\n",
      "  Location: Nodal\n",
      "  Unit: \n",
      "  2 entities \n",
      "  Data: 3 components and 2 elementary data \n",
      "\n",
      "  IDs                   data\n",
      "  ------------          ----------\n",
      "  0                     2.645751e+00   1.732051e+00   2.236068e+00   \n",
      "                        \n",
      "  1                     2.828427e+00   1.000000e+00   1.414214e+00   \n",
      "                        \n",
      "\n",
      " \n",
      "\n"
     ]
    }
   ],
   "source": [
    "# Compute the square-root of a field collection\n",
    "sqrt_fc = maths.sqrt_fc(fields_container=fc1).eval()\n",
    "# {time: 1}: field1\n",
    "#           -->      id 0: [(1.^.5) (2.^.5) (3.^.5)] = [1. 1.414 1.732]\n",
    "#                    id 1: [(4.^.5) (5.^.5) (6.^.5)] = [2. 2.236 2.449]\n",
    "#\n",
    "# {time: 2}: field2\n",
    "#           -->      id 0: [(7.^.5) (3.^.5) (5.^.5)] = [2.645 1.732 2.236]\n",
    "#                    id 1: [(8.^.5) (1.^.5) (2.^.5)] = [2.828 1. 1.414]\n",
    "\n",
    "# Print the results\n",
    "print(\"Sqrt FieldsContainer\",\"\\n\", sqrt_fc , \"\\n\")\n",
    "print(sqrt_fc.get_field({\"time\":1}), \"\\n\")\n",
    "print(sqrt_fc.get_field({\"time\":2}), \"\\n\")"
   ]
  },
  {
   "cell_type": "code",
   "execution_count": 30,
   "id": "0a2f2d42",
   "metadata": {
    "execution": {
     "iopub.execute_input": "2025-08-08T08:01:21.565723Z",
     "iopub.status.busy": "2025-08-08T08:01:21.564717Z",
     "iopub.status.idle": "2025-08-08T08:01:21.570329Z",
     "shell.execute_reply": "2025-08-08T08:01:21.570329Z"
    }
   },
   "outputs": [
    {
     "name": "stdout",
     "output_type": "stream",
     "text": [
      "Norm field \n",
      " DPF  Field\n",
      "  Location: Nodal\n",
      "  Unit: \n",
      "  2 entities \n",
      "  Data: 1 components and 2 elementary data \n",
      "\n",
      "  IDs                   data\n",
      "  ------------          ----------\n",
      "  0                     3.741657e+00   \n",
      "                        \n",
      "  1                     8.774964e+00   \n",
      "                        \n",
      "\n",
      " \n",
      "\n"
     ]
    }
   ],
   "source": [
    "# Compute the L2 norm of a field\n",
    "norm_field = maths.norm(field=field1, scalar_int=2).eval()\n",
    "# id 0: [(1.^2.) + (2.^2.) + (3.^2.)] ^1/2 = 3.742\n",
    "# id 1: [(4.^2.) + (5.^2.) + (6.^2.)] ^1/2 = 8.775\n",
    "\n",
    "# Print the results\n",
    "print(\"Norm field\",\"\\n\", norm_field , \"\\n\")"
   ]
  },
  {
   "cell_type": "code",
   "execution_count": 31,
   "id": "3eda5e67",
   "metadata": {
    "execution": {
     "iopub.execute_input": "2025-08-08T08:01:21.573664Z",
     "iopub.status.busy": "2025-08-08T08:01:21.572662Z",
     "iopub.status.idle": "2025-08-08T08:01:21.579746Z",
     "shell.execute_reply": "2025-08-08T08:01:21.579243Z"
    }
   },
   "outputs": [
    {
     "name": "stdout",
     "output_type": "stream",
     "text": [
      "Norm FieldsContainer"
     ]
    },
    {
     "name": "stdout",
     "output_type": "stream",
     "text": [
      " \n",
      " "
     ]
    },
    {
     "name": "stdout",
     "output_type": "stream",
     "text": [
      "DPF  Fields Container\n",
      "  with 2 field(s)\n",
      "  defined on labels: time \n",
      "\n",
      "  with:\n",
      "  - field 0 {time:  1} with Nodal location, 1 components and 2 entities.\n",
      "  - field 1 {time:  2} with Nodal location, 1 components and 2 entities.\n",
      " \n",
      "\n",
      "DPF  Field\n",
      "  Location: Nodal\n",
      "  Unit: \n",
      "  2 entities \n",
      "  Data: 1 components and 2 elementary data \n",
      "\n",
      "  IDs                   data\n",
      "  ------------          ----------\n",
      "  0                     3.741657e+00   \n",
      "                        \n",
      "  1                     8.774964e+00   \n",
      "                        \n",
      "\n",
      " \n",
      "\n",
      "DPF  Field\n",
      "  Location: Nodal\n",
      "  Unit: \n",
      "  2 entities \n",
      "  Data: 1 components and 2 elementary data \n",
      "\n",
      "  IDs                   data\n",
      "  ------------          ----------\n",
      "  0                     9.110434e+00   \n",
      "                        \n",
      "  1                     8.306624e+00   \n",
      "                        \n",
      "\n",
      " \n",
      "\n"
     ]
    }
   ],
   "source": [
    "# Define the L2 norm of a field collection\n",
    "norm_fc = maths.norm_fc(fields_container=fc1).eval()\n",
    "# {time: 1}: field1\n",
    "#           -->      id 0: [(1.^2.) + (2.^2.) + (3.^2.)] ^1/2 = 3.742\n",
    "#                    id 1: [(4.^2.) + (5.^2.) + (6.^2.)] ^1/2 = 8.775\n",
    "#\n",
    "# {time: 2}: field2\n",
    "#           -->      id 0: [(7.^2.) + (3.^2.) + (5.^2.)] ^1/2 = 9.110\n",
    "#                    id 1: [(8.^2.) + (1.^2.) + (2.^2.)] ^1/2 = 8.307\n",
    "\n",
    "# Print the results\n",
    "print(\"Norm FieldsContainer\",\"\\n\", norm_fc , \"\\n\")\n",
    "print(norm_fc.get_field({\"time\":1}), \"\\n\")\n",
    "print(norm_fc.get_field({\"time\":2}), \"\\n\")"
   ]
  }
 ],
 "metadata": {
  "kernelspec": {
   "display_name": "Python 3 (ipykernel)",
   "language": "python",
   "name": "python3"
  },
  "language_info": {
   "codemirror_mode": {
    "name": "ipython",
    "version": 3
   },
   "file_extension": ".py",
   "mimetype": "text/x-python",
   "name": "python",
   "nbconvert_exporter": "python",
   "pygments_lexer": "ipython3",
   "version": "3.12.3"
  }
 },
 "nbformat": 4,
 "nbformat_minor": 5
}