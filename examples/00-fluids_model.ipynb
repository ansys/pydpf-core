{
  "cells": [
    {
      "cell_type": "markdown",
      "metadata": {},
      "source": [
        "\n\n# Explore Fluids models\n\nThis example demonstrates how to explore Ansys Fluent and Ansys CFX models employing\nthe ``MeshInfo`` and ``ResultInfo``.\n\n<div class=\"alert alert-info\"><h4>Note</h4><p>This example requires DPF 7.0 (ansys-dpf-server-2024-1-pre0) or above.\n    For more information, see `ref_compatibility`.</p></div>\n"
      ]
    },
    {
      "cell_type": "markdown",
      "metadata": {},
      "source": [
        "# Exploring an Ansys Fluent model\nThe first part of the example demonstrates how you can explore an Ansys Fluent\nmodel. Import the result file and create a model.\n\n"
      ]
    },
    {
      "cell_type": "code",
      "execution_count": null,
      "metadata": {
        "collapsed": false
      },
      "outputs": [],
      "source": [
        "import ansys.dpf.core as dpf\nfrom ansys.dpf.core import examples\n\npath = examples.download_fluent_axial_comp()[\"flprj\"]\nds = dpf.DataSources(path)\nmodel = dpf.Model(data_sources=ds)"
      ]
    },
    {
      "cell_type": "markdown",
      "metadata": {},
      "source": [
        "## Exploring the mesh\nExplore the mesh through the ``MeshInfo``. The ``MeshInfo`` provides metadata\ninformation about the mesh. For fluid models, it is useful to know the cell and\nface zones, as well as the topological relationships between them. First get all\nthe available information in the ``MeshInfo`` .\n\n"
      ]
    },
    {
      "cell_type": "code",
      "execution_count": null,
      "metadata": {
        "collapsed": false
      },
      "outputs": [],
      "source": [
        "minfo = model.metadata.mesh_info\nprint(minfo)"
      ]
    },
    {
      "cell_type": "markdown",
      "metadata": {},
      "source": [
        "Then, get the bodies and their names in the model with the \"body_names\" ``StringField``,\nwhich provides a relationship between body IDs and names. In this model there are two\nbodies.\n\n"
      ]
    },
    {
      "cell_type": "code",
      "execution_count": null,
      "metadata": {
        "collapsed": false
      },
      "outputs": [],
      "source": [
        "print(minfo.get_property(\"body_names\"))"
      ]
    },
    {
      "cell_type": "markdown",
      "metadata": {},
      "source": [
        "Each body is comprised of a set of cell zones. You can investigate the hierarchical\nrelationship between bodies and cell zones through the \"body_cell_topology\"\n``PropertyField``, which provides a relationship between the body IDs and the cell zone\nIDs. In this case, each body is only comprised of one cell zone.\n\n"
      ]
    },
    {
      "cell_type": "code",
      "execution_count": null,
      "metadata": {
        "collapsed": false
      },
      "outputs": [],
      "source": [
        "print(minfo.get_property(\"body_cell_topology\"))"
      ]
    },
    {
      "cell_type": "markdown",
      "metadata": {},
      "source": [
        "Similarly, each body is limited by a set of face zones (generally representing\nboundary conditions). You can investigate the hierarchical relationship between\nbodies and face zones through the \"body_face_topology\" ``PropertyField``, which\nprovides a relationship between the body IDs and the face zone IDs. In this case,\neach body is limited by several face zones.\n\n"
      ]
    },
    {
      "cell_type": "code",
      "execution_count": null,
      "metadata": {
        "collapsed": false
      },
      "outputs": [],
      "source": [
        "print(minfo.get_property(\"body_face_topology\"))"
      ]
    },
    {
      "cell_type": "markdown",
      "metadata": {},
      "source": [
        "The cell and face zone IDs shown in the previous PropertyFields can be mapped\nto their names through the \"body_zone_names\" and \"face_zone_names\" ``PropertyField``.\nAs in this model there is a 1-1 correspondence between bodies and cell zones,\nthey have the same names and IDs.\n\n"
      ]
    },
    {
      "cell_type": "code",
      "execution_count": null,
      "metadata": {
        "collapsed": false
      },
      "outputs": [],
      "source": [
        "print(minfo.get_property(\"cell_zone_names\"))\nprint(minfo.get_property(\"face_zone_names\"))"
      ]
    },
    {
      "cell_type": "markdown",
      "metadata": {},
      "source": [
        "All zone names (regardless of them being cell or face zones) are exported to\nthe \"zone_names\" ``StringField`` .\n\n"
      ]
    },
    {
      "cell_type": "code",
      "execution_count": null,
      "metadata": {
        "collapsed": false
      },
      "outputs": [],
      "source": [
        "print(minfo.get_property(\"zone_names\"))"
      ]
    },
    {
      "cell_type": "markdown",
      "metadata": {},
      "source": [
        "Helpers are provided to quickly get a map of zone ID to zone name.\n\n"
      ]
    },
    {
      "cell_type": "code",
      "execution_count": null,
      "metadata": {
        "collapsed": false
      },
      "outputs": [],
      "source": [
        "print(minfo.zones)\nprint(minfo.cell_zones)\nprint(minfo.face_zones)"
      ]
    },
    {
      "cell_type": "markdown",
      "metadata": {},
      "source": [
        "As well as a map of body ID to body name.\n\n"
      ]
    },
    {
      "cell_type": "code",
      "execution_count": null,
      "metadata": {
        "collapsed": false
      },
      "outputs": [],
      "source": [
        "print(minfo.bodies)"
      ]
    },
    {
      "cell_type": "markdown",
      "metadata": {},
      "source": [
        "To facilitate the extraction of results, the body, cell and face zone ``Scoping``\nare extracted. They can be used to scope results.\n\n"
      ]
    },
    {
      "cell_type": "code",
      "execution_count": null,
      "metadata": {
        "collapsed": false
      },
      "outputs": [],
      "source": [
        "print(minfo.get_property(\"body_scoping\"))\nprint(minfo.get_property(\"cell_zone_scoping\"))\nprint(minfo.get_property(\"face_zone_scoping\"))"
      ]
    },
    {
      "cell_type": "markdown",
      "metadata": {},
      "source": [
        "## Exploring the results\nExplore the available results in the model through the ResultInfo. This is a Fluent model\nwhose native results are exported to either the centroid of the elements (like\nEnthalpy or RMS Temperature), the centroid of the faces (like the Mass Flow Rate)\nor the centroid of both elements and faces (like Static Pressure).\n\n"
      ]
    },
    {
      "cell_type": "code",
      "execution_count": null,
      "metadata": {
        "collapsed": false
      },
      "outputs": [],
      "source": [
        "rinfo = model.metadata.result_info\nprint(rinfo)"
      ]
    },
    {
      "cell_type": "markdown",
      "metadata": {},
      "source": [
        "Each result holds more detailed information while explored individually. Enthalpy\nis a scalar magnitude exported to the centroids of the elements (cells). Thus, it is\navailable for the two cell zones of the model (13 and 28). In addition, the model\nonly has one phase, and therefore the result can only be extracted for \"phase-1\".\n\n"
      ]
    },
    {
      "cell_type": "code",
      "execution_count": null,
      "metadata": {
        "collapsed": false
      },
      "outputs": [],
      "source": [
        "print(rinfo.available_results[0])"
      ]
    },
    {
      "cell_type": "markdown",
      "metadata": {},
      "source": [
        "Static Pressure, however, is ElementalAndFaces, which means that it is exported\nat both the centroids of the cells and the centroids of the faces. Therefore, it is\navailable for all the cell and face zones of the model.\n\n"
      ]
    },
    {
      "cell_type": "code",
      "execution_count": null,
      "metadata": {
        "collapsed": false
      },
      "outputs": [],
      "source": [
        "print(rinfo.available_results[2])"
      ]
    },
    {
      "cell_type": "markdown",
      "metadata": {},
      "source": [
        "# Exploring an Ansys CFX model\nThe second part of the example demonstrates how you can explore an Ansys CFX model.\nImport the result file and create a model.\n\n"
      ]
    },
    {
      "cell_type": "code",
      "execution_count": null,
      "metadata": {
        "collapsed": false
      },
      "outputs": [],
      "source": [
        "path = examples.download_cfx_heating_coil()\nds = dpf.DataSources()\nds.set_result_file_path(path[\"cas\"], \"cas\")\nds.add_file_path(path[\"dat\"], \"dat\")\nmodel = dpf.Model(data_sources=ds)"
      ]
    },
    {
      "cell_type": "markdown",
      "metadata": {},
      "source": [
        "## Exploring the mesh\nIf once again we explore the MeshInfo, we can see that the same information is\nreadily available.\n\n"
      ]
    },
    {
      "cell_type": "code",
      "execution_count": null,
      "metadata": {
        "collapsed": false
      },
      "outputs": [],
      "source": [
        "minfo = model.metadata.mesh_info\nprint(minfo)"
      ]
    },
    {
      "cell_type": "markdown",
      "metadata": {},
      "source": [
        "In this CFX model there are also two bodies.\n\n"
      ]
    },
    {
      "cell_type": "code",
      "execution_count": null,
      "metadata": {
        "collapsed": false
      },
      "outputs": [],
      "source": [
        "print(minfo.get_property(\"body_names\"))"
      ]
    },
    {
      "cell_type": "markdown",
      "metadata": {},
      "source": [
        "For this model, each body is conformed by several cell zones. In this general\nsituation, the body ID corresponds to the highest cell zone ID of the one that\ncomprises it.\n\n"
      ]
    },
    {
      "cell_type": "code",
      "execution_count": null,
      "metadata": {
        "collapsed": false
      },
      "outputs": [],
      "source": [
        "print(minfo.get_property(\"body_cell_topology\"))"
      ]
    },
    {
      "cell_type": "markdown",
      "metadata": {},
      "source": [
        "You can also explore the face zone IDs in each body.\n\n"
      ]
    },
    {
      "cell_type": "code",
      "execution_count": null,
      "metadata": {
        "collapsed": false
      },
      "outputs": [],
      "source": [
        "print(minfo.get_property(\"body_face_topology\"))"
      ]
    },
    {
      "cell_type": "markdown",
      "metadata": {},
      "source": [
        "The cell and face zone names are readily available.\n\n"
      ]
    },
    {
      "cell_type": "code",
      "execution_count": null,
      "metadata": {
        "collapsed": false
      },
      "outputs": [],
      "source": [
        "print(minfo.get_property(\"cell_zone_names\"))\nprint(minfo.get_property(\"face_zone_names\"))"
      ]
    },
    {
      "cell_type": "markdown",
      "metadata": {},
      "source": [
        "## Exploring the results\nBy exploring the ResultInfo we can see that all CFX variables are exported to\nthe Nodes.\n\n"
      ]
    },
    {
      "cell_type": "code",
      "execution_count": null,
      "metadata": {
        "collapsed": false
      },
      "outputs": [],
      "source": [
        "rinfo = model.metadata.result_info\nprint(rinfo)"
      ]
    },
    {
      "cell_type": "markdown",
      "metadata": {},
      "source": [
        "However, in this model there are two distinct phases. To understand the phases\nat the model, you can explore the qualifiers of the ResultInfo. Thus, results\ncould potentially be scoped on \"zone\" and \"phase\", with the ID and name of each\nphase shown below.\n\n"
      ]
    },
    {
      "cell_type": "code",
      "execution_count": null,
      "metadata": {
        "collapsed": false
      },
      "outputs": [],
      "source": [
        "labels = rinfo.available_qualifier_labels\nprint(labels)\nphase_names = rinfo.qualifier_label_support(labels[1]).string_field_support_by_property(\"names\")\nprint(phase_names)"
      ]
    },
    {
      "cell_type": "markdown",
      "metadata": {},
      "source": [
        "Each result holds more detailed information while explored individually. Static\nPressure is only available for phase 1 (\"<Mixture>\"), and several cell and face\nzones.\n\n"
      ]
    },
    {
      "cell_type": "code",
      "execution_count": null,
      "metadata": {
        "collapsed": false
      },
      "outputs": [],
      "source": [
        "print(rinfo.available_results[7])"
      ]
    },
    {
      "cell_type": "markdown",
      "metadata": {},
      "source": [
        "Thermal conductivity, however, exists for phases 2 and 3 (\"Copper\" and \"Water at 25 C\",\nrespectively), and several face and cell zones.\n\n"
      ]
    },
    {
      "cell_type": "code",
      "execution_count": null,
      "metadata": {
        "collapsed": false
      },
      "outputs": [],
      "source": [
        "print(rinfo.available_results[4])"
      ]
    }
  ],
  "metadata": {
    "kernelspec": {
      "display_name": "Python 3",
      "language": "python",
      "name": "python3"
    },
    "language_info": {
      "codemirror_mode": {
        "name": "ipython",
        "version": 3
      },
      "file_extension": ".py",
      "mimetype": "text/x-python",
      "name": "python",
      "nbconvert_exporter": "python",
      "pygments_lexer": "ipython3",
      "version": "3.12.3"
    }
  },
  "nbformat": 4,
  "nbformat_minor": 0
}