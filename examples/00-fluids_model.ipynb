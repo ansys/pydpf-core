{
  "cells": [
    {
      "cell_type": "markdown",
      "metadata": {},
      "source": [
        "# Explore Fluids models {#ref_fluids_model}\r\n\r\nThis example demonstrates how to explore Ansys Fluent and Ansys CFX\r\nmodels employing the `MeshInfo` and `ResultInfo`.\r\n\r\n:::: note\r\n::: title\r\nNote\r\n:::\r\n\r\nThis example requires DPF 7.0 (ansys-dpf-server-2024-1-pre0) or above.\r\nFor more information, see `ref_compatibility`{.interpreted-text\r\nrole=\"ref\"}.\r\n::::\r\n"
      ]
    },
    {
      "cell_type": "markdown",
      "metadata": {},
      "source": [
        "# Exploring an Ansys Fluent model\r\n\r\nThe first part of the example demonstrates how you can explore an Ansys\r\nFluent model. Import the result file and create a model.\r\n"
      ]
    },
    {
      "cell_type": "code",
      "execution_count": null,
      "metadata": {
        "collapsed": false
      },
      "outputs": [],
      "source": [
        "import ansys.dpf.core as dpf\nfrom ansys.dpf.core import examples\n\npath = examples.download_fluent_axial_comp()[\"flprj\"]\nds = dpf.DataSources(path)\nmodel = dpf.Model(data_sources=ds)"
      ]
    },
    {
      "cell_type": "markdown",
      "metadata": {},
      "source": [
        "# Exploring the mesh\r\n\r\nExplore the mesh through the `MeshInfo`. The `MeshInfo` provides\r\nmetadata information about the mesh. For fluid models, it is useful to\r\nknow the cell and face zones, as well as the topological relationships\r\nbetween them. First get all the available information in the `MeshInfo`\r\n.\r\n"
      ]
    },
    {
      "cell_type": "code",
      "execution_count": null,
      "metadata": {
        "collapsed": false
      },
      "outputs": [],
      "source": [
        "minfo = model.metadata.mesh_info\nprint(minfo)"
      ]
    },
    {
      "cell_type": "markdown",
      "metadata": {},
      "source": [
        "Then, get the bodies and their names in the model with the\r\n\\\"body_names\\\" `StringField`, which provides a relationship between body\r\nIDs and names. In this model there are two bodies.\r\n"
      ]
    },
    {
      "cell_type": "code",
      "execution_count": null,
      "metadata": {
        "collapsed": false
      },
      "outputs": [],
      "source": [
        "print(minfo.get_property(\"body_names\"))"
      ]
    },
    {
      "cell_type": "markdown",
      "metadata": {},
      "source": [
        "Each body is comprised of a set of cell zones. You can investigate the\r\nhierarchical relationship between bodies and cell zones through the\r\n\\\"body_cell_topology\\\" `PropertyField`, which provides a relationship\r\nbetween the body IDs and the cell zone IDs. In this case, each body is\r\nonly comprised of one cell zone.\r\n"
      ]
    },
    {
      "cell_type": "code",
      "execution_count": null,
      "metadata": {
        "collapsed": false
      },
      "outputs": [],
      "source": [
        "print(minfo.get_property(\"body_cell_topology\"))"
      ]
    },
    {
      "cell_type": "markdown",
      "metadata": {},
      "source": [
        "Similarly, each body is limited by a set of face zones (generally\r\nrepresenting boundary conditions). You can investigate the hierarchical\r\nrelationship between bodies and face zones through the\r\n\\\"body_face_topology\\\" `PropertyField`, which provides a relationship\r\nbetween the body IDs and the face zone IDs. In this case, each body is\r\nlimited by several face zones.\r\n"
      ]
    },
    {
      "cell_type": "code",
      "execution_count": null,
      "metadata": {
        "collapsed": false
      },
      "outputs": [],
      "source": [
        "print(minfo.get_property(\"body_face_topology\"))"
      ]
    },
    {
      "cell_type": "markdown",
      "metadata": {},
      "source": [
        "The cell and face zone IDs shown in the previous PropertyFields can be\r\nmapped to their names through the \\\"body_zone_names\\\" and\r\n\\\"face_zone_names\\\" `PropertyField`. As in this model there is a 1-1\r\ncorrespondence between bodies and cell zones, they have the same names\r\nand IDs.\r\n"
      ]
    },
    {
      "cell_type": "code",
      "execution_count": null,
      "metadata": {
        "collapsed": false
      },
      "outputs": [],
      "source": [
        "print(minfo.get_property(\"cell_zone_names\"))\nprint(minfo.get_property(\"face_zone_names\"))"
      ]
    },
    {
      "cell_type": "markdown",
      "metadata": {},
      "source": [
        "All zone names (regardless of them being cell or face zones) are\r\nexported to the \\\"zone_names\\\" `StringField` .\r\n"
      ]
    },
    {
      "cell_type": "code",
      "execution_count": null,
      "metadata": {
        "collapsed": false
      },
      "outputs": [],
      "source": [
        "print(minfo.get_property(\"zone_names\"))"
      ]
    },
    {
      "cell_type": "markdown",
      "metadata": {},
      "source": [
        "Helpers are provided to quickly get a map of zone ID to zone name.\r\n"
      ]
    },
    {
      "cell_type": "code",
      "execution_count": null,
      "metadata": {
        "collapsed": false
      },
      "outputs": [],
      "source": [
        "print(minfo.zones)\nprint(minfo.cell_zones)\nprint(minfo.face_zones)"
      ]
    },
    {
      "cell_type": "markdown",
      "metadata": {},
      "source": [
        "To facilitate the extraction of results, the body, cell and face zone\r\n`Scoping` are extracted. They can be used to scope results.\r\n"
      ]
    },
    {
      "cell_type": "code",
      "execution_count": null,
      "metadata": {
        "collapsed": false
      },
      "outputs": [],
      "source": [
        "print(minfo.get_property(\"body_scoping\"))\nprint(minfo.get_property(\"cell_zone_scoping\"))\nprint(minfo.get_property(\"face_zone_scoping\"))"
      ]
    },
    {
      "cell_type": "markdown",
      "metadata": {},
      "source": [
        "# Exploring the results\r\n\r\nExplore the available results in the model through the ResultInfo. This\r\nis a Fluent model whose native results are exported to either the\r\ncentroid of the elements (like Enthalpy or RMS Temperature), the\r\ncentroid of the faces (like the Mass Flow Rate) or the centroid of both\r\nelements and faces (like Static Pressure).\r\n"
      ]
    },
    {
      "cell_type": "code",
      "execution_count": null,
      "metadata": {
        "collapsed": false
      },
      "outputs": [],
      "source": [
        "rinfo = model.metadata.result_info\nprint(rinfo)"
      ]
    },
    {
      "cell_type": "markdown",
      "metadata": {},
      "source": [
        "Each result holds more detailed information while explored individually.\r\nEnthalpy is a scalar magnitude exported to the centroids of the elements\r\n(cells). Thus, it is available for the two cell zones of the model (13\r\nand 28). In addition, the model only has one phase, and therefore the\r\nresult can only be extracted for \\\"phase-1\\\".\r\n"
      ]
    },
    {
      "cell_type": "code",
      "execution_count": null,
      "metadata": {
        "collapsed": false
      },
      "outputs": [],
      "source": [
        "print(rinfo.available_results[0])"
      ]
    },
    {
      "cell_type": "markdown",
      "metadata": {},
      "source": [
        "Static Pressure, however, is ElementalAndFaces, which means that it is\r\nexported at both the centroids of the cells and the centroids of the\r\nfaces. Therefore, it is available for all the cell and face zones of the\r\nmodel.\r\n"
      ]
    },
    {
      "cell_type": "code",
      "execution_count": null,
      "metadata": {
        "collapsed": false
      },
      "outputs": [],
      "source": [
        "print(rinfo.available_results[2])"
      ]
    },
    {
      "cell_type": "markdown",
      "metadata": {},
      "source": [
        "# Exploring an Ansys CFX model\r\n\r\nThe second part of the example demonstrates how you can explore an Ansys\r\nCFX model. Import the result file and create a model.\r\n"
      ]
    },
    {
      "cell_type": "code",
      "execution_count": null,
      "metadata": {
        "collapsed": false
      },
      "outputs": [],
      "source": [
        "path = examples.download_cfx_heating_coil()\nds = dpf.DataSources()\nds.set_result_file_path(path[\"cas\"], \"cas\")\nds.add_file_path(path[\"dat\"], \"dat\")\nmodel = dpf.Model(data_sources=ds)"
      ]
    },
    {
      "cell_type": "markdown",
      "metadata": {},
      "source": [
        "# Exploring the mesh\r\n\r\nIf once again we explore the MeshInfo, we can see that the same\r\ninformation is readily available.\r\n"
      ]
    },
    {
      "cell_type": "code",
      "execution_count": null,
      "metadata": {
        "collapsed": false
      },
      "outputs": [],
      "source": [
        "minfo = model.metadata.mesh_info\nprint(minfo)"
      ]
    },
    {
      "cell_type": "markdown",
      "metadata": {},
      "source": [
        "In this CFX model there are also two bodies.\r\n"
      ]
    },
    {
      "cell_type": "code",
      "execution_count": null,
      "metadata": {
        "collapsed": false
      },
      "outputs": [],
      "source": [
        "print(minfo.get_property(\"body_names\"))"
      ]
    },
    {
      "cell_type": "markdown",
      "metadata": {},
      "source": [
        "For this model, each body is conformed by several cell zones. In this\r\ngeneral situation, the body ID corresponds to the highest cell zone ID\r\nof the one that comprises it.\r\n"
      ]
    },
    {
      "cell_type": "code",
      "execution_count": null,
      "metadata": {
        "collapsed": false
      },
      "outputs": [],
      "source": [
        "print(minfo.get_property(\"body_cell_topology\"))"
      ]
    },
    {
      "cell_type": "markdown",
      "metadata": {},
      "source": [
        "You can also explore the face zone IDs in each body.\r\n"
      ]
    },
    {
      "cell_type": "code",
      "execution_count": null,
      "metadata": {
        "collapsed": false
      },
      "outputs": [],
      "source": [
        "print(minfo.get_property(\"body_face_topology\"))"
      ]
    },
    {
      "cell_type": "markdown",
      "metadata": {},
      "source": [
        "The cell and face zone names are readily available.\r\n"
      ]
    },
    {
      "cell_type": "code",
      "execution_count": null,
      "metadata": {
        "collapsed": false
      },
      "outputs": [],
      "source": [
        "print(minfo.get_property(\"cell_zone_names\"))\nprint(minfo.get_property(\"face_zone_names\"))"
      ]
    },
    {
      "cell_type": "markdown",
      "metadata": {},
      "source": [
        "# Exploring the results\r\n\r\nBy exploring the ResultInfo we can see that all CFX variables are\r\nexported to the Nodes.\r\n"
      ]
    },
    {
      "cell_type": "code",
      "execution_count": null,
      "metadata": {
        "collapsed": false
      },
      "outputs": [],
      "source": [
        "rinfo = model.metadata.result_info\nprint(rinfo)"
      ]
    },
    {
      "cell_type": "markdown",
      "metadata": {},
      "source": [
        "However, in this model there are two distinct phases. To understand the\r\nphases at the model, you can explore the qualifiers of the ResultInfo.\r\nThus, results could potentially be scoped on \\\"zone\\\" and \\\"phase\\\",\r\nwith the ID and name of each phase shown below.\r\n"
      ]
    },
    {
      "cell_type": "code",
      "execution_count": null,
      "metadata": {
        "collapsed": false
      },
      "outputs": [],
      "source": [
        "labels = rinfo.available_qualifier_labels\nprint(labels)\nphase_names = rinfo.qualifier_label_support(labels[1]).string_field_support_by_property(\"names\")\nprint(phase_names)"
      ]
    },
    {
      "cell_type": "markdown",
      "metadata": {},
      "source": [
        "Each result holds more detailed information while explored individually.\r\nStatic Pressure is only available for phase 1 (\\\"\\<Mixture\\>\\\"), and\r\nseveral cell and face zones.\r\n"
      ]
    },
    {
      "cell_type": "code",
      "execution_count": null,
      "metadata": {
        "collapsed": false
      },
      "outputs": [],
      "source": [
        "print(rinfo.available_results[7])"
      ]
    },
    {
      "cell_type": "markdown",
      "metadata": {},
      "source": [
        "Thermal conductivity, however, exists for phases 2 and 3 (\\\"Copper\\\" and\r\n\\\"Water at 25 C\\\", respectively), and several face and cell zones.\r\n"
      ]
    },
    {
      "cell_type": "code",
      "execution_count": null,
      "metadata": {
        "collapsed": false
      },
      "outputs": [],
      "source": [
        "print(rinfo.available_results[4])"
      ]
    }
  ],
  "metadata": {
    "kernelspec": {
      "display_name": "Python 3",
      "language": "python",
      "name": "python3"
    },
    "language_info": {
      "codemirror_mode": {
        "name": "ipython",
        "version": 3
      },
      "file_extension": ".py",
      "mimetype": "text/x-python",
      "name": "python",
      "nbconvert_exporter": "python",
      "pygments_lexer": "ipython3",
      "version": "3.9.13"
    }
  },
  "nbformat": 4,
  "nbformat_minor": 0
}