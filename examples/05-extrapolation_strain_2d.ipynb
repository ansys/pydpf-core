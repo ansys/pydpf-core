{
  "cells": [
    {
      "cell_type": "markdown",
      "metadata": {},
      "source": [
        "\n\n# Extrapolation method for strain result of a 2D element\n\nThis example shows how to compute the stress nodal components from\nGaussian points (integration points) for a 2D element using\nextrapolation.\n\nExtrapolate results available at Gaussian or quadrature points to nodal\npoints for a field or fields container. The available elements are:\n\n* Linear quadrangle\n* Parabolic quadrangle\n* Linear hexagonal\n* Quadratic hexagonal\n* Linear tetrahedral\n* Quadratic tetrahedral\n\nHere are the steps for extrapolation:\n\n#. Get the data source's solution from the integration points. (This\n   result file was generated with the Ansys Mechanical APDL (MAPDL)\n   option ``ERESX, NO``).\n#. Use the extrapolation operator to compute the nodal elastic strain.\n#. Get the result for nodal elastic strain from the data source.\n   The analysis was computed by MAPDL.\n#. Compare the result for nodal elastic strain from the data source\n   and the nodal elastic strain computed by the extrapolation method.\n"
      ]
    },
    {
      "cell_type": "code",
      "execution_count": null,
      "metadata": {
        "collapsed": false
      },
      "outputs": [],
      "source": [
        "from ansys.dpf import core as dpf\nfrom ansys.dpf.core import examples"
      ]
    },
    {
      "cell_type": "markdown",
      "metadata": {},
      "source": [
        "Get the data source's analyse of integration points and data source's analyse reference\n\n"
      ]
    },
    {
      "cell_type": "code",
      "execution_count": null,
      "metadata": {
        "collapsed": false
      },
      "outputs": [],
      "source": [
        "datafile = examples.download_extrapolation_2d_result()\n\n# integration points (Gaussian points)\ndata_integration_points = datafile[\"file_integrated\"]\ndata_sources_integration_points = dpf.DataSources(data_integration_points)\n\n# reference\ndataSourceref = datafile[\"file_ref\"]\ndata_sources_ref = dpf.DataSources(dataSourceref)\n\n# get the mesh\nmodel = dpf.Model(data_integration_points)\nmesh = model.metadata.meshed_region"
      ]
    },
    {
      "cell_type": "markdown",
      "metadata": {},
      "source": [
        "# Extrapolate from integration points for elastic strain result\nThis example uses the ``gauss_to_node_fc`` operator to compute nodal component\nelastic strain results from the elastic strain at the integration points.\n\n"
      ]
    },
    {
      "cell_type": "code",
      "execution_count": null,
      "metadata": {
        "collapsed": false
      },
      "outputs": [],
      "source": [
        "# Create elastic strain operator to get strain result of integration points\nstrainop = dpf.operators.result.elastic_strain()\nstrainop.inputs.data_sources.connect(data_sources_integration_points)\nstrain = strainop.outputs.fields_container()"
      ]
    },
    {
      "cell_type": "markdown",
      "metadata": {},
      "source": [
        "## Nodal elastic strain result of integration points:\n The command ``ERESX,NO`` in MAPDL is used to copy directly the\n Gaussian (integration) points results to the nodes, instead of the results\n at nodes or elements (which are an interpolation of results at a few\n Gaussian points).\n\n The following plot shows the nodal values that are the averaged values\n of elastic strain at each node. The value shown at the node is the\n average of the elastic strains from the Gaussian points of each element\n that it belongs to.\n\n"
      ]
    },
    {
      "cell_type": "code",
      "execution_count": null,
      "metadata": {
        "collapsed": false
      },
      "outputs": [],
      "source": [
        "# plot\nstrain_nodal_op = dpf.operators.averaging.elemental_nodal_to_nodal_fc()\nstrain_nodal_op.inputs.fields_container.connect(strain)\nmesh.plot(strain_nodal_op.outputs.fields_container())"
      ]
    },
    {
      "cell_type": "markdown",
      "metadata": {},
      "source": [
        "Create the ``gauss_to_node_fc`` operator and compute nodal component\nelastic strain by applying the extrapolation method.\n\n"
      ]
    },
    {
      "cell_type": "code",
      "execution_count": null,
      "metadata": {
        "collapsed": false
      },
      "outputs": [],
      "source": [
        "ex_strain = dpf.operators.averaging.gauss_to_node_fc()\n# connect mesh\nex_strain.inputs.mesh.connect(mesh)\n# connect fields container elastic strain\nex_strain.inputs.fields_container.connect(strain)\n# get output\nfex = ex_strain.outputs.fields_container()"
      ]
    },
    {
      "cell_type": "markdown",
      "metadata": {},
      "source": [
        "# Elastic strain result of reference Ansys Workbench\n\n"
      ]
    },
    {
      "cell_type": "code",
      "execution_count": null,
      "metadata": {
        "collapsed": false
      },
      "outputs": [],
      "source": [
        "# Strain from file dataSourceref\nstrainop_ref = dpf.operators.result.elastic_strain()\nstrainop_ref.inputs.data_sources.connect(data_sources_ref)\nstrain_ref = strainop_ref.outputs.fields_container()"
      ]
    },
    {
      "cell_type": "markdown",
      "metadata": {},
      "source": [
        "# Plot\nShow plots of extrapolation's elastic strain result and reference's elastic strain result\n\n"
      ]
    },
    {
      "cell_type": "code",
      "execution_count": null,
      "metadata": {
        "collapsed": false
      },
      "outputs": [],
      "source": [
        "# extrapolation\nfex_nodal_op = dpf.operators.averaging.elemental_nodal_to_nodal_fc()\nfex_nodal_op.inputs.fields_container.connect(fex)\nmesh.plot(fex_nodal_op.outputs.fields_container())\n# reference\nstrain_ref_nodal_op = dpf.operators.averaging.elemental_nodal_to_nodal_fc()\nstrain_ref_nodal_op.inputs.fields_container.connect(strain_ref)\nmesh.plot(strain_ref_nodal_op.outputs.fields_container())"
      ]
    },
    {
      "cell_type": "markdown",
      "metadata": {},
      "source": [
        "# Comparison\nCompare the elastic strain result computed by extrapolation and reference's result.\nCheck if the two fields containers are identical.\nThe relative tolerance is set to 1e-14.\nThe smallest value that is to be considered during the comparison\nstep : all the ``abs(values)`` in the field less than 1e-2 are considered null.\n\n"
      ]
    },
    {
      "cell_type": "code",
      "execution_count": null,
      "metadata": {
        "collapsed": false
      },
      "outputs": [],
      "source": [
        "# operator AreFieldsIdentical_fc\nop = dpf.operators.logic.identical_fc()\nop.inputs.fields_containerA.connect(fex_nodal_op)\nop.inputs.fields_containerB.connect(strain_ref_nodal_op)\nop.inputs.tolerance.connect(1.0e-14)\nop.inputs.small_value.connect(0.01)\nprint(op.outputs.boolean())"
      ]
    },
    {
      "cell_type": "markdown",
      "metadata": {},
      "source": [
        "Compute absolute and relative errors\n\n"
      ]
    },
    {
      "cell_type": "code",
      "execution_count": null,
      "metadata": {
        "collapsed": false
      },
      "outputs": [],
      "source": [
        "abs_error_sqr = dpf.operators.math.sqr_fc()\nabs_error = dpf.operators.math.sqrt_fc()\nerror = strain_ref_nodal_op - fex_nodal_op\nabs_error_sqr.inputs.fields_container.connect(error)\nabs_error.inputs.fields_container.connect(abs_error_sqr)\n\ndivide = dpf.operators.math.component_wise_divide()\ndivide.inputs.fieldA.connect(strain_ref_nodal_op - fex_nodal_op)\ndivide.inputs.fieldB.connect(strain_ref_nodal_op)\nrel_error = dpf.operators.math.scale()\nrel_error.inputs.field.connect(divide)\nrel_error.inputs.weights.connect(1.0)"
      ]
    },
    {
      "cell_type": "markdown",
      "metadata": {},
      "source": [
        "Plot absolute and relative errors.\nThe absolute value is the order of 1e-13, which is very small when compared to the\nmagnitude of 1e-5 of the displacements. This is reflected in the relative error\nplot, where the errors are found to be below 1.1e-5%. The result of these plots\ncan be used to set the tolerances for the\n:class:`identical_fc <ansys.dpf.core.operators.logic.identical_fc>` operator.\n\n"
      ]
    },
    {
      "cell_type": "code",
      "execution_count": null,
      "metadata": {
        "collapsed": false
      },
      "outputs": [],
      "source": [
        "mesh.plot(abs_error.eval(), scalar_bar_args={\"title\": \"Absolute error [mm]\"})\nmesh.plot(rel_error.eval(), scalar_bar_args={\"title\": \"Relative error [%]\"})"
      ]
    }
  ],
  "metadata": {
    "kernelspec": {
      "display_name": "Python 3",
      "language": "python",
      "name": "python3"
    },
    "language_info": {
      "codemirror_mode": {
        "name": "ipython",
        "version": 3
      },
      "file_extension": ".py",
      "mimetype": "text/x-python",
      "name": "python",
      "nbconvert_exporter": "python",
      "pygments_lexer": "ipython3",
      "version": "3.12.3"
    }
  },
  "nbformat": 4,
  "nbformat_minor": 0
}