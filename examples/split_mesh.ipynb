{
 "cells": [
  {
   "cell_type": "code",
   "execution_count": 1,
   "id": "1e2825fe",
   "metadata": {
    "execution": {
     "iopub.execute_input": "2025-10-17T12:29:12.108941Z",
     "iopub.status.busy": "2025-10-17T12:29:12.108941Z",
     "iopub.status.idle": "2025-10-17T12:29:13.929584Z",
     "shell.execute_reply": "2025-10-17T12:29:13.929237Z"
    }
   },
   "outputs": [],
   "source": [
    "# Import the ``ansys.dpf.core`` module\n",
    "from ansys.dpf import core as dpf\n",
    "# Import the examples module\n",
    "from ansys.dpf.core import examples\n",
    "# Import the operators module\n",
    "from ansys.dpf.core import operators as ops\n",
    "\n",
    "# Define the result file path\n",
    "result_file_path_1 = examples.find_multishells_rst()\n",
    "# Create the model\n",
    "model_1 = dpf.Model(data_sources=result_file_path_1)\n",
    "# Get the mesh\n",
    "meshed_region_1 = model_1.metadata.meshed_region"
   ]
  },
  {
   "cell_type": "code",
   "execution_count": 2,
   "id": "743818b5",
   "metadata": {
    "execution": {
     "iopub.execute_input": "2025-10-17T12:29:13.931599Z",
     "iopub.status.busy": "2025-10-17T12:29:13.931599Z",
     "iopub.status.idle": "2025-10-17T12:29:13.944734Z",
     "shell.execute_reply": "2025-10-17T12:29:13.943680Z"
    }
   },
   "outputs": [],
   "source": [
    "# Import the ``ansys.dpf.core`` module\n",
    "from ansys.dpf import core as dpf\n",
    "# Import the examples module\n",
    "from ansys.dpf.core import examples\n",
    "# Import the operators module\n",
    "from ansys.dpf.core import operators as ops\n",
    "\n",
    "# Define the result file path\n",
    "result_file_path_2 = examples.download_d3plot_beam()\n",
    "# Create the DataSources object\n",
    "ds_2 = dpf.DataSources()\n",
    "ds_2.set_result_file_path(filepath=result_file_path_2[0], key=\"d3plot\")\n",
    "ds_2.add_file_path(filepath=result_file_path_2[3], key=\"actunits\")\n",
    "# Create the model\n",
    "model_2 = dpf.Model(data_sources=ds_2)\n",
    "# Get the mesh\n",
    "meshed_region_2 = model_2.metadata.meshed_region"
   ]
  },
  {
   "cell_type": "code",
   "execution_count": 3,
   "id": "d74b2c61",
   "metadata": {
    "execution": {
     "iopub.execute_input": "2025-10-17T12:29:13.947291Z",
     "iopub.status.busy": "2025-10-17T12:29:13.946751Z",
     "iopub.status.idle": "2025-10-17T12:29:24.438117Z",
     "shell.execute_reply": "2025-10-17T12:29:24.436835Z"
    }
   },
   "outputs": [],
   "source": [
    "# Import the ``ansys.dpf.core`` module\n",
    "from ansys.dpf import core as dpf\n",
    "# Import the examples module\n",
    "from ansys.dpf.core import examples\n",
    "# Import the operators module\n",
    "from ansys.dpf.core import operators as ops\n",
    "\n",
    "# Define the result file path\n",
    "result_file_path_3 = examples.download_fluent_axial_comp()[\"flprj\"]\n",
    "# Create the model\n",
    "model_3 = dpf.Model(data_sources=result_file_path_3)\n",
    "# Get the mesh\n",
    "meshed_region_3 = model_3.metadata.meshed_region"
   ]
  },
  {
   "cell_type": "code",
   "execution_count": 4,
   "id": "72854390",
   "metadata": {
    "execution": {
     "iopub.execute_input": "2025-10-17T12:29:24.440395Z",
     "iopub.status.busy": "2025-10-17T12:29:24.440395Z",
     "iopub.status.idle": "2025-10-17T12:29:32.585018Z",
     "shell.execute_reply": "2025-10-17T12:29:32.585018Z"
    }
   },
   "outputs": [],
   "source": [
    "# Import the ``ansys.dpf.core`` module\n",
    "from ansys.dpf import core as dpf\n",
    "# Import the examples module\n",
    "from ansys.dpf.core import examples\n",
    "# Import the operators module\n",
    "from ansys.dpf.core import operators as ops\n",
    "\n",
    "# Define the result file path\n",
    "result_file_path_4 = examples.download_cfx_mixing_elbow()\n",
    "# Create the model\n",
    "model_4 = dpf.Model(data_sources=result_file_path_4)\n",
    "# Get the mesh\n",
    "meshed_region_4 = model_4.metadata.meshed_region"
   ]
  },
  {
   "cell_type": "code",
   "execution_count": 5,
   "id": "df6dce3f",
   "metadata": {
    "execution": {
     "iopub.execute_input": "2025-10-17T12:29:32.589503Z",
     "iopub.status.busy": "2025-10-17T12:29:32.588487Z",
     "iopub.status.idle": "2025-10-17T12:29:43.931121Z",
     "shell.execute_reply": "2025-10-17T12:29:43.931121Z"
    }
   },
   "outputs": [
    {
     "name": "stdout",
     "output_type": "stream",
     "text": [
      "DPF  Meshes Container\n",
      "  with 12 mesh(es)\n",
      "  defined on labels: body mat \n",
      "\n",
      "  with:\n",
      "  - mesh 0 {mat:  2, body:  1, } with 5072 nodes and 3086 elements.\n",
      "  - mesh 1 {mat:  3, body:  2, } with 135 nodes and 112 elements.\n",
      "  - mesh 2 {mat:  5, body:  3, } with 104 nodes and 34 elements.\n",
      "  - mesh 3 {mat:  7, body:  4, } with 218 nodes and 105 elements.\n",
      "  - mesh 4 {mat:  11, body:  5, } with 71 nodes and 22 elements.\n",
      "  - mesh 5 {mat:  4, body:  6, } with 90 nodes and 70 elements.\n",
      "  - mesh 6 {mat:  6, body:  7, } with 104 nodes and 34 elements.\n",
      "  - mesh 7 {mat:  8, body:  8, } with 218 nodes and 105 elements.\n",
      "  - mesh 8 {mat:  12, body:  9, } with 71 nodes and 22 elements.\n",
      "  - mesh 9 {mat:  9, body:  10, } with 327 nodes and 165 elements.\n",
      "  - mesh 10 {mat:  1, body:  11, } with 1782 nodes and 300 elements.\n",
      "  - mesh 11 {mat:  10, body:  12, } with 327 nodes and 165 elements.\n",
      "\n"
     ]
    }
   ],
   "source": [
    "# Split the mesh by material\n",
    "meshes_11 = ops.mesh.split_mesh(mesh=meshed_region_1, property=\"mat\").eval()\n",
    "\n",
    "# Print the meshes\n",
    "print(meshes_11)"
   ]
  },
  {
   "cell_type": "code",
   "execution_count": 6,
   "id": "fd793000",
   "metadata": {
    "execution": {
     "iopub.execute_input": "2025-10-17T12:29:43.933953Z",
     "iopub.status.busy": "2025-10-17T12:29:43.933953Z",
     "iopub.status.idle": "2025-10-17T12:29:49.850935Z",
     "shell.execute_reply": "2025-10-17T12:29:49.849808Z"
    }
   },
   "outputs": [
    {
     "name": "stdout",
     "output_type": "stream",
     "text": [
      "DPF  Meshes Container\n",
      "  with 2 mesh(es)\n",
      "  defined on labels: body mat \n",
      "\n",
      "  with:\n",
      "  - mesh 0 {mat:  2, body:  1, } with 1651 nodes and 1512 elements.\n",
      "  - mesh 1 {mat:  1, body:  2, } with 289 nodes and 544 elements.\n",
      "\n"
     ]
    }
   ],
   "source": [
    "# Split the mesh by material\n",
    "meshes_21 = ops.mesh.split_mesh(mesh=meshed_region_2, property=\"mat\").eval()\n",
    "\n",
    "# Print the meshes\n",
    "print(meshes_21)"
   ]
  },
  {
   "cell_type": "code",
   "execution_count": 7,
   "id": "7f1378b0",
   "metadata": {
    "execution": {
     "iopub.execute_input": "2025-10-17T12:29:49.852952Z",
     "iopub.status.busy": "2025-10-17T12:29:49.852952Z",
     "iopub.status.idle": "2025-10-17T12:29:55.684427Z",
     "shell.execute_reply": "2025-10-17T12:29:55.683914Z"
    }
   },
   "outputs": [
    {
     "name": "stdout",
     "output_type": "stream",
     "text": [
      "DPF  Meshes Container\n",
      "  with 1 mesh(es)\n",
      "  defined on labels: body mat \n",
      "\n",
      "  with:\n",
      "  - mesh 0 {mat:  -1, body:  1, } with 16660 nodes and 13856 elements.\n",
      "\n"
     ]
    }
   ],
   "source": [
    "# Split the mesh by material\n",
    "meshes_31 = ops.mesh.split_mesh(mesh=meshed_region_3, property=\"mat\").eval()\n",
    "\n",
    "# Print the meshes\n",
    "print(meshes_31)"
   ]
  },
  {
   "cell_type": "code",
   "execution_count": 8,
   "id": "4d8b5a64",
   "metadata": {
    "execution": {
     "iopub.execute_input": "2025-10-17T12:29:55.686448Z",
     "iopub.status.busy": "2025-10-17T12:29:55.686448Z",
     "iopub.status.idle": "2025-10-17T12:30:01.504350Z",
     "shell.execute_reply": "2025-10-17T12:30:01.503485Z"
    }
   },
   "outputs": [
    {
     "name": "stdout",
     "output_type": "stream",
     "text": [
      "DPF  Meshes Container\n",
      "  with 1 mesh(es)\n",
      "  defined on labels: body mat \n",
      "\n",
      "  with:\n",
      "  - mesh 0 {mat:  -1, body:  1, } with 6219 nodes and 15695 elements.\n",
      "\n"
     ]
    }
   ],
   "source": [
    "# Split the mesh by material\n",
    "meshes_41 = ops.mesh.split_mesh(mesh=meshed_region_4, property=\"mat\").eval()\n",
    "# Print the meshes\n",
    "print(meshes_41)"
   ]
  },
  {
   "cell_type": "code",
   "execution_count": 9,
   "id": "664927f8",
   "metadata": {
    "execution": {
     "iopub.execute_input": "2025-10-17T12:30:01.505647Z",
     "iopub.status.busy": "2025-10-17T12:30:01.505647Z",
     "iopub.status.idle": "2025-10-17T12:30:07.264598Z",
     "shell.execute_reply": "2025-10-17T12:30:07.263913Z"
    }
   },
   "outputs": [
    {
     "name": "stdout",
     "output_type": "stream",
     "text": [
      "DPF  Meshes Container\n",
      "  with 12 mesh(es)\n",
      "  defined on labels: mat \n",
      "\n",
      "  with:\n",
      "  - mesh 0 {mat:  2, } with 5072 nodes and 3086 elements.\n",
      "  - mesh 1 {mat:  3, } with 135 nodes and 112 elements.\n",
      "  - mesh 2 {mat:  5, } with 104 nodes and 34 elements.\n",
      "  - mesh 3 {mat:  7, } with 218 nodes and 105 elements.\n",
      "  - mesh 4 {mat:  11, } with 71 nodes and 22 elements.\n",
      "  - mesh 5 {mat:  4, } with 90 nodes and 70 elements.\n",
      "  - mesh 6 {mat:  6, } with 104 nodes and 34 elements.\n",
      "  - mesh 7 {mat:  8, } with 218 nodes and 105 elements.\n",
      "  - mesh 8 {mat:  12, } with 71 nodes and 22 elements.\n",
      "  - mesh 9 {mat:  9, } with 327 nodes and 165 elements.\n",
      "  - mesh 10 {mat:  1, } with 1782 nodes and 300 elements.\n",
      "  - mesh 11 {mat:  10, } with 327 nodes and 165 elements.\n",
      "\n"
     ]
    }
   ],
   "source": [
    "# Define the scoping split by material\n",
    "split_scoping_1 = ops.scoping.split_on_property_type(mesh=meshed_region_1, label1=\"mat\").eval()\n",
    "# Get the split meshes\n",
    "meshes_12 = ops.mesh.from_scopings(scopings_container=split_scoping_1, mesh=meshed_region_1).eval()\n",
    "# Print the meshes\n",
    "print(meshes_12)"
   ]
  },
  {
   "cell_type": "code",
   "execution_count": 10,
   "id": "9aa1a921",
   "metadata": {
    "execution": {
     "iopub.execute_input": "2025-10-17T12:30:07.266692Z",
     "iopub.status.busy": "2025-10-17T12:30:07.266692Z",
     "iopub.status.idle": "2025-10-17T12:30:12.882681Z",
     "shell.execute_reply": "2025-10-17T12:30:12.882347Z"
    }
   },
   "outputs": [
    {
     "name": "stdout",
     "output_type": "stream",
     "text": [
      "DPF  Meshes Container\n",
      "  with 2 mesh(es)\n",
      "  defined on labels: mat \n",
      "\n",
      "  with:\n",
      "  - mesh 0 {mat:  2, } with 1651 nodes and 1512 elements.\n",
      "  - mesh 1 {mat:  1, } with 289 nodes and 544 elements.\n",
      "\n"
     ]
    }
   ],
   "source": [
    "# Define the scoping split by material\n",
    "split_scoping_2 = ops.scoping.split_on_property_type(mesh=meshed_region_2, label1=\"mat\").eval()\n",
    "# Get the split meshes\n",
    "meshes_22 = ops.mesh.from_scopings(scopings_container=split_scoping_2, mesh=meshed_region_2).eval()\n",
    "# Print the meshes\n",
    "print(meshes_22)"
   ]
  },
  {
   "cell_type": "code",
   "execution_count": 11,
   "id": "0b4a332c",
   "metadata": {
    "execution": {
     "iopub.execute_input": "2025-10-17T12:30:12.884109Z",
     "iopub.status.busy": "2025-10-17T12:30:12.884109Z",
     "iopub.status.idle": "2025-10-17T12:30:18.615977Z",
     "shell.execute_reply": "2025-10-17T12:30:18.614758Z"
    }
   },
   "outputs": [
    {
     "name": "stdout",
     "output_type": "stream",
     "text": [
      "DPF  Meshes Container\n",
      "  with 1 mesh(es)\n",
      "  defined on labels: mat \n",
      "\n",
      "  with:\n",
      "  - mesh 0 {mat:  -1, } with 16660 nodes and 13856 elements.\n",
      "\n"
     ]
    }
   ],
   "source": [
    "# Define the scoping split by material\n",
    "split_scoping_3 = ops.scoping.split_on_property_type(mesh=meshed_region_3, label1=\"mat\").eval()\n",
    "# Get the split meshes\n",
    "meshes_32 = ops.mesh.from_scopings(scopings_container=split_scoping_3, mesh=meshed_region_3).eval()\n",
    "# Print the meshes\n",
    "print(meshes_32)"
   ]
  },
  {
   "cell_type": "code",
   "execution_count": 12,
   "id": "de67bcd7",
   "metadata": {
    "execution": {
     "iopub.execute_input": "2025-10-17T12:30:18.617994Z",
     "iopub.status.busy": "2025-10-17T12:30:18.617294Z",
     "iopub.status.idle": "2025-10-17T12:30:24.530656Z",
     "shell.execute_reply": "2025-10-17T12:30:24.529681Z"
    }
   },
   "outputs": [
    {
     "name": "stdout",
     "output_type": "stream",
     "text": [
      "DPF  Meshes Container\n",
      "  with 1 mesh(es)\n",
      "  defined on labels: mat \n",
      "\n",
      "  with:\n",
      "  - mesh 0 {mat:  -1, } with 6219 nodes and 15695 elements.\n",
      "\n"
     ]
    }
   ],
   "source": [
    "# Define the scoping split by material\n",
    "split_scoping_4 = ops.scoping.split_on_property_type(mesh=meshed_region_4, label1=\"mat\").eval()\n",
    "# Get the split meshes\n",
    "meshes_42 = ops.mesh.from_scopings(scopings_container=split_scoping_4, mesh=meshed_region_4).eval()\n",
    "# Print the meshes\n",
    "print(meshes_42)"
   ]
  }
 ],
 "metadata": {
  "kernelspec": {
   "display_name": "Python 3 (ipykernel)",
   "language": "python",
   "name": "python3"
  },
  "language_info": {
   "codemirror_mode": {
    "name": "ipython",
    "version": 3
   },
   "file_extension": ".py",
   "mimetype": "text/x-python",
   "name": "python",
   "nbconvert_exporter": "python",
   "pygments_lexer": "ipython3",
   "version": "3.11.9"
  }
 },
 "nbformat": 4,
 "nbformat_minor": 5
}