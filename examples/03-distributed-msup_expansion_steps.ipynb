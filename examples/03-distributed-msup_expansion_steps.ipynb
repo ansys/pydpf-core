{
  "cells": [
    {
      "cell_type": "markdown",
      "metadata": {},
      "source": [
        "# Distributed MSUP distributed modal response {#ref_distributed_msup_steps}\r\n\r\nThis example shows how to read and expand distributed files on\r\ndistributed processes. The modal basis (two distributed files) is read\r\non two remote servers. The modal response (two distributed files) is\r\nthen read and expanded on a third server.\r\n\r\nThe following diagram helps you to understand this example. It shows the\r\noperator chain that is used to compute the final result.\r\n\r\n::: graphviz\r\n\r\ndigraph foo {\r\n\r\n:   graph \\[pad=\\\"0\\\", nodesep=\\\"0.3\\\", ranksep=\\\"0.3\\\"\\] node\r\n    \\[shape=box, style=filled, fillcolor=\\\"#ffcc00\\\", margin=\\\"0\\\"\\];\r\n    rankdir=LR; splines=line;\r\n\r\n    disp01 \\[label=\\\"displacement\\\"\\]; disp02\r\n    \\[label=\\\"displacement\\\"\\]; mesh01 \\[label=\\\"mesh\\\"\\]; mesh02\r\n    \\[label=\\\"mesh\\\"\\];\r\n\r\n    subgraph cluster_1 {\r\n\r\n    :   ds01 \\[label=\\\"data_src\\\", shape=box, style=filled,\r\n        fillcolor=cadetblue2\\];\r\n\r\n        disp01; mesh01;\r\n\r\n        ds01 -\\> disp01 \\[style=dashed\\]; ds01 -\\> mesh01\r\n        \\[style=dashed\\];\r\n\r\n        label=\\\"Server 1\\\"; style=filled; fillcolor=lightgrey;\r\n\r\n    }\r\n\r\n    subgraph cluster_2 {\r\n\r\n    :   ds02 \\[label=\\\"data_src\\\", shape=box, style=filled,\r\n        fillcolor=cadetblue2\\];\r\n\r\n        disp02; mesh02;\r\n\r\n        ds02 -\\> disp02 \\[style=dashed\\]; ds02 -\\> mesh02\r\n        \\[style=dashed\\];\r\n\r\n        label=\\\"Server 2\\\"; style=filled; fillcolor=lightgrey;\r\n\r\n    }\r\n\r\n    disp01 -\\> \\\"merge_fields\\\"; mesh01 -\\> \\\"merge_mesh\\\"; disp02 -\\>\r\n    \\\"merge_fields\\\"; mesh02 -\\> \\\"merge_mesh\\\";\r\n\r\n    ds03 \\[label=\\\"data_src\\\", shape=box, style=filled,\r\n    fillcolor=cadetblue2\\]; ds03 -\\> \\\"response2\\\" \\[style=dashed\\];\r\n    ds04 \\[label=\\\"data_src\\\", shape=box, style=filled,\r\n    fillcolor=cadetblue2\\]; ds04 -\\> \\\"response\\\" \\[style=dashed\\];\r\n\r\n    \\\"merge_mesh\\\" -\\> \\\"response\\\"; \\\"response\\\" -\\>\r\n    \\\"merge_use_pass\\\"; \\\"response2\\\" -\\> \\\"merge_use_pass\\\";\r\n    \\\"merge_use_pass\\\" -\\> \\\"expansion\\\"; \\\"merge_fields\\\" -\\>\r\n    \\\"expansion\\\"; \\\"expansion\\\" -\\> \\\"component\\\";\r\n\r\n}\r\n:::\r\n"
      ]
    },
    {
      "cell_type": "markdown",
      "metadata": {},
      "source": [
        "Import the `dpf-core` module and its examples files.\r\n"
      ]
    },
    {
      "cell_type": "code",
      "execution_count": null,
      "metadata": {
        "collapsed": false
      },
      "outputs": [],
      "source": [
        "import os\nfrom ansys.dpf import core as dpf\nfrom ansys.dpf.core import examples\nfrom ansys.dpf.core import operators as ops"
      ]
    },
    {
      "cell_type": "markdown",
      "metadata": {},
      "source": [
        "# Configure the servers\r\n\r\nMake a list of IP addresses and port numbers that DPF servers start and\r\nlisten on. Operator instances are created on each of these servers so\r\nthat each server can address a different result file.\r\n\r\nThis example postprocesses an analysis distributed in two files.\r\nConsequently, it requires two remote processes.\r\n\r\nTo make it easier, this example starts local servers. However, you can\r\nconnect to any existing servers on your network.\r\n"
      ]
    },
    {
      "cell_type": "code",
      "execution_count": null,
      "metadata": {
        "collapsed": false
      },
      "outputs": [],
      "source": [
        "config = dpf.AvailableServerConfigs.InProcessServer\nif \"DPF_DOCKER\" in os.environ.keys():\n    # If running DPF on Docker, you cannot start an InProcessServer\n    config = dpf.AvailableServerConfigs.GrpcServer\nglobal_server = dpf.start_local_server(as_global=True, config=config)\n\nremote_servers = [\n    dpf.start_local_server(as_global=False, config=dpf.AvailableServerConfigs.GrpcServer),\n    dpf.start_local_server(as_global=False, config=dpf.AvailableServerConfigs.GrpcServer),\n]\n\nips = [remote_server.ip for remote_server in remote_servers]\nports = [remote_server.port for remote_server in remote_servers]"
      ]
    },
    {
      "cell_type": "markdown",
      "metadata": {},
      "source": [
        "Print the IP addresses and ports.\r\n"
      ]
    },
    {
      "cell_type": "code",
      "execution_count": null,
      "metadata": {
        "collapsed": false
      },
      "outputs": [],
      "source": [
        "print(\"ips:\", ips)\nprint(\"ports:\", ports)"
      ]
    },
    {
      "cell_type": "markdown",
      "metadata": {},
      "source": [
        "Specify the file path.\r\n"
      ]
    },
    {
      "cell_type": "code",
      "execution_count": null,
      "metadata": {
        "collapsed": false
      },
      "outputs": [],
      "source": [
        "base_path = examples.find_distributed_msup_folder()\n\nfiles = [\n    dpf.path_utilities.join(base_path, \"file0.mode\"),\n    dpf.path_utilities.join(base_path, \"file1.mode\"),\n]\nfiles_aux = [\n    dpf.path_utilities.join(base_path, \"file0.rst\"),\n    dpf.path_utilities.join(base_path, \"file1.rst\"),\n]\nfiles_rfrq = [\n    dpf.path_utilities.join(base_path, \"file_load_1.rfrq\"),\n    dpf.path_utilities.join(base_path, \"file_load_2.rfrq\"),\n]"
      ]
    },
    {
      "cell_type": "markdown",
      "metadata": {},
      "source": [
        "# Create operators on each server\r\n\r\nOn each server, create two operators, one for displacement computations\r\nand one for providing the mesh. Then, define their data sources. Both\r\nthe displacement operator and mesh provider operator receive data from\r\ntheir respective data files on each server.\r\n"
      ]
    },
    {
      "cell_type": "code",
      "execution_count": null,
      "metadata": {
        "collapsed": false
      },
      "outputs": [],
      "source": [
        "remote_displacement_operators = []\nremote_mesh_operators = []\nfor i, server in enumerate(remote_servers):\n    displacement = ops.result.displacement(server=server)\n    mesh = ops.mesh.mesh_provider(server=server)\n    remote_displacement_operators.append(displacement)\n    remote_mesh_operators.append(mesh)\n    ds = dpf.DataSources(files[i], server=server)\n    ds.add_file_path(files_aux[i])\n    displacement.inputs.data_sources(ds)\n    mesh.inputs.data_sources(ds)"
      ]
    },
    {
      "cell_type": "markdown",
      "metadata": {},
      "source": [
        "# Create a local operator chain for expansion\r\n\r\nThe following series of operators merge the modal basis and the meshes,\r\nread the modal response, and expand the modal response with the modal\r\nbasis.\r\n"
      ]
    },
    {
      "cell_type": "code",
      "execution_count": null,
      "metadata": {
        "collapsed": false
      },
      "outputs": [],
      "source": [
        "merge_fields = ops.utility.merge_fields_containers()\nmerge_mesh = ops.utility.merge_meshes()\n\nds = dpf.DataSources(files_rfrq[0])\nresponse = ops.result.displacement(data_sources=ds)\nresponse.inputs.mesh(merge_mesh.outputs.merges_mesh)\n\nds = dpf.DataSources(files_rfrq[1])\nresponse2 = ops.result.displacement(data_sources=ds)\nresponse2fc = response2.outputs.fields_container()\nresponse2fc.time_freq_support.time_frequencies.scoping.set_id(0, 2)\n\nmerge_use_pass = ops.utility.merge_fields_containers()\nmerge_use_pass.inputs.fields_containers1(response)\nmerge_use_pass.inputs.fields_containers2(response2fc)\n\nexpansion = ops.math.modal_superposition(\n    solution_in_modal_space=merge_use_pass, modal_basis=merge_fields\n)\ncomponent = ops.logic.component_selector_fc(expansion, 1)"
      ]
    },
    {
      "cell_type": "markdown",
      "metadata": {},
      "source": [
        "# Connect the operator chains together and get the output\r\n"
      ]
    },
    {
      "cell_type": "code",
      "execution_count": null,
      "metadata": {
        "collapsed": false
      },
      "outputs": [],
      "source": [
        "for i, server in enumerate(remote_servers):\n    merge_fields.connect(i, remote_displacement_operators[i], 0)\n    merge_mesh.connect(i, remote_mesh_operators[i], 0)\n\nfc = component.get_output(0, dpf.types.fields_container)\nmerged_mesh = merge_mesh.get_output(0, dpf.types.meshed_region)\n\nmerged_mesh.plot(fc.get_field_by_time_complex_ids(1, 0))\nmerged_mesh.plot(fc.get_field_by_time_complex_ids(20, 0))\nprint(fc)"
      ]
    }
  ],
  "metadata": {
    "kernelspec": {
      "display_name": "Python 3",
      "language": "python",
      "name": "python3"
    },
    "language_info": {
      "codemirror_mode": {
        "name": "ipython",
        "version": 3
      },
      "file_extension": ".py",
      "mimetype": "text/x-python",
      "name": "python",
      "nbconvert_exporter": "python",
      "pygments_lexer": "ipython3",
      "version": "3.10.11"
    }
  },
  "nbformat": 4,
  "nbformat_minor": 0
}