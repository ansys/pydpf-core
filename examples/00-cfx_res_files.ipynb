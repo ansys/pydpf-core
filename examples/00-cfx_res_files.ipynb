{
  "cells": [
    {
      "cell_type": "markdown",
      "metadata": {},
      "source": [
        "# Read CFX [.res]{.title-ref} files {#ref_cfx_res_files}\r\n\r\nThis example demonstrates how to read Ansys CFX [.res]{.title-ref}\r\nfiles.\r\n\r\n:::: note\r\n::: title\r\nNote\r\n:::\r\n\r\nThis example requires DPF 7.0 (ansys-dpf-server-2024-1-pre0) or above.\r\nFor more information, see `ref_compatibility`{.interpreted-text\r\nrole=\"ref\"}.\r\n::::\r\n"
      ]
    },
    {
      "cell_type": "markdown",
      "metadata": {},
      "source": [
        "# Exploring an Ansys CFX [.res]{.title-ref} file\r\n\r\nThe first part of the example demonstrates how you can load an Ansys CFX\r\n[.res]{.title-ref} file in a model.\r\n"
      ]
    },
    {
      "cell_type": "code",
      "execution_count": null,
      "metadata": {
        "collapsed": false
      },
      "outputs": [],
      "source": [
        "import ansys.dpf.core as dpf\nfrom ansys.dpf.core import examples\n\npath = examples.download_cfx_mixing_elbow()\nmodel = dpf.Model(path)\nprint(model)"
      ]
    },
    {
      "cell_type": "markdown",
      "metadata": {},
      "source": [
        "# Exploring the mesh\r\n\r\nExplore the mesh through the `MeshInfo`. The `MeshInfo` provides\r\nmetadata information about the mesh. For fluid models, it is useful to\r\nknow the bodies and face zones, as well as the topological relationships\r\nbetween them. First get all the available information in the `MeshInfo`.\r\n"
      ]
    },
    {
      "cell_type": "code",
      "execution_count": null,
      "metadata": {
        "collapsed": false
      },
      "outputs": [],
      "source": [
        "mesh_info = model.metadata.mesh_info\nprint(mesh_info)"
      ]
    },
    {
      "cell_type": "markdown",
      "metadata": {},
      "source": [
        "The `MeshInfo` exposes several helpers, such as a dictionary of\r\navailable bodies:\r\n"
      ]
    },
    {
      "cell_type": "code",
      "execution_count": null,
      "metadata": {
        "collapsed": false
      },
      "outputs": [],
      "source": [
        "print(mesh_info.bodies)"
      ]
    },
    {
      "cell_type": "markdown",
      "metadata": {},
      "source": [
        "Or the dictionary of available face zones:\r\n"
      ]
    },
    {
      "cell_type": "code",
      "execution_count": null,
      "metadata": {
        "collapsed": false
      },
      "outputs": [],
      "source": [
        "print(mesh_info.face_zones)"
      ]
    },
    {
      "cell_type": "markdown",
      "metadata": {},
      "source": [
        "# Exploring the results\r\n\r\nExplore the available results through the `ResultInfo`. The `ResultInfo`\r\nprovides metadata information about the results stored in the files.\r\nFirst get all the available information in the `ResultInfo`. As you can\r\nsee above, the `ResultInfo` information is also listed when printing the\r\n`Model`.\r\n"
      ]
    },
    {
      "cell_type": "code",
      "execution_count": null,
      "metadata": {
        "collapsed": false
      },
      "outputs": [],
      "source": [
        "result_info = model.metadata.result_info\nprint(result_info)"
      ]
    },
    {
      "cell_type": "markdown",
      "metadata": {},
      "source": [
        "The `ResultInfo` class exposes the list of `AvailableResults`.\r\n"
      ]
    },
    {
      "cell_type": "code",
      "execution_count": null,
      "metadata": {
        "collapsed": false
      },
      "outputs": [],
      "source": [
        "print(result_info.available_results)"
      ]
    },
    {
      "cell_type": "markdown",
      "metadata": {},
      "source": [
        "# Extracting data\r\n\r\nExtracting the mesh or results is then the same as for any other file\r\ntype.\r\n"
      ]
    }
  ],
  "metadata": {
    "kernelspec": {
      "display_name": "Python 3",
      "language": "python",
      "name": "python3"
    },
    "language_info": {
      "codemirror_mode": {
        "name": "ipython",
        "version": 3
      },
      "file_extension": ".py",
      "mimetype": "text/x-python",
      "name": "python",
      "nbconvert_exporter": "python",
      "pygments_lexer": "ipython3",
      "version": "3.10.11"
    }
  },
  "nbformat": 4,
  "nbformat_minor": 0
}