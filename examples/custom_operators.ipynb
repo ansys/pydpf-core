{
 "cells": [
  {
   "cell_type": "code",
   "execution_count": 1,
   "id": "caf9396a",
   "metadata": {
    "execution": {
     "iopub.execute_input": "2025-08-08T08:00:25.970336Z",
     "iopub.status.busy": "2025-08-08T08:00:25.969320Z",
     "iopub.status.idle": "2025-08-08T08:00:28.129108Z",
     "shell.execute_reply": "2025-08-08T08:00:28.126973Z"
    }
   },
   "outputs": [],
   "source": [
    "import ansys.dpf.core as dpf\n",
    "\n",
    "# Python plugins are not supported in process.\n",
    "server = dpf.start_local_server(config=dpf.AvailableServerConfigs.GrpcServer, as_global=False)"
   ]
  },
  {
   "cell_type": "code",
   "execution_count": 2,
   "id": "014d3d79",
   "metadata": {
    "execution": {
     "iopub.execute_input": "2025-08-08T08:00:28.135812Z",
     "iopub.status.busy": "2025-08-08T08:00:28.134810Z",
     "iopub.status.idle": "2025-08-08T08:00:32.082158Z",
     "shell.execute_reply": "2025-08-08T08:00:32.080989Z"
    }
   },
   "outputs": [],
   "source": [
    "# Get the path to the example plugin\n",
    "from pathlib import Path\n",
    "from ansys.dpf.core.examples.python_plugins import custom_operator_example\n",
    "custom_operator_folder = Path(custom_operator_example.__file__).parent\n",
    "\n",
    "# Load it on the server\n",
    "dpf.load_library(\n",
    "    filename=custom_operator_folder,  # Path to the plugin directory\n",
    "    name=\"py_custom_operator_example\",  # Look for a Python file named 'custom_operator_example.py'\n",
    "    symbol=\"load_operators\",  # Look for the entry-point where operators are recorded\n",
    "    server=server,  # Load the plugin on the server previously started\n",
    "    generate_operators=False,  # Do not generate the Python module for this operator\n",
    ")\n",
    "\n",
    "# You can verify the operator is now in the list of available operators on the server\n",
    "assert \"my_custom_operator\" in dpf.dpf_operator.available_operator_names(server=server)"
   ]
  },
  {
   "cell_type": "code",
   "execution_count": 3,
   "id": "a59c4e52",
   "metadata": {
    "execution": {
     "iopub.execute_input": "2025-08-08T08:00:32.087154Z",
     "iopub.status.busy": "2025-08-08T08:00:32.086158Z",
     "iopub.status.idle": "2025-08-08T08:00:32.097264Z",
     "shell.execute_reply": "2025-08-08T08:00:32.096248Z"
    }
   },
   "outputs": [
    {
     "name": "stdout",
     "output_type": "stream",
     "text": [
      "DPF my_custom_operator Operator: \n",
      "  What the Operator does. You can use MarkDown and LaTeX in descriptions. \n",
      "  Inputs:\n",
      "         input_0 [field, fields_container]: Describe input pin 0. \n",
      "  Outputs:\n",
      "         output_0 [field]: Describe output pin 0. \n",
      "\n"
     ]
    }
   ],
   "source": [
    "my_custom_op = dpf.Operator(name=\"my_custom_operator\", server=server) # as returned by the ``name`` property\n",
    "print(my_custom_op)"
   ]
  },
  {
   "cell_type": "code",
   "execution_count": 4,
   "id": "e3e6a1e1",
   "metadata": {
    "execution": {
     "iopub.execute_input": "2025-08-08T08:00:32.101328Z",
     "iopub.status.busy": "2025-08-08T08:00:32.100314Z",
     "iopub.status.idle": "2025-08-08T08:00:32.277523Z",
     "shell.execute_reply": "2025-08-08T08:00:32.276506Z"
    }
   },
   "outputs": [
    {
     "name": "stdout",
     "output_type": "stream",
     "text": [
      "DPF initial name Field\n",
      "  Location: Nodal\n",
      "  Unit: \n",
      "  0 entities \n",
      "  Data: 3 components and 0 elementary data \n",
      "\n",
      "DPF new_field_name Field\n",
      "  Location: Nodal\n",
      "  Unit: \n",
      "  0 entities \n",
      "  Data: 3 components and 0 elementary data \n",
      "\n"
     ]
    }
   ],
   "source": [
    "# Create a bogus field to use as input\n",
    "in_field = dpf.Field(server=server)\n",
    "# Give it a name\n",
    "in_field.name = \"initial name\"\n",
    "print(in_field)\n",
    "# Set it as input of the operator\n",
    "my_custom_op.inputs.input_0.connect(in_field)\n",
    "# Run the operator by requesting its output\n",
    "out_field = my_custom_op.outputs.output_0()\n",
    "print(out_field)"
   ]
  }
 ],
 "metadata": {
  "kernelspec": {
   "display_name": "Python 3 (ipykernel)",
   "language": "python",
   "name": "python3"
  },
  "language_info": {
   "codemirror_mode": {
    "name": "ipython",
    "version": 3
   },
   "file_extension": ".py",
   "mimetype": "text/x-python",
   "name": "python",
   "nbconvert_exporter": "python",
   "pygments_lexer": "ipython3",
   "version": "3.12.3"
  }
 },
 "nbformat": 4,
 "nbformat_minor": 5
}