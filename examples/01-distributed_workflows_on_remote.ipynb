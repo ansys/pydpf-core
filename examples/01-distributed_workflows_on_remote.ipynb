{
  "cells": [
    {
      "cell_type": "markdown",
      "metadata": {},
      "source": [
        "\n\n# Create a custom workflow on distributed processes\n\nThis example shows how to read and postprocess distributed files on\ndistributed processes. After remote postprocessing, results are merged\non the local process. This example creates different operator\nsequences directly on different servers. These operators are then\nconnected together so that you don't have to care that they are on\nremote processes.\n\n.. graphviz::\n\n    digraph foo {\n        graph [pad=\"0\", nodesep=\"0.3\", ranksep=\"0.3\"]\n        node [shape=box, style=filled, fillcolor=\"#ffcc00\", margin=\"0\"];\n        rankdir=LR;\n        splines=line;\n\n        subgraph cluster_1 {\n            ds01 [label=\"data_src\", shape=box, style=filled, fillcolor=cadetblue2];\n\n            ds01 -> stress1 [style=dashed];\n\n            label=\"Server 1\";\n            style=filled;\n            fillcolor=lightgrey;\n        }\n\n        subgraph cluster_2 {\n            ds02 [label=\"data_src\", shape=box, style=filled, fillcolor=cadetblue2];\n\n            ds02 -> stress2 [style=dashed];\n            stress2 -> mul;\n\n            label=\"Server 2\";\n            style=filled;\n            fillcolor=lightgrey;\n        }\n\n        stress1 -> \"merge\";\n        mul -> \"merge\";\n    }\n"
      ]
    },
    {
      "cell_type": "markdown",
      "metadata": {},
      "source": [
        "Import the ``dpf-core`` module and its examples files.\n\n"
      ]
    },
    {
      "cell_type": "code",
      "execution_count": null,
      "metadata": {
        "collapsed": false
      },
      "outputs": [],
      "source": [
        "import os\n\nfrom ansys.dpf import core as dpf\nfrom ansys.dpf.core import examples, operators as ops"
      ]
    },
    {
      "cell_type": "markdown",
      "metadata": {},
      "source": [
        "Configure the servers.\nTo make it easier, this example starts local servers. However, you can\nconnect to any existing servers on your network.\n\n"
      ]
    },
    {
      "cell_type": "code",
      "execution_count": null,
      "metadata": {
        "collapsed": false
      },
      "outputs": [],
      "source": [
        "config = dpf.AvailableServerConfigs.InProcessServer\nif \"DPF_DOCKER\" in os.environ.keys():\n    # If running DPF on Docker, you cannot start an InProcessServer\n    config = dpf.AvailableServerConfigs.GrpcServer\nglobal_server = dpf.start_local_server(as_global=True, config=config)\n\nremote_servers = [\n    dpf.start_local_server(as_global=False, config=dpf.AvailableServerConfigs.GrpcServer),\n    dpf.start_local_server(as_global=False, config=dpf.AvailableServerConfigs.GrpcServer),\n]"
      ]
    },
    {
      "cell_type": "markdown",
      "metadata": {},
      "source": [
        "Send files to the temporary directory if they are not in shared memory.\n\n"
      ]
    },
    {
      "cell_type": "code",
      "execution_count": null,
      "metadata": {
        "collapsed": false
      },
      "outputs": [],
      "source": [
        "files = examples.download_distributed_files(return_local_path=True)\nserver_file_paths = [\n    dpf.upload_file_in_tmp_folder(files[0], server=remote_servers[0]),\n    dpf.upload_file_in_tmp_folder(files[1], server=remote_servers[1]),\n]"
      ]
    },
    {
      "cell_type": "markdown",
      "metadata": {},
      "source": [
        "Create the first operator chain.\n\n"
      ]
    },
    {
      "cell_type": "code",
      "execution_count": null,
      "metadata": {
        "collapsed": false
      },
      "outputs": [],
      "source": [
        "remote_operators = []\n\nstress1 = ops.result.stress(server=remote_servers[0])\nremote_operators.append(stress1)\nds = dpf.DataSources(server_file_paths[0], server=remote_servers[0])\nstress1.inputs.data_sources(ds)"
      ]
    },
    {
      "cell_type": "markdown",
      "metadata": {},
      "source": [
        "Create the second operator chain.\n\n"
      ]
    },
    {
      "cell_type": "code",
      "execution_count": null,
      "metadata": {
        "collapsed": false
      },
      "outputs": [],
      "source": [
        "stress2 = ops.result.stress(server=remote_servers[1])\nmul = stress2 * 2.0\nremote_operators.append(mul)\nds = dpf.DataSources(server_file_paths[1], server=remote_servers[1])\nstress2.inputs.data_sources(ds)"
      ]
    },
    {
      "cell_type": "markdown",
      "metadata": {},
      "source": [
        "Create the local merge operator.\n\n"
      ]
    },
    {
      "cell_type": "code",
      "execution_count": null,
      "metadata": {
        "collapsed": false
      },
      "outputs": [],
      "source": [
        "merge = ops.utility.merge_fields_containers()"
      ]
    },
    {
      "cell_type": "markdown",
      "metadata": {},
      "source": [
        "Connect the operator chains together and get the output.\n\n"
      ]
    },
    {
      "cell_type": "code",
      "execution_count": null,
      "metadata": {
        "collapsed": false
      },
      "outputs": [],
      "source": [
        "nodal = ops.averaging.to_nodal_fc(merge)\n\nmerge.connect(0, remote_operators[0], 0)\nmerge.connect(1, remote_operators[1], 0)\n\nfc = nodal.get_output(0, dpf.types.fields_container)\nprint(fc[0])\nfc[0].meshed_region.plot(fc[0])"
      ]
    }
  ],
  "metadata": {
    "kernelspec": {
      "display_name": "Python 3",
      "language": "python",
      "name": "python3"
    },
    "language_info": {
      "codemirror_mode": {
        "name": "ipython",
        "version": 3
      },
      "file_extension": ".py",
      "mimetype": "text/x-python",
      "name": "python",
      "nbconvert_exporter": "python",
      "pygments_lexer": "ipython3",
      "version": "3.12.3"
    }
  },
  "nbformat": 4,
  "nbformat_minor": 0
}