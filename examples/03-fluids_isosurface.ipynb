{
  "cells": [
    {
      "cell_type": "markdown",
      "metadata": {},
      "source": [
        "\n\n# Compute iso-surfaces on fluid models\n\nThis example demonstrates how to compute iso-surfaces on fluid models.\n\n<div class=\"alert alert-info\"><h4>Note</h4><p>This example requires DPF 7.0 (ansys-dpf-server-2024-1-pre0) or above.\n    For more information, see `ref_compatibility`.</p></div>\n"
      ]
    },
    {
      "cell_type": "markdown",
      "metadata": {},
      "source": [
        "## Import the ``dpf-core`` module and its examples files.\n\n"
      ]
    },
    {
      "cell_type": "code",
      "execution_count": null,
      "metadata": {
        "collapsed": false
      },
      "outputs": [],
      "source": [
        "import ansys.dpf.core as dpf\nfrom ansys.dpf.core import examples\nfrom ansys.dpf.core.plotter import DpfPlotter"
      ]
    },
    {
      "cell_type": "markdown",
      "metadata": {},
      "source": [
        "## Specify the file path.\nWe work on a cas/dat.h5 file with only nodal variables.\n\n"
      ]
    },
    {
      "cell_type": "code",
      "execution_count": null,
      "metadata": {
        "collapsed": false
      },
      "outputs": [],
      "source": [
        "path = examples.download_cfx_heating_coil()\nds = dpf.DataSources()\nds.set_result_file_path(path[\"cas\"], \"cas\")\nds.add_file_path(path[\"dat\"], \"dat\")\nstreams = dpf.operators.metadata.streams_provider(data_sources=ds)"
      ]
    },
    {
      "cell_type": "markdown",
      "metadata": {},
      "source": [
        "## Whole mesh scoping.\nWe evaluate the mesh with the mesh_provider operator to scope the mesh_cut operator\nwith the whole mesh.\n\n"
      ]
    },
    {
      "cell_type": "code",
      "execution_count": null,
      "metadata": {
        "collapsed": false
      },
      "outputs": [],
      "source": [
        "whole_mesh = dpf.operators.mesh.mesh_provider(streams_container=streams).eval()\nprint(whole_mesh)\n\nwhole_mesh.plot()"
      ]
    },
    {
      "cell_type": "markdown",
      "metadata": {},
      "source": [
        "## Extract the physics variable\nHere we choose to work with the static pressure by default which is a scalar and\nnodal variable without multi-species/phases. With a multi-species case,\nselect one using qualifier ellipsis pins and connecting a LabelSpace \"species\"/\"phase\".\n\n"
      ]
    },
    {
      "cell_type": "code",
      "execution_count": null,
      "metadata": {
        "collapsed": false
      },
      "outputs": [],
      "source": [
        "P_S = dpf.operators.result.static_pressure(streams_container=streams, mesh=whole_mesh).eval()\nprint(P_S[0])\n\npl = DpfPlotter()\npl.add_field(P_S[0])\ncpos_mesh_variable = [\n    (4.256160478475664, 4.73662111240005, 4.00410065817644),\n    (-0.0011924505233764648, 1.8596649169921875e-05, 1.125),\n    (-0.2738679385987956, -0.30771426079547065, 0.9112125360807675),\n]\npl.show_figure(cpos=cpos_mesh_variable, show_axes=True)"
      ]
    },
    {
      "cell_type": "markdown",
      "metadata": {},
      "source": [
        "## Evaluate iso-surfaces\nWe can finally use the iso_surfaces operator on this specific variable.\nWe choose to cut the whole mesh with 9 iso-surface manually selected between\nthe min and max of the static_pressure variable.\n\n"
      ]
    },
    {
      "cell_type": "code",
      "execution_count": null,
      "metadata": {
        "collapsed": false
      },
      "outputs": [],
      "source": [
        "pl = DpfPlotter()\nc_pos_iso = [\n    (4.256160478475664, 4.73662111240005, 4.00410065817644),\n    (-0.0011924505233764648, 1.8596649169921875e-05, 1.125),\n    (-0.2738679385987956, -0.30771426079547065, 0.9112125360807675),\n]\npl.add_mesh(\n    meshed_region=whole_mesh,\n    style=\"wireframe\",\n    show_edges=True,\n    show_axes=True,\n    color=\"black\",\n    opacity=0.3,\n)\n\nvec_iso_values = [-153.6, -100.0, -50.0, 50.0, 100.0, 150.0, 200.0, 300.0, 361.8]\n\niso_surfaces_op = dpf.operators.mesh.iso_surfaces(\n    field=P_S[0], mesh=whole_mesh, slice_surfaces=True, vector_iso_values=vec_iso_values\n)\n\niso_surfaces_meshes = iso_surfaces_op.outputs.meshes()\n\niso_surfaces_fields = iso_surfaces_op.outputs.fields_container()\n\nfor i in range(len(iso_surfaces_fields)):\n    pl.add_field(\n        field=iso_surfaces_fields[i],\n        meshed_region=iso_surfaces_meshes[i],\n        style=\"surface\",\n        show_edges=False,\n        show_axes=True,\n    )\n\npl.show_figure(show_axes=True, cpos=c_pos_iso)"
      ]
    },
    {
      "cell_type": "markdown",
      "metadata": {},
      "source": [
        "# Important note\nIso-surfaces computation through the `mesh_cut` operator are only supported for Nodal Fields.\nFor Elemental variables, you must perform an averaging operation on the Nodes before\nrunning the `mesh_cut` operator. This can be done by chaining the `elemental_to_nodal` operator\noutput with the `mesh_cut` operator input.\n\n"
      ]
    }
  ],
  "metadata": {
    "kernelspec": {
      "display_name": "Python 3",
      "language": "python",
      "name": "python3"
    },
    "language_info": {
      "codemirror_mode": {
        "name": "ipython",
        "version": 3
      },
      "file_extension": ".py",
      "mimetype": "text/x-python",
      "name": "python",
      "nbconvert_exporter": "python",
      "pygments_lexer": "ipython3",
      "version": "3.12.3"
    }
  },
  "nbformat": 4,
  "nbformat_minor": 0
}