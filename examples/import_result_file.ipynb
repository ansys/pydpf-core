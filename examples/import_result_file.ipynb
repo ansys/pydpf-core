{
 "cells": [
  {
   "cell_type": "code",
   "execution_count": 1,
   "id": "a7f4a738",
   "metadata": {
    "execution": {
     "iopub.execute_input": "2025-10-17T12:26:49.231054Z",
     "iopub.status.busy": "2025-10-17T12:26:49.230694Z",
     "iopub.status.idle": "2025-10-17T12:26:51.050255Z",
     "shell.execute_reply": "2025-10-17T12:26:51.048742Z"
    }
   },
   "outputs": [
    {
     "name": "stdout",
     "output_type": "stream",
     "text": [
      "Result file path 11: \n",
      " D:\\a\\pydpf-core\\pydpf-core\\.tox\\doc-html\\Lib\\site-packages\\ansys\\dpf\\core\\examples\\result_files\\static.rst \n",
      "\n",
      "Result files paths 12: \n",
      " {'rfrq': 'D:\\\\a\\\\pydpf-core\\\\pydpf-core\\\\.tox\\\\doc-html\\\\Lib\\\\site-packages\\\\ansys\\\\dpf\\\\core\\\\examples\\\\result_files\\\\msup\\\\file.rfrq', 'mode': 'D:\\\\a\\\\pydpf-core\\\\pydpf-core\\\\.tox\\\\doc-html\\\\Lib\\\\site-packages\\\\ansys\\\\dpf\\\\core\\\\examples\\\\result_files\\\\msup\\\\file.mode', 'rst': 'D:\\\\a\\\\pydpf-core\\\\pydpf-core\\\\.tox\\\\doc-html\\\\Lib\\\\site-packages\\\\ansys\\\\dpf\\\\core\\\\examples\\\\result_files\\\\msup\\\\file.rst'} \n",
      "\n"
     ]
    }
   ],
   "source": [
    "# Import the ``ansys.dpf.core`` module\n",
    "from ansys.dpf import core as dpf\n",
    "# Import the examples module\n",
    "from ansys.dpf.core import examples\n",
    "# Import the operators module\n",
    "from ansys.dpf.core import operators as ops\n",
    "\n",
    "# Define the .rst result file path\n",
    "result_file_path_11 = examples.find_static_rst()\n",
    "\n",
    "# Define the modal superposition harmonic analysis (.mode, .rfrq and .rst) result files paths\n",
    "result_file_path_12 = examples.download_msup_files_to_dict()\n",
    "\n",
    "\n",
    "# Print the result files paths\n",
    "print(\"Result file path 11:\", \"\\n\",result_file_path_11, \"\\n\")\n",
    "print(\"Result files paths 12:\", \"\\n\",result_file_path_12, \"\\n\")"
   ]
  },
  {
   "cell_type": "code",
   "execution_count": 2,
   "id": "f23c1abb",
   "metadata": {
    "execution": {
     "iopub.execute_input": "2025-10-17T12:26:51.052813Z",
     "iopub.status.busy": "2025-10-17T12:26:51.052271Z",
     "iopub.status.idle": "2025-10-17T12:26:51.058153Z",
     "shell.execute_reply": "2025-10-17T12:26:51.057793Z"
    }
   },
   "outputs": [
    {
     "name": "stdout",
     "output_type": "stream",
     "text": [
      "Result files paths 21: \n",
      " ['D:\\\\a\\\\pydpf-core\\\\pydpf-core\\\\.tox\\\\doc-html\\\\Lib\\\\site-packages\\\\ansys\\\\dpf\\\\core\\\\examples\\\\result_files\\\\d3plot_beam\\\\d3plot', 'D:\\\\a\\\\pydpf-core\\\\pydpf-core\\\\.tox\\\\doc-html\\\\Lib\\\\site-packages\\\\ansys\\\\dpf\\\\core\\\\examples\\\\result_files\\\\d3plot_beam\\\\d3plot01', 'D:\\\\a\\\\pydpf-core\\\\pydpf-core\\\\.tox\\\\doc-html\\\\Lib\\\\site-packages\\\\ansys\\\\dpf\\\\core\\\\examples\\\\result_files\\\\d3plot_beam\\\\d3plot02', 'D:\\\\a\\\\pydpf-core\\\\pydpf-core\\\\.tox\\\\doc-html\\\\Lib\\\\site-packages\\\\ansys\\\\dpf\\\\core\\\\examples\\\\result_files\\\\d3plot_beam\\\\file.actunits'] \n",
      "\n",
      "Result file path 22: \n",
      " D:\\a\\pydpf-core\\pydpf-core\\.tox\\doc-html\\Lib\\site-packages\\ansys\\dpf\\core\\examples\\result_files\\binout\\binout_matsum \n",
      "\n"
     ]
    }
   ],
   "source": [
    "# Import the ``ansys.dpf.core`` module\n",
    "from ansys.dpf import core as dpf\n",
    "# Import the examples module\n",
    "from ansys.dpf.core import examples\n",
    "# Import the operators module\n",
    "from ansys.dpf.core import operators as ops\n",
    "\n",
    "# Define the .d3plot result files paths\n",
    "result_file_path_21 = examples.download_d3plot_beam()\n",
    "\n",
    "# Define the .binout result file path\n",
    "result_file_path_22 = examples.download_binout_matsum()\n",
    "\n",
    "# Print the result files paths\n",
    "print(\"Result files paths 21:\", \"\\n\",result_file_path_21, \"\\n\")\n",
    "print(\"Result file path 22:\", \"\\n\",result_file_path_22, \"\\n\")"
   ]
  },
  {
   "cell_type": "code",
   "execution_count": 3,
   "id": "fa2e544d",
   "metadata": {
    "execution": {
     "iopub.execute_input": "2025-10-17T12:26:51.060579Z",
     "iopub.status.busy": "2025-10-17T12:26:51.060579Z",
     "iopub.status.idle": "2025-10-17T12:26:51.068273Z",
     "shell.execute_reply": "2025-10-17T12:26:51.067132Z"
    }
   },
   "outputs": [
    {
     "name": "stdout",
     "output_type": "stream",
     "text": [
      "Result file path 31: \n",
      " D:\\a\\pydpf-core\\pydpf-core\\.tox\\doc-html\\Lib\\site-packages\\ansys\\dpf\\core\\examples\\result_files\\fluent-axial_comp\\axial_comp_reduced.flprj \n",
      "\n",
      "Result files paths 32: \n",
      " {'flprj': 'D:\\\\a\\\\pydpf-core\\\\pydpf-core\\\\.tox\\\\doc-html\\\\Lib\\\\site-packages\\\\ansys\\\\dpf\\\\core\\\\examples\\\\result_files\\\\fluent-axial_comp\\\\axial_comp_reduced.flprj', 'cas': ['D:\\\\a\\\\pydpf-core\\\\pydpf-core\\\\.tox\\\\doc-html\\\\Lib\\\\site-packages\\\\ansys\\\\dpf\\\\core\\\\examples\\\\result_files\\\\fluent-axial_comp\\\\axial_comp-1-01438.cas.h5', 'D:\\\\a\\\\pydpf-core\\\\pydpf-core\\\\.tox\\\\doc-html\\\\Lib\\\\site-packages\\\\ansys\\\\dpf\\\\core\\\\examples\\\\result_files\\\\fluent-axial_comp\\\\axial_comp-1-01439.cas.h5', 'D:\\\\a\\\\pydpf-core\\\\pydpf-core\\\\.tox\\\\doc-html\\\\Lib\\\\site-packages\\\\ansys\\\\dpf\\\\core\\\\examples\\\\result_files\\\\fluent-axial_comp\\\\axial_comp-1-01440.cas.h5'], 'dat': ['D:\\\\a\\\\pydpf-core\\\\pydpf-core\\\\.tox\\\\doc-html\\\\Lib\\\\site-packages\\\\ansys\\\\dpf\\\\core\\\\examples\\\\result_files\\\\fluent-axial_comp\\\\axial_comp-1-01438.dat.h5', 'D:\\\\a\\\\pydpf-core\\\\pydpf-core\\\\.tox\\\\doc-html\\\\Lib\\\\site-packages\\\\ansys\\\\dpf\\\\core\\\\examples\\\\result_files\\\\fluent-axial_comp\\\\axial_comp-1-01439.dat.h5', 'D:\\\\a\\\\pydpf-core\\\\pydpf-core\\\\.tox\\\\doc-html\\\\Lib\\\\site-packages\\\\ansys\\\\dpf\\\\core\\\\examples\\\\result_files\\\\fluent-axial_comp\\\\axial_comp-1-01440.dat.h5']} \n",
      "\n"
     ]
    }
   ],
   "source": [
    "# Import the ``ansys.dpf.core`` module\n",
    "from ansys.dpf import core as dpf\n",
    "# Import the examples module\n",
    "from ansys.dpf.core import examples\n",
    "# Import the operators module\n",
    "from ansys.dpf.core import operators as ops\n",
    "\n",
    "# Define the project .flprj result file path\n",
    "result_file_path_31 = examples.download_fluent_axial_comp()[\"flprj\"]\n",
    "\n",
    "# Define the CFF .cas.h5/.dat.h5 result files paths\n",
    "result_file_path_32 = examples.download_fluent_axial_comp()\n",
    "\n",
    "# Print the result files paths\n",
    "print(\"Result file path 31:\", \"\\n\",result_file_path_31, \"\\n\")\n",
    "print(\"Result files paths 32:\", \"\\n\",result_file_path_32, \"\\n\")"
   ]
  },
  {
   "cell_type": "code",
   "execution_count": 4,
   "id": "44d58c33",
   "metadata": {
    "execution": {
     "iopub.execute_input": "2025-10-17T12:26:51.070671Z",
     "iopub.status.busy": "2025-10-17T12:26:51.070292Z",
     "iopub.status.idle": "2025-10-17T12:26:51.075729Z",
     "shell.execute_reply": "2025-10-17T12:26:51.074796Z"
    }
   },
   "outputs": [
    {
     "name": "stdout",
     "output_type": "stream",
     "text": [
      "Result file path 41: \n",
      " D:\\a\\pydpf-core\\pydpf-core\\.tox\\doc-html\\Lib\\site-packages\\ansys\\dpf\\core\\examples\\result_files\\cfx-mixing_elbow\\InjectMixer.res \n",
      "\n",
      "Result files paths 42: \n",
      " {'cas': 'D:\\\\a\\\\pydpf-core\\\\pydpf-core\\\\.tox\\\\doc-html\\\\Lib\\\\site-packages\\\\ansys\\\\dpf\\\\core\\\\examples\\\\result_files\\\\cfx-heating_coil\\\\def.cas.cff', 'dat': 'D:\\\\a\\\\pydpf-core\\\\pydpf-core\\\\.tox\\\\doc-html\\\\Lib\\\\site-packages\\\\ansys\\\\dpf\\\\core\\\\examples\\\\result_files\\\\cfx-heating_coil\\\\def.dat.cff'} \n",
      "\n"
     ]
    }
   ],
   "source": [
    "# Import the ``ansys.dpf.core`` module\n",
    "from ansys.dpf import core as dpf\n",
    "# Import the examples module\n",
    "from ansys.dpf.core import examples\n",
    "# Import the operators module\n",
    "from ansys.dpf.core import operators as ops\n",
    "\n",
    "# Define the project .res result file path\n",
    "result_file_path_41 = examples.download_cfx_mixing_elbow()\n",
    "\n",
    "# Define the CFF .cas.cff/.dat.cff result files paths\n",
    "result_file_path_42 = examples.download_cfx_heating_coil()\n",
    "\n",
    "# Print the result files paths\n",
    "print(\"Result file path 41:\", \"\\n\",result_file_path_41, \"\\n\")\n",
    "print(\"Result files paths 42:\", \"\\n\",result_file_path_42, \"\\n\")"
   ]
  },
  {
   "cell_type": "code",
   "execution_count": 5,
   "id": "ace7b8ae",
   "metadata": {
    "execution": {
     "iopub.execute_input": "2025-10-17T12:26:51.078431Z",
     "iopub.status.busy": "2025-10-17T12:26:51.077745Z",
     "iopub.status.idle": "2025-10-17T12:26:51.081788Z",
     "shell.execute_reply": "2025-10-17T12:26:51.081403Z"
    }
   },
   "outputs": [],
   "source": [
    "# Create the DataSources object\n",
    "# Use the ``result_path`` argument and give the result file path\n",
    "ds_11 = dpf.DataSources(result_path=result_file_path_11)"
   ]
  },
  {
   "cell_type": "code",
   "execution_count": 6,
   "id": "c087fdf9",
   "metadata": {
    "execution": {
     "iopub.execute_input": "2025-10-17T12:26:51.084200Z",
     "iopub.status.busy": "2025-10-17T12:26:51.084200Z",
     "iopub.status.idle": "2025-10-17T12:26:51.089222Z",
     "shell.execute_reply": "2025-10-17T12:26:51.089222Z"
    }
   },
   "outputs": [],
   "source": [
    "# Create the main DataSources object\n",
    "ds_12 = dpf.DataSources()\n",
    "# Define the main result file path\n",
    "ds_12.set_result_file_path(filepath=result_file_path_12[\"rfrq\"], key='rfrq')\n",
    "\n",
    "# Create the upstream DataSources object with the main upstream file path\n",
    "upstream_ds_12 = dpf.DataSources(result_path=result_file_path_12[\"mode\"])\n",
    "# Add the additional upstream file path to the upstream DataSources object\n",
    "upstream_ds_12.add_file_path(filepath=result_file_path_12[\"rst\"])\n",
    "\n",
    "# Add the upstream DataSources to the main DataSources object\n",
    "ds_12.add_upstream(upstream_data_sources=upstream_ds_12)"
   ]
  },
  {
   "cell_type": "code",
   "execution_count": 7,
   "id": "f439ec9d",
   "metadata": {
    "execution": {
     "iopub.execute_input": "2025-10-17T12:26:51.093257Z",
     "iopub.status.busy": "2025-10-17T12:26:51.092894Z",
     "iopub.status.idle": "2025-10-17T12:26:51.101335Z",
     "shell.execute_reply": "2025-10-17T12:26:51.100582Z"
    }
   },
   "outputs": [],
   "source": [
    "# Create the DataSources object\n",
    "ds_21 = dpf.DataSources()\n",
    "\n",
    "# Define the main result file path\n",
    "ds_21.set_result_file_path(filepath=result_file_path_21[0], key=\"d3plot\")\n",
    "\n",
    "# Add the additional file path related to the units\n",
    "ds_21.add_file_path(filepath=result_file_path_21[3], key=\"actunits\")"
   ]
  },
  {
   "cell_type": "code",
   "execution_count": 8,
   "id": "ff6b17ce",
   "metadata": {
    "execution": {
     "iopub.execute_input": "2025-10-17T12:26:51.102630Z",
     "iopub.status.busy": "2025-10-17T12:26:51.102630Z",
     "iopub.status.idle": "2025-10-17T12:26:51.107224Z",
     "shell.execute_reply": "2025-10-17T12:26:51.107224Z"
    }
   },
   "outputs": [],
   "source": [
    "# Create the DataSources object\n",
    "ds_22 = dpf.DataSources()\n",
    "\n",
    "# Define the path to the result file\n",
    "# Use the ``key`` argument and give the file extension key\n",
    "ds_22.set_result_file_path(filepath=result_file_path_22, key=\"binout\")"
   ]
  },
  {
   "cell_type": "code",
   "execution_count": 9,
   "id": "d2af9930",
   "metadata": {
    "execution": {
     "iopub.execute_input": "2025-10-17T12:26:51.110794Z",
     "iopub.status.busy": "2025-10-17T12:26:51.108773Z",
     "iopub.status.idle": "2025-10-17T12:26:51.114841Z",
     "shell.execute_reply": "2025-10-17T12:26:51.114075Z"
    }
   },
   "outputs": [],
   "source": [
    "# Create the DataSources object\n",
    "# Use the ``result_path`` argument and give the result file path\n",
    "ds_31 = dpf.DataSources(result_path=result_file_path_31)"
   ]
  },
  {
   "cell_type": "code",
   "execution_count": 10,
   "id": "9de47b6f",
   "metadata": {
    "execution": {
     "iopub.execute_input": "2025-10-17T12:26:51.116857Z",
     "iopub.status.busy": "2025-10-17T12:26:51.116857Z",
     "iopub.status.idle": "2025-10-17T12:26:51.122657Z",
     "shell.execute_reply": "2025-10-17T12:26:51.121734Z"
    }
   },
   "outputs": [],
   "source": [
    "# Create the DataSources object\n",
    "ds_32 = dpf.DataSources()\n",
    "\n",
    "# Define the path to the main result file\n",
    "# Use the ``key`` argument and give the first extension key\n",
    "ds_32.set_result_file_path(filepath=result_file_path_32['cas'][0], key=\"cas\")\n",
    "\n",
    "# Add the additional result file path to the DataSources\n",
    "# Use the ``key`` argument and give the first extension key\n",
    "ds_32.add_file_path(filepath=result_file_path_32['dat'][0], key=\"dat\")"
   ]
  },
  {
   "cell_type": "code",
   "execution_count": 11,
   "id": "70151753",
   "metadata": {
    "execution": {
     "iopub.execute_input": "2025-10-17T12:26:51.125787Z",
     "iopub.status.busy": "2025-10-17T12:26:51.124679Z",
     "iopub.status.idle": "2025-10-17T12:26:51.129933Z",
     "shell.execute_reply": "2025-10-17T12:26:51.128722Z"
    }
   },
   "outputs": [],
   "source": [
    "# Create the DataSources object\n",
    "# Use the ``result_path`` argument and give the result file path\n",
    "ds_41 = dpf.DataSources(result_path=result_file_path_41)"
   ]
  },
  {
   "cell_type": "code",
   "execution_count": 12,
   "id": "82587c92",
   "metadata": {
    "execution": {
     "iopub.execute_input": "2025-10-17T12:26:51.132762Z",
     "iopub.status.busy": "2025-10-17T12:26:51.132762Z",
     "iopub.status.idle": "2025-10-17T12:26:51.137031Z",
     "shell.execute_reply": "2025-10-17T12:26:51.137031Z"
    }
   },
   "outputs": [],
   "source": [
    "# Create the DataSources object\n",
    "ds_42 = dpf.DataSources()\n",
    "\n",
    "# Define the path to the main result file\n",
    "# Use the ``key`` argument and give the first extension key\n",
    "ds_42.set_result_file_path(filepath=result_file_path_42[\"cas\"], key=\"cas\")\n",
    "\n",
    "# Add the additional result file path to the DataSources\n",
    "# Use the ``key`` argument and give the first extension key\n",
    "ds_42.add_file_path(filepath=result_file_path_42[\"dat\"], key=\"dat\")"
   ]
  },
  {
   "cell_type": "code",
   "execution_count": 13,
   "id": "5762fc18",
   "metadata": {
    "execution": {
     "iopub.execute_input": "2025-10-17T12:26:51.140445Z",
     "iopub.status.busy": "2025-10-17T12:26:51.140445Z",
     "iopub.status.idle": "2025-10-17T12:26:51.144366Z",
     "shell.execute_reply": "2025-10-17T12:26:51.143779Z"
    }
   },
   "outputs": [],
   "source": [
    "# Create the model with the result file path\n",
    "model_11 = dpf.Model(data_sources=result_file_path_11)\n",
    "\n",
    "# Create the model with the DataSources object\n",
    "model_12 = dpf.Model(data_sources=ds_11)"
   ]
  },
  {
   "cell_type": "code",
   "execution_count": 14,
   "id": "5e2a0d88",
   "metadata": {
    "execution": {
     "iopub.execute_input": "2025-10-17T12:26:51.146382Z",
     "iopub.status.busy": "2025-10-17T12:26:51.146382Z",
     "iopub.status.idle": "2025-10-17T12:26:51.150642Z",
     "shell.execute_reply": "2025-10-17T12:26:51.150642Z"
    }
   },
   "outputs": [],
   "source": [
    "# Create the model with the DataSources object\n",
    "model_13 = dpf.Model(data_sources=ds_12)"
   ]
  },
  {
   "cell_type": "code",
   "execution_count": 15,
   "id": "1b62cd5a",
   "metadata": {
    "execution": {
     "iopub.execute_input": "2025-10-17T12:26:51.153954Z",
     "iopub.status.busy": "2025-10-17T12:26:51.152755Z",
     "iopub.status.idle": "2025-10-17T12:26:51.157993Z",
     "shell.execute_reply": "2025-10-17T12:26:51.157220Z"
    }
   },
   "outputs": [],
   "source": [
    "# Create the model with the DataSources object\n",
    "model_21 = dpf.Model(data_sources=ds_21)"
   ]
  },
  {
   "cell_type": "code",
   "execution_count": 16,
   "id": "a0116935",
   "metadata": {
    "execution": {
     "iopub.execute_input": "2025-10-17T12:26:51.160009Z",
     "iopub.status.busy": "2025-10-17T12:26:51.160009Z",
     "iopub.status.idle": "2025-10-17T12:26:51.164049Z",
     "shell.execute_reply": "2025-10-17T12:26:51.163162Z"
    }
   },
   "outputs": [],
   "source": [
    "# Create the model with the DataSources object\n",
    "model_22 = dpf.Model(data_sources=ds_22)"
   ]
  },
  {
   "cell_type": "code",
   "execution_count": 17,
   "id": "a4594e6d",
   "metadata": {
    "execution": {
     "iopub.execute_input": "2025-10-17T12:26:51.165563Z",
     "iopub.status.busy": "2025-10-17T12:26:51.165563Z",
     "iopub.status.idle": "2025-10-17T12:26:51.169501Z",
     "shell.execute_reply": "2025-10-17T12:26:51.169501Z"
    }
   },
   "outputs": [],
   "source": [
    "# Create the model with the result file path\n",
    "model_31 = dpf.Model(data_sources=result_file_path_31)\n",
    "\n",
    "# Create the model with the DataSources object\n",
    "model_32 = dpf.Model(data_sources=ds_31)"
   ]
  },
  {
   "cell_type": "code",
   "execution_count": 18,
   "id": "4fdeda18",
   "metadata": {
    "execution": {
     "iopub.execute_input": "2025-10-17T12:26:51.173148Z",
     "iopub.status.busy": "2025-10-17T12:26:51.171609Z",
     "iopub.status.idle": "2025-10-17T12:26:51.175598Z",
     "shell.execute_reply": "2025-10-17T12:26:51.175598Z"
    }
   },
   "outputs": [],
   "source": [
    "# Create the model with the DataSources object\n",
    "model_33 = dpf.Model(data_sources=ds_32)"
   ]
  },
  {
   "cell_type": "code",
   "execution_count": 19,
   "id": "7a5b532b",
   "metadata": {
    "execution": {
     "iopub.execute_input": "2025-10-17T12:26:51.177635Z",
     "iopub.status.busy": "2025-10-17T12:26:51.177635Z",
     "iopub.status.idle": "2025-10-17T12:26:51.181702Z",
     "shell.execute_reply": "2025-10-17T12:26:51.181702Z"
    }
   },
   "outputs": [],
   "source": [
    "# Create the model with the result file path\n",
    "model_41 = dpf.Model(data_sources=result_file_path_41)\n",
    "\n",
    "# Create the model with the DataSources object\n",
    "model_42 = dpf.Model(data_sources=ds_41)"
   ]
  },
  {
   "cell_type": "code",
   "execution_count": 20,
   "id": "f1d86407",
   "metadata": {
    "execution": {
     "iopub.execute_input": "2025-10-17T12:26:51.183746Z",
     "iopub.status.busy": "2025-10-17T12:26:51.183746Z",
     "iopub.status.idle": "2025-10-17T12:26:51.189327Z",
     "shell.execute_reply": "2025-10-17T12:26:51.187999Z"
    }
   },
   "outputs": [],
   "source": [
    "# Create the model with the DataSources object\n",
    "model_43 = dpf.Model(data_sources=ds_42)"
   ]
  }
 ],
 "metadata": {
  "kernelspec": {
   "display_name": "Python 3 (ipykernel)",
   "language": "python",
   "name": "python3"
  },
  "language_info": {
   "codemirror_mode": {
    "name": "ipython",
    "version": 3
   },
   "file_extension": ".py",
   "mimetype": "text/x-python",
   "name": "python",
   "nbconvert_exporter": "python",
   "pygments_lexer": "ipython3",
   "version": "3.11.9"
  }
 },
 "nbformat": 4,
 "nbformat_minor": 5
}