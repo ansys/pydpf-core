{
 "cells": [
  {
   "cell_type": "code",
   "execution_count": 1,
   "id": "7a3e5fbc",
   "metadata": {
    "execution": {
     "iopub.execute_input": "2025-08-08T08:00:58.666722Z",
     "iopub.status.busy": "2025-08-08T08:00:58.665690Z",
     "iopub.status.idle": "2025-08-08T08:01:00.585809Z",
     "shell.execute_reply": "2025-08-08T08:01:00.584798Z"
    }
   },
   "outputs": [
    {
     "name": "stdout",
     "output_type": "stream",
     "text": [
      "Result file path 11: \n",
      " D:\\ANSYSDev\\Sandbox\\pydpf-core\\.tox\\doc-html\\Lib\\site-packages\\ansys\\dpf\\core\\examples\\result_files\\static.rst \n",
      "\n",
      "Result files paths 12: \n",
      " {'rfrq': 'D:\\\\ANSYSDev\\\\Sandbox\\\\pydpf-core\\\\.tox\\\\doc-html\\\\Lib\\\\site-packages\\\\ansys\\\\dpf\\\\core\\\\examples\\\\result_files\\\\msup\\\\file.rfrq', 'mode': 'D:\\\\ANSYSDev\\\\Sandbox\\\\pydpf-core\\\\.tox\\\\doc-html\\\\Lib\\\\site-packages\\\\ansys\\\\dpf\\\\core\\\\examples\\\\result_files\\\\msup\\\\file.mode', 'rst': 'D:\\\\ANSYSDev\\\\Sandbox\\\\pydpf-core\\\\.tox\\\\doc-html\\\\Lib\\\\site-packages\\\\ansys\\\\dpf\\\\core\\\\examples\\\\result_files\\\\msup\\\\file.rst'} \n",
      "\n"
     ]
    }
   ],
   "source": [
    "# Import the ``ansys.dpf.core`` module\n",
    "from ansys.dpf import core as dpf\n",
    "# Import the examples module\n",
    "from ansys.dpf.core import examples\n",
    "# Import the operators module\n",
    "from ansys.dpf.core import operators as ops\n",
    "\n",
    "# Define the .rst result file path\n",
    "result_file_path_11 = examples.find_static_rst()\n",
    "\n",
    "# Define the modal superposition harmonic analysis (.mode, .rfrq and .rst) result files paths\n",
    "result_file_path_12 = examples.download_msup_files_to_dict()\n",
    "\n",
    "\n",
    "# Print the result files paths\n",
    "print(\"Result file path 11:\", \"\\n\",result_file_path_11, \"\\n\")\n",
    "print(\"Result files paths 12:\", \"\\n\",result_file_path_12, \"\\n\")"
   ]
  },
  {
   "cell_type": "code",
   "execution_count": 2,
   "id": "4585fd67",
   "metadata": {
    "execution": {
     "iopub.execute_input": "2025-08-08T08:01:00.590024Z",
     "iopub.status.busy": "2025-08-08T08:01:00.588832Z",
     "iopub.status.idle": "2025-08-08T08:01:00.597027Z",
     "shell.execute_reply": "2025-08-08T08:01:00.596013Z"
    }
   },
   "outputs": [
    {
     "name": "stdout",
     "output_type": "stream",
     "text": [
      "Result files paths 21: \n",
      " ['D:\\\\ANSYSDev\\\\Sandbox\\\\pydpf-core\\\\.tox\\\\doc-html\\\\Lib\\\\site-packages\\\\ansys\\\\dpf\\\\core\\\\examples\\\\result_files\\\\d3plot_beam\\\\d3plot', 'D:\\\\ANSYSDev\\\\Sandbox\\\\pydpf-core\\\\.tox\\\\doc-html\\\\Lib\\\\site-packages\\\\ansys\\\\dpf\\\\core\\\\examples\\\\result_files\\\\d3plot_beam\\\\d3plot01', 'D:\\\\ANSYSDev\\\\Sandbox\\\\pydpf-core\\\\.tox\\\\doc-html\\\\Lib\\\\site-packages\\\\ansys\\\\dpf\\\\core\\\\examples\\\\result_files\\\\d3plot_beam\\\\d3plot02', 'D:\\\\ANSYSDev\\\\Sandbox\\\\pydpf-core\\\\.tox\\\\doc-html\\\\Lib\\\\site-packages\\\\ansys\\\\dpf\\\\core\\\\examples\\\\result_files\\\\d3plot_beam\\\\file.actunits'] \n",
      "\n",
      "Result file path 22: \n",
      " D:\\ANSYSDev\\Sandbox\\pydpf-core\\.tox\\doc-html\\Lib\\site-packages\\ansys\\dpf\\core\\examples\\result_files\\binout\\binout_matsum \n",
      "\n"
     ]
    }
   ],
   "source": [
    "# Import the ``ansys.dpf.core`` module\n",
    "from ansys.dpf import core as dpf\n",
    "# Import the examples module\n",
    "from ansys.dpf.core import examples\n",
    "# Import the operators module\n",
    "from ansys.dpf.core import operators as ops\n",
    "\n",
    "# Define the .d3plot result files paths\n",
    "result_file_path_21 = examples.download_d3plot_beam()\n",
    "\n",
    "# Define the .binout result file path\n",
    "result_file_path_22 = examples.download_binout_matsum()\n",
    "\n",
    "# Print the result files paths\n",
    "print(\"Result files paths 21:\", \"\\n\",result_file_path_21, \"\\n\")\n",
    "print(\"Result file path 22:\", \"\\n\",result_file_path_22, \"\\n\")"
   ]
  },
  {
   "cell_type": "code",
   "execution_count": 3,
   "id": "3eabb4e4",
   "metadata": {
    "execution": {
     "iopub.execute_input": "2025-08-08T08:01:00.600033Z",
     "iopub.status.busy": "2025-08-08T08:01:00.600033Z",
     "iopub.status.idle": "2025-08-08T08:01:00.608706Z",
     "shell.execute_reply": "2025-08-08T08:01:00.607191Z"
    }
   },
   "outputs": [
    {
     "name": "stdout",
     "output_type": "stream",
     "text": [
      "Result file path 31: \n",
      " D:\\ANSYSDev\\Sandbox\\pydpf-core\\.tox\\doc-html\\Lib\\site-packages\\ansys\\dpf\\core\\examples\\result_files\\fluent-axial_comp\\axial_comp_reduced.flprj \n",
      "\n",
      "Result files paths 32: \n",
      " {'flprj': 'D:\\\\ANSYSDev\\\\Sandbox\\\\pydpf-core\\\\.tox\\\\doc-html\\\\Lib\\\\site-packages\\\\ansys\\\\dpf\\\\core\\\\examples\\\\result_files\\\\fluent-axial_comp\\\\axial_comp_reduced.flprj', 'cas': ['D:\\\\ANSYSDev\\\\Sandbox\\\\pydpf-core\\\\.tox\\\\doc-html\\\\Lib\\\\site-packages\\\\ansys\\\\dpf\\\\core\\\\examples\\\\result_files\\\\fluent-axial_comp\\\\axial_comp-1-01438.cas.h5', 'D:\\\\ANSYSDev\\\\Sandbox\\\\pydpf-core\\\\.tox\\\\doc-html\\\\Lib\\\\site-packages\\\\ansys\\\\dpf\\\\core\\\\examples\\\\result_files\\\\fluent-axial_comp\\\\axial_comp-1-01439.cas.h5', 'D:\\\\ANSYSDev\\\\Sandbox\\\\pydpf-core\\\\.tox\\\\doc-html\\\\Lib\\\\site-packages\\\\ansys\\\\dpf\\\\core\\\\examples\\\\result_files\\\\fluent-axial_comp\\\\axial_comp-1-01440.cas.h5'], 'dat': ['D:\\\\ANSYSDev\\\\Sandbox\\\\pydpf-core\\\\.tox\\\\doc-html\\\\Lib\\\\site-packages\\\\ansys\\\\dpf\\\\core\\\\examples\\\\result_files\\\\fluent-axial_comp\\\\axial_comp-1-01438.dat.h5', 'D:\\\\ANSYSDev\\\\Sandbox\\\\pydpf-core\\\\.tox\\\\doc-html\\\\Lib\\\\site-packages\\\\ansys\\\\dpf\\\\core\\\\examples\\\\result_files\\\\fluent-axial_comp\\\\axial_comp-1-01439.dat.h5', 'D:\\\\ANSYSDev\\\\Sandbox\\\\pydpf-core\\\\.tox\\\\doc-html\\\\Lib\\\\site-packages\\\\ansys\\\\dpf\\\\core\\\\examples\\\\result_files\\\\fluent-axial_comp\\\\axial_comp-1-01440.dat.h5']} \n",
      "\n"
     ]
    }
   ],
   "source": [
    "# Import the ``ansys.dpf.core`` module\n",
    "from ansys.dpf import core as dpf\n",
    "# Import the examples module\n",
    "from ansys.dpf.core import examples\n",
    "# Import the operators module\n",
    "from ansys.dpf.core import operators as ops\n",
    "\n",
    "# Define the project .flprj result file path\n",
    "result_file_path_31 = examples.download_fluent_axial_comp()[\"flprj\"]\n",
    "\n",
    "# Define the CFF .cas.h5/.dat.h5 result files paths\n",
    "result_file_path_32 = examples.download_fluent_axial_comp()\n",
    "\n",
    "# Print the result files paths\n",
    "print(\"Result file path 31:\", \"\\n\",result_file_path_31, \"\\n\")\n",
    "print(\"Result files paths 32:\", \"\\n\",result_file_path_32, \"\\n\")"
   ]
  },
  {
   "cell_type": "code",
   "execution_count": 4,
   "id": "70ef15d4",
   "metadata": {
    "execution": {
     "iopub.execute_input": "2025-08-08T08:01:00.611391Z",
     "iopub.status.busy": "2025-08-08T08:01:00.609933Z",
     "iopub.status.idle": "2025-08-08T08:01:00.617741Z",
     "shell.execute_reply": "2025-08-08T08:01:00.616733Z"
    }
   },
   "outputs": [
    {
     "name": "stdout",
     "output_type": "stream",
     "text": [
      "Result file path 41: \n",
      " D:\\ANSYSDev\\Sandbox\\pydpf-core\\.tox\\doc-html\\Lib\\site-packages\\ansys\\dpf\\core\\examples\\result_files\\cfx-mixing_elbow\\InjectMixer.res \n",
      "\n",
      "Result files paths 42: \n",
      " {'cas': 'D:\\\\ANSYSDev\\\\Sandbox\\\\pydpf-core\\\\.tox\\\\doc-html\\\\Lib\\\\site-packages\\\\ansys\\\\dpf\\\\core\\\\examples\\\\result_files\\\\cfx-heating_coil\\\\def.cas.cff', 'dat': 'D:\\\\ANSYSDev\\\\Sandbox\\\\pydpf-core\\\\.tox\\\\doc-html\\\\Lib\\\\site-packages\\\\ansys\\\\dpf\\\\core\\\\examples\\\\result_files\\\\cfx-heating_coil\\\\def.dat.cff'} \n",
      "\n"
     ]
    }
   ],
   "source": [
    "# Import the ``ansys.dpf.core`` module\n",
    "from ansys.dpf import core as dpf\n",
    "# Import the examples module\n",
    "from ansys.dpf.core import examples\n",
    "# Import the operators module\n",
    "from ansys.dpf.core import operators as ops\n",
    "\n",
    "# Define the project .res result file path\n",
    "result_file_path_41 = examples.download_cfx_mixing_elbow()\n",
    "\n",
    "# Define the CFF .cas.cff/.dat.cff result files paths\n",
    "result_file_path_42 = examples.download_cfx_heating_coil()\n",
    "\n",
    "# Print the result files paths\n",
    "print(\"Result file path 41:\", \"\\n\",result_file_path_41, \"\\n\")\n",
    "print(\"Result files paths 42:\", \"\\n\",result_file_path_42, \"\\n\")"
   ]
  },
  {
   "cell_type": "code",
   "execution_count": 5,
   "id": "f9254bc7",
   "metadata": {
    "execution": {
     "iopub.execute_input": "2025-08-08T08:01:00.621408Z",
     "iopub.status.busy": "2025-08-08T08:01:00.621408Z",
     "iopub.status.idle": "2025-08-08T08:01:00.625834Z",
     "shell.execute_reply": "2025-08-08T08:01:00.624825Z"
    }
   },
   "outputs": [],
   "source": [
    "# Create the DataSources object\n",
    "# Use the ``result_path`` argument and give the result file path\n",
    "ds_11 = dpf.DataSources(result_path=result_file_path_11)"
   ]
  },
  {
   "cell_type": "code",
   "execution_count": 6,
   "id": "c263303d",
   "metadata": {
    "execution": {
     "iopub.execute_input": "2025-08-08T08:01:00.628495Z",
     "iopub.status.busy": "2025-08-08T08:01:00.628495Z",
     "iopub.status.idle": "2025-08-08T08:01:00.633053Z",
     "shell.execute_reply": "2025-08-08T08:01:00.633053Z"
    }
   },
   "outputs": [],
   "source": [
    "# Create the main DataSources object\n",
    "ds_12 = dpf.DataSources()\n",
    "# Define the main result file path\n",
    "ds_12.set_result_file_path(filepath=result_file_path_12[\"rfrq\"], key='rfrq')\n",
    "\n",
    "# Create the upstream DataSources object with the main upstream file path\n",
    "upstream_ds_12 = dpf.DataSources(result_path=result_file_path_12[\"mode\"])\n",
    "# Add the additional upstream file path to the upstream DataSources object\n",
    "upstream_ds_12.add_file_path(filepath=result_file_path_12[\"rst\"])\n",
    "\n",
    "# Add the upstream DataSources to the main DataSources object\n",
    "ds_12.add_upstream(upstream_data_sources=upstream_ds_12)"
   ]
  },
  {
   "cell_type": "code",
   "execution_count": 7,
   "id": "61f1c299",
   "metadata": {
    "execution": {
     "iopub.execute_input": "2025-08-08T08:01:00.637597Z",
     "iopub.status.busy": "2025-08-08T08:01:00.636491Z",
     "iopub.status.idle": "2025-08-08T08:01:00.641628Z",
     "shell.execute_reply": "2025-08-08T08:01:00.641119Z"
    }
   },
   "outputs": [],
   "source": [
    "# Create the DataSources object\n",
    "ds_21 = dpf.DataSources()\n",
    "\n",
    "# Define the main result file path\n",
    "ds_21.set_result_file_path(filepath=result_file_path_21[0], key=\"d3plot\")\n",
    "\n",
    "# Add the additional file path related to the units\n",
    "ds_21.add_file_path(filepath=result_file_path_21[3], key=\"actunits\")"
   ]
  },
  {
   "cell_type": "code",
   "execution_count": 8,
   "id": "2ccf6352",
   "metadata": {
    "execution": {
     "iopub.execute_input": "2025-08-08T08:01:00.644727Z",
     "iopub.status.busy": "2025-08-08T08:01:00.643727Z",
     "iopub.status.idle": "2025-08-08T08:01:00.649785Z",
     "shell.execute_reply": "2025-08-08T08:01:00.648777Z"
    }
   },
   "outputs": [],
   "source": [
    "# Create the DataSources object\n",
    "ds_22 = dpf.DataSources()\n",
    "\n",
    "# Define the path to the result file\n",
    "# Use the ``key`` argument and give the file extension key\n",
    "ds_22.set_result_file_path(filepath=result_file_path_22, key=\"binout\")"
   ]
  },
  {
   "cell_type": "code",
   "execution_count": 9,
   "id": "47aba646",
   "metadata": {
    "execution": {
     "iopub.execute_input": "2025-08-08T08:01:00.652896Z",
     "iopub.status.busy": "2025-08-08T08:01:00.651781Z",
     "iopub.status.idle": "2025-08-08T08:01:00.656595Z",
     "shell.execute_reply": "2025-08-08T08:01:00.656086Z"
    }
   },
   "outputs": [],
   "source": [
    "# Create the DataSources object\n",
    "# Use the ``result_path`` argument and give the result file path\n",
    "ds_31 = dpf.DataSources(result_path=result_file_path_31)"
   ]
  },
  {
   "cell_type": "code",
   "execution_count": 10,
   "id": "c04eebce",
   "metadata": {
    "execution": {
     "iopub.execute_input": "2025-08-08T08:01:00.659736Z",
     "iopub.status.busy": "2025-08-08T08:01:00.658727Z",
     "iopub.status.idle": "2025-08-08T08:01:00.663736Z",
     "shell.execute_reply": "2025-08-08T08:01:00.663736Z"
    }
   },
   "outputs": [],
   "source": [
    "# Create the DataSources object\n",
    "ds_32 = dpf.DataSources()\n",
    "\n",
    "# Define the path to the main result file\n",
    "# Use the ``key`` argument and give the first extension key\n",
    "ds_32.set_result_file_path(filepath=result_file_path_32['cas'][0], key=\"cas\")\n",
    "\n",
    "# Add the additional result file path to the DataSources\n",
    "# Use the ``key`` argument and give the first extension key\n",
    "ds_32.add_file_path(filepath=result_file_path_32['dat'][0], key=\"dat\")"
   ]
  },
  {
   "cell_type": "code",
   "execution_count": 11,
   "id": "f2bd5d8c",
   "metadata": {
    "execution": {
     "iopub.execute_input": "2025-08-08T08:01:00.666857Z",
     "iopub.status.busy": "2025-08-08T08:01:00.666857Z",
     "iopub.status.idle": "2025-08-08T08:01:00.671529Z",
     "shell.execute_reply": "2025-08-08T08:01:00.671019Z"
    }
   },
   "outputs": [],
   "source": [
    "# Create the DataSources object\n",
    "# Use the ``result_path`` argument and give the result file path\n",
    "ds_41 = dpf.DataSources(result_path=result_file_path_41)"
   ]
  },
  {
   "cell_type": "code",
   "execution_count": 12,
   "id": "5ad716cc",
   "metadata": {
    "execution": {
     "iopub.execute_input": "2025-08-08T08:01:00.673535Z",
     "iopub.status.busy": "2025-08-08T08:01:00.673535Z",
     "iopub.status.idle": "2025-08-08T08:01:00.677573Z",
     "shell.execute_reply": "2025-08-08T08:01:00.677573Z"
    }
   },
   "outputs": [],
   "source": [
    "# Create the DataSources object\n",
    "ds_42 = dpf.DataSources()\n",
    "\n",
    "# Define the path to the main result file\n",
    "# Use the ``key`` argument and give the first extension key\n",
    "ds_42.set_result_file_path(filepath=result_file_path_42[\"cas\"], key=\"cas\")\n",
    "\n",
    "# Add the additional result file path to the DataSources\n",
    "# Use the ``key`` argument and give the first extension key\n",
    "ds_42.add_file_path(filepath=result_file_path_42[\"dat\"], key=\"dat\")"
   ]
  },
  {
   "cell_type": "code",
   "execution_count": 13,
   "id": "ab56f1aa",
   "metadata": {
    "execution": {
     "iopub.execute_input": "2025-08-08T08:01:00.680103Z",
     "iopub.status.busy": "2025-08-08T08:01:00.680103Z",
     "iopub.status.idle": "2025-08-08T08:01:00.684726Z",
     "shell.execute_reply": "2025-08-08T08:01:00.684219Z"
    }
   },
   "outputs": [],
   "source": [
    "# Create the model with the result file path\n",
    "model_11 = dpf.Model(data_sources=result_file_path_11)\n",
    "\n",
    "# Create the model with the DataSources object\n",
    "model_12 = dpf.Model(data_sources=ds_11)"
   ]
  },
  {
   "cell_type": "code",
   "execution_count": 14,
   "id": "b2a25098",
   "metadata": {
    "execution": {
     "iopub.execute_input": "2025-08-08T08:01:00.687850Z",
     "iopub.status.busy": "2025-08-08T08:01:00.687850Z",
     "iopub.status.idle": "2025-08-08T08:01:00.693127Z",
     "shell.execute_reply": "2025-08-08T08:01:00.692112Z"
    }
   },
   "outputs": [],
   "source": [
    "# Create the model with the DataSources object\n",
    "model_13 = dpf.Model(data_sources=ds_12)"
   ]
  },
  {
   "cell_type": "code",
   "execution_count": 15,
   "id": "f9ec3785",
   "metadata": {
    "execution": {
     "iopub.execute_input": "2025-08-08T08:01:00.696647Z",
     "iopub.status.busy": "2025-08-08T08:01:00.696647Z",
     "iopub.status.idle": "2025-08-08T08:01:00.701212Z",
     "shell.execute_reply": "2025-08-08T08:01:00.700700Z"
    }
   },
   "outputs": [],
   "source": [
    "# Create the model with the DataSources object\n",
    "model_21 = dpf.Model(data_sources=ds_21)"
   ]
  },
  {
   "cell_type": "code",
   "execution_count": 16,
   "id": "5c42a169",
   "metadata": {
    "execution": {
     "iopub.execute_input": "2025-08-08T08:01:00.704225Z",
     "iopub.status.busy": "2025-08-08T08:01:00.703222Z",
     "iopub.status.idle": "2025-08-08T08:01:00.708731Z",
     "shell.execute_reply": "2025-08-08T08:01:00.707221Z"
    }
   },
   "outputs": [],
   "source": [
    "# Create the model with the DataSources object\n",
    "model_22 = dpf.Model(data_sources=ds_22)"
   ]
  },
  {
   "cell_type": "code",
   "execution_count": 17,
   "id": "d2195826",
   "metadata": {
    "execution": {
     "iopub.execute_input": "2025-08-08T08:01:00.712474Z",
     "iopub.status.busy": "2025-08-08T08:01:00.711365Z",
     "iopub.status.idle": "2025-08-08T08:01:00.715721Z",
     "shell.execute_reply": "2025-08-08T08:01:00.715721Z"
    }
   },
   "outputs": [],
   "source": [
    "# Create the model with the result file path\n",
    "model_31 = dpf.Model(data_sources=result_file_path_31)\n",
    "\n",
    "# Create the model with the DataSources object\n",
    "model_32 = dpf.Model(data_sources=ds_31)"
   ]
  },
  {
   "cell_type": "code",
   "execution_count": 18,
   "id": "47d8716d",
   "metadata": {
    "execution": {
     "iopub.execute_input": "2025-08-08T08:01:00.719372Z",
     "iopub.status.busy": "2025-08-08T08:01:00.718868Z",
     "iopub.status.idle": "2025-08-08T08:01:00.722601Z",
     "shell.execute_reply": "2025-08-08T08:01:00.722601Z"
    }
   },
   "outputs": [],
   "source": [
    "# Create the model with the DataSources object\n",
    "model_33 = dpf.Model(data_sources=ds_32)"
   ]
  },
  {
   "cell_type": "code",
   "execution_count": 19,
   "id": "21b8902d",
   "metadata": {
    "execution": {
     "iopub.execute_input": "2025-08-08T08:01:00.726130Z",
     "iopub.status.busy": "2025-08-08T08:01:00.726130Z",
     "iopub.status.idle": "2025-08-08T08:01:00.732088Z",
     "shell.execute_reply": "2025-08-08T08:01:00.730537Z"
    }
   },
   "outputs": [],
   "source": [
    "# Create the model with the result file path\n",
    "model_41 = dpf.Model(data_sources=result_file_path_41)\n",
    "\n",
    "# Create the model with the DataSources object\n",
    "model_42 = dpf.Model(data_sources=ds_41)"
   ]
  },
  {
   "cell_type": "code",
   "execution_count": 20,
   "id": "427570dc",
   "metadata": {
    "execution": {
     "iopub.execute_input": "2025-08-08T08:01:00.735228Z",
     "iopub.status.busy": "2025-08-08T08:01:00.734230Z",
     "iopub.status.idle": "2025-08-08T08:01:00.739864Z",
     "shell.execute_reply": "2025-08-08T08:01:00.739353Z"
    }
   },
   "outputs": [],
   "source": [
    "# Create the model with the DataSources object\n",
    "model_43 = dpf.Model(data_sources=ds_42)"
   ]
  }
 ],
 "metadata": {
  "kernelspec": {
   "display_name": "Python 3 (ipykernel)",
   "language": "python",
   "name": "python3"
  },
  "language_info": {
   "codemirror_mode": {
    "name": "ipython",
    "version": 3
   },
   "file_extension": ".py",
   "mimetype": "text/x-python",
   "name": "python",
   "nbconvert_exporter": "python",
   "pygments_lexer": "ipython3",
   "version": "3.12.3"
  }
 },
 "nbformat": 4,
 "nbformat_minor": 5
}