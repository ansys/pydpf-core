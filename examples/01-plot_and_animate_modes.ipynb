{
  "cells": [
    {
      "cell_type": "markdown",
      "metadata": {},
      "source": [
        "# Plot and animate mode shapes with DPF {#ref_plot_and_animate_modes}\r\n\r\nThis example shows how to extract mode shapes from a modal analysis\r\nresult and how to plot and animate them.\r\n"
      ]
    },
    {
      "cell_type": "code",
      "execution_count": null,
      "metadata": {
        "collapsed": false
      },
      "outputs": [],
      "source": [
        "from ansys.dpf import core as dpf\nfrom ansys.dpf.core import animation\nfrom ansys.dpf.core import examples"
      ]
    },
    {
      "cell_type": "markdown",
      "metadata": {},
      "source": [
        "# Retrieve mode shapes\r\n"
      ]
    },
    {
      "cell_type": "code",
      "execution_count": null,
      "metadata": {
        "collapsed": false
      },
      "outputs": [],
      "source": [
        "# Load the result file as a model\nmodel = dpf.Model(examples.download_modal_frame())\nprint(model)\n\n# Extract the displacement results which define mode shapes\ndisp = model.results.displacement.on_all_time_freqs.eval()"
      ]
    },
    {
      "cell_type": "markdown",
      "metadata": {},
      "source": [
        "# Plot mode shapes\r\n"
      ]
    },
    {
      "cell_type": "code",
      "execution_count": null,
      "metadata": {
        "collapsed": false
      },
      "outputs": [],
      "source": [
        "# Get the frequency scoping (available frequency IDs for disp)\nfreq_scoping = disp.get_time_scoping()\n# Get the frequency support (all available frequencies in the model)\nfreq_support = disp.time_freq_support\n# Get the unit from the time_freq_support\nunit = freq_support.time_frequencies.unit\n\n# For each ID in the scoping\nfor freq_set in freq_scoping:\n    # Get the associated frequency in the time_freq_support\n    freq = freq_support.get_frequency(cumulative_index=freq_set - 1)\n    # Get the associated mode shape as a displacement field\n    disp_mode = disp.get_field_by_time_complex_ids(freq_set, 0)\n    # Extract the mode frequency and unit\n    text = f\"{freq:.3f}{unit}\"\n    # Plot the mode displacement field on the deformed mesh\n    disp_mode.plot(deform_by=disp_mode, scale_factor=2.0, text=text)"
      ]
    },
    {
      "cell_type": "markdown",
      "metadata": {},
      "source": [
        "Animate a mode shape To suppress window pop-up, set the\r\n[off_screen]{.title-ref} argument to True.\r\n\\~\\~\\~\\~\\~\\~\\~\\~\\~\\~\\~\\~\\~\\~\\~\\~\\~\\~\\~\\~\r\n"
      ]
    },
    {
      "cell_type": "code",
      "execution_count": null,
      "metadata": {
        "collapsed": false
      },
      "outputs": [],
      "source": [
        "animation.animate_mode(disp, mode_number=1, save_as=\"tmp.gif\", off_screen=True)"
      ]
    }
  ],
  "metadata": {
    "kernelspec": {
      "display_name": "Python 3",
      "language": "python",
      "name": "python3"
    },
    "language_info": {
      "codemirror_mode": {
        "name": "ipython",
        "version": 3
      },
      "file_extension": ".py",
      "mimetype": "text/x-python",
      "name": "python",
      "nbconvert_exporter": "python",
      "pygments_lexer": "ipython3",
      "version": "3.10.11"
    }
  },
  "nbformat": 4,
  "nbformat_minor": 0
}