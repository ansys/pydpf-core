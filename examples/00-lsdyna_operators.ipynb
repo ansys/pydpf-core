{
  "cells": [
    {
      "cell_type": "markdown",
      "metadata": {},
      "source": [
        "\n\n# Results extraction and analysis from LS-DYNA sources\n\nThis example provides an overview of the LS-DYNA results providers.\n\n<div class=\"alert alert-info\"><h4>Note</h4><p>This example requires DPF 6.1 (ansys-dpf-server-2023-2-pre0) or above.\n    For more information, see `ref_compatibility`.</p></div>\n"
      ]
    },
    {
      "cell_type": "code",
      "execution_count": null,
      "metadata": {
        "collapsed": false
      },
      "outputs": [],
      "source": [
        "import matplotlib.pyplot as plt\n\nfrom ansys.dpf import core as dpf\nfrom ansys.dpf.core import examples"
      ]
    },
    {
      "cell_type": "markdown",
      "metadata": {},
      "source": [
        "# d3plot file results extraction\nCreate the model and print its contents. This LS-DYNA d3plot file contains\nseveral individual results, each at different times. The d3plot file does not\ncontain information related to Units. In this case, as the simulation was run\nthrough Mechanical, a file.actunits file is produced. If this file is\nsupplemented in the data_sources, the units will be correctly fetched for all\nresults in the file as well as for the mesh.\n\n"
      ]
    },
    {
      "cell_type": "code",
      "execution_count": null,
      "metadata": {
        "collapsed": false
      },
      "outputs": [],
      "source": [
        "d3plot = examples.download_d3plot_beam()\nds = dpf.DataSources()\nds.set_result_file_path(d3plot[0], \"d3plot\")\nds.add_file_path(d3plot[3], \"actunits\")\nmodel = dpf.Model(ds)\nprint(model)"
      ]
    },
    {
      "cell_type": "markdown",
      "metadata": {},
      "source": [
        "The model has solid (3D) elements and beam (1D) elements. Some of the results\nonly apply to one type of elements (such as the stress tensor for solids, or\nthe axial force for beams, for example).\n\nLet's extract beam axial force for the last time step and plot it, deforming\nthe mesh according to the displacement field at the same time step.\n\n"
      ]
    },
    {
      "cell_type": "code",
      "execution_count": null,
      "metadata": {
        "collapsed": false
      },
      "outputs": [],
      "source": [
        "N = model.results.beam_axial_force(time_scoping=[12]).eval()\nu = model.results.displacement(time_scoping=[12]).eval()\n\nsargs = dict(title=\"N\", fmt=\"%.2e\", title_font_size=30, label_font_size=20)\nN[0].plot(deform_by=u[0], scalar_bar_args=sargs)"
      ]
    },
    {
      "cell_type": "markdown",
      "metadata": {},
      "source": [
        "The axial force has only been computed for the beam elements (the bottom\nframe), whereas the top sphere, which is comprised by solid elements, has\nonly been deformed by the displacement field.\n\nPyDPF also allows you to animate the results in a FieldsContainer. Thus, if\nall time steps are extracted, an animation can be produced.\n\n"
      ]
    },
    {
      "cell_type": "code",
      "execution_count": null,
      "metadata": {
        "collapsed": false
      },
      "outputs": [],
      "source": [
        "N_all = model.results.beam_axial_force.on_all_time_freqs.eval()\nu_all = model.results.displacement.on_all_time_freqs.eval()\nN_all.animate(deform_by=u_all, save_as=\"falling_ball.gif\", scalar_bar_args=sargs)"
      ]
    },
    {
      "cell_type": "markdown",
      "metadata": {},
      "source": [
        "Some of the results are marked as global. They are not scoped over any mesh\nentity, but are global variables of the model.\n\n"
      ]
    },
    {
      "cell_type": "code",
      "execution_count": null,
      "metadata": {
        "collapsed": false
      },
      "outputs": [],
      "source": [
        "K = model.results.global_kinetic_energy().eval()\nprint(K)"
      ]
    },
    {
      "cell_type": "markdown",
      "metadata": {},
      "source": [
        "Energy plots over time (the sphere was released with some initial velocity).\n\n"
      ]
    },
    {
      "cell_type": "code",
      "execution_count": null,
      "metadata": {
        "collapsed": false
      },
      "outputs": [],
      "source": [
        "U = model.results.global_internal_energy().eval()\nH = model.results.global_total_energy().eval()\n\nplt.plot(K.time_freq_support.time_frequencies.data, K[0].data, label=\"Kinetic\")\nplt.plot(U.time_freq_support.time_frequencies.data, U[0].data, label=\"Internal\")\nplt.plot(H.time_freq_support.time_frequencies.data, H[0].data, label=\"Total\")\nplt.xlabel(\"Time ({:s})\".format(K.time_freq_support.time_frequencies.unit))\nplt.ylabel(\"Energies ({:s})\".format(K[0].unit))\nplt.legend()\nplt.show()"
      ]
    },
    {
      "cell_type": "markdown",
      "metadata": {},
      "source": [
        "# binout file results extraction\nCreate the model and dprint its contents. This LS-DYNA binout file contains\nseveral branches (glstat, matsum and rcforc).\n\n"
      ]
    },
    {
      "cell_type": "code",
      "execution_count": null,
      "metadata": {
        "collapsed": false
      },
      "outputs": [],
      "source": [
        "binout = examples.download_binout_matsum()\nds = dpf.DataSources()\nds.set_result_file_path(binout, \"binout\")\nmodel = dpf.Model(ds)\nprint(model)"
      ]
    },
    {
      "cell_type": "markdown",
      "metadata": {},
      "source": [
        "In this case, the Unit System is not attached to the data_source, but it can\nbe directly assigned to the results. As we are employing the dpf.Model API, we\nonly need to assign the Unit System once (the Model will assign it for the\nrest of the results).\n\nResults from the matsum branch of the binout file are a FieldsContainer on a\nLabelSpace comprised by part IDs. Extract part kinetic energy for all parts:\n\n"
      ]
    },
    {
      "cell_type": "code",
      "execution_count": null,
      "metadata": {
        "collapsed": false
      },
      "outputs": [],
      "source": [
        "PKE_op = model.results.part_kinetic_energy()\nPKE_op.inputs.unit_system.connect(dpf.unit_systems.solver_mks)\nPKE = PKE_op.eval()\nprint(PKE)"
      ]
    },
    {
      "cell_type": "markdown",
      "metadata": {},
      "source": [
        "Extract part internal energy for only a selected number of parts.\n\n"
      ]
    },
    {
      "cell_type": "code",
      "execution_count": null,
      "metadata": {
        "collapsed": false
      },
      "outputs": [],
      "source": [
        "part_sco = dpf.Scoping(ids=[50, 1522], location=\"part\")\nPIE_op = model.results.part_internal_energy()\nPIE_op.inputs.entity_scoping.connect(part_sco)\nPIE = PIE_op.eval()"
      ]
    },
    {
      "cell_type": "markdown",
      "metadata": {},
      "source": [
        "Plot part kinetic and internal energy for a selection of parts. In this case,\nthe TimeFreqSupport of the matsum branch does not have all the time steps in\nthe binout file. Thus, a rescoping operation is needed:\n\n"
      ]
    },
    {
      "cell_type": "code",
      "execution_count": null,
      "metadata": {
        "collapsed": false
      },
      "outputs": [],
      "source": [
        "rescope_op = dpf.operators.scoping.rescope()\nrescope_op.inputs.fields.connect(PKE.time_freq_support.time_frequencies)\nrescope_op.inputs.mesh_scoping.connect(PKE[0].scoping)\nt_field = rescope_op.outputs.fields_as_field()\nt_vals = t_field.data\n\nplt.plot(t_vals, PKE.get_field({\"part\": 50}).data, label=\"Kinetic, Part 50\")\nplt.plot(t_vals, PKE.get_field({\"part\": 1522}).data, label=\"Kinetic, Part 1522\")\nplt.plot(t_vals, PIE.get_field({\"part\": 50}).data, label=\"Internal, Part 50\")\nplt.plot(t_vals, PIE.get_field({\"part\": 1522}).data, label=\"Internal, Part 1522\")\nplt.xlabel(\"Time ({:s})\".format(t_field.unit))\nplt.ylabel(\"Energy ({:s})\".format(PIE.get_field({\"part\": 50}).unit))\nplt.legend()\nplt.show()"
      ]
    },
    {
      "cell_type": "markdown",
      "metadata": {},
      "source": [
        "Similarly, results from the rcforc branch of the binout file are a\nFieldsContainer on a LabelSpace comprised by interface IDs. Extract interface\ncontact force for only one interface.\n\n"
      ]
    },
    {
      "cell_type": "code",
      "execution_count": null,
      "metadata": {
        "collapsed": false
      },
      "outputs": [],
      "source": [
        "interface_sco = dpf.Scoping(ids=[19], location=\"interface\")\nFC_op = model.results.interface_contact_force()\nFC_op.inputs.entity_scoping.connect(interface_sco)\nFC = FC_op.eval()\nprint(FC)"
      ]
    },
    {
      "cell_type": "markdown",
      "metadata": {},
      "source": [
        "In addition to interface, the FieldsContainer is scoped on idtype (0 for the\nmaster side of the interface, 1 for the slave). Contact force is a vector, and\nthe three components are available.\n\n"
      ]
    },
    {
      "cell_type": "code",
      "execution_count": null,
      "metadata": {
        "collapsed": false
      },
      "outputs": [],
      "source": [
        "rescope_op = dpf.operators.scoping.rescope()\nrescope_op.inputs.fields.connect(FC.time_freq_support.time_frequencies)\nrescope_op.inputs.mesh_scoping.connect(FC[0].scoping)\nt_field = rescope_op.outputs.fields_as_field()\nt_vals = t_field.data\n\nFX = FC.select_component(0)\nFY = FC.select_component(1)\nFZ = FC.select_component(2)\n\nplt.plot(t_vals, FX.get_field({\"interface\": 19, \"idtype\": 0}).data, label=\"FX, master\")\nplt.plot(t_vals, FX.get_field({\"interface\": 19, \"idtype\": 1}).data, label=\"FX, slave\")\nplt.plot(t_vals, FY.get_field({\"interface\": 19, \"idtype\": 0}).data, label=\"FY, master\")\nplt.plot(t_vals, FY.get_field({\"interface\": 19, \"idtype\": 1}).data, label=\"FY, slave\")\nplt.plot(t_vals, FZ.get_field({\"interface\": 19, \"idtype\": 0}).data, label=\"FZ, master\")\nplt.plot(t_vals, FZ.get_field({\"interface\": 19, \"idtype\": 1}).data, label=\"FZ, slave\")\nplt.xlabel(\"Time ({:s})\".format(t_field.unit))\nplt.xlim([0, 10])\nplt.ylabel(\"Contact Force ({:s})\".format(FX.get_field({\"interface\": 19, \"idtype\": 0}).unit))\nplt.legend()\nplt.show()"
      ]
    }
  ],
  "metadata": {
    "kernelspec": {
      "display_name": "Python 3",
      "language": "python",
      "name": "python3"
    },
    "language_info": {
      "codemirror_mode": {
        "name": "ipython",
        "version": 3
      },
      "file_extension": ".py",
      "mimetype": "text/x-python",
      "name": "python",
      "nbconvert_exporter": "python",
      "pygments_lexer": "ipython3",
      "version": "3.12.3"
    }
  },
  "nbformat": 4,
  "nbformat_minor": 0
}