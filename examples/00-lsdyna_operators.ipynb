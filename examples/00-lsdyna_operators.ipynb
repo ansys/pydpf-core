{
  "cells": [
    {
      "cell_type": "markdown",
      "metadata": {},
      "source": [
        "# Results extraction and analysis from LS-DYNA sources {#lsdyna_operators}\r\n\r\nThis example provides an overview of the LS-DYNA results providers.\r\n\r\n:::: note\r\n::: title\r\nNote\r\n:::\r\n\r\nThis example requires DPF 6.1 (ansys-dpf-server-2023-2-pre0) or above.\r\nFor more information, see `ref_compatibility`{.interpreted-text\r\nrole=\"ref\"}.\r\n::::\r\n"
      ]
    },
    {
      "cell_type": "code",
      "execution_count": null,
      "metadata": {
        "collapsed": false
      },
      "outputs": [],
      "source": [
        "import matplotlib.pyplot as plt\nfrom ansys.dpf import core as dpf\nfrom ansys.dpf.core import examples"
      ]
    },
    {
      "cell_type": "markdown",
      "metadata": {},
      "source": [
        "# d3plot file results extraction\r\n\r\nCreate the model and print its contents. This LS-DYNA d3plot file\r\ncontains several individual results, each at different times. The d3plot\r\nfile does not contain information related to Units. In this case, as the\r\nsimulation was run through Mechanical, a file.actunits file is produced.\r\nIf this file is supplemented in the data_sources, the units will be\r\ncorrectly fetched for all results in the file as well as for the mesh.\r\n"
      ]
    },
    {
      "cell_type": "code",
      "execution_count": null,
      "metadata": {
        "collapsed": false
      },
      "outputs": [],
      "source": [
        "d3plot = examples.download_d3plot_beam()\nds = dpf.DataSources()\nds.set_result_file_path(d3plot[0], \"d3plot\")\nds.add_file_path(d3plot[3], \"actunits\")\nmodel = dpf.Model(ds)\nprint(model)"
      ]
    },
    {
      "cell_type": "markdown",
      "metadata": {},
      "source": [
        "The model has solid (3D) elements and beam (1D) elements. Some of the\r\nresults only apply to one type of elements (such as the stress tensor\r\nfor solids, or the axial force for beams, for example).\r\n\r\nLet\\'s extract beam axial force for the last time step and plot it,\r\ndeforming the mesh according to the displacement field at the same time\r\nstep.\r\n"
      ]
    },
    {
      "cell_type": "code",
      "execution_count": null,
      "metadata": {
        "collapsed": false
      },
      "outputs": [],
      "source": [
        "N = model.results.beam_axial_force(time_scoping=[12]).eval()\nu = model.results.displacement(time_scoping=[12]).eval()\n\nsargs = dict(title=\"N\", fmt=\"%.2e\", title_font_size=30, label_font_size=20)\nN[0].plot(deform_by=u[0], scalar_bar_args=sargs)"
      ]
    },
    {
      "cell_type": "markdown",
      "metadata": {},
      "source": [
        "The axial force has only been computed for the beam elements (the bottom\r\nframe), whereas the top sphere, which is comprised by solid elements,\r\nhas only been deformed by the displacement field.\r\n\r\nPyDPF also allows you to animate the results in a FieldsContainer. Thus,\r\nif all time steps are extracted, an animation can be produced.\r\n"
      ]
    },
    {
      "cell_type": "code",
      "execution_count": null,
      "metadata": {
        "collapsed": false
      },
      "outputs": [],
      "source": [
        "N_all = model.results.beam_axial_force.on_all_time_freqs.eval()\nu_all = model.results.displacement.on_all_time_freqs.eval()\nN_all.animate(deform_by=u_all, save_as=\"falling_ball.gif\", scalar_bar_args=sargs)"
      ]
    },
    {
      "cell_type": "markdown",
      "metadata": {},
      "source": [
        "Some of the results are marked as global. They are not scoped over any\r\nmesh entity, but are global variables of the model.\r\n"
      ]
    },
    {
      "cell_type": "code",
      "execution_count": null,
      "metadata": {
        "collapsed": false
      },
      "outputs": [],
      "source": [
        "K = model.results.global_kinetic_energy().eval()\nprint(K)"
      ]
    },
    {
      "cell_type": "markdown",
      "metadata": {},
      "source": [
        "Energy plots over time (the sphere was released with some initial\r\nvelocity).\r\n"
      ]
    },
    {
      "cell_type": "code",
      "execution_count": null,
      "metadata": {
        "collapsed": false
      },
      "outputs": [],
      "source": [
        "U = model.results.global_internal_energy().eval()\nH = model.results.global_total_energy().eval()\n\nplt.plot(K.time_freq_support.time_frequencies.data, K[0].data, label=\"Kinetic\")\nplt.plot(U.time_freq_support.time_frequencies.data, U[0].data, label=\"Internal\")\nplt.plot(H.time_freq_support.time_frequencies.data, H[0].data, label=\"Total\")\nplt.xlabel(\"Time ({:s})\".format(K.time_freq_support.time_frequencies.unit))\nplt.ylabel(\"Energies ({:s})\".format(K[0].unit))\nplt.legend()\nplt.show()"
      ]
    },
    {
      "cell_type": "markdown",
      "metadata": {},
      "source": [
        "# binout file results extraction\r\n\r\nCreate the model and dprint its contents. This LS-DYNA binout file\r\ncontains several branches (glstat, matsum and rcforc).\r\n"
      ]
    },
    {
      "cell_type": "code",
      "execution_count": null,
      "metadata": {
        "collapsed": false
      },
      "outputs": [],
      "source": [
        "binout = examples.download_binout_matsum()\nds = dpf.DataSources()\nds.set_result_file_path(binout, \"binout\")\nmodel = dpf.Model(ds)\nprint(model)"
      ]
    },
    {
      "cell_type": "markdown",
      "metadata": {},
      "source": [
        "In this case, the Unit System is not attached to the data_source, but it\r\ncan be directly assigned to the results. As we are employing the\r\ndpf.Model API, we only need to assign the Unit System once (the Model\r\nwill assign it for the rest of the results).\r\n\r\nResults from the matsum branch of the binout file are a FieldsContainer\r\non a LabelSpace comprised by part IDs. Extract part kinetic energy for\r\nall parts:\r\n"
      ]
    },
    {
      "cell_type": "code",
      "execution_count": null,
      "metadata": {
        "collapsed": false
      },
      "outputs": [],
      "source": [
        "PKE_op = model.results.part_kinetic_energy()\nPKE_op.inputs.unit_system.connect(dpf.unit_systems.solver_mks)\nPKE = PKE_op.eval()\nprint(PKE)"
      ]
    },
    {
      "cell_type": "markdown",
      "metadata": {},
      "source": [
        "Extract part internal energy for only a selected number of parts.\r\n"
      ]
    },
    {
      "cell_type": "code",
      "execution_count": null,
      "metadata": {
        "collapsed": false
      },
      "outputs": [],
      "source": [
        "part_sco = dpf.Scoping(ids=[50, 1522], location=\"part\")\nPIE_op = model.results.part_internal_energy()\nPIE_op.inputs.entity_scoping.connect(part_sco)\nPIE = PIE_op.eval()"
      ]
    },
    {
      "cell_type": "markdown",
      "metadata": {},
      "source": [
        "Plot part kinetic and internal energy for a selection of parts. In this\r\ncase, the TimeFreqSupport of the matsum branch does not have all the\r\ntime steps in the binout file. Thus, a rescoping operation is needed:\r\n"
      ]
    },
    {
      "cell_type": "code",
      "execution_count": null,
      "metadata": {
        "collapsed": false
      },
      "outputs": [],
      "source": [
        "rescope_op = dpf.operators.scoping.rescope()\nrescope_op.inputs.fields.connect(PKE.time_freq_support.time_frequencies)\nrescope_op.inputs.mesh_scoping.connect(PKE[0].scoping)\nt_field = rescope_op.outputs.fields_as_field()\nt_vals = t_field.data\n\nplt.plot(t_vals, PKE.get_field({\"part\": 50}).data, label=\"Kinetic, Part 50\")\nplt.plot(t_vals, PKE.get_field({\"part\": 1522}).data, label=\"Kinetic, Part 1522\")\nplt.plot(t_vals, PIE.get_field({\"part\": 50}).data, label=\"Internal, Part 50\")\nplt.plot(t_vals, PIE.get_field({\"part\": 1522}).data, label=\"Internal, Part 1522\")\nplt.xlabel(\"Time ({:s})\".format(t_field.unit))\nplt.ylabel(\"Energy ({:s})\".format(PIE.get_field({\"part\": 50}).unit))\nplt.legend()\nplt.show()"
      ]
    },
    {
      "cell_type": "markdown",
      "metadata": {},
      "source": [
        "Similarly, results from the rcforc branch of the binout file are a\r\nFieldsContainer on a LabelSpace comprised by interface IDs. Extract\r\ninterface contact force for only one interface.\r\n"
      ]
    },
    {
      "cell_type": "code",
      "execution_count": null,
      "metadata": {
        "collapsed": false
      },
      "outputs": [],
      "source": [
        "interface_sco = dpf.Scoping(ids=[19], location=\"interface\")\nFC_op = model.results.interface_contact_force()\nFC_op.inputs.entity_scoping.connect(interface_sco)\nFC = FC_op.eval()\nprint(FC)"
      ]
    },
    {
      "cell_type": "markdown",
      "metadata": {},
      "source": [
        "In addition to interface, the FieldsContainer is scoped on idtype (0 for\r\nthe master side of the interface, 1 for the slave). Contact force is a\r\nvector, and the three components are available.\r\n"
      ]
    },
    {
      "cell_type": "code",
      "execution_count": null,
      "metadata": {
        "collapsed": false
      },
      "outputs": [],
      "source": [
        "rescope_op = dpf.operators.scoping.rescope()\nrescope_op.inputs.fields.connect(FC.time_freq_support.time_frequencies)\nrescope_op.inputs.mesh_scoping.connect(FC[0].scoping)\nt_field = rescope_op.outputs.fields_as_field()\nt_vals = t_field.data\n\nFX = FC.select_component(0)\nFY = FC.select_component(1)\nFZ = FC.select_component(2)\n\nplt.plot(t_vals, FX.get_field({\"interface\": 19, \"idtype\": 0}).data, label=\"FX, slave\")\nplt.plot(t_vals, FX.get_field({\"interface\": 19, \"idtype\": 1}).data, label=\"FX, master\")\nplt.plot(t_vals, FY.get_field({\"interface\": 19, \"idtype\": 0}).data, label=\"FY, slave\")\nplt.plot(t_vals, FY.get_field({\"interface\": 19, \"idtype\": 1}).data, label=\"FY, master\")\nplt.plot(t_vals, FZ.get_field({\"interface\": 19, \"idtype\": 0}).data, label=\"FZ, slave\")\nplt.plot(t_vals, FZ.get_field({\"interface\": 19, \"idtype\": 1}).data, label=\"FZ, master\")\nplt.xlabel(\"Time ({:s})\".format(t_field.unit))\nplt.xlim([0, 10])\nplt.ylabel(\"Contact Force ({:s})\".format(FX.get_field({\"interface\": 19, \"idtype\": 0}).unit))\nplt.legend()\nplt.show()"
      ]
    }
  ],
  "metadata": {
    "kernelspec": {
      "display_name": "Python 3",
      "language": "python",
      "name": "python3"
    },
    "language_info": {
      "codemirror_mode": {
        "name": "ipython",
        "version": 3
      },
      "file_extension": ".py",
      "mimetype": "text/x-python",
      "name": "python",
      "nbconvert_exporter": "python",
      "pygments_lexer": "ipython3",
      "version": "3.10.11"
    }
  },
  "nbformat": 4,
  "nbformat_minor": 0
}