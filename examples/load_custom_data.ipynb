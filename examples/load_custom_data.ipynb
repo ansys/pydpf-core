{
 "cells": [
  {
   "cell_type": "code",
   "execution_count": 1,
   "id": "0bf9e4d2",
   "metadata": {
    "execution": {
     "iopub.execute_input": "2025-10-17T12:26:53.537786Z",
     "iopub.status.busy": "2025-10-17T12:26:53.537786Z",
     "iopub.status.idle": "2025-10-17T12:26:53.546169Z",
     "shell.execute_reply": "2025-10-17T12:26:53.546169Z"
    }
   },
   "outputs": [],
   "source": [
    "# Data for the scalar Fields (lists with 1 and 2 dimensions)\n",
    "data_1 = [6.0, 5.0, 4.0, 3.0, 2.0, 1.0]\n",
    "data_2 = [[12.0, 7.0, 8.0], [ 9.0, 31.0, 1.0]]\n",
    "\n",
    "# Data for the vector Fields (lists with 1 and 2 dimensions)\n",
    "data_3 = [4.0, 1.0, 8.0, 5.0, 7.0, 9.0]\n",
    "data_4 = [6.0, 5.0, 4.0, 3.0, 2.0, 1.0, 9.0, 7.0, 8.0, 10.0]\n",
    "data_5 = [[8.0, 4.0, 3.0], [31.0, 5.0, 7.0]]\n",
    "\n",
    "# Data for the matrix Fields\n",
    "data_6 = [3.0, 2.0, 1.0, 7.0]\n",
    "data_7 = [15.0, 3.0, 9.0, 31.0, 1.0, 42.0, 5.0, 68.0, 13.0]\n",
    "data_8 = [[12.0, 7.0, 8.0], [ 1.0, 4.0, 27.0], [98.0, 4.0, 6.0]]"
   ]
  },
  {
   "cell_type": "code",
   "execution_count": 2,
   "id": "869db401",
   "metadata": {
    "execution": {
     "iopub.execute_input": "2025-10-17T12:26:53.548512Z",
     "iopub.status.busy": "2025-10-17T12:26:53.548512Z",
     "iopub.status.idle": "2025-10-17T12:26:53.553819Z",
     "shell.execute_reply": "2025-10-17T12:26:53.552795Z"
    }
   },
   "outputs": [],
   "source": [
    "# Data for the scalar Fields\n",
    "data_9 = [24.0]\n",
    "\n",
    "# Data for the vector Fields\n",
    "data_10 = [47.0, 33.0, 5.0]\n",
    "\n",
    "# Data for the matrix Fields\n",
    "data_11 = [8.0, 2.0, 4.0, 64.0, 32.0, 47.0, 11.0, 23.0, 1.0]"
   ]
  },
  {
   "cell_type": "code",
   "execution_count": 3,
   "id": "7c36a781",
   "metadata": {
    "execution": {
     "iopub.execute_input": "2025-10-17T12:26:53.555843Z",
     "iopub.status.busy": "2025-10-17T12:26:53.554827Z",
     "iopub.status.idle": "2025-10-17T12:26:54.923203Z",
     "shell.execute_reply": "2025-10-17T12:26:54.922307Z"
    }
   },
   "outputs": [],
   "source": [
    "# Import the ``ansys.dpf.core`` module\n",
    "from ansys.dpf import core as dpf"
   ]
  },
  {
   "cell_type": "code",
   "execution_count": 4,
   "id": "9a1c06ea",
   "metadata": {
    "execution": {
     "iopub.execute_input": "2025-10-17T12:26:54.926085Z",
     "iopub.status.busy": "2025-10-17T12:26:54.924069Z",
     "iopub.status.idle": "2025-10-17T12:26:54.930273Z",
     "shell.execute_reply": "2025-10-17T12:26:54.929156Z"
    }
   },
   "outputs": [],
   "source": [
    "# Define the number of entities\n",
    "num_entities_1 = 6"
   ]
  },
  {
   "cell_type": "code",
   "execution_count": 5,
   "id": "d3b6c279",
   "metadata": {
    "execution": {
     "iopub.execute_input": "2025-10-17T12:26:54.931192Z",
     "iopub.status.busy": "2025-10-17T12:26:54.931192Z",
     "iopub.status.idle": "2025-10-17T12:26:54.935034Z",
     "shell.execute_reply": "2025-10-17T12:26:54.935034Z"
    }
   },
   "outputs": [],
   "source": [
    "# Define the number of entities\n",
    "num_entities_2 = 2"
   ]
  },
  {
   "cell_type": "code",
   "execution_count": 6,
   "id": "feae2cac",
   "metadata": {
    "execution": {
     "iopub.execute_input": "2025-10-17T12:26:54.936828Z",
     "iopub.status.busy": "2025-10-17T12:26:54.936828Z",
     "iopub.status.idle": "2025-10-17T12:26:54.940974Z",
     "shell.execute_reply": "2025-10-17T12:26:54.940974Z"
    }
   },
   "outputs": [],
   "source": [
    "# Define the number of entities\n",
    "num_entities_3 = 1"
   ]
  },
  {
   "cell_type": "code",
   "execution_count": 7,
   "id": "83d082f5",
   "metadata": {
    "execution": {
     "iopub.execute_input": "2025-10-17T12:26:54.943005Z",
     "iopub.status.busy": "2025-10-17T12:26:54.943005Z",
     "iopub.status.idle": "2025-10-17T12:26:54.946260Z",
     "shell.execute_reply": "2025-10-17T12:26:54.946260Z"
    }
   },
   "outputs": [],
   "source": [
    "# Define the number of entities\n",
    "num_entities_1 = 6"
   ]
  },
  {
   "cell_type": "code",
   "execution_count": 8,
   "id": "a35e6597",
   "metadata": {
    "execution": {
     "iopub.execute_input": "2025-10-17T12:26:54.949406Z",
     "iopub.status.busy": "2025-10-17T12:26:54.948839Z",
     "iopub.status.idle": "2025-10-17T12:26:55.393455Z",
     "shell.execute_reply": "2025-10-17T12:26:55.392474Z"
    }
   },
   "outputs": [
    {
     "name": "stdout",
     "output_type": "stream",
     "text": [
      "Scalar Field:  \n",
      " DPF  Field\n",
      "  Location: Nodal\n",
      "  Unit: \n",
      "  6 entities \n",
      "  Data: 1 components and 0 elementary data \n",
      " \n",
      "\n"
     ]
    }
   ],
   "source": [
    "# Instanciate the Field\n",
    "field_11 = dpf.Field(nentities=num_entities_1, nature=dpf.common.natures.scalar)\n",
    "\n",
    "# Set the scoping ids\n",
    "field_11.scoping.ids = range(num_entities_1)\n",
    "\n",
    "# Print the Field\n",
    "print(\"Scalar Field: \", '\\n',field_11, '\\n')"
   ]
  },
  {
   "cell_type": "code",
   "execution_count": 9,
   "id": "8b0dc947",
   "metadata": {
    "execution": {
     "iopub.execute_input": "2025-10-17T12:26:55.395471Z",
     "iopub.status.busy": "2025-10-17T12:26:55.395471Z",
     "iopub.status.idle": "2025-10-17T12:26:55.401696Z",
     "shell.execute_reply": "2025-10-17T12:26:55.400893Z"
    }
   },
   "outputs": [
    {
     "name": "stdout",
     "output_type": "stream",
     "text": [
      "Scalar Field :  \n",
      " DPF  Field\n",
      "  Location: Nodal\n",
      "  Unit: \n",
      "  6 entities \n",
      "  Data: 1 components and 0 elementary data \n",
      " \n",
      "\n"
     ]
    }
   ],
   "source": [
    "# Instanciate the Field\n",
    "field_12 = dpf.Field(nentities=num_entities_1)\n",
    "\n",
    "# Use the Field.dimensionality method\n",
    "field_12.dimensionality = dpf.Dimensionality([1])\n",
    "\n",
    "# Set the scoping ids\n",
    "field_12.scoping.ids = range(num_entities_1)\n",
    "\n",
    "# Print the Field\n",
    "print(\"Scalar Field : \", '\\n',field_12, '\\n')"
   ]
  },
  {
   "cell_type": "code",
   "execution_count": 10,
   "id": "da8f02c5",
   "metadata": {
    "execution": {
     "iopub.execute_input": "2025-10-17T12:26:55.403439Z",
     "iopub.status.busy": "2025-10-17T12:26:55.403439Z",
     "iopub.status.idle": "2025-10-17T12:26:55.408255Z",
     "shell.execute_reply": "2025-10-17T12:26:55.407448Z"
    }
   },
   "outputs": [],
   "source": [
    "# Define the number of entities\n",
    "num_entities_2 = 2"
   ]
  },
  {
   "cell_type": "code",
   "execution_count": 11,
   "id": "d083d355",
   "metadata": {
    "execution": {
     "iopub.execute_input": "2025-10-17T12:26:55.411089Z",
     "iopub.status.busy": "2025-10-17T12:26:55.410271Z",
     "iopub.status.idle": "2025-10-17T12:26:55.415242Z",
     "shell.execute_reply": "2025-10-17T12:26:55.415242Z"
    }
   },
   "outputs": [
    {
     "name": "stdout",
     "output_type": "stream",
     "text": [
      "3D vector Field :  \n",
      " DPF  Field\n",
      "  Location: Nodal\n",
      "  Unit: \n",
      "  2 entities \n",
      "  Data: 3 components and 0 elementary data \n",
      " \n",
      "\n"
     ]
    }
   ],
   "source": [
    "# Instantiate the Field\n",
    "field_21 = dpf.Field(nentities=num_entities_2)\n",
    "\n",
    "# Set the scoping ids\n",
    "field_21.scoping.ids = range(num_entities_2)\n",
    "\n",
    "# Print the Field\n",
    "print(\"3D vector Field : \", '\\n',field_21, '\\n')"
   ]
  },
  {
   "cell_type": "code",
   "execution_count": 12,
   "id": "d3ba2e10",
   "metadata": {
    "execution": {
     "iopub.execute_input": "2025-10-17T12:26:55.417291Z",
     "iopub.status.busy": "2025-10-17T12:26:55.417291Z",
     "iopub.status.idle": "2025-10-17T12:26:55.422892Z",
     "shell.execute_reply": "2025-10-17T12:26:55.422550Z"
    }
   },
   "outputs": [
    {
     "name": "stdout",
     "output_type": "stream",
     "text": [
      "5D vector Field (5D):  \n",
      " DPF  Field\n",
      "  Location: Nodal\n",
      "  Unit: \n",
      "  2 entities \n",
      "  Data: 5 components and 0 elementary data \n",
      " \n",
      "\n"
     ]
    }
   ],
   "source": [
    "# Instantiate the Field\n",
    "field_31 = dpf.Field(nentities=num_entities_2)\n",
    "\n",
    "# Use the Field.dimensionality method\n",
    "field_31.dimensionality = dpf.Dimensionality([5])\n",
    "\n",
    "# Set the scoping ids\n",
    "field_31.scoping.ids = range(num_entities_2)\n",
    "\n",
    "# Print the Field\n",
    "print(\"5D vector Field (5D): \", '\\n',field_31, '\\n')"
   ]
  },
  {
   "cell_type": "code",
   "execution_count": 13,
   "id": "432472f8",
   "metadata": {
    "execution": {
     "iopub.execute_input": "2025-10-17T12:26:55.424915Z",
     "iopub.status.busy": "2025-10-17T12:26:55.424915Z",
     "iopub.status.idle": "2025-10-17T12:26:55.430457Z",
     "shell.execute_reply": "2025-10-17T12:26:55.429475Z"
    }
   },
   "outputs": [
    {
     "name": "stdout",
     "output_type": "stream",
     "text": [
      "Scalar Field:  \n",
      " DPF  Field\n",
      "  Location: Nodal\n",
      "  Unit: \n",
      "  6 entities \n",
      "  Data: 1 components and 0 elementary data \n",
      " \n",
      "\n"
     ]
    }
   ],
   "source": [
    "# Create the scalar Field\n",
    "field_13 = dpf.fields_factory.create_scalar_field(num_entities=num_entities_1)\n",
    "\n",
    "# Set the scoping ids\n",
    "field_13.scoping.ids = range(num_entities_1)\n",
    "\n",
    "# Print the Field\n",
    "print(\"Scalar Field: \", '\\n',field_13, '\\n')"
   ]
  },
  {
   "cell_type": "code",
   "execution_count": 14,
   "id": "63e2cc6d",
   "metadata": {
    "execution": {
     "iopub.execute_input": "2025-10-17T12:26:55.432476Z",
     "iopub.status.busy": "2025-10-17T12:26:55.432476Z",
     "iopub.status.idle": "2025-10-17T12:26:55.438530Z",
     "shell.execute_reply": "2025-10-17T12:26:55.437637Z"
    }
   },
   "outputs": [
    {
     "name": "stdout",
     "output_type": "stream",
     "text": [
      "Scalar Field:  \n",
      " DPF  Field\n",
      "  Location: Nodal\n",
      "  Unit: \n",
      "  6 entities \n",
      "  Data: 1 components and 6 elementary data \n",
      "\n",
      "  IDs                   data\n",
      "  ------------          ----------\n",
      "  0                     6.000000e+00   \n",
      "                        \n",
      "  1                     5.000000e+00   \n",
      "                        \n",
      "  2                     4.000000e+00   \n",
      "                        \n",
      "  ...\n",
      "\n",
      " \n",
      "\n"
     ]
    }
   ],
   "source": [
    "# Use the field_from_array function\n",
    "field_14 = dpf.fields_factory.field_from_array(arr=data_1)\n",
    "\n",
    "# Set the scoping ids\n",
    "field_14.scoping.ids = range(num_entities_1)\n",
    "\n",
    "# Print the Field\n",
    "print(\"Scalar Field: \", '\\n',field_14, '\\n')"
   ]
  },
  {
   "cell_type": "code",
   "execution_count": 15,
   "id": "e02a27f7",
   "metadata": {
    "execution": {
     "iopub.execute_input": "2025-10-17T12:26:55.440549Z",
     "iopub.status.busy": "2025-10-17T12:26:55.440549Z",
     "iopub.status.idle": "2025-10-17T12:26:55.446117Z",
     "shell.execute_reply": "2025-10-17T12:26:55.445800Z"
    }
   },
   "outputs": [
    {
     "name": "stdout",
     "output_type": "stream",
     "text": [
      "Scalar Field (b):  \n",
      " DPF  Field\n",
      "  Location: Nodal\n",
      "  Unit: \n",
      "  6 entities \n",
      "  Data: 1 components and 6 elementary data \n",
      "\n",
      "  IDs                   data\n",
      "  ------------          ----------\n",
      "  0                     1.200000e+01   \n",
      "                        \n",
      "  1                     7.000000e+00   \n",
      "                        \n",
      "  2                     8.000000e+00   \n",
      "                        \n",
      "  ...\n",
      "\n",
      " \n",
      "\n"
     ]
    }
   ],
   "source": [
    "# Use the field_from_array function\n",
    "field_15 = dpf.fields_factory.field_from_array(arr=data_2)\n",
    "\n",
    "# Use the |Field.dimensionality| method\n",
    "field_15.dimensionality = dpf.Dimensionality([1])\n",
    "\n",
    "# Set the scoping ids\n",
    "field_15.scoping.ids = range(num_entities_1)\n",
    "\n",
    "# Print the Field\n",
    "print(\"Scalar Field (b): \", '\\n',field_15, '\\n')"
   ]
  },
  {
   "cell_type": "code",
   "execution_count": 16,
   "id": "ef09b4ce",
   "metadata": {
    "execution": {
     "iopub.execute_input": "2025-10-17T12:26:55.450223Z",
     "iopub.status.busy": "2025-10-17T12:26:55.449867Z",
     "iopub.status.idle": "2025-10-17T12:26:55.454714Z",
     "shell.execute_reply": "2025-10-17T12:26:55.454032Z"
    }
   },
   "outputs": [
    {
     "name": "stdout",
     "output_type": "stream",
     "text": [
      "3D vector Field :  \n",
      " DPF  Field\n",
      "  Location: Nodal\n",
      "  Unit: \n",
      "  2 entities \n",
      "  Data: 3 components and 0 elementary data \n",
      " \n",
      "\n"
     ]
    }
   ],
   "source": [
    "# Use the create_vector_field function\n",
    "field_22 = dpf.fields_factory.create_vector_field(num_entities=num_entities_2, num_comp=3)\n",
    "\n",
    "# Set the scoping ids\n",
    "field_22.scoping.ids = range(num_entities_2)\n",
    "\n",
    "# Print the Field\n",
    "print(\"3D vector Field : \", '\\n',field_22, '\\n')"
   ]
  },
  {
   "cell_type": "code",
   "execution_count": 17,
   "id": "32911065",
   "metadata": {
    "execution": {
     "iopub.execute_input": "2025-10-17T12:26:55.457666Z",
     "iopub.status.busy": "2025-10-17T12:26:55.456730Z",
     "iopub.status.idle": "2025-10-17T12:26:55.462371Z",
     "shell.execute_reply": "2025-10-17T12:26:55.461244Z"
    }
   },
   "outputs": [
    {
     "name": "stdout",
     "output_type": "stream",
     "text": [
      "5D vector Field :  \n",
      " DPF  Field\n",
      "  Location: Nodal\n",
      "  Unit: \n",
      "  2 entities \n",
      "  Data: 5 components and 0 elementary data \n",
      " \n",
      "\n"
     ]
    }
   ],
   "source": [
    "# Use the create_vector_field function\n",
    "field_32 = dpf.fields_factory.create_vector_field(num_entities=num_entities_2, num_comp=5)\n",
    "\n",
    "# Set the scoping ids\n",
    "field_32.scoping.ids = range(num_entities_2)\n",
    "\n",
    "# Print the Field\n",
    "print(\"5D vector Field : \", '\\n',field_32, '\\n')"
   ]
  },
  {
   "cell_type": "code",
   "execution_count": 18,
   "id": "429df2a0",
   "metadata": {
    "execution": {
     "iopub.execute_input": "2025-10-17T12:26:55.464387Z",
     "iopub.status.busy": "2025-10-17T12:26:55.464387Z",
     "iopub.status.idle": "2025-10-17T12:26:55.469887Z",
     "shell.execute_reply": "2025-10-17T12:26:55.468740Z"
    }
   },
   "outputs": [
    {
     "name": "stdout",
     "output_type": "stream",
     "text": [
      "Vector Field (3D):  \n",
      " DPF  Field\n",
      "  Location: Nodal\n",
      "  Unit: \n",
      "  2 entities \n",
      "  Data: 3 components and 0 elementary data \n",
      " \n",
      "\n"
     ]
    }
   ],
   "source": [
    "# Create the 3d vector Field\n",
    "field_25 = dpf.fields_factory.create_3d_vector_field(num_entities=num_entities_2)\n",
    "# Set the scoping ids\n",
    "field_25.scoping.ids = range(num_entities_2)\n",
    "\n",
    "# Print the Field\n",
    "print(\"Vector Field (3D): \", '\\n',field_25, '\\n')"
   ]
  },
  {
   "cell_type": "code",
   "execution_count": 19,
   "id": "714fea4c",
   "metadata": {
    "execution": {
     "iopub.execute_input": "2025-10-17T12:26:55.471909Z",
     "iopub.status.busy": "2025-10-17T12:26:55.471909Z",
     "iopub.status.idle": "2025-10-17T12:26:55.477471Z",
     "shell.execute_reply": "2025-10-17T12:26:55.476875Z"
    }
   },
   "outputs": [
    {
     "name": "stdout",
     "output_type": "stream",
     "text": [
      "3D vector Field:  \n",
      " DPF  Field\n",
      "  Location: Nodal\n",
      "  Unit: \n",
      "  2 entities \n",
      "  Data: 3 components and 2 elementary data \n",
      "\n",
      "  IDs                   data\n",
      "  ------------          ----------\n",
      "  0                     4.000000e+00   1.000000e+00   8.000000e+00   \n",
      "                        \n",
      "  1                     5.000000e+00   7.000000e+00   9.000000e+00   \n",
      "                        \n",
      "\n",
      " \n",
      "\n"
     ]
    }
   ],
   "source": [
    "# Use the field_from_array function\n",
    "field_23 = dpf.fields_factory.field_from_array(arr=data_3)\n",
    "\n",
    "# Use the Field.dimensionality method\n",
    "field_23.dimensionality = dpf.Dimensionality([3])\n",
    "\n",
    "# Set the scoping ids\n",
    "field_23.scoping.ids = range(num_entities_2)\n",
    "\n",
    "# Print the Field\n",
    "print(\"3D vector Field: \", '\\n',field_23, '\\n')"
   ]
  },
  {
   "cell_type": "code",
   "execution_count": 20,
   "id": "815efc84",
   "metadata": {
    "execution": {
     "iopub.execute_input": "2025-10-17T12:26:55.479493Z",
     "iopub.status.busy": "2025-10-17T12:26:55.479493Z",
     "iopub.status.idle": "2025-10-17T12:26:55.485539Z",
     "shell.execute_reply": "2025-10-17T12:26:55.484641Z"
    }
   },
   "outputs": [
    {
     "name": "stdout",
     "output_type": "stream",
     "text": [
      "3D vector Field:  \n",
      " DPF  Field\n",
      "  Location: Nodal\n",
      "  Unit: \n",
      "  2 entities \n",
      "  Data: 3 components and 2 elementary data \n",
      "\n",
      "  IDs                   data\n",
      "  ------------          ----------\n",
      "  0                     8.000000e+00   4.000000e+00   3.000000e+00   \n",
      "                        \n",
      "  1                     3.100000e+01   5.000000e+00   7.000000e+00   \n",
      "                        \n",
      "\n",
      " \n",
      "\n"
     ]
    }
   ],
   "source": [
    "# Use the field_from_array function\n",
    "field_24 = dpf.fields_factory.field_from_array(arr=data_5)\n",
    "\n",
    "# Set the scoping ids\n",
    "field_24.scoping.ids = range(num_entities_2)\n",
    "\n",
    "# Print the Field\n",
    "print(\"3D vector Field: \", '\\n',field_24, '\\n')"
   ]
  },
  {
   "cell_type": "code",
   "execution_count": 21,
   "id": "69fd09a4",
   "metadata": {
    "execution": {
     "iopub.execute_input": "2025-10-17T12:26:55.487555Z",
     "iopub.status.busy": "2025-10-17T12:26:55.487555Z",
     "iopub.status.idle": "2025-10-17T12:26:55.492603Z",
     "shell.execute_reply": "2025-10-17T12:26:55.491941Z"
    }
   },
   "outputs": [
    {
     "name": "stdout",
     "output_type": "stream",
     "text": [
      "Matrix Field (2,2) :  \n",
      " DPF  Field\n",
      "  Location: Nodal\n",
      "  Unit: \n",
      "  1 entities \n",
      "  Data: 4 components and 0 elementary data \n",
      " \n",
      "\n"
     ]
    }
   ],
   "source": [
    "# Use the create_matrix_field function\n",
    "field_41 = dpf.fields_factory.create_matrix_field(num_entities=num_entities_3, num_lines=2, num_col=2)\n",
    "\n",
    "# Set the scoping ids\n",
    "field_41.scoping.ids = range(num_entities_3)\n",
    "\n",
    "# Print the Field\n",
    "print(\"Matrix Field (2,2) : \", '\\n',field_41, '\\n')"
   ]
  },
  {
   "cell_type": "code",
   "execution_count": 22,
   "id": "71ee188a",
   "metadata": {
    "execution": {
     "iopub.execute_input": "2025-10-17T12:26:55.494622Z",
     "iopub.status.busy": "2025-10-17T12:26:55.494622Z",
     "iopub.status.idle": "2025-10-17T12:26:55.500747Z",
     "shell.execute_reply": "2025-10-17T12:26:55.500437Z"
    }
   },
   "outputs": [
    {
     "name": "stdout",
     "output_type": "stream",
     "text": [
      "Matrix Field 1 (3,3) :  \n",
      " DPF  Field\n",
      "  Location: Nodal\n",
      "  Unit: \n",
      "  1 entities \n",
      "  Data: 9 components and 0 elementary data \n",
      " \n",
      "\n",
      "Matrix Field 2 (3,3) :  \n",
      " DPF  Field\n",
      "  Location: Nodal\n",
      "  Unit: \n",
      "  1 entities \n",
      "  Data: 9 components and 0 elementary data \n",
      " \n",
      "\n"
     ]
    }
   ],
   "source": [
    "# Use the create_matrix_field function\n",
    "field_51 = dpf.fields_factory.create_matrix_field(num_entities=num_entities_3, num_lines=3, num_col=3)\n",
    "field_52 = dpf.fields_factory.create_matrix_field(num_entities=num_entities_3, num_lines=3, num_col=3)\n",
    "\n",
    "# Set the scoping ids\n",
    "field_51.scoping.ids = range(num_entities_3)\n",
    "field_52.scoping.ids = range(num_entities_3)\n",
    "\n",
    "# Print the Field\n",
    "print(\"Matrix Field 1 (3,3) : \", '\\n',field_51, '\\n')\n",
    "print(\"Matrix Field 2 (3,3) : \", '\\n',field_52, '\\n')"
   ]
  },
  {
   "cell_type": "code",
   "execution_count": 23,
   "id": "c73facab",
   "metadata": {
    "execution": {
     "iopub.execute_input": "2025-10-17T12:26:55.502473Z",
     "iopub.status.busy": "2025-10-17T12:26:55.502473Z",
     "iopub.status.idle": "2025-10-17T12:26:55.510348Z",
     "shell.execute_reply": "2025-10-17T12:26:55.509312Z"
    }
   },
   "outputs": [
    {
     "name": "stdout",
     "output_type": "stream",
     "text": [
      "Scalar Field :  \n",
      " DPF  Field\n",
      "  Location: Nodal\n",
      "  Unit: \n",
      "  6 entities \n",
      "  Data: 1 components and 6 elementary data \n",
      "\n",
      "  IDs                   data\n",
      "  ------------          ----------\n",
      "  0                     6.000000e+00   \n",
      "                        \n",
      "  1                     5.000000e+00   \n",
      "                        \n",
      "  2                     4.000000e+00   \n",
      "                        \n",
      "  ...\n",
      "\n",
      " \n",
      "\n",
      "Data scalar Field :  \n",
      " [6. 5. 4. 3. 2. 1.] \n",
      "\n"
     ]
    }
   ],
   "source": [
    "# Set the data\n",
    "field_11.data = data_1\n",
    "\n",
    "# Print the Field\n",
    "print(\"Scalar Field : \", '\\n',field_11, '\\n')\n",
    "\n",
    "# Print the Fields data\n",
    "print(\"Data scalar Field : \", '\\n',field_11.data, '\\n')"
   ]
  },
  {
   "cell_type": "code",
   "execution_count": 24,
   "id": "3fdde833",
   "metadata": {
    "execution": {
     "iopub.execute_input": "2025-10-17T12:26:55.512362Z",
     "iopub.status.busy": "2025-10-17T12:26:55.512362Z",
     "iopub.status.idle": "2025-10-17T12:26:55.517401Z",
     "shell.execute_reply": "2025-10-17T12:26:55.516342Z"
    }
   },
   "outputs": [
    {
     "name": "stdout",
     "output_type": "stream",
     "text": [
      "Scalar Field :  \n",
      " DPF  Field\n",
      "  Location: Nodal\n",
      "  Unit: \n",
      "  6 entities \n",
      "  Data: 1 components and 6 elementary data \n",
      "\n",
      "  IDs                   data\n",
      "  ------------          ----------\n",
      "  0                     1.200000e+01   \n",
      "                        \n",
      "  1                     7.000000e+00   \n",
      "                        \n",
      "  2                     8.000000e+00   \n",
      "                        \n",
      "  ...\n",
      "\n",
      " \n",
      "\n",
      "Data scalar Field :  \n",
      " [12.  7.  8.  9. 31.  1.] \n",
      "\n"
     ]
    }
   ],
   "source": [
    "# Set the data\n",
    "field_12.data = data_2\n",
    "\n",
    "# Print the Field\n",
    "print(\"Scalar Field : \", '\\n',field_12, '\\n')\n",
    "\n",
    "# Print the Fields data\n",
    "print(\"Data scalar Field : \", '\\n',field_12.data, '\\n')"
   ]
  },
  {
   "cell_type": "code",
   "execution_count": 25,
   "id": "4378a718",
   "metadata": {
    "execution": {
     "iopub.execute_input": "2025-10-17T12:26:55.519497Z",
     "iopub.status.busy": "2025-10-17T12:26:55.518418Z",
     "iopub.status.idle": "2025-10-17T12:26:55.524235Z",
     "shell.execute_reply": "2025-10-17T12:26:55.523556Z"
    }
   },
   "outputs": [
    {
     "name": "stdout",
     "output_type": "stream",
     "text": [
      "Vector Field :  \n",
      " DPF  Field\n",
      "  Location: Nodal\n",
      "  Unit: \n",
      "  2 entities \n",
      "  Data: 3 components and 2 elementary data \n",
      "\n",
      "  IDs                   data\n",
      "  ------------          ----------\n",
      "  0                     4.000000e+00   1.000000e+00   8.000000e+00   \n",
      "                        \n",
      "  1                     5.000000e+00   7.000000e+00   9.000000e+00   \n",
      "                        \n",
      "\n",
      " \n",
      "\n",
      "Data vector Field:  \n",
      " [[4. 1. 8.]\n",
      " [5. 7. 9.]] \n",
      "\n"
     ]
    }
   ],
   "source": [
    "# Set the data\n",
    "field_21.data = data_3\n",
    "\n",
    "# Print the Field\n",
    "print(\"Vector Field : \", '\\n',field_21, '\\n')\n",
    "\n",
    "# Print the Fields data\n",
    "print(\"Data vector Field: \", '\\n',field_21.data, '\\n')"
   ]
  },
  {
   "cell_type": "code",
   "execution_count": 26,
   "id": "2fe81332",
   "metadata": {
    "execution": {
     "iopub.execute_input": "2025-10-17T12:26:55.526253Z",
     "iopub.status.busy": "2025-10-17T12:26:55.526253Z",
     "iopub.status.idle": "2025-10-17T12:26:55.532309Z",
     "shell.execute_reply": "2025-10-17T12:26:55.531611Z"
    }
   },
   "outputs": [
    {
     "name": "stdout",
     "output_type": "stream",
     "text": [
      "Vector Field:  \n",
      " DPF  Field\n",
      "  Location: Nodal\n",
      "  Unit: \n",
      "  2 entities \n",
      "  Data: 5 components and 2 elementary data \n",
      "\n",
      "  IDs                   data\n",
      "  ------------          ----------\n",
      "  0                     6.000000e+00   5.000000e+00   4.000000e+00   3.000000e+00   2.000000e+00   \n",
      "                        \n",
      "  1                     1.000000e+00   9.000000e+00   7.000000e+00   8.000000e+00   1.000000e+01   \n",
      "                        \n",
      "\n",
      " \n",
      "\n",
      "Data vector Field :  \n",
      " [[ 6.  5.  4.  3.  2.]\n",
      " [ 1.  9.  7.  8. 10.]] \n",
      "\n"
     ]
    }
   ],
   "source": [
    "# Set the data\n",
    "field_31.data = data_4\n",
    "\n",
    "# Print the Field\n",
    "print(\"Vector Field: \", '\\n',field_31, '\\n')\n",
    "\n",
    "# Print the Fields data\n",
    "print(\"Data vector Field : \", '\\n',field_31.data, '\\n')"
   ]
  },
  {
   "cell_type": "code",
   "execution_count": 27,
   "id": "4e634698",
   "metadata": {
    "execution": {
     "iopub.execute_input": "2025-10-17T12:26:55.534334Z",
     "iopub.status.busy": "2025-10-17T12:26:55.534334Z",
     "iopub.status.idle": "2025-10-17T12:26:55.539912Z",
     "shell.execute_reply": "2025-10-17T12:26:55.538813Z"
    }
   },
   "outputs": [
    {
     "name": "stdout",
     "output_type": "stream",
     "text": [
      "Vector Field:  \n",
      " DPF  Field\n",
      "  Location: Nodal\n",
      "  Unit: \n",
      "  2 entities \n",
      "  Data: 3 components and 2 elementary data \n",
      "\n",
      "  IDs                   data\n",
      "  ------------          ----------\n",
      "  0                     8.000000e+00   4.000000e+00   3.000000e+00   \n",
      "                        \n",
      "  1                     3.100000e+01   5.000000e+00   7.000000e+00   \n",
      "                        \n",
      "\n",
      " \n",
      "\n",
      "Data vector Field:  \n",
      " [[ 8.  4.  3.]\n",
      " [31.  5.  7.]] \n",
      "\n"
     ]
    }
   ],
   "source": [
    "# Set the data\n",
    "field_22.data = data_5\n",
    "\n",
    "# Print the Field\n",
    "print(\"Vector Field: \", '\\n',field_22, '\\n')\n",
    "\n",
    "# Print the Fields data\n",
    "print(\"Data vector Field: \", '\\n',field_22.data, '\\n')"
   ]
  },
  {
   "cell_type": "code",
   "execution_count": 28,
   "id": "c2ff858f",
   "metadata": {
    "execution": {
     "iopub.execute_input": "2025-10-17T12:26:55.541930Z",
     "iopub.status.busy": "2025-10-17T12:26:55.541930Z",
     "iopub.status.idle": "2025-10-17T12:26:55.547989Z",
     "shell.execute_reply": "2025-10-17T12:26:55.546685Z"
    }
   },
   "outputs": [
    {
     "name": "stdout",
     "output_type": "stream",
     "text": [
      "Matrix Field:  \n",
      " DPF  Field\n",
      "  Location: Nodal\n",
      "  Unit: \n",
      "  1 entities \n",
      "  Data: 4 components and 1 elementary data \n",
      "\n",
      "  IDs                   data\n",
      "  ------------          ----------\n",
      "  0                     3.000000e+00   2.000000e+00   1.000000e+00   7.000000e+00   \n",
      "                        \n",
      "\n",
      " \n",
      "\n",
      "Data matrix Field:  \n",
      " [[3. 2. 1. 7.]] \n",
      "\n"
     ]
    }
   ],
   "source": [
    "# Set the data\n",
    "field_41.data = data_6\n",
    "\n",
    "# Print the Field\n",
    "print(\"Matrix Field: \", '\\n',field_41, '\\n')\n",
    "\n",
    "# Print the Fields data\n",
    "print(\"Data matrix Field: \", '\\n',field_41.data, '\\n')"
   ]
  },
  {
   "cell_type": "code",
   "execution_count": 29,
   "id": "5d359004",
   "metadata": {
    "execution": {
     "iopub.execute_input": "2025-10-17T12:26:55.550003Z",
     "iopub.status.busy": "2025-10-17T12:26:55.550003Z",
     "iopub.status.idle": "2025-10-17T12:26:55.555396Z",
     "shell.execute_reply": "2025-10-17T12:26:55.554272Z"
    }
   },
   "outputs": [
    {
     "name": "stdout",
     "output_type": "stream",
     "text": [
      "Matrix Field:  \n",
      " DPF  Field\n",
      "  Location: Nodal\n",
      "  Unit: \n",
      "  1 entities \n",
      "  Data: 9 components and 1 elementary data \n",
      "\n",
      "  IDs                   data\n",
      "  ------------          ----------\n",
      "  0                     1.500000e+01   3.000000e+00   9.000000e+00   3.100000e+01   1.000000e+00   4.200000e+01   5.000000e+00   6.800000e+01   1.300000e+01   \n",
      "                        \n",
      "\n",
      " \n",
      "\n",
      "Data matrix Field:  \n",
      " [[15.  3.  9. 31.  1. 42.  5. 68. 13.]] \n",
      "\n"
     ]
    }
   ],
   "source": [
    "# Set the data\n",
    "field_51.data = data_7\n",
    "\n",
    "# Print the Field\n",
    "print(\"Matrix Field: \", '\\n',field_51, '\\n')\n",
    "\n",
    "# Print the Fields data\n",
    "print(\"Data matrix Field: \", '\\n',field_51.data, '\\n')"
   ]
  },
  {
   "cell_type": "code",
   "execution_count": 30,
   "id": "9237ce68",
   "metadata": {
    "execution": {
     "iopub.execute_input": "2025-10-17T12:26:55.557414Z",
     "iopub.status.busy": "2025-10-17T12:26:55.557414Z",
     "iopub.status.idle": "2025-10-17T12:26:55.563466Z",
     "shell.execute_reply": "2025-10-17T12:26:55.562519Z"
    }
   },
   "outputs": [
    {
     "name": "stdout",
     "output_type": "stream",
     "text": [
      "Matrix Field:  \n",
      " DPF  Field\n",
      "  Location: Nodal\n",
      "  Unit: \n",
      "  1 entities \n",
      "  Data: 9 components and 1 elementary data \n",
      "\n",
      "  IDs                   data\n",
      "  ------------          ----------\n",
      "  0                     1.500000e+01   3.000000e+00   9.000000e+00   3.100000e+01   1.000000e+00   4.200000e+01   5.000000e+00   6.800000e+01   1.300000e+01   \n",
      "                        \n",
      "\n",
      " \n",
      "\n",
      "Data matrix Field:  \n",
      " [[15.  3.  9. 31.  1. 42.  5. 68. 13.]] \n",
      "\n"
     ]
    }
   ],
   "source": [
    "# Set the data\n",
    "field_52.data = data_8\n",
    "\n",
    "# Print the Field\n",
    "print(\"Matrix Field: \", '\\n',field_51, '\\n')\n",
    "\n",
    "# Print the Fields data\n",
    "print(\"Data matrix Field: \", '\\n',field_51.data, '\\n')"
   ]
  },
  {
   "cell_type": "code",
   "execution_count": 31,
   "id": "3da713d0",
   "metadata": {
    "execution": {
     "iopub.execute_input": "2025-10-17T12:26:55.565494Z",
     "iopub.status.busy": "2025-10-17T12:26:55.565494Z",
     "iopub.status.idle": "2025-10-17T12:26:55.570910Z",
     "shell.execute_reply": "2025-10-17T12:26:55.570910Z"
    }
   },
   "outputs": [
    {
     "name": "stdout",
     "output_type": "stream",
     "text": [
      "Scalar Field :  \n",
      " DPF  Field\n",
      "  Location: Nodal\n",
      "  Unit: \n",
      "  7 entities \n",
      "  Data: 1 components and 7 elementary data \n",
      "\n",
      "  IDs                   data\n",
      "  ------------          ----------\n",
      "  0                     6.000000e+00   \n",
      "                        \n",
      "  1                     5.000000e+00   \n",
      "                        \n",
      "  2                     4.000000e+00   \n",
      "                        \n",
      "  ...\n",
      "\n",
      " \n",
      "\n",
      "Data scalar Field:  \n",
      " [ 6.  5.  4.  3.  2.  1. 24.] \n",
      "\n"
     ]
    }
   ],
   "source": [
    "# Append the data\n",
    "field_11.append(scopingid=6, data=data_9)\n",
    "\n",
    "# Print the Field\n",
    "print(\"Scalar Field : \", '\\n',field_11, '\\n')\n",
    "\n",
    "# Print the Fields data\n",
    "print(\"Data scalar Field: \", '\\n',field_11.data, '\\n')"
   ]
  },
  {
   "cell_type": "code",
   "execution_count": 32,
   "id": "fbe0a0d0",
   "metadata": {
    "execution": {
     "iopub.execute_input": "2025-10-17T12:26:55.572953Z",
     "iopub.status.busy": "2025-10-17T12:26:55.572953Z",
     "iopub.status.idle": "2025-10-17T12:26:55.579005Z",
     "shell.execute_reply": "2025-10-17T12:26:55.578570Z"
    }
   },
   "outputs": [
    {
     "name": "stdout",
     "output_type": "stream",
     "text": [
      "Vector Field :  \n",
      " DPF  Field\n",
      "  Location: Nodal\n",
      "  Unit: \n",
      "  3 entities \n",
      "  Data: 3 components and 3 elementary data \n",
      "\n",
      "  IDs                   data\n",
      "  ------------          ----------\n",
      "  0                     4.000000e+00   1.000000e+00   8.000000e+00   \n",
      "                        \n",
      "  1                     5.000000e+00   7.000000e+00   9.000000e+00   \n",
      "                        \n",
      "  2                     4.700000e+01   3.300000e+01   5.000000e+00   \n",
      "                        \n",
      "\n",
      " \n",
      "\n",
      "Data vector Field:  \n",
      " [[ 4.  1.  8.]\n",
      " [ 5.  7.  9.]\n",
      " [47. 33.  5.]] \n",
      "\n"
     ]
    }
   ],
   "source": [
    "# Append the data\n",
    "field_21.append(scopingid=2, data=data_10)\n",
    "\n",
    "# Print the Field\n",
    "print(\"Vector Field : \", '\\n',field_21, '\\n')\n",
    "\n",
    "# Print the Fields data\n",
    "print(\"Data vector Field: \", '\\n',field_21.data, '\\n')"
   ]
  },
  {
   "cell_type": "code",
   "execution_count": 33,
   "id": "147a72a8",
   "metadata": {
    "execution": {
     "iopub.execute_input": "2025-10-17T12:26:55.582191Z",
     "iopub.status.busy": "2025-10-17T12:26:55.581027Z",
     "iopub.status.idle": "2025-10-17T12:26:55.586588Z",
     "shell.execute_reply": "2025-10-17T12:26:55.586241Z"
    }
   },
   "outputs": [
    {
     "name": "stdout",
     "output_type": "stream",
     "text": [
      "VMatrix Field :  \n",
      " DPF  Field\n",
      "  Location: Nodal\n",
      "  Unit: \n",
      "  2 entities \n",
      "  Data: 9 components and 2 elementary data \n",
      "\n",
      "  IDs                   data\n",
      "  ------------          ----------\n",
      "  0                     1.500000e+01   3.000000e+00   9.000000e+00   3.100000e+01   1.000000e+00   4.200000e+01   5.000000e+00   6.800000e+01   1.300000e+01   \n",
      "                        \n",
      "  1                     8.000000e+00   2.000000e+00   4.000000e+00   6.400000e+01   3.200000e+01   4.700000e+01   1.100000e+01   2.300000e+01   1.000000e+00   \n",
      "                        \n",
      "\n",
      " \n",
      "\n",
      "Data Matrix Field:  \n",
      " [[15.  3.  9. 31.  1. 42.  5. 68. 13.]\n",
      " [ 8.  2.  4. 64. 32. 47. 11. 23.  1.]] \n",
      "\n"
     ]
    }
   ],
   "source": [
    "# Append the data\n",
    "field_51.append(scopingid=1, data=data_11)\n",
    "\n",
    "# Print the Field\n",
    "print(\"VMatrix Field : \", '\\n',field_51, '\\n')\n",
    "\n",
    "# Print the Fields data\n",
    "print(\"Data Matrix Field: \", '\\n',field_51.data, '\\n')"
   ]
  },
  {
   "cell_type": "code",
   "execution_count": 34,
   "id": "a96203a2",
   "metadata": {
    "execution": {
     "iopub.execute_input": "2025-10-17T12:26:55.588614Z",
     "iopub.status.busy": "2025-10-17T12:26:55.588614Z",
     "iopub.status.idle": "2025-10-17T12:26:55.594668Z",
     "shell.execute_reply": "2025-10-17T12:26:55.593612Z"
    }
   },
   "outputs": [
    {
     "name": "stdout",
     "output_type": "stream",
     "text": [
      "DPF  Fields Container\n",
      "  with 2 field(s)\n",
      "  defined on labels: time \n",
      "\n",
      "  with:\n",
      "  - field 0 {time:  0} with Nodal location, 3 components and 3 entities.\n",
      "  - field 1 {time:  1} with Nodal location, 5 components and 2 entities.\n",
      "\n"
     ]
    }
   ],
   "source": [
    "# Create the FieldsContainer object\n",
    "fc_1 = dpf.FieldsContainer()\n",
    "\n",
    "# Define the labels\n",
    "fc_1.add_label(label=\"time\")\n",
    "\n",
    "# Add the Fields\n",
    "fc_1.add_field(label_space={\"time\": 0}, field=field_21)\n",
    "fc_1.add_field(label_space={\"time\": 1}, field=field_31)\n",
    "\n",
    "# Print the FieldsContainer\n",
    "print(fc_1)"
   ]
  },
  {
   "cell_type": "code",
   "execution_count": 35,
   "id": "ee91b115",
   "metadata": {
    "execution": {
     "iopub.execute_input": "2025-10-17T12:26:55.596696Z",
     "iopub.status.busy": "2025-10-17T12:26:55.596696Z",
     "iopub.status.idle": "2025-10-17T12:26:55.600692Z",
     "shell.execute_reply": "2025-10-17T12:26:55.600692Z"
    }
   },
   "outputs": [
    {
     "name": "stdout",
     "output_type": "stream",
     "text": [
      "DPF  Fields Container\n",
      "  with 2 field(s)\n",
      "  defined on labels: time \n",
      "\n",
      "  with:\n",
      "  - field 0 {time:  1} with Nodal location, 3 components and 3 entities.\n",
      "  - field 1 {time:  2} with Nodal location, 5 components and 2 entities.\n",
      "\n"
     ]
    }
   ],
   "source": [
    "# Create the FieldsContainer\n",
    "fc_2 = dpf.fields_container_factory.over_time_freq_fields_container(fields=[field_21, field_31])\n",
    "\n",
    "# Print the FieldsContainer\n",
    "print(fc_2)"
   ]
  }
 ],
 "metadata": {
  "kernelspec": {
   "display_name": "Python 3 (ipykernel)",
   "language": "python",
   "name": "python3"
  },
  "language_info": {
   "codemirror_mode": {
    "name": "ipython",
    "version": 3
   },
   "file_extension": ".py",
   "mimetype": "text/x-python",
   "name": "python",
   "nbconvert_exporter": "python",
   "pygments_lexer": "ipython3",
   "version": "3.11.9"
  }
 },
 "nbformat": 4,
 "nbformat_minor": 5
}