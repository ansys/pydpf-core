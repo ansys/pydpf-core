{
 "cells": [
  {
   "cell_type": "code",
   "execution_count": 1,
   "id": "6ce1fa7a",
   "metadata": {
    "execution": {
     "iopub.execute_input": "2025-08-08T08:01:04.318884Z",
     "iopub.status.busy": "2025-08-08T08:01:04.318884Z",
     "iopub.status.idle": "2025-08-08T08:01:04.330685Z",
     "shell.execute_reply": "2025-08-08T08:01:04.330140Z"
    }
   },
   "outputs": [],
   "source": [
    "# Data for the scalar Fields (lists with 1 and 2 dimensions)\n",
    "data_1 = [6.0, 5.0, 4.0, 3.0, 2.0, 1.0]\n",
    "data_2 = [[12.0, 7.0, 8.0], [ 9.0, 31.0, 1.0]]\n",
    "\n",
    "# Data for the vector Fields (lists with 1 and 2 dimensions)\n",
    "data_3 = [4.0, 1.0, 8.0, 5.0, 7.0, 9.0]\n",
    "data_4 = [6.0, 5.0, 4.0, 3.0, 2.0, 1.0, 9.0, 7.0, 8.0, 10.0]\n",
    "data_5 = [[8.0, 4.0, 3.0], [31.0, 5.0, 7.0]]\n",
    "\n",
    "# Data for the matrix Fields\n",
    "data_6 = [3.0, 2.0, 1.0, 7.0]\n",
    "data_7 = [15.0, 3.0, 9.0, 31.0, 1.0, 42.0, 5.0, 68.0, 13.0]\n",
    "data_8 = [[12.0, 7.0, 8.0], [ 1.0, 4.0, 27.0], [98.0, 4.0, 6.0]]"
   ]
  },
  {
   "cell_type": "code",
   "execution_count": 2,
   "id": "38aa961a",
   "metadata": {
    "execution": {
     "iopub.execute_input": "2025-08-08T08:01:04.338990Z",
     "iopub.status.busy": "2025-08-08T08:01:04.337787Z",
     "iopub.status.idle": "2025-08-08T08:01:04.345504Z",
     "shell.execute_reply": "2025-08-08T08:01:04.343491Z"
    }
   },
   "outputs": [],
   "source": [
    "# Data for the scalar Fields\n",
    "data_9 = [24.0]\n",
    "\n",
    "# Data for the vector Fields\n",
    "data_10 = [47.0, 33.0, 5.0]\n",
    "\n",
    "# Data for the matrix Fields\n",
    "data_11 = [8.0, 2.0, 4.0, 64.0, 32.0, 47.0, 11.0, 23.0, 1.0]"
   ]
  },
  {
   "cell_type": "code",
   "execution_count": 3,
   "id": "e7c7381a",
   "metadata": {
    "execution": {
     "iopub.execute_input": "2025-08-08T08:01:04.349848Z",
     "iopub.status.busy": "2025-08-08T08:01:04.349848Z",
     "iopub.status.idle": "2025-08-08T08:01:06.009867Z",
     "shell.execute_reply": "2025-08-08T08:01:06.008227Z"
    }
   },
   "outputs": [],
   "source": [
    "# Import the ``ansys.dpf.core`` module\n",
    "from ansys.dpf import core as dpf"
   ]
  },
  {
   "cell_type": "code",
   "execution_count": 4,
   "id": "ef5e18ed",
   "metadata": {
    "execution": {
     "iopub.execute_input": "2025-08-08T08:01:06.015723Z",
     "iopub.status.busy": "2025-08-08T08:01:06.015209Z",
     "iopub.status.idle": "2025-08-08T08:01:06.019786Z",
     "shell.execute_reply": "2025-08-08T08:01:06.019267Z"
    }
   },
   "outputs": [],
   "source": [
    "# Define the number of entities\n",
    "num_entities_1 = 6"
   ]
  },
  {
   "cell_type": "code",
   "execution_count": 5,
   "id": "1e375e56",
   "metadata": {
    "execution": {
     "iopub.execute_input": "2025-08-08T08:01:06.022792Z",
     "iopub.status.busy": "2025-08-08T08:01:06.022792Z",
     "iopub.status.idle": "2025-08-08T08:01:06.029279Z",
     "shell.execute_reply": "2025-08-08T08:01:06.026464Z"
    }
   },
   "outputs": [],
   "source": [
    "# Define the number of entities\n",
    "num_entities_2 = 2"
   ]
  },
  {
   "cell_type": "code",
   "execution_count": 6,
   "id": "7add5d95",
   "metadata": {
    "execution": {
     "iopub.execute_input": "2025-08-08T08:01:06.032448Z",
     "iopub.status.busy": "2025-08-08T08:01:06.032448Z",
     "iopub.status.idle": "2025-08-08T08:01:06.035504Z",
     "shell.execute_reply": "2025-08-08T08:01:06.035504Z"
    }
   },
   "outputs": [],
   "source": [
    "# Define the number of entities\n",
    "num_entities_3 = 1"
   ]
  },
  {
   "cell_type": "code",
   "execution_count": 7,
   "id": "5bf398a9",
   "metadata": {
    "execution": {
     "iopub.execute_input": "2025-08-08T08:01:06.038715Z",
     "iopub.status.busy": "2025-08-08T08:01:06.037699Z",
     "iopub.status.idle": "2025-08-08T08:01:06.044466Z",
     "shell.execute_reply": "2025-08-08T08:01:06.043447Z"
    }
   },
   "outputs": [],
   "source": [
    "# Define the number of entities\n",
    "num_entities_1 = 6"
   ]
  },
  {
   "cell_type": "code",
   "execution_count": 8,
   "id": "9d78a27d",
   "metadata": {
    "execution": {
     "iopub.execute_input": "2025-08-08T08:01:06.046467Z",
     "iopub.status.busy": "2025-08-08T08:01:06.046467Z",
     "iopub.status.idle": "2025-08-08T08:01:06.235079Z",
     "shell.execute_reply": "2025-08-08T08:01:06.232899Z"
    }
   },
   "outputs": [
    {
     "name": "stdout",
     "output_type": "stream",
     "text": [
      "Scalar Field:  \n",
      " DPF  Field\n",
      "  Location: Nodal\n",
      "  Unit: \n",
      "  6 entities \n",
      "  Data: 1 components and 0 elementary data \n",
      " \n",
      "\n"
     ]
    }
   ],
   "source": [
    "# Instanciate the Field\n",
    "field_11 = dpf.Field(nentities=num_entities_1, nature=dpf.common.natures.scalar)\n",
    "\n",
    "# Set the scoping ids\n",
    "field_11.scoping.ids = range(num_entities_1)\n",
    "\n",
    "# Print the Field\n",
    "print(\"Scalar Field: \", '\\n',field_11, '\\n')"
   ]
  },
  {
   "cell_type": "code",
   "execution_count": 9,
   "id": "aa88010c",
   "metadata": {
    "execution": {
     "iopub.execute_input": "2025-08-08T08:01:06.239097Z",
     "iopub.status.busy": "2025-08-08T08:01:06.239097Z",
     "iopub.status.idle": "2025-08-08T08:01:06.247199Z",
     "shell.execute_reply": "2025-08-08T08:01:06.245187Z"
    }
   },
   "outputs": [
    {
     "name": "stdout",
     "output_type": "stream",
     "text": [
      "Scalar Field :  \n",
      " DPF  Field\n",
      "  Location: Nodal\n",
      "  Unit: \n",
      "  6 entities \n",
      "  Data: 1 components and 0 elementary data \n",
      " \n",
      "\n"
     ]
    }
   ],
   "source": [
    "# Instanciate the Field\n",
    "field_12 = dpf.Field(nentities=num_entities_1)\n",
    "\n",
    "# Use the Field.dimensionality method\n",
    "field_12.dimensionality = dpf.Dimensionality([1])\n",
    "\n",
    "# Set the scoping ids\n",
    "field_12.scoping.ids = range(num_entities_1)\n",
    "\n",
    "# Print the Field\n",
    "print(\"Scalar Field : \", '\\n',field_12, '\\n')"
   ]
  },
  {
   "cell_type": "code",
   "execution_count": 10,
   "id": "65d594d9",
   "metadata": {
    "execution": {
     "iopub.execute_input": "2025-08-08T08:01:06.251859Z",
     "iopub.status.busy": "2025-08-08T08:01:06.250839Z",
     "iopub.status.idle": "2025-08-08T08:01:06.260182Z",
     "shell.execute_reply": "2025-08-08T08:01:06.258581Z"
    }
   },
   "outputs": [],
   "source": [
    "# Define the number of entities\n",
    "num_entities_2 = 2"
   ]
  },
  {
   "cell_type": "code",
   "execution_count": 11,
   "id": "f848e2f5",
   "metadata": {
    "execution": {
     "iopub.execute_input": "2025-08-08T08:01:06.263006Z",
     "iopub.status.busy": "2025-08-08T08:01:06.263006Z",
     "iopub.status.idle": "2025-08-08T08:01:06.269838Z",
     "shell.execute_reply": "2025-08-08T08:01:06.268829Z"
    }
   },
   "outputs": [
    {
     "name": "stdout",
     "output_type": "stream",
     "text": [
      "3D vector Field :  \n",
      " DPF  Field\n",
      "  Location: Nodal\n",
      "  Unit: \n",
      "  2 entities \n",
      "  Data: 3 components and 0 elementary data \n",
      " \n",
      "\n"
     ]
    }
   ],
   "source": [
    "# Instantiate the Field\n",
    "field_21 = dpf.Field(nentities=num_entities_2)\n",
    "\n",
    "# Set the scoping ids\n",
    "field_21.scoping.ids = range(num_entities_2)\n",
    "\n",
    "# Print the Field\n",
    "print(\"3D vector Field : \", '\\n',field_21, '\\n')"
   ]
  },
  {
   "cell_type": "code",
   "execution_count": 12,
   "id": "e462d360",
   "metadata": {
    "execution": {
     "iopub.execute_input": "2025-08-08T08:01:06.275486Z",
     "iopub.status.busy": "2025-08-08T08:01:06.274486Z",
     "iopub.status.idle": "2025-08-08T08:01:06.281794Z",
     "shell.execute_reply": "2025-08-08T08:01:06.280785Z"
    }
   },
   "outputs": [
    {
     "name": "stdout",
     "output_type": "stream",
     "text": [
      "5D vector Field (5D):  \n",
      " DPF  Field\n",
      "  Location: Nodal\n",
      "  Unit: \n",
      "  2 entities \n",
      "  Data: 5 components and 0 elementary data \n",
      " \n",
      "\n"
     ]
    }
   ],
   "source": [
    "# Instantiate the Field\n",
    "field_31 = dpf.Field(nentities=num_entities_2)\n",
    "\n",
    "# Use the Field.dimensionality method\n",
    "field_31.dimensionality = dpf.Dimensionality([5])\n",
    "\n",
    "# Set the scoping ids\n",
    "field_31.scoping.ids = range(num_entities_2)\n",
    "\n",
    "# Print the Field\n",
    "print(\"5D vector Field (5D): \", '\\n',field_31, '\\n')"
   ]
  },
  {
   "cell_type": "code",
   "execution_count": 13,
   "id": "5d3705e7",
   "metadata": {
    "execution": {
     "iopub.execute_input": "2025-08-08T08:01:06.284914Z",
     "iopub.status.busy": "2025-08-08T08:01:06.284914Z",
     "iopub.status.idle": "2025-08-08T08:01:06.292571Z",
     "shell.execute_reply": "2025-08-08T08:01:06.290563Z"
    }
   },
   "outputs": [
    {
     "name": "stdout",
     "output_type": "stream",
     "text": [
      "Scalar Field:  \n",
      " DPF  Field\n",
      "  Location: Nodal\n",
      "  Unit: \n",
      "  6 entities \n",
      "  Data: 1 components and 0 elementary data \n",
      " \n",
      "\n"
     ]
    }
   ],
   "source": [
    "# Create the scalar Field\n",
    "field_13 = dpf.fields_factory.create_scalar_field(num_entities=num_entities_1)\n",
    "\n",
    "# Set the scoping ids\n",
    "field_13.scoping.ids = range(num_entities_1)\n",
    "\n",
    "# Print the Field\n",
    "print(\"Scalar Field: \", '\\n',field_13, '\\n')"
   ]
  },
  {
   "cell_type": "code",
   "execution_count": 14,
   "id": "55d1cbff",
   "metadata": {
    "execution": {
     "iopub.execute_input": "2025-08-08T08:01:06.295894Z",
     "iopub.status.busy": "2025-08-08T08:01:06.295894Z",
     "iopub.status.idle": "2025-08-08T08:01:06.302693Z",
     "shell.execute_reply": "2025-08-08T08:01:06.302183Z"
    }
   },
   "outputs": [
    {
     "name": "stdout",
     "output_type": "stream",
     "text": [
      "Scalar Field:  \n",
      " DPF  Field\n",
      "  Location: Nodal\n",
      "  Unit: \n",
      "  6 entities \n",
      "  Data: 1 components and 6 elementary data \n",
      "\n",
      "  IDs                   data\n",
      "  ------------          ----------\n",
      "  0                     6.000000e+00   \n",
      "                        \n",
      "  1                     5.000000e+00   \n",
      "                        \n",
      "  2                     4.000000e+00   \n",
      "                        \n",
      "  ...\n",
      "\n",
      " \n",
      "\n"
     ]
    }
   ],
   "source": [
    "# Use the field_from_array function\n",
    "field_14 = dpf.fields_factory.field_from_array(arr=data_1)\n",
    "\n",
    "# Set the scoping ids\n",
    "field_14.scoping.ids = range(num_entities_1)\n",
    "\n",
    "# Print the Field\n",
    "print(\"Scalar Field: \", '\\n',field_14, '\\n')"
   ]
  },
  {
   "cell_type": "code",
   "execution_count": 15,
   "id": "ca0bf63a",
   "metadata": {
    "execution": {
     "iopub.execute_input": "2025-08-08T08:01:06.305909Z",
     "iopub.status.busy": "2025-08-08T08:01:06.305909Z",
     "iopub.status.idle": "2025-08-08T08:01:06.312988Z",
     "shell.execute_reply": "2025-08-08T08:01:06.311978Z"
    }
   },
   "outputs": [
    {
     "name": "stdout",
     "output_type": "stream",
     "text": [
      "Scalar Field (b):  \n",
      " DPF  Field\n",
      "  Location: Nodal\n",
      "  Unit: \n",
      "  6 entities \n",
      "  Data: 1 components and 6 elementary data \n",
      "\n",
      "  IDs                   data\n",
      "  ------------          ----------\n",
      "  0                     1.200000e+01   \n",
      "                        \n",
      "  1                     7.000000e+00   \n",
      "                        \n",
      "  2                     8.000000e+00   \n",
      "                        \n",
      "  ...\n",
      "\n",
      " \n",
      "\n"
     ]
    }
   ],
   "source": [
    "# Use the field_from_array function\n",
    "field_15 = dpf.fields_factory.field_from_array(arr=data_2)\n",
    "\n",
    "# Use the |Field.dimensionality| method\n",
    "field_15.dimensionality = dpf.Dimensionality([1])\n",
    "\n",
    "# Set the scoping ids\n",
    "field_15.scoping.ids = range(num_entities_1)\n",
    "\n",
    "# Print the Field\n",
    "print(\"Scalar Field (b): \", '\\n',field_15, '\\n')"
   ]
  },
  {
   "cell_type": "code",
   "execution_count": 16,
   "id": "d28a06cc",
   "metadata": {
    "execution": {
     "iopub.execute_input": "2025-08-08T08:01:06.315989Z",
     "iopub.status.busy": "2025-08-08T08:01:06.314988Z",
     "iopub.status.idle": "2025-08-08T08:01:06.321979Z",
     "shell.execute_reply": "2025-08-08T08:01:06.320105Z"
    }
   },
   "outputs": [
    {
     "name": "stdout",
     "output_type": "stream",
     "text": [
      "3D vector Field :  \n",
      " DPF  Field\n",
      "  Location: Nodal\n",
      "  Unit: \n",
      "  2 entities \n",
      "  Data: 3 components and 0 elementary data \n",
      " \n",
      "\n"
     ]
    }
   ],
   "source": [
    "# Use the create_vector_field function\n",
    "field_22 = dpf.fields_factory.create_vector_field(num_entities=num_entities_2, num_comp=3)\n",
    "\n",
    "# Set the scoping ids\n",
    "field_22.scoping.ids = range(num_entities_2)\n",
    "\n",
    "# Print the Field\n",
    "print(\"3D vector Field : \", '\\n',field_22, '\\n')"
   ]
  },
  {
   "cell_type": "code",
   "execution_count": 17,
   "id": "c7b7d39b",
   "metadata": {
    "execution": {
     "iopub.execute_input": "2025-08-08T08:01:06.325236Z",
     "iopub.status.busy": "2025-08-08T08:01:06.324042Z",
     "iopub.status.idle": "2025-08-08T08:01:06.329049Z",
     "shell.execute_reply": "2025-08-08T08:01:06.329049Z"
    }
   },
   "outputs": [
    {
     "name": "stdout",
     "output_type": "stream",
     "text": [
      "5D vector Field :  \n",
      " DPF  Field\n",
      "  Location: Nodal\n",
      "  Unit: \n",
      "  2 entities \n",
      "  Data: 5 components and 0 elementary data \n",
      " \n",
      "\n"
     ]
    }
   ],
   "source": [
    "# Use the create_vector_field function\n",
    "field_32 = dpf.fields_factory.create_vector_field(num_entities=num_entities_2, num_comp=5)\n",
    "\n",
    "# Set the scoping ids\n",
    "field_32.scoping.ids = range(num_entities_2)\n",
    "\n",
    "# Print the Field\n",
    "print(\"5D vector Field : \", '\\n',field_32, '\\n')"
   ]
  },
  {
   "cell_type": "code",
   "execution_count": 18,
   "id": "1e0ca064",
   "metadata": {
    "execution": {
     "iopub.execute_input": "2025-08-08T08:01:06.332087Z",
     "iopub.status.busy": "2025-08-08T08:01:06.332087Z",
     "iopub.status.idle": "2025-08-08T08:01:06.338332Z",
     "shell.execute_reply": "2025-08-08T08:01:06.337278Z"
    }
   },
   "outputs": [
    {
     "name": "stdout",
     "output_type": "stream",
     "text": [
      "Vector Field (3D):  \n",
      " DPF  Field\n",
      "  Location: Nodal\n",
      "  Unit: \n",
      "  2 entities \n",
      "  Data: 3 components and 0 elementary data \n",
      " \n",
      "\n"
     ]
    }
   ],
   "source": [
    "# Create the 3d vector Field\n",
    "field_25 = dpf.fields_factory.create_3d_vector_field(num_entities=num_entities_2)\n",
    "# Set the scoping ids\n",
    "field_25.scoping.ids = range(num_entities_2)\n",
    "\n",
    "# Print the Field\n",
    "print(\"Vector Field (3D): \", '\\n',field_25, '\\n')"
   ]
  },
  {
   "cell_type": "code",
   "execution_count": 19,
   "id": "2605e8bc",
   "metadata": {
    "execution": {
     "iopub.execute_input": "2025-08-08T08:01:06.342116Z",
     "iopub.status.busy": "2025-08-08T08:01:06.341603Z",
     "iopub.status.idle": "2025-08-08T08:01:06.347286Z",
     "shell.execute_reply": "2025-08-08T08:01:06.346769Z"
    }
   },
   "outputs": [
    {
     "name": "stdout",
     "output_type": "stream",
     "text": [
      "3D vector Field:  \n",
      " DPF  Field\n",
      "  Location: Nodal\n",
      "  Unit: \n",
      "  2 entities \n",
      "  Data: 3 components and 2 elementary data \n",
      "\n",
      "  IDs                   data\n",
      "  ------------          ----------\n",
      "  0                     4.000000e+00   1.000000e+00   8.000000e+00   \n",
      "                        \n",
      "  1                     5.000000e+00   7.000000e+00   9.000000e+00   \n",
      "                        \n",
      "\n",
      " \n",
      "\n"
     ]
    }
   ],
   "source": [
    "# Use the field_from_array function\n",
    "field_23 = dpf.fields_factory.field_from_array(arr=data_3)\n",
    "\n",
    "# Use the Field.dimensionality method\n",
    "field_23.dimensionality = dpf.Dimensionality([3])\n",
    "\n",
    "# Set the scoping ids\n",
    "field_23.scoping.ids = range(num_entities_2)\n",
    "\n",
    "# Print the Field\n",
    "print(\"3D vector Field: \", '\\n',field_23, '\\n')"
   ]
  },
  {
   "cell_type": "code",
   "execution_count": 20,
   "id": "a9e81f85",
   "metadata": {
    "execution": {
     "iopub.execute_input": "2025-08-08T08:01:06.350435Z",
     "iopub.status.busy": "2025-08-08T08:01:06.350435Z",
     "iopub.status.idle": "2025-08-08T08:01:06.356933Z",
     "shell.execute_reply": "2025-08-08T08:01:06.355917Z"
    }
   },
   "outputs": [
    {
     "name": "stdout",
     "output_type": "stream",
     "text": [
      "3D vector Field:  \n",
      " DPF  Field\n",
      "  Location: Nodal\n",
      "  Unit: \n",
      "  2 entities \n",
      "  Data: 3 components and 2 elementary data \n",
      "\n",
      "  IDs                   data\n",
      "  ------------          ----------\n",
      "  0                     8.000000e+00   4.000000e+00   3.000000e+00   \n",
      "                        \n",
      "  1                     3.100000e+01   5.000000e+00   7.000000e+00   \n",
      "                        \n",
      "\n",
      " \n",
      "\n"
     ]
    }
   ],
   "source": [
    "# Use the field_from_array function\n",
    "field_24 = dpf.fields_factory.field_from_array(arr=data_5)\n",
    "\n",
    "# Set the scoping ids\n",
    "field_24.scoping.ids = range(num_entities_2)\n",
    "\n",
    "# Print the Field\n",
    "print(\"3D vector Field: \", '\\n',field_24, '\\n')"
   ]
  },
  {
   "cell_type": "code",
   "execution_count": 21,
   "id": "fa2aae59",
   "metadata": {
    "execution": {
     "iopub.execute_input": "2025-08-08T08:01:06.359933Z",
     "iopub.status.busy": "2025-08-08T08:01:06.359933Z",
     "iopub.status.idle": "2025-08-08T08:01:06.367966Z",
     "shell.execute_reply": "2025-08-08T08:01:06.366790Z"
    }
   },
   "outputs": [
    {
     "name": "stdout",
     "output_type": "stream",
     "text": [
      "Matrix Field (2,2) :  \n",
      " DPF  Field\n",
      "  Location: Nodal\n",
      "  Unit: \n",
      "  1 entities \n",
      "  Data: 4 components and 0 elementary data \n",
      " \n",
      "\n"
     ]
    }
   ],
   "source": [
    "# Use the create_matrix_field function\n",
    "field_41 = dpf.fields_factory.create_matrix_field(num_entities=num_entities_3, num_lines=2, num_col=2)\n",
    "\n",
    "# Set the scoping ids\n",
    "field_41.scoping.ids = range(num_entities_3)\n",
    "\n",
    "# Print the Field\n",
    "print(\"Matrix Field (2,2) : \", '\\n',field_41, '\\n')"
   ]
  },
  {
   "cell_type": "code",
   "execution_count": 22,
   "id": "7eb1a639",
   "metadata": {
    "execution": {
     "iopub.execute_input": "2025-08-08T08:01:06.372475Z",
     "iopub.status.busy": "2025-08-08T08:01:06.370964Z",
     "iopub.status.idle": "2025-08-08T08:01:06.379066Z",
     "shell.execute_reply": "2025-08-08T08:01:06.377912Z"
    }
   },
   "outputs": [
    {
     "name": "stdout",
     "output_type": "stream",
     "text": [
      "Matrix Field 1 (3,3) :  \n",
      " DPF  Field\n",
      "  Location: Nodal\n",
      "  Unit: \n",
      "  1 entities \n",
      "  Data: 9 components and 0 elementary data \n",
      " \n",
      "\n",
      "Matrix Field 2 (3,3) :  \n",
      " DPF  Field\n",
      "  Location: Nodal\n",
      "  Unit: \n",
      "  1 entities \n",
      "  Data: 9 components and 0 elementary data \n",
      " \n",
      "\n"
     ]
    }
   ],
   "source": [
    "# Use the create_matrix_field function\n",
    "field_51 = dpf.fields_factory.create_matrix_field(num_entities=num_entities_3, num_lines=3, num_col=3)\n",
    "field_52 = dpf.fields_factory.create_matrix_field(num_entities=num_entities_3, num_lines=3, num_col=3)\n",
    "\n",
    "# Set the scoping ids\n",
    "field_51.scoping.ids = range(num_entities_3)\n",
    "field_52.scoping.ids = range(num_entities_3)\n",
    "\n",
    "# Print the Field\n",
    "print(\"Matrix Field 1 (3,3) : \", '\\n',field_51, '\\n')\n",
    "print(\"Matrix Field 2 (3,3) : \", '\\n',field_52, '\\n')"
   ]
  },
  {
   "cell_type": "code",
   "execution_count": 23,
   "id": "07a9bd19",
   "metadata": {
    "execution": {
     "iopub.execute_input": "2025-08-08T08:01:06.381069Z",
     "iopub.status.busy": "2025-08-08T08:01:06.381069Z",
     "iopub.status.idle": "2025-08-08T08:01:06.390357Z",
     "shell.execute_reply": "2025-08-08T08:01:06.389068Z"
    }
   },
   "outputs": [
    {
     "name": "stdout",
     "output_type": "stream",
     "text": [
      "Scalar Field :  \n",
      " DPF  Field\n",
      "  Location: Nodal\n",
      "  Unit: \n",
      "  6 entities \n",
      "  Data: 1 components and 6 elementary data \n",
      "\n",
      "  IDs                   data\n",
      "  ------------          ----------\n",
      "  0                     6.000000e+00   \n",
      "                        \n",
      "  1                     5.000000e+00   \n",
      "                        \n",
      "  2                     4.000000e+00   \n",
      "                        \n",
      "  ...\n",
      "\n",
      " \n",
      "\n",
      "Data scalar Field :  \n",
      " [6. 5. 4. 3. 2. 1.] \n",
      "\n"
     ]
    }
   ],
   "source": [
    "# Set the data\n",
    "field_11.data = data_1\n",
    "\n",
    "# Print the Field\n",
    "print(\"Scalar Field : \", '\\n',field_11, '\\n')\n",
    "\n",
    "# Print the Fields data\n",
    "print(\"Data scalar Field : \", '\\n',field_11.data, '\\n')"
   ]
  },
  {
   "cell_type": "code",
   "execution_count": 24,
   "id": "8158ddb4",
   "metadata": {
    "execution": {
     "iopub.execute_input": "2025-08-08T08:01:06.394876Z",
     "iopub.status.busy": "2025-08-08T08:01:06.394876Z",
     "iopub.status.idle": "2025-08-08T08:01:06.402074Z",
     "shell.execute_reply": "2025-08-08T08:01:06.401063Z"
    }
   },
   "outputs": [
    {
     "name": "stdout",
     "output_type": "stream",
     "text": [
      "Scalar Field :  \n",
      " DPF  Field\n",
      "  Location: Nodal\n",
      "  Unit: \n",
      "  6 entities \n",
      "  Data: 1 components and 6 elementary data \n",
      "\n",
      "  IDs                   data\n",
      "  ------------          ----------\n",
      "  0                     1.200000e+01   \n",
      "                        \n",
      "  1                     7.000000e+00   \n",
      "                        \n",
      "  2                     8.000000e+00   \n",
      "                        \n",
      "  ...\n",
      "\n",
      " \n",
      "\n",
      "Data scalar Field :  \n",
      " [12.  7.  8.  9. 31.  1.] \n",
      "\n"
     ]
    }
   ],
   "source": [
    "# Set the data\n",
    "field_12.data = data_2\n",
    "\n",
    "# Print the Field\n",
    "print(\"Scalar Field : \", '\\n',field_12, '\\n')\n",
    "\n",
    "# Print the Fields data\n",
    "print(\"Data scalar Field : \", '\\n',field_12.data, '\\n')"
   ]
  },
  {
   "cell_type": "code",
   "execution_count": 25,
   "id": "25bbd71e",
   "metadata": {
    "execution": {
     "iopub.execute_input": "2025-08-08T08:01:06.406521Z",
     "iopub.status.busy": "2025-08-08T08:01:06.405045Z",
     "iopub.status.idle": "2025-08-08T08:01:06.413450Z",
     "shell.execute_reply": "2025-08-08T08:01:06.412441Z"
    }
   },
   "outputs": [
    {
     "name": "stdout",
     "output_type": "stream",
     "text": [
      "Vector Field :  \n",
      " DPF  Field\n",
      "  Location: Nodal\n",
      "  Unit: \n",
      "  2 entities \n",
      "  Data: 3 components and 2 elementary data \n",
      "\n",
      "  IDs                   data\n",
      "  ------------          ----------\n",
      "  0                     4.000000e+00   1.000000e+00   8.000000e+00   \n",
      "                        \n",
      "  1                     5.000000e+00   7.000000e+00   9.000000e+00   \n",
      "                        \n",
      "\n",
      " \n",
      "\n",
      "Data vector Field:  \n",
      " [[4. 1. 8.]\n",
      " [5. 7. 9.]] \n",
      "\n"
     ]
    }
   ],
   "source": [
    "# Set the data\n",
    "field_21.data = data_3\n",
    "\n",
    "# Print the Field\n",
    "print(\"Vector Field : \", '\\n',field_21, '\\n')\n",
    "\n",
    "# Print the Fields data\n",
    "print(\"Data vector Field: \", '\\n',field_21.data, '\\n')"
   ]
  },
  {
   "cell_type": "code",
   "execution_count": 26,
   "id": "17861f2f",
   "metadata": {
    "execution": {
     "iopub.execute_input": "2025-08-08T08:01:06.417307Z",
     "iopub.status.busy": "2025-08-08T08:01:06.416171Z",
     "iopub.status.idle": "2025-08-08T08:01:06.424531Z",
     "shell.execute_reply": "2025-08-08T08:01:06.424013Z"
    }
   },
   "outputs": [
    {
     "name": "stdout",
     "output_type": "stream",
     "text": [
      "Vector Field:  \n",
      " DPF  Field\n",
      "  Location: Nodal\n",
      "  Unit: \n",
      "  2 entities \n",
      "  Data: 5 components and 2 elementary data \n",
      "\n",
      "  IDs                   data\n",
      "  ------------          ----------\n",
      "  0                     6.000000e+00   5.000000e+00   4.000000e+00   3.000000e+00   2.000000e+00   \n",
      "                        \n",
      "  1                     1.000000e+00   9.000000e+00   7.000000e+00   8.000000e+00   1.000000e+01   \n",
      "                        \n",
      "\n",
      " \n",
      "\n",
      "Data vector Field :  \n",
      " [[ 6.  5.  4.  3.  2.]\n",
      " [ 1.  9.  7.  8. 10.]] \n",
      "\n"
     ]
    }
   ],
   "source": [
    "# Set the data\n",
    "field_31.data = data_4\n",
    "\n",
    "# Print the Field\n",
    "print(\"Vector Field: \", '\\n',field_31, '\\n')\n",
    "\n",
    "# Print the Fields data\n",
    "print(\"Data vector Field : \", '\\n',field_31.data, '\\n')"
   ]
  },
  {
   "cell_type": "code",
   "execution_count": 27,
   "id": "8a382ccc",
   "metadata": {
    "execution": {
     "iopub.execute_input": "2025-08-08T08:01:06.427055Z",
     "iopub.status.busy": "2025-08-08T08:01:06.427055Z",
     "iopub.status.idle": "2025-08-08T08:01:06.433486Z",
     "shell.execute_reply": "2025-08-08T08:01:06.432373Z"
    }
   },
   "outputs": [
    {
     "name": "stdout",
     "output_type": "stream",
     "text": [
      "Vector Field:  \n",
      " DPF  Field\n",
      "  Location: Nodal\n",
      "  Unit: \n",
      "  2 entities \n",
      "  Data: 3 components and 2 elementary data \n",
      "\n",
      "  IDs                   data\n",
      "  ------------          ----------\n",
      "  0                     8.000000e+00   4.000000e+00   3.000000e+00   \n",
      "                        \n",
      "  1                     3.100000e+01   5.000000e+00   7.000000e+00   \n",
      "                        \n",
      "\n",
      " \n",
      "\n",
      "Data vector Field:  \n",
      " [[ 8.  4.  3.]\n",
      " [31.  5.  7.]] \n",
      "\n"
     ]
    }
   ],
   "source": [
    "# Set the data\n",
    "field_22.data = data_5\n",
    "\n",
    "# Print the Field\n",
    "print(\"Vector Field: \", '\\n',field_22, '\\n')\n",
    "\n",
    "# Print the Fields data\n",
    "print(\"Data vector Field: \", '\\n',field_22.data, '\\n')"
   ]
  },
  {
   "cell_type": "code",
   "execution_count": 28,
   "id": "e950cc0a",
   "metadata": {
    "execution": {
     "iopub.execute_input": "2025-08-08T08:01:06.436004Z",
     "iopub.status.busy": "2025-08-08T08:01:06.434995Z",
     "iopub.status.idle": "2025-08-08T08:01:06.440518Z",
     "shell.execute_reply": "2025-08-08T08:01:06.440518Z"
    }
   },
   "outputs": [
    {
     "name": "stdout",
     "output_type": "stream",
     "text": [
      "Matrix Field:  \n",
      " DPF  Field\n",
      "  Location: Nodal\n",
      "  Unit: \n",
      "  1 entities \n",
      "  Data: 4 components and 1 elementary data \n",
      "\n",
      "  IDs                   data\n",
      "  ------------          ----------\n",
      "  0                     3.000000e+00   2.000000e+00   1.000000e+00   7.000000e+00   \n",
      "                        \n",
      "\n",
      " \n",
      "\n",
      "Data matrix Field:  \n",
      " [[3. 2. 1. 7.]] \n",
      "\n"
     ]
    }
   ],
   "source": [
    "# Set the data\n",
    "field_41.data = data_6\n",
    "\n",
    "# Print the Field\n",
    "print(\"Matrix Field: \", '\\n',field_41, '\\n')\n",
    "\n",
    "# Print the Fields data\n",
    "print(\"Data matrix Field: \", '\\n',field_41.data, '\\n')"
   ]
  },
  {
   "cell_type": "code",
   "execution_count": 29,
   "id": "77ae717f",
   "metadata": {
    "execution": {
     "iopub.execute_input": "2025-08-08T08:01:06.443637Z",
     "iopub.status.busy": "2025-08-08T08:01:06.443637Z",
     "iopub.status.idle": "2025-08-08T08:01:06.450435Z",
     "shell.execute_reply": "2025-08-08T08:01:06.449423Z"
    }
   },
   "outputs": [
    {
     "name": "stdout",
     "output_type": "stream",
     "text": [
      "Matrix Field:  \n",
      " DPF  Field\n",
      "  Location: Nodal\n",
      "  Unit: \n",
      "  1 entities \n",
      "  Data: 9 components and 1 elementary data \n",
      "\n",
      "  IDs                   data\n",
      "  ------------          ----------\n",
      "  0                     1.500000e+01   3.000000e+00   9.000000e+00   3.100000e+01   1.000000e+00   4.200000e+01   5.000000e+00   6.800000e+01   1.300000e+01   \n",
      "                        \n",
      "\n",
      " \n",
      "\n",
      "Data matrix Field:  \n",
      " [[15.  3.  9. 31.  1. 42.  5. 68. 13.]] \n",
      "\n"
     ]
    }
   ],
   "source": [
    "# Set the data\n",
    "field_51.data = data_7\n",
    "\n",
    "# Print the Field\n",
    "print(\"Matrix Field: \", '\\n',field_51, '\\n')\n",
    "\n",
    "# Print the Fields data\n",
    "print(\"Data matrix Field: \", '\\n',field_51.data, '\\n')"
   ]
  },
  {
   "cell_type": "code",
   "execution_count": 30,
   "id": "68319396",
   "metadata": {
    "execution": {
     "iopub.execute_input": "2025-08-08T08:01:06.453435Z",
     "iopub.status.busy": "2025-08-08T08:01:06.453435Z",
     "iopub.status.idle": "2025-08-08T08:01:06.459797Z",
     "shell.execute_reply": "2025-08-08T08:01:06.458678Z"
    }
   },
   "outputs": [
    {
     "name": "stdout",
     "output_type": "stream",
     "text": [
      "Matrix Field:  \n",
      " DPF  Field\n",
      "  Location: Nodal\n",
      "  Unit: \n",
      "  1 entities \n",
      "  Data: 9 components and 1 elementary data \n",
      "\n",
      "  IDs                   data\n",
      "  ------------          ----------\n",
      "  0                     1.500000e+01   3.000000e+00   9.000000e+00   3.100000e+01   1.000000e+00   4.200000e+01   5.000000e+00   6.800000e+01   1.300000e+01   \n",
      "                        \n",
      "\n",
      " \n",
      "\n",
      "Data matrix Field:  \n",
      " [[15.  3.  9. 31.  1. 42.  5. 68. 13.]] \n",
      "\n"
     ]
    }
   ],
   "source": [
    "# Set the data\n",
    "field_52.data = data_8\n",
    "\n",
    "# Print the Field\n",
    "print(\"Matrix Field: \", '\\n',field_51, '\\n')\n",
    "\n",
    "# Print the Fields data\n",
    "print(\"Data matrix Field: \", '\\n',field_51.data, '\\n')"
   ]
  },
  {
   "cell_type": "code",
   "execution_count": 31,
   "id": "29269ec1",
   "metadata": {
    "execution": {
     "iopub.execute_input": "2025-08-08T08:01:06.462797Z",
     "iopub.status.busy": "2025-08-08T08:01:06.462797Z",
     "iopub.status.idle": "2025-08-08T08:01:06.469252Z",
     "shell.execute_reply": "2025-08-08T08:01:06.468242Z"
    }
   },
   "outputs": [
    {
     "name": "stdout",
     "output_type": "stream",
     "text": [
      "Scalar Field : "
     ]
    },
    {
     "name": "stdout",
     "output_type": "stream",
     "text": [
      " \n",
      " "
     ]
    },
    {
     "name": "stdout",
     "output_type": "stream",
     "text": [
      "DPF  Field\n",
      "  Location: Nodal\n",
      "  Unit: \n",
      "  7 entities \n",
      "  Data: 1 components and 7 elementary data \n",
      "\n",
      "  IDs                   data\n",
      "  ------------          ----------\n",
      "  0                     6.000000e+00   \n",
      "                        \n",
      "  1                     5.000000e+00   \n",
      "                        \n",
      "  2                     4.000000e+00   \n",
      "                        \n",
      "  ...\n",
      "\n",
      " \n",
      "\n",
      "Data scalar Field:  \n",
      " [ 6.  5.  4.  3.  2.  1. 24.] \n",
      "\n"
     ]
    }
   ],
   "source": [
    "# Append the data\n",
    "field_11.append(scopingid=6, data=data_9)\n",
    "\n",
    "# Print the Field\n",
    "print(\"Scalar Field : \", '\\n',field_11, '\\n')\n",
    "\n",
    "# Print the Fields data\n",
    "print(\"Data scalar Field: \", '\\n',field_11.data, '\\n')"
   ]
  },
  {
   "cell_type": "code",
   "execution_count": 32,
   "id": "12f440b8",
   "metadata": {
    "execution": {
     "iopub.execute_input": "2025-08-08T08:01:06.472379Z",
     "iopub.status.busy": "2025-08-08T08:01:06.471380Z",
     "iopub.status.idle": "2025-08-08T08:01:06.478113Z",
     "shell.execute_reply": "2025-08-08T08:01:06.477103Z"
    }
   },
   "outputs": [
    {
     "name": "stdout",
     "output_type": "stream",
     "text": [
      "Vector Field :  \n",
      " DPF  Field\n",
      "  Location: Nodal\n",
      "  Unit: \n",
      "  3 entities \n",
      "  Data: 3 components and 3 elementary data \n",
      "\n",
      "  IDs                   data\n",
      "  ------------          ----------\n",
      "  0                     4.000000e+00   1.000000e+00   8.000000e+00   \n",
      "                        \n",
      "  1                     5.000000e+00   7.000000e+00   9.000000e+00   \n",
      "                        \n",
      "  2                     4.700000e+01   3.300000e+01   5.000000e+00   \n",
      "                        \n",
      "\n",
      " \n",
      "\n",
      "Data vector Field:  \n",
      " [[ 4.  1.  8.]\n",
      " [ 5.  7.  9.]\n",
      " [47. 33.  5.]] \n",
      "\n"
     ]
    }
   ],
   "source": [
    "# Append the data\n",
    "field_21.append(scopingid=2, data=data_10)\n",
    "\n",
    "# Print the Field\n",
    "print(\"Vector Field : \", '\\n',field_21, '\\n')\n",
    "\n",
    "# Print the Fields data\n",
    "print(\"Data vector Field: \", '\\n',field_21.data, '\\n')"
   ]
  },
  {
   "cell_type": "code",
   "execution_count": 33,
   "id": "b86a3cbb",
   "metadata": {
    "execution": {
     "iopub.execute_input": "2025-08-08T08:01:06.482305Z",
     "iopub.status.busy": "2025-08-08T08:01:06.481281Z",
     "iopub.status.idle": "2025-08-08T08:01:06.487480Z",
     "shell.execute_reply": "2025-08-08T08:01:06.486943Z"
    }
   },
   "outputs": [
    {
     "name": "stdout",
     "output_type": "stream",
     "text": [
      "VMatrix Field :  \n",
      " DPF  Field\n",
      "  Location: Nodal\n",
      "  Unit: \n",
      "  2 entities \n",
      "  Data: 9 components and 2 elementary data \n",
      "\n",
      "  IDs                   data\n",
      "  ------------          ----------\n",
      "  0                     1.500000e+01   3.000000e+00   9.000000e+00   3.100000e+01   1.000000e+00   4.200000e+01   5.000000e+00   6.800000e+01   1.300000e+01   \n",
      "                        \n",
      "  1                     8.000000e+00   2.000000e+00   4.000000e+00   6.400000e+01   3.200000e+01   4.700000e+01   1.100000e+01   2.300000e+01   1.000000e+00   \n",
      "                        \n",
      "\n",
      " \n",
      "\n",
      "Data Matrix Field:  \n",
      " [[15.  3.  9. 31.  1. 42.  5. 68. 13.]\n",
      " [ 8.  2.  4. 64. 32. 47. 11. 23.  1.]] \n",
      "\n"
     ]
    }
   ],
   "source": [
    "# Append the data\n",
    "field_51.append(scopingid=1, data=data_11)\n",
    "\n",
    "# Print the Field\n",
    "print(\"VMatrix Field : \", '\\n',field_51, '\\n')\n",
    "\n",
    "# Print the Fields data\n",
    "print(\"Data Matrix Field: \", '\\n',field_51.data, '\\n')"
   ]
  },
  {
   "cell_type": "code",
   "execution_count": 34,
   "id": "47b6c9be",
   "metadata": {
    "execution": {
     "iopub.execute_input": "2025-08-08T08:01:06.490493Z",
     "iopub.status.busy": "2025-08-08T08:01:06.490493Z",
     "iopub.status.idle": "2025-08-08T08:01:06.497176Z",
     "shell.execute_reply": "2025-08-08T08:01:06.495960Z"
    }
   },
   "outputs": [
    {
     "name": "stdout",
     "output_type": "stream",
     "text": [
      "DPF  Fields Container\n",
      "  with 2 field(s)\n",
      "  defined on labels: time \n",
      "\n",
      "  with:\n",
      "  - field 0 {time:  0} with Nodal location, 3 components and 3 entities.\n",
      "  - field 1 {time:  1} with Nodal location, 5 components and 2 entities.\n",
      "\n"
     ]
    }
   ],
   "source": [
    "# Create the FieldsContainer object\n",
    "fc_1 = dpf.FieldsContainer()\n",
    "\n",
    "# Define the labels\n",
    "fc_1.add_label(label=\"time\")\n",
    "\n",
    "# Add the Fields\n",
    "fc_1.add_field(label_space={\"time\": 0}, field=field_21)\n",
    "fc_1.add_field(label_space={\"time\": 1}, field=field_31)\n",
    "\n",
    "# Print the FieldsContainer\n",
    "print(fc_1)"
   ]
  },
  {
   "cell_type": "code",
   "execution_count": 35,
   "id": "91db873f",
   "metadata": {
    "execution": {
     "iopub.execute_input": "2025-08-08T08:01:06.500729Z",
     "iopub.status.busy": "2025-08-08T08:01:06.499729Z",
     "iopub.status.idle": "2025-08-08T08:01:06.505142Z",
     "shell.execute_reply": "2025-08-08T08:01:06.504127Z"
    }
   },
   "outputs": [
    {
     "name": "stdout",
     "output_type": "stream",
     "text": [
      "DPF  Fields Container\n",
      "  with 2 field(s)\n",
      "  defined on labels: time \n",
      "\n",
      "  with:\n",
      "  - field 0 {time:  1} with Nodal location, 3 components and 3 entities.\n",
      "  - field 1 {time:  2} with Nodal location, 5 components and 2 entities.\n",
      "\n"
     ]
    }
   ],
   "source": [
    "# Create the FieldsContainer\n",
    "fc_2 = dpf.fields_container_factory.over_time_freq_fields_container(fields=[field_21, field_31])\n",
    "\n",
    "# Print the FieldsContainer\n",
    "print(fc_2)"
   ]
  }
 ],
 "metadata": {
  "kernelspec": {
   "display_name": "Python 3 (ipykernel)",
   "language": "python",
   "name": "python3"
  },
  "language_info": {
   "codemirror_mode": {
    "name": "ipython",
    "version": 3
   },
   "file_extension": ".py",
   "mimetype": "text/x-python",
   "name": "python",
   "nbconvert_exporter": "python",
   "pygments_lexer": "ipython3",
   "version": "3.12.3"
  }
 },
 "nbformat": 4,
 "nbformat_minor": 5
}