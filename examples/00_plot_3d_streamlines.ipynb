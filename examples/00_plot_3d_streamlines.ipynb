{
  "cells": [
    {
      "cell_type": "markdown",
      "metadata": {},
      "source": [
        "\n\n# Compute and plot 3D streamlines\nThis example shows you how to compute and\nplot streamlines of fluid simulation results,\nfor 3D models.\n\n<div class=\"alert alert-info\"><h4>Note</h4><p>This example requires DPF 7.0 (ansys-dpf-server-2024-1-pre0) or above.\n    For more information, see `ref_compatibility`.</p></div>\n"
      ]
    },
    {
      "cell_type": "markdown",
      "metadata": {},
      "source": [
        "# Compute and plot streamlines from single source\n\n"
      ]
    },
    {
      "cell_type": "markdown",
      "metadata": {},
      "source": [
        "## Import modules, create the data sources and the model\nImport modules:\n\n"
      ]
    },
    {
      "cell_type": "code",
      "execution_count": null,
      "metadata": {
        "collapsed": false
      },
      "outputs": [],
      "source": [
        "from ansys.dpf import core as dpf\nfrom ansys.dpf.core import examples\nfrom ansys.dpf.core.helpers.streamlines import compute_streamlines\nfrom ansys.dpf.core.plotter import DpfPlotter"
      ]
    },
    {
      "cell_type": "markdown",
      "metadata": {},
      "source": [
        "Create data sources for fluids simulation result:\n\n"
      ]
    },
    {
      "cell_type": "code",
      "execution_count": null,
      "metadata": {
        "collapsed": false
      },
      "outputs": [],
      "source": [
        "fluent_files = examples.download_fluent_mixing_elbow_steady_state()\nds_fluent = dpf.DataSources()\nds_fluent.set_result_file_path(fluent_files[\"cas\"][0], \"cas\")\nds_fluent.add_file_path(fluent_files[\"dat\"][1], \"dat\")"
      ]
    },
    {
      "cell_type": "markdown",
      "metadata": {},
      "source": [
        "Create model from fluid simulation result data sources:\n\n"
      ]
    },
    {
      "cell_type": "code",
      "execution_count": null,
      "metadata": {
        "collapsed": false
      },
      "outputs": [],
      "source": [
        "m_fluent = dpf.Model(ds_fluent)"
      ]
    },
    {
      "cell_type": "markdown",
      "metadata": {},
      "source": [
        "## Get meshed region and velocity data\nMeshed region is used as geometric base to compute the streamlines.\nVelocity data is used to compute the streamlines. The velocity data must be nodal.\n\n"
      ]
    },
    {
      "cell_type": "markdown",
      "metadata": {},
      "source": [
        "Get the meshed region:\n\n"
      ]
    },
    {
      "cell_type": "code",
      "execution_count": null,
      "metadata": {
        "collapsed": false
      },
      "outputs": [],
      "source": [
        "meshed_region = m_fluent.metadata.meshed_region"
      ]
    },
    {
      "cell_type": "markdown",
      "metadata": {},
      "source": [
        "Get the velocity result at nodes:\n\n"
      ]
    },
    {
      "cell_type": "code",
      "execution_count": null,
      "metadata": {
        "collapsed": false
      },
      "outputs": [],
      "source": [
        "velocity_op = m_fluent.results.velocity()\nfc = velocity_op.outputs.fields_container()\nfield = dpf.operators.averaging.to_nodal_fc(fields_container=fc).outputs.fields_container()[0]"
      ]
    },
    {
      "cell_type": "markdown",
      "metadata": {},
      "source": [
        "## Compute and plot the streamlines adjusting the request\nThe following steps show you how to create streamlines using DpfPlotter, with several sets\nof parameters. It demonstrates the issues that can happen and the adjustments that you can make.\n\n"
      ]
    },
    {
      "cell_type": "markdown",
      "metadata": {},
      "source": [
        "First, Streamlines and StreamlinesSource objects are created. The\nStreamlinesSource is available using the 'return_source' argument.\nThen, you can correctly set the source coordinates using the\n\"source_center\" argument that moves the source center, and\n\"permissive\" option that allows you to display the source even, if the computed\nstreamline size is zero. Default value for \"permissive\" argument is True. If permissive\nis set to False, the \"add_streamlines\" method throws.\n\n"
      ]
    },
    {
      "cell_type": "code",
      "execution_count": null,
      "metadata": {
        "collapsed": false
      },
      "outputs": [],
      "source": [
        "streamline_obj, source_obj = compute_streamlines(\n    meshed_region=meshed_region,\n    field=field,\n    return_source=True,\n    source_center=(0.1, 0.1, 0.2),\n)\npl1 = DpfPlotter()\npl1.add_mesh(meshed_region=meshed_region, opacity=0.3)\npl1.add_streamlines(\n    streamlines=streamline_obj,\n    source=source_obj,\n    permissive=True,\n)\npl1.show_figure(show_axes=True)"
      ]
    },
    {
      "cell_type": "markdown",
      "metadata": {},
      "source": [
        "After the adjustment, the correct values for the \"source_center\" argument are set.\nYou can remove the \"permissive\" option.\nYou can display velocity data with a small opacity value to avoid hiding the streamlines.\nMore settings are added to adapt the streamlines creation to the geometry and\nthe data of the model:\n- radius: streamlines radius\n- n_points: source number of points\n- source_radius\n- max_time: maximum integration time of the streamline. It controls\nthe streamline length.\n\n"
      ]
    },
    {
      "cell_type": "code",
      "execution_count": null,
      "metadata": {
        "collapsed": false
      },
      "outputs": [],
      "source": [
        "streamline_obj, source_obj = compute_streamlines(\n    meshed_region=meshed_region,\n    field=field,\n    return_source=True,\n    source_center=(0.56, 0.48, 0.0),\n    n_points=10,\n    source_radius=0.075,\n    max_time=10.0,\n)\npl2 = DpfPlotter()\npl2.add_field(field, meshed_region, opacity=0.2)\npl2.add_streamlines(\n    streamlines=streamline_obj,\n    source=source_obj,\n    radius=0.001,\n)\npl2.show_figure(show_axes=True)"
      ]
    },
    {
      "cell_type": "markdown",
      "metadata": {},
      "source": [
        "# Compute and plot streamlines from several sources\n\n"
      ]
    },
    {
      "cell_type": "markdown",
      "metadata": {},
      "source": [
        "## Get data to plot\nCreate data sources for fluid simulation result:\n\n"
      ]
    },
    {
      "cell_type": "code",
      "execution_count": null,
      "metadata": {
        "collapsed": false
      },
      "outputs": [],
      "source": [
        "files_cfx = examples.download_cfx_heating_coil()\nds_cfx = dpf.DataSources()\nds_cfx.set_result_file_path(files_cfx[\"cas\"], \"cas\")\nds_cfx.add_file_path(files_cfx[\"dat\"], \"dat\")"
      ]
    },
    {
      "cell_type": "markdown",
      "metadata": {},
      "source": [
        "Create model from fluid simulation result data sources:\n\n"
      ]
    },
    {
      "cell_type": "code",
      "execution_count": null,
      "metadata": {
        "collapsed": false
      },
      "outputs": [],
      "source": [
        "m_cfx = dpf.Model(ds_cfx)"
      ]
    },
    {
      "cell_type": "markdown",
      "metadata": {},
      "source": [
        "Get meshed region and velocity data\n\n"
      ]
    },
    {
      "cell_type": "code",
      "execution_count": null,
      "metadata": {
        "collapsed": false
      },
      "outputs": [],
      "source": [
        "meshed_region = m_cfx.metadata.meshed_region\nvelocity_op = m_cfx.results.velocity()\nfield = velocity_op.outputs.fields_container()[0]"
      ]
    },
    {
      "cell_type": "markdown",
      "metadata": {},
      "source": [
        "## Compute streamlines from different sources\n\n"
      ]
    },
    {
      "cell_type": "markdown",
      "metadata": {},
      "source": [
        "Compute streamlines from different sources:\n\n"
      ]
    },
    {
      "cell_type": "code",
      "execution_count": null,
      "metadata": {
        "collapsed": false
      },
      "outputs": [],
      "source": [
        "streamline_1, source_1 = compute_streamlines(\n    meshed_region=meshed_region,\n    field=field,\n    return_source=True,\n    source_radius=0.25,\n    source_center=(0.75, 0.0, 0.0),\n)\nstreamline_2, source_2 = compute_streamlines(\n    meshed_region=meshed_region,\n    field=field,\n    return_source=True,\n    source_radius=0.25,\n    source_center=(0.0, 0.75, 0.0),\n)\nstreamline_3, source_3 = compute_streamlines(\n    meshed_region=meshed_region,\n    field=field,\n    return_source=True,\n    source_radius=0.25,\n    source_center=(-0.75, 0.0, 0.0),\n)\nstreamline_4, source_4 = compute_streamlines(\n    meshed_region=meshed_region,\n    field=field,\n    return_source=True,\n    source_radius=0.25,\n    source_center=(0.0, -0.75, 0.0),\n)"
      ]
    },
    {
      "cell_type": "markdown",
      "metadata": {},
      "source": [
        "## Plot streamlines from different sources\n\n"
      ]
    },
    {
      "cell_type": "code",
      "execution_count": null,
      "metadata": {
        "collapsed": false
      },
      "outputs": [],
      "source": [
        "pl = DpfPlotter()\npl.add_field(field, meshed_region, opacity=0.2)\npl.add_streamlines(\n    streamlines=streamline_1,\n    source=source_1,\n    radius=0.007,\n)\npl.add_streamlines(\n    streamlines=streamline_2,\n    source=source_2,\n    radius=0.007,\n)\npl.add_streamlines(\n    streamlines=streamline_3,\n    source=source_3,\n    radius=0.007,\n)\npl.add_streamlines(\n    streamlines=streamline_4,\n    source=source_4,\n    radius=0.007,\n)\npl.show_figure(show_axes=True)"
      ]
    }
  ],
  "metadata": {
    "kernelspec": {
      "display_name": "Python 3",
      "language": "python",
      "name": "python3"
    },
    "language_info": {
      "codemirror_mode": {
        "name": "ipython",
        "version": 3
      },
      "file_extension": ".py",
      "mimetype": "text/x-python",
      "name": "python",
      "nbconvert_exporter": "python",
      "pygments_lexer": "ipython3",
      "version": "3.12.3"
    }
  },
  "nbformat": 4,
  "nbformat_minor": 0
}