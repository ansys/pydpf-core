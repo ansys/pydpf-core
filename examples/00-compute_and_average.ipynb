{
  "cells": [
    {
      "cell_type": "markdown",
      "metadata": {},
      "source": [
        "\n\n# Averaging order\n\nThis example compares two different workflows that accomplish the same task to show\nhow the order of the operators can change the end result.\n\n- The first workflow extracts the stress field of a crankshaft under load from a\n  result file, computes the equivalent (von Mises) stresses, and then applies an\n  averaging operator to transpose them from ``ElementalNodal`` to ``Nodal`` positions.\n- The second workflow first transposes the stresses that come from the result file\n  to a ``Nodal`` position and then calculates the von Mises stresses.\n\nThe following images shows these workflows:\n\n.. graphviz::\n\n    digraph foo {\n        graph [pad=\"0\", nodesep=\"0.3\", ranksep=\"0.3\"]\n        node [shape=box, style=filled, fillcolor=\"#ffcc0\", margin=\"0\"];\n        rankdir=LR;\n        splines=line;\n        node [fixedsize=true,width=2.5]\n\n        stress01 [label=\"stress\"];\n        stress02 [label=\"stress\"];\n        vm01 [label=\"von_mises_eqv\"];\n        vm02 [label=\"von_mises_eqv\"];\n        avg01 [label=\"elemental_nodal_to_nodal\", width=2.5];\n        avg02 [label=\"elemental_nodal_to_nodal\", width=2.5];\n        subgraph cluster_1 {\n            ds01 [label=\"data_src\", shape=box, style=filled, fillcolor=cadetblue2];\n\n            ds01 -> stress01 [style=dashed];\n            stress01 -> vm01;\n            vm01 -> avg01\n\n            label=\"Compute Von Mises then average stresses\";\n            style=filled;\n            fillcolor=lightgrey;\n        }\n        subgraph cluster_2 {\n            ds02 [label=\"data_src\", shape=box, style=filled, fillcolor=cadetblue2];\n\n            ds02 -> stress02 [style=dashed];\n            stress02 -> avg02;\n            avg02 -> vm02\n\n            label=\"Average stresses then compute Von Mises\";\n            style=filled;\n            fillcolor=lightgrey;\n        }\n    }\n"
      ]
    },
    {
      "cell_type": "markdown",
      "metadata": {},
      "source": [
        "Import the necessary modules.\n\n"
      ]
    },
    {
      "cell_type": "code",
      "execution_count": null,
      "metadata": {
        "collapsed": false
      },
      "outputs": [],
      "source": [
        "from ansys.dpf import core as dpf\nfrom ansys.dpf.core import examples"
      ]
    },
    {
      "cell_type": "markdown",
      "metadata": {},
      "source": [
        "Load the simulation results from an RST file.\n\n"
      ]
    },
    {
      "cell_type": "code",
      "execution_count": null,
      "metadata": {
        "collapsed": false
      },
      "outputs": [],
      "source": [
        "analysis = examples.download_crankshaft()"
      ]
    },
    {
      "cell_type": "markdown",
      "metadata": {},
      "source": [
        "# Create the first workflow\nThe first workflow applies the averaging operator after computing the equivalent\nstresses. To create it, define a function that computes the von Mises stresses\nin the crankshaft and then apply the averaging operator.\n\n"
      ]
    },
    {
      "cell_type": "code",
      "execution_count": null,
      "metadata": {
        "collapsed": false
      },
      "outputs": [],
      "source": [
        "def compute_von_mises_then_average(analysis):\n    # Create a model from the results of the simulation and retrieve its mesh\n    model = dpf.Model(analysis)\n\n    # Apply the stress operator to obtain the stresses in the body\n    stress_op = dpf.operators.result.stress()\n    stress_op.inputs.connect(model)\n    stresses = stress_op.outputs.fields_container()\n\n    # Compute the von Mises stresses\n    vm_op = dpf.operators.invariant.von_mises_eqv()\n    vm_op.inputs.field.connect(stresses)\n    von_mises = vm_op.outputs.field()\n\n    # Apply the averaging operator to the von Mises stresses\n    avg_op = dpf.operators.averaging.elemental_nodal_to_nodal()\n    avg_op.inputs.connect(von_mises)\n    avg_von_mises = avg_op.outputs.field()\n\n    # Find the maximum value of the von Mises stress field\n    min_max = dpf.operators.min_max.min_max()\n    min_max.inputs.field.connect(avg_von_mises)\n    max_val = min_max.outputs.field_max()\n\n    avg_von_mises.plot()\n    return max_val.data[0]"
      ]
    },
    {
      "cell_type": "markdown",
      "metadata": {},
      "source": [
        "# Create the second workflow\nThe second workflow computes the equivalent stresses after applying the averaging\noperator. To create this workflow, first apply the averaging operator to the\nstress field in the crankshaft and then calculate the von Mises stresses, which\nare already located on a ``Nodal`` position.\n\n"
      ]
    },
    {
      "cell_type": "code",
      "execution_count": null,
      "metadata": {
        "collapsed": false
      },
      "outputs": [],
      "source": [
        "def average_then_compute_von_mises(analysis):\n    # Creating the model from the results of the simulation\n    model = dpf.Model(analysis)\n\n    # Retrieving the stresses\n    stress_op = dpf.operators.result.stress()\n    stress_op.inputs.connect(model)\n    stresses = stress_op.outputs.fields_container()\n\n    # Averaging the stresses to a Nodal position\n    avg_op = dpf.operators.averaging.elemental_nodal_to_nodal()\n    avg_op.inputs.connect(stresses)\n    avg_stresses = avg_op.outputs.field()\n\n    # Computing the Von Mises stresses\n    vm_op = dpf.operators.invariant.von_mises_eqv()\n    vm_op.inputs.field.connect(avg_stresses)\n    avg_von_mises = vm_op.outputs.field()\n\n    # Finding the maximum Von Mises stress value\n    min_max = dpf.operators.min_max.min_max()\n    min_max.inputs.field.connect(avg_von_mises)\n    max_val = min_max.outputs.field_max()\n\n    avg_von_mises.plot()\n    return max_val.data[0]"
      ]
    },
    {
      "cell_type": "markdown",
      "metadata": {},
      "source": [
        "# Plot the results\nPlot both von Mises stress fields side by side to compare them.\n- The first plot displays the results when the equivalent stresses are calculated first.\n- The second plot shows the results when the averaging is done first.\n\n\n"
      ]
    },
    {
      "cell_type": "code",
      "execution_count": null,
      "metadata": {
        "collapsed": false
      },
      "outputs": [],
      "source": [
        "max1 = compute_von_mises_then_average(analysis)\nmax2 = average_then_compute_von_mises(analysis)"
      ]
    },
    {
      "cell_type": "code",
      "execution_count": null,
      "metadata": {
        "collapsed": false
      },
      "outputs": [],
      "source": [
        "diff = (max1 - max2) / max2 * 100\n\nprint(\"Max stress when Von Mises is computed first: {:.2f} Pa\".format(max1))\nprint(\"Max stress when the stress averaging is done first: {:.2f} Pa\".format(max2))\nprint(\n    \"The maximum Von Mises stress value is {:.2f}% higher when \\\nthe averaging is done after the calculations.\".format(diff)\n)"
      ]
    },
    {
      "cell_type": "markdown",
      "metadata": {},
      "source": [
        "Even though both workflows apply the same steps to the same initial data,\ntheir final results are different because of the order in which the operators\nare applied.\n\n"
      ]
    }
  ],
  "metadata": {
    "kernelspec": {
      "display_name": "Python 3",
      "language": "python",
      "name": "python3"
    },
    "language_info": {
      "codemirror_mode": {
        "name": "ipython",
        "version": 3
      },
      "file_extension": ".py",
      "mimetype": "text/x-python",
      "name": "python",
      "nbconvert_exporter": "python",
      "pygments_lexer": "ipython3",
      "version": "3.12.3"
    }
  },
  "nbformat": 4,
  "nbformat_minor": 0
}