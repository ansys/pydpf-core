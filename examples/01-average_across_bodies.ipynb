{
  "cells": [
    {
      "cell_type": "markdown",
      "metadata": {},
      "source": [
        "# Average across bodies {#ref_average_across_bodies}\r\n\r\nIn multibody simulations, some nodes may be shared by the bodies at\r\ntheir interfaces, but the values of the results (for example stresses or\r\nstrains) calculated at these nodes may differ between the bodies. This\r\ncan cause discontinuous plots, given that a single node will have\r\nmultiple values for a variable. To avoid this, you can average these\r\nresults across the bodies of the model.\r\n\r\nThis example demonstrates how to average across bodies in DPF when\r\ndealing with `Nodal` variables. It also illustrates how the end results\r\nof a postprocessing workflow can be different when averaging and when\r\nnot.\r\n\r\n:::: note\r\n::: title\r\nNote\r\n:::\r\n\r\nThis example requires DPF 6.1 or above. For more information, see\r\n`ref_compatibility`{.interpreted-text role=\"ref\"}.\r\n::::\r\n"
      ]
    },
    {
      "cell_type": "markdown",
      "metadata": {},
      "source": [
        "Import the necessary modules\r\n"
      ]
    },
    {
      "cell_type": "code",
      "execution_count": null,
      "metadata": {
        "collapsed": false
      },
      "outputs": [],
      "source": [
        "from ansys.dpf import core as dpf\nfrom ansys.dpf.core import operators as ops\nfrom ansys.dpf.core import examples"
      ]
    },
    {
      "cell_type": "markdown",
      "metadata": {},
      "source": [
        "Load the simulation results from an RST file and create a model of it.\r\n"
      ]
    },
    {
      "cell_type": "code",
      "execution_count": null,
      "metadata": {
        "collapsed": false
      },
      "outputs": [],
      "source": [
        "analysis = examples.download_piston_rod()\nmodel = dpf.Model(analysis)\nprint(model)"
      ]
    },
    {
      "cell_type": "markdown",
      "metadata": {},
      "source": [
        "To visualize the model and see how the bodies are connected, extract\r\ntheir individual meshes using the `split_mesh` operator with the `mat`\r\n(or \\\"material\\\") property.\r\n"
      ]
    },
    {
      "cell_type": "code",
      "execution_count": null,
      "metadata": {
        "collapsed": false
      },
      "outputs": [],
      "source": [
        "mesh = model.metadata.meshed_region\nsplit_mesh_op = ops.mesh.split_mesh(mesh=mesh, property=\"mat\")\nmeshes = split_mesh_op.outputs.meshes()\n\nmeshes.plot(text=\"Body meshes\")"
      ]
    },
    {
      "cell_type": "markdown",
      "metadata": {},
      "source": [
        "As can be seen in the preceding image, even though the piston rod is one\r\nsingle part, it is composed of two different bodies. Additionally, their\r\ninterface shares common nodes.\r\n"
      ]
    },
    {
      "cell_type": "markdown",
      "metadata": {},
      "source": [
        "# Averaging across bodies with DPF\r\n\r\n\\# To compare the results of averaging across bodies and not averaging,\r\ndefine two workflows. The variable of interest is the Von Mises stress\r\nfield, which is calculated by applying the `eqv_fc` operator on the\r\nstresses extracted from the model.\r\n"
      ]
    },
    {
      "cell_type": "markdown",
      "metadata": {},
      "source": [
        "::: graphviz\r\n\r\ndigraph foo {\r\n\r\n:   graph \\[pad=\\\"0\\\", nodesep=\\\"0.3\\\", ranksep=\\\"0.3\\\"\\] node\r\n    \\[shape=box, style=filled, fillcolor=\\\"#ffcc0\\\", margin=\\\"0\\\"\\];\r\n    rankdir=LR; splines=line; node \\[fixedsize=true,width=2.5\\] ds\r\n    \\[label=\\\"data_src\\\", shape=box, style=filled,\r\n    fillcolor=cadetblue2\\]; stress \\[label=\\\"stress\\\"\\]; scp\r\n    \\[label=\\\"split_on_property_type\\\"\\]; eln_to_n\r\n    \\[\\\"elemental_nodal_to_nodal_fc\\\"\\]; vm \\[label=\\\"eqv_fc\\\"\\]; avg\r\n    \\[label=\\\"weighted_merge_fields_by_label\\\"\\]; subgraph cluster_1 {\r\n    ds -\\> scp \\[style=dashed\\]; scp -\\> stress; stress -\\> eln_to_n;\r\n    eln_to_n -\\> vm; label=\\\"Without averaging across bodies\\\";\r\n    style=filled; fillcolor=lightgrey; } subgraph cluster_2 { ds -\\> scp\r\n    \\[style=dashed\\]; scp -\\> stress; stress -\\> eln_to_n; eln_to_n -\\>\r\n    vm; vm -\\> avg; label=\\\"With averaging across bodies\\\";\r\n    style=filled; fillcolor=lightgrey; }\r\n\r\n}\r\n:::\r\n"
      ]
    },
    {
      "cell_type": "markdown",
      "metadata": {},
      "source": [
        "# Workflow for not averaging across bodies\r\n\r\nComputing Von Mises stresses without averaging across the bodies of the\r\nmodel requires the stresses to be extracted separately for each body. To\r\ndo this in DPF, pass a scopings container the stress operator that\r\ncontains the elements of each body in scopings, separated by the `mat`\r\nlabel\r\n"
      ]
    },
    {
      "cell_type": "code",
      "execution_count": null,
      "metadata": {
        "collapsed": false
      },
      "outputs": [],
      "source": [
        "split_scop_op = ops.scoping.split_on_property_type()\nsplit_scop_op.inputs.mesh.connect(mesh)\nsplit_scop_op.inputs.requested_location.connect(dpf.locations.elemental)\nsplit_scop_op.inputs.label1.connect(\"mat\")\n\nprint(split_scop_op.outputs.mesh_scoping())"
      ]
    },
    {
      "cell_type": "markdown",
      "metadata": {},
      "source": [
        "Set the time set of interest to the last time set:\r\n"
      ]
    },
    {
      "cell_type": "code",
      "execution_count": null,
      "metadata": {
        "collapsed": false
      },
      "outputs": [],
      "source": [
        "time_set = 3"
      ]
    },
    {
      "cell_type": "markdown",
      "metadata": {},
      "source": [
        "Extracting the stresses for each body of the simulation:\r\n"
      ]
    },
    {
      "cell_type": "code",
      "execution_count": null,
      "metadata": {
        "collapsed": false
      },
      "outputs": [],
      "source": [
        "stress_op = ops.result.stress()\nstress_op.inputs.time_scoping.connect(time_set)\nstress_op.inputs.data_sources.connect(model)\nstress_op.inputs.mesh_scoping.connect(split_scop_op)\nstress_op.inputs.requested_location.connect(dpf.locations.elemental_nodal)"
      ]
    },
    {
      "cell_type": "markdown",
      "metadata": {},
      "source": [
        "Proceeding with the workflow to obtain `Nodal` Von Mises stresses:\r\n"
      ]
    },
    {
      "cell_type": "code",
      "execution_count": null,
      "metadata": {
        "collapsed": false
      },
      "outputs": [],
      "source": [
        "eln_to_n_op = ops.averaging.elemental_nodal_to_nodal_fc()\neln_to_n_op.inputs.fields_container.connect(stress_op)\n\nvon_mises_op = ops.invariant.von_mises_eqv_fc()\nvon_mises_op.inputs.fields_container.connect(eln_to_n_op)\n\nprint(von_mises_op.outputs.fields_container())"
      ]
    },
    {
      "cell_type": "markdown",
      "metadata": {},
      "source": [
        "As you can see, the final Von Mises stresses fields container has the\r\n`mat` label with two different entries, meaning that it holds data for\r\ntwo separate bodies. Finally, define this workflow as a function for\r\nbetter organization and ease of use:\r\n"
      ]
    },
    {
      "cell_type": "code",
      "execution_count": null,
      "metadata": {
        "collapsed": false
      },
      "outputs": [],
      "source": [
        "def not_average_across_bodies(analysis):\n    # This function extracts the ElementalNodal stress tensors of the simulation\n    # for each body involved, averages them to the nodes and computes Von Mises\n\n    model = dpf.Model(analysis)\n    mesh = model.metadata.meshed_region\n\n    time_set = 3\n\n    split_scop_op = ops.scoping.split_on_property_type()\n    split_scop_op.inputs.mesh.connect(mesh)\n    split_scop_op.inputs.requested_location.connect(dpf.locations.elemental)\n    split_scop_op.inputs.label1.connect(\"mat\")\n\n    stress_op = ops.result.stress()\n    stress_op.inputs.time_scoping.connect(time_set)\n    stress_op.inputs.data_sources.connect(model)\n    stress_op.inputs.mesh_scoping.connect(split_scop_op)\n    stress_op.inputs.requested_location.connect(dpf.locations.elemental_nodal)\n\n    eln_to_n_op = ops.averaging.elemental_nodal_to_nodal_fc()\n    eln_to_n_op.inputs.fields_container.connect(stress_op)\n\n    von_mises_op = ops.invariant.von_mises_eqv_fc()\n    von_mises_op.inputs.fields_container.connect(eln_to_n_op)\n\n    vm_stresses = von_mises_op.outputs.fields_container()\n\n    return vm_stresses"
      ]
    },
    {
      "cell_type": "markdown",
      "metadata": {},
      "source": [
        "# Workflow for averaging across bodies\r\n\r\nThe workflow for performing averaging across bodies in DPF is similar to\r\nto the one shown above, with the extraction of stresses per body. The\r\ndifference comes in the end, where a weighted merge is done between the\r\nfields that contain different values for the `mat` label to actually\r\naverage the results across the bodies. Define a function like the one\r\nabove:\r\n"
      ]
    },
    {
      "cell_type": "code",
      "execution_count": null,
      "metadata": {
        "collapsed": false
      },
      "outputs": [],
      "source": [
        "def average_across_bodies(analysis):\n    # This function extracts the ElementalNodal stress tensors of the simulation\n    # for each body involved, averages them to the nodes and computes Von Mises\n\n    model = dpf.Model(analysis)\n    mesh = model.metadata.meshed_region\n\n    time_set = 3\n\n    split_scop_op = ops.scoping.split_on_property_type()\n    split_scop_op.inputs.mesh.connect(mesh)\n    split_scop_op.inputs.requested_location.connect(dpf.locations.elemental)\n    split_scop_op.inputs.label1.connect(\"mat\")\n\n    stress_op = ops.result.stress()\n    stress_op.inputs.time_scoping.connect(time_set)\n    stress_op.inputs.data_sources.connect(model)\n    stress_op.inputs.mesh_scoping.connect(split_scop_op)\n    stress_op.inputs.requested_location.connect(dpf.locations.elemental_nodal)\n\n    eln_to_n_op = ops.averaging.elemental_nodal_to_nodal_fc()\n    eln_to_n_op.inputs.fields_container.connect(stress_op)\n    # Mid node weights needed for averaging across bodies\n    eln_to_n_op.inputs.extend_weights_to_mid_nodes.connect(True)\n\n    von_mises_op = ops.invariant.von_mises_eqv_fc()\n    von_mises_op.inputs.fields_container.connect(eln_to_n_op)\n\n    # Merging fields that represent different bodies\n    merge_op = ops.utility.weighted_merge_fields_by_label()\n    merge_op.inputs.fields_container.connect(von_mises_op)\n    merge_op.inputs.label.connect(\"mat\")\n    # Connecting weights needed to perform the weighted average\n    merge_op.connect(1000, eln_to_n_op, 1)\n\n    vm_stresses = merge_op.outputs.fields_container()\n\n    return vm_stresses"
      ]
    },
    {
      "cell_type": "markdown",
      "metadata": {},
      "source": [
        "In this case, we can see that the output fields container only has one\r\nfield, indicating that the results of the two different bodies were\r\naveraged successfully.\r\n"
      ]
    },
    {
      "cell_type": "code",
      "execution_count": null,
      "metadata": {
        "collapsed": false
      },
      "outputs": [],
      "source": [
        "print(average_across_bodies(analysis))"
      ]
    },
    {
      "cell_type": "markdown",
      "metadata": {},
      "source": [
        "# Plot and compare the results\r\n\r\nThe two different approaches can be compared. The first plot shows the\r\nresults when averaging across bodies is not performed, while the second\r\nillustrates when it is.\r\n"
      ]
    },
    {
      "cell_type": "code",
      "execution_count": null,
      "metadata": {
        "collapsed": false
      },
      "outputs": [],
      "source": [
        "non_avg_stresses = not_average_across_bodies(analysis)\navg_stresses = average_across_bodies(analysis)\n\nmeshes.plot(non_avg_stresses)\nmesh.plot(avg_stresses)"
      ]
    },
    {
      "cell_type": "markdown",
      "metadata": {},
      "source": [
        "Finally, the maximum stresses for both cases can be compared:\r\n"
      ]
    },
    {
      "cell_type": "code",
      "execution_count": null,
      "metadata": {
        "collapsed": false
      },
      "outputs": [],
      "source": [
        "min_max = dpf.operators.min_max.min_max_fc()\n\n# Non averaged across bodies\nmin_max.inputs.fields_container.connect(non_avg_stresses)\nmax_non_avg = max(min_max.outputs.field_max().data)\n\n# Averaged across bodies\nmin_max.inputs.fields_container.connect(avg_stresses)\nmax_avg = max(min_max.outputs.field_max().data)\n\n\ndiff = abs(max_avg - max_non_avg) / max_non_avg * 100\nprint(\"Max stress when averaging across bodies is activated: {:.2f} Pa\".format(max_avg))\nprint(\"Max stress when averaging across bodies is deactivated: {:.2f} Pa\".format(max_non_avg))\nprint(\n    \"The maximum stress value when averaging across bodies is PERFORMED \\\nis {:.2f}% LOWER than when it is NOT PERFORMED\".format(\n        diff\n    )\n)"
      ]
    },
    {
      "cell_type": "markdown",
      "metadata": {},
      "source": [
        "# Dedicated Operator\r\n\r\n:::: note\r\n::: title\r\nNote\r\n:::\r\n\r\nThe operator detailed below is available in Ansys 23R2 and later\r\nversions.\r\n::::\r\n\r\nAlternatively, those workflows can be automatically instantiated by\r\ncalling the `stress_eqv_as_mechanical` operator, which does exactly the\r\nsame thing as described in the functions above, depending on what is\r\npassed to the \\\"average_across_bodies\\\" input pin:\r\n"
      ]
    },
    {
      "cell_type": "code",
      "execution_count": null,
      "metadata": {
        "collapsed": false
      },
      "outputs": [],
      "source": [
        "stress_op = ops.result.stress_eqv_as_mechanical()\nstress_op.inputs.time_scoping.connect([time_set])\nstress_op.inputs.data_sources.connect(model)\nstress_op.inputs.requested_location.connect(dpf.locations.nodal)\nstress_op.inputs.average_across_bodies.connect(False)\n\nprint(stress_op.outputs.fields_container())"
      ]
    }
  ],
  "metadata": {
    "kernelspec": {
      "display_name": "Python 3",
      "language": "python",
      "name": "python3"
    },
    "language_info": {
      "codemirror_mode": {
        "name": "ipython",
        "version": 3
      },
      "file_extension": ".py",
      "mimetype": "text/x-python",
      "name": "python",
      "nbconvert_exporter": "python",
      "pygments_lexer": "ipython3",
      "version": "3.9.13"
    }
  },
  "nbformat": 4,
  "nbformat_minor": 0
}