{
  "cells": [
    {
      "cell_type": "markdown",
      "metadata": {},
      "source": [
        "\n\n# Average across bodies\n\nIn multibody simulations, some nodes may be shared by the bodies at their interfaces,\nbut the values of the results (for example stresses or strains) calculated at these nodes\nmay differ between the bodies. This can cause discontinuous plots, given that a single\nnode will have multiple values for a variable. To avoid this, you can average these results\nacross the bodies of the model.\n\n\nThis example demonstrates how to average across bodies in DPF when\ndealing with ``Nodal`` variables. It also illustrates how the end results\nof a postprocessing workflow can be different when averaging and when not.\n\n<div class=\"alert alert-info\"><h4>Note</h4><p>This example requires DPF 6.1 or above.\n    For more information, see `ref_compatibility`.</p></div>\n"
      ]
    },
    {
      "cell_type": "markdown",
      "metadata": {},
      "source": [
        "Import the necessary modules\n\n"
      ]
    },
    {
      "cell_type": "code",
      "execution_count": null,
      "metadata": {
        "collapsed": false
      },
      "outputs": [],
      "source": [
        "from ansys.dpf import core as dpf\nfrom ansys.dpf.core import examples, operators as ops"
      ]
    },
    {
      "cell_type": "markdown",
      "metadata": {},
      "source": [
        "Load the simulation results from an RST file and create a model of it.\n\n"
      ]
    },
    {
      "cell_type": "code",
      "execution_count": null,
      "metadata": {
        "collapsed": false
      },
      "outputs": [],
      "source": [
        "analysis = examples.download_piston_rod()\nmodel = dpf.Model(analysis)\nprint(model)"
      ]
    },
    {
      "cell_type": "markdown",
      "metadata": {},
      "source": [
        "To visualize the model and see how the bodies are connected, extract their\nindividual meshes using the ``split_mesh`` operator with the ``mat`` (or \"material\")\nproperty.\n\n"
      ]
    },
    {
      "cell_type": "code",
      "execution_count": null,
      "metadata": {
        "collapsed": false
      },
      "outputs": [],
      "source": [
        "mesh = model.metadata.meshed_region\nsplit_mesh_op = ops.mesh.split_mesh(mesh=mesh, property=\"mat\")\nmeshes = split_mesh_op.outputs.meshes()\n\nmeshes.plot(text=\"Body meshes\")"
      ]
    },
    {
      "cell_type": "markdown",
      "metadata": {},
      "source": [
        "As can be seen in the preceding image, even though the piston rod is one single part,\nit is composed of two different bodies. Additionally, their interface shares common nodes.\n\n"
      ]
    },
    {
      "cell_type": "markdown",
      "metadata": {},
      "source": [
        "# Averaging across bodies with DPF\nTo compare the results of averaging across bodies and not averaging,\ndefine two workflows.\nThe variable of interest is the Von Mises stress field, which is\ncalculated by applying the ``eqv_fc`` operator on the\nstresses extracted from the model.\n\n"
      ]
    },
    {
      "cell_type": "markdown",
      "metadata": {},
      "source": [
        ".. graphviz::\n\n  digraph foo {\n      graph [pad=\"0\", nodesep=\"0.3\", ranksep=\"0.3\"]\n      node [shape=box, style=filled, fillcolor=\"#ffcc0\", margin=\"0\"];\n      rankdir=LR;\n      splines=line;\n      node [fixedsize=true,width=2.5]\n      ds [label=\"data_src\", shape=box, style=filled, fillcolor=cadetblue2];\n      stress [label=\"stress\"];\n      scp [label=\"split_on_property_type\"];\n      eln_to_n [label=\"elemental_nodal_to_nodal_fc\"];\n      vm [label=\"eqv_fc\"];\n      avg [label=\"weighted_merge_fields_by_label\"];\n      subgraph cluster_1 {\n          ds -> scp [style=dashed];\n          scp -> stress;\n          stress -> eln_to_n;\n          eln_to_n -> vm;\n          label=\"Without averaging across bodies\";\n          style=filled;\n          fillcolor=lightgrey;\n      }\n      subgraph cluster_2 {\n          ds -> scp [style=dashed];\n          scp -> stress;\n          stress -> eln_to_n;\n          eln_to_n -> vm;\n          vm -> avg;\n          label=\"With averaging across bodies\";\n          style=filled;\n          fillcolor=lightgrey;\n      }\n  }\n\n"
      ]
    },
    {
      "cell_type": "markdown",
      "metadata": {},
      "source": [
        "## Workflow for not averaging across bodies\nComputing Von Mises stresses without averaging across the bodies of the\nmodel requires the stresses to be extracted separately for each body.\nTo do this in DPF, pass a scopings container the stress operator that\ncontains the elements of each body in scopings, separated by the ``mat`` label\n\n"
      ]
    },
    {
      "cell_type": "code",
      "execution_count": null,
      "metadata": {
        "collapsed": false
      },
      "outputs": [],
      "source": [
        "split_scop_op = ops.scoping.split_on_property_type()\nsplit_scop_op.inputs.mesh.connect(mesh)\nsplit_scop_op.inputs.requested_location.connect(dpf.locations.elemental)\nsplit_scop_op.inputs.label1.connect(\"mat\")\n\nprint(split_scop_op.outputs.mesh_scoping())"
      ]
    },
    {
      "cell_type": "markdown",
      "metadata": {},
      "source": [
        "Set the time set of interest to the last time set:\n\n"
      ]
    },
    {
      "cell_type": "code",
      "execution_count": null,
      "metadata": {
        "collapsed": false
      },
      "outputs": [],
      "source": [
        "time_set = 3"
      ]
    },
    {
      "cell_type": "markdown",
      "metadata": {},
      "source": [
        "Extracting the stresses for each body of the simulation:\n\n"
      ]
    },
    {
      "cell_type": "code",
      "execution_count": null,
      "metadata": {
        "collapsed": false
      },
      "outputs": [],
      "source": [
        "stress_op = ops.result.stress()\nstress_op.inputs.time_scoping.connect(time_set)\nstress_op.inputs.data_sources.connect(model)\nstress_op.inputs.mesh_scoping.connect(split_scop_op)\nstress_op.inputs.requested_location.connect(dpf.locations.elemental_nodal)"
      ]
    },
    {
      "cell_type": "markdown",
      "metadata": {},
      "source": [
        "Proceeding with the workflow to obtain ``Nodal`` Von Mises stresses:\n\n"
      ]
    },
    {
      "cell_type": "code",
      "execution_count": null,
      "metadata": {
        "collapsed": false
      },
      "outputs": [],
      "source": [
        "eln_to_n_op = ops.averaging.elemental_nodal_to_nodal_fc()\neln_to_n_op.inputs.fields_container.connect(stress_op)\n\nvon_mises_op = ops.invariant.von_mises_eqv_fc()\nvon_mises_op.inputs.fields_container.connect(eln_to_n_op)\n\nprint(von_mises_op.outputs.fields_container())"
      ]
    },
    {
      "cell_type": "markdown",
      "metadata": {},
      "source": [
        "As you can see, the final Von Mises stresses fields container has the ``mat``\nlabel with two different entries, meaning that it holds data for two separate bodies.\nFinally, define this workflow as a function for better organization and\nease of use:\n\n"
      ]
    },
    {
      "cell_type": "code",
      "execution_count": null,
      "metadata": {
        "collapsed": false
      },
      "outputs": [],
      "source": [
        "def not_average_across_bodies(analysis):\n    # This function extracts the ElementalNodal stress tensors of the simulation\n    # for each body involved, averages them to the nodes and computes Von Mises\n\n    model = dpf.Model(analysis)\n    mesh = model.metadata.meshed_region\n\n    time_set = 3\n\n    split_scop_op = ops.scoping.split_on_property_type()\n    split_scop_op.inputs.mesh.connect(mesh)\n    split_scop_op.inputs.requested_location.connect(dpf.locations.elemental)\n    split_scop_op.inputs.label1.connect(\"mat\")\n\n    stress_op = ops.result.stress()\n    stress_op.inputs.time_scoping.connect(time_set)\n    stress_op.inputs.data_sources.connect(model)\n    stress_op.inputs.mesh_scoping.connect(split_scop_op)\n    stress_op.inputs.requested_location.connect(dpf.locations.elemental_nodal)\n\n    eln_to_n_op = ops.averaging.elemental_nodal_to_nodal_fc()\n    eln_to_n_op.inputs.fields_container.connect(stress_op)\n\n    von_mises_op = ops.invariant.von_mises_eqv_fc()\n    von_mises_op.inputs.fields_container.connect(eln_to_n_op)\n\n    vm_stresses = von_mises_op.outputs.fields_container()\n\n    return vm_stresses"
      ]
    },
    {
      "cell_type": "markdown",
      "metadata": {},
      "source": [
        "## Workflow for averaging across bodies\nThe workflow for performing averaging across bodies in DPF is similar to to the\none shown above, with the extraction of stresses per body. The difference comes\nin the end, where a weighted merge is done between the fields that contain different\nvalues for the ``mat`` label to actually average the results across the bodies.\nDefine a function like the one above:\n\n"
      ]
    },
    {
      "cell_type": "code",
      "execution_count": null,
      "metadata": {
        "collapsed": false
      },
      "outputs": [],
      "source": [
        "def average_across_bodies(analysis):\n    # This function extracts the ElementalNodal stress tensors of the simulation\n    # for each body involved, averages them to the nodes and computes Von Mises\n\n    model = dpf.Model(analysis)\n    mesh = model.metadata.meshed_region\n\n    time_set = 3\n\n    split_scop_op = ops.scoping.split_on_property_type()\n    split_scop_op.inputs.mesh.connect(mesh)\n    split_scop_op.inputs.requested_location.connect(dpf.locations.elemental)\n    split_scop_op.inputs.label1.connect(\"mat\")\n\n    stress_op = ops.result.stress()\n    stress_op.inputs.time_scoping.connect(time_set)\n    stress_op.inputs.data_sources.connect(model)\n    stress_op.inputs.mesh_scoping.connect(split_scop_op)\n    stress_op.inputs.requested_location.connect(dpf.locations.elemental_nodal)\n\n    eln_to_n_op = ops.averaging.elemental_nodal_to_nodal_fc()\n    eln_to_n_op.inputs.fields_container.connect(stress_op)\n    # Mid node weights needed for averaging across bodies\n    eln_to_n_op.inputs.extend_weights_to_mid_nodes.connect(True)\n\n    von_mises_op = ops.invariant.von_mises_eqv_fc()\n    von_mises_op.inputs.fields_container.connect(eln_to_n_op)\n\n    # Merging fields that represent different bodies\n    merge_op = ops.utility.weighted_merge_fields_by_label()\n    merge_op.inputs.fields_container.connect(von_mises_op)\n    merge_op.inputs.label.connect(\"mat\")\n    # Connecting weights needed to perform the weighted average\n    merge_op.connect(1000, eln_to_n_op, 1)\n\n    vm_stresses = merge_op.outputs.fields_container()\n\n    return vm_stresses"
      ]
    },
    {
      "cell_type": "markdown",
      "metadata": {},
      "source": [
        "In this case, we can see that the output fields container only has one field, indicating\nthat the results of the two different bodies were averaged successfully.\n\n"
      ]
    },
    {
      "cell_type": "code",
      "execution_count": null,
      "metadata": {
        "collapsed": false
      },
      "outputs": [],
      "source": [
        "print(average_across_bodies(analysis))"
      ]
    },
    {
      "cell_type": "markdown",
      "metadata": {},
      "source": [
        "# Plot and compare the results\nThe two different approaches can be compared. The first plot shows the\nresults when averaging across bodies is not performed, while the second illustrates\nwhen it is.\n\n"
      ]
    },
    {
      "cell_type": "code",
      "execution_count": null,
      "metadata": {
        "collapsed": false
      },
      "outputs": [],
      "source": [
        "non_avg_stresses = not_average_across_bodies(analysis)\navg_stresses = average_across_bodies(analysis)\n\nmeshes.plot(non_avg_stresses)\nmesh.plot(avg_stresses)"
      ]
    },
    {
      "cell_type": "markdown",
      "metadata": {},
      "source": [
        "Finally, the maximum stresses for both cases can be compared:\n\n"
      ]
    },
    {
      "cell_type": "code",
      "execution_count": null,
      "metadata": {
        "collapsed": false
      },
      "outputs": [],
      "source": [
        "min_max = dpf.operators.min_max.min_max_fc()\n\n# Non averaged across bodies\nmin_max.inputs.fields_container.connect(non_avg_stresses)\nmax_non_avg = max(min_max.outputs.field_max().data)\n\n# Averaged across bodies\nmin_max.inputs.fields_container.connect(avg_stresses)\nmax_avg = max(min_max.outputs.field_max().data)\n\n\ndiff = abs(max_avg - max_non_avg) / max_non_avg * 100\nprint(\"Max stress when averaging across bodies is activated: {:.2f} Pa\".format(max_avg))\nprint(\"Max stress when averaging across bodies is deactivated: {:.2f} Pa\".format(max_non_avg))\nprint(\n    \"The maximum stress value when averaging across bodies is PERFORMED \\\nis {:.2f}% LOWER than when it is NOT PERFORMED\".format(diff)\n)"
      ]
    },
    {
      "cell_type": "markdown",
      "metadata": {},
      "source": [
        "# Dedicated Operator\n\n<div class=\"alert alert-info\"><h4>Note</h4><p>The operator detailed below is available in Ansys 23R2 and later versions.</p></div>\n\nAlternatively, those workflows can be automatically instantiated by calling the\n``stress_eqv_as_mechanical`` operator, which does exactly the same thing as described\nin the functions above, depending on what is passed to the \"average_across_bodies\" input\npin:\n\n"
      ]
    },
    {
      "cell_type": "code",
      "execution_count": null,
      "metadata": {
        "collapsed": false
      },
      "outputs": [],
      "source": [
        "stress_op = ops.result.stress_eqv_as_mechanical()\nstress_op.inputs.time_scoping.connect([time_set])\nstress_op.inputs.data_sources.connect(model)\nstress_op.inputs.requested_location.connect(dpf.locations.nodal)\nstress_op.inputs.average_across_bodies.connect(False)\n\nprint(stress_op.outputs.fields_container())"
      ]
    }
  ],
  "metadata": {
    "kernelspec": {
      "display_name": "Python 3",
      "language": "python",
      "name": "python3"
    },
    "language_info": {
      "codemirror_mode": {
        "name": "ipython",
        "version": 3
      },
      "file_extension": ".py",
      "mimetype": "text/x-python",
      "name": "python",
      "nbconvert_exporter": "python",
      "pygments_lexer": "ipython3",
      "version": "3.12.3"
    }
  },
  "nbformat": 4,
  "nbformat_minor": 0
}