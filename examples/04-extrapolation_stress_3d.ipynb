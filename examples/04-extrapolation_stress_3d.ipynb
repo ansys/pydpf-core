{
  "cells": [
    {
      "cell_type": "markdown",
      "metadata": {},
      "source": [
        "\n\n# Extrapolation method for stress result of a 3D element\n\nThis example shows how to compute the stress nodal components from\nGaussian points (integration points) for a 3D element using\nextrapolation.\n\nExtrapolate results available at Gaussian or quadrature points to nodal\npoints for a field or fields container. The available elements are:\n\n* Linear quadrangle\n* Parabolic quadrangle\n* Linear hexagonal\n* Quadratic hexagonal\n* Linear tetrahedral\n* Quadratic tetrahedral\n\nHere are the steps for extrapolation:\n\n#. Get the data source's solution from the integration points. (This\n   result file was generated with the Ansys Mechanical APDL (MAPDL)\n   option ``ERESX, NO``).\n#. Use the extrapolation operator to compute the nodal stress.\n#. Get the result for nodal stress from the data source.\n   The analysis was computed by MAPDL.\n#. Compare the result for nodal stress from the data source\n   and the nodal stress computed by the extrapolation method.\n"
      ]
    },
    {
      "cell_type": "code",
      "execution_count": null,
      "metadata": {
        "collapsed": false
      },
      "outputs": [],
      "source": [
        "from ansys.dpf import core as dpf\nfrom ansys.dpf.core import examples"
      ]
    },
    {
      "cell_type": "markdown",
      "metadata": {},
      "source": [
        "Get the data source's analysis of integration points and analysis reference\n\n"
      ]
    },
    {
      "cell_type": "code",
      "execution_count": null,
      "metadata": {
        "collapsed": false
      },
      "outputs": [],
      "source": [
        "datafile = examples.download_extrapolation_3d_result()\n\n# Get integration points (Gaussian points)\ndata_integration_points = datafile[\"file_integrated\"]\ndata_sources_integration_points = dpf.DataSources(data_integration_points)\n\n# Get the reference\ndataSourceref = datafile[\"file_ref\"]\ndata_sources_ref = dpf.DataSources(dataSourceref)\n\n# Get the mesh\nmodel = dpf.Model(data_integration_points)\nmesh = model.metadata.meshed_region\n\n# Operator instantiation scoping\nop_scoping = dpf.operators.scoping.split_on_property_type()  # operator instantiation\nop_scoping.inputs.mesh.connect(mesh)\nop_scoping.inputs.requested_location.connect(\"Elemental\")\nmesh_scoping = op_scoping.outputs.mesh_scoping()"
      ]
    },
    {
      "cell_type": "markdown",
      "metadata": {},
      "source": [
        "# Extrapolate from integration points for stress result\nThis example uses the ``gauss_to_node_fc`` operator to compute the nodal\ncomponent stress result from the stress result of integration points.\n\n"
      ]
    },
    {
      "cell_type": "code",
      "execution_count": null,
      "metadata": {
        "collapsed": false
      },
      "outputs": [],
      "source": [
        "# Create stress operator to get stress result of integration points\nstressop = dpf.operators.result.stress()\nstressop.inputs.data_sources.connect(data_sources_integration_points)\nstress = stressop.outputs.fields_container()"
      ]
    },
    {
      "cell_type": "markdown",
      "metadata": {},
      "source": [
        "## Nodal stress result of integration points\n The MAPLD command ``ERESX,NO`` is used to copy directly the\n Gaussian (integration) points results to the nodes, instead of the\n results at nodes or elements (which are interpolation of results at a\n few gauss points).\n The following plot shows the nodal values, which are the averaged values\n of stresses at each node. The value shown at the node is the average of\n the stresses from the Gaussian points of each element that it belongs to.\n\n"
      ]
    },
    {
      "cell_type": "code",
      "execution_count": null,
      "metadata": {
        "collapsed": false
      },
      "outputs": [],
      "source": [
        "# Plot\nstress_nodal_op = dpf.operators.averaging.elemental_nodal_to_nodal_fc()\nstress_nodal_op.inputs.fields_container.connect(stress)\nmesh.plot(stress_nodal_op.outputs.fields_container())"
      ]
    },
    {
      "cell_type": "markdown",
      "metadata": {},
      "source": [
        "Create operator ``gauss_to_node_fc`` and compute nodal component stress\nby applying the extrapolation method.\n\n"
      ]
    },
    {
      "cell_type": "code",
      "execution_count": null,
      "metadata": {
        "collapsed": false
      },
      "outputs": [],
      "source": [
        "ex_stress = dpf.operators.averaging.gauss_to_node_fc()\n# connect mesh\nex_stress.inputs.mesh.connect(mesh)\n# connect fields container stress\nex_stress.inputs.fields_container.connect(stress)\n# get output\nfex = ex_stress.outputs.fields_container()"
      ]
    },
    {
      "cell_type": "markdown",
      "metadata": {},
      "source": [
        "# Stress result of reference Ansys Workbench\n\n"
      ]
    },
    {
      "cell_type": "code",
      "execution_count": null,
      "metadata": {
        "collapsed": false
      },
      "outputs": [],
      "source": [
        "# Stress from file dataSourceref\nstressop_ref = dpf.operators.result.stress()\nstressop_ref.inputs.data_sources.connect(data_sources_ref)\nstressop_ref.inputs.mesh_scoping.connect(mesh_scoping)\nstress_ref = stressop_ref.outputs.fields_container()"
      ]
    },
    {
      "cell_type": "markdown",
      "metadata": {},
      "source": [
        "# Plot\nShow plots of the extrapolation's stress result and the reference's stress result\n\n"
      ]
    },
    {
      "cell_type": "code",
      "execution_count": null,
      "metadata": {
        "collapsed": false
      },
      "outputs": [],
      "source": [
        "# extrapolation\nfex_nodal_op = dpf.operators.averaging.elemental_nodal_to_nodal_fc()\nfex_nodal_op.inputs.fields_container.connect(fex)\nfex_nodal_fc = fex_nodal_op.eval()\nmesh.plot(fex_nodal_fc)\n\n# reference\nstress_ref_nodal_op = dpf.operators.averaging.elemental_nodal_to_nodal_fc()\nstress_ref_nodal_op.inputs.fields_container.connect(stress_ref)\nstress_ref_nodal_fc = stress_ref_nodal_op.eval()\nmesh.plot(stress_ref_nodal_fc)"
      ]
    },
    {
      "cell_type": "markdown",
      "metadata": {},
      "source": [
        "# Compare stress results\nCompare the stress result computed by extrapolation and the reference's result.\nCheck if the two fields container are identical using the\n:class:`identical_fc <ansys.dpf.core.operators.logic.identical_fc>` operator.\nThe relative tolerance is set to 1.1e-6.\nThe smallest value that is considered during the comparison step: all the\n``abs(values)`` in field less than 1e-2 is considered as null.\n\n"
      ]
    },
    {
      "cell_type": "code",
      "execution_count": null,
      "metadata": {
        "collapsed": false
      },
      "outputs": [],
      "source": [
        "# operator AreFieldsIdentical_fc\nop = dpf.operators.logic.identical_fc()\nop.inputs.fields_containerA.connect(fex_nodal_op)\nop.inputs.fields_containerB.connect(stress_ref_nodal_op)\nop.inputs.tolerance.connect(1.1e-6)\nop.inputs.small_value.connect(0.01)\nop.outputs.boolean()"
      ]
    },
    {
      "cell_type": "markdown",
      "metadata": {},
      "source": [
        "Compute absolute and relative errors\n\n"
      ]
    },
    {
      "cell_type": "code",
      "execution_count": null,
      "metadata": {
        "collapsed": false
      },
      "outputs": [],
      "source": [
        "abs_error_sqr = dpf.operators.math.sqr_fc()\nabs_error = dpf.operators.math.sqrt_fc()\nerror = stress_ref_nodal_op - fex_nodal_op\nabs_error_sqr.inputs.fields_container.connect(error)\nabs_error.inputs.fields_container.connect(abs_error_sqr)\n\n\ndivide = dpf.operators.math.component_wise_divide()\ndivide.inputs.fieldA.connect(stress_ref_nodal_op - fex_nodal_op)\ndivide.inputs.fieldB.connect(stress_ref_nodal_op)\nrel_error = dpf.operators.math.scale()\nrel_error.inputs.field.connect(divide)\nrel_error.inputs.weights.connect(1.0)"
      ]
    },
    {
      "cell_type": "markdown",
      "metadata": {},
      "source": [
        "Plot absolute and relative errors.\nThe absolute value is the order of 10, which is very small when compared to the\nmagnitude of 1e8 of the displacements. This is reflected in the relative error\nplot, where the errors are found to be below 1.02e-6%. The result of these plots\ncan be used to set the tolerances for the\n:class:`identical_fc <ansys.dpf.core.operators.logic.identical_fc>` operator.\n\n"
      ]
    },
    {
      "cell_type": "code",
      "execution_count": null,
      "metadata": {
        "collapsed": false
      },
      "outputs": [],
      "source": [
        "mesh.plot(abs_error.eval(), scalar_bar_args={\"title\": \"Absolute error [mm]\"})\nmesh.plot(rel_error.eval(), scalar_bar_args={\"title\": \"Relative error [%]\"})"
      ]
    }
  ],
  "metadata": {
    "kernelspec": {
      "display_name": "Python 3",
      "language": "python",
      "name": "python3"
    },
    "language_info": {
      "codemirror_mode": {
        "name": "ipython",
        "version": 3
      },
      "file_extension": ".py",
      "mimetype": "text/x-python",
      "name": "python",
      "nbconvert_exporter": "python",
      "pygments_lexer": "ipython3",
      "version": "3.12.3"
    }
  },
  "nbformat": 4,
  "nbformat_minor": 0
}