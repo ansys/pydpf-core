{
  "cells": [
    {
      "cell_type": "markdown",
      "metadata": {},
      "source": [
        "\n\n# Get base and duplicate sectors (real and imaginary) results for modal cyclic symmetry\n\nThis example shows how to extract results from a modal cyclic symmetry model.\n"
      ]
    },
    {
      "cell_type": "code",
      "execution_count": null,
      "metadata": {
        "collapsed": false
      },
      "outputs": [],
      "source": [
        "from ansys.dpf import core as dpf\nfrom ansys.dpf.core import examples"
      ]
    },
    {
      "cell_type": "markdown",
      "metadata": {},
      "source": [
        "Create the model and display the state of the result.\n\n"
      ]
    },
    {
      "cell_type": "code",
      "execution_count": null,
      "metadata": {
        "collapsed": false
      },
      "outputs": [],
      "source": [
        "model = dpf.Model(examples.find_simple_cyclic())\nprint(model)"
      ]
    },
    {
      "cell_type": "markdown",
      "metadata": {},
      "source": [
        "# Get base and duplicate sectors displacement results\nBy default, the result providers (stress, displacement, and so on) will return results for\nbase and duplicate sectors for a cyclic symmetry model.\n\n"
      ]
    },
    {
      "cell_type": "code",
      "execution_count": null,
      "metadata": {
        "collapsed": false
      },
      "outputs": [],
      "source": [
        "# Create displacement operator\nu_cyc = model.results.displacement.on_all_time_freqs()\nfields = u_cyc.outputs.fields_container()"
      ]
    },
    {
      "cell_type": "markdown",
      "metadata": {},
      "source": [
        "The output fields container print displays the organization of the different\nfields in the container. The label \"base_sector\" gives access to base sectors\nresults with base_sector=1 and duplicate sector with base_sector=0 for all\nmodes.\nThe print also displays that there is no duplicate sectors for the first 6 modes.\nIndeed, modes with harmonic index 0 have 0.0 displacement, stresses... on\nduplicate sectors.\n\n"
      ]
    },
    {
      "cell_type": "code",
      "execution_count": null,
      "metadata": {
        "collapsed": false
      },
      "outputs": [],
      "source": [
        "print(fields)\nprint(model.metadata.time_freq_support)\n\n# plot mode 7 base sector (real) result\nmode_7_base = fields.get_field({\"base_sector\": 1, \"time\": 7})\nmodel.metadata.meshed_region.plot(mode_7_base)\n\n# plot mode 7 duplicate sector (imaginary) result\nmode_7_duplicate = fields.get_field({\"base_sector\": 0, \"time\": 7})\nmodel.metadata.meshed_region.plot(mode_7_duplicate)"
      ]
    },
    {
      "cell_type": "markdown",
      "metadata": {},
      "source": [
        "# Get displacement results on the first sector with a cyclic phase\n:class:`ansys.dpf.result.displacement` gives access\nto all cyclic expansion configuration. By default all sectors will be expanded.\nThe cyclic phase (in degree) can be changed with the phi argument.\n\n"
      ]
    },
    {
      "cell_type": "code",
      "execution_count": null,
      "metadata": {
        "collapsed": false
      },
      "outputs": [],
      "source": [
        "u_cyc = dpf.operators.result.displacement(\n    streams_container=model.metadata.streams_provider,\n    sectors_to_expand=[0],\n    time_scoping=[7],\n    phi=0.0,\n    read_cyclic=2,\n)\n# # get the mesh expanded on the first sector for consistency between results and mesh\nmesh_provider = model.metadata.mesh_provider\nmesh_provider.inputs.read_cyclic(2)  # read_cyclic=2 allows to expand cyclic result\nmesh_provider.connect(18, [0])  # connect the sectors_to_expand\nmesh = mesh_provider.outputs.mesh()\n\nmode_7_base = u_cyc.outputs.fields_container()\nprint(mode_7_base)\nmesh.plot(mode_7_base[0])\n\n# a phase phi=90\u00b0 is equivalent to returning the duplicate sector results:\nu_cyc.inputs.phi(90.0)\nmode_7_duplicate = u_cyc.outputs.fields_container()\nprint(mode_7_duplicate)\nmesh.plot(mode_7_duplicate[0])\n\n# with phi=45\u00b0\nu_cyc.inputs.phi(45.0)\nmode_7_45 = u_cyc.outputs.fields_container()\nprint(mode_7_45)\nmesh.plot(mode_7_45[0])"
      ]
    },
    {
      "cell_type": "markdown",
      "metadata": {},
      "source": [
        "# Get nodal stress results on the first sector with a cyclic phase\n\n"
      ]
    },
    {
      "cell_type": "code",
      "execution_count": null,
      "metadata": {
        "collapsed": false
      },
      "outputs": [],
      "source": [
        "s_cyc = dpf.operators.result.stress(\n    streams_container=model.metadata.streams_provider,\n    sectors_to_expand=[0],\n    time_scoping=[7],\n    phi=45.0,\n    requested_location=dpf.locations.nodal,\n    read_cyclic=2,\n)\n\ns_7_45 = s_cyc.outputs.fields_container()\nprint(s_7_45)\nmesh.plot(s_7_45[0])"
      ]
    },
    {
      "cell_type": "markdown",
      "metadata": {},
      "source": [
        "# Get elemental_nodal stress results on the first sector with a cyclic phase\nElemental nodal is the default result location for stress and strain.\n\n"
      ]
    },
    {
      "cell_type": "code",
      "execution_count": null,
      "metadata": {
        "collapsed": false
      },
      "outputs": [],
      "source": [
        "s_cyc = dpf.operators.result.stress(\n    streams_container=model.metadata.streams_provider,\n    sectors_to_expand=[0],\n    time_scoping=[7],\n    phi=45.0,\n    read_cyclic=2,\n)\n\ns_7_45 = s_cyc.outputs.fields_container()\nprint(s_7_45)\n\n# To average the result for each element\nto_elemental = dpf.operators.averaging.to_elemental_fc(s_cyc)\ns_7_45 = to_elemental.outputs.fields_container()\nprint(s_7_45)\nmesh.plot(s_7_45[0])"
      ]
    },
    {
      "cell_type": "markdown",
      "metadata": {},
      "source": [
        "# Get nodal stress results expanded\n\n"
      ]
    },
    {
      "cell_type": "code",
      "execution_count": null,
      "metadata": {
        "collapsed": false
      },
      "outputs": [],
      "source": [
        "s_cyc = dpf.operators.result.stress(\n    streams_container=model.metadata.streams_provider,\n    time_scoping=[7],\n    requested_location=dpf.locations.nodal,\n    read_cyclic=2,\n)\n\nmesh_provider = model.metadata.mesh_provider\nmesh_provider.inputs.read_cyclic(2)  # read_cyclic=2 allows to expand cyclic result\nmesh = mesh_provider.outputs.mesh()\ns = s_cyc.outputs.fields_container()\n\nmesh.plot(s[0])"
      ]
    }
  ],
  "metadata": {
    "kernelspec": {
      "display_name": "Python 3",
      "language": "python",
      "name": "python3"
    },
    "language_info": {
      "codemirror_mode": {
        "name": "ipython",
        "version": 3
      },
      "file_extension": ".py",
      "mimetype": "text/x-python",
      "name": "python",
      "nbconvert_exporter": "python",
      "pygments_lexer": "ipython3",
      "version": "3.12.3"
    }
  },
  "nbformat": 4,
  "nbformat_minor": 0
}