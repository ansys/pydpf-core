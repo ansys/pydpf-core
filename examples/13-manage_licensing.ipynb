{
  "cells": [
    {
      "cell_type": "code",
      "execution_count": null,
      "metadata": {
        "collapsed": false
      },
      "outputs": [],
      "source": [
        "%matplotlib inline"
      ]
    },
    {
      "cell_type": "markdown",
      "metadata": {},
      "source": [
        "# Manage the DPF licensing logic using the server context {#ref_manage_licensing}\r\n\r\nThis example shows how to manage the licensing logic of a DPF server\r\nusing a [ServerContext]{.title-ref}.\r\n\r\nYou can prevent DPF from checking licenses out and blocking increments\r\nby using the **Entry** context.\r\n\r\n::: warning\r\n::: title\r\nWarning\r\n:::\r\n\r\nYou cannot start a new `InProcess` server, as starting an `InProcess`\r\nserver means linking the DPF binaries to your current Python process. If\r\nyour local `InProcess` server is already set to **Premium**, you cannot\r\nset it back to **Entry**. Since `InProcess` is the default server type,\r\nput the commands to set the **Entry** server context at the start of\r\nyour script.\r\n:::\r\n\r\n::: note\r\n::: title\r\nNote\r\n:::\r\n\r\nThis example requires DPF 6.1 (Ansys 2023R2) or above. For more\r\ninformation, see `ref_compatibility`{.interpreted-text role=\"ref\"}.\r\n:::\r\n"
      ]
    },
    {
      "cell_type": "code",
      "execution_count": null,
      "metadata": {
        "collapsed": false
      },
      "outputs": [],
      "source": [
        "# Import necessary modules\nfrom ansys.dpf import core as dpf\nfrom ansys.dpf.core.core import errors"
      ]
    },
    {
      "cell_type": "markdown",
      "metadata": {},
      "source": [
        "Start a server as Entry to prevent using licensed operators\r\n"
      ]
    },
    {
      "cell_type": "code",
      "execution_count": null,
      "metadata": {
        "collapsed": false
      },
      "outputs": [],
      "source": [
        "server = dpf.start_local_server(\n    context=dpf.AvailableServerContexts.entry,\n    config=dpf.AvailableServerConfigs.GrpcServer,\n    as_global=False,\n)\n# The context is shown as Entry\nprint(server.context)\n\n# A server of type InProcess being linked to the current Python process,\n# if an InProcess server already exists as Premium, you cannot set it back as Entry."
      ]
    },
    {
      "cell_type": "markdown",
      "metadata": {},
      "source": [
        "Create a dummy Field\r\n"
      ]
    },
    {
      "cell_type": "code",
      "execution_count": null,
      "metadata": {
        "collapsed": false
      },
      "outputs": [],
      "source": [
        "field = dpf.Field(server=server)\nfield.append([0.0, 0.0, 0.0], 1)\nprint(field)\n\n# Instantiate an Entry (not licensed) DPF operator\nop_entry = dpf.operators.math.add_constant(field=field, ponderation=2.0, server=server)\n\n# Instantiate a Premium (licensed) DPF operator\nop_premium = dpf.operators.filter.field_high_pass(field=field, threshold=0.0, server=server)"
      ]
    },
    {
      "cell_type": "markdown",
      "metadata": {},
      "source": [
        "Operators with the Entry context\r\n"
      ]
    },
    {
      "cell_type": "code",
      "execution_count": null,
      "metadata": {
        "collapsed": false
      },
      "outputs": [],
      "source": [
        "# Using unlicensed DPF operators is possible\nout = op_entry.eval()\nprint(out)\n\n# While using license ones is blocked, raising an error\ntry:\n    op_premium.eval()\nexcept errors.DPFServerException as e:\n    print(e)"
      ]
    },
    {
      "cell_type": "markdown",
      "metadata": {},
      "source": [
        "Operators with the Premium context\r\n"
      ]
    },
    {
      "cell_type": "code",
      "execution_count": null,
      "metadata": {
        "collapsed": false
      },
      "outputs": [],
      "source": [
        "# Set the default server context as Premium for new servers\ndpf.set_default_server_context(dpf.AvailableServerContexts.premium)\n# or in our case, apply the Premium context to the current server\nserver.apply_context(dpf.AvailableServerContexts.premium)\n\n# Licensed operators can now check a license out and run\nout = op_premium.eval()\nprint(out)"
      ]
    },
    {
      "cell_type": "markdown",
      "metadata": {},
      "source": [
        "When Premium, using a LicenseContextManaged allows you to control your\r\ninteraction with a license It gives direct control over when the license\r\ncheck-out and check-in occur, as well as which license increment is\r\nused, and for what maximum duration.\r\n"
      ]
    },
    {
      "cell_type": "code",
      "execution_count": null,
      "metadata": {
        "collapsed": false
      },
      "outputs": [],
      "source": [
        "# Use the LicenseContextManager to block a specific increment for a limited duration\nwith dpf.LicenseContextManager(increment_name=\"preppost\", license_timeout_in_seconds=1.0) as lic:\n    # Instantiate the licensed operator\n    out = op_premium.eval()\n    print(out)"
      ]
    }
  ],
  "metadata": {
    "kernelspec": {
      "display_name": "Python 3",
      "language": "python",
      "name": "python3"
    },
    "language_info": {
      "codemirror_mode": {
        "name": "ipython",
        "version": 3
      },
      "file_extension": ".py",
      "mimetype": "text/x-python",
      "name": "python",
      "nbconvert_exporter": "python",
      "pygments_lexer": "ipython3",
      "version": "3.9.13"
    }
  },
  "nbformat": 4,
  "nbformat_minor": 0
}