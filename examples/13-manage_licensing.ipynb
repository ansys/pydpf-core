{
  "cells": [
    {
      "cell_type": "markdown",
      "metadata": {},
      "source": [
        "\n\n# Manage the DPF licensing logic using the server context\n\nThis example shows how to manage the licensing logic of a DPF server using a `ServerContext`.\n\nYou can prevent DPF from checking licenses out and blocking increments by using the\n**Entry** context.\n\n<div class=\"alert alert-danger\"><h4>Warning</h4><p>You cannot start a new ``InProcess`` server, as starting an ``InProcess`` server means linking\n    the DPF binaries to your current Python process. If your local ``InProcess`` server is already\n    set to **Premium**, you cannot set it back to **Entry**.\n    Since ``InProcess`` is the default server type, put the commands to set the **Entry** server\n    context at the start of your script.</p></div>\n\n<div class=\"alert alert-info\"><h4>Note</h4><p>This example requires DPF 6.1 (Ansys 2023R2) or above.\n    For more information, see `ref_compatibility`.</p></div>\n"
      ]
    },
    {
      "cell_type": "code",
      "execution_count": null,
      "metadata": {
        "collapsed": false
      },
      "outputs": [],
      "source": [
        "# Import necessary modules\nfrom ansys.dpf import core as dpf\nfrom ansys.dpf.core.core import errors"
      ]
    },
    {
      "cell_type": "markdown",
      "metadata": {},
      "source": [
        "Start a server as Entry to prevent using licensed operators\n\n"
      ]
    },
    {
      "cell_type": "code",
      "execution_count": null,
      "metadata": {
        "collapsed": false
      },
      "outputs": [],
      "source": [
        "server = dpf.start_local_server(\n    context=dpf.AvailableServerContexts.entry,\n    config=dpf.AvailableServerConfigs.GrpcServer,\n    as_global=False,\n)\n# The context is shown as Entry\nprint(server.context)\n\n# A server of type InProcess being linked to the current Python process,\n# if an InProcess server already exists as Premium, you cannot set it back as Entry."
      ]
    },
    {
      "cell_type": "markdown",
      "metadata": {},
      "source": [
        "Create a dummy Field\n\n"
      ]
    },
    {
      "cell_type": "code",
      "execution_count": null,
      "metadata": {
        "collapsed": false
      },
      "outputs": [],
      "source": [
        "field = dpf.Field(server=server)\nfield.append([0.0, 0.0, 0.0], 1)\nprint(field)\n\n# Instantiate an Entry (not licensed) DPF operator\nop_entry = dpf.operators.math.add_constant(field=field, weights=2.0, server=server)\n\n# Instantiate a Premium (licensed) DPF operator\nop_premium = dpf.operators.filter.field_high_pass(field=field, threshold=0.0, server=server)"
      ]
    },
    {
      "cell_type": "markdown",
      "metadata": {},
      "source": [
        "Operators with the Entry context\n\n"
      ]
    },
    {
      "cell_type": "code",
      "execution_count": null,
      "metadata": {
        "collapsed": false
      },
      "outputs": [],
      "source": [
        "# Using unlicensed DPF operators is possible\nout = op_entry.eval()\nprint(out)\n\n# While using license ones is blocked, raising an error\ntry:\n    op_premium.eval()\nexcept errors.DPFServerException as e:\n    print(e)"
      ]
    },
    {
      "cell_type": "markdown",
      "metadata": {},
      "source": [
        "Operators with the Premium context\n\n"
      ]
    },
    {
      "cell_type": "code",
      "execution_count": null,
      "metadata": {
        "collapsed": false
      },
      "outputs": [],
      "source": [
        "# Set the default server context as Premium for new servers\ndpf.set_default_server_context(dpf.AvailableServerContexts.premium)\n# or in our case, apply the Premium context to the current server\nserver.apply_context(dpf.AvailableServerContexts.premium)\n\n# Licensed operators can now check a license out and run\nout = op_premium.eval()\nprint(out)"
      ]
    },
    {
      "cell_type": "markdown",
      "metadata": {},
      "source": [
        "When Premium, using a LicenseContextManaged allows you to control your interaction with a license\nIt gives direct control over when the license check-out and check-in occur, as well as which\nlicense increment is used, and for what maximum duration.\n\n"
      ]
    },
    {
      "cell_type": "code",
      "execution_count": null,
      "metadata": {
        "collapsed": false
      },
      "outputs": [],
      "source": [
        "# Use the LicenseContextManager to block a specific increment for a limited duration\nwith dpf.LicenseContextManager(increment_name=\"preppost\", license_timeout_in_seconds=5.0) as lic:\n    # Instantiate the licensed operator\n    out = op_premium.eval()\n    print(out)"
      ]
    }
  ],
  "metadata": {
    "kernelspec": {
      "display_name": "Python 3",
      "language": "python",
      "name": "python3"
    },
    "language_info": {
      "codemirror_mode": {
        "name": "ipython",
        "version": 3
      },
      "file_extension": ".py",
      "mimetype": "text/x-python",
      "name": "python",
      "nbconvert_exporter": "python",
      "pygments_lexer": "ipython3",
      "version": "3.12.3"
    }
  },
  "nbformat": 4,
  "nbformat_minor": 0
}