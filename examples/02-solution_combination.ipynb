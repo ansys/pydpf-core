{
  "cells": [
    {
      "cell_type": "markdown",
      "metadata": {},
      "source": [
        "\n\n# Load case combination for principal stress\n\nThis example shows how to get a principal stress load case combination using DPF\nAnd highlight min/max values in the plot.\n"
      ]
    },
    {
      "cell_type": "markdown",
      "metadata": {},
      "source": [
        "Import the ``ansys.dpf.core`` module, included examples file, and the ``DpfPlotter``\nmodule.\n\n"
      ]
    },
    {
      "cell_type": "code",
      "execution_count": null,
      "metadata": {
        "collapsed": false
      },
      "outputs": [],
      "source": [
        "from ansys.dpf import core as dpf\nfrom ansys.dpf.core import examples\nfrom ansys.dpf.core.plotter import DpfPlotter"
      ]
    },
    {
      "cell_type": "markdown",
      "metadata": {},
      "source": [
        "Open an example and print the ``Model`` object. The\n:class:`Model <ansys.dpf.core.model.Model>` class helps to organize access\nmethods for the result by keeping track of the operators and data sources\nused by the result file.\n\nPrinting the model displays this metadata:\n\n- Analysis type\n- Available results\n- Size of the mesh\n- Number of results\n\n\n"
      ]
    },
    {
      "cell_type": "code",
      "execution_count": null,
      "metadata": {
        "collapsed": false
      },
      "outputs": [],
      "source": [
        "model = dpf.Model(examples.find_msup_transient())\nprint(model)"
      ]
    },
    {
      "cell_type": "markdown",
      "metadata": {},
      "source": [
        "Get the stress tensor and ``connect`` time scoping.\nMake sure that you define ``dpf.locations.nodal`` as the scoping location because\nlabels are supported only for nodal results.\n\n\n"
      ]
    },
    {
      "cell_type": "code",
      "execution_count": null,
      "metadata": {
        "collapsed": false
      },
      "outputs": [],
      "source": [
        "stress_tensor = model.results.stress()\ntime_scope = dpf.Scoping()\ntime_scope.ids = [1, 2]\nstress_tensor.inputs.time_scoping.connect(time_scope)\nstress_tensor.inputs.requested_location.connect(dpf.locations.nodal)"
      ]
    },
    {
      "cell_type": "markdown",
      "metadata": {},
      "source": [
        "This code performs solution combination on two load cases, LC1 and LC2.\nYou can access individual load cases as the fields of a fields container for\nthe stress tensor.\n\n"
      ]
    },
    {
      "cell_type": "code",
      "execution_count": null,
      "metadata": {
        "collapsed": false
      },
      "outputs": [],
      "source": [
        "field_lc1 = stress_tensor.outputs.fields_container()[0]\nfield_lc2 = stress_tensor.outputs.fields_container()[1]\n\n# Scale LC2 to -1.\nstress_tensor_lc2_sc = dpf.operators.math.scale(field=field_lc2, weights=-1.0)"
      ]
    },
    {
      "cell_type": "markdown",
      "metadata": {},
      "source": [
        "Add load cases.\n\n"
      ]
    },
    {
      "cell_type": "code",
      "execution_count": null,
      "metadata": {
        "collapsed": false
      },
      "outputs": [],
      "source": [
        "stress_tensor_combi = dpf.operators.math.add(fieldA=field_lc1, fieldB=stress_tensor_lc2_sc)"
      ]
    },
    {
      "cell_type": "markdown",
      "metadata": {},
      "source": [
        "Principal stresses are the Eigenvalues of the stress tensor.\nUse principal invariants to get S1, S2, and S3.\n\n\n"
      ]
    },
    {
      "cell_type": "code",
      "execution_count": null,
      "metadata": {
        "collapsed": false
      },
      "outputs": [],
      "source": [
        "p_inv = dpf.operators.invariant.principal_invariants()\np_inv.inputs.field.connect(stress_tensor_combi)"
      ]
    },
    {
      "cell_type": "markdown",
      "metadata": {},
      "source": [
        "Print S1 (maximum principal stress).\n\n\n"
      ]
    },
    {
      "cell_type": "code",
      "execution_count": null,
      "metadata": {
        "collapsed": false
      },
      "outputs": [],
      "source": [
        "print(p_inv.outputs.field_eig_1().data)"
      ]
    },
    {
      "cell_type": "markdown",
      "metadata": {},
      "source": [
        "Get the meshed region.\n\n\n"
      ]
    },
    {
      "cell_type": "code",
      "execution_count": null,
      "metadata": {
        "collapsed": false
      },
      "outputs": [],
      "source": [
        "mesh_set = model.metadata.meshed_region"
      ]
    },
    {
      "cell_type": "markdown",
      "metadata": {},
      "source": [
        "Plot the results on the mesh.\nThe ``label_text_size`` and ``label_point_size`` arguments control the font\nsize of the label.\n\n\n"
      ]
    },
    {
      "cell_type": "code",
      "execution_count": null,
      "metadata": {
        "collapsed": false
      },
      "outputs": [],
      "source": [
        "plot = DpfPlotter()\nplot.add_field(p_inv.outputs.field_eig_1(), meshed_region=mesh_set)\n\n# You can set the camera positions using the ``cpos`` argument.\n# The three tuples in the list for the ``cpos`` argument represent the camera\n# position, focal point, and view respectively.\nplot.show_figure(show_axes=True)"
      ]
    }
  ],
  "metadata": {
    "kernelspec": {
      "display_name": "Python 3",
      "language": "python",
      "name": "python3"
    },
    "language_info": {
      "codemirror_mode": {
        "name": "ipython",
        "version": 3
      },
      "file_extension": ".py",
      "mimetype": "text/x-python",
      "name": "python",
      "nbconvert_exporter": "python",
      "pygments_lexer": "ipython3",
      "version": "3.12.3"
    }
  },
  "nbformat": 4,
  "nbformat_minor": 0
}