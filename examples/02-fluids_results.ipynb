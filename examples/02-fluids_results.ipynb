{
  "cells": [
    {
      "cell_type": "markdown",
      "metadata": {},
      "source": [
        "\n\n# Explore Fluids results\n\n<div class=\"alert alert-info\"><h4>Note</h4><p>This example requires DPF 7.0 (ansys-dpf-server-2024-1-pre0) or above.\n    For more information, see `ref_compatibility`.</p></div>\n"
      ]
    },
    {
      "cell_type": "markdown",
      "metadata": {},
      "source": [
        "# Exploring Ansys Fluent results\nThis example demonstrates how you can explore Ansys Fluent results. Import\nthe result file and explore the available results with the ``ResultInfo`` .\n\n"
      ]
    },
    {
      "cell_type": "code",
      "execution_count": null,
      "metadata": {
        "collapsed": false
      },
      "outputs": [],
      "source": [
        "import ansys.dpf.core as dpf\nfrom ansys.dpf.core import examples\nfrom ansys.dpf.core.plotter import DpfPlotter\n\npaths = examples.download_fluent_multi_phase()\nds = dpf.DataSources()\nds.set_result_file_path(paths[\"cas\"], \"cas\")\nds.add_file_path(paths[\"dat\"], \"dat\")\nstreams = dpf.operators.metadata.streams_provider(data_sources=ds)\nrinfo = dpf.operators.metadata.result_info_provider(streams_container=streams).eval()\nprint(rinfo)"
      ]
    },
    {
      "cell_type": "markdown",
      "metadata": {},
      "source": [
        "## Explore elemental (cell) results\nDynamic viscosity is a result naturally exported to the centroids of the\nelements in this Fluent model. In addition, it is available for zone 1\nbut for all phases. If no region_scoping is connected to the results extraction\noperator, the result is extracted for all cell zones and exported to an\nElemental ``Field``. Elemental results do not bring their ``MeshSupport`` by\ndefault, and thus the mesh input can be employed to connect the MeshedRegion\nand display the result.\n\n"
      ]
    },
    {
      "cell_type": "code",
      "execution_count": null,
      "metadata": {
        "collapsed": false
      },
      "outputs": [],
      "source": [
        "print(rinfo.available_results[5])\nwhole_mesh = dpf.operators.mesh.mesh_provider(streams_container=streams).eval()\nmu = dpf.operators.result.dynamic_viscosity(streams_container=streams, mesh=whole_mesh).eval()\nprint(mu)\nprint(mu[0])\npl = DpfPlotter()\npl.add_field(mu[0])\ncpos = [\n    (-0.17022616684387018, -0.20190398787025482, 0.1948471407823707),\n    (0.00670901800318915, 0.00674082901283412, 0.0125629516499091),\n    (-0.84269816220442720, 0.39520703007216523, -0.3656107367116286),\n]\npl.show_figure(cpos=cpos, show_axes=True)"
      ]
    },
    {
      "cell_type": "markdown",
      "metadata": {},
      "source": [
        "The result extraction can be tailored to a specific subset of cells employing\nthe mesh_scoping pin and connecting an Elemental Scoping. Similarly, a nodal\nScoping can be connected to reconstruct the results to the nodes. The nodal\nreconstruction algorithm is based on Frink's Laplacian method, and is outlined\nin the Technical Report AIAA-94-0061, \"Recent Progress Toward a Three-Dimensional\nUnstructured Navier-Stokes Flow Solver\". In this sense, Elemental and Nodal\nresults can be compared.\n\n"
      ]
    },
    {
      "cell_type": "code",
      "execution_count": null,
      "metadata": {
        "collapsed": false
      },
      "outputs": [],
      "source": [
        "def displace_mesh(original_mesh: dpf.MeshedRegion, disp: list) -> dpf.MeshedRegion:\n    new_mesh = original_mesh.deep_copy()\n    overall_field = dpf.fields_factory.create_3d_vector_field(1, dpf.locations.overall)\n    overall_field.append(disp, 1)\n    coordinates_to_update = new_mesh.nodes.coordinates_field\n    add_operator = dpf.operators.math.add(coordinates_to_update, overall_field)\n    coordinates_updated = add_operator.outputs.field()\n    coordinates_to_update.data = coordinates_updated.data\n    return new_mesh\n\n\nmu_n = dpf.operators.result.dynamic_viscosity(\n    streams_container=streams, mesh_scoping=whole_mesh.nodes.scoping\n).eval()\nprint(mu_n)\nprint(mu_n[0])\npl = DpfPlotter()\npl.add_field(mu[0], mu[0].meshed_region)\nmesh_2 = displace_mesh(mu_n[0].meshed_region, [0.0, 0.0, 0.1])\npl.add_field(mu_n[0], mesh_2)\ncpos = [\n    (-0.0974229481282998, -0.3354131926802486, 0.02364170067607966),\n    (0.0046509680168551, -0.0052570762141029, 0.07279504113027249),\n    (-0.9556918746374846, 0.2942559170175542, 0.00815451114712985),\n]\npl.show_figure(cpos=cpos, show_axes=True, window_size=[1024 * 2, 768 * 2])"
      ]
    },
    {
      "cell_type": "markdown",
      "metadata": {},
      "source": [
        "The result extraction can also be tailored to a specific set of phases, zones and\nspecies employing the qualifiers ellipsis pins and connecting a LabelSpace. Each\npin in the qualifiers ellipsis (1000, 1001, ...) allows you to connect a LabelSpace\nwith the desired IDs in \"zone\", \"phase\" and/or \"species\". In this particular\nexample, only \"phase\" is applicable.\n\n"
      ]
    },
    {
      "cell_type": "code",
      "execution_count": null,
      "metadata": {
        "collapsed": false
      },
      "outputs": [],
      "source": [
        "mu_p2_prov = dpf.operators.result.dynamic_viscosity(streams_container=streams)\nmu_p2_prov.connect(1000, {\"phase\": 2})\nmu_p2 = mu_p2_prov.eval()\nprint(mu_p2)"
      ]
    },
    {
      "cell_type": "markdown",
      "metadata": {},
      "source": [
        "## Explore face results\nMass Flow rate is a result naturally exported to the centroids of the\nfaces in this Fluent model. It is available for several face zones. If no\nregion_scoping is connected to the results extraction operator, the result is\nextracted for all face zones (excluding interior zones), and exported to a\nFaces ``Field``. Face results defined on all face zones bring their\n``MeshSupport`` by default.\n\n"
      ]
    },
    {
      "cell_type": "code",
      "execution_count": null,
      "metadata": {
        "collapsed": false
      },
      "outputs": [],
      "source": [
        "print(rinfo.available_results[4])\nmdot = dpf.operators.result.mass_flow_rate(streams_container=streams).eval()\nprint(mdot)\nprint(mdot[0])\nprint(mdot[0].meshed_region)\npl = DpfPlotter()\npl.add_field(mdot[0], mdot[0].meshed_region)\ncpos = [\n    (0.33174794676955766, -0.0004666003573986906, -0.003683572358464899),\n    (0.00308308291385862, 0.0018660501219530234, 0.002657631405566274),\n    (0.00837023599064669, -0.7165991168396113000, 0.697435047079045400),\n]\npl.show_figure(cpos=cpos, show_axes=True)\npl = DpfPlotter()\npl.add_field(mdot[0], mdot[0].meshed_region)\ncpos = [\n    (-0.22143903910901550, -0.0048827077124325, 0.0037923111967477),\n    (0.00300595909357079, -2.622604370117e-06, 7.033083496094e-06),\n    (-0.02716069471785041, 0.6830445754068439, -0.7298714987377765),\n]\npl.show_figure(cpos=cpos, show_axes=True)"
      ]
    },
    {
      "cell_type": "markdown",
      "metadata": {},
      "source": [
        "As this result is defined for several zones, the region_scoping pin can be used\nto extract a subset of them. We can get for example the mass flow rate for all\ninlets and outlets of the model. Face results defined on individual zones need\nthe connection of the mesh pin to retrieve their right mesh_support. In particular,\nthe connected entity should be a ``MeshesContainer`` labelled on zone. This is the\noutput from the meshes_provider operator, as seen in `ref_fluids_mesh` .\n\n"
      ]
    },
    {
      "cell_type": "code",
      "execution_count": null,
      "metadata": {
        "collapsed": false
      },
      "outputs": [],
      "source": [
        "in_sco = dpf.Scoping(ids=[3], location=dpf.locations.zone)\nin_meshes = dpf.operators.mesh.meshes_provider(\n    streams_container=streams, region_scoping=in_sco\n).eval()\nmdot_in = dpf.operators.result.mass_flow_rate(\n    streams_container=streams, region_scoping=in_sco, mesh=in_meshes\n).eval()\nprint(mdot_in)\n\nout_sco = dpf.Scoping(ids=[4, 5, 6, 7], location=dpf.locations.zone)\nout_meshes = dpf.operators.mesh.meshes_provider(\n    streams_container=streams, region_scoping=out_sco\n).eval()\nmdot_out = dpf.operators.result.mass_flow_rate(\n    streams_container=streams, region_scoping=out_sco, mesh=out_meshes\n).eval()\nprint(mdot_out)\n\npl = DpfPlotter()\npl.add_field(mdot_in[0], mdot_in[0].meshed_region)\npl.add_field(mdot_out[0], mdot_out[0].meshed_region)\npl.add_field(mdot_out[3], mdot_out[3].meshed_region)\npl.add_field(mdot_out[6], mdot_out[6].meshed_region)\npl.add_field(mdot_out[9], mdot_out[9].meshed_region)\npl.show_figure(cpos=cpos, show_axes=True)"
      ]
    },
    {
      "cell_type": "markdown",
      "metadata": {},
      "source": [
        "To filter a particular phase for a certain selection of zones, the qualifiers\npin can be used.\n\n"
      ]
    },
    {
      "cell_type": "code",
      "execution_count": null,
      "metadata": {
        "collapsed": false
      },
      "outputs": [],
      "source": [
        "mdot_out_prov = dpf.operators.result.mass_flow_rate(streams_container=streams, mesh=in_meshes)\nmdot_out_prov.connect(1000, {\"zone\": 4, \"phase\": 2})\nmdot_out_prov.connect(1001, {\"zone\": 5, \"phase\": 2})\nmdot_out_prov.connect(1002, {\"zone\": 6, \"phase\": 2})\nmdot_out_prov.connect(1003, {\"zone\": 7, \"phase\": 2})\nmdot_out_2 = mdot_out_prov.eval()\nprint(mdot_out_2)"
      ]
    },
    {
      "cell_type": "markdown",
      "metadata": {},
      "source": [
        "## Explore ElementalAndFaces results\nElementalAndFaces results are the ones that are exported to both the centroids\nof the elements and the faces. The same extraction possibilities discussed in\nthe previous sections are applicable to these results. For example, Velocity\nis available for several cell and face zones. If no region_scoping is connected\nto the results extraction operator, the result is extracted for all cell zones,\nand exported to an Elemental ``Field`` (thus, the behavior for Elemental results\nis replicated). ElementalAndFaces results do not bring their ``MeshSupport`` by\ndefault, and thus the mesh input can be employed to connect the MeshedRegion\nand display the result.\n\n"
      ]
    },
    {
      "cell_type": "code",
      "execution_count": null,
      "metadata": {
        "collapsed": false
      },
      "outputs": [],
      "source": [
        "print(rinfo.available_results[11])\nv = dpf.operators.result.velocity(streams_container=streams, mesh=whole_mesh).eval()\nprint(v)\nprint(v[0])\npl = DpfPlotter()\npl.add_field(v[0])\ncpos = [\n    (-0.17022616684387018, -0.20190398787025482, 0.1948471407823707),\n    (0.00670901800318915, 0.00674082901283412, 0.0125629516499091),\n    (-0.84269816220442720, 0.39520703007216523, -0.3656107367116286),\n]\npl.show_figure(cpos=cpos, show_axes=True)"
      ]
    },
    {
      "cell_type": "markdown",
      "metadata": {},
      "source": [
        "Building upon the concepts from the previous sections, the several velocity\nFields will be extracted and compared.\n\n"
      ]
    },
    {
      "cell_type": "code",
      "execution_count": null,
      "metadata": {
        "collapsed": false
      },
      "outputs": [],
      "source": [
        "# Velocity field for all cells and phase 1\nv_prov = dpf.operators.result.velocity(streams_container=streams, mesh=whole_mesh)\nv_e_1 = v_prov.eval()[0]\nprint(v_e_1)\n# Velocity field for all nodes and phase 1, reconstructed from Elemental values\nv_prov = dpf.operators.result.velocity(\n    streams_container=streams, mesh_scoping=whole_mesh.nodes.scoping\n)\nv_prov.connect(1000, {\"phase\": 1})\nv_n_1 = v_prov.eval()[0]\nprint(v_n_1)\n# Velocity field for all faces in the wall zone and phase 1\nmesh_9 = dpf.operators.mesh.meshes_provider(streams_container=streams, region_scoping=9).eval()\nv_prov = dpf.operators.result.velocity(streams_container=streams, mesh=mesh_9)\nv_prov.connect(1000, {\"zone\": 9, \"phase\": 1})\nv_f_1 = v_prov.eval()[0]\nprint(v_f_1)\n# Velocity field for all nodes in the wall zone, reconstructed from Faces values\nnodes_9 = dpf.ScopingsContainer()\nnodes_9.labels = [\"zone\"]\nnodes_9.add_scoping({\"zone\": 9}, mesh_9[0].nodes.scoping)\nv_prov = dpf.operators.result.velocity(streams_container=streams, mesh=mesh_9, mesh_scoping=nodes_9)\nv_prov.connect(1000, {\"zone\": 9, \"phase\": 1})\nv_fn_1 = v_prov.eval()[0]\nprint(v_fn_1)\n\npl = DpfPlotter()\npl.add_field(v_e_1, v_e_1.meshed_region)\npl.add_field(v_n_1, displace_mesh(v_n_1.meshed_region, [0.0, 0.1, 0.1]))\npl.add_field(v_f_1, displace_mesh(v_f_1.meshed_region, [0.14, 0.0, 0.0]))\npl.add_field(v_fn_1, displace_mesh(v_fn_1.meshed_region, [0.14, 0.1, 0.1]))\ncpos = [\n    (-0.21475742417583732, -0.34217954990512434, 0.37813091968727935),\n    (0.07300595909357072, 0.049997377395629886, 0.0500070333480835),\n    (-0.871295572277007, 0.36296433899936376, -0.3303042753965463),\n]\npl.show_figure(cpos=cpos, show_axes=True, window_size=[1024 * 2, 768 * 2])"
      ]
    },
    {
      "cell_type": "markdown",
      "metadata": {},
      "source": [
        "As observed, the reconstructed velocities at the nodes are different when cell\ncentroidal and face centroidal values were used to average them.\n\n"
      ]
    }
  ],
  "metadata": {
    "kernelspec": {
      "display_name": "Python 3",
      "language": "python",
      "name": "python3"
    },
    "language_info": {
      "codemirror_mode": {
        "name": "ipython",
        "version": 3
      },
      "file_extension": ".py",
      "mimetype": "text/x-python",
      "name": "python",
      "nbconvert_exporter": "python",
      "pygments_lexer": "ipython3",
      "version": "3.12.3"
    }
  },
  "nbformat": 4,
  "nbformat_minor": 0
}