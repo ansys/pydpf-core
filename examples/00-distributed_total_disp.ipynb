{
  "cells": [
    {
      "cell_type": "markdown",
      "metadata": {},
      "source": [
        "\n\n# Postprocessing of displacement on distributed processes\n\nThis diagram helps you to understand this example. It shows\nthe operator chain that is used to compute the final result.\n\n.. graphviz::\n\n    digraph foo {\n        graph [pad=\"0\", nodesep=\"0.3\", ranksep=\"0.3\"]\n        node [shape=box, style=filled, fillcolor=\"#ffcc00\", margin=\"0\"];\n        rankdir=LR;\n        splines=line;\n\n        disp01 [label=\"displacement\"];\n        disp02 [label=\"displacement\"];\n        norm01 [label=\"norm\"];\n        norm02 [label=\"norm\"];\n\n        subgraph cluster_1 {\n            ds01 [label=\"data_src\", shape=box, style=filled, fillcolor=cadetblue2];\n\n            ds01 -> disp01 [style=dashed];\n            disp01 -> norm01;\n\n            label=\"Server 1\";\n            style=filled;\n            fillcolor=lightgrey;\n        }\n\n        subgraph cluster_2 {\n            ds02 [label=\"data_src\", shape=box, style=filled, fillcolor=cadetblue2];\n\n            ds02 -> disp02 [style=dashed];\n            disp02 -> norm02;\n\n            label=\"Server 2\";\n            style=filled;\n            fillcolor=lightgrey;\n        }\n\n        norm01 -> \"merge\";\n        norm02 -> \"merge\";\n    }\n"
      ]
    },
    {
      "cell_type": "markdown",
      "metadata": {},
      "source": [
        "Import the ``dpf-core`` module and its examples files.\n\n"
      ]
    },
    {
      "cell_type": "code",
      "execution_count": null,
      "metadata": {
        "collapsed": false
      },
      "outputs": [],
      "source": [
        "import os\n\nfrom ansys.dpf import core as dpf\nfrom ansys.dpf.core import examples, operators as ops"
      ]
    },
    {
      "cell_type": "markdown",
      "metadata": {},
      "source": [
        "Configure the servers.\nMake a list of IP addresses and port numbers that DPF servers start and\nlisten on. Operator instances are created on each of these servers so that\neach can address a different result file.\n\nThis example postprocesses an analysis distributed in two files.\nConsequently, it requires two remote processes.\n\nTo make it easier, this example starts local servers. However, you can\nconnect to any existing servers on your network.\n\n"
      ]
    },
    {
      "cell_type": "code",
      "execution_count": null,
      "metadata": {
        "collapsed": false
      },
      "outputs": [],
      "source": [
        "config = dpf.AvailableServerConfigs.InProcessServer\nif \"DPF_DOCKER\" in os.environ.keys():\n    # If running DPF on Docker, you cannot start an InProcessServer\n    config = dpf.AvailableServerConfigs.GrpcServer\nglobal_server = dpf.start_local_server(as_global=True, config=config)\n\nremote_servers = [\n    dpf.start_local_server(as_global=False, config=dpf.AvailableServerConfigs.GrpcServer),\n    dpf.start_local_server(as_global=False, config=dpf.AvailableServerConfigs.GrpcServer),\n]\nips = [remote_server.ip for remote_server in remote_servers]\nports = [remote_server.port for remote_server in remote_servers]"
      ]
    },
    {
      "cell_type": "markdown",
      "metadata": {},
      "source": [
        "Print the IP addresses and ports.\n\n"
      ]
    },
    {
      "cell_type": "code",
      "execution_count": null,
      "metadata": {
        "collapsed": false
      },
      "outputs": [],
      "source": [
        "print(\"ips:\", ips)\nprint(\"ports:\", ports)"
      ]
    },
    {
      "cell_type": "markdown",
      "metadata": {},
      "source": [
        "Send files to the temporary directory if they are not in shared memory.\n\n"
      ]
    },
    {
      "cell_type": "code",
      "execution_count": null,
      "metadata": {
        "collapsed": false
      },
      "outputs": [],
      "source": [
        "files = examples.download_distributed_files(return_local_path=True)\nserver_file_paths = [\n    dpf.upload_file_in_tmp_folder(files[0], server=remote_servers[0]),\n    dpf.upload_file_in_tmp_folder(files[1], server=remote_servers[1]),\n]"
      ]
    },
    {
      "cell_type": "markdown",
      "metadata": {},
      "source": [
        "# Create operators on each server\nOn each server, create two operators, one for displacement computations\nand one for norm computations. Define their data sources:\n\n"
      ]
    },
    {
      "cell_type": "code",
      "execution_count": null,
      "metadata": {
        "collapsed": false
      },
      "outputs": [],
      "source": [
        "# - The displacement operator receives data from the data file in its respective\n#   server.\n# - The norm operator, which is chained to the displacement operator, receives\n#   input from the output of the displacement operator.\n#\nremote_operators = []\nfor i, server in enumerate(remote_servers):\n    displacement = ops.result.displacement(server=server)\n    norm = ops.math.norm_fc(displacement, server=server)\n    remote_operators.append(norm)\n    ds = dpf.DataSources(server_file_paths[i], server=server)\n    displacement.inputs.data_sources(ds)"
      ]
    },
    {
      "cell_type": "markdown",
      "metadata": {},
      "source": [
        "# Create an operator to merge results\nCreate the ``merge_fields_containers`` operator to merge the results.\n\n"
      ]
    },
    {
      "cell_type": "code",
      "execution_count": null,
      "metadata": {
        "collapsed": false
      },
      "outputs": [],
      "source": [
        "merge = ops.utility.merge_fields_containers()"
      ]
    },
    {
      "cell_type": "markdown",
      "metadata": {},
      "source": [
        "# Connect the operators together and get the output\n\n"
      ]
    },
    {
      "cell_type": "code",
      "execution_count": null,
      "metadata": {
        "collapsed": false
      },
      "outputs": [],
      "source": [
        "for i, server in enumerate(remote_servers):\n    merge.connect(i, remote_operators[i], 0)\n\nfc = merge.get_output(0, dpf.types.fields_container)\nprint(fc)\nprint(fc[0].min().data)\nprint(fc[0].max().data)"
      ]
    }
  ],
  "metadata": {
    "kernelspec": {
      "display_name": "Python 3",
      "language": "python",
      "name": "python3"
    },
    "language_info": {
      "codemirror_mode": {
        "name": "ipython",
        "version": 3
      },
      "file_extension": ".py",
      "mimetype": "text/x-python",
      "name": "python",
      "nbconvert_exporter": "python",
      "pygments_lexer": "ipython3",
      "version": "3.12.3"
    }
  },
  "nbformat": 4,
  "nbformat_minor": 0
}