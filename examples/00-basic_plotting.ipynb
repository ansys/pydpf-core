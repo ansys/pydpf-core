{
  "cells": [
    {
      "cell_type": "markdown",
      "metadata": {},
      "source": [
        "# Review of available plotting commands {#basic_plotting}\r\n\r\nThis example lists the different plotting commands available, shown with\r\nthe arguments available.\r\n"
      ]
    },
    {
      "cell_type": "code",
      "execution_count": null,
      "metadata": {
        "collapsed": false
      },
      "outputs": [],
      "source": [
        "from ansys.dpf import core as dpf\nfrom ansys.dpf.core import examples\n\n\n# Plot the bare mesh of a model\nmodel = dpf.Model(examples.find_multishells_rst())\nmodel.plot(color=\"w\", show_edges=True, title=\"Model\", text=\"Model plot\")\n# # Additional PyVista kwargs are supported, such as:\nmodel.plot(\n    off_screen=True,\n    notebook=False,\n    screenshot=\"model_plot.png\",\n    title=\"Model\",\n    text=\"Model plot off\",\n    parallel_projection=True,\n)\n\n# Notes:\n# - To make screenshots, use \"screenshot\" as well as \"notebook=False\" if on a Jupyter notebook.\n# - The \"off_screen\" keyword only works when \"notebook=False\" to prevent the GUI from appearing.\n\n\n# Plot a field on its supporting mesh (field location must be Elemental or Nodal)\nstress = model.results.stress()\nstress.inputs.requested_location.connect(dpf.locations.nodal)\nfc = stress.outputs.fields_container()\nfield = fc[0]\nfield.plot(notebook=False, shell_layers=None, show_axes=True, title=\"Field\", text=\"Field plot\")\n# # Additional PyVista kwargs are supported, such as:\nfield.plot(\n    off_screen=True,\n    notebook=False,\n    screenshot=\"field_plot.png\",\n    title=\"Field\",\n    text=\"Field plot off\",\n)\n#\n# # Alternatively one can plot the MeshedRegion associated to the model\nmesh = model.metadata.meshed_region\nmesh.plot(\n    field_or_fields_container=None,\n    shell_layers=None,\n    show_axes=True,\n    title=\"Mesh fc None\",\n    text=\"Mesh plot\",\n)\n# Additional PyVista kwargs are supported, such as:\nmesh.plot(\n    off_screen=True,\n    notebook=False,\n    screenshot=\"mesh_plot.png\",\n    title=\"Mesh\",\n    text=\"Mesh plot off\",\n)\n# A fields_container or a specific field can be given to plot on the mesh.\nmesh.plot(\n    field_or_fields_container=fc,\n    title=\"Mesh with fields container\",\n    text=\"Mesh fc plot\",\n)\nmesh.plot(field_or_fields_container=field, title=\"Mesh with field\", text=\"Mesh field plot\")\n\n\n# ##############################################################################################\n# # This next section requires a Premium context to be active du to the ``split_mesh`` operator.\n# # Comment this last part to run the example as Entry.\n\n# One can also plot a MeshesContainer. Here our mesh is split by material.\nsplit_mesh_op = dpf.Operator(\"split_mesh\")\nsplit_mesh_op.connect(7, mesh)\nsplit_mesh_op.connect(13, \"mat\")\nmeshes_cont = split_mesh_op.get_output(0, dpf.types.meshes_container)\nmeshes_cont.plot(title=\"Meshes Container\", text=\"Meshes Container plot\")\n# A fields_container can be given as input, with results on each part of our split mesh.\ndisp_op = dpf.Operator(\"U\")\ndisp_op.connect(7, meshes_cont)\nds = dpf.DataSources(examples.find_multishells_rst())\ndisp_op.connect(4, ds)\ndisp_fc = disp_op.outputs.fields_container()\nmeshes_cont.plot(disp_fc, title=\"Meshes Container disp_fc\", text=\"Meshes Container disp_fc plot\")\n# Additional PyVista kwargs are supported, such as:\nmeshes_cont.plot(\n    off_screen=True,\n    notebook=False,\n    screenshot=\"meshes_cont_plot.png\",\n    title=\"Meshes Container\",\n    text=\"Meshes Container plot\",\n)"
      ]
    }
  ],
  "metadata": {
    "kernelspec": {
      "display_name": "Python 3",
      "language": "python",
      "name": "python3"
    },
    "language_info": {
      "codemirror_mode": {
        "name": "ipython",
        "version": 3
      },
      "file_extension": ".py",
      "mimetype": "text/x-python",
      "name": "python",
      "nbconvert_exporter": "python",
      "pygments_lexer": "ipython3",
      "version": "3.10.11"
    }
  },
  "nbformat": 4,
  "nbformat_minor": 0
}