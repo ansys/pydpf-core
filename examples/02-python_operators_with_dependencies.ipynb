{
  "cells": [
    {
      "cell_type": "markdown",
      "metadata": {},
      "source": [
        "# Create a plug-in package that has third-party dependencies {#ref_python_operators_with_deps}\r\n\r\nThis example shows how to create a Python plug-in package with\r\nthird-party dependencies. You should be familiar with these examples\r\nbefore proceeding with this more advanced one:\r\n\r\n-   `ref_wrapping_numpy_capabilities`{.interpreted-text role=\"ref\"}\r\n-   `ref_python_plugin_package`{.interpreted-text role=\"ref\"}\r\n\r\nThis plug-in contains an operator whose implementation depends on a\r\nthird-party Python module named [gltf](https://pypi.org/project/gltf/).\r\nThis operator takes a path, a mesh, and a 3D vector field as inputs and\r\nthen exports the mesh and the norm of the 3D vector field to a GLTF file\r\nat the given path.\r\n\r\n:::: note\r\n::: title\r\nNote\r\n:::\r\n\r\nThis example requires DPF 4.0 (Ansys 2022R2) or above. For more\r\ninformation, see `ref_compatibility`{.interpreted-text role=\"ref\"}.\r\n::::\r\n"
      ]
    },
    {
      "cell_type": "markdown",
      "metadata": {},
      "source": [
        "# Create the plug-in package\r\n\r\nEach operator implementation derives from the\r\n`ansys.dpf.core.custom_operator.CustomOperatorBase`{.interpreted-text\r\nrole=\"class\"} class and a call to the\r\n`ansys.dpf.core.custom_operator.record_operator`{.interpreted-text\r\nrole=\"py:func\"} method, which records the operators of the plug-in\r\npackage.\r\n\r\nDownload the `gltf_plugin` plug-in package that has already been created\r\nfor you.\r\n"
      ]
    },
    {
      "cell_type": "code",
      "execution_count": null,
      "metadata": {
        "collapsed": false
      },
      "outputs": [],
      "source": [
        "import os\nfrom pathlib import Path\n\nfrom ansys.dpf.core import examples\n\nplugin_path = Path(examples.download_gltf_plugin())\nfolder_root = Path(str(Path.cwd()).rsplit(\"pydpf-core\", 1)[0]) / \"pydpf-core\""
      ]
    },
    {
      "cell_type": "markdown",
      "metadata": {},
      "source": [
        "To add third-party modules as dependencies to a plug-in package, you\r\nmust create and reference a folder or ZIP file with the sites of the\r\ndependencies in an XML file located next to the folder for the plug-in\r\npackage. The XML file must have the same name as the plug-in package\r\nplus an `.xml` extension.\r\n\r\nWhen the `ansys.dpf.core.core.load_library`{.interpreted-text\r\nrole=\"py:func\"} method is called, DPF-Core uses the `site` Python module\r\nto add custom to the path for the Python interpreter.\r\n\r\nTo create these custom sites, requirements of the plug-in package should\r\nbe installed in a Python virtual environment, the site-packages (with\r\nunnecessary folders removed) should be compressed to a ZIP file and\r\nplaced with the plugin. The path to this ZIP file should be referenced\r\nin the XML as shown in the preceding code.\r\n\r\nTo simplify this step, you can add a requirements file in the plug-in\r\npackage:\r\n"
      ]
    },
    {
      "cell_type": "code",
      "execution_count": null,
      "metadata": {
        "collapsed": false
      },
      "outputs": [],
      "source": [
        "print(\"\\033[1m gltf_plugin/requirements.txt: \\n \\033[0m\")\nrequirements_path = plugin_path / \"requirements.txt\"\nwith requirements_path.open(\"r\") as file:\n    for line in file.readlines():\n        print(\"\\t\\t\\t\" + line)"
      ]
    },
    {
      "cell_type": "markdown",
      "metadata": {},
      "source": [
        "Download the script for your operating system.\r\n\r\n-   For Windows, download this\r\n    `PowerShell script </user_guide/create_sites_for_python_operators.ps1>`{.interpreted-text\r\n    role=\"download\"}.\r\n-   For Linux, download this\r\n    `Shell script </user_guide/create_sites_for_python_operators.sh>`{.interpreted-text\r\n    role=\"download\"}.\r\n\r\nRun the downloaded script with the mandatory arguments:\r\n\r\n-   `-pluginpath`: Path to the folder with the plug-in package.\r\n-   `-zippath`: Path and name for the ZIP file.\r\n\r\nOptional arguments are:\r\n\r\n-   `-pythonexe`: Path to a Python executable of your choice.\r\n-   `-tempfolder`: Path to a temporary folder to work in. The default is\r\n    the environment variable `TEMP` on Windows and `/tmp/` on Linux.\r\n\r\nRun the command for your operating system.\r\n\r\n-   From Windows PowerShell, run:\r\n\r\n        create_sites_for_python_operators.ps1 -pluginpath /path/to/plugin -zippath /path/to/plugin/assets/winx64.zip # noqa: E501\r\n\r\n-   From Linux Shell, run:\r\n\r\n        create_sites_for_python_operators.sh -pluginpath /path/to/plugin -zippath /path/to/plugin/assets/linx64.zip # noqa: E501\r\n"
      ]
    },
    {
      "cell_type": "code",
      "execution_count": null,
      "metadata": {
        "collapsed": false
      },
      "outputs": [],
      "source": [
        "site_path = plugin_path / \"assets\" / \"gltf_sites_winx64.zip\"\nif os.name == \"nt\" and not site_path.exists():\n    cmd_file = (\n        folder_root / \"doc\" / \"source\" / \"user_guide\" / \"create_sites_for_python_operators.ps1\"\n    )\n    args = [\n        \"powershell\",\n        str(cmd_file),\n        \"-pluginpath\",\n        str(plugin_path),\n        \"-zippath\",\n        str(plugin_path / \"assets\" / \"gltf_sites_winx64.zip\"),\n    ]\n    print(args)\n\n    import subprocess\n\n    process = subprocess.run(args, stdout=subprocess.PIPE, stderr=subprocess.PIPE)\n    if process.stderr:\n        raise RuntimeError(\n            \"Installing pygltf in a virtual environment failed with error:\\n\"\n            + f\"return code = {process.returncode}\\n\"\n            + process.stderr.decode()\n            + \"\\n\\n and log:\\n\"\n            + process.stdout.decode()\n        )\n    else:\n        print(\"Installing pygltf in a virtual environment succeeded\")\n\nelif os.name == \"posix\" and not site_path.exists():\n    cmd_file = (\n        folder_root / \"doc\" / \"source\" / \"user_guide\" / \"create_sites_for_python_operators.sh\"\n    )\n    run_cmd = f\"{cmd_file}\"\n    args = (\n        f' -pluginpath \"{plugin_path}\" '\n        f'-zippath \"{plugin_path / \"assets\" / \"gltf_sites_winx64.zip\"}\"'\n    )\n    print(run_cmd + args)\n    os.system(f\"chmod u=rwx,o=x {cmd_file}\")\n    os.system(run_cmd + args)\n    print(\"\\nInstalling pygltf in a virtual environment succeeded\")"
      ]
    },
    {
      "cell_type": "markdown",
      "metadata": {},
      "source": [
        "# Load the plug-in package\r\n\r\nYou use the function\r\n`ansys.dpf.core.core.load_library`{.interpreted-text role=\"py:func\"} to\r\nload the plug-in package.\r\n\r\n-   The first argument is the path to the directory where the plug-in\r\n    package is located.\r\n-   The second argument is `py_<package>`, where `<package>` is the name\r\n    identifying the plug-in package.\r\n-   The third argument is the name of the function exposed in the\r\n    `__init__` file for the plug-in package that is used to record\r\n    operators.\r\n"
      ]
    },
    {
      "cell_type": "code",
      "execution_count": null,
      "metadata": {
        "collapsed": false
      },
      "outputs": [],
      "source": [
        "from ansys.dpf import core as dpf\nfrom ansys.dpf.core import examples\n\n# Python plugins are not supported in process.\ndpf.start_local_server(config=dpf.AvailableServerConfigs.GrpcServer)\n\ntmp = Path(dpf.make_tmp_dir_server())\ndpf.upload_files_in_folder(dpf.path_utilities.join(str(tmp), \"plugins\", \"gltf_plugin\"), plugin_path)\ndpf.upload_file(\n    str(plugin_path) + \".xml\", dpf.path_utilities.join(str(tmp), \"plugins\", \"gltf_plugin.xml\")\n)\n\ndpf.load_library(\n    dpf.path_utilities.join(str(tmp), \"plugins\", \"gltf_plugin\"),\n    \"py_dpf_gltf\",\n    \"load_operators\",\n)"
      ]
    },
    {
      "cell_type": "markdown",
      "metadata": {},
      "source": [
        "Instantiate the operator.\r\n"
      ]
    },
    {
      "cell_type": "code",
      "execution_count": null,
      "metadata": {
        "collapsed": false
      },
      "outputs": [],
      "source": [
        "new_operator = dpf.Operator(\"gltf_export\")"
      ]
    },
    {
      "cell_type": "markdown",
      "metadata": {},
      "source": [
        "This new `gltf_export` operator requires the following as inputs: a\r\ntriangle surface mesh, a displacement field on this surface mesh, and a\r\npath to export the GLTF file to.\r\n\r\nTo demonstrate this new operator, a\r\n`ansys.dpf.core.model.Model`{.interpreted-text role=\"class\"} class is\r\ncreated on a simple file and the\r\n`ansys.dpf.core.operators.mesh.tri_mesh_skin`{.interpreted-text\r\nrole=\"class\"} operator is used to extract the surface of the mesh in\r\ntriangle elements.\r\n"
      ]
    },
    {
      "cell_type": "markdown",
      "metadata": {},
      "source": [
        "::: graphviz\r\n\r\ndigraph workflow {\r\n\r\n:   graph \\[pad=\\\"0.5\\\", nodesep=\\\"0.3\\\", ranksep=\\\"0.3\\\"\\] node\r\n    \\[shape=box, style=filled, fillcolor=\\\"#ffcc00\\\", margin=\\\"0\\\"\\];\r\n    rankdir=LR; splines=line; ds \\[label=\\\"data_sources\\\", shape=box,\r\n    style=filled, fillcolor=cadetblue2\\]; ds -\\> mesh_provider\r\n    \\[style=dashed\\]; mesh_provider -\\> skin_mesh \\[splines=ortho\\]; ds\r\n    -\\> displacement \\[style=dashed\\]; skin_mesh -\\> displacement\r\n    \\[splines=ortho\\]; skin_mesh -\\> gltf_export \\[splines=ortho\\];\r\n    displacement -\\> gltf_export \\[splines=ortho\\];\r\n\r\n}\r\n:::\r\n"
      ]
    },
    {
      "cell_type": "markdown",
      "metadata": {},
      "source": [
        "# Use the custom operator\r\n"
      ]
    },
    {
      "cell_type": "code",
      "execution_count": null,
      "metadata": {
        "collapsed": false
      },
      "outputs": [],
      "source": [
        "model = dpf.Model(dpf.upload_file_in_tmp_folder(examples.find_static_rst()))\n\nmesh = model.metadata.meshed_region\nskin_mesh = dpf.operators.mesh.tri_mesh_skin(mesh=mesh)\n\ndisplacement = model.results.displacement()\ndisplacement.inputs.mesh_scoping(skin_mesh)\ndisplacement.inputs.mesh(skin_mesh)\nnew_operator.inputs.path(str(tmp / \"out\"))\nnew_operator.inputs.mesh(skin_mesh)\nnew_operator.inputs.field(displacement.outputs.fields_container()[0])\nnew_operator.run()\n\nprint(\"operator ran successfully\")\n\ndpf.download_file(tmp / \"out.glb\", Path.cwd() / \"out.glb\")"
      ]
    },
    {
      "cell_type": "markdown",
      "metadata": {},
      "source": [
        "You can download `output <images/thumb/out.glb>`{.interpreted-text\r\nrole=\"download\"} from the `gltf` operator.\r\n"
      ]
    }
  ],
  "metadata": {
    "kernelspec": {
      "display_name": "Python 3",
      "language": "python",
      "name": "python3"
    },
    "language_info": {
      "codemirror_mode": {
        "name": "ipython",
        "version": 3
      },
      "file_extension": ".py",
      "mimetype": "text/x-python",
      "name": "python",
      "nbconvert_exporter": "python",
      "pygments_lexer": "ipython3",
      "version": "3.10.11"
    }
  },
  "nbformat": 4,
  "nbformat_minor": 0
}