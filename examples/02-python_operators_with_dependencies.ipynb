{
  "cells": [
    {
      "cell_type": "markdown",
      "metadata": {},
      "source": [
        "\n\n# Create a plug-in package that has third-party dependencies\n\nThis example shows how to create a Python plug-in package with\nthird-party dependencies. You should be familiar with these\nexamples before proceeding with this more advanced one:\n\n- `ref_wrapping_numpy_capabilities`\n- `ref_python_plugin_package`\n\nThis plug-in contains an operator whose implementation depends on a\nthird-party Python module named [gltf](https://pypi.org/project/gltf/).\nThis operator takes a path, a mesh, and a 3D vector field as inputs\nand then exports the mesh and the norm of the 3D vector field to a GLTF\nfile at the given path.\n\n<div class=\"alert alert-info\"><h4>Note</h4><p>This example requires DPF 6.0 (DPF 2023 R2) or above.\n    For more information, see `ref_compatibility`.</p></div>\n"
      ]
    },
    {
      "cell_type": "markdown",
      "metadata": {},
      "source": [
        "## Create the plug-in package\nEach operator implementation derives from the\n:class:`ansys.dpf.core.custom_operator.CustomOperatorBase` class\nand a call to the :py:func:`ansys.dpf.core.custom_operator.record_operator`\nmethod, which records the operators of the plug-in package.\n\nDownload the ``gltf_plugin`` plug-in package that has already been\ncreated for you.\n\n"
      ]
    },
    {
      "cell_type": "code",
      "execution_count": null,
      "metadata": {
        "collapsed": false
      },
      "outputs": [],
      "source": [
        "from pathlib import Path\n\nprint(\"\\033[1m gltf_plugin\")\nfile_list = [\n    \"gltf_plugin/__init__.py\",\n    \"gltf_plugin/operators.py\",\n    \"gltf_plugin/operators_loader.py\",\n    \"gltf_plugin/requirements.txt\",\n    \"gltf_plugin/gltf_export.py\",\n    \"gltf_plugin/texture.png\",\n    \"gltf_plugin.xml\",\n]\n\nfolder_root = Path(str(Path.cwd()).rsplit(\"pydpf-core\", 1)[0]) / \"pydpf-core\"\nsource_path_in_repo = r\"doc\\source\\examples\\07-python-operators\\plugins\"\noperator_folder = Path(folder_root) / Path(source_path_in_repo)\nprint(operator_folder)\nplugin_path = None\n\nfor file in file_list:\n    operator_file_path = Path(operator_folder) / Path(file)\n\n    print(f\"\\033[1m {file}\\n \\033[0m\")\n    if (Path(file).suffix in [\".py\", \".xml\"]) and file != \"gltf_plugin/gltf_export.py\":\n        with Path(operator_file_path).open(mode=\"r\") as f:\n            for line in f.readlines():\n                print(\"\\t\\t\\t\" + line)\n        print(\"\\n\\n\")\n        if plugin_path is None:\n            plugin_path = Path(operator_file_path).parent"
      ]
    },
    {
      "cell_type": "markdown",
      "metadata": {},
      "source": [
        "To add third-party modules as dependencies to a plug-in package, you must\ncreate and reference a folder or ZIP file with the sites of the dependencies\nin an XML file located next to the folder for the plug-in package. The XML\nfile must have the same name as the plug-in package plus an ``.xml`` extension.\n\nWhen the :py:func:`ansys.dpf.core.core.load_library` method is called,\nDPF-Core uses the ``site`` Python module to add custom to the path\nfor the Python interpreter.\n\nTo create these custom sites, requirements of the plug-in package should be\ninstalled in a Python virtual environment, the site-packages\n(with unnecessary folders removed) should be compressed to a ZIP file and\nplaced with the plugin. The path to this ZIP file should be referenced in\nthe XML as shown in the preceding code.\n\nTo simplify this step, you can add a requirements file in the plug-in package:\n\n\n"
      ]
    },
    {
      "cell_type": "code",
      "execution_count": null,
      "metadata": {
        "collapsed": false
      },
      "outputs": [],
      "source": [
        "print(\"\\033[1m gltf_plugin/requirements.txt: \\n \\033[0m\")\nwith (Path(plugin_path) / \"requirements.txt\").open(mode=\"r\") as f:\n    for line in f.readlines():\n        print(\"\\t\\t\\t\" + line)"
      ]
    },
    {
      "cell_type": "markdown",
      "metadata": {},
      "source": [
        "Download the script for your operating system.\n\n- For Windows, download this\n  :download:`PowerShell script </user_guide/tutorials/custom_operators_and_plugins/create_sites_for_python_operators.ps1>`.\n- For Linux, download this\n  :download:`Shell script </user_guide/tutorials/custom_operators_and_plugins/create_sites_for_python_operators.sh>`.\n\nRun the downloaded script with the mandatory arguments:\n\n- ``-pluginpath``: Path to the folder with the plug-in package.\n- ``-zippath``: Path and name for the ZIP file.\n\nOptional arguments are:\n\n- ``-pythonexe``: Path to a Python executable of your choice.\n- ``-tempfolder``: Path to a temporary folder to work in. The default is the environment variable\n  ``TEMP`` on Windows and ``/tmp/`` on Linux.\n\nRun the command for your operating system.\n\n- From Windows PowerShell, run::\n\n    create_sites_for_python_operators.ps1 -pluginpath /path/to/plugin -zippath /path/to/plugin/assets/winx64.zip # noqa: E501\n\n- From Linux Shell, run::\n\n   create_sites_for_python_operators.sh -pluginpath /path/to/plugin -zippath /path/to/plugin/assets/linx64.zip # noqa: E501\n\n"
      ]
    },
    {
      "cell_type": "code",
      "execution_count": null,
      "metadata": {
        "collapsed": false
      },
      "outputs": [],
      "source": [
        "import os\n\nif os.name == \"nt\" and not (Path(plugin_path) / \"assets\" / \"gltf_sites_winx64.zip\").exists():\n    cmd_file = (\n        Path(folder_root)\n        / \"doc\"\n        / \"source\"\n        / \"user_guide\"\n        / \"tutorials\"\n        / \"custom_operators_and_plugins\"\n        / \"create_sites_for_python_operators.ps1\"\n    )\n    args = [\n        \"powershell\",\n        cmd_file,\n        \"-pluginpath\",\n        plugin_path,\n        \"-zippath\",\n        Path(plugin_path) / \"assets\" / \"gltf_sites_winx64.zip\",\n    ]\n    print(args)\n    import subprocess\n\n    process = subprocess.run(args, stdout=subprocess.PIPE, stderr=subprocess.PIPE)\n    if process.stderr:\n        raise RuntimeError(\n            \"Installing pygltf in a virtual environment failed with error:\\n\"\n            + f\"return code = {process.returncode}\\n\"\n            + process.stderr.decode()\n            + \"\\n\\n and log:\\n\"\n            + process.stdout.decode()\n        )\n    else:\n        print(\"Installing pygltf in a virtual environment succeeded\")\nelif os.name == \"posix\" and not (Path(plugin_path) / \"assets\" / \"gltf_sites_linx64.zip\").exists():\n    cmd_file = (\n        Path(folder_root)\n        / \"doc\"\n        / \"source\"\n        / \"user_guide\"\n        / \"tutorials\"\n        / \"custom_operators_and_plugins\"\n        / \"create_sites_for_python_operators.sh\"\n    )\n    run_cmd = f\"{cmd_file}\"\n    args = (\n        f' -pluginpath \"{plugin_path}\" '\n        f\"-zippath \\\"{Path(plugin_path)/'assets'/'gltf_sites_linx64.zip'}\\\"\"\n    )\n    print(run_cmd + args)\n    os.system(f\"chmod u=rwx,o=x {cmd_file}\")\n    os.system(run_cmd + args)\n    print(\"\\nInstalling pygltf in a virtual environment succeeded\")"
      ]
    },
    {
      "cell_type": "markdown",
      "metadata": {},
      "source": [
        "## Load the plug-in package\nYou use the function :py:func:`ansys.dpf.core.core.load_library` to load the\nplug-in package.\n\n- The first argument is the path to the directory where the plug-in package\n  is located.\n- The second argument is ``py_<package>``, where ``<package>`` is the name\n  identifying the plug-in package.\n- The third argument is the name of the function exposed in the ``__init__`` file\n  for the plug-in package that is used to record operators.\n\n"
      ]
    },
    {
      "cell_type": "code",
      "execution_count": null,
      "metadata": {
        "collapsed": false
      },
      "outputs": [],
      "source": [
        "from ansys.dpf import core as dpf\nfrom ansys.dpf.core import examples\n\n# Python plugins are not supported in process.\ndpf.start_local_server(config=dpf.AvailableServerConfigs.GrpcServer)\n\ntmp = dpf.make_tmp_dir_server()\ndpf.upload_files_in_folder(dpf.path_utilities.join(tmp, \"plugins\", \"gltf_plugin\"), plugin_path)\ndpf.upload_file(\n    str(plugin_path) + \".xml\", dpf.path_utilities.join(tmp, \"plugins\", \"gltf_plugin.xml\")\n)\n\ndpf.load_library(\n    dpf.path_utilities.join(tmp, \"plugins\", \"gltf_plugin\"),\n    \"py_dpf_gltf\",\n    \"load_operators\",\n)"
      ]
    },
    {
      "cell_type": "markdown",
      "metadata": {},
      "source": [
        "Instantiate the operator.\n\n"
      ]
    },
    {
      "cell_type": "code",
      "execution_count": null,
      "metadata": {
        "collapsed": false
      },
      "outputs": [],
      "source": [
        "new_operator = dpf.Operator(\"gltf_export\")"
      ]
    },
    {
      "cell_type": "markdown",
      "metadata": {},
      "source": [
        "This new ``gltf_export`` operator requires the following as inputs: a triangle\nsurface mesh, a displacement field on this surface mesh, and a path to export\nthe GLTF file to.\n\nTo demonstrate this new operator, a :class:`ansys.dpf.core.model.Model` class\nis created on a simple file and the\n:class:`ansys.dpf.core.operators.mesh.tri_mesh_skin` operator is used\nto extract the surface of the mesh in triangle elements.\n\n"
      ]
    },
    {
      "cell_type": "markdown",
      "metadata": {},
      "source": [
        ".. graphviz::\n\n   digraph workflow {\n      graph [pad=\"0.5\", nodesep=\"0.3\", ranksep=\"0.3\"]\n      node [shape=box, style=filled, fillcolor=\"#ffcc00\", margin=\"0\"];\n      rankdir=LR;\n      splines=line;\n      ds [label=\"data_sources\", shape=box, style=filled, fillcolor=cadetblue2];\n      ds -> mesh_provider [style=dashed];\n      mesh_provider -> skin_mesh [splines=ortho];\n      ds -> displacement [style=dashed];\n      skin_mesh -> displacement [splines=ortho];\n      skin_mesh -> gltf_export [splines=ortho];\n      displacement -> gltf_export [splines=ortho];\n   }\n\n"
      ]
    },
    {
      "cell_type": "markdown",
      "metadata": {},
      "source": [
        "## Use the custom operator\n\n"
      ]
    },
    {
      "cell_type": "code",
      "execution_count": null,
      "metadata": {
        "collapsed": false
      },
      "outputs": [],
      "source": [
        "model = dpf.Model(dpf.upload_file_in_tmp_folder(examples.find_static_rst()))\n\nmesh = model.metadata.meshed_region\nskin_mesh = dpf.operators.mesh.tri_mesh_skin(mesh=mesh)\n\ndisplacement = model.results.displacement()\ndisplacement.inputs.mesh_scoping(skin_mesh)\ndisplacement.inputs.mesh(skin_mesh)\nnew_operator.inputs.path(Path(tmp) / \"out\")\nnew_operator.inputs.mesh(skin_mesh)\nnew_operator.inputs.field(displacement.outputs.fields_container()[0])\nnew_operator.run()\n\nprint(\"operator ran successfully\")\n\ndpf.download_file(Path(tmp) / \"out.glb\", Path.cwd() / \"out.glb\")"
      ]
    },
    {
      "cell_type": "markdown",
      "metadata": {},
      "source": [
        "You can download :download:`output <images/thumb/out.glb>` from the ``gltf`` operator.\n\n"
      ]
    }
  ],
  "metadata": {
    "kernelspec": {
      "display_name": "Python 3",
      "language": "python",
      "name": "python3"
    },
    "language_info": {
      "codemirror_mode": {
        "name": "ipython",
        "version": 3
      },
      "file_extension": ".py",
      "mimetype": "text/x-python",
      "name": "python",
      "nbconvert_exporter": "python",
      "pygments_lexer": "ipython3",
      "version": "3.12.3"
    }
  },
  "nbformat": 4,
  "nbformat_minor": 0
}