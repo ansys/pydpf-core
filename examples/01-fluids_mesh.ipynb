{
  "cells": [
    {
      "cell_type": "markdown",
      "metadata": {},
      "source": [
        "# Explore Fluids mesh {#ref_fluids_mesh}\r\n\r\n:::: note\r\n::: title\r\nNote\r\n:::\r\n\r\nThis example requires DPF 7.0 (ansys-dpf-server-2024-1-pre0) or above.\r\nFor more information, see `ref_compatibility`{.interpreted-text\r\nrole=\"ref\"}.\r\n::::\r\n"
      ]
    },
    {
      "cell_type": "markdown",
      "metadata": {},
      "source": [
        "# Exploring an Ansys Fluent mesh\r\n\r\nThis example demonstrates how you can explore an Ansys Fluent mesh.\r\nImport the result file\r\n"
      ]
    },
    {
      "cell_type": "code",
      "execution_count": null,
      "metadata": {
        "collapsed": false
      },
      "outputs": [],
      "source": [
        "import ansys.dpf.core as dpf\nfrom ansys.dpf.core import examples\n\npath = examples.download_fluent_axial_comp()[\"flprj\"]\nds = dpf.DataSources(path)\nstreams = dpf.operators.metadata.streams_provider(data_sources=ds)"
      ]
    },
    {
      "cell_type": "markdown",
      "metadata": {},
      "source": [
        "# Using the `mesh_provider`\r\n\r\nThe `mesh_provider` operator can be used to retrieve the whole mesh of\r\nthe model or the [MeshedRegion]{.title-ref} restricted to a particular\r\nbody or face zone. The behavior will differ depending on the inputs to\r\nthe `region_scoping` pin. If no scoping is connected, the mesh for the\r\nwhole model is obtained. This is the same mesh that is obtained if the\r\n`Model.metadata.meshed_region` API is employed.\r\n"
      ]
    },
    {
      "cell_type": "code",
      "execution_count": null,
      "metadata": {
        "collapsed": false
      },
      "outputs": [],
      "source": [
        "mesh_whole = dpf.operators.mesh.mesh_provider(streams_container=streams).eval()\nprint(mesh_whole)\nmesh_whole.plot()"
      ]
    },
    {
      "cell_type": "markdown",
      "metadata": {},
      "source": [
        "If the `region_scoping` pin is connected, a `Scoping` with 1 zone ID is\r\nexpected, or an integer list with one item, or a single integer. The\r\nsupported zone IDs are either face zone IDs or body IDs. The zones of\r\nthis particular model are explored in\r\n`ref_fluids_model`{.interpreted-text role=\"ref\"}. ID 4 (rotor-shroud)\r\ncorresponds to a face zone, and thus its mesh is only comprised of faces\r\nand nodes. ID 13 (fluid-rotor) is a body, and thus its mesh has elements\r\n(cells), faces and nodes.\r\n"
      ]
    },
    {
      "cell_type": "code",
      "execution_count": null,
      "metadata": {
        "collapsed": false
      },
      "outputs": [],
      "source": [
        "mesh_4 = dpf.operators.mesh.mesh_provider(streams_container=streams, region_scoping=4).eval()\nprint(mesh_4)\nmesh_4.plot()\nmesh_13 = dpf.operators.mesh.mesh_provider(streams_container=streams, region_scoping=[13]).eval()\nprint(mesh_13)\nmesh_13.plot()"
      ]
    },
    {
      "cell_type": "markdown",
      "metadata": {},
      "source": [
        "# Using the `meshes_provider`\r\n\r\nThe `meshes_provider` operator can be used to retrieve the mesh for\r\nseveral zones and time steps of the model. The behavior will differ\r\ndepending on the inputs to the `region_scoping` pin. If no\r\nregion_scoping is connected, the `MeshedRegion` for all body and face\r\nzones is retrieved in a `MeshesContainer`. If no time_scoping is\r\nconnected and the simulation is transient, only the meshes for the first\r\ntime step are extracted.\r\n"
      ]
    },
    {
      "cell_type": "code",
      "execution_count": null,
      "metadata": {
        "collapsed": false
      },
      "outputs": [],
      "source": [
        "meshes_all = dpf.operators.mesh.meshes_provider(streams_container=streams).eval()\nprint(meshes_all)\nprint(\"\\n\".join([str(meshes_all.get_label_space(i)) for i in range(len(meshes_all))]))"
      ]
    },
    {
      "cell_type": "markdown",
      "metadata": {},
      "source": [
        "If the `region_scoping` pin is connected, the mesh extraction is\r\nrestricted to the zone IDs contained in the input Scoping/list (in this\r\ncase, a face zone connected to body 18 and body 13).\r\n"
      ]
    },
    {
      "cell_type": "code",
      "execution_count": null,
      "metadata": {
        "collapsed": false
      },
      "outputs": [],
      "source": [
        "meshes_23_13 = dpf.operators.mesh.meshes_provider(\n    streams_container=streams, region_scoping=[23, 13], time_scoping=[3]\n).eval()\nprint(meshes_23_13)\nmeshes_23_13.plot()"
      ]
    }
  ],
  "metadata": {
    "kernelspec": {
      "display_name": "Python 3",
      "language": "python",
      "name": "python3"
    },
    "language_info": {
      "codemirror_mode": {
        "name": "ipython",
        "version": 3
      },
      "file_extension": ".py",
      "mimetype": "text/x-python",
      "name": "python",
      "nbconvert_exporter": "python",
      "pygments_lexer": "ipython3",
      "version": "3.10.11"
    }
  },
  "nbformat": 4,
  "nbformat_minor": 0
}