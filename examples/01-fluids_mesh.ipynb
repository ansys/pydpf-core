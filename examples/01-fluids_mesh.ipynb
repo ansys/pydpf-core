{
  "cells": [
    {
      "cell_type": "markdown",
      "metadata": {},
      "source": [
        "\n\n# Explore Fluids mesh\n\n<div class=\"alert alert-info\"><h4>Note</h4><p>This example requires DPF 7.0 (ansys-dpf-server-2024-1-pre0) or above.\n    For more information, see `ref_compatibility`.</p></div>\n"
      ]
    },
    {
      "cell_type": "markdown",
      "metadata": {},
      "source": [
        "# Exploring an Ansys Fluent mesh\nThis example demonstrates how you can explore an Ansys Fluent mesh. Import\nthe result file\n\n"
      ]
    },
    {
      "cell_type": "code",
      "execution_count": null,
      "metadata": {
        "collapsed": false
      },
      "outputs": [],
      "source": [
        "import ansys.dpf.core as dpf\nfrom ansys.dpf.core import examples\n\npath = examples.download_fluent_axial_comp()[\"flprj\"]\nds = dpf.DataSources(path)\nstreams = dpf.operators.metadata.streams_provider(data_sources=ds)"
      ]
    },
    {
      "cell_type": "markdown",
      "metadata": {},
      "source": [
        "## Using the ``mesh_provider``\nThe ``mesh_provider`` operator can be used to retrieve the whole mesh of the\nmodel or the `MeshedRegion` restricted to a particular body or face zone. The\nbehavior will differ depending on the inputs to the ``region_scoping`` pin.\nIf no scoping is connected, the mesh for the whole model is obtained. This\nis the same mesh that is obtained if the ``Model.metadata.meshed_region``\nAPI is employed.\n\n"
      ]
    },
    {
      "cell_type": "code",
      "execution_count": null,
      "metadata": {
        "collapsed": false
      },
      "outputs": [],
      "source": [
        "mesh_whole = dpf.operators.mesh.mesh_provider(streams_container=streams).eval()\nprint(mesh_whole)\nmesh_whole.plot()"
      ]
    },
    {
      "cell_type": "markdown",
      "metadata": {},
      "source": [
        "If the ``region_scoping`` pin is connected, a ``Scoping`` with 1 zone ID is\nexpected, or an integer list with one item, or a single integer. The supported\nzone IDs are either face zone IDs or body IDs. The zones of this particular model\nare explored in `ref_fluids_model`. ID 4 (rotor-shroud) corresponds to a\nface zone, and thus its mesh is only comprised of faces and nodes. ID 13 (fluid-rotor)\nis a body, and thus its mesh has elements (cells), faces and nodes.\n\n"
      ]
    },
    {
      "cell_type": "code",
      "execution_count": null,
      "metadata": {
        "collapsed": false
      },
      "outputs": [],
      "source": [
        "mesh_4 = dpf.operators.mesh.mesh_provider(streams_container=streams, region_scoping=4).eval()\nprint(mesh_4)\nmesh_4.plot()\nmesh_13 = dpf.operators.mesh.mesh_provider(streams_container=streams, region_scoping=[13]).eval()\nprint(mesh_13)\nmesh_13.plot()"
      ]
    },
    {
      "cell_type": "markdown",
      "metadata": {},
      "source": [
        "## Using the ``meshes_provider``\nThe ``meshes_provider`` operator can be used to retrieve the mesh for several\nzones and time steps of the model. The behavior will differ depending on the\ninputs to the ``region_scoping`` pin. If no region_scoping is connected, the\n``MeshedRegion`` for all body and face zones is retrieved in a ``MeshesContainer``.\nIf no time_scoping is connected and the simulation is transient, only the meshes\nfor the first time step are extracted.\n\n"
      ]
    },
    {
      "cell_type": "code",
      "execution_count": null,
      "metadata": {
        "collapsed": false
      },
      "outputs": [],
      "source": [
        "meshes_all = dpf.operators.mesh.meshes_provider(streams_container=streams).eval()\nprint(meshes_all)\nprint(\"\\n\".join([str(meshes_all.get_label_space(i)) for i in range(len(meshes_all))]))"
      ]
    },
    {
      "cell_type": "markdown",
      "metadata": {},
      "source": [
        "If the ``region_scoping`` pin is connected, the mesh extraction is restricted to\nthe zone IDs contained in the input Scoping/list (in this case, a face zone connected\nto body 18 and body 13).\n\n"
      ]
    },
    {
      "cell_type": "code",
      "execution_count": null,
      "metadata": {
        "collapsed": false
      },
      "outputs": [],
      "source": [
        "meshes_23_13 = dpf.operators.mesh.meshes_provider(\n    streams_container=streams, region_scoping=[23, 13], time_scoping=[3]\n).eval()\nprint(meshes_23_13)\nmeshes_23_13.plot()"
      ]
    }
  ],
  "metadata": {
    "kernelspec": {
      "display_name": "Python 3",
      "language": "python",
      "name": "python3"
    },
    "language_info": {
      "codemirror_mode": {
        "name": "ipython",
        "version": 3
      },
      "file_extension": ".py",
      "mimetype": "text/x-python",
      "name": "python",
      "nbconvert_exporter": "python",
      "pygments_lexer": "ipython3",
      "version": "3.12.3"
    }
  },
  "nbformat": 4,
  "nbformat_minor": 0
}