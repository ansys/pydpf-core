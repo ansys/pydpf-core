{
 "cells": [
  {
   "cell_type": "code",
   "execution_count": 1,
   "id": "c0e4b58c",
   "metadata": {
    "execution": {
     "iopub.execute_input": "2025-10-17T12:28:42.017992Z",
     "iopub.status.busy": "2025-10-17T12:28:42.017992Z",
     "iopub.status.idle": "2025-10-17T12:28:43.849958Z",
     "shell.execute_reply": "2025-10-17T12:28:43.848251Z"
    }
   },
   "outputs": [],
   "source": [
    "# Import the ``ansys.dpf.core`` module\n",
    "from ansys.dpf import core as dpf\n",
    "# Import the examples module\n",
    "from ansys.dpf.core import examples\n",
    "# Import the operators module\n",
    "from ansys.dpf.core import operators as ops\n",
    "\n",
    "# Define the result file path\n",
    "result_file_path_1 = examples.find_static_rst()\n",
    "# Create the DataSources object\n",
    "ds_1 = dpf.DataSources(result_path=result_file_path_1)"
   ]
  },
  {
   "cell_type": "code",
   "execution_count": 2,
   "id": "4767ecb7",
   "metadata": {
    "execution": {
     "iopub.execute_input": "2025-10-17T12:28:43.852016Z",
     "iopub.status.busy": "2025-10-17T12:28:43.852016Z",
     "iopub.status.idle": "2025-10-17T12:28:43.859369Z",
     "shell.execute_reply": "2025-10-17T12:28:43.857977Z"
    }
   },
   "outputs": [],
   "source": [
    "# Import the ``ansys.dpf.core`` module\n",
    "from ansys.dpf import core as dpf\n",
    "# Import the examples module\n",
    "from ansys.dpf.core import examples\n",
    "# Import the operators module\n",
    "from ansys.dpf.core import operators as ops\n",
    "\n",
    "# Define the result file path\n",
    "result_file_path_2 = examples.download_d3plot_beam()\n",
    "# Create the DataSources object\n",
    "ds_2 = dpf.DataSources()\n",
    "ds_2.set_result_file_path(filepath=result_file_path_2[0], key=\"d3plot\")\n",
    "ds_2.add_file_path(filepath=result_file_path_2[3], key=\"actunits\")"
   ]
  },
  {
   "cell_type": "code",
   "execution_count": 3,
   "id": "180ff5c7",
   "metadata": {
    "execution": {
     "iopub.execute_input": "2025-10-17T12:28:43.861451Z",
     "iopub.status.busy": "2025-10-17T12:28:43.861147Z",
     "iopub.status.idle": "2025-10-17T12:28:43.866931Z",
     "shell.execute_reply": "2025-10-17T12:28:43.865849Z"
    }
   },
   "outputs": [],
   "source": [
    "# Import the ``ansys.dpf.core`` module\n",
    "from ansys.dpf import core as dpf\n",
    "# Import the examples module\n",
    "from ansys.dpf.core import examples\n",
    "# Import the operators module\n",
    "from ansys.dpf.core import operators as ops\n",
    "\n",
    "# Define the result file path\n",
    "result_file_path_3 = examples.download_fluent_axial_comp()[\"flprj\"]\n",
    "# Create the DataSources object\n",
    "ds_3 = dpf.DataSources(result_path=result_file_path_3)"
   ]
  },
  {
   "cell_type": "code",
   "execution_count": 4,
   "id": "2d28ee8f",
   "metadata": {
    "execution": {
     "iopub.execute_input": "2025-10-17T12:28:43.869415Z",
     "iopub.status.busy": "2025-10-17T12:28:43.869415Z",
     "iopub.status.idle": "2025-10-17T12:28:43.873645Z",
     "shell.execute_reply": "2025-10-17T12:28:43.873645Z"
    }
   },
   "outputs": [],
   "source": [
    "# Import the ``ansys.dpf.core`` module\n",
    "from ansys.dpf import core as dpf\n",
    "# Import the examples module\n",
    "from ansys.dpf.core import examples\n",
    "# Import the operators module\n",
    "from ansys.dpf.core import operators as ops\n",
    "# Define the result file path\n",
    "result_file_path_4 = examples.download_cfx_mixing_elbow()\n",
    "# Create the DataSources object\n",
    "ds_4 = dpf.DataSources(result_path=result_file_path_4)"
   ]
  },
  {
   "cell_type": "code",
   "execution_count": 5,
   "id": "378331ac",
   "metadata": {
    "execution": {
     "iopub.execute_input": "2025-10-17T12:28:43.877006Z",
     "iopub.status.busy": "2025-10-17T12:28:43.875684Z",
     "iopub.status.idle": "2025-10-17T12:28:43.884584Z",
     "shell.execute_reply": "2025-10-17T12:28:43.883563Z"
    }
   },
   "outputs": [],
   "source": [
    "# Create the Model\n",
    "model_1 = dpf.Model(data_sources=ds_1)\n",
    "# Get the mesh\n",
    "meshed_region_11 = model_1.metadata.meshed_region"
   ]
  },
  {
   "cell_type": "code",
   "execution_count": 6,
   "id": "e46117c0",
   "metadata": {
    "execution": {
     "iopub.execute_input": "2025-10-17T12:28:43.886604Z",
     "iopub.status.busy": "2025-10-17T12:28:43.886604Z",
     "iopub.status.idle": "2025-10-17T12:28:43.895702Z",
     "shell.execute_reply": "2025-10-17T12:28:43.895237Z"
    }
   },
   "outputs": [],
   "source": [
    "# Create the Model\n",
    "model_2 = dpf.Model(data_sources=ds_2)\n",
    "# Get the mesh\n",
    "meshed_region_21 = model_2.metadata.meshed_region"
   ]
  },
  {
   "cell_type": "code",
   "execution_count": 7,
   "id": "9822eaf3",
   "metadata": {
    "execution": {
     "iopub.execute_input": "2025-10-17T12:28:43.897723Z",
     "iopub.status.busy": "2025-10-17T12:28:43.897723Z",
     "iopub.status.idle": "2025-10-17T12:28:54.274713Z",
     "shell.execute_reply": "2025-10-17T12:28:54.273629Z"
    }
   },
   "outputs": [],
   "source": [
    "# Create the Model\n",
    "model_3 = dpf.Model(data_sources=ds_3)\n",
    "# Get the mesh\n",
    "meshed_region_31 = model_3.metadata.meshed_region"
   ]
  },
  {
   "cell_type": "code",
   "execution_count": 8,
   "id": "41e7f564",
   "metadata": {
    "execution": {
     "iopub.execute_input": "2025-10-17T12:28:54.277517Z",
     "iopub.status.busy": "2025-10-17T12:28:54.276733Z",
     "iopub.status.idle": "2025-10-17T12:29:02.546854Z",
     "shell.execute_reply": "2025-10-17T12:29:02.545804Z"
    }
   },
   "outputs": [],
   "source": [
    "# Create the Model\n",
    "model_4 = dpf.Model(data_sources=ds_4)\n",
    "# Get the mesh\n",
    "meshed_region_41 = model_4.metadata.meshed_region"
   ]
  },
  {
   "cell_type": "code",
   "execution_count": 9,
   "id": "35b36ef4",
   "metadata": {
    "execution": {
     "iopub.execute_input": "2025-10-17T12:29:02.549954Z",
     "iopub.status.busy": "2025-10-17T12:29:02.549954Z",
     "iopub.status.idle": "2025-10-17T12:29:02.556012Z",
     "shell.execute_reply": "2025-10-17T12:29:02.554438Z"
    }
   },
   "outputs": [
    {
     "name": "stdout",
     "output_type": "stream",
     "text": [
      "DPF  Meshed Region: \n",
      "  81 nodes \n",
      "  8 elements \n",
      "  Unit: m \n",
      "  With solid (3D) elements\n"
     ]
    }
   ],
   "source": [
    "# Print the MeshedRegion\n",
    "print(meshed_region_11)"
   ]
  },
  {
   "cell_type": "code",
   "execution_count": 10,
   "id": "7c9930f1",
   "metadata": {
    "execution": {
     "iopub.execute_input": "2025-10-17T12:29:02.558027Z",
     "iopub.status.busy": "2025-10-17T12:29:02.558027Z",
     "iopub.status.idle": "2025-10-17T12:29:02.562508Z",
     "shell.execute_reply": "2025-10-17T12:29:02.561704Z"
    }
   },
   "outputs": [
    {
     "name": "stdout",
     "output_type": "stream",
     "text": [
      "DPF  Meshed Region: \n",
      "  1940 nodes \n",
      "  2056 elements \n",
      "  Unit: mm \n",
      "  With solid (3D) elements, beam (1D) elements\n"
     ]
    }
   ],
   "source": [
    "# Print the MeshedRegion\n",
    "print(meshed_region_21)"
   ]
  },
  {
   "cell_type": "code",
   "execution_count": 11,
   "id": "57c6a3d0",
   "metadata": {
    "execution": {
     "iopub.execute_input": "2025-10-17T12:29:02.565276Z",
     "iopub.status.busy": "2025-10-17T12:29:02.564522Z",
     "iopub.status.idle": "2025-10-17T12:29:02.570069Z",
     "shell.execute_reply": "2025-10-17T12:29:02.568883Z"
    }
   },
   "outputs": [
    {
     "name": "stdout",
     "output_type": "stream",
     "text": [
      "DPF  Meshed Region: \n",
      "  16660 nodes \n",
      "  13856 elements \n",
      "  44242 faces \n",
      "  Unit: m \n",
      "  With solid (3D) elements\n"
     ]
    }
   ],
   "source": [
    "# Print the MeshedRegion\n",
    "print(meshed_region_31)"
   ]
  },
  {
   "cell_type": "code",
   "execution_count": 12,
   "id": "a64dd3ba",
   "metadata": {
    "execution": {
     "iopub.execute_input": "2025-10-17T12:29:02.572092Z",
     "iopub.status.busy": "2025-10-17T12:29:02.572092Z",
     "iopub.status.idle": "2025-10-17T12:29:02.577696Z",
     "shell.execute_reply": "2025-10-17T12:29:02.576523Z"
    }
   },
   "outputs": [
    {
     "name": "stdout",
     "output_type": "stream",
     "text": [
      "DPF  Meshed Region: \n",
      "  6219 nodes \n",
      "  15695 elements \n",
      "  Unit: m \n",
      "  With solid (3D) elements\n"
     ]
    }
   ],
   "source": [
    "# Print the MeshedRegion\n",
    "print(meshed_region_41)"
   ]
  },
  {
   "cell_type": "code",
   "execution_count": 13,
   "id": "f18509af",
   "metadata": {
    "execution": {
     "iopub.execute_input": "2025-10-17T12:29:02.580166Z",
     "iopub.status.busy": "2025-10-17T12:29:02.579710Z",
     "iopub.status.idle": "2025-10-17T12:29:02.587243Z",
     "shell.execute_reply": "2025-10-17T12:29:02.586692Z"
    }
   },
   "outputs": [],
   "source": [
    "# Get the mesh with the mesh_provider operator\n",
    "meshed_region_12 = ops.mesh.mesh_provider(data_sources=ds_1).eval()"
   ]
  },
  {
   "cell_type": "code",
   "execution_count": 14,
   "id": "d5d7ca6e",
   "metadata": {
    "execution": {
     "iopub.execute_input": "2025-10-17T12:29:02.589259Z",
     "iopub.status.busy": "2025-10-17T12:29:02.589259Z",
     "iopub.status.idle": "2025-10-17T12:29:02.600349Z",
     "shell.execute_reply": "2025-10-17T12:29:02.599475Z"
    }
   },
   "outputs": [],
   "source": [
    "# Get the mesh with the mesh_provider operator\n",
    "meshed_region_22 = ops.mesh.mesh_provider(data_sources=ds_2).eval()"
   ]
  },
  {
   "cell_type": "code",
   "execution_count": 15,
   "id": "73e7904b",
   "metadata": {
    "execution": {
     "iopub.execute_input": "2025-10-17T12:29:02.602364Z",
     "iopub.status.busy": "2025-10-17T12:29:02.602364Z",
     "iopub.status.idle": "2025-10-17T12:29:07.738019Z",
     "shell.execute_reply": "2025-10-17T12:29:07.736810Z"
    }
   },
   "outputs": [],
   "source": [
    "# Get the mesh with the mesh_provider operator\n",
    "meshed_region_32 = ops.mesh.mesh_provider(data_sources=ds_3).eval()"
   ]
  },
  {
   "cell_type": "code",
   "execution_count": 16,
   "id": "58bed337",
   "metadata": {
    "execution": {
     "iopub.execute_input": "2025-10-17T12:29:07.740926Z",
     "iopub.status.busy": "2025-10-17T12:29:07.740926Z",
     "iopub.status.idle": "2025-10-17T12:29:07.802256Z",
     "shell.execute_reply": "2025-10-17T12:29:07.801169Z"
    }
   },
   "outputs": [],
   "source": [
    "# Get the mesh with the mesh_provider operator\n",
    "meshed_region_42 = ops.mesh.mesh_provider(data_sources=ds_4).eval()"
   ]
  },
  {
   "cell_type": "code",
   "execution_count": 17,
   "id": "659e9b10",
   "metadata": {
    "execution": {
     "iopub.execute_input": "2025-10-17T12:29:07.805230Z",
     "iopub.status.busy": "2025-10-17T12:29:07.805230Z",
     "iopub.status.idle": "2025-10-17T12:29:07.810338Z",
     "shell.execute_reply": "2025-10-17T12:29:07.809456Z"
    }
   },
   "outputs": [
    {
     "name": "stdout",
     "output_type": "stream",
     "text": [
      "DPF  Meshed Region: \n",
      "  81 nodes \n",
      "  8 elements \n",
      "  Unit: m \n",
      "  With solid (3D) elements\n"
     ]
    }
   ],
   "source": [
    "# Print the MeshedRegion\n",
    "print(meshed_region_12)"
   ]
  },
  {
   "cell_type": "code",
   "execution_count": 18,
   "id": "b36689f0",
   "metadata": {
    "execution": {
     "iopub.execute_input": "2025-10-17T12:29:07.812360Z",
     "iopub.status.busy": "2025-10-17T12:29:07.812360Z",
     "iopub.status.idle": "2025-10-17T12:29:07.818164Z",
     "shell.execute_reply": "2025-10-17T12:29:07.817049Z"
    }
   },
   "outputs": [
    {
     "name": "stdout",
     "output_type": "stream",
     "text": [
      "DPF  Meshed Region: \n",
      "  1940 nodes \n",
      "  2056 elements \n",
      "  Unit: mm \n",
      "  With solid (3D) elements, beam (1D) elements\n"
     ]
    }
   ],
   "source": [
    "# Print the MeshedRegion\n",
    "print(meshed_region_22)"
   ]
  },
  {
   "cell_type": "code",
   "execution_count": 19,
   "id": "b3bbd638",
   "metadata": {
    "execution": {
     "iopub.execute_input": "2025-10-17T12:29:07.820185Z",
     "iopub.status.busy": "2025-10-17T12:29:07.820185Z",
     "iopub.status.idle": "2025-10-17T12:29:07.824613Z",
     "shell.execute_reply": "2025-10-17T12:29:07.824613Z"
    }
   },
   "outputs": [
    {
     "name": "stdout",
     "output_type": "stream",
     "text": [
      "DPF  Meshed Region: \n",
      "  16660 nodes \n",
      "  13856 elements \n",
      "  44242 faces \n",
      "  Unit: m \n",
      "  With solid (3D) elements\n"
     ]
    }
   ],
   "source": [
    "# Print the MeshedRegion\n",
    "print(meshed_region_32)"
   ]
  },
  {
   "cell_type": "code",
   "execution_count": 20,
   "id": "adc451e7",
   "metadata": {
    "execution": {
     "iopub.execute_input": "2025-10-17T12:29:07.828266Z",
     "iopub.status.busy": "2025-10-17T12:29:07.827170Z",
     "iopub.status.idle": "2025-10-17T12:29:07.833310Z",
     "shell.execute_reply": "2025-10-17T12:29:07.832321Z"
    }
   },
   "outputs": [
    {
     "name": "stdout",
     "output_type": "stream",
     "text": [
      "DPF  Meshed Region: \n",
      "  6219 nodes \n",
      "  15695 elements \n",
      "  Unit: m \n",
      "  With solid (3D) elements\n"
     ]
    }
   ],
   "source": [
    "# Print the MeshedRegion\n",
    "print(meshed_region_42)"
   ]
  }
 ],
 "metadata": {
  "kernelspec": {
   "display_name": "Python 3 (ipykernel)",
   "language": "python",
   "name": "python3"
  },
  "language_info": {
   "codemirror_mode": {
    "name": "ipython",
    "version": 3
   },
   "file_extension": ".py",
   "mimetype": "text/x-python",
   "name": "python",
   "nbconvert_exporter": "python",
   "pygments_lexer": "ipython3",
   "version": "3.11.9"
  }
 },
 "nbformat": 4,
 "nbformat_minor": 5
}