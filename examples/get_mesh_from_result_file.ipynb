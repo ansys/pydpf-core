{
 "cells": [
  {
   "cell_type": "code",
   "execution_count": 1,
   "id": "de98702d",
   "metadata": {
    "execution": {
     "iopub.execute_input": "2025-08-08T08:02:01.744297Z",
     "iopub.status.busy": "2025-08-08T08:02:01.743279Z",
     "iopub.status.idle": "2025-08-08T08:02:03.617600Z",
     "shell.execute_reply": "2025-08-08T08:02:03.616590Z"
    }
   },
   "outputs": [],
   "source": [
    "# Import the ``ansys.dpf.core`` module\n",
    "from ansys.dpf import core as dpf\n",
    "# Import the examples module\n",
    "from ansys.dpf.core import examples\n",
    "# Import the operators module\n",
    "from ansys.dpf.core import operators as ops\n",
    "\n",
    "# Define the result file path\n",
    "result_file_path_1 = examples.find_static_rst()\n",
    "# Create the DataSources object\n",
    "ds_1 = dpf.DataSources(result_path=result_file_path_1)"
   ]
  },
  {
   "cell_type": "code",
   "execution_count": 2,
   "id": "065b8d24",
   "metadata": {
    "execution": {
     "iopub.execute_input": "2025-08-08T08:02:03.622461Z",
     "iopub.status.busy": "2025-08-08T08:02:03.621163Z",
     "iopub.status.idle": "2025-08-08T08:02:03.628066Z",
     "shell.execute_reply": "2025-08-08T08:02:03.627060Z"
    }
   },
   "outputs": [],
   "source": [
    "# Import the ``ansys.dpf.core`` module\n",
    "from ansys.dpf import core as dpf\n",
    "# Import the examples module\n",
    "from ansys.dpf.core import examples\n",
    "# Import the operators module\n",
    "from ansys.dpf.core import operators as ops\n",
    "\n",
    "# Define the result file path\n",
    "result_file_path_2 = examples.download_d3plot_beam()\n",
    "# Create the DataSources object\n",
    "ds_2 = dpf.DataSources()\n",
    "ds_2.set_result_file_path(filepath=result_file_path_2[0], key=\"d3plot\")\n",
    "ds_2.add_file_path(filepath=result_file_path_2[3], key=\"actunits\")"
   ]
  },
  {
   "cell_type": "code",
   "execution_count": 3,
   "id": "e1079777",
   "metadata": {
    "execution": {
     "iopub.execute_input": "2025-08-08T08:02:03.634099Z",
     "iopub.status.busy": "2025-08-08T08:02:03.632094Z",
     "iopub.status.idle": "2025-08-08T08:02:03.641864Z",
     "shell.execute_reply": "2025-08-08T08:02:03.639848Z"
    }
   },
   "outputs": [],
   "source": [
    "# Import the ``ansys.dpf.core`` module\n",
    "from ansys.dpf import core as dpf\n",
    "# Import the examples module\n",
    "from ansys.dpf.core import examples\n",
    "# Import the operators module\n",
    "from ansys.dpf.core import operators as ops\n",
    "\n",
    "# Define the result file path\n",
    "result_file_path_3 = examples.download_fluent_axial_comp()[\"flprj\"]\n",
    "# Create the DataSources object\n",
    "ds_3 = dpf.DataSources(result_path=result_file_path_3)"
   ]
  },
  {
   "cell_type": "code",
   "execution_count": 4,
   "id": "e597f7f0",
   "metadata": {
    "execution": {
     "iopub.execute_input": "2025-08-08T08:02:03.647394Z",
     "iopub.status.busy": "2025-08-08T08:02:03.646385Z",
     "iopub.status.idle": "2025-08-08T08:02:03.656500Z",
     "shell.execute_reply": "2025-08-08T08:02:03.654492Z"
    }
   },
   "outputs": [],
   "source": [
    "# Import the ``ansys.dpf.core`` module\n",
    "from ansys.dpf import core as dpf\n",
    "# Import the examples module\n",
    "from ansys.dpf.core import examples\n",
    "# Import the operators module\n",
    "from ansys.dpf.core import operators as ops\n",
    "# Define the result file path\n",
    "result_file_path_4 = examples.download_cfx_mixing_elbow()\n",
    "# Create the DataSources object\n",
    "ds_4 = dpf.DataSources(result_path=result_file_path_4)"
   ]
  },
  {
   "cell_type": "code",
   "execution_count": 5,
   "id": "c1f81481",
   "metadata": {
    "execution": {
     "iopub.execute_input": "2025-08-08T08:02:03.659615Z",
     "iopub.status.busy": "2025-08-08T08:02:03.659615Z",
     "iopub.status.idle": "2025-08-08T08:02:03.671256Z",
     "shell.execute_reply": "2025-08-08T08:02:03.670247Z"
    }
   },
   "outputs": [],
   "source": [
    "# Create the Model\n",
    "model_1 = dpf.Model(data_sources=ds_1)\n",
    "# Get the mesh\n",
    "meshed_region_11 = model_1.metadata.meshed_region"
   ]
  },
  {
   "cell_type": "code",
   "execution_count": 6,
   "id": "62767365",
   "metadata": {
    "execution": {
     "iopub.execute_input": "2025-08-08T08:02:03.674771Z",
     "iopub.status.busy": "2025-08-08T08:02:03.673772Z",
     "iopub.status.idle": "2025-08-08T08:02:03.693876Z",
     "shell.execute_reply": "2025-08-08T08:02:03.692354Z"
    }
   },
   "outputs": [],
   "source": [
    "# Create the Model\n",
    "model_2 = dpf.Model(data_sources=ds_2)\n",
    "# Get the mesh\n",
    "meshed_region_21 = model_2.metadata.meshed_region"
   ]
  },
  {
   "cell_type": "code",
   "execution_count": 7,
   "id": "1884f8bd",
   "metadata": {
    "execution": {
     "iopub.execute_input": "2025-08-08T08:02:03.698956Z",
     "iopub.status.busy": "2025-08-08T08:02:03.698956Z",
     "iopub.status.idle": "2025-08-08T08:02:06.040968Z",
     "shell.execute_reply": "2025-08-08T08:02:06.040968Z"
    }
   },
   "outputs": [],
   "source": [
    "# Create the Model\n",
    "model_3 = dpf.Model(data_sources=ds_3)\n",
    "# Get the mesh\n",
    "meshed_region_31 = model_3.metadata.meshed_region"
   ]
  },
  {
   "cell_type": "code",
   "execution_count": 8,
   "id": "1421dba3",
   "metadata": {
    "execution": {
     "iopub.execute_input": "2025-08-08T08:02:06.045559Z",
     "iopub.status.busy": "2025-08-08T08:02:06.044493Z",
     "iopub.status.idle": "2025-08-08T08:02:06.314285Z",
     "shell.execute_reply": "2025-08-08T08:02:06.312268Z"
    }
   },
   "outputs": [],
   "source": [
    "# Create the Model\n",
    "model_4 = dpf.Model(data_sources=ds_4)\n",
    "# Get the mesh\n",
    "meshed_region_41 = model_4.metadata.meshed_region"
   ]
  },
  {
   "cell_type": "code",
   "execution_count": 9,
   "id": "5742f443",
   "metadata": {
    "execution": {
     "iopub.execute_input": "2025-08-08T08:02:06.321134Z",
     "iopub.status.busy": "2025-08-08T08:02:06.320586Z",
     "iopub.status.idle": "2025-08-08T08:02:06.326713Z",
     "shell.execute_reply": "2025-08-08T08:02:06.325704Z"
    }
   },
   "outputs": [
    {
     "name": "stdout",
     "output_type": "stream",
     "text": [
      "DPF  Meshed Region: \n",
      "  81 nodes \n",
      "  8 elements \n",
      "  Unit: m \n",
      "  With solid (3D) elements\n"
     ]
    }
   ],
   "source": [
    "# Print the MeshedRegion\n",
    "print(meshed_region_11)"
   ]
  },
  {
   "cell_type": "code",
   "execution_count": 10,
   "id": "8f437c2a",
   "metadata": {
    "execution": {
     "iopub.execute_input": "2025-08-08T08:02:06.330804Z",
     "iopub.status.busy": "2025-08-08T08:02:06.329713Z",
     "iopub.status.idle": "2025-08-08T08:02:06.335636Z",
     "shell.execute_reply": "2025-08-08T08:02:06.335636Z"
    }
   },
   "outputs": [
    {
     "name": "stdout",
     "output_type": "stream",
     "text": [
      "DPF  Meshed Region: \n",
      "  1940 nodes \n",
      "  2056 elements \n",
      "  Unit: mm \n",
      "  With solid (3D) elements, beam (1D) elements\n"
     ]
    }
   ],
   "source": [
    "# Print the MeshedRegion\n",
    "print(meshed_region_21)"
   ]
  },
  {
   "cell_type": "code",
   "execution_count": 11,
   "id": "303cf85f",
   "metadata": {
    "execution": {
     "iopub.execute_input": "2025-08-08T08:02:06.338644Z",
     "iopub.status.busy": "2025-08-08T08:02:06.338644Z",
     "iopub.status.idle": "2025-08-08T08:02:06.345347Z",
     "shell.execute_reply": "2025-08-08T08:02:06.344832Z"
    }
   },
   "outputs": [
    {
     "name": "stdout",
     "output_type": "stream",
     "text": [
      "DPF  Meshed Region: \n",
      "  16660 nodes \n",
      "  13856 elements \n",
      "  44242 faces \n",
      "  Unit: m \n",
      "  With solid (3D) elements\n"
     ]
    }
   ],
   "source": [
    "# Print the MeshedRegion\n",
    "print(meshed_region_31)"
   ]
  },
  {
   "cell_type": "code",
   "execution_count": 12,
   "id": "eda6bfea",
   "metadata": {
    "execution": {
     "iopub.execute_input": "2025-08-08T08:02:06.347436Z",
     "iopub.status.busy": "2025-08-08T08:02:06.347436Z",
     "iopub.status.idle": "2025-08-08T08:02:06.355966Z",
     "shell.execute_reply": "2025-08-08T08:02:06.355459Z"
    }
   },
   "outputs": [
    {
     "name": "stdout",
     "output_type": "stream",
     "text": [
      "DPF  Meshed Region: \n",
      "  6219 nodes \n",
      "  15695 elements \n",
      "  Unit: m \n",
      "  With solid (3D) elements\n"
     ]
    }
   ],
   "source": [
    "# Print the MeshedRegion\n",
    "print(meshed_region_41)"
   ]
  },
  {
   "cell_type": "code",
   "execution_count": 13,
   "id": "4c125f18",
   "metadata": {
    "execution": {
     "iopub.execute_input": "2025-08-08T08:02:06.358204Z",
     "iopub.status.busy": "2025-08-08T08:02:06.358204Z",
     "iopub.status.idle": "2025-08-08T08:02:06.363730Z",
     "shell.execute_reply": "2025-08-08T08:02:06.363730Z"
    }
   },
   "outputs": [],
   "source": [
    "# Get the mesh with the mesh_provider operator\n",
    "meshed_region_12 = ops.mesh.mesh_provider(data_sources=ds_1).eval()"
   ]
  },
  {
   "cell_type": "code",
   "execution_count": 14,
   "id": "d84342de",
   "metadata": {
    "execution": {
     "iopub.execute_input": "2025-08-08T08:02:06.366242Z",
     "iopub.status.busy": "2025-08-08T08:02:06.366242Z",
     "iopub.status.idle": "2025-08-08T08:02:06.376773Z",
     "shell.execute_reply": "2025-08-08T08:02:06.376773Z"
    }
   },
   "outputs": [],
   "source": [
    "# Get the mesh with the mesh_provider operator\n",
    "meshed_region_22 = ops.mesh.mesh_provider(data_sources=ds_2).eval()"
   ]
  },
  {
   "cell_type": "code",
   "execution_count": 15,
   "id": "34ee94c4",
   "metadata": {
    "execution": {
     "iopub.execute_input": "2025-08-08T08:02:06.381997Z",
     "iopub.status.busy": "2025-08-08T08:02:06.379542Z",
     "iopub.status.idle": "2025-08-08T08:02:08.255831Z",
     "shell.execute_reply": "2025-08-08T08:02:08.255831Z"
    }
   },
   "outputs": [],
   "source": [
    "# Get the mesh with the mesh_provider operator\n",
    "meshed_region_32 = ops.mesh.mesh_provider(data_sources=ds_3).eval()"
   ]
  },
  {
   "cell_type": "code",
   "execution_count": 16,
   "id": "b2e6ce87",
   "metadata": {
    "execution": {
     "iopub.execute_input": "2025-08-08T08:02:08.259921Z",
     "iopub.status.busy": "2025-08-08T08:02:08.258921Z",
     "iopub.status.idle": "2025-08-08T08:02:08.389342Z",
     "shell.execute_reply": "2025-08-08T08:02:08.388337Z"
    }
   },
   "outputs": [],
   "source": [
    "# Get the mesh with the mesh_provider operator\n",
    "meshed_region_42 = ops.mesh.mesh_provider(data_sources=ds_4).eval()"
   ]
  },
  {
   "cell_type": "code",
   "execution_count": 17,
   "id": "0013dd7a",
   "metadata": {
    "execution": {
     "iopub.execute_input": "2025-08-08T08:02:08.393905Z",
     "iopub.status.busy": "2025-08-08T08:02:08.392719Z",
     "iopub.status.idle": "2025-08-08T08:02:08.399219Z",
     "shell.execute_reply": "2025-08-08T08:02:08.398129Z"
    }
   },
   "outputs": [
    {
     "name": "stdout",
     "output_type": "stream",
     "text": [
      "DPF  Meshed Region: \n",
      "  81 nodes \n",
      "  8 elements \n",
      "  Unit: m \n",
      "  With solid (3D) elements\n"
     ]
    }
   ],
   "source": [
    "# Print the MeshedRegion\n",
    "print(meshed_region_12)"
   ]
  },
  {
   "cell_type": "code",
   "execution_count": 18,
   "id": "2747d908",
   "metadata": {
    "execution": {
     "iopub.execute_input": "2025-08-08T08:02:08.401727Z",
     "iopub.status.busy": "2025-08-08T08:02:08.401727Z",
     "iopub.status.idle": "2025-08-08T08:02:08.406342Z",
     "shell.execute_reply": "2025-08-08T08:02:08.405836Z"
    }
   },
   "outputs": [
    {
     "name": "stdout",
     "output_type": "stream",
     "text": [
      "DPF  Meshed Region: \n",
      "  1940 nodes \n",
      "  2056 elements \n",
      "  Unit: mm \n",
      "  With solid (3D) elements, beam (1D) elements\n"
     ]
    }
   ],
   "source": [
    "# Print the MeshedRegion\n",
    "print(meshed_region_22)"
   ]
  },
  {
   "cell_type": "code",
   "execution_count": 19,
   "id": "04633320",
   "metadata": {
    "execution": {
     "iopub.execute_input": "2025-08-08T08:02:08.409298Z",
     "iopub.status.busy": "2025-08-08T08:02:08.407846Z",
     "iopub.status.idle": "2025-08-08T08:02:08.413383Z",
     "shell.execute_reply": "2025-08-08T08:02:08.413383Z"
    }
   },
   "outputs": [
    {
     "name": "stdout",
     "output_type": "stream",
     "text": [
      "DPF  Meshed Region: \n",
      "  16660 nodes \n",
      "  13856 elements \n",
      "  44242 faces \n",
      "  Unit: m \n",
      "  With solid (3D) elements\n"
     ]
    }
   ],
   "source": [
    "# Print the MeshedRegion\n",
    "print(meshed_region_32)"
   ]
  },
  {
   "cell_type": "code",
   "execution_count": 20,
   "id": "7e31d2df",
   "metadata": {
    "execution": {
     "iopub.execute_input": "2025-08-08T08:02:08.416463Z",
     "iopub.status.busy": "2025-08-08T08:02:08.416463Z",
     "iopub.status.idle": "2025-08-08T08:02:08.421476Z",
     "shell.execute_reply": "2025-08-08T08:02:08.420973Z"
    }
   },
   "outputs": [
    {
     "name": "stdout",
     "output_type": "stream",
     "text": [
      "DPF  Meshed Region: \n",
      "  6219 nodes \n",
      "  15695 elements \n",
      "  Unit: m \n",
      "  With solid (3D) elements\n"
     ]
    }
   ],
   "source": [
    "# Print the MeshedRegion\n",
    "print(meshed_region_42)"
   ]
  }
 ],
 "metadata": {
  "kernelspec": {
   "display_name": "Python 3 (ipykernel)",
   "language": "python",
   "name": "python3"
  },
  "language_info": {
   "codemirror_mode": {
    "name": "ipython",
    "version": 3
   },
   "file_extension": ".py",
   "mimetype": "text/x-python",
   "name": "python",
   "nbconvert_exporter": "python",
   "pygments_lexer": "ipython3",
   "version": "3.12.3"
  }
 },
 "nbformat": 4,
 "nbformat_minor": 5
}