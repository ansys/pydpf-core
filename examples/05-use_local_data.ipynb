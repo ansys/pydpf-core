{
  "cells": [
    {
      "cell_type": "markdown",
      "metadata": {},
      "source": [
        "\n\n# Bring a field's data locally to improve performance\n\nReducing the number of calls to the server is key to improving\nperformance. Using the ``as_local_field`` option brings the data\nfrom the server to your local machine where you can work on it.\nWhen finished, you send the updated data back to the server\nin one transaction.\n"
      ]
    },
    {
      "cell_type": "code",
      "execution_count": null,
      "metadata": {
        "collapsed": false
      },
      "outputs": [],
      "source": [
        "# Import necessary modules\nfrom ansys.dpf import core as dpf\nfrom ansys.dpf.core import examples, operators as ops"
      ]
    },
    {
      "cell_type": "markdown",
      "metadata": {},
      "source": [
        "Create a model object to establish a connection with an\nexample result file and then extract:\n\n"
      ]
    },
    {
      "cell_type": "code",
      "execution_count": null,
      "metadata": {
        "collapsed": false
      },
      "outputs": [],
      "source": [
        "model = dpf.Model(examples.download_multi_stage_cyclic_result())\nprint(model)\nmesh = model.metadata.meshed_region"
      ]
    },
    {
      "cell_type": "markdown",
      "metadata": {},
      "source": [
        "# Create the workflow\n\n"
      ]
    },
    {
      "cell_type": "markdown",
      "metadata": {},
      "source": [
        "Compute the stress principal invariants:\n\n"
      ]
    },
    {
      "cell_type": "code",
      "execution_count": null,
      "metadata": {
        "collapsed": false
      },
      "outputs": [],
      "source": [
        "stress_op = ops.result.stress(data_sources=model.metadata.data_sources)\nstress_op.inputs.requested_location.connect(dpf.locations.nodal)\nstress_op.inputs.mesh_scoping.connect(mesh.nodes.scoping)\n\nprincipal_op = ops.invariant.principal_invariants_fc(stress_op)\nprincipal_stress_1 = principal_op.outputs.fields_eig_1()[0]\nprincipal_stress_2 = principal_op.outputs.fields_eig_2()[0]\nprincipal_stress_3 = principal_op.outputs.fields_eig_3()[0]"
      ]
    },
    {
      "cell_type": "markdown",
      "metadata": {},
      "source": [
        "# Manipulate data locally\n\n"
      ]
    },
    {
      "cell_type": "markdown",
      "metadata": {},
      "source": [
        "This example goes over the fields, keeping the largest invariant value\nby node if the averaged value of invariants is large enough.\nExploring data allows you to customize it to meet your needs.\n\n"
      ]
    },
    {
      "cell_type": "code",
      "execution_count": null,
      "metadata": {
        "collapsed": false
      },
      "outputs": [],
      "source": [
        "node_scoping_ids = principal_stress_1.scoping.ids\nthreshold = 300000.0\n\nfield_to_keep = dpf.fields_factory.create_scalar_field(\n    len(node_scoping_ids), location=dpf.locations.nodal\n)\n\nwith field_to_keep.as_local_field() as f:\n    with principal_stress_1.as_local_field() as s1:\n        with principal_stress_2.as_local_field() as s2:\n            with principal_stress_3.as_local_field() as s3:\n                for i, id in enumerate(node_scoping_ids):\n                    d1 = abs(s1.get_entity_data_by_id(id))\n                    d2 = abs(s2.get_entity_data_by_id(id))\n                    d3 = abs(s3.get_entity_data_by_id(id))\n                    if (d1 + d2 + d3) / 3.0 > threshold:\n                        d = max(d1, d2, d3)\n                        f.append(d, id)"
      ]
    },
    {
      "cell_type": "markdown",
      "metadata": {},
      "source": [
        "# Plot result field\n\n"
      ]
    },
    {
      "cell_type": "markdown",
      "metadata": {},
      "source": [
        "Plot the result field on the skin mesh:\n\n"
      ]
    },
    {
      "cell_type": "code",
      "execution_count": null,
      "metadata": {
        "collapsed": false
      },
      "outputs": [],
      "source": [
        "mesh.plot(field_to_keep)"
      ]
    },
    {
      "cell_type": "markdown",
      "metadata": {},
      "source": [
        "# Plot initial invariants\n\n"
      ]
    },
    {
      "cell_type": "markdown",
      "metadata": {},
      "source": [
        "Plot the initial invariants:\n\n"
      ]
    },
    {
      "cell_type": "code",
      "execution_count": null,
      "metadata": {
        "collapsed": false
      },
      "outputs": [],
      "source": [
        "mesh.plot(principal_stress_1)\nmesh.plot(principal_stress_2)\nmesh.plot(principal_stress_3)"
      ]
    }
  ],
  "metadata": {
    "kernelspec": {
      "display_name": "Python 3",
      "language": "python",
      "name": "python3"
    },
    "language_info": {
      "codemirror_mode": {
        "name": "ipython",
        "version": 3
      },
      "file_extension": ".py",
      "mimetype": "text/x-python",
      "name": "python",
      "nbconvert_exporter": "python",
      "pygments_lexer": "ipython3",
      "version": "3.12.3"
    }
  },
  "nbformat": 4,
  "nbformat_minor": 0
}