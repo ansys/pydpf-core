{
  "cells": [
    {
      "cell_type": "markdown",
      "metadata": {},
      "source": [
        "\n\n# Stress gradient normal to a defined node\n\nThis example shows how to plot a stress gradient normal to a selected node.\nBecause the example is based on creating a path along the normal, the selected node\nmust be on the surface of the geometry.\nA path is created of a defined length.\n"
      ]
    },
    {
      "cell_type": "markdown",
      "metadata": {},
      "source": [
        "Import the DPF-Core module as ``dpf`` and import the\nincluded examples file and ``DpfPlotter``.\n\n\n"
      ]
    },
    {
      "cell_type": "code",
      "execution_count": null,
      "metadata": {
        "collapsed": false
      },
      "outputs": [],
      "source": [
        "import matplotlib.pyplot as plt\n\nfrom ansys.dpf import core as dpf\nfrom ansys.dpf.core import examples, operators as ops\nfrom ansys.dpf.core.plotter import DpfPlotter"
      ]
    },
    {
      "cell_type": "markdown",
      "metadata": {},
      "source": [
        "Open an example and print out the ``Model`` object. The\n:class:`Model <ansys.dpf.core.model.Model>` class helps to organize access\nmethods for the result by keeping track of the operators and data sources\nused by the result file.\n\nPrinting the model displays:\n\n- Analysis type\n- Available results\n- Size of the mesh\n- Number of results\n- Unit\n\n\n"
      ]
    },
    {
      "cell_type": "code",
      "execution_count": null,
      "metadata": {
        "collapsed": false
      },
      "outputs": [],
      "source": [
        "path = examples.download_hemisphere()\nmodel = dpf.Model(path)\nprint(model)"
      ]
    },
    {
      "cell_type": "markdown",
      "metadata": {},
      "source": [
        "Define the node ID normal to plot the a stress gradient\n\n\n"
      ]
    },
    {
      "cell_type": "code",
      "execution_count": null,
      "metadata": {
        "collapsed": false
      },
      "outputs": [],
      "source": [
        "node_id = 1928"
      ]
    },
    {
      "cell_type": "markdown",
      "metadata": {},
      "source": [
        "Print the mesh unit\n\n\n"
      ]
    },
    {
      "cell_type": "code",
      "execution_count": null,
      "metadata": {
        "collapsed": false
      },
      "outputs": [],
      "source": [
        "unit = model.metadata.meshed_region.unit\nprint(\"Unit: %s\" % unit)"
      ]
    },
    {
      "cell_type": "markdown",
      "metadata": {},
      "source": [
        "``depth`` defines the length/depth that the path penetrates to.\nWhile defining ``depth`` make sure you use the correct mesh unit.\n``delta`` defines distance between consecutive points on the path.\n\n"
      ]
    },
    {
      "cell_type": "code",
      "execution_count": null,
      "metadata": {
        "collapsed": false
      },
      "outputs": [],
      "source": [
        "depth = 10  # in mm\ndelta = 0.1  # in mm"
      ]
    },
    {
      "cell_type": "markdown",
      "metadata": {},
      "source": [
        "Get the meshed region\n\n\n"
      ]
    },
    {
      "cell_type": "code",
      "execution_count": null,
      "metadata": {
        "collapsed": false
      },
      "outputs": [],
      "source": [
        "mesh = model.metadata.meshed_region"
      ]
    },
    {
      "cell_type": "markdown",
      "metadata": {},
      "source": [
        "Get Equivalent stress fields container.\n\n\n"
      ]
    },
    {
      "cell_type": "code",
      "execution_count": null,
      "metadata": {
        "collapsed": false
      },
      "outputs": [],
      "source": [
        "stress_fc = model.results.stress().eqv().eval()"
      ]
    },
    {
      "cell_type": "markdown",
      "metadata": {},
      "source": [
        "Define Nodal scoping.\nMake sure to define ``\"Nodal\"`` as the requested location, important for the\n:class:`normals <ansys.dpf.core.operators.geo.normals.normals>` operator.\n\n\n"
      ]
    },
    {
      "cell_type": "code",
      "execution_count": null,
      "metadata": {
        "collapsed": false
      },
      "outputs": [],
      "source": [
        "nodal_scoping = dpf.Scoping(location=dpf.locations.nodal)\nnodal_scoping.ids = [node_id]"
      ]
    },
    {
      "cell_type": "markdown",
      "metadata": {},
      "source": [
        "Get Skin Mesh because :class:`normals <ansys.dpf.core.operators.geo.normals.normals>`\noperator requires Shells as input.\n\n\n"
      ]
    },
    {
      "cell_type": "code",
      "execution_count": null,
      "metadata": {
        "collapsed": false
      },
      "outputs": [],
      "source": [
        "skin_mesh = ops.mesh.skin(mesh=mesh)\nskin_meshed_region = skin_mesh.outputs.mesh.get_data()"
      ]
    },
    {
      "cell_type": "markdown",
      "metadata": {},
      "source": [
        "Get normal at a node using :class:`normals <ansys.dpf.core.operators.geo.normals.normals>`\noperator.\n\n\n"
      ]
    },
    {
      "cell_type": "code",
      "execution_count": null,
      "metadata": {
        "collapsed": false
      },
      "outputs": [],
      "source": [
        "normal = ops.geo.normals()\nnormal.inputs.mesh.connect(skin_meshed_region)\nnormal.inputs.mesh_scoping.connect(nodal_scoping)\nnormal_vec_out_field = normal.outputs.field.get_data()"
      ]
    },
    {
      "cell_type": "markdown",
      "metadata": {},
      "source": [
        "The normal vector is along the surface normal. You need to invert the vector\nusing :class:`scale <ansys.dpf.core.operators.math.scale.scale>` operator\ninwards in the geometry, to get the path direction.\n\n\n"
      ]
    },
    {
      "cell_type": "code",
      "execution_count": null,
      "metadata": {
        "collapsed": false
      },
      "outputs": [],
      "source": [
        "normal_vec_in_field = ops.math.scale(field=normal_vec_out_field, weights=-1.0)\nnormal_vec_in = normal_vec_in_field.outputs.field.get_data().data[0]"
      ]
    },
    {
      "cell_type": "markdown",
      "metadata": {},
      "source": [
        "Get nodal coordinates, they serve as the first point on the line.\n\n\n"
      ]
    },
    {
      "cell_type": "code",
      "execution_count": null,
      "metadata": {
        "collapsed": false
      },
      "outputs": [],
      "source": [
        "node = mesh.nodes.node_by_id(node_id)\nline_fp = node.coordinates"
      ]
    },
    {
      "cell_type": "markdown",
      "metadata": {},
      "source": [
        "Create 3D line equation.\n\n\n"
      ]
    },
    {
      "cell_type": "code",
      "execution_count": null,
      "metadata": {
        "collapsed": false
      },
      "outputs": [],
      "source": [
        "fx = lambda t: line_fp[0] + normal_vec_in[0] * t\nfy = lambda t: line_fp[1] + normal_vec_in[1] * t\nfz = lambda t: line_fp[2] + normal_vec_in[2] * t"
      ]
    },
    {
      "cell_type": "markdown",
      "metadata": {},
      "source": [
        "Create coordinates using 3D line equation.\n\n\n"
      ]
    },
    {
      "cell_type": "code",
      "execution_count": null,
      "metadata": {
        "collapsed": false
      },
      "outputs": [],
      "source": [
        "coordinates = [[fx(t * delta), fy(t * delta), fz(t * delta)] for t in range(int(depth / delta))]\nflat_coordinates = [entry for data in coordinates for entry in data]"
      ]
    },
    {
      "cell_type": "markdown",
      "metadata": {},
      "source": [
        "Create field for coordinates of the path.\n\n\n"
      ]
    },
    {
      "cell_type": "code",
      "execution_count": null,
      "metadata": {
        "collapsed": false
      },
      "outputs": [],
      "source": [
        "field_coord = dpf.fields_factory.create_3d_vector_field(len(coordinates))\nfield_coord.data = flat_coordinates\nfield_coord.scoping.ids = list(range(1, len(coordinates) + 1))"
      ]
    },
    {
      "cell_type": "markdown",
      "metadata": {},
      "source": [
        "Map results on the path.\n\n"
      ]
    },
    {
      "cell_type": "code",
      "execution_count": null,
      "metadata": {
        "collapsed": false
      },
      "outputs": [],
      "source": [
        "mapping_operator = ops.mapping.on_coordinates(\n    fields_container=stress_fc, coordinates=field_coord, create_support=True, mesh=mesh\n)\nfields_mapped = mapping_operator.outputs.fields_container()"
      ]
    },
    {
      "cell_type": "markdown",
      "metadata": {},
      "source": [
        "Request the mapped field data and its mesh.\n\n"
      ]
    },
    {
      "cell_type": "code",
      "execution_count": null,
      "metadata": {
        "collapsed": false
      },
      "outputs": [],
      "source": [
        "field_m = fields_mapped[0]\nmesh_m = field_m.meshed_region"
      ]
    },
    {
      "cell_type": "markdown",
      "metadata": {},
      "source": [
        "Create stress vs length chart.\n\n\n"
      ]
    },
    {
      "cell_type": "code",
      "execution_count": null,
      "metadata": {
        "collapsed": false
      },
      "outputs": [],
      "source": [
        "x_initial = 0.0\nlength = [x_initial + delta * index for index in range(len(field_m.data))]\nplt.plot(length, field_m.data, \"r\")\nplt.xlabel(\"Length (%s)\" % mesh.unit)\nplt.ylabel(\"Stress (%s)\" % field_m.unit)\nplt.show()"
      ]
    },
    {
      "cell_type": "markdown",
      "metadata": {},
      "source": [
        "Create a plot to add both meshes, ``mesh_m`` (the mapped mesh) and ``mesh``\n(the original mesh)\n\n"
      ]
    },
    {
      "cell_type": "code",
      "execution_count": null,
      "metadata": {
        "collapsed": false
      },
      "outputs": [],
      "source": [
        "pl = DpfPlotter()\npl.add_field(field_m, mesh_m)\npl.add_mesh(mesh, style=\"surface\", show_edges=True, color=\"w\", opacity=0.3)\npl.show_figure(\n    show_axes=True,\n    cpos=[(62.687, 50.119, 67.247), (5.135, 6.458, -0.355), (-0.286, 0.897, -0.336)],\n)"
      ]
    }
  ],
  "metadata": {
    "kernelspec": {
      "display_name": "Python 3",
      "language": "python",
      "name": "python3"
    },
    "language_info": {
      "codemirror_mode": {
        "name": "ipython",
        "version": 3
      },
      "file_extension": ".py",
      "mimetype": "text/x-python",
      "name": "python",
      "nbconvert_exporter": "python",
      "pygments_lexer": "ipython3",
      "version": "3.12.3"
    }
  },
  "nbformat": 4,
  "nbformat_minor": 0
}