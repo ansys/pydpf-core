{
  "cells": [
    {
      "cell_type": "markdown",
      "metadata": {},
      "source": [
        "\n\n# Use result helpers to load custom data\n\nThe :class:`Result <ansys.dpf.core.results.Result>` class, which is an instance\ncreated by the :class:`Model <ansys.dpf.core.model.Model>`, gives\naccess to helpers for requesting results on specific mesh and time scopings.\nWith these helpers, working on a custom spatial and temporal subset of the\nmodel is straightforward.\n"
      ]
    },
    {
      "cell_type": "code",
      "execution_count": null,
      "metadata": {
        "collapsed": false
      },
      "outputs": [],
      "source": [
        "# Import necessary modules\nfrom ansys.dpf import core as dpf\nfrom ansys.dpf.core import examples"
      ]
    },
    {
      "cell_type": "markdown",
      "metadata": {},
      "source": [
        "Create a model object to establish a connection with an example result file:\n\n"
      ]
    },
    {
      "cell_type": "code",
      "execution_count": null,
      "metadata": {
        "collapsed": false
      },
      "outputs": [],
      "source": [
        "model = dpf.Model(examples.download_multi_stage_cyclic_result())\nprint(model)"
      ]
    },
    {
      "cell_type": "markdown",
      "metadata": {},
      "source": [
        "# Visualize specific mode shapes\nChoose the modes to visualize:\n\n"
      ]
    },
    {
      "cell_type": "code",
      "execution_count": null,
      "metadata": {
        "collapsed": false
      },
      "outputs": [],
      "source": [
        "modes = [1, 5, 6]\n\ndisp = model.results.displacement.on_time_scoping(modes)"
      ]
    },
    {
      "cell_type": "markdown",
      "metadata": {},
      "source": [
        "# Choose a spatial subset\nWork on only a named selection (or component).\n\n"
      ]
    },
    {
      "cell_type": "markdown",
      "metadata": {},
      "source": [
        "Print the available named selection:\n\n"
      ]
    },
    {
      "cell_type": "code",
      "execution_count": null,
      "metadata": {
        "collapsed": false
      },
      "outputs": [],
      "source": [
        "print(model.metadata.available_named_selections)"
      ]
    },
    {
      "cell_type": "markdown",
      "metadata": {},
      "source": [
        "Specify to the result that you want to work on a specific named selection:\n\n"
      ]
    },
    {
      "cell_type": "code",
      "execution_count": null,
      "metadata": {
        "collapsed": false
      },
      "outputs": [],
      "source": [
        "disp.on_named_selection(\"_STAG1_BASE_NOD\")\nop = disp()\nop.inputs.read_cyclic(2)  # expand cyclic\nresults = op.outputs.fields_container()\n\n# plot\nfor mode in modes:\n    results[0].meshed_region.plot(results.get_fields_by_time_complex_ids(mode, 0)[0])"
      ]
    },
    {
      "cell_type": "markdown",
      "metadata": {},
      "source": [
        "Specify to the result that you want to work on specific nodes:\n\n"
      ]
    },
    {
      "cell_type": "code",
      "execution_count": null,
      "metadata": {
        "collapsed": false
      },
      "outputs": [],
      "source": [
        "disp = model.results.displacement.on_time_scoping(modes)\ndisp.on_mesh_scoping(list(range(1, 200)))\nop = disp()\nop.inputs.read_cyclic(2)  # expand cyclic\nresults = op.outputs.fields_container()\n\n# plot\nfor mode in modes:\n    results[0].meshed_region.plot(results.get_fields_by_time_complex_ids(mode, 0)[0])"
      ]
    }
  ],
  "metadata": {
    "kernelspec": {
      "display_name": "Python 3",
      "language": "python",
      "name": "python3"
    },
    "language_info": {
      "codemirror_mode": {
        "name": "ipython",
        "version": 3
      },
      "file_extension": ".py",
      "mimetype": "text/x-python",
      "name": "python",
      "nbconvert_exporter": "python",
      "pygments_lexer": "ipython3",
      "version": "3.12.3"
    }
  },
  "nbformat": 4,
  "nbformat_minor": 0
}