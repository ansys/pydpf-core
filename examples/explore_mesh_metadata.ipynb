{
 "cells": [
  {
   "cell_type": "code",
   "execution_count": 1,
   "id": "da65a0bb",
   "metadata": {
    "execution": {
     "iopub.execute_input": "2025-08-08T08:01:42.707252Z",
     "iopub.status.busy": "2025-08-08T08:01:42.706242Z",
     "iopub.status.idle": "2025-08-08T08:01:44.749122Z",
     "shell.execute_reply": "2025-08-08T08:01:44.748610Z"
    }
   },
   "outputs": [],
   "source": [
    "# Import the ``ansys.dpf.core`` module\n",
    "from ansys.dpf import core as dpf\n",
    "# Import the examples module\n",
    "from ansys.dpf.core import examples\n",
    "\n",
    "# Define the result file path\n",
    "result_file_path_2 = examples.download_d3plot_beam()"
   ]
  },
  {
   "cell_type": "code",
   "execution_count": 2,
   "id": "4f3dcfbb",
   "metadata": {
    "execution": {
     "iopub.execute_input": "2025-08-08T08:01:44.753990Z",
     "iopub.status.busy": "2025-08-08T08:01:44.752991Z",
     "iopub.status.idle": "2025-08-08T08:01:44.764969Z",
     "shell.execute_reply": "2025-08-08T08:01:44.764969Z"
    }
   },
   "outputs": [],
   "source": [
    "# Import the ``ansys.dpf.core`` module\n",
    "from ansys.dpf import core as dpf\n",
    "# Import the examples module\n",
    "from ansys.dpf.core import examples\n",
    "\n",
    "# Define the result file path\n",
    "result_file_path_3 = examples.download_fluent_axial_comp()[\"flprj\"]"
   ]
  },
  {
   "cell_type": "code",
   "execution_count": 3,
   "id": "370618f1",
   "metadata": {
    "execution": {
     "iopub.execute_input": "2025-08-08T08:01:44.770014Z",
     "iopub.status.busy": "2025-08-08T08:01:44.769412Z",
     "iopub.status.idle": "2025-08-08T08:01:44.776494Z",
     "shell.execute_reply": "2025-08-08T08:01:44.775376Z"
    }
   },
   "outputs": [],
   "source": [
    "# Import the ``ansys.dpf.core`` module\n",
    "from ansys.dpf import core as dpf\n",
    "# Import the examples module\n",
    "from ansys.dpf.core import examples\n",
    "\n",
    "# Define the result file path\n",
    "result_file_path_4 = examples.download_cfx_mixing_elbow()"
   ]
  },
  {
   "cell_type": "code",
   "execution_count": 4,
   "id": "d6abae15",
   "metadata": {
    "execution": {
     "iopub.execute_input": "2025-08-08T08:01:44.780149Z",
     "iopub.status.busy": "2025-08-08T08:01:44.778988Z",
     "iopub.status.idle": "2025-08-08T08:01:44.784778Z",
     "shell.execute_reply": "2025-08-08T08:01:44.784778Z"
    }
   },
   "outputs": [],
   "source": [
    "# Create the DataSources object\n",
    "ds_2 = dpf.DataSources()\n",
    "ds_2.set_result_file_path(filepath=result_file_path_2[0], key=\"d3plot\")\n",
    "ds_2.add_file_path(filepath=result_file_path_2[3], key=\"actunits\")\n",
    "# Create the Model\n",
    "model_2 = dpf.Model(data_sources=ds_2)"
   ]
  },
  {
   "cell_type": "code",
   "execution_count": 5,
   "id": "c796a5ea",
   "metadata": {
    "execution": {
     "iopub.execute_input": "2025-08-08T08:01:44.788124Z",
     "iopub.status.busy": "2025-08-08T08:01:44.787123Z",
     "iopub.status.idle": "2025-08-08T08:01:44.794448Z",
     "shell.execute_reply": "2025-08-08T08:01:44.793437Z"
    }
   },
   "outputs": [],
   "source": [
    "# Create the Model\n",
    "model_3 = dpf.Model(data_sources=result_file_path_3)"
   ]
  },
  {
   "cell_type": "code",
   "execution_count": 6,
   "id": "cec9a8e7",
   "metadata": {
    "execution": {
     "iopub.execute_input": "2025-08-08T08:01:44.798597Z",
     "iopub.status.busy": "2025-08-08T08:01:44.797443Z",
     "iopub.status.idle": "2025-08-08T08:01:44.802897Z",
     "shell.execute_reply": "2025-08-08T08:01:44.801859Z"
    }
   },
   "outputs": [],
   "source": [
    "# Create the Model\n",
    "model_4 = dpf.Model(data_sources=result_file_path_4)"
   ]
  },
  {
   "cell_type": "code",
   "execution_count": 7,
   "id": "e37edd06",
   "metadata": {
    "execution": {
     "iopub.execute_input": "2025-08-08T08:01:44.806015Z",
     "iopub.status.busy": "2025-08-08T08:01:44.806015Z",
     "iopub.status.idle": "2025-08-08T08:01:44.829740Z",
     "shell.execute_reply": "2025-08-08T08:01:44.829740Z"
    }
   },
   "outputs": [
    {
     "name": "stdout",
     "output_type": "stream",
     "text": [
      "DPF MeshInfo\n",
      "------------------------------\n",
      "with properties:\n",
      "  part_names          \tStringField\n",
      "  part_scoping        \tScoping\n"
     ]
    }
   ],
   "source": [
    "# Get the mesh metadata information\n",
    "mesh_info_2 = model_2.metadata.mesh_info\n",
    "\n",
    "# Print the mesh metadata information\n",
    "print(mesh_info_2)"
   ]
  },
  {
   "cell_type": "code",
   "execution_count": 8,
   "id": "7eb23fdd",
   "metadata": {
    "execution": {
     "iopub.execute_input": "2025-08-08T08:01:44.834192Z",
     "iopub.status.busy": "2025-08-08T08:01:44.833150Z",
     "iopub.status.idle": "2025-08-08T08:01:46.592972Z",
     "shell.execute_reply": "2025-08-08T08:01:46.591494Z"
    }
   },
   "outputs": [
    {
     "name": "stdout",
     "output_type": "stream",
     "text": [
      "DPF MeshInfo\n",
      "------------------------------\n",
      "with properties:\n",
      "  num_cells           \tint\n",
      "  num_nodes           \tint\n",
      "  num_faces           \tint\n",
      "  body_names          \tStringField\n",
      "  body_cell_topology  \tPropertyField\n",
      "  body_face_topology  \tPropertyField\n",
      "  body_scoping        \tScoping\n",
      "  cell_zone_names     \tStringField\n",
      "  cell_zone_elements  \tPropertyField\n",
      "  cell_zone_scoping   \tScoping\n",
      "  face_zone_names     \tStringField\n",
      "  face_zone_elements  \tPropertyField\n",
      "  face_zone_scoping   \tScoping\n",
      "  zone_names          \tStringField\n",
      "  num_elem_zone       \tPropertyField\n",
      "  zone_scoping        \tScoping\n",
      "  splittable_by       \tStringField\n"
     ]
    }
   ],
   "source": [
    "# Get the mesh metadata information\n",
    "mesh_info_3 = model_3.metadata.mesh_info\n",
    "\n",
    "# Print the mesh metadata information\n",
    "print(mesh_info_3)"
   ]
  },
  {
   "cell_type": "code",
   "execution_count": 9,
   "id": "6690b535",
   "metadata": {
    "execution": {
     "iopub.execute_input": "2025-08-08T08:01:46.597062Z",
     "iopub.status.busy": "2025-08-08T08:01:46.596066Z",
     "iopub.status.idle": "2025-08-08T08:01:46.895532Z",
     "shell.execute_reply": "2025-08-08T08:01:46.894516Z"
    }
   },
   "outputs": [
    {
     "name": "stdout",
     "output_type": "stream",
     "text": [
      "DPF MeshInfo\n",
      "------------------------------\n",
      "with properties:\n",
      "  num_nodes           \tint\n",
      "  num_cells           \tint\n",
      "  body_names          \tStringField\n",
      "  body_cell_topology  \tPropertyField\n",
      "  num_faces           \tint\n",
      "  body_face_topology  \tPropertyField\n",
      "  body_scoping        \tScoping\n",
      "  cell_zone_names     \tStringField\n",
      "  cell_zone_elements  \tPropertyField\n",
      "  face_zone_names     \tStringField\n",
      "  cell_zone_scoping   \tScoping\n",
      "  face_zone_elements  \tPropertyField\n",
      "  face_zone_scoping   \tScoping\n",
      "  zone_names          \tStringField\n",
      "  num_elem_zone       \tPropertyField\n",
      "  zone_scoping        \tScoping\n",
      "  splittable_by       \tStringField\n"
     ]
    }
   ],
   "source": [
    "# Get the mesh metadata information\n",
    "mesh_info_4 = model_4.metadata.mesh_info\n",
    "\n",
    "# Print the mesh metadata information\n",
    "print(mesh_info_4)"
   ]
  },
  {
   "cell_type": "code",
   "execution_count": 10,
   "id": "1e408b49",
   "metadata": {
    "execution": {
     "iopub.execute_input": "2025-08-08T08:01:46.901073Z",
     "iopub.status.busy": "2025-08-08T08:01:46.900074Z",
     "iopub.status.idle": "2025-08-08T08:01:46.910709Z",
     "shell.execute_reply": "2025-08-08T08:01:46.909411Z"
    }
   },
   "outputs": [
    {
     "name": "stdout",
     "output_type": "stream",
     "text": [
      "DPF String Field\n",
      "  2 part entities \n",
      "  Data:2 elementary data \n",
      "\n",
      "  part\n",
      "  IDs                   data\n",
      "  ------------          ----------\n",
      "  1                                                                                             \n",
      "                        \n",
      "  2                     ball                                                                    \n",
      "                        \n",
      "\n",
      "\n"
     ]
    }
   ],
   "source": [
    "# Get the part names\n",
    "cell_zones_2 = mesh_info_2.get_property(\"part_names\")\n",
    "\n",
    "# Print the part names\n",
    "print(cell_zones_2)"
   ]
  },
  {
   "cell_type": "code",
   "execution_count": 11,
   "id": "2d169b9a",
   "metadata": {
    "execution": {
     "iopub.execute_input": "2025-08-08T08:01:46.914195Z",
     "iopub.status.busy": "2025-08-08T08:01:46.913186Z",
     "iopub.status.idle": "2025-08-08T08:01:46.920616Z",
     "shell.execute_reply": "2025-08-08T08:01:46.919608Z"
    }
   },
   "outputs": [
    {
     "name": "stdout",
     "output_type": "stream",
     "text": [
      "DPF String Field\n",
      "  2 zone entities \n",
      "  Data:2 elementary data \n",
      "\n",
      "  zone\n",
      "  IDs                   data\n",
      "  ------------          ----------\n",
      "  13                    fluid-rotor    \n",
      "                        \n",
      "  28                    fluid-stator   \n",
      "                        \n",
      "\n",
      "\n"
     ]
    }
   ],
   "source": [
    "# Get the cell zone names\n",
    "cell_zones_3 = mesh_info_3.get_property(\"cell_zone_names\")\n",
    "\n",
    "# Print the cell zone names\n",
    "print(cell_zones_3)"
   ]
  },
  {
   "cell_type": "code",
   "execution_count": 12,
   "id": "22146238",
   "metadata": {
    "execution": {
     "iopub.execute_input": "2025-08-08T08:01:46.924793Z",
     "iopub.status.busy": "2025-08-08T08:01:46.923794Z",
     "iopub.status.idle": "2025-08-08T08:01:46.929478Z",
     "shell.execute_reply": "2025-08-08T08:01:46.929478Z"
    }
   },
   "outputs": [
    {
     "name": "stdout",
     "output_type": "stream",
     "text": [
      "DPF String Field\n",
      "  3 zone entities \n",
      "  Data:3 elementary data \n",
      "\n",
      "  zone\n",
      "  IDs                   data\n",
      "  ------------          ----------\n",
      "  2                     ZN1/ES1        \n",
      "                        \n",
      "  3                     ZN1/ES2        \n",
      "                        \n",
      "  4                     ZN1/ES3        \n",
      "                        \n",
      "\n",
      "\n"
     ]
    }
   ],
   "source": [
    "# Get the cell zone names\n",
    "cell_zones_4 = mesh_info_4.get_property(\"cell_zone_names\")\n",
    "\n",
    "# Print the cell zone names\n",
    "print(cell_zones_4)"
   ]
  }
 ],
 "metadata": {
  "kernelspec": {
   "display_name": "Python 3 (ipykernel)",
   "language": "python",
   "name": "python3"
  },
  "language_info": {
   "codemirror_mode": {
    "name": "ipython",
    "version": 3
   },
   "file_extension": ".py",
   "mimetype": "text/x-python",
   "name": "python",
   "nbconvert_exporter": "python",
   "pygments_lexer": "ipython3",
   "version": "3.12.3"
  }
 },
 "nbformat": 4,
 "nbformat_minor": 5
}