{
  "cells": [
    {
      "cell_type": "markdown",
      "metadata": {},
      "source": [
        "# Create a basic operator plugin {#ref_wrapping_numpy_capabilities}\r\n\r\nThis example shows how to create a basic operator plugin, which is for a\r\nsingle custom operator. This custom operator, `easy_statistics`,\r\ncomputes simple statistics quantities on a scalar field with the help of\r\nthe `numpy` package.\r\n\r\nThe objective of this simple example is to show how routines for DPF can\r\nbe wrapped in Python plugins.\r\n\r\n:::: note\r\n::: title\r\nNote\r\n:::\r\n\r\nThis example requires DPF 4.0 (Ansys 2022R2) or above. For more\r\ninformation, see `ref_compatibility`{.interpreted-text role=\"ref\"}.\r\n::::\r\n"
      ]
    },
    {
      "cell_type": "markdown",
      "metadata": {},
      "source": [
        "# Create the operator\r\n\r\nCreating a basic operator plugin consists of writing a single Python\r\nscript. An operator implementation derives from the\r\n`ansys.dpf.core.custom_operator.CustomOperatorBase`{.interpreted-text\r\nrole=\"class\"} class and a call to the\r\n`ansys.dpf.core.custom_operator.record_operator`{.interpreted-text\r\nrole=\"py:func\"} method.\r\n\r\nThe `easy_statistics` operator takes a field as an input and returns the\r\nfirst quartile, the median, the third quartile, and the variance. The\r\nPython operator and its recording are available in the\r\n`easy_statistics.py` file.\r\n\r\nDownload and display the Python script.\r\n"
      ]
    },
    {
      "cell_type": "code",
      "execution_count": null,
      "metadata": {
        "collapsed": false
      },
      "outputs": [],
      "source": [
        "from ansys.dpf.core import examples\nfrom ansys.dpf import core as dpf\n\n\nGITHUB_SOURCE_URL = (\n    \"https://github.com/ansys/pydpf-core/\" \"raw/examples/first_python_plugins/python_plugins\"\n)\nEXAMPLE_FILE = GITHUB_SOURCE_URL + \"/easy_statistics.py\"\noperator_file_path = examples.downloads._retrieve_file(\n    EXAMPLE_FILE, \"easy_statistics.py\", \"python_plugins\"\n)\n\nwith open(operator_file_path, \"r\") as f:\n    for line in f.readlines():\n        print(\"\\t\\t\\t\" + line)"
      ]
    },
    {
      "cell_type": "markdown",
      "metadata": {},
      "source": [
        "# Load the plugin\r\n\r\nYou use the `ansys.dpf.core.core.load_library`{.interpreted-text\r\nrole=\"py:func\"} method to load the plugin.\r\n"
      ]
    },
    {
      "cell_type": "code",
      "execution_count": null,
      "metadata": {
        "collapsed": false
      },
      "outputs": [],
      "source": [
        "# - The first argument is the path to the directory where the plugin\n#   is located.\n# - The second argument is ``py_`` plus the name of the Python script.\n# - The third argument is the name of the function used to record operators.\n#\n\nimport os\nfrom ansys.dpf import core as dpf\nfrom ansys.dpf.core import examples\n\n# Python plugins are not supported in process.\ndpf.start_local_server(config=dpf.AvailableServerConfigs.GrpcServer)\n\noperator_server_file_path = dpf.upload_file_in_tmp_folder(operator_file_path)\ndpf.load_library(os.path.dirname(operator_server_file_path), \"py_easy_statistics\", \"load_operators\")"
      ]
    },
    {
      "cell_type": "markdown",
      "metadata": {},
      "source": [
        "Instantiate the operator.\r\n"
      ]
    },
    {
      "cell_type": "code",
      "execution_count": null,
      "metadata": {
        "collapsed": false
      },
      "outputs": [],
      "source": [
        "new_operator = dpf.Operator(\"easy_statistics\")"
      ]
    },
    {
      "cell_type": "markdown",
      "metadata": {},
      "source": [
        "# Connect a workflow\r\n\r\nConnect a workflow that computes the norm of the displacement to the\r\n`easy_statistics` operator. Methods of the `easy_statistics` class are\r\ndynamically added because specifications for the operator are defined in\r\nthe plugin.\r\n"
      ]
    },
    {
      "cell_type": "markdown",
      "metadata": {},
      "source": [
        "::: graphviz\r\n\r\ndigraph foo {\r\n\r\n:   graph \\[pad=\\\"0.5\\\", nodesep=\\\"0.3\\\", ranksep=\\\"0.3\\\"\\] node\r\n    \\[shape=box, style=filled, fillcolor=\\\"#ffcc00\\\", margin=\\\"0\\\"\\];\r\n    rankdir=LR; splines=line; ds \\[label=\\\"ds\\\", shape=box,\r\n    style=filled, fillcolor=cadetblue2\\]; ds -\\> displacement\r\n    \\[style=dashed\\]; displacement -\\> norm; norm -\\> easy_statistics;\r\n\r\n}\r\n:::\r\n"
      ]
    },
    {
      "cell_type": "markdown",
      "metadata": {},
      "source": [
        "# Use the operator\r\n"
      ]
    },
    {
      "cell_type": "code",
      "execution_count": null,
      "metadata": {
        "collapsed": false
      },
      "outputs": [],
      "source": [
        "ds = dpf.DataSources(dpf.upload_file_in_tmp_folder(examples.find_static_rst()))\ndisplacement = dpf.operators.result.displacement(data_sources=ds)\nnorm = dpf.operators.math.norm(displacement)\nnew_operator.inputs.connect(norm)\n\nprint(\"first quartile is\", new_operator.outputs.first_quartile())\nprint(\"median is\", new_operator.outputs.median())\nprint(\"third quartile is\", new_operator.outputs.third_quartile())\nprint(\"variance is\", new_operator.outputs.variance())"
      ]
    }
  ],
  "metadata": {
    "kernelspec": {
      "display_name": "Python 3",
      "language": "python",
      "name": "python3"
    },
    "language_info": {
      "codemirror_mode": {
        "name": "ipython",
        "version": 3
      },
      "file_extension": ".py",
      "mimetype": "text/x-python",
      "name": "python",
      "nbconvert_exporter": "python",
      "pygments_lexer": "ipython3",
      "version": "3.10.11"
    }
  },
  "nbformat": 4,
  "nbformat_minor": 0
}