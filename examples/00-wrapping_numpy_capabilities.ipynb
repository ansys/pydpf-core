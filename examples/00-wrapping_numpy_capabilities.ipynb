{
  "cells": [
    {
      "cell_type": "markdown",
      "metadata": {},
      "source": [
        "\n\n# Create a basic operator plugin\n\nThis example shows how to create a basic operator plugin, which is for\na single custom operator. This custom operator, ``easy_statistics``,\ncomputes simple statistics quantities on a scalar field with the help of\nthe ``numpy`` package.\n\nThe objective of this simple example is to show how routines for DPF can\nbe wrapped in Python plugins.\n\n<div class=\"alert alert-info\"><h4>Note</h4><p>This example requires DPF 5.0 (Ansys 2023R1) or above.\n    For more information, see `ref_compatibility`.</p></div>\n"
      ]
    },
    {
      "cell_type": "markdown",
      "metadata": {},
      "source": [
        "## Create the operator\nCreating a basic operator plugin consists of writing a single Python script.\nAn operator implementation derives from the\n:class:`ansys.dpf.core.custom_operator.CustomOperatorBase` class\nand a call to the :py:func:`ansys.dpf.core.custom_operator.record_operator`\nmethod.\n\nThe ``easy_statistics`` operator takes a field as an input and returns\nthe first quartile, the median, the third quartile, and the variance.\nThe Python operator and its recording are available in the\n``easy_statistics.py`` file.\n\nDownload and display the Python script.\n\n"
      ]
    },
    {
      "cell_type": "code",
      "execution_count": null,
      "metadata": {
        "collapsed": false
      },
      "outputs": [],
      "source": [
        "from pathlib import Path\n\nfrom ansys.dpf.core.examples import download_easy_statistics\n\noperator_file_path = Path(download_easy_statistics())\n\nwith operator_file_path.open() as file:\n    for line in file.readlines():\n        print(\"\\t\\t\\t\" + line)"
      ]
    },
    {
      "cell_type": "markdown",
      "metadata": {},
      "source": [
        "## Load the plugin\nYou use the :py:func:`ansys.dpf.core.core.load_library` method to load the\nplugin.\n\n"
      ]
    },
    {
      "cell_type": "code",
      "execution_count": null,
      "metadata": {
        "collapsed": false
      },
      "outputs": [],
      "source": [
        "# - The first argument is the path to the directory where the plugin\n#   is located.\n# - The second argument is ``py_`` plus the name of the Python script.\n# - The third argument is the name of the function used to record operators.\n#\n\nfrom ansys.dpf import core as dpf\nfrom ansys.dpf.core import examples\n\n# Python plugins are not supported in process.\ndpf.start_local_server(config=dpf.AvailableServerConfigs.GrpcServer)\n\noperator_server_file_path = Path(dpf.upload_file_in_tmp_folder(operator_file_path))\ndpf.load_library(operator_server_file_path.parent, \"py_easy_statistics\", \"load_operators\")"
      ]
    },
    {
      "cell_type": "markdown",
      "metadata": {},
      "source": [
        "Instantiate the operator.\n\n"
      ]
    },
    {
      "cell_type": "code",
      "execution_count": null,
      "metadata": {
        "collapsed": false
      },
      "outputs": [],
      "source": [
        "new_operator = dpf.Operator(\"easy_statistics\")"
      ]
    },
    {
      "cell_type": "markdown",
      "metadata": {},
      "source": [
        "## Connect a workflow\nConnect a workflow that computes the norm of the displacement to the\n``easy_statistics`` operator. Methods of the ``easy_statistics`` class\nare dynamically added because specifications for the operator are\ndefined in the plugin.\n\n"
      ]
    },
    {
      "cell_type": "markdown",
      "metadata": {},
      "source": [
        ".. graphviz::\n\n   digraph foo {\n      graph [pad=\"0.5\", nodesep=\"0.3\", ranksep=\"0.3\"]\n      node [shape=box, style=filled, fillcolor=\"#ffcc00\", margin=\"0\"];\n      rankdir=LR;\n      splines=line;\n      ds [label=\"ds\", shape=box, style=filled, fillcolor=cadetblue2];\n      ds -> displacement [style=dashed];\n      displacement -> norm;\n      norm -> easy_statistics;\n   }\n\n"
      ]
    },
    {
      "cell_type": "markdown",
      "metadata": {},
      "source": [
        "## Use the operator\n\n"
      ]
    },
    {
      "cell_type": "code",
      "execution_count": null,
      "metadata": {
        "collapsed": false
      },
      "outputs": [],
      "source": [
        "ds = dpf.DataSources(dpf.upload_file_in_tmp_folder(examples.find_static_rst()))\ndisplacement = dpf.operators.result.displacement(data_sources=ds)\nnorm = dpf.operators.math.norm(displacement)\nnew_operator.inputs.connect(norm)\n\nprint(\"first quartile is\", new_operator.outputs.first_quartile())\nprint(\"median is\", new_operator.outputs.median())\nprint(\"third quartile is\", new_operator.outputs.third_quartile())\nprint(\"variance is\", new_operator.outputs.variance())"
      ]
    }
  ],
  "metadata": {
    "kernelspec": {
      "display_name": "Python 3",
      "language": "python",
      "name": "python3"
    },
    "language_info": {
      "codemirror_mode": {
        "name": "ipython",
        "version": 3
      },
      "file_extension": ".py",
      "mimetype": "text/x-python",
      "name": "python",
      "nbconvert_exporter": "python",
      "pygments_lexer": "ipython3",
      "version": "3.12.3"
    }
  },
  "nbformat": 4,
  "nbformat_minor": 0
}