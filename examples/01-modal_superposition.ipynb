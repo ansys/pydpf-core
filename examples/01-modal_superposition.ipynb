{
  "cells": [
    {
      "cell_type": "markdown",
      "metadata": {},
      "source": [
        "\n\n# Expand harmonic modal superposition with DPF\n\nDifferent types of linear dynamics expansions are implemented in DPF.\nWith modal superposition used in harmonic analysis, modal coefficients\nare multiplied by mode shapes (of a previous modal analysis) to analyse\na structure under given boundary conditions in a range of frequencies.\nDoing this expansion \"on demand\" in DPF instead of in the solver\nreduces the size of the result files.\n"
      ]
    },
    {
      "cell_type": "code",
      "execution_count": null,
      "metadata": {
        "collapsed": false
      },
      "outputs": [],
      "source": [
        "from ansys.dpf import core as dpf\nfrom ansys.dpf.core import examples"
      ]
    },
    {
      "cell_type": "markdown",
      "metadata": {},
      "source": [
        "# Create data sources\nCreate data sources with the mode shapes and the modal response.\nThe expansion is recursive in DPF: first the modal response is read.\nThen, \"upstream\" mode shapes are found in the data sources, where they\nare read and expanded (mode shapes x modal response)\n\n"
      ]
    },
    {
      "cell_type": "code",
      "execution_count": null,
      "metadata": {
        "collapsed": false
      },
      "outputs": [],
      "source": [
        "msup_files = examples.download_msup_files_to_dict()\ndata_sources = dpf.DataSources(msup_files[\"rfrq\"])\nup_stream_data_sources = dpf.DataSources(msup_files[\"mode\"])\nup_stream_data_sources.add_file_path(msup_files[\"rst\"])\n\ndata_sources.add_upstream(up_stream_data_sources)"
      ]
    },
    {
      "cell_type": "markdown",
      "metadata": {},
      "source": [
        "# Compute displacements\nOnce the ``add_upstream()`` method puts the recursivity in the data sources,\nin a harmonic, transient, or modal analysis, computing displacements with\nor without expansion has the exact same syntax.\n\n"
      ]
    },
    {
      "cell_type": "code",
      "execution_count": null,
      "metadata": {
        "collapsed": false
      },
      "outputs": [],
      "source": [
        "model = dpf.Model(data_sources)\ndisp = model.results.displacement.on_all_time_freqs.eval()\n\nfreq_scoping = disp.get_time_scoping()\nfor freq_set in freq_scoping:\n    model.metadata.meshed_region.plot(disp.get_field_by_time_complex_ids(freq_set, 0))"
      ]
    }
  ],
  "metadata": {
    "kernelspec": {
      "display_name": "Python 3",
      "language": "python",
      "name": "python3"
    },
    "language_info": {
      "codemirror_mode": {
        "name": "ipython",
        "version": 3
      },
      "file_extension": ".py",
      "mimetype": "text/x-python",
      "name": "python",
      "nbconvert_exporter": "python",
      "pygments_lexer": "ipython3",
      "version": "3.12.3"
    }
  },
  "nbformat": 4,
  "nbformat_minor": 0
}