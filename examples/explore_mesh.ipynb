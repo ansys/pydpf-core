{
 "cells": [
  {
   "cell_type": "code",
   "execution_count": 1,
   "id": "e8c8ed49",
   "metadata": {
    "execution": {
     "iopub.execute_input": "2025-08-08T08:01:32.588398Z",
     "iopub.status.busy": "2025-08-08T08:01:32.588398Z",
     "iopub.status.idle": "2025-08-08T08:01:34.615982Z",
     "shell.execute_reply": "2025-08-08T08:01:34.615982Z"
    }
   },
   "outputs": [],
   "source": [
    "# Import the ``ansys.dpf.core`` module\n",
    "from ansys.dpf import core as dpf\n",
    "# Import the examples module\n",
    "from ansys.dpf.core import examples\n",
    "# Import the operators module\n",
    "from ansys.dpf.core import operators as ops\n",
    "\n",
    "# Define the result file path\n",
    "result_file_path_1 = examples.find_static_rst()\n",
    "# Create the model\n",
    "model_1 = dpf.Model(data_sources=result_file_path_1)\n",
    "# Get the mesh\n",
    "meshed_region_1 = model_1.metadata.meshed_region"
   ]
  },
  {
   "cell_type": "code",
   "execution_count": 2,
   "id": "e5175367",
   "metadata": {
    "execution": {
     "iopub.execute_input": "2025-08-08T08:01:34.620884Z",
     "iopub.status.busy": "2025-08-08T08:01:34.619858Z",
     "iopub.status.idle": "2025-08-08T08:01:34.639690Z",
     "shell.execute_reply": "2025-08-08T08:01:34.638675Z"
    }
   },
   "outputs": [],
   "source": [
    "# Import the ``ansys.dpf.core`` module\n",
    "from ansys.dpf import core as dpf\n",
    "# Import the examples module\n",
    "from ansys.dpf.core import examples\n",
    "# Import the operators module\n",
    "from ansys.dpf.core import operators as ops\n",
    "\n",
    "# Define the result file path\n",
    "result_file_path_2 = examples.download_d3plot_beam()\n",
    "# Create the DataSources object\n",
    "ds_2 = dpf.DataSources()\n",
    "ds_2.set_result_file_path(filepath=result_file_path_2[0], key=\"d3plot\")\n",
    "ds_2.add_file_path(filepath=result_file_path_2[3], key=\"actunits\")\n",
    "# Create the model\n",
    "model_2 = dpf.Model(data_sources=ds_2)\n",
    "# Get the mesh\n",
    "meshed_region_2 = model_2.metadata.meshed_region"
   ]
  },
  {
   "cell_type": "code",
   "execution_count": 3,
   "id": "14f58d88",
   "metadata": {
    "execution": {
     "iopub.execute_input": "2025-08-08T08:01:34.642874Z",
     "iopub.status.busy": "2025-08-08T08:01:34.642874Z",
     "iopub.status.idle": "2025-08-08T08:01:36.942139Z",
     "shell.execute_reply": "2025-08-08T08:01:36.942139Z"
    }
   },
   "outputs": [],
   "source": [
    "# Import the ``ansys.dpf.core`` module\n",
    "from ansys.dpf import core as dpf\n",
    "# Import the examples module\n",
    "from ansys.dpf.core import examples\n",
    "# Import the operators module\n",
    "from ansys.dpf.core import operators as ops\n",
    "\n",
    "# Define the result file path\n",
    "result_file_path_3 = examples.download_fluent_axial_comp()[\"flprj\"]\n",
    "# Create the model\n",
    "model_3 = dpf.Model(data_sources=result_file_path_3)\n",
    "# Get the mesh\n",
    "meshed_region_3 = model_3.metadata.meshed_region"
   ]
  },
  {
   "cell_type": "code",
   "execution_count": 4,
   "id": "7777da31",
   "metadata": {
    "execution": {
     "iopub.execute_input": "2025-08-08T08:01:36.945887Z",
     "iopub.status.busy": "2025-08-08T08:01:36.945887Z",
     "iopub.status.idle": "2025-08-08T08:01:37.201007Z",
     "shell.execute_reply": "2025-08-08T08:01:37.200000Z"
    }
   },
   "outputs": [],
   "source": [
    "# Import the ``ansys.dpf.core`` module\n",
    "from ansys.dpf import core as dpf\n",
    "# Import the examples module\n",
    "from ansys.dpf.core import examples\n",
    "# Import the operators module\n",
    "from ansys.dpf.core import operators as ops\n",
    "\n",
    "# Define the result file path\n",
    "result_file_path_4 = examples.download_cfx_mixing_elbow()\n",
    "# Create the model\n",
    "model_4 = dpf.Model(data_sources=result_file_path_4)\n",
    "# Get the mesh\n",
    "meshed_region_4 = model_4.metadata.meshed_region"
   ]
  },
  {
   "cell_type": "code",
   "execution_count": 5,
   "id": "2e5954d5",
   "metadata": {
    "execution": {
     "iopub.execute_input": "2025-08-08T08:01:37.204007Z",
     "iopub.status.busy": "2025-08-08T08:01:37.204007Z",
     "iopub.status.idle": "2025-08-08T08:01:37.209852Z",
     "shell.execute_reply": "2025-08-08T08:01:37.208848Z"
    }
   },
   "outputs": [
    {
     "name": "stdout",
     "output_type": "stream",
     "text": [
      "Object type:  <class 'ansys.dpf.core.nodes.Nodes'> \n",
      "\n",
      "Nodes:  DPF Node collection with 81 nodes\n",
      "\n"
     ]
    }
   ],
   "source": [
    "# Get the mesh nodes\n",
    "nodes_1 = meshed_region_1.nodes\n",
    "\n",
    "# Print the object type\n",
    "print(\"Object type: \",type(nodes_1),'\\n')\n",
    "\n",
    "# Print the nodes\n",
    "print(\"Nodes: \", nodes_1)"
   ]
  },
  {
   "cell_type": "code",
   "execution_count": 6,
   "id": "0627674a",
   "metadata": {
    "execution": {
     "iopub.execute_input": "2025-08-08T08:01:37.212954Z",
     "iopub.status.busy": "2025-08-08T08:01:37.211954Z",
     "iopub.status.idle": "2025-08-08T08:01:37.216548Z",
     "shell.execute_reply": "2025-08-08T08:01:37.216548Z"
    }
   },
   "outputs": [
    {
     "name": "stdout",
     "output_type": "stream",
     "text": [
      "Object type:  <class 'ansys.dpf.core.nodes.Nodes'> \n",
      "\n",
      "Nodes:  DPF Node collection with 1940 nodes\n",
      "\n"
     ]
    }
   ],
   "source": [
    "# Get the mesh nodes\n",
    "nodes_2 = meshed_region_2.nodes\n",
    "\n",
    "# Print the object type\n",
    "print(\"Object type: \",type(nodes_2),'\\n')\n",
    "\n",
    "# Print the nodes\n",
    "print(\"Nodes: \", nodes_2)"
   ]
  },
  {
   "cell_type": "code",
   "execution_count": 7,
   "id": "c40b30ca",
   "metadata": {
    "execution": {
     "iopub.execute_input": "2025-08-08T08:01:37.218553Z",
     "iopub.status.busy": "2025-08-08T08:01:37.218553Z",
     "iopub.status.idle": "2025-08-08T08:01:37.223632Z",
     "shell.execute_reply": "2025-08-08T08:01:37.223127Z"
    }
   },
   "outputs": [
    {
     "name": "stdout",
     "output_type": "stream",
     "text": [
      "Object type:  <class 'ansys.dpf.core.nodes.Nodes'> \n",
      "\n",
      "Nodes:  DPF Node collection with 16660 nodes\n",
      "\n"
     ]
    }
   ],
   "source": [
    "# Get the mesh nodes\n",
    "nodes_3 = meshed_region_3.nodes\n",
    "\n",
    "# Print the object type\n",
    "print(\"Object type: \",type(nodes_3),'\\n')\n",
    "\n",
    "# Print the nodes\n",
    "print(\"Nodes: \", nodes_3)"
   ]
  },
  {
   "cell_type": "code",
   "execution_count": 8,
   "id": "33c8b5a6",
   "metadata": {
    "execution": {
     "iopub.execute_input": "2025-08-08T08:01:37.226748Z",
     "iopub.status.busy": "2025-08-08T08:01:37.226149Z",
     "iopub.status.idle": "2025-08-08T08:01:37.230891Z",
     "shell.execute_reply": "2025-08-08T08:01:37.230891Z"
    }
   },
   "outputs": [
    {
     "name": "stdout",
     "output_type": "stream",
     "text": [
      "Object type:  <class 'ansys.dpf.core.nodes.Nodes'> \n",
      "\n",
      "Nodes:  DPF Node collection with 6219 nodes\n",
      "\n"
     ]
    }
   ],
   "source": [
    "# Get the mesh nodes\n",
    "nodes_4 = meshed_region_4.nodes\n",
    "\n",
    "# Print the object type\n",
    "print(\"Object type: \",type(nodes_4),'\\n')\n",
    "\n",
    "# Print the nodes\n",
    "print(\"Nodes: \", nodes_4)"
   ]
  },
  {
   "cell_type": "code",
   "execution_count": 9,
   "id": "bd23a913",
   "metadata": {
    "execution": {
     "iopub.execute_input": "2025-08-08T08:01:37.233988Z",
     "iopub.status.busy": "2025-08-08T08:01:37.232987Z",
     "iopub.status.idle": "2025-08-08T08:01:37.236984Z",
     "shell.execute_reply": "2025-08-08T08:01:37.236984Z"
    }
   },
   "outputs": [
    {
     "name": "stdout",
     "output_type": "stream",
     "text": [
      "Available properties:  ['connectivity', 'elprops', 'eltype', 'apdl_element_type', 'section', 'mat']\n"
     ]
    }
   ],
   "source": [
    "# Get the available properties\n",
    "available_props_1 = meshed_region_1.available_property_fields\n",
    "\n",
    "# Print the available properties\n",
    "print(\"Available properties: \", available_props_1)"
   ]
  },
  {
   "cell_type": "code",
   "execution_count": 10,
   "id": "080307b5",
   "metadata": {
    "execution": {
     "iopub.execute_input": "2025-08-08T08:01:37.239061Z",
     "iopub.status.busy": "2025-08-08T08:01:37.239061Z",
     "iopub.status.idle": "2025-08-08T08:01:37.242855Z",
     "shell.execute_reply": "2025-08-08T08:01:37.242855Z"
    }
   },
   "outputs": [
    {
     "name": "stdout",
     "output_type": "stream",
     "text": [
      "Available properties:  ['connectivity', 'eltype', 'mat']\n"
     ]
    }
   ],
   "source": [
    "# Get the available properties\n",
    "available_props_2 = meshed_region_2.available_property_fields\n",
    "\n",
    "# Print the available properties\n",
    "print(\"Available properties: \", available_props_2)"
   ]
  },
  {
   "cell_type": "code",
   "execution_count": 11,
   "id": "476f43e4",
   "metadata": {
    "execution": {
     "iopub.execute_input": "2025-08-08T08:01:37.244860Z",
     "iopub.status.busy": "2025-08-08T08:01:37.244860Z",
     "iopub.status.idle": "2025-08-08T08:01:37.248419Z",
     "shell.execute_reply": "2025-08-08T08:01:37.248419Z"
    }
   },
   "outputs": [
    {
     "name": "stdout",
     "output_type": "stream",
     "text": [
      "Available properties:  ['connectivity', 'eltype', 'faces_type', 'faces_nodes_connectivity', 'elements_faces_connectivity', 'elements_faces_reversed']\n"
     ]
    }
   ],
   "source": [
    "# Get the available properties\n",
    "available_props_3 = meshed_region_3.available_property_fields\n",
    "\n",
    "# Print the available properties\n",
    "print(\"Available properties: \", available_props_3)"
   ]
  },
  {
   "cell_type": "code",
   "execution_count": 12,
   "id": "f125f092",
   "metadata": {
    "execution": {
     "iopub.execute_input": "2025-08-08T08:01:37.250928Z",
     "iopub.status.busy": "2025-08-08T08:01:37.249424Z",
     "iopub.status.idle": "2025-08-08T08:01:37.253922Z",
     "shell.execute_reply": "2025-08-08T08:01:37.253922Z"
    }
   },
   "outputs": [
    {
     "name": "stdout",
     "output_type": "stream",
     "text": [
      "Available properties:  ['connectivity', 'eltype']\n"
     ]
    }
   ],
   "source": [
    "# Get the available properties\n",
    "available_props_4 = meshed_region_4.available_property_fields\n",
    "\n",
    "# Print the available properties\n",
    "print(\"Available properties: \", available_props_4)"
   ]
  },
  {
   "cell_type": "code",
   "execution_count": 13,
   "id": "a35b3706",
   "metadata": {
    "execution": {
     "iopub.execute_input": "2025-08-08T08:01:37.256140Z",
     "iopub.status.busy": "2025-08-08T08:01:37.256140Z",
     "iopub.status.idle": "2025-08-08T08:01:37.261386Z",
     "shell.execute_reply": "2025-08-08T08:01:37.261386Z"
    }
   },
   "outputs": [
    {
     "name": "stdout",
     "output_type": "stream",
     "text": [
      "DPF Property Field\n",
      "  8 entities \n",
      "  Data: 1 components and 8 elementary data \n",
      "\n",
      "  Elemental\n",
      "  IDs                   data\n",
      "  ------------          ----------\n",
      "  5                     1              \n",
      "                        \n",
      "  6                     1              \n",
      "                        \n",
      "  1                     1              \n",
      "                        \n",
      "  ...\n",
      "\n",
      "\n"
     ]
    }
   ],
   "source": [
    "# Get the element types on the mesh\n",
    "el_types_1 = meshed_region_1.elements.element_types_field\n",
    "\n",
    "# Print the element types by element\n",
    "print(el_types_1)"
   ]
  },
  {
   "cell_type": "code",
   "execution_count": 14,
   "id": "051656e5",
   "metadata": {
    "execution": {
     "iopub.execute_input": "2025-08-08T08:01:37.263392Z",
     "iopub.status.busy": "2025-08-08T08:01:37.263392Z",
     "iopub.status.idle": "2025-08-08T08:01:37.268438Z",
     "shell.execute_reply": "2025-08-08T08:01:37.267935Z"
    }
   },
   "outputs": [
    {
     "name": "stdout",
     "output_type": "stream",
     "text": [
      "DPF Property Field\n",
      "  2056 entities \n",
      "  Data: 1 components and 2056 elementary data \n",
      "\n",
      "  Elemental\n",
      "  IDs                   data\n",
      "  ------------          ----------\n",
      "  257                   11             \n",
      "                        \n",
      "  258                   11             \n",
      "                        \n",
      "  259                   11             \n",
      "                        \n",
      "  ...\n",
      "\n",
      "\n"
     ]
    }
   ],
   "source": [
    "# Get the element types on the mesh\n",
    "el_types_2 = meshed_region_2.property_field(property_name=\"eltype\")\n",
    "\n",
    "# Print the element types by element\n",
    "print(el_types_2)"
   ]
  },
  {
   "cell_type": "code",
   "execution_count": 15,
   "id": "92242624",
   "metadata": {
    "execution": {
     "iopub.execute_input": "2025-08-08T08:01:37.270443Z",
     "iopub.status.busy": "2025-08-08T08:01:37.270443Z",
     "iopub.status.idle": "2025-08-08T08:01:37.274305Z",
     "shell.execute_reply": "2025-08-08T08:01:37.274305Z"
    }
   },
   "outputs": [
    {
     "name": "stdout",
     "output_type": "stream",
     "text": [
      "DPF Property Field\n",
      "  13856 entities \n",
      "  Data: 1 components and 13856 elementary data \n",
      "\n",
      "  Elemental\n",
      "  IDs                   data\n",
      "  ------------          ----------\n",
      "  1                     11             \n",
      "                        \n",
      "  2                     11             \n",
      "                        \n",
      "  3                     11             \n",
      "                        \n",
      "  ...\n",
      "\n",
      "\n"
     ]
    }
   ],
   "source": [
    "# Get the element types on the mesh\n",
    "el_types_3 = meshed_region_3.property_field(property_name=\"eltype\")\n",
    "\n",
    "# Print the element types by element\n",
    "print(el_types_3)"
   ]
  },
  {
   "cell_type": "code",
   "execution_count": 16,
   "id": "071adc39",
   "metadata": {
    "execution": {
     "iopub.execute_input": "2025-08-08T08:01:37.276317Z",
     "iopub.status.busy": "2025-08-08T08:01:37.276317Z",
     "iopub.status.idle": "2025-08-08T08:01:37.280341Z",
     "shell.execute_reply": "2025-08-08T08:01:37.280341Z"
    }
   },
   "outputs": [
    {
     "name": "stdout",
     "output_type": "stream",
     "text": [
      "DPF Property Field\n",
      "  15695 entities \n",
      "  Data: 1 components and 15695 elementary data \n",
      "\n",
      "  Elemental\n",
      "  IDs                   data\n",
      "  ------------          ----------\n",
      "  1                     10             \n",
      "                        \n",
      "  2                     10             \n",
      "                        \n",
      "  3                     10             \n",
      "                        \n",
      "  ...\n",
      "\n",
      "\n"
     ]
    }
   ],
   "source": [
    "# Get the element types on the mesh\n",
    "el_types_4 = meshed_region_4.property_field(property_name=\"eltype\")\n",
    "\n",
    "# Print the element types by element\n",
    "print(el_types_4)"
   ]
  }
 ],
 "metadata": {
  "kernelspec": {
   "display_name": "Python 3 (ipykernel)",
   "language": "python",
   "name": "python3"
  },
  "language_info": {
   "codemirror_mode": {
    "name": "ipython",
    "version": 3
   },
   "file_extension": ".py",
   "mimetype": "text/x-python",
   "name": "python",
   "nbconvert_exporter": "python",
   "pygments_lexer": "ipython3",
   "version": "3.12.3"
  }
 },
 "nbformat": 4,
 "nbformat_minor": 5
}