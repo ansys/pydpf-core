{
  "cells": [
    {
      "cell_type": "markdown",
      "metadata": {},
      "source": [
        "# Beam results manipulations {#lsdyna_operators}\r\n\r\nThis example provides an overview of the LS-DYNA beam results\r\nmanipulations.\r\n\r\n:::: note\r\n::: title\r\nNote\r\n:::\r\n\r\nThis example requires DPF 8.0 (DPF 2024 R2) or above. For more\r\ninformation, see `ref_compatibility`{.interpreted-text role=\"ref\"}.\r\n::::\r\n"
      ]
    },
    {
      "cell_type": "code",
      "execution_count": null,
      "metadata": {
        "collapsed": false
      },
      "outputs": [],
      "source": [
        "import matplotlib.pyplot as plt\n\nfrom ansys.dpf import core as dpf\nfrom ansys.dpf.core import examples, operators as ops"
      ]
    },
    {
      "cell_type": "markdown",
      "metadata": {},
      "source": [
        "# d3plot file data extraction\r\n\r\nCreate the model and print its contents. This LS-DYNA d3plot file\r\ncontains several individual results, each at different times. The d3plot\r\nfile does not contain information related to Units.\r\n\r\nIn this case, as the simulation was run through Mechanical, a\r\n\\'\\'file.actunits\\'\\' file is produced. If this file is supplemented in\r\nthe data_sources, the units will be correctly fetched for all results in\r\nthe file as well as for the mesh.\r\n"
      ]
    },
    {
      "cell_type": "code",
      "execution_count": null,
      "metadata": {
        "collapsed": false
      },
      "outputs": [],
      "source": [
        "d3plot = examples.download_d3plot_beam()\nmy_data_sources = dpf.DataSources()\nmy_data_sources.set_result_file_path(d3plot[0], key=\"d3plot\")\nmy_data_sources.add_file_path(d3plot[3], key=\"actunits\")\nmy_model = dpf.Model(my_data_sources)\nprint(my_model)"
      ]
    },
    {
      "cell_type": "markdown",
      "metadata": {},
      "source": [
        "# Exploring the mesh\r\n\r\nThe model has solid (3D) elements and beam (1D) elements. Some of the\r\nresults only apply to one type of elements (such as the stress tensor\r\nfor solids, or the axial force for beams, for example).\r\n\r\nBy splitting the mesh by element shape we see that the ball is made by\r\nthe solid 3D elements and the plate by the beam 1D elements\r\n\r\n- Define the analysis mesh\r\n"
      ]
    },
    {
      "cell_type": "code",
      "execution_count": null,
      "metadata": {
        "collapsed": false
      },
      "outputs": [],
      "source": [
        "my_meshed_region = my_model.metadata.meshed_region\n\n# - Get separate meshes for each body\nmy_meshes = ops.mesh.split_mesh(\n    mesh=my_meshed_region, property=dpf.common.elemental_properties.element_shape\n).eval()\n\n# - Define the meshes for each body in separate variables\nball_mesh = my_meshes.get_mesh(label_space_or_index={\"body\": 1, \"elshape\": 1})\nplate_mesh = my_meshes.get_mesh(label_space_or_index={\"body\": 2, \"elshape\": 2})\n\nprint(my_meshes)"
      ]
    },
    {
      "cell_type": "markdown",
      "metadata": {},
      "source": [
        "Plate mesh\r\n"
      ]
    },
    {
      "cell_type": "code",
      "execution_count": null,
      "metadata": {
        "collapsed": false
      },
      "outputs": [],
      "source": [
        "print(\"Plate mesh\", \"\\n\", plate_mesh)\nplate_mesh.plot(title=\"Plate mesh\", text=\"Plate mesh\")"
      ]
    },
    {
      "cell_type": "markdown",
      "metadata": {},
      "source": [
        "Ball mesh\r\n"
      ]
    },
    {
      "cell_type": "code",
      "execution_count": null,
      "metadata": {
        "collapsed": false
      },
      "outputs": [],
      "source": [
        "print(\"Ball mesh\", \"\\n\", ball_mesh, \"\\n\")\nball_mesh.plot(title=\"Ball mesh\", text=\"Ball mesh\")"
      ]
    },
    {
      "cell_type": "markdown",
      "metadata": {},
      "source": [
        "# Scoping\r\n\r\n- Define the mesh scoping to use it with the operators\r\n"
      ]
    },
    {
      "cell_type": "code",
      "execution_count": null,
      "metadata": {
        "collapsed": false
      },
      "outputs": [],
      "source": [
        "my_meshes_scoping = ops.scoping.split_on_property_type(mesh=my_meshed_region).eval()"
      ]
    },
    {
      "cell_type": "markdown",
      "metadata": {},
      "source": [
        "- Define the mesh scoping for each body/element shape in separate\r\n  variables\r\n"
      ]
    },
    {
      "cell_type": "code",
      "execution_count": null,
      "metadata": {
        "collapsed": false
      },
      "outputs": [],
      "source": [
        "ball_scoping = my_meshes_scoping.get_scoping(label_space_or_index={\"elshape\": 1})\nplate_scoping = my_meshes_scoping.get_scoping(label_space_or_index={\"elshape\": 2})"
      ]
    },
    {
      "cell_type": "markdown",
      "metadata": {},
      "source": [
        "- We will plot the results in a mesh deformed by the displacement. The\r\n  displacement is in a nodal location, so we need to define a nodal\r\n  scoping for the plate\r\n"
      ]
    },
    {
      "cell_type": "code",
      "execution_count": null,
      "metadata": {
        "collapsed": false
      },
      "outputs": [],
      "source": [
        "plate_scoping_nodal = dpf.operators.scoping.transpose(\n    mesh_scoping=plate_scoping, meshed_region=my_meshed_region\n).eval()"
      ]
    },
    {
      "cell_type": "markdown",
      "metadata": {},
      "source": [
        "# Beam results\r\n\r\nThe next manipulations can be applied to the following beam operators\r\nthat handle the correspondent results :\r\n\r\n> - beam_axial_force: Beam Axial Force\r\n> - beam_s_shear_force: Beam S Shear Force\r\n> - beam_t_shear_force: Beam T Shear Force\r\n> - beam_s_bending_moment: Beam S Bending Moment\r\n> - beam_t_bending_moment: Beam T Bending Moment\r\n> - beam_torsional_moment: Beam Torsional Moment\r\n> - beam_axial_stress: Beam Axial Stress\r\n> - beam_rs_shear_stress: Beam Rs Shear Stress\r\n> - beam_tr_shear_stress: Beam Tr Shear Stress\r\n> - beam_axial_plastic_strain: Beam Axial Plastic Strain\r\n> - beam_axial_total_strain: Beam Axial Total Strain\r\n\r\nWe do not demonstrate separately how to use each of them in this example\r\nonce they have similar methods.\r\n\r\nSo, if you want to operate on other operator, uou just need to change\r\ntheir scripting name in the code lines.\r\n"
      ]
    },
    {
      "cell_type": "markdown",
      "metadata": {},
      "source": [
        "# Comparing results in different time steps\r\n"
      ]
    },
    {
      "cell_type": "code",
      "execution_count": null,
      "metadata": {
        "collapsed": false
      },
      "outputs": [],
      "source": [
        "# 1) Define the time steps set\ntime_steps_set = [2, 6, 12]\n\n# 2) Prepare the collections to store the results for each time step\n\n#    a. To compare the results in the same image you have to copy the mesh for each plot\nplate_meshes = dpf.MeshesContainer()\nplate_meshes.add_label(\"time\")\n\n#    b. The displacements for each time steps to deform the mesh accordingly\nplate_displacements = dpf.FieldsContainer()\nplate_displacements.add_label(label=\"time\")\n\n#   c. The axial force results for each time steps. Here\nplate_axial_force = dpf.FieldsContainer()\nplate_axial_force.add_label(label=\"time\")\n\n# 3)  Use the Plotter class to add the plots in the same image\ncomparison_plot = dpf.plotter.DpfPlotter()\n\n#   Side bar arguments definition\nside_bar_args = dict(\n    title=\"Beam axial force (N)\", fmt=\"%.2e\", title_font_size=15, label_font_size=15\n)\n\n# 4) As we want to compare the results in the same plot we will need this variable.\n# It represents the distance between the meshes\nj = -400\n\n# 5) Copy the mesh of interest. Here it is the plate mesh that we copy along the X axis\n# Here we use a loop where each iteration correspond to the manipulations for a given time step\n\nfor i in time_steps_set:  # Loop through the time steps\n    # Copy the mesh\n    plate_meshes.add_mesh(label_space={\"time\": i}, mesh=plate_mesh.deep_copy())\n\n    # 6) Get the plot coordinates that will be changed (so we can compare the results side by side)\n    coords_to_update = plate_meshes.get_mesh(\n        label_space_or_index={\"time\": i}\n    ).nodes.coordinates_field\n\n    # 7) Define the coordinates where the new mesh will be placed\n    overall_field = dpf.fields_factory.create_3d_vector_field(\n        num_entities=1, location=dpf.locations.overall\n    )\n    overall_field.append(data=[j, 0.0, 0.0], scopingid=1)\n\n    # 8) Define the updated coordinates\n    new_coordinates = ops.math.add(fieldA=coords_to_update, fieldB=overall_field).eval()\n    coords_to_update.data = new_coordinates.data\n\n    # 9) Extract the result, here we start by getting the beam_rs_shear_stress\n    plate_axial_force.add_field(\n        label_space={\"time\": i},\n        field=my_model.results.beam_axial_force(\n            time_scoping=i, mesh_scoping=plate_scoping_nodal\n        ).eval()[0],\n    )\n    # 10) We will also get the displacement to deform the mesh\n    plate_displacements.add_field(\n        label_space={\"time\": i},\n        field=my_model.results.displacement(\n            time_scoping=i, mesh_scoping=plate_scoping_nodal\n        ).eval()[0],\n    )\n    # 11) Add the result and the mesh to the plot\n    comparison_plot.add_field(\n        field=plate_axial_force.get_field(label_space_or_index={\"time\": i}),\n        meshed_region=plate_meshes.get_mesh(label_space_or_index={\"time\": i}),\n        deform_by=plate_displacements.get_field(label_space_or_index={\"time\": i}),\n        scalar_bar_args=side_bar_args,\n    )\n    comparison_plot.add_node_labels(\n        nodes=[289],\n        labels=[f\"Time step = {i}\"],\n        meshed_region=plate_meshes.get_mesh(label_space_or_index={\"time\": i}),\n        font_size=10,\n    )\n    # 12) Increment the coordinate value for the loop\n    j = j - 400\n\n\n# Visualise the plot\ncomparison_plot.show_figure()"
      ]
    },
    {
      "cell_type": "markdown",
      "metadata": {},
      "source": [
        "# Plot a graph over time for the elements with max and min results values\r\n\r\nHere we make a workflow with a more verbose approach. This is useful\r\nbecause we use operators having several matching inputs or outputs. So\r\nthe connexions are more clear, and it is easier to use and reuse the\r\nworkflow.\r\n\r\nThe following workflow finds the element with the max values over all\r\nthe time steps and return its ID\r\n"
      ]
    },
    {
      "cell_type": "code",
      "execution_count": null,
      "metadata": {
        "collapsed": false
      },
      "outputs": [],
      "source": [
        "# Define the workflow object\nmax_workflow = dpf.Workflow()\nmax_workflow.progress_bar = False\n# Define the norm operator\nmax_norm = ops.math.norm_fc()\n# Define the max of each entity with the evaluated norm as an input\nmax_per_ent = ops.min_max.min_max_by_entity(fields_container=max_norm.outputs.fields_container)\n# Define the max over all entities\nglobal_max = ops.min_max.min_max(field=max_per_ent.outputs.field_max)\n# Get the scoping\nmax_scop = ops.utility.extract_scoping(field_or_fields_container=global_max.outputs.field_max)\n# Get the id\nmax_id = ops.scoping.scoping_get_attribute(\n    scoping=max_scop.outputs.mesh_scoping_as_scoping, property_name=\"ids\"\n)\n\n# Add the operators to the workflow\nmax_workflow.add_operators(operators=[max_norm, max_per_ent, global_max, max_scop, max_id])\nmax_workflow.set_input_name(\"fields_container\", max_norm.inputs.fields_container)\nmax_workflow.set_output_name(\"max_id\", max_id.outputs.property_as_vector_int32_)\nmax_workflow.set_output_name(\"max_entity_scoping\", max_scop.outputs.mesh_scoping_as_scoping)"
      ]
    },
    {
      "cell_type": "markdown",
      "metadata": {},
      "source": [
        "Using the workflow to the stresses results on the plate:\r\n\r\n- Extract the results\r\n"
      ]
    },
    {
      "cell_type": "code",
      "execution_count": null,
      "metadata": {
        "collapsed": false
      },
      "outputs": [],
      "source": [
        "# Get all the time steps\ntime_all = my_model.metadata.time_freq_support.time_frequencies\n\n# Extract all the stresses results on the plate\nplate_beam_axial_stress = my_model.results.beam_axial_stress(\n    time_scoping=time_all, mesh_scoping=plate_scoping\n).eval()\nplate_beam_rs_shear_stress = my_model.results.beam_rs_shear_stress(\n    time_scoping=time_all, mesh_scoping=plate_scoping\n).eval()\nplate_beam_tr_shear_stress = my_model.results.beam_tr_shear_stress(\n    time_scoping=time_all, mesh_scoping=plate_scoping\n).eval()"
      ]
    },
    {
      "cell_type": "markdown",
      "metadata": {},
      "source": [
        "- As we will use the workflow for different results operators we group\r\n  them and use a loop through the group. Here we prepare where the\r\n  workflow outputs will be stored\r\n"
      ]
    },
    {
      "cell_type": "code",
      "execution_count": null,
      "metadata": {
        "collapsed": false
      },
      "outputs": [],
      "source": [
        "# List of operators to be used in the workflow\nbeam_stresses = [plate_beam_axial_stress, plate_beam_rs_shear_stress, plate_beam_tr_shear_stress]\ngraph_labels = [\n    \"Beam axial stress\",\n    \"Beam rs shear stress\",\n    \"Beam tr shear stress\",\n]\n\n# List of elements ids that we will get from the workflow\nmax_stress_elements_ids = []\n\n# Scopings container\nmax_stress_elements_scopings = dpf.ScopingsContainer()\nmax_stress_elements_scopings.add_label(\"stress_result\")"
      ]
    },
    {
      "cell_type": "markdown",
      "metadata": {},
      "source": [
        "- \r\n\r\n  The following loop:\r\n\r\n  :   a)  Goes through each stress result and get the element id with\r\n          maximum solicitation\r\n      b)  Re-escope the fields container to keep only the data for this\r\n          element\r\n      c)  Plot a stress x time graph\r\n"
      ]
    },
    {
      "cell_type": "code",
      "execution_count": null,
      "metadata": {
        "collapsed": false
      },
      "outputs": [],
      "source": [
        "for j in range(0, len(beam_stresses)):  # Loop through each stress result\n    # Use the pre-defined workflow to define the element with maximum solicitation\n    max_workflow.connect(pin_name=\"fields_container\", inpt=beam_stresses[j])\n    max_stress_elements_ids.append(\n        max_workflow.get_output(pin_name=\"max_id\", output_type=dpf.types.vec_int)\n    )\n    max_stress_elements_scopings.add_scoping(\n        label_space={\"stress_result\": j},\n        scoping=max_workflow.get_output(\n            pin_name=\"max_entity_scoping\", output_type=dpf.types.scoping\n        ),\n    )\n\n    # Re-scope the results to keep only the data for the identified element\n    beam_stresses[j] = ops.scoping.rescope_fc(\n        fields_container=beam_stresses[j],\n        mesh_scoping=max_stress_elements_scopings.get_scoping(\n            label_space_or_index={\"stress_result\": j}\n        ),\n    ).eval()\n\n    # The d3plot file gives us fields containers labeled by time. So in each field we have the stress value in a\n    # given time for the chosen element. We need to rearrange the fields container into fields.\n\n    beam_stresses[j] = ops.utility.merge_to_field_matrix(fields1=beam_stresses[j]).eval()\n    plt.plot(\n        time_all.data,\n        beam_stresses[j].data[0],\n        label=f\"{graph_labels[j]}, element id:{max_stress_elements_ids[j][0]}\",\n    )\n\n# Graph formatting\nplt.title(\"Beam stresses evolution\")\nplt.xlabel(\"Time (s)\")\nplt.ylabel(\"Beam stresses (MPa)\")\nplt.legend()\nplt.show()"
      ]
    },
    {
      "cell_type": "markdown",
      "metadata": {},
      "source": [
        "# Results coordinates system\r\n\r\nThe general results are given in the Cartesian coordinates system by\r\ndefault.\r\n\r\nThe beam results are given directly in the local directions as scalars.\r\nFor example the beam stresses we have:\r\n\r\n- The axial stress, given in the beam axis\r\n- The stresses defined in the cross-section directions: tr stress in the\r\n  transverse direction (t) and rs stress perpendicular to the tr\r\n  direction (s).\r\n\r\nUnfortunately there are no operators for LS-DYNA files that directly\r\nallows you to: - Rotate results from local coordinate system to global\r\ncoordinate system; - Extract the rotation matrix between the local and\r\nglobal coordinate systems;\r\n"
      ]
    }
  ],
  "metadata": {
    "kernelspec": {
      "display_name": "Python 3",
      "language": "python",
      "name": "python3"
    },
    "language_info": {
      "codemirror_mode": {
        "name": "ipython",
        "version": 3
      },
      "file_extension": ".py",
      "mimetype": "text/x-python",
      "name": "python",
      "nbconvert_exporter": "python",
      "pygments_lexer": "ipython3",
      "version": "3.11.9"
    }
  },
  "nbformat": 4,
  "nbformat_minor": 0
}