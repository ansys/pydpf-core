{
  "cells": [
    {
      "cell_type": "markdown",
      "metadata": {},
      "source": [
        "\n\n# Add nodal labels on plots\n\nYou can add use label properties to add custom labels to specific nodes.\nIf the label for a node is not defined or `None`, the nodal scalar value\nof the currently active field at that node is shown. If no field is active,\nthe node ID is shown.\n"
      ]
    },
    {
      "cell_type": "markdown",
      "metadata": {},
      "source": [
        "Import the ``dpf_core`` module, included examples files, and the ``DpfPlotter``\nmodule.\n\n"
      ]
    },
    {
      "cell_type": "code",
      "execution_count": null,
      "metadata": {
        "collapsed": false
      },
      "outputs": [],
      "source": [
        "from ansys.dpf import core as dpf\nfrom ansys.dpf.core import examples\nfrom ansys.dpf.core.plotter import DpfPlotter"
      ]
    },
    {
      "cell_type": "markdown",
      "metadata": {},
      "source": [
        "Open an example and print the ``Model`` object. The\n:class:`Model <ansys.dpf.core.model.Model>` class helps to organize access\nmethods for the result by keeping track of the operators and data sources\nused by the result file.\n\nPrinting the model displays this metadata:\n\n- Analysis type\n- Available results\n- Size of the mesh\n- Number of results\n\n\n"
      ]
    },
    {
      "cell_type": "code",
      "execution_count": null,
      "metadata": {
        "collapsed": false
      },
      "outputs": [],
      "source": [
        "model = dpf.Model(examples.find_msup_transient())\nprint(model)"
      ]
    },
    {
      "cell_type": "markdown",
      "metadata": {},
      "source": [
        "Get the meshed region.\n\n\n"
      ]
    },
    {
      "cell_type": "code",
      "execution_count": null,
      "metadata": {
        "collapsed": false
      },
      "outputs": [],
      "source": [
        "mesh_set = model.metadata.meshed_region\n\n# One can plot the mesh with labels and/or node IDs shown\n# for the first five nodes of the mesh.\nplot = DpfPlotter()\nplot.add_node_labels(\n    nodes=mesh_set.nodes.scoping.ids[:5],\n    meshed_region=mesh_set,\n    labels=[\"A\", \"B\", None, \"C\"],\n    font_size=50,\n)\nplot.show_figure(\n    cpos=[\n        (0.3533494514377904, 0.312496303079723, 1.1859368974825752),\n        (-0.07891143256220956, -0.11976458092027707, 0.7536760134825755),\n        (0.0, 0.0, 1.0),\n    ]\n)\n# sphinx_gallery_thumbnail_number = 2"
      ]
    },
    {
      "cell_type": "markdown",
      "metadata": {},
      "source": [
        "Get the stress tensor and ``connect`` time scoping.\nMake sure that you define ``dpf.locations.nodal`` as the scoping location because\nlabels are supported only for nodal results.\n\n\n"
      ]
    },
    {
      "cell_type": "code",
      "execution_count": null,
      "metadata": {
        "collapsed": false
      },
      "outputs": [],
      "source": [
        "stress_tensor = model.results.stress()\nstress_tensor.inputs.time_scoping([20])\nstress_tensor.inputs.requested_location(dpf.locations.nodal)\n# field = stress_tensor.outputs.fields_container.get_data()[0]\n\nnorm_op = dpf.operators.math.norm_fc()\nnorm_op.inputs.connect(stress_tensor)\nfield_norm_stress = norm_op.outputs.fields_container()[0]\nprint(field_norm_stress)\n\nnorm_op2 = dpf.Operator(\"norm_fc\")\ndisp = model.results.displacement()\ndisp.inputs.time_scoping.connect([20])\nnorm_op2.inputs.connect(disp.outputs)\nfield_norm_disp = norm_op2.outputs.fields_container()[0]\nprint(field_norm_disp)"
      ]
    },
    {
      "cell_type": "markdown",
      "metadata": {},
      "source": [
        "Plot the results on the mesh and show the minimum and maximum.\n\n\n"
      ]
    },
    {
      "cell_type": "code",
      "execution_count": null,
      "metadata": {
        "collapsed": false
      },
      "outputs": [],
      "source": [
        "plot = DpfPlotter()\nplot.add_field(\n    field_norm_stress,\n    meshed_region=mesh_set,\n    show_max=True,\n    show_min=True,\n    label_text_size=30,\n    label_point_size=5,\n)\n\n\n# Use label properties to add custom labels to specific nodes.\n# If a label for a node is missing and a field is active,\n# the nodal value for this field is shown.\n\nmy_nodes_1 = [mesh_set.nodes[0], mesh_set.nodes[10]]\nmy_labels_1 = [\"MyNode1\", \"MyNode2\"]\nplot.add_node_labels(\n    my_nodes_1,\n    mesh_set,\n    my_labels_1,\n    italic=True,\n    bold=True,\n    font_size=26,\n    text_color=\"white\",\n    font_family=\"courier\",\n    shadow=True,\n    point_color=\"grey\",\n    point_size=20,\n)\n\nmy_nodes_2 = [mesh_set.nodes[18], mesh_set.nodes[30]]\nmy_labels_2 = []  # [\"MyNode3\"]\nplot.add_node_labels(\n    my_nodes_2,\n    mesh_set,\n    my_labels_2,\n    font_size=15,\n    text_color=\"black\",\n    font_family=\"arial\",\n    shadow=False,\n    point_color=\"white\",\n    point_size=15,\n)\n\n# Show figure.\n# You can set the camera positions using the ``cpos`` argument.\n# The three tuples in the list for the ``cpos`` argument represent the camera\n# position, focal point, and view respectively.\nplot.show_figure(\n    show_axes=True, cpos=[(0.123, 0.095, 1.069), (-0.121, -0.149, 0.825), (0.0, 0.0, 1.0)]\n)"
      ]
    }
  ],
  "metadata": {
    "kernelspec": {
      "display_name": "Python 3",
      "language": "python",
      "name": "python3"
    },
    "language_info": {
      "codemirror_mode": {
        "name": "ipython",
        "version": 3
      },
      "file_extension": ".py",
      "mimetype": "text/x-python",
      "name": "python",
      "nbconvert_exporter": "python",
      "pygments_lexer": "ipython3",
      "version": "3.12.3"
    }
  },
  "nbformat": 4,
  "nbformat_minor": 0
}