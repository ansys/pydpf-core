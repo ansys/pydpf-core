{
  "cells": [
    {
      "cell_type": "markdown",
      "metadata": {},
      "source": [
        "\n\n# Create a plug-in package with multiple operators\n\nThis example shows how to create a plug-in package with multiple operators.\nThe benefits of writing a package rather than simple scripts are:\n\n- **Componentization:** You can split the code into several Python modules or files.\n- **Distribution:** You can use standard Python tools to upload and download packages.\n- **Documentation:** You can add README files, documentation, tests, and examples to the package.\n\nFor this example, the plug-in package contains two different operators:\n\n- One that returns all scoping IDs having data higher than the average\n- One that returns all scoping IDs having data lower than the average\n\n<div class=\"alert alert-info\"><h4>Note</h4><p>This example requires DPF 5.0 (Ansys 2023R1) or above.\n    For more information, see `ref_compatibility`.</p></div>\n"
      ]
    },
    {
      "cell_type": "markdown",
      "metadata": {},
      "source": [
        "## Create the plug-in package\nEach operator implementation derives from the\n:class:`ansys.dpf.core.custom_operator.CustomOperatorBase` class\nand a call to the :py:func:`ansys.dpf.core.custom_operator.record_operator`\nmethod, which records the operators of the plug-in package.\n\nDownload the ``average_filter_plugin`` plug-in package that has already been\ncreated for you.\n\n"
      ]
    },
    {
      "cell_type": "code",
      "execution_count": null,
      "metadata": {
        "collapsed": false
      },
      "outputs": [],
      "source": [
        "from ansys.dpf.core import examples\n\nplugin_folder = examples.download_average_filter_plugin()"
      ]
    },
    {
      "cell_type": "markdown",
      "metadata": {},
      "source": [
        "## Load the plug-in package\nYou use the function :py:func:`ansys.dpf.core.core.load_library` to load the\nplug-in package.\n\n- The first argument is the path to the directory where the plug-in package\n  is located.\n- The second argument is ``py_<package>``, where ``<package>`` is the name\n  identifying the plug-in package.\n- The third argument is the name of the function exposed in the ``__init__`` file\n  for the plug-in package that is used to record operators.\n\n\n"
      ]
    },
    {
      "cell_type": "code",
      "execution_count": null,
      "metadata": {
        "collapsed": false
      },
      "outputs": [],
      "source": [
        "from ansys.dpf import core as dpf\nfrom ansys.dpf.core import examples\n\n# Python plugins are not supported in process.\ndpf.start_local_server(config=dpf.AvailableServerConfigs.GrpcServer)\n\ntmp = dpf.make_tmp_dir_server()\ndpf.upload_files_in_folder(dpf.path_utilities.join(tmp, \"average_filter_plugin\"), plugin_folder)\ndpf.load_library(\n    dpf.path_utilities.join(tmp, \"average_filter_plugin\"),\n    \"py_average_filter\",\n    \"load_operators\",\n)"
      ]
    },
    {
      "cell_type": "markdown",
      "metadata": {},
      "source": [
        "Instantiate the operator.\n\n"
      ]
    },
    {
      "cell_type": "code",
      "execution_count": null,
      "metadata": {
        "collapsed": false
      },
      "outputs": [],
      "source": [
        "new_operator = dpf.Operator(\"ids_with_data_lower_than_average\")"
      ]
    },
    {
      "cell_type": "markdown",
      "metadata": {},
      "source": [
        "## Connect a workflow\nConnect a workflow that computes the norm of the displacement\nto the ``ids_with_data_lower_than_average`` operator.\nMethods of the ``ids_with_data_lower_than_average`` class are dynamically\nadded because specifications for the operator are defined in the plug-in\npackage.\n\n"
      ]
    },
    {
      "cell_type": "markdown",
      "metadata": {},
      "source": [
        ".. graphviz::\n\n   digraph foo {\n      graph [pad=\"0.5\", nodesep=\"0.3\", ranksep=\"0.3\"]\n      node [shape=box, style=filled, fillcolor=\"#ffcc00\", margin=\"0\"];\n      rankdir=LR;\n      splines=line;\n      ds [label=\"ds\", shape=box, style=filled, fillcolor=cadetblue2];\n      ds -> displacement [style=dashed];\n      displacement -> norm;\n      norm -> ids_with_data_lower_than_average;\n   }\n\n"
      ]
    },
    {
      "cell_type": "markdown",
      "metadata": {},
      "source": [
        "## Use the operator\n\n"
      ]
    },
    {
      "cell_type": "code",
      "execution_count": null,
      "metadata": {
        "collapsed": false
      },
      "outputs": [],
      "source": [
        "ds = dpf.DataSources(dpf.upload_file_in_tmp_folder(examples.find_static_rst()))\ndisplacement = dpf.operators.result.displacement(data_sources=ds)\nnorm = dpf.operators.math.norm(displacement)\nnew_operator.inputs.connect(norm)\n\n\nnew_scoping = new_operator.outputs.scoping()\nprint(\"scoping in was:\", norm.outputs.field().scoping)\nprint(\"----------------------------------------------\")\nprint(\"scoping out is:\", new_scoping)"
      ]
    }
  ],
  "metadata": {
    "kernelspec": {
      "display_name": "Python 3",
      "language": "python",
      "name": "python3"
    },
    "language_info": {
      "codemirror_mode": {
        "name": "ipython",
        "version": 3
      },
      "file_extension": ".py",
      "mimetype": "text/x-python",
      "name": "python",
      "nbconvert_exporter": "python",
      "pygments_lexer": "ipython3",
      "version": "3.12.3"
    }
  },
  "nbformat": 4,
  "nbformat_minor": 0
}