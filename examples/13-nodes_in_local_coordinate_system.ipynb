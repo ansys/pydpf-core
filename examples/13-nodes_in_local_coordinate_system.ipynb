{
  "cells": [
    {
      "cell_type": "markdown",
      "metadata": {},
      "source": [
        "\n\n# Convert nodal coordinates field to local coordinate system\n\nCurrently, there is no native operator to get nodal coordinates in an Local\nCoordinate System (LCS). The operator :class:`rotate <ansys.dpf.core.operators.geo.rotate.rotate>`\nrotates the input field in Global Coordinate System (GCS) as per the input rotation matrix.\nSo, if the LCS is at the same origin as the GCS, only one operation using the\n:class:`rotate <ansys.dpf.core.operators.geo.rotate.rotate>` operator give the desired output.\nHowever, if the aim is to obtain the LCS in a case where the LCS origin does not coincide with\nthe GCS, a transformation is required after the rotation to get the correct coordinates in LCS.\n\nThe script below demonstrates the methodology using PyDPF.\n"
      ]
    },
    {
      "cell_type": "code",
      "execution_count": null,
      "metadata": {
        "collapsed": false
      },
      "outputs": [],
      "source": [
        "# Import necessary modules\nfrom ansys.dpf import core as dpf\nfrom ansys.dpf.core import examples\nfrom ansys.dpf.gate.errors import DPFServerException"
      ]
    },
    {
      "cell_type": "markdown",
      "metadata": {},
      "source": [
        "Create a model object to establish a connection with an example result file:\n\n"
      ]
    },
    {
      "cell_type": "code",
      "execution_count": null,
      "metadata": {
        "collapsed": false
      },
      "outputs": [],
      "source": [
        "model = dpf.Model(examples.download_hemisphere())"
      ]
    },
    {
      "cell_type": "markdown",
      "metadata": {},
      "source": [
        "Get the property ``coordinates_field`` from :class:`nodes <ansys.dpf.core.nodes>`:\n\n"
      ]
    },
    {
      "cell_type": "code",
      "execution_count": null,
      "metadata": {
        "collapsed": false
      },
      "outputs": [],
      "source": [
        "ncoord_f = model.metadata.meshed_region.nodes.coordinates_field"
      ]
    },
    {
      "cell_type": "markdown",
      "metadata": {},
      "source": [
        "Get the rotation matrix of the LCS ID 12.\nThe first 9 values in the ``cs`` output is the rotation matrix.\n\n"
      ]
    },
    {
      "cell_type": "code",
      "execution_count": null,
      "metadata": {
        "collapsed": false
      },
      "outputs": [],
      "source": [
        "try:\n    # Starting with DPF 2025.1.pre1\n    cs = dpf.operators.result.coordinate_system()\n    cs.inputs.data_sources.connect(model)\nexcept (KeyError, DPFServerException) as e:\n    # For previous DPF versions\n    cs = model.operator(r\"mapdl::rst::CS\")\n\ncs.inputs.cs_id.connect(12)\ncs_rot_mat = cs.outputs.field.get_data().data.T[0:9]"
      ]
    },
    {
      "cell_type": "markdown",
      "metadata": {},
      "source": [
        "Create a 3x3 rotation matrix field ``rot_mat_f``:\n\n"
      ]
    },
    {
      "cell_type": "code",
      "execution_count": null,
      "metadata": {
        "collapsed": false
      },
      "outputs": [],
      "source": [
        "rot_mat_f = dpf.fields_factory.create_scalar_field(1)\nrot_mat_f.data = cs_rot_mat"
      ]
    },
    {
      "cell_type": "markdown",
      "metadata": {},
      "source": [
        "Create a 3D vector field for the position vector of the LCS's origin and\nrotate the origin as per the rotation matrix of the LCS.\nThe last 3 entries of ``cs`` output is the LCS's origin in GCS.\n\n"
      ]
    },
    {
      "cell_type": "code",
      "execution_count": null,
      "metadata": {
        "collapsed": false
      },
      "outputs": [],
      "source": [
        "pos_vec = dpf.fields_factory.create_3d_vector_field(1)\npos_vec.data = cs.outputs.field.get_data().data.T[-3:]\npos_vec_rot = dpf.operators.geo.rotate(field=pos_vec, field_rotation_matrix=rot_mat_f)"
      ]
    },
    {
      "cell_type": "markdown",
      "metadata": {},
      "source": [
        "Get rotated nodal coordinates field:\n\n"
      ]
    },
    {
      "cell_type": "code",
      "execution_count": null,
      "metadata": {
        "collapsed": false
      },
      "outputs": [],
      "source": [
        "ncoord_rot_f = dpf.operators.geo.rotate(field=ncoord_f, field_rotation_matrix=rot_mat_f)"
      ]
    },
    {
      "cell_type": "markdown",
      "metadata": {},
      "source": [
        "Transform rotated nodal coordinates field along rotated position vector\n``pos_vec_rot``:\n\n"
      ]
    },
    {
      "cell_type": "code",
      "execution_count": null,
      "metadata": {
        "collapsed": false
      },
      "outputs": [],
      "source": [
        "pos_vec_rot_neg_f = dpf.operators.math.scale(field=pos_vec_rot, weights=-1.0)\npos_vec_rot_neg = pos_vec_rot_neg_f.outputs.field.get_data().data_as_list\nncoord_translate = dpf.operators.math.add_constant(field=ncoord_rot_f, weights=pos_vec_rot_neg)"
      ]
    },
    {
      "cell_type": "markdown",
      "metadata": {},
      "source": [
        "Get the nodal coordinates field ``ncoord_lcs_f`` in LCS:\n\n"
      ]
    },
    {
      "cell_type": "code",
      "execution_count": null,
      "metadata": {
        "collapsed": false
      },
      "outputs": [],
      "source": [
        "ncoord_lcs_f = ncoord_translate.outputs.field.get_data()"
      ]
    },
    {
      "cell_type": "markdown",
      "metadata": {},
      "source": [
        "Coordinates of NID 1 in GCS\n\n"
      ]
    },
    {
      "cell_type": "code",
      "execution_count": null,
      "metadata": {
        "collapsed": false
      },
      "outputs": [],
      "source": [
        "print(ncoord_f.get_entity_data_by_id(1))"
      ]
    },
    {
      "cell_type": "markdown",
      "metadata": {},
      "source": [
        "Coordinates of NID 1 in LCS\n\n"
      ]
    },
    {
      "cell_type": "code",
      "execution_count": null,
      "metadata": {
        "collapsed": false
      },
      "outputs": [],
      "source": [
        "print(ncoord_lcs_f.get_entity_data_by_id(1))"
      ]
    }
  ],
  "metadata": {
    "kernelspec": {
      "display_name": "Python 3",
      "language": "python",
      "name": "python3"
    },
    "language_info": {
      "codemirror_mode": {
        "name": "ipython",
        "version": 3
      },
      "file_extension": ".py",
      "mimetype": "text/x-python",
      "name": "python",
      "nbconvert_exporter": "python",
      "pygments_lexer": "ipython3",
      "version": "3.12.3"
    }
  },
  "nbformat": 4,
  "nbformat_minor": 0
}