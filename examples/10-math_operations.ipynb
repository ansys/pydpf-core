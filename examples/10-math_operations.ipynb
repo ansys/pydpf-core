{
  "cells": [
    {
      "cell_type": "markdown",
      "metadata": {},
      "source": [
        "\n\n# Mathematical Operations\n\nDPF provides operators for implementing mathematical operations,\nranging from addition and multiplication to FFT and QR solving.\n\nFor a complete list, see `ref_dpf_operators_reference`, under the math section.\n"
      ]
    },
    {
      "cell_type": "code",
      "execution_count": null,
      "metadata": {
        "collapsed": false
      },
      "outputs": [],
      "source": [
        "# Import the necessary modules\nimport ansys.dpf.core as dpf"
      ]
    },
    {
      "cell_type": "markdown",
      "metadata": {},
      "source": [
        "# Addition\n\n"
      ]
    },
    {
      "cell_type": "code",
      "execution_count": null,
      "metadata": {
        "collapsed": false
      },
      "outputs": [],
      "source": [
        "# Initialize Fields\nnum_entities = 2\nfield1 = dpf.Field(nentities=2)\nfield2 = dpf.Field(nentities=2)\n\n# By default, Fields contain 3d vectors.\n# So with three entities we need nine values.\nfield1.data = [1.0, 2.0, 3.0, 4.0, 5.0, 6.0]\nfield2.data = [1.0, 2.0, 3.0, 4.0, 5.0, 6.0]\n\nfield1.scoping.ids = range(num_entities)\nfield2.scoping.ids = range(num_entities)"
      ]
    },
    {
      "cell_type": "markdown",
      "metadata": {},
      "source": [
        "Once the fields are ready, we can instantiate an operator.\n\n"
      ]
    },
    {
      "cell_type": "code",
      "execution_count": null,
      "metadata": {
        "collapsed": false
      },
      "outputs": [],
      "source": [
        "add_op = dpf.operators.math.add(field1, field2)"
      ]
    },
    {
      "cell_type": "markdown",
      "metadata": {},
      "source": [
        "Finally, we use eval() to compute and retrieve the result.\n\n"
      ]
    },
    {
      "cell_type": "code",
      "execution_count": null,
      "metadata": {
        "collapsed": false
      },
      "outputs": [],
      "source": [
        "field3 = add_op.eval()\n\n# = [[2. 4. 6.] [8. 10. 12.]]\nprint(field3.data)"
      ]
    },
    {
      "cell_type": "markdown",
      "metadata": {},
      "source": [
        "# Dot product\n\n"
      ]
    },
    {
      "cell_type": "code",
      "execution_count": null,
      "metadata": {
        "collapsed": false
      },
      "outputs": [],
      "source": [
        "dot_op = dpf.operators.math.generalized_inner_product(field1, field2)\n\n# (1. * 1.) + (2. * 2.) + (3. * 3.) = 14.\n# (4. * 4.) + (5. * 5.) + (6. * 6.) = 77.\nfield3 = dot_op.eval()\nprint(field3.data)"
      ]
    },
    {
      "cell_type": "markdown",
      "metadata": {},
      "source": [
        "# Power\n\n"
      ]
    },
    {
      "cell_type": "code",
      "execution_count": null,
      "metadata": {
        "collapsed": false
      },
      "outputs": [],
      "source": [
        "field = dpf.Field(nentities=1)\nfield1.data = [1.0, 2.0, 3.0]\nfield1.scoping.ids = [1]\n\npow_op = dpf.operators.math.pow(field1, 3.0)\n\n# [1. 8. 27.]\nfield3 = pow_op.eval()\nprint(field3.data)"
      ]
    },
    {
      "cell_type": "markdown",
      "metadata": {},
      "source": [
        "# L2 norm\n\n"
      ]
    },
    {
      "cell_type": "code",
      "execution_count": null,
      "metadata": {
        "collapsed": false
      },
      "outputs": [],
      "source": [
        "field1.data = [16.0, -8.0, 2.0]\nnorm_op = dpf.operators.math.norm(field1)\n\n# [ 18. ]\nfield3 = norm_op.eval()\nprint(field3.data)"
      ]
    },
    {
      "cell_type": "markdown",
      "metadata": {},
      "source": [
        "# Accumulate\nFirst we define fields. By default, fields represent 3D vectors\nso one elementary data is a 3D vector.\nThe optional weights field is a field which takes one value per entity,\nso we need to change its dimensionality (1D).\n\n"
      ]
    },
    {
      "cell_type": "code",
      "execution_count": null,
      "metadata": {
        "collapsed": false
      },
      "outputs": [],
      "source": [
        "num_entities = 3\ninput_field = dpf.Field(nentities=num_entities)\nweights_field = dpf.Field(num_entities)\nweights_field.dimensionality = dpf.Dimensionality([1])\n\ninput_field.scoping.ids = range(num_entities)\nweights_field.scoping.ids = range(num_entities)"
      ]
    },
    {
      "cell_type": "markdown",
      "metadata": {},
      "source": [
        "Fill fields with data.\nAdd nine values because there are three entities.\n\n"
      ]
    },
    {
      "cell_type": "code",
      "execution_count": null,
      "metadata": {
        "collapsed": false
      },
      "outputs": [],
      "source": [
        "input_field.data = [-2.0, 2.0, 4.0, -5.0, 0.5, 1.0, 7.0, 3.0, -3.0]"
      ]
    },
    {
      "cell_type": "markdown",
      "metadata": {},
      "source": [
        "Three weights, one per entity.\n\n"
      ]
    },
    {
      "cell_type": "code",
      "execution_count": null,
      "metadata": {
        "collapsed": false
      },
      "outputs": [],
      "source": [
        "weights_field.data = [0.5, 2.0, 0.5]"
      ]
    },
    {
      "cell_type": "markdown",
      "metadata": {},
      "source": [
        "Retrieve the result.\n\n"
      ]
    },
    {
      "cell_type": "code",
      "execution_count": null,
      "metadata": {
        "collapsed": false
      },
      "outputs": [],
      "source": [
        "acc = dpf.operators.math.accumulate(fieldA=input_field, weights=weights_field)\noutput_field = acc.outputs.field()\n\n# (-2.0 * 0.5) + (-5.0 * 2.0) + (7.0 * 0.5)  = -7.5\n# (2.0  * 0.5) + (0.5  * 2.0) + (3.0 * 0.5)  = 3.5\n# (4.0  * 0.5) + (1.0  * 2.0) + (-3.0 * 0.5) = 2.5\nprint(output_field.data)"
      ]
    },
    {
      "cell_type": "markdown",
      "metadata": {},
      "source": [
        "# With scoping\n\n"
      ]
    },
    {
      "cell_type": "code",
      "execution_count": null,
      "metadata": {
        "collapsed": false
      },
      "outputs": [],
      "source": [
        "field1.data = [1.0, 2.0, 3.0, 4.0, 5.0, 6.0, 7.0, 8.0, 9.0]\nfield2.data = [1.0, 2.0, 3.0, 4.0, 5.0, 6.0, 7.0, 8.0, 9.0]"
      ]
    },
    {
      "cell_type": "markdown",
      "metadata": {},
      "source": [
        "Next, we need to provide information about the scoping.\nDPF needs to know the IDs of the data we just provided,\nso that it can apply an operator on a subset of the original data.\n\nBy providing these integers we only select the data with an ID in common.\nHere we are selecting the third elementary data of the first field,\nand the first elementary data of the second field,\nOther elementary data is not taken into account when using an operator that needs two operands.\n\n"
      ]
    },
    {
      "cell_type": "code",
      "execution_count": null,
      "metadata": {
        "collapsed": false
      },
      "outputs": [],
      "source": [
        "field1.scoping.ids = [1, 2, 3]\nfield2.scoping.ids = [3, 4, 5]\n\nadd_op = dpf.operators.math.add(field1, field2)\nfield3 = add_op.eval()\n\n# Only the third entity was changed\n# because it is the only operator where two operands were provided.\nprint(field3.data)\n# [[8. 10. 12.]]\nprint(field3.get_entity_data_by_id(3))"
      ]
    },
    {
      "cell_type": "markdown",
      "metadata": {},
      "source": [
        "Dot product\n\n"
      ]
    },
    {
      "cell_type": "code",
      "execution_count": null,
      "metadata": {
        "collapsed": false
      },
      "outputs": [],
      "source": [
        "dot_op = dpf.operators.math.generalized_inner_product(field1, field2)\n\n# We obtain zeros for IDs where there could not be two operands.\n# (7. * 1.) + (8. * 2.) + (9. * 3.) = 50.\n# [0. 0. 50. 0. 0.]\nfield3 = dot_op.eval()\nprint(field3.data)"
      ]
    }
  ],
  "metadata": {
    "kernelspec": {
      "display_name": "Python 3",
      "language": "python",
      "name": "python3"
    },
    "language_info": {
      "codemirror_mode": {
        "name": "ipython",
        "version": 3
      },
      "file_extension": ".py",
      "mimetype": "text/x-python",
      "name": "python",
      "nbconvert_exporter": "python",
      "pygments_lexer": "ipython3",
      "version": "3.12.3"
    }
  },
  "nbformat": 4,
  "nbformat_minor": 0
}